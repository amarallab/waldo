{
 "metadata": {
  "name": "",
  "signature": "sha256:efa1ea5125c949544ea071796acb4e80e4f7d21e4542b6b2434c5059f4546cd8"
 },
 "nbformat": 3,
 "nbformat_minor": 0,
 "worksheets": [
  {
   "cells": [
    {
     "cell_type": "code",
     "collapsed": false,
     "input": [
      "import datasource.handling.cluster\n",
      "from datasource.handling.cluster import pull\n",
      "reload(datasource.handling.cluster)\n"
     ],
     "language": "python",
     "metadata": {},
     "outputs": [
      {
       "metadata": {},
       "output_type": "pyout",
       "prompt_number": 33,
       "text": [
        "<module 'datasource.handling.cluster' from 'datasource/handling/cluster.pyc'>"
       ]
      }
     ],
     "prompt_number": 33
    },
    {
     "cell_type": "code",
     "collapsed": false,
     "input": [
      "pull('20130702_135704')"
     ],
     "language": "python",
     "metadata": {},
     "outputs": [
      {
       "output_type": "stream",
       "stream": "stdout",
       "text": [
        "/home/visitors/ntimkovich/Projects/Waldo/code/settings/../../data/plates/timeseries\n",
        "/home/visitors/ntimkovich/Projects/Waldo/code/settings/../../data/plates/percentiles\n",
        "/home/visitors/ntimkovich/Projects/Waldo/code/settings/../../data/worms/\n",
        "\n",
        " scp -v phoenix.research.northwestern.edu:/home/projects/worm_movement/waldo/data/plates/image collection/timeseries/20130702_135704* /home/visitors/ntimkovich/Projects/Waldo/code/settings/../../data/plates/timeseries \n",
        "\n",
        "\n"
       ]
      },
      {
       "output_type": "stream",
       "stream": "stdout",
       "text": [
        " scp -v phoenix.research.northwestern.edu:/home/projects/worm_movement/waldo/data/plates/image collection/percentiles/20130702_135704* /home/visitors/ntimkovich/Projects/Waldo/code/settings/../../data/plates/percentiles \n",
        "\n",
        "\n"
       ]
      },
      {
       "output_type": "stream",
       "stream": "stdout",
       "text": [
        " scp -rv phoenix.research.northwestern.edu:/home/projects/worm_movement/waldo/data/worms/20130702_135704 /home/visitors/ntimkovich/Projects/Waldo/code/settings/../../data/worms/ \n",
        "\n"
       ]
      }
     ],
     "prompt_number": 34
    }
   ],
   "metadata": {}
  }
 ]
}