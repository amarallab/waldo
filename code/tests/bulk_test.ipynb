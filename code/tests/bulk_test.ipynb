{
 "metadata": {
  "name": "",
  "signature": "sha256:0c55be7aa6003d964e63d3ef5d8975ae232c6b851f8674e874d4a641435d0efa"
 },
 "nbformat": 3,
 "nbformat_minor": 0,
 "worksheets": [
  {
   "cells": [
    {
     "cell_type": "code",
     "collapsed": false,
     "input": [
      "import pandas as pd\n",
      "import numpy as np\n",
      "import math\n",
      "import matplotlib.pyplot as plt\n",
      "import matplotlib.gridspec as gridspec\n",
      "from fake_worm_creator import xy_to_full_dataframe\n",
      "import smoothing_explorer as se\n",
      "import importing.angle_calculations as ac\n",
      "import worm_distances as wd\n",
      "import copy\n",
      "\n",
      "%load_ext autoreload\n",
      "%autoreload 2"
     ],
     "language": "python",
     "metadata": {},
     "outputs": [
      {
       "output_type": "stream",
       "stream": "stdout",
       "text": [
        "The autoreload extension is already loaded. To reload it, use:\n",
        "  %reload_ext autoreload\n"
       ]
      }
     ],
     "prompt_number": 127
    },
    {
     "cell_type": "code",
     "collapsed": false,
     "input": [
      "soln_file = './data/smoothing/paused_soln.h5'\n",
      "noise_file = './data/smoothing/noisy_xy_0p1.h5'\n",
      "distance_threshold = 1\n",
      "time_threshold = 30\n",
      "noisy, soln = wd.test_bulk_xy(xy_file=noise_file, soln_file=soln_file, r_threshold=1, t_threshold=30)\n",
      "soln.head()\n"
     ],
     "language": "python",
     "metadata": {},
     "outputs": [
      {
       "html": [
        "<div style=\"max-height:1000px;max-width:1500px;overflow:auto;\">\n",
        "<table border=\"1\" class=\"dataframe\">\n",
        "  <thead>\n",
        "    <tr style=\"text-align: right;\">\n",
        "      <th></th>\n",
        "      <th>0</th>\n",
        "      <th>1</th>\n",
        "      <th>2</th>\n",
        "      <th>3</th>\n",
        "      <th>4</th>\n",
        "    </tr>\n",
        "  </thead>\n",
        "  <tbody>\n",
        "    <tr>\n",
        "      <th>0</th>\n",
        "      <td> False</td>\n",
        "      <td> True</td>\n",
        "      <td> False</td>\n",
        "      <td> True</td>\n",
        "      <td> True</td>\n",
        "    </tr>\n",
        "    <tr>\n",
        "      <th>1</th>\n",
        "      <td> False</td>\n",
        "      <td> True</td>\n",
        "      <td> False</td>\n",
        "      <td> True</td>\n",
        "      <td> True</td>\n",
        "    </tr>\n",
        "    <tr>\n",
        "      <th>2</th>\n",
        "      <td> False</td>\n",
        "      <td> True</td>\n",
        "      <td> False</td>\n",
        "      <td> True</td>\n",
        "      <td> True</td>\n",
        "    </tr>\n",
        "    <tr>\n",
        "      <th>3</th>\n",
        "      <td> False</td>\n",
        "      <td> True</td>\n",
        "      <td> False</td>\n",
        "      <td> True</td>\n",
        "      <td> True</td>\n",
        "    </tr>\n",
        "    <tr>\n",
        "      <th>4</th>\n",
        "      <td> False</td>\n",
        "      <td> True</td>\n",
        "      <td> False</td>\n",
        "      <td> True</td>\n",
        "      <td> True</td>\n",
        "    </tr>\n",
        "  </tbody>\n",
        "</table>\n",
        "<p>5 rows \u00d7 5 columns</p>\n",
        "</div>"
       ],
       "metadata": {},
       "output_type": "pyout",
       "prompt_number": 128,
       "text": [
        "       0     1      2     3     4\n",
        "0  False  True  False  True  True\n",
        "1  False  True  False  True  True\n",
        "2  False  True  False  True  True\n",
        "3  False  True  False  True  True\n",
        "4  False  True  False  True  True\n",
        "\n",
        "[5 rows x 5 columns]"
       ]
      }
     ],
     "prompt_number": 128
    },
    {
     "cell_type": "code",
     "collapsed": false,
     "input": [
      "def neighbor_calculation2(distance_threshold, xy, time_threshold=500):\n",
      "    point_scores = []\n",
      "    for i, pt in enumerate(xy[:]):\n",
      "        start = max([0, i-time_threshold])\n",
      "        if i < 3:\n",
      "            point_scores.append(0)\n",
      "            continue\n",
      "            \n",
      "        short_list = xy[start:i]\n",
      "        x, y = zip(*short_list)\n",
      "        dx = np.array(x) - pt[0]\n",
      "        dy = np.array(y) - pt[1]\n",
      "        dists = np.sqrt(dx**2 + dy**2)\n",
      "        \n",
      "        score = 0\n",
      "        for d in dists[::-1]:\n",
      "            if d < distance_threshold:\n",
      "                score += 1\n",
      "            else:\n",
      "                break\n",
      "        #print i, score, dists[0], dists[-1]\n",
      "        point_scores.append(score)\n",
      "\n",
      "    return point_scores\n",
      "\n",
      "points2 = neighbor_calculation2(distance_threshold, xy)\n",
      "print points2[:5]\n",
      "plt.plot(points2)\n",
      "plt.show()"
     ],
     "language": "python",
     "metadata": {},
     "outputs": [
      {
       "output_type": "stream",
       "stream": "stdout",
       "text": [
        "[0, 0, 0, 3, 4]\n"
       ]
      }
     ],
     "prompt_number": 129
    },
    {
     "cell_type": "code",
     "collapsed": false,
     "input": [
      "def compute_bulk_pauses(noisy, soln, timepoint_threshold, distance_threshold):\n",
      "    columns = noisy.columns\n",
      "    N_trials = len(columns) / 2\n",
      "    print 'N timeseries=', N_trials\n",
      "    calculated = pd.DataFrame(index=soln.index, columns=soln.columns)\n",
      "    for i in range(N_trials):\n",
      "        xkey, ykey = ('x'+str(i)), ('y'+str(i))\n",
      "        xy  = zip(noisy[xkey], noisy[ykey])\n",
      "        point_scores = neighbor_calculation2(distance_threshold=distance_threshold, xy=xy)\n",
      "        calculated_domains = wd.domain_creator(point_scores, timepoint_threshold=time_threshold)\n",
      "        calculated[i] = [False] * len(point_scores)\n",
      "        for start, stop in calculated_domains:\n",
      "            calculated[i][start:stop+1] = True\n",
      "    \n",
      "    \n",
      "    tp = ((calculated == True) & (soln == True)).sum()\n",
      "    tn = ((calculated == False) & (soln == False)).sum()\n",
      "    fp = ((calculated == True) & (soln == False)).sum()\n",
      "    fn = ((calculated == False) & (soln == True)).sum()\n",
      "\n",
      "    \n",
      "    print 'tp', np.mean(tp), np.std(tp)\n",
      "    print 'tn', np.mean(tn), np.std(tn)\n",
      "    print 'fp', np.mean(fp), np.std(fp)\n",
      "    print 'fn', np.mean(fn), np.std(fn)   \n",
      "\n",
      "    results = {'tp': (np.mean(tp), np.std(tp)),\n",
      "               'tn': (np.mean(tn), np.std(tn)),\n",
      "               'fp': (np.mean(fp), np.std(fp)),\n",
      "               'fn': (np.mean(fn), np.std(fn)),\n",
      "               }\n",
      "    #return calculated, calculated_domains\n",
      "    return results\n",
      "\n",
      "    \n",
      "#calculated, calculated_domains = compute_bulk_pauses(noisy, soln, time_threshold, distance_threshold)\n",
      "#print calculated_domains\n",
      "#plt.plot(point_scores)\n",
      "#calculated.plot()\n",
      "#plt.show()\n",
      "#print calculated"
     ],
     "language": "python",
     "metadata": {},
     "outputs": [],
     "prompt_number": 130
    },
    {
     "cell_type": "code",
     "collapsed": false,
     "input": [
      "\n",
      "results = {}\n",
      "timepoint_threshold = 30\n",
      "for distance_threshold in np.linspace(0.2, 0.4, 9):\n",
      "    print distance_threshold\n",
      "    results[distance_threshold] = compute_bulk_pauses(noisy, soln, timepoint_threshold, distance_threshold)\n",
      "    \n",
      "print sorted(results)"
     ],
     "language": "python",
     "metadata": {},
     "outputs": [
      {
       "output_type": "stream",
       "stream": "stdout",
       "text": [
        "0.2\n",
        "N timeseries= 5\n",
        "tp"
       ]
      },
      {
       "output_type": "stream",
       "stream": "stdout",
       "text": [
        " 32.0 33.9823483591\n",
        "tn 2472.6 462.076011063\n",
        "fp 3.6 7.2\n",
        "fn 1091.8 424.856399269\n",
        "0.225\n",
        "N timeseries= 5\n",
        "tp"
       ]
      },
      {
       "output_type": "stream",
       "stream": "stdout",
       "text": [
        " 190.2 129.320377358\n",
        "tn 2467.4 466.965780331\n",
        "fp 8.8 12.5443214245\n",
        "fn 933.6 336.887280852\n",
        "0.25\n",
        "N timeseries= 5\n",
        "tp"
       ]
      },
      {
       "output_type": "stream",
       "stream": "stdout",
       "text": [
        " 540.2 292.358273357\n",
        "tn 2413.6 483.548384342\n",
        "fp 62.6 41.3211810093\n",
        "fn 583.6 171.790104488\n",
        "0.275\n",
        "N timeseries= 5\n",
        "tp"
       ]
      },
      {
       "output_type": "stream",
       "stream": "stdout",
       "text": [
        " 858.4 380.202893203\n",
        "tn 2244.8 467.078323196\n",
        "fp 231.4 62.0986312249\n",
        "fn 265.4 91.7466075667\n",
        "0.3\n",
        "N timeseries= 5\n",
        "tp"
       ]
      },
      {
       "output_type": "stream",
       "stream": "stdout",
       "text": [
        " 1033.2 459.604786746\n",
        "tn 1959.8 503.824334466\n",
        "fp 516.4 79.4143563847\n",
        "fn 90.6 29.4930500288\n",
        "0.325\n",
        "N timeseries= 5\n",
        "tp"
       ]
      },
      {
       "output_type": "stream",
       "stream": "stdout",
       "text": [
        " 1077.8 482.263579384\n",
        "tn 1690.0 470.747915556\n",
        "fp 786.2 99.4110657824\n",
        "fn 46.0 33.2204756137\n",
        "0.35\n",
        "N timeseries= 5\n",
        "tp"
       ]
      },
      {
       "output_type": "stream",
       "stream": "stdout",
       "text": [
        " 1110.2 461.728231755\n",
        "tn 1500.2 451.308054437\n",
        "fp 976.0 112.055343469\n",
        "fn 13.6 14.430523206\n",
        "0.375\n",
        "N timeseries= 5\n",
        "tp"
       ]
      },
      {
       "output_type": "stream",
       "stream": "stdout",
       "text": [
        " 1113.6 457.084937402\n",
        "tn 1449.8 443.157488936\n",
        "fp 1026.4 114.244649765\n",
        "fn 10.2 9.04212364437\n",
        "0.4\n",
        "N timeseries= 5\n",
        "tp"
       ]
      },
      {
       "output_type": "stream",
       "stream": "stdout",
       "text": [
        " 1117.8 461.503802801\n",
        "tn 1405.8 445.766037289\n",
        "fp 1070.4 114.947988238\n",
        "fn 6.0 7.77174369109\n",
        "[0.20000000000000001, 0.22500000000000001, 0.25, 0.27500000000000002, 0.30000000000000004, 0.32500000000000001, 0.35000000000000003, 0.375, 0.40000000000000002]\n"
       ]
      }
     ],
     "prompt_number": 151
    },
    {
     "cell_type": "code",
     "collapsed": false,
     "input": [
      "series = {'tp': [],\n",
      "          'tn': [],\n",
      "          'fp': [],\n",
      "          'fn': [],\n",
      "               }\n",
      "\n",
      "t = []\n",
      "for i in sorted(results):\n",
      "    t.append(i)\n",
      "    for key in series:\n",
      "        series[key].append(results[i][key][0])\n",
      "\n",
      "for key in series:\n",
      "    plt.plot(t, series[key], label=key)\n",
      "plt.legend(loc='best')\n",
      "plt.show()"
     ],
     "language": "python",
     "metadata": {},
     "outputs": [],
     "prompt_number": 153
    },
    {
     "cell_type": "code",
     "collapsed": false,
     "input": [
      "np.linspace(0.2, 0.4, 9)"
     ],
     "language": "python",
     "metadata": {},
     "outputs": [
      {
       "metadata": {},
       "output_type": "pyout",
       "prompt_number": 146,
       "text": [
        "array([ 0.2  ,  0.225,  0.25 ,  0.275,  0.3  ,  0.325,  0.35 ,  0.375,  0.4  ])"
       ]
      }
     ],
     "prompt_number": 146
    },
    {
     "cell_type": "code",
     "collapsed": false,
     "input": [
      "points1 = wd.neighbor_calculation(distance_threshold=distance_threshold, nxy=xy)\n",
      "points2 = neighbor_calculation2(distance_threshold, xy, time_threshold= 1000)\n",
      "\n",
      "plt.plot(points1)\n",
      "plt.plot(points2)\n",
      "plt.show()\n",
      "\n",
      "#print len(points1), len(points2)\n",
      "#for p1, p2 in zip(points1, points2):\n",
      "#    if p1 != p2:\n",
      "#        print 'mismatch', p1, p2"
     ],
     "language": "python",
     "metadata": {},
     "outputs": [
      {
       "output_type": "stream",
       "stream": "stdout",
       "text": [
        "Peak distance: 0.4\n",
        "Calculating Peaks\n"
       ]
      }
     ],
     "prompt_number": 152
    },
    {
     "cell_type": "code",
     "collapsed": false,
     "input": [
      "print 'original'\n",
      "%timeit wd.neighbor_calculation(distance_threshold=distance_threshold, nxy=xy)\n",
      "print 'revised'\n",
      "%timeit neighbor_calculation2(distance_threshold, xy, time_threshold=500)\n",
      "\n"
     ],
     "language": "python",
     "metadata": {},
     "outputs": [
      {
       "output_type": "stream",
       "stream": "stdout",
       "text": [
        "original\n",
        "Peak distance: 1.3\n",
        "Calculating Peaks\n",
        "Peak distance: 1.3"
       ]
      },
      {
       "output_type": "stream",
       "stream": "stdout",
       "text": [
        "\n",
        "Calculating Peaks\n",
        "Peak distance: 1.3"
       ]
      },
      {
       "output_type": "stream",
       "stream": "stdout",
       "text": [
        "\n",
        "Calculating Peaks\n",
        "Peak distance: 1.3"
       ]
      },
      {
       "output_type": "stream",
       "stream": "stdout",
       "text": [
        "\n",
        "Calculating Peaks\n",
        "1 loops, best of 3: 13.5 s per loop"
       ]
      },
      {
       "output_type": "stream",
       "stream": "stdout",
       "text": [
        "\n",
        "revised\n",
        "1 loops, best of 3: 853 ms per loop"
       ]
      },
      {
       "output_type": "stream",
       "stream": "stdout",
       "text": [
        "\n"
       ]
      }
     ],
     "prompt_number": 133
    },
    {
     "cell_type": "code",
     "collapsed": false,
     "input": [],
     "language": "python",
     "metadata": {},
     "outputs": [],
     "prompt_number": 133
    }
   ],
   "metadata": {}
  }
 ]
}