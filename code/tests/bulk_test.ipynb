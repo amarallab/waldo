{
 "metadata": {
  "name": "",
  "signature": "sha256:5cfa8500ce87d89bbcf407ca01475c83662a424f977f8c712c315d2aa99e4578"
 },
 "nbformat": 3,
 "nbformat_minor": 0,
 "worksheets": [
  {
   "cells": [
    {
     "cell_type": "code",
     "collapsed": false,
     "input": [
      "import pandas as pd\n",
      "import numpy as np\n",
      "import math\n",
      "import matplotlib.pyplot as plt\n",
      "import matplotlib.gridspec as gridspec\n",
      "from fake_worm_creator import xy_to_full_dataframe\n",
      "import smoothing_explorer as se\n",
      "import importing.angle_calculations as ac\n",
      "import worm_distances as wd\n",
      "import copy\n",
      "\n",
      "%load_ext autoreload\n",
      "%autoreload 2"
     ],
     "language": "python",
     "metadata": {},
     "outputs": [
      {
       "output_type": "stream",
       "stream": "stdout",
       "text": [
        "The autoreload extension is already loaded. To reload it, use:\n",
        "  %reload_ext autoreload\n"
       ]
      }
     ],
     "prompt_number": 13
    },
    {
     "cell_type": "code",
     "collapsed": false,
     "input": [
      "soln_file = './data/smoothing/paused_soln.h5'\n",
      "noise_file = './data/smoothing/noisy_xy_0p1.h5'\n",
      "distance_threshold = 1\n",
      "time_threshold = 30\n",
      "noisy, soln = wd.test_bulk_xy(xy_file=noise_file, soln_file=soln_file, r_threshold=1, t_threshold=30)\n",
      "soln.head()\n"
     ],
     "language": "python",
     "metadata": {},
     "outputs": [
      {
       "html": [
        "<div style=\"max-height:1000px;max-width:1500px;overflow:auto;\">\n",
        "<table border=\"1\" class=\"dataframe\">\n",
        "  <thead>\n",
        "    <tr style=\"text-align: right;\">\n",
        "      <th></th>\n",
        "      <th>0</th>\n",
        "    </tr>\n",
        "  </thead>\n",
        "  <tbody>\n",
        "    <tr>\n",
        "      <th>0</th>\n",
        "      <td> False</td>\n",
        "    </tr>\n",
        "    <tr>\n",
        "      <th>1</th>\n",
        "      <td> False</td>\n",
        "    </tr>\n",
        "    <tr>\n",
        "      <th>2</th>\n",
        "      <td> False</td>\n",
        "    </tr>\n",
        "    <tr>\n",
        "      <th>3</th>\n",
        "      <td> False</td>\n",
        "    </tr>\n",
        "    <tr>\n",
        "      <th>4</th>\n",
        "      <td> False</td>\n",
        "    </tr>\n",
        "  </tbody>\n",
        "</table>\n",
        "<p>5 rows \u00d7 1 columns</p>\n",
        "</div>"
       ],
       "metadata": {},
       "output_type": "pyout",
       "prompt_number": 103,
       "text": [
        "       0\n",
        "0  False\n",
        "1  False\n",
        "2  False\n",
        "3  False\n",
        "4  False\n",
        "\n",
        "[5 rows x 1 columns]"
       ]
      }
     ],
     "prompt_number": 103
    },
    {
     "cell_type": "code",
     "collapsed": false,
     "input": [
      "def neighbor_calculation2(distance_threshold, xy, time_threshold=500):\n",
      "    point_scores = []\n",
      "    for i, pt in enumerate(xy[:]):\n",
      "        start = max([0, i-time_threshold])\n",
      "        if i < 3:\n",
      "            point_scores.append(0)\n",
      "            continue\n",
      "            \n",
      "        short_list = xy[start:i]\n",
      "        x, y = zip(*short_list)\n",
      "        dx = np.array(x) - pt[0]\n",
      "        dy = np.array(y) - pt[1]\n",
      "        dists = np.sqrt(dx**2 + dy**2)\n",
      "        \n",
      "        score = 0\n",
      "        for d in dists[::-1]:\n",
      "            if d < distance_threshold:\n",
      "                score += 1\n",
      "            else:\n",
      "                break\n",
      "        #print i, score, dists[0], dists[-1]\n",
      "        point_scores.append(score)\n",
      "\n",
      "    return point_scores\n",
      "\n",
      "points2 = neighbor_calculation2(distance_threshold, xy)\n",
      "print points2[:5]\n",
      "plt.plot(points2)\n",
      "plt.show()"
     ],
     "language": "python",
     "metadata": {},
     "outputs": [
      {
       "output_type": "stream",
       "stream": "stdout",
       "text": [
        "[0, 0, 0, 3, 4]\n"
       ]
      }
     ],
     "prompt_number": 88
    },
    {
     "cell_type": "code",
     "collapsed": false,
     "input": [
      "def compute_bulk_pauses(noisy, soln, timepoint_threshold, distance_threshold):\n",
      "    columns = noisy.columns\n",
      "    N_trials = len(columns) / 2\n",
      "    print 'N timeseries=', N_trials\n",
      "    calculated = pd.DataFrame(index=soln.index, columns=soln.columns)\n",
      "    for i in range(N_trials):\n",
      "        xkey, ykey = ('x'+str(i)), ('y'+str(i))\n",
      "        xy  = zip(noisy[xkey], noisy[ykey])\n",
      "        point_scores = neighbor_calculation2(distance_threshold=distance_threshold, xy=xy)\n",
      "        calculated_domains = wd.domain_creator(point_scores, timepoint_threshold=time_threshold)\n",
      "        calculated[i] = [False] * len(point_scores)\n",
      "        for start, stop in calculated_domains:\n",
      "            calculated[i][start:stop+1] = True\n",
      "    \n",
      "    \n",
      "    tp = ((calculated == True) & (soln == True)).sum()\n",
      "    tn = ((calculated == False) & (soln == False)).sum()\n",
      "    fp = ((calculated == True) & (soln == False)).sum()\n",
      "    fn = ((calculated == False) & (soln == True)).sum()\n",
      "\n",
      "    \n",
      "    print 'tp', np.mean(tp), np.std(tp)\n",
      "    print 'tn', np.mean(tn), np.std(tn)\n",
      "    print 'fp', np.mean(fp), np.std(fp)\n",
      "    print 'fn', np.mean(fn), np.std(fn)   \n",
      "    #wd.roc_\n",
      "    \n",
      "    return calculated, calculated_domains\n",
      "\n",
      "\n",
      "    \n",
      "calculated, calculated_domains = compute_bulk_pauses(noisy, soln, time_threshold, distance_threshold)\n",
      "print calculated_domains\n",
      "#plt.plot(point_scores)\n",
      "#calculated.plot()\n",
      "#plt.show()\n",
      "#print calculated"
     ],
     "language": "python",
     "metadata": {},
     "outputs": [
      {
       "output_type": "stream",
       "stream": "stdout",
       "text": [
        "N timeseries= 1\n",
        "Calculating Domains"
       ]
      },
      {
       "output_type": "stream",
       "stream": "stdout",
       "text": [
        "\n",
        "Number of domains: 11\n",
        "tp 1704.0 0.0\n",
        "tn 800.0 0.0\n",
        "fp 1096.0 0.0\n",
        "fn 0.0 0.0\n",
        "[[0, 397], [417, 449], [498, 529], [531, 814], [974, 1005], [1101, 1436], [1628, 1659], [1829, 2114], [2214, 3097], [3106, 3385], [3397, 3599]]\n"
       ]
      }
     ],
     "prompt_number": 112
    },
    {
     "cell_type": "code",
     "collapsed": false,
     "input": [
      "%timeit wd.neighbor_calculation(distance_threshold=distance_threshold, nxy=xy)"
     ],
     "language": "python",
     "metadata": {},
     "outputs": [
      {
       "output_type": "stream",
       "stream": "stdout",
       "text": [
        "Peak distance: 1\n",
        "Calculating Peaks\n",
        "Peak distance: 1"
       ]
      },
      {
       "output_type": "stream",
       "stream": "stdout",
       "text": [
        "\n",
        "Calculating Peaks\n",
        "Peak distance: 1"
       ]
      },
      {
       "output_type": "stream",
       "stream": "stdout",
       "text": [
        "\n",
        "Calculating Peaks\n",
        "Peak distance: 1"
       ]
      },
      {
       "output_type": "stream",
       "stream": "stdout",
       "text": [
        "\n",
        "Calculating Peaks\n",
        "1 loops, best of 3: 12.7 s per loop"
       ]
      },
      {
       "output_type": "stream",
       "stream": "stdout",
       "text": [
        "\n"
       ]
      }
     ],
     "prompt_number": 29
    },
    {
     "cell_type": "code",
     "collapsed": false,
     "input": [
      "points1 = wd.neighbor_calculation(distance_threshold=distance_threshold, nxy=xy)\n",
      "points2 = neighbor_calculation2(distance_threshold, xy, time_threshold= 1000)\n",
      "\n",
      "plt.plot(points1)\n",
      "plt.plot(points2)\n",
      "plt.show()\n",
      "\n",
      "#print len(points1), len(points2)\n",
      "#for p1, p2 in zip(points1, points2):\n",
      "#    if p1 != p2:\n",
      "#        print 'mismatch', p1, p2"
     ],
     "language": "python",
     "metadata": {},
     "outputs": [
      {
       "output_type": "stream",
       "stream": "stdout",
       "text": [
        "Peak distance: 1\n",
        "Calculating Peaks\n"
       ]
      }
     ],
     "prompt_number": 77
    },
    {
     "cell_type": "code",
     "collapsed": false,
     "input": [
      "%timeit neighbor_calculation2(distance_threshold, xy, time_threshold=30)"
     ],
     "language": "python",
     "metadata": {},
     "outputs": [
      {
       "output_type": "stream",
       "stream": "stdout",
       "text": [
        "1 loops, best of 3: 214 ms per loop\n"
       ]
      }
     ],
     "prompt_number": 79
    },
    {
     "cell_type": "code",
     "collapsed": false,
     "input": [
      "%timeit neighbor_calculation2(distance_threshold, xy, time_threshold=100)"
     ],
     "language": "python",
     "metadata": {},
     "outputs": [
      {
       "output_type": "stream",
       "stream": "stdout",
       "text": [
        "1 loops, best of 3: 425 ms per loop\n"
       ]
      }
     ],
     "prompt_number": 80
    },
    {
     "cell_type": "code",
     "collapsed": false,
     "input": [
      "%timeit neighbor_calculation2(distance_threshold, xy, time_threshold=500)"
     ],
     "language": "python",
     "metadata": {},
     "outputs": [
      {
       "output_type": "stream",
       "stream": "stdout",
       "text": [
        "1 loops, best of 3: 1.14 s per loop\n"
       ]
      }
     ],
     "prompt_number": 82
    },
    {
     "cell_type": "code",
     "collapsed": false,
     "input": [],
     "language": "python",
     "metadata": {},
     "outputs": []
    }
   ],
   "metadata": {}
  }
 ]
}