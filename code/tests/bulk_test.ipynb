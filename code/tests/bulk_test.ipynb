{
 "metadata": {
  "name": "",
  "signature": "sha256:557379cf6375eef4ee2a56435c5fce9b2078fa520b04a51fe725b68f5d980c27"
 },
 "nbformat": 3,
 "nbformat_minor": 0,
 "worksheets": [
  {
   "cells": [
    {
     "cell_type": "code",
     "collapsed": false,
     "input": [
      "import pandas as pd\n",
      "import numpy as np\n",
      "import math\n",
      "import matplotlib.pyplot as plt\n",
      "import matplotlib.gridspec as gridspec\n",
      "import copy\n",
      "import sys\n",
      "import os\n",
      "\n",
      "HERE = os.path.abspath('./')\n",
      "CODE_DIR = os.path.join(HERE, '..')\n",
      "SHARED_DIR = os.path.join(CODE_DIR, 'shared')\n",
      "\n",
      "sys.path.append(SHARED_DIR)\n",
      "sys.path.append(CODE_DIR)\n",
      "\n",
      "#for i in sys.path:\n",
      "#    print i\n",
      "\n",
      "#from fake_worm_creator import xy_to_full_dataframe, speeds_and_angles\n",
      "import smoothing_explorer as se\n",
      "import importing.centroid as cent\n",
      "\n",
      "%load_ext autoreload\n",
      "%autoreload 2\n"
     ],
     "language": "python",
     "metadata": {},
     "outputs": [
      {
       "output_type": "stream",
       "stream": "stdout",
       "text": [
        "Configuring name: '-f'\n"
       ]
      }
     ],
     "prompt_number": 2
    },
    {
     "cell_type": "code",
     "collapsed": false,
     "input": [
      "soln_file = './data/smoothing/paused_soln.h5'\n",
      "noise_file = './data/smoothing/noisy_xy_0p1.h5'\n",
      "distance_threshold = 1\n",
      "time_threshold = 30\n",
      "noisy, soln = wd.test_bulk_xy(xy_file=noise_file, soln_file=soln_file, r_threshold=1, t_threshold=30)\n",
      "soln.head()\n"
     ],
     "language": "python",
     "metadata": {},
     "outputs": [
      {
       "ename": "NameError",
       "evalue": "name 'wd' is not defined",
       "output_type": "pyerr",
       "traceback": [
        "\u001b[1;31m---------------------------------------------------------------------------\u001b[0m\n\u001b[1;31mNameError\u001b[0m                                 Traceback (most recent call last)",
        "\u001b[1;32m<ipython-input-3-18dfda99c209>\u001b[0m in \u001b[0;36m<module>\u001b[1;34m()\u001b[0m\n\u001b[0;32m      3\u001b[0m \u001b[0mdistance_threshold\u001b[0m \u001b[1;33m=\u001b[0m \u001b[1;36m1\u001b[0m\u001b[1;33m\u001b[0m\u001b[0m\n\u001b[0;32m      4\u001b[0m \u001b[0mtime_threshold\u001b[0m \u001b[1;33m=\u001b[0m \u001b[1;36m30\u001b[0m\u001b[1;33m\u001b[0m\u001b[0m\n\u001b[1;32m----> 5\u001b[1;33m \u001b[0mnoisy\u001b[0m\u001b[1;33m,\u001b[0m \u001b[0msoln\u001b[0m \u001b[1;33m=\u001b[0m \u001b[0mwd\u001b[0m\u001b[1;33m.\u001b[0m\u001b[0mtest_bulk_xy\u001b[0m\u001b[1;33m(\u001b[0m\u001b[0mxy_file\u001b[0m\u001b[1;33m=\u001b[0m\u001b[0mnoise_file\u001b[0m\u001b[1;33m,\u001b[0m \u001b[0msoln_file\u001b[0m\u001b[1;33m=\u001b[0m\u001b[0msoln_file\u001b[0m\u001b[1;33m,\u001b[0m \u001b[0mr_threshold\u001b[0m\u001b[1;33m=\u001b[0m\u001b[1;36m1\u001b[0m\u001b[1;33m,\u001b[0m \u001b[0mt_threshold\u001b[0m\u001b[1;33m=\u001b[0m\u001b[1;36m30\u001b[0m\u001b[1;33m)\u001b[0m\u001b[1;33m\u001b[0m\u001b[0m\n\u001b[0m\u001b[0;32m      6\u001b[0m \u001b[0msoln\u001b[0m\u001b[1;33m.\u001b[0m\u001b[0mhead\u001b[0m\u001b[1;33m(\u001b[0m\u001b[1;33m)\u001b[0m\u001b[1;33m\u001b[0m\u001b[0m\n",
        "\u001b[1;31mNameError\u001b[0m: name 'wd' is not defined"
       ]
      }
     ],
     "prompt_number": 3
    },
    {
     "cell_type": "code",
     "collapsed": false,
     "input": [
      "def neighbor_calculation2(distance_threshold, xy, time_threshold=500):\n",
      "    point_scores = []\n",
      "    for i, pt in enumerate(xy[:]):\n",
      "        start = max([0, i-time_threshold])\n",
      "        if i < 3:\n",
      "            point_scores.append(0)\n",
      "            continue\n",
      "            \n",
      "        short_list = xy[start:i]\n",
      "        x, y = zip(*short_list)\n",
      "        dx = np.array(x) - pt[0]\n",
      "        dy = np.array(y) - pt[1]\n",
      "        dists = np.sqrt(dx**2 + dy**2)\n",
      "        \n",
      "        score = 0\n",
      "        for d in dists[::-1]:\n",
      "            if d < distance_threshold:\n",
      "                score += 1\n",
      "            else:\n",
      "                break\n",
      "        #print i, score, dists[0], dists[-1]\n",
      "        point_scores.append(score)\n",
      "\n",
      "    return point_scores\n",
      "\n",
      "points2 = neighbor_calculation2(distance_threshold, xy)\n",
      "print points2[:5]\n",
      "plt.plot(points2)\n",
      "plt.show()"
     ],
     "language": "python",
     "metadata": {},
     "outputs": []
    },
    {
     "cell_type": "code",
     "collapsed": false,
     "input": [
      "def compute_bulk_pauses(noisy, soln, timepoint_threshold, distance_threshold):\n",
      "    columns = noisy.columns\n",
      "    N_trials = len(columns) / 2\n",
      "    print 'N timeseries=', N_trials\n",
      "    calculated = pd.DataFrame(index=soln.index, columns=soln.columns)\n",
      "    for i in range(N_trials):\n",
      "        xkey, ykey = ('x'+str(i)), ('y'+str(i))\n",
      "        \n",
      "        xyt  = zip(noisy[xkey], noisy[ykey], noisy.index)\n",
      "        xyt = wd.smoothing_function(xyt, 11, 5)\n",
      "        x, y, t = zip*xyt)\n",
      "        xy = zip(x,y)\n",
      "        point_scores = neighbor_calculation2(distance_threshold=distance_threshold, xy=xy)\n",
      "        calculated_domains = wd.domain_creator(point_scores, timepoint_threshold=time_threshold)\n",
      "        calculated[i] = [False] * len(point_scores)\n",
      "        for start, stop in calculated_domains:\n",
      "            calculated[i][start:stop+1] = True\n",
      "    \n",
      "    \n",
      "    tp = ((calculated == True) & (soln == True)).sum()\n",
      "    tn = ((calculated == False) & (soln == False)).sum()\n",
      "    fp = ((calculated == True) & (soln == False)).sum()\n",
      "    fn = ((calculated == False) & (soln == True)).sum()\n",
      "\n",
      "    \n",
      "    print 'tp', np.mean(tp), np.std(tp)\n",
      "    print 'tn', np.mean(tn), np.std(tn)\n",
      "    print 'fp', np.mean(fp), np.std(fp)\n",
      "    print 'fn', np.mean(fn), np.std(fn)   \n",
      "\n",
      "    results = {'tp': (np.mean(tp), np.std(tp)),\n",
      "               'tn': (np.mean(tn), np.std(tn)),\n",
      "               'fp': (np.mean(fp), np.std(fp)),\n",
      "               'fn': (np.mean(fn), np.std(fn)),\n",
      "               }\n",
      "    #return calculated, calculated_domains\n",
      "    return results\n",
      "\n",
      "    \n",
      "#calculated, calculated_domains = compute_bulk_pauses(noisy, soln, time_threshold, distance_threshold)\n",
      "#print calculated_domains\n",
      "#plt.plot(point_scores)\n",
      "#calculated.plot()\n",
      "#plt.show()\n",
      "#print calculated"
     ],
     "language": "python",
     "metadata": {},
     "outputs": []
    },
    {
     "cell_type": "code",
     "collapsed": false,
     "input": [
      "\n",
      "results = {}\n",
      "timepoint_threshold = 30\n",
      "for distance_threshold in np.linspace(0.2, 0.4, 9):\n",
      "    print distance_threshold\n",
      "    results[distance_threshold] = compute_bulk_pauses(noisy, soln, timepoint_threshold, distance_threshold)\n",
      "    \n",
      "print sorted(results)"
     ],
     "language": "python",
     "metadata": {},
     "outputs": []
    },
    {
     "cell_type": "code",
     "collapsed": false,
     "input": [
      "series = {'tp': [],\n",
      "          'tn': [],\n",
      "          'fp': [],\n",
      "          'fn': [],\n",
      "               }\n",
      "\n",
      "t = []\n",
      "for i in sorted(results):\n",
      "    t.append(i)\n",
      "    for key in series:\n",
      "        series[key].append(results[i][key][0])\n",
      "\n",
      "for key in series:\n",
      "    plt.plot(t, series[key], label=key)\n",
      "\n",
      "#plt.counts('')    \n",
      "#plt.xlabel('radius threshold (pixels)')\n",
      "plt.legend(loc='best')\n",
      "plt.show()"
     ],
     "language": "python",
     "metadata": {},
     "outputs": []
    },
    {
     "cell_type": "code",
     "collapsed": false,
     "input": [
      "np.linspace(0.2, 0.4, 9)"
     ],
     "language": "python",
     "metadata": {},
     "outputs": []
    },
    {
     "cell_type": "code",
     "collapsed": false,
     "input": [
      "points1 = wd.neighbor_calculation(distance_threshold=distance_threshold, nxy=xy)\n",
      "points2 = neighbor_calculation2(distance_threshold, xy, time_threshold= 1000)\n",
      "\n",
      "plt.plot(points1)\n",
      "plt.plot(points2)\n",
      "plt.show()\n",
      "\n",
      "#print len(points1), len(points2)\n",
      "#for p1, p2 in zip(points1, points2):\n",
      "#    if p1 != p2:\n",
      "#        print 'mismatch', p1, p2"
     ],
     "language": "python",
     "metadata": {},
     "outputs": []
    },
    {
     "cell_type": "code",
     "collapsed": false,
     "input": [
      "print 'original'\n",
      "%timeit wd.neighbor_calculation(distance_threshold=distance_threshold, nxy=xy)\n",
      "print 'revised'\n",
      "%timeit neighbor_calculation2(distance_threshold, xy, time_threshold=500)\n",
      "\n"
     ],
     "language": "python",
     "metadata": {},
     "outputs": []
    },
    {
     "cell_type": "code",
     "collapsed": false,
     "input": [],
     "language": "python",
     "metadata": {},
     "outputs": []
    }
   ],
   "metadata": {}
  }
 ]
}