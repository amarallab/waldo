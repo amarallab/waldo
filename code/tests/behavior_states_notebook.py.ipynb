{
 "metadata": {
  "name": "",
  "signature": "sha256:575a6dc6dfd7971f1e383c92c2ff3c3f3a5df2d0b52a960025382a870eac6736"
 },
 "nbformat": 3,
 "nbformat_minor": 0,
 "worksheets": [
  {
   "cells": [
    {
     "cell_type": "markdown",
     "metadata": {},
     "source": [
      "Description:\n",
      "This notebook is an attempt to implement the state behaivior model from\n",
      "The Geometry of Locomotive Behavioral States in C. elegans\n",
      "Gallagher et al.\n"
     ]
    },
    {
     "cell_type": "code",
     "collapsed": false,
     "input": [
      "# standard imports\n",
      "import os\n",
      "import sys\n",
      "import numpy as np\n",
      "import scipy.interpolate as interpolate\n",
      "import pandas as pd\n",
      "import matplotlib.pyplot as plt\n",
      "import prettyplotlib as ppl\n",
      "\n",
      "# Path definitions\n",
      "HERE = os.path.dirname(os.path.realpath('.'))\n",
      "CODE_DIR = os.path.abspath(HERE)\n",
      "SHARED_DIR = os.path.abspath(HERE + '/shared/')\n",
      "\n",
      "sys.path.append(CODE_DIR)\n",
      "sys.path.append(SHARED_DIR)\n",
      "\n",
      "# nonstandard imports\n",
      "from wio.file_manager import get_timeseries, write_timeseries_file"
     ],
     "language": "python",
     "metadata": {},
     "outputs": [],
     "prompt_number": 9
    },
    {
     "cell_type": "code",
     "collapsed": false,
     "input": [
      "def stuff(x, y, dt=0.1, verbose=False):\n",
      "\n",
      "    vs = np.zeros((2, len(x)-1))    \n",
      "    vs[0] = np.diff(x) / dt\n",
      "    vs[1] = np.diff(y) / dt\n",
      "    vs = vs.T\n",
      "\n",
      "    data = []    \n",
      "    v23 = vs[0]\n",
      "    for v in vs[1:]:   \n",
      "        v12, v23 = v23, v\n",
      "\n",
      "        if np.dot(v12, v23) < 0:\n",
      "            r = 1\n",
      "            d = (v12 - v23) / np.linalg.norm(v12 - v23)\n",
      "            alpha = (v23 + v12) / dt\n",
      "            R = [[d[0], d[1]], [-d[1], d[0]]]            \n",
      "        else:\n",
      "            r = 0\n",
      "            d = (v12 + v23) / np.linalg.norm(v12 + v23)            \n",
      "            alpha = (v23 - v12) / dt\n",
      "            R = [[-d[0], -d[1]], [-d[1], d[0]]]\n",
      "\n",
      "\n",
      "        a = np.dot(R, alpha)\n",
      "        s = (np.linalg.norm(v12) + np.linalg.norm(v23)) / dt\n",
      "        if verbose:\n",
      "            print 'r={r} | s={s} | a={a}'.format(r=r, s=s, a=a)\n",
      "        data.append((r, s, a))\n",
      "    return data"
     ],
     "language": "python",
     "metadata": {},
     "outputs": [],
     "prompt_number": 15
    },
    {
     "cell_type": "code",
     "collapsed": false,
     "input": [
      "xy = pd.read_csv('soln.csv')    \n",
      "x, y = np.array(xy['x']), np.array(xy['y'])\n",
      "t = np.arange(0.1, step*len(x), step=0.1)\n",
      "\n",
      "data = stuff(x, y, dt=0.1)\n",
      "\n",
      "r, s, a = zip(*data)\n",
      "fig, ax = plt.subplots(3, 1)\n",
      "ax[0].plot(t[:len(r)], r, label='r')\n",
      "ax[1].plot(t[:len(s)], s, label='s')\n",
      "at, ar = zip(*a)\n",
      "ax[2].plot(t[:len(a)], at, t[:len(a)], ar)\n",
      "plt.show()"
     ],
     "language": "python",
     "metadata": {},
     "outputs": [],
     "prompt_number": 16
    },
    {
     "cell_type": "code",
     "collapsed": false,
     "input": [],
     "language": "python",
     "metadata": {},
     "outputs": []
    }
   ],
   "metadata": {}
  }
 ]
}