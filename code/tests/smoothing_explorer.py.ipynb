{
 "metadata": {
  "name": "",
  "signature": "sha256:4fc8db4d3b8bd70acf5177f39e14e38f9b44d890d9b45ff4794bb0cfb3729efe"
 },
 "nbformat": 3,
 "nbformat_minor": 0,
 "worksheets": [
  {
   "cells": [
    {
     "cell_type": "code",
     "collapsed": false,
     "input": [
      "import pandas as pd\n",
      "import numpy as np\n",
      "import math\n",
      "import matplotlib.pyplot as plt\n",
      "import matplotlib.gridspec as gridspec\n",
      "from fake_worm_creator import xy_to_full_dataframe\n",
      "%load_ext autoreload\n",
      "%autoreload 2"
     ],
     "language": "python",
     "metadata": {},
     "outputs": [
      {
       "output_type": "stream",
       "stream": "stdout",
       "text": [
        "Configuring name: '-f'\n"
       ]
      }
     ],
     "prompt_number": 1
    },
    {
     "cell_type": "code",
     "collapsed": false,
     "input": [
      "soln = pd.read_csv('soln.csv', index_col=0)\n",
      "noiseless = pd.read_csv('soln2.csv', index_col=0)\n",
      "noisy = pd.read_csv('noisy.csv', index_col=0)\n",
      "smoothed = pd.read_csv('smoothed.csv', index_col=0)"
     ],
     "language": "python",
     "metadata": {},
     "outputs": [],
     "prompt_number": 2
    },
    {
     "cell_type": "code",
     "collapsed": false,
     "input": [
      "noisy.head()"
     ],
     "language": "python",
     "metadata": {},
     "outputs": [
      {
       "html": [
        "<div style=\"max-height:1000px;max-width:1500px;overflow:auto;\">\n",
        "<table border=\"1\" class=\"dataframe\">\n",
        "  <thead>\n",
        "    <tr style=\"text-align: right;\">\n",
        "      <th></th>\n",
        "      <th>x</th>\n",
        "      <th>y</th>\n",
        "      <th>v</th>\n",
        "      <th>dtheta</th>\n",
        "    </tr>\n",
        "  </thead>\n",
        "  <tbody>\n",
        "    <tr>\n",
        "      <th>0</th>\n",
        "      <td>-0.055048</td>\n",
        "      <td> 0.001147</td>\n",
        "      <td> 0.071347</td>\n",
        "      <td>      NaN</td>\n",
        "    </tr>\n",
        "    <tr>\n",
        "      <th>1</th>\n",
        "      <td> 0.002591</td>\n",
        "      <td> 0.043196</td>\n",
        "      <td> 0.183146</td>\n",
        "      <td>-1.214623</td>\n",
        "    </tr>\n",
        "    <tr>\n",
        "      <th>2</th>\n",
        "      <td> 0.155347</td>\n",
        "      <td>-0.057839</td>\n",
        "      <td> 0.197091</td>\n",
        "      <td>-2.280177</td>\n",
        "    </tr>\n",
        "    <tr>\n",
        "      <th>3</th>\n",
        "      <td>-0.034229</td>\n",
        "      <td>-0.111749</td>\n",
        "      <td> 0.246128</td>\n",
        "      <td>-1.936466</td>\n",
        "    </tr>\n",
        "    <tr>\n",
        "      <th>4</th>\n",
        "      <td>-0.012447</td>\n",
        "      <td> 0.133414</td>\n",
        "      <td> 0.162674</td>\n",
        "      <td> 2.574162</td>\n",
        "    </tr>\n",
        "  </tbody>\n",
        "</table>\n",
        "</div>"
       ],
       "metadata": {},
       "output_type": "pyout",
       "prompt_number": 3,
       "text": [
        "          x         y         v    dtheta\n",
        "0 -0.055048  0.001147  0.071347       NaN\n",
        "1  0.002591  0.043196  0.183146 -1.214623\n",
        "2  0.155347 -0.057839  0.197091 -2.280177\n",
        "3 -0.034229 -0.111749  0.246128 -1.936466\n",
        "4 -0.012447  0.133414  0.162674  2.574162"
       ]
      }
     ],
     "prompt_number": 3
    },
    {
     "cell_type": "code",
     "collapsed": false,
     "input": [
      "import worm_distances as wd\n",
      "x, y = smoothed['x'], smoothed['y']\n",
      "doms = wd.calc_domains_for_xy(x, y)\n",
      "\n",
      "dom_lengths = [(i[1]-i[0]) for i in doms]\n",
      "print dom_lengths[:5]\n",
      "print 'stationary N:', sum(dom_lengths), 'total N:', len(x)\n",
      "print sum(dom_lengths) / float(len(x)), '% stationary'"
     ],
     "language": "python",
     "metadata": {},
     "outputs": [
      {
       "output_type": "stream",
       "stream": "stdout",
       "text": [
        "Peak distance: 0.007\n",
        "Calculating Peaks\n",
        "Calculating Domains"
       ]
      },
      {
       "output_type": "stream",
       "stream": "stdout",
       "text": [
        "\n",
        "Number of domains: 183\n",
        "[137, 252, 32, 48, 110]\n",
        "stationary N: 22565 total N: 36000\n",
        "0.626805555556 % stationary\n"
       ]
      }
     ],
     "prompt_number": 22
    },
    {
     "cell_type": "markdown",
     "metadata": {},
     "source": [
      "TODO:\n",
      "\n",
      "\n",
      "need to get angle and speed calcs integrated into the standard analysis.\n",
      "in particular, how to calc angles.\n",
      "method 1:\n",
      "\n",
      "- convert domains to a boolean list.\n",
      "- loop throug xy and keep everything that isn't in domain.\n",
      "- when you get to domain, replace it with a single xy.\n",
      "- calculate angles and speed as ususal\n",
      "- \n"
     ]
    },
    {
     "cell_type": "code",
     "collapsed": false,
     "input": [
      "new_x, new_y = list(x), list(y)\n",
      "\n",
      "shortened_xy = []\n",
      "st, en = 0, 0\n",
      "\n",
      "for dom in doms[:5]:\n",
      "    print dom\n",
      "    last_st, last_en = st, en\n",
      "    st, en = dom\n",
      "    # add in xy path all parts that\n",
      "    shortened_xy.extend(zip(new_x, new_y)[last_en:st])\n",
      "        \n",
      "    x_med, y_med = np.median(new_x[st:en]), np.median(new_y[st:en])\n",
      "    #print x_med, y_med\n",
      "    x_seg = x_med *np.ones(en - st)\n",
      "    y_seg = y_med *np.ones(en - st)\n",
      "    new_x[st:en] = x_seg\n",
      "    new_y[st:en] = y_seg\n",
      "\n",
      "    \n",
      "#vectors = np.array(zip(np.diff(x), np.diff(y)))\n",
      "#unit_vectors = [v / np.linalg.norm(v) for v in vectors]\n",
      "#v1 = unit_vectors[0]\n",
      "#nc = 0\n",
      "#print set(zip(np.diff(new_x), np.diff(new_y)))\n",
      "#for vi in unit_vectors:\n",
      "#    if np.isnan(v1[0]):\n",
      "#        nc+=1\n",
      "#print len(unit_vectors), nc\n",
      "\n",
      "t = smoothed.index\n",
      "t, new_x, new_y = zip(*zip(t,new_x,new_y)[:100])\n",
      "new = xy_to_full_dataframe(times=t, x=new_x, y=new_y)\n",
      "\n",
      "#se.plot_smoothing_explorer(soln, sets=[new], labels=['new'])\n",
      "se.plot_smoothing_explorer(soln, sets=[new, noisy], labels=['new', 'noisy'])\n",
      "plt.show()\n"
     ],
     "language": "python",
     "metadata": {},
     "outputs": [
      {
       "output_type": "stream",
       "stream": "stdout",
       "text": [
        "[0, 137]\n",
        "[139, 391]\n",
        "[403, 435]\n",
        "[437, 485]\n",
        "[516, 626]\n",
        "nan counts"
       ]
      },
      {
       "output_type": "stream",
       "stream": "stdout",
       "text": [
        " 98\n",
        "100 100 100 100 100\n",
        "          x         y  v  dtheta\n",
        "0  0.030116 -0.021327  0     NaN\n",
        "1  0.030116 -0.021327  0     NaN\n",
        "2  0.030116 -0.021327  0     NaN\n",
        "3  0.030116 -0.021327  0     NaN\n",
        "4  0.030116 -0.021327  0     NaN\n",
        "x"
       ]
      },
      {
       "output_type": "stream",
       "stream": "stdout",
       "text": [
        " -0.0298767283996 0.0301164938511\n",
        "y -0.0221377952619 -0.0213273187298\n",
        "v -0.01 0.0\n",
        "dtheta 0.0 0.0\n"
       ]
      }
     ],
     "prompt_number": 11
    },
    {
     "cell_type": "code",
     "collapsed": false,
     "input": [
      "import importing.angle_calculations as ac\n",
      "j = ac.angle_change_for_xy(new_x, new_y, units='rad') "
     ],
     "language": "python",
     "metadata": {},
     "outputs": [
      {
       "output_type": "stream",
       "stream": "stdout",
       "text": [
        "nan counts 98\n"
       ]
      }
     ],
     "prompt_number": 6
    },
    {
     "cell_type": "code",
     "collapsed": false,
     "input": [
      "new['v'].plot()\n",
      "plt.show()"
     ],
     "language": "python",
     "metadata": {},
     "outputs": [],
     "prompt_number": 15
    },
    {
     "cell_type": "code",
     "collapsed": false,
     "input": [
      "import smoothing_explorer as se\n",
      "\n",
      "sets = [noisy, smoothed]\n",
      "labels = ['noise', 'smooth']\n",
      "hists = se.compare_dfs(soln=soln, test_dfs=sets, labels=labels)\n"
     ],
     "language": "python",
     "metadata": {},
     "outputs": [
      {
       "output_type": "stream",
       "stream": "stdout",
       "text": [
        "x -0.410032570344 0.396517463556\n",
        "y -0.454506274097 0.43806233092\n",
        "v"
       ]
      },
      {
       "output_type": "stream",
       "stream": "stdout",
       "text": [
        " -0.0395315436608 0.716014703256\n",
        "dtheta -4.99586145817 5.85623094008\n"
       ]
      }
     ],
     "prompt_number": 16
    },
    {
     "cell_type": "code",
     "collapsed": false,
     "input": [
      "'''\n",
      "fig, axis = plt.subplots(4,1)\n",
      "#print axis\n",
      "for label, dset in hists.iteritems():    \n",
      "    for i, col in enumerate(dset):    \n",
      "        x, y = zip(*dset[col])\n",
      "        print label, col, np.mean(y)\n",
      "        axis[i].plot(x, y)\n",
      "        axis[i].fill_between(x,y, alpha=0.1)\n",
      "plt.show()\n",
      "'''"
     ],
     "language": "python",
     "metadata": {},
     "outputs": [
      {
       "metadata": {},
       "output_type": "pyout",
       "prompt_number": 8,
       "text": [
        "'\\nfig, axis = plt.subplots(4,1)\\n#print axis\\nfor label, dset in hists.iteritems():    \\n    for i, col in enumerate(dset):    \\n        x, y = zip(*dset[col])\\n        print label, col, np.mean(y)\\n        axis[i].plot(x, y)\\n        axis[i].fill_between(x,y, alpha=0.1)\\nplt.show()\\n'"
       ]
      }
     ],
     "prompt_number": 8
    },
    {
     "cell_type": "code",
     "collapsed": false,
     "input": [
      "se.plot_smoothing_explorer(soln, sets=sets[1:], labels=labels[1:])\n",
      "plt.show()"
     ],
     "language": "python",
     "metadata": {},
     "outputs": [
      {
       "output_type": "stream",
       "stream": "stdout",
       "text": [
        "x -0.23648078072 0.236283629037\n",
        "y -0.238990095537 0.219908423688\n",
        "v -0.0395315436608 0.177676916031\n",
        "dtheta -4.03263240193 4.16804691349\n"
       ]
      }
     ],
     "prompt_number": 17
    },
    {
     "cell_type": "code",
     "collapsed": false,
     "input": [
      "se.plot_smoothing_explorer(soln, sets=[noiseless], labels=['noiseless'])\n",
      "plt.show()"
     ],
     "language": "python",
     "metadata": {},
     "outputs": [
      {
       "output_type": "stream",
       "stream": "stdout",
       "text": [
        "x 0.0 0.0\n",
        "y 0.0 0.0\n",
        "v -3.74006381421e-15 3.5457747849e-15\n",
        "dtheta -5.35867738935e-12 3.30306604551e-12\n"
       ]
      }
     ],
     "prompt_number": 10
    },
    {
     "cell_type": "code",
     "collapsed": false,
     "input": [],
     "language": "python",
     "metadata": {},
     "outputs": [],
     "prompt_number": 10
    },
    {
     "cell_type": "code",
     "collapsed": false,
     "input": [],
     "language": "python",
     "metadata": {},
     "outputs": [],
     "prompt_number": 10
    },
    {
     "cell_type": "code",
     "collapsed": false,
     "input": [],
     "language": "python",
     "metadata": {},
     "outputs": [],
     "prompt_number": 10
    },
    {
     "cell_type": "code",
     "collapsed": false,
     "input": [],
     "language": "python",
     "metadata": {},
     "outputs": [],
     "prompt_number": 10
    }
   ],
   "metadata": {}
  }
 ]
}