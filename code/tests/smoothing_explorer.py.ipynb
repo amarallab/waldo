{
 "metadata": {
  "name": "",
  "signature": "sha256:b2c01b69f35ce0cf4d368b6661580f341644543ae63049bb5474deabcb898250"
 },
 "nbformat": 3,
 "nbformat_minor": 0,
 "worksheets": [
  {
   "cells": [
    {
     "cell_type": "code",
     "collapsed": false,
     "input": [
      "import pandas as pd\n",
      "import numpy as np\n",
      "import math\n",
      "import matplotlib.pyplot as plt\n",
      "import matplotlib.gridspec as gridspec\n",
      "from fake_worm_creator import xy_to_full_dataframe\n",
      "import smoothing_explorer as se\n",
      "import importing.angle_calculations as ac\n",
      "import worm_distances as wd\n",
      "import copy\n",
      "\n",
      "%load_ext autoreload\n",
      "%autoreload 2"
     ],
     "language": "python",
     "metadata": {},
     "outputs": [
      {
       "output_type": "stream",
       "stream": "stdout",
       "text": [
        "The autoreload extension is already loaded. To reload it, use:\n",
        "  %reload_ext autoreload\n"
       ]
      }
     ],
     "prompt_number": 21
    },
    {
     "cell_type": "code",
     "collapsed": false,
     "input": [
      "soln = pd.read_csv('soln.csv', index_col=0)\n",
      "noiseless = pd.read_csv('soln2.csv', index_col=0)\n",
      "noisy = pd.read_csv('noisy.csv', index_col=0)\n",
      "smoothed = pd.read_csv('smoothed.csv', index_col=0)"
     ],
     "language": "python",
     "metadata": {},
     "outputs": [],
     "prompt_number": 16
    },
    {
     "cell_type": "code",
     "collapsed": false,
     "input": [
      "noisy.head()"
     ],
     "language": "python",
     "metadata": {},
     "outputs": [
      {
       "html": [
        "<div style=\"max-height:1000px;max-width:1500px;overflow:auto;\">\n",
        "<table border=\"1\" class=\"dataframe\">\n",
        "  <thead>\n",
        "    <tr style=\"text-align: right;\">\n",
        "      <th></th>\n",
        "      <th>x</th>\n",
        "      <th>y</th>\n",
        "      <th>v</th>\n",
        "      <th>dtheta</th>\n",
        "    </tr>\n",
        "  </thead>\n",
        "  <tbody>\n",
        "    <tr>\n",
        "      <th>0</th>\n",
        "      <td> 0.162515</td>\n",
        "      <td> 0.009214</td>\n",
        "      <td> 0.322701</td>\n",
        "      <td>      NaN</td>\n",
        "    </tr>\n",
        "    <tr>\n",
        "      <th>1</th>\n",
        "      <td>-0.072644</td>\n",
        "      <td>-0.211776</td>\n",
        "      <td> 0.252610</td>\n",
        "      <td>-2.537272</td>\n",
        "    </tr>\n",
        "    <tr>\n",
        "      <th>2</th>\n",
        "      <td>-0.019459</td>\n",
        "      <td> 0.035172</td>\n",
        "      <td> 0.122503</td>\n",
        "      <td> 0.259078</td>\n",
        "    </tr>\n",
        "    <tr>\n",
        "      <th>3</th>\n",
        "      <td>-0.025208</td>\n",
        "      <td> 0.157540</td>\n",
        "      <td> 0.269942</td>\n",
        "      <td>-3.089623</td>\n",
        "    </tr>\n",
        "    <tr>\n",
        "      <th>4</th>\n",
        "      <td> 0.001451</td>\n",
        "      <td>-0.111082</td>\n",
        "      <td> 0.262485</td>\n",
        "      <td> 2.256872</td>\n",
        "    </tr>\n",
        "  </tbody>\n",
        "</table>\n",
        "<p>5 rows \u00d7 4 columns</p>\n",
        "</div>"
       ],
       "metadata": {},
       "output_type": "pyout",
       "prompt_number": 17,
       "text": [
        "          x         y         v    dtheta\n",
        "0  0.162515  0.009214  0.322701       NaN\n",
        "1 -0.072644 -0.211776  0.252610 -2.537272\n",
        "2 -0.019459  0.035172  0.122503  0.259078\n",
        "3 -0.025208  0.157540  0.269942 -3.089623\n",
        "4  0.001451 -0.111082  0.262485  2.256872\n",
        "\n",
        "[5 rows x 4 columns]"
       ]
      }
     ],
     "prompt_number": 17
    },
    {
     "cell_type": "markdown",
     "metadata": {},
     "source": [
      "basic data has been imported.\n",
      "calculate domains."
     ]
    },
    {
     "cell_type": "code",
     "collapsed": false,
     "input": [
      "def new_smooth_xy(xy):\n",
      "    time_threshold = 30\n",
      "    distance_threshold = 0.25\n",
      "    \n",
      "    point_scores = neighbor_calculation2(distance_threshold=distance_threshold, xy=xy)\n",
      "    domains = wd.domain_creator(point_scores, timepoint_threshold=time_threshold) \n",
      "    xy = _domains(xy, domains)\n",
      "    xy = wd.reduce_domains(xy, domains)\n",
      "    # TODO add calculate domains\n",
      "    xyvtheta = wd.expand_domains(xyvtheta, domains)\n",
      "    x, y, v, dtheta = zip(*xyvtheta)\n",
      "    # \n",
      "    \n",
      "    \n",
      "\n",
      "dom_lengths = [(i[1]-i[0]) for i in doms]\n",
      "print dom_lengths[:5]\n",
      "print 'stationary N:', sum(dom_lengths), 'total N:', len(x)\n",
      "print sum(dom_lengths) / float(len(x)), '% stationary'"
     ],
     "language": "python",
     "metadata": {},
     "outputs": [
      {
       "output_type": "stream",
       "stream": "stdout",
       "text": [
        "Peak distance: 0.007\n",
        "Calculating Peaks\n",
        "[43, 31, 181, 36, 33]"
       ]
      },
      {
       "output_type": "stream",
       "stream": "stdout",
       "text": [
        "\n",
        "stationary N: 14409 total N: 36000\n",
        "0.40025 % stationary\n"
       ]
      }
     ],
     "prompt_number": 24
    },
    {
     "cell_type": "code",
     "collapsed": false,
     "input": [],
     "language": "python",
     "metadata": {},
     "outputs": [],
     "prompt_number": 17
    },
    {
     "cell_type": "code",
     "collapsed": false,
     "input": [],
     "language": "python",
     "metadata": {},
     "outputs": [],
     "prompt_number": 17
    },
    {
     "cell_type": "code",
     "collapsed": false,
     "input": [
      "def homogenize_domains(xy, domains):\n",
      "    ''' replace each stationary domain with the median values for that domain '''   \n",
      "    new_xy = copy.copy(xy)\n",
      "    for (start, end) in domains:\n",
      "        end += 1 #because string indicies are non inclusive\n",
      "        l = end - start\n",
      "        x_seg, y_seg = zip(*new_xy[start:end])\n",
      "        x_seg = np.ones(l) * np.median(x_seg)\n",
      "        y_seg = np.ones(l) * np.median(y_seg) \n",
      "        new_xy[start:end] = zip(x_seg, y_seg)\n",
      "    return new_xy\n",
      "        \n",
      "def expand_domains(xy, domains):\n",
      "    ''' expands the one value left for each domain into multiple values '''\n",
      "    expansions = {}\n",
      "    shift = 0\n",
      "    for start, end in domains:\n",
      "        expansions[start - shift] = end - start + 1\n",
      "        shift += end - start\n",
      "    #print expansions\n",
      "    expanded = []\n",
      "    for i, val in enumerate(xy):\n",
      "        if i in expansions:\n",
      "            segment = [val] * expansions[i]\n",
      "        else:\n",
      "            segment = [val]\n",
      "        expanded.extend(segment)\n",
      "    return expanded\n",
      "\n",
      "def reduce_domains(xy, domains):\n",
      "    ''' removes all but one value for each domain '''\n",
      "    reduction_filter = [True] * len(xy)\n",
      "    for start, end in domains:\n",
      "        #print start, end, len([False] * (end - start)), len(reduction_filter[start + 1: end + 1])\n",
      "        reduction_filter[start + 1: end + 1] = [False] * (end - start)    \n",
      "    return [v for (f,v) in zip(reduction_filter, sample) if f]\n",
      "\n",
      "verbose = False\n",
      "domains = [(3,5), (9, 19)]\n",
      "sample = zip(range(30), range(30))\n",
      "sample = homogenize_domains(sample, domains)\n",
      "\n",
      "if verbose:\n",
      "    #print len(sample), sample\n",
      "    #reduced = reduce_domains(sample, domains)\n",
      "    #print len(reduced), reduced\n",
      "    s1 = sample #expand_domains(reduced, domains)\n",
      "    print 'sample l={l}'.format(l=len(s1))\n",
      "    print s1\n",
      "    sr = reduce_domains(s1, domains)\n",
      "    print 'reduced l={l}'.format(l=len(sr))\n",
      "    print sr\n",
      "    s2 = expand_domains(sr, domains)\n",
      "    print 'expanded l={l}'.format(l=len(s2))\n",
      "    print s2\n",
      "    \n",
      "for i, (a, b) in enumerate(zip(s1, s2)):\n",
      "    if a != b:\n",
      "        print 'Error: mismatch at position {i}'.format(i=i)\n",
      "        print a, b"
     ],
     "language": "python",
     "metadata": {},
     "outputs": []
    },
    {
     "cell_type": "markdown",
     "metadata": {},
     "source": [
      "TODO:\n",
      "\n",
      "\n",
      "need to get angle and speed calcs integrated into the standard analysis.\n",
      "in particular, how to calc angles.\n",
      "method 1:\n",
      "\n",
      "- convert domains to a boolean list.\n",
      "- loop throug xy and keep everything that isn't in domain.\n",
      "- when you get to domain, replace it with a single xy.\n",
      "- calculate angles and speed as ususal\n",
      "- \n"
     ]
    },
    {
     "cell_type": "code",
     "collapsed": false,
     "input": [
      "new_x, new_y = list(x), list(y)\n",
      "\n",
      "\n",
      "\n"
     ],
     "language": "python",
     "metadata": {},
     "outputs": [],
     "prompt_number": 25
    },
    {
     "cell_type": "code",
     "collapsed": false,
     "input": [
      "t = smoothed.index\n",
      "t, new_x, new_y = zip(*zip(t,new_x,new_y)[:])\n",
      "new = xy_to_full_dataframe(times=t, x=new_x, y=new_y)\n",
      "new.plot()\n",
      "plt.show()"
     ],
     "language": "python",
     "metadata": {},
     "outputs": [
      {
       "output_type": "stream",
       "stream": "stdout",
       "text": [
        "nan counts 0\n",
        "36000 36000 36000 36000 36000\n",
        "          x         y         v    dtheta\n",
        "0  0.162515  0.009214  0.322701       NaN\n",
        "1 -0.072644 -0.211776  0.252610 -2.537272\n",
        "2 -0.019459  0.035172  0.122503  0.259078\n",
        "3 -0.025208  0.157540  0.269942 -3.089623\n",
        "4  0.001451 -0.111082  0.262485  2.256872\n",
        "\n",
        "[5 rows x 4 columns]"
       ]
      },
      {
       "output_type": "stream",
       "stream": "stdout",
       "text": [
        "\n"
       ]
      }
     ],
     "prompt_number": 26
    },
    {
     "cell_type": "code",
     "collapsed": false,
     "input": [
      "se.plot_smoothing_explorer(soln, sets=[new], labels=['new'])\n",
      "#se.plot_smoothing_explorer(soln, sets=[new, smoothed], labels=['new', 'smoothed'])\n",
      "plt.show()"
     ],
     "language": "python",
     "metadata": {},
     "outputs": [
      {
       "output_type": "stream",
       "stream": "stdout",
       "text": [
        "x -0.427178480237 0.38495086838\n",
        "y -0.450189969879 0.44444039758\n",
        "v -0.0396232519409 0.61290062225\n",
        "dtheta -5.72143106721 5.82169168378\n"
       ]
      }
     ],
     "prompt_number": 27
    },
    {
     "cell_type": "code",
     "collapsed": false,
     "input": [
      "\n",
      "\n",
      "sets = [noisy, smoothed]\n",
      "labels = ['noise', 'smooth']\n",
      "hists = se.compare_dfs(soln=soln, test_dfs=sets, labels=labels)\n"
     ],
     "language": "python",
     "metadata": {},
     "outputs": []
    },
    {
     "cell_type": "code",
     "collapsed": false,
     "input": [
      "'''\n",
      "fig, axis = plt.subplots(4,1)\n",
      "#print axis\n",
      "for label, dset in hists.iteritems():    \n",
      "    for i, col in enumerate(dset):    \n",
      "        x, y = zip(*dset[col])\n",
      "        print label, col, np.mean(y)\n",
      "        axis[i].plot(x, y)\n",
      "        axis[i].fill_between(x,y, alpha=0.1)\n",
      "plt.show()\n",
      "'''"
     ],
     "language": "python",
     "metadata": {},
     "outputs": []
    },
    {
     "cell_type": "code",
     "collapsed": false,
     "input": [
      "se.plot_smoothing_explorer(soln, sets=sets[1:], labels=labels[1:])\n",
      "plt.show()"
     ],
     "language": "python",
     "metadata": {},
     "outputs": [
      {
       "ename": "NameError",
       "evalue": "name 'sets' is not defined",
       "output_type": "pyerr",
       "traceback": [
        "\u001b[1;31m---------------------------------------------------------------------------\u001b[0m\n\u001b[1;31mNameError\u001b[0m                                 Traceback (most recent call last)",
        "\u001b[1;32m<ipython-input-19-2ce9b3d38895>\u001b[0m in \u001b[0;36m<module>\u001b[1;34m()\u001b[0m\n\u001b[1;32m----> 1\u001b[1;33m \u001b[0mse\u001b[0m\u001b[1;33m.\u001b[0m\u001b[0mplot_smoothing_explorer\u001b[0m\u001b[1;33m(\u001b[0m\u001b[0msoln\u001b[0m\u001b[1;33m,\u001b[0m \u001b[0msets\u001b[0m\u001b[1;33m=\u001b[0m\u001b[0msets\u001b[0m\u001b[1;33m[\u001b[0m\u001b[1;36m1\u001b[0m\u001b[1;33m:\u001b[0m\u001b[1;33m]\u001b[0m\u001b[1;33m,\u001b[0m \u001b[0mlabels\u001b[0m\u001b[1;33m=\u001b[0m\u001b[0mlabels\u001b[0m\u001b[1;33m[\u001b[0m\u001b[1;36m1\u001b[0m\u001b[1;33m:\u001b[0m\u001b[1;33m]\u001b[0m\u001b[1;33m)\u001b[0m\u001b[1;33m\u001b[0m\u001b[0m\n\u001b[0m\u001b[0;32m      2\u001b[0m \u001b[0mplt\u001b[0m\u001b[1;33m.\u001b[0m\u001b[0mshow\u001b[0m\u001b[1;33m(\u001b[0m\u001b[1;33m)\u001b[0m\u001b[1;33m\u001b[0m\u001b[0m\n",
        "\u001b[1;31mNameError\u001b[0m: name 'sets' is not defined"
       ]
      }
     ],
     "prompt_number": 19
    },
    {
     "cell_type": "code",
     "collapsed": false,
     "input": [
      "se.plot_smoothing_explorer(soln, sets=[noiseless], labels=['noiseless'])\n",
      "plt.show()"
     ],
     "language": "python",
     "metadata": {},
     "outputs": [
      {
       "output_type": "stream",
       "stream": "stdout",
       "text": [
        "x 0.0 0.0\n",
        "y 0.0 0.0\n",
        "v -4.17721413015e-15 3.83720832886e-15\n",
        "dtheta -2.76694835257e-12 2.76156794508e-12\n"
       ]
      }
     ],
     "prompt_number": 18
    },
    {
     "cell_type": "code",
     "collapsed": false,
     "input": [],
     "language": "python",
     "metadata": {},
     "outputs": []
    },
    {
     "cell_type": "code",
     "collapsed": false,
     "input": [],
     "language": "python",
     "metadata": {},
     "outputs": []
    },
    {
     "cell_type": "code",
     "collapsed": false,
     "input": [],
     "language": "python",
     "metadata": {},
     "outputs": []
    },
    {
     "cell_type": "code",
     "collapsed": false,
     "input": [],
     "language": "python",
     "metadata": {},
     "outputs": []
    }
   ],
   "metadata": {}
  }
 ]
}