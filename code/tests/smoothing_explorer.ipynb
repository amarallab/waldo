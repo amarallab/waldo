{
 "metadata": {
  "name": "",
  "signature": "sha256:ed4ef6f63ed57e88cd99658d4bb765535066b3c05a4bdf09d436cc87b9cfddc7"
 },
 "nbformat": 3,
 "nbformat_minor": 0,
 "worksheets": [
  {
   "cells": [
    {
     "cell_type": "code",
     "collapsed": false,
     "input": [
      "import pandas as pd\n",
      "import numpy as np\n",
      "import math\n",
      "import matplotlib.pyplot as plt\n",
      "import matplotlib.gridspec as gridspec\n",
      "\n",
      "\n",
      "import copy\n",
      "import sys\n",
      "import os\n",
      "\n",
      "HERE = os.path.abspath('./')\n",
      "CODE_DIR = os.path.join(HERE, '..')\n",
      "SHARED_DIR = os.path.join(CODE_DIR, 'shared')\n",
      "\n",
      "sys.path.append(SHARED_DIR)\n",
      "sys.path.append(CODE_DIR)\n",
      "\n",
      "#for i in sys.path:\n",
      "#    print i\n",
      "\n",
      "#from fake_worm_creator import xy_to_full_dataframe, speeds_and_angles\n",
      "import smoothing_explorer as se\n",
      "import importing.centroid as cent\n",
      "import heltena.test_raw as he\n",
      "\n",
      "%load_ext autoreload\n",
      "%autoreload 2"
     ],
     "language": "python",
     "metadata": {},
     "outputs": [
      {
       "output_type": "stream",
       "stream": "stderr",
       "text": [
        "[autoreload of importing.centroid failed: Traceback (most recent call last):\n",
        "  File \"/usr/local/lib/python2.7/dist-packages/IPython/extensions/autoreload.py\", line 247, in check\n",
        "    superreload(m, reload, self.old_objects)\n",
        "KeyError: 'worms'\n",
        "]\n",
        "[autoreload of shared.wio.file_manager failed: Traceback (most recent call last):\n",
        "  File \"/usr/local/lib/python2.7/dist-packages/IPython/extensions/autoreload.py\", line 247, in check\n",
        "    superreload(m, reload, self.old_objects)\n",
        "KeyError: 'worms'\n",
        "]"
       ]
      },
      {
       "output_type": "stream",
       "stream": "stderr",
       "text": [
        "\n",
        "[autoreload of fake_worm_creator failed: Traceback (most recent call last):\n",
        "  File \"/usr/local/lib/python2.7/dist-packages/IPython/extensions/autoreload.py\", line 247, in check\n",
        "    superreload(m, reload, self.old_objects)\n",
        "ImportError: No module named compute_clearmetrics\n",
        "]"
       ]
      },
      {
       "output_type": "stream",
       "stream": "stdout",
       "text": [
        "Default configuration.\n",
        "The autoreload extension is already loaded. To reload it, use:"
       ]
      },
      {
       "output_type": "stream",
       "stream": "stdout",
       "text": [
        "\n",
        "  %reload_ext autoreload\n"
       ]
      },
      {
       "output_type": "stream",
       "stream": "stderr",
       "text": [
        "\n"
       ]
      }
     ],
     "prompt_number": 60
    },
    {
     "cell_type": "code",
     "collapsed": false,
     "input": [],
     "language": "python",
     "metadata": {},
     "outputs": [],
     "prompt_number": 36
    },
    {
     "cell_type": "code",
     "collapsed": false,
     "input": [
      "d = HERE + '/data/smoothing/'\n",
      "\n",
      "def read(filename, directory=d):\n",
      "    return pd.read_csv('{d}{f}'.format(d=directory, f=filename), index_col=0)\n",
      "\n",
      "soln = read('soln.csv')\n",
      "noiseless = read('soln2.csv')\n",
      "noisy = read('noisy.csv')\n",
      "smoothed11 = read('smoothed11.csv')\n",
      "smoothed35 = read('smoothed35.csv')\n",
      "smoothed75 = read('smoothed75.csv')\n",
      "smoothed225 = read('smoothed225.csv')"
     ],
     "language": "python",
     "metadata": {},
     "outputs": [],
     "prompt_number": 61
    },
    {
     "cell_type": "code",
     "collapsed": false,
     "input": [
      "noisy.head()"
     ],
     "language": "python",
     "metadata": {},
     "outputs": [
      {
       "html": [
        "<div style=\"max-height:1000px;max-width:1500px;overflow:auto;\">\n",
        "<table border=\"1\" class=\"dataframe\">\n",
        "  <thead>\n",
        "    <tr style=\"text-align: right;\">\n",
        "      <th></th>\n",
        "      <th>x</th>\n",
        "      <th>y</th>\n",
        "      <th>v</th>\n",
        "      <th>dtheta</th>\n",
        "    </tr>\n",
        "  </thead>\n",
        "  <tbody>\n",
        "    <tr>\n",
        "      <th>0</th>\n",
        "      <td> 0.169990</td>\n",
        "      <td> 0.012411</td>\n",
        "      <td> 0.176856</td>\n",
        "      <td>      NaN</td>\n",
        "    </tr>\n",
        "    <tr>\n",
        "      <th>1</th>\n",
        "      <td> 0.091530</td>\n",
        "      <td> 0.170910</td>\n",
        "      <td> 0.193436</td>\n",
        "      <td> 2.545744</td>\n",
        "    </tr>\n",
        "    <tr>\n",
        "      <th>2</th>\n",
        "      <td> 0.065266</td>\n",
        "      <td>-0.020734</td>\n",
        "      <td> 0.060786</td>\n",
        "      <td>-2.118331</td>\n",
        "    </tr>\n",
        "    <tr>\n",
        "      <th>3</th>\n",
        "      <td> 0.018143</td>\n",
        "      <td> 0.017664</td>\n",
        "      <td> 0.108025</td>\n",
        "      <td>-0.627949</td>\n",
        "    </tr>\n",
        "    <tr>\n",
        "      <th>4</th>\n",
        "      <td>-0.009536</td>\n",
        "      <td> 0.122083</td>\n",
        "      <td> 0.142746</td>\n",
        "      <td>-2.857522</td>\n",
        "    </tr>\n",
        "  </tbody>\n",
        "</table>\n",
        "<p>5 rows \u00d7 4 columns</p>\n",
        "</div>"
       ],
       "metadata": {},
       "output_type": "pyout",
       "prompt_number": 19,
       "text": [
        "          x         y         v    dtheta\n",
        "0  0.169990  0.012411  0.176856       NaN\n",
        "1  0.091530  0.170910  0.193436  2.545744\n",
        "2  0.065266 -0.020734  0.060786 -2.118331\n",
        "3  0.018143  0.017664  0.108025 -0.627949\n",
        "4 -0.009536  0.122083  0.142746 -2.857522\n",
        "\n",
        "[5 rows x 4 columns]"
       ]
      }
     ],
     "prompt_number": 19
    },
    {
     "cell_type": "markdown",
     "metadata": {},
     "source": [
      "basic data has been imported.\n",
      "calculate domains."
     ]
    },
    {
     "cell_type": "code",
     "collapsed": false,
     "input": [
      "n = noisy\n",
      "seg = cent.full_package(times=n.index, x=n['x'], y=n['y'])\n",
      "se.plot_smoothing_explorer(soln, sets=[noisy, seg], labels=['noisy', 'seg'])\n",
      "plt.show()"
     ],
     "language": "python",
     "metadata": {},
     "outputs": [
      {
       "output_type": "stream",
       "stream": "stdout",
       "text": [
        "nan counts 510\n",
        "3600 3600 3600 3600 3600\n",
        "          x         y         v    dtheta\n",
        "0  0.043724  0.014437  0.000898       NaN\n",
        "1  0.043070  0.015052  0.000429 -0.333831\n",
        "2  0.042871  0.015433  0.000606 -1.765018\n",
        "3  0.043453  0.015605  0.001691 -0.280883\n",
        "4  0.045144  0.015615  0.003136 -0.032140\n",
        "\n",
        "[5 rows x 4 columns]\n",
        "x -0.458166674197 0.34145890262\n",
        "y -0.369421099121 0.447598789216\n",
        "v -0.0318102479258 0.621924514849\n",
        "dtheta -3.14630647699 3.15655174684\n"
       ]
      }
     ],
     "prompt_number": 58
    },
    {
     "cell_type": "code",
     "collapsed": false,
     "input": [
      "n = noisy\n",
      "thresh = 500\n",
      "x, y = he.smooth_locally(x=n['x'], y=n['y'], time=noisy.index, threshold=thresh)\n",
      "print len(n), len(x), len(y[:-1])\n",
      "h10 = cent.xy_to_full_dataframe(times=n.index, x=x[:-1], y=y[:-1])\n",
      "\n",
      "thresh = 100\n",
      "x, y = he.smooth_locally(x=n['x'], y=n['y'], time=noisy.index, threshold=thresh)\n",
      "print len(n), len(x), len(y[:-1])\n",
      "h30 = cent.xy_to_full_dataframe(times=n.index, x=x[:-1], y=y[:-1])\n",
      "\n",
      "#se.plot_smoothing_explorer(soln, sets=[n, h10, h30], labels=['noisy', 'thresh500','thresh100' ])\n",
      "se.plot_smoothing_explorer(soln, sets=[h10, h30], labels=['thresh10','thresh30' ])\n",
      "plt.show()\n"
     ],
     "language": "python",
     "metadata": {},
     "outputs": [
      {
       "output_type": "stream",
       "stream": "stdout",
       "text": [
        "3600 3601 3600\n",
        "nan counts"
       ]
      },
      {
       "output_type": "stream",
       "stream": "stdout",
       "text": [
        " 0\n",
        "3600 3600 3600 3600 3600\n",
        "          x         y         v        dtheta\n",
        "0  0.169990  0.012411  0.009461           NaN\n",
        "1  0.176412  0.005464  0.009461  1.490116e-08\n",
        "2  0.182835 -0.001482  0.009461 -0.000000e+00\n",
        "3  0.189258 -0.008429  0.009461  0.000000e+00\n",
        "4  0.195680 -0.015375  0.009461  0.000000e+00\n",
        "\n",
        "[5 rows x 4 columns]\n",
        "3600"
       ]
      },
      {
       "output_type": "stream",
       "stream": "stdout",
       "text": [
        " 3601 3600\n",
        "nan counts"
       ]
      }
     ]
    },
    {
     "cell_type": "code",
     "collapsed": false,
     "input": [
      "n = smoothed35\n",
      "t = n.index\n",
      "xy = zip(list(n['x']), list(n['y']))\n",
      "#new = new_smooth_xy(times=t, xy=xy)\n",
      "new2 = new_smooth_xy2(times=t, xy=xy)\n",
      "se.plot_smoothing_explorer(soln, sets=[new2], labels=['segmented'])\n",
      "plt.show()\n"
     ],
     "language": "python",
     "metadata": {},
     "outputs": [
      {
       "output_type": "stream",
       "stream": "stdout",
       "text": [
        "3600 3600\n",
        "check"
       ]
      },
      {
       "output_type": "stream",
       "stream": "stdout",
       "text": [
        " 3599 3599 3599\n",
        "nan counts"
       ]
      },
      {
       "output_type": "stream",
       "stream": "stdout",
       "text": [
        " 793\n",
        "check2 3600 3600 3600 3600 3600\n",
        "check3 3600 3600 5050\n",
        "x -0.167310085034 0.212816978621\n",
        "y -0.192922858043 0.335936879432\n",
        "v -0.0309902722704 0.0377167805491\n",
        "dtheta -3.13710495077 3.14608032661\n"
       ]
      }
     ],
     "prompt_number": 142
    },
    {
     "cell_type": "code",
     "collapsed": false,
     "input": [
      "n = smoothed11\n",
      "t = n.index\n",
      "xy = zip(list(n['x']), list(n['y']))\n",
      "#new = new_smooth_xy(times=t, xy=xy)\n",
      "new2 = new_smooth_xy2(times=t, xy=xy)\n",
      "se.plot_smoothing_explorer(soln, sets=[smoothed35, new2], labels=['smoothed35', 'segmented'])\n",
      "plt.show()\n"
     ],
     "language": "python",
     "metadata": {},
     "outputs": [
      {
       "output_type": "stream",
       "stream": "stdout",
       "text": [
        "3600 3600\n",
        "check"
       ]
      },
      {
       "output_type": "stream",
       "stream": "stdout",
       "text": [
        " 3599 3599 3599\n",
        "nan counts"
       ]
      },
      {
       "output_type": "stream",
       "stream": "stdout",
       "text": [
        " 935\n",
        "check2 3600 3600 3600 3600 3600\n",
        "check3 3600 3600 5419\n",
        "x -0.278963834032 0.214376043257\n",
        "y -0.412702721715 0.362840973789\n",
        "v -0.0338809188281 0.0513776999029\n",
        "dtheta -3.14908507422 3.1540287409\n"
       ]
      }
     ],
     "prompt_number": 148
    },
    {
     "cell_type": "code",
     "collapsed": false,
     "input": [
      "N = 20\n",
      "xy = zip(range(N), range(10, N + 10))\n",
      "domains = [[2, 10], [15,17]]\n",
      "xy2 = wd.homogenize_domains(xy, domains)\n",
      "xy3 = wd.reduce_domains(xy2, domains)\n",
      "xy4 = wd.expand_domains(xy3, domains)\n",
      "\n",
      "print xy2\n",
      "print\n",
      "print xy3\n",
      "print \n",
      "print xy4\n",
      "\n",
      "print len(xy)\n",
      "print len(xy2)\n",
      "print len(xy3)\n",
      "print len(xy4)"
     ],
     "language": "python",
     "metadata": {},
     "outputs": [
      {
       "output_type": "stream",
       "stream": "stdout",
       "text": [
        "[(0, 10), (1, 11), (6.0, 16.0), (6.0, 16.0), (6.0, 16.0), (6.0, 16.0), (6.0, 16.0), (6.0, 16.0), (6.0, 16.0), (6.0, 16.0), (6.0, 16.0), (11, 21), (12, 22), (13, 23), (14, 24), (16.0, 26.0), (16.0, 26.0), (16.0, 26.0), (18, 28), (19, 29)]\n",
        "\n",
        "[(0, 10), (1, 11), (6.0, 16.0), (6.0, 16.0), (11, 21), (12, 22), (13, 23), (14, 24), (16.0, 26.0), (16.0, 26.0), (18, 28), (19, 29)]\n",
        "\n",
        "[(0, 10), (1, 11), (6.0, 16.0), (6.0, 16.0), (6.0, 16.0), (6.0, 16.0), (6.0, 16.0), (6.0, 16.0), (6.0, 16.0), (6.0, 16.0), (6.0, 16.0), (11, 21), (12, 22), (13, 23), (14, 24), (16.0, 26.0), (16.0, 26.0), (16.0, 26.0), (18, 28), (19, 29)]\n",
        "20\n",
        "20\n",
        "12\n",
        "20\n"
       ]
      }
     ],
     "prompt_number": 116
    },
    {
     "cell_type": "markdown",
     "metadata": {},
     "source": [
      "TODO:\n",
      "\n",
      "\n",
      "need to get angle and speed calcs integrated into the standard analysis.\n",
      "in particular, how to calc angles.\n",
      "method 1:\n",
      "\n",
      "- convert domains to a boolean list.\n",
      "- loop throug xy and keep everything that isn't in domain.\n",
      "- when you get to domain, replace it with a single xy.\n",
      "- calculate angles and speed as ususal\n",
      "- \n"
     ]
    },
    {
     "cell_type": "code",
     "collapsed": false,
     "input": [],
     "language": "python",
     "metadata": {},
     "outputs": [],
     "prompt_number": 25
    },
    {
     "cell_type": "code",
     "collapsed": false,
     "input": [],
     "language": "python",
     "metadata": {},
     "outputs": [],
     "prompt_number": 64
    },
    {
     "cell_type": "code",
     "collapsed": false,
     "input": [
      "sets = [smoothed35, smoothed75]\n",
      "labels = ['smooth35', 'smoothed75']\n",
      "#hists = se.compare_dfs(soln=soln, test_dfs=sets, labels=labels)\n",
      "se.plot_smoothing_explorer(soln, sets=sets[:], labels=labels[:])\n",
      "plt.show()"
     ],
     "language": "python",
     "metadata": {},
     "outputs": [
      {
       "output_type": "stream",
       "stream": "stdout",
       "text": [
        "x -0.104751468653 0.160962592906\n",
        "y -0.126160619054 0.209838848372\n",
        "v -0.0338809188281 0.0351253745012\n",
        "dtheta -3.13439755264 3.145958754\n"
       ]
      }
     ],
     "prompt_number": 140
    },
    {
     "cell_type": "code",
     "collapsed": false,
     "input": [
      "sets = [smoothed75, smoothed225]\n",
      "labels = ['smooth75', 'smoothed225']\n",
      "#hists = se.compare_dfs(soln=soln, test_dfs=sets, labels=labels)\n",
      "se.plot_smoothing_explorer(soln, sets=sets[:], labels=labels[:])\n",
      "plt.show()"
     ],
     "language": "python",
     "metadata": {},
     "outputs": [
      {
       "output_type": "stream",
       "stream": "stdout",
       "text": [
        "x -0.215950808965 0.19474014508\n",
        "y -0.278117853808 0.556107482526\n",
        "v -0.0334755188226 0.0262676974572\n",
        "dtheta -3.13439755264 3.14028594458\n"
       ]
      }
     ],
     "prompt_number": 107
    },
    {
     "cell_type": "code",
     "collapsed": false,
     "input": [],
     "language": "python",
     "metadata": {},
     "outputs": [],
     "prompt_number": 42
    },
    {
     "cell_type": "code",
     "collapsed": false,
     "input": [
      "sets = [noisy, smoothed11, smoothed35, smoothed75, smoothed225]\n",
      "labels = ['noise', 'smooth11', 'smooth35', 'smooth75', 'smooth225']\n",
      "#hists = se.compare_dfs(soln=soln, test_dfs=sets, labels=labels)\n",
      "se.plot_smoothing_explorer(soln, sets=sets[:], labels=labels[:])\n",
      "plt.show()"
     ],
     "language": "python",
     "metadata": {},
     "outputs": [
      {
       "output_type": "stream",
       "stream": "stdout",
       "text": [
        "x -0.458166674197 0.34145890262\n",
        "y -0.369421099121 0.556107482526\n",
        "v -0.0384909477038 0.621924514849\n",
        "dtheta -3.14776194483 3.15655174684\n"
       ]
      }
     ],
     "prompt_number": 147
    },
    {
     "cell_type": "code",
     "collapsed": false,
     "input": [
      "se.plot_smoothing_explorer(soln, sets=[noiseless], labels=['noiseless'])\n",
      "plt.show()"
     ],
     "language": "python",
     "metadata": {},
     "outputs": [
      {
       "output_type": "stream",
       "stream": "stdout",
       "text": [
        "x 0.0 0.0\n",
        "y 0.0 0.0\n",
        "v -9.02056207508e-16 8.50014503229e-16\n",
        "dtheta -2.75678652541e-12 3.65188781992e-12\n"
       ]
      }
     ],
     "prompt_number": 57
    },
    {
     "cell_type": "code",
     "collapsed": false,
     "input": [],
     "language": "python",
     "metadata": {},
     "outputs": []
    },
    {
     "cell_type": "code",
     "collapsed": false,
     "input": [],
     "language": "python",
     "metadata": {},
     "outputs": []
    },
    {
     "cell_type": "code",
     "collapsed": false,
     "input": [],
     "language": "python",
     "metadata": {},
     "outputs": []
    },
    {
     "cell_type": "code",
     "collapsed": false,
     "input": [],
     "language": "python",
     "metadata": {},
     "outputs": []
    },
    {
     "cell_type": "code",
     "collapsed": false,
     "input": [],
     "language": "python",
     "metadata": {},
     "outputs": []
    }
   ],
   "metadata": {}
  }
 ]
}