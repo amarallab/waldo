{
 "metadata": {
  "name": "",
  "signature": "sha256:43ebc51bfbab8f9288cd6eb5af1a2a41eb9631e764ce92f96188d5a3b59f4f02"
 },
 "nbformat": 3,
 "nbformat_minor": 0,
 "worksheets": [
  {
   "cells": [
    {
     "cell_type": "code",
     "collapsed": false,
     "input": [
      "import pandas as pd\n",
      "import numpy as np\n",
      "import math\n",
      "import matplotlib.pyplot as plt\n",
      "import matplotlib.gridspec as gridspec\n",
      "\n",
      "\n",
      "import copy\n",
      "import sys\n",
      "import os\n",
      "\n",
      "HERE = os.path.abspath('./')\n",
      "CODE_DIR = os.path.join(HERE, '..')\n",
      "SHARED_DIR = os.path.join(CODE_DIR, 'shared')\n",
      "\n",
      "sys.path.append(SHARED_DIR)\n",
      "sys.path.append(CODE_DIR)\n",
      "\n",
      "#for i in sys.path:\n",
      "#    print i\n",
      "\n",
      "#from fake_worm_creator import xy_to_full_dataframe, speeds_and_angles\n",
      "import smoothing_explorer as se\n",
      "import importing.centroid as cent\n",
      "import heltena.test_raw as he\n",
      "\n",
      "%load_ext autoreload\n",
      "%autoreload 2"
     ],
     "language": "python",
     "metadata": {},
     "outputs": [],
     "prompt_number": 2
    },
    {
     "cell_type": "code",
     "collapsed": false,
     "input": [],
     "language": "python",
     "metadata": {},
     "outputs": [],
     "prompt_number": 36
    },
    {
     "cell_type": "code",
     "collapsed": false,
     "input": [
      "d = HERE + '/data/smoothing/'\n",
      "\n",
      "def read(filename, directory=d):\n",
      "    return pd.read_csv('{d}{f}'.format(d=directory, f=filename), index_col=0)\n",
      "\n",
      "soln = read('soln.csv')\n",
      "noiseless = read('soln2.csv')\n",
      "noisy = read('noisy.csv')\n",
      "smoothed11 = read('smoothed11.csv')\n",
      "smoothed35 = read('smoothed35.csv')\n",
      "smoothed75 = read('smoothed75.csv')\n",
      "smoothed225 = read('smoothed225.csv')"
     ],
     "language": "python",
     "metadata": {},
     "outputs": [],
     "prompt_number": 3
    },
    {
     "cell_type": "code",
     "collapsed": false,
     "input": [
      "noisy.head()"
     ],
     "language": "python",
     "metadata": {},
     "outputs": [
      {
       "html": [
        "<div style=\"max-height:1000px;max-width:1500px;overflow:auto;\">\n",
        "<table border=\"1\" class=\"dataframe\">\n",
        "  <thead>\n",
        "    <tr style=\"text-align: right;\">\n",
        "      <th></th>\n",
        "      <th>x</th>\n",
        "      <th>y</th>\n",
        "      <th>v</th>\n",
        "      <th>dtheta</th>\n",
        "    </tr>\n",
        "  </thead>\n",
        "  <tbody>\n",
        "    <tr>\n",
        "      <th>0</th>\n",
        "      <td> 0.169990</td>\n",
        "      <td> 0.012411</td>\n",
        "      <td> 0.176856</td>\n",
        "      <td>      NaN</td>\n",
        "    </tr>\n",
        "    <tr>\n",
        "      <th>1</th>\n",
        "      <td> 0.091530</td>\n",
        "      <td> 0.170910</td>\n",
        "      <td> 0.193436</td>\n",
        "      <td> 2.545744</td>\n",
        "    </tr>\n",
        "    <tr>\n",
        "      <th>2</th>\n",
        "      <td> 0.065266</td>\n",
        "      <td>-0.020734</td>\n",
        "      <td> 0.060786</td>\n",
        "      <td>-2.118331</td>\n",
        "    </tr>\n",
        "    <tr>\n",
        "      <th>3</th>\n",
        "      <td> 0.018143</td>\n",
        "      <td> 0.017664</td>\n",
        "      <td> 0.108025</td>\n",
        "      <td>-0.627949</td>\n",
        "    </tr>\n",
        "    <tr>\n",
        "      <th>4</th>\n",
        "      <td>-0.009536</td>\n",
        "      <td> 0.122083</td>\n",
        "      <td> 0.142746</td>\n",
        "      <td>-2.857522</td>\n",
        "    </tr>\n",
        "  </tbody>\n",
        "</table>\n",
        "<p>5 rows \u00d7 4 columns</p>\n",
        "</div>"
       ],
       "metadata": {},
       "output_type": "pyout",
       "prompt_number": 4,
       "text": [
        "          x         y         v    dtheta\n",
        "0  0.169990  0.012411  0.176856       NaN\n",
        "1  0.091530  0.170910  0.193436  2.545744\n",
        "2  0.065266 -0.020734  0.060786 -2.118331\n",
        "3  0.018143  0.017664  0.108025 -0.627949\n",
        "4 -0.009536  0.122083  0.142746 -2.857522\n",
        "\n",
        "[5 rows x 4 columns]"
       ]
      }
     ],
     "prompt_number": 4
    },
    {
     "cell_type": "markdown",
     "metadata": {},
     "source": [
      "basic data has been imported.\n",
      "calculate domains."
     ]
    },
    {
     "cell_type": "code",
     "collapsed": false,
     "input": [
      "n = noisy\n",
      "seg, domains = cent.full_package(times=n.index, x=n['x'], y=n['y'])\n",
      "#se.plot_smoothing_explorer(soln, sets=[noisy, seg], labels=['noisy', 'seg'])\n",
      "#plt.show()\n",
      "print domains\n",
      "starts, ends = zip(*domains)"
     ],
     "language": "python",
     "metadata": {},
     "outputs": [
      {
       "output_type": "stream",
       "stream": "stdout",
       "text": [
        "[[29, 72], [74, 128], [146, 308], [320, 351], [397, 429], [430, 469], [490, 521], [547, 592], [641, 720], [765, 803], [804, 1035], [1057, 1091], [1124, 1203], [1234, 1273], [1304, 1348], [1453, 1499], [1630, 1689], [2719, 2758], [2761, 2792], [2820, 2923], [2973, 3024], [3097, 3136], [3224, 3259], [3280, 3580]]\n"
       ]
      }
     ],
     "prompt_number": 35
    },
    {
     "cell_type": "code",
     "collapsed": false,
     "input": [
      "\n",
      "def stopgo_domains(stop_domains, last, first=0.0):\n",
      "    \n",
      "    last_d = [first, domains[0][0]]\n",
      "    new_d = domains[0]\n",
      "    full = [(last_d[0], last_d[1], True),\n",
      "            (new_d[0], new_d[1], False)]\n",
      "\n",
      "    for d in domains[1:]:\n",
      "        new_d, last_d = d, new_d\n",
      "        full.extend([(last_d[1], new_d[0], True),  # moving\n",
      "                     (new_d[0], new_d[1], False)]) # not moving\n",
      "\n",
      "    full.extend([(last_d[1], last, True)])\n",
      "    #df = pd.DataFrame()\n",
      "    df = pd.DataFrame(data=full, columns=['start', 'end', 'moving'])\n",
      "    df['dur'] =  df['end'] - df['start']\n",
      "    df = df.set_index('start')\n",
      "    return df\n",
      "\n",
      "last = list(n.index)[-1]  \n",
      "df = stopgo_domains(stop_domains=domains, last=last)\n",
      "times = np.array(df.index)\n",
      "data = np.array(df[df.columns])\n",
      "print 't', times.shape\n",
      "print 'd', data.shape\n"
     ],
     "language": "python",
     "metadata": {},
     "outputs": [
      {
       "output_type": "stream",
       "stream": "stdout",
       "text": [
        "t (49,)\n",
        "d (49, 3)\n"
       ]
      }
     ],
     "prompt_number": 81
    },
    {
     "cell_type": "code",
     "collapsed": false,
     "input": [
      "df = pd.DataFrame(data=domains, columns=['start', 'end'])\n",
      "df['stop_dur'] =  df['end'] - df['start']\n",
      "df['go_dur'] =  df['start'].shift(-1) - df['end'] \n",
      "df = df.set_index('start')\n",
      "df.head()"
     ],
     "language": "python",
     "metadata": {},
     "outputs": [
      {
       "html": [
        "<div style=\"max-height:1000px;max-width:1500px;overflow:auto;\">\n",
        "<table border=\"1\" class=\"dataframe\">\n",
        "  <thead>\n",
        "    <tr style=\"text-align: right;\">\n",
        "      <th></th>\n",
        "      <th>end</th>\n",
        "      <th>stop_dur</th>\n",
        "      <th>go_dur</th>\n",
        "    </tr>\n",
        "    <tr>\n",
        "      <th>start</th>\n",
        "      <th></th>\n",
        "      <th></th>\n",
        "      <th></th>\n",
        "    </tr>\n",
        "  </thead>\n",
        "  <tbody>\n",
        "    <tr>\n",
        "      <th>29 </th>\n",
        "      <td>  72</td>\n",
        "      <td>  43</td>\n",
        "      <td>  2</td>\n",
        "    </tr>\n",
        "    <tr>\n",
        "      <th>74 </th>\n",
        "      <td> 128</td>\n",
        "      <td>  54</td>\n",
        "      <td> 18</td>\n",
        "    </tr>\n",
        "    <tr>\n",
        "      <th>146</th>\n",
        "      <td> 308</td>\n",
        "      <td> 162</td>\n",
        "      <td> 12</td>\n",
        "    </tr>\n",
        "    <tr>\n",
        "      <th>320</th>\n",
        "      <td> 351</td>\n",
        "      <td>  31</td>\n",
        "      <td> 46</td>\n",
        "    </tr>\n",
        "    <tr>\n",
        "      <th>397</th>\n",
        "      <td> 429</td>\n",
        "      <td>  32</td>\n",
        "      <td>  1</td>\n",
        "    </tr>\n",
        "  </tbody>\n",
        "</table>\n",
        "<p>5 rows \u00d7 3 columns</p>\n",
        "</div>"
       ],
       "metadata": {},
       "output_type": "pyout",
       "prompt_number": 29,
       "text": [
        "       end  stop_dur  go_dur\n",
        "start                       \n",
        "29      72        43       2\n",
        "74     128        54      18\n",
        "146    308       162      12\n",
        "320    351        31      46\n",
        "397    429        32       1\n",
        "\n",
        "[5 rows x 3 columns]"
       ]
      }
     ],
     "prompt_number": 29
    },
    {
     "cell_type": "code",
     "collapsed": false,
     "input": [
      "n = noisy\n",
      "thresh = 500\n",
      "x, y = he.smooth_locally(x=n['x'], y=n['y'], time=noisy.index, threshold=thresh)\n",
      "print len(n), len(x), len(y[:-1])\n",
      "h10 = cent.xy_to_full_dataframe(times=n.index, x=x[:-1], y=y[:-1])\n",
      "\n",
      "thresh = 100\n",
      "x, y = he.smooth_locally(x=n['x'], y=n['y'], time=noisy.index, threshold=thresh)\n",
      "print len(n), len(x), len(y[:-1])\n",
      "h30 = cent.xy_to_full_dataframe(times=n.index, x=x[:-1], y=y[:-1])\n",
      "\n",
      "#se.plot_smoothing_explorer(soln, sets=[n, h10, h30], labels=['noisy', 'thresh500','thresh100' ])\n",
      "se.plot_smoothing_explorer(soln, sets=[h10, h30], labels=['thresh10','thresh30' ])\n",
      "plt.show()\n"
     ],
     "language": "python",
     "metadata": {},
     "outputs": [
      {
       "output_type": "stream",
       "stream": "stdout",
       "text": [
        "3600 3601 3600\n",
        "3600"
       ]
      },
      {
       "output_type": "stream",
       "stream": "stdout",
       "text": [
        " 3601 3600\n",
        "x"
       ]
      },
      {
       "output_type": "stream",
       "stream": "stdout",
       "text": [
        " -0.311415382395 0.261110316145\n",
        "y -0.342570626613 0.374437638102\n",
        "v -0.0331757408881 0.0463087813716\n",
        "dtheta -3.11391513166 3.08741473031\n"
       ]
      },
      {
       "ename": "OverflowError",
       "evalue": "can't convert negative value to size_t",
       "output_type": "pyerr",
       "traceback": [
        "\u001b[1;31m---------------------------------------------------------------------------\u001b[0m\n\u001b[1;31mOverflowError\u001b[0m                             Traceback (most recent call last)",
        "\u001b[1;32m<ipython-input-5-6c8ec9bc0f1b>\u001b[0m in \u001b[0;36m<module>\u001b[1;34m()\u001b[0m\n\u001b[0;32m     12\u001b[0m \u001b[1;31m#se.plot_smoothing_explorer(soln, sets=[n, h10, h30], labels=['noisy', 'thresh500','thresh100' ])\u001b[0m\u001b[1;33m\u001b[0m\u001b[1;33m\u001b[0m\u001b[0m\n\u001b[0;32m     13\u001b[0m \u001b[0mse\u001b[0m\u001b[1;33m.\u001b[0m\u001b[0mplot_smoothing_explorer\u001b[0m\u001b[1;33m(\u001b[0m\u001b[0msoln\u001b[0m\u001b[1;33m,\u001b[0m \u001b[0msets\u001b[0m\u001b[1;33m=\u001b[0m\u001b[1;33m[\u001b[0m\u001b[0mh10\u001b[0m\u001b[1;33m,\u001b[0m \u001b[0mh30\u001b[0m\u001b[1;33m]\u001b[0m\u001b[1;33m,\u001b[0m \u001b[0mlabels\u001b[0m\u001b[1;33m=\u001b[0m\u001b[1;33m[\u001b[0m\u001b[1;34m'thresh10'\u001b[0m\u001b[1;33m,\u001b[0m\u001b[1;34m'thresh30'\u001b[0m \u001b[1;33m]\u001b[0m\u001b[1;33m)\u001b[0m\u001b[1;33m\u001b[0m\u001b[0m\n\u001b[1;32m---> 14\u001b[1;33m \u001b[0mplt\u001b[0m\u001b[1;33m.\u001b[0m\u001b[0mshow\u001b[0m\u001b[1;33m(\u001b[0m\u001b[1;33m)\u001b[0m\u001b[1;33m\u001b[0m\u001b[0m\n\u001b[0m",
        "\u001b[1;32m/usr/lib/pymodules/python2.7/matplotlib/pyplot.pyc\u001b[0m in \u001b[0;36mshow\u001b[1;34m(*args, **kw)\u001b[0m\n\u001b[0;32m    137\u001b[0m     \"\"\"\n\u001b[0;32m    138\u001b[0m     \u001b[1;32mglobal\u001b[0m \u001b[0m_show\u001b[0m\u001b[1;33m\u001b[0m\u001b[0m\n\u001b[1;32m--> 139\u001b[1;33m     \u001b[0m_show\u001b[0m\u001b[1;33m(\u001b[0m\u001b[1;33m*\u001b[0m\u001b[0margs\u001b[0m\u001b[1;33m,\u001b[0m \u001b[1;33m**\u001b[0m\u001b[0mkw\u001b[0m\u001b[1;33m)\u001b[0m\u001b[1;33m\u001b[0m\u001b[0m\n\u001b[0m\u001b[0;32m    140\u001b[0m \u001b[1;33m\u001b[0m\u001b[0m\n\u001b[0;32m    141\u001b[0m \u001b[1;33m\u001b[0m\u001b[0m\n",
        "\u001b[1;32m/usr/local/lib/python2.7/dist-packages/IPython/kernel/zmq/pylab/backend_inline.pyc\u001b[0m in \u001b[0;36mshow\u001b[1;34m(close)\u001b[0m\n\u001b[0;32m     41\u001b[0m     \u001b[1;32mtry\u001b[0m\u001b[1;33m:\u001b[0m\u001b[1;33m\u001b[0m\u001b[0m\n\u001b[0;32m     42\u001b[0m         \u001b[1;32mfor\u001b[0m \u001b[0mfigure_manager\u001b[0m \u001b[1;32min\u001b[0m \u001b[0mGcf\u001b[0m\u001b[1;33m.\u001b[0m\u001b[0mget_all_fig_managers\u001b[0m\u001b[1;33m(\u001b[0m\u001b[1;33m)\u001b[0m\u001b[1;33m:\u001b[0m\u001b[1;33m\u001b[0m\u001b[0m\n\u001b[1;32m---> 43\u001b[1;33m             \u001b[0mdisplay\u001b[0m\u001b[1;33m(\u001b[0m\u001b[0mfigure_manager\u001b[0m\u001b[1;33m.\u001b[0m\u001b[0mcanvas\u001b[0m\u001b[1;33m.\u001b[0m\u001b[0mfigure\u001b[0m\u001b[1;33m)\u001b[0m\u001b[1;33m\u001b[0m\u001b[0m\n\u001b[0m\u001b[0;32m     44\u001b[0m     \u001b[1;32mfinally\u001b[0m\u001b[1;33m:\u001b[0m\u001b[1;33m\u001b[0m\u001b[0m\n\u001b[0;32m     45\u001b[0m         \u001b[0mshow\u001b[0m\u001b[1;33m.\u001b[0m\u001b[0m_to_draw\u001b[0m \u001b[1;33m=\u001b[0m \u001b[1;33m[\u001b[0m\u001b[1;33m]\u001b[0m\u001b[1;33m\u001b[0m\u001b[0m\n",
        "\u001b[1;32m/usr/local/lib/python2.7/dist-packages/IPython/core/display.pyc\u001b[0m in \u001b[0;36mdisplay\u001b[1;34m(*objs, **kwargs)\u001b[0m\n\u001b[0;32m    133\u001b[0m                 \u001b[1;31m# kwarg-specified metadata gets precedence\u001b[0m\u001b[1;33m\u001b[0m\u001b[1;33m\u001b[0m\u001b[0m\n\u001b[0;32m    134\u001b[0m                 \u001b[0m_merge\u001b[0m\u001b[1;33m(\u001b[0m\u001b[0mmd_dict\u001b[0m\u001b[1;33m,\u001b[0m \u001b[0mmetadata\u001b[0m\u001b[1;33m)\u001b[0m\u001b[1;33m\u001b[0m\u001b[0m\n\u001b[1;32m--> 135\u001b[1;33m             \u001b[0mpublish_display_data\u001b[0m\u001b[1;33m(\u001b[0m\u001b[1;34m'display'\u001b[0m\u001b[1;33m,\u001b[0m \u001b[0mformat_dict\u001b[0m\u001b[1;33m,\u001b[0m \u001b[0mmd_dict\u001b[0m\u001b[1;33m)\u001b[0m\u001b[1;33m\u001b[0m\u001b[0m\n\u001b[0m\u001b[0;32m    136\u001b[0m \u001b[1;33m\u001b[0m\u001b[0m\n\u001b[0;32m    137\u001b[0m \u001b[1;33m\u001b[0m\u001b[0m\n",
        "\u001b[1;32m/usr/local/lib/python2.7/dist-packages/IPython/core/displaypub.pyc\u001b[0m in \u001b[0;36mpublish_display_data\u001b[1;34m(source, data, metadata)\u001b[0m\n\u001b[0;32m    172\u001b[0m         \u001b[0msource\u001b[0m\u001b[1;33m,\u001b[0m\u001b[1;33m\u001b[0m\u001b[0m\n\u001b[0;32m    173\u001b[0m         \u001b[0mdata\u001b[0m\u001b[1;33m,\u001b[0m\u001b[1;33m\u001b[0m\u001b[0m\n\u001b[1;32m--> 174\u001b[1;33m         \u001b[0mmetadata\u001b[0m\u001b[1;33m\u001b[0m\u001b[0m\n\u001b[0m\u001b[0;32m    175\u001b[0m     )\n\u001b[0;32m    176\u001b[0m \u001b[1;33m\u001b[0m\u001b[0m\n",
        "\u001b[1;32m/usr/local/lib/python2.7/dist-packages/IPython/kernel/zmq/zmqshell.pyc\u001b[0m in \u001b[0;36mpublish\u001b[1;34m(self, source, data, metadata)\u001b[0m\n\u001b[0;32m     86\u001b[0m         self.session.send(\n\u001b[0;32m     87\u001b[0m             \u001b[0mself\u001b[0m\u001b[1;33m.\u001b[0m\u001b[0mpub_socket\u001b[0m\u001b[1;33m,\u001b[0m \u001b[1;34mu'display_data'\u001b[0m\u001b[1;33m,\u001b[0m \u001b[0mjson_clean\u001b[0m\u001b[1;33m(\u001b[0m\u001b[0mcontent\u001b[0m\u001b[1;33m)\u001b[0m\u001b[1;33m,\u001b[0m\u001b[1;33m\u001b[0m\u001b[0m\n\u001b[1;32m---> 88\u001b[1;33m             \u001b[0mparent\u001b[0m\u001b[1;33m=\u001b[0m\u001b[0mself\u001b[0m\u001b[1;33m.\u001b[0m\u001b[0mparent_header\u001b[0m\u001b[1;33m,\u001b[0m \u001b[0mident\u001b[0m\u001b[1;33m=\u001b[0m\u001b[0mself\u001b[0m\u001b[1;33m.\u001b[0m\u001b[0mtopic\u001b[0m\u001b[1;33m,\u001b[0m\u001b[1;33m\u001b[0m\u001b[0m\n\u001b[0m\u001b[0;32m     89\u001b[0m         )\n\u001b[0;32m     90\u001b[0m \u001b[1;33m\u001b[0m\u001b[0m\n",
        "\u001b[1;32m/usr/local/lib/python2.7/dist-packages/IPython/kernel/zmq/session.pyc\u001b[0m in \u001b[0;36msend\u001b[1;34m(self, stream, msg_or_type, content, parent, ident, buffers, track, header, metadata)\u001b[0m\n\u001b[0;32m    644\u001b[0m             \u001b[1;31m# use dummy tracker, which will be done immediately\u001b[0m\u001b[1;33m\u001b[0m\u001b[1;33m\u001b[0m\u001b[0m\n\u001b[0;32m    645\u001b[0m             \u001b[0mtracker\u001b[0m \u001b[1;33m=\u001b[0m \u001b[0mDONE\u001b[0m\u001b[1;33m\u001b[0m\u001b[0m\n\u001b[1;32m--> 646\u001b[1;33m             \u001b[0mstream\u001b[0m\u001b[1;33m.\u001b[0m\u001b[0msend_multipart\u001b[0m\u001b[1;33m(\u001b[0m\u001b[0mto_send\u001b[0m\u001b[1;33m,\u001b[0m \u001b[0mcopy\u001b[0m\u001b[1;33m=\u001b[0m\u001b[0mcopy\u001b[0m\u001b[1;33m)\u001b[0m\u001b[1;33m\u001b[0m\u001b[0m\n\u001b[0m\u001b[0;32m    647\u001b[0m \u001b[1;33m\u001b[0m\u001b[0m\n\u001b[0;32m    648\u001b[0m         \u001b[1;32mif\u001b[0m \u001b[0mself\u001b[0m\u001b[1;33m.\u001b[0m\u001b[0mdebug\u001b[0m\u001b[1;33m:\u001b[0m\u001b[1;33m\u001b[0m\u001b[0m\n",
        "\u001b[1;32m/usr/local/lib/python2.7/dist-packages/zmq/sugar/socket.pyc\u001b[0m in \u001b[0;36msend_multipart\u001b[1;34m(self, msg_parts, flags, copy, track)\u001b[0m\n\u001b[0;32m    263\u001b[0m         \"\"\"\n\u001b[0;32m    264\u001b[0m         \u001b[1;32mfor\u001b[0m \u001b[0mmsg\u001b[0m \u001b[1;32min\u001b[0m \u001b[0mmsg_parts\u001b[0m\u001b[1;33m[\u001b[0m\u001b[1;33m:\u001b[0m\u001b[1;33m-\u001b[0m\u001b[1;36m1\u001b[0m\u001b[1;33m]\u001b[0m\u001b[1;33m:\u001b[0m\u001b[1;33m\u001b[0m\u001b[0m\n\u001b[1;32m--> 265\u001b[1;33m             \u001b[0mself\u001b[0m\u001b[1;33m.\u001b[0m\u001b[0msend\u001b[0m\u001b[1;33m(\u001b[0m\u001b[0mmsg\u001b[0m\u001b[1;33m,\u001b[0m \u001b[0mSNDMORE\u001b[0m\u001b[1;33m|\u001b[0m\u001b[0mflags\u001b[0m\u001b[1;33m,\u001b[0m \u001b[0mcopy\u001b[0m\u001b[1;33m=\u001b[0m\u001b[0mcopy\u001b[0m\u001b[1;33m,\u001b[0m \u001b[0mtrack\u001b[0m\u001b[1;33m=\u001b[0m\u001b[0mtrack\u001b[0m\u001b[1;33m)\u001b[0m\u001b[1;33m\u001b[0m\u001b[0m\n\u001b[0m\u001b[0;32m    266\u001b[0m         \u001b[1;31m# Send the last part without the extra SNDMORE flag.\u001b[0m\u001b[1;33m\u001b[0m\u001b[1;33m\u001b[0m\u001b[0m\n\u001b[0;32m    267\u001b[0m         \u001b[1;32mreturn\u001b[0m \u001b[0mself\u001b[0m\u001b[1;33m.\u001b[0m\u001b[0msend\u001b[0m\u001b[1;33m(\u001b[0m\u001b[0mmsg_parts\u001b[0m\u001b[1;33m[\u001b[0m\u001b[1;33m-\u001b[0m\u001b[1;36m1\u001b[0m\u001b[1;33m]\u001b[0m\u001b[1;33m,\u001b[0m \u001b[0mflags\u001b[0m\u001b[1;33m,\u001b[0m \u001b[0mcopy\u001b[0m\u001b[1;33m=\u001b[0m\u001b[0mcopy\u001b[0m\u001b[1;33m,\u001b[0m \u001b[0mtrack\u001b[0m\u001b[1;33m=\u001b[0m\u001b[0mtrack\u001b[0m\u001b[1;33m)\u001b[0m\u001b[1;33m\u001b[0m\u001b[0m\n",
        "\u001b[1;32m/usr/local/lib/python2.7/dist-packages/zmq/backend/cython/socket.so\u001b[0m in \u001b[0;36mzmq.backend.cython.socket.Socket.send (zmq/backend/cython/socket.c:5461)\u001b[1;34m()\u001b[0m\n",
        "\u001b[1;32m/usr/local/lib/python2.7/dist-packages/zmq/backend/cython/socket.so\u001b[0m in \u001b[0;36mzmq.backend.cython.socket.Socket.send (zmq/backend/cython/socket.c:5309)\u001b[1;34m()\u001b[0m\n",
        "\u001b[1;32m/usr/local/lib/python2.7/dist-packages/zmq/backend/cython/message.so\u001b[0m in \u001b[0;36mzmq.backend.cython.message.Frame.__cinit__ (zmq/backend/cython/message.c:1681)\u001b[1;34m()\u001b[0m\n",
        "\u001b[1;31mOverflowError\u001b[0m: can't convert negative value to size_t"
       ]
      }
     ],
     "prompt_number": 5
    },
    {
     "cell_type": "code",
     "collapsed": false,
     "input": [
      "n = smoothed35\n",
      "t = n.index\n",
      "xy = zip(list(n['x']), list(n['y']))\n",
      "#new = new_smooth_xy(times=t, xy=xy)\n",
      "new2 = new_smooth_xy2(times=t, xy=xy)\n",
      "se.plot_smoothing_explorer(soln, sets=[new2], labels=['segmented'])\n",
      "plt.show()\n"
     ],
     "language": "python",
     "metadata": {},
     "outputs": [
      {
       "output_type": "stream",
       "stream": "stdout",
       "text": [
        "3600 3600\n",
        "check"
       ]
      },
      {
       "output_type": "stream",
       "stream": "stdout",
       "text": [
        " 3599 3599 3599\n",
        "nan counts"
       ]
      },
      {
       "output_type": "stream",
       "stream": "stdout",
       "text": [
        " 793\n",
        "check2 3600 3600 3600 3600 3600\n",
        "check3 3600 3600 5050\n",
        "x -0.167310085034 0.212816978621\n",
        "y -0.192922858043 0.335936879432\n",
        "v -0.0309902722704 0.0377167805491\n",
        "dtheta -3.13710495077 3.14608032661\n"
       ]
      }
     ],
     "prompt_number": 142
    },
    {
     "cell_type": "code",
     "collapsed": false,
     "input": [
      "n = smoothed11\n",
      "t = n.index\n",
      "xy = zip(list(n['x']), list(n['y']))\n",
      "#new = new_smooth_xy(times=t, xy=xy)\n",
      "new2 = new_smooth_xy2(times=t, xy=xy)\n",
      "se.plot_smoothing_explorer(soln, sets=[smoothed35, new2], labels=['smoothed35', 'segmented'])\n",
      "plt.show()\n"
     ],
     "language": "python",
     "metadata": {},
     "outputs": [
      {
       "output_type": "stream",
       "stream": "stdout",
       "text": [
        "3600 3600\n",
        "check"
       ]
      },
      {
       "output_type": "stream",
       "stream": "stdout",
       "text": [
        " 3599 3599 3599\n",
        "nan counts"
       ]
      },
      {
       "output_type": "stream",
       "stream": "stdout",
       "text": [
        " 935\n",
        "check2 3600 3600 3600 3600 3600\n",
        "check3 3600 3600 5419\n",
        "x -0.278963834032 0.214376043257\n",
        "y -0.412702721715 0.362840973789\n",
        "v -0.0338809188281 0.0513776999029\n",
        "dtheta -3.14908507422 3.1540287409\n"
       ]
      }
     ],
     "prompt_number": 148
    },
    {
     "cell_type": "code",
     "collapsed": false,
     "input": [
      "N = 20\n",
      "xy = zip(range(N), range(10, N + 10))\n",
      "domains = [[2, 10], [15,17]]\n",
      "xy2 = wd.homogenize_domains(xy, domains)\n",
      "xy3 = wd.reduce_domains(xy2, domains)\n",
      "xy4 = wd.expand_domains(xy3, domains)\n",
      "\n",
      "print xy2\n",
      "print\n",
      "print xy3\n",
      "print \n",
      "print xy4\n",
      "\n",
      "print len(xy)\n",
      "print len(xy2)\n",
      "print len(xy3)\n",
      "print len(xy4)"
     ],
     "language": "python",
     "metadata": {},
     "outputs": [
      {
       "output_type": "stream",
       "stream": "stdout",
       "text": [
        "[(0, 10), (1, 11), (6.0, 16.0), (6.0, 16.0), (6.0, 16.0), (6.0, 16.0), (6.0, 16.0), (6.0, 16.0), (6.0, 16.0), (6.0, 16.0), (6.0, 16.0), (11, 21), (12, 22), (13, 23), (14, 24), (16.0, 26.0), (16.0, 26.0), (16.0, 26.0), (18, 28), (19, 29)]\n",
        "\n",
        "[(0, 10), (1, 11), (6.0, 16.0), (6.0, 16.0), (11, 21), (12, 22), (13, 23), (14, 24), (16.0, 26.0), (16.0, 26.0), (18, 28), (19, 29)]\n",
        "\n",
        "[(0, 10), (1, 11), (6.0, 16.0), (6.0, 16.0), (6.0, 16.0), (6.0, 16.0), (6.0, 16.0), (6.0, 16.0), (6.0, 16.0), (6.0, 16.0), (6.0, 16.0), (11, 21), (12, 22), (13, 23), (14, 24), (16.0, 26.0), (16.0, 26.0), (16.0, 26.0), (18, 28), (19, 29)]\n",
        "20\n",
        "20\n",
        "12\n",
        "20\n"
       ]
      }
     ],
     "prompt_number": 116
    },
    {
     "cell_type": "markdown",
     "metadata": {},
     "source": [
      "TODO:\n",
      "\n",
      "\n",
      "need to get angle and speed calcs integrated into the standard analysis.\n",
      "in particular, how to calc angles.\n",
      "method 1:\n",
      "\n",
      "- convert domains to a boolean list.\n",
      "- loop throug xy and keep everything that isn't in domain.\n",
      "- when you get to domain, replace it with a single xy.\n",
      "- calculate angles and speed as ususal\n",
      "- \n"
     ]
    },
    {
     "cell_type": "code",
     "collapsed": false,
     "input": [],
     "language": "python",
     "metadata": {},
     "outputs": [],
     "prompt_number": 25
    },
    {
     "cell_type": "code",
     "collapsed": false,
     "input": [],
     "language": "python",
     "metadata": {},
     "outputs": [],
     "prompt_number": 64
    },
    {
     "cell_type": "code",
     "collapsed": false,
     "input": [
      "sets = [smoothed35, smoothed75]\n",
      "labels = ['smooth35', 'smoothed75']\n",
      "#hists = se.compare_dfs(soln=soln, test_dfs=sets, labels=labels)\n",
      "se.plot_smoothing_explorer(soln, sets=sets[:], labels=labels[:])\n",
      "plt.show()"
     ],
     "language": "python",
     "metadata": {},
     "outputs": [
      {
       "output_type": "stream",
       "stream": "stdout",
       "text": [
        "x -0.104751468653 0.160962592906\n",
        "y -0.126160619054 0.209838848372\n",
        "v -0.0338809188281 0.0351253745012\n",
        "dtheta -3.13439755264 3.145958754\n"
       ]
      }
     ],
     "prompt_number": 140
    },
    {
     "cell_type": "code",
     "collapsed": false,
     "input": [
      "sets = [smoothed75, smoothed225]\n",
      "labels = ['smooth75', 'smoothed225']\n",
      "#hists = se.compare_dfs(soln=soln, test_dfs=sets, labels=labels)\n",
      "se.plot_smoothing_explorer(soln, sets=sets[:], labels=labels[:])\n",
      "plt.show()"
     ],
     "language": "python",
     "metadata": {},
     "outputs": [
      {
       "output_type": "stream",
       "stream": "stdout",
       "text": [
        "x -0.215950808965 0.19474014508\n",
        "y -0.278117853808 0.556107482526\n",
        "v -0.0334755188226 0.0262676974572\n",
        "dtheta -3.13439755264 3.14028594458\n"
       ]
      }
     ],
     "prompt_number": 107
    },
    {
     "cell_type": "code",
     "collapsed": false,
     "input": [],
     "language": "python",
     "metadata": {},
     "outputs": [],
     "prompt_number": 42
    },
    {
     "cell_type": "code",
     "collapsed": false,
     "input": [
      "sets = [noisy, smoothed11, smoothed35, smoothed75, smoothed225]\n",
      "labels = ['noise', 'smooth11', 'smooth35', 'smooth75', 'smooth225']\n",
      "#hists = se.compare_dfs(soln=soln, test_dfs=sets, labels=labels)\n",
      "se.plot_smoothing_explorer(soln, sets=sets[:], labels=labels[:])\n",
      "plt.show()"
     ],
     "language": "python",
     "metadata": {},
     "outputs": [
      {
       "output_type": "stream",
       "stream": "stdout",
       "text": [
        "x -0.458166674197 0.34145890262\n",
        "y -0.369421099121 0.556107482526\n",
        "v -0.0384909477038 0.621924514849\n",
        "dtheta -3.14776194483 3.15655174684\n"
       ]
      }
     ],
     "prompt_number": 147
    },
    {
     "cell_type": "code",
     "collapsed": false,
     "input": [
      "se.plot_smoothing_explorer(soln, sets=[noiseless], labels=['noiseless'])\n",
      "plt.show()"
     ],
     "language": "python",
     "metadata": {},
     "outputs": [
      {
       "output_type": "stream",
       "stream": "stdout",
       "text": [
        "x 0.0 0.0\n",
        "y 0.0 0.0\n",
        "v -9.02056207508e-16 8.50014503229e-16\n",
        "dtheta -2.75678652541e-12 3.65188781992e-12\n"
       ]
      }
     ],
     "prompt_number": 57
    },
    {
     "cell_type": "code",
     "collapsed": false,
     "input": [],
     "language": "python",
     "metadata": {},
     "outputs": []
    },
    {
     "cell_type": "code",
     "collapsed": false,
     "input": [],
     "language": "python",
     "metadata": {},
     "outputs": []
    },
    {
     "cell_type": "code",
     "collapsed": false,
     "input": [],
     "language": "python",
     "metadata": {},
     "outputs": []
    },
    {
     "cell_type": "code",
     "collapsed": false,
     "input": [],
     "language": "python",
     "metadata": {},
     "outputs": []
    },
    {
     "cell_type": "code",
     "collapsed": false,
     "input": [],
     "language": "python",
     "metadata": {},
     "outputs": []
    }
   ],
   "metadata": {}
  }
 ]
}