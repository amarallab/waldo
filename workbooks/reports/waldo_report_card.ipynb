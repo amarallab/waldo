{
 "cells": [
  {
   "cell_type": "code",
   "execution_count": 1,
   "metadata": {
    "collapsed": false
   },
   "outputs": [],
   "source": [
    "%load_ext autoreload\n",
    "%autoreload 2\n",
    "\n",
    "%matplotlib inline"
   ]
  },
  {
   "cell_type": "code",
   "execution_count": 2,
   "metadata": {
    "collapsed": false
   },
   "outputs": [
    {
     "name": "stdout",
     "output_type": "stream",
     "text": [
      "Python 3.4.1 (default, Feb 28 2015 09:14:07) [GCC 4.2.1 Compatible Apple LLVM 6.0 (clang-600.0.56)] on darwin, Host: peters-MacBook-Air.local\n"
     ]
    },
    {
     "name": "stderr",
     "output_type": "stream",
     "text": [
      "/Users/peterwinter/.pyenv/versions/3.4.1/lib/python3.4/site-packages/mpltools/style/__init__.py:42: FutureWarning: \n",
      "\n",
      "    The style-sheet functionality in mpltools has been integrated into\n",
      "    Matplotlib >= 1.4. This module will be removed in a future release.\n",
      "\n",
      "    Note that style-sheets used by `matplotlib.style` use the standard\n",
      "    Matplotlib rc-file syntax instead of the INI format used by `mpltools`.\n",
      "    This mostly means un-quoting strings and changing '=' to ':'.\n",
      "\n",
      "\n",
      "  \"\"\", FutureWarning)\n"
     ]
    }
   ],
   "source": [
    "#from __future__ import print_function, absolute_import, unicode_literals, division\n",
    "#import six\n",
    "#from six.moves import (zip, filter, map, reduce, input, range)\n",
    "\n",
    "import sys\n",
    "\n",
    "sys.path.append('..')\n",
    "import about\n",
    "import pathcustomize\n",
    "\n",
    "#import os\n",
    "#import pathlib\n",
    "#import pickle\n",
    "#import platform\n",
    "about.about()\n",
    "\n",
    "import pandas as pd\n",
    "import math\n",
    "import random\n",
    "\n",
    "import matplotlib.pyplot as plt\n",
    "import prettyplotlib as ppl\n",
    "import matplotlib.gridspec as gridspec\n",
    "import matplotlib.patches as patches\n",
    "import matplotlib.path as path\n",
    "from mpltools import style\n",
    "from mpltools import layout\n",
    "from statsmodels.distributions.empirical_distribution import ECDF\n",
    "\n",
    "\n",
    "from waldo.conf import settings\n",
    "from waldo.wio.experiment import Experiment\n",
    "import waldo.metrics.report_card as report_card\n",
    "import waldo.collider\n",
    "import waldo.tape as tp\n",
    "import waldo.metrics.step_simulation as ssim\n",
    "#DATA_DIR = settings.LOGISTICS['filesystem_data']\n",
    "style.use('ggplot')"
   ]
  },
  {
   "cell_type": "markdown",
   "metadata": {},
   "source": [
    "# ALL FUNCTIONS"
   ]
  },
  {
   "cell_type": "code",
   "execution_count": 3,
   "metadata": {
    "collapsed": false
   },
   "outputs": [],
   "source": [
    "def bridge_gaps(experiment, graph, threshold=0.001):\n",
    "    taper = tp.Taper(experiment=experiment, graph=graph)\n",
    "    start, end = taper.find_start_and_end_nodes()\n",
    "    gaps = taper.score_potential_gaps(start, end)\n",
    "    gt = taper.greedy_tape(gaps, threshold=threshold, add_edges=True)\n",
    "    graph = taper._graph\n",
    "    \n"
   ]
  },
  {
   "cell_type": "code",
   "execution_count": 4,
   "metadata": {
    "collapsed": false
   },
   "outputs": [],
   "source": [
    "# def step_plot(ax, step_df, true_num=30, only_best=False):\n",
    "\n",
    "#     steps = []\n",
    "#     n_steps = len(step_df)\n",
    "\n",
    "#     xs = list(step_df['t0'])\n",
    "#     widths = list(step_df['lifespan'])\n",
    "#     height = 1\n",
    "\n",
    "#     color_cycle = ax._get_lines.color_cycle\n",
    "#     color1 = color_cycle.next()\n",
    "#     color2 = color_cycle.next()\n",
    "#     for y, (x, width) in enumerate(zip(xs, widths)):\n",
    "#         steps.append(patches.Rectangle((x,y), height=height, width=width,\n",
    "#                                        fill=True, fc=color1, ec=color1))\n",
    "#     for step in steps:\n",
    "#         ax.add_patch(step)\n",
    "\n",
    "#     xmax = 60\n",
    "#     ideal = patches.Rectangle((0,0), height=true_num, width=xmax,\n",
    "#                               fill=True, ec=color2, fc=color2,\n",
    "#                               alpha=0.5)\n",
    "\n",
    "#     ax.add_patch(ideal)\n",
    "#     ax.plot([0], color=color1, label='actual')\n",
    "#     ax.plot([0], color=color2, alpha=0.5, label='ideal')\n",
    "#     ax.set_xlim([0, xmax])\n",
    "#     ax.set_ylim([0, n_steps+1])\n",
    "\n",
    "def plot_steps(ax, df, dividers=[]):\n",
    "    label = 'hi'\n",
    "    step_df = df\n",
    "    n_steps = len(step_df)    \n",
    "    xmax = int(max(df['tN']))\n",
    "    ymax = n_steps + 1\n",
    "    steps = []\n",
    "    \n",
    "\n",
    "    xs = list(step_df['t0'])\n",
    "    widths = list(step_df['lifespan'])\n",
    "    height = 1\n",
    "\n",
    "    color = ax._get_lines.color_cycle.next()\n",
    "    for y, (x, width) in enumerate(zip(xs, widths)):\n",
    "        steps.append(patches.Rectangle((x,y), height=height, width=width,\n",
    "                                       fill=True, fc=color, ec=color))\n",
    "    for step in steps:\n",
    "        ax.add_patch(step)\n",
    "        \n",
    "    for d in dividers:\n",
    "        ax.plot([0, xmax], [d,d], color='black')\n",
    "        \n",
    "    ax.plot([0], color=color, label=label)\n",
    "    ax.set_xlim([0, xmax])\n",
    "    ax.set_ylim([0, ymax])\n",
    "    ax.set_xlabel('t (min)')\n",
    "    \n",
    "def make_dividers(step_dfs):\n",
    "    dividers = [len(i) for i in step_dfs]\n",
    "    dividers = [0] + dividers\n",
    "    return np.cumsum(dividers)  \n",
    "\n",
    "def step_plot(ax, df):\n",
    "    a = df.sort('lifespan', ascending=False)\n",
    "    a['mid'] = (a['tN'] + a['t0'])/2\n",
    "    xmax = int(max(a['tN']))\n",
    "\n",
    "    \n",
    "    short_is_less_than = 5 \n",
    "    long_is_greater_than = 40\n",
    "    front_back_margin = 10\n",
    "    \n",
    "    front_lim = front_back_margin\n",
    "    back_lim = xmax - front_back_margin\n",
    "\n",
    "    #shortest = a[a['lifespan'] <= short_is_less_than]\n",
    "    #a = a[a['lifespan'] > short_is_less_than]\n",
    "    #shortest.sort('tN', inplace=True, ascending=True)\n",
    "    #shortest.sort('t0', inplace=True, ascending=False)\n",
    "\n",
    "\n",
    "    #longest = a[a['lifespan'] >= long_is_greater_than]\n",
    "    #a = a[a['lifespan'] < long_is_greater_than]\n",
    "    #longest.sort('t0', inplace=True)\n",
    "    #longest.sort('tN', inplace=True, ascending=False)\n",
    "\n",
    "    front = a[a['t0'] <= front_lim]\n",
    "    a = a[a['t0'] > front_lim]\n",
    "    front.sort('tN', inplace=True, ascending=False)\n",
    "\n",
    "\n",
    "    back = a[a['tN'] >= back_lim]\n",
    "    a = a[a['tN'] < back_lim]\n",
    "    back.sort('t0', inplace=True, ascending=False)\n",
    "\n",
    "\n",
    "    mid = a\n",
    "    mid.sort('mid', inplace=True, ascending=False)\n",
    "\n",
    "    \n",
    "    steps = [front, mid, back]\n",
    "    a = pd.concat(steps)\n",
    "    div = make_dividers(steps)\n",
    "    plot_steps(ax,a, dividers=div)"
   ]
  },
  {
   "cell_type": "code",
   "execution_count": 5,
   "metadata": {
    "collapsed": false
   },
   "outputs": [],
   "source": [
    "def calculate_duration_data_from_graph(experiment, graph, node_ids=[]):\n",
    "    if not node_ids:\n",
    "        node_ids = graph.nodes(data=False)\n",
    "    \n",
    "    frame_times = experiment.frame_times\n",
    "    step_data, durations = [], []\n",
    "    for node in node_ids:\n",
    "        node_data = graph.node[node]\n",
    "        bf, df = node_data['born_f'], node_data['died_f']\n",
    "        t0 = frame_times[bf - 1]\n",
    "        tN = frame_times[df - 1]\n",
    "        step_data.append({'bid':node, 't0':t0, 'tN':tN, 'lifespan':tN-t0})\n",
    "\n",
    "    steps = pd.DataFrame(step_data)\n",
    "    steps.set_index('bid', inplace=True)\n",
    "    steps = steps / 60.0   # convert to minutes.\n",
    "    steps.sort('t0', inplace=True)\n",
    "    steps = steps[['t0', 'tN', 'lifespan']]\n",
    "    durations = np.array(steps['lifespan'])\n",
    "    return steps, durations\n"
   ]
  },
  {
   "cell_type": "code",
   "execution_count": 6,
   "metadata": {
    "collapsed": false
   },
   "outputs": [],
   "source": [
    "def make_cdf(ax, durations_list, label='', xmin=0, xmax=30):\n",
    "    x = np.linspace(xmin, xmax, 1000)\n",
    "    ecdf = ECDF(np.array(durations_list))\n",
    "    cdf = ecdf(x)\n",
    "    ax.plot(x, cdf, label=label, lw=2)\n",
    "    ax.set_xlabel('minutes')\n",
    "    ax.set_ylabel('CDF')\n"
   ]
  },
  {
   "cell_type": "code",
   "execution_count": 7,
   "metadata": {
    "collapsed": false
   },
   "outputs": [],
   "source": [
    "def find_nodes_containing_bids(graph, bids):\n",
    "    nodes_with_moved_bids = []\n",
    "    for node in graph:\n",
    "        if node in bids:\n",
    "            nodes_with_moved_bids.append(node)\n",
    "            continue\n",
    "        for c in graph.node[node].get('components', []):\n",
    "            if c in bids:\n",
    "                nodes_with_moved_bids.append(node)\n",
    "                break\n",
    "    return nodes_with_moved_bids"
   ]
  },
  {
   "cell_type": "code",
   "execution_count": 8,
   "metadata": {
    "collapsed": false
   },
   "outputs": [
    {
     "ename": "SyntaxError",
     "evalue": "invalid syntax (<ipython-input-8-0f305f2cc47c>, line 7)",
     "output_type": "error",
     "traceback": [
      "\u001b[0;36m  File \u001b[0;32m\"<ipython-input-8-0f305f2cc47c>\"\u001b[0;36m, line \u001b[0;32m7\u001b[0m\n\u001b[0;31m    print reason, len(df['reason'][df[reason]])\u001b[0m\n\u001b[0m               ^\u001b[0m\n\u001b[0;31mSyntaxError\u001b[0m\u001b[0;31m:\u001b[0m invalid syntax\n"
     ]
    }
   ],
   "source": [
    "def show_reasons(df):\n",
    "    reasons = ['unknown', 'on_edge', 'id_change', 'outside-roi', 'timing']\n",
    "    if 'reason' not in df:\n",
    "        df['reason'] = 'unknown'\n",
    "        for reason in reasons[1:]:\n",
    "            df['reason'][df[reason]] = reason\n",
    "            print reason, len(df['reason'][df[reason]])\n",
    "\n",
    "    counts = {}\n",
    "    for reason in reasons:\n",
    "         counts[reason] = len(df[df['reason'] == reason])\n",
    "            \n",
    "    unknown_ids = list(df[df['reason'] == 'unknown'].index)\n",
    "    id_change_ids = list(df[df['reason'] == 'id_change'].index)\n",
    "\n",
    "    return unknown_ids, id_change_ids"
   ]
  },
  {
   "cell_type": "code",
   "execution_count": 9,
   "metadata": {
    "collapsed": false
   },
   "outputs": [],
   "source": [
    "def rc_duration_hist_single(rc, step='roi'):\n",
    "    rc = rc.copy()\n",
    "    \n",
    "    # grab bins from column names\n",
    "    cols = rc.columns\n",
    "    bins = [(int(c[1:-3]), c) for c in cols if str(c[0]) == '>']\n",
    "    bins.sort(reverse=True)\n",
    "    #print bins\n",
    "    \n",
    "    # grab relevant step\n",
    "    step_data = rc.iloc[step]\n",
    "    print step_data[['step', '>10min','>20min','>30min','>40min','>50min']]\n",
    "    bin_data = []\n",
    "    running_total = 0\n",
    "    for bl, rc_label in bins:\n",
    "        a = step_data[rc_label]\n",
    "        n = a - running_total\n",
    "        running_total += n\n",
    "        #print bl, a, n\n",
    "        #print 'total', running_total\n",
    "        bin_data.append((bl, n))\n",
    "    bin_data.sort()\n",
    "    print bin_data\n",
    "    fig, ax = plt.subplots()\n",
    "    x = np.arange(len(bin_data))\n",
    "    labels, y = zip(*bin_data)\n",
    "    labels = [str(l) for l in labels]\n",
    "    ppl.bar(ax, x, y, annotate=True, xticklabels=labels, grid='y')\n",
    "    plt.show()\n",
    "\n",
    "def rc_duration_hist(rc):\n",
    "    rc = rc.copy()\n",
    "    cols = rc.columns\n",
    "    \n",
    "    bins = [(int(c[1:-3]), c) for c in cols if str(c[0]) == '>']\n",
    "\n",
    "    # grab bins from column names\n",
    "\n",
    "    bins.sort(reverse=True)\n",
    "    #print bins\n",
    "    \n",
    "    def step_data_to_bins(step):\n",
    "        # grab relevant step\n",
    "        step_data = rc.iloc[step]\n",
    "        #print step_data[['step', '>10min','>20min','>30min','>40min','>50min']]\n",
    "        bin_data = []\n",
    "        running_total = 0\n",
    "        for bl, rc_label in bins:\n",
    "            a = step_data[rc_label]\n",
    "            n = a - running_total\n",
    "            running_total += n\n",
    "            #print bl, a, n\n",
    "            #print 'total', running_total\n",
    "            bin_data.append((bl, n))\n",
    "        bin_data.sort()\n",
    "        bd = {} #'step':step_name}\n",
    "        for l, n in bin_data:\n",
    "            bd[l] = n\n",
    "        return bd\n",
    "    \n",
    "    bd1 = step_data_to_bins(1)\n",
    "    bd2 = step_data_to_bins(-1)\n",
    "    \n",
    "    #bd1['step'] = 'raw'\n",
    "    #bd2['step'] = 'final'\n",
    "    \n",
    "    df = pd.DataFrame([bd1, bd2], index=['raw', 'final'])\n",
    "    df.rename(columns={10:'10-19',20:'20-29', \n",
    "                       30:'30-39',40:'40-49', 50:'50-60'}, inplace=True)\n",
    " \n",
    "    ax = df.T.plot(kind='bar')\n",
    "    fig = plt.figure(plt.get_fignums()[0])\n",
    "    fig.set_size_inches(10, 5)\n",
    "    ax.set_ylabel('number of tracks')\n",
    "    ax.set_xlabel('track duration (min)')\n",
    "    plt.tight_layout()\n",
    "\n",
    "    plt.savefig('track-len-improvement.png')\n",
    "\n",
    "    #plt.show()\n",
    "    #print df\n",
    "    \n",
    "    \n",
    "    \n",
    "#rc_duration_hist(rc)\n",
    "#  \n"
   ]
  },
  {
   "cell_type": "markdown",
   "metadata": {},
   "source": [
    "# Generate Report Card"
   ]
  },
  {
   "cell_type": "code",
   "execution_count": 10,
   "metadata": {
    "collapsed": false
   },
   "outputs": [],
   "source": [
    "# N = 15\n",
    "ex_id = '20141017_113435'\n",
    "ex_id = '20141017_113439'\n",
    "ex_id = '20141017_123722'\n",
    "ex_id = '20141017_123725'\n",
    "# N = 25\n",
    "#ex_id = '20141017_134720'\n",
    "#ex_id = '20141017_134724'\n",
    "ex_id = '20141017_150959'\n",
    "#ex_id = '20141017_151002'"
   ]
  },
  {
   "cell_type": "code",
   "execution_count": 9,
   "metadata": {
    "collapsed": false
   },
   "outputs": [
    {
     "ename": "MWTSummaryError",
     "evalue": "Could not find summary file in target path: /Users/peterwinter/Data/waldo/20141017_123725",
     "output_type": "error",
     "traceback": [
      "\u001b[0;31m---------------------------------------------------------------------------\u001b[0m",
      "\u001b[0;31mIndexError\u001b[0m                                Traceback (most recent call last)",
      "\u001b[0;32m/Users/peterwinter/Code/waldo/code/waldo/extern/multiworm-hg/multiworm/readers/summary.py\u001b[0m in \u001b[0;36mfind\u001b[0;34m(directory)\u001b[0m\n\u001b[1;32m     27\u001b[0m             \u001b[0;32mraise\u001b[0m \u001b[0mMWTSummaryError\u001b[0m\u001b[0;34m(\u001b[0m\u001b[0;34m\"Multiple summary files in specified directory; ambiguous\"\u001b[0m\u001b[0;34m)\u001b[0m\u001b[0;34m\u001b[0m\u001b[0m\n\u001b[0;32m---> 28\u001b[0;31m         \u001b[0msummary\u001b[0m \u001b[0;34m=\u001b[0m \u001b[0msummaries\u001b[0m\u001b[0;34m[\u001b[0m\u001b[0;36m0\u001b[0m\u001b[0;34m]\u001b[0m\u001b[0;34m\u001b[0m\u001b[0m\n\u001b[0m\u001b[1;32m     29\u001b[0m     \u001b[0;32mexcept\u001b[0m \u001b[0mIndexError\u001b[0m\u001b[0;34m:\u001b[0m\u001b[0;34m\u001b[0m\u001b[0m\n",
      "\u001b[0;31mIndexError\u001b[0m: list index out of range",
      "\nDuring handling of the above exception, another exception occurred:\n",
      "\u001b[0;31mMWTSummaryError\u001b[0m                           Traceback (most recent call last)",
      "\u001b[0;32m<ipython-input-9-67eb19774b3d>\u001b[0m in \u001b[0;36m<module>\u001b[0;34m()\u001b[0m\n\u001b[1;32m     10\u001b[0m \u001b[0;34m\u001b[0m\u001b[0m\n\u001b[1;32m     11\u001b[0m \u001b[0mex_df\u001b[0m \u001b[0;34m=\u001b[0m \u001b[0;34m'20130318_131056'\u001b[0m \u001b[0;31m# from tests for making behavior movies\u001b[0m\u001b[0;34m\u001b[0m\u001b[0m\n\u001b[0;32m---> 12\u001b[0;31m \u001b[0mexperiment\u001b[0m \u001b[0;34m=\u001b[0m \u001b[0mExperiment\u001b[0m\u001b[0;34m(\u001b[0m\u001b[0mexperiment_id\u001b[0m\u001b[0;34m=\u001b[0m\u001b[0mex_id\u001b[0m\u001b[0;34m)\u001b[0m\u001b[0;34m\u001b[0m\u001b[0m\n\u001b[0m\u001b[1;32m     13\u001b[0m \u001b[0moriginal_graph\u001b[0m \u001b[0;34m=\u001b[0m \u001b[0mexperiment\u001b[0m\u001b[0;34m.\u001b[0m\u001b[0mgraph\u001b[0m\u001b[0;34m\u001b[0m\u001b[0m\n\u001b[1;32m     14\u001b[0m \u001b[0mgraph\u001b[0m \u001b[0;34m=\u001b[0m \u001b[0moriginal_graph\u001b[0m\u001b[0;34m.\u001b[0m\u001b[0mcopy\u001b[0m\u001b[0;34m(\u001b[0m\u001b[0;34m)\u001b[0m\u001b[0;34m\u001b[0m\u001b[0m\n",
      "\u001b[0;32m/Users/peterwinter/Code/waldo/code/waldo/wio/experiment.py\u001b[0m in \u001b[0;36m__init__\u001b[0;34m(self, *args, **kwargs)\u001b[0m\n\u001b[1;32m     34\u001b[0m         \u001b[0;32mif\u001b[0m \u001b[0;34m'data_root'\u001b[0m \u001b[0;32mnot\u001b[0m \u001b[0;32min\u001b[0m \u001b[0mkwargs\u001b[0m\u001b[0;34m:\u001b[0m\u001b[0;34m\u001b[0m\u001b[0m\n\u001b[1;32m     35\u001b[0m             \u001b[0mkwargs\u001b[0m\u001b[0;34m[\u001b[0m\u001b[0;34m'data_root'\u001b[0m\u001b[0;34m]\u001b[0m \u001b[0;34m=\u001b[0m \u001b[0msettings\u001b[0m\u001b[0;34m.\u001b[0m\u001b[0mMWT_DATA_ROOT\u001b[0m\u001b[0;34m\u001b[0m\u001b[0m\n\u001b[0;32m---> 36\u001b[0;31m         \u001b[0msuper\u001b[0m\u001b[0;34m(\u001b[0m\u001b[0mExperiment\u001b[0m\u001b[0;34m,\u001b[0m \u001b[0mself\u001b[0m\u001b[0;34m)\u001b[0m\u001b[0;34m.\u001b[0m\u001b[0m__init__\u001b[0m\u001b[0;34m(\u001b[0m\u001b[0;34m*\u001b[0m\u001b[0margs\u001b[0m\u001b[0;34m,\u001b[0m \u001b[0;34m**\u001b[0m\u001b[0mkwargs\u001b[0m\u001b[0;34m)\u001b[0m\u001b[0;34m\u001b[0m\u001b[0m\n\u001b[0m\u001b[1;32m     37\u001b[0m         \u001b[0mself\u001b[0m\u001b[0;34m.\u001b[0m\u001b[0mprepdata\u001b[0m \u001b[0;34m=\u001b[0m \u001b[0mfm\u001b[0m\u001b[0;34m.\u001b[0m\u001b[0mPrepData\u001b[0m\u001b[0;34m(\u001b[0m\u001b[0mself\u001b[0m\u001b[0;34m.\u001b[0m\u001b[0mid\u001b[0m\u001b[0;34m)\u001b[0m\u001b[0;34m\u001b[0m\u001b[0m\n\u001b[1;32m     38\u001b[0m         \u001b[0mself\u001b[0m\u001b[0;34m.\u001b[0m\u001b[0m_wprogress\u001b[0m\u001b[0;34m(\u001b[0m\u001b[0;36m0.9\u001b[0m\u001b[0;34m)\u001b[0m\u001b[0;34m\u001b[0m\u001b[0m\n",
      "\u001b[0;32m/Users/peterwinter/Code/waldo/code/waldo/extern/multiworm-hg/multiworm/experiment.py\u001b[0m in \u001b[0;36m__init__\u001b[0;34m(self, fullpath, experiment_id, data_root, callback)\u001b[0m\n\u001b[1;32m     51\u001b[0m             \u001b[0mself\u001b[0m\u001b[0;34m.\u001b[0m\u001b[0mid\u001b[0m \u001b[0;34m=\u001b[0m \u001b[0mexperiment_id\u001b[0m\u001b[0;34m\u001b[0m\u001b[0m\n\u001b[1;32m     52\u001b[0m \u001b[0;34m\u001b[0m\u001b[0m\n\u001b[0;32m---> 53\u001b[0;31m         \u001b[0mself\u001b[0m\u001b[0;34m.\u001b[0m\u001b[0m_find_summary_file\u001b[0m\u001b[0;34m(\u001b[0m\u001b[0;34m)\u001b[0m\u001b[0;34m\u001b[0m\u001b[0m\n\u001b[0m\u001b[1;32m     54\u001b[0m         \u001b[0mself\u001b[0m\u001b[0;34m.\u001b[0m\u001b[0m_find_blobs_files\u001b[0m\u001b[0;34m(\u001b[0m\u001b[0;34m)\u001b[0m\u001b[0;34m\u001b[0m\u001b[0m\n\u001b[1;32m     55\u001b[0m         \u001b[0mself\u001b[0m\u001b[0;34m.\u001b[0m\u001b[0m_find_images\u001b[0m\u001b[0;34m(\u001b[0m\u001b[0;34m)\u001b[0m\u001b[0;34m\u001b[0m\u001b[0m\n",
      "\u001b[0;32m/Users/peterwinter/Code/waldo/code/waldo/extern/multiworm-hg/multiworm/experiment.py\u001b[0m in \u001b[0;36m_find_summary_file\u001b[0;34m(self)\u001b[0m\n\u001b[1;32m     80\u001b[0m         \u001b[0mLocate\u001b[0m \u001b[0msummary\u001b[0m \u001b[0mfile\u001b[0m\u001b[0;34m\u001b[0m\u001b[0m\n\u001b[1;32m     81\u001b[0m         \"\"\"\n\u001b[0;32m---> 82\u001b[0;31m         \u001b[0mself\u001b[0m\u001b[0;34m.\u001b[0m\u001b[0msummary_file\u001b[0m\u001b[0;34m,\u001b[0m \u001b[0mself\u001b[0m\u001b[0;34m.\u001b[0m\u001b[0mbasename\u001b[0m \u001b[0;34m=\u001b[0m \u001b[0msummary\u001b[0m\u001b[0;34m.\u001b[0m\u001b[0mfind\u001b[0m\u001b[0;34m(\u001b[0m\u001b[0mself\u001b[0m\u001b[0;34m.\u001b[0m\u001b[0mdirectory\u001b[0m\u001b[0;34m)\u001b[0m\u001b[0;34m\u001b[0m\u001b[0m\n\u001b[0m\u001b[1;32m     83\u001b[0m \u001b[0;34m\u001b[0m\u001b[0m\n\u001b[1;32m     84\u001b[0m     \u001b[0;32mdef\u001b[0m \u001b[0m_find_blobs_files\u001b[0m\u001b[0;34m(\u001b[0m\u001b[0mself\u001b[0m\u001b[0;34m)\u001b[0m\u001b[0;34m:\u001b[0m\u001b[0;34m\u001b[0m\u001b[0m\n",
      "\u001b[0;32m/Users/peterwinter/Code/waldo/code/waldo/extern/multiworm-hg/multiworm/readers/summary.py\u001b[0m in \u001b[0;36mfind\u001b[0;34m(directory)\u001b[0m\n\u001b[1;32m     29\u001b[0m     \u001b[0;32mexcept\u001b[0m \u001b[0mIndexError\u001b[0m\u001b[0;34m:\u001b[0m\u001b[0;34m\u001b[0m\u001b[0m\n\u001b[1;32m     30\u001b[0m         raise MWTSummaryError(\"Could not find summary file in target path: {}\"\n\u001b[0;32m---> 31\u001b[0;31m                               .format(directory))\n\u001b[0m\u001b[1;32m     32\u001b[0m \u001b[0;34m\u001b[0m\u001b[0m\n\u001b[1;32m     33\u001b[0m     \u001b[0mbasename\u001b[0m \u001b[0;34m=\u001b[0m \u001b[0msummary\u001b[0m\u001b[0;34m.\u001b[0m\u001b[0mstem\u001b[0m\u001b[0;34m\u001b[0m\u001b[0m\n",
      "\u001b[0;31mMWTSummaryError\u001b[0m: Could not find summary file in target path: /Users/peterwinter/Data/waldo/20141017_123725"
     ]
    }
   ],
   "source": [
    "#ex_id = '20130614_120518'\n",
    "#ex_id = '20130318_131111'\n",
    "#ex_id = '20130702_135704' # testset\n",
    "#ex_id = '20130702_135652'\n",
    "#ex_id = '20130414_140704'\n",
    "#ex_id = '20130410_165326'\n",
    "ex_id ='20130324_155127'\n",
    "ex_id ='20141017_123725'\n",
    "\n",
    "\n",
    "ex_df = '20130318_131056' # from tests for making behavior movies\n",
    "experiment = Experiment(experiment_id=ex_id)\n",
    "original_graph = experiment.graph\n",
    "graph = original_graph.copy()"
   ]
  },
  {
   "cell_type": "code",
   "execution_count": 11,
   "metadata": {
    "collapsed": false
   },
   "outputs": [
    {
     "data": {
      "text/plain": [
       "PosixPath('/home/projects/worm_movement/Data/MWT_RawData/20141017_123725')"
      ]
     },
     "execution_count": 11,
     "metadata": {},
     "output_type": "execute_result"
    }
   ],
   "source": [
    "experiment.directory"
   ]
  },
  {
   "cell_type": "code",
   "execution_count": 12,
   "metadata": {
    "collapsed": false
   },
   "outputs": [
    {
     "name": "stdout",
     "output_type": "stream",
     "text": [
      "HELTENA: Reportcard init 0\n"
     ]
    },
    {
     "ename": "IOError",
     "evalue": "File /home/visitors/peterwinter/codes/waldo/data/test/20141017_123725/waldo/20141017_123725-bounds.csv does not exist",
     "output_type": "error",
     "traceback": [
      "\u001b[1;31m---------------------------------------------------------------------------\u001b[0m",
      "\u001b[1;31mIOError\u001b[0m                                   Traceback (most recent call last)",
      "\u001b[1;32m<ipython-input-12-16c7ca4dedc5>\u001b[0m in \u001b[0;36m<module>\u001b[1;34m()\u001b[0m\n\u001b[1;32m----> 1\u001b[1;33m \u001b[0msolver\u001b[0m \u001b[1;33m=\u001b[0m \u001b[0mreport_card\u001b[0m\u001b[1;33m.\u001b[0m\u001b[0mWaldoSolver\u001b[0m\u001b[1;33m(\u001b[0m\u001b[0mexperiment\u001b[0m\u001b[1;33m=\u001b[0m\u001b[0mexperiment\u001b[0m\u001b[1;33m,\u001b[0m \u001b[0mgraph\u001b[0m\u001b[1;33m=\u001b[0m\u001b[0mgraph\u001b[0m\u001b[1;33m)\u001b[0m\u001b[1;33m\u001b[0m\u001b[0m\n\u001b[0m\u001b[0;32m      2\u001b[0m \u001b[0mgraph2\u001b[0m\u001b[1;33m,\u001b[0m \u001b[0mrc\u001b[0m \u001b[1;33m=\u001b[0m \u001b[0msolver\u001b[0m\u001b[1;33m.\u001b[0m\u001b[0mrun\u001b[0m\u001b[1;33m(\u001b[0m\u001b[1;33m)\u001b[0m\u001b[1;33m\u001b[0m\u001b[0m\n",
      "\u001b[1;32m/home/visitors/peterwinter/codes/waldo/code/waldo/metrics/report_card.pyc\u001b[0m in \u001b[0;36m__init__\u001b[1;34m(self, experiment, graph)\u001b[0m\n\u001b[0;32m    381\u001b[0m         \u001b[0mself\u001b[0m\u001b[1;33m.\u001b[0m\u001b[0mex_id\u001b[0m \u001b[1;33m=\u001b[0m \u001b[0mexperiment\u001b[0m\u001b[1;33m.\u001b[0m\u001b[0mid\u001b[0m\u001b[1;33m\u001b[0m\u001b[0m\n\u001b[0;32m    382\u001b[0m         \u001b[0mself\u001b[0m\u001b[1;33m.\u001b[0m\u001b[0mreport_card\u001b[0m \u001b[1;33m=\u001b[0m \u001b[0mReportCard\u001b[0m\u001b[1;33m(\u001b[0m\u001b[0mexperiment\u001b[0m\u001b[1;33m)\u001b[0m\u001b[1;33m\u001b[0m\u001b[0m\n\u001b[1;32m--> 383\u001b[1;33m         \u001b[0mself\u001b[0m\u001b[1;33m.\u001b[0m\u001b[0mtaper\u001b[0m \u001b[1;33m=\u001b[0m \u001b[0mtp\u001b[0m\u001b[1;33m.\u001b[0m\u001b[0mTaper\u001b[0m\u001b[1;33m(\u001b[0m\u001b[0mexperiment\u001b[0m\u001b[1;33m=\u001b[0m\u001b[0mexperiment\u001b[0m\u001b[1;33m,\u001b[0m \u001b[0mgraph\u001b[0m\u001b[1;33m=\u001b[0m\u001b[0mgraph\u001b[0m\u001b[1;33m)\u001b[0m\u001b[1;33m\u001b[0m\u001b[0m\n\u001b[0m\u001b[0;32m    384\u001b[0m         \u001b[0mself\u001b[0m\u001b[1;33m.\u001b[0m\u001b[0mreport_card\u001b[0m\u001b[1;33m.\u001b[0m\u001b[0madd_step\u001b[0m\u001b[1;33m(\u001b[0m\u001b[0mgraph\u001b[0m\u001b[1;33m,\u001b[0m \u001b[0mstep_name\u001b[0m\u001b[1;33m=\u001b[0m\u001b[1;34m'raw'\u001b[0m\u001b[1;33m,\u001b[0m \u001b[0mphase_name\u001b[0m\u001b[1;33m=\u001b[0m\u001b[1;34m'input'\u001b[0m\u001b[1;33m)\u001b[0m\u001b[1;33m\u001b[0m\u001b[0m\n\u001b[0;32m    385\u001b[0m         \u001b[0mself\u001b[0m\u001b[1;33m.\u001b[0m\u001b[0mphase_name\u001b[0m \u001b[1;33m=\u001b[0m \u001b[1;34m'input'\u001b[0m\u001b[1;33m\u001b[0m\u001b[0m\n",
      "\u001b[1;32m/home/visitors/peterwinter/codes/waldo/code/waldo/tape/taper.pyc\u001b[0m in \u001b[0;36m__init__\u001b[1;34m(self, experiment, graph, scorer, acausal_frame_limit)\u001b[0m\n\u001b[0;32m     34\u001b[0m         \u001b[0mself\u001b[0m\u001b[1;33m.\u001b[0m\u001b[0m_scorer\u001b[0m \u001b[1;33m=\u001b[0m \u001b[0mscorer\u001b[0m\u001b[1;33m\u001b[0m\u001b[0m\n\u001b[0;32m     35\u001b[0m         \u001b[1;32mif\u001b[0m \u001b[0mscorer\u001b[0m \u001b[1;32mis\u001b[0m \u001b[0mNone\u001b[0m\u001b[1;33m:\u001b[0m\u001b[1;33m\u001b[0m\u001b[0m\n\u001b[1;32m---> 36\u001b[1;33m             \u001b[0mself\u001b[0m\u001b[1;33m.\u001b[0m\u001b[0m_scorer\u001b[0m \u001b[1;33m=\u001b[0m \u001b[0mScorer\u001b[0m\u001b[1;33m(\u001b[0m\u001b[0mexperiment\u001b[0m\u001b[1;33m)\u001b[0m\u001b[1;33m\u001b[0m\u001b[0m\n\u001b[0m\u001b[0;32m     37\u001b[0m \u001b[1;33m\u001b[0m\u001b[0m\n\u001b[0;32m     38\u001b[0m         \u001b[0mself\u001b[0m\u001b[1;33m.\u001b[0m\u001b[0mmax_speed\u001b[0m \u001b[1;33m=\u001b[0m \u001b[0mself\u001b[0m\u001b[1;33m.\u001b[0m\u001b[0m_scorer\u001b[0m\u001b[1;33m.\u001b[0m\u001b[0mmax_speed\u001b[0m \u001b[1;33m*\u001b[0m \u001b[0msettings\u001b[0m\u001b[1;33m.\u001b[0m\u001b[0mTAPE_MAX_SPEED_MULTIPLIER\u001b[0m\u001b[1;33m\u001b[0m\u001b[0m\n",
      "\u001b[1;32m/home/visitors/peterwinter/codes/waldo/code/waldo/tape/scorer.pyc\u001b[0m in \u001b[0;36m__init__\u001b[1;34m(self, experiment, move_threshold)\u001b[0m\n\u001b[0;32m     44\u001b[0m         \u001b[0mself\u001b[0m\u001b[1;33m.\u001b[0m\u001b[0mmax_speed\u001b[0m \u001b[1;33m=\u001b[0m \u001b[0mNone\u001b[0m\u001b[1;33m\u001b[0m\u001b[0m\n\u001b[0;32m     45\u001b[0m \u001b[1;33m\u001b[0m\u001b[0m\n\u001b[1;32m---> 46\u001b[1;33m         \u001b[0mself\u001b[0m\u001b[1;33m.\u001b[0m\u001b[0m_load_traces\u001b[0m\u001b[1;33m(\u001b[0m\u001b[0mmove_threshold\u001b[0m\u001b[1;33m)\u001b[0m\u001b[1;33m\u001b[0m\u001b[0m\n\u001b[0m\u001b[0;32m     47\u001b[0m         \u001b[0mself\u001b[0m\u001b[1;33m.\u001b[0m\u001b[0m_generate_kde_map\u001b[0m\u001b[1;33m(\u001b[0m\u001b[1;33m)\u001b[0m\u001b[1;33m\u001b[0m\u001b[0m\n\u001b[0;32m     48\u001b[0m \u001b[1;33m\u001b[0m\u001b[0m\n",
      "\u001b[1;32m/home/visitors/peterwinter/codes/waldo/code/waldo/tape/scorer.pyc\u001b[0m in \u001b[0;36m_load_traces\u001b[1;34m(self, move_threshold)\u001b[0m\n\u001b[0;32m     50\u001b[0m \u001b[1;33m\u001b[0m\u001b[0m\n\u001b[0;32m     51\u001b[0m     \u001b[1;32mdef\u001b[0m \u001b[0m_load_traces\u001b[0m\u001b[1;33m(\u001b[0m\u001b[0mself\u001b[0m\u001b[1;33m,\u001b[0m \u001b[0mmove_threshold\u001b[0m\u001b[1;33m)\u001b[0m\u001b[1;33m:\u001b[0m\u001b[1;33m\u001b[0m\u001b[0m\n\u001b[1;32m---> 52\u001b[1;33m         \u001b[0mgood_ids\u001b[0m \u001b[1;33m=\u001b[0m \u001b[0mcore\u001b[0m\u001b[1;33m.\u001b[0m\u001b[0mgood_blobs\u001b[0m\u001b[1;33m(\u001b[0m\u001b[0mself\u001b[0m\u001b[1;33m.\u001b[0m\u001b[0mexperiment\u001b[0m\u001b[1;33m,\u001b[0m \u001b[0mmove_threshold\u001b[0m\u001b[1;33m)\u001b[0m\u001b[1;33m\u001b[0m\u001b[0m\n\u001b[0m\u001b[0;32m     53\u001b[0m \u001b[1;33m\u001b[0m\u001b[0m\n\u001b[0;32m     54\u001b[0m         \u001b[0mn_good_ids\u001b[0m \u001b[1;33m=\u001b[0m \u001b[0mlen\u001b[0m\u001b[1;33m(\u001b[0m\u001b[0mgood_ids\u001b[0m\u001b[1;33m)\u001b[0m\u001b[1;33m\u001b[0m\u001b[0m\n",
      "\u001b[1;32m/home/visitors/peterwinter/codes/waldo/code/waldo/tape/core.pyc\u001b[0m in \u001b[0;36mgood_blobs\u001b[1;34m(experiment, move_threshold)\u001b[0m\n\u001b[0;32m     43\u001b[0m \u001b[1;33m\u001b[0m\u001b[0m\n\u001b[0;32m     44\u001b[0m \u001b[1;32mdef\u001b[0m \u001b[0mgood_blobs\u001b[0m\u001b[1;33m(\u001b[0m\u001b[0mexperiment\u001b[0m\u001b[1;33m,\u001b[0m \u001b[0mmove_threshold\u001b[0m\u001b[1;33m)\u001b[0m\u001b[1;33m:\u001b[0m\u001b[1;33m\u001b[0m\u001b[0m\n\u001b[1;32m---> 45\u001b[1;33m     \u001b[1;32mreturn\u001b[0m \u001b[0mexperiment\u001b[0m\u001b[1;33m.\u001b[0m\u001b[0min_roi\u001b[0m\u001b[1;33m(\u001b[0m\u001b[1;33m)\u001b[0m \u001b[1;33m&\u001b[0m \u001b[0mexperiment\u001b[0m\u001b[1;33m.\u001b[0m\u001b[0mrel_move\u001b[0m\u001b[1;33m(\u001b[0m\u001b[0mmove_threshold\u001b[0m\u001b[1;33m)\u001b[0m\u001b[1;33m\u001b[0m\u001b[0m\n\u001b[0m\u001b[0;32m     46\u001b[0m \u001b[1;33m\u001b[0m\u001b[0m\n\u001b[0;32m     47\u001b[0m \u001b[1;32mdef\u001b[0m \u001b[0mjagged_mask\u001b[0m\u001b[1;33m(\u001b[0m\u001b[0mdata\u001b[0m\u001b[1;33m)\u001b[0m\u001b[1;33m:\u001b[0m\u001b[1;33m\u001b[0m\u001b[0m\n",
      "\u001b[1;32m/home/visitors/peterwinter/codes/waldo/code/waldo/wio/experiment.pyc\u001b[0m in \u001b[0;36min_roi\u001b[1;34m(self)\u001b[0m\n\u001b[0;32m     81\u001b[0m     \u001b[1;32mdef\u001b[0m \u001b[0min_roi\u001b[0m\u001b[1;33m(\u001b[0m\u001b[0mself\u001b[0m\u001b[1;33m)\u001b[0m\u001b[1;33m:\u001b[0m\u001b[1;33m\u001b[0m\u001b[0m\n\u001b[0;32m     82\u001b[0m         \u001b[1;32mif\u001b[0m \u001b[0mself\u001b[0m\u001b[1;33m.\u001b[0m\u001b[0m_prep_df\u001b[0m \u001b[1;32mis\u001b[0m \u001b[0mNone\u001b[0m\u001b[1;33m:\u001b[0m\u001b[1;33m\u001b[0m\u001b[0m\n\u001b[1;32m---> 83\u001b[1;33m             \u001b[0mself\u001b[0m\u001b[1;33m.\u001b[0m\u001b[0m_pull_prepdata\u001b[0m\u001b[1;33m(\u001b[0m\u001b[1;33m)\u001b[0m\u001b[1;33m\u001b[0m\u001b[0m\n\u001b[0m\u001b[0;32m     84\u001b[0m \u001b[1;33m\u001b[0m\u001b[0m\n\u001b[0;32m     85\u001b[0m         \u001b[1;32mif\u001b[0m \u001b[1;34m'in_roi'\u001b[0m \u001b[1;32mnot\u001b[0m \u001b[1;32min\u001b[0m \u001b[0mself\u001b[0m\u001b[1;33m.\u001b[0m\u001b[0m_prep_df\u001b[0m\u001b[1;33m.\u001b[0m\u001b[0mcolumns\u001b[0m\u001b[1;33m:\u001b[0m\u001b[1;33m\u001b[0m\u001b[0m\n",
      "\u001b[1;32m/home/visitors/peterwinter/codes/waldo/code/waldo/wio/experiment.pyc\u001b[0m in \u001b[0;36m_pull_prepdata\u001b[1;34m(self)\u001b[0m\n\u001b[0;32m     47\u001b[0m \u001b[1;33m\u001b[0m\u001b[0m\n\u001b[0;32m     48\u001b[0m     \u001b[1;32mdef\u001b[0m \u001b[0m_pull_prepdata\u001b[0m\u001b[1;33m(\u001b[0m\u001b[0mself\u001b[0m\u001b[1;33m)\u001b[0m\u001b[1;33m:\u001b[0m\u001b[1;33m\u001b[0m\u001b[0m\n\u001b[1;32m---> 49\u001b[1;33m         \u001b[0mbounds\u001b[0m \u001b[1;33m=\u001b[0m \u001b[0mself\u001b[0m\u001b[1;33m.\u001b[0m\u001b[0mprepdata\u001b[0m\u001b[1;33m.\u001b[0m\u001b[0mload\u001b[0m\u001b[1;33m(\u001b[0m\u001b[1;34m'bounds'\u001b[0m\u001b[1;33m)\u001b[0m\u001b[1;33m\u001b[0m\u001b[0m\n\u001b[0m\u001b[0;32m     50\u001b[0m         \u001b[0msizes\u001b[0m \u001b[1;33m=\u001b[0m \u001b[0mself\u001b[0m\u001b[1;33m.\u001b[0m\u001b[0mprepdata\u001b[0m\u001b[1;33m.\u001b[0m\u001b[0mload\u001b[0m\u001b[1;33m(\u001b[0m\u001b[1;34m'sizes'\u001b[0m\u001b[1;33m)\u001b[0m\u001b[1;33m\u001b[0m\u001b[0m\n\u001b[0;32m     51\u001b[0m \u001b[1;33m\u001b[0m\u001b[0m\n",
      "\u001b[1;32m/home/visitors/peterwinter/codes/waldo/code/waldo/wio/prepdata.pyc\u001b[0m in \u001b[0;36mload\u001b[1;34m(self, data_type, **kwargs)\u001b[0m\n\u001b[0;32m     44\u001b[0m         \u001b[0marguments\u001b[0m \u001b[0mare\u001b[0m \u001b[0mpassed\u001b[0m \u001b[0mtransparently\u001b[0m \u001b[0mto\u001b[0m \u001b[0mthe\u001b[0m \u001b[0mpandas\u001b[0m\u001b[1;33m.\u001b[0m\u001b[0mread_csv\u001b[0m \u001b[0mfunction\u001b[0m\u001b[1;33m.\u001b[0m\u001b[1;33m\u001b[0m\u001b[0m\n\u001b[0;32m     45\u001b[0m         \"\"\"\n\u001b[1;32m---> 46\u001b[1;33m         \u001b[1;32mreturn\u001b[0m \u001b[0mpd\u001b[0m\u001b[1;33m.\u001b[0m\u001b[0mread_csv\u001b[0m\u001b[1;33m(\u001b[0m\u001b[0mstr\u001b[0m\u001b[1;33m(\u001b[0m\u001b[0mself\u001b[0m\u001b[1;33m.\u001b[0m\u001b[0m_filepath\u001b[0m\u001b[1;33m(\u001b[0m\u001b[0mdata_type\u001b[0m\u001b[1;33m)\u001b[0m\u001b[1;33m)\u001b[0m\u001b[1;33m,\u001b[0m \u001b[1;33m**\u001b[0m\u001b[0mkwargs\u001b[0m\u001b[1;33m)\u001b[0m\u001b[1;33m\u001b[0m\u001b[0m\n\u001b[0m\u001b[0;32m     47\u001b[0m \u001b[1;33m\u001b[0m\u001b[0m\n\u001b[0;32m     48\u001b[0m     \u001b[1;32mdef\u001b[0m \u001b[0mdump\u001b[0m\u001b[1;33m(\u001b[0m\u001b[0mself\u001b[0m\u001b[1;33m,\u001b[0m \u001b[0mdata_type\u001b[0m\u001b[1;33m,\u001b[0m \u001b[0mdataframe\u001b[0m\u001b[1;33m,\u001b[0m \u001b[1;33m**\u001b[0m\u001b[0mkwargs\u001b[0m\u001b[1;33m)\u001b[0m\u001b[1;33m:\u001b[0m\u001b[1;33m\u001b[0m\u001b[0m\n",
      "\u001b[1;32m/home/visitors/peterwinter/.pyenv/versions/general/local/lib/python2.7/site-packages/pandas/io/parsers.pyc\u001b[0m in \u001b[0;36mparser_f\u001b[1;34m(filepath_or_buffer, sep, dialect, compression, doublequote, escapechar, quotechar, quoting, skipinitialspace, lineterminator, header, index_col, names, prefix, skiprows, skipfooter, skip_footer, na_values, na_fvalues, true_values, false_values, delimiter, converters, dtype, usecols, engine, delim_whitespace, as_recarray, na_filter, compact_ints, use_unsigned, low_memory, buffer_lines, warn_bad_lines, error_bad_lines, keep_default_na, thousands, comment, decimal, parse_dates, keep_date_col, dayfirst, date_parser, memory_map, float_precision, nrows, iterator, chunksize, verbose, encoding, squeeze, mangle_dupe_cols, tupleize_cols, infer_datetime_format, skip_blank_lines)\u001b[0m\n\u001b[0;32m    468\u001b[0m                     skip_blank_lines=skip_blank_lines)\n\u001b[0;32m    469\u001b[0m \u001b[1;33m\u001b[0m\u001b[0m\n\u001b[1;32m--> 470\u001b[1;33m         \u001b[1;32mreturn\u001b[0m \u001b[0m_read\u001b[0m\u001b[1;33m(\u001b[0m\u001b[0mfilepath_or_buffer\u001b[0m\u001b[1;33m,\u001b[0m \u001b[0mkwds\u001b[0m\u001b[1;33m)\u001b[0m\u001b[1;33m\u001b[0m\u001b[0m\n\u001b[0m\u001b[0;32m    471\u001b[0m \u001b[1;33m\u001b[0m\u001b[0m\n\u001b[0;32m    472\u001b[0m     \u001b[0mparser_f\u001b[0m\u001b[1;33m.\u001b[0m\u001b[0m__name__\u001b[0m \u001b[1;33m=\u001b[0m \u001b[0mname\u001b[0m\u001b[1;33m\u001b[0m\u001b[0m\n",
      "\u001b[1;32m/home/visitors/peterwinter/.pyenv/versions/general/local/lib/python2.7/site-packages/pandas/io/parsers.pyc\u001b[0m in \u001b[0;36m_read\u001b[1;34m(filepath_or_buffer, kwds)\u001b[0m\n\u001b[0;32m    244\u001b[0m \u001b[1;33m\u001b[0m\u001b[0m\n\u001b[0;32m    245\u001b[0m     \u001b[1;31m# Create the parser.\u001b[0m\u001b[1;33m\u001b[0m\u001b[1;33m\u001b[0m\u001b[0m\n\u001b[1;32m--> 246\u001b[1;33m     \u001b[0mparser\u001b[0m \u001b[1;33m=\u001b[0m \u001b[0mTextFileReader\u001b[0m\u001b[1;33m(\u001b[0m\u001b[0mfilepath_or_buffer\u001b[0m\u001b[1;33m,\u001b[0m \u001b[1;33m**\u001b[0m\u001b[0mkwds\u001b[0m\u001b[1;33m)\u001b[0m\u001b[1;33m\u001b[0m\u001b[0m\n\u001b[0m\u001b[0;32m    247\u001b[0m \u001b[1;33m\u001b[0m\u001b[0m\n\u001b[0;32m    248\u001b[0m     \u001b[1;32mif\u001b[0m \u001b[1;33m(\u001b[0m\u001b[0mnrows\u001b[0m \u001b[1;32mis\u001b[0m \u001b[1;32mnot\u001b[0m \u001b[0mNone\u001b[0m\u001b[1;33m)\u001b[0m \u001b[1;32mand\u001b[0m \u001b[1;33m(\u001b[0m\u001b[0mchunksize\u001b[0m \u001b[1;32mis\u001b[0m \u001b[1;32mnot\u001b[0m \u001b[0mNone\u001b[0m\u001b[1;33m)\u001b[0m\u001b[1;33m:\u001b[0m\u001b[1;33m\u001b[0m\u001b[0m\n",
      "\u001b[1;32m/home/visitors/peterwinter/.pyenv/versions/general/local/lib/python2.7/site-packages/pandas/io/parsers.pyc\u001b[0m in \u001b[0;36m__init__\u001b[1;34m(self, f, engine, **kwds)\u001b[0m\n\u001b[0;32m    560\u001b[0m             \u001b[0mself\u001b[0m\u001b[1;33m.\u001b[0m\u001b[0moptions\u001b[0m\u001b[1;33m[\u001b[0m\u001b[1;34m'has_index_names'\u001b[0m\u001b[1;33m]\u001b[0m \u001b[1;33m=\u001b[0m \u001b[0mkwds\u001b[0m\u001b[1;33m[\u001b[0m\u001b[1;34m'has_index_names'\u001b[0m\u001b[1;33m]\u001b[0m\u001b[1;33m\u001b[0m\u001b[0m\n\u001b[0;32m    561\u001b[0m \u001b[1;33m\u001b[0m\u001b[0m\n\u001b[1;32m--> 562\u001b[1;33m         \u001b[0mself\u001b[0m\u001b[1;33m.\u001b[0m\u001b[0m_make_engine\u001b[0m\u001b[1;33m(\u001b[0m\u001b[0mself\u001b[0m\u001b[1;33m.\u001b[0m\u001b[0mengine\u001b[0m\u001b[1;33m)\u001b[0m\u001b[1;33m\u001b[0m\u001b[0m\n\u001b[0m\u001b[0;32m    563\u001b[0m \u001b[1;33m\u001b[0m\u001b[0m\n\u001b[0;32m    564\u001b[0m     \u001b[1;32mdef\u001b[0m \u001b[0m_get_options_with_defaults\u001b[0m\u001b[1;33m(\u001b[0m\u001b[0mself\u001b[0m\u001b[1;33m,\u001b[0m \u001b[0mengine\u001b[0m\u001b[1;33m)\u001b[0m\u001b[1;33m:\u001b[0m\u001b[1;33m\u001b[0m\u001b[0m\n",
      "\u001b[1;32m/home/visitors/peterwinter/.pyenv/versions/general/local/lib/python2.7/site-packages/pandas/io/parsers.pyc\u001b[0m in \u001b[0;36m_make_engine\u001b[1;34m(self, engine)\u001b[0m\n\u001b[0;32m    697\u001b[0m     \u001b[1;32mdef\u001b[0m \u001b[0m_make_engine\u001b[0m\u001b[1;33m(\u001b[0m\u001b[0mself\u001b[0m\u001b[1;33m,\u001b[0m \u001b[0mengine\u001b[0m\u001b[1;33m=\u001b[0m\u001b[1;34m'c'\u001b[0m\u001b[1;33m)\u001b[0m\u001b[1;33m:\u001b[0m\u001b[1;33m\u001b[0m\u001b[0m\n\u001b[0;32m    698\u001b[0m         \u001b[1;32mif\u001b[0m \u001b[0mengine\u001b[0m \u001b[1;33m==\u001b[0m \u001b[1;34m'c'\u001b[0m\u001b[1;33m:\u001b[0m\u001b[1;33m\u001b[0m\u001b[0m\n\u001b[1;32m--> 699\u001b[1;33m             \u001b[0mself\u001b[0m\u001b[1;33m.\u001b[0m\u001b[0m_engine\u001b[0m \u001b[1;33m=\u001b[0m \u001b[0mCParserWrapper\u001b[0m\u001b[1;33m(\u001b[0m\u001b[0mself\u001b[0m\u001b[1;33m.\u001b[0m\u001b[0mf\u001b[0m\u001b[1;33m,\u001b[0m \u001b[1;33m**\u001b[0m\u001b[0mself\u001b[0m\u001b[1;33m.\u001b[0m\u001b[0moptions\u001b[0m\u001b[1;33m)\u001b[0m\u001b[1;33m\u001b[0m\u001b[0m\n\u001b[0m\u001b[0;32m    700\u001b[0m         \u001b[1;32melse\u001b[0m\u001b[1;33m:\u001b[0m\u001b[1;33m\u001b[0m\u001b[0m\n\u001b[0;32m    701\u001b[0m             \u001b[1;32mif\u001b[0m \u001b[0mengine\u001b[0m \u001b[1;33m==\u001b[0m \u001b[1;34m'python'\u001b[0m\u001b[1;33m:\u001b[0m\u001b[1;33m\u001b[0m\u001b[0m\n",
      "\u001b[1;32m/home/visitors/peterwinter/.pyenv/versions/general/local/lib/python2.7/site-packages/pandas/io/parsers.pyc\u001b[0m in \u001b[0;36m__init__\u001b[1;34m(self, src, **kwds)\u001b[0m\n\u001b[0;32m   1064\u001b[0m         \u001b[0mkwds\u001b[0m\u001b[1;33m[\u001b[0m\u001b[1;34m'allow_leading_cols'\u001b[0m\u001b[1;33m]\u001b[0m \u001b[1;33m=\u001b[0m \u001b[0mself\u001b[0m\u001b[1;33m.\u001b[0m\u001b[0mindex_col\u001b[0m \u001b[1;32mis\u001b[0m \u001b[1;32mnot\u001b[0m \u001b[0mFalse\u001b[0m\u001b[1;33m\u001b[0m\u001b[0m\n\u001b[0;32m   1065\u001b[0m \u001b[1;33m\u001b[0m\u001b[0m\n\u001b[1;32m-> 1066\u001b[1;33m         \u001b[0mself\u001b[0m\u001b[1;33m.\u001b[0m\u001b[0m_reader\u001b[0m \u001b[1;33m=\u001b[0m \u001b[0m_parser\u001b[0m\u001b[1;33m.\u001b[0m\u001b[0mTextReader\u001b[0m\u001b[1;33m(\u001b[0m\u001b[0msrc\u001b[0m\u001b[1;33m,\u001b[0m \u001b[1;33m**\u001b[0m\u001b[0mkwds\u001b[0m\u001b[1;33m)\u001b[0m\u001b[1;33m\u001b[0m\u001b[0m\n\u001b[0m\u001b[0;32m   1067\u001b[0m \u001b[1;33m\u001b[0m\u001b[0m\n\u001b[0;32m   1068\u001b[0m         \u001b[1;31m# XXX\u001b[0m\u001b[1;33m\u001b[0m\u001b[1;33m\u001b[0m\u001b[0m\n",
      "\u001b[1;32mparser.pyx\u001b[0m in \u001b[0;36mpandas.parser.TextReader.__cinit__ (pandas/parser.c:3287)\u001b[1;34m()\u001b[0m\n",
      "\u001b[1;32mparser.pyx\u001b[0m in \u001b[0;36mpandas.parser.TextReader._setup_parser_source (pandas/parser.c:5716)\u001b[1;34m()\u001b[0m\n",
      "\u001b[1;31mIOError\u001b[0m: File /home/visitors/peterwinter/codes/waldo/data/test/20141017_123725/waldo/20141017_123725-bounds.csv does not exist"
     ]
    }
   ],
   "source": [
    "solver = report_card.WaldoSolver(experiment=experiment, graph=graph)\n",
    "graph2, rc = solver.run()"
   ]
  },
  {
   "cell_type": "code",
   "execution_count": null,
   "metadata": {
    "collapsed": false
   },
   "outputs": [],
   "source": [
    "rc_duration_hist(rc)"
   ]
  },
  {
   "cell_type": "code",
   "execution_count": null,
   "metadata": {
    "collapsed": false
   },
   "outputs": [],
   "source": [
    "def node_summary(experiment, graph, node_ids=[]):\n",
    "    \"\"\"\n",
    "    returns a dataframe with lots of data for every node specified in node_ids.\n",
    "    \n",
    "    dataframe columns are:\n",
    "    'bl', 'components', 'f0', 'fN', 't0', 'tN',\n",
    "    'x_max', 'x_min', 'y_max', y_min'\n",
    "    \n",
    "    params\n",
    "    -----\n",
    "    experiment: (wio.experiment object)\n",
    "    node_ids: (list)\n",
    "\n",
    "    \"\"\"\n",
    "    if not node_ids:\n",
    "        node_ids = graph.nodes(data=False)\n",
    "    \n",
    "    frame_times = experiment.frame_times\n",
    "    node_movement = graph2.node_movement(experiment)\n",
    "    node_movement.sort(inplace=True)\n",
    "    node_summaries = []\n",
    "    for node in node_ids:\n",
    "        node_data = graph.node[node]\n",
    "        bf, df = node_data['born_f'], node_data['died_f']\n",
    "        t0 = frame_times[bf - 1]\n",
    "        tN = frame_times[df - 1]\n",
    "        comps = list(node_data.get('components', [node]))\n",
    "        comp_string = '-'.join([str(c) for c in comps])\n",
    "        n_summary = {'bid':node, 'f0':bf, 'fN':df, 't0':t0, 'tN':tN, 'components':comp_string}\n",
    "        if node in node_movement.index:\n",
    "            n_move = node_movement.loc[node]\n",
    "            for i, v in zip(n_move.index, n_move):\n",
    "                n_summary[str(i)] = v   \n",
    "        else:\n",
    "            for i in ['x_max', 'x_min', 'y_max', 'y_min', 'bl']:\n",
    "                n_summary[i] = 0\n",
    "        node_summaries.append(n_summary)\n",
    "    node_info = pd.DataFrame(node_summaries)\n",
    "    node_info.set_index('bid', inplace=True)\n",
    "    node_info.sort(inplace=True)\n",
    "    return node_info\n",
    "node_summary(experiment, graph2)    "
   ]
  },
  {
   "cell_type": "code",
   "execution_count": null,
   "metadata": {
    "collapsed": false
   },
   "outputs": [],
   "source": []
  },
  {
   "cell_type": "markdown",
   "metadata": {},
   "source": [
    "## Graph how iterations reduce node count"
   ]
  },
  {
   "cell_type": "code",
   "execution_count": null,
   "metadata": {
    "collapsed": false
   },
   "outputs": [],
   "source": [
    "l = rc.set_index('step').loc[['iter 0', 'iter 1', 'iter 2', 'iter 3']][['total-nodes', 'moving-nodes']]\n",
    "l.reset_index(inplace=True)\n",
    "l.rename(columns={'total-nodes':'total tracks', \n",
    "                  'moving-nodes': 'move > 2 BL'})\n",
    "l.index.name = 'iteration'\n",
    "l[['total-nodes', 'moving-nodes']].plot(kind='bar')\n",
    "l"
   ]
  },
  {
   "cell_type": "code",
   "execution_count": null,
   "metadata": {
    "collapsed": false
   },
   "outputs": [],
   "source": [
    "def rc_worm_minutes_hist(rc):\n",
    "    rc = rc.copy()\n",
    "    rc.rename(columns={'wm_0min':'0-9', 'wm_10min':'10-19','wm_20min':'20-29', \n",
    "                       'wm_30min':'30-39','wm_40min':'40-49', 'wm_50min':'50-60'}, inplace=True)\n",
    "    rc = rc[['0-9', '10-19', '20-29', '30-39', '40-49', '50-60']]\n",
    "\n",
    "    # for sanity check\n",
    "    #totals = rc['0'] +  rc['10'] + rc['20'] + rc['30'] + rc['40'] + rc['50']\n",
    "    #print totals\n",
    "    # grab bins from column names\n",
    "    cols = rc.columns\n",
    "    bins = [(int(c[1:-3]), c) for c in cols if str(c[0]) == '>']\n",
    "    bins.sort(reverse=True)\n",
    "    #print bins\n",
    "    \n",
    "    def step_data_to_bins(step):\n",
    "        # grab relevant step\n",
    "        step_data = rc.iloc[step]\n",
    "        #step_name = step_data['step']\n",
    "        \n",
    "        return step_data\n",
    "    \n",
    "    bd1 = step_data_to_bins(1)\n",
    "    bd2 = step_data_to_bins(-1)\n",
    "    \n",
    "    #bd1['step'] = 'raw'\n",
    "    #bd2['step'] = 'final'\n",
    "    \n",
    "    df = pd.DataFrame([bd1, bd2], index=['raw', 'final'])\n",
    "    #df.set_index('step', inplace=True)\n",
    "    ax = df.T.plot(kind='bar')\n",
    "    fig = plt.figure(plt.get_fignums()[0])\n",
    "    fig.set_size_inches(10, 5)\n",
    "\n",
    "    ax.set_ylabel('total minutes of track')\n",
    "    ax.set_xlabel('track duration (min)')\n",
    "    plt.savefig('worm-min-improvement.png')\n",
    "    plt.tight_layout()\n",
    "    #plt.show()\n",
    "    print df\n",
    "    \n",
    "rc_worm_minutes_hist(rc)"
   ]
  },
  {
   "cell_type": "code",
   "execution_count": null,
   "metadata": {
    "collapsed": false
   },
   "outputs": [],
   "source": [
    "experiment.prepdata.load('end_report')"
   ]
  },
  {
   "cell_type": "code",
   "execution_count": null,
   "metadata": {
    "collapsed": false
   },
   "outputs": [],
   "source": []
  },
  {
   "cell_type": "markdown",
   "metadata": {},
   "source": [
    "# step graphs for moving nodes"
   ]
  },
  {
   "cell_type": "markdown",
   "metadata": {},
   "source": [
    "check if nodes that moved in raw data are still in the final graph"
   ]
  },
  {
   "cell_type": "code",
   "execution_count": null,
   "metadata": {
    "collapsed": false
   },
   "outputs": [],
   "source": []
  },
  {
   "cell_type": "code",
   "execution_count": null,
   "metadata": {
    "collapsed": false
   },
   "outputs": [],
   "source": [
    "min_move = 1\n",
    "\n",
    "moved_bids = [int(i) for i in graph.compound_bl_filter(experiment, threshold=min_move)]\n",
    "new_moved_bids = [int(i) for i in graph2.compound_bl_filter(experiment, threshold=min_move)]\n",
    "\n",
    "print len(moved_bids), 'nodes moved over threshold in origional graph'\n",
    "print len(new_moved_bids), 'nodes moved over threshold in final graph'"
   ]
  },
  {
   "cell_type": "markdown",
   "metadata": {},
   "source": [
    "Create step plots for before and after we 'fix' the data"
   ]
  },
  {
   "cell_type": "code",
   "execution_count": null,
   "metadata": {
    "collapsed": false
   },
   "outputs": [],
   "source": [
    "true_num = experiment.true_num\n",
    "\n",
    "steps0, durations0 = calculate_duration_data_from_graph(experiment, original_graph, original_graph.nodes(data=False))\n",
    "steps, durations = calculate_duration_data_from_graph(experiment, original_graph, moved_bids)\n",
    "\n",
    "fig, ax = plt.subplots()\n",
    "step_plot(ax, steps)\n",
    "ax.set_title('original blobs moving > {t} BL'.format(t=min_move))\n",
    "ax.set_xlabel('minutes')\n",
    "plt.show()\n",
    "\n",
    "steps2, durations2 = calculate_duration_data_from_graph(experiment, graph2, graph2.nodes(data=False))\n",
    "\n",
    "fig, ax = plt.subplots()\n",
    "step_plot(ax, steps2)\n",
    "ax.set_title('all blobs in final graph')\n",
    "ax.set_xlabel('minutes')\n",
    "plt.show()\n",
    "\n",
    "moved_steps2, moved_durations2 = calculate_duration_data_from_graph(experiment, graph2, new_moved_bids)\n",
    "\n",
    "fig, ax = plt.subplots()\n",
    "step_plot(ax, moved_steps2)\n",
    "ax.set_title('final blobs moving > {t} BL'.format(t=min_move))\n",
    "ax.set_xlabel('minutes')\n",
    "plt.show()"
   ]
  },
  {
   "cell_type": "code",
   "execution_count": null,
   "metadata": {
    "collapsed": false
   },
   "outputs": [],
   "source": [
    "df = ssim.run_ideal_step_simulation(experiment, verbose=True)\n",
    "fig, ax = plt.subplots()\n",
    "step_plot(ax, df, true_num=experiment.true_num)"
   ]
  },
  {
   "cell_type": "code",
   "execution_count": null,
   "metadata": {
    "collapsed": false
   },
   "outputs": [],
   "source": [
    "def top_step_plot(ax, step_df, min_duration=10, true_num=30):\n",
    "    best = step_df[step_df['lifespan'] >= 10]\n",
    "    print best.head()\n",
    "    \n",
    "    steps = []\n",
    "    n_steps = len(best)\n",
    "\n",
    "    xs = list(best['t0'])\n",
    "    widths = list(best['lifespan'])\n",
    "    height = 1\n",
    "\n",
    "    color_cycle = ax._get_lines.color_cycle\n",
    "    color1 = color_cycle.next()\n",
    "    color2 = color_cycle.next()\n",
    "    for y, (x, width) in enumerate(zip(xs, widths)):\n",
    "        steps.append(patches.Rectangle((x,y), height=height, width=width,\n",
    "                                       fill=True, fc=color1, ec=color1))\n",
    "    for step in steps:\n",
    "        ax.add_patch(step)\n",
    "\n",
    "    xmax = 60\n",
    "    ideal = patches.Rectangle((0,0), height=true_num, width=xmax,\n",
    "                              fill=True, ec=color2, fc=color2,\n",
    "                              alpha=0.5)\n",
    "\n",
    "    ax.add_patch(ideal)\n",
    "    ax.plot([0], color=color1, label='actual')\n",
    "    ax.plot([0], color=color2, alpha=0.5, label='ideal')\n",
    "    ax.set_xlim([0, xmax])\n",
    "    ax.set_ylim([0, n_steps+1])\n",
    "\n",
    "steps0, durations0 = calculate_duration_data_from_graph(experiment, original_graph, original_graph.nodes(data=False))\n",
    "fig, ax = plt.subplots()\n",
    "top_step_plot(ax, steps0)\n",
    "ax.set_title('blobs > 10 min in raw data')\n",
    "ax.set_xlabel('minutes')\n",
    "plt.show()\n",
    "\n",
    "steps2, durations2 = calculate_duration_data_from_graph(experiment, graph2, graph2.nodes(data=False))\n",
    "fig, ax = plt.subplots()\n",
    "top_step_plot(ax, steps2)\n",
    "ax.set_title('blobs > 10 min in final data')\n",
    "ax.set_xlabel('minutes')\n",
    "plt.show()"
   ]
  },
  {
   "cell_type": "code",
   "execution_count": null,
   "metadata": {
    "collapsed": false
   },
   "outputs": [],
   "source": [
    "def compare_step_plots(step_df1, step_df2, titles=['',''], true_num=30, i=0):\n",
    "\n",
    "    \n",
    "    fig, (ax1, ax2) = plt.subplots(1,2)\n",
    "    fig.set_size_inches(20, 10)\n",
    "\n",
    "    #steps = []\n",
    "    n_steps = max(len(step_df1), len(step_df2))\n",
    "    xmax = 60\n",
    "    def make_steps(ax, df, i=1):\n",
    "        steps = []\n",
    "        xs = list(df['t0'])\n",
    "        widths = list(df['lifespan'])\n",
    "        height = 1\n",
    "\n",
    "        color_cycle = ax._get_lines.color_cycle\n",
    "        color1 = color_cycle.next()\n",
    "        color2 = color_cycle.next()\n",
    "        for y, (x, width) in enumerate(zip(xs, widths)):\n",
    "            if i == 0:\n",
    "                c = color1\n",
    "            else:\n",
    "                c = color2\n",
    "            steps.append(patches.Rectangle((x,y), height=height, width=width,\n",
    "                                           fill=True, fc=c, ec=c))\n",
    "        for step in steps:\n",
    "            ax.add_patch(step)\n",
    "\n",
    "\n",
    "        ideal = patches.Rectangle((0,0), height=true_num, width=xmax,\n",
    "                                  fill=True, ec=color2, fc=color2,\n",
    "                                  alpha=0.5)\n",
    "\n",
    "        ax.add_patch(ideal)\n",
    "        #if i != 2:\n",
    "        #    ax.plot([0], color=color1, label='actual')\n",
    "        #else:\n",
    "        #ax.plot([0], color=color1, label='actual')\n",
    "        #ax.plot([0], color=color2, alpha=0.5, label='ideal')\n",
    "        ax.set_xlim([0, xmax])\n",
    "        ax.set_ylim([0, n_steps+1])\n",
    "        ax.set_xlabel('minutes')\n",
    "        ax.set_ylabel('tracks')\n",
    "        \n",
    "    make_steps(ax1, step_df1, i=0)\n",
    "    ax1.set_title(titles[0])\n",
    "    make_steps(ax2, step_df2, i=2)\n",
    "    ax2.set_title(titles[1])\n",
    "\n",
    "    for ax in [ax1, ax2]:\n",
    "        for item in ([ax.title, ax.xaxis.label, ax.yaxis.label] +\n",
    "                 ax.get_xticklabels() + ax.get_yticklabels()):\n",
    "            item.set_fontsize(20)\n",
    "    plt.savefig('final-step-plot.png')\n",
    "titles = ['raw (blobs >10 min)', 'final (blobs >10 min)']\n",
    "compare_step_plots(steps0[steps0['lifespan'] >= 10], steps2[steps2['lifespan'] >= 10], titles=titles)"
   ]
  },
  {
   "cell_type": "code",
   "execution_count": null,
   "metadata": {
    "collapsed": false
   },
   "outputs": [],
   "source": [
    "\n",
    "def compare_step_plots2(step_df1, step_df2, true_num=30):\n",
    "\n",
    "    \n",
    "    fig, ax = plt.subplots()\n",
    "    #fig.set_size_inches(20, 10)\n",
    "    \n",
    "    #steps = []\n",
    "    n_steps = max(len(step_df1), len(step_df2))\n",
    "    xmax = 60\n",
    "    def make_steps(ax, df, alpha=1.0):\n",
    "        steps = []\n",
    "        xs = list(df['t0'])\n",
    "        widths = list(df['lifespan'])\n",
    "        height = 1\n",
    "\n",
    "        color_cycle = ax._get_lines.color_cycle\n",
    "        color1 = color_cycle.next()\n",
    "        color2 = color_cycle.next()\n",
    "        for y, (x, width) in enumerate(zip(xs, widths)):\n",
    "            steps.append(patches.Rectangle((x,y), height=height, width=width,\n",
    "                                           fill=True, fc=color1, ec=color1, alpha=alpha))\n",
    "        for step in steps:\n",
    "            ax.add_patch(step)\n",
    "\n",
    "\n",
    "        #ideal = patches.Rectangle((0,0), height=true_num, width=xmax,\n",
    "        #                          fill=True, ec=color2, fc=color2,\n",
    "        #                          alpha=0.5)\n",
    "\n",
    "        #ax.add_patch(ideal)\n",
    "        #ax.plot([0], color=color1, alpha=alpha)\n",
    "        ax.set_xlim([0, xmax])\n",
    "        ax.set_ylim([0, n_steps+1])\n",
    "        ax.set_xlabel('minutes')\n",
    "        ax.set_ylabel('tracks')\n",
    "        \n",
    "    make_steps(ax, step_df1)\n",
    "    make_steps(ax, step_df2, alpha=0.5)\n",
    "    \n",
    "titles = ['blobs >10 min from raw data', 'blobs >10 min from final data']\n",
    "compare_step_plots(steps0[steps0['lifespan'] >= 10], steps2[steps2['lifespan'] >= 10], titles=titles)\n",
    "#compare_step_plots2(steps0[steps0['lifespan'] >= 10], steps2[steps2['lifespan'] >= 10])\n",
    "\n",
    "#compare_step_plots(steps2[steps2['lifespan'] >= 10], steps0[steps0['lifespan'] >= 10])\n",
    "plt.show()"
   ]
  },
  {
   "cell_type": "markdown",
   "metadata": {},
   "source": [
    "create CDF showing the duration difference"
   ]
  },
  {
   "cell_type": "code",
   "execution_count": null,
   "metadata": {
    "collapsed": false
   },
   "outputs": [],
   "source": [
    "fig, ax = plt.subplots()\n",
    "fig.set_size_inches(10, 8)\n",
    "make_cdf(ax, [d for d in durations0 if d>10], label= 'original nodes > 10 min', xmin=10, xmax=60)\n",
    "make_cdf(ax, [d for d in durations2 if d>10], label='final nodes > 10 min', xmin=10, xmax=60)\n",
    "ax.legend(loc='lower right', prop={'size':20})\n",
    "\n",
    "for item in ([ax.title, ax.xaxis.label, ax.yaxis.label] +\n",
    "         ax.get_xticklabels() + ax.get_yticklabels()):\n",
    "    item.set_fontsize(20)\n",
    "#plt.show()\n",
    "plt.savefig('long-cdf-improvement.png')"
   ]
  },
  {
   "cell_type": "code",
   "execution_count": null,
   "metadata": {
    "collapsed": false
   },
   "outputs": [],
   "source": [
    "fig, ax = plt.subplots()\n",
    "fig.set_size_inches(10, 8)\n",
    "make_cdf(ax, durations0, label= 'all original', xmax=30)\n",
    "make_cdf(ax, durations2, label='all final nodes', xmax=30)\n",
    "ax.legend(loc='lower right', prop={'size':20})\n",
    "for item in ([ax.title, ax.xaxis.label, ax.yaxis.label] +\n",
    "         ax.get_xticklabels() + ax.get_yticklabels()):\n",
    "    item.set_fontsize(20)\n",
    "#plt.show()\n",
    "plt.savefig('all-cdf-improvement.png')"
   ]
  },
  {
   "cell_type": "code",
   "execution_count": null,
   "metadata": {
    "collapsed": false
   },
   "outputs": [],
   "source": [
    "fig, ax = plt.subplots()\n",
    "make_cdf(ax, durations0, label= 'all original', xmax=60)\n",
    "make_cdf(ax, durations2, label='all final nodes', xmax=60)\n",
    "make_cdf(ax, [d for d in durations0 if d>10], label= 'original nodes > 10 min', xmin=10, xmax=60)\n",
    "make_cdf(ax, [d for d in durations2 if d>10], label='final nodes > 10 min', xmin=10, xmax=60)\n",
    "ax.legend(loc='lower right')\n",
    "plt.show()"
   ]
  },
  {
   "cell_type": "code",
   "execution_count": null,
   "metadata": {
    "collapsed": false
   },
   "outputs": [],
   "source": [
    "fig, ax = plt.subplots()\n",
    "make_cdf(ax, durations0, label= 'all original')\n",
    "make_cdf(ax, durations, label= 'original > 2 BL')\n",
    "make_cdf(ax, durations2, label='all final nodes')\n",
    "make_cdf(ax, moved_durations2, label='final nodes that origionally moved > 2 BL')\n",
    "ax.legend(loc='lower right')\n",
    "plt.show()"
   ]
  },
  {
   "cell_type": "markdown",
   "metadata": {},
   "source": [
    "TODO: create plots showing how applying the same threshold to our data before and after fixing it\n",
    "    changes our True Positive / False Positives / False Negative rates"
   ]
  },
  {
   "cell_type": "code",
   "execution_count": null,
   "metadata": {
    "collapsed": false
   },
   "outputs": [],
   "source": [
    "#TODO format this to work for graph based data.\n",
    "def calculate_stats_for_bid_lists(bid_lists, prep_data):\n",
    "    \n",
    "    base_accuracy = prep_data.load('accuracy')\n",
    "    matches = prep_data.load('matches')\n",
    "    counts, tps, fps, fns = [], [], [], []\n",
    "    for bids in bid_lists:\n",
    "        filtered_accuracy = ea.recalculate_accuracy(matches, base_accuracy, bids=bids)\n",
    "        counts.append(len(bids))\n",
    "        tp = filtered_accuracy['true-pos'].mean()\n",
    "        fp = filtered_accuracy['false-pos'].mean()\n",
    "        fn = filtered_accuracy['false-neg'].mean()\n",
    "        tps.append(tp)\n",
    "        fps.append(fp)\n",
    "        fns.append(fn)\n",
    "\n",
    "    tps = np.array(tps)\n",
    "    fps = np.array(fps)\n",
    "    fns = np.array(fns)\n",
    "    totals = fns + tps\n",
    "    tps_p = tps / totals * 100\n",
    "    fps_p = fps / totals * 100\n",
    "    fns_p = fns / totals * 100\n",
    "\n",
    "    print('true counts=', np.mean(totals))\n",
    "\n",
    "    data = pd.DataFrame([tps_p, fns_p, fps_p], index=['TP', 'FN', 'FP']).T\n",
    "    counts = pd.DataFrame(counts, columns=['counts'])\n",
    "    return data, counts"
   ]
  },
  {
   "cell_type": "code",
   "execution_count": null,
   "metadata": {
    "collapsed": false
   },
   "outputs": [],
   "source": []
  },
  {
   "cell_type": "code",
   "execution_count": null,
   "metadata": {
    "collapsed": false
   },
   "outputs": [],
   "source": []
  },
  {
   "cell_type": "markdown",
   "metadata": {},
   "source": [
    "# Error Checking Cells"
   ]
  },
  {
   "cell_type": "code",
   "execution_count": null,
   "metadata": {
    "collapsed": false
   },
   "outputs": [],
   "source": [
    "unknown_ids, id_change_ids = show_reasons(ends)\n",
    "#print unknown_ids\n",
    "#print id_change_ids\n",
    "unk = pd.DataFrame(unknown_ids)\n",
    "name = '{eid}-unknown_ids.csv'.format(eid=ex_id)\n",
    "print name\n",
    "unk.to_csv(name, index=False, header=False)\n",
    "\n",
    "col = pd.DataFrame(id_change_ids)\n",
    "name = '{eid}-unresolved_collision_ids.csv'.format(eid=ex_id)\n",
    "col.to_csv(name, index=False, header=False)\n"
   ]
  },
  {
   "cell_type": "code",
   "execution_count": null,
   "metadata": {
    "collapsed": false
   },
   "outputs": [],
   "source": [
    "us = starts[starts['reason'] == 'unknown']\n",
    "ue = ends[ends['reason'] == 'unknown'].reset_index()\n",
    "#print us.head()\n",
    "ue = ue.rename(columns={'node_id':'node1', 'bid':'blob1'})\n",
    "ue = ue[['blob1', 'node1', 't', 'x', 'y']]\n",
    "#print ue.head()\n",
    "\n",
    "match_data = []\n",
    "for blob2, s in starts.iterrows():\n",
    "    node2 = s['node_id']\n",
    "    x, y = s['x'], s['y']\n",
    "    t = s['t']\n",
    "    \n",
    "    print blob2, node2, x, y, t\n",
    "    match_check = ue.copy()\n",
    "    match_check['node2'] = node2\n",
    "    match_check['blob2'] = node2\n",
    "    match_check['dt'] = t - match_check['t']\n",
    "    match_check['dx'] = np.fabs(x - match_check['x'])\n",
    "    match_check['dy'] = np.fabs(y - match_check['y'])\n",
    "    match_check['dist'] = np.sqrt(match_check['dt']**2 + match_check['dx']**2 + match_check['dy']**2)\n",
    "    match_check['d_spacetime'] = np.sqrt(match_check['dt']**2 + match_check['dx']**2 + match_check['dy']**2)\n",
    "\n",
    "    match_check = match_check[['blob1', 'blob2', 'dt', 'dist', 'd_spacetime']]\n",
    "    match_check.sort('d_spacetime', inplace=True)\n",
    "    print match_check.head()\n",
    "    \n",
    "    \n",
    "\n"
   ]
  },
  {
   "cell_type": "markdown",
   "metadata": {},
   "source": [
    "these are two cells that aren't part of the workflow but that were used to sanity check the processing"
   ]
  },
  {
   "cell_type": "code",
   "execution_count": null,
   "metadata": {
    "collapsed": false
   },
   "outputs": [],
   "source": [
    "def double_check_duration(experiment, graph1, graph2, node_ids):\n",
    "    frame_times = experiment.frame_times\n",
    "    step_data, durations = [], []\n",
    "    good_nodes = []\n",
    "    bad_nodes = []\n",
    "    for node in node_ids:\n",
    "        node_data = graph2.node[node]\n",
    "        bf, df = node_data['born'], node_data['died']\n",
    "        components = node_data.get('components', [])\n",
    "        \n",
    "        node_checks_out = True\n",
    "        for c in components:\n",
    "            nd = graph1.node[c]\n",
    "            cb, cd = nd['born'], nd['died']\n",
    "            if cb < bf:\n",
    "                node_checks_out = False\n",
    "            if cd > df:\n",
    "                node_checks_out = False\n",
    "        if node_checks_out:\n",
    "            good_nodes.append(node)\n",
    "        else:\n",
    "            bad_nodes.append(node)\n",
    "    print len(bad_nodes), 'bad nodes'\n",
    "    print len(good_nodes), 'good nodes'\n",
    "                \n",
    "\n",
    "double_check_duration(experiment, original_graph, graph2, graph2.nodes(data=False))"
   ]
  },
  {
   "cell_type": "code",
   "execution_count": null,
   "metadata": {
    "collapsed": false
   },
   "outputs": [],
   "source": [
    "print len(moved_bids), 'nodes moved over threshold in origional graph'\n",
    "graph3 = original_graph.copy()\n",
    "print 'orig', len(find_nodes_containing_bids(graph3, moved_bids))\n",
    "collider.remove_nodes_outside_roi(graph3, experiment)\n",
    "print 'roi', len(find_nodes_containing_bids(graph3, moved_bids))\n",
    "collider.remove_blank_nodes(graph3, experiment)\n",
    "print 'blank', len(find_nodes_containing_bids(graph3, moved_bids))\n",
    "collider.removal_suite(graph3) #, assimilate=-1)\n",
    "print 'suite', len(find_nodes_containing_bids(graph3, moved_bids))\n",
    "bridge_gaps(experiment, graph3, threshold=0.001)\n",
    "print 'gaps', len(find_nodes_containing_bids(graph3, moved_bids))\n",
    "\n",
    "steps3, durations3 = calculate_duration_data_from_graph(experiment, graph3, graph3.nodes(data=False))\n",
    "\n",
    "fig, ax = plt.subplots()\n",
    "step_plot(ax, steps3)\n",
    "ax.set_title('second try at figuring out graph')\n",
    "ax.set_xlabel('minutes')\n",
    "\n",
    "fig, ax = plt.subplots()\n",
    "make_cdf(ax, durations3)\n",
    "\n",
    "plt.show()\n",
    "\n"
   ]
  },
  {
   "cell_type": "code",
   "execution_count": null,
   "metadata": {
    "collapsed": false
   },
   "outputs": [],
   "source": []
  },
  {
   "cell_type": "code",
   "execution_count": null,
   "metadata": {
    "collapsed": false
   },
   "outputs": [],
   "source": []
  },
  {
   "cell_type": "code",
   "execution_count": null,
   "metadata": {
    "collapsed": false
   },
   "outputs": [],
   "source": []
  },
  {
   "cell_type": "code",
   "execution_count": null,
   "metadata": {
    "collapsed": false
   },
   "outputs": [],
   "source": [
    "# WEIRD!\n",
    "# old and new functions for detecting movement do not match up 100%\n",
    "# new function uses generalized body lenght, old one uses individual body length ...\n",
    "\n",
    "min_move = 3\n",
    "\n",
    "move = experiment.prepdata.load('moved')\n",
    "moved_bids = list(set(move[move['bl_moved'] >= min_move]['bid']))\n",
    "moving_nodes = [int(i) for i in graph.compound_bl_filter(experiment, threshold=min_move)]\n",
    "print len(moved_bids), 'nodes moved over threshold in origional graph'\n",
    "print len(moving_nodes), 'found with modern methods'\n",
    "print len(set(moved_bids) & set(moving_nodes))\n",
    "print len(find_nodes_containing_bids(original_graph, moved_bids)), 'check. this number should be same as first'"
   ]
  }
 ],
 "metadata": {
  "kernelspec": {
   "display_name": "Python 3",
   "language": "python",
   "name": "python3"
  },
  "language_info": {
   "codemirror_mode": {
    "name": "ipython",
    "version": 3
   },
   "file_extension": ".py",
   "mimetype": "text/x-python",
   "name": "python",
   "nbconvert_exporter": "python",
   "pygments_lexer": "ipython3",
   "version": "3.4.1"
  }
 },
 "nbformat": 4,
 "nbformat_minor": 0
}
