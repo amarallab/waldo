{
 "metadata": {
  "name": "",
  "signature": "sha256:dc9a17b645afc9174e0b1794df720690780af9d5b6a03eead0d8e4061c9d5664"
 },
 "nbformat": 3,
 "nbformat_minor": 0,
 "worksheets": [
  {
   "cells": [
    {
     "cell_type": "heading",
     "level": 1,
     "metadata": {},
     "source": [
      "Generic Experiment Loader Template"
     ]
    },
    {
     "cell_type": "code",
     "collapsed": false,
     "input": [
      "%load_ext autoreload\n",
      "%autoreload 2\n",
      "%matplotlib inline"
     ],
     "language": "python",
     "metadata": {},
     "outputs": [],
     "prompt_number": 1
    },
    {
     "cell_type": "code",
     "collapsed": false,
     "input": [
      "from __future__ import print_function, division\n",
      "import six\n",
      "import pathcustomize, about\n",
      "about.about()\n",
      "\n",
      "import wio\n",
      "import collider\n",
      "\n",
      "import numpy as np\n",
      "#import matplotlib\n",
      "#matplotlib.use('Agg')\n",
      "import matplotlib.pyplot as plt\n",
      "from PIL import Image\n",
      "from collider.viz.tools.box import Box"
     ],
     "language": "python",
     "metadata": {},
     "outputs": [],
     "prompt_number": 2
    },
    {
     "cell_type": "code",
     "collapsed": false,
     "input": [
      "#ex_id = '20130614_120518'\n",
      "#ex_id = '20130318_131111'\n",
      "#ex_id = '20130414_140704'\n",
      "ex_id = '20130702_135704' # many pics\n",
      "#ex_id = '20130702_135652' # many pics\n",
      "\n",
      "experiment = wio.Experiment(experiment_id=ex_id)\n",
      "graph = experiment.graph.copy()\n",
      "collider.remove_nodes_outside_roi(graph, experiment)\n",
      "len(graph)"
     ],
     "language": "python",
     "metadata": {},
     "outputs": [
      {
       "metadata": {},
       "output_type": "pyout",
       "prompt_number": 3,
       "text": [
        "11098"
       ]
      }
     ],
     "prompt_number": 3
    },
    {
     "cell_type": "code",
     "collapsed": false,
     "input": [
      "frame = 1000\n",
      "frame_img, img_time = experiment.image_files.nearest(frame=frame)\n",
      "bids = experiment.blobs_in_frame(frame)\n",
      "\n",
      "blob = experiment[bids[2]]\n",
      "blob.df.decode_contour()\n",
      "frame_data = blob.df[blob.df.frame == frame]\n",
      "centroid = frame_data['centroid'].values[0]\n",
      "contour = frame_data['contour'].values[0] # extract list"
     ],
     "language": "python",
     "metadata": {},
     "outputs": [],
     "prompt_number": 91
    },
    {
     "cell_type": "code",
     "collapsed": false,
     "input": [
      "sqsize = 10\n",
      "zoombox = Box(center=centroid, size=(sqsize, sqsize))\n",
      "zoombox.PIL"
     ],
     "language": "python",
     "metadata": {},
     "outputs": [
      {
       "metadata": {},
       "output_type": "pyout",
       "prompt_number": 92,
       "text": [
        "(848, 1170, 859, 1181)"
       ]
      }
     ],
     "prompt_number": 92
    },
    {
     "cell_type": "code",
     "collapsed": false,
     "input": [
      "def pillowed(img_file):\n",
      "    img = Image.open(img_file)\n",
      "    img = img.transpose(Image.FLIP_LEFT_RIGHT).transpose(Image.ROTATE_90) \n",
      "    return img\n",
      "\n",
      "def pil_crop(img, box):\n",
      "    pil_box = Box([int(x) for x in box])\n",
      "    retimg = img.crop(pil_box.PIL)\n",
      "    print(pil_box)\n",
      "    pil_box.center = (c - 0.5 for c in pil_box.center)    \n",
      "    return retimg, pil_box\n",
      "    \n",
      "img = pillowed(frame_img.open('rb'))\n",
      "img, extents = pil_crop(img, zoombox)"
     ],
     "language": "python",
     "metadata": {},
     "outputs": [
      {
       "output_type": "stream",
       "stream": "stdout",
       "text": [
        "Box(left=845, right=861, bottom=1167, top=1183)\n"
       ]
      }
     ],
     "prompt_number": 99
    },
    {
     "cell_type": "code",
     "collapsed": false,
     "input": [
      "f, ax = plt.subplots()\n",
      "\n",
      "f.set_size_inches((10, 10))\n",
      "\n",
      "imarr = np.asarray(img)\n",
      "\n",
      "ax.imshow(imarr, cmap=plt.cm.YlOrBr, extent=extents.vflip, interpolation='nearest')\n",
      "\n",
      "ax.plot(*zip(*contour))\n",
      "\n",
      "extents.grow(2)\n",
      "ax.set_xlim(extents.x)\n",
      "ax.set_ylim(extents.y)\n",
      "plt.show()\n",
      "print(extents)"
     ],
     "language": "python",
     "metadata": {},
     "outputs": [
      {
       "metadata": {},
       "output_type": "display_data",
       "png": "[encoded data removed]",
       "text": [
        "<matplotlib.figure.Figure at 0x2cb71940>"
       ]
      },
      {
       "output_type": "stream",
       "stream": "stdout",
       "text": [
        "Box(left=842.5, right=862.5, bottom=1164.5, top=1184.5)\n"
       ]
      }
     ],
     "prompt_number": 101
    },
    {
     "cell_type": "code",
     "collapsed": false,
     "input": [],
     "language": "python",
     "metadata": {},
     "outputs": []
    }
   ],
   "metadata": {}
  }
 ]
}