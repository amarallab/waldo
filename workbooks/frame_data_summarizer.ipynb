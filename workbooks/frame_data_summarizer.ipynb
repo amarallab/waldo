{
 "metadata": {
  "name": "",
  "signature": "sha256:72523f58a58f9510bca0b9dfcbbe698ab2e678f0e9f6ed1ba1d0847ae00fa3d7"
 },
 "nbformat": 3,
 "nbformat_minor": 0,
 "worksheets": [
  {
   "cells": [
    {
     "cell_type": "code",
     "collapsed": false,
     "input": [
      "%load_ext autoreload\n",
      "%autoreload 2\n",
      "%matplotlib inline"
     ],
     "language": "python",
     "metadata": {},
     "outputs": [],
     "prompt_number": 1
    },
    {
     "cell_type": "code",
     "collapsed": false,
     "input": [
      "from __future__ import print_function, absolute_import, unicode_literals, division\n",
      "import six\n",
      "from six.moves import (zip, filter, map, reduce, input, range)\n",
      "\n",
      "import pathcustomize\n",
      "\n",
      "import sys\n",
      "import os\n",
      "import errno\n",
      "import pathlib\n",
      "import itertools\n",
      "import platform\n",
      "import math\n",
      "print('Python {} ({}) [{}] on {}'.format(platform.python_version(), ', '.join(platform.python_build()), \n",
      "                                       platform.python_compiler(), sys.platform))\n",
      "\n",
      "import numpy as np\n",
      "import pandas as pd\n",
      "import matplotlib.pyplot as plt\n",
      "\n",
      "os.environ.setdefault('MULTIWORM_SETTINGS', 'multiworm_settings')\n",
      "\n",
      "import multiworm\n",
      "import wio.file_manager as fm"
     ],
     "language": "python",
     "metadata": {},
     "outputs": [
      {
       "output_type": "stream",
       "stream": "stdout",
       "text": [
        "Python 3.4.1 (v3.4.1:c0e311e010fc, May 18 2014 10:45:13) [MSC v.1600 64 bit (AMD64)] on win32\n"
       ]
      }
     ],
     "prompt_number": 29
    },
    {
     "cell_type": "code",
     "collapsed": false,
     "input": [
      "PREP_DATA = pathlib.Path() / '..' / 'data' / 'prep'\n",
      "\n",
      "def prep_data_dir(ex_id):\n",
      "    return PREP_DATA / ex_id\n",
      "\n",
      "def prep_data_filename(ex_id, name):\n",
      "    return prep_data_dir(ex_id) / '{}-{}.csv'.format(ex_id, name)"
     ],
     "language": "python",
     "metadata": {},
     "outputs": [],
     "prompt_number": 3
    },
    {
     "cell_type": "code",
     "collapsed": false,
     "input": [
      "ex_id = '20130318_131111'\n",
      "experiment = multiworm.Experiment(experiment_id=ex_id)\n",
      "experiment.load_summary()"
     ],
     "language": "python",
     "metadata": {},
     "outputs": [],
     "prompt_number": 4
    },
    {
     "cell_type": "code",
     "collapsed": false,
     "input": [
      "prep_file = fm.Preprocess_File(ex_id=ex_id)\n",
      "roi = prep_file.roi()"
     ],
     "language": "python",
     "metadata": {},
     "outputs": [],
     "prompt_number": 5
    },
    {
     "cell_type": "code",
     "collapsed": false,
     "input": [
      "bounds = pd.read_csv(str(prep_data_filename(ex_id, 'bounds')), index_col=0)\n",
      "sizes = pd.read_csv(str(prep_data_filename(ex_id, 'sizes')), index_col=0)\n",
      "\n",
      "prep_data = pd.concat([bounds, sizes], axis=1, join='inner')"
     ],
     "language": "python",
     "metadata": {},
     "outputs": [],
     "prompt_number": 6
    },
    {
     "cell_type": "code",
     "collapsed": false,
     "input": [
      "x_mid = (prep_data.x_min + prep_data.x_max) / 2\n",
      "y_mid = (prep_data.y_min + prep_data.y_max) / 2\n",
      "movement_px = (bounds.x_max - bounds.x_min) + (bounds.y_max - bounds.y_min)\n",
      "movement_rel = movement_px / prep_data.midline_median"
     ],
     "language": "python",
     "metadata": {},
     "outputs": [],
     "prompt_number": 7
    },
    {
     "cell_type": "code",
     "collapsed": false,
     "input": [
      "prep_data['in_roi'] = (x_mid - roi['x']) ** 2 + (y_mid - roi['y']) ** 2 < roi['r'] ** 2\n",
      "in_roi = set(index for index, is_in in zip(prep_data.index, prep_data.in_roi) if is_in)"
     ],
     "language": "python",
     "metadata": {},
     "outputs": [],
     "prompt_number": 8
    },
    {
     "cell_type": "code",
     "collapsed": true,
     "input": [
      "rel_move_threshold = 1\n",
      "prep_data['moved_enough'] = movement_rel >= rel_move_threshold\n",
      "moved_enough = set(index for index, enough in zip(prep_data.index, prep_data.moved_enough) if enough)"
     ],
     "language": "python",
     "metadata": {},
     "outputs": [],
     "prompt_number": 9
    },
    {
     "cell_type": "code",
     "collapsed": false,
     "input": [
      "len(moved_enough)"
     ],
     "language": "python",
     "metadata": {},
     "outputs": [
      {
       "metadata": {},
       "output_type": "pyout",
       "prompt_number": 10,
       "text": [
        "783"
       ]
      }
     ],
     "prompt_number": 10
    },
    {
     "cell_type": "code",
     "collapsed": false,
     "input": [
      "len(moved_enough & in_roi)"
     ],
     "language": "python",
     "metadata": {},
     "outputs": [
      {
       "metadata": {},
       "output_type": "pyout",
       "prompt_number": 11,
       "text": [
        "763"
       ]
      }
     ],
     "prompt_number": 11
    },
    {
     "cell_type": "code",
     "collapsed": false,
     "input": [
      "centroid_frames = []\n",
      "\n",
      "for bid in moved_enough & in_roi:\n",
      "    blob = experiment.parse_blob(bid)\n",
      "    df = pd.DataFrame(blob['centroid'], columns=['x', 'y'])\n",
      "    df['frame'] = blob['frame']\n",
      "    df['bid'] = bid\n",
      "    centroid_frames.append(df)"
     ],
     "language": "python",
     "metadata": {},
     "outputs": [],
     "prompt_number": 12
    },
    {
     "cell_type": "code",
     "collapsed": false,
     "input": [
      "cfdf = pd.concat(centroid_frames, ignore_index=True)"
     ],
     "language": "python",
     "metadata": {},
     "outputs": [],
     "prompt_number": 15
    },
    {
     "cell_type": "code",
     "collapsed": false,
     "input": [
      "chopped_cfdf = cfdf[cfdf['frame'] < 10000]"
     ],
     "language": "python",
     "metadata": {},
     "outputs": [],
     "prompt_number": 19
    },
    {
     "cell_type": "code",
     "collapsed": false,
     "input": [
      "fn = ex_id + '_first_10k_frames.csv'\n",
      "chopped_cfdf.to_csv(fn, index=False)"
     ],
     "language": "python",
     "metadata": {},
     "outputs": [],
     "prompt_number": 24
    },
    {
     "cell_type": "code",
     "collapsed": false,
     "input": [
      "frame_data = pd.read_csv(ex_id + '_first_10k_frames.csv', )"
     ],
     "language": "python",
     "metadata": {},
     "outputs": [],
     "prompt_number": 25
    },
    {
     "cell_type": "code",
     "collapsed": false,
     "input": [
      "frame_data.shape"
     ],
     "language": "python",
     "metadata": {},
     "outputs": [
      {
       "metadata": {},
       "output_type": "pyout",
       "prompt_number": 41,
       "text": [
        "(96682, 4)"
       ]
      }
     ],
     "prompt_number": 41
    },
    {
     "cell_type": "code",
     "collapsed": false,
     "input": [
      "f, ax = plt.subplots()\n",
      "\n",
      "frame1k = frame_data[frame_data['frame'] == 1000]\n",
      "ax.plot(frame1k['x'], frame1k['y'], '.')"
     ],
     "language": "python",
     "metadata": {},
     "outputs": [
      {
       "metadata": {},
       "output_type": "pyout",
       "prompt_number": 39,
       "text": [
        "[<matplotlib.lines.Line2D at 0xc605f28>]"
       ]
      },
      {
       "metadata": {},
       "output_type": "display_data",
       "png": "[encoded data removed]",
       "text": [
        "<matplotlib.figure.Figure at 0xc605ef0>"
       ]
      }
     ],
     "prompt_number": 39
    },
    {
     "cell_type": "code",
     "collapsed": false,
     "input": [
      "frame1k[['x', 'y']]"
     ],
     "language": "python",
     "metadata": {},
     "outputs": [
      {
       "html": [
        "<div style=\"max-height:1000px;max-width:1500px;overflow:auto;\">\n",
        "<table border=\"1\" class=\"dataframe\">\n",
        "  <thead>\n",
        "    <tr style=\"text-align: right;\">\n",
        "      <th></th>\n",
        "      <th>x</th>\n",
        "      <th>y</th>\n",
        "    </tr>\n",
        "  </thead>\n",
        "  <tbody>\n",
        "    <tr>\n",
        "      <th>20388</th>\n",
        "      <td>  551.777</td>\n",
        "      <td>  152.177</td>\n",
        "    </tr>\n",
        "    <tr>\n",
        "      <th>22209</th>\n",
        "      <td>  532.792</td>\n",
        "      <td>  239.224</td>\n",
        "    </tr>\n",
        "    <tr>\n",
        "      <th>24765</th>\n",
        "      <td> 1642.415</td>\n",
        "      <td> 1395.727</td>\n",
        "    </tr>\n",
        "    <tr>\n",
        "      <th>28616</th>\n",
        "      <td> 1057.002</td>\n",
        "      <td> 1516.450</td>\n",
        "    </tr>\n",
        "    <tr>\n",
        "      <th>31515</th>\n",
        "      <td> 1157.122</td>\n",
        "      <td> 1231.950</td>\n",
        "    </tr>\n",
        "    <tr>\n",
        "      <th>32130</th>\n",
        "      <td> 1358.195</td>\n",
        "      <td> 1255.758</td>\n",
        "    </tr>\n",
        "    <tr>\n",
        "      <th>32703</th>\n",
        "      <td>  642.895</td>\n",
        "      <td>  965.842</td>\n",
        "    </tr>\n",
        "    <tr>\n",
        "      <th>34876</th>\n",
        "      <td>  649.921</td>\n",
        "      <td>  943.599</td>\n",
        "    </tr>\n",
        "    <tr>\n",
        "      <th>36144</th>\n",
        "      <td> 1264.093</td>\n",
        "      <td> 1731.538</td>\n",
        "    </tr>\n",
        "    <tr>\n",
        "      <th>36181</th>\n",
        "      <td>  710.082</td>\n",
        "      <td>  198.337</td>\n",
        "    </tr>\n",
        "    <tr>\n",
        "      <th>38148</th>\n",
        "      <td>  639.857</td>\n",
        "      <td>  439.551</td>\n",
        "    </tr>\n",
        "    <tr>\n",
        "      <th>38216</th>\n",
        "      <td>  934.835</td>\n",
        "      <td> 1204.111</td>\n",
        "    </tr>\n",
        "  </tbody>\n",
        "</table>\n",
        "<p>12 rows \u00d7 2 columns</p>\n",
        "</div>"
       ],
       "metadata": {},
       "output_type": "pyout",
       "prompt_number": 31,
       "text": [
        "              x         y\n",
        "20388   551.777   152.177\n",
        "22209   532.792   239.224\n",
        "24765  1642.415  1395.727\n",
        "28616  1057.002  1516.450\n",
        "31515  1157.122  1231.950\n",
        "32130  1358.195  1255.758\n",
        "32703   642.895   965.842\n",
        "34876   649.921   943.599\n",
        "36144  1264.093  1731.538\n",
        "36181   710.082   198.337\n",
        "38148   639.857   439.551\n",
        "38216   934.835  1204.111\n",
        "\n",
        "[12 rows x 2 columns]"
       ]
      }
     ],
     "prompt_number": 31
    },
    {
     "cell_type": "code",
     "collapsed": false,
     "input": [],
     "language": "python",
     "metadata": {},
     "outputs": []
    }
   ],
   "metadata": {}
  }
 ]
}