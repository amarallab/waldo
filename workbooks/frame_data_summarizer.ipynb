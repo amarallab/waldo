{
 "metadata": {
  "name": "",
  "signature": "sha256:76d186608d66ace3ece4ba5fe802ade6cf6766d1487a5da691ee10f2df84bc1e"
 },
 "nbformat": 3,
 "nbformat_minor": 0,
 "worksheets": [
  {
   "cells": [
    {
     "cell_type": "code",
     "collapsed": false,
     "input": [
      "%load_ext autoreload\n",
      "%autoreload 2\n",
      "%matplotlib inline"
     ],
     "language": "python",
     "metadata": {},
     "outputs": []
    },
    {
     "cell_type": "code",
     "collapsed": false,
     "input": [
      "from __future__ import print_function, absolute_import, unicode_literals, division\n",
      "import six\n",
      "from six.moves import (zip, filter, map, reduce, input, range)\n",
      "\n",
      "import pathcustomize, about\n",
      "about.about()\n",
      "\n",
      "import os\n",
      "import errno\n",
      "import pathlib\n",
      "import itertools\n",
      "import math\n",
      "\n",
      "import numpy as np\n",
      "import pandas as pd\n",
      "import matplotlib.pyplot as plt\n",
      "\n",
      "from waldo.wio import Experiment\n",
      "from waldo.extern import multiworm"
     ],
     "language": "python",
     "metadata": {},
     "outputs": []
    },
    {
     "cell_type": "code",
     "collapsed": false,
     "input": [
      "PREP_DATA = pathlib.Path() / '..' / 'data' / 'prep'\n",
      "\n",
      "def prep_data_dir(ex_id):\n",
      "    return PREP_DATA / ex_id\n",
      "\n",
      "def prep_data_filename(ex_id, name):\n",
      "    return prep_data_dir(ex_id) / '{}-{}.csv'.format(ex_id, name)"
     ],
     "language": "python",
     "metadata": {},
     "outputs": []
    },
    {
     "cell_type": "code",
     "collapsed": false,
     "input": [
      "ex_id = '20130318_131111'\n",
      "experiment = Experiment(experiment_id=ex_id)"
     ],
     "language": "python",
     "metadata": {},
     "outputs": []
    },
    {
     "cell_type": "code",
     "collapsed": false,
     "input": [
      "roi = experiment.prepdata.roi"
     ],
     "language": "python",
     "metadata": {},
     "outputs": []
    },
    {
     "cell_type": "code",
     "collapsed": false,
     "input": [
      "bounds = pd.read_csv(str(prep_data_filename(ex_id, 'bounds')), index_col=0)\n",
      "sizes = pd.read_csv(str(prep_data_filename(ex_id, 'sizes')), index_col=0)\n",
      "\n",
      "prep_data = pd.concat([bounds, sizes], axis=1, join='inner')"
     ],
     "language": "python",
     "metadata": {},
     "outputs": []
    },
    {
     "cell_type": "code",
     "collapsed": false,
     "input": [
      "x_mid = (prep_data.x_min + prep_data.x_max) / 2\n",
      "y_mid = (prep_data.y_min + prep_data.y_max) / 2\n",
      "movement_px = (bounds.x_max - bounds.x_min) + (bounds.y_max - bounds.y_min)\n",
      "movement_rel = movement_px / prep_data.midline_median"
     ],
     "language": "python",
     "metadata": {},
     "outputs": []
    },
    {
     "cell_type": "code",
     "collapsed": false,
     "input": [
      "prep_data['in_roi'] = (x_mid - roi['x']) ** 2 + (y_mid - roi['y']) ** 2 < roi['r'] ** 2\n",
      "in_roi = set(index for index, is_in in zip(prep_data.index, prep_data.in_roi) if is_in)"
     ],
     "language": "python",
     "metadata": {},
     "outputs": []
    },
    {
     "cell_type": "code",
     "collapsed": true,
     "input": [
      "rel_move_threshold = 1\n",
      "prep_data['moved_enough'] = movement_rel >= rel_move_threshold\n",
      "moved_enough = set(index for index, enough in zip(prep_data.index, prep_data.moved_enough) if enough)"
     ],
     "language": "python",
     "metadata": {},
     "outputs": []
    },
    {
     "cell_type": "code",
     "collapsed": false,
     "input": [
      "len(moved_enough)"
     ],
     "language": "python",
     "metadata": {},
     "outputs": []
    },
    {
     "cell_type": "code",
     "collapsed": false,
     "input": [
      "len(moved_enough & in_roi)"
     ],
     "language": "python",
     "metadata": {},
     "outputs": []
    },
    {
     "cell_type": "code",
     "collapsed": false,
     "input": [
      "centroid_frames = []\n",
      "\n",
      "for bid in moved_enough & in_roi:\n",
      "    blob = experiment.parse_blob(bid)\n",
      "    df = pd.DataFrame(blob['centroid'], columns=['x', 'y'])\n",
      "    df['frame'] = blob['frame']\n",
      "    df['bid'] = bid\n",
      "    centroid_frames.append(df)"
     ],
     "language": "python",
     "metadata": {},
     "outputs": []
    },
    {
     "cell_type": "code",
     "collapsed": false,
     "input": [
      "cfdf = pd.concat(centroid_frames, ignore_index=True)"
     ],
     "language": "python",
     "metadata": {},
     "outputs": []
    },
    {
     "cell_type": "code",
     "collapsed": false,
     "input": [
      "chopped_cfdf = cfdf[cfdf['frame'] < 10000]"
     ],
     "language": "python",
     "metadata": {},
     "outputs": []
    },
    {
     "cell_type": "code",
     "collapsed": false,
     "input": [
      "fn = ex_id + '_first_10k_frames.csv'\n",
      "chopped_cfdf.to_csv(fn, index=False)"
     ],
     "language": "python",
     "metadata": {},
     "outputs": []
    },
    {
     "cell_type": "code",
     "collapsed": false,
     "input": [
      "frame_data = pd.read_csv(ex_id + '_first_10k_frames.csv', )"
     ],
     "language": "python",
     "metadata": {},
     "outputs": []
    },
    {
     "cell_type": "code",
     "collapsed": false,
     "input": [
      "frame_data.shape"
     ],
     "language": "python",
     "metadata": {},
     "outputs": []
    },
    {
     "cell_type": "code",
     "collapsed": false,
     "input": [
      "f, ax = plt.subplots()\n",
      "\n",
      "frame1k = frame_data[frame_data['frame'] == 1000]\n",
      "ax.plot(frame1k['x'], frame1k['y'], '.')"
     ],
     "language": "python",
     "metadata": {},
     "outputs": []
    },
    {
     "cell_type": "code",
     "collapsed": false,
     "input": [
      "frame1k[['x', 'y']]"
     ],
     "language": "python",
     "metadata": {},
     "outputs": []
    },
    {
     "cell_type": "code",
     "collapsed": false,
     "input": [],
     "language": "python",
     "metadata": {},
     "outputs": []
    }
   ],
   "metadata": {}
  }
 ]
}