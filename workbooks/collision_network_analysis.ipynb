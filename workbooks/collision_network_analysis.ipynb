{
 "metadata": {
  "name": "",
  "signature": "sha256:267e60b7f0954c77c16539997d97259926fe35750ebbd6efe74c6856f64308a7"
 },
 "nbformat": 3,
 "nbformat_minor": 0,
 "worksheets": [
  {
   "cells": [
    {
     "cell_type": "markdown",
     "metadata": {},
     "source": [
      "<img src=\"http://img2.wikia.nocookie.net/__cb20110515211858/half-life/en/images/6/6d/Super_button_p2_blue.jpg\" width=\"200\"/>\n",
      "<center><h1>Developing the Heavy Duty Super-Colliding Super Button</h1></center><br />"
     ]
    },
    {
     "cell_type": "code",
     "collapsed": false,
     "input": [
      "%load_ext autoreload\n",
      "%autoreload 2\n",
      "%matplotlib inline"
     ],
     "language": "python",
     "metadata": {},
     "outputs": [
      {
       "output_type": "stream",
       "stream": "stdout",
       "text": [
        "The autoreload extension is already loaded. To reload it, use:\n",
        "  %reload_ext autoreload\n"
       ]
      }
     ],
     "prompt_number": 3
    },
    {
     "cell_type": "code",
     "collapsed": false,
     "input": [
      "from __future__ import print_function, absolute_import, unicode_literals, division\n",
      "import six\n",
      "from six.moves import (zip, filter, map, reduce, input, range)\n",
      "\n",
      "import pathcustomize\n",
      "\n",
      "import sys\n",
      "import os\n",
      "import platform\n",
      "print('Python {} ({}) [{}] on {}'.format(platform.python_version(), ', '.join(platform.python_build()), \n",
      "                                       platform.python_compiler(), sys.platform))\n",
      "\n",
      "import numpy as np\n",
      "import matplotlib.pyplot as plt\n",
      "import networkx as nx\n",
      "from IPython.core.display import Image as display_image\n",
      "\n",
      "os.environ.setdefault('MULTIWORM_SETTINGS', 'multiworm_settings')\n",
      "\n",
      "import multiworm\n",
      "import where\n",
      "import collider\n",
      "import collider.viz"
     ],
     "language": "python",
     "metadata": {},
     "outputs": [
      {
       "output_type": "stream",
       "stream": "stdout",
       "text": [
        "Python 2.7.3 (default, Feb 27 2014 20:00:17) [GCC 4.6.3] on linux2\n"
       ]
      }
     ],
     "prompt_number": 4
    },
    {
     "cell_type": "code",
     "collapsed": false,
     "input": [
      "#ex_id = '20130614_120518'\n",
      "ex_id = '20130318_131111'\n",
      "#ex_id = '20130414_140704'\n",
      "\n",
      "experiment = multiworm.Experiment(experiment_id=ex_id)\n",
      "experiment.load_summary(graph=True)\n",
      "graph = experiment.collision_graph\n",
      "collider.viz.direct_degree_distribution(graph, (3, 4))\n",
      "plt.show()"
     ],
     "language": "python",
     "metadata": {},
     "outputs": [
      {
       "metadata": {},
       "output_type": "display_data",
       "png": "[encoded data removed]",
       "text": [
        "<matplotlib.figure.Figure at 0xb39264c>"
       ]
      }
     ],
     "prompt_number": 5
    },
    {
     "cell_type": "code",
     "collapsed": false,
     "input": [
      "def component_size_summary(graph):\n",
      "    Gcc = nx.connected_component_subgraphs(graph.to_undirected())\n",
      "    print(\"Component sizes and example nodes in descending order\")\n",
      "    for n, G in enumerate(Gcc[:10], start=1):\n",
      "        print(\"{:>2d}. {:>5d} nodes : {}...\".format(\n",
      "                n, len(G), ', '.join([str(node) for node, _ in zip(G.nodes_iter(), range(5))])))\n",
      "\n",
      "component_size_summary(graph)"
     ],
     "language": "python",
     "metadata": {},
     "outputs": [
      {
       "output_type": "stream",
       "stream": "stdout",
       "text": [
        "Component sizes and example nodes in descending order\n",
        " 1. 44509 nodes : 4019, 4023, 4026, 4027, 4039...\n",
        " 2.  1913 nodes : 40966, 40967, 40372, 40973, 40977...\n",
        " 3.  1381 nodes : 49174, 49175, 49178, 24630, 24631...\n",
        " 4.  1278 nodes : 43008, 38913, 38914, 43013, 40846...\n",
        " 5.  1050 nodes : 63489, 60762, 47148, 60765, 53298...\n",
        " 6.  1003 nodes : 14337, 22504, 21163, 18437, 12295...\n",
        " 7.   922 nodes : 57345, 57347, 57348, 57351, 57354...\n",
        " 8.   816 nodes : 24576, 24577, 28674, 24579, 28676...\n",
        " 9.   593 nodes : 61440, 61441, 61442, 61443, 61448...\n",
        "10.   530 nodes : 34839, 34840, 34842, 34845, 34846...\n"
       ]
      }
     ],
     "prompt_number": 4
    },
    {
     "cell_type": "code",
     "collapsed": false,
     "input": [
      "target = 4115\n",
      "target = 930\n",
      "subgraph = collider.subgraph.nearby(graph, target, 15)\n",
      "display_image(collider.viz.render_nx_as_dot(subgraph))"
     ],
     "language": "python",
     "metadata": {},
     "outputs": [
      {
       "ename": "OverflowError",
       "evalue": "can't convert negative value to size_t",
       "output_type": "pyerr",
       "traceback": [
        "\u001b[1;31m---------------------------------------------------------------------------\u001b[0m\n\u001b[1;31mOverflowError\u001b[0m                             Traceback (most recent call last)",
        "\u001b[1;32m<ipython-input-5-48c1d6f3d2b4>\u001b[0m in \u001b[0;36m<module>\u001b[1;34m()\u001b[0m\n\u001b[0;32m      2\u001b[0m \u001b[0mtarget\u001b[0m \u001b[1;33m=\u001b[0m \u001b[1;36m930\u001b[0m\u001b[1;33m\u001b[0m\u001b[0m\n\u001b[0;32m      3\u001b[0m \u001b[0msubgraph\u001b[0m \u001b[1;33m=\u001b[0m \u001b[0mcollider\u001b[0m\u001b[1;33m.\u001b[0m\u001b[0msubgraph\u001b[0m\u001b[1;33m.\u001b[0m\u001b[0mnearby\u001b[0m\u001b[1;33m(\u001b[0m\u001b[0mgraph\u001b[0m\u001b[1;33m,\u001b[0m \u001b[0mtarget\u001b[0m\u001b[1;33m,\u001b[0m \u001b[1;36m15\u001b[0m\u001b[1;33m)\u001b[0m\u001b[1;33m\u001b[0m\u001b[0m\n\u001b[1;32m----> 4\u001b[1;33m \u001b[0mdisplay_image\u001b[0m\u001b[1;33m(\u001b[0m\u001b[0mcollider\u001b[0m\u001b[1;33m.\u001b[0m\u001b[0mviz\u001b[0m\u001b[1;33m.\u001b[0m\u001b[0mrender_nx_as_dot\u001b[0m\u001b[1;33m(\u001b[0m\u001b[0msubgraph\u001b[0m\u001b[1;33m)\u001b[0m\u001b[1;33m)\u001b[0m\u001b[1;33m\u001b[0m\u001b[0m\n\u001b[0m",
        "\u001b[1;32m/usr/local/lib/python2.7/dist-packages/IPython/core/displayhook.pyc\u001b[0m in \u001b[0;36m__call__\u001b[1;34m(self, result)\u001b[0m\n\u001b[0;32m    254\u001b[0m             \u001b[0mself\u001b[0m\u001b[1;33m.\u001b[0m\u001b[0mupdate_user_ns\u001b[0m\u001b[1;33m(\u001b[0m\u001b[0mresult\u001b[0m\u001b[1;33m)\u001b[0m\u001b[1;33m\u001b[0m\u001b[0m\n\u001b[0;32m    255\u001b[0m             \u001b[0mself\u001b[0m\u001b[1;33m.\u001b[0m\u001b[0mlog_output\u001b[0m\u001b[1;33m(\u001b[0m\u001b[0mformat_dict\u001b[0m\u001b[1;33m)\u001b[0m\u001b[1;33m\u001b[0m\u001b[0m\n\u001b[1;32m--> 256\u001b[1;33m             \u001b[0mself\u001b[0m\u001b[1;33m.\u001b[0m\u001b[0mfinish_displayhook\u001b[0m\u001b[1;33m(\u001b[0m\u001b[1;33m)\u001b[0m\u001b[1;33m\u001b[0m\u001b[0m\n\u001b[0m\u001b[0;32m    257\u001b[0m \u001b[1;33m\u001b[0m\u001b[0m\n\u001b[0;32m    258\u001b[0m     \u001b[1;32mdef\u001b[0m \u001b[0mflush\u001b[0m\u001b[1;33m(\u001b[0m\u001b[0mself\u001b[0m\u001b[1;33m)\u001b[0m\u001b[1;33m:\u001b[0m\u001b[1;33m\u001b[0m\u001b[0m\n",
        "\u001b[1;32m/usr/local/lib/python2.7/dist-packages/IPython/kernel/zmq/displayhook.pyc\u001b[0m in \u001b[0;36mfinish_displayhook\u001b[1;34m(self)\u001b[0m\n\u001b[0;32m     63\u001b[0m         \u001b[0msys\u001b[0m\u001b[1;33m.\u001b[0m\u001b[0mstdout\u001b[0m\u001b[1;33m.\u001b[0m\u001b[0mflush\u001b[0m\u001b[1;33m(\u001b[0m\u001b[1;33m)\u001b[0m\u001b[1;33m\u001b[0m\u001b[0m\n\u001b[0;32m     64\u001b[0m         \u001b[0msys\u001b[0m\u001b[1;33m.\u001b[0m\u001b[0mstderr\u001b[0m\u001b[1;33m.\u001b[0m\u001b[0mflush\u001b[0m\u001b[1;33m(\u001b[0m\u001b[1;33m)\u001b[0m\u001b[1;33m\u001b[0m\u001b[0m\n\u001b[1;32m---> 65\u001b[1;33m         \u001b[0mself\u001b[0m\u001b[1;33m.\u001b[0m\u001b[0msession\u001b[0m\u001b[1;33m.\u001b[0m\u001b[0msend\u001b[0m\u001b[1;33m(\u001b[0m\u001b[0mself\u001b[0m\u001b[1;33m.\u001b[0m\u001b[0mpub_socket\u001b[0m\u001b[1;33m,\u001b[0m \u001b[0mself\u001b[0m\u001b[1;33m.\u001b[0m\u001b[0mmsg\u001b[0m\u001b[1;33m,\u001b[0m \u001b[0mident\u001b[0m\u001b[1;33m=\u001b[0m\u001b[0mself\u001b[0m\u001b[1;33m.\u001b[0m\u001b[0mtopic\u001b[0m\u001b[1;33m)\u001b[0m\u001b[1;33m\u001b[0m\u001b[0m\n\u001b[0m\u001b[0;32m     66\u001b[0m         \u001b[0mself\u001b[0m\u001b[1;33m.\u001b[0m\u001b[0mmsg\u001b[0m \u001b[1;33m=\u001b[0m \u001b[0mNone\u001b[0m\u001b[1;33m\u001b[0m\u001b[0m\n\u001b[0;32m     67\u001b[0m \u001b[1;33m\u001b[0m\u001b[0m\n",
        "\u001b[1;32m/usr/local/lib/python2.7/dist-packages/IPython/kernel/zmq/session.pyc\u001b[0m in \u001b[0;36msend\u001b[1;34m(self, stream, msg_or_type, content, parent, ident, buffers, track, header, metadata)\u001b[0m\n\u001b[0;32m    644\u001b[0m             \u001b[1;31m# use dummy tracker, which will be done immediately\u001b[0m\u001b[1;33m\u001b[0m\u001b[1;33m\u001b[0m\u001b[0m\n\u001b[0;32m    645\u001b[0m             \u001b[0mtracker\u001b[0m \u001b[1;33m=\u001b[0m \u001b[0mDONE\u001b[0m\u001b[1;33m\u001b[0m\u001b[0m\n\u001b[1;32m--> 646\u001b[1;33m             \u001b[0mstream\u001b[0m\u001b[1;33m.\u001b[0m\u001b[0msend_multipart\u001b[0m\u001b[1;33m(\u001b[0m\u001b[0mto_send\u001b[0m\u001b[1;33m,\u001b[0m \u001b[0mcopy\u001b[0m\u001b[1;33m=\u001b[0m\u001b[0mcopy\u001b[0m\u001b[1;33m)\u001b[0m\u001b[1;33m\u001b[0m\u001b[0m\n\u001b[0m\u001b[0;32m    647\u001b[0m \u001b[1;33m\u001b[0m\u001b[0m\n\u001b[0;32m    648\u001b[0m         \u001b[1;32mif\u001b[0m \u001b[0mself\u001b[0m\u001b[1;33m.\u001b[0m\u001b[0mdebug\u001b[0m\u001b[1;33m:\u001b[0m\u001b[1;33m\u001b[0m\u001b[0m\n",
        "\u001b[1;32m/usr/local/lib/python2.7/dist-packages/zmq/sugar/socket.pyc\u001b[0m in \u001b[0;36msend_multipart\u001b[1;34m(self, msg_parts, flags, copy, track)\u001b[0m\n\u001b[0;32m    263\u001b[0m         \"\"\"\n\u001b[0;32m    264\u001b[0m         \u001b[1;32mfor\u001b[0m \u001b[0mmsg\u001b[0m \u001b[1;32min\u001b[0m \u001b[0mmsg_parts\u001b[0m\u001b[1;33m[\u001b[0m\u001b[1;33m:\u001b[0m\u001b[1;33m-\u001b[0m\u001b[1;36m1\u001b[0m\u001b[1;33m]\u001b[0m\u001b[1;33m:\u001b[0m\u001b[1;33m\u001b[0m\u001b[0m\n\u001b[1;32m--> 265\u001b[1;33m             \u001b[0mself\u001b[0m\u001b[1;33m.\u001b[0m\u001b[0msend\u001b[0m\u001b[1;33m(\u001b[0m\u001b[0mmsg\u001b[0m\u001b[1;33m,\u001b[0m \u001b[0mSNDMORE\u001b[0m\u001b[1;33m|\u001b[0m\u001b[0mflags\u001b[0m\u001b[1;33m,\u001b[0m \u001b[0mcopy\u001b[0m\u001b[1;33m=\u001b[0m\u001b[0mcopy\u001b[0m\u001b[1;33m,\u001b[0m \u001b[0mtrack\u001b[0m\u001b[1;33m=\u001b[0m\u001b[0mtrack\u001b[0m\u001b[1;33m)\u001b[0m\u001b[1;33m\u001b[0m\u001b[0m\n\u001b[0m\u001b[0;32m    266\u001b[0m         \u001b[1;31m# Send the last part without the extra SNDMORE flag.\u001b[0m\u001b[1;33m\u001b[0m\u001b[1;33m\u001b[0m\u001b[0m\n\u001b[0;32m    267\u001b[0m         \u001b[1;32mreturn\u001b[0m \u001b[0mself\u001b[0m\u001b[1;33m.\u001b[0m\u001b[0msend\u001b[0m\u001b[1;33m(\u001b[0m\u001b[0mmsg_parts\u001b[0m\u001b[1;33m[\u001b[0m\u001b[1;33m-\u001b[0m\u001b[1;36m1\u001b[0m\u001b[1;33m]\u001b[0m\u001b[1;33m,\u001b[0m \u001b[0mflags\u001b[0m\u001b[1;33m,\u001b[0m \u001b[0mcopy\u001b[0m\u001b[1;33m=\u001b[0m\u001b[0mcopy\u001b[0m\u001b[1;33m,\u001b[0m \u001b[0mtrack\u001b[0m\u001b[1;33m=\u001b[0m\u001b[0mtrack\u001b[0m\u001b[1;33m)\u001b[0m\u001b[1;33m\u001b[0m\u001b[0m\n",
        "\u001b[1;32m/usr/local/lib/python2.7/dist-packages/zmq/backend/cython/socket.so\u001b[0m in \u001b[0;36mzmq.backend.cython.socket.Socket.send (zmq/backend/cython/socket.c:5461)\u001b[1;34m()\u001b[0m\n",
        "\u001b[1;32m/usr/local/lib/python2.7/dist-packages/zmq/backend/cython/socket.so\u001b[0m in \u001b[0;36mzmq.backend.cython.socket.Socket.send (zmq/backend/cython/socket.c:5309)\u001b[1;34m()\u001b[0m\n",
        "\u001b[1;32m/usr/local/lib/python2.7/dist-packages/zmq/backend/cython/message.so\u001b[0m in \u001b[0;36mzmq.backend.cython.message.Frame.__cinit__ (zmq/backend/cython/message.c:1681)\u001b[1;34m()\u001b[0m\n",
        "\u001b[1;31mOverflowError\u001b[0m: can't convert negative value to size_t"
       ]
      }
     ],
     "prompt_number": 5
    },
    {
     "cell_type": "code",
     "collapsed": false,
     "input": [
      "subgraph_mod = collider.subgraph.nearby(graph, target, 10)\n",
      "collider.remove_single_descendents(subgraph_mod)\n",
      "display_image(collider.viz.render_nx_as_dot(subgraph_mod))"
     ],
     "language": "python",
     "metadata": {},
     "outputs": []
    },
    {
     "cell_type": "code",
     "collapsed": false,
     "input": [
      "collider.remove_fission_fusion(subgraph_mod, max_split_frames=20)\n",
      "display_image(collider.viz.render_nx_as_dot(subgraph_mod))"
     ],
     "language": "python",
     "metadata": {},
     "outputs": []
    },
    {
     "cell_type": "code",
     "collapsed": false,
     "input": [
      "giant = nx.connected_component_subgraphs(graph.to_undirected())[0]\n",
      "graph_mod = graph.copy()\n",
      "graph_nogiant = graph.copy()\n",
      "graph_nogiant.remove_nodes_from(giant.nodes_iter())\n",
      "fmt = \"{:<50s}: {:>5d} ({:>5d})\"\n",
      "print(fmt.format('Original graph nodes', len(graph_mod), len(graph_nogiant)))\n",
      "collider.viz.direct_degree_distribution(graph_mod, (3, 4))\n",
      "collider.viz.direct_degree_distribution(graph_nogiant, (3, 4), cmap='Reds')\n",
      "plt.show()\n",
      "\n",
      "collider.remove_single_descendents(graph_mod)\n",
      "collider.remove_single_descendents(graph_nogiant)\n",
      "graph_step1 = graph_mod.copy()\n",
      "graph_nogiant_step1 = graph_nogiant.copy()\n",
      "print(fmt.format('After concatenating single descendents', len(graph_mod), len(graph_nogiant)))\n",
      "collider.viz.direct_degree_distribution(graph_mod, (3, 4))\n",
      "collider.viz.direct_degree_distribution(graph_nogiant, (3, 4), cmap='Reds')\n",
      "plt.show()\n",
      "\n",
      "max_split_frames = 20\n",
      "collider.remove_fission_fusion(graph_mod, max_split_frames=max_split_frames)\n",
      "collider.remove_fission_fusion(graph_nogiant, max_split_frames=max_split_frames)\n",
      "print(fmt.format('After merging fission-fusion pairs (threshold={})'.format(max_split_frames), len(graph_mod), len(graph_nogiant)))\n",
      "collider.viz.direct_degree_distribution(graph_mod, (3, 4))\n",
      "collider.viz.direct_degree_distribution(graph_nogiant, (3, 4), cmap='Reds')\n",
      "plt.show()\n",
      "\n",
      "max_dead_end_frames = 20\n",
      "collider.remove_offshoots(graph_mod, threshold=max_dead_end_frames)\n",
      "collider.remove_offshoots(graph_nogiant, threshold=max_dead_end_frames)\n",
      "collider.remove_single_descendents(graph_mod) # remove_offshoots will create many simple paths that need concatenation\n",
      "collider.remove_single_descendents(graph_nogiant)\n",
      "print(fmt.format('After pruning dead-ends (threshold={})'.format(max_dead_end_frames), len(graph_mod), len(graph_nogiant)))\n",
      "collider.viz.direct_degree_distribution(graph_mod, (3, 4))\n",
      "collider.viz.direct_degree_distribution(graph_nogiant, (3, 4), cmap='Reds')\n",
      "plt.show()\n",
      "\n",
      "split_frame_thresholds = [2**x for x in range(-1, 8)]\n",
      "nodes_after_removal = []\n",
      "nodes_ignoring_giant = []\n",
      "for ft in split_frame_thresholds:\n",
      "    print(ft, '... ', end='')\n",
      "    test_graph = graph_step1.copy()\n",
      "    test_ng = graph_nogiant_step1.copy()\n",
      "    collider.remove_fission_fusion(test_graph, max_split_frames=ft)\n",
      "    collider.remove_fission_fusion(test_ng, max_split_frames=ft)\n",
      "    nodes_after_removal.append(len(test_graph))    \n",
      "    nodes_ignoring_giant.append(len(test_ng))\n",
      "print('Done!')"
     ],
     "language": "python",
     "metadata": {},
     "outputs": []
    },
    {
     "cell_type": "code",
     "collapsed": false,
     "input": [
      "f, ax = plt.subplots()\n",
      "ax2 = ax.twinx()\n",
      "ax.semilogx(split_frame_thresholds, nodes_after_removal, color=\"blue\")\n",
      "ax2.semilogx(split_frame_thresholds, nodes_ignoring_giant, color=\"red\")\n",
      "ax.set_ylabel('Nodes', color=\"blue\")\n",
      "ax.set_xlim(0.5, 100)\n",
      "ax.set_ylim(bottom=0)\n",
      "ax2.set_ylim(bottom=0)\n",
      "for tl in ax.get_yticklabels():\n",
      "    tl.set_color(\"blue\")\n",
      "ax2.set_ylabel('Nodes (ignoring giant component)', color=\"red\")\n",
      "for tl in ax2.get_yticklabels():\n",
      "    tl.set_color(\"red\")\n",
      "ax.set_xlabel('Maximum split duration joined (frames)')\n",
      "plt.show()\n",
      "\n",
      "component_size_summary(graph_mod)"
     ],
     "language": "python",
     "metadata": {},
     "outputs": []
    },
    {
     "cell_type": "code",
     "collapsed": false,
     "input": [
      "target = 55381\n",
      "target = 55902\n",
      "subgraph = collider.subgraph.nearby(graph_mod, target, 7)\n",
      "display_image(collider.viz.render_nx_as_dot(subgraph))"
     ],
     "language": "python",
     "metadata": {},
     "outputs": []
    },
    {
     "cell_type": "code",
     "collapsed": false,
     "input": [
      "# some package/import issues\n",
      "from images.worm_finder import before_and_after\n",
      "frame1 = graph_mod.node[(723, 753)]['died'] - 1\n",
      "ids1 = [753]\n",
      "frame2 = graph_mod.node[757]['born'] + 1\n",
      "#print(frame2)\n",
      "ids2 = [757, 758]\n",
      "before_and_after(experiment, frame1, frame2, ids1, ids2)"
     ],
     "language": "python",
     "metadata": {},
     "outputs": []
    },
    {
     "cell_type": "code",
     "collapsed": false,
     "input": [
      "frame1 = graph_mod.node[(723, 753)]['died'] - 1\n",
      "ids1 = [753]\n",
      "frame2 = graph_mod.node[757]['born'] + 4\n",
      "#print(frame2)\n",
      "ids2 = [757, 758]\n",
      "before_and_after(experiment, frame1, frame2, ids1, ids2)"
     ],
     "language": "python",
     "metadata": {},
     "outputs": []
    },
    {
     "cell_type": "code",
     "collapsed": false,
     "input": [
      "frame1 = graph_mod.node[(723, 753)]['died'] - 1\n",
      "ids1 = [753]\n",
      "frame2 = graph_mod.node[757]['born'] + 20\n",
      "#print(frame2)\n",
      "ids2 = [757]\n",
      "before_and_after(experiment, frame1, frame2, ids1, ids2)"
     ],
     "language": "python",
     "metadata": {},
     "outputs": []
    },
    {
     "cell_type": "code",
     "collapsed": false,
     "input": [],
     "language": "python",
     "metadata": {},
     "outputs": []
    },
    {
     "cell_type": "code",
     "collapsed": false,
     "input": [],
     "language": "python",
     "metadata": {},
     "outputs": []
    }
   ],
   "metadata": {}
  }
 ]
}