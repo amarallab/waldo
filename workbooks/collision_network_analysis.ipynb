{
 "metadata": {
  "name": "",
  "signature": "sha256:56a0fbcd080fef739822ff573084743ac4b7069fd18e469c4e69386a9e1c32e9"
 },
 "nbformat": 3,
 "nbformat_minor": 0,
 "worksheets": [
  {
   "cells": [
    {
     "cell_type": "markdown",
     "metadata": {},
     "source": [
      "![](http://servprolexingtonsc.files.wordpress.com/2011/06/cropped-van12.jpg)\n",
      "<center><h1>Like it never even happened?</h1></center><br />"
     ]
    },
    {
     "cell_type": "code",
     "collapsed": false,
     "input": [
      "%load_ext autoreload\n",
      "%autoreload 2\n",
      "%matplotlib inline"
     ],
     "language": "python",
     "metadata": {},
     "outputs": []
    },
    {
     "cell_type": "code",
     "collapsed": false,
     "input": [
      "from __future__ import print_function, absolute_import, unicode_literals, division\n",
      "import six\n",
      "from six.moves import (zip, filter, map, reduce, input, range)\n",
      "\n",
      "import pathcustomize\n",
      "\n",
      "import sys\n",
      "import os\n",
      "import platform\n",
      "print('Python {} ({}) [{}] on {}'.format(platform.python_version(), ', '.join(platform.python_build()), \n",
      "                                       platform.python_compiler(), sys.platform))\n",
      "\n",
      "import numpy as np\n",
      "import matplotlib.pyplot as plt\n",
      "import networkx as nx\n",
      "from IPython.core.display import Image as display_image\n",
      "\n",
      "os.environ.setdefault('MULTIWORM_SETTINGS', 'multiworm_settings')\n",
      "\n",
      "import multiworm\n",
      "import where\n",
      "import collider\n",
      "import collider.viz"
     ],
     "language": "python",
     "metadata": {},
     "outputs": []
    },
    {
     "cell_type": "code",
     "collapsed": false,
     "input": [
      "#ex_id = '20130614_120518'\n",
      "ex_id = '20130318_131111'\n",
      "#ex_id = '20130414_140704'"
     ],
     "language": "python",
     "metadata": {},
     "outputs": []
    },
    {
     "cell_type": "code",
     "collapsed": false,
     "input": [
      "experiment = multiworm.Experiment(experiment_id=ex_id)\n",
      "experiment.load_summary(graph=True)\n",
      "graph = experiment.collision_graph\n",
      "collider.viz.direct_degree_distribution(graph, (3, 4))\n",
      "plt.show()"
     ],
     "language": "python",
     "metadata": {},
     "outputs": []
    },
    {
     "cell_type": "code",
     "collapsed": false,
     "input": [
      "def component_size_summary(graph):\n",
      "    Gcc = nx.connected_component_subgraphs(graph.to_undirected())\n",
      "    print(\"Component sizes and example nodes in descending order\")\n",
      "    for n, G in enumerate(Gcc[:10], start=1):\n",
      "        print(\"{:>2d}. {:>5d} nodes : {}...\".format(\n",
      "                n, len(G), ', '.join([str(node) for node, _ in zip(G.nodes_iter(), range(5))])))\n",
      "\n",
      "component_size_summary(graph)"
     ],
     "language": "python",
     "metadata": {},
     "outputs": []
    },
    {
     "cell_type": "code",
     "collapsed": false,
     "input": [
      "target = 4115\n",
      "target = 930\n",
      "#target = 43804\n",
      "subgraph = collider.subgraph.nearby(graph, target, 10)\n",
      "display_image(collider.viz.render_nx_as_dot(subgraph))"
     ],
     "language": "python",
     "metadata": {},
     "outputs": []
    },
    {
     "cell_type": "code",
     "collapsed": false,
     "input": [
      "subgraph_mod = collider.subgraph.nearby(graph, target, 10)\n",
      "collider.remove_single_descendents(subgraph_mod)\n",
      "display_image(collider.viz.render_nx_as_dot(subgraph_mod))"
     ],
     "language": "python",
     "metadata": {},
     "outputs": []
    },
    {
     "cell_type": "code",
     "collapsed": false,
     "input": [
      "collider.remove_fission_fusion(subgraph_mod, max_split_frames=20)\n",
      "display_image(collider.viz.render_nx_as_dot(subgraph_mod))"
     ],
     "language": "python",
     "metadata": {},
     "outputs": []
    },
    {
     "cell_type": "code",
     "collapsed": false,
     "input": [
      "graph_mod = graph.copy()\n",
      "print(\"{:<50s}: {:>5d}\".format('Original graph nodes', len(graph_mod)))\n",
      "collider.remove_single_descendents(graph_mod)\n",
      "graph_step1 = graph_mod.copy()\n",
      "print(\"{:<50s}: {:>5d}\".format('After removing single descendents', len(graph_mod)))\n",
      "max_split_frames = 20\n",
      "collider.remove_fission_fusion(graph_mod, max_split_frames=max_split_frames)\n",
      "print(\"{:<50s}: {:>5d}\".format('After removing fission-fusion pairs (threshold={})'.format(max_split_frames), len(graph_mod)))\n",
      "\n",
      "split_frame_thresholds = [2**x for x in range(8)]\n",
      "nodes_after_removal = []\n",
      "for ft in split_frame_thresholds:\n",
      "    print(ft, '... ', end='')\n",
      "    test_graph = graph_step1.copy()\n",
      "    collider.remove_fission_fusion(test_graph, max_split_frames=ft)\n",
      "    nodes_after_removal.append(len(test_graph))    \n",
      "print('Done!')\n",
      "\n",
      "f, ax = plt.subplots()\n",
      "ax.semilogx(split_frame_thresholds, nodes_after_removal)\n",
      "ax.set_ylabel('Nodes')\n",
      "ax.set_xlabel('Maximum split duration joined (frames)')\n",
      "plt.show()\n",
      "\n",
      "component_size_summary(graph_mod)"
     ],
     "language": "python",
     "metadata": {},
     "outputs": []
    },
    {
     "cell_type": "code",
     "collapsed": false,
     "input": [
      "target = 55381\n",
      "subgraph = collider.subgraph.nearby(graph_mod, target, 7)\n",
      "display_image(collider.viz.render_nx_as_dot(subgraph))"
     ],
     "language": "python",
     "metadata": {},
     "outputs": []
    },
    {
     "cell_type": "code",
     "collapsed": false,
     "input": [
      "# some package/import issues\n",
      "from images.worm_finder import before_and_after\n",
      "frame1 = graph_mod.node[(723, 753)]['died'] - 1\n",
      "ids1 = [753]\n",
      "frame2 = graph_mod.node[757]['born'] + 1\n",
      "#print(frame2)\n",
      "ids2 = [757, 758]\n",
      "before_and_after(experiment, frame1, frame2, ids1, ids2)"
     ],
     "language": "python",
     "metadata": {},
     "outputs": []
    },
    {
     "cell_type": "code",
     "collapsed": false,
     "input": [
      "frame1 = graph_mod.node[(723, 753)]['died'] - 1\n",
      "ids1 = [753]\n",
      "frame2 = graph_mod.node[757]['born'] + 4\n",
      "#print(frame2)\n",
      "ids2 = [757, 758]\n",
      "before_and_after(experiment, frame1, frame2, ids1, ids2)"
     ],
     "language": "python",
     "metadata": {},
     "outputs": []
    },
    {
     "cell_type": "code",
     "collapsed": false,
     "input": [
      "frame1 = graph_mod.node[(723, 753)]['died'] - 1\n",
      "ids1 = [753]\n",
      "frame2 = graph_mod.node[757]['born'] + 20\n",
      "#print(frame2)\n",
      "ids2 = [757]\n",
      "before_and_after(experiment, frame1, frame2, ids1, ids2)"
     ],
     "language": "python",
     "metadata": {},
     "outputs": []
    },
    {
     "cell_type": "code",
     "collapsed": false,
     "input": [],
     "language": "python",
     "metadata": {},
     "outputs": []
    }
   ],
   "metadata": {}
  }
 ]
}