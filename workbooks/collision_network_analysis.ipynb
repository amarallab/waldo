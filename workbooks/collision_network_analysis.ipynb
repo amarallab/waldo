{
 "metadata": {
  "name": "",
  "signature": "sha256:9029e7042c8df041f6112a117962ad505484bd906102860768f7eb126da7dbb7"
 },
 "nbformat": 3,
 "nbformat_minor": 0,
 "worksheets": [
  {
   "cells": [
    {
     "cell_type": "markdown",
     "metadata": {},
     "source": [
      "<img src=\"http://img2.wikia.nocookie.net/__cb20110515211858/half-life/en/images/6/6d/Super_button_p2_blue.jpg\" width=\"200\"/>\n",
      "<center><h1>Developing the Heavy Duty Super-Colliding Super Button</h1></center><br />"
     ]
    },
    {
     "cell_type": "code",
     "collapsed": false,
     "input": [
      "%load_ext autoreload\n",
      "%autoreload 2\n",
      "%matplotlib inline"
     ],
     "language": "python",
     "metadata": {},
     "outputs": [
      {
       "output_type": "stream",
       "stream": "stdout",
       "text": [
        "The autoreload extension is already loaded. To reload it, use:\n",
        "  %reload_ext autoreload\n"
       ]
      }
     ],
     "prompt_number": 3
    },
    {
     "cell_type": "code",
     "collapsed": false,
     "input": [
      "from __future__ import print_function, absolute_import, unicode_literals, division\n",
      "import six\n",
      "from six.moves import (zip, filter, map, reduce, input, range)\n",
      "\n",
      "import pathcustomize\n",
      "\n",
      "import sys\n",
      "import os\n",
      "import platform\n",
      "print('Python {} ({}) [{}] on {}'.format(platform.python_version(), ', '.join(platform.python_build()), \n",
      "                                       platform.python_compiler(), sys.platform))\n",
      "\n",
      "import numpy as np\n",
      "import pandas as pd\n",
      "import matplotlib.pyplot as plt\n",
      "import networkx as nx\n",
      "from IPython.core.display import Image as display_image\n",
      "\n",
      "import wio\n",
      "import collider\n",
      "import collider.viz"
     ],
     "language": "python",
     "metadata": {},
     "outputs": [
      {
       "output_type": "stream",
       "stream": "stdout",
       "text": [
        "Python 2.7.8 (default, Jul 31 2014 17:07:51) [GCC 4.8.2] on linux2\n"
       ]
      }
     ],
     "prompt_number": 18
    },
    {
     "cell_type": "code",
     "collapsed": false,
     "input": [
      "ex_ids = [\n",
      "    '20130614_120518',\n",
      "    '20130318_131111',\n",
      "    '20130414_140704', # giant component(?)\n",
      "    '20130702_135704', # many pics\n",
      "    '20130702_135652', # many pics\n",
      "]\n",
      "experiments = {ex_id: wio.Experiment(experiment_id=ex_id) for ex_id in ex_ids}\n",
      "graphs = {ex_id: experiment.collision_graph for ex_id, experiment in six.iteritems(experiments)}"
     ],
     "language": "python",
     "metadata": {},
     "outputs": [],
     "prompt_number": 42
    },
    {
     "cell_type": "code",
     "collapsed": false,
     "input": [
      "raw = {ex_id: len(G) for ex_id, G in six.iteritems(graphs)}\n",
      "for ex_id in ex_ids:\n",
      "    collider.remove_nodes_outside_roi(graphs[ex_id], experiments[ex_id])\n",
      "\n",
      "inroi = {ex_id: len(G) for ex_id, G in six.iteritems(graphs)}"
     ],
     "language": "python",
     "metadata": {},
     "outputs": [],
     "prompt_number": 39
    },
    {
     "cell_type": "code",
     "collapsed": false,
     "input": [
      "target = 4115\n",
      "target = 930\n",
      "subgraph = collider.subgraph.nearby(graph, target, 15)\n",
      "display_image(collider.viz.render_nx_as_dot(subgraph))"
     ],
     "language": "python",
     "metadata": {},
     "outputs": []
    },
    {
     "cell_type": "code",
     "collapsed": false,
     "input": [
      "subgraph_mod = collider.subgraph.nearby(graph, target, 10)\n",
      "collider.remove_single_descendents(subgraph_mod)\n",
      "display_image(collider.viz.render_nx_as_dot(subgraph_mod))"
     ],
     "language": "python",
     "metadata": {},
     "outputs": []
    },
    {
     "cell_type": "code",
     "collapsed": false,
     "input": [
      "collider.remove_fission_fusion(subgraph_mod, max_split_frames=20)\n",
      "display_image(collider.viz.render_nx_as_dot(subgraph_mod))"
     ],
     "language": "python",
     "metadata": {},
     "outputs": []
    },
    {
     "cell_type": "code",
     "collapsed": false,
     "input": [
      "giant = nx.connected_component_subgraphs(graph.to_undirected())[0]\n",
      "graph_mod = graph.copy()\n",
      "graph_nogiant = graph.copy()\n",
      "graph_nogiant.remove_nodes_from(giant.nodes_iter())\n",
      "fmt = \"{:<50s}: {:>5d} ({:>5d})\"\n",
      "print(fmt.format('Original graph nodes', len(graph_mod), len(graph_nogiant)))\n",
      "collider.viz.direct_degree_distribution(graph_mod, (3, 4))\n",
      "collider.viz.direct_degree_distribution(graph_nogiant, (3, 4), cmap='Reds')\n",
      "plt.show()\n",
      "\n",
      "collider.remove_single_descendents(graph_mod)\n",
      "collider.remove_single_descendents(graph_nogiant)\n",
      "graph_step1 = graph_mod.copy()\n",
      "graph_nogiant_step1 = graph_nogiant.copy()\n",
      "print(fmt.format('After concatenating single descendents', len(graph_mod), len(graph_nogiant)))\n",
      "collider.viz.direct_degree_distribution(graph_mod, (3, 4))\n",
      "collider.viz.direct_degree_distribution(graph_nogiant, (3, 4), cmap='Reds')\n",
      "plt.show()\n",
      "\n",
      "max_split_frames = 20\n",
      "collider.remove_fission_fusion(graph_mod, max_split_frames=max_split_frames)\n",
      "collider.remove_fission_fusion(graph_nogiant, max_split_frames=max_split_frames)\n",
      "print(fmt.format('After merging fission-fusion pairs (threshold={})'.format(max_split_frames), len(graph_mod), len(graph_nogiant)))\n",
      "collider.viz.direct_degree_distribution(graph_mod, (3, 4))\n",
      "collider.viz.direct_degree_distribution(graph_nogiant, (3, 4), cmap='Reds')\n",
      "plt.show()\n",
      "\n",
      "max_dead_end_frames = 20\n",
      "collider.remove_offshoots(graph_mod, threshold=max_dead_end_frames)\n",
      "collider.remove_offshoots(graph_nogiant, threshold=max_dead_end_frames)\n",
      "collider.remove_single_descendents(graph_mod) # remove_offshoots will create many simple paths that need concatenation\n",
      "collider.remove_single_descendents(graph_nogiant)\n",
      "print(fmt.format('After pruning dead-ends (threshold={})'.format(max_dead_end_frames), len(graph_mod), len(graph_nogiant)))\n",
      "collider.viz.direct_degree_distribution(graph_mod, (3, 4))\n",
      "collider.viz.direct_degree_distribution(graph_nogiant, (3, 4), cmap='Reds')\n",
      "plt.show()\n",
      "\n",
      "split_frame_thresholds = [2**x for x in range(-1, 8)]\n",
      "nodes_after_removal = []\n",
      "nodes_ignoring_giant = []\n",
      "for ft in split_frame_thresholds:\n",
      "    print(ft, '... ', end='')\n",
      "    test_graph = graph_step1.copy()\n",
      "    test_ng = graph_nogiant_step1.copy()\n",
      "    collider.remove_fission_fusion(test_graph, max_split_frames=ft)\n",
      "    collider.remove_fission_fusion(test_ng, max_split_frames=ft)\n",
      "    nodes_after_removal.append(len(test_graph))    \n",
      "    nodes_ignoring_giant.append(len(test_ng))\n",
      "print('Done!')"
     ],
     "language": "python",
     "metadata": {},
     "outputs": []
    },
    {
     "cell_type": "code",
     "collapsed": false,
     "input": [
      "f, ax = plt.subplots()\n",
      "ax2 = ax.twinx()\n",
      "ax.semilogx(split_frame_thresholds, nodes_after_removal, color=\"blue\")\n",
      "ax2.semilogx(split_frame_thresholds, nodes_ignoring_giant, color=\"red\")\n",
      "ax.set_ylabel('Nodes', color=\"blue\")\n",
      "ax.set_xlim(0.5, 100)\n",
      "ax.set_ylim(bottom=0)\n",
      "ax2.set_ylim(bottom=0)\n",
      "for tl in ax.get_yticklabels():\n",
      "    tl.set_color(\"blue\")\n",
      "ax2.set_ylabel('Nodes (ignoring giant component)', color=\"red\")\n",
      "for tl in ax2.get_yticklabels():\n",
      "    tl.set_color(\"red\")\n",
      "ax.set_xlabel('Maximum split duration joined (frames)')\n",
      "plt.show()\n",
      "\n",
      "component_size_summary(graph_mod)"
     ],
     "language": "python",
     "metadata": {},
     "outputs": []
    },
    {
     "cell_type": "code",
     "collapsed": false,
     "input": [
      "target = 55381\n",
      "target = 55902\n",
      "subgraph = collider.subgraph.nearby(graph_mod, target, 7)\n",
      "display_image(collider.viz.render_nx_as_dot(subgraph))"
     ],
     "language": "python",
     "metadata": {},
     "outputs": []
    },
    {
     "cell_type": "code",
     "collapsed": false,
     "input": [
      "# some package/import issues\n",
      "from images.worm_finder import before_and_after\n",
      "frame1 = graph_mod.node[(723, 753)]['died'] - 1\n",
      "ids1 = [753]\n",
      "frame2 = graph_mod.node[757]['born'] + 1\n",
      "#print(frame2)\n",
      "ids2 = [757, 758]\n",
      "before_and_after(experiment, frame1, frame2, ids1, ids2)"
     ],
     "language": "python",
     "metadata": {},
     "outputs": []
    },
    {
     "cell_type": "code",
     "collapsed": false,
     "input": [
      "frame1 = graph_mod.node[(723, 753)]['died'] - 1\n",
      "ids1 = [753]\n",
      "frame2 = graph_mod.node[757]['born'] + 4\n",
      "#print(frame2)\n",
      "ids2 = [757, 758]\n",
      "before_and_after(experiment, frame1, frame2, ids1, ids2)"
     ],
     "language": "python",
     "metadata": {},
     "outputs": []
    },
    {
     "cell_type": "code",
     "collapsed": false,
     "input": [
      "frame1 = graph_mod.node[(723, 753)]['died'] - 1\n",
      "ids1 = [753]\n",
      "frame2 = graph_mod.node[757]['born'] + 20\n",
      "#print(frame2)\n",
      "ids2 = [757]\n",
      "before_and_after(experiment, frame1, frame2, ids1, ids2)"
     ],
     "language": "python",
     "metadata": {},
     "outputs": []
    },
    {
     "cell_type": "code",
     "collapsed": false,
     "input": [],
     "language": "python",
     "metadata": {},
     "outputs": []
    },
    {
     "cell_type": "code",
     "collapsed": false,
     "input": [],
     "language": "python",
     "metadata": {},
     "outputs": []
    }
   ],
   "metadata": {}
  }
 ]
}