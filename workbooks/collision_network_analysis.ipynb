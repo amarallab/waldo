{
 "metadata": {
  "name": "",
  "signature": "sha256:2feb21c103522813b95b1de082d62d89e23a67243674f64a38ae4b33b5c28e57"
 },
 "nbformat": 3,
 "nbformat_minor": 0,
 "worksheets": [
  {
   "cells": [
    {
     "cell_type": "markdown",
     "metadata": {},
     "source": [
      "![](http://servprolexingtonsc.files.wordpress.com/2011/06/cropped-van12.jpg)\n",
      "<center><h1>Like it never even happened?</h1></center><br />"
     ]
    },
    {
     "cell_type": "code",
     "collapsed": false,
     "input": [
      "%load_ext autoreload\n",
      "%autoreload 2\n",
      "%matplotlib inline"
     ],
     "language": "python",
     "metadata": {},
     "outputs": []
    },
    {
     "cell_type": "code",
     "collapsed": false,
     "input": [
      "from __future__ import print_function, absolute_import, unicode_literals, division\n",
      "import six\n",
      "from six.moves import (zip, filter, map, reduce, input, range)\n",
      "\n",
      "import pathcustomize\n",
      "\n",
      "import sys\n",
      "import os\n",
      "import platform\n",
      "print('Python {} ({}) [{}] on {}'.format(platform.python_version(), ', '.join(platform.python_build()), \n",
      "                                       platform.python_compiler(), sys.platform))\n",
      "\n",
      "import networkx as nx\n",
      "from IPython.core.display import Image as display_image\n",
      "\n",
      "os.environ.setdefault('MULTIWORM_SETTINGS', 'multiworm_settings')\n",
      "\n",
      "import multiworm\n",
      "import where\n",
      "import collider\n",
      "import collider.viz\n",
      "\n",
      "print()"
     ],
     "language": "python",
     "metadata": {},
     "outputs": [
      {
       "output_type": "stream",
       "stream": "stdout",
       "text": [
        "Python 2.7.3 (default, Feb 27 2014 20:00:17) [GCC 4.6.3] on linux2\n",
        "\n"
       ]
      }
     ],
     "prompt_number": 1
    },
    {
     "cell_type": "code",
     "collapsed": false,
     "input": [
      "#ex_id = '20130614_120518'\n",
      "ex_id = '20130318_131111'\n",
      "#ex_id = '20130414_140704'"
     ],
     "language": "python",
     "metadata": {},
     "outputs": []
    },
    {
     "cell_type": "code",
     "collapsed": false,
     "input": [
      "experiment = multiworm.Experiment(experiment_id=ex_id)\n",
      "experiment.load_summary(graph=True)\n",
      "graph = experiment.collision_graph"
     ],
     "language": "python",
     "metadata": {},
     "outputs": []
    },
    {
     "cell_type": "code",
     "collapsed": false,
     "input": [
      "Gcc = nx.connected_component_subgraphs(graph.to_undirected())\n",
      "print()\n",
      "for n, G in enumerate(Gcc[:10], start=1):\n",
      "    print('{:>2d}. size: {:>5d}, example nodes: {}'.format(\n",
      "            n, len(G), [node for node, _ in zip(G.nodes_iter(), range(5))]))"
     ],
     "language": "python",
     "metadata": {},
     "outputs": []
    },
    {
     "cell_type": "code",
     "collapsed": false,
     "input": [
      "# using the \"family tree\" methods can leave out lots of related nodes, use collider.nearby()\n",
      "'''\n",
      "target = 913\n",
      "target = 180\n",
      "subgraph = collider.family_tree(graph, target)\n",
      "print(subgraph.number_of_edges())\n",
      "print(len(subgraph))\n",
      "# there's an offset of 1 between born-died vs. \"life\" from other calculations...where from?\n",
      "display_image(collider.viz.render_nx_as_dot(subgraph))\n",
      "'''\n",
      "pass"
     ],
     "language": "python",
     "metadata": {},
     "outputs": []
    },
    {
     "cell_type": "code",
     "collapsed": false,
     "input": [
      "target = 4115\n",
      "target = 930\n",
      "target = 930\n",
      "subgraph = collider.nearby(graph, target, 50)\n",
      "display_image(collider.viz.render_nx_as_dot(subgraph))"
     ],
     "language": "python",
     "metadata": {},
     "outputs": []
    },
    {
     "cell_type": "code",
     "collapsed": false,
     "input": [
      "subgraph_mod = collider.nearby(graph, target, 50)\n",
      "collider.remove_single_descendents(subgraph_mod)\n",
      "#collider.remove_fission_fusion(subgraph_mod)\n",
      "display_image(collider.viz.render_nx_as_dot(subgraph_mod))"
     ],
     "language": "python",
     "metadata": {},
     "outputs": []
    },
    {
     "cell_type": "code",
     "collapsed": false,
     "input": [
      "collider.remove_fission_fusion(subgraph_mod)\n",
      "display_image(collider.viz.render_nx_as_dot(subgraph_mod))"
     ],
     "language": "python",
     "metadata": {},
     "outputs": []
    },
    {
     "cell_type": "code",
     "collapsed": false,
     "input": [
      "# some package/import issues\n",
      "#from images.worm_finder import before_and_after\n",
      "frame1 = 18059\n",
      "ids1 = [8791, 17740]\n",
      "frame2 = 18074\n",
      "#ids2 = [8791, 17740]\n",
      "#before_and_after(experiment, frame1, frame2, ids1, ids1)"
     ],
     "language": "python",
     "metadata": {},
     "outputs": []
    },
    {
     "cell_type": "code",
     "collapsed": false,
     "input": [
      "graph_mod = graph.copy()\n",
      "print(\"{:<40s}: {:>5d}\".format('Original graph nodes', len(graph_mod)))\n",
      "collider.remove_single_descendents(graph_mod)\n",
      "print(\"{:<40s}: {:>5d}\".format('After removing single descendents', len(graph_mod)))\n",
      "collider.remove_fission_fusion(graph_mod, )\n",
      "print(\"{:<40s}: {:>5d}\".format('After removing fission-fusion pairs', len(graph_mod)))\n",
      "\n",
      "Gcc = nx.connected_component_subgraphs(graph_mod.to_undirected())\n",
      "print()\n",
      "for n, G in enumerate(Gcc[:10], start=1):\n",
      "    print('{:>2d}. size: {:>5d}, example nodes: {}'.format(\n",
      "            n, len(G), [node for node, _ in zip(G.nodes_iter(), range(5))]))"
     ],
     "language": "python",
     "metadata": {},
     "outputs": []
    },
    {
     "cell_type": "code",
     "collapsed": false,
     "input": [
      "target = 1397\n",
      "subgraph = collider.nearby(graph_mod, target, 50)\n",
      "display_image(collider.viz.render_nx_as_dot(subgraph))"
     ],
     "language": "python",
     "metadata": {},
     "outputs": []
    },
    {
     "cell_type": "code",
     "collapsed": false,
     "input": [],
     "language": "python",
     "metadata": {},
     "outputs": []
    }
   ],
   "metadata": {}
  }
 ]
}