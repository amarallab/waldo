{
 "metadata": {
  "name": "",
  "signature": "sha256:5d10fb4e6c93af8a522dad53f8e87909cca81db39f0555a1146d2b7d0e90f3eb"
 },
 "nbformat": 3,
 "nbformat_minor": 0,
 "worksheets": [
  {
   "cells": [
    {
     "cell_type": "code",
     "collapsed": false,
     "input": [
      "%load_ext autoreload\n",
      "%autoreload 2\n",
      "%matplotlib inline"
     ],
     "language": "python",
     "metadata": {},
     "outputs": [],
     "prompt_number": 1
    },
    {
     "cell_type": "code",
     "collapsed": false,
     "input": [
      "from __future__ import print_function, absolute_import, unicode_literals, division\n",
      "import six\n",
      "from six.moves import (zip, filter, map, reduce, input, range)\n",
      "\n",
      "import pathcustomize\n",
      "\n",
      "import sys\n",
      "import os\n",
      "import errno\n",
      "import pathlib\n",
      "import itertools\n",
      "import platform\n",
      "import math\n",
      "print('Python {} ({}) [{}] on {}'.format(platform.python_version(), ', '.join(platform.python_build()), \n",
      "                                       platform.python_compiler(), sys.platform))\n",
      "\n",
      "import numpy as np\n",
      "import pandas as pd\n",
      "\n",
      "os.environ.setdefault('MULTIWORM_SETTINGS', 'multiworm_settings')\n",
      "\n",
      "import multiworm"
     ],
     "language": "python",
     "metadata": {},
     "outputs": [
      {
       "output_type": "stream",
       "stream": "stdout",
       "text": [
        "Python 2.7.7 (default, Jun 20 2014 13:48:50) [GCC 4.6.3] on linux2\n"
       ]
      }
     ],
     "prompt_number": 2
    },
    {
     "cell_type": "code",
     "collapsed": false,
     "input": [
      "ex_ids = [\n",
      "    '20130614_120518',\n",
      "    '20130318_131111',\n",
      "    '20130414_140704', # giant component(?)\n",
      "    '20130702_135704', # many pics\n",
      "    '20130702_135652', # many pics\n",
      "]"
     ],
     "language": "python",
     "metadata": {},
     "outputs": [],
     "prompt_number": 3
    },
    {
     "cell_type": "code",
     "collapsed": false,
     "input": [
      "PREP_DATA = pathlib.Path() / '..' / 'data' / 'prep'\n",
      "\n",
      "def prep_data_dir(ex_id):\n",
      "    return PREP_DATA / ex_id\n",
      "\n",
      "def prep_data_filename(ex_id, name):\n",
      "    return prep_data_dir(ex_id) / '{}-{}.csv'.format(ex_id, name)"
     ],
     "language": "python",
     "metadata": {},
     "outputs": [],
     "prompt_number": 4
    },
    {
     "cell_type": "code",
     "collapsed": false,
     "input": [
      "def mkdir_p(path):\n",
      "    # http://stackoverflow.com/a/600612/194586\n",
      "    try:\n",
      "        os.makedirs(path)\n",
      "    except OSError as e: # Python >2.5\n",
      "        if e.errno == errno.EEXIST and os.path.isdir(path):\n",
      "            pass\n",
      "        else: raise\n",
      "\n",
      "def _midline_length(points):\n",
      "    \"\"\"\n",
      "    Calculates the length of a path connecting *points*.\n",
      "    \"\"\"\n",
      "    dist = 0\n",
      "    ipoints = iter(points)\n",
      "    a = six.next(ipoints) # prime loop\n",
      "    for b in ipoints:\n",
      "        dist += math.sqrt((a[0] - b[0])**2 + (a[1] - b[1])**2)\n",
      "        a = b\n",
      "    return dist"
     ],
     "language": "python",
     "metadata": {},
     "outputs": [],
     "prompt_number": 5
    },
    {
     "cell_type": "code",
     "collapsed": false,
     "input": [
      "def process(experiment):\n",
      "    blob_ids = list(experiment)\n",
      "    bounds = pd.DataFrame(index=blob_ids, columns=['x_min', 'x_max', 'y_min', 'y_max'])\n",
      "    terminals = pd.DataFrame(index=blob_ids, columns=['x0', 'y0', 't0', 'xN', 'yN', 'tN'])\n",
      "    sizes = pd.DataFrame(index=blob_ids, columns=['area_median', 'midline_median'])\n",
      "    #for bid, blob in itertools.islice(experiment.blobs(), 20):\n",
      "    for bid, blob in experiment.blobs():\n",
      "        try:\n",
      "            if blob['centroid']:\n",
      "                centroid_x, centroid_y = zip(*blob['centroid'])\n",
      "                bounds.ix[bid] = min(centroid_x), max(centroid_x), min(centroid_y), max(centroid_y)\n",
      "                terminals.x0[bid], terminals.y0[bid] = blob['centroid'][0]\n",
      "                terminals.t0[bid] = blob['born_f']\n",
      "                terminals.xN[bid], terminals.yN[bid] = blob['centroid'][-1]\n",
      "                terminals.tN[bid] = blob['died_f']\n",
      "\n",
      "            if blob['midline']:\n",
      "                sizes.midline_median[bid] = np.median([_midline_length(p) for p in blob['midline'] if p])\n",
      "\n",
      "            if blob['area']:\n",
      "                sizes.area_median[bid] = np.median(blob['area'])\n",
      "\n",
      "        except KeyError:\n",
      "            # zero frame blobs\n",
      "            assert blob.blob_data == {}\n",
      "            pass\n",
      "\n",
      "    return bounds, terminals, sizes\n",
      "\n",
      "def summarize(ex_id):\n",
      "    # load experiment\n",
      "    experiment = multiworm.Experiment(experiment_id=ex_id)\n",
      "    experiment.load_summary(graph=True)\n",
      "    \n",
      "    # process the data\n",
      "    bounds, terminals, sizes = process(experiment)\n",
      "    \n",
      "    # save it out\n",
      "    mkdir_p(str(prep_data_dir(ex_id)))\n",
      "    bounds.to_csv(str(prep_data_filename(ex_id, 'bounds')))\n",
      "    terminals.to_csv(str(prep_data_filename(ex_id, 'terminals')))\n",
      "    sizes.to_csv(str(prep_data_filename(ex_id, 'sizes')))"
     ],
     "language": "python",
     "metadata": {},
     "outputs": [],
     "prompt_number": 9
    },
    {
     "cell_type": "code",
     "collapsed": false,
     "input": [
      "for ex_id in ex_ids:\n",
      "    summarize(ex_id)"
     ],
     "language": "python",
     "metadata": {},
     "outputs": [],
     "prompt_number": 7
    },
    {
     "cell_type": "code",
     "collapsed": false,
     "input": [
      "%%bash\n",
      "rsync -rv ../data/prep /home/projects/worm_movement/Data/dev/\n",
      "#ls -l /home/projects/worm_movement/Data/dev/prep"
     ],
     "language": "python",
     "metadata": {},
     "outputs": [
      {
       "output_type": "stream",
       "stream": "stdout",
       "text": [
        "sending incremental file list\n",
        "prep/20130414_140704/20130414_140704-bounds.csv\n",
        "prep/20130414_140704/20130414_140704-sizes.csv\n",
        "prep/20130414_140704/20130414_140704-terminals.csv\n",
        "\n",
        "sent 279362 bytes  received 71 bytes  558866.00 bytes/sec\n",
        "total size is 279069  speedup is 1.00\n"
       ]
      }
     ],
     "prompt_number": 8
    }
   ],
   "metadata": {}
  }
 ]
}