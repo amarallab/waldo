{
 "metadata": {
  "gist_id": "f42c056821c8ebe5cddf",
  "name": "",
  "signature": "sha256:8b88ea5a11b0ff46fb498dfa4034e522a149000627c88e578300043e5fd60e8c"
 },
 "nbformat": 3,
 "nbformat_minor": 0,
 "worksheets": [
  {
   "cells": [
    {
     "cell_type": "markdown",
     "metadata": {},
     "source": [
      "<div style=\"text-align: center\"><img src=\"http://img2.wikia.nocookie.net/__cb20110515211858/half-life/en/images/6/6d/Super_button_p2_blue.jpg\" width=\"150\" style=\"display: inline;\"/><span style=\"font-size: 40px\"> + </span><img src=\"http://www.staples-3p.com/s7/is/image/Staples/s0105150_sc7?$splssku$\" width=\"100\" style=\"display: inline;\">\n",
      "<center><h1>Designing an easy-to-use Heavy Duty Super-Colliding Super Button</h1></center>"
     ]
    },
    {
     "cell_type": "code",
     "collapsed": false,
     "input": [
      "%load_ext autoreload\n",
      "%autoreload 2\n",
      "%matplotlib inline"
     ],
     "language": "python",
     "metadata": {},
     "outputs": [],
     "prompt_number": 1
    },
    {
     "cell_type": "code",
     "collapsed": false,
     "input": [
      "from __future__ import print_function, absolute_import, unicode_literals, division\n",
      "import six\n",
      "from six.moves import (zip, filter, map, reduce, input, range)\n",
      "\n",
      "import pathcustomize\n",
      "\n",
      "import sys\n",
      "import os\n",
      "import platform\n",
      "print('Python {} ({}) [{}] on {}'.format(platform.python_version(), ', '.join(platform.python_build()), \n",
      "                                       platform.python_compiler(), sys.platform))\n",
      "\n",
      "import numpy as np\n",
      "import matplotlib.pyplot as plt\n",
      "import networkx as nx\n",
      "from IPython.core.display import Image as display_image\n",
      "\n",
      "os.environ.setdefault('MULTIWORM_SETTINGS', 'multiworm_settings')\n",
      "\n",
      "import multiworm\n",
      "import where\n",
      "import collider\n",
      "import collider.viz"
     ],
     "language": "python",
     "metadata": {},
     "outputs": [
      {
       "output_type": "stream",
       "stream": "stdout",
       "text": [
        "Python 2.7.3 (default, Feb 27 2014 20:00:17) [GCC 4.6.3] on linux2\n"
       ]
      }
     ],
     "prompt_number": 2
    },
    {
     "cell_type": "heading",
     "level": 1,
     "metadata": {},
     "source": [
      "Initial Experiment Graph"
     ]
    },
    {
     "cell_type": "code",
     "collapsed": false,
     "input": [
      "#ex_id = '20130614_120518'\n",
      "ex_id = '20130318_131111'\n",
      "#ex_id = '20130414_140704'\n",
      "\n",
      "experiment = multiworm.Experiment(experiment_id=ex_id)\n",
      "experiment.load_summary(graph=True)\n",
      "graph = experiment.collision_graph\n",
      "collider.viz.direct_degree_distribution(graph, (3, 4))\n",
      "plt.show()"
     ],
     "language": "python",
     "metadata": {},
     "outputs": [
      {
       "metadata": {},
       "output_type": "display_data",
       "png": "[encoded data removed]",
       "text": [
        "<matplotlib.figure.Figure at 0xb13ffcc>"
       ]
      }
     ],
     "prompt_number": 3
    },
    {
     "cell_type": "markdown",
     "metadata": {},
     "source": [
      "Note the extreme and fairly discontinuous size of the giant component below, this may be due to \"junk\" that's highly sensitive to noise or other vibration that is constantly joining and splitting.  \n",
      "\n",
      "**For the rest of the analysis, the (initial) giant component will be excluded**."
     ]
    },
    {
     "cell_type": "code",
     "collapsed": false,
     "input": [
      "def component_size_summary(graph):\n",
      "    Gcc = nx.connected_component_subgraphs(graph.to_undirected())\n",
      "    print(\"Component sizes and example nodes in descending order\")\n",
      "    for n, G in enumerate(Gcc[:10], start=1):\n",
      "        print(\"{:>2d}. {:>5d} nodes : {}...\".format(\n",
      "                n, len(G), ', '.join([str(node) for node, _ in zip(G.nodes_iter(), range(5))])))\n",
      "\n",
      "component_size_summary(graph)\n",
      "\n",
      "print(\"\\nTotal nodes: {}\".format(len(graph)))\n",
      "\n",
      "Gcc = nx.connected_component_subgraphs(graph.to_undirected())\n",
      "n_components = len(Gcc)\n",
      "print(\"Number of components: {}\".format(n_components))\n",
      "print(\"Removing giant component...\")\n",
      "graph.remove_nodes_from(Gcc[0])\n",
      "n_components = n_components - 1\n",
      "\n",
      "collider.viz.direct_degree_distribution(graph, (3, 4))\n",
      "print(\"Total nodes: {}\".format(len(graph)))\n",
      "plt.show()\n",
      "\n",
      "print(\"Fraction of components that are single, 0-degree nodes: {:0.1f}%\".format(\n",
      "        sum(100 for node in graph if graph.degree(node) == 0) / n_components))"
     ],
     "language": "python",
     "metadata": {},
     "outputs": [
      {
       "output_type": "stream",
       "stream": "stdout",
       "text": [
        "Component sizes and example nodes in descending order\n",
        " 1. 44509 nodes : 4019, 4023, 4026, 4027, 4039...\n",
        " 2.  1913 nodes : 40966, 40967, 40372, 40973, 40977...\n",
        " 3.  1381 nodes : 49174, 49175, 49178, 24630, 24631...\n",
        " 4.  1278 nodes : 43008, 38913, 38914, 43013, 40846...\n",
        " 5.  1050 nodes : 63489, 60762, 47148, 60765, 53298...\n",
        " 6.  1003 nodes : 14337, 22504, 21163, 18437, 12295...\n",
        " 7.   922 nodes : 57345, 57347, 57348, 57351, 57354...\n",
        " 8.   816 nodes : 24576, 24577, 28674, 24579, 28676...\n",
        " 9.   593 nodes : 61440, 61441, 61442, 61443, 61448...\n",
        "10.   530 nodes : 34839, 34840, 34842, 34845, 34846...\n",
        "\n",
        "Total nodes: 68081\n",
        "Number of components: 2340"
       ]
      },
      {
       "output_type": "stream",
       "stream": "stdout",
       "text": [
        "\n",
        "Removing giant component...\n",
        "Total nodes: 23572"
       ]
      },
      {
       "output_type": "stream",
       "stream": "stdout",
       "text": [
        "\n"
       ]
      },
      {
       "metadata": {},
       "output_type": "display_data",
       "png": "[encoded data removed]",
       "text": [
        "<matplotlib.figure.Figure at 0xf529eac>"
       ]
      },
      {
       "output_type": "stream",
       "stream": "stdout",
       "text": [
        "Fraction of components that are single, 0-degree nodes: 86.7%\n"
       ]
      }
     ],
     "prompt_number": 4
    },
    {
     "cell_type": "heading",
     "level": 2,
     "metadata": {},
     "source": [
      "Raw view centered on a target blob (node)"
     ]
    },
    {
     "cell_type": "code",
     "collapsed": false,
     "input": [
      "#target = 4115\n",
      "#target = 913\n",
      "target = 575\n",
      "#target = 43804\n",
      "subgraph = collider.subgraph.nearby(graph, target, 3)\n",
      "display_image(collider.viz.render_nx_as_dot(subgraph))"
     ],
     "language": "python",
     "metadata": {},
     "outputs": [
      {
       "ename": "OverflowError",
       "evalue": "can't convert negative value to size_t",
       "output_type": "pyerr",
       "traceback": [
        "\u001b[1;31m---------------------------------------------------------------------------\u001b[0m\n\u001b[1;31mOverflowError\u001b[0m                             Traceback (most recent call last)",
        "\u001b[1;32m<ipython-input-5-77f71e8bf938>\u001b[0m in \u001b[0;36m<module>\u001b[1;34m()\u001b[0m\n\u001b[0;32m      4\u001b[0m \u001b[1;31m#target = 43804\u001b[0m\u001b[1;33m\u001b[0m\u001b[1;33m\u001b[0m\u001b[0m\n\u001b[0;32m      5\u001b[0m \u001b[0msubgraph\u001b[0m \u001b[1;33m=\u001b[0m \u001b[0mcollider\u001b[0m\u001b[1;33m.\u001b[0m\u001b[0msubgraph\u001b[0m\u001b[1;33m.\u001b[0m\u001b[0mnearby\u001b[0m\u001b[1;33m(\u001b[0m\u001b[0mgraph\u001b[0m\u001b[1;33m,\u001b[0m \u001b[0mtarget\u001b[0m\u001b[1;33m,\u001b[0m \u001b[1;36m3\u001b[0m\u001b[1;33m)\u001b[0m\u001b[1;33m\u001b[0m\u001b[0m\n\u001b[1;32m----> 6\u001b[1;33m \u001b[0mdisplay_image\u001b[0m\u001b[1;33m(\u001b[0m\u001b[0mcollider\u001b[0m\u001b[1;33m.\u001b[0m\u001b[0mviz\u001b[0m\u001b[1;33m.\u001b[0m\u001b[0mrender_nx_as_dot\u001b[0m\u001b[1;33m(\u001b[0m\u001b[0msubgraph\u001b[0m\u001b[1;33m)\u001b[0m\u001b[1;33m)\u001b[0m\u001b[1;33m\u001b[0m\u001b[0m\n\u001b[0m",
        "\u001b[1;32m/usr/local/lib/python2.7/dist-packages/IPython/core/displayhook.pyc\u001b[0m in \u001b[0;36m__call__\u001b[1;34m(self, result)\u001b[0m\n\u001b[0;32m    254\u001b[0m             \u001b[0mself\u001b[0m\u001b[1;33m.\u001b[0m\u001b[0mupdate_user_ns\u001b[0m\u001b[1;33m(\u001b[0m\u001b[0mresult\u001b[0m\u001b[1;33m)\u001b[0m\u001b[1;33m\u001b[0m\u001b[0m\n\u001b[0;32m    255\u001b[0m             \u001b[0mself\u001b[0m\u001b[1;33m.\u001b[0m\u001b[0mlog_output\u001b[0m\u001b[1;33m(\u001b[0m\u001b[0mformat_dict\u001b[0m\u001b[1;33m)\u001b[0m\u001b[1;33m\u001b[0m\u001b[0m\n\u001b[1;32m--> 256\u001b[1;33m             \u001b[0mself\u001b[0m\u001b[1;33m.\u001b[0m\u001b[0mfinish_displayhook\u001b[0m\u001b[1;33m(\u001b[0m\u001b[1;33m)\u001b[0m\u001b[1;33m\u001b[0m\u001b[0m\n\u001b[0m\u001b[0;32m    257\u001b[0m \u001b[1;33m\u001b[0m\u001b[0m\n\u001b[0;32m    258\u001b[0m     \u001b[1;32mdef\u001b[0m \u001b[0mflush\u001b[0m\u001b[1;33m(\u001b[0m\u001b[0mself\u001b[0m\u001b[1;33m)\u001b[0m\u001b[1;33m:\u001b[0m\u001b[1;33m\u001b[0m\u001b[0m\n",
        "\u001b[1;32m/usr/local/lib/python2.7/dist-packages/IPython/kernel/zmq/displayhook.pyc\u001b[0m in \u001b[0;36mfinish_displayhook\u001b[1;34m(self)\u001b[0m\n\u001b[0;32m     63\u001b[0m         \u001b[0msys\u001b[0m\u001b[1;33m.\u001b[0m\u001b[0mstdout\u001b[0m\u001b[1;33m.\u001b[0m\u001b[0mflush\u001b[0m\u001b[1;33m(\u001b[0m\u001b[1;33m)\u001b[0m\u001b[1;33m\u001b[0m\u001b[0m\n\u001b[0;32m     64\u001b[0m         \u001b[0msys\u001b[0m\u001b[1;33m.\u001b[0m\u001b[0mstderr\u001b[0m\u001b[1;33m.\u001b[0m\u001b[0mflush\u001b[0m\u001b[1;33m(\u001b[0m\u001b[1;33m)\u001b[0m\u001b[1;33m\u001b[0m\u001b[0m\n\u001b[1;32m---> 65\u001b[1;33m         \u001b[0mself\u001b[0m\u001b[1;33m.\u001b[0m\u001b[0msession\u001b[0m\u001b[1;33m.\u001b[0m\u001b[0msend\u001b[0m\u001b[1;33m(\u001b[0m\u001b[0mself\u001b[0m\u001b[1;33m.\u001b[0m\u001b[0mpub_socket\u001b[0m\u001b[1;33m,\u001b[0m \u001b[0mself\u001b[0m\u001b[1;33m.\u001b[0m\u001b[0mmsg\u001b[0m\u001b[1;33m,\u001b[0m \u001b[0mident\u001b[0m\u001b[1;33m=\u001b[0m\u001b[0mself\u001b[0m\u001b[1;33m.\u001b[0m\u001b[0mtopic\u001b[0m\u001b[1;33m)\u001b[0m\u001b[1;33m\u001b[0m\u001b[0m\n\u001b[0m\u001b[0;32m     66\u001b[0m         \u001b[0mself\u001b[0m\u001b[1;33m.\u001b[0m\u001b[0mmsg\u001b[0m \u001b[1;33m=\u001b[0m \u001b[0mNone\u001b[0m\u001b[1;33m\u001b[0m\u001b[0m\n\u001b[0;32m     67\u001b[0m \u001b[1;33m\u001b[0m\u001b[0m\n",
        "\u001b[1;32m/usr/local/lib/python2.7/dist-packages/IPython/kernel/zmq/session.pyc\u001b[0m in \u001b[0;36msend\u001b[1;34m(self, stream, msg_or_type, content, parent, ident, buffers, track, header, metadata)\u001b[0m\n\u001b[0;32m    644\u001b[0m             \u001b[1;31m# use dummy tracker, which will be done immediately\u001b[0m\u001b[1;33m\u001b[0m\u001b[1;33m\u001b[0m\u001b[0m\n\u001b[0;32m    645\u001b[0m             \u001b[0mtracker\u001b[0m \u001b[1;33m=\u001b[0m \u001b[0mDONE\u001b[0m\u001b[1;33m\u001b[0m\u001b[0m\n\u001b[1;32m--> 646\u001b[1;33m             \u001b[0mstream\u001b[0m\u001b[1;33m.\u001b[0m\u001b[0msend_multipart\u001b[0m\u001b[1;33m(\u001b[0m\u001b[0mto_send\u001b[0m\u001b[1;33m,\u001b[0m \u001b[0mcopy\u001b[0m\u001b[1;33m=\u001b[0m\u001b[0mcopy\u001b[0m\u001b[1;33m)\u001b[0m\u001b[1;33m\u001b[0m\u001b[0m\n\u001b[0m\u001b[0;32m    647\u001b[0m \u001b[1;33m\u001b[0m\u001b[0m\n\u001b[0;32m    648\u001b[0m         \u001b[1;32mif\u001b[0m \u001b[0mself\u001b[0m\u001b[1;33m.\u001b[0m\u001b[0mdebug\u001b[0m\u001b[1;33m:\u001b[0m\u001b[1;33m\u001b[0m\u001b[0m\n",
        "\u001b[1;32m/usr/local/lib/python2.7/dist-packages/zmq/sugar/socket.pyc\u001b[0m in \u001b[0;36msend_multipart\u001b[1;34m(self, msg_parts, flags, copy, track)\u001b[0m\n\u001b[0;32m    263\u001b[0m         \"\"\"\n\u001b[0;32m    264\u001b[0m         \u001b[1;32mfor\u001b[0m \u001b[0mmsg\u001b[0m \u001b[1;32min\u001b[0m \u001b[0mmsg_parts\u001b[0m\u001b[1;33m[\u001b[0m\u001b[1;33m:\u001b[0m\u001b[1;33m-\u001b[0m\u001b[1;36m1\u001b[0m\u001b[1;33m]\u001b[0m\u001b[1;33m:\u001b[0m\u001b[1;33m\u001b[0m\u001b[0m\n\u001b[1;32m--> 265\u001b[1;33m             \u001b[0mself\u001b[0m\u001b[1;33m.\u001b[0m\u001b[0msend\u001b[0m\u001b[1;33m(\u001b[0m\u001b[0mmsg\u001b[0m\u001b[1;33m,\u001b[0m \u001b[0mSNDMORE\u001b[0m\u001b[1;33m|\u001b[0m\u001b[0mflags\u001b[0m\u001b[1;33m,\u001b[0m \u001b[0mcopy\u001b[0m\u001b[1;33m=\u001b[0m\u001b[0mcopy\u001b[0m\u001b[1;33m,\u001b[0m \u001b[0mtrack\u001b[0m\u001b[1;33m=\u001b[0m\u001b[0mtrack\u001b[0m\u001b[1;33m)\u001b[0m\u001b[1;33m\u001b[0m\u001b[0m\n\u001b[0m\u001b[0;32m    266\u001b[0m         \u001b[1;31m# Send the last part without the extra SNDMORE flag.\u001b[0m\u001b[1;33m\u001b[0m\u001b[1;33m\u001b[0m\u001b[0m\n\u001b[0;32m    267\u001b[0m         \u001b[1;32mreturn\u001b[0m \u001b[0mself\u001b[0m\u001b[1;33m.\u001b[0m\u001b[0msend\u001b[0m\u001b[1;33m(\u001b[0m\u001b[0mmsg_parts\u001b[0m\u001b[1;33m[\u001b[0m\u001b[1;33m-\u001b[0m\u001b[1;36m1\u001b[0m\u001b[1;33m]\u001b[0m\u001b[1;33m,\u001b[0m \u001b[0mflags\u001b[0m\u001b[1;33m,\u001b[0m \u001b[0mcopy\u001b[0m\u001b[1;33m=\u001b[0m\u001b[0mcopy\u001b[0m\u001b[1;33m,\u001b[0m \u001b[0mtrack\u001b[0m\u001b[1;33m=\u001b[0m\u001b[0mtrack\u001b[0m\u001b[1;33m)\u001b[0m\u001b[1;33m\u001b[0m\u001b[0m\n",
        "\u001b[1;32m/usr/local/lib/python2.7/dist-packages/zmq/backend/cython/socket.so\u001b[0m in \u001b[0;36mzmq.backend.cython.socket.Socket.send (zmq/backend/cython/socket.c:5461)\u001b[1;34m()\u001b[0m\n",
        "\u001b[1;32m/usr/local/lib/python2.7/dist-packages/zmq/backend/cython/socket.so\u001b[0m in \u001b[0;36mzmq.backend.cython.socket.Socket.send (zmq/backend/cython/socket.c:5309)\u001b[1;34m()\u001b[0m\n",
        "\u001b[1;32m/usr/local/lib/python2.7/dist-packages/zmq/backend/cython/message.so\u001b[0m in \u001b[0;36mzmq.backend.cython.message.Frame.__cinit__ (zmq/backend/cython/message.c:1681)\u001b[1;34m()\u001b[0m\n",
        "\u001b[1;31mOverflowError\u001b[0m: can't convert negative value to size_t"
       ]
      }
     ],
     "prompt_number": 5
    },
    {
     "cell_type": "heading",
     "level": 1,
     "metadata": {},
     "source": [
      "Reduction Steps"
     ]
    },
    {
     "cell_type": "markdown",
     "metadata": {},
     "source": [
      "## Single descendents\n",
      "\n",
      "First we concatenate all simple paths into a single node.  For the graph above centered on it would condense 567, 572, and 575 into a single node."
     ]
    },
    {
     "cell_type": "code",
     "collapsed": false,
     "input": [
      "target = 577\n",
      "graph_step1 = graph.copy()\n",
      "collider.remove_single_descendents(graph_step1)\n",
      "subgraph = collider.subgraph.nearby(graph_step1, target, 2)\n",
      "display_image(collider.viz.render_nx_as_dot(subgraph, ref=False))"
     ],
     "language": "python",
     "metadata": {},
     "outputs": []
    },
    {
     "cell_type": "markdown",
     "metadata": {},
     "source": [
      "This results in the simplification of the graph by a few thousand nodes"
     ]
    },
    {
     "cell_type": "code",
     "collapsed": false,
     "input": [
      "print(\"Total nodes: {}\".format(len(graph_step1)))\n",
      "collider.viz.direct_degree_distribution(graph_step1, (3, 4))\n",
      "plt.show()\n",
      "print(\"Fraction of components that are single, 0-degree nodes: {:0.1f}%\".format(\n",
      "        sum(100 for node in graph_step1 if graph_step1.degree(node) == 0) / n_components))"
     ],
     "language": "python",
     "metadata": {},
     "outputs": []
    },
    {
     "cell_type": "heading",
     "level": 2,
     "metadata": {},
     "source": [
      "Fission-fusion removal"
     ]
    },
    {
     "cell_type": "markdown",
     "metadata": {},
     "source": [
      "Nodes splitting for but a few (or one) frames is a common motif that we can remove"
     ]
    },
    {
     "cell_type": "code",
     "collapsed": false,
     "input": [
      "target = 747\n",
      "subgraph = collider.subgraph.nearby(graph_step1, target, 3)\n",
      "display_image(collider.viz.render_nx_as_dot(subgraph, ref=False))"
     ],
     "language": "python",
     "metadata": {},
     "outputs": []
    },
    {
     "cell_type": "markdown",
     "metadata": {},
     "source": [
      "From the above, the serial fission-fusion pairs from node 723 to 753 are combined into a single node."
     ]
    },
    {
     "cell_type": "code",
     "collapsed": false,
     "input": [
      "graph_step2 = graph_step1.copy()\n",
      "collider.remove_fission_fusion(graph_step2, max_split_frames=20)\n",
      "target = (723, 753)\n",
      "display_image(collider.viz.render_nx_as_dot(collider.subgraph.nearby(graph_step2, target, 1), ref=False))"
     ],
     "language": "python",
     "metadata": {},
     "outputs": []
    },
    {
     "cell_type": "markdown",
     "metadata": {},
     "source": [
      "This was a very productive step that reduced the number of nodes by about 80%.  Most nodes are now degree 0, so no more simplification can be done with the limited graph data (topology and node age)."
     ]
    },
    {
     "cell_type": "code",
     "collapsed": false,
     "input": [
      "print(\"Total nodes: {}\".format(len(graph_step2)))\n",
      "collider.viz.direct_degree_distribution(graph_step2, (3, 4))\n",
      "plt.show()\n",
      "print(\"Fraction of components that are single, 0-degree nodes: {:0.1f}%\".format(\n",
      "        sum(100 for node in graph_step2 if graph_step2.degree(node) == 0) / n_components))"
     ],
     "language": "python",
     "metadata": {},
     "outputs": []
    },
    {
     "cell_type": "heading",
     "level": 3,
     "metadata": {},
     "source": [
      "Picking the threshold"
     ]
    },
    {
     "cell_type": "markdown",
     "metadata": {},
     "source": [
      "As an aside, the threshold used determines how long the blobs can remain apart before they are not combined.  In theory, worms could touch, drift apart for a minute, then touch again.  We shouldn't combine all the intervening nodes (the search is recursive, so it likely would), hence the threshold\n",
      "\n",
      "What to pick then?  Well, at various threshold, the number of nodes remaining rapidly converge around 20-30 frames (about 2-3 seconds)."
     ]
    },
    {
     "cell_type": "code",
     "collapsed": false,
     "input": [
      "split_frame_thresholds = [2**x for x in range(-1, 10)]\n",
      "nodes_after_removal = []\n",
      "for ft in split_frame_thresholds:\n",
      "    print(ft, '... ', end='')\n",
      "    test_graph = graph_step1.copy()\n",
      "    collider.remove_fission_fusion(test_graph, max_split_frames=ft)\n",
      "    nodes_after_removal.append(len(test_graph))\n",
      "\n",
      "f, ax = plt.subplots()\n",
      "ax.semilogx(split_frame_thresholds, nodes_after_removal)\n",
      "ax.set_xlabel('Fission-fusion join threshold (frames)')\n",
      "ax.set_ylabel('Nodes')\n",
      "ax.set_xlim(0.5, 500)\n",
      "ax.set_ylim(bottom=0)\n",
      "plt.show()"
     ],
     "language": "python",
     "metadata": {},
     "outputs": []
    },
    {
     "cell_type": "heading",
     "level": 2,
     "metadata": {},
     "source": [
      "Small dead-ends"
     ]
    },
    {
     "cell_type": "markdown",
     "metadata": {},
     "source": [
      "It also seems to be fairly common for blobs to split, with one of the pieces quickly disappearing into the aether and the other carrying on.  Pruning these leaves is another fairly easy and conservative next step."
     ]
    },
    {
     "cell_type": "code",
     "collapsed": false,
     "input": [
      "target = (723, 753)\n",
      "display_image(collider.viz.render_nx_as_dot(collider.subgraph.nearby(graph_step2, target, 5), ref=False))"
     ],
     "language": "python",
     "metadata": {},
     "outputs": []
    },
    {
     "cell_type": "code",
     "collapsed": false,
     "input": [
      "graph_step3 = graph_step2.copy()\n",
      "max_dead_end_frames = 10\n",
      "collider.remove_offshoots(graph_step3, threshold=max_dead_end_frames)\n",
      "collider.remove_single_descendents(graph_step3)\n",
      "target = 512, 801\n",
      "display_image(collider.viz.render_nx_as_dot(collider.subgraph.nearby(graph_step3, target, 1), ref=False))"
     ],
     "language": "python",
     "metadata": {},
     "outputs": []
    },
    {
     "cell_type": "code",
     "collapsed": false,
     "input": [
      "print(\"Total nodes: {}\".format(len(graph_step3)))\n",
      "\n",
      "collider.viz.direct_degree_distribution(graph_step3, (3, 4))\n",
      "plt.show()\n",
      "\n",
      "print(\"Fraction of components that are single, 0-degree nodes: {:0.1f}%\".format(\n",
      "        sum(100 for node in graph_step3 if graph_step3.degree(node) == 0) / n_components))"
     ],
     "language": "python",
     "metadata": {},
     "outputs": []
    },
    {
     "cell_type": "heading",
     "level": 1,
     "metadata": {},
     "source": [
      "Next?"
     ]
    },
    {
     "cell_type": "markdown",
     "metadata": {},
     "source": [
      "There is some unexpected connectivity that could be resolved from remaining non-1 components.  Nodes splitting into 3 children is probably a tractable problem that can be addressed through modification of the \"fusion-fission\" joining functionality.\n",
      "\n",
      "Perhaps most productive, however, would be removing the junk around the plate boundary."
     ]
    },
    {
     "cell_type": "code",
     "collapsed": false,
     "input": [
      "component_size_summary(graph_step3)"
     ],
     "language": "python",
     "metadata": {},
     "outputs": []
    },
    {
     "cell_type": "code",
     "collapsed": false,
     "input": [
      "target = 55833\n",
      "display_image(collider.viz.render_nx_as_dot(collider.subgraph.nearby(graph_step3, target, 2), ref=False))"
     ],
     "language": "python",
     "metadata": {},
     "outputs": []
    },
    {
     "cell_type": "code",
     "collapsed": false,
     "input": [
      "target = 63639\n",
      "display_image(collider.viz.render_nx_as_dot(collider.subgraph.nearby(graph_step3, target, 4), ref=False))"
     ],
     "language": "python",
     "metadata": {},
     "outputs": []
    },
    {
     "cell_type": "code",
     "collapsed": false,
     "input": [],
     "language": "python",
     "metadata": {},
     "outputs": []
    }
   ],
   "metadata": {}
  }
 ]
}