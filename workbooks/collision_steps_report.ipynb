{
 "metadata": {
  "gist_id": "f42c056821c8ebe5cddf",
  "name": "",
  "signature": "sha256:57123dbdda25fafb57dd80dc188d180e639d6b4a9168fdf3c0ae10fef84cd959"
 },
 "nbformat": 3,
 "nbformat_minor": 0,
 "worksheets": [
  {
   "cells": [
    {
     "cell_type": "markdown",
     "metadata": {},
     "source": [
      "<div style=\"text-align: center\"><img src=\"http://img2.wikia.nocookie.net/__cb20110515211858/half-life/en/images/6/6d/Super_button_p2_blue.jpg\" width=\"150\" style=\"display: inline;\"/><span style=\"font-size: 40px\"> + </span><img src=\"http://www.staples-3p.com/s7/is/image/Staples/s0105150_sc7?$splssku$\" width=\"100\" style=\"display: inline;\">\n",
      "<center><h1>Designing an easy-to-use Heavy Duty Super-Colliding Super Button</h1></center>"
     ]
    },
    {
     "cell_type": "code",
     "collapsed": false,
     "input": [
      "%load_ext autoreload\n",
      "%autoreload 2\n",
      "%matplotlib inline"
     ],
     "language": "python",
     "metadata": {},
     "outputs": []
    },
    {
     "cell_type": "code",
     "collapsed": false,
     "input": [
      "from __future__ import print_function, absolute_import, unicode_literals, division\n",
      "import six\n",
      "from six.moves import (zip, filter, map, reduce, input, range)\n",
      "\n",
      "import pathcustomize\n",
      "\n",
      "import sys\n",
      "import os\n",
      "import platform\n",
      "print('Python {} ({}) [{}] on {}'.format(platform.python_version(), ', '.join(platform.python_build()), \n",
      "                                       platform.python_compiler(), sys.platform))\n",
      "\n",
      "import numpy as np\n",
      "import matplotlib.pyplot as plt\n",
      "import networkx as nx\n",
      "from IPython.core.display import Image as display_image\n",
      "\n",
      "os.environ.setdefault('MULTIWORM_SETTINGS', 'multiworm_settings')\n",
      "os.environ.setdefault('WALDO_SETTINGS', 'waldo_settings')\n",
      "\n",
      "import multiworm\n",
      "import where\n",
      "import collider\n",
      "import collider.viz"
     ],
     "language": "python",
     "metadata": {},
     "outputs": []
    },
    {
     "cell_type": "heading",
     "level": 1,
     "metadata": {},
     "source": [
      "Initial Experiment Graph"
     ]
    },
    {
     "cell_type": "code",
     "collapsed": false,
     "input": [
      "#ex_id = '20130614_120518'\n",
      "ex_id = '20130318_131111'\n",
      "#ex_id = '20130414_140704'\n",
      "\n",
      "experiment = multiworm.Experiment(experiment_id=ex_id)\n",
      "experiment.load_summary(graph=True)\n",
      "graph = experiment.collision_graph\n",
      "collider.viz.direct_degree_distribution(graph, (3, 4))\n",
      "plt.show()"
     ],
     "language": "python",
     "metadata": {},
     "outputs": []
    },
    {
     "cell_type": "markdown",
     "metadata": {},
     "source": [
      "Note the extreme and fairly discontinuous size of the giant component below, this may be due to \"junk\" that's highly sensitive to noise or other vibration that is constantly joining and splitting.  \n",
      "\n",
      "**For the rest of the analysis, the (initial) giant component will be excluded**."
     ]
    },
    {
     "cell_type": "code",
     "collapsed": false,
     "input": [
      "def component_size_summary(graph):\n",
      "    Gcc = nx.connected_component_subgraphs(graph.to_undirected())\n",
      "    print(\"Component sizes and example nodes in descending order\")\n",
      "    for n, G in enumerate(Gcc[:10], start=1):\n",
      "        print(\"{:>2d}. {:>5d} nodes : {}...\".format(\n",
      "                n, len(G), ', '.join([str(node) for node, _ in zip(G.nodes_iter(), range(5))])))\n",
      "\n",
      "component_size_summary(graph)\n",
      "\n",
      "print(\"\\nTotal nodes: {}\".format(len(graph)))\n",
      "\n",
      "Gcc = nx.connected_component_subgraphs(graph.to_undirected())\n",
      "n_components = len(Gcc)\n",
      "print(\"Number of components: {}\".format(n_components))\n",
      "print(\"Removing giant component...\")\n",
      "graph.remove_nodes_from(Gcc[0])\n",
      "n_components = n_components - 1\n",
      "\n",
      "collider.viz.direct_degree_distribution(graph, (3, 4))\n",
      "print(\"Total nodes: {}\".format(len(graph)))\n",
      "plt.show()\n",
      "\n",
      "print(\"Fraction of components that are single, 0-degree nodes: {:0.1f}%\".format(\n",
      "        sum(100 for node in graph if graph.degree(node) == 0) / n_components))"
     ],
     "language": "python",
     "metadata": {},
     "outputs": []
    },
    {
     "cell_type": "heading",
     "level": 2,
     "metadata": {},
     "source": [
      "Raw view centered on a target blob (node)"
     ]
    },
    {
     "cell_type": "code",
     "collapsed": false,
     "input": [
      "#target = 4115\n",
      "#target = 913\n",
      "target = 575\n",
      "#target = 43804\n",
      "subgraph = collider.subgraph.nearby(graph, target, 3)\n",
      "display_image(collider.viz.render_nx_as_dot(subgraph))"
     ],
     "language": "python",
     "metadata": {},
     "outputs": []
    },
    {
     "cell_type": "heading",
     "level": 1,
     "metadata": {},
     "source": [
      "Reduction Steps"
     ]
    },
    {
     "cell_type": "markdown",
     "metadata": {},
     "source": [
      "## Single descendents\n",
      "\n",
      "First we concatenate all simple paths into a single node.  For the graph above centered on it would condense 567, 572, and 575 into a single node."
     ]
    },
    {
     "cell_type": "code",
     "collapsed": false,
     "input": [
      "target = 577\n",
      "graph_step1 = graph.copy()\n",
      "collider.remove_single_descendents(graph_step1)\n",
      "subgraph = collider.subgraph.nearby(graph_step1, target, 2)\n",
      "display_image(collider.viz.render_nx_as_dot(subgraph, ref=False))"
     ],
     "language": "python",
     "metadata": {},
     "outputs": []
    },
    {
     "cell_type": "markdown",
     "metadata": {},
     "source": [
      "This results in the simplification of the graph by a few thousand nodes"
     ]
    },
    {
     "cell_type": "code",
     "collapsed": false,
     "input": [
      "print(\"Total nodes: {}\".format(len(graph_step1)))\n",
      "collider.viz.direct_degree_distribution(graph_step1, (3, 4))\n",
      "plt.show()\n",
      "print(\"Fraction of components that are single, 0-degree nodes: {:0.1f}%\".format(\n",
      "        sum(100 for node in graph_step1 if graph_step1.degree(node) == 0) / n_components))"
     ],
     "language": "python",
     "metadata": {},
     "outputs": []
    },
    {
     "cell_type": "heading",
     "level": 2,
     "metadata": {},
     "source": [
      "Fission-fusion removal"
     ]
    },
    {
     "cell_type": "markdown",
     "metadata": {},
     "source": [
      "Nodes splitting for but a few (or one) frames is a common motif that we can remove"
     ]
    },
    {
     "cell_type": "code",
     "collapsed": false,
     "input": [
      "target = 747\n",
      "subgraph = collider.subgraph.nearby(graph_step1, target, 3)\n",
      "display_image(collider.viz.render_nx_as_dot(subgraph, ref=False))"
     ],
     "language": "python",
     "metadata": {},
     "outputs": []
    },
    {
     "cell_type": "markdown",
     "metadata": {},
     "source": [
      "From the above, the serial fission-fusion pairs from node 723 to 753 are combined into a single node."
     ]
    },
    {
     "cell_type": "code",
     "collapsed": false,
     "input": [
      "graph_step2 = graph_step1.copy()\n",
      "collider.remove_fission_fusion(graph_step2, max_split_frames=20)\n",
      "target = 723\n",
      "display_image(collider.viz.render_nx_as_dot(collider.subgraph.nearby(graph_step2, target, 1), ref=False))"
     ],
     "language": "python",
     "metadata": {},
     "outputs": []
    },
    {
     "cell_type": "markdown",
     "metadata": {},
     "source": [
      "This was a very productive step that reduced the number of nodes by about 80%.  Most nodes are now degree 0, so no more simplification can be done with the limited graph data (topology and node age)."
     ]
    },
    {
     "cell_type": "code",
     "collapsed": false,
     "input": [
      "print(\"Total nodes: {}\".format(len(graph_step2)))\n",
      "collider.viz.direct_degree_distribution(graph_step2, (3, 4))\n",
      "plt.show()\n",
      "print(\"Fraction of components that are single, 0-degree nodes: {:0.1f}%\".format(\n",
      "        sum(100 for node in graph_step2 if graph_step2.degree(node) == 0) / n_components))"
     ],
     "language": "python",
     "metadata": {},
     "outputs": []
    },
    {
     "cell_type": "heading",
     "level": 3,
     "metadata": {},
     "source": [
      "Picking the threshold"
     ]
    },
    {
     "cell_type": "markdown",
     "metadata": {},
     "source": [
      "As an aside, the threshold used determines how long the blobs can remain apart before they are not combined.  In theory, worms could touch, drift apart for a minute, then touch again.  We shouldn't combine all the intervening nodes (the search is recursive, so it likely would), hence the threshold\n",
      "\n",
      "What to pick then?  Well, at various threshold, the number of nodes remaining rapidly converge around 20-30 frames (about 2-3 seconds)."
     ]
    },
    {
     "cell_type": "code",
     "collapsed": false,
     "input": [
      "split_frame_thresholds = [2**x for x in range(-1, 10)]\n",
      "nodes_after_removal = []\n",
      "for ft in split_frame_thresholds:\n",
      "    print(ft, '... ', end='')\n",
      "    test_graph = graph_step1.copy()\n",
      "    collider.remove_fission_fusion(test_graph, max_split_frames=ft)\n",
      "    nodes_after_removal.append(len(test_graph))\n",
      "\n",
      "f, ax = plt.subplots()\n",
      "ax.semilogx(split_frame_thresholds, nodes_after_removal)\n",
      "ax.set_xlabel('Fission-fusion join threshold (frames)')\n",
      "ax.set_ylabel('Nodes')\n",
      "ax.set_xlim(0.5, 500)\n",
      "ax.set_ylim(bottom=0)\n",
      "plt.show()"
     ],
     "language": "python",
     "metadata": {},
     "outputs": []
    },
    {
     "cell_type": "heading",
     "level": 2,
     "metadata": {},
     "source": [
      "Small dead-ends"
     ]
    },
    {
     "cell_type": "markdown",
     "metadata": {},
     "source": [
      "It also seems to be fairly common for blobs to split, with one of the pieces quickly disappearing into the aether and the other carrying on.  Pruning these leaves is another fairly easy and conservative next step."
     ]
    },
    {
     "cell_type": "code",
     "collapsed": false,
     "input": [
      "target = 723\n",
      "display_image(collider.viz.render_nx_as_dot(collider.subgraph.nearby(graph_step2, target, 5), ref=False))"
     ],
     "language": "python",
     "metadata": {},
     "outputs": []
    },
    {
     "cell_type": "code",
     "collapsed": false,
     "input": [
      "graph_step3 = graph_step2.copy()\n",
      "max_dead_end_frames = 10\n",
      "collider.remove_offshoots(graph_step3, threshold=max_dead_end_frames)\n",
      "collider.remove_single_descendents(graph_step3)\n",
      "target = 512\n",
      "display_image(collider.viz.render_nx_as_dot(collider.subgraph.nearby(graph_step3, target, 1), ref=False))"
     ],
     "language": "python",
     "metadata": {},
     "outputs": []
    },
    {
     "cell_type": "code",
     "collapsed": false,
     "input": [
      "print(\"Total nodes: {}\".format(len(graph_step3)))\n",
      "\n",
      "collider.viz.direct_degree_distribution(graph_step3, (3, 4))\n",
      "plt.show()\n",
      "\n",
      "print(\"Fraction of components that are single, 0-degree nodes: {:0.1f}%\".format(\n",
      "        sum(100 for node in graph_step3 if graph_step3.degree(node) == 0) / n_components))"
     ],
     "language": "python",
     "metadata": {},
     "outputs": []
    },
    {
     "cell_type": "heading",
     "level": 1,
     "metadata": {},
     "source": [
      "Next?"
     ]
    },
    {
     "cell_type": "markdown",
     "metadata": {},
     "source": [
      "There is some unexpected connectivity that could be resolved from remaining non-1 components.  Nodes splitting into 3 children is probably a tractable problem that can be addressed through modification of the \"fusion-fission\" joining functionality.\n",
      "\n",
      "Perhaps most productive, however, would be removing the junk around the plate boundary."
     ]
    },
    {
     "cell_type": "code",
     "collapsed": false,
     "input": [
      "component_size_summary(graph_step3)"
     ],
     "language": "python",
     "metadata": {},
     "outputs": []
    },
    {
     "cell_type": "code",
     "collapsed": false,
     "input": [
      "target = 55833\n",
      "display_image(collider.viz.render_nx_as_dot(collider.subgraph.nearby(graph_step3, target, 2), ref=False))"
     ],
     "language": "python",
     "metadata": {},
     "outputs": []
    },
    {
     "cell_type": "code",
     "collapsed": false,
     "input": [
      "target = 63639\n",
      "display_image(collider.viz.render_nx_as_dot(collider.subgraph.nearby(graph_step3, target, 4), ref=False))"
     ],
     "language": "python",
     "metadata": {},
     "outputs": []
    },
    {
     "cell_type": "code",
     "collapsed": false,
     "input": [],
     "language": "python",
     "metadata": {},
     "outputs": []
    }
   ],
   "metadata": {}
  }
 ]
}