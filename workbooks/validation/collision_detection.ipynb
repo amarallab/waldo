{
 "cells": [
  {
   "cell_type": "markdown",
   "metadata": {},
   "source": [
    "# How good are methods at correctly detecting collisions?"
   ]
  },
  {
   "cell_type": "code",
   "execution_count": null,
   "metadata": {
    "collapsed": false
   },
   "outputs": [],
   "source": [
    "%load_ext autoreload\n",
    "%autoreload 2\n",
    "%matplotlib inline"
   ]
  },
  {
   "cell_type": "code",
   "execution_count": null,
   "metadata": {
    "collapsed": false
   },
   "outputs": [],
   "source": [
    "from __future__ import print_function, absolute_import, unicode_literals, division\n",
    "import sys, six; from six.moves import (zip, filter, map, reduce, input, range)\n",
    "sys.path.append('..');import pathcustomize, about\n",
    "about.about()\n",
    "\n",
    "import collections\n",
    "\n",
    "import matplotlib.pyplot as plt\n",
    "import pandas as pd\n",
    "\n",
    "\n",
    "#from multiworm import Experiment\n",
    "from waldo.wio import Experiment\n",
    "from waldo import collider\n",
    "from waldo.collider.viz import direct_degree_distribution as ddd"
   ]
  },
  {
   "cell_type": "code",
   "execution_count": null,
   "metadata": {
    "collapsed": false
   },
   "outputs": [],
   "source": [
    "#ex_id = '20130614_120518'\n",
    "#ex_id = '20130318_131111'\n",
    "#ex_id = '20130414_140704'\n",
    "#ex_id = '20130702_135704' # many pics\n",
    "ex_id = '20130702_135652' # many pics\n",
    "\n",
    "experiment = Experiment(experiment_id=ex_id, data_root='/home/projects/worm_movement/Data/MWT_RawData')\n",
    "graph = experiment.graph.copy()\n",
    "collider.remove_nodes_outside_roi(graph, experiment)\n",
    "pass"
   ]
  },
  {
   "cell_type": "markdown",
   "metadata": {},
   "source": [
    "## Screen Data"
   ]
  },
  {
   "cell_type": "code",
   "execution_count": null,
   "metadata": {
    "collapsed": false
   },
   "outputs": [],
   "source": [
    "screen = pd.read_csv('../../data/prep/collision_validate.csv')\n",
    "screen = screen[screen['eid'] == ex_id]\n",
    "assert len(screen), \"No data for experiment ID\""
   ]
  },
  {
   "cell_type": "code",
   "execution_count": null,
   "metadata": {
    "collapsed": false
   },
   "outputs": [],
   "source": [
    "screen_results = {\n",
    "    '2': set(screen[screen['ans'] == 20]['bid'].values),# | set(screen[screen['ans'] == 30]['bid'].values),\n",
    "    '1': set(screen[screen['ans'] == 10]['bid'].values),\n",
    "    'all': set(screen['bid'].values),\n",
    "}"
   ]
  },
  {
   "cell_type": "code",
   "execution_count": null,
   "metadata": {
    "collapsed": false
   },
   "outputs": [],
   "source": [
    "ddd(graph)\n",
    "ddd(graph, nodes=screen['bid'].values)\n",
    "ddd(graph, nodes=screen[screen['ans'] == 10]['bid'].values)\n",
    "ddd(graph, nodes=screen[screen['ans'] == 20]['bid'].values)\n",
    "ddd(graph, nodes=screen[screen['ans'] == 30]['bid'].values)"
   ]
  },
  {
   "cell_type": "code",
   "execution_count": null,
   "metadata": {
    "collapsed": false
   },
   "outputs": [],
   "source": [
    "def calc_performance(suspects):\n",
    "    alg_results = set(suspects)\n",
    "    alg_performance = [\n",
    "        ('TP', alg_results & screen_results['2']),\n",
    "        ('FP', alg_results - screen_results['2']),\n",
    "        ('FN', screen_results['2'] - alg_results),\n",
    "        ('TN', (screen_results['all'] - screen_results['2']) & alg_results),\n",
    "    ]\n",
    "    return alg_performance\n",
    "    \n",
    "def show_performance(alg_performance):\n",
    "    ticks, data = zip(*alg_performance)\n",
    "    data = [len(d) for d in data]\n",
    "    ypos = list(range(len(alg_performance)))\n",
    "    \n",
    "    f, ax = plt.subplots()\n",
    "    ax.barh(ypos, data, align='center')\n",
    "    ax.set_yticks(ypos)\n",
    "    ax.set_yticklabels(ticks)\n",
    "\n",
    "    return f, ax\n",
    "\n",
    "def show_result_type(suspects):\n",
    "    answers = screen[screen['bid'].isin(suspects)]['ans']\n",
    "    answer_categories = collections.Counter(answers)\n",
    "    labels, amounts = zip(*six.iteritems(answer_categories))\n",
    "    \n",
    "    f, ax = plt.subplots()\n",
    "    ax.pie(amounts, labels=labels)\n",
    "    return f, ax"
   ]
  },
  {
   "cell_type": "markdown",
   "metadata": {},
   "source": [
    "## Method 1: Time"
   ]
  },
  {
   "cell_type": "code",
   "execution_count": null,
   "metadata": {
    "collapsed": false
   },
   "outputs": [],
   "source": [
    "threshold = 30 #?\n",
    "suspects = collider.suspected_collisions(graph, threshold)\n",
    "print(', '.join(str(x) for x in suspects[:10]), '...' if len(suspects) > 10 else '')\n",
    "print('{} total suspects'.format(len(suspects)))"
   ]
  },
  {
   "cell_type": "code",
   "execution_count": null,
   "metadata": {
    "collapsed": false
   },
   "outputs": [],
   "source": [
    "show_performance(calc_performance(suspects))"
   ]
  },
  {
   "cell_type": "code",
   "execution_count": null,
   "metadata": {
    "collapsed": false
   },
   "outputs": [],
   "source": [
    "show_result_type(suspects)"
   ]
  },
  {
   "cell_type": "markdown",
   "metadata": {},
   "source": [
    "## Method 2: Area"
   ]
  },
  {
   "cell_type": "code",
   "execution_count": null,
   "metadata": {
    "collapsed": false
   },
   "outputs": [],
   "source": [
    "suspects = collider.find_area_based_collisions(graph, experiment)"
   ]
  },
  {
   "cell_type": "code",
   "execution_count": null,
   "metadata": {
    "collapsed": false
   },
   "outputs": [],
   "source": [
    "print(', '.join(str(x) for x in suspects[:10]), '...' if len(suspects) > 10 else '')\n",
    "print('{} total suspects'.format(len(suspects)))"
   ]
  },
  {
   "cell_type": "code",
   "execution_count": null,
   "metadata": {
    "collapsed": false
   },
   "outputs": [],
   "source": [
    "show_performance(calc_performance(suspects))"
   ]
  },
  {
   "cell_type": "code",
   "execution_count": null,
   "metadata": {
    "collapsed": false
   },
   "outputs": [],
   "source": [
    "show_result_type(suspects)"
   ]
  },
  {
   "cell_type": "markdown",
   "metadata": {},
   "source": [
    "## Method 3: Bounding Box"
   ]
  },
  {
   "cell_type": "code",
   "execution_count": null,
   "metadata": {
    "collapsed": false
   },
   "outputs": [],
   "source": [
    "suspects = collider.find_bbox_based_collisions(graph, experiment)"
   ]
  },
  {
   "cell_type": "code",
   "execution_count": null,
   "metadata": {
    "collapsed": false
   },
   "outputs": [],
   "source": [
    "show_performance(calc_performance(suspects))"
   ]
  },
  {
   "cell_type": "code",
   "execution_count": null,
   "metadata": {
    "collapsed": false
   },
   "outputs": [],
   "source": [
    "show_result_type(suspects)"
   ]
  },
  {
   "cell_type": "code",
   "execution_count": null,
   "metadata": {
    "collapsed": false
   },
   "outputs": [],
   "source": []
  }
 ],
 "metadata": {
  "kernelspec": {
   "display_name": "Python 2",
   "language": "python",
   "name": "python2"
  },
  "language_info": {
   "codemirror_mode": {
    "name": "ipython",
    "version": 2
   },
   "file_extension": ".py",
   "mimetype": "text/x-python",
   "name": "python",
   "nbconvert_exporter": "python",
   "pygments_lexer": "ipython2",
   "version": "2.7.9"
  }
 },
 "nbformat": 4,
 "nbformat_minor": 0
}
