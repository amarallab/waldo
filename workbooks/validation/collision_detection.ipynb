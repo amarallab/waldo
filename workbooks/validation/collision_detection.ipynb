{
 "metadata": {
  "name": "",
  "signature": "sha256:276bbd366202312abedd774a3f087a7605b5719d80716bbccc399488538286f3"
 },
 "nbformat": 3,
 "nbformat_minor": 0,
 "worksheets": [
  {
   "cells": [
    {
     "cell_type": "heading",
     "level": 1,
     "metadata": {},
     "source": [
      "How good are methods at correctly detecting collisions?"
     ]
    },
    {
     "cell_type": "code",
     "collapsed": false,
     "input": [
      "%load_ext autoreload\n",
      "%autoreload 2\n",
      "%matplotlib inline"
     ],
     "language": "python",
     "metadata": {},
     "outputs": []
    },
    {
     "cell_type": "code",
     "collapsed": false,
     "input": [
      "from __future__ import print_function, absolute_import, unicode_literals, division\n",
      "import six\n",
      "from six.moves import (zip, filter, map, reduce, input, range)\n",
      "\n",
      "import sys\n",
      "import os\n",
      "import collections\n",
      "import platform\n",
      "print('Python {} ({}) [{}] on {}'.format(platform.python_version(), ', '.join(platform.python_build()), \n",
      "                                       platform.python_compiler(), sys.platform))\n",
      "\n",
      "import matplotlib.pyplot as plt\n",
      "import pandas as pd\n",
      "\n",
      "sys.path.append('..');import pathcustomize\n",
      "\n",
      "#from multiworm import Experiment\n",
      "from wio import Experiment\n",
      "import collider\n",
      "#from collider.viz import show_before_and_after"
     ],
     "language": "python",
     "metadata": {},
     "outputs": []
    },
    {
     "cell_type": "code",
     "collapsed": false,
     "input": [
      "ex_id = '20130702_135704' # many pics\n",
      "#ex_id = '20130702_135652' # many pics\n",
      "\n",
      "experiment = Experiment(experiment_id=ex_id, data_root='/home/projects/worm_movement/Data/MWT_RawData')\n",
      "graph = experiment.graph"
     ],
     "language": "python",
     "metadata": {},
     "outputs": []
    },
    {
     "cell_type": "heading",
     "level": 2,
     "metadata": {},
     "source": [
      "Screen Data"
     ]
    },
    {
     "cell_type": "code",
     "collapsed": false,
     "input": [
      "screen = pd.read_csv('../../data/prep/collision_validate.csv')\n",
      "screen = screen[screen['eid'] == ex_id]\n",
      "assert len(screen), \"No data for experiment ID\""
     ],
     "language": "python",
     "metadata": {},
     "outputs": []
    },
    {
     "cell_type": "code",
     "collapsed": false,
     "input": [
      "screen_results = {\n",
      "    '2': set(screen[screen['ans'] == 20]['bid'].values),# | set(screen[screen['ans'] == 30]['bid'].values),\n",
      "    '1': set(screen[screen['ans'] == 10]['bid'].values),\n",
      "    'all': set(screen['bid'].values),\n",
      "}"
     ],
     "language": "python",
     "metadata": {},
     "outputs": []
    },
    {
     "cell_type": "code",
     "collapsed": false,
     "input": [
      "def calc_performance(suspects):\n",
      "    alg_results = set(suspects)\n",
      "    alg_performance = [\n",
      "        ('TP', alg_results & screen_results['2']),\n",
      "        ('FP', alg_results - screen_results['2']),\n",
      "        ('FN', screen_results['2'] - alg_results),\n",
      "        ('TN', (screen_results['all'] - screen_results['2']) & alg_results),\n",
      "    ]\n",
      "    return alg_performance\n",
      "    \n",
      "def show_performance(alg_performance):\n",
      "    ticks, data = zip(*alg_performance)\n",
      "    data = [len(d) for d in data]\n",
      "    ypos = list(range(len(alg_performance)))\n",
      "    \n",
      "    f, ax = plt.subplots()\n",
      "    ax.barh(ypos, data, align='center')\n",
      "    ax.set_yticks(ypos)\n",
      "    ax.set_yticklabels(ticks)\n",
      "\n",
      "    return f, ax\n",
      "\n",
      "def show_result_type(suspects):\n",
      "    answers = screen[screen['bid'].isin(suspects)]['ans']\n",
      "    answer_categories = collections.Counter(answers)\n",
      "    labels, amounts = zip(*six.iteritems(answer_categories))\n",
      "    \n",
      "    f, ax = plt.subplots()\n",
      "    ax.pie(amounts, labels=labels)\n",
      "    return f, ax"
     ],
     "language": "python",
     "metadata": {},
     "outputs": []
    },
    {
     "cell_type": "heading",
     "level": 2,
     "metadata": {},
     "source": [
      "Method 1: Time"
     ]
    },
    {
     "cell_type": "code",
     "collapsed": false,
     "input": [
      "threshold = 30 #?\n",
      "suspects = collider.suspected_collisions(graph, threshold)\n",
      "print(', '.join(str(x) for x in suspects[:10]), '...' if len(suspects) > 10 else '')\n",
      "print('{} total suspects'.format(len(suspects)))"
     ],
     "language": "python",
     "metadata": {},
     "outputs": []
    },
    {
     "cell_type": "code",
     "collapsed": false,
     "input": [
      "show_performance(calc_performance(suspects))"
     ],
     "language": "python",
     "metadata": {},
     "outputs": []
    },
    {
     "cell_type": "code",
     "collapsed": false,
     "input": [
      "show_result_type(suspects)"
     ],
     "language": "python",
     "metadata": {},
     "outputs": []
    },
    {
     "cell_type": "heading",
     "level": 2,
     "metadata": {},
     "source": [
      "Method 2: Area"
     ]
    },
    {
     "cell_type": "code",
     "collapsed": false,
     "input": [
      "suspects = collider.find_area_based_collisions(graph, experiment)"
     ],
     "language": "python",
     "metadata": {},
     "outputs": []
    },
    {
     "cell_type": "code",
     "collapsed": false,
     "input": [
      "print(', '.join(str(x) for x in suspects[:10]), '...' if len(suspects) > 10 else '')\n",
      "print('{} total suspects'.format(len(suspects)))"
     ],
     "language": "python",
     "metadata": {},
     "outputs": []
    },
    {
     "cell_type": "code",
     "collapsed": false,
     "input": [
      "show_performance(calc_performance(suspects))"
     ],
     "language": "python",
     "metadata": {},
     "outputs": []
    },
    {
     "cell_type": "code",
     "collapsed": false,
     "input": [
      "show_result_type(suspects)"
     ],
     "language": "python",
     "metadata": {},
     "outputs": []
    },
    {
     "cell_type": "heading",
     "level": 2,
     "metadata": {},
     "source": [
      "Method 3: Bounding Box"
     ]
    },
    {
     "cell_type": "code",
     "collapsed": false,
     "input": [
      "suspects = collider.find_bbox_based_collisions(graph, experiment)"
     ],
     "language": "python",
     "metadata": {},
     "outputs": []
    },
    {
     "cell_type": "code",
     "collapsed": false,
     "input": [
      "show_performance(calc_performance(suspects))"
     ],
     "language": "python",
     "metadata": {},
     "outputs": []
    },
    {
     "cell_type": "code",
     "collapsed": false,
     "input": [
      "show_result_type(suspects)"
     ],
     "language": "python",
     "metadata": {},
     "outputs": []
    }
   ],
   "metadata": {}
  }
 ]
}