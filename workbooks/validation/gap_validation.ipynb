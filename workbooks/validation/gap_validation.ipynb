{
 "metadata": {
  "name": "",
  "signature": "sha256:8c3800a9e5e4161f0719b01cfc62f9181509ec3c638cfd1a37dd871d1cc8e85c"
 },
 "nbformat": 3,
 "nbformat_minor": 0,
 "worksheets": [
  {
   "cells": [
    {
     "cell_type": "heading",
     "level": 1,
     "metadata": {},
     "source": [
      "Gap Joining Validation"
     ]
    },
    {
     "cell_type": "code",
     "collapsed": false,
     "input": [
      "%load_ext autoreload\n",
      "%autoreload 2\n",
      "%matplotlib inline"
     ],
     "language": "python",
     "metadata": {},
     "outputs": [],
     "prompt_number": 1
    },
    {
     "cell_type": "code",
     "collapsed": false,
     "input": [
      "from __future__ import print_function, division\n",
      "import six, sys\n",
      "sys.path.append('..'); import pathcustomize, about\n",
      "about.about()\n",
      "\n",
      "import pandas as pd\n",
      "\n",
      "import waldo"
     ],
     "language": "python",
     "metadata": {},
     "outputs": [
      {
       "output_type": "stream",
       "stream": "stdout",
       "text": [
        "Python 2.7.8 (default, Jul 31 2014 17:07:51) [GCC 4.8.2] on linux2, Host: liverpool\n"
       ]
      }
     ],
     "prompt_number": 2
    },
    {
     "cell_type": "code",
     "collapsed": false,
     "input": [
      "#ex_id = '20130702_135704' # many pics\n",
      "ex_id = '20130702_135652' # many pics\n",
      "\n",
      "experiment = waldo.Experiment(experiment_id=ex_id)\n",
      "graph = experiment.graph.copy()\n",
      "waldo.collider.remove_nodes_outside_roi(graph, experiment)\n",
      "len(graph)"
     ],
     "language": "python",
     "metadata": {},
     "outputs": [
      {
       "metadata": {},
       "output_type": "pyout",
       "prompt_number": 3,
       "text": [
        "15339"
       ]
      }
     ],
     "prompt_number": 3
    },
    {
     "cell_type": "code",
     "collapsed": false,
     "input": [
      "screen = pd.read_csv('../../data/prep/gap_validate.csv')\n",
      "screen = screen[screen['eid'] != ex_id]\n",
      "print('{} gaps checked'.format(len(screen)))\n",
      "\n",
      "sa = {a: screen[screen['ans'] == a] for a in ['valid', 'invalid', 'unclear']}\n",
      "for a in sa:\n",
      "    print('{:<10}: {:>4}'.format(a.capitalize(), len(sa[a])))"
     ],
     "language": "python",
     "metadata": {},
     "outputs": [
      {
       "output_type": "stream",
       "stream": "stdout",
       "text": [
        "485 gaps checked\n",
        "Unclear   :   38\n",
        "Valid     :  378\n",
        "Invalid   :   69\n"
       ]
      }
     ],
     "prompt_number": 4
    },
    {
     "cell_type": "code",
     "collapsed": false,
     "input": [
      "#taper = waldo.tape.Taper(experiment, graph)\n",
      "# does something..."
     ],
     "language": "python",
     "metadata": {},
     "outputs": [],
     "prompt_number": 5
    },
    {
     "cell_type": "code",
     "collapsed": false,
     "input": [],
     "language": "python",
     "metadata": {},
     "outputs": []
    }
   ],
   "metadata": {}
  }
 ]
}