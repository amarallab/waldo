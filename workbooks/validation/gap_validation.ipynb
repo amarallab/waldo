{
 "metadata": {
  "name": "",
  "signature": "sha256:a02224a5513f9fe32f655dc441bef3bc83922dd8399aee43fdc4dd7406f70c72"
 },
 "nbformat": 3,
 "nbformat_minor": 0,
 "worksheets": [
  {
   "cells": [
    {
     "cell_type": "heading",
     "level": 1,
     "metadata": {},
     "source": [
      "Gap Joining Validation"
     ]
    },
    {
     "cell_type": "code",
     "collapsed": false,
     "input": [
      "%load_ext autoreload\n",
      "%autoreload 2\n",
      "%matplotlib inline"
     ],
     "language": "python",
     "metadata": {},
     "outputs": [],
     "prompt_number": 2
    },
    {
     "cell_type": "code",
     "collapsed": false,
     "input": [
      "from __future__ import print_function, division\n",
      "import six, sys\n",
      "sys.path.append('..'); import pathcustomize, about\n",
      "about.about()\n",
      "\n",
      "import math\n",
      "\n",
      "import numpy as np\n",
      "import pandas as pd\n",
      "\n",
      "import waldo"
     ],
     "language": "python",
     "metadata": {},
     "outputs": [
      {
       "output_type": "stream",
       "stream": "stdout",
       "text": [
        "Python 2.7.8 (default, Jul 31 2014 17:07:51) [GCC 4.8.2] on linux2, Host: liverpool\n"
       ]
      }
     ],
     "prompt_number": 81
    },
    {
     "cell_type": "code",
     "collapsed": false,
     "input": [
      "#ex_id = '20130702_135704' # many pics\n",
      "ex_id = '20130702_135652' # many pics\n",
      "\n",
      "experiment = waldo.Experiment(experiment_id=ex_id)\n",
      "graph = experiment.graph.copy()\n",
      "waldo.collider.remove_nodes_outside_roi(graph, experiment)\n",
      "len(graph)"
     ],
     "language": "python",
     "metadata": {},
     "outputs": [
      {
       "metadata": {},
       "output_type": "pyout",
       "prompt_number": 4,
       "text": [
        "15339"
       ]
      }
     ],
     "prompt_number": 4
    },
    {
     "cell_type": "code",
     "collapsed": false,
     "input": [
      "screen = pd.read_csv('../../data/prep/gap_validate.csv')\n",
      "screen = screen[screen['eid'] == ex_id]\n",
      "print('{} gaps checked'.format(len(screen)))\n",
      "\n",
      "sa = {a: screen[screen['ans'] == a] for a in ['valid', 'invalid', 'unclear']}\n",
      "for a in sa:\n",
      "    print('{:<10}: {:>4}'.format(a.capitalize(), len(sa[a])))"
     ],
     "language": "python",
     "metadata": {},
     "outputs": [
      {
       "output_type": "stream",
       "stream": "stdout",
       "text": [
        "1090 gaps checked\n",
        "Unclear   :   65\n",
        "Valid     :  782\n",
        "Invalid   :  243\n"
       ]
      }
     ],
     "prompt_number": 53
    },
    {
     "cell_type": "code",
     "collapsed": false,
     "input": [
      "FIELDS = 'xytf'\n",
      "\n",
      "def describe_gap(terminals, from_bid, to_bid):\n",
      "    gap_start = terminals.loc[from_bid]\n",
      "    gap_end = terminals.loc[to_bid]\n",
      "    \n",
      "def column_map(terminal):\n",
      "    if terminal == 'end':\n",
      "        suffix = 'N'\n",
      "    elif terminal == 'start':\n",
      "        suffix = '0'\n",
      "    else:\n",
      "        raise ValueError()\n",
      "        \n",
      "    return {field + suffix: field for field in FIELDS}\n",
      "\n",
      "def terminal_endian(terminals, terminal, bid):\n",
      "    t = terminals.loc[bid].to_dict()\n",
      "    cm = column_map(terminal)\n",
      "    return {cn: t[co] for co, cn in cm.items()}\n",
      "\n",
      "def describe_gap(terminals, from_bid, to_bid):\n",
      "    from_data = terminal_endian(terminals, 'end', from_bid)\n",
      "    to_data = terminal_endian(terminals, 'start', to_bid)\n",
      "    \n",
      "    gap = {field: to_data[field] - from_data[field] for field in FIELDS}\n",
      "    gap['s'] = math.sqrt(gap['x']**2 + gap['y']**2)\n",
      "    return gap "
     ],
     "language": "python",
     "metadata": {},
     "outputs": [],
     "prompt_number": 74
    },
    {
     "cell_type": "code",
     "collapsed": false,
     "input": [
      "taper = waldo.tape.Taper(experiment, graph)"
     ],
     "language": "python",
     "metadata": {},
     "outputs": [],
     "prompt_number": 75
    },
    {
     "cell_type": "code",
     "collapsed": false,
     "input": [
      "terminals = experiment.prepdata.terminals\n",
      "terminals.set_index('bid', inplace=True)\n",
      "\n",
      "gapidxs = []\n",
      "gapdata = []\n",
      "for idx, gap in screen.iterrows():\n",
      "    from_blob, to_blob = gap['from_blob'], gap['to_blob']\n",
      "    g = describe_gap(terminals, from_blob, to_blob)\n",
      "    g['from_blob'] = from_blob\n",
      "    g['to_blob'] = to_blob\n",
      "    g['score'] = taper.score(g['s'], g['f'])\n",
      "    gapdata.append(g)\n",
      "    gapidxs.append(idx)\n",
      "\n",
      "gapdata = pd.DataFrame(gapdata, index=gapidxs)\n",
      "gapdata = gapdata.join(screen, rsuffix='_r')    "
     ],
     "language": "python",
     "metadata": {},
     "outputs": [],
     "prompt_number": 80
    },
    {
     "cell_type": "code",
     "collapsed": false,
     "input": [
      "def tpfpfn(df, key, threshold, f_compare):\n",
      "    N_tp = len(df[df[key] >= threshold]"
     ],
     "language": "python",
     "metadata": {},
     "outputs": []
    },
    {
     "cell_type": "heading",
     "level": 1,
     "metadata": {},
     "source": [
      "Score Thresholds"
     ]
    },
    {
     "cell_type": "code",
     "collapsed": false,
     "input": [
      "thresholds = np.logspace(-50, 0, 100)\n"
     ],
     "language": "python",
     "metadata": {},
     "outputs": [],
     "prompt_number": 83
    },
    {
     "cell_type": "code",
     "collapsed": false,
     "input": [],
     "language": "python",
     "metadata": {},
     "outputs": []
    }
   ],
   "metadata": {}
  }
 ]
}