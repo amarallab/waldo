{
 "metadata": {
  "name": "",
  "signature": "sha256:3cff556a6163df1f7d3f028542517f7f6ced7ca686ae1b36fc18c198056aa5e7"
 },
 "nbformat": 3,
 "nbformat_minor": 0,
 "worksheets": [
  {
   "cells": [
    {
     "cell_type": "heading",
     "level": 1,
     "metadata": {},
     "source": [
      "Gap Joining Validation"
     ]
    },
    {
     "cell_type": "code",
     "collapsed": false,
     "input": [
      "%load_ext autoreload\n",
      "%autoreload 2\n",
      "%matplotlib inline"
     ],
     "language": "python",
     "metadata": {},
     "outputs": []
    },
    {
     "cell_type": "code",
     "collapsed": false,
     "input": [
      "from __future__ import print_function, division\n",
      "import six, sys\n",
      "sys.path.append('..'); import pathcustomize, about\n",
      "about.about()\n",
      "\n",
      "import math\n",
      "import operator\n",
      "\n",
      "import numpy as np\n",
      "import pandas as pd\n",
      "import matplotlib.pyplot as plt\n",
      "import matplotlib.patches as patches\n",
      "\n",
      "import waldo"
     ],
     "language": "python",
     "metadata": {},
     "outputs": []
    },
    {
     "cell_type": "code",
     "collapsed": false,
     "input": [
      "#ex_id = '20130702_135704' # many pics\n",
      "ex_id = '20130702_135652' # many pics\n",
      "\n",
      "experiment = waldo.Experiment(experiment_id=ex_id)\n",
      "graph = experiment.graph.copy()\n",
      "removed = waldo.collider.remove_nodes_outside_roi(graph, experiment)"
     ],
     "language": "python",
     "metadata": {},
     "outputs": []
    },
    {
     "cell_type": "code",
     "collapsed": false,
     "input": [
      "screen = pd.read_csv('../../data/prep/gap_validate.csv')\n",
      "screen = screen[screen['eid'] == ex_id]\n",
      "print('{} gaps checked'.format(len(screen)))\n",
      "\n",
      "sa = {a: screen[screen['ans'] == a] for a in ['valid', 'invalid', 'unclear']}\n",
      "for a in sa:\n",
      "    print('{:<10}: {:>4}'.format(a.capitalize(), len(sa[a])))"
     ],
     "language": "python",
     "metadata": {},
     "outputs": []
    },
    {
     "cell_type": "code",
     "collapsed": false,
     "input": [
      "FIELDS = 'xytf'\n",
      "    \n",
      "def column_map(terminal):\n",
      "    try:\n",
      "        suffix = {'start': '0', 'end': 'N'}[terminal]\n",
      "    except KeyError:\n",
      "        raise ValueError('')\n",
      "    return {field + suffix: field for field in FIELDS}\n",
      "\n",
      "def terminal_endian(terminals, terminal, bid):\n",
      "    t = terminals.loc[bid].to_dict()\n",
      "    cm = column_map(terminal)\n",
      "    return {cn: t[co] for co, cn in cm.items()}\n",
      "\n",
      "def describe_gap(terminals, from_bid, to_bid):\n",
      "    from_data = terminal_endian(terminals, 'end', from_bid)\n",
      "    to_data = terminal_endian(terminals, 'start', to_bid)\n",
      "    gap = {field: to_data[field] - from_data[field] for field in FIELDS}\n",
      "    gap['s'] = math.sqrt(gap['x']**2 + gap['y']**2)\n",
      "    return gap "
     ],
     "language": "python",
     "metadata": {},
     "outputs": []
    },
    {
     "cell_type": "code",
     "collapsed": false,
     "input": [
      "taper = waldo.tape.Taper(experiment, graph)"
     ],
     "language": "python",
     "metadata": {},
     "outputs": []
    },
    {
     "cell_type": "code",
     "collapsed": false,
     "input": [
      "# load terminals preprocessed data\n",
      "terminals = experiment.prepdata.terminals\n",
      "terminals.set_index('bid', inplace=True)\n",
      "\n",
      "# pull data for screened gap pairs\n",
      "gapidxs = []\n",
      "gapdata = []\n",
      "for idx, gap in screen.iterrows():\n",
      "    from_blob, to_blob = gap['from_blob'], gap['to_blob']\n",
      "    g = describe_gap(terminals, from_blob, to_blob)\n",
      "    g['from_blob'] = from_blob\n",
      "    g['to_blob'] = to_blob\n",
      "    g['score'] = taper.score(g['s'], g['f'])\n",
      "    gapdata.append(g)\n",
      "    gapidxs.append(idx)\n",
      "\n",
      "# join the data with the valid/invalid (drop unclear for now)\n",
      "gapdata = pd.DataFrame(gapdata, index=gapidxs)\n",
      "gapdata = gapdata.join(pd.concat([sa['valid'], sa['invalid']]), how='inner', rsuffix='_r')"
     ],
     "language": "python",
     "metadata": {},
     "outputs": []
    },
    {
     "cell_type": "code",
     "collapsed": false,
     "input": [
      "def tpfpfn(df, key, op, threshold, valid=None):\n",
      "    if not callable(op):\n",
      "        op = getattr(operator, op)\n",
      "    if valid is None:\n",
      "        valid = gapdata['ans'] == 'valid'\n",
      "    \n",
      "    positive = op(gapdata[key], threshold)\n",
      "    true_positive = valid & positive\n",
      "    \n",
      "    yield sum(true_positive) # TP\n",
      "    yield sum(positive) - sum(true_positive) # FP\n",
      "    yield sum(valid) - sum(true_positive) # FN\n",
      "    \n",
      "def tpfpfns(df, key, op, thresholds):\n",
      "    valid = gapdata['ans'] == 'valid'\n",
      "    outputs = [], [], []\n",
      "    for th in thresholds:\n",
      "        for l, n in zip(outputs, tpfpfn(df, key, op, th, valid=valid)):\n",
      "            l.append(n)\n",
      "    return outputs\n",
      "\n",
      "def tpfpfns_plot(ax, df, key, op, thresholds):\n",
      "    tps, fps, fns = tpfpfns(df, key, op, thresholds)\n",
      "    outputs = tps, fns, fps # rearrange\n",
      "    stack_coll = ax.stackplot(thresholds, *outputs, baseline='zero', colors=['green', 'yellow', 'red'])\n",
      "    \n",
      "    # make proxy artists for legend\n",
      "    proxy_rects = [patches.Rectangle((0, 0), 1, 1, fc=pc.get_facecolor()[0]) for pc in stack_coll]\n",
      "    ax.legend(proxy_rects, ['TP', 'FN', 'FP'])"
     ],
     "language": "python",
     "metadata": {},
     "outputs": []
    },
    {
     "cell_type": "heading",
     "level": 1,
     "metadata": {},
     "source": [
      "Score Thresholds"
     ]
    },
    {
     "cell_type": "code",
     "collapsed": false,
     "input": [
      "f, axs = plt.subplots(sharey=True, ncols=2)\n",
      "f.set_size_inches((10,8))\n",
      "f.subplots_adjust(wspace=0.05)\n",
      "threshold_ranges = np.logspace(-102, -4, 100), np.logspace(-4, 0, 100)\n",
      "for ax, trange in zip(axs, threshold_ranges):\n",
      "    ax.set_xscale('log')\n",
      "    ax.set_xlabel('Score')\n",
      "    tpfpfns_plot(ax, gapdata, 'score', 'gt', trange)\n",
      "\n",
      "axs[1].legend()"
     ],
     "language": "python",
     "metadata": {},
     "outputs": []
    },
    {
     "cell_type": "heading",
     "level": 1,
     "metadata": {},
     "source": [
      "Distance Thresholds"
     ]
    },
    {
     "cell_type": "code",
     "collapsed": false,
     "input": [
      "f, ax = plt.subplots()\n",
      "f.set_size_inches((10,8))\n",
      "trange = np.logspace(-2, 3, 100)\n",
      "ax.set_xscale('log')\n",
      "ax.set_xlabel('Distance (px)')\n",
      "tpfpfns_plot(ax, gapdata, 's', 'lt', trange)"
     ],
     "language": "python",
     "metadata": {},
     "outputs": []
    },
    {
     "cell_type": "heading",
     "level": 1,
     "metadata": {},
     "source": [
      "Time Thresholds"
     ]
    },
    {
     "cell_type": "code",
     "collapsed": false,
     "input": [
      "f, ax = plt.subplots()\n",
      "f.set_size_inches((10,8))\n",
      "trange = np.logspace(-1, 2, 100)\n",
      "ax.set_xscale('log')\n",
      "ax.set_xlabel('Time (sec)')\n",
      "tpfpfns_plot(ax, gapdata, 't', 'lt', trange)"
     ],
     "language": "python",
     "metadata": {},
     "outputs": []
    },
    {
     "cell_type": "code",
     "collapsed": false,
     "input": [],
     "language": "python",
     "metadata": {},
     "outputs": []
    }
   ],
   "metadata": {}
  }
 ]
}