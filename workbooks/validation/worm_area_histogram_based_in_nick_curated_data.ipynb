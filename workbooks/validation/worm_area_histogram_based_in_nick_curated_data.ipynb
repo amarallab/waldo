{
 "metadata": {
  "name": "",
  "signature": "sha256:be29b07d7f84ead9f6ba8c27ba23941c40944a31368ba8bdca72db7cb4d2f319"
 },
 "nbformat": 3,
 "nbformat_minor": 0,
 "worksheets": [
  {
   "cells": [
    {
     "cell_type": "code",
     "collapsed": false,
     "input": [
      "%load_ext autoreload\n",
      "%autoreload 2\n",
      "%matplotlib inline"
     ],
     "language": "python",
     "metadata": {},
     "outputs": []
    },
    {
     "cell_type": "code",
     "collapsed": false,
     "input": [
      "from __future__ import print_function, absolute_import, unicode_literals, division\n",
      "import six; from six.moves import (zip, filter, map, reduce, input, range)\n",
      "import sys, os, platform\n",
      "print('Python {} ({}) [{}] on {}'.format(platform.python_version(), \n",
      "        ', '.join(platform.python_build()), platform.python_compiler(), sys.platform))\n",
      "\n",
      "from collections import defaultdict\n",
      "\n",
      "import matplotlib.pyplot as plt\n",
      "import pandas as pd\n",
      "import numpy as np\n",
      "\n",
      "sys.path.append('..');import pathcustomize\n",
      "\n",
      "#from multiworm import Experiment\n",
      "from wio import Experiment\n",
      "import collider\n",
      "import collider.viz"
     ],
     "language": "python",
     "metadata": {},
     "outputs": []
    },
    {
     "cell_type": "code",
     "collapsed": false,
     "input": [
      "#ex_id = '20130614_120518'\n",
      "#ex_id = '20130318_131111'\n",
      "#ex_id = '20130414_140704'\n",
      "ex_id = '20130702_135704' # many pics\n",
      "#ex_id = '20130702_135652' # many pics\n",
      "experiment = Experiment(experiment_id=ex_id, data_root='/home/projects/worm_movement/Data/MWT_RawData')\n",
      "sizes_df = experiment.prepdata.load('sizes')\n",
      "terminals_df = experiment.prepdata.load('terminals')\n",
      "sizes_df.set_index('bid', inplace=True)\n",
      "terminals_df.set_index('bid', inplace=True)"
     ],
     "language": "python",
     "metadata": {},
     "outputs": []
    },
    {
     "cell_type": "heading",
     "level": 1,
     "metadata": {},
     "source": [
      "Screen Data"
     ]
    },
    {
     "cell_type": "code",
     "collapsed": false,
     "input": [
      "nick = {}\n",
      "with open('../../data/prep/collision_validate.csv', 'rt') as f:\n",
      "    for line in f.readlines()[1:]:\n",
      "        eid, bid, ans = line.strip().split(',')\n",
      "        if eid == ex_id:\n",
      "            nick[int(bid)] = int(ans) / 10."
     ],
     "language": "python",
     "metadata": {},
     "outputs": []
    },
    {
     "cell_type": "code",
     "collapsed": false,
     "input": [
      "a = pd.read_csv('../../data/prep/collision_validate.csv')"
     ],
     "language": "python",
     "metadata": {},
     "outputs": []
    },
    {
     "cell_type": "code",
     "collapsed": false,
     "input": [
      "values = defaultdict(list)\n",
      "for k, v in nick.items():\n",
      "    values[v].append(sizes_df.loc[k]['area_median'])"
     ],
     "language": "python",
     "metadata": {},
     "outputs": []
    },
    {
     "cell_type": "code",
     "collapsed": false,
     "input": [
      "fig, ax = plt.subplots()\n",
      "for k in [0.5, 1, 1.5, 2, 3, 3.5]:\n",
      "    v = values[k]\n",
      "    print(\"Worm count {c} area histogram\".format(c=k))\n",
      "    ax.hist([a for a in v if a != 0], 75, label=str(k), alpha=0.5)\n",
      "ax.legend()\n",
      "plt.show()"
     ],
     "language": "python",
     "metadata": {},
     "outputs": []
    },
    {
     "cell_type": "code",
     "collapsed": false,
     "input": [
      "fig, ax = plt.subplots()\n",
      "for k in [0.5, 1, 2, 3]:\n",
      "    v = values[k]\n",
      "    print(\"Worm count {c} area histogram\".format(c=k))\n",
      "    ax.hist([a for a in v if a != 0], 75, label=str(k), alpha=0.5, normed=True)\n",
      "ax.legend()\n",
      "plt.show()"
     ],
     "language": "python",
     "metadata": {},
     "outputs": []
    },
    {
     "cell_type": "code",
     "collapsed": false,
     "input": [
      "[x for x in values[2] if 350 < x < 400][0:5]"
     ],
     "language": "python",
     "metadata": {},
     "outputs": []
    },
    {
     "cell_type": "code",
     "collapsed": false,
     "input": [
      "data = []\n",
      "for k, v in nick.items():\n",
      "    area = sizes_df.loc[k]['area_median']\n",
      "    if 1100 < area < 1300 and v == 3:\n",
      "        data.append(k)\n",
      "data[0:10]"
     ],
     "language": "python",
     "metadata": {},
     "outputs": []
    },
    {
     "cell_type": "code",
     "collapsed": false,
     "input": [],
     "language": "python",
     "metadata": {},
     "outputs": []
    }
   ],
   "metadata": {}
  }
 ]
}