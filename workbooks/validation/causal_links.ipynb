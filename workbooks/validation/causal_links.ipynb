{
 "metadata": {
  "name": "",
  "signature": "sha256:8790b04566040a2ad425bbd57b165e2aa7a194abd4335ead7e9d19acc5e8ede1"
 },
 "nbformat": 3,
 "nbformat_minor": 0,
 "worksheets": [
  {
   "cells": [
    {
     "cell_type": "code",
     "collapsed": false,
     "input": [
      "%load_ext autoreload\n",
      "%autoreload 2\n",
      "%matplotlib inline"
     ],
     "language": "python",
     "metadata": {},
     "outputs": [],
     "prompt_number": 1
    },
    {
     "cell_type": "code",
     "collapsed": false,
     "input": [
      "from __future__ import print_function, absolute_import, unicode_literals, division\n",
      "import six; from six.moves import (zip, filter, map, reduce, input, range)\n",
      "import sys, os, platform\n",
      "print('Python {} ({}) [{}] on {}'.format(platform.python_version(), \n",
      "        ', '.join(platform.python_build()), platform.python_compiler(), sys.platform))\n",
      "\n",
      "sys.path.append('..');import pathcustomize\n",
      "\n",
      "#from multiworm import Experiment\n",
      "from wio import Experiment\n",
      "import collider\n",
      "import collider.viz"
     ],
     "language": "python",
     "metadata": {},
     "outputs": [
      {
       "output_type": "stream",
       "stream": "stdout",
       "text": [
        "Python 2.7.8 (default, Jul 31 2014 17:07:51) [GCC 4.8.2] on linux2\n"
       ]
      }
     ],
     "prompt_number": 2
    },
    {
     "cell_type": "code",
     "collapsed": false,
     "input": [
      "#ex_id = '20130614_120518'\n",
      "#ex_id = '20130318_131111'\n",
      "#ex_id = '20130414_140704'\n",
      "ex_id = '20130702_135704' # many pics\n",
      "#ex_id = '20130702_135652' # many pics\n",
      "\n",
      "experiment = Experiment(experiment_id=ex_id)#, data_root='/home/projects/worm_movement/Data/MWT_RawData')\n",
      "graph = experiment.graph.copy()\n",
      "#collider.remove_nodes_outside_roi(graph, experiment)\n",
      "#pass"
     ],
     "language": "python",
     "metadata": {},
     "outputs": [],
     "prompt_number": 3
    },
    {
     "cell_type": "code",
     "collapsed": false,
     "input": [
      "graph.validate()"
     ],
     "language": "python",
     "metadata": {},
     "outputs": [
      {
       "output_type": "stream",
       "stream": "stderr",
       "text": [
        "Validation pass\n"
       ]
      }
     ],
     "prompt_number": 14
    },
    {
     "cell_type": "code",
     "collapsed": false,
     "input": [
      "graph.edges()[:10]"
     ],
     "language": "python",
     "metadata": {},
     "outputs": [
      {
       "metadata": {},
       "output_type": "pyout",
       "prompt_number": 7,
       "text": [
        "[(2, 4346),\n",
        " (3, 1456),\n",
        " (3, 1457),\n",
        " (5, 4436),\n",
        " (6, 25),\n",
        " (6, 26),\n",
        " (7, 33),\n",
        " (7, 34),\n",
        " (8, 457),\n",
        " (9, 72)]"
       ]
      }
     ],
     "prompt_number": 7
    },
    {
     "cell_type": "code",
     "collapsed": false,
     "input": [
      "graph.node[3]"
     ],
     "language": "python",
     "metadata": {},
     "outputs": [
      {
       "metadata": {},
       "output_type": "pyout",
       "prompt_number": 8,
       "text": [
        "{u'born_f': 1, u'born_t': 0.01, u'died_f': 4004, u'died_t': 159.088}"
       ]
      }
     ],
     "prompt_number": 8
    },
    {
     "cell_type": "code",
     "collapsed": false,
     "input": [
      "graph.node[1456]"
     ],
     "language": "python",
     "metadata": {},
     "outputs": [
      {
       "metadata": {},
       "output_type": "pyout",
       "prompt_number": 9,
       "text": [
        "{u'born_f': 4005, u'born_t': 159.221, u'died_f': 4012, u'died_t': 159.517}"
       ]
      }
     ],
     "prompt_number": 9
    },
    {
     "cell_type": "code",
     "collapsed": false,
     "input": [
      "edges = graph.edges()\n",
      "edge_durations = [graph.node[b]['born_f'] - graph.node[a]['died_f'] for a, b in edges]"
     ],
     "language": "python",
     "metadata": {},
     "outputs": [],
     "prompt_number": 12
    },
    {
     "cell_type": "code",
     "collapsed": false,
     "input": [
      "edge_durations[:10]"
     ],
     "language": "python",
     "metadata": {},
     "outputs": [
      {
       "metadata": {},
       "output_type": "pyout",
       "prompt_number": 15,
       "text": [
        "[1, 1, 1, 1, 1, 1, 1, 1, 1, 1]"
       ]
      }
     ],
     "prompt_number": 15
    },
    {
     "cell_type": "code",
     "collapsed": false,
     "input": [],
     "language": "python",
     "metadata": {},
     "outputs": []
    }
   ],
   "metadata": {}
  }
 ]
}