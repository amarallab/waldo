{
 "metadata": {
  "name": "",
  "signature": "sha256:7292f1c876051328778227515a857cd952231b53da4f2ad17e20ee3ce8efa296"
 },
 "nbformat": 3,
 "nbformat_minor": 0,
 "worksheets": [
  {
   "cells": [
    {
     "cell_type": "code",
     "collapsed": false,
     "input": [
      "%load_ext autoreload\n",
      "%autoreload 2\n",
      "%matplotlib inline"
     ],
     "language": "python",
     "metadata": {},
     "outputs": [],
     "prompt_number": 1
    },
    {
     "cell_type": "code",
     "collapsed": false,
     "input": [
      "from __future__ import print_function, absolute_import, unicode_literals, division\n",
      "import six; from six.moves import (zip, filter, map, reduce, input, range)\n",
      "import sys, os, platform\n",
      "print('Python {} ({}) [{}] on {}'.format(platform.python_version(), \n",
      "        ', '.join(platform.python_build()), platform.python_compiler(), sys.platform))\n",
      "\n",
      "import collections\n",
      "\n",
      "import matplotlib.pyplot as plt\n",
      "import pandas as pd\n",
      "\n",
      "sys.path.append('..');import pathcustomize\n",
      "\n",
      "#from multiworm import Experiment\n",
      "from wio import Experiment\n",
      "import collider\n",
      "import collider.viz"
     ],
     "language": "python",
     "metadata": {},
     "outputs": [
      {
       "output_type": "stream",
       "stream": "stdout",
       "text": [
        "Python 2.7.5 (default, Mar  9 2014 22:15:05) [GCC 4.2.1 Compatible Apple LLVM 5.0 (clang-500.0.68)] on darwin\n"
       ]
      }
     ],
     "prompt_number": 2
    },
    {
     "cell_type": "code",
     "collapsed": false,
     "input": [
      "#ex_id = '20130614_120518'\n",
      "#ex_id = '20130318_131111'\n",
      "#ex_id = '20130414_140704'\n",
      "#ex_id = '20130702_135704' # many pics\n",
      "ex_id = '20130702_135652' # many pics\n",
      "\n",
      "experiment = Experiment(experiment_id=ex_id, data_root='/home/projects/worm_movement/Data/MWT_RawData')\n",
      "graph = experiment.graph.copy()\n",
      "collider.remove_nodes_outside_roi(graph, experiment)\n",
      "pass"
     ],
     "language": "python",
     "metadata": {},
     "outputs": [],
     "prompt_number": 3
    },
    {
     "cell_type": "heading",
     "level": 1,
     "metadata": {},
     "source": [
      "Screen Data"
     ]
    },
    {
     "cell_type": "code",
     "collapsed": false,
     "input": [
      "screen = pd.read_csv('../../data/prep/collision_validate.csv')\n",
      "screen = screen[screen['eid'] == ex_id]\n",
      "assert len(screen), \"No data for experiment ID\"\n",
      "screen.head()"
     ],
     "language": "python",
     "metadata": {},
     "outputs": [
      {
       "html": [
        "<div style=\"max-height:1000px;max-width:1500px;overflow:auto;\">\n",
        "<table border=\"1\" class=\"dataframe\">\n",
        "  <thead>\n",
        "    <tr style=\"text-align: right;\">\n",
        "      <th></th>\n",
        "      <th>eid</th>\n",
        "      <th>bid</th>\n",
        "      <th>ans</th>\n",
        "    </tr>\n",
        "  </thead>\n",
        "  <tbody>\n",
        "    <tr>\n",
        "      <th>0</th>\n",
        "      <td> 20130702_135652</td>\n",
        "      <td> 17571</td>\n",
        "      <td> 10</td>\n",
        "    </tr>\n",
        "    <tr>\n",
        "      <th>1</th>\n",
        "      <td> 20130702_135652</td>\n",
        "      <td> 11746</td>\n",
        "      <td> 20</td>\n",
        "    </tr>\n",
        "    <tr>\n",
        "      <th>2</th>\n",
        "      <td> 20130702_135652</td>\n",
        "      <td>  9663</td>\n",
        "      <td> 20</td>\n",
        "    </tr>\n",
        "    <tr>\n",
        "      <th>3</th>\n",
        "      <td> 20130702_135652</td>\n",
        "      <td> 10021</td>\n",
        "      <td> 20</td>\n",
        "    </tr>\n",
        "    <tr>\n",
        "      <th>4</th>\n",
        "      <td> 20130702_135652</td>\n",
        "      <td>  2378</td>\n",
        "      <td> 10</td>\n",
        "    </tr>\n",
        "  </tbody>\n",
        "</table>\n",
        "</div>"
       ],
       "metadata": {},
       "output_type": "pyout",
       "prompt_number": 5,
       "text": [
        "               eid    bid  ans\n",
        "0  20130702_135652  17571   10\n",
        "1  20130702_135652  11746   20\n",
        "2  20130702_135652   9663   20\n",
        "3  20130702_135652  10021   20\n",
        "4  20130702_135652   2378   10"
       ]
      }
     ],
     "prompt_number": 5
    },
    {
     "cell_type": "code",
     "collapsed": false,
     "input": [
      "screen_results = {\n",
      "    '2': set(screen[screen['ans'] == 20]['bid'].values),# | set(screen[screen['ans'] == 30]['bid'].values),\n",
      "    '1': set(screen[screen['ans'] == 10]['bid'].values),\n",
      "    'all': set(screen['bid'].values),\n",
      "}"
     ],
     "language": "python",
     "metadata": {},
     "outputs": [],
     "prompt_number": 6
    },
    {
     "cell_type": "code",
     "collapsed": false,
     "input": [
      "############### Remove Known Junk\n",
      "\n",
      "_ = collider.remove_nodes_outside_roi(graph, experiment)\n",
      "_ = collider.remove_blank_nodes(graph, experiment)"
     ],
     "language": "python",
     "metadata": {},
     "outputs": [],
     "prompt_number": 7
    },
    {
     "cell_type": "code",
     "collapsed": false,
     "input": [
      "############### Simplify\n",
      "print('collapse group')\n",
      "collider.collapse_group_of_nodes(graph, max_duration=5)  # 5 seconds\n",
      "#collider.assimilate(graph, max_threshold=10)\n",
      "print('remove single desc')\n",
      "collider.remove_single_descendents(graph)\n",
      "print('fission fusion')\n",
      "collider.remove_fission_fusion(graph)\n",
      "print('fission fusion rel')\n",
      "collider.remove_fission_fusion_rel(graph, split_rel_time=0.5)\n",
      "print('off')\n",
      "collider.remove_offshoots(graph, threshold=20)\n",
      "print('rem single desc')\n",
      "collider.remove_single_descendents(graph)"
     ],
     "language": "python",
     "metadata": {},
     "outputs": [
      {
       "output_type": "stream",
       "stream": "stdout",
       "text": [
        "collapse group\n",
        "remove single desc"
       ]
      },
      {
       "output_type": "stream",
       "stream": "stdout",
       "text": [
        "\n",
        "fission fusion\n",
        "fission fusion rel"
       ]
      },
      {
       "output_type": "stream",
       "stream": "stdout",
       "text": [
        "\n",
        "off\n",
        "rem single desc\n"
       ]
      }
     ],
     "prompt_number": 8
    },
    {
     "cell_type": "code",
     "collapsed": false,
     "input": [
      "graph.where_is(50)"
     ],
     "language": "python",
     "metadata": {},
     "outputs": [
      {
       "metadata": {},
       "output_type": "pyout",
       "prompt_number": 9,
       "text": [
        "14"
       ]
      }
     ],
     "prompt_number": 9
    },
    {
     "cell_type": "code",
     "collapsed": false,
     "input": [
      "graph.node[14]"
     ],
     "language": "python",
     "metadata": {},
     "outputs": [
      {
       "metadata": {},
       "output_type": "pyout",
       "prompt_number": 10,
       "text": [
        "{u'born_f': 1,\n",
        " u'born_t': 0.008,\n",
        " u'components': {14, 40, 41, 43, 44, 45, 49, 50, 51, 57},\n",
        " u'died_f': 1914,\n",
        " u'died_t': 79.236}"
       ]
      }
     ],
     "prompt_number": 10
    },
    {
     "cell_type": "heading",
     "level": 2,
     "metadata": {},
     "source": []
    },
    {
     "cell_type": "code",
     "collapsed": false,
     "input": [],
     "language": "python",
     "metadata": {},
     "outputs": []
    }
   ],
   "metadata": {}
  }
 ]
}