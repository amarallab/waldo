{
 "metadata": {
  "name": "",
  "signature": "sha256:3f7c42a1d011cb345267804d3c207df66d32d66b6948c44032ac79cbd8db98e1"
 },
 "nbformat": 3,
 "nbformat_minor": 0,
 "worksheets": [
  {
   "cells": [
    {
     "cell_type": "code",
     "collapsed": false,
     "input": [
      "%load_ext autoreload\n",
      "%autoreload 2\n",
      "%matplotlib inline"
     ],
     "language": "python",
     "metadata": {},
     "outputs": [],
     "prompt_number": 1
    },
    {
     "cell_type": "code",
     "collapsed": false,
     "input": [
      "from __future__ import print_function, absolute_import, unicode_literals, division\n",
      "import six; from six.moves import (zip, filter, map, reduce, input, range)\n",
      "import sys, os, platform\n",
      "print('Python {} ({}) [{}] on {}'.format(platform.python_version(), \n",
      "        ', '.join(platform.python_build()), platform.python_compiler(), sys.platform))\n",
      "\n",
      "import collections\n",
      "\n",
      "import matplotlib.pyplot as plt\n",
      "import pandas as pd\n",
      "import numpy as np\n",
      "\n",
      "sys.path.append('..');import pathcustomize\n",
      "\n",
      "from waldo.wio import Experiment\n",
      "import waldo.collider as collider\n",
      "#import waldo.collider.viz as viz"
     ],
     "language": "python",
     "metadata": {},
     "outputs": [
      {
       "output_type": "stream",
       "stream": "stdout",
       "text": [
        "Python 2.7.6 (default, Mar 22 2014 22:59:56) [GCC 4.8.2] on linux2\n"
       ]
      }
     ],
     "prompt_number": 2
    },
    {
     "cell_type": "code",
     "collapsed": false,
     "input": [
      "#ex_id = '20130614_120518'\n",
      "#ex_id = '20130318_131111'\n",
      "#ex_id = '20130414_140704'\n",
      "ex_id = '20130702_135704' # many pics\n",
      "#ex_id = '20130702_135652' # many pics\n",
      "\n",
      "experiment = Experiment(experiment_id=ex_id) #, data_root='/home/projects/worm_movement/Data/MWT_RawData')\n",
      "#experiment.calculate_node_worm_count()\n",
      "graph = experiment.graph.copy()\n",
      "############### Remove Known Junk\n",
      "collider.remove_nodes_outside_roi(graph, experiment)\n",
      "collider.remove_blank_nodes(graph, experiment)\n",
      "pass"
     ],
     "language": "python",
     "metadata": {},
     "outputs": [],
     "prompt_number": 55
    },
    {
     "cell_type": "code",
     "collapsed": false,
     "input": [
      "############### Simplify\n",
      "print('collapse group')\n",
      "collider.collapse_group_of_nodes(graph, max_duration=5)  # 5 seconds\n",
      "#collider.assimilate(graph, max_threshold=10)\n",
      "print('remove single desc')\n",
      "collider.remove_single_descendents(graph)\n",
      "print('fission fusion')\n",
      "collider.remove_fission_fusion(graph)\n",
      "print('fission fusion rel')\n",
      "collider.remove_fission_fusion_rel(graph, split_rel_time=0.5)\n",
      "print('off')\n",
      "collider.remove_offshoots(graph, threshold=20)\n",
      "print('rem single desc')\n",
      "collider.remove_single_descendents(graph)"
     ],
     "language": "python",
     "metadata": {},
     "outputs": [
      {
       "output_type": "stream",
       "stream": "stdout",
       "text": [
        "collapse group\n",
        "remove single desc"
       ]
      },
      {
       "output_type": "stream",
       "stream": "stdout",
       "text": [
        "\n",
        "fission fusion\n",
        "fission fusion rel\n",
        "off"
       ]
      },
      {
       "output_type": "stream",
       "stream": "stdout",
       "text": [
        "\n",
        "rem single desc\n"
       ]
      }
     ],
     "prompt_number": 4
    },
    {
     "cell_type": "heading",
     "level": 1,
     "metadata": {},
     "source": [
      "Screen Data"
     ]
    },
    {
     "cell_type": "code",
     "collapsed": false,
     "input": [
      "screen = pd.read_csv('../../data/prep/collision_validate.csv')\n",
      "screen = screen[screen['eid'] == ex_id]\n",
      "assert len(screen), \"No data for experiment ID\"\n",
      "screen.head()"
     ],
     "language": "python",
     "metadata": {},
     "outputs": [
      {
       "html": [
        "<div style=\"max-height:1000px;max-width:1500px;overflow:auto;\">\n",
        "<table border=\"1\" class=\"dataframe\">\n",
        "  <thead>\n",
        "    <tr style=\"text-align: right;\">\n",
        "      <th></th>\n",
        "      <th>eid</th>\n",
        "      <th>bid</th>\n",
        "      <th>ans</th>\n",
        "    </tr>\n",
        "  </thead>\n",
        "  <tbody>\n",
        "    <tr>\n",
        "      <th>0</th>\n",
        "      <td> 20130702_135652</td>\n",
        "      <td> 17571</td>\n",
        "      <td> 10</td>\n",
        "    </tr>\n",
        "    <tr>\n",
        "      <th>1</th>\n",
        "      <td> 20130702_135652</td>\n",
        "      <td> 11746</td>\n",
        "      <td> 20</td>\n",
        "    </tr>\n",
        "    <tr>\n",
        "      <th>2</th>\n",
        "      <td> 20130702_135652</td>\n",
        "      <td>  9663</td>\n",
        "      <td> 20</td>\n",
        "    </tr>\n",
        "    <tr>\n",
        "      <th>3</th>\n",
        "      <td> 20130702_135652</td>\n",
        "      <td> 10021</td>\n",
        "      <td> 20</td>\n",
        "    </tr>\n",
        "    <tr>\n",
        "      <th>4</th>\n",
        "      <td> 20130702_135652</td>\n",
        "      <td>  2378</td>\n",
        "      <td> 10</td>\n",
        "    </tr>\n",
        "  </tbody>\n",
        "</table>\n",
        "<p>5 rows \u00d7 3 columns</p>\n",
        "</div>"
       ],
       "metadata": {},
       "output_type": "pyout",
       "prompt_number": 5,
       "text": [
        "               eid    bid  ans\n",
        "0  20130702_135652  17571   10\n",
        "1  20130702_135652  11746   20\n",
        "2  20130702_135652   9663   20\n",
        "3  20130702_135652  10021   20\n",
        "4  20130702_135652   2378   10\n",
        "\n",
        "[5 rows x 3 columns]"
       ]
      }
     ],
     "prompt_number": 5
    },
    {
     "cell_type": "code",
     "collapsed": false,
     "input": [
      "screen_results = {\n",
      "    '3': set(screen[screen['ans'] == 30]['bid'].values),\n",
      "    '2': set(screen[screen['ans'] == 20]['bid'].values),\n",
      "    '1': set(screen[screen['ans'] == 10]['bid'].values),\n",
      "    'all': set(screen['bid'].values),\n",
      "}"
     ],
     "language": "python",
     "metadata": {},
     "outputs": [],
     "prompt_number": 6
    },
    {
     "cell_type": "code",
     "collapsed": false,
     "input": [
      "nick = {}\n",
      "with open('../../data/prep/collision_validate.csv', 'rt') as f:\n",
      "    for line in f.readlines()[1:]:\n",
      "        eid, bid, ans = line.strip().split(',')\n",
      "        if eid == ex_id:\n",
      "            nick[int(bid)] = int(ans) / 10."
     ],
     "language": "python",
     "metadata": {},
     "outputs": [],
     "prompt_number": 7
    },
    {
     "cell_type": "code",
     "collapsed": false,
     "input": [
      "print(len(worm_count))\n",
      "graph.where_is(50)"
     ],
     "language": "python",
     "metadata": {},
     "outputs": [
      {
       "ename": "NameError",
       "evalue": "name 'worm_count' is not defined",
       "output_type": "pyerr",
       "traceback": [
        "\u001b[1;31m---------------------------------------------------------------------------\u001b[0m\n\u001b[1;31mNameError\u001b[0m                                 Traceback (most recent call last)",
        "\u001b[1;32m<ipython-input-8-c2d34ce36f8e>\u001b[0m in \u001b[0;36m<module>\u001b[1;34m()\u001b[0m\n\u001b[1;32m----> 1\u001b[1;33m \u001b[1;32mprint\u001b[0m\u001b[1;33m(\u001b[0m\u001b[0mlen\u001b[0m\u001b[1;33m(\u001b[0m\u001b[0mworm_count\u001b[0m\u001b[1;33m)\u001b[0m\u001b[1;33m)\u001b[0m\u001b[1;33m\u001b[0m\u001b[0m\n\u001b[0m\u001b[0;32m      2\u001b[0m \u001b[0mgraph\u001b[0m\u001b[1;33m.\u001b[0m\u001b[0mwhere_is\u001b[0m\u001b[1;33m(\u001b[0m\u001b[1;36m50\u001b[0m\u001b[1;33m)\u001b[0m\u001b[1;33m\u001b[0m\u001b[0m\n",
        "\u001b[1;31mNameError\u001b[0m: name 'worm_count' is not defined"
       ]
      }
     ],
     "prompt_number": 8
    },
    {
     "cell_type": "code",
     "collapsed": false,
     "input": [
      "graph.node[431]"
     ],
     "language": "python",
     "metadata": {},
     "outputs": []
    },
    {
     "cell_type": "code",
     "collapsed": false,
     "input": [
      "new_nick = collections.defaultdict(float)\n",
      "for k, v in nick.items():\n",
      "    nk = graph.where_is(k)\n",
      "    new_nick[nk] = max(new_nick[nk], v)\n",
      "nick = new_nick"
     ],
     "language": "python",
     "metadata": {},
     "outputs": []
    },
    {
     "cell_type": "heading",
     "level": 2,
     "metadata": {},
     "source": [
      "check seeding accuracy"
     ]
    },
    {
     "cell_type": "code",
     "collapsed": false,
     "input": [
      "graph_orig = graph = experiment.graph.copy()"
     ],
     "language": "python",
     "metadata": {},
     "outputs": [],
     "prompt_number": 14
    },
    {
     "cell_type": "code",
     "collapsed": false,
     "input": [
      "moving_nodes = set(graph_orig.determine_moving(experiment))\n",
      "screen_bids = set(screen['bid'])\n",
      "screened_moving = screen_bids & moving_nodes\n",
      "print(len(moving_nodes), 'moving')\n",
      "print(len(screen_bids), 'screened')\n",
      "print(len(screened_moving), 'overlap')\n"
     ],
     "language": "python",
     "metadata": {},
     "outputs": [
      {
       "output_type": "stream",
       "stream": "stdout",
       "text": [
        "1160 moving\n",
        "3017 screened\n",
        "115 overlap\n"
       ]
      }
     ],
     "prompt_number": 15
    },
    {
     "cell_type": "code",
     "collapsed": false,
     "input": [
      "s = screen.set_index('bid')['ans']\n",
      "s = s.loc[list(screened_moving)]\n",
      "\n",
      "partial = s[s == 5].count()\n",
      "\n",
      "single = s[s == 10].count() + s[s == 15].count()\n",
      "double = s[s == 20].count()\n",
      "triple = s[s == 30].count() + s[s == 35].count()\n",
      "print(len(s))\n",
      "print(set(s))\n",
      "\n",
      "print(partial, 'p')\n",
      "\n",
      "#print(double, 'd')\n",
      "#print(triple, 't')\n",
      "\n",
      "print(single, 's')\n",
      "print(double, 'd')\n",
      "print(triple, 't')"
     ],
     "language": "python",
     "metadata": {},
     "outputs": [
      {
       "output_type": "stream",
       "stream": "stdout",
       "text": [
        "115\n",
        "set([35, 5, 10, 15, 20, 30])\n",
        "2 p\n",
        "38 s\n",
        "67 d\n",
        "8 t\n"
       ]
      }
     ],
     "prompt_number": 56
    },
    {
     "cell_type": "code",
     "collapsed": false,
     "input": [
      "#moving_nodes = set(graph_orig.determine_moving(experiment))\n",
      "#print(moving_nodes)"
     ],
     "language": "python",
     "metadata": {},
     "outputs": [],
     "prompt_number": 12
    },
    {
     "cell_type": "heading",
     "level": 2,
     "metadata": {},
     "source": [
      "validate number wizard"
     ]
    },
    {
     "cell_type": "code",
     "collapsed": false,
     "input": [
      "graph.count_worms(experiment)\n",
      "print(graph.node[1659]['worm_count'])"
     ],
     "language": "python",
     "metadata": {},
     "outputs": [
      {
       "output_type": "stream",
       "stream": "stdout",
       "text": [
        "one_assigned count: 383\n"
       ]
      },
      {
       "ename": "KeyError",
       "evalue": "1659",
       "output_type": "pyerr",
       "traceback": [
        "\u001b[1;31m---------------------------------------------------------------------------\u001b[0m\n\u001b[1;31mKeyError\u001b[0m                                  Traceback (most recent call last)",
        "\u001b[1;32m<ipython-input-20-d4429352dd80>\u001b[0m in \u001b[0;36m<module>\u001b[1;34m()\u001b[0m\n\u001b[0;32m      1\u001b[0m \u001b[0mgraph\u001b[0m\u001b[1;33m.\u001b[0m\u001b[0mcount_worms\u001b[0m\u001b[1;33m(\u001b[0m\u001b[0mexperiment\u001b[0m\u001b[1;33m)\u001b[0m\u001b[1;33m\u001b[0m\u001b[0m\n\u001b[1;32m----> 2\u001b[1;33m \u001b[1;32mprint\u001b[0m\u001b[1;33m(\u001b[0m\u001b[0mgraph\u001b[0m\u001b[1;33m.\u001b[0m\u001b[0mnode\u001b[0m\u001b[1;33m[\u001b[0m\u001b[1;36m1659\u001b[0m\u001b[1;33m]\u001b[0m\u001b[1;33m[\u001b[0m\u001b[1;34m'worm_count'\u001b[0m\u001b[1;33m]\u001b[0m\u001b[1;33m)\u001b[0m\u001b[1;33m\u001b[0m\u001b[0m\n\u001b[0m",
        "\u001b[1;31mKeyError\u001b[0m: 1659"
       ]
      }
     ],
     "prompt_number": 20
    },
    {
     "cell_type": "code",
     "collapsed": false,
     "input": [
      "worm_count = collider.network_number_wizard(graph, experiment, verbose=True)"
     ],
     "language": "python",
     "metadata": {},
     "outputs": []
    },
    {
     "cell_type": "code",
     "collapsed": false,
     "input": [
      "heltena = worm_count\n",
      "nick_keys = set(nick.keys())\n",
      "heltena_keys = set(heltena.keys())\n",
      "intersect = nick_keys & heltena_keys\n",
      "\n",
      "print(\"Nick length: {l}\".format(l=len(nick_keys)))\n",
      "print(\"Heltena length: {l}\".format(l=len(heltena_keys)))\n",
      "print(\"Intersect length: {l}\".format(l=len(intersect)))\n",
      "\n",
      "diffs = [nick[i] - heltena[i] for i in intersect]\n",
      "mean, std = np.mean(diffs), np.std(diffs)\n",
      "print(\"Mean: {mean}, std: {std}\".format(mean=mean, std=std))\n",
      "accum = 0\n",
      "d = 0\n",
      "l = len(intersect)\n",
      "while accum < len(intersect):\n",
      "    ps = sum(x == +d for x in diffs)\n",
      "    ns = sum(x == -d for x in diffs) if d > 0 else 0\n",
      "    accum += ps + ns\n",
      "    print(\"diff {d:2.1f}: (+){ps:4d} (-){ns:4d} of {l:4d} (accum: {a:4d}, {atpc:2.1f}%)\".format(d=d, ps=ps, ns=ns, l=l, a=accum, atpc=accum*100./l))\n",
      "    d += 0.5\n",
      "    if d > 5:\n",
      "        break"
     ],
     "language": "python",
     "metadata": {},
     "outputs": []
    },
    {
     "cell_type": "code",
     "collapsed": false,
     "input": [
      "x1 = collider.find_area_based_collisions(graph, experiment)\n",
      "x2 = collider.find_bbox_based_collisions(graph, experiment)\n",
      "xx = set(x1) | set(x2)\n",
      "test = {k: 2 for k in xx}"
     ],
     "language": "python",
     "metadata": {},
     "outputs": []
    },
    {
     "cell_type": "code",
     "collapsed": false,
     "input": [
      "def compare_results(left, right):\n",
      "    accum_succ = 0\n",
      "    accum_fail = 0\n",
      "    data = []\n",
      "    for d in [0.5, 1, 1.5, 2, 2.5, 3, 3.5]:\n",
      "        n = [k for k, v in left.items() if v == d]\n",
      "        h = [k for k, v in right.items() if v == d and k in nick]\n",
      "        n_in_h = [a for a in n if a in h]\n",
      "        h_not_in_n = [k for k, v in right.items() if v == d and k in nick and left[k] != v and left[k] != 0]\n",
      "        succ = (len(n_in_h)*100.)/len(n) if len(n) > 0 else 0\n",
      "        fail = (len(h_not_in_n)*100.)/len(h) if len(h) > 0 else 0\n",
      "        accum_succ += len(n_in_h)\n",
      "        accum_fail += len(h_not_in_n)\n",
      "        \n",
      "        data.append([d, len(n), len(h), len(n_in_h), len(h_not_in_n), succ, fail])\n",
      "    ts = (accum_succ*100./len([k for k, v in left.items() if v != 0]))\n",
      "    tf = (accum_fail*100./len(right))\n",
      "    \n",
      "    columns = ['size', 'left_count', 'right_count', 'succ', 'fail', 'succ_percentage', 'fail_percentage']\n",
      "    df = pd.DataFrame(data=data, columns=columns)\n",
      "    return df, ts, tf"
     ],
     "language": "python",
     "metadata": {},
     "outputs": []
    },
    {
     "cell_type": "code",
     "collapsed": false,
     "input": [
      "df, ts, tf = compare_results(nick, heltena)\n",
      "df"
     ],
     "language": "python",
     "metadata": {},
     "outputs": []
    },
    {
     "cell_type": "code",
     "collapsed": false,
     "input": [
      "print(\"total succ: %6.2f%%, total fail: %6.2f%%\" % (ts, tf))"
     ],
     "language": "python",
     "metadata": {},
     "outputs": []
    },
    {
     "cell_type": "code",
     "collapsed": false,
     "input": [
      "df, ts, tf = compare_results(nick, test)\n",
      "df"
     ],
     "language": "python",
     "metadata": {},
     "outputs": []
    },
    {
     "cell_type": "code",
     "collapsed": false,
     "input": [
      "print(\"total succ: %6.2f%%, total fail: %6.2f%%\" % (ts, tf))"
     ],
     "language": "python",
     "metadata": {},
     "outputs": []
    }
   ],
   "metadata": {}
  }
 ]
}