{
 "metadata": {
  "name": "",
  "signature": "sha256:dbe567050102da580d9ecb932052c72303e7b336a85ef0d672f86e7863978707"
 },
 "nbformat": 3,
 "nbformat_minor": 0,
 "worksheets": [
  {
   "cells": [
    {
     "cell_type": "code",
     "collapsed": false,
     "input": [
      "%load_ext autoreload\n",
      "%autoreload 2\n",
      "%matplotlib inline"
     ],
     "language": "python",
     "metadata": {},
     "outputs": []
    },
    {
     "cell_type": "code",
     "collapsed": false,
     "input": [
      "from __future__ import print_function, absolute_import, unicode_literals, division\n",
      "import six; from six.moves import (zip, filter, map, reduce, input, range)\n",
      "import sys, os, platform\n",
      "print('Python {} ({}) [{}] on {}'.format(platform.python_version(), \n",
      "        ', '.join(platform.python_build()), platform.python_compiler(), sys.platform))\n",
      "\n",
      "import collections\n",
      "\n",
      "import matplotlib.pyplot as plt\n",
      "import pandas as pd\n",
      "import numpy as np\n",
      "\n",
      "sys.path.append('..');import pathcustomize\n",
      "\n",
      "#from multiworm import Experiment\n",
      "from wio import Experiment\n",
      "import collider\n",
      "import collider.viz"
     ],
     "language": "python",
     "metadata": {},
     "outputs": []
    },
    {
     "cell_type": "code",
     "collapsed": false,
     "input": [
      "#ex_id = '20130614_120518'\n",
      "#ex_id = '20130318_131111'\n",
      "#ex_id = '20130414_140704'\n",
      "#ex_id = '20130702_135704' # many pics\n",
      "ex_id = '20130702_135652' # many pics\n",
      "\n",
      "experiment = Experiment(experiment_id=ex_id, data_root='/home/projects/worm_movement/Data/MWT_RawData')\n",
      "experiment.calculate_node_worm_count()\n",
      "graph = experiment.graph.copy()\n",
      "collider.remove_nodes_outside_roi(graph, experiment)\n",
      "print(graph.node[1659]['worm_count'])"
     ],
     "language": "python",
     "metadata": {},
     "outputs": []
    },
    {
     "cell_type": "heading",
     "level": 1,
     "metadata": {},
     "source": [
      "Screen Data"
     ]
    },
    {
     "cell_type": "code",
     "collapsed": false,
     "input": [
      "screen = pd.read_csv('../../data/prep/collision_validate.csv')\n",
      "screen = screen[screen['eid'] == ex_id]\n",
      "assert len(screen), \"No data for experiment ID\"\n",
      "screen.head()"
     ],
     "language": "python",
     "metadata": {},
     "outputs": []
    },
    {
     "cell_type": "code",
     "collapsed": false,
     "input": [
      "screen_results = {\n",
      "    '3': set(screen[screen['ans'] == 30]['bid'].values),\n",
      "    '2': set(screen[screen['ans'] == 20]['bid'].values),\n",
      "    '1': set(screen[screen['ans'] == 10]['bid'].values),\n",
      "    'all': set(screen['bid'].values),\n",
      "}"
     ],
     "language": "python",
     "metadata": {},
     "outputs": []
    },
    {
     "cell_type": "code",
     "collapsed": false,
     "input": [
      "nick = {}\n",
      "with open('../../data/prep/collision_validate.csv', 'rt') as f:\n",
      "    for line in f.readlines()[1:]:\n",
      "        eid, bid, ans = line.strip().split(',')\n",
      "        if eid == ex_id:\n",
      "            nick[int(bid)] = int(ans) / 10."
     ],
     "language": "python",
     "metadata": {},
     "outputs": []
    },
    {
     "cell_type": "code",
     "collapsed": false,
     "input": [
      "############### Remove Known Junk\n",
      "\n",
      "_ = collider.remove_nodes_outside_roi(graph, experiment)\n",
      "_ = collider.remove_blank_nodes(graph, experiment)"
     ],
     "language": "python",
     "metadata": {},
     "outputs": []
    },
    {
     "cell_type": "code",
     "collapsed": false,
     "input": [
      "graph_orig = graph.copy()\n",
      "\n",
      "############### Simplify\n",
      "print('collapse group')\n",
      "collider.collapse_group_of_nodes(graph, max_duration=5)  # 5 seconds\n",
      "#collider.assimilate(graph, max_threshold=10)\n",
      "print('remove single desc')\n",
      "collider.remove_single_descendents(graph)\n",
      "print('fission fusion')\n",
      "collider.remove_fission_fusion(graph)\n",
      "print('fission fusion rel')\n",
      "collider.remove_fission_fusion_rel(graph, split_rel_time=0.5)\n",
      "print('off')\n",
      "collider.remove_offshoots(graph, threshold=20)\n",
      "print('rem single desc')\n",
      "collider.remove_single_descendents(graph)"
     ],
     "language": "python",
     "metadata": {},
     "outputs": []
    },
    {
     "cell_type": "code",
     "collapsed": false,
     "input": [
      "print(len(worm_count))\n",
      "graph.where_is(50)"
     ],
     "language": "python",
     "metadata": {},
     "outputs": []
    },
    {
     "cell_type": "code",
     "collapsed": false,
     "input": [
      "graph.node[431]"
     ],
     "language": "python",
     "metadata": {},
     "outputs": []
    },
    {
     "cell_type": "code",
     "collapsed": false,
     "input": [
      "new_nick = collections.defaultdict(float)\n",
      "for k, v in nick.items():\n",
      "    nk = graph.where_is(k)\n",
      "    new_nick[nk] = max(new_nick[nk], v)\n",
      "nick = new_nick"
     ],
     "language": "python",
     "metadata": {},
     "outputs": []
    },
    {
     "cell_type": "heading",
     "level": 2,
     "metadata": {},
     "source": []
    },
    {
     "cell_type": "code",
     "collapsed": false,
     "input": [
      "worm_count = collider.network_number_wizard(graph, experiment, verbose=True)"
     ],
     "language": "python",
     "metadata": {},
     "outputs": []
    },
    {
     "cell_type": "code",
     "collapsed": false,
     "input": [
      "heltena = worm_count\n",
      "nick_keys = set(nick.keys())\n",
      "heltena_keys = set(heltena.keys())\n",
      "intersect = nick_keys & heltena_keys\n",
      "\n",
      "print(\"Nick length: {l}\".format(l=len(nick_keys)))\n",
      "print(\"Heltena length: {l}\".format(l=len(heltena_keys)))\n",
      "print(\"Intersect length: {l}\".format(l=len(intersect)))\n",
      "\n",
      "diffs = [nick[i] - heltena[i] for i in intersect]\n",
      "mean, std = np.mean(diffs), np.std(diffs)\n",
      "print(\"Mean: {mean}, std: {std}\".format(mean=mean, std=std))\n",
      "accum = 0\n",
      "d = 0\n",
      "l = len(intersect)\n",
      "while accum < len(intersect):\n",
      "    ps = sum(x == +d for x in diffs)\n",
      "    ns = sum(x == -d for x in diffs) if d > 0 else 0\n",
      "    accum += ps + ns\n",
      "    print(\"diff {d:2.1f}: (+){ps:4d} (-){ns:4d} of {l:4d} (accum: {a:4d}, {atpc:2.1f}%)\".format(d=d, ps=ps, ns=ns, l=l, a=accum, atpc=accum*100./l))\n",
      "    d += 0.5\n",
      "    if d > 5:\n",
      "        break"
     ],
     "language": "python",
     "metadata": {},
     "outputs": []
    },
    {
     "cell_type": "code",
     "collapsed": false,
     "input": [
      "x1 = collider.find_area_based_collisions(graph, experiment)\n",
      "x2 = collider.find_bbox_based_collisions(graph, experiment)\n",
      "xx = set(x1) | set(x2)\n",
      "test = {k: 2 for k in xx}"
     ],
     "language": "python",
     "metadata": {},
     "outputs": []
    },
    {
     "cell_type": "code",
     "collapsed": false,
     "input": [
      "def compare_results(left, right):\n",
      "    accum_succ = 0\n",
      "    accum_fail = 0\n",
      "    data = []\n",
      "    for d in [0.5, 1, 1.5, 2, 2.5, 3, 3.5]:\n",
      "        n = [k for k, v in left.items() if v == d]\n",
      "        h = [k for k, v in right.items() if v == d and k in nick]\n",
      "        n_in_h = [a for a in n if a in h]\n",
      "        h_not_in_n = [k for k, v in right.items() if v == d and k in nick and left[k] != v and left[k] != 0]\n",
      "        succ = (len(n_in_h)*100.)/len(n) if len(n) > 0 else 0\n",
      "        fail = (len(h_not_in_n)*100.)/len(h) if len(h) > 0 else 0\n",
      "        accum_succ += len(n_in_h)\n",
      "        accum_fail += len(h_not_in_n)\n",
      "        \n",
      "        data.append([d, len(n), len(h), len(n_in_h), len(h_not_in_n), succ, fail])\n",
      "    ts = (accum_succ*100./len([k for k, v in left.items() if v != 0]))\n",
      "    tf = (accum_fail*100./len(right))\n",
      "    \n",
      "    columns = ['size', 'left_count', 'right_count', 'succ', 'fail', 'succ_percentage', 'fail_percentage']\n",
      "    df = pd.DataFrame(data=data, columns=columns)\n",
      "    return df, ts, tf"
     ],
     "language": "python",
     "metadata": {},
     "outputs": []
    },
    {
     "cell_type": "code",
     "collapsed": false,
     "input": [
      "df, ts, tf = compare_results(nick, heltena)\n",
      "df"
     ],
     "language": "python",
     "metadata": {},
     "outputs": []
    },
    {
     "cell_type": "code",
     "collapsed": false,
     "input": [
      "print(\"total succ: %6.2f%%, total fail: %6.2f%%\" % (ts, tf))"
     ],
     "language": "python",
     "metadata": {},
     "outputs": []
    },
    {
     "cell_type": "code",
     "collapsed": false,
     "input": [
      "df, ts, tf = compare_results(nick, test)\n",
      "df"
     ],
     "language": "python",
     "metadata": {},
     "outputs": []
    },
    {
     "cell_type": "code",
     "collapsed": false,
     "input": [
      "print(\"total succ: %6.2f%%, total fail: %6.2f%%\" % (ts, tf))"
     ],
     "language": "python",
     "metadata": {},
     "outputs": []
    }
   ],
   "metadata": {}
  }
 ]
}