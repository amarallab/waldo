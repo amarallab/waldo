{
 "metadata": {
  "name": "",
  "signature": "sha256:f5357bc3e1a80d94b370c01b67405c5892fb7449026c1d4cab8c72da71dfb52c"
 },
 "nbformat": 3,
 "nbformat_minor": 0,
 "worksheets": [
  {
   "cells": [
    {
     "cell_type": "code",
     "collapsed": false,
     "input": [
      "import sys\n",
      "import os\n",
      "from os.path import dirname, join\n",
      "sys.path.append(join(_dh[0], '..', 'code'))\n",
      "sys.path.append(join(_dh[0], '..', 'code', 'shared'))\n",
      "\n",
      "os.environ.setdefault('WENDA_SETTINGS', 'wenda_config')\n",
      "\n",
      "import itertools\n",
      "\n",
      "from plates import wenda\n",
      "reload(wenda)\n",
      "#wenda = plates.wenda"
     ],
     "language": "python",
     "metadata": {},
     "outputs": [
      {
       "metadata": {},
       "output_type": "pyout",
       "prompt_number": 1,
       "text": [
        "<module 'plates.wenda' from '/home/visitors/ntimkovich/Projects/Waldo/workbooks/../code/plates/wenda/__init__.pyc'>"
       ]
      }
     ],
     "prompt_number": 1
    },
    {
     "cell_type": "code",
     "collapsed": false,
     "input": [
      "experiment_id = '20130318_131111'"
     ],
     "language": "python",
     "metadata": {},
     "outputs": [],
     "prompt_number": 2
    },
    {
     "cell_type": "code",
     "collapsed": false,
     "input": [
      "exp = wenda.WendasWorms(experiment_id)\n",
      "pprint(exp.available_worms())\n",
      "pprint(exp.available_measurements())"
     ],
     "language": "python",
     "metadata": {},
     "outputs": [
      {
       "output_type": "stream",
       "stream": "stdout",
       "text": [
        "[u'33497',\n",
        " u'09176',\n",
        " u'52779',\n",
        " u'49044',\n",
        " u'43452',\n",
        " u'03509',\n",
        " u'34758',\n",
        " u'62779',\n",
        " u'32350',\n",
        " u'13063',\n",
        " u'03193',\n",
        " u'11528',\n",
        " u'50712',\n",
        " u'36062',\n",
        " u'61725',\n",
        " u'36517',\n",
        " u'42746',\n",
        " u'17885',\n",
        " u'44353',\n",
        " u'11703',\n",
        " u'09858',\n",
        " u'32282',\n",
        " u'54320',\n",
        " u'00930',\n",
        " u'01500',\n",
        " u'29978',\n",
        " u'61632',\n",
        " u'13983',\n",
        " u'48270',\n",
        " u'42679']\n",
        "[u'angle_change',\n",
        " u'go_dur',\n",
        " u'encoded_outline',\n",
        " u'length_mm',\n",
        " u'spine_rough',\n",
        " u'width50',\n",
        " u'spine',\n",
        " u'cent_speed',\n",
        " u'stop_dur',\n",
        " u'cent_speed_bl',\n",
        " u'xy',\n",
        " u'flags',\n",
        " u'width_mm',\n",
        " u'xy_raw',\n",
        " u'is_moving',\n",
        " u'length_rough',\n",
        " u'width80',\n",
        " u'curve_w',\n",
        " u'width20']\n"
       ]
      }
     ],
     "prompt_number": 3
    },
    {
     "cell_type": "code",
     "collapsed": false,
     "input": [
      "x = list(itertools.islice(exp.get_measurements('xy'), 1))"
     ],
     "language": "python",
     "metadata": {},
     "outputs": [],
     "prompt_number": 5
    },
    {
     "cell_type": "code",
     "collapsed": false,
     "input": [
      "bid, bfile = x[0]\n",
      "bfile.keys()"
     ],
     "language": "python",
     "metadata": {},
     "outputs": [
      {
       "metadata": {},
       "output_type": "pyout",
       "prompt_number": 13,
       "text": [
        "[u'data', u'time']"
       ]
      }
     ],
     "prompt_number": 13
    },
    {
     "cell_type": "code",
     "collapsed": false,
     "input": [],
     "language": "python",
     "metadata": {},
     "outputs": []
    }
   ],
   "metadata": {}
  }
 ]
}