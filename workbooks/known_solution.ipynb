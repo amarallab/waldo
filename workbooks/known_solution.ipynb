{
 "metadata": {
  "name": "",
  "signature": "sha256:b534be1a4a12683cd19472bf8f5e9ff194f33a4c800931472238c81a51edd51d"
 },
 "nbformat": 3,
 "nbformat_minor": 0,
 "worksheets": [
  {
   "cells": [
    {
     "cell_type": "code",
     "collapsed": false,
     "input": [
      "%load_ext autoreload\n",
      "%autoreload 2\n",
      "%matplotlib inline"
     ],
     "language": "python",
     "metadata": {},
     "outputs": []
    },
    {
     "cell_type": "code",
     "collapsed": false,
     "input": [
      "import pathcustomize\n",
      "\n",
      "import sys\n",
      "import os\n",
      "import platform\n",
      "print('Python {} ({}) [{}] on {}'.format(platform.python_version(), ', '.join(platform.python_build()), \n",
      "                                       platform.python_compiler(), sys.platform))\n",
      "\n",
      "import numpy as np\n",
      "import pandas as pd\n",
      "import matplotlib.pyplot as plt\n",
      "import networkx as nx\n",
      "from IPython.core.display import Image as display_image\n",
      "\n",
      "import wio\n",
      "import collider\n",
      "import collider.viz"
     ],
     "language": "python",
     "metadata": {},
     "outputs": []
    },
    {
     "cell_type": "code",
     "collapsed": false,
     "input": [
      "ex_id = '20130702_135704'\n",
      "experiment = wio.Experiment(experiment_id=ex_id)\n",
      "graph = experiment.graph"
     ],
     "language": "python",
     "metadata": {},
     "outputs": []
    },
    {
     "cell_type": "code",
     "collapsed": false,
     "input": [
      "solution = experiment.prepdata.load('solution')\n",
      "#solution.reset_index(drop=True)\n",
      "solution.head()"
     ],
     "language": "python",
     "metadata": {},
     "outputs": []
    },
    {
     "cell_type": "code",
     "collapsed": false,
     "input": [
      "code_definitions = {-1:'partial worm', 0:'worm', 1:'collision'}\n",
      "\n",
      "collisions = solution[solution['code'] == 1]\n",
      "worms = solution[solution['code'] == 0]\n",
      "partial = solution[solution['code'] == -1]\n",
      "\n",
      "# for now only worms 1-16 have complete data.\n",
      "worms = worms[worms['worm'] <= 16]\n",
      "# Check worms 11 and 16 (lots of id changes)"
     ],
     "language": "python",
     "metadata": {},
     "outputs": []
    },
    {
     "cell_type": "code",
     "collapsed": false,
     "input": [
      "collider.removal_suite(graph)"
     ],
     "language": "python",
     "metadata": {},
     "outputs": []
    },
    {
     "cell_type": "code",
     "collapsed": false,
     "input": [
      "known_bids = list(solution['bid'])\n"
     ],
     "language": "python",
     "metadata": {},
     "outputs": []
    },
    {
     "cell_type": "code",
     "collapsed": false,
     "input": [
      "collisions.sorted().head(80)\n"
     ],
     "language": "python",
     "metadata": {},
     "outputs": []
    },
    {
     "cell_type": "code",
     "collapsed": false,
     "input": [],
     "language": "python",
     "metadata": {},
     "outputs": []
    }
   ],
   "metadata": {}
  }
 ]
}