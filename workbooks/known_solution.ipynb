{
 "metadata": {
  "name": "",
  "signature": "sha256:5acc022d4897cfe1417fec4d6d41b95733e4ffe2540011d27a6946fdec446ef2"
 },
 "nbformat": 3,
 "nbformat_minor": 0,
 "worksheets": [
  {
   "cells": [
    {
     "cell_type": "code",
     "collapsed": false,
     "input": [
      "%load_ext autoreload\n",
      "%autoreload 2\n",
      "%matplotlib inline"
     ],
     "language": "python",
     "metadata": {},
     "outputs": []
    },
    {
     "cell_type": "code",
     "collapsed": false,
     "input": [
      "import pathcustomize, about\n",
      "about.about()\n",
      "\n",
      "import numpy as np\n",
      "import pandas as pd\n",
      "import matplotlib.pyplot as plt\n",
      "import networkx as nx\n",
      "from IPython.core.display import Image as display_image\n",
      "\n",
      "from waldo import wio\n",
      "from waldo import collider"
     ],
     "language": "python",
     "metadata": {},
     "outputs": []
    },
    {
     "cell_type": "code",
     "collapsed": false,
     "input": [
      "ex_id = '20130702_135704'\n",
      "experiment = wio.Experiment(experiment_id=ex_id)\n",
      "graph = experiment.graph"
     ],
     "language": "python",
     "metadata": {},
     "outputs": []
    },
    {
     "cell_type": "code",
     "collapsed": false,
     "input": [
      "solution = experiment.prepdata.load('solution')\n",
      "#solution.reset_index(drop=True)\n",
      "solution.head()"
     ],
     "language": "python",
     "metadata": {},
     "outputs": []
    },
    {
     "cell_type": "code",
     "collapsed": false,
     "input": [
      "code_definitions = {-1:'partial worm', 0:'worm', 1:'collision'}\n",
      "\n",
      "collisions = solution[solution['code'] == 1]\n",
      "worms = solution[solution['code'] == 0]\n",
      "partial = solution[solution['code'] == -1]\n",
      "\n",
      "# for now only worms 1-16 have complete data.\n",
      "worms = worms[worms['worm'] <= 16]\n",
      "# Check worms 11 and 16 (lots of id changes)"
     ],
     "language": "python",
     "metadata": {},
     "outputs": []
    },
    {
     "cell_type": "code",
     "collapsed": false,
     "input": [
      "collider.removal_suite(graph)"
     ],
     "language": "python",
     "metadata": {},
     "outputs": []
    },
    {
     "cell_type": "code",
     "collapsed": false,
     "input": [
      "known_bids = list(solution['bid'])\n"
     ],
     "language": "python",
     "metadata": {},
     "outputs": []
    },
    {
     "cell_type": "code",
     "collapsed": false,
     "input": [
      "collisions.sorted().head(80)\n"
     ],
     "language": "python",
     "metadata": {},
     "outputs": []
    }
   ],
   "metadata": {}
  }
 ]
}