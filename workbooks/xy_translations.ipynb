{
 "metadata": {
  "name": "",
  "signature": "sha256:bc731453f6dbf457010d6c8dc51e5380bf5e11e21891bbc8e653305604a04b8a"
 },
 "nbformat": 3,
 "nbformat_minor": 0,
 "worksheets": [
  {
   "cells": [
    {
     "cell_type": "code",
     "collapsed": false,
     "input": [
      "%load_ext autoreload\n",
      "%autoreload 2\n",
      "%matplotlib inline"
     ],
     "language": "python",
     "metadata": {},
     "outputs": [],
     "prompt_number": 1
    },
    {
     "cell_type": "code",
     "collapsed": false,
     "input": [
      "from __future__ import print_function, absolute_import, unicode_literals, division\n",
      "import pathcustomize\n",
      "\n",
      "import numpy as np\n",
      "import matplotlib.pyplot as plt\n",
      "\n",
      "import gummy"
     ],
     "language": "python",
     "metadata": {},
     "outputs": [],
     "prompt_number": 2
    },
    {
     "cell_type": "code",
     "collapsed": false,
     "input": [
      "faker = gummy.ArcAndReorient(n_worms=1)\n",
      "faker.realize_all()\n",
      "faker.corrupt(0.1)"
     ],
     "language": "python",
     "metadata": {},
     "outputs": [],
     "prompt_number": 3
    },
    {
     "cell_type": "code",
     "collapsed": false,
     "input": [
      "def translate(x, y):\n",
      "    return np.matrix([[1, 0, x],\n",
      "                      [0, 1, y],\n",
      "                      [0, 0, 1]])\n",
      "\n",
      "def rotate(rad=None, deg=None):\n",
      "    if rad is None:\n",
      "        rad = np.radians(deg)\n",
      "    \n",
      "    return np.matrix([[+np.cos(rad), -np.sin(rad), 0],\n",
      "                      [+np.sin(rad), +np.cos(rad), 0],\n",
      "                      [      0     ,       0     , 1]])\n",
      "\n",
      "def transform(coordinates, rotation, translation):\n",
      "    xy1 = np.ones((3, len(coordinates)))\n",
      "    xy1[:2,...] = np.array(coordinates).T\n",
      "    \n",
      "    T = translate(*translation) * rotate(rotation)\n",
      "    \n",
      "    return (np.array((T * xy1)[:2]))"
     ],
     "language": "python",
     "metadata": {},
     "outputs": [],
     "prompt_number": 96
    },
    {
     "cell_type": "code",
     "collapsed": false,
     "input": [
      "worm = faker.worms[0]\n",
      "\n",
      "trans = (-10, 10)\n",
      "rot_ang = np.radians(60)"
     ],
     "language": "python",
     "metadata": {},
     "outputs": [],
     "prompt_number": 97
    },
    {
     "cell_type": "code",
     "collapsed": false,
     "input": [
      "plt.plot(*worm.T)\n",
      "plt.plot(*transform(worm, rot_ang, trans))\n",
      "plt.gca().axis('equal')"
     ],
     "language": "python",
     "metadata": {},
     "outputs": [
      {
       "metadata": {},
       "output_type": "pyout",
       "prompt_number": 98,
       "text": [
        "(-15.0, 30.0, -5.0, 35.0)"
       ]
      },
      {
       "metadata": {},
       "output_type": "display_data",
       "png": "[encoded data removed]",
       "text": [
        "<matplotlib.figure.Figure at 0xa8533cc>"
       ]
      }
     ],
     "prompt_number": 98
    },
    {
     "cell_type": "code",
     "collapsed": false,
     "input": [],
     "language": "python",
     "metadata": {},
     "outputs": []
    }
   ],
   "metadata": {}
  }
 ]
}