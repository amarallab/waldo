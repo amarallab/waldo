{
 "metadata": {
  "name": "",
  "signature": "sha256:910a506eacc994633897e99c7e38b8bbc28ec1d2a87e966db212d2a30794d7c7"
 },
 "nbformat": 3,
 "nbformat_minor": 0,
 "worksheets": [
  {
   "cells": [
    {
     "cell_type": "heading",
     "level": 1,
     "metadata": {},
     "source": [
      "Timeline View"
     ]
    },
    {
     "cell_type": "code",
     "collapsed": false,
     "input": [
      "%load_ext autoreload\n",
      "%autoreload 2\n",
      "%matplotlib inline"
     ],
     "language": "python",
     "metadata": {},
     "outputs": [],
     "prompt_number": 1
    },
    {
     "cell_type": "code",
     "collapsed": false,
     "input": [
      "from __future__ import print_function, absolute_import, division\n",
      "import six; from six.moves import (zip, filter, map, reduce, input, range)\n",
      "import pathcustomize, about\n",
      "\n",
      "import pickle\n",
      "\n",
      "import networkx as nx\n",
      "\n",
      "import wio\n",
      "import collider\n",
      "#import collider.viz\n",
      "#import taper"
     ],
     "language": "python",
     "metadata": {},
     "outputs": [],
     "prompt_number": 16
    },
    {
     "cell_type": "heading",
     "level": 2,
     "metadata": {},
     "source": [
      "Graph Generation"
     ]
    },
    {
     "cell_type": "code",
     "collapsed": false,
     "input": [
      "#ex_id = '20130614_120518'\n",
      "#ex_id = '20130318_131111'\n",
      "#ex_id = '20130414_140704'\n",
      "ex_id = '20130702_135704' # many pics\n",
      "#ex_id = '20130702_135652' # many pics\n",
      "\n",
      "experiment = wio.Experiment(experiment_id=ex_id)\n",
      "graph = experiment.graph.copy()"
     ],
     "language": "python",
     "metadata": {},
     "outputs": [],
     "prompt_number": 3
    },
    {
     "cell_type": "code",
     "collapsed": false,
     "input": [
      "_ = collider.remove_nodes_outside_roi(graph, experiment)"
     ],
     "language": "python",
     "metadata": {},
     "outputs": [],
     "prompt_number": 4
    },
    {
     "cell_type": "code",
     "collapsed": false,
     "input": [
      "collider.remove_single_descendents(graph)"
     ],
     "language": "python",
     "metadata": {},
     "outputs": [],
     "prompt_number": 5
    },
    {
     "cell_type": "code",
     "collapsed": false,
     "input": [
      "collider.remove_fission_fusion(graph)"
     ],
     "language": "python",
     "metadata": {},
     "outputs": [],
     "prompt_number": 6
    },
    {
     "cell_type": "code",
     "collapsed": false,
     "input": [
      "collider.remove_fission_fusion_rel(graph, split_rel_time=0.5)"
     ],
     "language": "python",
     "metadata": {},
     "outputs": [],
     "prompt_number": 7
    },
    {
     "cell_type": "code",
     "collapsed": false,
     "input": [
      "collider.remove_offshoots(graph, threshold=20)"
     ],
     "language": "python",
     "metadata": {},
     "outputs": [
      {
       "output_type": "stream",
       "stream": "stderr",
       "text": [
        "WARNING: 1 blobs with lifespans > 20 min\n"
       ]
      },
      {
       "output_type": "stream",
       "stream": "stderr",
       "text": [
        "{48089: 7}\n"
       ]
      }
     ],
     "prompt_number": 8
    },
    {
     "cell_type": "code",
     "collapsed": false,
     "input": [
      "collider.remove_single_descendents(graph)"
     ],
     "language": "python",
     "metadata": {},
     "outputs": [],
     "prompt_number": 9
    },
    {
     "cell_type": "code",
     "collapsed": false,
     "input": [
      "len(graph)"
     ],
     "language": "python",
     "metadata": {},
     "outputs": [
      {
       "metadata": {},
       "output_type": "pyout",
       "prompt_number": 24,
       "text": [
        "6016"
       ]
      }
     ],
     "prompt_number": 24
    },
    {
     "cell_type": "code",
     "collapsed": false,
     "input": [
      "giant_nodes = sorted(nx.connected_component_subgraphs(graph.to_undirected()), key=len)[-1]"
     ],
     "language": "python",
     "metadata": {},
     "outputs": [],
     "prompt_number": 19
    },
    {
     "cell_type": "code",
     "collapsed": false,
     "input": [
      "subg = graph.subgraph(giant_nodes)\n",
      "data = {'ex_id': ex_id, 'graph': subg} \n",
      "with open('graph.pkl', 'wb') as f:\n",
      "    pickle.dump(data, f)"
     ],
     "language": "python",
     "metadata": {},
     "outputs": [],
     "prompt_number": 30
    },
    {
     "cell_type": "heading",
     "level": 2,
     "metadata": {},
     "source": [
      "Rendering"
     ]
    },
    {
     "cell_type": "code",
     "collapsed": false,
     "input": [
      "with open('graph.pkl', 'rb') as f:\n",
      "    loaded = pickle.load(f)\n",
      "\n",
      "experiment_r = wio.Experiment(experiment_id=loaded['ex_id'])\n",
      "graph_r = loaded['graph']"
     ],
     "language": "python",
     "metadata": {},
     "outputs": [],
     "prompt_number": 31
    },
    {
     "cell_type": "code",
     "collapsed": false,
     "input": [
      "for node in graph_r:\n",
      "    collider.consolidate_node_data(graph_r, experiment_r, node)\n",
      "    break"
     ],
     "language": "python",
     "metadata": {},
     "outputs": [
      {
       "output_type": "stream",
       "stream": "stdout",
       "text": [
        "       area              centroid  contour_encode_len  \\\n",
        "frame                                                   \n",
        "67822   438    (709.82, 1823.372)                 NaN   \n",
        "67823   434   (709.623, 1822.991)                 163   \n",
        "67824   431   (709.572, 1822.894)                 163   \n",
        "67825   430   (709.418, 1822.691)                 161   \n",
        "67826   439   (709.224, 1822.221)                 159   \n",
        "67827   432    (709.091, 1822.14)                 159   \n",
        "67828   429   (708.791, 1821.538)                 157   \n",
        "67829   435   (708.778, 1821.464)                 157   \n",
        "67830   433   (708.598, 1821.213)                 157   \n",
        "67831   431    (708.488, 1820.97)                 161   \n",
        "67832   432   (708.369, 1820.883)                 161   \n",
        "67833   436   (708.286, 1820.567)                 163   \n",
        "67834   429    (708.186, 1820.52)                 161   \n",
        "67835   438   (708.017, 1820.096)                 163   \n",
        "67836   437   (708.023, 1820.048)                 163   \n",
        "67837   437   (707.925, 1819.947)                 163   \n",
        "67838   436   (707.887, 1819.791)                 163   \n",
        "67839   439   (707.827, 1819.682)                 163   \n",
        "67840   436   (707.792, 1819.733)                 167   \n",
        "67841   435   (707.709, 1819.465)                 163   \n",
        "67842   439   (707.567, 1819.198)                 163   \n",
        "67843   440   (707.618, 1819.135)                 165   \n",
        "67844   438   (707.497, 1819.226)                 165   \n",
        "67845   438   (707.503, 1818.968)                 163   \n",
        "67846   441   (707.464, 1819.032)                 165   \n",
        "67847   442   (707.428, 1818.936)                 165   \n",
        "67848   442   (707.424, 1818.779)                 167   \n",
        "67849   440   (707.369, 1818.754)                 165   \n",
        "67850   445   (707.299, 1818.638)                 169   \n",
        "67851   447    (707.25, 1818.554)                 173   \n",
        "...     ...                   ...                 ...   \n",
        "70854   446  (1050.325, 1756.027)                 174   \n",
        "70855   452   (1050.33, 1755.885)                 173   \n",
        "70856   447    (1050.44, 1756.17)                 172   \n",
        "70857   451  (1050.597, 1756.317)                 174   \n",
        "70858   449  (1050.624, 1756.391)                 176   \n",
        "70859   448  (1050.738, 1756.439)                 179   \n",
        "70860   449  (1050.827, 1756.563)                 178   \n",
        "70861   444    (1051.08, 1756.76)                 169   \n",
        "70862   449  (1051.204, 1757.073)                 175   \n",
        "70863   443  (1051.268, 1756.888)                 174   \n",
        "70864   444  (1051.389, 1757.116)                 171   \n",
        "70865   445  (1051.564, 1757.217)                 171   \n",
        "70866   445  (1051.752, 1757.583)                 171   \n",
        "70867   442  (1051.952, 1757.608)                 172   \n",
        "70868   441  (1052.098, 1757.752)                 172   \n",
        "70869   443  (1052.131, 1757.788)                 170   \n",
        "70870   442  (1052.276, 1757.945)                 174   \n",
        "70871   445  (1052.186, 1757.953)                 172   \n",
        "70872   439  (1052.316, 1758.051)                 174   \n",
        "70873   444  (1052.255, 1757.903)                 176   \n",
        "70874   445  (1052.247, 1758.216)                 176   \n",
        "70875   442  (1052.259, 1757.933)                 174   \n",
        "70876   443  (1052.323, 1758.163)                 176   \n",
        "70877   435  (1052.417, 1758.045)                 174   \n",
        "70878   445   (1052.45, 1758.276)                 173   \n",
        "70879   440  (1052.548, 1758.351)                 173   \n",
        "70880   442   (1052.56, 1758.327)                 170   \n",
        "70881   441  (1052.772, 1758.424)                 173   \n",
        "70882   439  (1052.969, 1758.662)                 168   \n",
        "70883   446  (1053.403, 1759.108)                 170   \n",
        "\n",
        "                                         contour_encoded contour_start  \\\n",
        "frame                                                                    \n",
        "67822                                               None        (0, 0)   \n",
        "67823  oooOMmgGMmMMeemmcOc<ceIfEUYZZXXRR88R2288RRXZZV...   (697, 1807)   \n",
        "67824  oomoMgGegMMgMMg=Oo<c=fEEUYZZRXRR88PR88PRRXZZVV...   (697, 1808)   \n",
        "67825  oogmmgMMgMgGMOGgoc<cMUEIIZZXXXRPR88PR28Z::ZYVV...   (697, 1808)   \n",
        "67826  oooOOMgGOGMegGMcMoc<mEEUYZZRXR8X8PR88PXRXZZVJI...   (697, 1807)   \n",
        "67827  oomoOOGMMgMgMGGcMocc=EEUYZZXRR8X88R288RRXZZVJI...   (697, 1807)   \n",
        "67828  oooOOeegMgMgGGemmcccEEIVZZR::28PR88R2::RZYYYVJ...   (697, 1807)   \n",
        "67829  oooOgMgGMgMgGGOMoloeUEYZZXRR8R88R28R8RXZZJJIJH...   (697, 1807)   \n",
        "67830  ooogmgMegOGMeeggOg??EEJJZXXRRPR288R8PXZ:ZVVIVJ...   (697, 1806)   \n",
        "67831  ooogmmMegMgMMeeoOLlg<EEIVZZR:8R8PR28R8R:RZYYVI...   (697, 1806)   \n",
        "67832  OgmgMgGMgMeegOgLocEEVJZZ8XR8R288R8:8Z:ZVVIVIP0...   (696, 1813)   \n",
        "67833  ooogmgMMgMgMeeggOO?cfEFIZZXXR8R88PR8R8RXZZJIVI...   (697, 1806)   \n",
        "67834  ooogggMMgMgGeegOOO?cEEVVZXXXR8PR88R8R8Z:ZVVIVF...   (697, 1806)   \n",
        "67835  moOMgGMgMemGOGgOcoEIJJZXRR8R88PR8R8RXZZJIVIIR0...   (696, 1812)   \n",
        "67836  OmmgMMgMgGeegOMocmEIYZZ:R8R8PR28R8R:RZYYVIUV80...   (696, 1813)   \n",
        "67837  gmogGGMgMemMMggOlmeFJJZXRR8R88PR8R8RXZZJIVFIX<...   (696, 1812)   \n",
        "67838  OmmgGMgMgGMegOMolmEIYZZRR8R8PPR8R8R:RZVYVIUVP0...   (696, 1813)   \n",
        "67839  moggMgGMgMegGMmgo=mEVVZZ8XR8R228R8R8Z:ZJJIUVJ0...   (696, 1811)   \n",
        "67840  moOgMegMmMgGGMoGocMEVVZXXXR8PR28R8R8Z:ZVJIUVF8...   (696, 1811)   \n",
        "67841  OmmgGMgGgGMegOMooeFJJZXXR8R88PR8R8XXZZJIVIIV00...   (696, 1813)   \n",
        "67842  moOOMGMemMmMMggOomFFVZXZ8R8R228R8R:8ZZVVIIVIP0...   (696, 1812)   \n",
        "67843  ogmmgGMgGgGeeggMooGIJJZRRR8R28PR8R8XXZZJIVFIJ8...   (696, 1810)   \n",
        "67844  ogggeegMgMgGGMmgogfEVZZR8XR88PR8R8R::ZVVVFIFX3...   (696, 1811)   \n",
        "67845  ommmegMgGegMMggGooEFVZZ8XR8R288R8R:::ZVVIUVFR<...   (696, 1810)   \n",
        "67846  ommmgGMgMgMeemgMLogEJJZXR:8R288R8R8XRZYZIUVFF8...   (696, 1810)   \n",
        "67847  oOggeegMgMgGGOMgogEIZZXR:8R288R8R8XXZZIYUVFJPc...   (696, 1811)   \n",
        "67848  oOggMegMgMMgGMmgogEJJZXRR8R28PR8R8XRZZJIVFFFR<...   (696, 1811)   \n",
        "67849  ommmgMMgMgGMegOMoOeFVZZ8RR88R28R8R:8ZZJVFIIIXS...   (696, 1810)   \n",
        "67850  ooOOMgGMgMemMgMgOg=eIJZXXRR2PR28R8R:8ZZVJIIIUV...   (696, 1809)   \n",
        "67851  ogmmgMMgMemeemOGoOeFJZZ8XR88R28R8R8XZZJJIIIIYV...   (696, 1810)   \n",
        "...                                                  ...           ...   \n",
        "70854  OMgMgomgmmgMgEeMEegMggmmmgMMFHXRRRXXZ8R8PPP80P...  (1028, 1734)   \n",
        "70855  GgGgOoggggMgGGEeGGMgOOgggMeeIXR:::RRXR8R882088...  (1028, 1735)   \n",
        "70856  mgMgOoOOggMgMGEeMMMgOOmggMeeIRR:R:RRRR8R880P22...  (1029, 1734)   \n",
        "70857  OMgMgommmmgMgEeeMMGMmgmmmgMMEXXRRRXXZ8R8PR020P...  (1028, 1734)   \n",
        "70858  MOMgOoggmgMgMMGEMMMgOOmggMgEIT:8XXZ:::8R88P0P8...  (1028, 1735)   \n",
        "70859  GOMgOoggggMmGGEeGGMgOOgggMgEIWR8RRXXZ:8R8R2080...  (1028, 1735)   \n",
        "70860  MgOMooOOOMOMMGMEeeggOOOOMgMEVMPR8XXZ:::8R8PP20...  (1029, 1735)   \n",
        "70861  MggOogggMmgMMEeeMMgOgmggOGEITR8XZ:::R8R8PP0P8P...  (1030, 1736)   \n",
        "70862  mgOMooOgOMgMeeMGEMgemoggemMEUH8R:::RRRR8R22082...  (1030, 1734)   \n",
        "70863  gOMgogmgmOMeeeMGEemmmmmmgeMIIiP8RRRXXZ8X:0R080...  (1030, 1735)   \n",
        "70864  MggOogggememMGEMMMgOgmmgOGEIFP8RRRXXZ8R8PPP20P...  (1030, 1736)   \n",
        "70865  gMmomoMoGOMMeGGEMgOOgOggMMEUU888XXZ::R8X8P80PP...  (1031, 1736)   \n",
        "70866  gOMooOOMmgGMMMGEegMoOmgOMeEIJS88XZ8Z::8R888088...  (1031, 1736)   \n",
        "70867  OMmog=mmgemeeeMMEgOMmoOMgOEIEV0PXRRXXXXR8R0P22...  (1031, 1736)   \n",
        "70868  gmgoLgOOMgegGEeMMMmggmmgegEIWIX0PXXZ:RR8R8P80P...  (1032, 1736)   \n",
        "70869  mggoOgmgMmeeeMGGGOMoOOOMeeIEVX<8:::RRRR8R880P2...  (1032, 1736)   \n",
        "70870  gggoggggMmMeeMMGGgMmoOMmMGIEVIT008RRRRXXR8PPP2...  (1032, 1736)   \n",
        "70871  OggommmgMmgEeMMGMOOOggOMeeUIfIR022XXXZ:8R8880P...  (1032, 1736)   \n",
        "70872  OggoggggOGMeeeGGMOMoggMmMMUIfITP08RRXXXXR8PPP0...  (1032, 1736)   \n",
        "70873  gggomgggemeeMeMGGOMoggMmMEFMVIH0b0R::::RR8R220...  (1032, 1736)   \n",
        "70874  gggommmgOMgGGEMMMOgOOgOMgIfEWIV@0PPZ:R:R:8R220...  (1032, 1736)   \n",
        "70875  ggOommggOMeeeMMGMOOOgOMgMEFFNIPb08RRRRXXR8PPP2...  (1032, 1736)   \n",
        "70876  gmgommgmMmMeMeGMMgOOgOOGeMUIfIT208RRRXXXR8PPP0...  (1032, 1736)   \n",
        "70877  OgOoggggMgMeMMGGMOOOgOOGMEFFNIP388RRRRXRR8PPP8...  (1032, 1736)   \n",
        "70878  oOOoOgOMgegMGEeMgMoOOMggGFEFFHP08RRRRXXR8PPP20...  (1033, 1736)   \n",
        "70879  OMooOgOegegGGEeegMoMoMmMefEFIV0`PR::::RR8R2208...  (1032, 1737)   \n",
        "70880  oOOoOgOemegEgEMMgMmoOMmMeEEUVS808RRRRXRR8PPP22...  (1033, 1736)   \n",
        "70881  oMooOOOMgMgEeeMegMmoOMgMeGIFFV00PRRRRXXR8PPP82...  (1033, 1736)   \n",
        "70882  ggooOMmgOMMGMGEgMgmmmgMgGFEIVB00R::::R:8R22088...  (1033, 1737)   \n",
        "70883  oOomgggMgMeeMeGMgOOggMmMeEIUVJ0`22R:::RR8R2208...  (1034, 1737)   \n",
        "\n",
        "                                                 midline          size  \\\n",
        "frame                                                                    \n",
        "67822                                               None  (41.9, 24.1)   \n",
        "67823  ((3, 22), (8, 19), (10, 15), (8, 10), (4, 6), ...  (41.5, 22.0)   \n",
        "67824  ((4, 22), (9, 19), (10, 14), (8, 9), (4, 4), (...  (41.5, 22.2)   \n",
        "67825  ((5, 22), (9, 19), (11, 14), (9, 10), (4, 5), ...  (41.3, 22.1)   \n",
        "67826  ((5, 22), (9, 19), (10, 14), (7, 9), (3, 4), (...  (41.3, 21.2)   \n",
        "67827  ((5, 22), (9, 19), (11, 14), (8, 9), (3, 4), (...  (41.9, 21.9)   \n",
        "67828  ((6, 21), (10, 18), (10, 14), (7, 9), (3, 4), ...  (42.4, 21.2)   \n",
        "67829  ((7, 23), (11, 19), (11, 14), (8, 10), (3, 4),...  (41.1, 20.0)   \n",
        "67830  ((8, 22), (11, 19), (10, 13), (7, 9), (3, 4), ...  (41.8, 20.5)   \n",
        "67831  ((7, 22), (11, 20), (11, 14), (8, 10), (4, 5),...  (42.8, 21.8)   \n",
        "67832  ((8, 22), (11, 19), (11, 14), (7, 9), (2, 4), ...  (42.8, 21.8)   \n",
        "67833  ((8, 23), (12, 19), (11, 14), (8, 10), (3, 4),...  (42.8, 21.7)   \n",
        "67834  ((9, 22), (12, 19), (11, 13), (7, 9), (3, 4), ...  (43.1, 21.7)   \n",
        "67835  ((9, 23), (12, 19), (11, 14), (7, 9), (2, 4), ...  (41.3, 20.6)   \n",
        "67836  ((9, 23), (12, 19), (10, 13), (7, 9), (2, 4), ...  (42.2, 21.2)   \n",
        "67837  ((10, 23), (13, 19), (11, 13), (7, 9), (2, 4),...  (42.2, 21.1)   \n",
        "67838  ((9, 23), (13, 19), (11, 14), (8, 10), (2, 4),...  (43.0, 21.7)   \n",
        "67839  ((10, 23), (13, 19), (11, 13), (7, 9), (2, 4),...  (42.2, 20.6)   \n",
        "67840  ((10, 23), (13, 19), (11, 14), (7, 9), (2, 5),...  (42.8, 21.3)   \n",
        "67841  ((10, 24), (13, 19), (11, 14), (7, 9), (2, 4),...  (39.7, 22.5)   \n",
        "67842  ((10, 24), (13, 19), (11, 14), (7, 9), (2, 5),...  (40.5, 21.9)   \n",
        "67843  ((12, 24), (13, 19), (11, 13), (7, 9), (2, 5),...  (40.8, 20.8)   \n",
        "67844  ((12, 24), (14, 19), (11, 13), (7, 9), (1, 4),...  (39.4, 21.4)   \n",
        "67845  ((10, 23), (13, 19), (11, 14), (7, 10), (1, 5)...  (40.0, 20.8)   \n",
        "67846  ((12, 23), (14, 18), (11, 13), (7, 9), (1, 4),...  (40.4, 21.1)   \n",
        "67847  ((12, 23), (13, 19), (11, 14), (6, 9), (1, 4),...  (39.7, 21.9)   \n",
        "67848  ((12, 23), (13, 19), (11, 14), (6, 9), (1, 4),...  (40.0, 22.2)   \n",
        "67849  ((12, 23), (13, 19), (11, 14), (7, 9), (1, 4),...  (39.7, 21.6)   \n",
        "67850  ((12, 23), (13, 19), (10, 13), (6, 9), (1, 4),...  (43.2, 21.9)   \n",
        "67851  ((12, 23), (13, 18), (11, 14), (7, 9), (1, 4),...  (39.9, 25.0)   \n",
        "...                                                  ...           ...   \n",
        "70854  ((-22, -22), (-18, -19), (-13, -15), (-11, -9)...   (60.1, 6.5)   \n",
        "70855  ((-22, -21), (-18, -19), (-13, -15), (-10, -9)...   (58.7, 5.9)   \n",
        "70856  ((-21, -22), (-17, -19), (-13, -14), (-10, -9)...   (59.4, 6.5)   \n",
        "70857  ((-23, -22), (-18, -19), (-14, -15), (-11, -9)...   (60.1, 6.5)   \n",
        "70858  ((-23, -21), (-18, -19), (-14, -15), (-11, -9)...   (60.1, 6.5)   \n",
        "70859  ((-23, -21), (-18, -19), (-14, -14), (-11, -9)...   (60.1, 6.0)   \n",
        "70860  ((-21, -22), (-17, -19), (-13, -14), (-10, -8)...   (60.1, 6.0)   \n",
        "70861  ((-21, -21), (-17, -18), (-14, -13), (-10, -8)...   (58.0, 6.0)   \n",
        "70862  ((-21, -23), (-17, -20), (-13, -14), (-11, -9)...   (60.1, 6.1)   \n",
        "70863  ((-21, -22), (-16, -18), (-13, -13), (-10, -7)...   (58.7, 6.6)   \n",
        "70864  ((-20, -22), (-16, -18), (-14, -13), (-11, -8)...   (58.0, 6.0)   \n",
        "70865  ((-20, -22), (-16, -18), (-13, -13), (-11, -7)...   (58.7, 6.6)   \n",
        "70866  ((-21, -22), (-17, -19), (-14, -14), (-10, -8)...   (56.6, 6.1)   \n",
        "70867  ((-21, -22), (-16, -18), (-13, -13), (-10, -7)...   (58.0, 9.9)   \n",
        "70868  ((-20, -22), (-16, -17), (-13, -12), (-10, -6)...   (56.6, 9.9)   \n",
        "70869  ((-20, -21), (-16, -18), (-13, -12), (-9, -6),...   (55.9, 6.1)   \n",
        "70870  ((-20, -21), (-16, -18), (-13, -12), (-10, -6)...   (58.1, 6.0)   \n",
        "70871  ((-19, -22), (-15, -17), (-13, -12), (-10, -6)...   (57.4, 6.1)   \n",
        "70872  ((-19, -22), (-15, -18), (-13, -12), (-10, -6)...   (58.1, 6.1)   \n",
        "70873  ((-19, -22), (-15, -17), (-13, -12), (-10, -6)...   (58.1, 6.0)   \n",
        "70874  ((-20, -21), (-16, -18), (-14, -12), (-10, -6)...   (58.1, 6.2)   \n",
        "70875  ((-20, -22), (-16, -17), (-13, -12), (-10, -6)...   (57.4, 6.0)   \n",
        "70876  ((-20, -22), (-16, -18), (-13, -12), (-10, -7)...   (58.1, 6.1)   \n",
        "70877  ((-20, -22), (-16, -18), (-13, -12), (-9, -6),...   (57.4, 6.0)   \n",
        "70878  ((-19, -22), (-15, -18), (-13, -12), (-10, -6)...   (57.4, 6.1)   \n",
        "70879  ((-20, -22), (-16, -17), (-14, -11), (-10, -6)...   (56.7, 6.1)   \n",
        "70880  ((-20, -22), (-16, -17), (-14, -12), (-10, -6)...   (56.7, 6.1)   \n",
        "70881  ((-20, -22), (-16, -18), (-14, -13), (-10, -7)...   (56.7, 6.0)   \n",
        "70882  ((-19, -22), (-15, -18), (-13, -12), (-10, -7)...   (56.7, 6.1)   \n",
        "70883  ((-19, -22), (-16, -18), (-14, -12), (-10, -6)...   (55.3, 6.7)   \n",
        "\n",
        "       std_ortho        std_vector      time   blob  \n",
        "frame                                                \n",
        "67822      2.880   (7.462, 10.117)  2716.234  47108  \n",
        "67823      2.879   (7.434, 10.118)  2716.287  47108  \n",
        "67824      2.855    (7.457, 10.07)  2716.353  47108  \n",
        "67825      2.875   (7.438, 10.103)  2716.386  47108  \n",
        "67826      2.913   (7.414, 10.088)  2716.419  47108  \n",
        "67827      2.915   (7.433, 10.071)  2716.452  47108  \n",
        "67828      2.985   (7.362, 10.053)  2716.489  47108  \n",
        "67829      2.994   (7.339, 10.005)  2716.552  47108  \n",
        "67830      3.045   (7.298, 10.022)  2716.585  47108  \n",
        "67831      3.075   (7.271, 10.012)  2716.615  47108  \n",
        "67832      3.099    (7.229, 9.985)  2716.652  47108  \n",
        "67833      3.136   (7.221, 10.019)  2716.686  47108  \n",
        "67834      3.145    (7.189, 9.983)  2716.718  47108  \n",
        "67835      3.259   (7.095, 10.046)  2716.753  47108  \n",
        "67836      3.233   (7.136, 10.028)  2716.815  47108  \n",
        "67837      3.282   (7.075, 10.017)  2716.852  47108  \n",
        "67838      3.296   (7.052, 10.013)  2716.886  47108  \n",
        "67839      3.349   (7.032, 10.049)  2716.918  47108  \n",
        "67840      3.347   (7.021, 10.062)  2716.953  47108  \n",
        "67841      3.378   (6.976, 10.018)  2716.986  47108  \n",
        "67842      3.434    (6.91, 10.039)  2717.021  47108  \n",
        "67843      3.509   (6.905, 10.083)  2717.085  47108  \n",
        "67844      3.495    (6.856, 9.985)  2717.120  47108  \n",
        "67845      3.496    (6.876, 10.02)  2717.153  47108  \n",
        "67846      3.515   (6.855, 10.007)  2717.187  47108  \n",
        "67847      3.556    (6.798, 9.997)  2717.220  47108  \n",
        "67848      3.568   (6.803, 10.018)  2717.254  47108  \n",
        "67849      3.595    (6.765, 9.986)  2717.289  47108  \n",
        "67850      3.635    (6.714, 9.985)  2717.353  47108  \n",
        "67851      3.713     (6.636, 9.97)  2717.387  47108  \n",
        "...          ...               ...       ...    ...  \n",
        "70854      2.494   (-9.86, -9.188)  2849.088  47108  \n",
        "70855      2.493  (-9.811, -9.146)  2849.150  47108  \n",
        "70856      2.485   (-9.81, -9.113)  2849.188  47108  \n",
        "70857      2.498  (-9.827, -9.157)  2849.222  47108  \n",
        "70858      2.485   (-9.783, -9.11)  2849.288  47108  \n",
        "70859      2.498  (-9.794, -9.137)  2849.322  47108  \n",
        "70860      2.487  (-9.769, -9.132)  2849.350  47108  \n",
        "70861      2.481  (-9.763, -9.159)  2849.425  47108  \n",
        "70862      2.481  (-9.769, -9.149)  2849.488  47108  \n",
        "70863      2.478  (-9.759, -9.192)  2849.521  47108  \n",
        "70864      2.468  (-9.735, -9.156)  2849.555  47108  \n",
        "70865      2.479  (-9.737, -9.148)  2849.588  47108  \n",
        "70866      2.467  (-9.711, -9.144)  2849.622  47108  \n",
        "70867      2.460   (-9.686, -9.12)  2849.689  47108  \n",
        "70868      2.452  (-9.658, -9.099)  2849.755  47108  \n",
        "70869      2.448  (-9.628, -9.096)  2849.821  47108  \n",
        "70870      2.439  (-9.669, -9.122)  2849.855  47108  \n",
        "70871      2.428  (-9.615, -9.066)  2849.921  47108  \n",
        "70872      2.420   (-9.595, -9.01)  2849.955  47108  \n",
        "70873      2.409  (-9.638, -9.044)  2849.988  47108  \n",
        "70874      2.388  (-9.648, -9.079)  2850.021  47108  \n",
        "70875      2.403  (-9.663, -9.062)  2850.055  47108  \n",
        "70876      2.388   (-9.62, -9.039)  2850.084  47108  \n",
        "70877      2.389  (-9.581, -9.015)  2850.124  47108  \n",
        "70878      2.378  (-9.606, -9.028)  2850.188  47108  \n",
        "70879      2.377   (-9.605, -9.01)  2850.221  47108  \n",
        "70880      2.379  (-9.594, -8.991)  2850.254  47108  \n",
        "70881      2.371  (-9.626, -9.036)  2850.284  47108  \n",
        "70882      2.363  (-9.593, -8.987)  2850.321  47108  \n",
        "70883      2.358   (-9.602, -8.97)  2850.355  47108  \n",
        "\n",
        "[3062 rows x 11 columns]\n"
       ]
      }
     ],
     "prompt_number": 33
    },
    {
     "cell_type": "heading",
     "level": 2,
     "metadata": {},
     "source": [
      "Viewing"
     ]
    },
    {
     "cell_type": "code",
     "collapsed": false,
     "input": [],
     "language": "python",
     "metadata": {},
     "outputs": []
    }
   ],
   "metadata": {}
  }
 ]
}