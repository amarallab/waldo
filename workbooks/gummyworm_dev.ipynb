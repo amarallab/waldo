{
 "metadata": {
  "name": "",
  "signature": "sha256:c7282395da8f51f8c72390736fae5958cb1bf037c9c04ac01c4894eabcb594d3"
 },
 "nbformat": 3,
 "nbformat_minor": 0,
 "worksheets": [
  {
   "cells": [
    {
     "cell_type": "code",
     "collapsed": false,
     "input": [
      "%load_ext autoreload\n",
      "%autoreload 2\n",
      "%matplotlib inline"
     ],
     "language": "python",
     "metadata": {},
     "outputs": []
    },
    {
     "cell_type": "code",
     "collapsed": false,
     "input": [
      "from __future__ import print_function, absolute_import, unicode_literals, division\n",
      "import pathcustomize\n",
      "\n",
      "import numpy as np\n",
      "import matplotlib.pyplot as plt\n",
      "\n",
      "import wio2\n",
      "import gummy\n",
      "\n",
      "import plates.analytics as plan"
     ],
     "language": "python",
     "metadata": {},
     "outputs": []
    },
    {
     "cell_type": "code",
     "collapsed": false,
     "input": [
      "poseurs = gummy.ArcAndReorient()"
     ],
     "language": "python",
     "metadata": {},
     "outputs": []
    },
    {
     "cell_type": "code",
     "collapsed": false,
     "input": [
      "poseurs.realize_all()\n",
      "poseurs.corrupt(0.1)"
     ],
     "language": "python",
     "metadata": {},
     "outputs": []
    },
    {
     "cell_type": "code",
     "collapsed": false,
     "input": [
      "plot_noisy_worms = True"
     ],
     "language": "python",
     "metadata": {},
     "outputs": []
    },
    {
     "cell_type": "code",
     "collapsed": false,
     "input": [
      "def doplot(worms, ax):\n",
      "    for worm in worms:\n",
      "        ax.plot(*worm.T)\n",
      "    ax.axis('equal')\n",
      "\n",
      "f, ax = plt.subplots()\n",
      "f.set_size_inches(18, 10)\n",
      "\n",
      "background = (0.4, 0.4, 0.4)\n",
      "colormap = plt.cm.RdYlBu\n",
      "\n",
      "ax.set_axis_bgcolor(background)\n",
      "ax.set_color_cycle([colormap(i) for i in np.linspace(0, 0.9, len(poseurs.worms))])\n",
      "\n",
      "doplot(poseurs.worms if plot_noisy_worms else poseurs.worms_true, ax)\n",
      "\n",
      "plt.show()"
     ],
     "language": "python",
     "metadata": {},
     "outputs": []
    },
    {
     "cell_type": "code",
     "collapsed": false,
     "input": [
      "exp_id = '00000001_000001'\n",
      "poseurs.write(exp_id)"
     ],
     "language": "python",
     "metadata": {},
     "outputs": []
    },
    {
     "cell_type": "code",
     "collapsed": false,
     "input": [
      "# try to read back\n",
      "exp = wio2.Experiment(exp_id)\n",
      "\n",
      "background = (0.4, 0.4, 0.4)\n",
      "colormap = plt.cm.winter\n",
      "\n",
      "f, ax = plt.subplots()\n",
      "f.set_size_inches(18, 10)\n",
      "ax.set_axis_bgcolor(background)\n",
      "ax.set_color_cycle([colormap(i) for i in np.linspace(0, 0.9, len(poseurs.worms))])\n",
      "for worm_id, worm in exp.read_measurements('xy_raw'):\n",
      "    t, data = worm.read()\n",
      "    plt.plot(*np.array(data).T)\n",
      "    \n",
      "ax.axis('equal')\n",
      "   \n",
      "plt.show()"
     ],
     "language": "python",
     "metadata": {},
     "outputs": []
    },
    {
     "cell_type": "code",
     "collapsed": false,
     "input": [
      "speed_config = {\n",
      "    'smoothing': ('boxcar', 1),\n",
      "    'percentiles': [10, 20, 50, 80, 90],\n",
      "}\n",
      "analyzer = plan.ExperimentAnalyzer()\n",
      "analyzer.add_analysis_method(plan.NoiseEstimator())\n",
      "analyzer.add_analysis_method(plan.SpeedEstimator(**speed_config))\n",
      "analyzer.analyze(poseurs)\n",
      "results = analyzer.results()"
     ],
     "language": "python",
     "metadata": {},
     "outputs": []
    },
    {
     "cell_type": "code",
     "collapsed": false,
     "input": [
      "f, axs = plt.subplots(ncols=2)\n",
      "f.set_size_inches(15,8)\n",
      "f.suptitle('Normal summary statistics for frame-by-frame centroid steps')\n",
      "for ax, stats, title in zip(axs, [results['noise']['means'], results['noise']['std_devs']],\n",
      "        ['X/Y means', 'X/Y stddev']):\n",
      "    ax.scatter(*zip(*stats))\n",
      "    ax.set_title(title)\n",
      "    ax.axvline()\n",
      "    ax.axhline()\n",
      "    ax.axis('equal')\n",
      "\n",
      "axs[1].set_xlim(left=0)\n",
      "axs[1].set_ylim(bottom=0)\n",
      "\n",
      "plt.show()"
     ],
     "language": "python",
     "metadata": {},
     "outputs": []
    },
    {
     "cell_type": "code",
     "collapsed": false,
     "input": [],
     "language": "python",
     "metadata": {},
     "outputs": []
    }
   ],
   "metadata": {}
  }
 ]
}