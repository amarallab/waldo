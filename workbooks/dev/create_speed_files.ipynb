{
 "metadata": {
  "name": "",
  "signature": "sha256:7eb609fc024db4b331aa555f4c756e287e82b41ee6bf14c0cf7f9d9415bc4179"
 },
 "nbformat": 3,
 "nbformat_minor": 0,
 "worksheets": [
  {
   "cells": [
    {
     "cell_type": "code",
     "collapsed": false,
     "input": [
      "%load_ext autoreload\n",
      "%autoreload 2\n",
      "\n",
      "%matplotlib inline"
     ],
     "language": "python",
     "metadata": {},
     "outputs": [],
     "prompt_number": 1
    },
    {
     "cell_type": "code",
     "collapsed": false,
     "input": [
      "import sys\n",
      "import os\n",
      "#import itertools\n",
      "import pathlib\n",
      "\n",
      "#import pandas as pd\n",
      "#import numpy as np\n",
      "#import scipy.stats as stats\n",
      "#import matplotlib.pyplot as plt\n",
      "#import matplotlib as mpl\n",
      "from mpltools import style\n",
      "#from mpltools import layout\n",
      "#from networkx import Graph\n",
      "import seaborn as sns\n",
      "\n",
      "sys.path.append('..')\n",
      "import about\n",
      "import pathcustomize\n",
      "\n",
      "from waldo.conf import settings\n",
      "#from waldo.wio.experiment import Experiment\n",
      "#from waldo.extern import multiworm \n",
      "from multiworm.core import MWTSummaryError\n",
      "from waldo.output.speed import SpeedWriter\n",
      "#from waldo.output.speed import *\n",
      "from waldo.wio.worm_writer import WormWriter\n",
      "#from waldo.output.binsize_stats import BinSelfTest, self_bin_experiment\n",
      "\n",
      "plt.style.use('bmh')\n",
      "about.about()"
     ],
     "language": "python",
     "metadata": {},
     "outputs": [
      {
       "output_type": "stream",
       "stream": "stdout",
       "text": [
        "Python 2.7.6 (default, Mar 22 2014 22:59:56) [GCC 4.8.2] on linux2, Host: cody\n"
       ]
      }
     ],
     "prompt_number": 2
    },
    {
     "cell_type": "heading",
     "level": 1,
     "metadata": {},
     "source": [
      "Find All All Processed Recordings"
     ]
    },
    {
     "cell_type": "code",
     "collapsed": false,
     "input": [
      "20130322_104414\n",
      "20130322_104426\n",
      "20130322_115102\n",
      "20130322_115111\n",
      "20130322_115113\n",
      "20130322_130403\n",
      "20130322_130411\n",
      "20130322_130414\n",
      "20130322_141458\n",
      "20130322_141506\n",
      "20130322_141509\n",
      "20130322_151936\n",
      "20130322_151945\n",
      "\n",
      "20130322_104423\n",
      "\n",
      "20130322_151948\n",
      "20130322_162448\n",
      "20130322_162503\n",
      "20130322_162514\n"
     ],
     "language": "python",
     "metadata": {},
     "outputs": []
    },
    {
     "cell_type": "code",
     "collapsed": false,
     "input": [
      "day_1_NQ67_eids = [\n",
      "'20130610_151227',\n",
      "'20130610_173209',\n",
      "'20130617_154227',\n",
      "'20130617_175430',\n",
      "]\n",
      "\n",
      "\n",
      "day_1_NQ19_eids = ['20130610_161947', \n",
      "                   '20130610_173211', \n",
      "                   '20130617_154232', \n",
      "                   '20130617_175435']"
     ],
     "language": "python",
     "metadata": {},
     "outputs": [],
     "prompt_number": 12
    },
    {
     "cell_type": "code",
     "collapsed": false,
     "input": [
      "data_root = pathlib.Path(settings.PROJECT_DATA_ROOT)\n",
      "#all_eid_dirs = [i for i in data_root.glob('*')]\n",
      "all_eids = [i.stem for i in data_root.glob('*')]\n",
      "for eid in sorted(all_eids):\n",
      "    print eid\n",
      "#print all_eids\n",
      "print\n",
      "print len(all_eids), 'eids in total'"
     ],
     "language": "python",
     "metadata": {},
     "outputs": [
      {
       "output_type": "stream",
       "stream": "stdout",
       "text": [
        "20120528_180402\n",
        "20120528_193535\n",
        "20130318_131056\n",
        "20130318_131111\n",
        "20130318_131113\n",
        "20130318_142605\n",
        "20130318_142613\n",
        "20130318_153741\n",
        "20130318_153742\n",
        "20130318_153749\n",
        "20130318_165642\n",
        "20130318_165643\n",
        "20130318_165649\n",
        "20130322_104414\n",
        "20130322_104423\n",
        "20130322_104426\n",
        "20130322_115102\n",
        "20130322_115111\n",
        "20130322_130403\n",
        "20130322_130411\n",
        "20130322_130414\n",
        "20130322_141458\n",
        "20130322_141506\n",
        "20130322_141509\n",
        "20130322_151945\n",
        "20130322_151948\n",
        "20130322_162448\n",
        "20130322_162503\n",
        "20130322_162514\n",
        "20130323_110303\n",
        "20130329_130246\n",
        "20130610_151227\n",
        "20130610_173209\n",
        "20130614_133518\n",
        "20130614_151959\n",
        "20130617_154227\n",
        "20130617_175430\n",
        "20130621_103610\n",
        "20130621_132415\n",
        "20140604_103209\n",
        "\n",
        "40 eids in total\n"
       ]
      }
     ],
     "prompt_number": 3
    },
    {
     "name": "stdout",
     "output_type": "stream",
     "text": [
      "WARNING 20130318_131056 13 showing unusually fast speeds\n",
      "1.91578452648 bl per s\n",
      "skipping\n",
      "20130318_131056 written\n",
      "WARNING 20130318_131111 7 showing unusually fast speeds\n",
      "1.92356125042 bl per s\n",
      "skipping\n",
      "WARNING 20130318_131111 35 showing unusually fast speeds\n",
      "1.82740637679 bl per s\n",
      "skipping\n",
      "WARNING 20130318_131111 39 showing unusually fast speeds\n",
      "1.5452538767 bl per s\n",
      "skipping\n",
      "WARNING 20130318_131111 1287 showing unusually fast speeds\n",
      "1.03397781217 bl per s\n",
      "skipping\n",
      "WARNING 20130318_131111 1646 showing unusually fast speeds\n",
      "2.3298922734 bl per s\n",
      "skipping\n",
      "WARNING 20130318_131111 22087 showing unusually fast speeds\n",
      "2.09369430641 bl per s\n",
      "skipping\n",
      "WARNING 20130318_131111 24323 showing unusually fast speeds\n",
      "2.19058544002 bl per s\n",
      "skipping\n",
      "20130318_131111 written\n",
      "WARNING 20130318_131113 1 showing unusually fast speeds\n",
      "1.44494510357 bl per s\n",
      "skipping\n",
      "WARNING 20130318_131113 130 showing unusually fast speeds\n",
      "1.16997627935 bl per s\n",
      "skipping\n",
      "WARNING 20130318_131113 147 showing unusually fast speeds\n",
      "1.04784452518 bl per s\n",
      "skipping\n",
      "WARNING 20130318_131113 19139 showing unusually fast speeds\n",
      "1.89360287233 bl per s\n",
      "skipping\n",
      "20130318_131113 written\n",
      "20130318_142605 written\n",
      "WARNING 20130318_142613 19 showing unusually fast speeds\n",
      "2.12648306704 bl per s\n",
      "skipping\n",
      "WARNING 20130318_142613 59 showing unusually fast speeds\n",
      "2.26679831651 bl per s\n",
      "skipping\n",
      "WARNING 20130318_142613 1114 showing unusually fast speeds\n",
      "1.49124570445 bl per s\n",
      "skipping\n",
      "WARNING 20130318_142613 3258 showing unusually fast speeds\n",
      "1.90407946743 bl per s\n",
      "skipping\n",
      "WARNING 20130318_142613 3305 showing unusually fast speeds\n",
      "2.79813980156 bl per s\n",
      "skipping\n",
      "WARNING 20130318_142613 3510 showing unusually fast speeds\n",
      "1.34895641776 bl per s\n",
      "skipping\n",
      "WARNING 20130318_142613 4147 showing unusually fast speeds\n",
      "2.15856794273 bl per s\n",
      "skipping\n",
      "WARNING 20130318_142613 5000 showing unusually fast speeds\n",
      "1.12536939335 bl per s\n",
      "skipping\n",
      "WARNING 20130318_142613 6261 showing unusually fast speeds\n",
      "2.75277755883 bl per s\n",
      "skipping\n",
      "WARNING 20130318_142613 7449 showing unusually fast speeds\n",
      "2.5467543707 bl per s\n",
      "skipping\n",
      "WARNING 20130318_142613 10512 showing unusually fast speeds\n",
      "1.25625474498 bl per s\n",
      "skipping\n",
      "20130318_142613 written\n"
     ]
    },
    {
     "cell_type": "code",
     "collapsed": false,
     "input": [
      "def delete_eid_data_dir(eid, data_id='speed_files'):\n",
      "    wr = WormWriter(eid)\n",
      "\n",
      "    #print wr.data_ids()\n",
      "    speed_dir = wr.eid_directory / data_id\n",
      "    file_count = 0\n",
      "    if not speed_dir.is_dir():\n",
      "        print eid, 'already removed'\n",
      "        return\n",
      "    for i in speed_dir.glob('*'):\n",
      "        file_count += 1\n",
      "        os.remove(str(i))\n",
      "\n",
      "    print 'removing', eid, data_id\n",
      "    print file_count, 'files removed'\n",
      "    #print speed_dir.is_dir()\n",
      "    speed_dir.rmdir()\n",
      "    #print speed_dir.is_dir()"
     ],
     "language": "python",
     "metadata": {},
     "outputs": [],
     "prompt_number": 4
    },
    {
     "cell_type": "heading",
     "level": 4,
     "metadata": {},
     "source": [
      "Keep commented out for protection"
     ]
    },
    {
     "cell_type": "code",
     "collapsed": false,
     "input": [
      "# for eid in all_eids:\n",
      "#    delete_eid_data_dir(eid)"
     ],
     "language": "python",
     "metadata": {},
     "outputs": [],
     "prompt_number": 9
    },
    {
     "cell_type": "heading",
     "level": 1,
     "metadata": {},
     "source": [
      "Create Speed Directories for All Processed Recordings"
     ]
    },
    {
     "cell_type": "code",
     "collapsed": false,
     "input": [
      "min_points = 60\n",
      "#all_eids = ['20120528_180402', '20120528_193535']\n",
      "all_eids = day_1_NQ19_eids\n",
      "for eid in all_eids:\n",
      "    try:\n",
      "        sw = SpeedWriter(eid)\n",
      "        sw.write_all_speeds(min_points=min_points)\n",
      "        print eid, 'written'\n",
      "    except MWTSummaryError:\n",
      "        print eid, 'data not properly processed'\n",
      "    except Exception as e:\n",
      "        print eid, 'skipping', e"
     ],
     "language": "python",
     "metadata": {},
     "outputs": [
      {
       "output_type": "stream",
       "stream": "stdout",
       "text": [
        "WARNING 20130610_161947 32 showing unusually fast speeds\n",
        "1.28570187918 bl per s\n",
        "WARNING"
       ]
      },
      {
       "output_type": "stream",
       "stream": "stdout",
       "text": [
        " 20130610_161947 2369 showing unusually fast speeds\n",
        "1.73933101894 bl per s\n",
        "WARNING"
       ]
      },
      {
       "output_type": "stream",
       "stream": "stdout",
       "text": [
        " 20130610_161947 3629 showing unusually fast speeds\n",
        "1.27099265807 bl per s\n",
        "WARNING"
       ]
      },
      {
       "output_type": "stream",
       "stream": "stdout",
       "text": [
        " 20130610_161947 4294 showing unusually fast speeds\n",
        "1.03227633103 bl per s\n",
        "WARNING"
       ]
      },
      {
       "output_type": "stream",
       "stream": "stdout",
       "text": [
        " 20130610_161947 10303 showing unusually fast speeds\n",
        "1.0248266805 bl per s\n",
        "20130610_161947"
       ]
      },
      {
       "output_type": "stream",
       "stream": "stdout",
       "text": [
        " written\n",
        "20130610_173211"
       ]
      },
      {
       "output_type": "stream",
       "stream": "stdout",
       "text": [
        " written\n",
        "WARNING"
       ]
      },
      {
       "output_type": "stream",
       "stream": "stdout",
       "text": [
        " 20130617_154232 5259 has no speeds\n",
        "20130617_154232"
       ]
      },
      {
       "output_type": "stream",
       "stream": "stdout",
       "text": [
        " written\n",
        "WARNING"
       ]
      },
      {
       "output_type": "stream",
       "stream": "stdout",
       "text": [
        " 20130617_175435 171 has no speeds\n",
        "20130617_175435"
       ]
      },
      {
       "output_type": "stream",
       "stream": "stdout",
       "text": [
        " written\n"
       ]
      }
     ],
     "prompt_number": 16
    },
    {
     "cell_type": "code",
     "collapsed": false,
     "input": [],
     "language": "python",
     "metadata": {},
     "outputs": [],
     "prompt_number": 16
    },
    {
     "cell_type": "code",
     "collapsed": false,
     "input": [],
     "language": "python",
     "metadata": {},
     "outputs": []
    }
   ],
   "metadata": {}
  }
 ]
}