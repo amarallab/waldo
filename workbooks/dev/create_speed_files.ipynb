{
 "metadata": {
  "name": "",
  "signature": "sha256:1befa4312318f2cfcb40283782c8633bc40af2ca4388751aff9437f362047cdb"
 },
 "nbformat": 3,
 "nbformat_minor": 0,
 "worksheets": [
  {
   "cells": [
    {
     "cell_type": "code",
     "collapsed": false,
     "input": [
      "%load_ext autoreload\n",
      "%autoreload 2\n",
      "\n",
      "%matplotlib inline"
     ],
     "language": "python",
     "metadata": {},
     "outputs": [],
     "prompt_number": 1
    },
    {
     "cell_type": "code",
     "collapsed": false,
     "input": [
      "import sys\n",
      "import os\n",
      "#import itertools\n",
      "import pathlib\n",
      "\n",
      "#import pandas as pd\n",
      "#import numpy as np\n",
      "#import scipy.stats as stats\n",
      "#import matplotlib.pyplot as plt\n",
      "#import matplotlib as mpl\n",
      "from mpltools import style\n",
      "#from mpltools import layout\n",
      "#from networkx import Graph\n",
      "import seaborn as sns\n",
      "\n",
      "sys.path.append('..')\n",
      "import about\n",
      "import pathcustomize\n",
      "\n",
      "from waldo.conf import settings\n",
      "#from waldo.wio.experiment import Experiment\n",
      "#from waldo.extern import multiworm \n",
      "from multiworm.core import MWTSummaryError\n",
      "from waldo.output.speed import SpeedWriter\n",
      "#from waldo.output.speed import *\n",
      "from waldo.wio.worm_writer import WormWriter\n",
      "#from waldo.output.binsize_stats import BinSelfTest, self_bin_experiment\n",
      "\n",
      "style.use('ggplot')\n",
      "about.about()"
     ],
     "language": "python",
     "metadata": {},
     "outputs": [
      {
       "output_type": "stream",
       "stream": "stdout",
       "text": [
        "Python 2.7.6 (default, Mar 22 2014 22:59:56) [GCC 4.8.2] on linux2, Host: cody\n"
       ]
      }
     ],
     "prompt_number": 2
    },
    {
     "cell_type": "heading",
     "level": 1,
     "metadata": {},
     "source": [
      "Find All All Processed Recordings"
     ]
    },
    {
     "cell_type": "code",
     "collapsed": false,
     "input": [
      "data_root = pathlib.Path(settings.PROJECT_DATA_ROOT)\n",
      "#all_eid_dirs = [i for i in data_root.glob('*')]\n",
      "all_eids = [i.stem for i in data_root.glob('*')]\n",
      "print all_eids\n",
      "print\n",
      "print len(all_eids), 'eids in total'"
     ],
     "language": "python",
     "metadata": {},
     "outputs": [
      {
       "output_type": "stream",
       "stream": "stdout",
       "text": [
        "['20130318_153742', '20130318_153741', '20130318_165643', '20130318_165649', '20130318_153749', '20130318_165642', '20130318_131056', '20130318_131111', '20130318_142605', '20130318_142613', '20130318_131113']\n",
        "\n",
        "11 eids in total\n"
       ]
      }
     ],
     "prompt_number": 3
    },
    {
     "cell_type": "heading",
     "level": 1,
     "metadata": {},
     "source": [
      "Delete All Existing Speed Directories"
     ]
    },
    {
     "cell_type": "code",
     "collapsed": false,
     "input": [
      "def delete_eid_data_dir(eid, data_id='speed_files'):\n",
      "    wr = WormWriter(eid)\n",
      "\n",
      "    #print wr.data_ids()\n",
      "    speed_dir = wr.eid_directory / data_id\n",
      "    file_count = 0\n",
      "    if not speed_dir.is_dir():\n",
      "        print eid, 'already removed'\n",
      "        return\n",
      "    for i in speed_dir.glob('*'):\n",
      "        file_count += 1\n",
      "        os.remove(str(i))\n",
      "\n",
      "    print 'removing', eid, data_id\n",
      "    print file_count, 'files removed'\n",
      "    #print speed_dir.is_dir()\n",
      "    speed_dir.rmdir()\n",
      "    #print speed_dir.is_dir()"
     ],
     "language": "python",
     "metadata": {},
     "outputs": [],
     "prompt_number": 4
    },
    {
     "cell_type": "heading",
     "level": 4,
     "metadata": {},
     "source": [
      "Keep commented out for protection"
     ]
    },
    {
     "cell_type": "code",
     "collapsed": false,
     "input": [
      "# for eid in all_eids:\n",
      "#    delete_eid_data_dir(eid)"
     ],
     "language": "python",
     "metadata": {},
     "outputs": [],
     "prompt_number": 9
    },
    {
     "cell_type": "heading",
     "level": 1,
     "metadata": {},
     "source": [
      "Create Speed Directories for All Processed Recordings"
     ]
    },
    {
     "cell_type": "code",
     "collapsed": false,
     "input": [
      "min_points = 60 * 10\n",
      "for eid in all_eids:\n",
      "    try:\n",
      "        sw = SpeedWriter(eid)\n",
      "        sw.write_all_speeds(min_points=min_points)\n",
      "        print eid, 'written'\n",
      "    except MWTSummaryError:\n",
      "        print eid, 'data not properly processed'"
     ],
     "language": "python",
     "metadata": {},
     "outputs": [
      {
       "output_type": "stream",
       "stream": "stdout",
       "text": [
        "20130318_153742 written\n",
        "20130318_153741"
       ]
      },
      {
       "output_type": "stream",
       "stream": "stdout",
       "text": [
        " written\n",
        "20130318_165643"
       ]
      },
      {
       "output_type": "stream",
       "stream": "stdout",
       "text": [
        " written\n",
        "20130318_165649"
       ]
      },
      {
       "output_type": "stream",
       "stream": "stdout",
       "text": [
        " written\n",
        "WARNING"
       ]
      },
      {
       "output_type": "stream",
       "stream": "stdout",
       "text": [
        " 20130318_153749 10 showing unusually fast speeds\n",
        "1.86138052985 bl per s\n",
        "skipping\n",
        "WARNING"
       ]
      },
      {
       "output_type": "stream",
       "stream": "stdout",
       "text": [
        " 20130318_153749 1430 showing unusually fast speeds\n",
        "3.10473631644 bl per s\n",
        "skipping\n",
        "WARNING"
       ]
      },
      {
       "output_type": "stream",
       "stream": "stdout",
       "text": [
        " 20130318_153749 1729 showing unusually fast speeds\n",
        "2.40690064312 bl per s\n",
        "skipping\n",
        "WARNING"
       ]
      },
      {
       "output_type": "stream",
       "stream": "stdout",
       "text": [
        " 20130318_153749 7480 showing unusually fast speeds\n",
        "1.1493226906 bl per s\n",
        "skipping\n",
        "20130318_153749"
       ]
      },
      {
       "output_type": "stream",
       "stream": "stdout",
       "text": [
        " written\n",
        "20130318_165642"
       ]
      },
      {
       "output_type": "stream",
       "stream": "stdout",
       "text": [
        " written\n",
        "WARNING"
       ]
      },
      {
       "output_type": "stream",
       "stream": "stdout",
       "text": [
        " 20130318_131056 13 showing unusually fast speeds\n",
        "1.34077470585 bl per s\n",
        "skipping\n",
        "20130318_131056"
       ]
      },
      {
       "output_type": "stream",
       "stream": "stdout",
       "text": [
        " written\n",
        "WARNING"
       ]
      },
      {
       "output_type": "stream",
       "stream": "stdout",
       "text": [
        " 20130318_131111 39 showing unusually fast speeds\n",
        "1.06508736833 bl per s\n",
        "skipping\n",
        "20130318_131111"
       ]
      },
      {
       "output_type": "stream",
       "stream": "stdout",
       "text": [
        " written\n",
        "WARNING"
       ]
      },
      {
       "output_type": "stream",
       "stream": "stdout",
       "text": [
        " 20130318_142605 6 showing unusually fast speeds\n",
        "1.45618068555 bl per s\n",
        "skipping\n",
        "20130318_142605"
       ]
      },
      {
       "output_type": "stream",
       "stream": "stdout",
       "text": [
        " written\n",
        "WARNING"
       ]
      },
      {
       "output_type": "stream",
       "stream": "stdout",
       "text": [
        " 20130318_142613 6261 showing unusually fast speeds\n",
        "1.21752997188 bl per s\n",
        "skipping\n",
        "WARNING"
       ]
      },
      {
       "output_type": "stream",
       "stream": "stdout",
       "text": [
        " 20130318_142613 10512 showing unusually fast speeds\n",
        "2.00732441766 bl per s\n",
        "skipping\n",
        "20130318_142613"
       ]
      },
      {
       "output_type": "stream",
       "stream": "stdout",
       "text": [
        " written\n",
        "WARNING"
       ]
      },
      {
       "output_type": "stream",
       "stream": "stdout",
       "text": [
        " 20130318_131113 19139 showing unusually fast speeds\n",
        "1.65079588992 bl per s\n",
        "skipping\n",
        "20130318_131113"
       ]
      },
      {
       "output_type": "stream",
       "stream": "stdout",
       "text": [
        " written\n"
       ]
      }
     ],
     "prompt_number": 10
    },
    {
     "cell_type": "code",
     "collapsed": false,
     "input": [],
     "language": "python",
     "metadata": {},
     "outputs": []
    }
   ],
   "metadata": {}
  }
 ]
}