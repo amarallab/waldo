{
 "metadata": {
  "name": "",
  "signature": "sha256:779c765b0869fc1d551b348b1a0af0f0574783e890fa5c3516ba42df6f3abe6c"
 },
 "nbformat": 3,
 "nbformat_minor": 0,
 "worksheets": [
  {
   "cells": [
    {
     "cell_type": "code",
     "collapsed": false,
     "input": [
      "%load_ext autoreload\n",
      "%autoreload 2\n",
      "\n",
      "%matplotlib inline"
     ],
     "language": "python",
     "metadata": {},
     "outputs": [],
     "prompt_number": 17
    },
    {
     "cell_type": "code",
     "collapsed": false,
     "input": [
      "import sys\n",
      "import os\n",
      "import pathlib\n",
      "\n",
      "\n",
      "sys.path.append('..')\n",
      "import about\n",
      "import pathcustomize\n",
      "import pandas as pd\n",
      "\n",
      "from waldo.conf import settings\n",
      "from waldo.wio.experiment import Experiment\n",
      "from waldo.metrics.report_card import WaldoSolver\n",
      "\n",
      "plt.style.use('bmh')\n",
      "about.about()"
     ],
     "language": "python",
     "metadata": {},
     "outputs": [
      {
       "output_type": "stream",
       "stream": "stdout",
       "text": [
        "Python 2.7.6 (default, Mar 22 2014 22:59:56) [GCC 4.8.2] on linux2, Host: cody\n"
       ]
      }
     ],
     "prompt_number": 20
    },
    {
     "cell_type": "code",
     "collapsed": false,
     "input": [
      "eid = '20130318_131111'\n",
      "experiment = Experiment(experiment_id=eid)\n",
      "graph = experiment.graph.copy()"
     ],
     "language": "python",
     "metadata": {},
     "outputs": [],
     "prompt_number": 3
    },
    {
     "cell_type": "code",
     "collapsed": false,
     "input": [
      "ws = WaldoSolver(experiment=experiment, graph=graph)\n",
      "ws.initial_clean()\n",
      "report_df1 = ws.report_card.report(show=False)\n",
      "ws.solve()\n",
      "report_df2 = ws.report_card.report(show=False)"
     ],
     "language": "python",
     "metadata": {},
     "outputs": [
      {
       "output_type": "stream",
       "stream": "stdout",
       "text": [
        "collisions from bbox\n",
        "\t67 suspects. trying 0 again"
       ]
      },
      {
       "output_type": "stream",
       "stream": "stdout",
       "text": [
        "\n",
        "\t19 suspects. trying 0 again"
       ]
      },
      {
       "output_type": "stream",
       "stream": "stdout",
       "text": [
        "\n",
        "\t5 suspects. trying 0 again"
       ]
      },
      {
       "output_type": "stream",
       "stream": "stdout",
       "text": [
        "\n",
        "\t2 suspects. trying 0 again"
       ]
      },
      {
       "output_type": "stream",
       "stream": "stdout",
       "text": [
        "\n",
        "\t1 suspects. trying 0 again"
       ]
      },
      {
       "output_type": "stream",
       "stream": "stdout",
       "text": [
        "\n",
        "\t1 suspects. trying 0 again"
       ]
      },
      {
       "output_type": "stream",
       "stream": "stdout",
       "text": [
        "\n",
        "\t58 resolved 61%"
       ]
      },
      {
       "output_type": "stream",
       "stream": "stdout",
       "text": [
        "\n",
        "\t2 missing data 2%\n",
        "\t0 missing data, no overlap 0%\n",
        "\t37 full data, no  overlap 38%\n",
        "--- collisions ---"
       ]
      },
      {
       "output_type": "stream",
       "stream": "stderr",
       "text": [
        "WARNING:waldo.network.graph:Validation pass\n"
       ]
      },
      {
       "output_type": "stream",
       "stream": "stderr",
       "text": [
        "WARNING:waldo.network.graph:Validation pass\n"
       ]
      },
      {
       "output_type": "stream",
       "stream": "stdout",
       "text": [
        "\n",
        "--- prune ---"
       ]
      },
      {
       "output_type": "stream",
       "stream": "stderr",
       "text": [
        "WARNING:waldo.metrics.report_card:Remove Offshoots\n"
       ]
      },
      {
       "output_type": "stream",
       "stream": "stderr",
       "text": [
        "WARNING:waldo.network.graph:Validation pass\n"
       ]
      },
      {
       "output_type": "stream",
       "stream": "stderr",
       "text": [
        "WARNING:waldo.network.graph:Validation pass\n"
       ]
      },
      {
       "output_type": "stream",
       "stream": "stdout",
       "text": [
        "\n",
        "--- consolidate ---"
       ]
      },
      {
       "output_type": "stream",
       "stream": "stderr",
       "text": [
        "WARNING:waldo.metrics.report_card:Collapse Group\n"
       ]
      },
      {
       "output_type": "stream",
       "stream": "stderr",
       "text": [
        "WARNING:waldo.metrics.report_card:Remove Fission-Fusion\n"
       ]
      },
      {
       "output_type": "stream",
       "stream": "stdout",
       "text": [
        "\n",
        "collapse g\n",
        "fission-fusion\n",
        "fission-fusion rel"
       ]
      },
      {
       "output_type": "stream",
       "stream": "stderr",
       "text": [
        "WARNING:waldo.metrics.report_card:Remove Fission-Fusion (relative)\n"
       ]
      },
      {
       "output_type": "stream",
       "stream": "stdout",
       "text": [
        "\n",
        "remove single descendents"
       ]
      },
      {
       "output_type": "stream",
       "stream": "stderr",
       "text": [
        "WARNING:waldo.metrics.report_card:Remove Single Descendents\n"
       ]
      },
      {
       "output_type": "stream",
       "stream": "stderr",
       "text": [
        "WARNING:waldo.network.graph:Validation pass\n"
       ]
      },
      {
       "output_type": "stream",
       "stream": "stdout",
       "text": [
        "\n",
        "Node 53581 has 0.20320855615 overlap"
       ]
      },
      {
       "output_type": "stream",
       "stream": "stderr",
       "text": [
        "WARNING:waldo.network.graph:Validation pass\n"
       ]
      },
      {
       "output_type": "stream",
       "stream": "stdout",
       "text": [
        "\n",
        "\t53589 from 2888.799 to 2915.529 seconds | 404\n",
        "\t54055 from 2918.867 to 2921.666 seconds | 43\n",
        "\t54216 from 2929.262 to 2933.028 seconds | 57\n",
        "\t54217 from 2929.262 to 2933.028 seconds | 57\n",
        "--- gaps ---"
       ]
      },
      {
       "output_type": "stream",
       "stream": "stderr",
       "text": [
        "WARNING:waldo.metrics.report_card:gaps\n"
       ]
      },
      {
       "output_type": "stream",
       "stream": "stderr",
       "text": [
        "/home/visitors/peterwinter/.pyenv/versions/general/local/lib/python2.7/site-packages/pandas/core/indexing.py:118: SettingWithCopyWarning: \n",
        "A value is trying to be set on a copy of a slice from a DataFrame\n",
        "\n",
        "See the the caveats in the documentation: http://pandas.pydata.org/pandas-docs/stable/indexing.html#indexing-view-versus-copy\n",
        "  self._setitem_with_indexer(indexer, value)\n",
        "../../code/waldo/tape/taper.py:185: SettingWithCopyWarning: \n",
        "A value is trying to be set on a copy of a slice from a DataFrame.\n",
        "Try using .loc[row_indexer,col_indexer] = value instead\n",
        "\n",
        "See the the caveats in the documentation: http://pandas.pydata.org/pandas-docs/stable/indexing.html#indexing-view-versus-copy\n",
        "  m['node_id'] = m['bid']\n"
       ]
      },
      {
       "output_type": "stream",
       "stream": "stdout",
       "text": [
        "\n",
        "495"
       ]
      },
      {
       "output_type": "stream",
       "stream": "stderr",
       "text": [
        "../../code/waldo/tape/taper.py:186: SettingWithCopyWarning: \n",
        "A value is trying to be set on a copy of a slice from a DataFrame.\n",
        "Try using .loc[row_indexer,col_indexer] = value instead\n",
        "\n",
        "See the the caveats in the documentation: http://pandas.pydata.org/pandas-docs/stable/indexing.html#indexing-view-versus-copy\n",
        "  m['isolated'] = True\n",
        "../../code/waldo/network/graph.py:410: Warning: bridge_gaps() trying to connect non-existant nodes\n",
        "  warnings.warn('bridge_gaps() trying to connect non-existant nodes', Warning)\n"
       ]
      },
      {
       "output_type": "stream",
       "stream": "stderr",
       "text": [
        "WARNING:waldo.network.graph:Validation pass\n"
       ]
      },
      {
       "output_type": "stream",
       "stream": "stdout",
       "text": [
        " real\n",
        "216 to_missing\n",
        "191 from_missing\n",
        "137 missing_to_missing\n",
        "94 new_real\n",
        "122 failed_links\n",
        "367 missing points used up\n",
        "191 unique used\n",
        "18 max recursion\n",
        "739 missing points to start with\n",
        "548 missing points left\n",
        "Node 53581 has 0.20320855615 overlap"
       ]
      },
      {
       "output_type": "stream",
       "stream": "stderr",
       "text": [
        "WARNING:waldo.network.graph:Validation pass\n"
       ]
      },
      {
       "output_type": "stream",
       "stream": "stdout",
       "text": [
        "\n",
        "\t53589 from 2888.799 to 2915.529 seconds | 404\n",
        "\t54055 from 2918.867 to 2921.666 seconds | 43\n",
        "\t54216 from 2929.262 to 2933.028 seconds | 57\n",
        "\t54217 from 2929.262 to 2933.028 seconds | 57\n",
        "collisions from bbox"
       ]
      },
      {
       "output_type": "stream",
       "stream": "stdout",
       "text": [
        "\n",
        "\t21 suspects. trying 0 again"
       ]
      },
      {
       "output_type": "stream",
       "stream": "stdout",
       "text": [
        "\n",
        "\t7 suspects. trying 0 again"
       ]
      },
      {
       "output_type": "stream",
       "stream": "stdout",
       "text": [
        "\n",
        "\t6 suspects. trying 0 again"
       ]
      },
      {
       "output_type": "stream",
       "stream": "stdout",
       "text": [
        "\n",
        "\t4 suspects. trying 0 again"
       ]
      },
      {
       "output_type": "stream",
       "stream": "stdout",
       "text": [
        "\n",
        "\t2 suspects. trying 0 again"
       ]
      },
      {
       "output_type": "stream",
       "stream": "stdout",
       "text": [
        "\n",
        "\t0 suspects. trying 0 again"
       ]
      },
      {
       "output_type": "stream",
       "stream": "stdout",
       "text": [
        "\n",
        "\t33 resolved 82%\n",
        "\t0 missing data 0%\n",
        "\t0 missing data, no overlap 0%\n",
        "\t7 full data, no  overlap 17%\n",
        "--- collisions ---"
       ]
      },
      {
       "output_type": "stream",
       "stream": "stderr",
       "text": [
        "WARNING:waldo.network.graph:Validation pass\n"
       ]
      },
      {
       "output_type": "stream",
       "stream": "stderr",
       "text": [
        "WARNING:waldo.network.graph:Validation pass\n"
       ]
      },
      {
       "output_type": "stream",
       "stream": "stdout",
       "text": [
        "\n",
        "--- prune ---"
       ]
      },
      {
       "output_type": "stream",
       "stream": "stderr",
       "text": [
        "WARNING:waldo.metrics.report_card:Remove Offshoots\n"
       ]
      },
      {
       "output_type": "stream",
       "stream": "stderr",
       "text": [
        "WARNING:waldo.network.graph:Validation pass\n"
       ]
      },
      {
       "output_type": "stream",
       "stream": "stderr",
       "text": [
        "WARNING:waldo.network.graph:Validation pass\n"
       ]
      },
      {
       "output_type": "stream",
       "stream": "stdout",
       "text": [
        "\n",
        "--- consolidate ---"
       ]
      },
      {
       "output_type": "stream",
       "stream": "stderr",
       "text": [
        "WARNING:waldo.metrics.report_card:Collapse Group\n"
       ]
      },
      {
       "output_type": "stream",
       "stream": "stderr",
       "text": [
        "WARNING:waldo.metrics.report_card:Remove Fission-Fusion\n"
       ]
      },
      {
       "output_type": "stream",
       "stream": "stdout",
       "text": [
        "\n",
        "collapse g\n",
        "fission-fusion\n",
        "fission-fusion rel"
       ]
      },
      {
       "output_type": "stream",
       "stream": "stderr",
       "text": [
        "WARNING:waldo.metrics.report_card:Remove Fission-Fusion (relative)\n"
       ]
      },
      {
       "output_type": "stream",
       "stream": "stdout",
       "text": [
        "\n",
        "remove single descendents"
       ]
      },
      {
       "output_type": "stream",
       "stream": "stderr",
       "text": [
        "WARNING:waldo.metrics.report_card:Remove Single Descendents\n"
       ]
      },
      {
       "output_type": "stream",
       "stream": "stderr",
       "text": [
        "WARNING:waldo.network.graph:Validation pass\n"
       ]
      },
      {
       "output_type": "stream",
       "stream": "stdout",
       "text": [
        "\n",
        "Node 20654 has 0.243684992571 overlap"
       ]
      },
      {
       "output_type": "stream",
       "stream": "stderr",
       "text": [
        "WARNING:waldo.network.graph:Validation pass\n"
       ]
      },
      {
       "output_type": "stream",
       "stream": "stdout",
       "text": [
        "\n",
        "\t20654 from 1195.677 to 1224.658 seconds | 436\n",
        "\t21514 from 1226.489 to 1230.288 seconds | 58\n",
        "\t21732 from 1234.02 to 1249.094 seconds | 226\n",
        "\t22067 from 1249.154 to 1258.677 seconds | 143\n",
        "\t22560 from 1270.099 to 1274.459 seconds | 66\n",
        "\t22645 from 1274.518 to 1285.383 seconds | 164\n",
        "\t22646 from 1274.518 to 1285.383 seconds | 164\n",
        "\t22893 from 1287.255 to 1289.65 seconds | 37\n",
        "\t22953 from 1290.389 to 1293.588 seconds | 52\n",
        "--- gaps ---"
       ]
      },
      {
       "output_type": "stream",
       "stream": "stderr",
       "text": [
        "WARNING:waldo.metrics.report_card:gaps\n"
       ]
      },
      {
       "output_type": "stream",
       "stream": "stdout",
       "text": [
        "\n",
        "177"
       ]
      },
      {
       "output_type": "stream",
       "stream": "stderr",
       "text": [
        "WARNING:waldo.network.graph:Validation pass\n"
       ]
      },
      {
       "output_type": "stream",
       "stream": "stdout",
       "text": [
        " real\n",
        "146 to_missing\n",
        "150 from_missing\n",
        "104 missing_to_missing\n",
        "6 new_real\n",
        "140 failed_links\n",
        "14 missing points used up\n",
        "12 unique used\n",
        "15 max recursion\n",
        "548 missing points to start with\n",
        "536 missing points left\n",
        "Node 20654 has 0.243684992571 overlap"
       ]
      },
      {
       "output_type": "stream",
       "stream": "stderr",
       "text": [
        "WARNING:waldo.network.graph:Validation pass\n"
       ]
      },
      {
       "output_type": "stream",
       "stream": "stdout",
       "text": [
        "\n",
        "\t20654 from 1195.677 to 1224.658 seconds | 436\n",
        "\t21514 from 1226.489 to 1230.288 seconds | 58\n",
        "\t21732 from 1234.02 to 1249.094 seconds | 226\n",
        "\t22067 from 1249.154 to 1258.677 seconds | 143\n",
        "\t22560 from 1270.099 to 1274.459 seconds | 66\n",
        "\t22645 from 1274.518 to 1285.383 seconds | 164\n",
        "\t22646 from 1274.518 to 1285.383 seconds | 164\n",
        "\t22893 from 1287.255 to 1289.65 seconds | 37\n",
        "\t22953 from 1290.389 to 1293.588 seconds | 52\n",
        "collisions from bbox"
       ]
      },
      {
       "output_type": "stream",
       "stream": "stdout",
       "text": [
        "\n",
        "\t2 suspects. trying 0 again\n",
        "\t0 suspects. trying 0 again"
       ]
      },
      {
       "output_type": "stream",
       "stream": "stdout",
       "text": [
        "\n",
        "\t1 resolved 50%\n",
        "\t0 missing data 0%\n",
        "\t0 missing data, no overlap 0%\n",
        "\t1 full data, no  overlap 50%\n",
        "--- collisions ---"
       ]
      },
      {
       "output_type": "stream",
       "stream": "stderr",
       "text": [
        "WARNING:waldo.network.graph:Validation pass\n"
       ]
      },
      {
       "output_type": "stream",
       "stream": "stdout",
       "text": [
        "\n",
        "Node 20654 has 0.243684992571 overlap"
       ]
      },
      {
       "output_type": "stream",
       "stream": "stderr",
       "text": [
        "WARNING:waldo.network.graph:Validation pass\n"
       ]
      },
      {
       "output_type": "stream",
       "stream": "stdout",
       "text": [
        "\n",
        "\t20654 from 1195.677 to 1224.658 seconds | 436\n",
        "\t21514 from 1226.489 to 1230.288 seconds | 58\n",
        "\t21732 from 1234.02 to 1249.094 seconds | 226\n",
        "\t22067 from 1249.154 to 1258.677 seconds | 143\n",
        "\t22560 from 1270.099 to 1274.459 seconds | 66\n",
        "\t22645 from 1274.518 to 1285.383 seconds | 164\n",
        "\t22646 from 1274.518 to 1285.383 seconds | 164\n",
        "\t22893 from 1287.255 to 1289.65 seconds | 37\n",
        "\t22953 from 1290.389 to 1293.588 seconds | 52\n",
        "--- prune ---"
       ]
      },
      {
       "output_type": "stream",
       "stream": "stderr",
       "text": [
        "WARNING:waldo.metrics.report_card:Remove Offshoots\n"
       ]
      },
      {
       "output_type": "stream",
       "stream": "stderr",
       "text": [
        "WARNING:waldo.network.graph:Validation pass\n"
       ]
      },
      {
       "output_type": "stream",
       "stream": "stdout",
       "text": [
        "\n",
        "Node 20654 has 0.243684992571 overlap"
       ]
      },
      {
       "output_type": "stream",
       "stream": "stderr",
       "text": [
        "WARNING:waldo.network.graph:Validation pass\n"
       ]
      },
      {
       "output_type": "stream",
       "stream": "stdout",
       "text": [
        "\n",
        "\t20654 from 1195.677 to 1224.658 seconds | 436\n",
        "\t21514 from 1226.489 to 1230.288 seconds | 58\n",
        "\t21732 from 1234.02 to 1249.094 seconds | 226\n",
        "\t22067 from 1249.154 to 1258.677 seconds | 143\n",
        "\t22560 from 1270.099 to 1274.459 seconds | 66\n",
        "\t22645 from 1274.518 to 1285.383 seconds | 164\n",
        "\t22646 from 1274.518 to 1285.383 seconds | 164\n",
        "\t22893 from 1287.255 to 1289.65 seconds | 37\n",
        "\t22953 from 1290.389 to 1293.588 seconds | 52\n",
        "--- consolidate ---"
       ]
      },
      {
       "output_type": "stream",
       "stream": "stderr",
       "text": [
        "WARNING:waldo.metrics.report_card:Collapse Group\n"
       ]
      },
      {
       "output_type": "stream",
       "stream": "stderr",
       "text": [
        "WARNING:waldo.metrics.report_card:Remove Fission-Fusion\n"
       ]
      },
      {
       "output_type": "stream",
       "stream": "stderr",
       "text": [
        "WARNING:waldo.metrics.report_card:Remove Fission-Fusion (relative)\n"
       ]
      },
      {
       "output_type": "stream",
       "stream": "stderr",
       "text": [
        "WARNING:waldo.metrics.report_card:Remove Single Descendents\n"
       ]
      },
      {
       "output_type": "stream",
       "stream": "stderr",
       "text": [
        "WARNING:waldo.network.graph:Validation pass\n"
       ]
      },
      {
       "output_type": "stream",
       "stream": "stdout",
       "text": [
        "\n",
        "collapse g\n",
        "fission-fusion\n",
        "fission-fusion rel\n",
        "remove single descendents\n",
        "Node 20654 has 0.243684992571 overlap"
       ]
      },
      {
       "output_type": "stream",
       "stream": "stderr",
       "text": [
        "WARNING:waldo.network.graph:Validation pass\n"
       ]
      },
      {
       "output_type": "stream",
       "stream": "stdout",
       "text": [
        "\n",
        "\t20654 from 1195.677 to 1224.658 seconds | 436\n",
        "\t21514 from 1226.489 to 1230.288 seconds | 58\n",
        "\t21732 from 1234.02 to 1249.094 seconds | 226\n",
        "\t22067 from 1249.154 to 1258.677 seconds | 143\n",
        "\t22560 from 1270.099 to 1274.459 seconds | 66\n",
        "\t22645 from 1274.518 to 1285.383 seconds | 164\n",
        "\t22646 from 1274.518 to 1285.383 seconds | 164\n",
        "\t22893 from 1287.255 to 1289.65 seconds | 37\n",
        "\t22953 from 1290.389 to 1293.588 seconds | 52\n",
        "--- gaps ---"
       ]
      },
      {
       "output_type": "stream",
       "stream": "stderr",
       "text": [
        "WARNING:waldo.metrics.report_card:gaps\n"
       ]
      },
      {
       "output_type": "stream",
       "stream": "stdout",
       "text": [
        "\n",
        "53"
       ]
      },
      {
       "output_type": "stream",
       "stream": "stderr",
       "text": [
        "WARNING:waldo.network.graph:Validation pass\n"
       ]
      },
      {
       "output_type": "stream",
       "stream": "stdout",
       "text": [
        " real\n",
        "143 to_missing\n",
        "141 from_missing\n",
        "105 missing_to_missing\n",
        "0 new_real\n",
        "143 failed_links\n",
        "0 missing points used up\n",
        "0 unique used\n",
        "18 max recursion\n",
        "536 missing points to start with\n",
        "536 missing points left\n",
        "Node 20654 has 0.243684992571 overlap"
       ]
      },
      {
       "output_type": "stream",
       "stream": "stderr",
       "text": [
        "WARNING:waldo.network.graph:Validation pass\n"
       ]
      },
      {
       "output_type": "stream",
       "stream": "stdout",
       "text": [
        "\n",
        "\t20654 from 1195.677 to 1224.658 seconds | 436\n",
        "\t21514 from 1226.489 to 1230.288 seconds | 58\n",
        "\t21732 from 1234.02 to 1249.094 seconds | 226\n",
        "\t22067 from 1249.154 to 1258.677 seconds | 143\n",
        "\t22560 from 1270.099 to 1274.459 seconds | 66\n",
        "\t22645 from 1274.518 to 1285.383 seconds | 164\n",
        "\t22646 from 1274.518 to 1285.383 seconds | 164\n",
        "\t22893 from 1287.255 to 1289.65 seconds | 37\n",
        "\t22953 from 1290.389 to 1293.588 seconds | 52\n",
        "collisions from bbox"
       ]
      },
      {
       "output_type": "stream",
       "stream": "stdout",
       "text": [
        "\n",
        "\t1 suspects. trying 0 again\n",
        "\t0 resolved 0%"
       ]
      },
      {
       "output_type": "stream",
       "stream": "stdout",
       "text": [
        "\n",
        "\t0 missing data 0%\n",
        "\t0 missing data, no overlap 0%\n",
        "\t1 full data, no  overlap 100%\n",
        "--- collisions ---"
       ]
      },
      {
       "output_type": "stream",
       "stream": "stderr",
       "text": [
        "WARNING:waldo.network.graph:Validation pass\n"
       ]
      },
      {
       "output_type": "stream",
       "stream": "stdout",
       "text": [
        "\n",
        "Node 20654 has 0.243684992571 overlap"
       ]
      },
      {
       "output_type": "stream",
       "stream": "stderr",
       "text": [
        "WARNING:waldo.network.graph:Validation pass\n"
       ]
      },
      {
       "output_type": "stream",
       "stream": "stdout",
       "text": [
        "\n",
        "\t20654 from 1195.677 to 1224.658 seconds | 436\n",
        "\t21514 from 1226.489 to 1230.288 seconds | 58\n",
        "\t21732 from 1234.02 to 1249.094 seconds | 226\n",
        "\t22067 from 1249.154 to 1258.677 seconds | 143\n",
        "\t22560 from 1270.099 to 1274.459 seconds | 66\n",
        "\t22645 from 1274.518 to 1285.383 seconds | 164\n",
        "\t22646 from 1274.518 to 1285.383 seconds | 164\n",
        "\t22893 from 1287.255 to 1289.65 seconds | 37\n",
        "\t22953 from 1290.389 to 1293.588 seconds | 52\n",
        "--- prune ---"
       ]
      },
      {
       "output_type": "stream",
       "stream": "stderr",
       "text": [
        "WARNING:waldo.metrics.report_card:Remove Offshoots\n"
       ]
      },
      {
       "output_type": "stream",
       "stream": "stderr",
       "text": [
        "WARNING:waldo.network.graph:Validation pass\n"
       ]
      },
      {
       "output_type": "stream",
       "stream": "stdout",
       "text": [
        "\n",
        "Node 20654 has 0.243684992571 overlap"
       ]
      },
      {
       "output_type": "stream",
       "stream": "stderr",
       "text": [
        "WARNING:waldo.network.graph:Validation pass\n"
       ]
      },
      {
       "output_type": "stream",
       "stream": "stdout",
       "text": [
        "\n",
        "\t20654 from 1195.677 to 1224.658 seconds | 436\n",
        "\t21514 from 1226.489 to 1230.288 seconds | 58\n",
        "\t21732 from 1234.02 to 1249.094 seconds | 226\n",
        "\t22067 from 1249.154 to 1258.677 seconds | 143\n",
        "\t22560 from 1270.099 to 1274.459 seconds | 66\n",
        "\t22645 from 1274.518 to 1285.383 seconds | 164\n",
        "\t22646 from 1274.518 to 1285.383 seconds | 164\n",
        "\t22893 from 1287.255 to 1289.65 seconds | 37\n",
        "\t22953 from 1290.389 to 1293.588 seconds | 52\n",
        "--- consolidate ---"
       ]
      },
      {
       "output_type": "stream",
       "stream": "stderr",
       "text": [
        "WARNING:waldo.metrics.report_card:Collapse Group\n"
       ]
      },
      {
       "output_type": "stream",
       "stream": "stderr",
       "text": [
        "WARNING:waldo.metrics.report_card:Remove Fission-Fusion\n"
       ]
      },
      {
       "output_type": "stream",
       "stream": "stderr",
       "text": [
        "WARNING:waldo.metrics.report_card:Remove Fission-Fusion (relative)\n"
       ]
      },
      {
       "output_type": "stream",
       "stream": "stderr",
       "text": [
        "WARNING:waldo.metrics.report_card:Remove Single Descendents\n"
       ]
      },
      {
       "output_type": "stream",
       "stream": "stderr",
       "text": [
        "WARNING:waldo.network.graph:Validation pass\n"
       ]
      },
      {
       "output_type": "stream",
       "stream": "stdout",
       "text": [
        "\n",
        "collapse g\n",
        "fission-fusion\n",
        "fission-fusion rel\n",
        "remove single descendents\n",
        "Node 20654 has 0.243684992571 overlap"
       ]
      },
      {
       "output_type": "stream",
       "stream": "stderr",
       "text": [
        "WARNING:waldo.network.graph:Validation pass\n"
       ]
      },
      {
       "output_type": "stream",
       "stream": "stdout",
       "text": [
        "\n",
        "\t20654 from 1195.677 to 1224.658 seconds | 436\n",
        "\t21514 from 1226.489 to 1230.288 seconds | 58\n",
        "\t21732 from 1234.02 to 1249.094 seconds | 226\n",
        "\t22067 from 1249.154 to 1258.677 seconds | 143\n",
        "\t22560 from 1270.099 to 1274.459 seconds | 66\n",
        "\t22645 from 1274.518 to 1285.383 seconds | 164\n",
        "\t22646 from 1274.518 to 1285.383 seconds | 164\n",
        "\t22893 from 1287.255 to 1289.65 seconds | 37\n",
        "\t22953 from 1290.389 to 1293.588 seconds | 52\n",
        "--- gaps ---"
       ]
      },
      {
       "output_type": "stream",
       "stream": "stderr",
       "text": [
        "WARNING:waldo.metrics.report_card:gaps\n"
       ]
      },
      {
       "output_type": "stream",
       "stream": "stdout",
       "text": [
        "\n",
        "15"
       ]
      },
      {
       "output_type": "stream",
       "stream": "stderr",
       "text": [
        "WARNING:waldo.network.graph:Validation pass\n"
       ]
      },
      {
       "output_type": "stream",
       "stream": "stdout",
       "text": [
        " real\n",
        "143 to_missing\n",
        "142 from_missing\n",
        "104 missing_to_missing\n",
        "0 new_real\n",
        "143 failed_links\n",
        "0 missing points used up\n",
        "0 unique used\n",
        "18 max recursion\n",
        "536 missing points to start with\n",
        "536 missing points left\n",
        "Node 20654 has 0.243684992571 overlap"
       ]
      },
      {
       "output_type": "stream",
       "stream": "stderr",
       "text": [
        "WARNING:waldo.network.graph:Validation pass\n"
       ]
      },
      {
       "output_type": "stream",
       "stream": "stdout",
       "text": [
        "\n",
        "\t20654 from 1195.677 to 1224.658 seconds | 436\n",
        "\t21514 from 1226.489 to 1230.288 seconds | 58\n",
        "\t21732 from 1234.02 to 1249.094 seconds | 226\n",
        "\t22067 from 1249.154 to 1258.677 seconds | 143\n",
        "\t22560 from 1270.099 to 1274.459 seconds | 66\n",
        "\t22645 from 1274.518 to 1285.383 seconds | 164\n",
        "\t22646 from 1274.518 to 1285.383 seconds | 164\n",
        "\t22893 from 1287.255 to 1289.65 seconds | 37\n",
        "\t22953 from 1290.389 to 1293.588 seconds | 52\n",
        "collisions from bbox"
       ]
      },
      {
       "output_type": "stream",
       "stream": "stdout",
       "text": [
        "\n",
        "\t1 suspects. trying 0 again\n",
        "\t0 resolved 0%"
       ]
      },
      {
       "output_type": "stream",
       "stream": "stdout",
       "text": [
        "\n",
        "\t0 missing data 0%\n",
        "\t0 missing data, no overlap 0%\n",
        "\t1 full data, no  overlap 100%\n",
        "--- collisions ---"
       ]
      },
      {
       "output_type": "stream",
       "stream": "stderr",
       "text": [
        "WARNING:waldo.network.graph:Validation pass\n"
       ]
      },
      {
       "output_type": "stream",
       "stream": "stdout",
       "text": [
        "\n",
        "Node 20654 has 0.243684992571 overlap"
       ]
      },
      {
       "output_type": "stream",
       "stream": "stderr",
       "text": [
        "WARNING:waldo.network.graph:Validation pass\n"
       ]
      },
      {
       "output_type": "stream",
       "stream": "stdout",
       "text": [
        "\n",
        "\t20654 from 1195.677 to 1224.658 seconds | 436\n",
        "\t21514 from 1226.489 to 1230.288 seconds | 58\n",
        "\t21732 from 1234.02 to 1249.094 seconds | 226\n",
        "\t22067 from 1249.154 to 1258.677 seconds | 143\n",
        "\t22560 from 1270.099 to 1274.459 seconds | 66\n",
        "\t22645 from 1274.518 to 1285.383 seconds | 164\n",
        "\t22646 from 1274.518 to 1285.383 seconds | 164\n",
        "\t22893 from 1287.255 to 1289.65 seconds | 37\n",
        "\t22953 from 1290.389 to 1293.588 seconds | 52\n",
        "--- prune ---"
       ]
      },
      {
       "output_type": "stream",
       "stream": "stderr",
       "text": [
        "WARNING:waldo.metrics.report_card:Remove Offshoots\n"
       ]
      },
      {
       "output_type": "stream",
       "stream": "stderr",
       "text": [
        "WARNING:waldo.network.graph:Validation pass\n"
       ]
      },
      {
       "output_type": "stream",
       "stream": "stdout",
       "text": [
        "\n",
        "Node 20654 has 0.243684992571 overlap"
       ]
      },
      {
       "output_type": "stream",
       "stream": "stderr",
       "text": [
        "WARNING:waldo.network.graph:Validation pass\n"
       ]
      },
      {
       "output_type": "stream",
       "stream": "stdout",
       "text": [
        "\n",
        "\t20654 from 1195.677 to 1224.658 seconds | 436\n",
        "\t21514 from 1226.489 to 1230.288 seconds | 58\n",
        "\t21732 from 1234.02 to 1249.094 seconds | 226\n",
        "\t22067 from 1249.154 to 1258.677 seconds | 143\n",
        "\t22560 from 1270.099 to 1274.459 seconds | 66\n",
        "\t22645 from 1274.518 to 1285.383 seconds | 164\n",
        "\t22646 from 1274.518 to 1285.383 seconds | 164\n",
        "\t22893 from 1287.255 to 1289.65 seconds | 37\n",
        "\t22953 from 1290.389 to 1293.588 seconds | 52\n",
        "--- consolidate ---"
       ]
      },
      {
       "output_type": "stream",
       "stream": "stderr",
       "text": [
        "WARNING:waldo.metrics.report_card:Collapse Group\n"
       ]
      },
      {
       "output_type": "stream",
       "stream": "stderr",
       "text": [
        "WARNING:waldo.metrics.report_card:Remove Fission-Fusion\n"
       ]
      },
      {
       "output_type": "stream",
       "stream": "stderr",
       "text": [
        "WARNING:waldo.metrics.report_card:Remove Fission-Fusion (relative)\n"
       ]
      },
      {
       "output_type": "stream",
       "stream": "stderr",
       "text": [
        "WARNING:waldo.metrics.report_card:Remove Single Descendents\n"
       ]
      },
      {
       "output_type": "stream",
       "stream": "stderr",
       "text": [
        "WARNING:waldo.network.graph:Validation pass\n"
       ]
      },
      {
       "output_type": "stream",
       "stream": "stdout",
       "text": [
        "\n",
        "collapse g\n",
        "fission-fusion\n",
        "fission-fusion rel\n",
        "remove single descendents\n",
        "Node 20654 has 0.243684992571 overlap"
       ]
      },
      {
       "output_type": "stream",
       "stream": "stderr",
       "text": [
        "WARNING:waldo.network.graph:Validation pass\n"
       ]
      },
      {
       "output_type": "stream",
       "stream": "stdout",
       "text": [
        "\n",
        "\t20654 from 1195.677 to 1224.658 seconds | 436\n",
        "\t21514 from 1226.489 to 1230.288 seconds | 58\n",
        "\t21732 from 1234.02 to 1249.094 seconds | 226\n",
        "\t22067 from 1249.154 to 1258.677 seconds | 143\n",
        "\t22560 from 1270.099 to 1274.459 seconds | 66\n",
        "\t22645 from 1274.518 to 1285.383 seconds | 164\n",
        "\t22646 from 1274.518 to 1285.383 seconds | 164\n",
        "\t22893 from 1287.255 to 1289.65 seconds | 37\n",
        "\t22953 from 1290.389 to 1293.588 seconds | 52\n",
        "--- gaps ---"
       ]
      },
      {
       "output_type": "stream",
       "stream": "stderr",
       "text": [
        "WARNING:waldo.metrics.report_card:gaps\n"
       ]
      },
      {
       "output_type": "stream",
       "stream": "stdout",
       "text": [
        "\n",
        "2"
       ]
      },
      {
       "output_type": "stream",
       "stream": "stderr",
       "text": [
        "WARNING:waldo.network.graph:Validation pass\n"
       ]
      },
      {
       "output_type": "stream",
       "stream": "stdout",
       "text": [
        " real\n",
        "143 to_missing\n",
        "142 from_missing\n",
        "104 missing_to_missing\n",
        "0 new_real\n",
        "143 failed_links\n",
        "0 missing points used up\n",
        "0 unique used\n",
        "18 max recursion\n",
        "536 missing points to start with\n",
        "536 missing points left\n",
        "Node 20654 has 0.243684992571 overlap"
       ]
      },
      {
       "output_type": "stream",
       "stream": "stderr",
       "text": [
        "WARNING:waldo.network.graph:Validation pass\n"
       ]
      },
      {
       "output_type": "stream",
       "stream": "stdout",
       "text": [
        "\n",
        "\t20654 from 1195.677 to 1224.658 seconds | 436\n",
        "\t21514 from 1226.489 to 1230.288 seconds | 58\n",
        "\t21732 from 1234.02 to 1249.094 seconds | 226\n",
        "\t22067 from 1249.154 to 1258.677 seconds | 143\n",
        "\t22560 from 1270.099 to 1274.459 seconds | 66\n",
        "\t22645 from 1274.518 to 1285.383 seconds | 164\n",
        "\t22646 from 1274.518 to 1285.383 seconds | 164\n",
        "\t22893 from 1287.255 to 1289.65 seconds | 37\n",
        "\t22953 from 1290.389 to 1293.588 seconds | 52\n",
        "collisions from bbox"
       ]
      },
      {
       "output_type": "stream",
       "stream": "stdout",
       "text": [
        "\n",
        "\t1 suspects. trying 0 again"
       ]
      },
      {
       "output_type": "stream",
       "stream": "stdout",
       "text": [
        "\n",
        "\t0 resolved 0%"
       ]
      },
      {
       "output_type": "stream",
       "stream": "stdout",
       "text": [
        "\n",
        "\t0 missing data 0%\n",
        "\t0 missing data, no overlap 0%\n",
        "\t1 full data, no  overlap 100%\n",
        "--- collisions ---"
       ]
      },
      {
       "output_type": "stream",
       "stream": "stderr",
       "text": [
        "WARNING:waldo.network.graph:Validation pass\n"
       ]
      },
      {
       "output_type": "stream",
       "stream": "stdout",
       "text": [
        "\n",
        "Node 20654 has 0.243684992571 overlap"
       ]
      },
      {
       "output_type": "stream",
       "stream": "stderr",
       "text": [
        "WARNING:waldo.network.graph:Validation pass\n"
       ]
      },
      {
       "output_type": "stream",
       "stream": "stdout",
       "text": [
        "\n",
        "\t20654 from 1195.677 to 1224.658 seconds | 436\n",
        "\t21514 from 1226.489 to 1230.288 seconds | 58\n",
        "\t21732 from 1234.02 to 1249.094 seconds | 226\n",
        "\t22067 from 1249.154 to 1258.677 seconds | 143\n",
        "\t22560 from 1270.099 to 1274.459 seconds | 66\n",
        "\t22645 from 1274.518 to 1285.383 seconds | 164\n",
        "\t22646 from 1274.518 to 1285.383 seconds | 164\n",
        "\t22893 from 1287.255 to 1289.65 seconds | 37\n",
        "\t22953 from 1290.389 to 1293.588 seconds | 52\n",
        "--- prune ---"
       ]
      },
      {
       "output_type": "stream",
       "stream": "stderr",
       "text": [
        "WARNING:waldo.metrics.report_card:Remove Offshoots\n"
       ]
      },
      {
       "output_type": "stream",
       "stream": "stderr",
       "text": [
        "WARNING:waldo.network.graph:Validation pass\n"
       ]
      },
      {
       "output_type": "stream",
       "stream": "stdout",
       "text": [
        "\n",
        "Node 20654 has 0.243684992571 overlap"
       ]
      },
      {
       "output_type": "stream",
       "stream": "stderr",
       "text": [
        "WARNING:waldo.network.graph:Validation pass\n"
       ]
      },
      {
       "output_type": "stream",
       "stream": "stdout",
       "text": [
        "\n",
        "\t20654 from 1195.677 to 1224.658 seconds | 436\n",
        "\t21514 from 1226.489 to 1230.288 seconds | 58\n",
        "\t21732 from 1234.02 to 1249.094 seconds | 226\n",
        "\t22067 from 1249.154 to 1258.677 seconds | 143\n",
        "\t22560 from 1270.099 to 1274.459 seconds | 66\n",
        "\t22645 from 1274.518 to 1285.383 seconds | 164\n",
        "\t22646 from 1274.518 to 1285.383 seconds | 164\n",
        "\t22893 from 1287.255 to 1289.65 seconds | 37\n",
        "\t22953 from 1290.389 to 1293.588 seconds | 52\n",
        "--- consolidate ---"
       ]
      },
      {
       "output_type": "stream",
       "stream": "stderr",
       "text": [
        "WARNING:waldo.metrics.report_card:Collapse Group\n"
       ]
      },
      {
       "output_type": "stream",
       "stream": "stderr",
       "text": [
        "WARNING:waldo.metrics.report_card:Remove Fission-Fusion\n"
       ]
      },
      {
       "output_type": "stream",
       "stream": "stderr",
       "text": [
        "WARNING:waldo.metrics.report_card:Remove Fission-Fusion (relative)\n"
       ]
      },
      {
       "output_type": "stream",
       "stream": "stderr",
       "text": [
        "WARNING:waldo.metrics.report_card:Remove Single Descendents\n"
       ]
      },
      {
       "output_type": "stream",
       "stream": "stderr",
       "text": [
        "WARNING:waldo.network.graph:Validation pass\n"
       ]
      },
      {
       "output_type": "stream",
       "stream": "stdout",
       "text": [
        "\n",
        "collapse g\n",
        "fission-fusion\n",
        "fission-fusion rel\n",
        "remove single descendents\n",
        "Node 20654 has 0.243684992571 overlap"
       ]
      },
      {
       "output_type": "stream",
       "stream": "stderr",
       "text": [
        "WARNING:waldo.network.graph:Validation pass\n"
       ]
      },
      {
       "output_type": "stream",
       "stream": "stdout",
       "text": [
        "\n",
        "\t20654 from 1195.677 to 1224.658 seconds | 436\n",
        "\t21514 from 1226.489 to 1230.288 seconds | 58\n",
        "\t21732 from 1234.02 to 1249.094 seconds | 226\n",
        "\t22067 from 1249.154 to 1258.677 seconds | 143\n",
        "\t22560 from 1270.099 to 1274.459 seconds | 66\n",
        "\t22645 from 1274.518 to 1285.383 seconds | 164\n",
        "\t22646 from 1274.518 to 1285.383 seconds | 164\n",
        "\t22893 from 1287.255 to 1289.65 seconds | 37\n",
        "\t22953 from 1290.389 to 1293.588 seconds | 52\n",
        "--- gaps ---"
       ]
      },
      {
       "output_type": "stream",
       "stream": "stderr",
       "text": [
        "WARNING:waldo.metrics.report_card:gaps\n"
       ]
      },
      {
       "output_type": "stream",
       "stream": "stdout",
       "text": [
        "\n",
        "0"
       ]
      },
      {
       "output_type": "stream",
       "stream": "stderr",
       "text": [
        "WARNING:waldo.network.graph:Validation pass\n"
       ]
      },
      {
       "output_type": "stream",
       "stream": "stdout",
       "text": [
        " real\n",
        "143 to_missing\n",
        "142 from_missing\n",
        "104 missing_to_missing\n",
        "0 new_real\n",
        "143 failed_links\n",
        "0 missing points used up\n",
        "0 unique used\n",
        "18 max recursion\n",
        "536 missing points to start with\n",
        "536 missing points left\n",
        "Node 20654 has 0.243684992571 overlap"
       ]
      },
      {
       "output_type": "stream",
       "stream": "stderr",
       "text": [
        "WARNING:waldo.network.graph:Validation pass\n"
       ]
      },
      {
       "output_type": "stream",
       "stream": "stderr",
       "text": [
        "WARNING:waldo.metrics.report_card:No change since last iteration, halting\n"
       ]
      },
      {
       "output_type": "stream",
       "stream": "stdout",
       "text": [
        "\n",
        "\t20654 from 1195.677 to 1224.658 seconds | 436\n",
        "\t21514 from 1226.489 to 1230.288 seconds | 58\n",
        "\t21732 from 1234.02 to 1249.094 seconds | 226\n",
        "\t22067 from 1249.154 to 1258.677 seconds | 143\n",
        "\t22560 from 1270.099 to 1274.459 seconds | 66\n",
        "\t22645 from 1274.518 to 1285.383 seconds | 164\n",
        "\t22646 from 1274.518 to 1285.383 seconds | 164\n",
        "\t22893 from 1287.255 to 1289.65 seconds | 37\n",
        "\t22953 from 1290.389 to 1293.588 seconds | 52\n"
       ]
      }
     ],
     "prompt_number": 14
    },
    {
     "cell_type": "code",
     "collapsed": false,
     "input": [
      "def plot_report_df(df):\n",
      "    # reformat df contents\n",
      "    d = df[['phase', 'connected-nodes', 'total-nodes']][::-1]\n",
      "    d = d.drop_duplicates('phase', take_last=False)\n",
      "    d = d.set_index('phase')\n",
      "\n",
      "    # create plot\n",
      "    fig = plt.figure()\n",
      "    ax = plt.subplot(axisbg='white')\n",
      "    d.plot(ax=ax, kind='barh')\n",
      "    ax.set_xlabel('Number of Track Fragments', size=15)\n",
      "    ax.legend(frameon=False, loc=(1.01, 0.7), fontsize=15)\n",
      "    ax.set_ylabel('phase', size=15)\n",
      "    plt.yticks(fontsize=12)\n",
      "    plt.xticks(fontsize=12)\n",
      "    #plt.tight_layout()\n",
      "    plt.show()\n",
      "\n",
      "\n",
      "# df = ws.report_card.report(show=False)   # how these dataframes are generated\n",
      "df = report_df1.copy()\n",
      "plot_report_df(df)"
     ],
     "language": "python",
     "metadata": {},
     "outputs": [
      {
       "metadata": {},
       "output_type": "display_data",
       "png": "[encoded data removed]",
       "text": [
        "<matplotlib.figure.Figure at 0x7f5f741dad10>"
       ]
      }
     ],
     "prompt_number": 85
    },
    {
     "cell_type": "code",
     "collapsed": false,
     "input": [
      "df = report_df2.copy()\n",
      "plot_report_df(df)"
     ],
     "language": "python",
     "metadata": {},
     "outputs": [
      {
       "metadata": {},
       "output_type": "display_data",
       "png": "[encoded data removed]",
       "text": [
        "<matplotlib.figure.Figure at 0x7f5f74d06b50>"
       ]
      }
     ],
     "prompt_number": 86
    },
    {
     "cell_type": "code",
     "collapsed": false,
     "input": [],
     "language": "python",
     "metadata": {},
     "outputs": []
    }
   ],
   "metadata": {}
  }
 ]
}