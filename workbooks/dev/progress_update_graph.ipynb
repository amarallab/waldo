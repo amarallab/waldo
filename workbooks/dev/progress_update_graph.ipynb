{
 "cells": [
  {
   "cell_type": "code",
   "execution_count": 1,
   "metadata": {
    "collapsed": false
   },
   "outputs": [],
   "source": [
    "%load_ext autoreload\n",
    "%autoreload 2\n",
    "\n",
    "%matplotlib inline"
   ]
  },
  {
   "cell_type": "code",
   "execution_count": 2,
   "metadata": {
    "collapsed": false
   },
   "outputs": [
    {
     "name": "stdout",
     "output_type": "stream",
     "text": [
      "Python 2.7.6 (default, Sep  9 2014 15:04:36) [GCC 4.2.1 Compatible Apple LLVM 6.0 (clang-600.0.39)] on darwin, Host: ChemE-87.chem-eng.northwestern.edu\n"
     ]
    }
   ],
   "source": [
    "import sys\n",
    "import os\n",
    "import pathlib\n",
    "\n",
    "sys.path.append('..')\n",
    "import about\n",
    "import pathcustomize\n",
    "import pandas as pd\n",
    "\n",
    "from waldo.conf import settings\n",
    "from waldo.wio.experiment import Experiment\n",
    "from waldo.metrics.report_card import WaldoSolver\n",
    "import matplotlib.pyplot as plt\n",
    "\n",
    "\n",
    "#plt.style.use('bmh')\n",
    "about.about()"
   ]
  },
  {
   "cell_type": "code",
   "execution_count": 5,
   "metadata": {
    "collapsed": false
   },
   "outputs": [],
   "source": [
    "eid = '20130318_131111'\n",
    "experiment = Experiment(experiment_id=eid)\n",
    "graph = experiment.graph.copy()"
   ]
  },
  {
   "cell_type": "code",
   "execution_count": 6,
   "metadata": {
    "collapsed": false,
    "scrolled": false
   },
   "outputs": [
    {
     "name": "stdout",
     "output_type": "stream",
     "text": [
      "collisions from bbox\n",
      "\t67 suspects. trying 0 again\n",
      "\t19 suspects. trying 0 again\n",
      "\t5 suspects. trying 0 again\n",
      "\t2 suspects. trying 0 again\n",
      "\t1 suspects. trying 0 again\n",
      "\t1 suspects. trying 0 again\n",
      "\t58 resolved 61%\n",
      "\t2 missing data 2%\n",
      "\t0 missing data, no overlap 0%\n",
      "\t37 full data, no  overlap 38%\n",
      "--- collisions ---"
     ]
    },
    {
     "name": "stderr",
     "output_type": "stream",
     "text": [
      "WARNING:waldo.network.graph:Validation pass\n"
     ]
    },
    {
     "name": "stdout",
     "output_type": "stream",
     "text": [
      "\n",
      "--- prune ---"
     ]
    },
    {
     "name": "stderr",
     "output_type": "stream",
     "text": [
      "WARNING:waldo.metrics.report_card:Remove Offshoots\n",
      "WARNING:waldo.network.graph:Validation pass\n"
     ]
    },
    {
     "name": "stdout",
     "output_type": "stream",
     "text": [
      "\n",
      "--- consolidate ---"
     ]
    },
    {
     "name": "stderr",
     "output_type": "stream",
     "text": [
      "WARNING:waldo.metrics.report_card:Collapse Group\n",
      "WARNING:waldo.metrics.report_card:Remove Fission-Fusion\n"
     ]
    },
    {
     "name": "stdout",
     "output_type": "stream",
     "text": [
      "\n",
      "collapse g\n",
      "fission-fusion\n",
      "fission-fusion rel"
     ]
    },
    {
     "name": "stderr",
     "output_type": "stream",
     "text": [
      "WARNING:waldo.metrics.report_card:Remove Fission-Fusion (relative)\n"
     ]
    },
    {
     "name": "stdout",
     "output_type": "stream",
     "text": [
      "\n",
      "remove single descendents"
     ]
    },
    {
     "name": "stderr",
     "output_type": "stream",
     "text": [
      "WARNING:waldo.metrics.report_card:Remove Single Descendents\n",
      "WARNING:waldo.network.graph:Validation pass\n"
     ]
    },
    {
     "name": "stdout",
     "output_type": "stream",
     "text": [
      "\n",
      "--- gaps ---"
     ]
    },
    {
     "name": "stderr",
     "output_type": "stream",
     "text": [
      "WARNING:waldo.metrics.report_card:gaps\n"
     ]
    },
    {
     "name": "stdout",
     "output_type": "stream",
     "text": [
      "\n",
      "580"
     ]
    },
    {
     "name": "stderr",
     "output_type": "stream",
     "text": [
      "../../code/waldo/network/graph.py:410: Warning: bridge_gaps() trying to connect non-existant nodes\n",
      "  warnings.warn('bridge_gaps() trying to connect non-existant nodes', Warning)\n",
      "WARNING:waldo.network.graph:Validation pass\n"
     ]
    },
    {
     "name": "stdout",
     "output_type": "stream",
     "text": [
      " real\n",
      "117 to_missing\n",
      "116 from_missing\n",
      "27 missing_to_missing\n",
      "43 new_real\n",
      "74 failed_links\n",
      "149 missing points used up\n",
      "75 unique used\n",
      "7 max recursion\n",
      "320 missing points to start with\n",
      "245 missing points left\n",
      "collisions from bbox\n",
      "\t21 suspects. trying 0 again\n",
      "\t7 suspects. trying 0 again\n",
      "\t6 suspects. trying 0 again\n",
      "\t4 suspects. trying 0 again\n",
      "\t2 suspects. trying 0 again\n",
      "\t0 suspects. trying 0 again\n",
      "\t34 resolved 85%\n",
      "\t0 missing data 0%\n",
      "\t0 missing data, no overlap 0%\n",
      "\t6 full data, no  overlap 15%\n",
      "--- collisions ---"
     ]
    },
    {
     "name": "stderr",
     "output_type": "stream",
     "text": [
      "WARNING:waldo.network.graph:Validation pass\n",
      "WARNING:waldo.metrics.report_card:Remove Offshoots\n",
      "WARNING:waldo.network.graph:Validation pass\n"
     ]
    },
    {
     "name": "stdout",
     "output_type": "stream",
     "text": [
      "\n",
      "--- prune ---\n",
      "--- consolidate ---"
     ]
    },
    {
     "name": "stderr",
     "output_type": "stream",
     "text": [
      "WARNING:waldo.metrics.report_card:Collapse Group\n",
      "WARNING:waldo.metrics.report_card:Remove Fission-Fusion\n"
     ]
    },
    {
     "name": "stdout",
     "output_type": "stream",
     "text": [
      "\n",
      "collapse g\n",
      "fission-fusion\n",
      "fission-fusion rel"
     ]
    },
    {
     "name": "stderr",
     "output_type": "stream",
     "text": [
      "WARNING:waldo.metrics.report_card:Remove Fission-Fusion (relative)\n"
     ]
    },
    {
     "name": "stdout",
     "output_type": "stream",
     "text": [
      "\n",
      "remove single descendents"
     ]
    },
    {
     "name": "stderr",
     "output_type": "stream",
     "text": [
      "WARNING:waldo.metrics.report_card:Remove Single Descendents\n",
      "WARNING:waldo.network.graph:Validation pass\n"
     ]
    },
    {
     "name": "stdout",
     "output_type": "stream",
     "text": [
      "\n",
      "--- gaps ---"
     ]
    },
    {
     "name": "stderr",
     "output_type": "stream",
     "text": [
      "WARNING:waldo.metrics.report_card:gaps\n"
     ]
    },
    {
     "name": "stdout",
     "output_type": "stream",
     "text": [
      "\n",
      "188"
     ]
    },
    {
     "name": "stderr",
     "output_type": "stream",
     "text": [
      "WARNING:waldo.network.graph:Validation pass\n"
     ]
    },
    {
     "name": "stdout",
     "output_type": "stream",
     "text": [
      " real\n",
      "89 to_missing\n",
      "93 from_missing\n",
      "19 missing_to_missing\n",
      "3 new_real\n",
      "86 failed_links\n",
      "8 missing points used up\n",
      "6 unique used\n",
      "4 max recursion\n",
      "245 missing points to start with\n",
      "239 missing points left\n",
      "collisions from bbox\n",
      "\t1 suspects. trying 0 again\n",
      "\t0 resolved 0%\n",
      "\t0 missing data 0%\n",
      "\t0 missing data, no overlap 0%\n",
      "\t1 full data, no  overlap 100%\n",
      "--- collisions ---"
     ]
    },
    {
     "name": "stderr",
     "output_type": "stream",
     "text": [
      "WARNING:waldo.network.graph:Validation pass\n",
      "WARNING:waldo.metrics.report_card:Remove Offshoots\n",
      "WARNING:waldo.network.graph:Validation pass\n"
     ]
    },
    {
     "name": "stdout",
     "output_type": "stream",
     "text": [
      "\n",
      "--- prune ---\n",
      "--- consolidate ---"
     ]
    },
    {
     "name": "stderr",
     "output_type": "stream",
     "text": [
      "WARNING:waldo.metrics.report_card:Collapse Group\n",
      "WARNING:waldo.metrics.report_card:Remove Fission-Fusion\n",
      "WARNING:waldo.metrics.report_card:Remove Fission-Fusion (relative)\n",
      "WARNING:waldo.metrics.report_card:Remove Single Descendents\n",
      "WARNING:waldo.network.graph:Validation pass\n"
     ]
    },
    {
     "name": "stdout",
     "output_type": "stream",
     "text": [
      "\n",
      "collapse g\n",
      "fission-fusion\n",
      "fission-fusion rel\n",
      "remove single descendents\n",
      "--- gaps ---"
     ]
    },
    {
     "name": "stderr",
     "output_type": "stream",
     "text": [
      "WARNING:waldo.metrics.report_card:gaps\n"
     ]
    },
    {
     "name": "stdout",
     "output_type": "stream",
     "text": [
      "\n",
      "47"
     ]
    },
    {
     "name": "stderr",
     "output_type": "stream",
     "text": [
      "WARNING:waldo.network.graph:Validation pass\n"
     ]
    },
    {
     "name": "stdout",
     "output_type": "stream",
     "text": [
      " real\n",
      "87 to_missing\n",
      "91 from_missing\n",
      "20 missing_to_missing\n",
      "2 new_real\n",
      "85 failed_links\n",
      "4 missing points used up\n",
      "4 unique used\n",
      "4 max recursion\n",
      "239 missing points to start with\n",
      "235 missing points left\n",
      "collisions from bbox\n",
      "\t1 suspects. trying 0 again\n",
      "\t0 resolved 0%\n",
      "\t0 missing data 0%\n",
      "\t0 missing data, no overlap 0%\n",
      "\t1 full data, no  overlap 100%\n",
      "--- collisions ---"
     ]
    },
    {
     "name": "stderr",
     "output_type": "stream",
     "text": [
      "WARNING:waldo.network.graph:Validation pass\n",
      "WARNING:waldo.metrics.report_card:Remove Offshoots\n",
      "WARNING:waldo.network.graph:Validation pass\n"
     ]
    },
    {
     "name": "stdout",
     "output_type": "stream",
     "text": [
      "\n",
      "--- prune ---\n",
      "--- consolidate ---"
     ]
    },
    {
     "name": "stderr",
     "output_type": "stream",
     "text": [
      "WARNING:waldo.metrics.report_card:Collapse Group\n",
      "WARNING:waldo.metrics.report_card:Remove Fission-Fusion\n",
      "WARNING:waldo.metrics.report_card:Remove Fission-Fusion (relative)\n",
      "WARNING:waldo.metrics.report_card:Remove Single Descendents\n",
      "WARNING:waldo.network.graph:Validation pass\n"
     ]
    },
    {
     "name": "stdout",
     "output_type": "stream",
     "text": [
      "\n",
      "collapse g\n",
      "fission-fusion\n",
      "fission-fusion rel\n",
      "remove single descendents\n",
      "--- gaps ---"
     ]
    },
    {
     "name": "stderr",
     "output_type": "stream",
     "text": [
      "WARNING:waldo.metrics.report_card:gaps\n"
     ]
    },
    {
     "name": "stdout",
     "output_type": "stream",
     "text": [
      "\n",
      "12"
     ]
    },
    {
     "name": "stderr",
     "output_type": "stream",
     "text": [
      "WARNING:waldo.network.graph:Validation pass\n"
     ]
    },
    {
     "name": "stdout",
     "output_type": "stream",
     "text": [
      " real\n",
      "87 to_missing\n",
      "89 from_missing\n",
      "19 missing_to_missing\n",
      "0 new_real\n",
      "87 failed_links\n",
      "0 missing points used up\n",
      "0 unique used\n",
      "4 max recursion\n",
      "235 missing points to start with\n",
      "235 missing points left\n",
      "collisions from bbox\n",
      "\t1 suspects. trying 0 again\n",
      "\t0 resolved 0%\n",
      "\t0 missing data 0%\n",
      "\t0 missing data, no overlap 0%\n",
      "\t1 full data, no  overlap 100%\n",
      "--- collisions ---"
     ]
    },
    {
     "name": "stderr",
     "output_type": "stream",
     "text": [
      "WARNING:waldo.network.graph:Validation pass\n",
      "WARNING:waldo.metrics.report_card:Remove Offshoots\n",
      "WARNING:waldo.network.graph:Validation pass\n"
     ]
    },
    {
     "name": "stdout",
     "output_type": "stream",
     "text": [
      "\n",
      "--- prune ---\n",
      "--- consolidate ---"
     ]
    },
    {
     "name": "stderr",
     "output_type": "stream",
     "text": [
      "WARNING:waldo.metrics.report_card:Collapse Group\n",
      "WARNING:waldo.metrics.report_card:Remove Fission-Fusion\n",
      "WARNING:waldo.metrics.report_card:Remove Fission-Fusion (relative)\n",
      "WARNING:waldo.metrics.report_card:Remove Single Descendents\n",
      "WARNING:waldo.network.graph:Validation pass\n"
     ]
    },
    {
     "name": "stdout",
     "output_type": "stream",
     "text": [
      "\n",
      "collapse g\n",
      "fission-fusion\n",
      "fission-fusion rel\n",
      "remove single descendents\n",
      "--- gaps ---"
     ]
    },
    {
     "name": "stderr",
     "output_type": "stream",
     "text": [
      "WARNING:waldo.metrics.report_card:gaps\n"
     ]
    },
    {
     "name": "stdout",
     "output_type": "stream",
     "text": [
      "\n",
      "0"
     ]
    },
    {
     "name": "stderr",
     "output_type": "stream",
     "text": [
      "WARNING:waldo.network.graph:Validation pass\n",
      "WARNING:waldo.metrics.report_card:No change since last iteration, halting\n"
     ]
    },
    {
     "name": "stdout",
     "output_type": "stream",
     "text": [
      " real\n",
      "87 to_missing\n",
      "89 from_missing\n",
      "19 missing_to_missing\n",
      "0 new_real\n",
      "87 failed_links\n",
      "0 missing points used up\n",
      "0 unique used\n",
      "4 max recursion\n",
      "235 missing points to start with\n",
      "235 missing points left\n"
     ]
    }
   ],
   "source": [
    "ws = WaldoSolver(experiment=experiment, graph=graph)\n",
    "ws.initial_clean()\n",
    "report_df1 = ws.report_card.report(show=False)\n",
    "ws.solve()\n",
    "report_df2 = ws.report_card.report(show=False)"
   ]
  },
  {
   "cell_type": "code",
   "execution_count": 7,
   "metadata": {
    "collapsed": false
   },
   "outputs": [
    {
     "data": {
      "image/png": "[encoded data removed]",
      "text/plain": [
       "<matplotlib.figure.Figure at 0x10be900d0>"
      ]
     },
     "metadata": {},
     "output_type": "display_data"
    }
   ],
   "source": [
    "def plot_report_df(df):\n",
    "    # reformat df contents\n",
    "    d = df[['phase', 'connected-nodes', 'total-nodes']][::-1]\n",
    "    d = d.drop_duplicates('phase', take_last=False)\n",
    "    d = d.set_index('phase')\n",
    "\n",
    "    # create plot\n",
    "    fig = plt.figure()\n",
    "    ax = plt.subplot(axisbg='white')\n",
    "    d.plot(ax=ax, kind='barh')\n",
    "    ax.set_xlabel('Number of Track Fragments', size=15)\n",
    "    ax.legend(frameon=False, loc=(1.01, 0.7), fontsize=15)\n",
    "    ax.set_ylabel('phase', size=15)\n",
    "    plt.yticks(fontsize=12)\n",
    "    plt.xticks(fontsize=12)\n",
    "    #plt.tight_layout()\n",
    "    plt.show()\n",
    "\n",
    "\n",
    "# df = ws.report_card.report(show=False)   # how these dataframes are generated\n",
    "df = report_df1.copy()\n",
    "plot_report_df(df)"
   ]
  },
  {
   "cell_type": "code",
   "execution_count": 8,
   "metadata": {
    "collapsed": false
   },
   "outputs": [
    {
     "data": {
      "image/png": "[encoded data removed]",
      "text/plain": [
       "<matplotlib.figure.Figure at 0x10c721550>"
      ]
     },
     "metadata": {},
     "output_type": "display_data"
    }
   ],
   "source": [
    "df = report_df2.copy()\n",
    "plot_report_df(df)"
   ]
  },
  {
   "cell_type": "code",
   "execution_count": 43,
   "metadata": {
    "collapsed": false,
    "scrolled": false
   },
   "outputs": [
    {
     "name": "stdout",
     "output_type": "stream",
     "text": [
      "['add_subplot', 'subplotpars', 'subplots_adjust']\n"
     ]
    },
    {
     "data": {
      "image/png": "[encoded data removed]",
      "text/plain": [
       "<matplotlib.figure.Figure at 0x104d94490>"
      ]
     },
     "metadata": {},
     "output_type": "display_data"
    },
    {
     "data": {
      "image/png": "[encoded data removed]",
      "text/plain": [
       "<IPython.core.display.Image object>"
      ]
     },
     "execution_count": 43,
     "metadata": {},
     "output_type": "execute_result"
    }
   ],
   "source": [
    "d = df[['phase', 'connected-nodes', 'total-nodes']][::-1]\n",
    "d = d.drop_duplicates('phase', take_last=False)\n",
    "d = d.set_index('phase')\n",
    "\n",
    "fig = plt.figure(figsize=(24, 12))\n",
    "ax = plt.subplot(axisbg='white')\n",
    "d.plot(ax=ax, kind='barh')\n",
    "ax.set_xlabel('Number of Track Fragments', size=15)\n",
    "lgd = ax.legend(frameon=False, loc=(1.01, 0.7), fontsize=15)\n",
    "ax.set_ylabel('phase', size=15)\n",
    "print([x for x in dir(fig) if 'subpl' in x])\n",
    "fig.tight_layout()\n",
    "plt.subplots_adjust(right=0.5)\n",
    "fig.savefig('pepe.png') #, bbox_extra_artists=(lgd,), bbox_inches='tight')\n",
    "plt.show()\n",
    "\n",
    "from IPython.display import Image\n",
    "Image(filename='pepe.png') "
   ]
  },
  {
   "cell_type": "code",
   "execution_count": null,
   "metadata": {
    "collapsed": false,
    "scrolled": false
   },
   "outputs": [],
   "source": []
  },
  {
   "cell_type": "code",
   "execution_count": null,
   "metadata": {
    "collapsed": true
   },
   "outputs": [],
   "source": []
  }
 ],
 "metadata": {
  "kernelspec": {
   "display_name": "Python 2",
   "language": "python",
   "name": "python2"
  },
  "language_info": {
   "codemirror_mode": {
    "name": "ipython",
    "version": 2
   },
   "file_extension": ".py",
   "mimetype": "text/x-python",
   "name": "python",
   "nbconvert_exporter": "python",
   "pygments_lexer": "ipython2",
   "version": "2.7.6"
  }
 },
 "nbformat": 4,
 "nbformat_minor": 0
}
