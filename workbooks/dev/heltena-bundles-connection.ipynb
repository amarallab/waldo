{
 "metadata": {
  "name": "",
  "signature": "sha256:d0e5ec3bac3a0a1f836665510e7c5ad92134e2b09505d2d93502a1154e58a87c"
 },
 "nbformat": 3,
 "nbformat_minor": 0,
 "worksheets": [
  {
   "cells": [
    {
     "cell_type": "markdown",
     "metadata": {},
     "source": [
      "<img src=\"http://img2.wikia.nocookie.net/__cb20110515211858/half-life/en/images/6/6d/Super_button_p2_blue.jpg\" width=\"200\"/>\n",
      "<center><h1>Developing the Amazing Super-Connector Blackholes</h1></center><br />"
     ]
    },
    {
     "cell_type": "code",
     "collapsed": false,
     "input": [
      "%load_ext autoreload\n",
      "%autoreload 2\n",
      "%matplotlib inline"
     ],
     "language": "python",
     "metadata": {},
     "outputs": [],
     "prompt_number": 2
    },
    {
     "cell_type": "code",
     "collapsed": false,
     "input": [
      "import itertools\n",
      "import math\n",
      "import pickle"
     ],
     "language": "python",
     "metadata": {},
     "outputs": [],
     "prompt_number": 3
    },
    {
     "cell_type": "heading",
     "level": 1,
     "metadata": {},
     "source": [
      "Geometry"
     ]
    },
    {
     "cell_type": "code",
     "collapsed": false,
     "input": [
      "def dist_2d(c1, c2):\n",
      "    xc = c1[0] - c2[0]\n",
      "    yc = c1[1] - c2[1]\n",
      "    return math.hypot(xc, yc)\n",
      "def dist_3d(c1, c2):\n",
      "    d = [c1[i]-c2[i] for i in range(3)]\n",
      "    return math.sqrt(sum([x * x for x in d]))\n",
      "def angle_2d(p1, p2):\n",
      "    dx = p2[0] - p1[0]\n",
      "    dy = p2[1] - p1[1]\n",
      "    return math.atan2(dy, dx) % (2 * math.pi)"
     ],
     "language": "python",
     "metadata": {},
     "outputs": [],
     "prompt_number": 4
    },
    {
     "cell_type": "code",
     "collapsed": false,
     "input": [
      "class DataRow:\n",
      "    def __init__(self, id, t0, tN, x0, xN, y0, yN):\n",
      "        self.id = id\n",
      "        self.begin = (x0, y0, t0)\n",
      "        self.end = (xN, yN, tN)\n",
      "    def __repr__(self):\n",
      "        return \"(%d, [%f:%f,%f]->[%f:%f,%f])\" % tuple([self.id] + list(self.begin) + list(self.end))"
     ],
     "language": "python",
     "metadata": {},
     "outputs": [],
     "prompt_number": 5
    },
    {
     "cell_type": "code",
     "collapsed": false,
     "input": [
      "BASEDIR = \"/home/projects/worm_movement/Data/dev\"\n",
      "PREFIX = \"20130318_131111\""
     ],
     "language": "python",
     "metadata": {},
     "outputs": [],
     "prompt_number": 14
    },
    {
     "cell_type": "code",
     "collapsed": false,
     "input": [
      "# LOAD NETWORK\n",
      "FILENAME = \"{base}/collider_networks/{prefix}_graphcache2.pkl\".format(base=BASEDIR, prefix=PREFIX)\n",
      "with open(FILENAME, \"r\") as f:\n",
      "    network = pickle.load(f)"
     ],
     "language": "python",
     "metadata": {},
     "outputs": [],
     "prompt_number": 15
    },
    {
     "cell_type": "code",
     "collapsed": false,
     "input": [
      "import pandas as pd\n",
      "FILENAME = \"{base}/prep/{prefix}/{prefix}-terminals.csv\".format(base=BASEDIR, prefix=PREFIX)\n",
      "term = pd.read_csv(FILENAME, index_col=False, header=0, squeeze=True)\n",
      "term = term.sort('t0', ascending=True)\n",
      "term.head()"
     ],
     "language": "python",
     "metadata": {},
     "outputs": [
      {
       "html": [
        "<div style=\"max-height:1000px;max-width:1500px;overflow:auto;\">\n",
        "<table border=\"1\" class=\"dataframe\">\n",
        "  <thead>\n",
        "    <tr style=\"text-align: right;\">\n",
        "      <th></th>\n",
        "      <th>bid</th>\n",
        "      <th>t0</th>\n",
        "      <th>tN</th>\n",
        "      <th>x0</th>\n",
        "      <th>xN</th>\n",
        "      <th>y0</th>\n",
        "      <th>yN</th>\n",
        "    </tr>\n",
        "  </thead>\n",
        "  <tbody>\n",
        "    <tr>\n",
        "      <th>0</th>\n",
        "      <td> 1</td>\n",
        "      <td> 0.009</td>\n",
        "      <td>  3.351</td>\n",
        "      <td>  55.382</td>\n",
        "      <td>   51.704</td>\n",
        "      <td> 1375.691</td>\n",
        "      <td> 1382.070</td>\n",
        "    </tr>\n",
        "    <tr>\n",
        "      <th>1</th>\n",
        "      <td> 2</td>\n",
        "      <td> 0.009</td>\n",
        "      <td> 34.724</td>\n",
        "      <td> 845.672</td>\n",
        "      <td>  571.965</td>\n",
        "      <td>  116.441</td>\n",
        "      <td>  235.383</td>\n",
        "    </tr>\n",
        "    <tr>\n",
        "      <th>2</th>\n",
        "      <td> 3</td>\n",
        "      <td> 0.009</td>\n",
        "      <td>  0.482</td>\n",
        "      <td> 927.827</td>\n",
        "      <td>  929.834</td>\n",
        "      <td> 1788.156</td>\n",
        "      <td> 1789.629</td>\n",
        "    </tr>\n",
        "    <tr>\n",
        "      <th>3</th>\n",
        "      <td> 4</td>\n",
        "      <td> 0.009</td>\n",
        "      <td>  7.348</td>\n",
        "      <td> 997.388</td>\n",
        "      <td> 1078.856</td>\n",
        "      <td>  869.995</td>\n",
        "      <td>  890.379</td>\n",
        "    </tr>\n",
        "    <tr>\n",
        "      <th>4</th>\n",
        "      <td> 5</td>\n",
        "      <td> 0.084</td>\n",
        "      <td>  9.355</td>\n",
        "      <td> 269.972</td>\n",
        "      <td>  294.169</td>\n",
        "      <td> 1986.329</td>\n",
        "      <td> 2065.304</td>\n",
        "    </tr>\n",
        "  </tbody>\n",
        "</table>\n",
        "</div>"
       ],
       "metadata": {},
       "output_type": "pyout",
       "prompt_number": 17,
       "text": [
        "   bid     t0      tN       x0        xN        y0        yN\n",
        "0    1  0.009   3.351   55.382    51.704  1375.691  1382.070\n",
        "1    2  0.009  34.724  845.672   571.965   116.441   235.383\n",
        "2    3  0.009   0.482  927.827   929.834  1788.156  1789.629\n",
        "3    4  0.009   7.348  997.388  1078.856   869.995   890.379\n",
        "4    5  0.084   9.355  269.972   294.169  1986.329  2065.304"
       ]
      }
     ],
     "prompt_number": 17
    },
    {
     "cell_type": "code",
     "collapsed": false,
     "input": [
      "FILENAME = \"{base}/prep/{prefix}/{prefix}-sizes.csv\".format(base=BASEDIR, prefix=PREFIX)\n",
      "sizes = pd.read_csv(FILENAME, index_col=False, header=0, squeeze=True)\n",
      "sizes['area_median'].mean(axis=1)"
     ],
     "language": "python",
     "metadata": {},
     "outputs": [
      {
       "metadata": {},
       "output_type": "pyout",
       "prompt_number": 42,
       "text": [
        "122.57534289276808"
       ]
      }
     ],
     "prompt_number": 42
    },
    {
     "cell_type": "code",
     "collapsed": false,
     "input": [
      "network[3863]"
     ],
     "language": "python",
     "metadata": {},
     "outputs": [
      {
       "ename": "KeyError",
       "evalue": "3863",
       "output_type": "pyerr",
       "traceback": [
        "\u001b[0;31m---------------------------------------------------------------------------\u001b[0m\n\u001b[0;31mKeyError\u001b[0m                                  Traceback (most recent call last)",
        "\u001b[0;32m<ipython-input-47-7436584fa207>\u001b[0m in \u001b[0;36m<module>\u001b[0;34m()\u001b[0m\n\u001b[0;32m----> 1\u001b[0;31m \u001b[0mnetwork\u001b[0m\u001b[0;34m[\u001b[0m\u001b[0;36m3863\u001b[0m\u001b[0;34m]\u001b[0m\u001b[0;34m\u001b[0m\u001b[0m\n\u001b[0m",
        "\u001b[0;32m/Library/Python/2.7/site-packages/networkx/classes/graph.pyc\u001b[0m in \u001b[0;36m__getitem__\u001b[0;34m(self, n)\u001b[0m\n\u001b[1;32m    317\u001b[0m         \u001b[0;34m{\u001b[0m\u001b[0;36m1\u001b[0m\u001b[0;34m:\u001b[0m \u001b[0;34m{\u001b[0m\u001b[0;34m}\u001b[0m\u001b[0;34m}\u001b[0m\u001b[0;34m\u001b[0m\u001b[0m\n\u001b[1;32m    318\u001b[0m         \"\"\"\n\u001b[0;32m--> 319\u001b[0;31m         \u001b[0;32mreturn\u001b[0m \u001b[0mself\u001b[0m\u001b[0;34m.\u001b[0m\u001b[0madj\u001b[0m\u001b[0;34m[\u001b[0m\u001b[0mn\u001b[0m\u001b[0;34m]\u001b[0m\u001b[0;34m\u001b[0m\u001b[0m\n\u001b[0m\u001b[1;32m    320\u001b[0m \u001b[0;34m\u001b[0m\u001b[0m\n\u001b[1;32m    321\u001b[0m \u001b[0;34m\u001b[0m\u001b[0m\n",
        "\u001b[0;31mKeyError\u001b[0m: 3863"
       ]
      }
     ],
     "prompt_number": 47
    },
    {
     "cell_type": "code",
     "collapsed": false,
     "input": [
      "for x in [2, 371, 372, 373]:\n",
      "    values = term[term['bid']==x]\n",
      "    p0 = tuple(int(values[v]) for v in ['x0', 'y0', 't0']) \n",
      "    pN = tuple(int(values[v]) for v in ['xN', 'yN', 'tN']) \n",
      "    area = float(sizes[sizes['bid']==x]['area_median'])\n",
      "    print \"%4d  area: %9.2f %s %s\" % (x, area, p0, pN)"
     ],
     "language": "python",
     "metadata": {},
     "outputs": [
      {
       "output_type": "stream",
       "stream": "stdout",
       "text": [
        "   2  area:    184.00 (845, 116, 0) (571, 235, 34)\n",
        " 371  area:     50.00 (578, 224, 34) (578, 224, 34)\n",
        " 372  area:     81.00 (567, 242, 34) (567, 242, 34)\n",
        " 373  area:    137.50 (571, 236, 34) (562, 252, 36)\n"
       ]
      }
     ],
     "prompt_number": 37
    },
    {
     "cell_type": "code",
     "collapsed": false,
     "input": [
      "MAX_CELERITY = 5  # pixel / seconds\n",
      "MAX_TIME = 5\n",
      "OFFSET = 10 # pixels added to the radius of the cone\n",
      "\n",
      "def dist_2d(c1, c2):\n",
      "    xc = c1[0] - c2[0]\n",
      "    yc = c1[1] - c2[1]\n",
      "    return math.hypot(xc, yc)\n",
      "\n",
      "def dist_3d(c1, c2):\n",
      "    d = [c1[i]-c2[i] for i in range(3)]\n",
      "    return math.sqrt(sum([x * x for x in d]))\n",
      "\n",
      "# dl is an array of DataRow ordered by \"begin time\"\n",
      "def index_of_data_with_begin_time_greater_than(dl, t):\n",
      "    first = 0\n",
      "    last = len(dl)\n",
      "    while abs(first - last) > 1:\n",
      "        middle = (first + last) / 2\n",
      "        middle_value = dl.iloc[middle]['t0']\n",
      "        if middle_value < t:\n",
      "            first = middle\n",
      "        else:\n",
      "            last = middle\n",
      "    while first < len(dl) and dl.iloc[first]['t0'] <= t:\n",
      "        first += 1\n",
      "    return first\n",
      "\n",
      "def inside_time_cone(tail_pos, head_pos, max_celerity, max_time, offset):\n",
      "    if tail_pos == head_pos:\n",
      "        return True\n",
      "    dt = head_pos[2] - tail_pos[2]\n",
      "    if dt < 0 or dt >= max_time:\n",
      "        return False\n",
      "    radius = offset + max_celerity * dt\n",
      "    return dist_2d(tail_pos, head_pos) < radius\n",
      "\n",
      "def calculate_score(tail_pos, head_pos):\n",
      "    dist = dist_3d(tail_pos, head_pos)\n",
      "    if dist == 0:\n",
      "        return 10000.0\n",
      "    else:\n",
      "        return 1.0/dist\n",
      "\n",
      "data_index_nodes = set(term['bid'])\n",
      "in_index_nodes = set([x for x in network.nodes() if len(network.predecessors(x)) == 0]) & data_index_nodes\n",
      "out_index_nodes = set([x for x in network.nodes() if len(network.successors(x)) == 0]) & data_index_nodes\n",
      "term['useful_in'] = term['bid'].apply(lambda x: x in in_index_nodes)\n",
      "term['useful_out'] = term['bid'].apply(lambda x: x in out_index_nodes)\n",
      "in_nodes = term[term['useful_in']]\n",
      "out_nodes = term[term['useful_out']]\n",
      "\n",
      "proposed_relations = []\n",
      "for count, out in out_nodes.iterrows():\n",
      "    out_pos = (out['xN'], out['yN'], out['tN'])\n",
      "    index = index_of_data_with_begin_time_greater_than(in_nodes, out['tN'])\n",
      "    while index < len(in_nodes):\n",
      "        current = in_nodes.iloc[index]\n",
      "        current_pos = (current['x0'], current['y0'], current['t0'])\n",
      "        if inside_time_cone(out_pos, current_pos, MAX_CELERITY, MAX_TIME, OFFSET):\n",
      "            score = calculate_score(out, current)\n",
      "            proposed_relations.append((score, out, current))\n",
      "        index += 1"
     ],
     "language": "python",
     "metadata": {},
     "outputs": [],
     "prompt_number": 74
    },
    {
     "cell_type": "code",
     "collapsed": false,
     "input": [
      "relations = []\n",
      "tmp_proposed_relations = sorted(proposed_relations, key=lambda x: x[0]) # order by score\n",
      "while len(tmp_proposed_relations) > 0:  \n",
      "    score, tail, head = tmp_proposed_relations.pop()\n",
      "    relations.append((score, tail, head))\n",
      "    tmp_proposed_relations = [x for x in tmp_proposed_relations if x[1].bid != tail.bid and x[2].bid != head.bid]"
     ],
     "language": "python",
     "metadata": {},
     "outputs": [],
     "prompt_number": 78
    },
    {
     "cell_type": "code",
     "collapsed": false,
     "input": [
      "print relations[0:5], len(relations)"
     ],
     "language": "python",
     "metadata": {},
     "outputs": [
      {
       "output_type": "stream",
       "stream": "stdout",
       "text": [
        "[(0.35419530929657567, bid              10016\n",
        "x0             1638.71\n",
        "y0            1660.867\n",
        "t0             667.887\n",
        "f0               10049\n",
        "xN            1638.815\n",
        "yN            1661.111\n",
        "tN             667.951\n",
        "fN               10050\n",
        "useful            True\n",
        "useful_in         True\n",
        "useful_out        True\n",
        "Name: 9152, dtype: object, bid              10018\n",
        "x0             1638.96\n",
        "y0            1662.844\n",
        "t0             668.218\n",
        "f0               10054\n",
        "xN            1638.614\n",
        "yN            1663.094\n",
        "tN             668.422\n",
        "fN               10057\n",
        "useful            True\n",
        "useful_in         True\n",
        "useful_out        True\n",
        "Name: 9154, dtype: object), (0.23995581764350007, bid               9042\n",
        "x0            1120.246\n",
        "y0              18.246\n",
        "t0             622.088\n",
        "f0                9360\n",
        "xN            1120.246\n",
        "yN              18.246\n",
        "tN             622.088\n",
        "fN                9360\n",
        "useful            True\n",
        "useful_in         True\n",
        "useful_out        True\n",
        "Name: 8252, dtype: object, bid               9046\n",
        "x0            1121.047\n",
        "y0              19.098\n",
        "t0             622.422\n",
        "f0                9365\n",
        "xN            1235.526\n",
        "yN             238.302\n",
        "tN             652.419\n",
        "fN                9815\n",
        "useful            True\n",
        "useful_in         True\n",
        "useful_out        True\n",
        "Name: 8256, dtype: object), (0.16657595374292233, bid              38460\n",
        "x0             811.341\n",
        "y0            1068.192\n",
        "t0            2038.646\n",
        "f0               30674\n",
        "xN             811.341\n",
        "yN            1068.192\n",
        "tN            2038.646\n",
        "fN               30674\n",
        "useful            True\n",
        "useful_in         True\n",
        "useful_out        True\n",
        "Name: 35955, dtype: object, bid              38466\n",
        "x0             811.273\n",
        "y0            1068.378\n",
        "t0            2038.995\n",
        "f0               30679\n",
        "xN             811.273\n",
        "yN            1068.378\n",
        "tN            2038.995\n",
        "fN               30679\n",
        "useful            True\n",
        "useful_in         True\n",
        "useful_out        True\n",
        "Name: 35960, dtype: object), (0.16613043240467987, bid               7703\n",
        "x0             244.436\n",
        "y0            1036.126\n",
        "t0             565.689\n",
        "f0                8512\n",
        "xN             244.564\n",
        "yN            1036.677\n",
        "tN             565.755\n",
        "fN                8513\n",
        "useful            True\n",
        "useful_in         True\n",
        "useful_out        True\n",
        "Name: 7018, dtype: object, bid               7709\n",
        "x0              244.91\n",
        "y0            1036.036\n",
        "t0             566.022\n",
        "f0                8517\n",
        "xN              244.91\n",
        "yN            1036.036\n",
        "tN             566.022\n",
        "fN                8517\n",
        "useful            True\n",
        "useful_in         True\n",
        "useful_out        True\n",
        "Name: 7023, dtype: object), (0.1352629171810269, bid              16026\n",
        "x0            1047.064\n",
        "y0            1066.229\n",
        "t0             973.824\n",
        "f0               14657\n",
        "xN            1045.868\n",
        "yN            1066.865\n",
        "tN             973.938\n",
        "fN               14659\n",
        "useful            True\n",
        "useful_in         True\n",
        "useful_out        True\n",
        "Name: 14763, dtype: object, bid              16033\n",
        "x0            1045.029\n",
        "y0             1067.46\n",
        "t0             974.157\n",
        "f0               14662\n",
        "xN            1044.806\n",
        "yN             1067.65\n",
        "tN             974.219\n",
        "fN               14663\n",
        "useful            True\n",
        "useful_in         True\n",
        "useful_out        True\n",
        "Name: 14770, dtype: object)] 358\n"
       ]
      }
     ],
     "prompt_number": 79
    },
    {
     "cell_type": "code",
     "collapsed": false,
     "input": [
      "# READ ALL THE TERMINALS\n",
      "FILENAME = \"{base}/prep/{prefix}/{prefix}-terminals.csv\".format(base=BASEDIR, prefix=PREFIX)\n",
      "with open(FILENAME, \"rt\") as f:\n",
      "    data_list = []\n",
      "    data_map = {}\n",
      "    minT = None\n",
      "    maxT = None\n",
      "    for line in f.readlines()[1:]:\n",
      "        values = line.strip().split(',')\n",
      "        id = int(values[0])\n",
      "        params = [id] + [float(x) for x in values[1:]]\n",
      "        data = DataRow(*params)\n",
      "        data_list.append(data)\n",
      "        data_map[data.id] = data\n",
      "        if minT is None:\n",
      "            minT = min(data.begin[2], data.end[2])\n",
      "        else:\n",
      "            minT = min(minT, data.begin[2], data.end[2])\n",
      "        if maxT is None:\n",
      "            maxT = max(data.begin[2], data.end[2])\n",
      "        else:\n",
      "            maxT = max(maxT, data.begin[2], data.end[2])\n",
      "data_list = sorted(data_list, key=lambda x: x.begin[2]) # sorting by begin time\n",
      "print \"Total nodes: \", len(data_set)"
     ],
     "language": "python",
     "metadata": {},
     "outputs": [
      {
       "output_type": "stream",
       "stream": "stdout",
       "text": [
        "Total nodes:  64160\n"
       ]
      }
     ],
     "prompt_number": 75
    },
    {
     "cell_type": "code",
     "collapsed": false,
     "input": [
      "data_index_nodes = set([x.id for x in data_set])\n",
      "in_index_nodes = set([x for x in network.nodes() if len(network.predecessors(x)) == 0]) & data_index_nodes\n",
      "out_index_nodes = set([x for x in network.nodes() if len(network.successors(x)) == 0]) & data_index_nodes\n",
      "in_nodes = sorted([data_map[x] for x in in_index_nodes], key=lambda x: x.begin[2])\n",
      "out_nodes = sorted([data_map[x] for x in out_index_nodes], key=lambda x: x.begin[2])\n",
      "print \"In nodes: %d, Out nodes: %d\" % (len(in_index_nodes), len(out_index_nodes))"
     ],
     "language": "python",
     "metadata": {},
     "outputs": [
      {
       "output_type": "stream",
       "stream": "stdout",
       "text": [
        "In nodes: 1360, Out nodes: 1412\n"
       ]
      }
     ],
     "prompt_number": 79
    },
    {
     "cell_type": "code",
     "collapsed": false,
     "input": [
      "def index_of_data_with_begin_time_greater_than(dl, t):\n",
      "    first = 0\n",
      "    last = len(dl)\n",
      "    while abs(first - last) > 1:\n",
      "        middle = (first + last) / 2\n",
      "        middle_value = dl[middle].begin[2]\n",
      "        if middle_value < t:\n",
      "            first = middle\n",
      "        else:\n",
      "            last = middle\n",
      "    while first < len(dl) and dl[first].begin[2] <= t:\n",
      "        first += 1\n",
      "    return first        "
     ],
     "language": "python",
     "metadata": {},
     "outputs": [],
     "prompt_number": 80
    },
    {
     "cell_type": "code",
     "collapsed": false,
     "input": [
      "MAX_CELERITY = 5  # pixel / seconds\n",
      "MAX_TIME = 5\n",
      "OFFSET = 10 # pixels added to the radius of the cone\n",
      "def inside_time_cone(tail, head):\n",
      "    if tail.end == head.begin:\n",
      "        return True\n",
      "    dt = head.begin[2] - tail.end[2]\n",
      "    if dt < 0 or dt >= MAX_TIME:\n",
      "        return False\n",
      "    radius = OFFSET + MAX_CELERITY * dt\n",
      "    return dist_2d(tail.end, head.begin) < radius\n",
      "\n",
      "    \n",
      "def calculate_score(tail, head):\n",
      "    dist = dist_3d(tail.end, head.begin)\n",
      "    if dist == 0:\n",
      "        return 10000.0\n",
      "    else:\n",
      "        return 1.0/dist\n",
      "\n",
      "proposed_relations = []\n",
      "for out in out_nodes:\n",
      "    index = index_of_data_with_begin_time_greater_than(in_nodes, out.end[2])\n",
      "    while index < len(in_nodes):\n",
      "        current = in_nodes[index]\n",
      "        if inside_time_cone(out, current):\n",
      "            score = calculate_score(out, current)\n",
      "            proposed_relations.append((score, out, current))\n",
      "        index += 1"
     ],
     "language": "python",
     "metadata": {},
     "outputs": [],
     "prompt_number": 84
    },
    {
     "cell_type": "code",
     "collapsed": false,
     "input": [
      "relations = []\n",
      "tmp_proposed_relations = sorted(proposed_relations, key=lambda x: x[0]) # order by score\n",
      "while len(tmp_proposed_relations) > 0:\n",
      "    score, tail, head = tmp_proposed_relations.pop()\n",
      "    relations.append((score, tail, head))\n",
      "    tmp_proposed_relations = [x for x in tmp_proposed_relations if x[1] != tail and x[2] != head]\n",
      "print len(relations)"
     ],
     "language": "python",
     "metadata": {},
     "outputs": [
      {
       "output_type": "stream",
       "stream": "stdout",
       "text": [
        "355\n"
       ]
      }
     ],
     "prompt_number": 85
    },
    {
     "cell_type": "code",
     "collapsed": false,
     "input": [
      "for a in relations[0:5]:\n",
      "    print a"
     ],
     "language": "python",
     "metadata": {},
     "outputs": [
      {
       "output_type": "stream",
       "stream": "stdout",
       "text": [
        "(3.1361988282625433, (49763, [1639.921000,1875.094000,2674.828000]-[1642.532000,1876.199000,2677.797000]), (49812, [1642.537000,1876.452000,2677.991000]-[1642.578000,1876.599000,2678.128000]))\n",
        "(3.031179944735685, (27329, [1211.619000,1224.094000,1481.395000]-[1202.177000,1226.291000,1498.694000]), (27824, [1201.986000,1226.251000,1498.960000]-[1202.094000,1226.326000,1499.027000]))\n",
        "(2.668555486384473, (19331, [1369.062000,1329.430000,1130.558000]-[1367.550000,1328.807000,1136.157000]), (19491, [1367.714000,1328.744000,1136.488000]-[1367.788000,1328.766000,1136.620000]))\n",
        "(2.5731524258056955, (25486, [1251.993000,1267.243000,1410.552000]-[1251.559000,1267.400000,1411.289000]), (25501, [1251.597000,1267.212000,1411.627000]-[1251.597000,1267.212000,1411.627000]))\n",
        "(2.4920614109519548, (38460, [811.341000,1068.192000,2038.646000]-[811.341000,1068.192000,2038.646000]), (38466, [811.273000,1068.378000,2038.995000]-[811.273000,1068.378000,2038.995000]))\n"
       ]
      }
     ],
     "prompt_number": 88
    },
    {
     "cell_type": "code",
     "collapsed": false,
     "input": [],
     "language": "python",
     "metadata": {},
     "outputs": []
    }
   ],
   "metadata": {}
  }
 ]
}