{
 "metadata": {
  "name": "",
  "signature": "sha256:08da4b72ea762ae3250cbab0f53bac40c2450943c799b043a09f0520528d65c1"
 },
 "nbformat": 3,
 "nbformat_minor": 0,
 "worksheets": [
  {
   "cells": [
    {
     "cell_type": "markdown",
     "metadata": {},
     "source": [
      "This notebook is intended to explore the noise reduction properties of downsampleing xy timepoints.\n",
      "\n",
      "Measurements examined:\n",
      "\n",
      "- speed\n",
      "- angle_change/dt\n",
      "\n"
     ]
    },
    {
     "cell_type": "code",
     "collapsed": false,
     "input": [
      "%load_ext autoreload\n",
      "%autoreload 2\n",
      "%matplotlib inline"
     ],
     "language": "python",
     "metadata": {},
     "outputs": [],
     "prompt_number": 1
    },
    {
     "cell_type": "code",
     "collapsed": false,
     "input": [
      "from __future__ import absolute_import, unicode_literals, division\n",
      "import six\n",
      "import os\n",
      "import sys\n",
      "from six.moves import (zip, filter, map, reduce, input, range)\n",
      "sys.path.append('..'); import pathcustomize, about\n",
      "about.about()\n",
      "\n",
      "\n",
      "import pathcustomize\n",
      "#import itertools\n",
      "import matplotlib.pyplot as plt\n",
      "import scipy.interpolate as interpolate\n",
      "import scipy.signal as ss\n",
      "import prettyplotlib as ppl\n",
      "import pandas as pd\n",
      "\n",
      "# nonstandard imports\n",
      "from waldo.wio.file_manager import get_timeseries, get_good_blobs\n",
      "#from importing.centroid import smooth_and_space, xy_to_full_dataframe\n",
      "#import importing.equally_space as eq_sp\n",
      "#from filtering.filter_utilities import savitzky_golay\n",
      "#from segment.fukuda import breakpoints, segments"
     ],
     "language": "python",
     "metadata": {},
     "outputs": [
      {
       "output_type": "stream",
       "stream": "stdout",
       "text": [
        "Python 2.7.6 (default, Mar 22 2014 22:59:56) [GCC 4.8.2] on linux2, Host: cody\n"
       ]
      }
     ],
     "prompt_number": 2
    },
    {
     "cell_type": "heading",
     "level": 2,
     "metadata": {},
     "source": [
      "Functions"
     ]
    },
    {
     "cell_type": "code",
     "collapsed": false,
     "input": [
      "STOCK_METHODS = [\n",
      "    'boxcar', 'triang', 'blackman', 'hamming', 'hann', 'bartlett',\n",
      "    'flattop', 'parzen', 'bohman', 'blackmanharris', 'nuttall', 'barthann',\n",
      "    'kaiser', 'gaussian', 'general_gaussian', 'slepian', 'chebwin'\n",
      "]\n",
      "\n",
      "def smooth(method, series, winlen, *params):\n",
      "\n",
      "    try:\n",
      "        winlen = int(winlen) // 2 * 2 + 1 # make it odd, rounding up\n",
      "        half_win = winlen // 2\n",
      "        wintype = (method,) + tuple(int(x) for x in params)\n",
      "        fir_win = ss.get_window(wintype, winlen)\n",
      "    except ValueError:\n",
      "        raise ValueError('Unrecognized smoothing type')\n",
      "\n",
      "    b = fir_win / sum(fir_win)\n",
      "    a = [1]\n",
      "    #zi = ss.lfiltic(b, a)\n",
      "    #zi = series[0] * np.ones(len(b) - 1)\n",
      "    return ss.lfilter(b, a, series)[winlen-1:]"
     ],
     "language": "python",
     "metadata": {},
     "outputs": [],
     "prompt_number": 3
    },
    {
     "cell_type": "code",
     "collapsed": false,
     "input": [
      "\n",
      "\n",
      "def show_segmented(x, y, fig=None, ax=None):\n",
      "\n",
      "    segs = segments(x, y)\n",
      "\n",
      "    if not fig and not ax:\n",
      "        fig, ax = plt.subplots()\n",
      "    ppl.plot(ax, x, y, alpha=0.2)\n",
      "    starts, means, meds = [], [], []\n",
      "    x, y = zip(*segs[0])\n",
      "    starts.append(x[0])\n",
      "    means.append(np.mean(y))\n",
      "    meds.append(np.median(y)) \n",
      "\n",
      "    for seg in segs:\n",
      "        x, y = zip(*seg)\n",
      "        starts.append(x[-1])\n",
      "        means.append(np.mean(y))\n",
      "        meds.append(np.median(y))\n",
      "\n",
      "    #means.append(np.mean(y))\n",
      "    #meds.append(np.median(y))  \n",
      "\n",
      "    for seg in segs:\n",
      "        x, y = zip(*seg)\n",
      "        ppl.plot(ax, x, y, '.')\n",
      "\n",
      "    ppl.plot(ax, starts, means, drawstyle='steps', label='mean')\n",
      "    ppl.plot(ax, starts, meds, drawstyle='steps', label='median')\n",
      "    ax.legend(loc='best')\n",
      "    return fig, ax\n"
     ],
     "language": "python",
     "metadata": {},
     "outputs": [],
     "prompt_number": 8
    },
    {
     "cell_type": "code",
     "collapsed": false,
     "input": [
      "def plot_overview(dfs, labels, dtype):\n",
      "    fig, ax = plt.subplots()\n",
      "    for df, label in zip(dfs, labels):\n",
      "        alpha = 0.8\n",
      "        if label == 'raw':\n",
      "            alpha=0.3\n",
      "        ax.plot(df.index, df[dtype], '.-', label=label, alpha=alpha)\n",
      "        ax.set_xlabel('time (s)')\n",
      "        ax.set_ylabel(dtype)\n",
      "    return fig, ax"
     ],
     "language": "python",
     "metadata": {},
     "outputs": [],
     "prompt_number": 9
    },
    {
     "cell_type": "code",
     "collapsed": false,
     "input": [
      "#ex_id = '20130614_120518'\n",
      "ex_id = '20130318_131111'\n",
      "blobs = get_good_blobs(ex_id)\n",
      "print(blobs)"
     ],
     "language": "python",
     "metadata": {},
     "outputs": [
      {
       "output_type": "stream",
       "stream": "stdout",
       "text": [
        "[u'20130318_131111_33497', u'20130318_131111_42679', u'20130318_131111_11703', u'20130318_131111_43452', u'20130318_131111_54320', u'20130318_131111_49044', u'20130318_131111_61725', u'20130318_131111_09858', u'20130318_131111_17885', u'20130318_131111_36062', u'20130318_131111_29978', u'20130318_131111_11528', u'20130318_131111_09176', u'20130318_131111_42746', u'20130318_131111_13983', u'20130318_131111_13063', u'20130318_131111_01500', u'20130318_131111_03193', u'20130318_131111_61632', u'20130318_131111_32350', u'20130318_131111_48270', u'20130318_131111_44353', u'20130318_131111_36517', u'20130318_131111_32282', u'20130318_131111_50712', u'20130318_131111_03509', u'20130318_131111_00930', u'20130318_131111_34758', u'20130318_131111_52779', u'20130318_131111_62779']\n"
       ]
      }
     ],
     "prompt_number": 10
    },
    {
     "cell_type": "code",
     "collapsed": false,
     "input": [
      "bid = '20130318_131111_03193'\n",
      "bid = '20130318_131111_42679'\n",
      "bid = '20130318_131111_11703'\n",
      "bid='20130318_131111_61632'\n",
      "\n",
      "dt=1.0\n",
      "range_x = [3400, 3450]\n",
      "\n",
      "t, xy = get_timeseries(bid, data_type='xy_raw')\n",
      "print t\n",
      "x, y = zip(*xy)\n",
      "raw = xy_to_full_dataframe(t, x, y)\n",
      "print(raw.head())\n",
      "\n",
      "\n",
      "poly = smooth_and_space(t, x, y, smooth=(25,5), dt=dt)\n",
      "\n",
      "\n",
      "method='boxcar'\n",
      "winlen = 10\n",
      "\n",
      "xs = smooth('boxcar', x, 10)\n",
      "ys = smooth('boxcar', y, 10)\n",
      "l_diff = len(x) - len(xs)\n",
      "ts = t[l_diff/2:-l_diff/2]\n",
      "box = smooth_and_space(ts, xs, ys, smooth=(25,5), dt=1.0)"
     ],
     "language": "python",
     "metadata": {},
     "outputs": [
      {
       "ename": "SyntaxError",
       "evalue": "invalid syntax (<ipython-input-13-c8e6cd91a4ed>, line 10)",
       "output_type": "pyerr",
       "traceback": [
        "\u001b[1;36m  File \u001b[1;32m\"<ipython-input-13-c8e6cd91a4ed>\"\u001b[1;36m, line \u001b[1;32m10\u001b[0m\n\u001b[1;33m    print t\u001b[0m\n\u001b[1;37m          ^\u001b[0m\n\u001b[1;31mSyntaxError\u001b[0m\u001b[1;31m:\u001b[0m invalid syntax\n"
       ]
      }
     ],
     "prompt_number": 13
    },
    {
     "cell_type": "code",
     "collapsed": false,
     "input": [
      "fig, ax = plt.subplots()\n",
      "ax.plot(raw['x'], raw['y'], alpha=0.3, label='raw')\n",
      "ax.plot(poly['x'], poly['y'], label='poly')\n",
      "ax.plot(box['x'], box['y'], label='box')\n",
      "\n",
      "ax.legend()\n",
      "ax.set_xlabel('x')\n",
      "ax.set_ylabel('y')\n",
      "plt.show()"
     ],
     "language": "python",
     "metadata": {},
     "outputs": []
    },
    {
     "cell_type": "code",
     "collapsed": false,
     "input": [
      "window = 15\n",
      "order = 5\n",
      "\n",
      "x_smoothed = savitzky_golay(y=np.array(x), window_size=window, order=order)\n",
      "\n",
      "fig, ax = plt.subplots()\n",
      "ax.plot(raw.index, raw['x'], 'o', alpha=0.5, label='raw')\n",
      "ax.plot(t, x_smoothed, lw=2, label='polynomia15')\n",
      "ax.plot(ts, xs, lw=1, label='boxcar')\n",
      "ax.set_xlim([3410, 3426])\n",
      "ax.set_ylim([445, 455])\n",
      "ax.set_xlabel('time (s)')\n",
      "ax.set_ylabel('x pxls')\n",
      "ax.legend(loc='upper left')"
     ],
     "language": "python",
     "metadata": {},
     "outputs": []
    },
    {
     "cell_type": "code",
     "collapsed": false,
     "input": [
      "def interpolate_to_1s(t, x):\n",
      "    eq_times = eq_sp.equally_spaced_times(t[0], t[-1], dt=dt, ndigits=0)\n",
      "    interp_x = interpolate.interp1d(t, x, kind='linear')\n",
      "    x_interp = interp_x(eq_times)\n",
      "    return eq_times, x_interp\n",
      "\n",
      "fig, ax = plt.subplots()\n",
      "\n",
      "ax.plot(raw.index, raw['x'], 'o', alpha=0.3, label='raw')\n",
      "t1, x1 = interpolate_to_1s(t, x_smoothed)\n",
      "ax.plot(t1, x1, 'o', alpha=0.8, color='r', label='poly15')\n",
      "\n",
      "t2, x2 = interpolate_to_1s(ts, xs)\n",
      "ax.plot(t2, x2, 'o', alpha=0.8, color='y', label='box')\n",
      "\n",
      "ax.set_xlim([3410, 3426])\n",
      "ax.set_ylim([445, 455])\n",
      "ax.set_xlabel('time (s)')\n",
      "ax.set_ylabel('x pxls')\n",
      "ax.legend(loc='upper left')"
     ],
     "language": "python",
     "metadata": {},
     "outputs": []
    },
    {
     "cell_type": "code",
     "collapsed": false,
     "input": [
      "\n",
      "dtype = 'v'\n",
      "dfs = [poly, box]\n",
      "labels = ['ploy', 'box']\n",
      "fig, ax = plot_overview(dfs, labels, dtype)\n",
      "ax.set_ylabel('speed')\n",
      "ax.legend(loc='upper left')\n",
      "ax.set_xlim([3310, 3340])\n",
      "plt.show()"
     ],
     "language": "python",
     "metadata": {},
     "outputs": []
    },
    {
     "cell_type": "code",
     "collapsed": false,
     "input": [
      "dtype = 'v2'\n",
      "dfs = [poly, box]\n",
      "labels = ['ploy', 'box']\n",
      "fig, ax = plot_overview(dfs, labels, dtype)\n",
      "ax.set_ylabel('speed')\n",
      "ax.legend(loc='upper left')\n",
      "plt.show()"
     ],
     "language": "python",
     "metadata": {},
     "outputs": []
    },
    {
     "cell_type": "code",
     "collapsed": false,
     "input": [
      "dtype = 'a'\n",
      "dfs = [poly, box]\n",
      "labels = ['ploy', 'box']\n",
      "fig, ax = plot_overview(dfs, labels, dtype)\n",
      "ax.set_ylabel('accel')\n",
      "ax.legend(loc='upper left')\n",
      "plt.show()"
     ],
     "language": "python",
     "metadata": {},
     "outputs": []
    },
    {
     "cell_type": "code",
     "collapsed": false,
     "input": [
      "dtype = 'ar'\n",
      "dfs = [poly, box]\n",
      "labels = ['ploy', 'box']\n",
      "fig, ax = plot_overview(dfs, labels, dtype)\n",
      "ax.set_ylabel('radial accel')\n",
      "ax.legend(loc='upper left')\n",
      "plt.show()"
     ],
     "language": "python",
     "metadata": {},
     "outputs": []
    },
    {
     "cell_type": "code",
     "collapsed": false,
     "input": [
      "def reversal_positions(t, x, y, r):\n",
      "    reverse_points = []\n",
      "    for ti, xi, yi, ri in zip(t, x, y, r):\n",
      "        if ri:\n",
      "            reverse_points.append((ti, xi, yi))\n",
      "    return reverse_points\n",
      "\n",
      "\n",
      "    rt, rx, ry = zip(*reverse_points)\n",
      "    fig, ax = plt.subplots()\n",
      "    ppl.plot(ax, x, y, lw=2, label='path')\n",
      "    ppl.plot(ax, rx, ry, 'o', label='reversals')\n",
      "    ax.set_title('path')\n",
      "    ax.set_xlabel('x (pxl)')\n",
      "    ax.set_ylabel('y (pxl)')\n",
      "    plt.legend()\n",
      "\n",
      "    \n",
      "    \n",
      "br = reversal_positions(box.index, box['x'], box['y'], box['r'])\n",
      "pr = reversal_positions(poly.index, poly['x'], poly['y'], poly['r'])\n",
      "\n",
      "brt, brx, bry = zip(*br)\n",
      "prt, prx, pry = zip(*pr)   \n",
      "    \n",
      " \n",
      "\n",
      "\n",
      "fig, ax = plt.subplots()\n",
      "ax.plot(raw['x'], raw['y'], alpha=0.3, label='raw')\n",
      "\n",
      "ax.plot(brx, bry, '.', label='box', alpha=0.9)\n",
      "ax.plot(prx, pry, '.', label='poly', alpha=0.5)\n",
      "\n",
      "ax.legend()\n",
      "ax.set_xlabel('x')\n",
      "ax.set_ylabel('y')\n",
      "plt.show()\n",
      "\n",
      "\n",
      "fig, ax = plt.subplots()\n",
      "ax.plot(raw['x'], raw['y'], alpha=0.3, label='raw')\n",
      "ax.plot(prx, pry, '.', label='poly', color='r')\n",
      "ax.legend()\n",
      "ax.set_xlabel('x')\n",
      "ax.set_ylabel('y')\n",
      "plt.show()\n",
      "\n",
      "fig, ax = plt.subplots()\n",
      "ax.plot(raw['x'], raw['y'], alpha=0.3, label='raw')\n",
      "ax.plot(brx, bry, '.', label='box')\n",
      "ax.legend()\n",
      "ax.set_xlabel('x')\n",
      "ax.set_ylabel('y')\n",
      "plt.show()"
     ],
     "language": "python",
     "metadata": {},
     "outputs": []
    },
    {
     "cell_type": "code",
     "collapsed": false,
     "input": [
      "fig, ax = plt.subplots(2,1)\n",
      "#ax.plot(raw['x'], raw['y'], alpha=0.3, label='raw')\n",
      "\n",
      "ax[0].plot(brt, brx, '.', label='x')\n",
      "ax[0].plot(box.index, box['x'])\n",
      "ax[0].set_ylabel('x')\n",
      "ax[1].plot(brt, bry, '.', label='y')\n",
      "ax[1].plot(box.index, box['y'])\n",
      "ax[1].set_ylabel('y')\n",
      "ax[1].set_xlabel('time (s)')\n",
      "plt.show()\n"
     ],
     "language": "python",
     "metadata": {},
     "outputs": []
    },
    {
     "cell_type": "code",
     "collapsed": false,
     "input": [
      "\n",
      "\n",
      "t, s = [list(i) for i in [box.index, box['v']]]\n",
      "fig, ax = show_segmented(t, s)\n",
      "plt.title('segmented speed')\n",
      "plt.show()\n",
      "\n",
      "\n",
      "t, s = [list(i) for i in [box.index, box['v2']]]\n",
      "fig, ax = show_segmented(t, s)\n",
      "plt.title('segmented speed')\n",
      "plt.show()"
     ],
     "language": "python",
     "metadata": {},
     "outputs": []
    },
    {
     "cell_type": "code",
     "collapsed": false,
     "input": [
      "t, s = [list(i) for i in [box.index, box['a']]]\n",
      "fig, ax = show_segmented(t, s)\n",
      "plt.title('acceleration magnitude')\n",
      "plt.show()\n",
      "\n",
      "\n",
      "t, s = [list(i) for i in [box.index, box['ar']]]\n",
      "fig, ax = show_segmented(t, s)\n",
      "plt.title('radial acceleration')\n",
      "plt.show()"
     ],
     "language": "python",
     "metadata": {},
     "outputs": []
    },
    {
     "cell_type": "code",
     "collapsed": false,
     "input": [
      "t, s = [list(i) for i in [box.index, box['r']]]\n",
      "fig, ax = show_segmented(t, s)\n",
      "plt.title('r')\n",
      "plt.show()"
     ],
     "language": "python",
     "metadata": {},
     "outputs": []
    },
    {
     "cell_type": "code",
     "collapsed": false,
     "input": [
      "def sliding_variance(x, winlen=10):\n",
      "\n",
      "    winlen = int(winlen) // 2 * 2 + 1 # make it odd, rounding up\n",
      "    half_win = winlen // 2\n",
      "    #print(len(x))\n",
      "    v = []\n",
      "    #b = [i for i in range(half_win, len(x)-half_win)]\n",
      "    #print(len(b))\n",
      "\n",
      "    for i in range(half_win, len(x)-half_win):\n",
      "        window = x[i-half_win: i+half_win]\n",
      "        v.append(np.std(window))\n",
      "    #print(winlen, half_win, len(x) - len(v))        \n",
      "    return v\n",
      "\n",
      "\n",
      "def show_sliding_variance(dtype, winlen=10):\n",
      "\n",
      "    t, s = [list(i) for i in [box.index, box[dtype]]]\n",
      "    v = sliding_variance(s, winlen)\n",
      "    half_win = winlen // 2\n",
      "    \n",
      "    tv = t[half_win: -half_win]\n",
      "    #print(half_win)\n",
      "    #print(len(tv), len(v))\n",
      "    \n",
      "    fig, ax = plt.subplots(2,1, sharex=True)\n",
      "    show_segmented(t, s, fig=fig, ax=ax[0])\n",
      "    show_segmented(tv, v, fig=fig, ax=ax[1])\n",
      "    \n",
      "    return fig, ax\n",
      "\n",
      "dtype = 'ar'\n",
      "winlen= 5\n",
      "fig, ax = show_sliding_variance(dtype, winlen)\n",
      "ax[0].set_ylabel('rad acceleration')\n",
      "ax[1].set_ylabel('std')\n",
      "plt.show()\n",
      "\n"
     ],
     "language": "python",
     "metadata": {},
     "outputs": []
    },
    {
     "cell_type": "code",
     "collapsed": false,
     "input": [
      "dtype = 'a'\n",
      "winlen= 5\n",
      "\n",
      "fig, ax = show_sliding_variance(dtype, winlen)\n",
      "ax[0].set_ylabel('accel magnitude')\n",
      "ax[1].set_ylabel('std')\n",
      "plt.show()"
     ],
     "language": "python",
     "metadata": {},
     "outputs": []
    },
    {
     "cell_type": "code",
     "collapsed": false,
     "input": [
      "dtype = 'v2'\n",
      "winlen= 5\n",
      "\n",
      "fig, ax = show_sliding_variance(dtype, winlen)\n",
      "ax[0].set_ylabel('speed')\n",
      "ax[1].set_ylabel('std')\n",
      "plt.show()"
     ],
     "language": "python",
     "metadata": {},
     "outputs": []
    },
    {
     "cell_type": "code",
     "collapsed": false,
     "input": [
      "dtype = 'r'\n",
      "winlen= 5\n",
      "\n",
      "fig, ax = show_sliding_variance(dtype, winlen)\n",
      "ax[0].set_ylabel('turns')\n",
      "ax[1].set_ylabel('std')\n",
      "plt.show()"
     ],
     "language": "python",
     "metadata": {},
     "outputs": []
    },
    {
     "cell_type": "code",
     "collapsed": false,
     "input": [
      "def show_sliding_variance2(dtype, winlen=10):\n",
      "\n",
      "    t, s = [list(i) for i in [box.index, box[dtype]]]\n",
      "    v = sliding_variance(s, winlen)\n",
      "    half_win = winlen // 2\n",
      "    \n",
      "    tv = t[half_win: -half_win]\n",
      "    \n",
      "    print(half_win)\n",
      "    print(len(tv), len(v))\n",
      "    \n",
      "    #fig, ax = plt.subplots(2,1, sharex=True)\n",
      "    #show_segmented(t, s, fig=fig, ax=ax[0])\n",
      "    #show_segmented(tv, v, fig=fig, ax=ax[1])\n",
      "    \n",
      "    return fig, ax\n",
      "hg \n",
      "def segment_series(x, y):\n",
      "    segs = segments(x, y)\n",
      "    x, y = zip(*segs[0])\n",
      "    starts.append(x[0])\n",
      "    means.append(np.mean(y))\n",
      "    meds.append(np.median(y))\n",
      "    \n",
      "\n",
      "def segment_df(df, columns=['v', 'a', 'ar', 'r']):\n",
      "   \n",
      "    for c in columns:\n",
      "        print(c)\n",
      "    '''\n",
      "    segmented_df = pd\n",
      "    winlen= 5\n",
      "    fig, ax = show_sliding_variance2(dtype, winlen)\n",
      "    ax[0].set_ylabel('rad acceleration')\n",
      "    ax[1].set_ylabel('std')\n",
      "    plt.show()\n",
      "    '''\n",
      "segment_df(df=box)"
     ],
     "language": "python",
     "metadata": {},
     "outputs": []
    },
    {
     "cell_type": "code",
     "collapsed": false,
     "input": [
      "def show_speed_calculation_diff(df):\n",
      "    fig, ax = plt.subplots()\n",
      "    ax.plot(df.index, df['v'], label='method 1')\n",
      "    ax.plot(df.index, df['v2'], label='method 2 (from markov)')\n",
      "    ax.set_xlim(range_x)\n",
      "    ax.set_xlabel('time (s)')\n",
      "    ax.set_ylabel('speed')\n",
      "    ax.set_title('speed calculation methods')\n",
      "    ax.legend()\n",
      "    plt.show()\n",
      "    \n",
      "df=raw\n",
      "show_speed_calculation_diff(df)\n",
      "(df['v'] / df['v2']).hist()\n",
      "plt.show()\n"
     ],
     "language": "python",
     "metadata": {},
     "outputs": []
    },
    {
     "cell_type": "code",
     "collapsed": false,
     "input": [
      "df=box\n",
      "show_speed_calculation_diff(df)\n",
      "(df['v'] / df['v2']).hist()\n",
      "plt.show()"
     ],
     "language": "python",
     "metadata": {},
     "outputs": []
    },
    {
     "cell_type": "code",
     "collapsed": false,
     "input": [
      "df=poly\n",
      "show_speed_calculation_diff(df)\n",
      "(df['v'] / df['v2']).hist()\n",
      "plt.show()"
     ],
     "language": "python",
     "metadata": {},
     "outputs": []
    },
    {
     "cell_type": "code",
     "collapsed": false,
     "input": [],
     "language": "python",
     "metadata": {},
     "outputs": []
    },
    {
     "cell_type": "code",
     "collapsed": false,
     "input": [],
     "language": "python",
     "metadata": {},
     "outputs": []
    }
   ],
   "metadata": {}
  }
 ]
}