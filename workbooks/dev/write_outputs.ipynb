{
 "metadata": {
  "name": "",
  "signature": "sha256:e043fc8cb05e31572dccdce0401f2228c8703b2cd5bdd18b370547157af4ad1d"
 },
 "nbformat": 3,
 "nbformat_minor": 0,
 "worksheets": [
  {
   "cells": [
    {
     "cell_type": "heading",
     "level": 1,
     "metadata": {},
     "source": [
      "Write Waldo Outputs"
     ]
    },
    {
     "cell_type": "markdown",
     "metadata": {},
     "source": [
      "this notebook to show how to write aditional outputs. RUN AFTER WALDO!"
     ]
    },
    {
     "cell_type": "code",
     "collapsed": false,
     "input": [
      "%load_ext autoreload\n",
      "%autoreload 2\n",
      "%matplotlib inline"
     ],
     "language": "python",
     "metadata": {},
     "outputs": []
    },
    {
     "cell_type": "code",
     "collapsed": false,
     "input": [
      "import sys\n",
      "sys.path.append('..')\n",
      "import about\n",
      "import pathcustomize\n",
      "\n",
      "\n",
      "#from waldo.conf import settings\n",
      "from waldo.output.speed import SpeedWriter\n",
      "from waldo.output.writer import OutputWriter\n",
      "\n",
      "about.about()"
     ],
     "language": "python",
     "metadata": {},
     "outputs": []
    },
    {
     "cell_type": "code",
     "collapsed": false,
     "input": [
      "ex_id = '20130323_143707'"
     ],
     "language": "python",
     "metadata": {},
     "outputs": []
    },
    {
     "cell_type": "heading",
     "level": 3,
     "metadata": {},
     "source": [
      "Write Speed"
     ]
    },
    {
     "cell_type": "code",
     "collapsed": false,
     "input": [
      "# parameters:\n",
      "\n",
      "min_points = 60 # number of seconds track needs to have file written\n",
      "window_size = 11 # number of points from\n",
      "\n",
      "sw = SpeedWriter(ex_id, window_size= window_size)\n",
      "sw.write_all_speeds(min_points=min_points)"
     ],
     "language": "python",
     "metadata": {},
     "outputs": []
    },
    {
     "cell_type": "heading",
     "level": 3,
     "metadata": {},
     "source": [
      "Write Choreography Display"
     ]
    },
    {
     "cell_type": "code",
     "collapsed": false,
     "input": [
      "# 1. use the graph object from the cleaned up\n",
      "\n",
      "# 2. Necesarry changes:\n",
      "\n",
      "# parameters\n",
      "chore_dir = '~/chore_display'\n",
      "\n",
      "out_writer = OutputWriter(experiment.id, graph=graph, output_dir=chore_dir)\n",
      "out_writer.export(interpolate=True, callback1=WRITE_OUTPUT_CALLBACK, callback2=GENERATE_REPORT_CALLBACK)"
     ],
     "language": "python",
     "metadata": {},
     "outputs": []
    },
    {
     "cell_type": "heading",
     "level": 3,
     "metadata": {},
     "source": [
      "Write Speed Report"
     ]
    },
    {
     "cell_type": "code",
     "collapsed": false,
     "input": [
      "# To Be Added Later"
     ],
     "language": "python",
     "metadata": {},
     "outputs": [],
     "prompt_number": 12
    },
    {
     "cell_type": "code",
     "collapsed": false,
     "input": [],
     "language": "python",
     "metadata": {},
     "outputs": []
    }
   ],
   "metadata": {}
  }
 ]
}