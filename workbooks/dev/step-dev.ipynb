{
 "metadata": {
  "name": "",
  "signature": "sha256:fdfbdc6a87d2be5746a0209fdd63336744baeb0f6fbdc405b171eb6b9bd11b03"
 },
 "nbformat": 3,
 "nbformat_minor": 0,
 "worksheets": [
  {
   "cells": [
    {
     "cell_type": "code",
     "collapsed": false,
     "input": [
      "%load_ext autoreload\n",
      "%autoreload 2\n",
      "%matplotlib inline"
     ],
     "language": "python",
     "metadata": {},
     "outputs": [],
     "prompt_number": 1
    },
    {
     "cell_type": "code",
     "collapsed": false,
     "input": [
      "from __future__ import division\n",
      "import six, sys\n",
      "sys.path.append('..'); import pathcustomize, about\n",
      "about.about()\n",
      "\n",
      "import pandas as pd\n",
      "import numpy as np\n",
      "import random\n",
      "import matplotlib.pyplot as plt\n",
      "import matplotlib.patches as patches\n",
      "from mpltools import style\n",
      "from mpltools import layout\n",
      "style.use('ggplot')\n",
      "#import waldo.metrics.step_simulateion as ssim"
     ],
     "language": "python",
     "metadata": {},
     "outputs": [
      {
       "output_type": "stream",
       "stream": "stdout",
       "text": [
        "Python 2.7.6 (default, Jun  6 2014 15:19:25) [GCC 4.8.3] on darwin, Host: dhcp-10-101-28-168.wireless.northwestern.private\n"
       ]
      }
     ],
     "prompt_number": 22
    },
    {
     "cell_type": "code",
     "collapsed": false,
     "input": [],
     "language": "python",
     "metadata": {},
     "outputs": [],
     "prompt_number": 15
    },
    {
     "cell_type": "code",
     "collapsed": false,
     "input": [
      "worm_count =30\n",
      "crawl_on_total = 60\n",
      "crawl_off_total = 60\n",
      "\n",
      "N = int(worm_count)\n",
      "t_steps = 60\n",
      "on_rate = int(crawl_on_total / t_steps)\n",
      "off_rate = int(crawl_off_total / t_steps)\n",
      "\n",
      "start_record = {}\n",
      "end_record = {}\n",
      "id_counter = N\n",
      "\n",
      "# initialize pool and start record\n",
      "pool = range(N)\n",
      "for i in pool:\n",
      "    start_record[i] = 0\n",
      "\n",
      "\n",
      "off_events = ['off' for i in range(off_rate)]\n",
      "on_events = ['on' for i in range(on_rate)]\n",
      "events = off_events + on_events\n",
      "\n",
      "# start simulation\n",
      "for t in range(t_steps):\n",
      "    random.shuffle(events)\n",
      "    for e in events:\n",
      "        random.shuffle(pool)\n",
      "        if e == 'off':\n",
      "            o = pool.pop()\n",
      "            #print 'removing', o, 'at', t\n",
      "            end_record[o] = t\n",
      "        if e == 'on':\n",
      "            #print 'adding', id_counter, 'at', t\n",
      "            pool.append(id_counter)\n",
      "            start_record[id_counter] = t\n",
      "            id_counter += 1\n",
      "\n",
      "# get\n",
      "for i in pool:\n",
      "    end_record[i] = t_steps\n",
      "s = pd.DataFrame(start_record, index=['t0'])\n",
      "e = pd.DataFrame(end_record, index=['tN'])\n",
      "print id_counter - 1, 'total worm tracks'\n",
      "#print s\n",
      "df = pd.concat([s, e]).T\n",
      "df['lifespan'] = df['tN'] - df['t0']\n"
     ],
     "language": "python",
     "metadata": {},
     "outputs": [
      {
       "output_type": "stream",
       "stream": "stdout",
       "text": [
        "89 total worm tracks\n"
       ]
      }
     ],
     "prompt_number": 23
    },
    {
     "cell_type": "code",
     "collapsed": false,
     "input": [
      "fig, ax = plt.subplots()\n",
      "label = 'hi'\n",
      "color = 1\n",
      "ylim = None\n",
      "\n",
      "step_df = df\n",
      "steps = []\n",
      "n_steps = len(step_df)\n",
      "\n",
      "xs = list(step_df['t0'])\n",
      "widths = list(step_df['lifespan'])\n",
      "height = 1\n",
      "\n",
      "color_cycle = ax._get_lines.color_cycle\n",
      "for i in range(color):\n",
      "    color = color_cycle.next()\n",
      "#color2 = color_cycle.next()\n",
      "for y, (x, width) in enumerate(zip(xs, widths)):\n",
      "    steps.append(patches.Rectangle((x,y), height=height, width=width,\n",
      "                                   fill=True, fc=color, ec=color))\n",
      "for step in steps:\n",
      "    ax.add_patch(step)\n",
      "\n",
      "xmax = 60\n",
      "ax.plot([0], color=color, label=label)\n",
      "ax.set_xlim([0, xmax])\n",
      "if ylim is None:\n",
      "    ylim = n_steps + 1\n",
      "ax.set_ylim([0, ylim])\n"
     ],
     "language": "python",
     "metadata": {},
     "outputs": [
      {
       "metadata": {},
       "output_type": "pyout",
       "prompt_number": 24,
       "text": [
        "(0, 91)"
       ]
      },
      {
       "metadata": {},
       "output_type": "display_data",
       "png": "[encoded data removed]",
       "text": [
        "<matplotlib.figure.Figure at 0x107a87f50>"
       ]
      }
     ],
     "prompt_number": 24
    },
    {
     "cell_type": "code",
     "collapsed": false,
     "input": [
      "def plot_steps(df):\n",
      "    fig, ax = plt.subplots()\n",
      "    label = 'hi'\n",
      "    step_df = df\n",
      "    n_steps = len(step_df)\n",
      "    xmax = 60\n",
      "    ymax = n_steps + 1\n",
      "    steps = []\n",
      "    \n",
      "\n",
      "    xs = list(step_df['t0'])\n",
      "    widths = list(step_df['lifespan'])\n",
      "    height = 1\n",
      "\n",
      "    color = ax._get_lines.color_cycle.next()\n",
      "    for y, (x, width) in enumerate(zip(xs, widths)):\n",
      "        steps.append(patches.Rectangle((x,y), height=height, width=width,\n",
      "                                       fill=True, fc=color, ec=color))\n",
      "    for step in steps:\n",
      "        ax.add_patch(step)\n",
      "\n",
      "    ax.plot([0], color=color, label=label)\n",
      "    ax.set_xlim([0, xmax])\n",
      "    ax.set_ylim([0, ymax])\n"
     ],
     "language": "python",
     "metadata": {},
     "outputs": [],
     "prompt_number": 31
    },
    {
     "cell_type": "code",
     "collapsed": false,
     "input": [
      "plot_steps(df)"
     ],
     "language": "python",
     "metadata": {},
     "outputs": [
      {
       "metadata": {},
       "output_type": "display_data",
       "png": "[encoded data removed]",
       "text": [
        "<matplotlib.figure.Figure at 0x108e0f2d0>"
       ]
      }
     ],
     "prompt_number": 32
    },
    {
     "cell_type": "code",
     "collapsed": false,
     "input": [
      "df.sort('lifespan', inplace=True, ascending=False)\n",
      "plot_steps(df)"
     ],
     "language": "python",
     "metadata": {},
     "outputs": [
      {
       "metadata": {},
       "output_type": "display_data",
       "png": "[encoded data removed]",
       "text": [
        "<matplotlib.figure.Figure at 0x1077677d0>"
       ]
      }
     ],
     "prompt_number": 34
    },
    {
     "cell_type": "code",
     "collapsed": false,
     "input": [
      "a = df.sort('lifespan', ascending=False)\n",
      "bin_edges = [10, 20, 30, 40, 50, 60]\n",
      "bin_data = []\n",
      "lower = 0\n",
      "count = 0\n",
      "edges = []\n",
      "for upper in bin_edges:\n",
      "    b = a[(lower <= a['lifespan'])  & (a['lifespan'] < upper)]\n",
      "    b.sort('tN', inplace=True)\n",
      "    b.sort('t0', inplace=True)\n",
      "    bin_data.append(b)\n",
      "    lower = upper\n",
      "    print len(b)\n",
      "    count += len(b)\n",
      "    edges.append(count)\n",
      "    #print count\n",
      "a = pd.concat(bin_data[::-1])\n",
      "plot_steps(a)"
     ],
     "language": "python",
     "metadata": {},
     "outputs": [
      {
       "output_type": "stream",
       "stream": "stdout",
       "text": [
        "32\n",
        "23"
       ]
      },
      {
       "output_type": "stream",
       "stream": "stdout",
       "text": [
        "\n",
        "13"
       ]
      },
      {
       "output_type": "stream",
       "stream": "stdout",
       "text": [
        "\n",
        "6"
       ]
      },
      {
       "output_type": "stream",
       "stream": "stdout",
       "text": [
        "\n",
        "8"
       ]
      },
      {
       "output_type": "stream",
       "stream": "stdout",
       "text": [
        "\n",
        "4"
       ]
      },
      {
       "output_type": "stream",
       "stream": "stdout",
       "text": [
        "\n"
       ]
      },
      {
       "metadata": {},
       "output_type": "display_data",
       "png": "[encoded data removed]",
       "text": [
        "<matplotlib.figure.Figure at 0x102eafb90>"
       ]
      }
     ],
     "prompt_number": 50
    },
    {
     "cell_type": "code",
     "collapsed": false,
     "input": [
      "a = df.sort('lifespan', ascending=False)\n",
      "bin_edges = [10, 20, 30]\n",
      "bin_data = []\n",
      "lower = 0\n",
      "count = 0\n",
      "edges = []\n",
      "for upper in bin_edges:\n",
      "    b = a[(lower <= a['lifespan'])  & (a['lifespan'] < upper)]\n",
      "    b.sort('tN', inplace=True, ascending=True)\n",
      "    b.sort('t0', inplace=True)\n",
      "    bin_data.append(b)\n",
      "    lower = upper\n",
      "    count += len(b)\n",
      "    edges.append(count)\n",
      "    print count\n",
      "a = pd.concat(bin_data[::-1])\n",
      "plot_steps(a)"
     ],
     "language": "python",
     "metadata": {},
     "outputs": [
      {
       "output_type": "stream",
       "stream": "stdout",
       "text": [
        "32\n",
        "55"
       ]
      },
      {
       "output_type": "stream",
       "stream": "stdout",
       "text": [
        "\n",
        "68"
       ]
      },
      {
       "output_type": "stream",
       "stream": "stdout",
       "text": [
        "\n"
       ]
      },
      {
       "metadata": {},
       "output_type": "display_data",
       "png": "[encoded data removed]",
       "text": [
        "<matplotlib.figure.Figure at 0x102eaff50>"
       ]
      }
     ],
     "prompt_number": 51
    },
    {
     "cell_type": "code",
     "collapsed": false,
     "input": [],
     "language": "python",
     "metadata": {},
     "outputs": []
    }
   ],
   "metadata": {}
  }
 ]
}