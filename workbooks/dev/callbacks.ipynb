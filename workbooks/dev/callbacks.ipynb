{
 "metadata": {
  "name": "",
  "signature": "sha256:4bb1b64fca65c6d3303edc3f20102482d0f3ab8dd094555487dbc80e6e3cc651"
 },
 "nbformat": 3,
 "nbformat_minor": 0,
 "worksheets": [
  {
   "cells": [
    {
     "cell_type": "code",
     "collapsed": false,
     "input": [
      "%load_ext autoreload\n",
      "%autoreload 2\n",
      "%matplotlib inline"
     ],
     "language": "python",
     "metadata": {},
     "outputs": [],
     "prompt_number": 1
    },
    {
     "cell_type": "code",
     "collapsed": false,
     "input": [
      "from __future__ import print_function, division\n",
      "import six, sys\n",
      "sys.path.append('..'); import pathcustomize, about\n",
      "about.about()\n",
      "\n",
      "import waldo\n",
      "from waldo import viz"
     ],
     "language": "python",
     "metadata": {},
     "outputs": [
      {
       "output_type": "stream",
       "stream": "stdout",
       "text": [
        "Python 2.7.8 (default, Jul 31 2014 17:07:51) [GCC 4.8.2] on linux2, Host: liverpool\n"
       ]
      }
     ],
     "prompt_number": 2
    },
    {
     "cell_type": "code",
     "collapsed": false,
     "input": [
      "#ex_id = '20130614_120518'\n",
      "#ex_id = '20130318_131111'\n",
      "#ex_id = '20130414_140704'\n",
      "ex_id = '20130702_135704' # many pics\n",
      "#ex_id = '20130702_135652' # many pics\n",
      "\n",
      "#experiment = waldo.Experiment(experiment_id=ex_id)\n",
      "experiment = waldo.Experiment(experiment_id=ex_id, callback=viz.ProgressBar('Loading Experiment').callback)\n",
      "graph = experiment.graph.copy()\n",
      "waldo.collider.remove_nodes_outside_roi(graph, experiment)\n",
      "len(graph)"
     ],
     "language": "python",
     "metadata": {},
     "outputs": [
      {
       "html": [
        "\n",
        "        <div style='width:700px;clear:both'>\n",
        "            <div style='width:150px;float:left;text-align:right;margin-right:10px'>Loading Experiment</div>\n",
        "            <div style='width:440px;float:left'>\n",
        "                <div class='progress' style='margin-bottom:5px'>\n",
        "                    <div id='8c30faa1-f07d-4ef2-b3f7-b634f17859ab' class='progress-striped progress-info bar' role='progressbar' aria-valuenow='0' aria-valuemin='0' aria-valuemax='100'>&nbsp;</div>\n",
        "                </div>\n",
        "            </div>\n",
        "            <div id='3e44d177-3b08-4a9a-a43a-e15f10fd7d97' style='width:70px;float:left;text-align:right;margin-left:10px'>\n",
        "                Starting...\n",
        "            </div>\n",
        "        </div>\n",
        "        "
       ],
       "metadata": {},
       "output_type": "display_data",
       "text": [
        "<IPython.core.display.HTML at 0x7fcc25a44410>"
       ]
      },
      {
       "javascript": [
        "$('#8c30faa1-f07d-4ef2-b3f7-b634f17859ab').css('width', 0+'%').attr('aria-valuenow', 0);"
       ],
       "metadata": {},
       "output_type": "display_data",
       "text": [
        "<IPython.core.display.Javascript at 0x7fcc25a442d0>"
       ]
      },
      {
       "javascript": [
        "$('div#3e44d177-3b08-4a9a-a43a-e15f10fd7d97').text('0.0%')"
       ],
       "metadata": {},
       "output_type": "display_data",
       "text": [
        "<IPython.core.display.Javascript at 0x7fcc25a443d0>"
       ]
      },
      {
       "javascript": [
        "$('#8c30faa1-f07d-4ef2-b3f7-b634f17859ab').css('width', 10+'%').attr('aria-valuenow', 10);"
       ],
       "metadata": {},
       "output_type": "display_data",
       "text": [
        "<IPython.core.display.Javascript at 0x7fcc2bd11f90>"
       ]
      },
      {
       "javascript": [
        "$('div#3e44d177-3b08-4a9a-a43a-e15f10fd7d97').text('9.8%')"
       ],
       "metadata": {},
       "output_type": "display_data",
       "text": [
        "<IPython.core.display.Javascript at 0x7fcc3f8057d0>"
       ]
      },
      {
       "javascript": [
        "$('#8c30faa1-f07d-4ef2-b3f7-b634f17859ab').css('width', 31+'%').attr('aria-valuenow', 31);"
       ],
       "metadata": {},
       "output_type": "display_data",
       "text": [
        "<IPython.core.display.Javascript at 0x7fcc2dec5210>"
       ]
      },
      {
       "javascript": [
        "$('div#3e44d177-3b08-4a9a-a43a-e15f10fd7d97').text('31.3%')"
       ],
       "metadata": {},
       "output_type": "display_data",
       "text": [
        "<IPython.core.display.Javascript at 0x7fcc3a40f210>"
       ]
      },
      {
       "javascript": [
        "$('#8c30faa1-f07d-4ef2-b3f7-b634f17859ab').css('width', 45+'%').attr('aria-valuenow', 45);"
       ],
       "metadata": {},
       "output_type": "display_data",
       "text": [
        "<IPython.core.display.Javascript at 0x7fcc3f8057d0>"
       ]
      },
      {
       "javascript": [
        "$('div#3e44d177-3b08-4a9a-a43a-e15f10fd7d97').text('45.2%')"
       ],
       "metadata": {},
       "output_type": "display_data",
       "text": [
        "<IPython.core.display.Javascript at 0x7fcc2bd11f90>"
       ]
      },
      {
       "javascript": [
        "$('#8c30faa1-f07d-4ef2-b3f7-b634f17859ab').css('width', 48+'%').attr('aria-valuenow', 48);"
       ],
       "metadata": {},
       "output_type": "display_data",
       "text": [
        "<IPython.core.display.Javascript at 0x7fcc3a40f210>"
       ]
      },
      {
       "javascript": [
        "$('div#3e44d177-3b08-4a9a-a43a-e15f10fd7d97').text('47.9%')"
       ],
       "metadata": {},
       "output_type": "display_data",
       "text": [
        "<IPython.core.display.Javascript at 0x7fcc3a40f290>"
       ]
      },
      {
       "javascript": [
        "$('#8c30faa1-f07d-4ef2-b3f7-b634f17859ab').css('width', 55+'%').attr('aria-valuenow', 55);"
       ],
       "metadata": {},
       "output_type": "display_data",
       "text": [
        "<IPython.core.display.Javascript at 0x7fcc2bd11f90>"
       ]
      },
      {
       "javascript": [
        "$('div#3e44d177-3b08-4a9a-a43a-e15f10fd7d97').text('55.1%')"
       ],
       "metadata": {},
       "output_type": "display_data",
       "text": [
        "<IPython.core.display.Javascript at 0x7fcc3a40f450>"
       ]
      },
      {
       "javascript": [
        "$('#8c30faa1-f07d-4ef2-b3f7-b634f17859ab').css('width', 62+'%').attr('aria-valuenow', 62);"
       ],
       "metadata": {},
       "output_type": "display_data",
       "text": [
        "<IPython.core.display.Javascript at 0x7fcc3a40f290>"
       ]
      },
      {
       "javascript": [
        "$('div#3e44d177-3b08-4a9a-a43a-e15f10fd7d97').text('62.3%')"
       ],
       "metadata": {},
       "output_type": "display_data",
       "text": [
        "<IPython.core.display.Javascript at 0x7fcc3a40f210>"
       ]
      },
      {
       "javascript": [
        "$('#8c30faa1-f07d-4ef2-b3f7-b634f17859ab').css('width', 77+'%').attr('aria-valuenow', 77);"
       ],
       "metadata": {},
       "output_type": "display_data",
       "text": [
        "<IPython.core.display.Javascript at 0x7fcc3a40f450>"
       ]
      },
      {
       "javascript": [
        "$('div#3e44d177-3b08-4a9a-a43a-e15f10fd7d97').text('76.6%')"
       ],
       "metadata": {},
       "output_type": "display_data",
       "text": [
        "<IPython.core.display.Javascript at 0x7fcc3a40f210>"
       ]
      },
      {
       "javascript": [
        "$('#8c30faa1-f07d-4ef2-b3f7-b634f17859ab').css('width', 100+'%').attr('aria-valuenow', 100);"
       ],
       "metadata": {},
       "output_type": "display_data",
       "text": [
        "<IPython.core.display.Javascript at 0x7fcc3a40f210>"
       ]
      },
      {
       "javascript": [
        "$('div#3e44d177-3b08-4a9a-a43a-e15f10fd7d97').text('Done!')"
       ],
       "metadata": {},
       "output_type": "display_data",
       "text": [
        "<IPython.core.display.Javascript at 0x7fcc3a40f450>"
       ]
      },
      {
       "metadata": {},
       "output_type": "pyout",
       "prompt_number": 8,
       "text": [
        "11098"
       ]
      }
     ],
     "prompt_number": 8
    },
    {
     "cell_type": "code",
     "collapsed": false,
     "input": [],
     "language": "python",
     "metadata": {},
     "outputs": [
      {
       "metadata": {},
       "output_type": "pyout",
       "prompt_number": 9,
       "text": [
        "3600.138"
       ]
      }
     ],
     "prompt_number": 9
    },
    {
     "cell_type": "code",
     "collapsed": false,
     "input": [
      "dd = {}\n"
     ],
     "language": "python",
     "metadata": {},
     "outputs": [],
     "prompt_number": 6
    },
    {
     "cell_type": "code",
     "collapsed": false,
     "input": [],
     "language": "python",
     "metadata": {},
     "outputs": []
    }
   ],
   "metadata": {}
  }
 ]
}