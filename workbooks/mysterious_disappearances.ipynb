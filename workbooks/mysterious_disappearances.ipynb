{
 "metadata": {
  "name": "",
  "signature": "sha256:57c4d24278d279dffd97f80818bf6d5f367e787ee7759e298741d8f5b82011ce"
 },
 "nbformat": 3,
 "nbformat_minor": 0,
 "worksheets": [
  {
   "cells": [
    {
     "cell_type": "markdown",
     "metadata": {},
     "source": [
      "![I want to believe](http://www.famouspictures.org/wp-content/uploads/2013/05/I_want_to_believe5.jpg)\n",
      "<center><h2>Investigating Mysterious Blob Disappearences</h2></center><br />"
     ]
    },
    {
     "cell_type": "code",
     "collapsed": false,
     "input": [
      "%load_ext autoreload\n",
      "%autoreload 2\n",
      "%matplotlib inline"
     ],
     "language": "python",
     "metadata": {},
     "outputs": []
    },
    {
     "cell_type": "code",
     "collapsed": false,
     "input": [
      "from __future__ import print_function, absolute_import, unicode_literals, division\n",
      "import six\n",
      "from six.moves import (zip, filter, map, reduce, input, range)\n",
      "\n",
      "import pathcustomize\n",
      "\n",
      "import itertools\n",
      "import io\n",
      "\n",
      "import graphviz\n",
      "import matplotlib.pyplot as plt\n",
      "import matplotlib.patches as mpatches\n",
      "from matplotlib.collections import PatchCollection\n",
      "import networkx as nx\n",
      "from IPython.core.display import Image as display_image\n",
      "\n",
      "import multiworm\n",
      "import where\n",
      "import wio2"
     ],
     "language": "python",
     "metadata": {},
     "outputs": []
    },
    {
     "cell_type": "code",
     "collapsed": false,
     "input": [
      "#ex_id = '20130614_120518'\n",
      "ex_id = '20130318_131111'\n",
      "#ex_id = '20130414_140704'"
     ],
     "language": "python",
     "metadata": {},
     "outputs": []
    },
    {
     "cell_type": "code",
     "collapsed": false,
     "input": [
      "#loners = sum(1 for x in filter(lambda node_degree: node_degree[1] == 0, dig.degree_iter()))\n",
      "\n",
      "def network_report(digraph, nodes=None, verbose=True):\n",
      "    if nodes is None:\n",
      "        nodes = digraph\n",
      "\n",
      "    idig1, idig2, idig3 = itertools.tee(nodes, 3)\n",
      "\n",
      "    loners = set()\n",
      "    origins = set()\n",
      "    terminals = set()\n",
      "\n",
      "    fissioned = set()\n",
      "    fused = set()\n",
      "    \n",
      "    for count, node, (_, in_deg), (_, out_deg) in zip(\n",
      "            itertools.count(start=1), \n",
      "            idig1, \n",
      "            dig.in_degree_iter(idig2), \n",
      "            dig.out_degree_iter(idig3)):\n",
      "        if in_deg == 0 and out_deg == 0:\n",
      "            loners.add(node)\n",
      "        elif in_deg == 0:\n",
      "            origins.add(node)\n",
      "        elif out_deg == 0:\n",
      "            terminals.add(node)\n",
      "\n",
      "        if out_deg == 2:\n",
      "            fissioned.add(node)\n",
      "        elif in_deg == 2:\n",
      "            fused.add(node)\n",
      "\n",
      "    if verbose:\n",
      "        print('Total blobs:       {:6d}'.format(count))\n",
      "        print('-'*30)\n",
      "        print('0-degree blobs:    {:6d}'.format(len(loners)))\n",
      "        print('Aether-born blobs: {:6d}'.format(len(origins)))\n",
      "        print('Abducted blobs:    {:6d}'.format(len(terminals)))\n",
      "        print('-'*30)\n",
      "        print('Fused blobs:       {:6d}'.format(len(fused)))\n",
      "        print('Fissioned blobs:   {:6d}'.format(len(fissioned)))\n",
      "    return fused, fissioned"
     ],
     "language": "python",
     "metadata": {},
     "outputs": []
    },
    {
     "cell_type": "code",
     "collapsed": false,
     "input": [
      "experiment = multiworm.Experiment(where.where(ex_id))\n",
      "experiment.load_summary(graph=True)\n",
      "dig = experiment.collision_graph"
     ],
     "language": "python",
     "metadata": {},
     "outputs": []
    },
    {
     "cell_type": "code",
     "collapsed": false,
     "input": [
      "processed = wio2.Experiment(ex_id)\n",
      "processed_ids = list(processed)\n",
      "# all joined blobs will fall under fissioned blobs, need to look for that."
     ],
     "language": "python",
     "metadata": {},
     "outputs": []
    },
    {
     "cell_type": "code",
     "collapsed": false,
     "input": [
      "print('Everything')\n",
      "print('='*30)\n",
      "network_report(dig)\n",
      "\n",
      "print('\\n\\nJust the good parsed blobs')\n",
      "print('='*30)\n",
      "fused, fissioned = network_report(dig, processed)\n"
     ],
     "language": "python",
     "metadata": {},
     "outputs": []
    },
    {
     "cell_type": "code",
     "collapsed": false,
     "input": [
      "print(fused)\n",
      "print(fissioned)"
     ],
     "language": "python",
     "metadata": {},
     "outputs": []
    },
    {
     "cell_type": "code",
     "collapsed": false,
     "input": [
      "# ex_id 20130318_131111\n",
      "#target = 44353 # massive collision history\n",
      "#target = 9858 # quite large, this one connects 3 GOOD BLOBS.\n",
      "#target = 1500 # also quite large\n",
      "#target = 9176 # also quite large\n",
      "#target = 11703 # also quite large\n",
      "#target = 13983 # absurdly huge, takes ~1 minute to plot\n",
      "target = 3193 # simple, just has progenitors\n",
      "#target = 42679 # extremely simple, 2 progenitors with 1 common grandparent\n",
      "target = 930 # interesting fork leading to it\n",
      "\n",
      "print(dig.successors(target))\n",
      "print(dig.predecessors(target))"
     ],
     "language": "python",
     "metadata": {},
     "outputs": []
    },
    {
     "cell_type": "code",
     "collapsed": false,
     "input": [
      "subdig = dig.subgraph(itertools.chain([target], nx.bfs_tree(dig, target, reverse=False), nx.bfs_tree(dig, target, reverse=True)))\n",
      "#dot_src = (dig.subgraph([target] + list(nx.bfs_tree(dig, target, reverse=True)) + list(nx.bfs_tree(dig, target))))\n",
      "#dotbuf = io.BytesIO()\n",
      "positions = nx.graphviz_layout(subdig, prog='dot')\n",
      "\n",
      "f, ax = plt.subplots()\n",
      "f.set_size_inches(5, 12)\n",
      "ax.axis('equal')\n",
      "#nx.draw_graphviz(subdig)\n",
      "nx.draw_networkx_nodes(subdig, positions, ax=ax)\n",
      "nx.draw_networkx_nodes(subdig, positions, set(processed_ids) & set(subdig), node_color='g', ax=ax)\n",
      "nx.draw_networkx_labels(subdig, positions, ax=ax)\n",
      "nx.draw_networkx_edges(subdig, positions, ax=ax)\n",
      "pass"
     ],
     "language": "python",
     "metadata": {},
     "outputs": []
    },
    {
     "cell_type": "code",
     "collapsed": false,
     "input": [
      "def to_dot(nx_digraph):\n",
      "    dot = graphviz.Digraph(format='png')\n",
      "    for edge in nx_digraph.edges_iter():\n",
      "        dot.edge(*[str(node) for node in edge])\n",
      "    return dot\n",
      "\n",
      "def color_nodes(dot_graph, target_nodes, color=\".7 .3 1.0\"):\n",
      "    for node in target_nodes:\n",
      "        dot_graph.node(str(node), color=color, style='filled')\n",
      "        \n",
      "mydot = to_dot(subdig)\n",
      "color_nodes(mydot, set(processed_ids) & set(subdig))\n",
      "rendered_image = mydot.render(filename='dot.tmp')\n",
      "display_image(filename=rendered_image)"
     ],
     "language": "python",
     "metadata": {},
     "outputs": []
    },
    {
     "cell_type": "code",
     "collapsed": false,
     "input": [
      "ids = []\n",
      "born = []\n",
      "died = []\n",
      "for blob in subdig:\n",
      "    ids.append(blob)\n",
      "    born.append(experiment.summary_data(blob)['born_f'])\n",
      "    died.append(experiment.summary_data(blob)['died_f'])\n",
      "\n",
      "'''\n",
      "N_times = max(died) - min(born)\n",
      "N_blobs = len(ids)\n",
      "mesh = np.zeros((N_blobs, N_times))\n",
      "for i, (bid, row) in enumerate(blobs.iterrows()):\n",
      "    start, end = int(row['t0']), int(row['tN'])\n",
      "    fill = fill_choice.get(row[color_col], -1)\n",
      "    mesh[i][start:end] = fill\n",
      "'''\n",
      "pass"
     ],
     "language": "python",
     "metadata": {},
     "outputs": []
    },
    {
     "cell_type": "code",
     "collapsed": false,
     "input": [
      "def birth_key(p): return p.get_x()\n",
      "def death_key(p): return p.get_x() + p.get_width()\n",
      "def lifespan_key(p): return p.get_width()\n",
      "def id_key(p): return p.blob_id\n",
      "\n",
      "def bars(ids, births, deaths, vertical_sort_key=None, color_sort_key=None):\n",
      "    # dirty code robbed from really old plots\n",
      "    if vertical_sort_key is None:\n",
      "        vertical_sort_key = birth_key\n",
      "    if color_sort_key is None:\n",
      "        color_sort_key = lifespan_key\n",
      "\n",
      "    # sort bars vertically\n",
      "    color_sort_map = plt.cm.RdYlBu\n",
      "    minimum_time = -10\n",
      "\n",
      "    # make some timeline bars\n",
      "    f2 = plt.figure()\n",
      "    f2.set_size_inches([10,8])\n",
      "    f2a1 = f2.add_subplot(111, axisbg='white')\n",
      "    f2a1.set_title('Timeline view of blobs connected to #{}'.format(target))\n",
      "    patches = []\n",
      "    life_max, life_min = float('+inf'), float('-inf')\n",
      "    for blob_id, birth, death in zip(ids, births, deaths):\n",
      "        lifetime = death - birth\n",
      "        life_max = min(lifetime, life_max)\n",
      "        life_min = max(lifetime, life_min)\n",
      "        if lifetime > minimum_time:\n",
      "            timeline = mpatches.Rectangle((birth, 0), width=lifetime, height=1, \n",
      "                    linewidth=0, edgecolor='black')\n",
      "            timeline.blob_id = blob_id\n",
      "            patches.append(timeline)\n",
      "\n",
      "    # sort vertically by whatever key\n",
      "    for i, bar in enumerate(sorted(patches, key=vertical_sort_key)):\n",
      "        bar.set_y(i)\n",
      "\n",
      "    # color progressively based on whatever key\n",
      "    for i, bar in enumerate(sorted(patches, key=color_sort_key)):\n",
      "        bar.set_color(color_sort_map(i/len(patches)))\n",
      "        \n",
      "    #colors = np.linspace(0,100,len(patches))\n",
      "    # MPL docs say collections draw faster\n",
      "    collection = PatchCollection(patches, match_original=True)#, cmap=matplotlib.cm.Greys, alpha=0.4)\n",
      "    #collection.set_array(np.array(colors))\n",
      "    f2a1.add_collection(collection)\n",
      "    f2a1.set_xlim(min(births), max(deaths))\n",
      "    f2a1.set_ylim(len(patches), 0)\n",
      "    f2a1.set_yticks([x+0.5 for x in range(len(patches))])\n",
      "    f2a1.set_yticklabels([patch.blob_id for patch in sorted(patches, key=lambda p: p.get_y())])\n",
      "    f2a1.set_xlabel('Frame')\n",
      "\n",
      "    return f2, f2a1\n",
      "\n",
      "bars(ids, born, died)\n",
      "plt.show()\n"
     ],
     "language": "python",
     "metadata": {},
     "outputs": []
    },
    {
     "cell_type": "code",
     "collapsed": false,
     "input": [],
     "language": "python",
     "metadata": {},
     "outputs": []
    }
   ],
   "metadata": {}
  }
 ]
}