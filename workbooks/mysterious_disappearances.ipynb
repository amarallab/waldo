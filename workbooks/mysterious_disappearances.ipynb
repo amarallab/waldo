{
 "metadata": {
  "name": "",
  "signature": "sha256:71f0d18e8cd244500961f8a4a018e0364f191f94a36d73ca76e2d89701495f9c"
 },
 "nbformat": 3,
 "nbformat_minor": 0,
 "worksheets": [
  {
   "cells": [
    {
     "cell_type": "markdown",
     "metadata": {},
     "source": [
      "![I want to believe](http://www.famouspictures.org/wp-content/uploads/2013/05/I_want_to_believe5.jpg)\n",
      "<center><h2>Investigating Mysterious Blob Disappearences</h2></center><br />"
     ]
    },
    {
     "cell_type": "code",
     "collapsed": false,
     "input": [
      "%load_ext autoreload\n",
      "%autoreload 2\n",
      "%matplotlib inline"
     ],
     "language": "python",
     "metadata": {},
     "outputs": [],
     "prompt_number": 1
    },
    {
     "cell_type": "code",
     "collapsed": false,
     "input": [
      "from __future__ import print_function, absolute_import, unicode_literals, division\n",
      "import six\n",
      "from six.moves import (zip, filter, map, reduce, input, range)\n",
      "\n",
      "import pathcustomize\n",
      "\n",
      "import itertools\n",
      "\n",
      "import multiworm\n",
      "import where\n",
      "import wio2"
     ],
     "language": "python",
     "metadata": {},
     "outputs": [],
     "prompt_number": 2
    },
    {
     "cell_type": "code",
     "collapsed": false,
     "input": [
      "#ex_id = '20130614_120518'\n",
      "ex_id = '20130318_131111'"
     ],
     "language": "python",
     "metadata": {},
     "outputs": [],
     "prompt_number": 3
    },
    {
     "cell_type": "code",
     "collapsed": false,
     "input": [
      "#loners = sum(1 for x in filter(lambda node_degree: node_degree[1] == 0, dig.degree_iter()))\n",
      "\n",
      "def network_report(digraph, nodes=None, verbose=True):\n",
      "    if nodes is None:\n",
      "        nodes = digraph\n",
      "\n",
      "    idig1, idig2, idig3 = itertools.tee(nodes, 3)\n",
      "\n",
      "    loners = set()\n",
      "    origins = set()\n",
      "    terminals = set()\n",
      "\n",
      "    fissioned = set()\n",
      "    fused = set()\n",
      "    \n",
      "    for count, node, (_, in_deg), (_, out_deg) in zip(\n",
      "            itertools.count(start=1), \n",
      "            idig1, \n",
      "            dig.in_degree_iter(idig2), \n",
      "            dig.out_degree_iter(idig3)):\n",
      "        if in_deg == 0 and out_deg == 0:\n",
      "            loners.add(node)\n",
      "        elif in_deg == 0:\n",
      "            origins.add(node)\n",
      "        elif out_deg == 0:\n",
      "            terminals.add(node)\n",
      "\n",
      "        if out_deg == 2:\n",
      "            fissioned.add(node)\n",
      "        elif in_deg == 2:\n",
      "            fused.add(node)\n",
      "\n",
      "    if verbose:\n",
      "        print('Total blobs:       {:6d}'.format(count))\n",
      "        print('-'*30)\n",
      "        print('0-degree blobs:    {:6d}'.format(len(loners)))\n",
      "        print('Aether-born blobs: {:6d}'.format(len(origins)))\n",
      "        print('Abducted blobs:    {:6d}'.format(len(terminals)))\n",
      "        print('-'*30)\n",
      "        print('Fused blobs:       {:6d}'.format(len(fused)))\n",
      "        print('Fissioned blobs:   {:6d}'.format(len(fissioned)))\n",
      "    return fused, fissioned"
     ],
     "language": "python",
     "metadata": {},
     "outputs": [],
     "prompt_number": 10
    },
    {
     "cell_type": "code",
     "collapsed": false,
     "input": [
      "experiment = multiworm.Experiment(where.where(ex_id))\n",
      "experiment.load_summary(graph=True)\n",
      "dig = experiment.collision_graph"
     ],
     "language": "python",
     "metadata": {},
     "outputs": [],
     "prompt_number": 11
    },
    {
     "cell_type": "code",
     "collapsed": false,
     "input": [
      "processed = wio2.Experiment(ex_id)\n",
      "processed_ids = [worm_id for (worm_id, data) in processed]\n",
      "# all joined blobs will fall under fissioned blobs, need to look for that."
     ],
     "language": "python",
     "metadata": {},
     "outputs": [],
     "prompt_number": 12
    },
    {
     "cell_type": "code",
     "collapsed": false,
     "input": [
      "print('Everything')\n",
      "print('='*30)\n",
      "network_report(dig)\n",
      "\n",
      "print('\\n\\nJust the good parsed blobs')\n",
      "print('='*30)\n",
      "fused, fissioned = network_report(dig, iter(processed_ids))\n"
     ],
     "language": "python",
     "metadata": {},
     "outputs": [
      {
       "output_type": "stream",
       "stream": "stdout",
       "text": [
        "Everything\n",
        "==============================\n",
        "Total blobs:        68081"
       ]
      },
      {
       "output_type": "stream",
       "stream": "stdout",
       "text": [
        "\n",
        "------------------------------\n",
        "0-degree blobs:      2028\n",
        "Aether-born blobs:    331\n",
        "Abducted blobs:      3428\n",
        "------------------------------\n",
        "Fused blobs:         4435\n",
        "Fissioned blobs:    20033\n",
        "\n",
        "\n",
        "Just the good parsed blobs\n",
        "==============================\n",
        "Total blobs:           30\n",
        "------------------------------\n",
        "0-degree blobs:         6\n",
        "Aether-born blobs:      4\n",
        "Abducted blobs:         4\n",
        "------------------------------\n",
        "Fused blobs:            5\n",
        "Fissioned blobs:       18\n"
       ]
      }
     ],
     "prompt_number": 14
    },
    {
     "cell_type": "code",
     "collapsed": false,
     "input": [
      "fused"
     ],
     "language": "python",
     "metadata": {},
     "outputs": [
      {
       "metadata": {},
       "output_type": "pyout",
       "prompt_number": 15,
       "text": [
        "{3193, 43452, 49044, 50712, 61632}"
       ]
      }
     ],
     "prompt_number": 15
    },
    {
     "cell_type": "code",
     "collapsed": false,
     "input": [],
     "language": "python",
     "metadata": {},
     "outputs": []
    }
   ],
   "metadata": {}
  }
 ]
}