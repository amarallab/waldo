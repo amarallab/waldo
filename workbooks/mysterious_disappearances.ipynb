{
 "metadata": {
  "name": "",
  "signature": "sha256:4f8a50f6cafc4076294bf0d240aa1faae3a86f334bbb2fcaad423b95c1a39d16"
 },
 "nbformat": 3,
 "nbformat_minor": 0,
 "worksheets": [
  {
   "cells": [
    {
     "cell_type": "markdown",
     "metadata": {},
     "source": [
      "![I want to believe](http://www.famouspictures.org/wp-content/uploads/2013/05/I_want_to_believe5.jpg)\n",
      "<center><h1>Investigating Mysterious Blob Disappearences</h1></center><br />"
     ]
    },
    {
     "cell_type": "code",
     "collapsed": false,
     "input": [
      "%load_ext autoreload\n",
      "%autoreload 2\n",
      "%matplotlib inline"
     ],
     "language": "python",
     "metadata": {},
     "outputs": [
      {
       "output_type": "stream",
       "stream": "stdout",
       "text": [
        "The autoreload extension is already loaded. To reload it, use:\n",
        "  %reload_ext autoreload\n"
       ]
      }
     ],
     "prompt_number": 13
    },
    {
     "cell_type": "code",
     "collapsed": false,
     "input": [
      "from __future__ import print_function, absolute_import, unicode_literals, division\n",
      "import six\n",
      "from six.moves import (zip, filter, map, reduce, input, range)\n",
      "\n",
      "import pathcustomize\n",
      "\n",
      "import itertools\n",
      "import io\n",
      "\n",
      "import numpy as np\n",
      "import graphviz\n",
      "import matplotlib.pyplot as plt\n",
      "import matplotlib.colors as mplcolor\n",
      "import matplotlib.patches as mpatches\n",
      "from matplotlib.collections import PatchCollection\n",
      "import networkx as nx\n",
      "from IPython.core.display import Image as display_image\n",
      "\n",
      "import multiworm\n",
      "import where\n",
      "import wio2"
     ],
     "language": "python",
     "metadata": {},
     "outputs": [],
     "prompt_number": 14
    },
    {
     "cell_type": "code",
     "collapsed": false,
     "input": [
      "#ex_id = '20130614_120518'\n",
      "ex_id = '20130318_131111'\n",
      "#ex_id = '20130414_140704'"
     ],
     "language": "python",
     "metadata": {},
     "outputs": [],
     "prompt_number": 15
    },
    {
     "cell_type": "code",
     "collapsed": false,
     "input": [
      "#loners = sum(1 for x in filter(lambda node_degree: node_degree[1] == 0, dig.degree_iter()))\n",
      "\n",
      "def network_report(digraph, nodes=None, verbose=True):\n",
      "    if nodes is None:\n",
      "        nodes = digraph\n",
      "\n",
      "    idig1, idig2, idig3 = itertools.tee(nodes, 3)\n",
      "\n",
      "    loners = set()\n",
      "    origins = set()\n",
      "    terminals = set()\n",
      "\n",
      "    fissioned = set()\n",
      "    fused = set()\n",
      "    \n",
      "    for count, node, (_, in_deg), (_, out_deg) in zip(\n",
      "            itertools.count(start=1), \n",
      "            idig1, \n",
      "            dig.in_degree_iter(idig2), \n",
      "            dig.out_degree_iter(idig3)):\n",
      "        if in_deg == 0 and out_deg == 0:\n",
      "            loners.add(node)\n",
      "        elif in_deg == 0:\n",
      "            origins.add(node)\n",
      "        elif out_deg == 0:\n",
      "            terminals.add(node)\n",
      "\n",
      "        if out_deg == 2:\n",
      "            fissioned.add(node)\n",
      "        elif in_deg == 2:\n",
      "            fused.add(node)\n",
      "\n",
      "    if verbose:\n",
      "        print('Total blobs:       {:6d}'.format(count))\n",
      "        print('-'*30)\n",
      "        print('0-degree blobs:    {:6d}'.format(len(loners)))\n",
      "        print('Aether-born blobs: {:6d}'.format(len(origins)))\n",
      "        print('Abducted blobs:    {:6d}'.format(len(terminals)))\n",
      "        print('-'*30)\n",
      "        print('Fused blobs:       {:6d}'.format(len(fused)))\n",
      "        print('Fissioned blobs:   {:6d}'.format(len(fissioned)))\n",
      "    return fused, fissioned"
     ],
     "language": "python",
     "metadata": {},
     "outputs": [],
     "prompt_number": 16
    },
    {
     "cell_type": "code",
     "collapsed": false,
     "input": [
      "experiment = multiworm.Experiment(where.where(ex_id))\n",
      "experiment.load_summary(graph=True)\n",
      "dig = experiment.collision_graph"
     ],
     "language": "python",
     "metadata": {},
     "outputs": [],
     "prompt_number": 17
    },
    {
     "cell_type": "code",
     "collapsed": false,
     "input": [
      "processed = wio2.Experiment(ex_id)\n",
      "processed_ids = list(processed)\n",
      "# all joined blobs will fall under fissioned blobs, need to look for that."
     ],
     "language": "python",
     "metadata": {},
     "outputs": [],
     "prompt_number": 18
    },
    {
     "cell_type": "code",
     "collapsed": false,
     "input": [
      "print('Everything')\n",
      "print('='*30)\n",
      "network_report(dig)\n",
      "\n",
      "print('\\n\\nJust the good parsed blobs')\n",
      "print('='*30)\n",
      "fused, fissioned = network_report(dig, processed)\n"
     ],
     "language": "python",
     "metadata": {},
     "outputs": [
      {
       "output_type": "stream",
       "stream": "stdout",
       "text": [
        "Everything\n",
        "==============================\n",
        "Total blobs:        68081"
       ]
      },
      {
       "output_type": "stream",
       "stream": "stdout",
       "text": [
        "\n",
        "------------------------------\n",
        "0-degree blobs:      2028\n",
        "Aether-born blobs:    331\n",
        "Abducted blobs:      3428\n",
        "------------------------------\n",
        "Fused blobs:         4435\n",
        "Fissioned blobs:    20033\n",
        "\n",
        "\n",
        "Just the good parsed blobs\n",
        "==============================\n",
        "Total blobs:           30\n",
        "------------------------------\n",
        "0-degree blobs:         6\n",
        "Aether-born blobs:      4\n",
        "Abducted blobs:         4\n",
        "------------------------------\n",
        "Fused blobs:            5\n",
        "Fissioned blobs:       18\n"
       ]
      }
     ],
     "prompt_number": 19
    },
    {
     "cell_type": "code",
     "collapsed": false,
     "input": [
      "print(fused)\n",
      "print(fissioned)"
     ],
     "language": "python",
     "metadata": {},
     "outputs": [
      {
       "output_type": "stream",
       "stream": "stdout",
       "text": [
        "set([50712, 43452, 49044, 3193, 61632])\n",
        "set([44353, 9858, 13063, 11528, 42679, 32350, 930, 48270, 54320, 3509, 11703, 9176, 33497, 32282, 1500, 42746, 36062, 13983])\n"
       ]
      }
     ],
     "prompt_number": 20
    },
    {
     "cell_type": "code",
     "collapsed": false,
     "input": [
      "# ex_id 20130318_131111\n",
      "#target = 44353 # massive collision history\n",
      "#target = 9858 # quite large, this one connects 3 GOOD BLOBS.\n",
      "#target = 1500 # also quite large\n",
      "#target = 9176 # also quite large\n",
      "#target = 11703 # also quite large\n",
      "#target = 13983 # absurdly huge, takes ~1 minute to plot\n",
      "#target = 3193 # simple, just has progenitors\n",
      "#target = 42679 # extremely simple, 2 progenitors with 1 common grandparent\n",
      "target = 930 # interesting fork leading to it\n",
      "#target=24\n",
      "\n",
      "print(dig.successors(target))\n",
      "print(dig.predecessors(target))"
     ],
     "language": "python",
     "metadata": {},
     "outputs": [
      {
       "output_type": "stream",
       "stream": "stdout",
       "text": [
        "[2611, 2612]\n",
        "[913]\n"
       ]
      }
     ],
     "prompt_number": 21
    },
    {
     "cell_type": "code",
     "collapsed": false,
     "input": [
      "subdig = dig.subgraph(itertools.chain([target], nx.bfs_tree(dig, target, reverse=False), nx.bfs_tree(dig, target, reverse=True)))\n",
      "#dot_src = (dig.subgraph([target] + list(nx.bfs_tree(dig, target, reverse=True)) + list(nx.bfs_tree(dig, target))))\n",
      "#dotbuf = io.BytesIO()\n",
      "positions = nx.graphviz_layout(subdig, prog='dot')\n",
      "\n",
      "f, ax = plt.subplots()\n",
      "f.set_size_inches(5, 12)\n",
      "ax.axis('equal')\n",
      "#nx.draw_graphviz(subdig)\n",
      "nx.draw_networkx_nodes(subdig, positions, ax=ax)\n",
      "nx.draw_networkx_nodes(subdig, positions, set(processed_ids) & set(subdig), node_color='g', ax=ax)\n",
      "nx.draw_networkx_labels(subdig, positions, ax=ax)\n",
      "nx.draw_networkx_edges(subdig, positions, ax=ax)\n",
      "pass"
     ],
     "language": "python",
     "metadata": {},
     "outputs": [
      {
       "ename": "TypeError",
       "evalue": "bfs_tree() got an unexpected keyword argument 'reverse'",
       "output_type": "pyerr",
       "traceback": [
        "\u001b[1;31m---------------------------------------------------------------------------\u001b[0m\n\u001b[1;31mTypeError\u001b[0m                                 Traceback (most recent call last)",
        "\u001b[1;32m<ipython-input-22-0fde889acbe9>\u001b[0m in \u001b[0;36m<module>\u001b[1;34m()\u001b[0m\n\u001b[1;32m----> 1\u001b[1;33m \u001b[0msubdig\u001b[0m \u001b[1;33m=\u001b[0m \u001b[0mdig\u001b[0m\u001b[1;33m.\u001b[0m\u001b[0msubgraph\u001b[0m\u001b[1;33m(\u001b[0m\u001b[0mitertools\u001b[0m\u001b[1;33m.\u001b[0m\u001b[0mchain\u001b[0m\u001b[1;33m(\u001b[0m\u001b[1;33m[\u001b[0m\u001b[0mtarget\u001b[0m\u001b[1;33m]\u001b[0m\u001b[1;33m,\u001b[0m \u001b[0mnx\u001b[0m\u001b[1;33m.\u001b[0m\u001b[0mbfs_tree\u001b[0m\u001b[1;33m(\u001b[0m\u001b[0mdig\u001b[0m\u001b[1;33m,\u001b[0m \u001b[0mtarget\u001b[0m\u001b[1;33m,\u001b[0m \u001b[0mreverse\u001b[0m\u001b[1;33m=\u001b[0m\u001b[0mFalse\u001b[0m\u001b[1;33m)\u001b[0m\u001b[1;33m,\u001b[0m \u001b[0mnx\u001b[0m\u001b[1;33m.\u001b[0m\u001b[0mbfs_tree\u001b[0m\u001b[1;33m(\u001b[0m\u001b[0mdig\u001b[0m\u001b[1;33m,\u001b[0m \u001b[0mtarget\u001b[0m\u001b[1;33m,\u001b[0m \u001b[0mreverse\u001b[0m\u001b[1;33m=\u001b[0m\u001b[0mTrue\u001b[0m\u001b[1;33m)\u001b[0m\u001b[1;33m)\u001b[0m\u001b[1;33m)\u001b[0m\u001b[1;33m\u001b[0m\u001b[0m\n\u001b[0m\u001b[0;32m      2\u001b[0m \u001b[1;31m#dot_src = (dig.subgraph([target] + list(nx.bfs_tree(dig, target, reverse=True)) + list(nx.bfs_tree(dig, target))))\u001b[0m\u001b[1;33m\u001b[0m\u001b[1;33m\u001b[0m\u001b[0m\n\u001b[0;32m      3\u001b[0m \u001b[1;31m#dotbuf = io.BytesIO()\u001b[0m\u001b[1;33m\u001b[0m\u001b[1;33m\u001b[0m\u001b[0m\n\u001b[0;32m      4\u001b[0m \u001b[0mpositions\u001b[0m \u001b[1;33m=\u001b[0m \u001b[0mnx\u001b[0m\u001b[1;33m.\u001b[0m\u001b[0mgraphviz_layout\u001b[0m\u001b[1;33m(\u001b[0m\u001b[0msubdig\u001b[0m\u001b[1;33m,\u001b[0m \u001b[0mprog\u001b[0m\u001b[1;33m=\u001b[0m\u001b[1;34m'dot'\u001b[0m\u001b[1;33m)\u001b[0m\u001b[1;33m\u001b[0m\u001b[0m\n\u001b[0;32m      5\u001b[0m \u001b[1;33m\u001b[0m\u001b[0m\n",
        "\u001b[1;31mTypeError\u001b[0m: bfs_tree() got an unexpected keyword argument 'reverse'"
       ]
      }
     ],
     "prompt_number": 22
    },
    {
     "cell_type": "code",
     "collapsed": false,
     "input": [
      "\n",
      "#time_steps = np.logspace(0, 4, color_steps)\n",
      "#palette = plt.cm.get_cmap('jet', color_steps)(np.arange(color_steps))[...,:3]\n",
      "#pprint(list(zip(time_steps, palette)))\n",
      "#palette.tolist()\n",
      "\n",
      "def get_color(scalerange, value, cmap='jet'):\n",
      "    cm = plt.cm.get_cmap(cmap)\n",
      "    val = (np.log10(value+1e-100) - scalerange[0])/(scalerange[1] - scalerange[0])\n",
      "    color = mplcolor.rgb2hex(cm(val)[:3])\n",
      "    return color\n",
      "\n",
      "get_color((2, 4), 1000)"
     ],
     "language": "python",
     "metadata": {},
     "outputs": []
    },
    {
     "cell_type": "code",
     "collapsed": false,
     "input": [
      "def to_dot(nx_digraph):\n",
      "    dot = graphviz.Digraph(format='png')\n",
      "    for edge in nx_digraph.edges_iter():\n",
      "        dot.edge(*[str(node) for node in edge])\n",
      "    return dot\n",
      "\n",
      "DEFAULT_COLOR = {\n",
      "    'color': '.7 .3 1.0',\n",
      "    'penwidth': '5',\n",
      "}\n",
      "def style_nodes(dot_graph, target_nodes, **styles):\n",
      "    style = DEFAULT_COLOR.copy()\n",
      "    style.update(styles)\n",
      "    for node in target_nodes:\n",
      "        dot_graph.node(str(node), **style)\n",
      "        \n",
      "def blob_life(experiment, bid):\n",
      "    return experiment.summary_data(bid)['died_f'] - experiment.summary_data(bid)['born_f']\n",
      "    \n",
      "blobs_life = [(bid, blob_life(experiment, bid)) for bid in subdig]\n",
      "   \n",
      "mydot = to_dot(subdig)\n",
      "\n",
      "colormap = 'jet_r'\n",
      "\n",
      "for bid, life in blobs_life:\n",
      "    style_nodes(mydot, set([bid]), color=get_color((-0.5, 4), life, colormap))\n",
      "    \n",
      "reference = [0, 1, 3, 10, 30, 100, 300, 1000, 3000]\n",
      "iterref = iter(reference)\n",
      "source = six.next(iterref)\n",
      "for dest in iterref:\n",
      "    mydot.edge('{} frames'.format(source), '{} frames'.format(dest))\n",
      "    source = dest\n",
      "for ref_node in reference:\n",
      "    style_nodes(mydot, set(['{} frames'.format(ref_node)]), color=get_color((-0.5, 4), ref_node, colormap))\n",
      "\n",
      "style_nodes(mydot, set(processed_ids) & set(subdig))\n",
      "rendered_image = mydot.render(filename='dot.tmp')\n",
      "display_image(filename=rendered_image)"
     ],
     "language": "python",
     "metadata": {},
     "outputs": []
    },
    {
     "cell_type": "code",
     "collapsed": false,
     "input": [
      "import collider.viz\n",
      "display_image(collider.viz.render_nx_as_dot(subdig))"
     ],
     "language": "python",
     "metadata": {},
     "outputs": []
    },
    {
     "cell_type": "code",
     "collapsed": false,
     "input": [
      "ids = []\n",
      "born = []\n",
      "died = []\n",
      "for blob in subdig:\n",
      "    ids.append(blob)\n",
      "    born.append(experiment.summary_data(blob)['born_f'])\n",
      "    died.append(experiment.summary_data(blob)['died_f'])\n",
      "\n",
      "'''\n",
      "N_times = max(died) - min(born)\n",
      "N_blobs = len(ids)\n",
      "mesh = np.zeros((N_blobs, N_times))\n",
      "for i, (bid, row) in enumerate(blobs.iterrows()):\n",
      "    start, end = int(row['t0']), int(row['tN'])\n",
      "    fill = fill_choice.get(row[color_col], -1)\n",
      "    mesh[i][start:end] = fill\n",
      "'''\n",
      "pass"
     ],
     "language": "python",
     "metadata": {},
     "outputs": []
    },
    {
     "cell_type": "code",
     "collapsed": false,
     "input": [
      "def birth_key(p): return p.get_x()\n",
      "def death_key(p): return p.get_x() + p.get_width()\n",
      "def lifespan_key(p): return p.get_width()\n",
      "def id_key(p): return p.blob_id\n",
      "\n",
      "def bars(ids, births, deaths, vertical_sort_key=None, color_sort_key=None):\n",
      "    # dirty code robbed from really old plots\n",
      "    if vertical_sort_key is None:\n",
      "        vertical_sort_key = birth_key\n",
      "    if color_sort_key is None:\n",
      "        color_sort_key = lifespan_key\n",
      "\n",
      "    # sort bars vertically\n",
      "    color_sort_map = plt.cm.RdYlBu\n",
      "    minimum_time = -10\n",
      "\n",
      "    # make some timeline bars\n",
      "    f2 = plt.figure()\n",
      "    f2.set_size_inches([10,8])\n",
      "    f2a1 = f2.add_subplot(111, axisbg='white')\n",
      "    f2a1.set_title('Timeline view of blobs connected to #{}'.format(target))\n",
      "    patches = []\n",
      "    life_max, life_min = float('+inf'), float('-inf')\n",
      "    for blob_id, birth, death in zip(ids, births, deaths):\n",
      "        lifetime = death - birth\n",
      "        life_max = min(lifetime, life_max)\n",
      "        life_min = max(lifetime, life_min)\n",
      "        if lifetime > minimum_time:\n",
      "            timeline = mpatches.Rectangle((birth, 0), width=lifetime, height=1, \n",
      "                    linewidth=0, edgecolor='black')\n",
      "            timeline.blob_id = blob_id\n",
      "            patches.append(timeline)\n",
      "\n",
      "    # sort vertically by whatever key\n",
      "    for i, bar in enumerate(sorted(patches, key=vertical_sort_key)):\n",
      "        bar.set_y(i)\n",
      "\n",
      "    # color progressively based on whatever key\n",
      "    for i, bar in enumerate(sorted(patches, key=color_sort_key)):\n",
      "        bar.set_color(color_sort_map(i/len(patches)))\n",
      "        \n",
      "    #colors = np.linspace(0,100,len(patches))\n",
      "    # MPL docs say collections draw faster\n",
      "    collection = PatchCollection(patches, match_original=True)#, cmap=matplotlib.cm.Greys, alpha=0.4)\n",
      "    #collection.set_array(np.array(colors))\n",
      "    f2a1.add_collection(collection)\n",
      "    f2a1.set_xlim(min(births), max(deaths))\n",
      "    f2a1.set_ylim(len(patches), 0)\n",
      "    f2a1.set_yticks([x+0.5 for x in range(len(patches))])\n",
      "    f2a1.set_yticklabels([patch.blob_id for patch in sorted(patches, key=lambda p: p.get_y())])\n",
      "    f2a1.set_xlabel('Frame')\n",
      "\n",
      "    return f2, f2a1\n",
      "\n",
      "bars(ids, born, died)\n",
      "plt.show()\n"
     ],
     "language": "python",
     "metadata": {},
     "outputs": []
    },
    {
     "cell_type": "code",
     "collapsed": false,
     "input": [],
     "language": "python",
     "metadata": {},
     "outputs": []
    },
    {
     "cell_type": "code",
     "collapsed": false,
     "input": [],
     "language": "python",
     "metadata": {},
     "outputs": []
    }
   ],
   "metadata": {}
  }
 ]
}