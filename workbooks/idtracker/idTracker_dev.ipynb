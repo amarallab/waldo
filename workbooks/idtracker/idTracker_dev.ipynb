{
 "metadata": {
  "name": "",
  "signature": "sha256:b5935dc0984b978a0bc3e36fd3f688016198e07c532c7258828ad23bdf862c83"
 },
 "nbformat": 3,
 "nbformat_minor": 0,
 "worksheets": [
  {
   "cells": [
    {
     "cell_type": "code",
     "collapsed": false,
     "input": [
      "%load_ext autoreload\n",
      "%autoreload 2\n",
      "%matplotlib inline"
     ],
     "language": "python",
     "metadata": {},
     "outputs": [],
     "prompt_number": 1
    },
    {
     "cell_type": "code",
     "collapsed": false,
     "input": [
      "import six\n",
      "import sys\n",
      "import os\n",
      "sys.path.append('..'); import pathcustomize, about\n",
      "about.about()\n",
      "\n",
      "import pathcustomize\n",
      "import itertools\n",
      "\n",
      "import numpy as np\n",
      "import pandas as pd\n",
      "import matplotlib.pyplot as plt\n",
      "\n",
      "os.environ.setdefault('MULTIWORM_SETTINGS', 'multiworm_settings')\n",
      "\n",
      "import waldo.wio as wio\n",
      "from idtrack.idtrack_dev import *\n",
      "import idtrack"
     ],
     "language": "python",
     "metadata": {},
     "outputs": [
      {
       "output_type": "stream",
       "stream": "stdout",
       "text": [
        "Python 2.7.5 (default, Mar  9 2014 22:15:05) [GCC 4.2.1 Compatible Apple LLVM 5.0 (clang-500.0.68)] on darwin, Host: cheme-87.chem-eng.northwestern.edu\n"
       ]
      }
     ],
     "prompt_number": 2
    },
    {
     "cell_type": "code",
     "collapsed": false,
     "input": [
      "ex = wio.Experiment(experiment_id='20130702_135704')"
     ],
     "language": "python",
     "metadata": {},
     "outputs": [],
     "prompt_number": 3
    },
    {
     "cell_type": "code",
     "collapsed": false,
     "input": [
      "bounds = ex.prepdata.bounds\n",
      "ex.graph.node[2]"
     ],
     "language": "python",
     "metadata": {},
     "outputs": [
      {
       "metadata": {},
       "output_type": "pyout",
       "prompt_number": 4,
       "text": [
        "{u'born_f': 1, u'born_t': 0.01, u'died_f': 7834, u'died_t': 303.357}"
       ]
      }
     ],
     "prompt_number": 4
    },
    {
     "cell_type": "code",
     "collapsed": false,
     "input": [
      "# load all fingerprint data\n",
      "wids, reference_p, reference_m, trackframes_p, trackframes_m, reference_images, trackframes_images = get_data(base_dir, bounds)\n",
      "frame_count = len(trackframes_p[0])"
     ],
     "language": "python",
     "metadata": {},
     "outputs": [
      {
       "output_type": "stream",
       "stream": "stdout",
       "text": [
        "True\n"
       ]
      },
      {
       "ename": "IndexError",
       "evalue": "list index out of range",
       "output_type": "pyerr",
       "traceback": [
        "\u001b[0;31m---------------------------------------------------------------------------\u001b[0m\n\u001b[0;31mIndexError\u001b[0m                                Traceback (most recent call last)",
        "\u001b[0;32m<ipython-input-5-3cd79b7a90c7>\u001b[0m in \u001b[0;36m<module>\u001b[0;34m()\u001b[0m\n\u001b[1;32m      1\u001b[0m \u001b[0;31m# load all fingerprint data\u001b[0m\u001b[0;34m\u001b[0m\u001b[0;34m\u001b[0m\u001b[0m\n\u001b[1;32m      2\u001b[0m \u001b[0mwids\u001b[0m\u001b[0;34m,\u001b[0m \u001b[0mreference_p\u001b[0m\u001b[0;34m,\u001b[0m \u001b[0mreference_m\u001b[0m\u001b[0;34m,\u001b[0m \u001b[0mtrackframes_p\u001b[0m\u001b[0;34m,\u001b[0m \u001b[0mtrackframes_m\u001b[0m\u001b[0;34m,\u001b[0m \u001b[0mreference_images\u001b[0m\u001b[0;34m,\u001b[0m \u001b[0mtrackframes_images\u001b[0m \u001b[0;34m=\u001b[0m \u001b[0mget_data\u001b[0m\u001b[0;34m(\u001b[0m\u001b[0mbase_dir\u001b[0m\u001b[0;34m,\u001b[0m \u001b[0mbounds\u001b[0m\u001b[0;34m)\u001b[0m\u001b[0;34m\u001b[0m\u001b[0m\n\u001b[0;32m----> 3\u001b[0;31m \u001b[0mframe_count\u001b[0m \u001b[0;34m=\u001b[0m \u001b[0mlen\u001b[0m\u001b[0;34m(\u001b[0m\u001b[0mtrackframes_p\u001b[0m\u001b[0;34m[\u001b[0m\u001b[0;36m0\u001b[0m\u001b[0;34m]\u001b[0m\u001b[0;34m)\u001b[0m\u001b[0;34m\u001b[0m\u001b[0m\n\u001b[0m",
        "\u001b[0;31mIndexError\u001b[0m: list index out of range"
       ]
      }
     ],
     "prompt_number": 5
    },
    {
     "cell_type": "code",
     "collapsed": false,
     "input": [
      "[x[0] for x in reference_images[0][0:4]]"
     ],
     "language": "python",
     "metadata": {},
     "outputs": []
    },
    {
     "cell_type": "code",
     "collapsed": false,
     "input": [
      "s = set([len(x) for x in reference_p]) \\\n",
      "  | set([len(x) for x in reference_m])  \\\n",
      "  | set([len(x) for x in trackframes_p]) \\\n",
      "  | set([len(x) for x in trackframes_m])#/ Funny lines!\n",
      "\n",
      "window_size = 30\n",
      "window_max_end = min(s) - window_size\n",
      "window_begin = window_max_end\n",
      "\n",
      "window_reference_p = [x[window_begin:window_begin+window_size] for x in reference_p]\n",
      "window_reference_m = [x[window_begin:window_begin+window_size] for x in reference_m]\n",
      "window_trackframes_p = [x[window_begin:window_begin+window_size] for x in trackframes_p]\n",
      "window_trackframes_m = [x[window_begin:window_begin+window_size] for x in trackframes_m]"
     ],
     "language": "python",
     "metadata": {},
     "outputs": []
    },
    {
     "cell_type": "code",
     "collapsed": false,
     "input": [
      "solver = idtrack.IdTrackSolver(wids, window_reference_p, window_reference_m)\n",
      "solver.insert_trackframes(window_trackframes_p, window_trackframes_m, wids)\n",
      "solver.initial_assignment()\n",
      "solver.add_frame_weights()\n",
      "solver.compute_f()\n",
      "solver.compute_p1()\n",
      "solver.compute_p2()"
     ],
     "language": "python",
     "metadata": {},
     "outputs": []
    },
    {
     "cell_type": "code",
     "collapsed": false,
     "input": [
      "# Check P1 algorithm\n",
      "solver.debug_create_test_data()\n",
      "solver.add_frame_weights()\n",
      "solver.compute_f()\n",
      "solver.compute_p1()\n",
      "solver.compute_p2()"
     ],
     "language": "python",
     "metadata": {},
     "outputs": []
    },
    {
     "cell_type": "code",
     "collapsed": false,
     "input": [
      "solver.agreement, solver.f"
     ],
     "language": "python",
     "metadata": {},
     "outputs": []
    },
    {
     "cell_type": "code",
     "collapsed": false,
     "input": [
      "solver.f"
     ],
     "language": "python",
     "metadata": {},
     "outputs": []
    },
    {
     "cell_type": "code",
     "collapsed": false,
     "input": [
      "image = np.zeros((6, 6))\n",
      "image[0:3, :] = 1\n",
      "test_frame = [(0, 0, 6, 6), image]\n",
      "\n",
      "stack = []\n",
      "for i in range(6):\n",
      "    current = np.zeros((6, 6))\n",
      "    current[:, 0:i+1] = 1\n",
      "    bb = (2, 0, 6, 6)\n",
      "    stack.append([bb, current])"
     ],
     "language": "python",
     "metadata": {},
     "outputs": [],
     "prompt_number": 6
    },
    {
     "cell_type": "code",
     "collapsed": false,
     "input": [
      "idtrack.IdTrackSolver.compute_weight(test_frame, stack)"
     ],
     "language": "python",
     "metadata": {},
     "outputs": [
      {
       "metadata": {},
       "output_type": "pyout",
       "prompt_number": 7,
       "text": [
        "0.1361111111111111"
       ]
      }
     ],
     "prompt_number": 7
    },
    {
     "cell_type": "code",
     "collapsed": false,
     "input": [],
     "language": "python",
     "metadata": {},
     "outputs": []
    }
   ],
   "metadata": {}
  }
 ]
}