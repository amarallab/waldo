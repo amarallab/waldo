{
 "metadata": {
  "name": "",
  "signature": "sha256:1d57c95117e9993dee68b1192165bf4849a2a9198a59b0ec71cb258ac9852a6d"
 },
 "nbformat": 3,
 "nbformat_minor": 0,
 "worksheets": [
  {
   "cells": [
    {
     "cell_type": "code",
     "collapsed": false,
     "input": [
      "%load_ext autoreload\n",
      "%autoreload 2\n",
      "%matplotlib inline"
     ],
     "language": "python",
     "metadata": {},
     "outputs": []
    },
    {
     "cell_type": "code",
     "collapsed": false,
     "input": [
      "import six\n",
      "import sys\n",
      "import os\n",
      "sys.path.append('..'); import pathcustomize, about\n",
      "about.about()\n",
      "\n",
      "import pathcustomize\n",
      "import itertools\n",
      "\n",
      "import numpy as np\n",
      "import pandas as pd\n",
      "import matplotlib.pyplot as plt\n",
      "\n",
      "os.environ.setdefault('MULTIWORM_SETTINGS', 'multiworm_settings')\n",
      "\n",
      "import waldo.wio as wio\n",
      "from idtrack.idtrack_dev import *\n",
      "import idtrack"
     ],
     "language": "python",
     "metadata": {},
     "outputs": []
    },
    {
     "cell_type": "code",
     "collapsed": false,
     "input": [
      "ex = wio.Experiment(experiment_id='20130702_135704')"
     ],
     "language": "python",
     "metadata": {},
     "outputs": []
    },
    {
     "cell_type": "code",
     "collapsed": false,
     "input": [
      "bounds = ex.prepdata.bounds\n",
      "ex.graph.node[2]"
     ],
     "language": "python",
     "metadata": {},
     "outputs": []
    },
    {
     "cell_type": "code",
     "collapsed": false,
     "input": [
      "# load all fingerprint data\n",
      "wids, reference_p, reference_m, trackframes_p, trackframes_m, reference_images, trackframes_images = get_data(base_dir, bounds)\n",
      "frame_count = len(trackframes_p[0])"
     ],
     "language": "python",
     "metadata": {},
     "outputs": []
    },
    {
     "cell_type": "code",
     "collapsed": false,
     "input": [
      "[x[0] for x in reference_images[0][0:4]]"
     ],
     "language": "python",
     "metadata": {},
     "outputs": []
    },
    {
     "cell_type": "code",
     "collapsed": false,
     "input": [
      "s = set([len(x) for x in reference_p]) \\\n",
      "  | set([len(x) for x in reference_m])  \\\n",
      "  | set([len(x) for x in trackframes_p]) \\\n",
      "  | set([len(x) for x in trackframes_m])#/ Funny lines!\n",
      "\n",
      "window_size = 30\n",
      "window_max_end = min(s) - window_size\n",
      "window_begin = window_max_end\n",
      "\n",
      "window_reference_p = [x[window_begin:window_begin+window_size] for x in reference_p]\n",
      "window_reference_m = [x[window_begin:window_begin+window_size] for x in reference_m]\n",
      "window_trackframes_p = [x[window_begin:window_begin+window_size] for x in trackframes_p]\n",
      "window_trackframes_m = [x[window_begin:window_begin+window_size] for x in trackframes_m]"
     ],
     "language": "python",
     "metadata": {},
     "outputs": []
    },
    {
     "cell_type": "code",
     "collapsed": false,
     "input": [
      "solver = idtrack.IdTrackSolver(wids, window_reference_p, window_reference_m)\n",
      "solver.insert_trackframes(window_trackframes_p, window_trackframes_m, wids)\n",
      "solver.initial_assignment()\n",
      "solver.add_frame_weights()\n",
      "solver.compute_f()\n",
      "solver.compute_p1()\n",
      "solver.compute_p2()"
     ],
     "language": "python",
     "metadata": {},
     "outputs": []
    },
    {
     "cell_type": "code",
     "collapsed": false,
     "input": [
      "# Check P1 algorithm\n",
      "solver.debug_create_test_data()\n",
      "solver.add_frame_weights()\n",
      "solver.compute_f()\n",
      "solver.compute_p1()\n",
      "solver.compute_p2()"
     ],
     "language": "python",
     "metadata": {},
     "outputs": []
    },
    {
     "cell_type": "code",
     "collapsed": false,
     "input": [
      "solver.agreement, solver.f"
     ],
     "language": "python",
     "metadata": {},
     "outputs": []
    },
    {
     "cell_type": "code",
     "collapsed": false,
     "input": [
      "solver.f"
     ],
     "language": "python",
     "metadata": {},
     "outputs": []
    },
    {
     "cell_type": "code",
     "collapsed": false,
     "input": [
      "image = np.zeros((6, 6))\n",
      "image[:, 0:3] = 1\n",
      "\n",
      "stack = []\n",
      "for i in range(6):\n",
      "    current = np.zeros((6, 6))\n",
      "    current[0:i+1,:] = 1\n",
      "    stack.append(current)"
     ],
     "language": "python",
     "metadata": {},
     "outputs": []
    },
    {
     "cell_type": "code",
     "collapsed": false,
     "input": [
      "a = np.random.random(10)\n",
      "b = np.random.random_integers(0, 10, 10)"
     ],
     "language": "python",
     "metadata": {},
     "outputs": []
    },
    {
     "cell_type": "code",
     "collapsed": false,
     "input": [
      "a, b, a[b==1]"
     ],
     "language": "python",
     "metadata": {},
     "outputs": []
    },
    {
     "cell_type": "code",
     "collapsed": false,
     "input": [],
     "language": "python",
     "metadata": {},
     "outputs": []
    }
   ],
   "metadata": {}
  }
 ]
}