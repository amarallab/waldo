{
 "metadata": {
  "name": "",
  "signature": "sha256:70df587dbf0fc088064ca4b4f46df4afd8829839853118aef46c966af784e45e"
 },
 "nbformat": 3,
 "nbformat_minor": 0,
 "worksheets": [
  {
   "cells": [
    {
     "cell_type": "code",
     "collapsed": false,
     "input": [
      "%load_ext autoreload\n",
      "%autoreload 2\n",
      "%matplotlib inline"
     ],
     "language": "python",
     "metadata": {},
     "outputs": [],
     "prompt_number": 1
    },
    {
     "cell_type": "code",
     "collapsed": false,
     "input": [
      "import six\n",
      "import sys\n",
      "import os\n",
      "sys.path.append('..'); import pathcustomize, about\n",
      "about.about()\n",
      "\n",
      "import pathcustomize\n",
      "import itertools\n",
      "\n",
      "import numpy as np\n",
      "import pandas as pd\n",
      "import matplotlib.pyplot as plt\n",
      "\n",
      "os.environ.setdefault('MULTIWORM_SETTINGS', 'multiworm_settings')\n",
      "\n",
      "import waldo.wio as wio\n",
      "from idtrack.idtrack_dev import *\n",
      "import idtrack"
     ],
     "language": "python",
     "metadata": {},
     "outputs": [
      {
       "output_type": "stream",
       "stream": "stdout",
       "text": [
        "Python 2.7.5 (default, Mar  9 2014 22:15:05) [GCC 4.2.1 Compatible Apple LLVM 5.0 (clang-500.0.68)] on darwin, Host: cheme-87.chem-eng.northwestern.edu\n"
       ]
      }
     ],
     "prompt_number": 2
    },
    {
     "cell_type": "code",
     "collapsed": false,
     "input": [
      "#main_best_fit_per_window()"
     ],
     "language": "python",
     "metadata": {},
     "outputs": [],
     "prompt_number": 3
    },
    {
     "cell_type": "code",
     "collapsed": false,
     "input": [
      "# load all fingerprint data\n",
      "wids, reference_p, reference_m, trackframes_p, trackframes_m = get_data(base_dir)\n",
      "frame_count = len(trackframes_p[0])"
     ],
     "language": "python",
     "metadata": {},
     "outputs": [
      {
       "output_type": "stream",
       "stream": "stdout",
       "text": [
        "True\n"
       ]
      }
     ],
     "prompt_number": 4
    },
    {
     "cell_type": "code",
     "collapsed": false,
     "input": [
      "s = set([len(x) for x in reference_p]) \\\n",
      "  | set([len(x) for x in reference_m]) \\\n",
      "  | set([len(x) for x in trackframes_p]) \\\n",
      "  | set([len(x) for x in trackframes_m])\n",
      "\n",
      "window_size = 30\n",
      "window_max_end = min(s) - window_size\n",
      "window_begin = window_max_end\n",
      "\n",
      "window_reference_p = [x[window_begin:window_begin+window_size] for x in reference_p]\n",
      "window_reference_m = [x[window_begin:window_begin+window_size] for x in reference_m]\n",
      "window_trackframes_p = [x[window_begin:window_begin+window_size] for x in trackframes_p]\n",
      "window_trackframes_m = [x[window_begin:window_begin+window_size] for x in trackframes_m]"
     ],
     "language": "python",
     "metadata": {},
     "outputs": [],
     "prompt_number": 5
    },
    {
     "cell_type": "code",
     "collapsed": false,
     "input": [
      "np.zeros((2,3))"
     ],
     "language": "python",
     "metadata": {},
     "outputs": [
      {
       "metadata": {},
       "output_type": "pyout",
       "prompt_number": 6,
       "text": [
        "array([[ 0.,  0.,  0.],\n",
        "       [ 0.,  0.,  0.]])"
       ]
      }
     ],
     "prompt_number": 6
    },
    {
     "cell_type": "code",
     "collapsed": false,
     "input": [
      "solver = idtrack.IdTrackSolver(wids, window_reference_p, window_reference_m)\n",
      "solver.insert_trackframes(window_trackframes_p, window_trackframes_m, wids)\n",
      "solver.initial_assignment()\n",
      "solver.add_frame_weights()\n",
      "solver.compute_p1()\n",
      "solver.compute_p2()"
     ],
     "language": "python",
     "metadata": {},
     "outputs": [
      {
       "ename": "AttributeError",
       "evalue": "'IdTrackSolver' object has no attribute '_calculate_p2_component_for_track'",
       "output_type": "pyerr",
       "traceback": [
        "\u001b[0;31m---------------------------------------------------------------------------\u001b[0m\n\u001b[0;31mAttributeError\u001b[0m                            Traceback (most recent call last)",
        "\u001b[0;32m<ipython-input-7-3af740989e60>\u001b[0m in \u001b[0;36m<module>\u001b[0;34m()\u001b[0m\n\u001b[1;32m      4\u001b[0m \u001b[0msolver\u001b[0m\u001b[0;34m.\u001b[0m\u001b[0madd_frame_weights\u001b[0m\u001b[0;34m(\u001b[0m\u001b[0;34m)\u001b[0m\u001b[0;34m\u001b[0m\u001b[0m\n\u001b[1;32m      5\u001b[0m \u001b[0msolver\u001b[0m\u001b[0;34m.\u001b[0m\u001b[0mcompute_p1\u001b[0m\u001b[0;34m(\u001b[0m\u001b[0;34m)\u001b[0m\u001b[0;34m\u001b[0m\u001b[0m\n\u001b[0;32m----> 6\u001b[0;31m \u001b[0msolver\u001b[0m\u001b[0;34m.\u001b[0m\u001b[0mcompute_p2\u001b[0m\u001b[0;34m(\u001b[0m\u001b[0;34m)\u001b[0m\u001b[0;34m\u001b[0m\u001b[0m\n\u001b[0m",
        "\u001b[0;32m/Users/heltena/src/waldo/code/idtrack/idtrack.pyc\u001b[0m in \u001b[0;36mcompute_p2\u001b[0;34m(self)\u001b[0m\n\u001b[1;32m     99\u001b[0m         \u001b[0mp2\u001b[0m \u001b[0;34m=\u001b[0m \u001b[0mnp\u001b[0m\u001b[0;34m.\u001b[0m\u001b[0mzeros\u001b[0m\u001b[0;34m(\u001b[0m\u001b[0;34m(\u001b[0m\u001b[0mlen\u001b[0m\u001b[0;34m(\u001b[0m\u001b[0mself\u001b[0m\u001b[0;34m.\u001b[0m\u001b[0mtrack_ids\u001b[0m\u001b[0;34m)\u001b[0m\u001b[0;34m,\u001b[0m \u001b[0mlen\u001b[0m\u001b[0;34m(\u001b[0m\u001b[0mself\u001b[0m\u001b[0;34m.\u001b[0m\u001b[0mwids\u001b[0m\u001b[0;34m)\u001b[0m\u001b[0;34m)\u001b[0m\u001b[0;34m)\u001b[0m\u001b[0;34m\u001b[0m\u001b[0m\n\u001b[1;32m    100\u001b[0m         \u001b[0;32mfor\u001b[0m \u001b[0mtrack_index\u001b[0m\u001b[0;34m,\u001b[0m \u001b[0mtrack_id\u001b[0m \u001b[0;32min\u001b[0m \u001b[0menumerate\u001b[0m\u001b[0;34m(\u001b[0m\u001b[0mself\u001b[0m\u001b[0;34m.\u001b[0m\u001b[0mtrack_ids\u001b[0m\u001b[0;34m)\u001b[0m\u001b[0;34m:\u001b[0m\u001b[0;34m\u001b[0m\u001b[0m\n\u001b[0;32m--> 101\u001b[0;31m             \u001b[0mcomponents\u001b[0m \u001b[0;34m=\u001b[0m \u001b[0mself\u001b[0m\u001b[0;34m.\u001b[0m\u001b[0m_calculate_p2_component_for_track\u001b[0m\u001b[0;34m(\u001b[0m\u001b[0mtrack_index\u001b[0m\u001b[0;34m)\u001b[0m\u001b[0;34m\u001b[0m\u001b[0m\n\u001b[0m\u001b[1;32m    102\u001b[0m             \u001b[0mden\u001b[0m \u001b[0;34m=\u001b[0m \u001b[0mcomponents\u001b[0m\u001b[0;34m.\u001b[0m\u001b[0msum\u001b[0m\u001b[0;34m(\u001b[0m\u001b[0;34m)\u001b[0m\u001b[0;34m\u001b[0m\u001b[0m\n\u001b[1;32m    103\u001b[0m             \u001b[0;32mif\u001b[0m \u001b[0mden\u001b[0m \u001b[0;34m==\u001b[0m \u001b[0;36m0\u001b[0m\u001b[0;34m:\u001b[0m\u001b[0;34m\u001b[0m\u001b[0m\n",
        "\u001b[0;31mAttributeError\u001b[0m: 'IdTrackSolver' object has no attribute '_calculate_p2_component_for_track'"
       ]
      }
     ],
     "prompt_number": 7
    },
    {
     "cell_type": "code",
     "collapsed": false,
     "input": [
      "solver.p2"
     ],
     "language": "python",
     "metadata": {},
     "outputs": [
      {
       "metadata": {},
       "output_type": "pyout",
       "prompt_number": 8,
       "text": [
        "array([[  9.99888455e-01,   1.90713042e-05,   3.55548716e-18,\n",
        "          1.80496788e-05,   1.90713588e-05,   7.03134615e-06,\n",
        "          8.47615945e-06,   1.90713588e-05,   1.90713588e-05,\n",
        "          1.70279989e-06],\n",
        "       [  1.76638123e-05,   1.60799111e-01,   2.06014183e-04,\n",
        "          1.52185309e-01,   1.60799571e-01,   1.18569607e-01,\n",
        "          7.14664762e-02,   1.60799571e-01,   1.60799571e-01,\n",
        "          1.43571046e-02],\n",
        "       [  1.75805873e-05,   1.60041489e-01,   1.19346942e-12,\n",
        "          1.51468271e-01,   1.60041946e-01,   1.22927608e-01,\n",
        "          7.11297540e-02,   1.60041946e-01,   1.60041946e-01,\n",
        "          1.42894595e-02],\n",
        "       [  2.63592567e-05,   5.33236474e-02,   9.94119446e-15,\n",
        "          5.04671678e-02,   5.33238000e-02,   7.07750905e-01,\n",
        "          2.36994666e-02,   5.33238000e-02,   5.33238000e-02,\n",
        "          4.76105357e-03],\n",
        "       [  3.96305874e-07,   3.60769415e-03,   6.72586944e-16,\n",
        "          5.77232715e-02,   3.60770447e-03,   2.66975630e-03,\n",
        "          1.60342421e-03,   3.60770447e-03,   3.60770447e-03,\n",
        "          9.23572344e-01],\n",
        "       [  1.76152337e-05,   1.60356885e-01,   3.92229422e-12,\n",
        "          1.51766772e-01,   1.60357344e-01,   1.21199145e-01,\n",
        "          7.12699306e-02,   1.60357344e-01,   1.60357344e-01,\n",
        "          1.43176200e-02],\n",
        "       [  1.87811205e-05,   1.70970311e-01,   1.49124835e-08,\n",
        "          1.61811650e-01,   1.70970800e-01,   6.30345689e-02,\n",
        "          7.59870224e-02,   1.70970800e-01,   1.70970800e-01,\n",
        "          1.52652500e-02],\n",
        "       [  4.17348660e-05,   1.70966389e-01,   3.18734784e-14,\n",
        "          1.61807939e-01,   1.70966878e-01,   6.30331230e-02,\n",
        "          7.59852793e-02,   1.70966878e-01,   1.70966878e-01,\n",
        "          1.52648999e-02],\n",
        "       [  1.23899634e-05,   4.51159868e-01,   1.92668663e-03,\n",
        "          1.06747647e-01,   1.12789967e-01,   4.15841005e-02,\n",
        "          5.01288742e-02,   1.12789967e-01,   1.12789967e-01,\n",
        "          1.00705328e-02],\n",
        "       [  4.84028694e-06,   4.40626194e-02,   8.21464940e-15,\n",
        "          4.17022413e-02,   4.40627455e-02,   7.31039612e-02,\n",
        "          7.05003928e-01,   4.40627455e-02,   4.40627455e-02,\n",
        "          3.93417370e-03]])"
       ]
      }
     ],
     "prompt_number": 8
    },
    {
     "cell_type": "code",
     "collapsed": false,
     "input": [
      "sum(solver.p2)"
     ],
     "language": "python",
     "metadata": {},
     "outputs": [
      {
       "metadata": {},
       "output_type": "pyout",
       "prompt_number": 9,
       "text": [
        "array([ 1.00004582,  1.37530709,  0.00213272,  1.03569832,  1.03693983,\n",
        "        1.31387981,  1.14628263,  1.03693983,  1.03693983,  1.01583414])"
       ]
      }
     ],
     "prompt_number": 9
    },
    {
     "cell_type": "code",
     "collapsed": false,
     "input": [
      "# check if distances are mean pixel distance between fingerprints or sum distance ...\n",
      "def get_dists(test_stack, wids, reference_stacks):\n",
      "    min_dists = np.zeros((len(test_stack), len(reference_stacks)), dtype=float)\n",
      "    for i, test_frame in enumerate(test_stack):\n",
      "        for j, stack in enumerate(reference_stacks):\n",
      "            values = np.fabs(stack - test_frame)\n",
      "            distances = values.mean(axis=1).mean(axis=1)\n",
      "            min_dists[i, j] =  np.min(distances)\n",
      "    df = pd.DataFrame(min_dists, columns=wids)\n",
      "    return df   \n",
      "\n",
      "def closest_worm(dist_df):\n",
      "    order = np.array(dist_df).argsort(axis=1)\n",
      "    wids = np.array(dist_df.columns, dtype=int)\n",
      "    #print 'wids', wids\n",
      "    best = []\n",
      "    for row in order:\n",
      "        rank = wids[row] \n",
      "        best.append(rank[0])\n",
      "    best = np.array(best)\n",
      "    return best\n",
      "\n",
      "def assign_worms(dists_p, dists_n):\n",
      "    best_p = closest_worm(dists_p)\n",
      "    best_m = closest_worm(dists_m)\n",
      "    # this gives zero when best_p and best_m have disagreements\n",
      "    consensus = best_p * (best_p == best_m)    \n",
      "    return consensus\n",
      "\n",
      "def identify_frames_for_track_fragment(wids, test_stack_p, test_stack_m, test_p, test_m):\n",
      "\n",
      "\n",
      "    dists_p = get_dists(test_stack_p, wids, reference_p)\n",
      "    dists_m = get_dists(test_stack_m, wids, reference_m)\n",
      "\n",
      "    return assign_worms(dists_p, dists_m)\n",
      "\n",
      "def initial_frame_identification(wids, reference_p, reference_m, test_p, test_m):\n",
      "    for i, wid in enumerate(wids):\n",
      "        savename = 'initial_assignment-{wid}.csv'.format(wid=wid)\n",
      "        test_stack_p = test_p[i]\n",
      "        test_stack_m = test_m[i]\n",
      "        a = identify_frames_for_track_fragment(wids, test_stack_p, test_stack_m, test_p, test_m)\n",
      "        a = pd.Series(a)\n",
      "        a.to_csv(savename)\n",
      "    \n",
      "a =initial_frame_identification(wids, reference_p, reference_m, test_p, test_m)\n",
      "a"
     ],
     "language": "python",
     "metadata": {},
     "outputs": [],
     "prompt_number": 54
    },
    {
     "cell_type": "code",
     "collapsed": false,
     "input": [],
     "language": "python",
     "metadata": {},
     "outputs": [
      {
       "metadata": {},
       "output_type": "pyout",
       "prompt_number": 50,
       "text": [
        "pandas.core.series.Series"
       ]
      }
     ],
     "prompt_number": 50
    },
    {
     "cell_type": "code",
     "collapsed": false,
     "input": [],
     "language": "python",
     "metadata": {},
     "outputs": [],
     "prompt_number": 50
    },
    {
     "cell_type": "code",
     "collapsed": false,
     "input": [
      "# check if distances are mean pixel distance between fingerprints or sum distance ...\n",
      "def get_dists(test_stack, wids, reference_stacks):\n",
      "    min_dists = np.zeros((len(test_stack), len(reference_stacks)), dtype=float)\n",
      "    for i, test_frame in enumerate(test_stack):\n",
      "        for j, stack in enumerate(reference_stacks):\n",
      "            values = np.fabs(stack - test_frame)\n",
      "            distances = values.mean(axis=1).mean(axis=1)\n",
      "            min_dists[i, j] =  np.min(distances)\n",
      "    df = pd.DataFrame(min_dists, columns=wids)\n",
      "    return df\n",
      "\n",
      "dists_p = get_dists(test_stack_p, wids, reference_p)\n",
      "dists_m = get_dists(test_stack_m, wids, reference_m)\n"
     ],
     "language": "python",
     "metadata": {},
     "outputs": [],
     "prompt_number": 30
    },
    {
     "cell_type": "code",
     "collapsed": false,
     "input": [
      "def closest_worm(dist_df):\n",
      "    order = np.array(dist_df).argsort(axis=1)\n",
      "    wids = np.array(dist_df.columns, dtype=int)\n",
      "    #print 'wids', wids\n",
      "    best = []\n",
      "    for row in order:\n",
      "        rank = wids[row] \n",
      "        best.append(rank[0])\n",
      "    best = np.array(best)\n",
      "    return best\n",
      "\n",
      "closest_worm(dists_m)"
     ],
     "language": "python",
     "metadata": {},
     "outputs": [
      {
       "metadata": {},
       "output_type": "pyout",
       "prompt_number": 41,
       "text": [
        "array([10477, 10477, 10477, ..., 13260, 13260, 13260])"
       ]
      }
     ],
     "prompt_number": 41
    },
    {
     "cell_type": "code",
     "collapsed": false,
     "input": [
      "dists_m.head()"
     ],
     "language": "python",
     "metadata": {},
     "outputs": [
      {
       "html": [
        "<div style=\"max-height:1000px;max-width:1500px;overflow:auto;\">\n",
        "<table border=\"1\" class=\"dataframe\">\n",
        "  <thead>\n",
        "    <tr style=\"text-align: right;\">\n",
        "      <th></th>\n",
        "      <th>10477</th>\n",
        "      <th>13260</th>\n",
        "      <th>16735</th>\n",
        "      <th>4254</th>\n",
        "      <th>13</th>\n",
        "      <th>13286</th>\n",
        "      <th>10470</th>\n",
        "      <th>16855</th>\n",
        "      <th>1295</th>\n",
        "      <th>16854</th>\n",
        "    </tr>\n",
        "  </thead>\n",
        "  <tbody>\n",
        "    <tr>\n",
        "      <th>0</th>\n",
        "      <td> 3.941406</td>\n",
        "      <td> 5.191406</td>\n",
        "      <td> 9.112305</td>\n",
        "      <td> 5.893555</td>\n",
        "      <td> 8.051758</td>\n",
        "      <td> 5.170898</td>\n",
        "      <td> 7.683594</td>\n",
        "      <td> 13.308594</td>\n",
        "      <td> 6.721680</td>\n",
        "      <td> 15.013672</td>\n",
        "    </tr>\n",
        "    <tr>\n",
        "      <th>1</th>\n",
        "      <td> 3.829102</td>\n",
        "      <td> 5.231445</td>\n",
        "      <td> 9.065430</td>\n",
        "      <td> 5.797852</td>\n",
        "      <td> 8.612305</td>\n",
        "      <td> 5.309570</td>\n",
        "      <td> 7.443359</td>\n",
        "      <td> 13.142578</td>\n",
        "      <td> 6.717773</td>\n",
        "      <td> 14.726562</td>\n",
        "    </tr>\n",
        "    <tr>\n",
        "      <th>2</th>\n",
        "      <td> 4.001953</td>\n",
        "      <td> 5.630859</td>\n",
        "      <td> 8.810547</td>\n",
        "      <td> 5.817383</td>\n",
        "      <td> 8.717773</td>\n",
        "      <td> 5.653320</td>\n",
        "      <td> 7.337891</td>\n",
        "      <td> 13.091797</td>\n",
        "      <td> 7.051758</td>\n",
        "      <td> 14.494141</td>\n",
        "    </tr>\n",
        "    <tr>\n",
        "      <th>3</th>\n",
        "      <td> 4.263672</td>\n",
        "      <td> 5.497070</td>\n",
        "      <td> 9.240234</td>\n",
        "      <td> 6.012695</td>\n",
        "      <td> 9.114258</td>\n",
        "      <td> 5.502930</td>\n",
        "      <td> 6.974609</td>\n",
        "      <td> 13.378906</td>\n",
        "      <td> 6.807617</td>\n",
        "      <td> 14.961914</td>\n",
        "    </tr>\n",
        "    <tr>\n",
        "      <th>4</th>\n",
        "      <td> 4.131836</td>\n",
        "      <td> 5.140625</td>\n",
        "      <td> 9.216797</td>\n",
        "      <td> 6.202148</td>\n",
        "      <td> 8.863281</td>\n",
        "      <td> 5.424805</td>\n",
        "      <td> 7.772461</td>\n",
        "      <td> 12.229492</td>\n",
        "      <td> 7.955078</td>\n",
        "      <td> 13.990234</td>\n",
        "    </tr>\n",
        "  </tbody>\n",
        "</table>\n",
        "<p>5 rows \u00d7 10 columns</p>\n",
        "</div>"
       ],
       "metadata": {},
       "output_type": "pyout",
       "prompt_number": 42,
       "text": [
        "      10477     13260     16735      4254        13     13286     10470  \\\n",
        "0  3.941406  5.191406  9.112305  5.893555  8.051758  5.170898  7.683594   \n",
        "1  3.829102  5.231445  9.065430  5.797852  8.612305  5.309570  7.443359   \n",
        "2  4.001953  5.630859  8.810547  5.817383  8.717773  5.653320  7.337891   \n",
        "3  4.263672  5.497070  9.240234  6.012695  9.114258  5.502930  6.974609   \n",
        "4  4.131836  5.140625  9.216797  6.202148  8.863281  5.424805  7.772461   \n",
        "\n",
        "       16855      1295      16854  \n",
        "0  13.308594  6.721680  15.013672  \n",
        "1  13.142578  6.717773  14.726562  \n",
        "2  13.091797  7.051758  14.494141  \n",
        "3  13.378906  6.807617  14.961914  \n",
        "4  12.229492  7.955078  13.990234  \n",
        "\n",
        "[5 rows x 10 columns]"
       ]
      }
     ],
     "prompt_number": 42
    },
    {
     "cell_type": "code",
     "collapsed": false,
     "input": [
      "def assign_worms(dists_p, dists_n):\n",
      "    best_p = closest_worm(dists_p)\n",
      "    best_m = closest_worm(dists_m)\n",
      "    consensus = best_p * (best_p == best_m) #gives zero when best_p and best_m have disagreements"
     ],
     "language": "python",
     "metadata": {},
     "outputs": [],
     "prompt_number": 46
    },
    {
     "cell_type": "code",
     "collapsed": false,
     "input": [
      "c = best_p * (best_p == best_m)\n"
     ],
     "language": "python",
     "metadata": {},
     "outputs": [
      {
       "metadata": {},
       "output_type": "pyout",
       "prompt_number": 45,
       "text": [
        "array([10477, 10477, 10477, ..., 13260, 13260,     0])"
       ]
      }
     ],
     "prompt_number": 45
    },
    {
     "cell_type": "code",
     "collapsed": false,
     "input": [
      "best_p.shape"
     ],
     "language": "python",
     "metadata": {},
     "outputs": [
      {
       "metadata": {},
       "output_type": "pyout",
       "prompt_number": 39,
       "text": [
        "(1399,)"
       ]
      }
     ],
     "prompt_number": 39
    },
    {
     "cell_type": "code",
     "collapsed": false,
     "input": [],
     "language": "python",
     "metadata": {},
     "outputs": []
    }
   ],
   "metadata": {}
  }
 ]
}