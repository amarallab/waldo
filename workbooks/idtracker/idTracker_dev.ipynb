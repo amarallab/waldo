{
 "metadata": {
  "name": "",
  "signature": "sha256:7abf3fa99457ca91434ac34e3da8e06f7e4676f18e3f7a759503adf7d8075345"
 },
 "nbformat": 3,
 "nbformat_minor": 0,
 "worksheets": [
  {
   "cells": [
    {
     "cell_type": "code",
     "collapsed": false,
     "input": [
      "%load_ext autoreload\n",
      "%autoreload 2\n",
      "%matplotlib inline"
     ],
     "language": "python",
     "metadata": {},
     "outputs": [],
     "prompt_number": 1
    },
    {
     "cell_type": "code",
     "collapsed": false,
     "input": [
      "import six\n",
      "import sys\n",
      "import os\n",
      "sys.path.append('..'); import pathcustomize, about\n",
      "about.about()\n",
      "\n",
      "import pathcustomize\n",
      "import itertools\n",
      "\n",
      "import numpy as np\n",
      "import pandas as pd\n",
      "import matplotlib.pyplot as plt\n",
      "\n",
      "os.environ.setdefault('MULTIWORM_SETTINGS', 'multiworm_settings')\n",
      "\n",
      "import waldo.wio as wio\n",
      "from idtrack_dev import *"
     ],
     "language": "python",
     "metadata": {},
     "outputs": [
      {
       "output_type": "stream",
       "stream": "stdout",
       "text": [
        "Python 2.7.6 (default, Mar 22 2014 22:59:56) [GCC 4.8.2] on linux2, Host: cody\n"
       ]
      }
     ],
     "prompt_number": 2
    },
    {
     "cell_type": "code",
     "collapsed": false,
     "input": [
      "def main_best_fit_per_window(window_size=200):\n",
      "\n",
      "    loop_count = 0\n",
      "    max_loop_count = 20\n",
      "\n",
      "    # load all data.\n",
      "    wids, reference_p, reference_m, test_p, test_m = get_data(base_dir)\n",
      "    frame_count = len(test_p[0])\n",
      "\n",
      "\n",
      "\n",
      "    try:\n",
      "        results = []\n",
      "        print reference_p[0].shape\n",
      "        for begin_frame in range(0, frame_count, window_size):\n",
      "            end_frame = begin_frame + window_size\n",
      "            assigned_wids = {}\n",
      "            # assigned_wids[13286] = 12\n",
      "            current_reference_p = reference_p[:]\n",
      "            current_reference_m = reference_m[:]\n",
      "            remain_wids = wids[:]\n",
      "            while len(assigned_wids) < len(wids):\n",
      "                for test_num, test_worm in enumerate(wids):\n",
      "                    test_p_stack = test_p[test_num]\n",
      "                    test_m_stack = test_m[test_num]\n",
      "\n",
      "                    # TODO: possibly stop iterating windows if\n",
      "                    # one of the worms has a current_frame_count much smaller than window size\n",
      "                    current_frame_count = len(test_p_stack[begin_frame:end_frame])\n",
      "                    if current_frame_count == 0:\n",
      "                        assigned_wids[test_worm] = (None, None)\n",
      "                        continue\n",
      "\n",
      "                    # plus\n",
      "                    df = test_distances(wids=remain_wids,\n",
      "                                        test_stack=test_p_stack, reference_stacks=current_reference_p,\n",
      "                                        begin_frame=begin_frame, end_frame=end_frame)\n",
      "\n",
      "                    # df.to_csv(savename_p)\n",
      "\n",
      "                    order = np.array(df).argsort(axis=1)\n",
      "                    acc_p = float((order[:, 0] == test_num).sum()) / len(order)\n",
      "                    # acc_p = fraction of time that correct worm is has closest distance\n",
      "\n",
      "                    # minus\n",
      "                    df = test_distances(wids=remain_wids,\n",
      "                                        test_stack=test_m_stack, reference_stacks=current_reference_m,\n",
      "                                        begin_frame=begin_frame, end_frame=end_frame)\n",
      "\n",
      "                    order = np.array(df).argsort(axis=1)\n",
      "                    best, _ = collections.Counter(order[:, 0]).most_common()[0]\n",
      "                    acc_m = float((order[:, 0] == test_num).sum()) / len(order)\n",
      "\n",
      "                    assigned_wids[test_worm] = (remain_wids[best], acc_m)\n",
      "                    results.append([window_size, begin_frame, end_frame, current_frame_count, test_worm, acc_p, acc_m, remain_wids[best]])\n",
      "                    print 'Window size: {size}[{begin}:{end}], {worm:>5s} assigned {assigned:>5s} (acc: {acc})'\\\n",
      "                        .format(size=window_size,\n",
      "                                begin=begin_frame,\n",
      "                                end=end_frame,\n",
      "                                worm=test_worm,\n",
      "                                assigned=remain_wids[best],\n",
      "                                acc=acc_m)\n",
      "\n",
      "                    current_reference_p.pop(best)\n",
      "                    current_reference_m.pop(best)\n",
      "                    remain_wids.pop(best)\n",
      "\n",
      "            loop_count += 1\n",
      "            if loop_count >= max_loop_count:\n",
      "                raise FinishLoopException()\n",
      "    except FinishLoopException, ex:\n",
      "        pass\n",
      "\n",
      "    results_df = pd.DataFrame(results, columns=('window_size', 'begin_frame', 'end_frame', 'frame_count', 'wid', 'acc_p', 'acc_m', 'best'))\n",
      "    results_df = results_df[['begin_frame', 'end_frame', 'window_size', 'frame_count', 'wid', 'acc_p', 'acc_m', 'best']]\n",
      "    results_df.to_csv('acc_window_best_assignment_results.csv', index=False)\n"
     ],
     "language": "python",
     "metadata": {},
     "outputs": [],
     "prompt_number": 5
    },
    {
     "cell_type": "code",
     "collapsed": false,
     "input": [
      "#main_best_fit_per_window()"
     ],
     "language": "python",
     "metadata": {},
     "outputs": [],
     "prompt_number": 7
    },
    {
     "cell_type": "code",
     "collapsed": false,
     "input": [
      "# load all fingerprint data\n",
      "wids, reference_p, reference_m, test_p, test_m = get_data(base_dir)\n",
      "frame_count = len(test_p[0])"
     ],
     "language": "python",
     "metadata": {},
     "outputs": [
      {
       "output_type": "stream",
       "stream": "stdout",
       "text": [
        "True\n"
       ]
      }
     ],
     "prompt_number": 3
    },
    {
     "cell_type": "code",
     "collapsed": false,
     "input": [
      "test_stack_p = test_p[0]\n",
      "test_stack_m = test_m[0]"
     ],
     "language": "python",
     "metadata": {},
     "outputs": [],
     "prompt_number": 5
    },
    {
     "cell_type": "code",
     "collapsed": false,
     "input": [
      "# check if distances are mean pixel distance between fingerprints or sum distance ...\n",
      "def get_dists(test_stack, wids, reference_stacks):\n",
      "    min_dists = np.zeros((len(test_stack), len(reference_stacks)), dtype=float)\n",
      "    for i, test_frame in enumerate(test_stack):\n",
      "        for j, stack in enumerate(reference_stacks):\n",
      "            values = np.fabs(stack - test_frame)\n",
      "            distances = values.mean(axis=1).mean(axis=1)\n",
      "            min_dists[i, j] =  np.min(distances)\n",
      "    df = pd.DataFrame(min_dists, columns=wids)\n",
      "    return df   \n",
      "\n",
      "def closest_worm(dist_df):\n",
      "    order = np.array(dist_df).argsort(axis=1)\n",
      "    wids = np.array(dist_df.columns, dtype=int)\n",
      "    #print 'wids', wids\n",
      "    best = []\n",
      "    for row in order:\n",
      "        rank = wids[row] \n",
      "        best.append(rank[0])\n",
      "    best = np.array(best)\n",
      "    return best\n",
      "\n",
      "def assign_worms(dists_p, dists_n):\n",
      "    best_p = closest_worm(dists_p)\n",
      "    best_m = closest_worm(dists_m)\n",
      "    # this gives zero when best_p and best_m have disagreements\n",
      "    consensus = best_p * (best_p == best_m)    \n",
      "    return consensus\n",
      "\n",
      "def identify_frames_for_track_fragment(wids, test_stack_p, test_stack_m, test_p, test_m):\n",
      "\n",
      "\n",
      "    dists_p = get_dists(test_stack_p, wids, reference_p)\n",
      "    dists_m = get_dists(test_stack_m, wids, reference_m)\n",
      "\n",
      "    return assign_worms(dists_p, dists_m)\n",
      "\n",
      "def initial_frame_identification(wids, reference_p, reference_m, test_p, test_m):\n",
      "    for i, wid in enumerate(wids):\n",
      "        savename = 'initial_assignment-{wid}.csv'.format(wid=wid)\n",
      "        test_stack_p = test_p[i]\n",
      "        test_stack_m = test_m[i]\n",
      "        a = identify_frames_for_track_fragment(wids, test_stack_p, test_stack_m, test_p, test_m)\n",
      "        a = pd.Series(a)\n",
      "        a.to_csv(savename)\n",
      "    \n",
      "a =initial_frame_identification(wids, reference_p, reference_m, test_p, test_m)\n",
      "a"
     ],
     "language": "python",
     "metadata": {},
     "outputs": []
    },
    {
     "cell_type": "code",
     "collapsed": false,
     "input": [],
     "language": "python",
     "metadata": {},
     "outputs": [
      {
       "metadata": {},
       "output_type": "pyout",
       "prompt_number": 50,
       "text": [
        "pandas.core.series.Series"
       ]
      }
     ],
     "prompt_number": 50
    },
    {
     "cell_type": "code",
     "collapsed": false,
     "input": [],
     "language": "python",
     "metadata": {},
     "outputs": [],
     "prompt_number": 50
    },
    {
     "cell_type": "code",
     "collapsed": false,
     "input": [
      "# check if distances are mean pixel distance between fingerprints or sum distance ...\n",
      "def get_dists(test_stack, wids, reference_stacks):\n",
      "    min_dists = np.zeros((len(test_stack), len(reference_stacks)), dtype=float)\n",
      "    for i, test_frame in enumerate(test_stack):\n",
      "        for j, stack in enumerate(reference_stacks):\n",
      "            values = np.fabs(stack - test_frame)\n",
      "            distances = values.mean(axis=1).mean(axis=1)\n",
      "            min_dists[i, j] =  np.min(distances)\n",
      "    df = pd.DataFrame(min_dists, columns=wids)\n",
      "    return df\n",
      "\n",
      "dists_p = get_dists(test_stack_p, wids, reference_p)\n",
      "dists_m = get_dists(test_stack_m, wids, reference_m)\n"
     ],
     "language": "python",
     "metadata": {},
     "outputs": [],
     "prompt_number": 30
    },
    {
     "cell_type": "code",
     "collapsed": false,
     "input": [
      "def closest_worm(dist_df):\n",
      "    order = np.array(dist_df).argsort(axis=1)\n",
      "    wids = np.array(dist_df.columns, dtype=int)\n",
      "    #print 'wids', wids\n",
      "    best = []\n",
      "    for row in order:\n",
      "        rank = wids[row] \n",
      "        best.append(rank[0])\n",
      "    best = np.array(best)\n",
      "    return best\n",
      "\n",
      "closest_worm(dists_m)"
     ],
     "language": "python",
     "metadata": {},
     "outputs": [
      {
       "metadata": {},
       "output_type": "pyout",
       "prompt_number": 41,
       "text": [
        "array([10477, 10477, 10477, ..., 13260, 13260, 13260])"
       ]
      }
     ],
     "prompt_number": 41
    },
    {
     "cell_type": "code",
     "collapsed": false,
     "input": [
      "dists_m.head()"
     ],
     "language": "python",
     "metadata": {},
     "outputs": [
      {
       "html": [
        "<div style=\"max-height:1000px;max-width:1500px;overflow:auto;\">\n",
        "<table border=\"1\" class=\"dataframe\">\n",
        "  <thead>\n",
        "    <tr style=\"text-align: right;\">\n",
        "      <th></th>\n",
        "      <th>10477</th>\n",
        "      <th>13260</th>\n",
        "      <th>16735</th>\n",
        "      <th>4254</th>\n",
        "      <th>13</th>\n",
        "      <th>13286</th>\n",
        "      <th>10470</th>\n",
        "      <th>16855</th>\n",
        "      <th>1295</th>\n",
        "      <th>16854</th>\n",
        "    </tr>\n",
        "  </thead>\n",
        "  <tbody>\n",
        "    <tr>\n",
        "      <th>0</th>\n",
        "      <td> 3.941406</td>\n",
        "      <td> 5.191406</td>\n",
        "      <td> 9.112305</td>\n",
        "      <td> 5.893555</td>\n",
        "      <td> 8.051758</td>\n",
        "      <td> 5.170898</td>\n",
        "      <td> 7.683594</td>\n",
        "      <td> 13.308594</td>\n",
        "      <td> 6.721680</td>\n",
        "      <td> 15.013672</td>\n",
        "    </tr>\n",
        "    <tr>\n",
        "      <th>1</th>\n",
        "      <td> 3.829102</td>\n",
        "      <td> 5.231445</td>\n",
        "      <td> 9.065430</td>\n",
        "      <td> 5.797852</td>\n",
        "      <td> 8.612305</td>\n",
        "      <td> 5.309570</td>\n",
        "      <td> 7.443359</td>\n",
        "      <td> 13.142578</td>\n",
        "      <td> 6.717773</td>\n",
        "      <td> 14.726562</td>\n",
        "    </tr>\n",
        "    <tr>\n",
        "      <th>2</th>\n",
        "      <td> 4.001953</td>\n",
        "      <td> 5.630859</td>\n",
        "      <td> 8.810547</td>\n",
        "      <td> 5.817383</td>\n",
        "      <td> 8.717773</td>\n",
        "      <td> 5.653320</td>\n",
        "      <td> 7.337891</td>\n",
        "      <td> 13.091797</td>\n",
        "      <td> 7.051758</td>\n",
        "      <td> 14.494141</td>\n",
        "    </tr>\n",
        "    <tr>\n",
        "      <th>3</th>\n",
        "      <td> 4.263672</td>\n",
        "      <td> 5.497070</td>\n",
        "      <td> 9.240234</td>\n",
        "      <td> 6.012695</td>\n",
        "      <td> 9.114258</td>\n",
        "      <td> 5.502930</td>\n",
        "      <td> 6.974609</td>\n",
        "      <td> 13.378906</td>\n",
        "      <td> 6.807617</td>\n",
        "      <td> 14.961914</td>\n",
        "    </tr>\n",
        "    <tr>\n",
        "      <th>4</th>\n",
        "      <td> 4.131836</td>\n",
        "      <td> 5.140625</td>\n",
        "      <td> 9.216797</td>\n",
        "      <td> 6.202148</td>\n",
        "      <td> 8.863281</td>\n",
        "      <td> 5.424805</td>\n",
        "      <td> 7.772461</td>\n",
        "      <td> 12.229492</td>\n",
        "      <td> 7.955078</td>\n",
        "      <td> 13.990234</td>\n",
        "    </tr>\n",
        "  </tbody>\n",
        "</table>\n",
        "<p>5 rows \u00d7 10 columns</p>\n",
        "</div>"
       ],
       "metadata": {},
       "output_type": "pyout",
       "prompt_number": 42,
       "text": [
        "      10477     13260     16735      4254        13     13286     10470  \\\n",
        "0  3.941406  5.191406  9.112305  5.893555  8.051758  5.170898  7.683594   \n",
        "1  3.829102  5.231445  9.065430  5.797852  8.612305  5.309570  7.443359   \n",
        "2  4.001953  5.630859  8.810547  5.817383  8.717773  5.653320  7.337891   \n",
        "3  4.263672  5.497070  9.240234  6.012695  9.114258  5.502930  6.974609   \n",
        "4  4.131836  5.140625  9.216797  6.202148  8.863281  5.424805  7.772461   \n",
        "\n",
        "       16855      1295      16854  \n",
        "0  13.308594  6.721680  15.013672  \n",
        "1  13.142578  6.717773  14.726562  \n",
        "2  13.091797  7.051758  14.494141  \n",
        "3  13.378906  6.807617  14.961914  \n",
        "4  12.229492  7.955078  13.990234  \n",
        "\n",
        "[5 rows x 10 columns]"
       ]
      }
     ],
     "prompt_number": 42
    },
    {
     "cell_type": "code",
     "collapsed": false,
     "input": [
      "def assign_worms(dists_p, dists_n):\n",
      "    best_p = closest_worm(dists_p)\n",
      "    best_m = closest_worm(dists_m)\n",
      "    consensus = best_p * (best_p == best_m) #gives zero when best_p and best_m have disagreements"
     ],
     "language": "python",
     "metadata": {},
     "outputs": [],
     "prompt_number": 46
    },
    {
     "cell_type": "code",
     "collapsed": false,
     "input": [
      "c = best_p * (best_p == best_m)\n"
     ],
     "language": "python",
     "metadata": {},
     "outputs": [
      {
       "metadata": {},
       "output_type": "pyout",
       "prompt_number": 45,
       "text": [
        "array([10477, 10477, 10477, ..., 13260, 13260,     0])"
       ]
      }
     ],
     "prompt_number": 45
    },
    {
     "cell_type": "code",
     "collapsed": false,
     "input": [
      "best_p.shape"
     ],
     "language": "python",
     "metadata": {},
     "outputs": [
      {
       "metadata": {},
       "output_type": "pyout",
       "prompt_number": 39,
       "text": [
        "(1399,)"
       ]
      }
     ],
     "prompt_number": 39
    },
    {
     "cell_type": "code",
     "collapsed": false,
     "input": [],
     "language": "python",
     "metadata": {},
     "outputs": []
    }
   ],
   "metadata": {}
  }
 ]
}