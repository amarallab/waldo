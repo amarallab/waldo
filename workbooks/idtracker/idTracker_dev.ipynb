{
 "metadata": {
  "name": "",
  "signature": "sha256:3789590b3763fc24ac5154dc63d62172099d7fa7847eb32b052fb677c6d2d794"
 },
 "nbformat": 3,
 "nbformat_minor": 0,
 "worksheets": [
  {
   "cells": [
    {
     "cell_type": "code",
     "collapsed": false,
     "input": [
      "%load_ext autoreload\n",
      "%autoreload 2\n",
      "%matplotlib inline"
     ],
     "language": "python",
     "metadata": {},
     "outputs": [],
     "prompt_number": 1
    },
    {
     "cell_type": "code",
     "collapsed": false,
     "input": [
      "import six\n",
      "import sys\n",
      "import os\n",
      "sys.path.append('..'); import pathcustomize, about\n",
      "about.about()\n",
      "\n",
      "import pathcustomize\n",
      "import itertools\n",
      "\n",
      "import numpy as np\n",
      "import pandas as pd\n",
      "import matplotlib.pyplot as plt\n",
      "\n",
      "os.environ.setdefault('MULTIWORM_SETTINGS', 'multiworm_settings')\n",
      "\n",
      "import waldo.wio as wio\n",
      "from idtrack.idtrack_dev import *\n",
      "import idtrack"
     ],
     "language": "python",
     "metadata": {},
     "outputs": [
      {
       "output_type": "stream",
       "stream": "stdout",
       "text": [
        "Python 2.7.5 (default, Mar  9 2014 22:15:05) [GCC 4.2.1 Compatible Apple LLVM 5.0 (clang-500.0.68)] on darwin, Host: cheme-87.chem-eng.northwestern.edu\n"
       ]
      }
     ],
     "prompt_number": 2
    },
    {
     "cell_type": "code",
     "collapsed": false,
     "input": [
      "ex = wio.Experiment(experiment_id='20130702_135704')"
     ],
     "language": "python",
     "metadata": {},
     "outputs": [],
     "prompt_number": 54
    },
    {
     "cell_type": "code",
     "collapsed": false,
     "input": [
      "bounds = ex.prepdata.bounds\n",
      "ex.graph.node[2]"
     ],
     "language": "python",
     "metadata": {},
     "outputs": [
      {
       "metadata": {},
       "output_type": "pyout",
       "prompt_number": 63,
       "text": [
        "{u'born_f': 1, u'born_t': 0.01, u'died_f': 7834, u'died_t': 303.357}"
       ]
      }
     ],
     "prompt_number": 63
    },
    {
     "cell_type": "code",
     "collapsed": false,
     "input": [
      "# load all fingerprint data\n",
      "wids, reference_p, reference_m, trackframes_p, trackframes_m, reference_images, trackframes_images = get_data(base_dir, bounds)\n",
      "frame_count = len(trackframes_p[0])"
     ],
     "language": "python",
     "metadata": {},
     "outputs": [
      {
       "output_type": "stream",
       "stream": "stdout",
       "text": [
        "True\n"
       ]
      }
     ],
     "prompt_number": 66
    },
    {
     "cell_type": "code",
     "collapsed": false,
     "input": [
      "[x[0] for x in reference_images[0][0:4]]"
     ],
     "language": "python",
     "metadata": {},
     "outputs": [
      {
       "metadata": {},
       "output_type": "pyout",
       "prompt_number": 67,
       "text": [
        "[(0, 0, 0, 0), (0, 0, 0, 0), (0, 0, 0, 0), (0, 0, 0, 0)]"
       ]
      }
     ],
     "prompt_number": 67
    },
    {
     "cell_type": "code",
     "collapsed": false,
     "input": [
      "s = set([len(x) for x in reference_p]) \\\n",
      "  | set([len(x) for x in reference_m]) \\\n",
      "  | set([len(x) for x in trackframes_p]) \\\n",
      "  | set([len(x) for x in trackframes_m])\n",
      "\n",
      "window_size = 30\n",
      "window_max_end = min(s) - window_size\n",
      "window_begin = window_max_end\n",
      "\n",
      "window_reference_p = [x[window_begin:window_begin+window_size] for x in reference_p]\n",
      "window_reference_m = [x[window_begin:window_begin+window_size] for x in reference_m]\n",
      "window_trackframes_p = [x[window_begin:window_begin+window_size] for x in trackframes_p]\n",
      "window_trackframes_m = [x[window_begin:window_begin+window_size] for x in trackframes_m]"
     ],
     "language": "python",
     "metadata": {},
     "outputs": [],
     "prompt_number": 5
    },
    {
     "cell_type": "code",
     "collapsed": false,
     "input": [
      "solver = idtrack.IdTrackSolver(wids, window_reference_p, window_reference_m)\n",
      "solver.insert_trackframes(window_trackframes_p, window_trackframes_m, wids)\n",
      "solver.initial_assignment()\n",
      "solver.compute_f()\n",
      "solver.add_frame_weights()\n",
      "solver.compute_p1()\n",
      "solver.compute_p2()"
     ],
     "language": "python",
     "metadata": {},
     "outputs": [],
     "prompt_number": 6
    },
    {
     "cell_type": "code",
     "collapsed": false,
     "input": [
      "image = np.zeros((6, 6))\n",
      "image[:, 0:3] = 1\n",
      "\n",
      "stack = []\n",
      "for i in range(6):\n",
      "    current = np.zeros((6, 6))\n",
      "    current[0:i+1,:] = 1\n",
      "    stack.append(current)"
     ],
     "language": "python",
     "metadata": {},
     "outputs": [],
     "prompt_number": 7
    },
    {
     "cell_type": "code",
     "collapsed": false,
     "input": [],
     "language": "python",
     "metadata": {},
     "outputs": []
    }
   ],
   "metadata": {}
  }
 ]
}