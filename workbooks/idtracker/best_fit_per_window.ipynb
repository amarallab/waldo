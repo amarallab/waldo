{
 "metadata": {
  "name": "",
  "signature": "sha256:efada049c2f97894d72e60df191f3e5fe9396f17a87169a8491b06d4e91af782"
 },
 "nbformat": 3,
 "nbformat_minor": 0,
 "worksheets": [
  {
   "cells": [
    {
     "cell_type": "code",
     "collapsed": false,
     "input": [
      "%load_ext autoreload\n",
      "%autoreload 2\n",
      "%matplotlib inline"
     ],
     "language": "python",
     "metadata": {},
     "outputs": []
    },
    {
     "cell_type": "code",
     "collapsed": false,
     "input": [],
     "language": "python",
     "metadata": {},
     "outputs": []
    },
    {
     "cell_type": "code",
     "collapsed": false,
     "input": [
      "import numpy as np\n",
      "import pandas as pd"
     ],
     "language": "python",
     "metadata": {},
     "outputs": []
    },
    {
     "cell_type": "code",
     "collapsed": false,
     "input": [
      "fake_data = pd.DataFrame([[1,2,1,1], [2, 1, 3, 2], [3, 3, 2, 3], [4,4,4,4]], \n",
      "                         index=[1,2,3,4], \n",
      "                         columns=['window1', 'window2', 'window3', 'window4'])\n",
      "fake_data.index.name = 'worm'\n",
      "fake_data = fake_data.T\n",
      "fake_data"
     ],
     "language": "python",
     "metadata": {},
     "outputs": []
    },
    {
     "cell_type": "code",
     "collapsed": false,
     "input": [
      "def get_bool_dataframe(df, match_rows=True):\n",
      "    df = df.T\n",
      "    rows = []\n",
      "    for wid, row in df.iterrows():\n",
      "        rows.append(row == wid)\n",
      "    bool_df = pd.concat(rows, axis=1)\n",
      "    df = df.T\n",
      "    return bool_df\n",
      "    \n",
      "bool_df = get_bool_dataframe(fake_data)\n",
      "bool_df"
     ],
     "language": "python",
     "metadata": {},
     "outputs": []
    },
    {
     "cell_type": "code",
     "collapsed": false,
     "input": [
      "fake_data"
     ],
     "language": "python",
     "metadata": {},
     "outputs": []
    },
    {
     "cell_type": "code",
     "collapsed": false,
     "input": [
      "def get_accuracies(bool_df):\n",
      "    col_accuracies = bool_df.sum() / len(bool_df)\n",
      "    row_accuracies = bool_df.sum(axis=1) / len(bool_df.columns)\n",
      "    print 'columns:'\n",
      "    print col_accuracies\n",
      "    print \n",
      "    print 'rows:'\n",
      "    print row_accuracies\n",
      "    \n",
      "    return np.array(col_accuracies), np.array(row_accuracies)\n",
      "    \n",
      "ca, ra = get_accuracies(bool_df)"
     ],
     "language": "python",
     "metadata": {},
     "outputs": []
    },
    {
     "cell_type": "code",
     "collapsed": false,
     "input": [],
     "language": "python",
     "metadata": {},
     "outputs": []
    },
    {
     "cell_type": "code",
     "collapsed": false,
     "input": [
      "def plot_accuracy(a):\n",
      "    bins = np.linspace(0, 1, 11)\n",
      "    print bins\n",
      "plot_accuracy(wa)"
     ],
     "language": "python",
     "metadata": {},
     "outputs": []
    },
    {
     "cell_type": "code",
     "collapsed": false,
     "input": [
      "results = pd.read_csv('./../../code/acc_window_best_assignment_results.csv')\n",
      "results.set_index('begin_frame', inplace=True)\n",
      "results = results[results['window_size'] == 200]\n",
      "results.sort(inplace=True)\n",
      "results.head()"
     ],
     "language": "python",
     "metadata": {},
     "outputs": []
    },
    {
     "cell_type": "code",
     "collapsed": false,
     "input": [
      "rows = []\n",
      "for wid, data in results.groupby('wid'):\n",
      "    #print wid\n",
      "    row = data['best']\n",
      "    row.name = wid\n",
      "    rows.append(row)\n",
      "r = pd.concat(rows, axis=1).T\n",
      "r.index.name = 'worm'\n",
      "r"
     ],
     "language": "python",
     "metadata": {},
     "outputs": []
    },
    {
     "cell_type": "code",
     "collapsed": false,
     "input": [
      "bool_df = get_bool_dataframe(r)\n",
      "bool_df"
     ],
     "language": "python",
     "metadata": {},
     "outputs": []
    },
    {
     "cell_type": "code",
     "collapsed": false,
     "input": [
      "ca, ra = get_accuracies(bool_df)"
     ],
     "language": "python",
     "metadata": {},
     "outputs": []
    },
    {
     "cell_type": "code",
     "collapsed": false,
     "input": [],
     "language": "python",
     "metadata": {},
     "outputs": []
    }
   ],
   "metadata": {}
  }
 ]
}