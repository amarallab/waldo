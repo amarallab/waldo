{
 "metadata": {
  "name": "",
  "signature": "sha256:cff17250b058c535d5f928332b04c7527e61a353eb7690cf48a23ffc39e1fdaa"
 },
 "nbformat": 3,
 "nbformat_minor": 0,
 "worksheets": [
  {
   "cells": [
    {
     "cell_type": "code",
     "collapsed": false,
     "input": [
      "%load_ext autoreload\n",
      "%autoreload 2\n",
      "%matplotlib inline"
     ],
     "language": "python",
     "metadata": {},
     "outputs": []
    },
    {
     "cell_type": "heading",
     "level": 1,
     "metadata": {},
     "source": [
      "CALCULATE HEATMAP IMAGES"
     ]
    },
    {
     "cell_type": "code",
     "collapsed": false,
     "input": [
      "from PIL import Image\n",
      "import numpy as np\n",
      "import math\n",
      "import matplotlib.pyplot as plt\n",
      "\n",
      "def calculate_fingerprint(image_filename, mask_filename, output_filename):\n",
      "    _image = Image.open(image_filename)\n",
      "    _mask = Image.open(mask_filename)\n",
      "    image = np.array(_image.getdata())\n",
      "    mask = np.array(_mask.getdata())\n",
      "    image *= mask > 0\n",
      "    image = image.astype('float') / 256.0\n",
      "    width = _image.size[0]\n",
      "    height = _image.size[1]\n",
      "\n",
      "    def move_pixel(x, y):\n",
      "        x += 1\n",
      "        if x >= width:\n",
      "            x = 0\n",
      "            y += 1\n",
      "        return x, y\n",
      "\n",
      "#     ix, iy = 0, 0\n",
      "#     for v in image:\n",
      "#         print \"X\" if v > 0 else \" \",\n",
      "#         ix, iy = move_pixel(ix, iy)\n",
      "#         if ix == 0:\n",
      "#             print \"\"\n",
      "\n",
      "    MAX_PLUS = 2.0\n",
      "    MAX_MINUS = 1.0\n",
      "    MAX_DIST = 80.0\n",
      "    plus_scores = [MAX_PLUS]\n",
      "    minus_scores = [MAX_MINUS]\n",
      "    dist_scores = [MAX_DIST]\n",
      "    ix, iy = 0, 0\n",
      "    for i in range(len(image)-1):\n",
      "        iv = image[i]\n",
      "        if iv > 0:\n",
      "            jx, jy = move_pixel(ix, iy)\n",
      "            for j in range(i+1, len(image)):\n",
      "                jv = image[j]\n",
      "                if jv > 0:\n",
      "                    dist = math.hypot(jx-ix, jy-iy)\n",
      "                    if dist > MAX_DIST:\n",
      "                        print \"E: dist greater than maximum (%f > %f)\" % (dist, MAX_DIST)\n",
      "                    plus_scores.append(iv + jv)\n",
      "                    minus_scores.append(abs(iv - jv))\n",
      "                    dist_scores.append(dist)\n",
      "                jx, jy = move_pixel(jx, jy)\n",
      "        ix, iy = move_pixel(ix, iy)\n",
      "    \n",
      "    plus_heatmap, _, _ = np.histogram2d(dist_scores, plus_scores, bins=(32,32))\n",
      "    minus_heatmap, _, _ = np.histogram2d(dist_scores, minus_scores, bins=(32,32))\n",
      "    f, ax = plt.subplots(1,2)\n",
      "    f.set_size_inches((6,3))\n",
      "    ax[0].imshow(plus_heatmap, vmin=0, vmax=1024)\n",
      "    ax[1].imshow(minus_heatmap, vmin=0, vmax=1024)\n",
      "    f.savefig(output_filename)\n",
      "\n",
      "def calculate_from_id(folder, id):\n",
      "    BASEDIR = \"/Users/heltena/projects/worm_movement/Data/cutouts/20130702_135704\"\n",
      "    TEST_BASE_NAME = \"{folder}/{id}\".format(folder=folder, id=id)\n",
      "    TEST_IMAGE_FILENAME = \"{basedir}/{basename}_img.png\".format(basedir=BASEDIR, basename=TEST_BASE_NAME)\n",
      "    TEST_MASK_FILENAME =  \"{basedir}/{basename}_mask.png\".format(basedir=BASEDIR, basename=TEST_BASE_NAME)\n",
      "    TEST_FINGERPRINT_FILENAME = \"{basedir}/{basename}_fingerprint.png\".format(basedir=BASEDIR, basename=TEST_BASE_NAME)\n",
      "    try:\n",
      "        calculate_fingerprint(TEST_IMAGE_FILENAME, TEST_MASK_FILENAME, TEST_FINGERPRINT_FILENAME)\n",
      "    except:\n",
      "        pass\n",
      "\n",
      "FOLDERS = ['24109', '29992', '47394', '49387', '55329', '77984']\n",
      "for folder in FOLDERS:\n",
      "    calculate_from_id(folder, 13)"
     ],
     "language": "python",
     "metadata": {},
     "outputs": []
    },
    {
     "cell_type": "heading",
     "level": 1,
     "metadata": {},
     "source": [
      "TEST IDTRACK_DEV"
     ]
    },
    {
     "cell_type": "code",
     "collapsed": false,
     "input": [],
     "language": "python",
     "metadata": {},
     "outputs": []
    },
    {
     "cell_type": "code",
     "collapsed": false,
     "input": [],
     "language": "python",
     "metadata": {},
     "outputs": []
    }
   ],
   "metadata": {}
  }
 ]
}