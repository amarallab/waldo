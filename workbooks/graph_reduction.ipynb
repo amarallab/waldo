{
 "metadata": {
  "name": "",
  "signature": "sha256:33df9a3507e8f726f76aa2e8939d855e41115995a823bdf57e22318d4860a3ef"
 },
 "nbformat": 3,
 "nbformat_minor": 0,
 "worksheets": [
  {
   "cells": [
    {
     "cell_type": "code",
     "collapsed": false,
     "input": [
      "%load_ext autoreload\n",
      "%autoreload 2\n",
      "%matplotlib inline"
     ],
     "language": "python",
     "metadata": {},
     "outputs": []
    },
    {
     "cell_type": "code",
     "collapsed": false,
     "input": [
      "from __future__ import print_function, absolute_import, unicode_literals, division\n",
      "import six\n",
      "from six.moves import (zip, filter, map, reduce, input, range)\n",
      "\n",
      "import pathcustomize\n",
      "\n",
      "import sys\n",
      "import os\n",
      "import pathlib\n",
      "import pickle\n",
      "import platform\n",
      "import itertools\n",
      "print('Python {} ({}) [{}] on {}'.format(platform.python_version(), ', '.join(platform.python_build()), \n",
      "                                       platform.python_compiler(), sys.platform))\n",
      "\n",
      "import matplotlib.pyplot as plt\n",
      "import pandas as pd\n",
      "from IPython.core.display import Image as display_image\n",
      "import networkx as nx\n",
      "\n",
      "import waldo.tape as tp\n",
      "#import waldo.multiworm as multiworm\n",
      "import waldo.collider as collider\n",
      "import waldo.viz as viz\n",
      "#from viz.notebook import look, look_time, save_graphs\n",
      "\n",
      "import waldo.metrics.report_card as report_card\n",
      "import waldo.wio as wio"
     ],
     "language": "python",
     "metadata": {},
     "outputs": []
    },
    {
     "cell_type": "heading",
     "level": 1,
     "metadata": {},
     "source": [
      "initialize experiment + graph"
     ]
    },
    {
     "cell_type": "code",
     "collapsed": false,
     "input": [
      "#ex_id = '20130614_120518'\n",
      "#ex_id = '20130318_131111'\n",
      "#ex_id = '20130414_140704'\n",
      "ex_id = '20130702_135704' # many pics\n",
      "#ex_id = '20130702_135652' # many pics\n",
      "\n",
      "experiment = wio.Experiment(experiment_id=ex_id)\n",
      "graph = experiment.graph.copy()\n",
      "\n",
      "collider.remove_nodes_outside_roi(graph, experiment)\n",
      "collider.remove_blank_nodes(graph, experiment)\n",
      "\n",
      "print('N = {}'.format(len(graph)))\n",
      "viz.direct_degree_distribution(graph, (3, 3), ignore_zero=False)"
     ],
     "language": "python",
     "metadata": {},
     "outputs": []
    },
    {
     "cell_type": "heading",
     "level": 1,
     "metadata": {},
     "source": [
      "find giant component"
     ]
    },
    {
     "cell_type": "code",
     "collapsed": false,
     "input": [
      "giant = nx.connected_component_subgraphs(graph.to_undirected())[0]\n",
      "giant_nodes = giant.nodes(data=False)\n",
      "\n",
      "print(len(giant_nodes), 'in giant component')"
     ],
     "language": "python",
     "metadata": {},
     "outputs": []
    },
    {
     "cell_type": "code",
     "collapsed": false,
     "input": [
      "slightly_simplified_graph = graph.copy()\n",
      "\n",
      "collider.remove_single_descendents(slightly_simplified_graph)\n",
      "collider.remove_fission_fusion(slightly_simplified_graph)\n",
      "collider.remove_fission_fusion_rel(slightly_simplified_graph, split_rel_time=0.5)\n",
      "collider.remove_offshoots(slightly_simplified_graph, threshold=20)\n",
      "collider.remove_single_descendents(slightly_simplified_graph)\n",
      "\n",
      "giant = nx.connected_component_subgraphs(slightly_simplified_graph.to_undirected())[0]\n",
      "giant_nodes = giant.nodes(data=False)\n",
      "\n",
      "print(len(giant_nodes), 'in giant component')"
     ],
     "language": "python",
     "metadata": {},
     "outputs": []
    },
    {
     "cell_type": "heading",
     "level": 1,
     "metadata": {},
     "source": [
      "run simplification"
     ]
    },
    {
     "cell_type": "code",
     "collapsed": false,
     "input": [
      "graph2, rc = report_card.collision_iteration2(experiment, graph.copy())"
     ],
     "language": "python",
     "metadata": {},
     "outputs": []
    },
    {
     "cell_type": "code",
     "collapsed": false,
     "input": [
      "final_giant_nodes = []\n",
      "bid_to_final_node = {}\n",
      "for bid in graph.nodes(data=False):\n",
      "    final = graph2.where_is(bid)\n",
      "    bid_to_final_node[bid] = final\n",
      "    if bid in giant_nodes:\n",
      "        final_giant_nodes.append(final)\n",
      "    \n",
      "final_giant_nodes = list(set(final_giant_nodes))\n",
      "print(len(final_giant_nodes), 'final nodes from giant component')"
     ],
     "language": "python",
     "metadata": {},
     "outputs": []
    },
    {
     "cell_type": "code",
     "collapsed": false,
     "input": [],
     "language": "python",
     "metadata": {},
     "outputs": []
    },
    {
     "cell_type": "code",
     "collapsed": false,
     "input": [
      "def subgraph_nodes(digraph, nodes):\n",
      "    subgraph = digraph.copy()\n",
      "    unwanted_nodes = [n for n in subgraph.nodes(data=False) if n not in nodes]\n",
      "    subgraph.remove_nodes_from(unwanted_nodes)\n",
      "    return subgraph"
     ],
     "language": "python",
     "metadata": {},
     "outputs": []
    },
    {
     "cell_type": "code",
     "collapsed": false,
     "input": [
      "colorschemes = ['paired12'] # or try brbg11 or set312 (a 12 color pastel set)\n",
      "styles = ['filled', 'bold', 'dotted']\n",
      "shapes = ['box', 'circle', 'invtriangle', 'diamond', 'triangle', 'pentagon']\n",
      "colors = ['{i}'.format(i=i) for i in range(1, 12)]\n",
      "\n",
      "a = [colorschemes, styles, shapes, colors]\n",
      "codes = list(itertools.product(*a))\n",
      "style_options = [{'colorscheme':c[0], 'style':c[1], 'shape':c[2], 'color':c[3]} for c in codes]\n",
      "print(len(style_options), 'style options')"
     ],
     "language": "python",
     "metadata": {},
     "outputs": []
    },
    {
     "cell_type": "code",
     "collapsed": false,
     "input": [
      "node_to_style = {}\n",
      "for n, s in zip(final_giant_nodes, style_options):\n",
      "    node_to_style[n] = s\n",
      "print(len(node_to_style), 'node_to_style values')"
     ],
     "language": "python",
     "metadata": {},
     "outputs": []
    },
    {
     "cell_type": "code",
     "collapsed": false,
     "input": [
      "for i in style_options[:10]:\n",
      "    print(i)"
     ],
     "language": "python",
     "metadata": {},
     "outputs": []
    },
    {
     "cell_type": "code",
     "collapsed": false,
     "input": [
      "g_1 = subgraph_nodes(slightly_simplified_graph, giant_nodes)\n",
      "g_2 = subgraph_nodes(graph2, giant_nodes)"
     ],
     "language": "python",
     "metadata": {},
     "outputs": []
    },
    {
     "cell_type": "code",
     "collapsed": false,
     "input": [
      "def assign_final_nodes(graph, node_to_final):\n",
      "    for n in graph.nodes(data=False):\n",
      "        graph.node[n]['final_node'] = node_to_final[n]\n",
      "       \n",
      "assign_final_nodes(g_1, bid_to_final_node)\n",
      "assign_final_nodes(g_2, bid_to_final_node)"
     ],
     "language": "python",
     "metadata": {},
     "outputs": []
    },
    {
     "cell_type": "code",
     "collapsed": false,
     "input": [
      "def style_the_graph(graph, node_to_style):\n",
      "    for n, node_data in graph.nodes(data=True):\n",
      "        final = node_data['final_node']\n",
      "        #print(final)\n",
      "        #print(node_to_style[final])\n",
      "        for attr, value in node_to_style[final].iteritems():\n",
      "            node_data[attr] = value\n",
      "\n",
      "style_the_graph(g_1, node_to_style)\n",
      "style_the_graph(g_2, node_to_style)"
     ],
     "language": "python",
     "metadata": {},
     "outputs": []
    },
    {
     "cell_type": "code",
     "collapsed": false,
     "input": [
      "temp_file = collider.viz.render_nx_as_dot(g_1)\n",
      "display_image(temp_file)"
     ],
     "language": "python",
     "metadata": {},
     "outputs": []
    },
    {
     "cell_type": "code",
     "collapsed": false,
     "input": [
      "temp_file = collider.viz.render_nx_as_dot(g_2)\n",
      "display_image(temp_file)"
     ],
     "language": "python",
     "metadata": {},
     "outputs": []
    },
    {
     "cell_type": "code",
     "collapsed": false,
     "input": [
      "def simplify(graph):\n",
      "    collider.collapse_group_of_nodes(graph, max_duration=5)  # 5 seconds\n",
      "    collider.remove_single_descendents(graph)\n",
      "    collider.remove_fission_fusion(graph)\n",
      "    collider.remove_fission_fusion_rel(graph, split_rel_time=0.5)\n",
      "    collider.remove_offshoots(graph, threshold=20)\n",
      "    collider.remove_single_descendents(graph)\n",
      "\n",
      "def gaps(graph, taper):\n",
      "    gap_start, gap_end = taper.find_start_and_end_nodes(use_missing_objects=True)\n",
      "    gaps = taper.score_potential_gaps(gap_start, gap_end)\n",
      "    gap_validation.append(gaps[['blob1', 'blob2']])\n",
      "    ll1, gaps = taper.short_tape(gaps, add_edges=True)\n",
      "    ll2, gaps = taper.greedy_tape(gaps, threshold=0.001, add_edges=True)\n",
      "    ll3, gaps = taper.short_tape(gaps, add_edges=True)\n",
      "\n",
      "def collisions(graph, experiment):\n",
      "    report_card.collision_suite(experiment, graph)\n"
     ],
     "language": "python",
     "metadata": {},
     "outputs": []
    },
    {
     "cell_type": "code",
     "collapsed": false,
     "input": [
      "taper = tp.Taper(experiment=experiment, graph=graph)\n",
      "graph0 = graph.copy()\n",
      "collisions(graph0, experiment)\n",
      "simplify(graph0)\n",
      "gaps(graph0, taper)\n"
     ],
     "language": "python",
     "metadata": {},
     "outputs": []
    },
    {
     "cell_type": "code",
     "collapsed": false,
     "input": [
      "graph1 = graph0.copy()\n",
      "collisions(graph1, experiment)\n",
      "simplify(graph1)\n",
      "gaps(graph1, taper)"
     ],
     "language": "python",
     "metadata": {},
     "outputs": []
    },
    {
     "cell_type": "code",
     "collapsed": false,
     "input": [
      "graph2 = graph1.copy()\n",
      "collisions(graph2, experiment)\n",
      "simplify(graph2)\n",
      "gaps(graph2, taper)"
     ],
     "language": "python",
     "metadata": {},
     "outputs": []
    },
    {
     "cell_type": "code",
     "collapsed": false,
     "input": [],
     "language": "python",
     "metadata": {},
     "outputs": []
    }
   ],
   "metadata": {}
  }
 ]
}