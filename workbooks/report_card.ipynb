{
 "metadata": {
  "name": "",
  "signature": "sha256:41a3c18f4ec76dfc14f03ee781d5bd4ee7c7eb4b1acf4214088f1c4c8a90838e"
 },
 "nbformat": 3,
 "nbformat_minor": 0,
 "worksheets": [
  {
   "cells": [
    {
     "cell_type": "code",
     "collapsed": false,
     "input": [
      "%load_ext autoreload\n",
      "%autoreload 2\n",
      "\n",
      "%matplotlib inline"
     ],
     "language": "python",
     "metadata": {},
     "outputs": [],
     "prompt_number": 1
    },
    {
     "cell_type": "code",
     "collapsed": false,
     "input": [
      "#from __future__ import print_function, absolute_import, unicode_literals, division\n",
      "#import six\n",
      "#from six.moves import (zip, filter, map, reduce, input, range)\n",
      "\n",
      "import pathcustomize\n",
      "\n",
      "import sys\n",
      "import os\n",
      "import pathlib\n",
      "import pickle\n",
      "import platform\n",
      "print('Python {} ({}) [{}] on {}'.format(platform.python_version(), ', '.join(platform.python_build()), \n",
      "                                       platform.python_compiler(), sys.platform))\n",
      "\n",
      "import pandas as pd\n",
      "import math\n",
      "import random\n",
      "\n",
      "import matplotlib.pyplot as plt\n",
      "import prettyplotlib as ppl\n",
      "import matplotlib.gridspec as gridspec\n",
      "import matplotlib.patches as patches\n",
      "import matplotlib.path as path\n",
      "from mpltools import style\n",
      "from mpltools import layout\n",
      "from statsmodels.distributions.empirical_distribution import ECDF\n",
      "\n",
      "\n",
      "from waldo.conf import settings\n",
      "from waldo.wio.experiment import Experiment\n",
      "import waldo.metrics.report_card as report_card\n",
      "import waldo.collider\n",
      "import waldo.tape as tp\n",
      "import waldo.metrics.step_simulation as ssim\n",
      "DATA_DIR = settings.LOGISTICS['filesystem_data']\n",
      "style.use('ggplot')"
     ],
     "language": "python",
     "metadata": {},
     "outputs": [
      {
       "output_type": "stream",
       "stream": "stdout",
       "text": [
        "Python 2.7.6 (default, Mar 22 2014 22:59:56) [GCC 4.8.2] on linux2\n"
       ]
      }
     ],
     "prompt_number": 2
    },
    {
     "cell_type": "heading",
     "level": 1,
     "metadata": {},
     "source": [
      "ALL FUNCTIONS"
     ]
    },
    {
     "cell_type": "code",
     "collapsed": false,
     "input": [
      "def bridge_gaps(experiment, graph, threshold=0.001):\n",
      "    taper = tp.Taper(experiment=experiment, graph=graph)\n",
      "    start, end = taper.find_start_and_end_nodes()\n",
      "    gaps = taper.score_potential_gaps(start, end)\n",
      "    gt = taper.greedy_tape(gaps, threshold=threshold, add_edges=True)\n",
      "    graph = taper._graph\n",
      "    \n"
     ],
     "language": "python",
     "metadata": {},
     "outputs": [],
     "prompt_number": 3
    },
    {
     "cell_type": "code",
     "collapsed": false,
     "input": [
      "# def step_plot(ax, step_df, true_num=30, only_best=False):\n",
      "\n",
      "#     steps = []\n",
      "#     n_steps = len(step_df)\n",
      "\n",
      "#     xs = list(step_df['t0'])\n",
      "#     widths = list(step_df['lifespan'])\n",
      "#     height = 1\n",
      "\n",
      "#     color_cycle = ax._get_lines.color_cycle\n",
      "#     color1 = color_cycle.next()\n",
      "#     color2 = color_cycle.next()\n",
      "#     for y, (x, width) in enumerate(zip(xs, widths)):\n",
      "#         steps.append(patches.Rectangle((x,y), height=height, width=width,\n",
      "#                                        fill=True, fc=color1, ec=color1))\n",
      "#     for step in steps:\n",
      "#         ax.add_patch(step)\n",
      "\n",
      "#     xmax = 60\n",
      "#     ideal = patches.Rectangle((0,0), height=true_num, width=xmax,\n",
      "#                               fill=True, ec=color2, fc=color2,\n",
      "#                               alpha=0.5)\n",
      "\n",
      "#     ax.add_patch(ideal)\n",
      "#     ax.plot([0], color=color1, label='actual')\n",
      "#     ax.plot([0], color=color2, alpha=0.5, label='ideal')\n",
      "#     ax.set_xlim([0, xmax])\n",
      "#     ax.set_ylim([0, n_steps+1])\n",
      "\n",
      "def plot_steps(ax, df, dividers=[]):\n",
      "    label = 'hi'\n",
      "    step_df = df\n",
      "    n_steps = len(step_df)    \n",
      "    xmax = int(max(df['tN']))\n",
      "    ymax = n_steps + 1\n",
      "    steps = []\n",
      "    \n",
      "\n",
      "    xs = list(step_df['t0'])\n",
      "    widths = list(step_df['lifespan'])\n",
      "    height = 1\n",
      "\n",
      "    color = ax._get_lines.color_cycle.next()\n",
      "    for y, (x, width) in enumerate(zip(xs, widths)):\n",
      "        steps.append(patches.Rectangle((x,y), height=height, width=width,\n",
      "                                       fill=True, fc=color, ec=color))\n",
      "    for step in steps:\n",
      "        ax.add_patch(step)\n",
      "        \n",
      "    for d in dividers:\n",
      "        ax.plot([0, xmax], [d,d], color='black')\n",
      "        \n",
      "    ax.plot([0], color=color, label=label)\n",
      "    ax.set_xlim([0, xmax])\n",
      "    ax.set_ylim([0, ymax])\n",
      "    ax.set_xlabel('t (min)')\n",
      "    \n",
      "def make_dividers(step_dfs):\n",
      "    dividers = [len(i) for i in step_dfs]\n",
      "    dividers = [0] + dividers\n",
      "    return np.cumsum(dividers)  \n",
      "\n",
      "def step_plot(ax, df):\n",
      "    a = df.sort('lifespan', ascending=False)\n",
      "    a['mid'] = (a['tN'] + a['t0'])/2\n",
      "    xmax = int(max(a['tN']))\n",
      "\n",
      "    \n",
      "    short_is_less_than = 5 \n",
      "    long_is_greater_than = 40\n",
      "    front_back_margin = 10\n",
      "    \n",
      "    front_lim = front_back_margin\n",
      "    back_lim = xmax - front_back_margin\n",
      "\n",
      "    #shortest = a[a['lifespan'] <= short_is_less_than]\n",
      "    #a = a[a['lifespan'] > short_is_less_than]\n",
      "    #shortest.sort('tN', inplace=True, ascending=True)\n",
      "    #shortest.sort('t0', inplace=True, ascending=False)\n",
      "\n",
      "\n",
      "    #longest = a[a['lifespan'] >= long_is_greater_than]\n",
      "    #a = a[a['lifespan'] < long_is_greater_than]\n",
      "    #longest.sort('t0', inplace=True)\n",
      "    #longest.sort('tN', inplace=True, ascending=False)\n",
      "\n",
      "    front = a[a['t0'] <= front_lim]\n",
      "    a = a[a['t0'] > front_lim]\n",
      "    front.sort('tN', inplace=True, ascending=False)\n",
      "\n",
      "\n",
      "    back = a[a['tN'] >= back_lim]\n",
      "    a = a[a['tN'] < back_lim]\n",
      "    back.sort('t0', inplace=True, ascending=False)\n",
      "\n",
      "\n",
      "    mid = a\n",
      "    mid.sort('mid', inplace=True, ascending=False)\n",
      "\n",
      "    \n",
      "    steps = [front, mid, back]\n",
      "    a = pd.concat(steps)\n",
      "    div = make_dividers(steps)\n",
      "    plot_steps(ax,a, dividers=div)"
     ],
     "language": "python",
     "metadata": {},
     "outputs": [],
     "prompt_number": 4
    },
    {
     "cell_type": "code",
     "collapsed": false,
     "input": [
      "def calculate_duration_data_from_graph(experiment, graph, node_ids=[]):\n",
      "    if not node_ids:\n",
      "        node_ids = graph.nodes(data=False)\n",
      "    \n",
      "    frame_times = experiment.frame_times\n",
      "    step_data, durations = [], []\n",
      "    for node in node_ids:\n",
      "        node_data = graph.node[node]\n",
      "        bf, df = node_data['born_f'], node_data['died_f']\n",
      "        t0 = frame_times[bf - 1]\n",
      "        tN = frame_times[df - 1]\n",
      "        step_data.append({'bid':node, 't0':t0, 'tN':tN, 'lifespan':tN-t0})\n",
      "\n",
      "    steps = pd.DataFrame(step_data)\n",
      "    steps.set_index('bid', inplace=True)\n",
      "    steps = steps / 60.0   # convert to minutes.\n",
      "    steps.sort('t0', inplace=True)\n",
      "    steps = steps[['t0', 'tN', 'lifespan']]\n",
      "    durations = np.array(steps['lifespan'])\n",
      "    return steps, durations\n"
     ],
     "language": "python",
     "metadata": {},
     "outputs": [],
     "prompt_number": 5
    },
    {
     "cell_type": "code",
     "collapsed": false,
     "input": [
      "def make_cdf(ax, durations_list, label='', xmin=0, xmax=30):\n",
      "    x = np.linspace(xmin, xmax, 1000)\n",
      "    ecdf = ECDF(np.array(durations_list))\n",
      "    cdf = ecdf(x)\n",
      "    ax.plot(x, cdf, label=label, lw=2)\n",
      "    ax.set_xlabel('minutes')\n",
      "    ax.set_ylabel('CDF')\n"
     ],
     "language": "python",
     "metadata": {},
     "outputs": [],
     "prompt_number": 6
    },
    {
     "cell_type": "code",
     "collapsed": false,
     "input": [
      "def find_nodes_containing_bids(graph, bids):\n",
      "    nodes_with_moved_bids = []\n",
      "    for node in graph:\n",
      "        if node in bids:\n",
      "            nodes_with_moved_bids.append(node)\n",
      "            continue\n",
      "        for c in graph.node[node].get('components', []):\n",
      "            if c in bids:\n",
      "                nodes_with_moved_bids.append(node)\n",
      "                break\n",
      "    return nodes_with_moved_bids"
     ],
     "language": "python",
     "metadata": {},
     "outputs": [],
     "prompt_number": 7
    },
    {
     "cell_type": "code",
     "collapsed": false,
     "input": [
      "def show_reasons(df):\n",
      "    reasons = ['unknown', 'on_edge', 'id_change', 'outside-roi', 'timing']\n",
      "    if 'reason' not in df:\n",
      "        df['reason'] = 'unknown'\n",
      "        for reason in reasons[1:]:\n",
      "            df['reason'][df[reason]] = reason\n",
      "            print reason, len(df['reason'][df[reason]])\n",
      "\n",
      "    counts = {}\n",
      "    for reason in reasons:\n",
      "         counts[reason] = len(df[df['reason'] == reason])\n",
      "            \n",
      "    unknown_ids = list(df[df['reason'] == 'unknown'].index)\n",
      "    id_change_ids = list(df[df['reason'] == 'id_change'].index)\n",
      "\n",
      "    return unknown_ids, id_change_ids"
     ],
     "language": "python",
     "metadata": {},
     "outputs": [],
     "prompt_number": 8
    },
    {
     "cell_type": "code",
     "collapsed": false,
     "input": [
      "def rc_duration_hist_single(rc, step='roi'):\n",
      "    rc = rc.copy()\n",
      "    \n",
      "    # grab bins from column names\n",
      "    cols = rc.columns\n",
      "    bins = [(int(c[1:-3]), c) for c in cols if str(c[0]) == '>']\n",
      "    bins.sort(reverse=True)\n",
      "    #print bins\n",
      "    \n",
      "    # grab relevant step\n",
      "    step_data = rc.iloc[step]\n",
      "    print step_data[['step', '>10min','>20min','>30min','>40min','>50min']]\n",
      "    bin_data = []\n",
      "    running_total = 0\n",
      "    for bl, rc_label in bins:\n",
      "        a = step_data[rc_label]\n",
      "        n = a - running_total\n",
      "        running_total += n\n",
      "        #print bl, a, n\n",
      "        #print 'total', running_total\n",
      "        bin_data.append((bl, n))\n",
      "    bin_data.sort()\n",
      "    print bin_data\n",
      "    fig, ax = plt.subplots()\n",
      "    x = np.arange(len(bin_data))\n",
      "    labels, y = zip(*bin_data)\n",
      "    labels = [str(l) for l in labels]\n",
      "    ppl.bar(ax, x, y, annotate=True, xticklabels=labels, grid='y')\n",
      "    plt.show()\n",
      "\n",
      "def rc_duration_hist(rc):\n",
      "    rc = rc.copy()\n",
      "    cols = rc.columns\n",
      "    \n",
      "    bins = [(int(c[1:-3]), c) for c in cols if str(c[0]) == '>']\n",
      "\n",
      "    # grab bins from column names\n",
      "\n",
      "    bins.sort(reverse=True)\n",
      "    #print bins\n",
      "    \n",
      "    def step_data_to_bins(step):\n",
      "        # grab relevant step\n",
      "        step_data = rc.iloc[step]\n",
      "        #print step_data[['step', '>10min','>20min','>30min','>40min','>50min']]\n",
      "        bin_data = []\n",
      "        running_total = 0\n",
      "        for bl, rc_label in bins:\n",
      "            a = step_data[rc_label]\n",
      "            n = a - running_total\n",
      "            running_total += n\n",
      "            #print bl, a, n\n",
      "            #print 'total', running_total\n",
      "            bin_data.append((bl, n))\n",
      "        bin_data.sort()\n",
      "        bd = {} #'step':step_name}\n",
      "        for l, n in bin_data:\n",
      "            bd[l] = n\n",
      "        return bd\n",
      "    \n",
      "    bd1 = step_data_to_bins(1)\n",
      "    bd2 = step_data_to_bins(-1)\n",
      "    \n",
      "    #bd1['step'] = 'raw'\n",
      "    #bd2['step'] = 'final'\n",
      "    \n",
      "    df = pd.DataFrame([bd1, bd2], index=['raw', 'final'])\n",
      "    df.rename(columns={10:'10-19',20:'20-29', \n",
      "                       30:'30-39',40:'40-49', 50:'50-60'}, inplace=True)\n",
      " \n",
      "    ax = df.T.plot(kind='bar')\n",
      "    fig = plt.figure(plt.get_fignums()[0])\n",
      "    fig.set_size_inches(10, 5)\n",
      "    ax.set_ylabel('number of tracks')\n",
      "    ax.set_xlabel('track duration (min)')\n",
      "    plt.tight_layout()\n",
      "\n",
      "    plt.savefig('track-len-improvement.png')\n",
      "\n",
      "    #plt.show()\n",
      "    #print df\n",
      "    \n",
      "    \n",
      "    \n",
      "#rc_duration_hist(rc)\n",
      "#  \n"
     ],
     "language": "python",
     "metadata": {},
     "outputs": [],
     "prompt_number": 9
    },
    {
     "cell_type": "heading",
     "level": 1,
     "metadata": {},
     "source": [
      "Generate Report Card"
     ]
    },
    {
     "cell_type": "code",
     "collapsed": false,
     "input": [
      "# N = 15\n",
      "ex_id = '20141017_113435'\n",
      "ex_id = '20141017_113439'\n",
      "ex_id = '20141017_123722'\n",
      "ex_id = '20141017_123725'\n",
      "# N = 25\n",
      "#ex_id = '20141017_134720'\n",
      "#ex_id = '20141017_134724'\n",
      "#ex_id = '20141017_150959'\n",
      "#ex_id = '20141017_151002'"
     ],
     "language": "python",
     "metadata": {},
     "outputs": [],
     "prompt_number": 10
    },
    {
     "cell_type": "code",
     "collapsed": false,
     "input": [
      "#ex_id = '20130614_120518'\n",
      "#ex_id = '20130318_131111'\n",
      "#ex_id = '20130702_135704' # testset\n",
      "#ex_id = '20130702_135652'\n",
      "#ex_id = '20130414_140704'\n",
      "#ex_id = '20130410_165326'\n",
      "experiment = Experiment(experiment_id=ex_id, data_root=DATA_DIR)\n",
      "original_graph = experiment.graph\n",
      "graph = original_graph.copy()"
     ],
     "language": "python",
     "metadata": {},
     "outputs": [],
     "prompt_number": 11
    },
    {
     "cell_type": "code",
     "collapsed": false,
     "input": [],
     "language": "python",
     "metadata": {},
     "outputs": [],
     "prompt_number": 11
    },
    {
     "cell_type": "code",
     "collapsed": false,
     "input": [
      "graph2, rc = report_card.collision_iteration2(experiment, graph.copy())"
     ],
     "language": "python",
     "metadata": {},
     "outputs": [
      {
       "output_type": "stream",
       "stream": "stderr",
       "text": [
        "Iteration 1\n"
       ]
      },
      {
       "output_type": "stream",
       "stream": "stderr",
       "text": [
        "Validation pass\n"
       ]
      },
      {
       "output_type": "stream",
       "stream": "stdout",
       "text": [
        "collisions from bbox\n",
        "\t17 suspects. trying 0 again\n",
        "\t0 suspects. trying 0 again"
       ]
      },
      {
       "output_type": "stream",
       "stream": "stderr",
       "text": [
        "Validation pass\n"
       ]
      },
      {
       "output_type": "stream",
       "stream": "stderr",
       "text": [
        "Collapse Group\n"
       ]
      },
      {
       "output_type": "stream",
       "stream": "stderr",
       "text": [
        "Validation pass\n"
       ]
      },
      {
       "output_type": "stream",
       "stream": "stderr",
       "text": [
        "Remove Single Descendents\n"
       ]
      },
      {
       "output_type": "stream",
       "stream": "stderr",
       "text": [
        "Validation pass\n"
       ]
      },
      {
       "output_type": "stream",
       "stream": "stderr",
       "text": [
        "Remove Fission-Fusion\n"
       ]
      },
      {
       "output_type": "stream",
       "stream": "stderr",
       "text": [
        "Validation pass\n"
       ]
      },
      {
       "output_type": "stream",
       "stream": "stderr",
       "text": [
        "Remove Fission-Fusion (relative)\n"
       ]
      },
      {
       "output_type": "stream",
       "stream": "stderr",
       "text": [
        "Validation pass\n"
       ]
      },
      {
       "output_type": "stream",
       "stream": "stderr",
       "text": [
        "Remove Offshoots\n"
       ]
      },
      {
       "output_type": "stream",
       "stream": "stderr",
       "text": [
        "Validation pass\n"
       ]
      },
      {
       "output_type": "stream",
       "stream": "stderr",
       "text": [
        "Remove Single Descendents\n"
       ]
      },
      {
       "output_type": "stream",
       "stream": "stderr",
       "text": [
        "Validation pass\n"
       ]
      },
      {
       "output_type": "stream",
       "stream": "stderr",
       "text": [
        "Patch Gaps\n"
       ]
      },
      {
       "output_type": "stream",
       "stream": "stdout",
       "text": [
        "\n",
        "\t12 resolved 70%\n",
        "\t0 missing data 0%\n",
        "\t0 missing data, no overlap 0%\n",
        "\t5 full data, no  overlap 29%\n",
        "129"
       ]
      },
      {
       "output_type": "stream",
       "stream": "stderr",
       "text": [
        "Validation pass\n"
       ]
      },
      {
       "output_type": "stream",
       "stream": "stdout",
       "text": [
        " real\n",
        "5 to_missing\n",
        "8 from_missing\n",
        "0 missing_to_missing\n",
        "5 new_real\n",
        "0 failed_links\n",
        "5 missing points used up\n",
        "3 unique used\n",
        "1 max recursion\n",
        "168 missing points to start with\n",
        "165 missing points left\n",
        "134 short gaps\n",
        "0 standard gaps\n",
        "0 long gaps\n",
        "0"
       ]
      },
      {
       "output_type": "stream",
       "stream": "stderr",
       "text": [
        "Validation pass\n"
       ]
      },
      {
       "output_type": "stream",
       "stream": "stderr",
       "text": [
        "Iteration 2\n"
       ]
      },
      {
       "output_type": "stream",
       "stream": "stderr",
       "text": [
        "Validation pass\n"
       ]
      },
      {
       "output_type": "stream",
       "stream": "stdout",
       "text": [
        " short gaps\n",
        "0 standard gaps\n",
        "0 long gaps\n",
        "collisions from bbox"
       ]
      },
      {
       "output_type": "stream",
       "stream": "stdout",
       "text": [
        "\n",
        "\t6 suspects. trying 0 again\n",
        "\t1 suspects. trying 1 again"
       ]
      },
      {
       "output_type": "stream",
       "stream": "stderr",
       "text": [
        "Validation pass\n"
       ]
      },
      {
       "output_type": "stream",
       "stream": "stderr",
       "text": [
        "Collapse Group\n"
       ]
      },
      {
       "output_type": "stream",
       "stream": "stderr",
       "text": [
        "Validation pass\n"
       ]
      },
      {
       "output_type": "stream",
       "stream": "stderr",
       "text": [
        "Remove Single Descendents\n"
       ]
      },
      {
       "output_type": "stream",
       "stream": "stderr",
       "text": [
        "Validation pass\n"
       ]
      },
      {
       "output_type": "stream",
       "stream": "stderr",
       "text": [
        "Remove Fission-Fusion\n"
       ]
      },
      {
       "output_type": "stream",
       "stream": "stderr",
       "text": [
        "Validation pass\n"
       ]
      },
      {
       "output_type": "stream",
       "stream": "stderr",
       "text": [
        "Remove Fission-Fusion (relative)\n"
       ]
      },
      {
       "output_type": "stream",
       "stream": "stderr",
       "text": [
        "Validation pass\n"
       ]
      },
      {
       "output_type": "stream",
       "stream": "stderr",
       "text": [
        "Remove Offshoots\n"
       ]
      },
      {
       "output_type": "stream",
       "stream": "stderr",
       "text": [
        "Validation pass\n"
       ]
      },
      {
       "output_type": "stream",
       "stream": "stderr",
       "text": [
        "Remove Single Descendents\n"
       ]
      },
      {
       "output_type": "stream",
       "stream": "stderr",
       "text": [
        "Validation pass\n"
       ]
      },
      {
       "output_type": "stream",
       "stream": "stderr",
       "text": [
        "Patch Gaps\n"
       ]
      },
      {
       "output_type": "stream",
       "stream": "stdout",
       "text": [
        "\n",
        "\t4 resolved 66%\n",
        "\t1 missing data 16%\n",
        "\t1 missing data, no overlap 16%\n",
        "\t1 full data, no  overlap 16%\n",
        "0"
       ]
      },
      {
       "output_type": "stream",
       "stream": "stderr",
       "text": [
        "Validation pass\n"
       ]
      },
      {
       "output_type": "stream",
       "stream": "stdout",
       "text": [
        " real\n",
        "0 to_missing\n",
        "4 from_missing\n",
        "0 missing_to_missing\n",
        "0 new_real\n",
        "0 failed_links\n",
        "0 missing points used up\n",
        "0 unique used\n",
        "0 max recursion\n",
        "165 missing points to start with\n",
        "165 missing points left\n",
        "0 short gaps\n",
        "0 standard gaps\n",
        "0 long gaps\n",
        "0"
       ]
      },
      {
       "output_type": "stream",
       "stream": "stderr",
       "text": [
        "Validation pass\n"
       ]
      },
      {
       "output_type": "stream",
       "stream": "stderr",
       "text": [
        "Iteration 3\n"
       ]
      },
      {
       "output_type": "stream",
       "stream": "stderr",
       "text": [
        "Validation pass\n"
       ]
      },
      {
       "output_type": "stream",
       "stream": "stdout",
       "text": [
        " short gaps\n",
        "0 standard gaps\n",
        "0 long gaps\n",
        "collisions from bbox"
       ]
      },
      {
       "output_type": "stream",
       "stream": "stdout",
       "text": [
        "\n",
        "\t3 suspects. trying 0 again\n",
        "\t0 resolved 0%"
       ]
      },
      {
       "output_type": "stream",
       "stream": "stderr",
       "text": [
        "Validation pass\n"
       ]
      },
      {
       "output_type": "stream",
       "stream": "stderr",
       "text": [
        "Collapse Group\n"
       ]
      },
      {
       "output_type": "stream",
       "stream": "stderr",
       "text": [
        "Validation pass\n"
       ]
      },
      {
       "output_type": "stream",
       "stream": "stderr",
       "text": [
        "Remove Single Descendents\n"
       ]
      },
      {
       "output_type": "stream",
       "stream": "stderr",
       "text": [
        "Validation pass\n"
       ]
      },
      {
       "output_type": "stream",
       "stream": "stderr",
       "text": [
        "Remove Fission-Fusion\n"
       ]
      },
      {
       "output_type": "stream",
       "stream": "stderr",
       "text": [
        "Validation pass\n"
       ]
      },
      {
       "output_type": "stream",
       "stream": "stderr",
       "text": [
        "Remove Fission-Fusion (relative)\n"
       ]
      },
      {
       "output_type": "stream",
       "stream": "stderr",
       "text": [
        "Validation pass\n"
       ]
      },
      {
       "output_type": "stream",
       "stream": "stderr",
       "text": [
        "Remove Offshoots\n"
       ]
      },
      {
       "output_type": "stream",
       "stream": "stderr",
       "text": [
        "Validation pass\n"
       ]
      },
      {
       "output_type": "stream",
       "stream": "stderr",
       "text": [
        "Remove Single Descendents\n"
       ]
      },
      {
       "output_type": "stream",
       "stream": "stderr",
       "text": [
        "Validation pass\n"
       ]
      },
      {
       "output_type": "stream",
       "stream": "stderr",
       "text": [
        "Patch Gaps\n"
       ]
      },
      {
       "output_type": "stream",
       "stream": "stdout",
       "text": [
        "\n",
        "\t1 missing data 33%\n",
        "\t1 missing data, no overlap 33%\n",
        "\t2 full data, no  overlap 66%\n",
        "0"
       ]
      },
      {
       "output_type": "stream",
       "stream": "stderr",
       "text": [
        "Validation pass\n"
       ]
      },
      {
       "output_type": "stream",
       "stream": "stdout",
       "text": [
        " real\n",
        "0 to_missing\n",
        "4 from_missing\n",
        "0 missing_to_missing\n",
        "0 new_real\n",
        "0 failed_links\n",
        "0 missing points used up\n",
        "0 unique used\n",
        "0 max recursion\n",
        "165 missing points to start with\n",
        "165 missing points left\n",
        "0 short gaps\n",
        "0 standard gaps\n",
        "0 long gaps\n",
        "0"
       ]
      },
      {
       "output_type": "stream",
       "stream": "stderr",
       "text": [
        "Validation pass\n"
       ]
      },
      {
       "output_type": "stream",
       "stream": "stderr",
       "text": [
        "No change since last iteration, halting\n"
       ]
      },
      {
       "output_type": "stream",
       "stream": "stdout",
       "text": [
        " short gaps\n",
        "0 standard gaps\n",
        "0 long gaps\n",
        "                    step  total-nodes  isolated-nodes  duration-med  \\\n",
        "0                    raw        42607            1803          0.00   \n",
        "1                    roi         2452            2188          0.00   \n",
        "2                  blank          373             116          0.13   \n",
        "3                 iter 0          373             116          0.13   \n",
        "4        collisions (12)          361             116          0.13   \n",
        "5               simplify          156             128         16.01   \n",
        "6   gaps w/missing (134)          156              61         16.01   \n",
        "7               gaps (0)          156              61         16.01   \n",
        "8                 iter 1          156              61         16.01   \n",
        "9         collisions (4)          152              61         19.47   \n",
        "10              simplify          129              68         40.59   \n",
        "11    gaps w/missing (0)          129              68         40.59   \n",
        "12              gaps (0)          129              68         40.59   \n",
        "13                iter 2          129              68         40.59   \n",
        "14        collisions (0)          129              68         40.59   \n",
        "15              simplify          129              68         40.59   \n",
        "16    gaps w/missing (0)          129              68         40.59   \n",
        "17              gaps (0)          129              68         40.59   \n",
        "\n",
        "    moving-nodes  \n",
        "0             93  \n",
        "1             68  \n",
        "2             68  \n",
        "3             68  \n",
        "4             68  \n",
        "5             60  \n",
        "6             60  \n",
        "7             60  \n",
        "8             60  \n",
        "9             60  \n",
        "10            58  \n",
        "11            58  \n",
        "12            58  \n",
        "13            58  \n",
        "14            58  \n",
        "15            58  \n",
        "16            58  \n",
        "17            58  \n",
        "\n",
        "[18 rows x 5 columns]"
       ]
      },
      {
       "output_type": "stream",
       "stream": "stdout",
       "text": [
        "\n",
        "                    step  total-nodes  >10min  >20min  >30min  >40min  >50min\n",
        "0                    raw        42607      31      13       8       4       2\n",
        "1                    roi         2452      11       4       3       1       1\n",
        "2                  blank          373      11       4       3       1       1\n",
        "3                 iter 0          373      11       4       3       1       1\n",
        "4        collisions (12)          361      11       4       3       1       1\n",
        "5               simplify          156      12       4       3       1       1\n",
        "6   gaps w/missing (134)          156      12       4       3       1       1\n",
        "7               gaps (0)          156      12       4       3       1       1\n",
        "8                 iter 1          156      12       4       3       1       1\n",
        "9         collisions (4)          152      12       4       3       1       1\n",
        "10              simplify          129      12       4       3       1       1\n",
        "11    gaps w/missing (0)          129      12       4       3       1       1\n",
        "12              gaps (0)          129      12       4       3       1       1\n",
        "13                iter 2          129      12       4       3       1       1\n",
        "14        collisions (0)          129      12       4       3       1       1\n",
        "15              simplify          129      12       4       3       1       1\n",
        "16    gaps w/missing (0)          129      12       4       3       1       1\n",
        "17              gaps (0)          129      12       4       3       1       1\n",
        "\n",
        "[18 rows x 7 columns]\n",
        "                    step     wm_0min    wm_10min    wm_20min    wm_30min  \\\n",
        "0                    raw  924.496433  249.970750  118.650233  133.776450   \n",
        "1                    roi  184.925017   86.604267   22.107017   63.228933   \n",
        "2                  blank  184.925017   86.604267   22.107017   63.228933   \n",
        "3                 iter 0  184.925017   86.604267   22.107017   63.228933   \n",
        "4        collisions (12)  184.540583   86.604267   22.107017   63.228933   \n",
        "5               simplify  167.798217  101.289517   22.107017   66.379433   \n",
        "6   gaps w/missing (134)  167.798217  101.289517   22.107017   66.379433   \n",
        "7               gaps (0)  167.798217  101.289517   22.107017   66.379433   \n",
        "8                 iter 1  167.798217  101.289517   22.107017   66.379433   \n",
        "9         collisions (4)  167.322017  101.289517   22.107017   66.379433   \n",
        "10              simplify  161.204517  101.289517   22.107017   66.379433   \n",
        "11    gaps w/missing (0)  161.204517  101.289517   22.107017   66.379433   \n",
        "12              gaps (0)  161.204517  101.289517   22.107017   66.379433   \n",
        "13                iter 2  161.204517  101.289517   22.107017   66.379433   \n",
        "14        collisions (0)  161.204517  101.289517   22.107017   66.379433   \n",
        "15              simplify  161.204517  101.289517   22.107017   66.379433   \n",
        "16    gaps w/missing (0)  161.204517  101.289517   22.107017   66.379433   \n",
        "17              gaps (0)  161.204517  101.289517   22.107017   66.379433   \n",
        "\n",
        "     wm_40min    wm_50min  \n",
        "0   88.068117  110.436483  \n",
        "1    0.000000   50.435267  \n",
        "2    0.000000   50.435267  \n",
        "3    0.000000   50.435267  \n",
        "4    0.000000   50.435267  \n",
        "5    0.000000   50.435267  \n",
        "6    0.000000   50.435267  \n",
        "7    0.000000   50.435267  \n",
        "8    0.000000   50.435267  \n",
        "9    0.000000   50.435267  \n",
        "10   0.000000   58.290783  \n",
        "11   0.000000   58.290783  \n",
        "12   0.000000   58.290783  \n",
        "13   0.000000   58.290783  \n",
        "14   0.000000   58.290783  \n",
        "15   0.000000   58.290783  \n",
        "16   0.000000   58.290783  \n",
        "17   0.000000   58.290783  \n",
        "\n",
        "[18 rows x 7 columns]\n",
        "40521"
       ]
      },
      {
       "output_type": "stream",
       "stream": "stdout",
       "text": [
        " blobs have terminal data\n",
        "129 nodes in graph\n",
        "126 overlap\n",
        "29 have more than 1 blob id in them\n",
        "          unknown  split  join  timing  on_edge  outside-roi\n",
        "lifespan                                                    \n",
        "1              10     11    27       2        8           11\n",
        "5               5      1     3      10        3           16\n",
        "10              0      0     0       2        0            6\n",
        "20              0      2     0       1        1            4\n",
        "61              0      0     2       0        0            2\n",
        "total          15     14    32      15       12           39\n",
        "\n",
        "[6 rows x 6 columns]"
       ]
      },
      {
       "output_type": "stream",
       "stream": "stdout",
       "text": [
        "\n",
        "          unknown  split  join  timing  on_edge  outside-roi\n",
        "lifespan                                                    \n",
        "1               7     29    10       1        8           14\n",
        "5               2      0     2       2        3           29\n",
        "10              0      2     1       0        0            5\n",
        "20              0      1     0       3        2            2\n",
        "61              0      0     1       2        0            1\n",
        "total           9     32    14       8       13           51\n",
        "\n",
        "[6 rows x 6 columns]\n"
       ]
      },
      {
       "output_type": "stream",
       "stream": "stderr",
       "text": [
        "/home/visitors/peterwinter/.pyenv/versions/general/local/lib/python2.7/site-packages/pandas/core/frame.py:2175: SettingWithCopyWarning: A value is trying to be set on a copy of a slice from a DataFrame\n",
        "  **kwargs)\n"
       ]
      }
     ],
     "prompt_number": 14
    },
    {
     "cell_type": "code",
     "collapsed": false,
     "input": [
      "rc_duration_hist(rc)"
     ],
     "language": "python",
     "metadata": {},
     "outputs": [
      {
       "metadata": {},
       "output_type": "display_data",
       "png": "[encoded data removed]",
       "text": [
        "<matplotlib.figure.Figure at 0x7fd3f6da7590>"
       ]
      }
     ],
     "prompt_number": 13
    },
    {
     "cell_type": "code",
     "collapsed": false,
     "input": [
      "def node_summary(experiment, graph, node_ids=[]):\n",
      "    \"\"\"\n",
      "    returns a dataframe with lots of data for every node specified in node_ids.\n",
      "    \n",
      "    dataframe columns are:\n",
      "    'bl', 'components', 'f0', 'fN', 't0', 'tN',\n",
      "    'x_max', 'x_min', 'y_max', y_min'\n",
      "    \n",
      "    params\n",
      "    -----\n",
      "    experiment: (wio.experiment object)\n",
      "    node_ids: (list)\n",
      "\n",
      "    \"\"\"\n",
      "    if not node_ids:\n",
      "        node_ids = graph.nodes(data=False)\n",
      "    \n",
      "    frame_times = experiment.frame_times\n",
      "    node_movement = graph2.node_movement(experiment)\n",
      "    node_movement.sort(inplace=True)\n",
      "    node_summaries = []\n",
      "    for node in node_ids:\n",
      "        node_data = graph.node[node]\n",
      "        bf, df = node_data['born_f'], node_data['died_f']\n",
      "        t0 = frame_times[bf - 1]\n",
      "        tN = frame_times[df - 1]\n",
      "        comps = list(node_data.get('components', [node]))\n",
      "        comp_string = '-'.join([str(c) for c in comps])\n",
      "        n_summary = {'bid':node, 'f0':bf, 'fN':df, 't0':t0, 'tN':tN, 'components':comp_string}\n",
      "        if node in node_movement.index:\n",
      "            n_move = node_movement.loc[node]\n",
      "            for i, v in zip(n_move.index, n_move):\n",
      "                n_summary[str(i)] = v   \n",
      "        else:\n",
      "            for i in ['x_max', 'x_min', 'y_max', 'y_min', 'bl']:\n",
      "                n_summary[i] = 0\n",
      "        node_summaries.append(n_summary)\n",
      "    node_info = pd.DataFrame(node_summaries)\n",
      "    node_info.set_index('bid', inplace=True)\n",
      "    node_info.sort(inplace=True)\n",
      "    return node_info\n",
      "node_summary(experiment, graph2)    "
     ],
     "language": "python",
     "metadata": {},
     "outputs": [
      {
       "output_type": "stream",
       "stream": "stdout",
       "text": [
        "            bl components  f0     fN     t0       tN     x_max    x_min  \\\n",
        "bid                                                                       \n",
        "1    18.428179    1-51-76   1   4321  0.006  292.342   630.333   80.579   \n",
        "3    27.571795  144-3-172   1   3559  0.006  242.612   834.916  235.995   \n",
        "4    36.355365       96-4   1  10880  0.006  720.964  1704.367  252.689   \n",
        "5    15.484003          5   1   2501  0.006  173.416  1373.131  543.941   \n",
        "7    24.675176          7   1   2314  0.006  161.077  1580.350  850.298   \n",
        "\n",
        "        y_max    y_min  \n",
        "bid                     \n",
        "1    1379.051  783.741  \n",
        "3    1922.117  807.821  \n",
        "4    1796.852  989.532  \n",
        "5     723.244  590.311  \n",
        "7    1576.678  773.499  \n",
        "\n",
        "[5 rows x 10 columns]\n"
       ]
      }
     ],
     "prompt_number": 48
    },
    {
     "cell_type": "code",
     "collapsed": false,
     "input": [],
     "language": "python",
     "metadata": {},
     "outputs": []
    },
    {
     "cell_type": "heading",
     "level": 2,
     "metadata": {},
     "source": [
      "Graph how iterations reduce node count"
     ]
    },
    {
     "cell_type": "code",
     "collapsed": false,
     "input": [
      "l = rc.set_index('step').loc[['iter 0', 'iter 1', 'iter 2', 'iter 3']][['total-nodes', 'moving-nodes']]\n",
      "l.reset_index(inplace=True)\n",
      "l.rename(columns={'total-nodes':'total tracks', \n",
      "                  'moving-nodes': 'move > 2 BL'})\n",
      "l.index.name = 'iteration'\n",
      "l[['total-nodes', 'moving-nodes']].plot(kind='bar')\n",
      "l"
     ],
     "language": "python",
     "metadata": {},
     "outputs": []
    },
    {
     "cell_type": "code",
     "collapsed": false,
     "input": [
      "def rc_worm_minutes_hist(rc):\n",
      "    rc = rc.copy()\n",
      "    rc.rename(columns={'wm_0min':'0-9', 'wm_10min':'10-19','wm_20min':'20-29', \n",
      "                       'wm_30min':'30-39','wm_40min':'40-49', 'wm_50min':'50-60'}, inplace=True)\n",
      "    rc = rc[['0-9', '10-19', '20-29', '30-39', '40-49', '50-60']]\n",
      "\n",
      "    # for sanity check\n",
      "    #totals = rc['0'] +  rc['10'] + rc['20'] + rc['30'] + rc['40'] + rc['50']\n",
      "    #print totals\n",
      "    # grab bins from column names\n",
      "    cols = rc.columns\n",
      "    bins = [(int(c[1:-3]), c) for c in cols if str(c[0]) == '>']\n",
      "    bins.sort(reverse=True)\n",
      "    #print bins\n",
      "    \n",
      "    def step_data_to_bins(step):\n",
      "        # grab relevant step\n",
      "        step_data = rc.iloc[step]\n",
      "        #step_name = step_data['step']\n",
      "        \n",
      "        return step_data\n",
      "    \n",
      "    bd1 = step_data_to_bins(1)\n",
      "    bd2 = step_data_to_bins(-1)\n",
      "    \n",
      "    #bd1['step'] = 'raw'\n",
      "    #bd2['step'] = 'final'\n",
      "    \n",
      "    df = pd.DataFrame([bd1, bd2], index=['raw', 'final'])\n",
      "    #df.set_index('step', inplace=True)\n",
      "    ax = df.T.plot(kind='bar')\n",
      "    fig = plt.figure(plt.get_fignums()[0])\n",
      "    fig.set_size_inches(10, 5)\n",
      "\n",
      "    ax.set_ylabel('total minutes of track')\n",
      "    ax.set_xlabel('track duration (min)')\n",
      "    plt.savefig('worm-min-improvement.png')\n",
      "    plt.tight_layout()\n",
      "    #plt.show()\n",
      "    print df\n",
      "    \n",
      "rc_worm_minutes_hist(rc)"
     ],
     "language": "python",
     "metadata": {},
     "outputs": []
    },
    {
     "cell_type": "code",
     "collapsed": false,
     "input": [
      "experiment.prepdata.load('end_report')"
     ],
     "language": "python",
     "metadata": {},
     "outputs": []
    },
    {
     "cell_type": "code",
     "collapsed": false,
     "input": [],
     "language": "python",
     "metadata": {},
     "outputs": []
    },
    {
     "cell_type": "heading",
     "level": 1,
     "metadata": {},
     "source": [
      "step graphs for moving nodes"
     ]
    },
    {
     "cell_type": "markdown",
     "metadata": {},
     "source": [
      "check if nodes that moved in raw data are still in the final graph"
     ]
    },
    {
     "cell_type": "code",
     "collapsed": false,
     "input": [],
     "language": "python",
     "metadata": {},
     "outputs": []
    },
    {
     "cell_type": "code",
     "collapsed": false,
     "input": [
      "min_move = 1\n",
      "\n",
      "moved_bids = [int(i) for i in graph.compound_bl_filter(experiment, threshold=min_move)]\n",
      "new_moved_bids = [int(i) for i in graph2.compound_bl_filter(experiment, threshold=min_move)]\n",
      "\n",
      "print len(moved_bids), 'nodes moved over threshold in origional graph'\n",
      "print len(new_moved_bids), 'nodes moved over threshold in final graph'"
     ],
     "language": "python",
     "metadata": {},
     "outputs": []
    },
    {
     "cell_type": "markdown",
     "metadata": {},
     "source": [
      "Create step plots for before and after we 'fix' the data"
     ]
    },
    {
     "cell_type": "code",
     "collapsed": false,
     "input": [
      "true_num = experiment.true_num\n",
      "\n",
      "steps0, durations0 = calculate_duration_data_from_graph(experiment, original_graph, original_graph.nodes(data=False))\n",
      "steps, durations = calculate_duration_data_from_graph(experiment, original_graph, moved_bids)\n",
      "\n",
      "fig, ax = plt.subplots()\n",
      "step_plot(ax, steps)\n",
      "ax.set_title('original blobs moving > {t} BL'.format(t=min_move))\n",
      "ax.set_xlabel('minutes')\n",
      "plt.show()\n",
      "\n",
      "steps2, durations2 = calculate_duration_data_from_graph(experiment, graph2, graph2.nodes(data=False))\n",
      "\n",
      "fig, ax = plt.subplots()\n",
      "step_plot(ax, steps2)\n",
      "ax.set_title('all blobs in final graph')\n",
      "ax.set_xlabel('minutes')\n",
      "plt.show()\n",
      "\n",
      "moved_steps2, moved_durations2 = calculate_duration_data_from_graph(experiment, graph2, new_moved_bids)\n",
      "\n",
      "fig, ax = plt.subplots()\n",
      "step_plot(ax, moved_steps2)\n",
      "ax.set_title('final blobs moving > {t} BL'.format(t=min_move))\n",
      "ax.set_xlabel('minutes')\n",
      "plt.show()"
     ],
     "language": "python",
     "metadata": {},
     "outputs": []
    },
    {
     "cell_type": "code",
     "collapsed": false,
     "input": [
      "df = ssim.run_ideal_step_simulation(experiment, verbose=True)\n",
      "fig, ax = plt.subplots()\n",
      "step_plot(ax, df, true_num=experiment.true_num)"
     ],
     "language": "python",
     "metadata": {},
     "outputs": []
    },
    {
     "cell_type": "code",
     "collapsed": false,
     "input": [
      "def top_step_plot(ax, step_df, min_duration=10, true_num=30):\n",
      "    best = step_df[step_df['lifespan'] >= 10]\n",
      "    print best.head()\n",
      "    \n",
      "    steps = []\n",
      "    n_steps = len(best)\n",
      "\n",
      "    xs = list(best['t0'])\n",
      "    widths = list(best['lifespan'])\n",
      "    height = 1\n",
      "\n",
      "    color_cycle = ax._get_lines.color_cycle\n",
      "    color1 = color_cycle.next()\n",
      "    color2 = color_cycle.next()\n",
      "    for y, (x, width) in enumerate(zip(xs, widths)):\n",
      "        steps.append(patches.Rectangle((x,y), height=height, width=width,\n",
      "                                       fill=True, fc=color1, ec=color1))\n",
      "    for step in steps:\n",
      "        ax.add_patch(step)\n",
      "\n",
      "    xmax = 60\n",
      "    ideal = patches.Rectangle((0,0), height=true_num, width=xmax,\n",
      "                              fill=True, ec=color2, fc=color2,\n",
      "                              alpha=0.5)\n",
      "\n",
      "    ax.add_patch(ideal)\n",
      "    ax.plot([0], color=color1, label='actual')\n",
      "    ax.plot([0], color=color2, alpha=0.5, label='ideal')\n",
      "    ax.set_xlim([0, xmax])\n",
      "    ax.set_ylim([0, n_steps+1])\n",
      "\n",
      "steps0, durations0 = calculate_duration_data_from_graph(experiment, original_graph, original_graph.nodes(data=False))\n",
      "fig, ax = plt.subplots()\n",
      "top_step_plot(ax, steps0)\n",
      "ax.set_title('blobs > 10 min in raw data')\n",
      "ax.set_xlabel('minutes')\n",
      "plt.show()\n",
      "\n",
      "steps2, durations2 = calculate_duration_data_from_graph(experiment, graph2, graph2.nodes(data=False))\n",
      "fig, ax = plt.subplots()\n",
      "top_step_plot(ax, steps2)\n",
      "ax.set_title('blobs > 10 min in final data')\n",
      "ax.set_xlabel('minutes')\n",
      "plt.show()"
     ],
     "language": "python",
     "metadata": {},
     "outputs": []
    },
    {
     "cell_type": "code",
     "collapsed": false,
     "input": [
      "def compare_step_plots(step_df1, step_df2, titles=['',''], true_num=30, i=0):\n",
      "\n",
      "    \n",
      "    fig, (ax1, ax2) = plt.subplots(1,2)\n",
      "    fig.set_size_inches(20, 10)\n",
      "\n",
      "    #steps = []\n",
      "    n_steps = max(len(step_df1), len(step_df2))\n",
      "    xmax = 60\n",
      "    def make_steps(ax, df, i=1):\n",
      "        steps = []\n",
      "        xs = list(df['t0'])\n",
      "        widths = list(df['lifespan'])\n",
      "        height = 1\n",
      "\n",
      "        color_cycle = ax._get_lines.color_cycle\n",
      "        color1 = color_cycle.next()\n",
      "        color2 = color_cycle.next()\n",
      "        for y, (x, width) in enumerate(zip(xs, widths)):\n",
      "            if i == 0:\n",
      "                c = color1\n",
      "            else:\n",
      "                c = color2\n",
      "            steps.append(patches.Rectangle((x,y), height=height, width=width,\n",
      "                                           fill=True, fc=c, ec=c))\n",
      "        for step in steps:\n",
      "            ax.add_patch(step)\n",
      "\n",
      "\n",
      "        ideal = patches.Rectangle((0,0), height=true_num, width=xmax,\n",
      "                                  fill=True, ec=color2, fc=color2,\n",
      "                                  alpha=0.5)\n",
      "\n",
      "        ax.add_patch(ideal)\n",
      "        #if i != 2:\n",
      "        #    ax.plot([0], color=color1, label='actual')\n",
      "        #else:\n",
      "        #ax.plot([0], color=color1, label='actual')\n",
      "        #ax.plot([0], color=color2, alpha=0.5, label='ideal')\n",
      "        ax.set_xlim([0, xmax])\n",
      "        ax.set_ylim([0, n_steps+1])\n",
      "        ax.set_xlabel('minutes')\n",
      "        ax.set_ylabel('tracks')\n",
      "        \n",
      "    make_steps(ax1, step_df1, i=0)\n",
      "    ax1.set_title(titles[0])\n",
      "    make_steps(ax2, step_df2, i=2)\n",
      "    ax2.set_title(titles[1])\n",
      "\n",
      "    for ax in [ax1, ax2]:\n",
      "        for item in ([ax.title, ax.xaxis.label, ax.yaxis.label] +\n",
      "                 ax.get_xticklabels() + ax.get_yticklabels()):\n",
      "            item.set_fontsize(20)\n",
      "    plt.savefig('final-step-plot.png')\n",
      "titles = ['raw (blobs >10 min)', 'final (blobs >10 min)']\n",
      "compare_step_plots(steps0[steps0['lifespan'] >= 10], steps2[steps2['lifespan'] >= 10], titles=titles)"
     ],
     "language": "python",
     "metadata": {},
     "outputs": [
      {
       "ename": "NameError",
       "evalue": "name 'steps2' is not defined",
       "output_type": "pyerr",
       "traceback": [
        "\u001b[1;31m---------------------------------------------------------------------------\u001b[0m\n\u001b[1;31mNameError\u001b[0m                                 Traceback (most recent call last)",
        "\u001b[1;32m<ipython-input-28-293bd8ba7c77>\u001b[0m in \u001b[0;36m<module>\u001b[1;34m()\u001b[0m\n\u001b[0;32m     54\u001b[0m     \u001b[0mplt\u001b[0m\u001b[1;33m.\u001b[0m\u001b[0msavefig\u001b[0m\u001b[1;33m(\u001b[0m\u001b[1;34m'final-step-plot.png'\u001b[0m\u001b[1;33m)\u001b[0m\u001b[1;33m\u001b[0m\u001b[0m\n\u001b[0;32m     55\u001b[0m \u001b[0mtitles\u001b[0m \u001b[1;33m=\u001b[0m \u001b[1;33m[\u001b[0m\u001b[1;34m'raw (blobs >10 min)'\u001b[0m\u001b[1;33m,\u001b[0m \u001b[1;34m'final (blobs >10 min)'\u001b[0m\u001b[1;33m]\u001b[0m\u001b[1;33m\u001b[0m\u001b[0m\n\u001b[1;32m---> 56\u001b[1;33m \u001b[0mcompare_step_plots\u001b[0m\u001b[1;33m(\u001b[0m\u001b[0msteps0\u001b[0m\u001b[1;33m[\u001b[0m\u001b[0msteps0\u001b[0m\u001b[1;33m[\u001b[0m\u001b[1;34m'lifespan'\u001b[0m\u001b[1;33m]\u001b[0m \u001b[1;33m>=\u001b[0m \u001b[1;36m10\u001b[0m\u001b[1;33m]\u001b[0m\u001b[1;33m,\u001b[0m \u001b[0msteps2\u001b[0m\u001b[1;33m[\u001b[0m\u001b[0msteps2\u001b[0m\u001b[1;33m[\u001b[0m\u001b[1;34m'lifespan'\u001b[0m\u001b[1;33m]\u001b[0m \u001b[1;33m>=\u001b[0m \u001b[1;36m10\u001b[0m\u001b[1;33m]\u001b[0m\u001b[1;33m,\u001b[0m \u001b[0mtitles\u001b[0m\u001b[1;33m=\u001b[0m\u001b[0mtitles\u001b[0m\u001b[1;33m)\u001b[0m\u001b[1;33m\u001b[0m\u001b[0m\n\u001b[0m",
        "\u001b[1;31mNameError\u001b[0m: name 'steps2' is not defined"
       ]
      }
     ],
     "prompt_number": 28
    },
    {
     "cell_type": "code",
     "collapsed": false,
     "input": [
      "\n",
      "def compare_step_plots2(step_df1, step_df2, true_num=30):\n",
      "\n",
      "    \n",
      "    fig, ax = plt.subplots()\n",
      "    #fig.set_size_inches(20, 10)\n",
      "    \n",
      "    #steps = []\n",
      "    n_steps = max(len(step_df1), len(step_df2))\n",
      "    xmax = 60\n",
      "    def make_steps(ax, df, alpha=1.0):\n",
      "        steps = []\n",
      "        xs = list(df['t0'])\n",
      "        widths = list(df['lifespan'])\n",
      "        height = 1\n",
      "\n",
      "        color_cycle = ax._get_lines.color_cycle\n",
      "        color1 = color_cycle.next()\n",
      "        color2 = color_cycle.next()\n",
      "        for y, (x, width) in enumerate(zip(xs, widths)):\n",
      "            steps.append(patches.Rectangle((x,y), height=height, width=width,\n",
      "                                           fill=True, fc=color1, ec=color1, alpha=alpha))\n",
      "        for step in steps:\n",
      "            ax.add_patch(step)\n",
      "\n",
      "\n",
      "        #ideal = patches.Rectangle((0,0), height=true_num, width=xmax,\n",
      "        #                          fill=True, ec=color2, fc=color2,\n",
      "        #                          alpha=0.5)\n",
      "\n",
      "        #ax.add_patch(ideal)\n",
      "        #ax.plot([0], color=color1, alpha=alpha)\n",
      "        ax.set_xlim([0, xmax])\n",
      "        ax.set_ylim([0, n_steps+1])\n",
      "        ax.set_xlabel('minutes')\n",
      "        ax.set_ylabel('tracks')\n",
      "        \n",
      "    make_steps(ax, step_df1)\n",
      "    make_steps(ax, step_df2, alpha=0.5)\n",
      "    \n",
      "titles = ['blobs >10 min from raw data', 'blobs >10 min from final data']\n",
      "compare_step_plots(steps0[steps0['lifespan'] >= 10], steps2[steps2['lifespan'] >= 10], titles=titles)\n",
      "#compare_step_plots2(steps0[steps0['lifespan'] >= 10], steps2[steps2['lifespan'] >= 10])\n",
      "\n",
      "#compare_step_plots(steps2[steps2['lifespan'] >= 10], steps0[steps0['lifespan'] >= 10])\n",
      "plt.show()"
     ],
     "language": "python",
     "metadata": {},
     "outputs": []
    },
    {
     "cell_type": "markdown",
     "metadata": {},
     "source": [
      "create CDF showing the duration difference"
     ]
    },
    {
     "cell_type": "code",
     "collapsed": false,
     "input": [
      "fig, ax = plt.subplots()\n",
      "fig.set_size_inches(10, 8)\n",
      "make_cdf(ax, [d for d in durations0 if d>10], label= 'original nodes > 10 min', xmin=10, xmax=60)\n",
      "make_cdf(ax, [d for d in durations2 if d>10], label='final nodes > 10 min', xmin=10, xmax=60)\n",
      "ax.legend(loc='lower right', prop={'size':20})\n",
      "\n",
      "for item in ([ax.title, ax.xaxis.label, ax.yaxis.label] +\n",
      "         ax.get_xticklabels() + ax.get_yticklabels()):\n",
      "    item.set_fontsize(20)\n",
      "#plt.show()\n",
      "plt.savefig('long-cdf-improvement.png')"
     ],
     "language": "python",
     "metadata": {},
     "outputs": []
    },
    {
     "cell_type": "code",
     "collapsed": false,
     "input": [
      "fig, ax = plt.subplots()\n",
      "fig.set_size_inches(10, 8)\n",
      "make_cdf(ax, durations0, label= 'all original', xmax=30)\n",
      "make_cdf(ax, durations2, label='all final nodes', xmax=30)\n",
      "ax.legend(loc='lower right', prop={'size':20})\n",
      "for item in ([ax.title, ax.xaxis.label, ax.yaxis.label] +\n",
      "         ax.get_xticklabels() + ax.get_yticklabels()):\n",
      "    item.set_fontsize(20)\n",
      "#plt.show()\n",
      "plt.savefig('all-cdf-improvement.png')"
     ],
     "language": "python",
     "metadata": {},
     "outputs": []
    },
    {
     "cell_type": "code",
     "collapsed": false,
     "input": [
      "fig, ax = plt.subplots()\n",
      "make_cdf(ax, durations0, label= 'all original', xmax=60)\n",
      "make_cdf(ax, durations2, label='all final nodes', xmax=60)\n",
      "make_cdf(ax, [d for d in durations0 if d>10], label= 'original nodes > 10 min', xmin=10, xmax=60)\n",
      "make_cdf(ax, [d for d in durations2 if d>10], label='final nodes > 10 min', xmin=10, xmax=60)\n",
      "ax.legend(loc='lower right')\n",
      "plt.show()"
     ],
     "language": "python",
     "metadata": {},
     "outputs": []
    },
    {
     "cell_type": "code",
     "collapsed": false,
     "input": [
      "fig, ax = plt.subplots()\n",
      "make_cdf(ax, durations0, label= 'all original')\n",
      "make_cdf(ax, durations, label= 'original > 2 BL')\n",
      "make_cdf(ax, durations2, label='all final nodes')\n",
      "make_cdf(ax, moved_durations2, label='final nodes that origionally moved > 2 BL')\n",
      "ax.legend(loc='lower right')\n",
      "plt.show()"
     ],
     "language": "python",
     "metadata": {},
     "outputs": []
    },
    {
     "cell_type": "markdown",
     "metadata": {},
     "source": [
      "TODO: create plots showing how applying the same threshold to our data before and after fixing it\n",
      "    changes our True Positive / False Positives / False Negative rates"
     ]
    },
    {
     "cell_type": "code",
     "collapsed": false,
     "input": [
      "#TODO format this to work for graph based data.\n",
      "def calculate_stats_for_bid_lists(bid_lists, prep_data):\n",
      "    \n",
      "    base_accuracy = prep_data.load('accuracy')\n",
      "    matches = prep_data.load('matches')\n",
      "    counts, tps, fps, fns = [], [], [], []\n",
      "    for bids in bid_lists:\n",
      "        filtered_accuracy = ea.recalculate_accuracy(matches, base_accuracy, bids=bids)\n",
      "        counts.append(len(bids))\n",
      "        tp = filtered_accuracy['true-pos'].mean()\n",
      "        fp = filtered_accuracy['false-pos'].mean()\n",
      "        fn = filtered_accuracy['false-neg'].mean()\n",
      "        tps.append(tp)\n",
      "        fps.append(fp)\n",
      "        fns.append(fn)\n",
      "\n",
      "    tps = np.array(tps)\n",
      "    fps = np.array(fps)\n",
      "    fns = np.array(fns)\n",
      "    totals = fns + tps\n",
      "    tps_p = tps / totals * 100\n",
      "    fps_p = fps / totals * 100\n",
      "    fns_p = fns / totals * 100\n",
      "\n",
      "    print('true counts=', np.mean(totals))\n",
      "\n",
      "    data = pd.DataFrame([tps_p, fns_p, fps_p], index=['TP', 'FN', 'FP']).T\n",
      "    counts = pd.DataFrame(counts, columns=['counts'])\n",
      "    return data, counts"
     ],
     "language": "python",
     "metadata": {},
     "outputs": []
    },
    {
     "cell_type": "code",
     "collapsed": false,
     "input": [],
     "language": "python",
     "metadata": {},
     "outputs": []
    },
    {
     "cell_type": "code",
     "collapsed": false,
     "input": [],
     "language": "python",
     "metadata": {},
     "outputs": []
    },
    {
     "cell_type": "heading",
     "level": 1,
     "metadata": {},
     "source": [
      "Error Checking Cells"
     ]
    },
    {
     "cell_type": "code",
     "collapsed": false,
     "input": [
      "unknown_ids, id_change_ids = show_reasons(ends)\n",
      "#print unknown_ids\n",
      "#print id_change_ids\n",
      "unk = pd.DataFrame(unknown_ids)\n",
      "name = '{eid}-unknown_ids.csv'.format(eid=ex_id)\n",
      "print name\n",
      "unk.to_csv(name, index=False, header=False)\n",
      "\n",
      "col = pd.DataFrame(id_change_ids)\n",
      "name = '{eid}-unresolved_collision_ids.csv'.format(eid=ex_id)\n",
      "col.to_csv(name, index=False, header=False)\n"
     ],
     "language": "python",
     "metadata": {},
     "outputs": []
    },
    {
     "cell_type": "code",
     "collapsed": false,
     "input": [
      "us = starts[starts['reason'] == 'unknown']\n",
      "ue = ends[ends['reason'] == 'unknown'].reset_index()\n",
      "#print us.head()\n",
      "ue = ue.rename(columns={'node_id':'node1', 'bid':'blob1'})\n",
      "ue = ue[['blob1', 'node1', 't', 'x', 'y']]\n",
      "#print ue.head()\n",
      "\n",
      "match_data = []\n",
      "for blob2, s in starts.iterrows():\n",
      "    node2 = s['node_id']\n",
      "    x, y = s['x'], s['y']\n",
      "    t = s['t']\n",
      "    \n",
      "    print blob2, node2, x, y, t\n",
      "    match_check = ue.copy()\n",
      "    match_check['node2'] = node2\n",
      "    match_check['blob2'] = node2\n",
      "    match_check['dt'] = t - match_check['t']\n",
      "    match_check['dx'] = np.fabs(x - match_check['x'])\n",
      "    match_check['dy'] = np.fabs(y - match_check['y'])\n",
      "    match_check['dist'] = np.sqrt(match_check['dt']**2 + match_check['dx']**2 + match_check['dy']**2)\n",
      "    match_check['d_spacetime'] = np.sqrt(match_check['dt']**2 + match_check['dx']**2 + match_check['dy']**2)\n",
      "\n",
      "    match_check = match_check[['blob1', 'blob2', 'dt', 'dist', 'd_spacetime']]\n",
      "    match_check.sort('d_spacetime', inplace=True)\n",
      "    print match_check.head()\n",
      "    \n",
      "    \n",
      "\n"
     ],
     "language": "python",
     "metadata": {},
     "outputs": []
    },
    {
     "cell_type": "markdown",
     "metadata": {},
     "source": [
      "these are two cells that aren't part of the workflow but that were used to sanity check the processing"
     ]
    },
    {
     "cell_type": "code",
     "collapsed": false,
     "input": [
      "def double_check_duration(experiment, graph1, graph2, node_ids):\n",
      "    frame_times = experiment.frame_times\n",
      "    step_data, durations = [], []\n",
      "    good_nodes = []\n",
      "    bad_nodes = []\n",
      "    for node in node_ids:\n",
      "        node_data = graph2.node[node]\n",
      "        bf, df = node_data['born'], node_data['died']\n",
      "        components = node_data.get('components', [])\n",
      "        \n",
      "        node_checks_out = True\n",
      "        for c in components:\n",
      "            nd = graph1.node[c]\n",
      "            cb, cd = nd['born'], nd['died']\n",
      "            if cb < bf:\n",
      "                node_checks_out = False\n",
      "            if cd > df:\n",
      "                node_checks_out = False\n",
      "        if node_checks_out:\n",
      "            good_nodes.append(node)\n",
      "        else:\n",
      "            bad_nodes.append(node)\n",
      "    print len(bad_nodes), 'bad nodes'\n",
      "    print len(good_nodes), 'good nodes'\n",
      "                \n",
      "\n",
      "double_check_duration(experiment, original_graph, graph2, graph2.nodes(data=False))"
     ],
     "language": "python",
     "metadata": {},
     "outputs": []
    },
    {
     "cell_type": "code",
     "collapsed": false,
     "input": [
      "print len(moved_bids), 'nodes moved over threshold in origional graph'\n",
      "graph3 = original_graph.copy()\n",
      "print 'orig', len(find_nodes_containing_bids(graph3, moved_bids))\n",
      "collider.remove_nodes_outside_roi(graph3, experiment)\n",
      "print 'roi', len(find_nodes_containing_bids(graph3, moved_bids))\n",
      "collider.remove_blank_nodes(graph3, experiment)\n",
      "print 'blank', len(find_nodes_containing_bids(graph3, moved_bids))\n",
      "collider.removal_suite(graph3) #, assimilate=-1)\n",
      "print 'suite', len(find_nodes_containing_bids(graph3, moved_bids))\n",
      "bridge_gaps(experiment, graph3, threshold=0.001)\n",
      "print 'gaps', len(find_nodes_containing_bids(graph3, moved_bids))\n",
      "\n",
      "steps3, durations3 = calculate_duration_data_from_graph(experiment, graph3, graph3.nodes(data=False))\n",
      "\n",
      "fig, ax = plt.subplots()\n",
      "step_plot(ax, steps3)\n",
      "ax.set_title('second try at figuring out graph')\n",
      "ax.set_xlabel('minutes')\n",
      "\n",
      "fig, ax = plt.subplots()\n",
      "make_cdf(ax, durations3)\n",
      "\n",
      "plt.show()\n",
      "\n"
     ],
     "language": "python",
     "metadata": {},
     "outputs": []
    },
    {
     "cell_type": "code",
     "collapsed": false,
     "input": [],
     "language": "python",
     "metadata": {},
     "outputs": []
    },
    {
     "cell_type": "code",
     "collapsed": false,
     "input": [],
     "language": "python",
     "metadata": {},
     "outputs": []
    },
    {
     "cell_type": "code",
     "collapsed": false,
     "input": [],
     "language": "python",
     "metadata": {},
     "outputs": []
    },
    {
     "cell_type": "code",
     "collapsed": false,
     "input": [
      "# WEIRD!\n",
      "# old and new functions for detecting movement do not match up 100%\n",
      "# new function uses generalized body lenght, old one uses individual body length ...\n",
      "\n",
      "min_move = 3\n",
      "\n",
      "move = experiment.prepdata.load('moved')\n",
      "moved_bids = list(set(move[move['bl_moved'] >= min_move]['bid']))\n",
      "moving_nodes = [int(i) for i in graph.compound_bl_filter(experiment, threshold=min_move)]\n",
      "print len(moved_bids), 'nodes moved over threshold in origional graph'\n",
      "print len(moving_nodes), 'found with modern methods'\n",
      "print len(set(moved_bids) & set(moving_nodes))\n",
      "print len(find_nodes_containing_bids(original_graph, moved_bids)), 'check. this number should be same as first'"
     ],
     "language": "python",
     "metadata": {},
     "outputs": []
    }
   ],
   "metadata": {}
  }
 ]
}