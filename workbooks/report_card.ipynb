{
 "metadata": {
  "name": "",
  "signature": "sha256:4e670f18311053f0ca3cca3ab16680b3817fcd03edad1576a3acca0ea5d97b03"
 },
 "nbformat": 3,
 "nbformat_minor": 0,
 "worksheets": [
  {
   "cells": [
    {
     "cell_type": "code",
     "collapsed": false,
     "input": [
      "%load_ext autoreload\n",
      "%autoreload 2\n",
      "%matplotlib inline"
     ],
     "language": "python",
     "metadata": {},
     "outputs": [],
     "prompt_number": 1
    },
    {
     "cell_type": "code",
     "collapsed": false,
     "input": [
      "#from __future__ import print_function, absolute_import, unicode_literals, division\n",
      "#import six\n",
      "#from six.moves import (zip, filter, map, reduce, input, range)\n",
      "\n",
      "import pathcustomize\n",
      "\n",
      "import sys\n",
      "import os\n",
      "import pathlib\n",
      "import pickle\n",
      "import platform\n",
      "print('Python {} ({}) [{}] on {}'.format(platform.python_version(), ', '.join(platform.python_build()), \n",
      "                                       platform.python_compiler(), sys.platform))\n",
      "\n",
      "import pandas as pd\n",
      "import math\n",
      "\n",
      "import matplotlib.pyplot as plt\n",
      "import prettyplotlib as ppl\n",
      "import matplotlib.gridspec as gridspec\n",
      "import matplotlib.patches as patches\n",
      "import matplotlib.path as path\n",
      "from mpltools import style\n",
      "from mpltools import layout\n",
      "from statsmodels.distributions.empirical_distribution import ECDF\n",
      "\n",
      "\n",
      "from conf import settings\n",
      "from wio.experiment import Experiment\n",
      "import wio.file_manager as fm\n",
      "import report_card\n",
      "import collider\n",
      "import tape as tp\n",
      "\n",
      "DATA_DIR = settings.LOGISTICS['filesystem_data']\n",
      "style.use('ggplot')"
     ],
     "language": "python",
     "metadata": {},
     "outputs": [
      {
       "output_type": "stream",
       "stream": "stdout",
       "text": [
        "Python 2.7.6 (default, Mar 22 2014 22:59:56) [GCC 4.8.2] on linux2\n"
       ]
      }
     ],
     "prompt_number": 2
    },
    {
     "cell_type": "heading",
     "level": 1,
     "metadata": {},
     "source": [
      "ALL FUNCTIONS"
     ]
    },
    {
     "cell_type": "code",
     "collapsed": false,
     "input": [
      "def bridge_gaps(experiment, graph, threshold=0.001):\n",
      "    taper = tp.Taper(experiment=experiment, graph=graph)\n",
      "    start, end = taper.find_start_and_end_nodes()\n",
      "    gaps = taper.score_potential_gaps(start, end)\n",
      "    gt = taper.greedy_tape(gaps, threshold=threshold, add_edges=True)\n",
      "    graph = taper._graph"
     ],
     "language": "python",
     "metadata": {},
     "outputs": [],
     "prompt_number": 3
    },
    {
     "cell_type": "code",
     "collapsed": false,
     "input": [
      "def step_plot(ax, step_df, true_num=30, only_best=False):\n",
      "\n",
      "    steps = []\n",
      "    n_steps = len(step_df)\n",
      "\n",
      "    xs = list(step_df['t0'])\n",
      "    widths = list(step_df['lifespan'])\n",
      "    height = 1\n",
      "\n",
      "    color_cycle = ax._get_lines.color_cycle\n",
      "    color1 = color_cycle.next()\n",
      "    color2 = color_cycle.next()\n",
      "    for y, (x, width) in enumerate(zip(xs, widths)):\n",
      "        steps.append(patches.Rectangle((x,y), height=height, width=width,\n",
      "                                       fill=True, fc=color1, ec=color1))\n",
      "    for step in steps:\n",
      "        ax.add_patch(step)\n",
      "\n",
      "    xmax = 60\n",
      "    ideal = patches.Rectangle((0,0), height=true_num, width=xmax,\n",
      "                              fill=True, ec=color2, fc=color2,\n",
      "                              alpha=0.5)\n",
      "\n",
      "    ax.add_patch(ideal)\n",
      "    ax.plot([0], color=color1, label='actual')\n",
      "    ax.plot([0], color=color2, alpha=0.5, label='ideal')\n",
      "    ax.set_xlim([0, xmax])\n",
      "    ax.set_ylim([0, n_steps+1])\n"
     ],
     "language": "python",
     "metadata": {},
     "outputs": [],
     "prompt_number": 4
    },
    {
     "cell_type": "code",
     "collapsed": false,
     "input": [
      "def calculate_duration_data_from_graph(experiment, graph, node_ids=[]):\n",
      "    if not node_ids:\n",
      "        node_ids = graph.nodes(data=False)\n",
      "    \n",
      "    frame_times = experiment.frame_times\n",
      "    step_data, durations = [], []\n",
      "    for node in node_ids:\n",
      "        node_data = graph.node[node]\n",
      "        bf, df = node_data['born_f'], node_data['died_f']\n",
      "        t0 = frame_times[bf - 1]\n",
      "        tN = frame_times[df - 1]\n",
      "        step_data.append({'bid':node, 't0':t0, 'tN':tN, 'lifespan':tN-t0})\n",
      "\n",
      "    steps = pd.DataFrame(step_data)\n",
      "    steps.set_index('bid', inplace=True)\n",
      "    steps = steps / 60.0   # convert to minutes.\n",
      "    steps.sort('t0', inplace=True)\n",
      "    steps = steps[['t0', 'tN', 'lifespan']]\n",
      "    durations = np.array(steps['lifespan'])\n",
      "    return steps, durations\n"
     ],
     "language": "python",
     "metadata": {},
     "outputs": [],
     "prompt_number": 5
    },
    {
     "cell_type": "code",
     "collapsed": false,
     "input": [
      "def make_cdf(ax, durations_list, label='', xmin=0, xmax=30):\n",
      "    x = np.linspace(xmin, xmax, 1000)\n",
      "    ecdf = ECDF(np.array(durations_list))\n",
      "    cdf = ecdf(x)\n",
      "    ax.plot(x, cdf, label=label, lw=2)\n",
      "    ax.set_xlabel('minutes')\n",
      "    ax.set_ylabel('CDF')\n"
     ],
     "language": "python",
     "metadata": {},
     "outputs": [],
     "prompt_number": 6
    },
    {
     "cell_type": "code",
     "collapsed": false,
     "input": [
      "def find_nodes_containing_bids(graph, bids):\n",
      "    nodes_with_moved_bids = []\n",
      "    for node in graph:\n",
      "        if node in bids:\n",
      "            nodes_with_moved_bids.append(node)\n",
      "            continue\n",
      "        for c in graph.node[node].get('components', []):\n",
      "            if c in bids:\n",
      "                nodes_with_moved_bids.append(node)\n",
      "                break\n",
      "    return nodes_with_moved_bids"
     ],
     "language": "python",
     "metadata": {},
     "outputs": [],
     "prompt_number": 7
    },
    {
     "cell_type": "code",
     "collapsed": false,
     "input": [
      "def show_reasons(df):\n",
      "\n",
      "    reasons = ['unknown', 'on_edge', 'id_change', 'outside-roi', 'timing']\n",
      "    if 'reason' not in df:\n",
      "        df['reason'] = 'unknown'\n",
      "        for reason in reasons[1:]:\n",
      "            df['reason'][df[reason]] = reason\n",
      "            print reason, len(df['reason'][df[reason]])\n",
      "\n",
      "    counts = {}\n",
      "    for reason in reasons:\n",
      "         counts[reason] = len(df[df['reason'] == reason])\n",
      "            \n",
      "    unknown_ids = list(df[df['reason'] == 'unknown'].index)\n",
      "    id_change_ids = list(df[df['reason'] == 'id_change'].index)\n",
      "\n",
      "    return unknown_ids, id_change_ids"
     ],
     "language": "python",
     "metadata": {},
     "outputs": [],
     "prompt_number": 8
    },
    {
     "cell_type": "code",
     "collapsed": false,
     "input": [
      "def rc_duration_hist_single(rc, step='roi'):\n",
      "    rc = rc.copy()\n",
      "    \n",
      "    # grab bins from column names\n",
      "    cols = rc.columns\n",
      "    bins = [(int(c[1:-3]), c) for c in cols if str(c[0]) == '>']\n",
      "    bins.sort(reverse=True)\n",
      "    #print bins\n",
      "    \n",
      "    # grab relevant step\n",
      "    step_data = rc.iloc[step]\n",
      "    print step_data[['step', '>10min','>20min','>30min','>40min','>50min']]\n",
      "    bin_data = []\n",
      "    running_total = 0\n",
      "    for bl, rc_label in bins:\n",
      "        a = step_data[rc_label]\n",
      "        n = a - running_total\n",
      "        running_total += n\n",
      "        #print bl, a, n\n",
      "        #print 'total', running_total\n",
      "        bin_data.append((bl, n))\n",
      "    bin_data.sort()\n",
      "    print bin_data\n",
      "    fig, ax = plt.subplots()\n",
      "    x = np.arange(len(bin_data))\n",
      "    labels, y = zip(*bin_data)\n",
      "    labels = [str(l) for l in labels]\n",
      "    ppl.bar(ax, x, y, annotate=True, xticklabels=labels, grid='y')\n",
      "    plt.show()\n",
      "\n",
      "def rc_duration_hist(rc):\n",
      "    rc = rc.copy()\n",
      "    cols = rc.columns\n",
      "    \n",
      "    bins = [(int(c[1:-3]), c) for c in cols if str(c[0]) == '>']\n",
      "\n",
      "    # grab bins from column names\n",
      "\n",
      "    bins.sort(reverse=True)\n",
      "    #print bins\n",
      "    \n",
      "    def step_data_to_bins(step):\n",
      "        # grab relevant step\n",
      "        step_data = rc.iloc[step]\n",
      "        #print step_data[['step', '>10min','>20min','>30min','>40min','>50min']]\n",
      "        bin_data = []\n",
      "        running_total = 0\n",
      "        for bl, rc_label in bins:\n",
      "            a = step_data[rc_label]\n",
      "            n = a - running_total\n",
      "            running_total += n\n",
      "            #print bl, a, n\n",
      "            #print 'total', running_total\n",
      "            bin_data.append((bl, n))\n",
      "        bin_data.sort()\n",
      "        bd = {} #'step':step_name}\n",
      "        for l, n in bin_data:\n",
      "            bd[l] = n\n",
      "        return bd\n",
      "    \n",
      "    bd1 = step_data_to_bins(1)\n",
      "    bd2 = step_data_to_bins(-1)\n",
      "    \n",
      "    #bd1['step'] = 'raw'\n",
      "    #bd2['step'] = 'final'\n",
      "    \n",
      "    df = pd.DataFrame([bd1, bd2], index=['raw', 'final'])\n",
      "    df.rename(columns={10:'10-19',20:'20-29', \n",
      "                       30:'30-39',40:'40-49', 50:'50-60'}, inplace=True)\n",
      " \n",
      "    ax = df.T.plot(kind='bar')\n",
      "    fig = plt.figure(plt.get_fignums()[0])\n",
      "    fig.set_size_inches(10, 5)\n",
      "    ax.set_ylabel('number of tracks')\n",
      "    ax.set_xlabel('track duration (min)')\n",
      "    plt.tight_layout()\n",
      "\n",
      "    plt.savefig('track-len-improvement.png')\n",
      "\n",
      "    #plt.show()\n",
      "    #print df\n",
      "    \n",
      "    \n",
      "    \n",
      "#rc_duration_hist(rc)\n",
      "#  \n"
     ],
     "language": "python",
     "metadata": {},
     "outputs": [],
     "prompt_number": 9
    },
    {
     "cell_type": "heading",
     "level": 1,
     "metadata": {},
     "source": [
      "Generate Report Card"
     ]
    },
    {
     "cell_type": "code",
     "collapsed": false,
     "input": [
      "ex_id = '20130614_120518'\n",
      "ex_id = '20130318_131111'\n",
      "ex_id = '20130702_135704' # testset\n",
      "experiment = Experiment(experiment_id=ex_id, data_root=DATA_DIR)\n",
      "original_graph = experiment.graph\n",
      "graph = original_graph.copy()"
     ],
     "language": "python",
     "metadata": {},
     "outputs": [],
     "prompt_number": 10
    },
    {
     "cell_type": "code",
     "collapsed": false,
     "input": [
      "#graph2, rc = report_card.create_report_card(experiment, graph.copy())"
     ],
     "language": "python",
     "metadata": {},
     "outputs": [],
     "prompt_number": 11
    },
    {
     "cell_type": "code",
     "collapsed": false,
     "input": [
      "#rc.head()"
     ],
     "language": "python",
     "metadata": {},
     "outputs": [],
     "prompt_number": 12
    },
    {
     "cell_type": "code",
     "collapsed": false,
     "input": [],
     "language": "python",
     "metadata": {},
     "outputs": [],
     "prompt_number": 12
    },
    {
     "cell_type": "code",
     "collapsed": false,
     "input": [
      "graph2, rc = report_card.collision_iteration2(experiment, graph.copy())"
     ],
     "language": "python",
     "metadata": {},
     "outputs": [
      {
       "output_type": "stream",
       "stream": "stdout",
       "text": [
        "('iteration', 1)\n",
        "collisions from bbox\n",
        "\t325 suspects. trying 0 again"
       ]
      },
      {
       "output_type": "stream",
       "stream": "stdout",
       "text": [
        "\n",
        "Failed to find node data"
       ]
      },
      {
       "output_type": "stream",
       "stream": "stdout",
       "text": [
        "\n",
        "\t97 suspects. trying 97 again"
       ]
      },
      {
       "output_type": "stream",
       "stream": "stdout",
       "text": [
        "\n",
        "Failed to find node data"
       ]
      },
      {
       "output_type": "stream",
       "stream": "stdout",
       "text": [
        "\n",
        "\t227 resolved 69%"
       ]
      },
      {
       "output_type": "stream",
       "stream": "stdout",
       "text": [
        "\n",
        "\t107 missing data 32%\n",
        "\t96 missing data, no overlap 29%\n",
        "\t1 full data, no  overlap 0%\n",
        "\ttrying to unzip collisions\n",
        "collapse group"
       ]
      },
      {
       "output_type": "stream",
       "stream": "stdout",
       "text": [
        "\n",
        "remove single desc"
       ]
      },
      {
       "output_type": "stream",
       "stream": "stdout",
       "text": [
        "\n",
        "fission fusion\n",
        "fission fusion rel"
       ]
      },
      {
       "output_type": "stream",
       "stream": "stdout",
       "text": [
        "\n",
        "off\n",
        "rem single desc\n",
        "('iteration', 2)"
       ]
      },
      {
       "output_type": "stream",
       "stream": "stdout",
       "text": [
        "\n",
        "collisions from bbox\n",
        "\t84 suspects. trying 0 again\n",
        "Failed to find node data"
       ]
      },
      {
       "output_type": "stream",
       "stream": "stdout",
       "text": [
        "\n",
        "\t1 suspects. trying 1 again"
       ]
      },
      {
       "output_type": "stream",
       "stream": "stdout",
       "text": [
        "\n",
        "Failed to find node data"
       ]
      },
      {
       "output_type": "stream",
       "stream": "stdout",
       "text": [
        "\n",
        "\t67 resolved 79%\n",
        "\t2 missing data 2%\n",
        "\t0 missing data, no overlap 0%\n",
        "\t16 full data, no  overlap 19%\n",
        "\ttrying to unzip collisions\n",
        "collapse group"
       ]
      },
      {
       "output_type": "stream",
       "stream": "stdout",
       "text": [
        "\n",
        "remove single desc\n",
        "fission fusion\n",
        "fission fusion rel"
       ]
      },
      {
       "output_type": "stream",
       "stream": "stdout",
       "text": [
        "\n",
        "off\n",
        "rem single desc\n",
        "('iteration', 3)"
       ]
      },
      {
       "output_type": "stream",
       "stream": "stdout",
       "text": [
        "\n",
        "collisions from bbox\n",
        "\t20 suspects. trying 0 again\n",
        "Failed to find node data"
       ]
      },
      {
       "output_type": "stream",
       "stream": "stdout",
       "text": [
        "\n",
        "\t1 suspects. trying 1 again\n",
        "Failed to find node data"
       ]
      },
      {
       "output_type": "stream",
       "stream": "stdout",
       "text": [
        "\n",
        "\t6 resolved 30%\n",
        "\t2 missing data 10%\n",
        "\t0 missing data, no overlap 0%\n",
        "\t13 full data, no  overlap 65%\n",
        "\ttrying to unzip collisions\n",
        "collapse group"
       ]
      },
      {
       "output_type": "stream",
       "stream": "stdout",
       "text": [
        "\n",
        "remove single desc\n",
        "fission fusion\n",
        "fission fusion rel\n",
        "off\n",
        "rem single desc\n",
        "('iteration', 4)"
       ]
      },
      {
       "output_type": "stream",
       "stream": "stdout",
       "text": [
        "\n",
        "collisions from bbox\n",
        "\t14 suspects. trying 0 again\n",
        "Failed to find node data"
       ]
      },
      {
       "output_type": "stream",
       "stream": "stdout",
       "text": [
        "\n",
        "\t1 suspects. trying 1 again\n",
        "Failed to find node data"
       ]
      },
      {
       "output_type": "stream",
       "stream": "stdout",
       "text": [
        "\n",
        "\t1 resolved 7%\n",
        "\t1 missing data 7%\n",
        "\t0 missing data, no overlap 0%\n",
        "\t12 full data, no  overlap 85%\n",
        "\ttrying to unzip collisions\n",
        "collapse group"
       ]
      },
      {
       "output_type": "stream",
       "stream": "stdout",
       "text": [
        "\n",
        "remove single desc\n",
        "fission fusion\n",
        "fission fusion rel\n",
        "off\n",
        "rem single desc\n",
        "('iteration', 5)"
       ]
      },
      {
       "output_type": "stream",
       "stream": "stdout",
       "text": [
        "\n",
        "collisions from bbox\n",
        "\t13 suspects. trying 0 again\n",
        "Failed to find node data"
       ]
      },
      {
       "output_type": "stream",
       "stream": "stdout",
       "text": [
        "\n",
        "\t0 resolved 0%\n",
        "\t1 missing data 7%\n",
        "\t0 missing data, no overlap 0%\n",
        "\t12 full data, no  overlap 92%\n",
        "\ttrying to unzip collisions\n",
        "collapse group"
       ]
      },
      {
       "output_type": "stream",
       "stream": "stdout",
       "text": [
        "\n",
        "remove single desc\n",
        "fission fusion\n",
        "fission fusion rel\n",
        "off\n",
        "rem single desc\n",
        "('iteration', 6)"
       ]
      },
      {
       "output_type": "stream",
       "stream": "stdout",
       "text": [
        "\n",
        "collisions from bbox\n",
        "\t13 suspects. trying 0 again\n",
        "Failed to find node data"
       ]
      },
      {
       "output_type": "stream",
       "stream": "stdout",
       "text": [
        "\n",
        "\t0 resolved 0%\n",
        "\t1 missing data 7%\n",
        "\t0 missing data, no overlap 0%\n",
        "\t12 full data, no  overlap 92%\n",
        "\ttrying to unzip collisions\n",
        "collapse group"
       ]
      },
      {
       "output_type": "stream",
       "stream": "stdout",
       "text": [
        "\n",
        "remove single desc\n",
        "fission fusion\n",
        "fission fusion rel\n",
        "off\n",
        "rem single desc\n",
        "                step  total-nodes  isolated-nodes  duration-med  moving-nodes\n",
        "0                raw        89845            4100          0.00           246\n",
        "1                roi        11098            5361          0.00           246\n",
        "2              blank         6113             501          0.00           246\n",
        "3   collisions (227)         5886             501          0.00           246\n",
        "4           simplify          952             526          7.09           447\n",
        "5               gaps          952             209          7.09           447\n",
        "6    collisions (67)          885             209          6.07           447\n",
        "7           simplify          505             293         16.87           430\n",
        "8               gaps          505             253         16.87           430\n",
        "9     collisions (6)          499             253         16.07           430\n",
        "10          simplify          451             269         15.14           419\n",
        "11              gaps          451             262         15.14           419\n",
        "12    collisions (1)          450             262         15.42           419\n",
        "13          simplify          442             266         14.98           415\n",
        "14              gaps          442             266         14.98           415\n",
        "15    collisions (0)          442             266         14.98           415\n",
        "16          simplify          442             266         14.98           415\n",
        "17              gaps          442             266         14.98           415\n",
        "18    collisions (0)          442             266         14.98           415\n",
        "19          simplify          442             266         14.98           415\n",
        "20              gaps          442             266         14.98           415\n",
        "\n",
        "[21 rows x 5 columns]"
       ]
      },
      {
       "output_type": "stream",
       "stream": "stdout",
       "text": [
        "\n",
        "                step  total-nodes  >10min  >20min  >30min  >40min  >50min\n",
        "0                raw        89845      91      43      19       8       3\n",
        "1                roi        11098      70      28      12       5       1\n",
        "2              blank         6113      70      28      12       5       1\n",
        "3   collisions (227)         5886      70      28      12       5       1\n",
        "4           simplify          952      71      35      14       6       2\n",
        "5               gaps          952      71      35      14       6       2\n",
        "6    collisions (67)          885      71      35      14       6       2\n",
        "7           simplify          505      66      40      23      13      10\n",
        "8               gaps          505      66      40      23      13      10\n",
        "9     collisions (6)          499      65      40      23      13      10\n",
        "10          simplify          451      60      40      24      16      11\n",
        "11              gaps          451      60      40      24      16      11\n",
        "12    collisions (1)          450      60      40      24      16      11\n",
        "13          simplify          442      57      39      24      16      11\n",
        "14              gaps          442      57      39      24      16      11\n",
        "15    collisions (0)          442      57      39      24      16      11\n",
        "16          simplify          442      57      39      24      16      11\n",
        "17              gaps          442      57      39      24      16      11\n",
        "18    collisions (0)          442      57      39      24      16      11\n",
        "19          simplify          442      57      39      24      16      11\n",
        "20              gaps          442      57      39      24      16      11\n",
        "\n",
        "[21 rows x 7 columns]\n",
        "                step      wm_0min    wm_10min    wm_20min    wm_30min  \\\n",
        "0                raw  1699.465250  672.560333  575.124067  372.620633   \n",
        "1                roi  1149.175117  599.368517  385.022733  237.756700   \n",
        "2              blank  1149.175117  599.368517  385.022733  237.756700   \n",
        "3   collisions (227)  1125.654417  599.368517  385.022733  237.756700   \n",
        "4           simplify   898.681783  531.504500  500.812367  268.223267   \n",
        "5               gaps   898.681783  531.504500  500.812367  268.223267   \n",
        "6    collisions (67)   808.472283  531.504500  500.812367  268.223267   \n",
        "7           simplify   534.289600  361.664183  428.308083  340.744683   \n",
        "8               gaps   534.289600  361.664183  428.308083  340.744683   \n",
        "9     collisions (6)   524.938033  350.627867  428.308083  340.744683   \n",
        "10          simplify   472.642767  277.802867  410.896717  267.822033   \n",
        "11              gaps   472.642767  277.802867  410.896717  267.822033   \n",
        "12    collisions (1)   472.517750  277.802867  410.896717  267.822033   \n",
        "13          simplify   471.600383  250.716967  383.684183  267.822033   \n",
        "14              gaps   471.600383  250.716967  383.684183  267.822033   \n",
        "15    collisions (0)   471.600383  250.716967  383.684183  267.822033   \n",
        "16          simplify   471.600383  250.716967  383.684183  267.822033   \n",
        "17              gaps   471.600383  250.716967  383.684183  267.822033   \n",
        "18    collisions (0)   471.600383  250.716967  383.684183  267.822033   \n",
        "19          simplify   471.600383  250.716967  383.684183  267.822033   \n",
        "20              gaps   471.600383  250.716967  383.684183  267.822033   \n",
        "\n",
        "      wm_40min    wm_50min  \n",
        "0   230.489017  161.813067  \n",
        "1   183.308967   55.208983  \n",
        "2   183.308967   55.208983  \n",
        "3   183.308967   55.208983  \n",
        "4   178.070500  114.381350  \n",
        "5   178.070500  114.381350  \n",
        "6   178.070500  114.381350  \n",
        "7   138.333367  553.342850  \n",
        "8   138.333367  553.342850  \n",
        "9   138.333367  553.342850  \n",
        "10  229.275633  605.625133  \n",
        "11  229.275633  605.625133  \n",
        "12  229.275633  605.625133  \n",
        "13  229.275633  605.625133  \n",
        "14  229.275633  605.625133  \n",
        "15  229.275633  605.625133  \n",
        "16  229.275633  605.625133  \n",
        "17  229.275633  605.625133  \n",
        "18  229.275633  605.625133  \n",
        "19  229.275633  605.625133  \n",
        "20  229.275633  605.625133  \n",
        "\n",
        "[21 rows x 7 columns]\n"
       ]
      }
     ],
     "prompt_number": 13
    },
    {
     "cell_type": "code",
     "collapsed": false,
     "input": [
      "rc.tail()"
     ],
     "language": "python",
     "metadata": {},
     "outputs": [
      {
       "html": [
        "<div style=\"max-height:1000px;max-width:1500px;overflow:auto;\">\n",
        "<table border=\"1\" class=\"dataframe\">\n",
        "  <thead>\n",
        "    <tr style=\"text-align: right;\">\n",
        "      <th></th>\n",
        "      <th># components</th>\n",
        "      <th>&gt;10min</th>\n",
        "      <th>&gt;20min</th>\n",
        "      <th>&gt;30min</th>\n",
        "      <th>&gt;40min</th>\n",
        "      <th>&gt;50min</th>\n",
        "      <th>connected-nodes</th>\n",
        "      <th>duration-mean</th>\n",
        "      <th>duration-med</th>\n",
        "      <th>duration-std</th>\n",
        "      <th>giant-component-size</th>\n",
        "      <th>isolated-nodes</th>\n",
        "      <th>moving-nodes</th>\n",
        "      <th>step</th>\n",
        "      <th>total-nodes</th>\n",
        "      <th>wm_0min</th>\n",
        "      <th>wm_10min</th>\n",
        "      <th>wm_20min</th>\n",
        "      <th>wm_30min</th>\n",
        "      <th>wm_40min</th>\n",
        "      <th></th>\n",
        "    </tr>\n",
        "  </thead>\n",
        "  <tbody>\n",
        "    <tr>\n",
        "      <th>16</th>\n",
        "      <td> 279</td>\n",
        "      <td> 57</td>\n",
        "      <td> 39</td>\n",
        "      <td> 24</td>\n",
        "      <td> 16</td>\n",
        "      <td> 11</td>\n",
        "      <td> 176</td>\n",
        "      <td> 299.82</td>\n",
        "      <td> 14.98</td>\n",
        "      <td> 687.02</td>\n",
        "      <td> 97</td>\n",
        "      <td> 266</td>\n",
        "      <td> 415</td>\n",
        "      <td>       simplify</td>\n",
        "      <td> 442</td>\n",
        "      <td> 471.600383</td>\n",
        "      <td> 250.716967</td>\n",
        "      <td> 383.684183</td>\n",
        "      <td> 267.822033</td>\n",
        "      <td> 229.275633</td>\n",
        "      <td>...</td>\n",
        "    </tr>\n",
        "    <tr>\n",
        "      <th>17</th>\n",
        "      <td> 279</td>\n",
        "      <td> 57</td>\n",
        "      <td> 39</td>\n",
        "      <td> 24</td>\n",
        "      <td> 16</td>\n",
        "      <td> 11</td>\n",
        "      <td> 176</td>\n",
        "      <td> 299.82</td>\n",
        "      <td> 14.98</td>\n",
        "      <td> 687.02</td>\n",
        "      <td> 97</td>\n",
        "      <td> 266</td>\n",
        "      <td> 415</td>\n",
        "      <td>           gaps</td>\n",
        "      <td> 442</td>\n",
        "      <td> 471.600383</td>\n",
        "      <td> 250.716967</td>\n",
        "      <td> 383.684183</td>\n",
        "      <td> 267.822033</td>\n",
        "      <td> 229.275633</td>\n",
        "      <td>...</td>\n",
        "    </tr>\n",
        "    <tr>\n",
        "      <th>18</th>\n",
        "      <td> 279</td>\n",
        "      <td> 57</td>\n",
        "      <td> 39</td>\n",
        "      <td> 24</td>\n",
        "      <td> 16</td>\n",
        "      <td> 11</td>\n",
        "      <td> 176</td>\n",
        "      <td> 299.82</td>\n",
        "      <td> 14.98</td>\n",
        "      <td> 687.02</td>\n",
        "      <td> 97</td>\n",
        "      <td> 266</td>\n",
        "      <td> 415</td>\n",
        "      <td> collisions (0)</td>\n",
        "      <td> 442</td>\n",
        "      <td> 471.600383</td>\n",
        "      <td> 250.716967</td>\n",
        "      <td> 383.684183</td>\n",
        "      <td> 267.822033</td>\n",
        "      <td> 229.275633</td>\n",
        "      <td>...</td>\n",
        "    </tr>\n",
        "    <tr>\n",
        "      <th>19</th>\n",
        "      <td> 279</td>\n",
        "      <td> 57</td>\n",
        "      <td> 39</td>\n",
        "      <td> 24</td>\n",
        "      <td> 16</td>\n",
        "      <td> 11</td>\n",
        "      <td> 176</td>\n",
        "      <td> 299.82</td>\n",
        "      <td> 14.98</td>\n",
        "      <td> 687.02</td>\n",
        "      <td> 97</td>\n",
        "      <td> 266</td>\n",
        "      <td> 415</td>\n",
        "      <td>       simplify</td>\n",
        "      <td> 442</td>\n",
        "      <td> 471.600383</td>\n",
        "      <td> 250.716967</td>\n",
        "      <td> 383.684183</td>\n",
        "      <td> 267.822033</td>\n",
        "      <td> 229.275633</td>\n",
        "      <td>...</td>\n",
        "    </tr>\n",
        "    <tr>\n",
        "      <th>20</th>\n",
        "      <td> 279</td>\n",
        "      <td> 57</td>\n",
        "      <td> 39</td>\n",
        "      <td> 24</td>\n",
        "      <td> 16</td>\n",
        "      <td> 11</td>\n",
        "      <td> 176</td>\n",
        "      <td> 299.82</td>\n",
        "      <td> 14.98</td>\n",
        "      <td> 687.02</td>\n",
        "      <td> 97</td>\n",
        "      <td> 266</td>\n",
        "      <td> 415</td>\n",
        "      <td>           gaps</td>\n",
        "      <td> 442</td>\n",
        "      <td> 471.600383</td>\n",
        "      <td> 250.716967</td>\n",
        "      <td> 383.684183</td>\n",
        "      <td> 267.822033</td>\n",
        "      <td> 229.275633</td>\n",
        "      <td>...</td>\n",
        "    </tr>\n",
        "  </tbody>\n",
        "</table>\n",
        "<p>5 rows \u00d7 21 columns</p>\n",
        "</div>"
       ],
       "metadata": {},
       "output_type": "pyout",
       "prompt_number": 14,
       "text": [
        "    # components  >10min  >20min  >30min  >40min  >50min  connected-nodes  \\\n",
        "16           279      57      39      24      16      11              176   \n",
        "17           279      57      39      24      16      11              176   \n",
        "18           279      57      39      24      16      11              176   \n",
        "19           279      57      39      24      16      11              176   \n",
        "20           279      57      39      24      16      11              176   \n",
        "\n",
        "    duration-mean  duration-med  duration-std  giant-component-size  \\\n",
        "16         299.82         14.98        687.02                    97   \n",
        "17         299.82         14.98        687.02                    97   \n",
        "18         299.82         14.98        687.02                    97   \n",
        "19         299.82         14.98        687.02                    97   \n",
        "20         299.82         14.98        687.02                    97   \n",
        "\n",
        "    isolated-nodes  moving-nodes            step  total-nodes     wm_0min  \\\n",
        "16             266           415        simplify          442  471.600383   \n",
        "17             266           415            gaps          442  471.600383   \n",
        "18             266           415  collisions (0)          442  471.600383   \n",
        "19             266           415        simplify          442  471.600383   \n",
        "20             266           415            gaps          442  471.600383   \n",
        "\n",
        "      wm_10min    wm_20min    wm_30min    wm_40min      \n",
        "16  250.716967  383.684183  267.822033  229.275633 ...  \n",
        "17  250.716967  383.684183  267.822033  229.275633 ...  \n",
        "18  250.716967  383.684183  267.822033  229.275633 ...  \n",
        "19  250.716967  383.684183  267.822033  229.275633 ...  \n",
        "20  250.716967  383.684183  267.822033  229.275633 ...  \n",
        "\n",
        "[5 rows x 21 columns]"
       ]
      }
     ],
     "prompt_number": 14
    },
    {
     "cell_type": "code",
     "collapsed": false,
     "input": [
      "rc_duration_hist(rc)  "
     ],
     "language": "python",
     "metadata": {},
     "outputs": [
      {
       "metadata": {},
       "output_type": "display_data",
       "png": "[encoded data removed]",
       "text": [
        "<matplotlib.figure.Figure at 0x7f6708bda1d0>"
       ]
      }
     ],
     "prompt_number": 15
    },
    {
     "cell_type": "code",
     "collapsed": false,
     "input": [
      "def rc_worm_minutes_hist(rc):\n",
      "    rc = rc.copy()\n",
      "    rc.rename(columns={'wm_0min':'0-9', 'wm_10min':'10-19','wm_20min':'20-29', \n",
      "                       'wm_30min':'30-39','wm_40min':'40-49', 'wm_50min':'50-60'}, inplace=True)\n",
      "    rc = rc[['0-9', '10-19', '20-29', '30-39', '40-49', '50-60']]\n",
      "\n",
      "    # for sanity check\n",
      "    #totals = rc['0'] +  rc['10'] + rc['20'] + rc['30'] + rc['40'] + rc['50']\n",
      "    #print totals\n",
      "    # grab bins from column names\n",
      "    cols = rc.columns\n",
      "    bins = [(int(c[1:-3]), c) for c in cols if str(c[0]) == '>']\n",
      "    bins.sort(reverse=True)\n",
      "    #print bins\n",
      "    \n",
      "    def step_data_to_bins(step):\n",
      "        # grab relevant step\n",
      "        step_data = rc.iloc[step]\n",
      "        #step_name = step_data['step']\n",
      "        \n",
      "        return step_data\n",
      "    \n",
      "    bd1 = step_data_to_bins(1)\n",
      "    bd2 = step_data_to_bins(-1)\n",
      "    \n",
      "    #bd1['step'] = 'raw'\n",
      "    #bd2['step'] = 'final'\n",
      "    \n",
      "    df = pd.DataFrame([bd1, bd2], index=['raw', 'final'])\n",
      "    #df.set_index('step', inplace=True)\n",
      "    ax = df.T.plot(kind='bar')\n",
      "    fig = plt.figure(plt.get_fignums()[0])\n",
      "    fig.set_size_inches(10, 5)\n",
      "\n",
      "    ax.set_ylabel('total minutes of track')\n",
      "    ax.set_xlabel('track duration (min)')\n",
      "    plt.savefig('worm-min-improvement.png')\n",
      "    plt.tight_layout()\n",
      "    #plt.show()\n",
      "    print df\n",
      "    \n",
      "    \n",
      "    \n",
      "rc_worm_minutes_hist(rc)"
     ],
     "language": "python",
     "metadata": {},
     "outputs": [
      {
       "output_type": "stream",
       "stream": "stdout",
       "text": [
        "               0-9       10-19       20-29       30-39       40-49       50-60\n",
        "raw    1149.175117  599.368517  385.022733  237.756700  183.308967   55.208983\n",
        "final   471.600383  250.716967  383.684183  267.822033  229.275633  605.625133\n",
        "\n",
        "[2 rows x 6 columns]\n"
       ]
      },
      {
       "metadata": {},
       "output_type": "display_data",
       "png": "[encoded data removed]",
       "text": [
        "<matplotlib.figure.Figure at 0x7f6709348dd0>"
       ]
      }
     ],
     "prompt_number": 16
    },
    {
     "cell_type": "code",
     "collapsed": false,
     "input": [
      "starts, ends = report_card.determine_lost_and_found_causes(experiment, graph2)\n",
      "print\n",
      "print 'starts'\n",
      "show_reasons(starts)\n",
      "print 'ends'\n",
      "show_reasons(ends)\n",
      "print"
     ],
     "language": "python",
     "metadata": {},
     "outputs": [
      {
       "output_type": "stream",
       "stream": "stdout",
       "text": [
        "84788 blobs have terminal data\n",
        "442 nodes in graph\n",
        "373 overlap\n",
        "198 have more than 1 blob id in them\n",
        "\n"
       ]
      },
      {
       "output_type": "stream",
       "stream": "stdout",
       "text": [
        "starts\n",
        "ends\n",
        "\n"
       ]
      },
      {
       "output_type": "stream",
       "stream": "stderr",
       "text": [
        "/home/visitors/peterwinter/.pyenv/versions/general/local/lib/python2.7/site-packages/pandas/core/frame.py:2175: SettingWithCopyWarning: A value is trying to be set on a copy of a slice from a DataFrame\n",
        "  **kwargs)\n"
       ]
      }
     ],
     "prompt_number": 17
    },
    {
     "cell_type": "code",
     "collapsed": false,
     "input": [
      "def summarize_loss_report(df):\n",
      "    df = df.copy()\n",
      "    df['lifespan_t'] = df['lifespan_t'] / 60.0\n",
      "    bin_dividers = [1, 5, 10, 20, 61]\n",
      "    reasons = ['unknown', 'on_edge', 'id_change', 'outside-roi', 'timing']\n",
      "    #stuff = pd.DataFrame(columns=reasons, index=bin_dividers)\n",
      "    data = []\n",
      "    for bd in bin_dividers:\n",
      "        b = df[df['lifespan_t'] < bd]\n",
      "        df = df[df['lifespan_t'] >= bd]\n",
      "        #print bd\n",
      "        #print b.head()\n",
      "        counts = {}\n",
      "        for reason in reasons:\n",
      "            counts[reason] = len(b[b['reason'] == reason])  \n",
      "            \n",
      "        data.append(counts)\n",
      "    \n",
      "    report_summary = pd.DataFrame(data)\n",
      "    report_summary['lifespan'] = bin_dividers\n",
      "    report_summary.set_index('lifespan', inplace=True)\n",
      "    report_summary = report_summary[['unknown', 'id_change', 'timing', 'on_edge', 'outside-roi']]\n",
      "    print report_summary\n",
      "    return report_summary\n",
      "\n",
      "print 'ends'\n",
      "summarize_loss_report(ends)"
     ],
     "language": "python",
     "metadata": {},
     "outputs": [
      {
       "output_type": "stream",
       "stream": "stdout",
       "text": [
        "ends\n",
        "          unknown  id_change  timing  on_edge  outside-roi\n",
        "lifespan                                                  \n",
        "1              34         42       3      127            2\n",
        "5               3         39       5       32            2\n",
        "10              2         11       4       10            2\n",
        "20              1          9       6        2            0\n",
        "61              0          9      24        6            0\n",
        "\n",
        "[5 rows x 5 columns]\n"
       ]
      },
      {
       "html": [
        "<div style=\"max-height:1000px;max-width:1500px;overflow:auto;\">\n",
        "<table border=\"1\" class=\"dataframe\">\n",
        "  <thead>\n",
        "    <tr style=\"text-align: right;\">\n",
        "      <th></th>\n",
        "      <th>unknown</th>\n",
        "      <th>id_change</th>\n",
        "      <th>timing</th>\n",
        "      <th>on_edge</th>\n",
        "      <th>outside-roi</th>\n",
        "    </tr>\n",
        "    <tr>\n",
        "      <th>lifespan</th>\n",
        "      <th></th>\n",
        "      <th></th>\n",
        "      <th></th>\n",
        "      <th></th>\n",
        "      <th></th>\n",
        "    </tr>\n",
        "  </thead>\n",
        "  <tbody>\n",
        "    <tr>\n",
        "      <th>1 </th>\n",
        "      <td> 34</td>\n",
        "      <td> 42</td>\n",
        "      <td>  3</td>\n",
        "      <td> 127</td>\n",
        "      <td> 2</td>\n",
        "    </tr>\n",
        "    <tr>\n",
        "      <th>5 </th>\n",
        "      <td>  3</td>\n",
        "      <td> 39</td>\n",
        "      <td>  5</td>\n",
        "      <td>  32</td>\n",
        "      <td> 2</td>\n",
        "    </tr>\n",
        "    <tr>\n",
        "      <th>10</th>\n",
        "      <td>  2</td>\n",
        "      <td> 11</td>\n",
        "      <td>  4</td>\n",
        "      <td>  10</td>\n",
        "      <td> 2</td>\n",
        "    </tr>\n",
        "    <tr>\n",
        "      <th>20</th>\n",
        "      <td>  1</td>\n",
        "      <td>  9</td>\n",
        "      <td>  6</td>\n",
        "      <td>   2</td>\n",
        "      <td> 0</td>\n",
        "    </tr>\n",
        "    <tr>\n",
        "      <th>61</th>\n",
        "      <td>  0</td>\n",
        "      <td>  9</td>\n",
        "      <td> 24</td>\n",
        "      <td>   6</td>\n",
        "      <td> 0</td>\n",
        "    </tr>\n",
        "  </tbody>\n",
        "</table>\n",
        "<p>5 rows \u00d7 5 columns</p>\n",
        "</div>"
       ],
       "metadata": {},
       "output_type": "pyout",
       "prompt_number": 18,
       "text": [
        "          unknown  id_change  timing  on_edge  outside-roi\n",
        "lifespan                                                  \n",
        "1              34         42       3      127            2\n",
        "5               3         39       5       32            2\n",
        "10              2         11       4       10            2\n",
        "20              1          9       6        2            0\n",
        "61              0          9      24        6            0\n",
        "\n",
        "[5 rows x 5 columns]"
       ]
      }
     ],
     "prompt_number": 18
    },
    {
     "cell_type": "code",
     "collapsed": false,
     "input": [
      "print 'starts'\n",
      "summarize_loss_report(starts)"
     ],
     "language": "python",
     "metadata": {},
     "outputs": [
      {
       "output_type": "stream",
       "stream": "stdout",
       "text": [
        "starts\n",
        "          unknown  id_change  timing  on_edge  outside-roi\n",
        "lifespan                                                  \n",
        "1              26         49      16      117            0\n",
        "5               6         36       8       31            0\n",
        "10              2         17       3        7            0\n",
        "20              2          9       5        2            0\n",
        "61              1         22      10        6            0\n",
        "\n",
        "[5 rows x 5 columns]\n"
       ]
      },
      {
       "html": [
        "<div style=\"max-height:1000px;max-width:1500px;overflow:auto;\">\n",
        "<table border=\"1\" class=\"dataframe\">\n",
        "  <thead>\n",
        "    <tr style=\"text-align: right;\">\n",
        "      <th></th>\n",
        "      <th>unknown</th>\n",
        "      <th>id_change</th>\n",
        "      <th>timing</th>\n",
        "      <th>on_edge</th>\n",
        "      <th>outside-roi</th>\n",
        "    </tr>\n",
        "    <tr>\n",
        "      <th>lifespan</th>\n",
        "      <th></th>\n",
        "      <th></th>\n",
        "      <th></th>\n",
        "      <th></th>\n",
        "      <th></th>\n",
        "    </tr>\n",
        "  </thead>\n",
        "  <tbody>\n",
        "    <tr>\n",
        "      <th>1 </th>\n",
        "      <td> 26</td>\n",
        "      <td> 49</td>\n",
        "      <td> 16</td>\n",
        "      <td> 117</td>\n",
        "      <td> 0</td>\n",
        "    </tr>\n",
        "    <tr>\n",
        "      <th>5 </th>\n",
        "      <td>  6</td>\n",
        "      <td> 36</td>\n",
        "      <td>  8</td>\n",
        "      <td>  31</td>\n",
        "      <td> 0</td>\n",
        "    </tr>\n",
        "    <tr>\n",
        "      <th>10</th>\n",
        "      <td>  2</td>\n",
        "      <td> 17</td>\n",
        "      <td>  3</td>\n",
        "      <td>   7</td>\n",
        "      <td> 0</td>\n",
        "    </tr>\n",
        "    <tr>\n",
        "      <th>20</th>\n",
        "      <td>  2</td>\n",
        "      <td>  9</td>\n",
        "      <td>  5</td>\n",
        "      <td>   2</td>\n",
        "      <td> 0</td>\n",
        "    </tr>\n",
        "    <tr>\n",
        "      <th>61</th>\n",
        "      <td>  1</td>\n",
        "      <td> 22</td>\n",
        "      <td> 10</td>\n",
        "      <td>   6</td>\n",
        "      <td> 0</td>\n",
        "    </tr>\n",
        "  </tbody>\n",
        "</table>\n",
        "<p>5 rows \u00d7 5 columns</p>\n",
        "</div>"
       ],
       "metadata": {},
       "output_type": "pyout",
       "prompt_number": 19,
       "text": [
        "          unknown  id_change  timing  on_edge  outside-roi\n",
        "lifespan                                                  \n",
        "1              26         49      16      117            0\n",
        "5               6         36       8       31            0\n",
        "10              2         17       3        7            0\n",
        "20              2          9       5        2            0\n",
        "61              1         22      10        6            0\n",
        "\n",
        "[5 rows x 5 columns]"
       ]
      }
     ],
     "prompt_number": 19
    },
    {
     "cell_type": "code",
     "collapsed": false,
     "input": [],
     "language": "python",
     "metadata": {},
     "outputs": [],
     "prompt_number": 19
    },
    {
     "cell_type": "markdown",
     "metadata": {},
     "source": [
      "check if nodes that moved in raw data are still in the final graph"
     ]
    },
    {
     "cell_type": "code",
     "collapsed": false,
     "input": [
      "min_move = 2\n",
      "move = experiment.prepdata.load('moved')\n",
      "moved_bids = list(set(move[move['bl_moved'] >= min_move]['bid']))\n",
      "\n",
      "print len(moved_bids), 'nodes moved over threshold in origional graph'\n",
      "print len(find_nodes_containing_bids(original_graph, moved_bids)), 'check. this number should be same as first'\n",
      "\n",
      "new_moved_bids = find_nodes_containing_bids(graph2, moved_bids)\n",
      "print len(new_moved_bids), 'nodes moved over threshold in final graph'"
     ],
     "language": "python",
     "metadata": {},
     "outputs": [
      {
       "output_type": "stream",
       "stream": "stdout",
       "text": [
        "203 nodes moved over threshold in origional graph\n",
        "203"
       ]
      },
      {
       "output_type": "stream",
       "stream": "stdout",
       "text": [
        " check. this number should be same as first\n",
        "118"
       ]
      },
      {
       "output_type": "stream",
       "stream": "stdout",
       "text": [
        " nodes moved over threshold in final graph\n"
       ]
      }
     ],
     "prompt_number": 20
    },
    {
     "cell_type": "markdown",
     "metadata": {},
     "source": [
      "Create step plots for before and after we 'fix' the data"
     ]
    },
    {
     "cell_type": "code",
     "collapsed": false,
     "input": [
      "true_num = experiment.true_num()\n",
      "\n",
      "steps0, durations0 = calculate_duration_data_from_graph(experiment, original_graph, original_graph.nodes(data=False))\n",
      "\n",
      "steps, durations = calculate_duration_data_from_graph(experiment, original_graph, moved_bids)\n",
      "\n",
      "fig, ax = plt.subplots()\n",
      "step_plot(ax, steps, true_num=true_num)\n",
      "ax.set_title('original blobs moving > 2 BL')\n",
      "ax.set_xlabel('minutes')\n",
      "plt.show()\n",
      "\n",
      "steps2, durations2 = calculate_duration_data_from_graph(experiment, graph2, graph2.nodes(data=False))\n",
      "\n",
      "fig, ax = plt.subplots()\n",
      "step_plot(ax, steps2, true_num=true_num)\n",
      "ax.set_title('all blobs in final graph')\n",
      "ax.set_xlabel('minutes')\n",
      "plt.show()\n",
      "\n",
      "moved_steps2, moved_durations2 = calculate_duration_data_from_graph(experiment, graph2, new_moved_bids)\n",
      "\n",
      "fig, ax = plt.subplots()\n",
      "step_plot(ax, moved_steps2, true_num=true_num)\n",
      "ax.set_title('original blobs moving > 2 bl shown from final graph data')\n",
      "ax.set_xlabel('minutes')\n",
      "plt.show()"
     ],
     "language": "python",
     "metadata": {},
     "outputs": [
      {
       "metadata": {},
       "output_type": "display_data",
       "png": "[encoded data removed]",
       "text": [
        "<matplotlib.figure.Figure at 0x7f670abbdcd0>"
       ]
      },
      {
       "metadata": {},
       "output_type": "display_data",
       "png": "[encoded data removed]",
       "text": [
        "<matplotlib.figure.Figure at 0x7f6703dadf50>"
       ]
      },
      {
       "metadata": {},
       "output_type": "display_data",
       "png": "[encoded data removed]",
       "text": [
        "<matplotlib.figure.Figure at 0x7f670428b310>"
       ]
      }
     ],
     "prompt_number": 21
    },
    {
     "cell_type": "code",
     "collapsed": false,
     "input": [
      "def top_step_plot(ax, step_df, min_duration=10, true_num=30):\n",
      "    best = step_df[step_df['lifespan'] >= 10]\n",
      "    print best.head()\n",
      "    \n",
      "    \n",
      "    steps = []\n",
      "    n_steps = len(best)\n",
      "\n",
      "    xs = list(best['t0'])\n",
      "    widths = list(best['lifespan'])\n",
      "    height = 1\n",
      "\n",
      "    color_cycle = ax._get_lines.color_cycle\n",
      "    color1 = color_cycle.next()\n",
      "    color2 = color_cycle.next()\n",
      "    for y, (x, width) in enumerate(zip(xs, widths)):\n",
      "        steps.append(patches.Rectangle((x,y), height=height, width=width,\n",
      "                                       fill=True, fc=color1, ec=color1))\n",
      "    for step in steps:\n",
      "        ax.add_patch(step)\n",
      "\n",
      "    xmax = 60\n",
      "    ideal = patches.Rectangle((0,0), height=true_num, width=xmax,\n",
      "                              fill=True, ec=color2, fc=color2,\n",
      "                              alpha=0.5)\n",
      "\n",
      "    ax.add_patch(ideal)\n",
      "    ax.plot([0], color=color1, label='actual')\n",
      "    ax.plot([0], color=color2, alpha=0.5, label='ideal')\n",
      "    ax.set_xlim([0, xmax])\n",
      "    ax.set_ylim([0, n_steps+1])\n",
      "\n",
      "steps0, durations0 = calculate_duration_data_from_graph(experiment, original_graph, original_graph.nodes(data=False))\n",
      "fig, ax = plt.subplots()\n",
      "top_step_plot(ax, steps0)\n",
      "ax.set_title('blobs > 10 min in raw data')\n",
      "ax.set_xlabel('minutes')\n",
      "plt.show()\n",
      "\n",
      "steps2, durations2 = calculate_duration_data_from_graph(experiment, graph2, graph2.nodes(data=False))\n",
      "fig, ax = plt.subplots()\n",
      "top_step_plot(ax, steps2)\n",
      "ax.set_title('blobs > 10 min in final data')\n",
      "ax.set_xlabel('minutes')\n",
      "plt.show()"
     ],
     "language": "python",
     "metadata": {},
     "outputs": [
      {
       "output_type": "stream",
       "stream": "stdout",
       "text": [
        "           t0         tN   lifespan\n",
        "bid                                \n",
        "13   0.000167  33.532950  33.532783\n",
        "10   0.000167  14.370467  14.370300\n",
        "49   0.020283  22.871683  22.851400\n",
        "223  0.480867  19.946667  19.465800\n",
        "232  0.494217  26.015617  25.521400\n",
        "\n",
        "[5 rows x 3 columns]\n"
       ]
      },
      {
       "metadata": {},
       "output_type": "display_data",
       "png": "[encoded data removed]",
       "text": [
        "<matplotlib.figure.Figure at 0x7f67068e3b10>"
       ]
      },
      {
       "output_type": "stream",
       "stream": "stdout",
       "text": [
        "             t0         tN   lifespan\n",
        "bid                                  \n",
        "16     0.000167  17.955533  17.955367\n",
        "12     0.000167  30.996250  30.996083\n",
        "10     0.000167  20.196033  20.195867\n",
        "15584  0.000167  33.561283  33.561117\n",
        "23     0.006367  51.297083  51.290717\n",
        "\n",
        "[5 rows x 3 columns]\n"
       ]
      },
      {
       "metadata": {},
       "output_type": "display_data",
       "png": "[encoded data removed]",
       "text": [
        "<matplotlib.figure.Figure at 0x7f670419a410>"
       ]
      }
     ],
     "prompt_number": 22
    },
    {
     "cell_type": "code",
     "collapsed": false,
     "input": [
      "def compare_step_plots(step_df1, step_df2, titles=['',''], true_num=30, i=0):\n",
      "\n",
      "    \n",
      "    fig, (ax1, ax2) = plt.subplots(1,2)\n",
      "    fig.set_size_inches(20, 10)\n",
      "\n",
      "    #steps = []\n",
      "    n_steps = max(len(step_df1), len(step_df2))\n",
      "    xmax = 60\n",
      "    def make_steps(ax, df, i=1):\n",
      "        steps = []\n",
      "        xs = list(df['t0'])\n",
      "        widths = list(df['lifespan'])\n",
      "        height = 1\n",
      "\n",
      "        color_cycle = ax._get_lines.color_cycle\n",
      "        color1 = color_cycle.next()\n",
      "        color2 = color_cycle.next()\n",
      "        for y, (x, width) in enumerate(zip(xs, widths)):\n",
      "            if i == 0:\n",
      "                c = color1\n",
      "            else:\n",
      "                c = color2\n",
      "            steps.append(patches.Rectangle((x,y), height=height, width=width,\n",
      "                                           fill=True, fc=c, ec=c))\n",
      "        for step in steps:\n",
      "            ax.add_patch(step)\n",
      "\n",
      "\n",
      "        ideal = patches.Rectangle((0,0), height=true_num, width=xmax,\n",
      "                                  fill=True, ec=color2, fc=color2,\n",
      "                                  alpha=0.5)\n",
      "\n",
      "        ax.add_patch(ideal)\n",
      "        #if i != 2:\n",
      "        #    ax.plot([0], color=color1, label='actual')\n",
      "        #else:\n",
      "        #ax.plot([0], color=color1, label='actual')\n",
      "        #ax.plot([0], color=color2, alpha=0.5, label='ideal')\n",
      "        ax.set_xlim([0, xmax])\n",
      "        ax.set_ylim([0, n_steps+1])\n",
      "        ax.set_xlabel('minutes')\n",
      "        ax.set_ylabel('tracks')\n",
      "        \n",
      "    make_steps(ax1, step_df1, i=0)\n",
      "    ax1.set_title(titles[0])\n",
      "    make_steps(ax2, step_df2, i=2)\n",
      "    ax2.set_title(titles[1])\n",
      "\n",
      "    for ax in [ax1, ax2]:\n",
      "        for item in ([ax.title, ax.xaxis.label, ax.yaxis.label] +\n",
      "                 ax.get_xticklabels() + ax.get_yticklabels()):\n",
      "            item.set_fontsize(20)\n",
      "    plt.savefig('final-step-plot.png')\n",
      "titles = ['raw (blobs >10 min)', 'final (blobs >10 min)']\n",
      "compare_step_plots(steps0[steps0['lifespan'] >= 10], steps2[steps2['lifespan'] >= 10], titles=titles)"
     ],
     "language": "python",
     "metadata": {},
     "outputs": [
      {
       "metadata": {},
       "output_type": "display_data",
       "png": "[encoded data removed]",
       "text": [
        "<matplotlib.figure.Figure at 0x7f6705a52410>"
       ]
      }
     ],
     "prompt_number": 23
    },
    {
     "cell_type": "code",
     "collapsed": false,
     "input": [
      "\n",
      "def compare_step_plots2(step_df1, step_df2, true_num=30):\n",
      "\n",
      "    \n",
      "    fig, ax = plt.subplots()\n",
      "    #fig.set_size_inches(20, 10)\n",
      "    \n",
      "    #steps = []\n",
      "    n_steps = max(len(step_df1), len(step_df2))\n",
      "    xmax = 60\n",
      "    def make_steps(ax, df, alpha=1.0):\n",
      "        steps = []\n",
      "        xs = list(df['t0'])\n",
      "        widths = list(df['lifespan'])\n",
      "        height = 1\n",
      "\n",
      "        color_cycle = ax._get_lines.color_cycle\n",
      "        color1 = color_cycle.next()\n",
      "        color2 = color_cycle.next()\n",
      "        for y, (x, width) in enumerate(zip(xs, widths)):\n",
      "            steps.append(patches.Rectangle((x,y), height=height, width=width,\n",
      "                                           fill=True, fc=color1, ec=color1, alpha=alpha))\n",
      "        for step in steps:\n",
      "            ax.add_patch(step)\n",
      "\n",
      "\n",
      "        #ideal = patches.Rectangle((0,0), height=true_num, width=xmax,\n",
      "        #                          fill=True, ec=color2, fc=color2,\n",
      "        #                          alpha=0.5)\n",
      "\n",
      "        #ax.add_patch(ideal)\n",
      "        #ax.plot([0], color=color1, alpha=alpha)\n",
      "        ax.set_xlim([0, xmax])\n",
      "        ax.set_ylim([0, n_steps+1])\n",
      "        ax.set_xlabel('minutes')\n",
      "        ax.set_ylabel('tracks')\n",
      "        \n",
      "    make_steps(ax, step_df1)\n",
      "    make_steps(ax, step_df2, alpha=0.5)\n",
      "    \n",
      "titles = ['blobs >10 min from raw data', 'blobs >10 min from final data']\n",
      "compare_step_plots(steps0[steps0['lifespan'] >= 10], steps2[steps2['lifespan'] >= 10], titles=titles)\n",
      "#compare_step_plots2(steps0[steps0['lifespan'] >= 10], steps2[steps2['lifespan'] >= 10])\n",
      "\n",
      "#compare_step_plots(steps2[steps2['lifespan'] >= 10], steps0[steps0['lifespan'] >= 10])\n",
      "plt.show()"
     ],
     "language": "python",
     "metadata": {},
     "outputs": [
      {
       "metadata": {},
       "output_type": "display_data",
       "png": "[encoded data removed]",
       "text": [
        "<matplotlib.figure.Figure at 0x7f670ed4be90>"
       ]
      }
     ],
     "prompt_number": 24
    },
    {
     "cell_type": "markdown",
     "metadata": {},
     "source": [
      "create CDF showing the duration difference"
     ]
    },
    {
     "cell_type": "code",
     "collapsed": false,
     "input": [
      "fig, ax = plt.subplots()\n",
      "fig.set_size_inches(10, 8)\n",
      "make_cdf(ax, [d for d in durations0 if d>10], label= 'original nodes > 10 min', xmin=10, xmax=60)\n",
      "make_cdf(ax, [d for d in durations2 if d>10], label='final nodes > 10 min', xmin=10, xmax=60)\n",
      "ax.legend(loc='lower right', prop={'size':20})\n",
      "\n",
      "for item in ([ax.title, ax.xaxis.label, ax.yaxis.label] +\n",
      "         ax.get_xticklabels() + ax.get_yticklabels()):\n",
      "    item.set_fontsize(20)\n",
      "#plt.show()\n",
      "plt.savefig('long-cdf-improvement.png')"
     ],
     "language": "python",
     "metadata": {},
     "outputs": [
      {
       "metadata": {},
       "output_type": "display_data",
       "png": "[encoded data removed]",
       "text": [
        "<matplotlib.figure.Figure at 0x7f6705d9fa50>"
       ]
      }
     ],
     "prompt_number": 25
    },
    {
     "cell_type": "code",
     "collapsed": false,
     "input": [
      "fig, ax = plt.subplots()\n",
      "fig.set_size_inches(10, 8)\n",
      "make_cdf(ax, durations0, label= 'all original', xmax=30)\n",
      "make_cdf(ax, durations2, label='all final nodes', xmax=30)\n",
      "ax.legend(loc='lower right', prop={'size':20})\n",
      "for item in ([ax.title, ax.xaxis.label, ax.yaxis.label] +\n",
      "         ax.get_xticklabels() + ax.get_yticklabels()):\n",
      "    item.set_fontsize(20)\n",
      "#plt.show()\n",
      "plt.savefig('all-cdf-improvement.png')"
     ],
     "language": "python",
     "metadata": {},
     "outputs": [
      {
       "metadata": {},
       "output_type": "display_data",
       "png": "[encoded data removed]",
       "text": [
        "<matplotlib.figure.Figure at 0x7f67060f5c10>"
       ]
      }
     ],
     "prompt_number": 26
    },
    {
     "cell_type": "code",
     "collapsed": false,
     "input": [
      "fig, ax = plt.subplots()\n",
      "make_cdf(ax, durations0, label= 'all original', xmax=60)\n",
      "make_cdf(ax, durations2, label='all final nodes', xmax=60)\n",
      "make_cdf(ax, [d for d in durations0 if d>10], label= 'original nodes > 10 min', xmin=10, xmax=60)\n",
      "make_cdf(ax, [d for d in durations2 if d>10], label='final nodes > 10 min', xmin=10, xmax=60)\n",
      "ax.legend(loc='lower right')\n",
      "plt.show()"
     ],
     "language": "python",
     "metadata": {},
     "outputs": [
      {
       "metadata": {},
       "output_type": "display_data",
       "png": "[encoded data removed]",
       "text": [
        "<matplotlib.figure.Figure at 0x7f670b7a4750>"
       ]
      }
     ],
     "prompt_number": 27
    },
    {
     "cell_type": "code",
     "collapsed": false,
     "input": [
      "fig, ax = plt.subplots()\n",
      "make_cdf(ax, durations0, label= 'all original')\n",
      "make_cdf(ax, durations, label= 'original > 2 BL')\n",
      "make_cdf(ax, durations2, label='all final nodes')\n",
      "make_cdf(ax, moved_durations2, label='final nodes that origionally moved > 2 BL')\n",
      "ax.legend(loc='lower right')\n",
      "plt.show()"
     ],
     "language": "python",
     "metadata": {},
     "outputs": [
      {
       "metadata": {},
       "output_type": "display_data",
       "png": "[encoded data removed]",
       "text": [
        "<matplotlib.figure.Figure at 0x7f670428b810>"
       ]
      }
     ],
     "prompt_number": 28
    },
    {
     "cell_type": "markdown",
     "metadata": {},
     "source": [
      "TODO: create plots showing how applying the same threshold to our data before and after fixing it\n",
      "    changes our True Positive / False Positives / False Negative rates"
     ]
    },
    {
     "cell_type": "code",
     "collapsed": false,
     "input": [
      "#TODO format this to work for graph based data.\n",
      "def calculate_stats_for_bid_lists(bid_lists, prep_data):\n",
      "    \n",
      "    base_accuracy = prep_data.load('accuracy')\n",
      "    matches = prep_data.load('matches')\n",
      "    counts, tps, fps, fns = [], [], [], []\n",
      "    for bids in bid_lists:\n",
      "        filtered_accuracy = ea.recalculate_accuracy(matches, base_accuracy, bids=bids)\n",
      "        counts.append(len(bids))\n",
      "        tp = filtered_accuracy['true-pos'].mean()\n",
      "        fp = filtered_accuracy['false-pos'].mean()\n",
      "        fn = filtered_accuracy['false-neg'].mean()\n",
      "        tps.append(tp)\n",
      "        fps.append(fp)\n",
      "        fns.append(fn)\n",
      "\n",
      "    tps = np.array(tps)\n",
      "    fps = np.array(fps)\n",
      "    fns = np.array(fns)\n",
      "    totals = fns + tps\n",
      "    tps_p = tps / totals * 100\n",
      "    fps_p = fps / totals * 100\n",
      "    fns_p = fns / totals * 100\n",
      "\n",
      "    print('true counts=', np.mean(totals))\n",
      "\n",
      "    data = pd.DataFrame([tps_p, fns_p, fps_p], index=['TP', 'FN', 'FP']).T\n",
      "    counts = pd.DataFrame(counts, columns=['counts'])\n",
      "    return data, counts"
     ],
     "language": "python",
     "metadata": {},
     "outputs": [],
     "prompt_number": 29
    },
    {
     "cell_type": "code",
     "collapsed": false,
     "input": [],
     "language": "python",
     "metadata": {},
     "outputs": [],
     "prompt_number": 29
    },
    {
     "cell_type": "code",
     "collapsed": false,
     "input": [],
     "language": "python",
     "metadata": {},
     "outputs": [],
     "prompt_number": 29
    },
    {
     "cell_type": "heading",
     "level": 1,
     "metadata": {},
     "source": [
      "Error Checking Cells"
     ]
    },
    {
     "cell_type": "code",
     "collapsed": false,
     "input": [
      "unknown_ids, id_change_ids = show_reasons(ends)\n",
      "#print unknown_ids\n",
      "#print id_change_ids\n",
      "unk = pd.DataFrame(unknown_ids)\n",
      "name = '{eid}-unknown_ids.csv'.format(eid=ex_id)\n",
      "print name\n",
      "unk.to_csv(name, index=False, header=False)\n",
      "\n",
      "col = pd.DataFrame(id_change_ids)\n",
      "name = '{eid}-unresolved_collision_ids.csv'.format(eid=ex_id)\n",
      "col.to_csv(name, index=False, header=False)\n"
     ],
     "language": "python",
     "metadata": {},
     "outputs": [
      {
       "output_type": "stream",
       "stream": "stdout",
       "text": [
        "20130318_131111-unknown_ids.csv\n"
       ]
      }
     ],
     "prompt_number": 30
    },
    {
     "cell_type": "code",
     "collapsed": false,
     "input": [
      "us = starts[starts['reason'] == 'unknown']\n",
      "ue = ends[ends['reason'] == 'unknown'].reset_index()\n",
      "#print us.head()\n",
      "ue = ue.rename(columns={'node_id':'node1', 'bid':'blob1'})\n",
      "ue = ue[['blob1', 'node1', 't', 'x', 'y']]\n",
      "#print ue.head()\n",
      "\n",
      "match_data = []\n",
      "for blob2, s in starts.iterrows():\n",
      "    node2 = s['node_id']\n",
      "    x, y = s['x'], s['y']\n",
      "    t = s['t']\n",
      "    \n",
      "    print blob2, node2, x, y, t\n",
      "    match_check = ue.copy()\n",
      "    match_check['node2'] = node2\n",
      "    match_check['blob2'] = node2\n",
      "    match_check['dt'] = t - match_check['t']\n",
      "    match_check['dx'] = np.fabs(x - match_check['x'])\n",
      "    match_check['dy'] = np.fabs(y - match_check['y'])\n",
      "    match_check['dist'] = np.sqrt(match_check['dt']**2 + match_check['dx']**2 + match_check['dy']**2)\n",
      "    match_check['d_spacetime'] = np.sqrt(match_check['dt']**2 + match_check['dx']**2 + match_check['dy']**2)\n",
      "\n",
      "    match_check = match_check[['blob1', 'blob2', 'dt', 'dist', 'd_spacetime']]\n",
      "    match_check.sort('d_spacetime', inplace=True)\n",
      "    print match_check.head()\n",
      "    \n",
      "    \n",
      "\n"
     ],
     "language": "python",
     "metadata": {},
     "outputs": [
      {
       "output_type": "stream",
       "stream": "stdout",
       "text": [
        "12829 12829 513.009 626.129 808.918\n",
        "     blob1  blob2       dt        dist  d_spacetime\n",
        "386  11323  12829   79.933  284.809242   284.809242\n",
        "4     4381  12829  177.878  322.827578   322.827578\n",
        "164  11660  12829   60.964  357.258628   357.258628\n",
        "251  11578  12829   63.032  357.922124   357.922124\n",
        "51   11369  12829   73.161  386.617083   386.617083\n",
        "\n",
        "[5 rows x 5 columns]"
       ]
      },
      {
       "output_type": "stream",
       "stream": "stdout",
       "text": [
        "\n",
        "2964 2964 1343.01 172.627 300.579\n",
        "     blob1  blob2       dt        dist  d_spacetime\n",
        "128   2919   2964    5.094   25.792038    25.792038\n",
        "109   2314   2964   40.389  228.309434   228.309434\n",
        "353   6406   2964 -212.271  243.526939   243.526939\n",
        "368   6149   2964 -201.139  277.066609   277.066609\n",
        "119   3116   2964  -18.008  282.688779   282.688779\n",
        "\n",
        "[5 rows x 5 columns]"
       ]
      },
      {
       "output_type": "stream",
       "stream": "stdout",
       "text": [
        "\n",
        "9134 9134 176.762 731.607 627.486\n",
        "     blob1  blob2       dt        dist  d_spacetime\n",
        "202   8878   9134   12.636   56.786377    56.786377\n",
        "263   7632   9134   62.533  295.456283   295.456283\n",
        "53    7548   9134   68.405  326.333348   326.333348\n",
        "251  11578   9134 -118.400  356.499042   356.499042\n",
        "164  11660   9134 -120.468  356.860376   356.860376\n",
        "\n",
        "[5 rows x 5 columns]"
       ]
      },
      {
       "output_type": "stream",
       "stream": "stdout",
       "text": [
        "\n",
        "40773 40773 965.002 722.883 2152.927\n",
        "     blob1  blob2       dt        dist  d_spacetime\n",
        "166  38414  40773  107.534  152.735405   152.735405\n",
        "26   43181  40773 -139.162  193.559194   193.559194\n",
        "209  34260  40773  337.568  350.655781   350.655781\n",
        "183  38931  40773   80.901  384.955930   384.955930\n",
        "1    47027  40773 -369.038  385.627296   385.627296\n",
        "\n",
        "[5 rows x 5 columns]"
       ]
      },
      {
       "output_type": "stream",
       "stream": "stdout",
       "text": [
        "\n",
        "48612 48612 1673.203 365.98 2611.823\n",
        "     blob1  blob2       dt        dist  d_spacetime\n",
        "105  52211  48612 -206.199  416.252792   416.252792\n",
        "161  50594  48612 -114.005  546.331655   546.331655\n",
        "191  50546  48612 -109.932  570.809327   570.809327\n",
        "84   57321  48612 -473.759  577.171081   577.171081\n",
        "172  58149  48612 -514.996  579.363732   579.363732\n",
        "\n",
        "[5 rows x 5 columns]"
       ]
      },
      {
       "output_type": "stream",
       "stream": "stdout",
       "text": [
        "\n",
        "25035 25035 891.324 226.655 1390.69\n",
        "     blob1  blob2       dt        dist  d_spacetime\n",
        "215  29395  25035 -177.302  545.417508   545.417508\n",
        "295  29146  25035 -165.629  594.179954   594.179954\n",
        "60   26398  25035  -58.071  598.452640   598.452640\n",
        "193  30674  25035 -240.136  626.739279   626.739279\n",
        "153  27387  25035  -94.237  628.591060   628.591060\n",
        "\n",
        "[5 rows x 5 columns]"
       ]
      },
      {
       "output_type": "stream",
       "stream": "stdout",
       "text": [
        "\n",
        "25054 25054 1131.892 1428.106 1391.261\n",
        "     blob1  blob2       dt        dist  d_spacetime\n",
        "198  25053  25054   -6.199   21.249190    21.249190\n",
        "25   26426  25054  -61.366   85.746993    85.746993\n",
        "253  22858  25054  103.011  147.326604   147.326604\n",
        "378  21902  25054  149.567  168.556836   168.556836\n",
        "137  27329  25054 -107.433  239.188472   239.188472\n",
        "\n",
        "[5 rows x 5 columns]"
       ]
      },
      {
       "output_type": "stream",
       "stream": "stdout",
       "text": [
        "\n",
        "41889 41889 342.628 657.867 2215.493\n",
        "     blob1  blob2       dt        dist  d_spacetime\n",
        "277  40200  41889   90.001  135.883122   135.883122\n",
        "387  40387  41889   81.930  151.699712   151.699712\n",
        "12   36633  41889  269.876  283.914799   283.914799\n",
        "45   41164  41889    7.135  307.940383   307.940383\n",
        "313  45396  41889 -201.971  335.447338   335.447338\n",
        "\n",
        "[5 rows x 5 columns]"
       ]
      },
      {
       "output_type": "stream",
       "stream": "stdout",
       "text": [
        "\n",
        "31978 31978 457.447 611.1 1690.414\n",
        "     blob1  blob2       dt        dist  d_spacetime\n",
        "193  30674  31978   59.588   63.730678    63.730678\n",
        "232  32776  31978  -48.274   93.597727    93.597727\n",
        "153  27387  31978  205.487  219.279145   219.279145\n",
        "359  26985  31978  220.520  237.773614   237.773614\n",
        "12   36633  31978 -255.203  259.286424   259.286424\n",
        "\n",
        "[5 rows x 5 columns]"
       ]
      },
      {
       "output_type": "stream",
       "stream": "stdout",
       "text": [
        "\n",
        "44026 44026 887.22 239.903 2339.489\n",
        "     blob1  blob2       dt        dist  d_spacetime\n",
        "1    47027  44026 -182.476  448.803368   448.803368\n",
        "26   43181  44026   47.400  460.591783   460.591783\n",
        "160  47780  44026 -213.961  585.716133   585.716133\n",
        "166  38414  44026  294.096  646.293332   646.293332\n",
        "105  52211  44026 -478.533  652.582480   652.582480\n",
        "\n",
        "[5 rows x 5 columns]"
       ]
      },
      {
       "output_type": "stream",
       "stream": "stdout",
       "text": [
        "\n",
        "44353 44353 694.833 170.168 2359.46\n",
        "     blob1  blob2       dt        dist  d_spacetime\n",
        "1    47027  44353 -162.505  539.344986   539.344986\n",
        "26   43181  44353   67.371  546.869027   546.869027\n",
        "277  40200  44353  233.968  651.146186   651.146186\n",
        "12   36633  44353  413.843  662.647435   662.647435\n",
        "387  40387  44353  225.897  672.008036   672.008036\n",
        "\n",
        "[5 rows x 5 columns]"
       ]
      },
      {
       "output_type": "stream",
       "stream": "stdout",
       "text": [
        "\n",
        "55122 55122 396.56 720.74 2978.895\n",
        "     blob1  blob2       dt        dist  d_spacetime\n",
        "157  52073  55122  162.929  207.322186   207.322186\n",
        "94   52790  55122  127.131  272.232693   272.232693\n",
        "47   59961  55122 -248.438  349.675556   349.675556\n",
        "19   54924  55122  -83.697  372.640828   372.640828\n",
        "329  48313  55122  386.234  469.610669   469.610669\n",
        "\n",
        "[5 rows x 5 columns]"
       ]
      },
      {
       "output_type": "stream",
       "stream": "stdout",
       "text": [
        "\n",
        "21157 21157 1041.105 784.094 1214.221\n",
        "     blob1  blob2       dt        dist  d_spacetime\n",
        "17   18218  21157  129.434  131.731608   131.731608\n",
        "268  18149  21157  133.738  162.109501   162.109501\n",
        "238  22060  21157  -35.189  164.112778   164.112778\n",
        "305  20634  21157   18.664  171.609952   171.609952\n",
        "317  20655  21157   17.833  172.557724   172.557724\n",
        "\n",
        "[5 rows x 5 columns]"
       ]
      },
      {
       "output_type": "stream",
       "stream": "stdout",
       "text": [
        "\n",
        "25056 25056 356.505 791.172 1391.31\n",
        "     blob1  blob2      dt        dist  d_spacetime\n",
        "222  23010  25056  94.184   97.057443    97.057443\n",
        "359  26985  25056 -78.584  177.778375   177.778375\n",
        "113  26126  25056 -45.683  184.440481   184.440481\n",
        "293  26018  25056 -42.070  191.268265   191.268265\n",
        "34   25840  25056 -34.078  193.752520   193.752520\n",
        "\n",
        "[5 rows x 5 columns]"
       ]
      },
      {
       "output_type": "stream",
       "stream": "stdout",
       "text": [
        "\n",
        "56190 56190 709.027 224.152 3029.129\n",
        "     blob1  blob2       dt        dist  d_spacetime\n",
        "206  57139  56190  -46.963  191.874696   191.874696\n",
        "266  64164  56190 -369.072  371.647670   371.647670\n",
        "110  65193  56190 -418.605  419.666555   419.666555\n",
        "246  65458  56190 -422.472  424.019184   424.019184\n",
        "240  65492  56190 -426.938  428.618100   428.618100\n",
        "\n",
        "[5 rows x 5 columns]"
       ]
      },
      {
       "output_type": "stream",
       "stream": "stdout",
       "text": [
        "\n",
        "9964 9964 1361.261 594.27 665.057\n",
        "     blob1  blob2       dt        dist  d_spacetime\n",
        "265   5084   9964  211.939  234.846632   234.846632\n",
        "368   6149   9964  163.339  319.096103   319.096103\n",
        "119   3116   9964  346.470  406.462327   406.462327\n",
        "337  14383   9964 -228.292  411.982164   411.982164\n",
        "353   6406   9964  152.207  412.071487   412.071487\n",
        "\n",
        "[5 rows x 5 columns]"
       ]
      },
      {
       "output_type": "stream",
       "stream": "stdout",
       "text": [
        "\n",
        "13411 13411 928.315 1168.113 840.688\n",
        "     blob1  blob2       dt        dist  d_spacetime\n",
        "344  13708  13411  -16.500  134.808682   134.808682\n",
        "144  16302  13411 -151.305  169.170791   169.170791\n",
        "373  10566  13411  146.798  209.363599   209.363599\n",
        "87   14000  13411  -34.398  248.628566   248.628566\n",
        "90   17166  13411 -208.200  279.545517   279.545517\n",
        "\n",
        "[5 rows x 5 columns]"
       ]
      },
      {
       "output_type": "stream",
       "stream": "stdout",
       "text": [
        "\n",
        "57725 57725 942.823 1038.87 3102.6\n",
        "     blob1  blob2       dt        dist  d_spacetime\n",
        "173  59532  57725 -100.229  102.309603   102.309603\n",
        "278  59493  57725  -98.167  107.590014   107.590014\n",
        "301  59463  57725  -96.264  116.954946   116.954946\n",
        "151  54603  57725  137.434  207.602844   207.602844\n",
        "348  54582  57725  151.771  211.222084   211.222084\n",
        "\n",
        "[5 rows x 5 columns]"
       ]
      },
      {
       "output_type": "stream",
       "stream": "stdout",
       "text": [
        "\n",
        "5672 5672 1250.51 1237.011 476.644\n",
        "     blob1  blob2       dt        dist  d_spacetime\n",
        "21    4827   5672   29.063   87.948381    87.948381\n",
        "52    3686   5672   86.021  125.518815   125.518815\n",
        "182   3361   5672  135.828  138.016384   138.016384\n",
        "13    3120   5672  114.621  174.245777   174.245777\n",
        "294   2957   5672  175.536  182.715111   182.715111\n",
        "\n",
        "[5 rows x 5 columns]"
       ]
      },
      {
       "output_type": "stream",
       "stream": "stdout",
       "text": [
        "\n",
        "49857 49857 736.128 983.512 2680.932\n",
        "     blob1  blob2       dt        dist  d_spacetime\n",
        "275  49865  49857   -1.639   20.729670    20.729670\n",
        "85   47845  49857  116.302  117.470254   117.470254\n",
        "42   47282  49857  137.773  143.947013   143.947013\n",
        "329  48313  49857   88.271  200.380185   200.380185\n",
        "59   46998  49857  159.912  205.437352   205.437352\n",
        "\n",
        "[5 rows x 5 columns]"
       ]
      },
      {
       "output_type": "stream",
       "stream": "stdout",
       "text": [
        "\n",
        "19631 19631 468.642 647.578 1142.125\n",
        "     blob1  blob2       dt        dist  d_spacetime\n",
        "20   17686  19631  -15.991  124.634163   124.634163\n",
        "283  22086  19631 -109.168  159.226779   159.226779\n",
        "141  22357  19631 -134.464  175.565796   175.565796\n",
        "222  23010  19631 -155.001  256.756106   256.756106\n",
        "34   25840  19631 -283.263  302.592789   302.592789\n",
        "\n",
        "[5 rows x 5 columns]"
       ]
      },
      {
       "output_type": "stream",
       "stream": "stdout",
       "text": [
        "\n",
        "59210 59210 964.501 1399.741 3183.501\n",
        "     blob1  blob2       dt        dist  d_spacetime\n",
        "163  62942  59210 -162.534  178.030343   178.030343\n",
        "336  60832  59210  -74.092  228.835179   228.835179\n",
        "286  54046  59210  263.511  267.704102   267.704102\n",
        "274  61354  59210  -94.628  324.961131   324.961131\n",
        "298  61399  59210  -96.766  340.919104   340.919104\n",
        "\n",
        "[5 rows x 5 columns]"
       ]
      },
      {
       "output_type": "stream",
       "stream": "stdout",
       "text": [
        "\n",
        "55611 55611 1701.834 1144.932 3003.918\n",
        "     blob1  blob2       dt        dist  d_spacetime\n",
        "5    58657  55611 -145.379  313.268482   313.268482\n",
        "44   58870  55611 -180.233  357.276426   357.276426\n",
        "303  57189  55611  -75.547  413.998456   413.998456\n",
        "189  51600  55611  218.588  442.966590   442.966590\n",
        "82   54391  55611   63.021  458.352654   458.352654\n",
        "\n",
        "[5 rows x 5 columns]"
       ]
      },
      {
       "output_type": "stream",
       "stream": "stdout",
       "text": [
        "\n",
        "53558 53558 934.966 976.29 2887.921\n",
        "     blob1  blob2       dt        dist  d_spacetime\n",
        "348  54582  53558  -62.908  114.645891   114.645891\n",
        "74   54522  53558  -60.239  123.786549   123.786549\n",
        "151  54603  53558  -77.245  128.896173   128.896173\n",
        "282  55880  53558 -129.279  208.824587   208.824587\n",
        "275  49865  53558  205.350  291.227681   291.227681\n",
        "\n",
        "[5 rows x 5 columns]"
       ]
      },
      {
       "output_type": "stream",
       "stream": "stdout",
       "text": [
        "\n",
        "41767 41767 1641.866 1060.303 2208.287\n",
        "     blob1  blob2       dt        dist  d_spacetime\n",
        "347  38428  41767  170.958  180.215484   180.215484\n",
        "364  38375  41767  175.097  182.344907   182.344907\n",
        "267  42451  41767  -42.009  333.964218   333.964218\n",
        "183  38931  41767  136.261  404.295866   404.295866\n",
        "254  46611  41767 -286.076  410.338591   410.338591\n",
        "\n",
        "[5 rows x 5 columns]"
       ]
      },
      {
       "output_type": "stream",
       "stream": "stdout",
       "text": [
        "\n",
        "42576 42576 815.329 1093.433 2257.526\n",
        "     blob1  blob2       dt        dist  d_spacetime\n",
        "243  41605  42576   55.046   55.582628    55.582628\n",
        "308  44345  42576 -102.489  131.411976   131.411976\n",
        "362  44537  42576 -111.833  148.306911   148.306911\n",
        "63   44260  42576  -96.601  164.053677   164.053677\n",
        "150  44759  42576 -119.469  166.190317   166.190317\n",
        "\n",
        "[5 rows x 5 columns]"
       ]
      },
      {
       "output_type": "stream",
       "stream": "stdout",
       "text": [
        "\n",
        "47529 47529 932.804 764.151 2541.89\n",
        "     blob1  blob2       dt        dist  d_spacetime\n",
        "160  47780  47529  -11.560   30.393504    30.393504\n",
        "1    47027  47529   19.925  127.364437   127.364437\n",
        "26   43181  47529  249.801  277.627672   277.627672\n",
        "42   47282  47529   -1.269  300.406254   300.406254\n",
        "85   47845  47529  -22.740  302.320390   302.320390\n",
        "\n",
        "[5 rows x 5 columns]"
       ]
      },
      {
       "output_type": "stream",
       "stream": "stdout",
       "text": [
        "\n",
        "12456 12456 444.387 639.198 787.046\n",
        "     blob1  blob2       dt        dist  d_spacetime\n",
        "386  11323  12456   58.061  306.520442   306.520442\n",
        "164  11660  12456   39.092  314.528815   314.528815\n",
        "251  11578  12456   41.160  315.134529   315.134529\n",
        "4     4381  12456  156.006  338.731090   338.731090\n",
        "202   8878  12456  172.196  341.120982   341.120982\n",
        "\n",
        "[5 rows x 5 columns]"
       ]
      },
      {
       "output_type": "stream",
       "stream": "stdout",
       "text": [
        "\n",
        "45456 45456 900.85 895.901 2420.995\n",
        "     blob1  blob2       dt        dist  d_spacetime\n",
        "150  44759  45456   44.000  155.192846   155.192846\n",
        "362  44537  45456   51.636  159.655521   159.655521\n",
        "308  44345  45456   60.980  168.272054   168.272054\n",
        "160  47780  45456 -132.455  183.726248   183.726248\n",
        "63   44260  45456   66.868  206.138101   206.138101\n",
        "\n",
        "[5 rows x 5 columns]"
       ]
      },
      {
       "output_type": "stream",
       "stream": "stdout",
       "text": [
        "\n",
        "34137 34137 1573.314 1798.768 1809.461\n",
        "     blob1  blob2       dt        dist  d_spacetime\n",
        "376  36613  34137 -128.398  146.940543   146.940543\n",
        "80   35344  34137  -62.029  168.864498   168.864498\n",
        "167  36475  34137 -119.368  185.012708   185.012708\n",
        "340  35617  34137  -75.322  226.248527   226.248527\n",
        "272  35709  34137  -81.197  240.114706   240.114706\n",
        "\n",
        "[5 rows x 5 columns]"
       ]
      },
      {
       "output_type": "stream",
       "stream": "stdout",
       "text": [
        "\n",
        "36277 36277 1445.87 1339.261 1918.259\n",
        "     blob1  blob2       dt        dist  d_spacetime\n",
        "14   38796  36277 -159.269  176.056175   176.056175\n",
        "123  39270  36277 -165.469  198.351661   198.351661\n",
        "360  39573  36277 -176.400  213.633234   213.633234\n",
        "142  40088  36277 -217.837  307.411410   307.411410\n",
        "364  38375  36277 -114.931  312.506706   312.506706\n",
        "\n",
        "[5 rows x 5 columns]"
       ]
      },
      {
       "output_type": "stream",
       "stream": "stdout",
       "text": [
        "\n",
        "3231 3231 630.864 874.169 326.986\n",
        "     blob1  blob2       dt        dist  d_spacetime\n",
        "314   2342   3231   89.729  107.626528   107.626528\n",
        "89    2193   3231   99.769  126.743249   126.743249\n",
        "208   2436   3231   79.928  157.635260   157.635260\n",
        "219   1996   3231  116.032  159.408414   159.408414\n",
        "195   6055   3231 -176.137  194.227731   194.227731\n",
        "\n",
        "[5 rows x 5 columns]"
       ]
      },
      {
       "output_type": "stream",
       "stream": "stdout",
       "text": [
        "\n",
        "52779 52779 1471.544 1465.603 2850.028\n",
        "     blob1  blob2       dt        dist  d_spacetime\n",
        "189  51600  52779   64.698   65.741760    65.741760\n",
        "98   51097  52779   95.630   95.748381    95.748381\n",
        "35   51043  52779  100.333  102.131480   102.131480\n",
        "342  48820  52779  232.113  287.821718   287.821718\n",
        "82   54391  52779  -90.869  298.067942   298.067942\n",
        "\n",
        "[5 rows x 5 columns]"
       ]
      },
      {
       "output_type": "stream",
       "stream": "stdout",
       "text": [
        "\n",
        "25055 25055 356.747 766.067 1391.31\n",
        "     blob1  blob2      dt        dist  d_spacetime\n",
        "222  23010  25055  94.184  105.620446   105.620446\n",
        "359  26985  25055 -78.584  155.740828   155.740828\n",
        "113  26126  25055 -45.683  160.268863   160.268863\n",
        "293  26018  25055 -42.070  166.868534   166.868534\n",
        "34   25840  25055 -34.078  169.177932   169.177932\n",
        "\n",
        "[5 rows x 5 columns]"
       ]
      },
      {
       "output_type": "stream",
       "stream": "stdout",
       "text": [
        "\n",
        "17182 17182 1648.821 1569.474 1034.092\n",
        "     blob1  blob2       dt        dist  d_spacetime\n",
        "171  19798  17182 -120.496  353.022931   353.022931\n",
        "71   21001  17182 -184.435  372.455828   372.455828\n",
        "338   9989  17182  367.373  377.099329   377.099329\n",
        "345  10018  17182  365.670  377.602219   377.602219\n",
        "169  19898  17182 -130.717  378.373718   378.373718\n",
        "\n",
        "[5 rows x 5 columns]"
       ]
      },
      {
       "output_type": "stream",
       "stream": "stdout",
       "text": [
        "\n",
        "47040 47040 1052.79 1423.577 2512.696\n",
        "     blob1  blob2       dt        dist  d_spacetime\n",
        "279  47039  47040   -1.528   17.707174    17.707174\n",
        "280  47617  47040  -34.770   85.152377    85.152377\n",
        "64   46873  47040  -31.792   93.238226    93.238226\n",
        "3    47333  47040 -108.564  178.143601   178.143601\n",
        "315  43543  47040  201.966  214.922405   214.922405\n",
        "\n",
        "[5 rows x 5 columns]"
       ]
      },
      {
       "output_type": "stream",
       "stream": "stdout",
       "text": [
        "\n",
        "56885 56885 706.652 202.995 3061.313\n",
        "     blob1  blob2       dt        dist  d_spacetime\n",
        "206  57139  56885  -14.779  207.238361   207.238361\n",
        "266  64164  56885 -336.888  338.817874   338.817874\n",
        "110  65193  56885 -386.421  388.126499   388.126499\n",
        "246  65458  56885 -390.288  393.387261   393.387261\n",
        "240  65492  56885 -394.754  398.116248   398.116248\n",
        "\n",
        "[5 rows x 5 columns]"
       ]
      },
      {
       "output_type": "stream",
       "stream": "stdout",
       "text": [
        "\n",
        "55869 55869 972.362 829.396 3015.765\n",
        "     blob1  blob2      dt        dist  d_spacetime\n",
        "282  55880  55869  -1.435   21.788723    21.788723\n",
        "151  54603  55869  50.599   83.702294    83.702294\n",
        "74   54522  55869  67.605   91.274767    91.274767\n",
        "348  54582  55869  64.936   99.637747    99.637747\n",
        "216  56232  55869 -19.763  198.827333   198.827333\n",
        "\n",
        "[5 rows x 5 columns]"
       ]
      },
      {
       "output_type": "stream",
       "stream": "stdout",
       "text": [
        "\n",
        "15571 15571 1008.523 870.41 951.057\n",
        "     blob1  blob2       dt        dist  d_spacetime\n",
        "268  18149  15571 -129.426  144.609544   144.609544\n",
        "27   12411  15571  147.869  150.126908   150.126908\n",
        "17   18218  15571 -133.730  151.253520   151.253520\n",
        "217  17342  15571  -91.801  156.949969   156.949969\n",
        "335  17442  15571  -95.401  159.006277   159.006277\n",
        "\n",
        "[5 rows x 5 columns]"
       ]
      },
      {
       "output_type": "stream",
       "stream": "stdout",
       "text": [
        "\n",
        "54047 54047 1029.067 1419.205 2918.533\n",
        "     blob1  blob2       dt        dist  d_spacetime\n",
        "286  54046  54047   -1.457   21.940701    21.940701\n",
        "6    51891  54047  118.668  144.817847   144.817847\n",
        "82   54391  54047  -22.364  280.290182   280.290182\n",
        "3    47333  54047  297.273  321.800897   321.800897\n",
        "143  49531  54047  243.974  347.221831   347.221831\n",
        "\n",
        "[5 rows x 5 columns]"
       ]
      },
      {
       "output_type": "stream",
       "stream": "stdout",
       "text": [
        "\n",
        "361 361 374.544 420.352 33.253\n",
        "     blob1  blob2       dt        dist  d_spacetime\n",
        "211     47    361   25.635  114.730567   114.730567\n",
        "116   1476    361 -131.429  168.213445   168.213445\n",
        "225     32    361   26.298  194.457369   194.457369\n",
        "92    1570    361 -138.198  213.600403   213.600403\n",
        "214     61    361   24.899  259.736441   259.736441\n",
        "\n",
        "[5 rows x 5 columns]"
       ]
      },
      {
       "output_type": "stream",
       "stream": "stdout",
       "text": [
        "\n",
        "11257 11257 993.369 1561.165 725.055\n",
        "     blob1  blob2       dt        dist  d_spacetime\n",
        "118  14449  11257 -176.628  196.633061   196.633061\n",
        "107   8407  11257  114.168  205.242084   205.242084\n",
        "15    6924  11257  189.469  364.438215   364.438215\n",
        "200   3588  11257  352.337  423.120405   423.120405\n",
        "373  10566  11257   31.165  435.150396   435.150396\n",
        "\n",
        "[5 rows x 5 columns]"
       ]
      },
      {
       "output_type": "stream",
       "stream": "stdout",
       "text": [
        "\n",
        "32350 32350 25.111 1819.031 1710.862\n",
        "     blob1  blob2       dt        dist  d_spacetime\n",
        "221  29609  32350  130.673  762.658093   762.658093\n",
        "224  29487  32350  135.085  784.751069   784.751069\n",
        "350  39732  32350 -392.267  887.646717   887.646717\n",
        "199  29045  32350  159.204  887.677082   887.677082\n",
        "33   18283  32350  621.203  917.940668   917.940668\n",
        "\n",
        "[5 rows x 5 columns]"
       ]
      },
      {
       "output_type": "stream",
       "stream": "stdout",
       "text": [
        "\n",
        "2345 2345 187.868 902.525 236.59\n",
        "     blob1  blob2      dt        dist  d_spacetime\n",
        "57    2938   2345 -64.397  202.207933   202.207933\n",
        "168   1599   2345  62.933  236.417688   236.417688\n",
        "95    2959   2345 -69.599  296.441435   296.441435\n",
        "39    1468   2345  48.899  298.504822   298.504822\n",
        "79    1506   2345  73.572  312.262545   312.262545\n",
        "\n",
        "[5 rows x 5 columns]"
       ]
      },
      {
       "output_type": "stream",
       "stream": "stdout",
       "text": [
        "\n",
        "34178 34178 882.486 795.536 1810.329\n",
        "     blob1  blob2       dt        dist  d_spacetime\n",
        "209  34260  34178   -5.030   21.541189    21.541189\n",
        "166  38414  34178 -235.064  237.225886   237.225886\n",
        "215  29395  34178  242.337  265.116389   265.116389\n",
        "41   34631  34178  -31.229  274.639840   274.639840\n",
        "295  29146  34178  254.010  278.259083   278.259083\n",
        "\n",
        "[5 rows x 5 columns]"
       ]
      },
      {
       "output_type": "stream",
       "stream": "stdout",
       "text": [
        "\n",
        "36455 36455 1384.066 1095.798 1927.528\n",
        "     blob1  blob2       dt        dist  d_spacetime\n",
        "347  38428  36455 -109.801  230.995214   230.995214\n",
        "364  38375  36455 -105.662  257.472497   257.472497\n",
        "183  38931  36455 -144.498  273.516565   273.516565\n",
        "142  40088  36455 -208.568  287.858151   287.858151\n",
        "14   38796  36455 -150.000  358.359955   358.359955\n",
        "\n",
        "[5 rows x 5 columns]"
       ]
      },
      {
       "output_type": "stream",
       "stream": "stdout",
       "text": [
        "\n",
        "887 887 1419.761 1399.86 85.318\n",
        "     blob1  blob2       dt        dist  d_spacetime\n",
        "379    784    887   15.566  124.885284   124.885284\n",
        "237     34    887   78.438  196.889959   196.889959\n",
        "381    645    887   26.927  234.694793   234.694793\n",
        "145    872    887   -4.125  238.451337   238.451337\n",
        "155   2734    887 -182.003  256.905691   256.905691\n",
        "\n",
        "[5 rows x 5 columns]"
       ]
      },
      {
       "output_type": "stream",
       "stream": "stdout",
       "text": [
        "\n",
        "2821 2821 1223.656 714.638 277.05\n",
        "     blob1  blob2       dt        dist  d_spacetime\n",
        "383   1443   2821  122.661  161.903719   161.903719\n",
        "385   1456   2821  121.531  165.716615   165.716615\n",
        "61    1303   2821  133.934  189.665238   189.665238\n",
        "265   5084   2821 -176.068  206.660456   206.660456\n",
        "304   1137   2821  165.528  223.402368   223.402368\n",
        "\n",
        "[5 rows x 5 columns]"
       ]
      },
      {
       "output_type": "stream",
       "stream": "stdout",
       "text": [
        "\n",
        "63767 63767 1080.94 1010.506 3381.534\n",
        "     blob1  blob2       dt        dist  d_spacetime\n",
        "301  59463  63767  182.670  200.626972   200.626972\n",
        "278  59493  63767  180.767  206.443078   206.443078\n",
        "173  59532  63767  178.705  215.681623   215.681623\n",
        "349  59217  63767  197.383  220.366199   220.366199\n",
        "192  63639  63767   -0.201  251.192043   251.192043\n",
        "\n",
        "[5 rows x 5 columns]"
       ]
      },
      {
       "output_type": "stream",
       "stream": "stdout",
       "text": [
        "\n",
        "13104 13104 1178.104 2026.333 824.29\n",
        "     blob1  blob2       dt        dist  d_spacetime\n",
        "115  11432  13104   81.072  293.118651   293.118651\n",
        "46   11012  13104   91.449  313.785060   313.785060\n",
        "288  10831  13104  115.969  426.434716   426.434716\n",
        "118  14449  13104  -77.393  431.300160   431.300160\n",
        "9     3193  13104  326.009  447.731387   447.731387\n",
        "\n",
        "[5 rows x 5 columns]"
       ]
      },
      {
       "output_type": "stream",
       "stream": "stdout",
       "text": [
        "\n",
        "51648 51648 1424.612 502.284 2780.663\n",
        "     blob1  blob2       dt        dist  d_spacetime\n",
        "105  52211  51648  -37.359  178.439711   178.439711\n",
        "161  50594  51648   54.835  345.803967   345.803967\n",
        "172  58149  51648 -346.156  349.831146   349.831146\n",
        "191  50546  51648   58.908  369.356469   369.356469\n",
        "218  56443  51648 -263.066  400.804937   400.804937\n",
        "\n",
        "[5 rows x 5 columns]"
       ]
      },
      {
       "output_type": "stream",
       "stream": "stdout",
       "text": [
        "\n",
        "37472 37472 343.032 660.872 1977.958\n",
        "     blob1  blob2       dt        dist  d_spacetime\n",
        "12   36633  37472   32.341   95.388364    95.388364\n",
        "277  40200  37472 -147.534  178.117269   178.117269\n",
        "387  40387  37472 -155.605  199.783430   199.783430\n",
        "232  32776  37472  239.270  252.161050   252.161050\n",
        "193  30674  37472  347.132  367.596116   367.596116\n",
        "\n",
        "[5 rows x 5 columns]"
       ]
      },
      {
       "output_type": "stream",
       "stream": "stdout",
       "text": [
        "\n",
        "50058 50058 507.651 1033.445 2692.259\n",
        "     blob1  blob2       dt        dist  d_spacetime\n",
        "22   47092  50058   55.896   78.753568    78.753568\n",
        "329  48313  50058   99.598  155.918900   155.918900\n",
        "247  48018  50058  117.999  160.218705   160.218705\n",
        "356  47939  50058  124.963  191.226080   191.226080\n",
        "94   52790  50058 -159.505  196.421388   196.421388\n",
        "\n",
        "[5 rows x 5 columns]"
       ]
      },
      {
       "output_type": "stream",
       "stream": "stdout",
       "text": [
        "\n",
        "24379 24379 805.057 1064.543 1362.555\n",
        "     blob1  blob2       dt        dist  d_spacetime\n",
        "285  23120  24379   61.168   72.681167    72.681167\n",
        "289  23045  24379   65.495   76.481731    76.481731\n",
        "179  20405  24379  171.298  175.967285   175.967285\n",
        "242  20570  24379  167.895  176.339683   176.339683\n",
        "7    21218  24379  145.034  176.850799   176.850799\n",
        "\n",
        "[5 rows x 5 columns]"
       ]
      },
      {
       "output_type": "stream",
       "stream": "stdout",
       "text": [
        "\n",
        "53772 53772 934.956 1383.403 2901.1\n",
        "     blob1  blob2       dt        dist  d_spacetime\n",
        "286  54046  53772  -18.890   81.891518    81.891518\n",
        "6    51891  53772  101.235  103.261287   103.261287\n",
        "3    47333  53772  279.840  288.586168   288.586168\n",
        "82   54391  53772  -39.797  351.604886   351.604886\n",
        "143  49531  53772  226.541  360.792236   360.792236\n",
        "\n",
        "[5 rows x 5 columns]"
       ]
      },
      {
       "output_type": "stream",
       "stream": "stdout",
       "text": [
        "\n",
        "29163 29163 804.691 1065.129 1555.794\n",
        "     blob1  blob2      dt        dist  d_spacetime\n",
        "67   30336  29163 -61.160   77.331017    77.331017\n",
        "75   29441  29163 -18.064  144.623308   144.623308\n",
        "316  28650  29163  23.818  161.610304   161.610304\n",
        "196  27858  29163  50.494  175.356203   175.356203\n",
        "199  29045  29163   4.136  217.969611   217.969611\n",
        "\n",
        "[5 rows x 5 columns]"
       ]
      },
      {
       "output_type": "stream",
       "stream": "stdout",
       "text": [
        "\n",
        "42009 42009 1483.953 1294.586 2222.98\n",
        "     blob1  blob2       dt        dist  d_spacetime\n",
        "267  42451  42009  -27.316   80.911799    80.911799\n",
        "14   38796  42009  145.452  190.828190   190.828190\n",
        "360  39573  42009  128.321  204.074889   204.074889\n",
        "123  39270  42009  139.252  205.186403   205.186403\n",
        "11   45403  42009 -195.347  244.570166   244.570166\n",
        "\n",
        "[5 rows x 5 columns]"
       ]
      },
      {
       "output_type": "stream",
       "stream": "stdout",
       "text": [
        "\n",
        "33094 33094 1360.769 1826.044 1751.791\n",
        "     blob1  blob2       dt        dist  d_spacetime\n",
        "272  35709  33094 -138.867  150.909650   150.909650\n",
        "333  35767  33094 -140.067  152.234833   152.234833\n",
        "340  35617  33094 -132.992  163.811481   163.811481\n",
        "167  36475  33094 -177.038  213.421964   213.421964\n",
        "80   35344  33094 -119.699  239.241510   239.241510\n",
        "\n",
        "[5 rows x 5 columns]"
       ]
      },
      {
       "output_type": "stream",
       "stream": "stdout",
       "text": [
        "\n",
        "1587 1587 1293.697 487.134 169.651\n",
        "     blob1  blob2       dt        dist  d_spacetime\n",
        "385   1456   1587   14.132  129.220033   129.220033\n",
        "383   1443   1587   15.262  139.312414   139.312414\n",
        "119   3116   1587 -148.936  173.086129   173.086129\n",
        "61    1303   1587   26.535  265.749177   265.749177\n",
        "58    2057   1587  -46.305  293.510813   293.510813\n",
        "\n",
        "[5 rows x 5 columns]"
       ]
      },
      {
       "output_type": "stream",
       "stream": "stdout",
       "text": [
        "\n",
        "35783 35783 1378.325 1341.127 1891.992\n",
        "     blob1  blob2       dt        dist  d_spacetime\n",
        "14   38796  35783 -185.536  212.643296   212.643296\n",
        "123  39270  35783 -191.736  238.114676   238.114676\n",
        "360  39573  35783 -202.667  254.974486   254.974486\n",
        "276  33143  35783  136.773  281.312580   281.312580\n",
        "142  40088  35783 -244.104  292.032032   292.032032\n",
        "\n",
        "[5 rows x 5 columns]"
       ]
      },
      {
       "output_type": "stream",
       "stream": "stdout",
       "text": [
        "\n",
        "45013 45013 978.221 1665.383 2391.427\n",
        "     blob1  blob2       dt        dist  d_spacetime\n",
        "55   44867  45013    2.304   26.913000    26.913000\n",
        "64   46873  45013 -153.061  240.252534   240.252534\n",
        "280  47617  45013 -156.039  254.907046   254.907046\n",
        "143  49531  45013 -283.132  283.167602   283.167602\n",
        "279  47039  45013 -122.797  286.438347   286.438347\n",
        "\n",
        "[5 rows x 5 columns]"
       ]
      },
      {
       "output_type": "stream",
       "stream": "stdout",
       "text": [
        "\n",
        "63917 63917 829.209 909.816 3387.369\n",
        "     blob1  blob2      dt        dist  d_spacetime\n",
        "192  63639  63917   5.634   23.392613    23.392613\n",
        "245  64596  63917 -32.229  102.810691   102.810691\n",
        "323  65685  63917 -76.500  113.334193   113.334193\n",
        "139  65840  63917 -93.633  114.437342   114.437342\n",
        "355  66054  63917 -94.429  122.043844   122.043844\n",
        "\n",
        "[5 rows x 5 columns]"
       ]
      },
      {
       "output_type": "stream",
       "stream": "stdout",
       "text": [
        "\n",
        "31475 31475 1450.4 1349.201 1669.121\n",
        "     blob1  blob2       dt        dist  d_spacetime\n",
        "108  27607  31475  167.369  169.354531   169.354531\n",
        "32   24100  31475  199.728  200.269993   200.269993\n",
        "137  27329  31475  170.427  325.218216   325.218216\n",
        "276  33143  31475  -86.098  329.604769   329.604769\n",
        "10   29978  31475  -83.206  340.029129   340.029129\n",
        "\n",
        "[5 rows x 5 columns]"
       ]
      },
      {
       "output_type": "stream",
       "stream": "stdout",
       "text": [
        "\n",
        "3510 3510 924.44 1389.76 355.253\n",
        "     blob1  blob2       dt        dist  d_spacetime\n",
        "365   2857   3510   71.136   76.547439    76.547439\n",
        "363   2597   3510   98.034  148.992166   148.992166\n",
        "158   2162   3510  133.964  176.520082   176.520082\n",
        "269   1629   3510  180.796  218.937653   218.937653\n",
        "133   1469   3510  198.029  226.546540   226.546540\n",
        "\n",
        "[5 rows x 5 columns]"
       ]
      },
      {
       "output_type": "stream",
       "stream": "stdout",
       "text": [
        "\n",
        "46847 46847 976.202 1618.393 2501.527\n",
        "     blob1  blob2       dt        dist  d_spacetime\n",
        "55   44867  46847  112.404  134.168025   134.168025\n",
        "64   46873  46847  -42.961  144.895194   144.895194\n",
        "280  47617  46847  -45.939  161.422338   161.422338\n",
        "143  49531  46847 -173.032  178.185962   178.185962\n",
        "279  47039  46847  -12.697  214.302426   214.302426\n",
        "\n",
        "[5 rows x 5 columns]"
       ]
      },
      {
       "output_type": "stream",
       "stream": "stdout",
       "text": [
        "\n",
        "21 21 1159.517 1515.235 2.354\n",
        "     blob1  blob2       dt        dist  d_spacetime\n",
        "145    872     21  -87.089  120.276425   120.276425\n",
        "237     34     21   -4.526  162.664556   162.664556\n",
        "264    829     21  -74.725  205.549302   205.549302\n",
        "271    798     21  -70.185  216.211798   216.211798\n",
        "16    1634     21 -176.429  223.118517   223.118517\n",
        "\n",
        "[5 rows x 5 columns]"
       ]
      },
      {
       "output_type": "stream",
       "stream": "stdout",
       "text": [
        "\n",
        "14728 14728 964.686 776.289 910.019\n",
        "     blob1  blob2       dt        dist  d_spacetime\n",
        "335  17442  14728 -136.439  144.078168   144.078168\n",
        "217  17342  14728 -132.839  157.554530   157.554530\n",
        "27   12411  14728  106.831  160.333994   160.333994\n",
        "17   18218  14728 -174.768  194.075978   194.075978\n",
        "268  18149  14728 -170.464  222.646942   222.646942\n",
        "\n",
        "[5 rows x 5 columns]"
       ]
      },
      {
       "output_type": "stream",
       "stream": "stdout",
       "text": [
        "\n",
        "43404 43404 770.53 1548.486 2301.594\n",
        "     blob1  blob2      dt        dist  d_spacetime\n",
        "244  42942  43404  23.667  163.650578   163.650578\n",
        "40   42560  43404  27.431  185.194236   185.194236\n",
        "371  43321  43404   6.632  222.540126   222.540126\n",
        "149  44825  43404 -91.971  265.380972   265.380972\n",
        "55   44867  43404 -87.529  272.979405   272.979405\n",
        "\n",
        "[5 rows x 5 columns]"
       ]
      },
      {
       "output_type": "stream",
       "stream": "stdout",
       "text": [
        "\n",
        "47005 47005 987.658 1636.18 2511.415\n",
        "     blob1  blob2       dt        dist  d_spacetime\n",
        "55   44867  47005  122.292  134.002553   134.002553\n",
        "64   46873  47005  -33.073  159.297684   159.297684\n",
        "143  49531  47005 -163.144  165.296667   165.296667\n",
        "280  47617  47005  -36.051  175.936887   175.936887\n",
        "279  47039  47005   -2.809  228.216329   228.216329\n",
        "\n",
        "[5 rows x 5 columns]"
       ]
      },
      {
       "output_type": "stream",
       "stream": "stdout",
       "text": [
        "\n",
        "42857 42857 912.505 1347.706 2269.964\n",
        "     blob1  blob2      dt        dist  d_spacetime\n",
        "371  43321  42857 -24.998   34.326115    34.326115\n",
        "281  42511  42857  15.673  106.065327   106.065327\n",
        "315  43543  42857 -40.766  113.964232   113.964232\n",
        "40   42560  42857  -4.199  142.191803   142.191803\n",
        "197  41950  42857  49.143  155.270092   155.270092\n",
        "\n",
        "[5 rows x 5 columns]"
       ]
      },
      {
       "output_type": "stream",
       "stream": "stdout",
       "text": [
        "\n",
        "53655 53655 567.552 1041.038 2892.698\n",
        "     blob1  blob2       dt        dist  d_spacetime\n",
        "94   52790  53655   40.934  132.210869   132.210869\n",
        "19   54924  53655 -169.894  169.902006   169.902006\n",
        "275  49865  53655  210.127  268.406712   268.406712\n",
        "22   47092  53655  256.335  272.728928   272.728928\n",
        "329  48313  53655  300.037  320.607843   320.607843\n",
        "\n",
        "[5 rows x 5 columns]"
       ]
      },
      {
       "output_type": "stream",
       "stream": "stdout",
       "text": [
        "\n",
        "1331 1331 1339.317 2173.859 135.719\n",
        "     blob1  blob2       dt        dist  d_spacetime\n",
        "117    210   1331  104.944  128.278001   128.278001\n",
        "229   1435   1331  -15.070  169.614446   169.614446\n",
        "131    216   1331  115.126  308.240952   308.240952\n",
        "284   2924   1331 -161.238  383.135103   383.135103\n",
        "97     270   1331  103.937  407.800922   407.800922\n",
        "\n",
        "[5 rows x 5 columns]"
       ]
      },
      {
       "output_type": "stream",
       "stream": "stdout",
       "text": [
        "\n",
        "12155 12155 435.404 663.82 774.524\n",
        "     blob1  blob2       dt        dist  d_spacetime\n",
        "386  11323  12155   45.539  292.481803   292.481803\n",
        "202   8878  12155  159.674  317.953230   317.953230\n",
        "4     4381  12155  143.484  323.502145   323.502145\n",
        "164  11660  12155   26.570  326.847773   326.847773\n",
        "251  11578  12155   28.638  327.377385   327.377385\n",
        "\n",
        "[5 rows x 5 columns]"
       ]
      },
      {
       "output_type": "stream",
       "stream": "stdout",
       "text": [
        "\n",
        "65051 65051 742.099 391.344 3436.395\n",
        "     blob1  blob2      dt        dist  d_spacetime\n",
        "273  65050  65051  -1.736   21.617349    21.617349\n",
        "262  65668  65051 -28.003  152.815676   152.815676\n",
        "300  65574  65051 -21.404  153.848820   153.848820\n",
        "240  65492  65051 -19.672  154.085111   154.085111\n",
        "246  65458  65051 -15.206  156.038613   156.038613\n",
        "\n",
        "[5 rows x 5 columns]"
       ]
      },
      {
       "output_type": "stream",
       "stream": "stdout",
       "text": [
        "\n",
        "62779 62779 16.895 1983.76 3335.468\n",
        "     blob1  blob2       dt        dist  d_spacetime\n",
        "235  64282  62779  -70.926  402.594644   402.594644\n",
        "291  67125  62779 -196.801  406.534382   406.534382\n",
        "130  67196  62779 -218.323  411.259501   411.259501\n",
        "311  67070  62779 -193.535  419.473007   419.473007\n",
        "159  59797  62779  115.639  424.984261   424.984261\n",
        "\n",
        "[5 rows x 5 columns]"
       ]
      },
      {
       "output_type": "stream",
       "stream": "stdout",
       "text": [
        "\n",
        "16504 16504 722.139 1008.076 1001.259\n",
        "     blob1  blob2       dt        dist  d_spacetime\n",
        "90   17166  16504  -47.629   90.203133    90.203133\n",
        "187  18161  16504  -84.601  100.005643   100.005643\n",
        "185  18324  16504  -92.534  118.269484   118.269484\n",
        "351  19669  16504 -142.801  144.969199   144.969199\n",
        "380  16494  16504    0.339  165.192455   165.192455\n",
        "\n",
        "[5 rows x 5 columns]"
       ]
      },
      {
       "output_type": "stream",
       "stream": "stdout",
       "text": [
        "\n",
        "6537 6537 1247.2 172.335 518.25\n",
        "     blob1  blob2       dt        dist  d_spacetime\n",
        "353   6406   6537    5.400   59.812098    59.812098\n",
        "368   6149   6537   16.532  170.251652   170.251652\n",
        "128   2919   6537  222.765  246.954831   246.954831\n",
        "119   3116   6537  199.663  326.363425   326.363425\n",
        "109   2314   6537  258.060  399.999561   399.999561\n",
        "\n",
        "[5 rows x 5 columns]"
       ]
      },
      {
       "output_type": "stream",
       "stream": "stdout",
       "text": [
        "\n",
        "63374 63374 971.654 711.268 3361.166\n",
        "     blob1  blob2      dt        dist  d_spacetime\n",
        "234  65362  63374 -89.290  183.986233   183.986233\n",
        "241  65448  63374 -93.157  185.582357   185.582357\n",
        "352  65536  63374 -94.035  190.051881   190.051881\n",
        "231  65575  63374 -99.364  210.444229   210.444229\n",
        "374  65648  63374 -99.769  210.793486   210.793486\n",
        "\n",
        "[5 rows x 5 columns]"
       ]
      },
      {
       "output_type": "stream",
       "stream": "stdout",
       "text": [
        "\n",
        "2934 2934 1350.903 195.194 296.34\n",
        "     blob1  blob2       dt        dist  d_spacetime\n",
        "128   2919   2934    0.855    1.663347     1.663347\n",
        "109   2314   2934   36.150  208.019869   208.019869\n",
        "353   6406   2934 -216.510  246.342382   246.342382\n",
        "119   3116   2934  -22.247  266.247283   266.247283\n",
        "368   6149   2934 -205.378  269.859670   269.859670\n",
        "\n",
        "[5 rows x 5 columns]"
       ]
      },
      {
       "output_type": "stream",
       "stream": "stdout",
       "text": [
        "\n",
        "50676 50676 731.509 1066.279 2726.026\n",
        "     blob1  blob2       dt        dist  d_spacetime\n",
        "275  49865  50676   43.455   76.510909    76.510909\n",
        "85   47845  50676  161.396  184.210845   184.210845\n",
        "59   46998  50676  205.006  214.312669   214.312669\n",
        "42   47282  50676  182.867  214.450195   214.450195\n",
        "247  48018  50676  151.766  230.390878   230.390878\n",
        "\n",
        "[5 rows x 5 columns]"
       ]
      },
      {
       "output_type": "stream",
       "stream": "stdout",
       "text": [
        "\n",
        "38460 38460 811.341 1068.192 2038.646\n",
        "     blob1  blob2       dt        dist  d_spacetime\n",
        "106  38445  38460    0.268    0.340946     0.340946\n",
        "194  37836  38460   32.417   44.047929    44.047929\n",
        "243  41605  38460 -163.834  166.462082   166.462082\n",
        "41   34631  38460  197.088  200.045370   200.045370\n",
        "152  42284  38460 -200.711  264.874471   264.874471\n",
        "\n",
        "[5 rows x 5 columns]"
       ]
      },
      {
       "output_type": "stream",
       "stream": "stdout",
       "text": [
        "\n",
        "46542 46542 484.36 1082.86 2487.959\n",
        "     blob1  blob2       dt        dist  d_spacetime\n",
        "18   45363  46542   12.561   21.725039    21.725039\n",
        "247  48018  46542  -86.301  126.811192   126.811192\n",
        "356  47939  46542  -79.337  130.593867   130.593867\n",
        "22   47092  46542 -148.404  148.410129   148.410129\n",
        "100  46173  46542   16.094  198.209039   198.209039\n",
        "\n",
        "[5 rows x 5 columns]"
       ]
      },
      {
       "output_type": "stream",
       "stream": "stdout",
       "text": [
        "\n",
        "307 307 1702.746 1463.211 29.781\n",
        "     blob1  blob2      dt        dist  d_spacetime\n",
        "379    784    307 -39.971  204.045915   204.045915\n",
        "381    645    307 -28.610  225.570874   225.570874\n",
        "331    556    307 -21.940  269.698168   269.698168\n",
        "237     34    307  22.901  394.463624   394.463624\n",
        "97     270    307  -2.001  404.687840   404.687840\n",
        "\n",
        "[5 rows x 5 columns]"
       ]
      },
      {
       "output_type": "stream",
       "stream": "stdout",
       "text": [
        "\n",
        "28401 28401 1422.36 1339.752 1521.327\n",
        "     blob1  blob2       dt        dist  d_spacetime\n",
        "108  27607  28401   19.575   20.158539    20.158539\n",
        "32   24100  28401   51.934   54.140324    54.140324\n",
        "99   22453  28401  231.206  231.276556   231.276556\n",
        "137  27329  28401   22.633  248.729179   248.729179\n",
        "25   26426  28401   68.700  278.143424   278.143424\n",
        "\n",
        "[5 rows x 5 columns]"
       ]
      },
      {
       "output_type": "stream",
       "stream": "stdout",
       "text": [
        "\n",
        "985 985 1218.649 1382.282 95.518\n",
        "     blob1  blob2       dt        dist  d_spacetime\n",
        "145    872    985    6.075   64.160137    64.160137\n",
        "162   2380    985 -143.396  151.862903   151.862903\n",
        "30    1439    985  -56.535  168.801430   168.801430\n",
        "170   2423    985 -149.669  172.623391   172.623391\n",
        "43    2187    985 -131.699  174.267538   174.267538\n",
        "\n",
        "[5 rows x 5 columns]"
       ]
      },
      {
       "output_type": "stream",
       "stream": "stdout",
       "text": [
        "\n",
        "30186 30186 1025.702 851.058 1602.492\n",
        "     blob1  blob2       dt        dist  d_spacetime\n",
        "295  29146  30186   46.173   83.949292    83.949292\n",
        "215  29395  30186   34.500  131.468886   131.468886\n",
        "181  28090  30186   89.867  173.208753   173.208753\n",
        "102  27001  30186  130.865  206.044686   206.044686\n",
        "309  27589  30186  112.066  215.878030   215.878030\n",
        "\n",
        "[5 rows x 5 columns]"
       ]
      },
      {
       "output_type": "stream",
       "stream": "stdout",
       "text": [
        "\n",
        "1710 1710 1221.826 23.685 180.687\n",
        "     blob1  blob2       dt        dist  d_spacetime\n",
        "128   2919   1710 -114.798  244.475477   244.475477\n",
        "353   6406   1710 -332.163  392.115861   392.115861\n",
        "109   2314   1710  -79.503  421.911428   421.911428\n",
        "119   3116   1710 -137.900  428.812628   428.812628\n",
        "368   6149   1710 -321.031  453.024169   453.024169\n",
        "\n",
        "[5 rows x 5 columns]"
       ]
      },
      {
       "output_type": "stream",
       "stream": "stdout",
       "text": [
        "\n",
        "65589 65589 1702.386 1665.3 3457.257\n",
        "     blob1  blob2       dt        dist  d_spacetime\n",
        "44   58870  65589  273.106  374.024900   374.024900\n",
        "5    58657  65589  307.960  419.031216   419.031216\n",
        "367  67233  65589  -78.842  533.261285   533.261285\n",
        "372  67034  65589  -69.339  537.557926   537.557926\n",
        "68   65945  65589  -67.643  539.417186   539.417186\n",
        "\n",
        "[5 rows x 5 columns]"
       ]
      },
      {
       "output_type": "stream",
       "stream": "stdout",
       "text": [
        "\n",
        "12 12 910.175 871.926 0.885\n",
        "     blob1  blob2       dt        dist  d_spacetime\n",
        "226     35     12   -6.463   80.000746    80.000746\n",
        "147    768     12  -66.604  228.418098   228.418098\n",
        "304   1137     12 -110.637  235.586577   235.586577\n",
        "23    2411     12 -240.223  241.935526   241.935526\n",
        "328    746     12  -64.717  249.242301   249.242301\n",
        "\n",
        "[5 rows x 5 columns]"
       ]
      },
      {
       "output_type": "stream",
       "stream": "stdout",
       "text": [
        "\n",
        "788 788 605.501 925.356 70.286\n",
        "     blob1  blob2       dt        dist  d_spacetime\n",
        "50     777    788   -3.801   72.306567    72.306567\n",
        "72     554    788   16.896   87.790109    87.790109\n",
        "314   2342    788 -166.971  166.992991   166.992991\n",
        "73     532    788   18.099  177.449766   177.449766\n",
        "111    425    788   26.731  180.290142   180.290142\n",
        "\n",
        "[5 rows x 5 columns]"
       ]
      },
      {
       "output_type": "stream",
       "stream": "stdout",
       "text": [
        "\n",
        "23329 23329 769.496 1049.866 1311.46\n",
        "     blob1  blob2       dt        dist  d_spacetime\n",
        "285  23120  23329   10.073   19.683535    19.683535\n",
        "289  23045  23329   14.400   22.728278    22.728278\n",
        "242  20570  23329  116.800  119.402016   119.402016\n",
        "179  20405  23329  120.203  120.224654   120.224654\n",
        "7    21218  23329   93.939  139.918212   139.918212\n",
        "\n",
        "[5 rows x 5 columns]"
       ]
      },
      {
       "output_type": "stream",
       "stream": "stdout",
       "text": [
        "\n",
        "21340 21340 833.605 1010.168 1219.457\n",
        "     blob1  blob2      dt        dist  d_spacetime\n",
        "7    21218  21340   1.936   43.331028    43.331028\n",
        "242  20570  21340  24.797   71.438799    71.438799\n",
        "179  20405  21340  28.200   82.574517    82.574517\n",
        "289  23045  21340 -77.603   98.156742    98.156742\n",
        "285  23120  21340 -81.930  101.927776   101.927776\n",
        "\n",
        "[5 rows x 5 columns]"
       ]
      },
      {
       "output_type": "stream",
       "stream": "stdout",
       "text": [
        "\n",
        "19468 19468 455.137 1169.2 1135.884\n",
        "     blob1  blob2       dt        dist  d_spacetime\n",
        "388  19846  19468  -16.575  130.191909   130.191909\n",
        "326  19082  19468   18.393  130.549912   130.549912\n",
        "380  16494  19468  134.964  207.080126   207.080126\n",
        "204  16263  19468  143.507  212.664506   212.664506\n",
        "33   18283  19468   46.225  291.187620   291.187620\n",
        "\n",
        "[5 rows x 5 columns]"
       ]
      },
      {
       "output_type": "stream",
       "stream": "stdout",
       "text": [
        "\n",
        "40905 40905 1198.345 1371.003 2159.158\n",
        "     blob1  blob2      dt        dist  d_spacetime\n",
        "384  40748  40905   7.468    8.917311     8.917311\n",
        "310  40779  40905   4.563    8.981526     8.981526\n",
        "256  41285  40905 -26.069  126.498193   126.498193\n",
        "142  40088  40905  23.062  140.200601   140.200601\n",
        "197  41950  40905 -61.663  163.758452   163.758452\n",
        "\n",
        "[5 rows x 5 columns]"
       ]
      },
      {
       "output_type": "stream",
       "stream": "stdout",
       "text": [
        "\n",
        "9495 9495 1042.182 1276.397 643.669\n",
        "     blob1  blob2       dt        dist  d_spacetime\n",
        "107   8407   9495   32.782  127.235503   127.235503\n",
        "373  10566   9495  -50.221  153.668865   153.668865\n",
        "227   6821   9495  109.480  194.550827   194.550827\n",
        "287   4423   9495  220.696  248.195426   248.195426\n",
        "21    4827   9495  196.088  271.656251   271.656251\n",
        "\n",
        "[5 rows x 5 columns]"
       ]
      },
      {
       "output_type": "stream",
       "stream": "stdout",
       "text": [
        "\n",
        "65851 65851 645.467 627.977 3471.101\n",
        "     blob1  blob2      dt        dist  d_spacetime\n",
        "135  65739  65851   0.403   21.479633    21.479633\n",
        "343  65403  65851  21.703  103.266473   103.266473\n",
        "138  65350  65851  24.171  127.352564   127.352564\n",
        "234  65362  65851  20.645  189.333412   189.333412\n",
        "241  65448  65851  16.778  201.992741   201.992741\n",
        "\n",
        "[5 rows x 5 columns]"
       ]
      },
      {
       "output_type": "stream",
       "stream": "stdout",
       "text": [
        "\n",
        "10154 10154 1223.817 394.677 674.245\n",
        "     blob1  blob2       dt        dist  d_spacetime\n",
        "368   6149  10154  172.527  183.169744   183.169744\n",
        "353   6406  10154  161.395  230.125682   230.125682\n",
        "119   3116  10154  355.658  357.389527   357.389527\n",
        "265   5084  10154  221.127  383.787843   383.787843\n",
        "128   2919  10154  378.760  445.937199   445.937199\n",
        "\n",
        "[5 rows x 5 columns]"
       ]
      },
      {
       "output_type": "stream",
       "stream": "stdout",
       "text": [
        "\n",
        "52676 52676 484.069 909.018 2846.699\n",
        "     blob1  blob2       dt        dist  d_spacetime\n",
        "94   52790  52676   -5.065   47.832990    47.832990\n",
        "19   54924  52676 -215.893  266.427761   266.427761\n",
        "329  48313  52676  254.038  267.296032   267.296032\n",
        "22   47092  52676  210.336  273.651011   273.651011\n",
        "157  52073  52676   30.733  288.804140   288.804140\n",
        "\n",
        "[5 rows x 5 columns]"
       ]
      },
      {
       "output_type": "stream",
       "stream": "stdout",
       "text": [
        "\n",
        "6982 6982 1271.866 1421.91 536.655\n",
        "     blob1  blob2       dt        dist  d_spacetime\n",
        "15    6924   6982    1.069    1.117673     1.117673\n",
        "21    4827   6982   89.074  145.609446   145.609446\n",
        "200   3588   6982  163.937  181.156980   181.156980\n",
        "52    3686   6982  146.032  182.645215   182.645215\n",
        "223   3304   6982  201.970  216.599117   216.599117\n",
        "\n",
        "[5 rows x 5 columns]"
       ]
      },
      {
       "output_type": "stream",
       "stream": "stdout",
       "text": [
        "\n",
        "47816 47816 477.124 1244.263 2556.563\n",
        "     blob1  blob2      dt        dist  d_spacetime\n",
        "356  47939  47816 -10.733   85.677907    85.677907\n",
        "302  46526  47816  68.815   86.347710    86.347710\n",
        "296  46543  47816  67.274  100.412191   100.412191\n",
        "100  46173  47816  84.698  123.591367   123.591367\n",
        "247  48018  47816 -17.697  152.078499   152.078499\n",
        "\n",
        "[5 rows x 5 columns]"
       ]
      },
      {
       "output_type": "stream",
       "stream": "stdout",
       "text": [
        "\n",
        "65857 65857 1389.878 924.335 3471.235\n",
        "     blob1  blob2       dt        dist  d_spacetime\n",
        "29   65857  65857 -123.873  124.076616   124.076616\n",
        "349  59217  65857  287.084  400.126976   400.126976\n",
        "303  57189  65857  391.770  471.628227   471.628227\n",
        "154  62786  65857  134.969  473.535813   473.535813\n",
        "301  59463  65857  272.371  483.288080   483.288080\n",
        "\n",
        "[5 rows x 5 columns]"
       ]
      },
      {
       "output_type": "stream",
       "stream": "stdout",
       "text": [
        "\n",
        "346 346 938.721 2330.202 31.181\n",
        "     blob1  blob2       dt        dist  d_spacetime\n",
        "96     820    346  -46.369  262.436275   262.436275\n",
        "112   2807    346 -252.267  276.960136   276.960136\n",
        "284   2924    346 -265.776  280.580811   280.580811\n",
        "148   2538    346 -224.172  326.440939   326.440939\n",
        "375    928    346  -58.068  360.873708   360.873708\n",
        "\n",
        "[5 rows x 5 columns]"
       ]
      },
      {
       "output_type": "stream",
       "stream": "stdout",
       "text": [
        "\n",
        "2548 2548 1165.18 1281.214 252.28\n",
        "     blob1  blob2      dt       dist  d_spacetime\n",
        "170   2423   2548   7.093  53.118791    53.118791\n",
        "366   2599   2548  -5.660  57.628516    57.628516\n",
        "91    1681   2548  37.795  70.618526    70.618526\n",
        "104   2455   2548   5.361  72.291050    72.291050\n",
        "322   2610   2548  -8.604  75.682011    75.682011\n",
        "\n",
        "[5 rows x 5 columns]"
       ]
      },
      {
       "output_type": "stream",
       "stream": "stdout",
       "text": [
        "\n",
        "24100 24100 1435.701 1342.967 1349.56\n",
        "     blob1  blob2       dt        dist  d_spacetime\n",
        "99   22453  24100   59.439   60.107813    60.107813\n",
        "32   24100  24100 -119.833  119.848709   119.848709\n",
        "71   21001  24100  131.033  131.907470   131.907470\n",
        "108  27607  24100 -152.192  152.514599   152.514599\n",
        "169  19898  24100  184.751  194.583940   194.583940\n",
        "\n",
        "[5 rows x 5 columns]"
       ]
      },
      {
       "output_type": "stream",
       "stream": "stdout",
       "text": [
        "\n",
        "15991 15991 74.202 1051.497 972.088\n",
        "     blob1  blob2       dt        dist  d_spacetime\n",
        "388  19846  15991 -180.371  377.462116   377.462116\n",
        "263   7632  15991  407.135  443.451888   443.451888\n",
        "53    7548  15991  413.007  447.078370   447.078370\n",
        "202   8878  15991  357.238  459.853046   459.853046\n",
        "38    7036  15991  430.664  473.426183   473.426183\n",
        "\n",
        "[5 rows x 5 columns]"
       ]
      },
      {
       "output_type": "stream",
       "stream": "stdout",
       "text": [
        "\n",
        "23259 23259 1038.114 934.518 1307.926\n",
        "     blob1  blob2      dt       dist  d_spacetime\n",
        "238  22060  23259  58.516  65.494817    65.494817\n",
        "210  24323  23259 -57.566  77.889089    77.889089\n",
        "186  21461  23259  83.205  90.813859    90.813859\n",
        "297  24888  23259 -79.218  93.404359    93.404359\n",
        "136  24969  23259 -81.763  96.783853    96.783853\n",
        "\n",
        "[5 rows x 5 columns]"
       ]
      },
      {
       "output_type": "stream",
       "stream": "stdout",
       "text": [
        "\n",
        "60474 60474 968.196 711.779 3245.495\n",
        "     blob1  blob2       dt        dist  d_spacetime\n",
        "282  55880  60474  228.295  250.298881   250.298881\n",
        "349  59217  60474   61.344  257.829077   257.829077\n",
        "234  65362  60474 -204.961  258.420643   258.420643\n",
        "241  65448  60474 -208.828  261.270320   261.270320\n",
        "352  65536  60474 -209.706  264.812062   264.812062\n",
        "\n",
        "[5 rows x 5 columns]"
       ]
      },
      {
       "output_type": "stream",
       "stream": "stdout",
       "text": [
        "\n",
        "49167 49167 115.777 952.783 2637.392\n",
        "     blob1  blob2       dt        dist  d_spacetime\n",
        "346  52207  49167 -177.371  204.004786   204.004786\n",
        "88   52873  49167 -217.065  315.114777   315.114777\n",
        "377  46003  49167  177.731  316.601669   316.601669\n",
        "312  49742  49167  -36.974  326.654344   326.654344\n",
        "157  52073  49167 -178.574  331.076385   331.076385\n",
        "\n",
        "[5 rows x 5 columns]"
       ]
      },
      {
       "output_type": "stream",
       "stream": "stdout",
       "text": [
        "\n",
        "61182 61182 917.078 1006.962 3271.729\n",
        "     blob1  blob2       dt        dist  d_spacetime\n",
        "173  59532  61182   68.900   85.910252    85.910252\n",
        "278  59493  61182   70.962   96.455224    96.455224\n",
        "301  59463  61182   72.865  109.260624   109.260624\n",
        "192  63639  61182 -110.006  154.365927   154.365927\n",
        "349  59217  61182   87.578  231.098028   231.098028\n",
        "\n",
        "[5 rows x 5 columns]"
       ]
      },
      {
       "output_type": "stream",
       "stream": "stdout",
       "text": [
        "\n",
        "7494 7494 1708.246 605.303 555.812\n",
        "     blob1  blob2       dt        dist  d_spacetime\n",
        "252   2188   7494  329.127  352.645885   352.645885\n",
        "31    3595   7494  183.624  367.934777   367.934777\n",
        "58    2057   7494  339.856  381.896639   381.896639\n",
        "265   5084   7494  102.694  401.908880   401.908880\n",
        "176   1355   7494  413.955  431.393536   431.393536\n",
        "\n",
        "[5 rows x 5 columns]"
       ]
      },
      {
       "output_type": "stream",
       "stream": "stdout",
       "text": [
        "\n",
        "20449 20449 20.489 2009.311 1184.583\n",
        "     blob1  blob2       dt        dist  d_spacetime\n",
        "33   18283  20449   94.924  809.523612   809.523612\n",
        "49   12196  20449  407.592  841.091523   841.091523\n",
        "326  19082  20449   67.092  889.426377   889.426377\n",
        "174   3166  20449  860.571  963.757401   963.757401\n",
        "221  29609  20449 -395.606  965.687543   965.687543\n",
        "\n",
        "[5 rows x 5 columns]"
       ]
      },
      {
       "output_type": "stream",
       "stream": "stdout",
       "text": [
        "\n",
        "15359 15402 463.783 864.534 940.96\n",
        "     blob1  blob2       dt        dist  d_spacetime\n",
        "386  11323  15402  211.975  275.159177   275.159177\n",
        "388  19846  15402 -211.499  287.136822   287.136822\n",
        "204  16263  15402  -51.417  301.527188   301.527188\n",
        "380  16494  15402  -59.960  303.244930   303.244930\n",
        "20   17686  15402 -217.156  310.805121   310.805121\n",
        "\n",
        "[5 rows x 5 columns]"
       ]
      },
      {
       "output_type": "stream",
       "stream": "stdout",
       "text": [
        "\n",
        "50321 50321 1056.475 1801.278 2707.599\n",
        "     blob1  blob2       dt        dist  d_spacetime\n",
        "143  49531  50321   33.040  164.235893   164.235893\n",
        "55   44867  50321  318.476  344.271403   344.271403\n",
        "0    20649  50321 -331.068  360.351756   360.351756\n",
        "64   46873  50321  163.111  366.818816   366.818816\n",
        "280  47617  50321  160.133  379.900397   379.900397\n",
        "\n",
        "[5 rows x 5 columns]"
       ]
      },
      {
       "output_type": "stream",
       "stream": "stdout",
       "text": [
        "\n",
        "22859 22859 1055.036 1391.42 1285.787\n",
        "     blob1  blob2       dt        dist  d_spacetime\n",
        "253  22858  22859   -2.463   20.687289    20.687289\n",
        "378  21902  22859   44.093  104.227384   104.227384\n",
        "198  25053  22859 -111.673  129.595174   129.595174\n",
        "78   19862  22859  131.549  174.909211   174.909211\n",
        "25   26426  22859 -166.840  195.317064   195.317064\n",
        "\n",
        "[5 rows x 5 columns]"
       ]
      },
      {
       "output_type": "stream",
       "stream": "stdout",
       "text": [
        "\n",
        "60099 60099 288.116 483.805 3228.4\n",
        "     blob1  blob2       dt        dist  d_spacetime\n",
        "47   59961  60099    1.067   17.239116    17.239116\n",
        "135  65739  60099 -242.298  462.164798   462.164798\n",
        "157  52073  60099  412.434  475.419740   475.419740\n",
        "343  65403  60099 -220.998  503.641994   503.641994\n",
        "273  65050  60099 -209.731  514.079303   514.079303\n",
        "\n",
        "[5 rows x 5 columns]"
       ]
      },
      {
       "output_type": "stream",
       "stream": "stdout",
       "text": [
        "\n",
        "2230 2230 984.681 305.473 228.047\n",
        "     blob1  blob2       dt        dist  d_spacetime\n",
        "134   1503   2230   66.390  238.713748   238.713748\n",
        "24    1400   2230   84.258  238.954847   238.954847\n",
        "119   3116   2230  -90.540  286.779395   286.779395\n",
        "212   1651   2230   50.190  312.056450   312.056450\n",
        "368   6149   2230 -273.671  386.321068   386.321068\n",
        "\n",
        "[5 rows x 5 columns]"
       ]
      },
      {
       "output_type": "stream",
       "stream": "stdout",
       "text": [
        "\n",
        "20654 20654 770.61 1050.711 1195.677\n",
        "     blob1  blob2       dt        dist  d_spacetime\n",
        "179  20405  20654    4.420    5.519319     5.519319\n",
        "242  20570  20654    1.017   25.731626    25.731626\n",
        "351  19669  20654   51.617   73.674095    73.674095\n",
        "185  18324  20654  101.884  102.669416   102.669416\n",
        "289  23045  20654 -101.383  102.926980   102.926980\n",
        "\n",
        "[5 rows x 5 columns]"
       ]
      },
      {
       "output_type": "stream",
       "stream": "stdout",
       "text": [
        "\n",
        "23011 23011 341.685 796.763 1292.988\n",
        "     blob1  blob2       dt        dist  d_spacetime\n",
        "222  23010  23011   -4.138   18.082095    18.082095\n",
        "283  22086  23011   41.695  155.893061   155.893061\n",
        "20   17686  23011  134.872  182.036001   182.036001\n",
        "141  22357  23011   16.399  193.400548   193.400548\n",
        "113  26126  23011 -144.005  234.982903   234.982903\n",
        "\n",
        "[5 rows x 5 columns]"
       ]
      },
      {
       "output_type": "stream",
       "stream": "stdout",
       "text": [
        "\n",
        "4949 4949 1382.836 736.008 444.588\n",
        "     blob1  blob2       dt        dist  d_spacetime\n",
        "265   5084   4949   -8.530   71.169402    71.169402\n",
        "31    3595   4949   72.400  216.896601   216.896601\n",
        "61    1303   4949  301.472  302.909054   302.909054\n",
        "252   2188   4949  217.903  327.148424   327.148424\n",
        "383   1443   4949  290.199  327.511935   327.511935\n",
        "\n",
        "[5 rows x 5 columns]"
       ]
      },
      {
       "output_type": "stream",
       "stream": "stdout",
       "text": [
        "\n",
        "964 964 428.386 657.13 93.223\n",
        "     blob1  blob2       dt        dist  d_spacetime\n",
        "66     907    964  -42.632   44.349110    44.349110\n",
        "39    1468    964  -94.468  112.556372   112.556372\n",
        "225     32    964   86.268  136.160386   136.160386\n",
        "116   1476    964  -71.459  155.308402   155.308402\n",
        "95    2959    964 -212.966  227.088167   227.088167\n",
        "\n",
        "[5 rows x 5 columns]"
       ]
      },
      {
       "output_type": "stream",
       "stream": "stdout",
       "text": [
        "\n",
        "41252 41252 1054.483 1330.235 2180.021\n",
        "     blob1  blob2       dt        dist  d_spacetime\n",
        "256  41285  41252   -5.206   38.877623    38.877623\n",
        "197  41950  41252  -40.800   42.932936    42.932936\n",
        "281  42511  41252  -74.270   83.512181    83.512181\n",
        "315  43543  41252 -130.709  138.551160   138.551160\n",
        "310  40779  41252   25.426  144.480989   144.480989\n",
        "\n",
        "[5 rows x 5 columns]"
       ]
      },
      {
       "output_type": "stream",
       "stream": "stdout",
       "text": [
        "\n",
        "33019 33019 763.703 1041.315 1747.728\n",
        "     blob1  blob2       dt        dist  d_spacetime\n",
        "41   34631  33019  -93.830   96.067960    96.067960\n",
        "67   30336  33019  130.774  130.808747   130.808747\n",
        "255  32876  33019    4.433  158.272195   158.272195\n",
        "77   32713  33019    9.316  158.589225   158.589225\n",
        "75   29441  33019  173.870  206.735619   206.735619\n",
        "\n",
        "[5 rows x 5 columns]"
       ]
      },
      {
       "output_type": "stream",
       "stream": "stdout",
       "text": [
        "\n",
        "62983 62983 704.516 340.08 3344.698\n",
        "     blob1  blob2       dt        dist  d_spacetime\n",
        "273  65050  62983  -93.433  105.492776   105.492776\n",
        "246  65458  62983 -106.903  154.100089   154.100089\n",
        "240  65492  62983 -111.369  155.827772   155.827772\n",
        "300  65574  62983 -113.101  157.034604   157.034604\n",
        "266  64164  62983  -53.503  158.672372   158.672372\n",
        "\n",
        "[5 rows x 5 columns]"
       ]
      },
      {
       "output_type": "stream",
       "stream": "stdout",
       "text": [
        "\n",
        "66556 66556 1710.484 1726.792 3509.214\n",
        "     blob1  blob2       dt        dist  d_spacetime\n",
        "44   58870  66556  325.063  452.806819   452.806819\n",
        "367  67233  66556  -26.885  471.385133   471.385133\n",
        "372  67034  66556  -17.382  477.979279   477.979279\n",
        "68   65945  66556  -15.686  480.628263   480.628263\n",
        "5    58657  66556  359.917  498.275195   498.275195\n",
        "\n",
        "[5 rows x 5 columns]"
       ]
      },
      {
       "output_type": "stream",
       "stream": "stdout",
       "text": [
        "\n",
        "61181 61181 934.183 987.369 3271.729\n",
        "     blob1  blob2       dt        dist  d_spacetime\n",
        "173  59532  61181   68.900   86.527840    86.527840\n",
        "278  59493  61181   70.962   90.563759    90.563759\n",
        "301  59463  61181   72.865   98.268090    98.268090\n",
        "192  63639  61181 -110.006  154.504202   154.504202\n",
        "349  59217  61181   87.578  209.589427   209.589427\n",
        "\n",
        "[5 rows x 5 columns]"
       ]
      },
      {
       "output_type": "stream",
       "stream": "stdout",
       "text": [
        "\n",
        "45935 45935 727.076 862.606 2454.487\n",
        "     blob1  blob2       dt        dist  d_spacetime\n",
        "42   47282  45935  -88.672  132.327575   132.327575\n",
        "150  44759  45935   77.492  153.031845   153.031845\n",
        "85   47845  45935 -110.143  159.779322   159.779322\n",
        "362  44537  45935   85.128  173.047804   173.047804\n",
        "329  48313  45935 -138.174  222.820877   222.820877\n",
        "\n",
        "[5 rows x 5 columns]"
       ]
      },
      {
       "output_type": "stream",
       "stream": "stdout",
       "text": [
        "\n",
        "1200 1200 36.199 509.434 120.181\n",
        "     blob1  blob2       dt        dist  d_spacetime\n",
        "92    1570   1200  -51.270  261.123733   261.123733\n",
        "211     47   1200  112.563  274.049964   274.049964\n",
        "225     32   1200  113.226  334.422122   334.422122\n",
        "116   1476   1200  -44.501  362.099348   362.099348\n",
        "66     907   1200  -15.674  407.598942   407.598942\n",
        "\n",
        "[5 rows x 5 columns]"
       ]
      },
      {
       "output_type": "stream",
       "stream": "stdout",
       "text": [
        "\n",
        "837 837 771.13 2099.84 78.015\n",
        "     blob1  blob2       dt        dist  d_spacetime\n",
        "96     820    837    0.465   27.635958    27.635958\n",
        "375    928    837  -11.234   76.110281    76.110281\n",
        "148   2538    837 -177.338  196.630864   196.630864\n",
        "93    2067    837 -151.766  270.660950   270.660950\n",
        "112   2807    837 -205.433  298.578770   298.578770\n",
        "\n",
        "[5 rows x 5 columns]"
       ]
      },
      {
       "output_type": "stream",
       "stream": "stdout",
       "text": [
        "\n",
        "1553 1553 1678.727 781.089 165.147\n",
        "     blob1  blob2       dt        dist  d_spacetime\n",
        "176   1355   1553   23.290  115.446023   115.446023\n",
        "83     610   1553  106.424  163.668121   163.668121\n",
        "339    661   1553  105.096  175.173743   175.173743\n",
        "86     917   1553   47.767  193.974325   193.974325\n",
        "252   2188   1553  -61.538  218.498475   218.498475\n",
        "\n",
        "[5 rows x 5 columns]"
       ]
      },
      {
       "output_type": "stream",
       "stream": "stdout",
       "text": [
        "\n",
        "5 5 269.972 1986.329 0.084\n",
        "     blob1  blob2       dt        dist  d_spacetime\n",
        "165     76      5  -20.372  188.930452   188.930452\n",
        "140     10      5  -16.866  302.701146   302.701146\n",
        "174   3166      5 -323.928  416.461996   416.461996\n",
        "375    928      5  -89.165  491.519987   491.519987\n",
        "96     820      5  -77.466  535.287139   535.287139\n",
        "\n",
        "[5 rows x 5 columns]"
       ]
      },
      {
       "output_type": "stream",
       "stream": "stdout",
       "text": [
        "\n",
        "1395 1395 1701.267 1698.881 142.847\n",
        "     blob1  blob2       dt        dist  d_spacetime\n",
        "331    556   1395   91.126  185.950556   185.950556\n",
        "381    645   1395   84.456  212.697130   212.697130\n",
        "97     270   1395  111.065  239.981174   239.981174\n",
        "379    784   1395   73.095  295.939453   295.939453\n",
        "264    829   1395   65.768  427.366619   427.366619\n",
        "\n",
        "[5 rows x 5 columns]"
       ]
      },
      {
       "output_type": "stream",
       "stream": "stdout",
       "text": [
        "\n",
        "57654 57654 276.777 333.816 3099.792\n",
        "     blob1  blob2       dt        dist  d_spacetime\n",
        "47   59961  57654 -127.541  210.391314   210.391314\n",
        "157  52073  57654  283.826  478.901877   478.901877\n",
        "206  57139  57654   23.700  503.583517   503.583517\n",
        "266  64164  57654 -298.409  569.730157   569.730157\n",
        "273  65050  57654 -338.339  577.517516   577.517516\n",
        "\n",
        "[5 rows x 5 columns]"
       ]
      },
      {
       "output_type": "stream",
       "stream": "stdout",
       "text": [
        "\n",
        "66762 66762 744.694 224.908 3515.859\n",
        "     blob1  blob2      dt       dist  d_spacetime\n",
        "262  65668  66762  51.461  53.979760    53.979760\n",
        "300  65574  66762  58.060  59.753301    59.753301\n",
        "240  65492  66762  59.792  61.327551    61.327551\n",
        "246  65458  66762  64.258  65.234189    65.234189\n",
        "110  65193  66762  68.125  68.550732    68.550732\n",
        "\n",
        "[5 rows x 5 columns]"
       ]
      },
      {
       "output_type": "stream",
       "stream": "stdout",
       "text": [
        "\n",
        "66764 66764 968.535 713.111 3515.935\n",
        "     blob1  blob2      dt        dist  d_spacetime\n",
        "241  65448  66764  61.612  168.771784   168.771784\n",
        "234  65362  66764  65.479  170.741043   170.741043\n",
        "352  65536  66764  60.734  172.666914   172.666914\n",
        "231  65575  66764  55.405  190.137841   190.137841\n",
        "374  65648  66764  55.000  190.191471   190.191471\n",
        "\n",
        "[5 rows x 5 columns]"
       ]
      },
      {
       "output_type": "stream",
       "stream": "stdout",
       "text": [
        "\n",
        "1630 1630 909.387 1528.557 172.651\n",
        "     blob1  blob2      dt        dist  d_spacetime\n",
        "269   1629   1630  -1.806   19.725771    19.725771\n",
        "133   1469   1630  15.427   33.357145    33.357145\n",
        "188    950   1630  73.129   80.099002    80.099002\n",
        "363   2597   1630 -84.568  102.357845   102.357845\n",
        "16    1634   1630  -6.132  115.027957   115.027957\n",
        "\n",
        "[5 rows x 5 columns]"
       ]
      },
      {
       "output_type": "stream",
       "stream": "stdout",
       "text": [
        "\n",
        "2 2 845.672 116.441 0.009\n",
        "     blob1  blob2       dt        dist  d_spacetime\n",
        "24    1400      2 -143.780  302.231496   302.231496\n",
        "214     61      2   -8.345  302.250638   302.250638\n",
        "134   1503      2 -161.648  360.624766   360.624766\n",
        "249    815      2  -75.548  422.179419   422.179419\n",
        "212   1651      2 -177.848  464.108312   464.108312\n",
        "\n",
        "[5 rows x 5 columns]"
       ]
      },
      {
       "output_type": "stream",
       "stream": "stdout",
       "text": [
        "\n",
        "620 620 579.302 373.742 56.923\n",
        "     blob1  blob2       dt        dist  d_spacetime\n",
        "214     61    620   48.569  108.104976   108.104976\n",
        "249    815    620  -18.634  161.193580   161.193580\n",
        "24    1400    620  -86.866  210.541096   210.541096\n",
        "134   1503    620 -104.734  247.777034   247.777034\n",
        "116   1476    620 -107.759  260.445476   260.445476\n",
        "\n",
        "[5 rows x 5 columns]"
       ]
      },
      {
       "output_type": "stream",
       "stream": "stdout",
       "text": [
        "\n",
        "40258 40258 426.157 720.573 2128.495\n",
        "     blob1  blob2       dt        dist  d_spacetime\n",
        "277  40200  40258    3.003    5.978959     5.978959\n",
        "387  40387  40258   -5.068   27.964703    27.964703\n",
        "12   36633  40258  182.878  217.474934   217.474934\n",
        "45   41164  40258  -79.863  220.289906   220.289906\n",
        "313  45396  40258 -288.969  337.345597   337.345597\n",
        "\n",
        "[5 rows x 5 columns]"
       ]
      },
      {
       "output_type": "stream",
       "stream": "stdout",
       "text": [
        "\n",
        "9714 9714 1089.838 1285.219 653.218\n",
        "     blob1  blob2       dt        dist  d_spacetime\n",
        "107   8407   9714   42.331  146.860215   146.860215\n",
        "373  10566   9714  -40.672  156.790662   156.790662\n",
        "227   6821   9714  119.029  210.473670   210.473670\n",
        "21    4827   9714  205.637  248.529607   248.529607\n",
        "15    6924   9714  117.632  256.466524   256.466524\n",
        "\n",
        "[5 rows x 5 columns]"
       ]
      },
      {
       "output_type": "stream",
       "stream": "stdout",
       "text": [
        "\n",
        "58711 58711 1356.238 1006.279 3151.966\n",
        "     blob1  blob2       dt        dist  d_spacetime\n",
        "349  59217  58711  -32.185  262.620027   262.620027\n",
        "218  56443  58711  108.237  321.521675   321.521675\n",
        "216  56232  58711  116.438  341.756981   341.756981\n",
        "82   54391  58711  211.069  350.010234   350.010234\n",
        "303  57189  58711   72.501  351.347309   351.347309\n",
        "\n",
        "[5 rows x 5 columns]"
       ]
      },
      {
       "output_type": "stream",
       "stream": "stdout",
       "text": [
        "\n",
        "57206 57206 1052.368 2003.132 3079.266\n",
        "     blob1  blob2       dt        dist  d_spacetime\n",
        "0    20649  57206   40.599  140.501762   140.501762\n",
        "306  61565  57206 -207.201  322.109260   322.109260\n",
        "101  61635  57206 -209.802  323.314127   323.314127\n",
        "325  61454  57206 -202.999  336.601278   336.601278\n",
        "298  61399  57206 -201.001  348.420619   348.420619\n",
        "\n",
        "[5 rows x 5 columns]"
       ]
      },
      {
       "output_type": "stream",
       "stream": "stdout",
       "text": [
        "\n",
        "45418 45418 825.003 1418.773 2418.197\n",
        "     blob1  blob2       dt        dist  d_spacetime\n",
        "371  43321  45418  123.235  152.496633   152.496633\n",
        "244  42942  45418  140.270  156.921628   156.921628\n",
        "149  44825  45418   24.632  159.726437   159.726437\n",
        "40   42560  45418  144.034  162.685771   162.685771\n",
        "280  47617  45418 -129.269  211.657058   211.657058\n",
        "\n",
        "[5 rows x 5 columns]"
       ]
      },
      {
       "output_type": "stream",
       "stream": "stdout",
       "text": [
        "\n",
        "10773 10773 294.609 2162.984 704.323\n",
        "     blob1  blob2       dt        dist  d_spacetime\n",
        "174   3166  10773  380.311  398.815649   398.815649\n",
        "49   12196  10773  -72.668  449.997477   449.997477\n",
        "9     3193  10773  206.042  625.455290   625.455290\n",
        "165     76  10773  683.867  683.985723   683.985723\n",
        "140     10  10773  687.373  712.440729   712.440729\n",
        "\n",
        "[5 rows x 5 columns]"
       ]
      },
      {
       "output_type": "stream",
       "stream": "stdout",
       "text": [
        "\n",
        "1556 1556 911.815 1502.824 165.223\n",
        "     blob1  blob2      dt        dist  d_spacetime\n",
        "133   1469   1556   7.999    8.829877     8.829877\n",
        "269   1629   1556  -9.234   17.017115    17.017115\n",
        "188    950   1556  65.701   75.659564    75.659564\n",
        "363   2597   1556 -91.996  102.933679   102.933679\n",
        "16    1634   1556 -13.560  117.209470   117.209470\n",
        "\n",
        "[5 rows x 5 columns]"
       ]
      },
      {
       "output_type": "stream",
       "stream": "stdout",
       "text": [
        "\n",
        "19 19 944.168 1801.847 1.949\n",
        "     blob1  blob2       dt        dist  d_spacetime\n",
        "332      3     19    1.467   18.891669    18.891669\n",
        "93    2067     19 -227.832  288.348554   288.348554\n",
        "260   1997     19 -207.269  292.806605   292.806605\n",
        "188    950     19  -97.573  293.316050   293.316050\n",
        "375    928     19  -87.300  308.958772   308.958772\n",
        "\n",
        "[5 rows x 5 columns]"
       ]
      },
      {
       "output_type": "stream",
       "stream": "stdout",
       "text": [
        "\n",
        "38413 38413 903.925 834.621 2035.59\n",
        "     blob1  blob2       dt        dist  d_spacetime\n",
        "166  38414  38413   -9.803   22.240498    22.240498\n",
        "209  34260  38413  220.231  228.943541   228.943541\n",
        "106  38445  38413   -2.788  251.179329   251.179329\n",
        "194  37836  38413   29.361  255.169626   255.169626\n",
        "26   43181  38413 -256.499  300.484746   300.484746\n",
        "\n",
        "[5 rows x 5 columns]"
       ]
      },
      {
       "output_type": "stream",
       "stream": "stdout",
       "text": [
        "\n",
        "49 49 1321.209 1545.104 7.287\n",
        "     blob1  blob2      dt        dist  d_spacetime\n",
        "237     34     49   0.407    5.086718     5.086718\n",
        "264    829     49 -69.792  143.507902   143.507902\n",
        "271    798     49 -65.252  162.630240   162.630240\n",
        "145    872     49 -82.156  193.522665   193.522665\n",
        "379    784     49 -62.465  201.248263   201.248263\n",
        "\n",
        "[5 rows x 5 columns]"
       ]
      },
      {
       "output_type": "stream",
       "stream": "stdout",
       "text": [
        "\n",
        "9971 9971 22.55 213.937 665.454\n",
        "     blob1  blob2       dt        dist  d_spacetime\n",
        "51   11369   9971  -70.303  270.566759   270.566759\n",
        "251  11578   9971  -80.432  299.369853   299.369853\n",
        "164  11660   9971  -82.500  300.233890   300.233890\n",
        "92    1570   9971  494.003  551.587125   551.587125\n",
        "202   8878   9971   50.604  597.543157   597.543157\n",
        "\n",
        "[5 rows x 5 columns]"
       ]
      },
      {
       "output_type": "stream",
       "stream": "stdout",
       "text": [
        "\n",
        "3157 3157 1087.286 2336.466 321.056\n",
        "     blob1  blob2       dt        dist  d_spacetime\n",
        "284   2924   3157   24.099  108.530074   108.530074\n",
        "112   2807   3157   37.608  183.368710   183.368710\n",
        "148   2538   3157   65.703  331.956491   331.956491\n",
        "9     3193   3157 -177.225  410.142764   410.142764\n",
        "229   1435   3157  170.267  440.944061   440.944061\n",
        "\n",
        "[5 rows x 5 columns]"
       ]
      },
      {
       "output_type": "stream",
       "stream": "stdout",
       "text": [
        "\n",
        "5933 5933 711.213 840.127 489.686\n",
        "     blob1  blob2       dt        dist  d_spacetime\n",
        "195   6055   5933  -13.437   18.526618    18.526618\n",
        "56    6388   5933  -23.553  132.268430   132.268430\n",
        "4     4381   5933 -141.354  154.465190   154.465190\n",
        "386  11323   5933 -239.299  251.527714   251.527714\n",
        "219   1996   5933  278.732  283.128864   283.128864\n",
        "\n",
        "[5 rows x 5 columns]"
       ]
      },
      {
       "output_type": "stream",
       "stream": "stdout",
       "text": [
        "\n",
        "20573 20573 1065.317 952.409 1191.461\n",
        "     blob1  blob2      dt       dist  d_spacetime\n",
        "305  20634  20573  -4.096   4.605669     4.605669\n",
        "317  20655  20573  -4.927   6.158487     6.158487\n",
        "186  21461  20573 -33.260  43.603423    43.603423\n",
        "238  22060  20573 -57.949  58.823175    58.823175\n",
        "205  18729  20573  87.373  94.200026    94.200026\n",
        "\n",
        "[5 rows x 5 columns]"
       ]
      },
      {
       "output_type": "stream",
       "stream": "stdout",
       "text": [
        "\n",
        "11 11 781.722 1461.089 0.885\n",
        "     blob1  blob2       dt        dist  d_spacetime\n",
        "203   1263     11 -130.153  168.627522   168.627522\n",
        "127    207     11  -20.371  185.665599   185.665599\n",
        "188    950     11  -98.637  198.750903   198.750903\n",
        "133   1469     11 -156.339  207.330205   207.330205\n",
        "120    246     11  -21.705  209.783289   209.783289\n",
        "\n",
        "[5 rows x 5 columns]"
       ]
      },
      {
       "output_type": "stream",
       "stream": "stdout",
       "text": [
        "\n",
        "3633 3633 1534.289 889.871 372.718\n",
        "     blob1  blob2       dt        dist  d_spacetime\n",
        "31    3595   3633    0.530   17.066100    17.066100\n",
        "370   2621   3633  111.899  132.787541   132.787541\n",
        "146   2537   3633  112.262  133.052147   133.052147\n",
        "270   2378   3633  132.995  147.621864   147.621864\n",
        "265   5084   3633  -80.400  297.423578   297.423578\n",
        "\n",
        "[5 rows x 5 columns]"
       ]
      },
      {
       "output_type": "stream",
       "stream": "stdout",
       "text": [
        "\n",
        "3552 3552 921.627 1389.596 363.519\n",
        "     blob1  blob2       dt        dist  d_spacetime\n",
        "365   2857   3552   79.402   84.420723    84.420723\n",
        "363   2597   3552  106.300  155.297832   155.297832\n",
        "158   2162   3552  142.230  182.624937   182.624937\n",
        "269   1629   3552  189.062  225.884096   225.884096\n",
        "8     3038   3552   56.430  232.209875   232.209875\n",
        "\n",
        "[5 rows x 5 columns]"
       ]
      },
      {
       "output_type": "stream",
       "stream": "stdout",
       "text": [
        "\n",
        "31860 31860 1146.411 1343.036 1686.628\n",
        "     blob1  blob2       dt        dist  d_spacetime\n",
        "276  33143  31860  -68.591   70.554910    70.554910\n",
        "10   29978  31860  -65.699  202.422152   202.422152\n",
        "137  27329  31860  187.934  228.163166   228.163166\n",
        "25   26426  31860  234.001  236.037762   236.037762\n",
        "122  31968  31860   -3.866  269.238310   269.238310\n",
        "\n",
        "[5 rows x 5 columns]"
       ]
      },
      {
       "output_type": "stream",
       "stream": "stdout",
       "text": [
        "\n",
        "2858 2858 1010.174 16.572 283.994\n",
        "     blob1  blob2       dt        dist  d_spacetime\n",
        "128   2919   2858  -11.491  385.623540   385.623540\n",
        "353   6406   2858 -228.856  388.470733   388.470733\n",
        "24    1400   2858  140.205  450.411908   450.411908\n",
        "368   6149   2858 -217.724  461.479180   461.479180\n",
        "119   3116   2858  -34.593  467.743010   467.743010\n",
        "\n",
        "[5 rows x 5 columns]"
       ]
      },
      {
       "output_type": "stream",
       "stream": "stdout",
       "text": [
        "\n",
        "43805 43805 823.33 1658.525 2324.564\n",
        "     blob1  blob2       dt        dist  d_spacetime\n",
        "55   44867  43805  -64.559  178.273935   178.273935\n",
        "244  42942  43805   46.637  282.395745   282.395745\n",
        "40   42560  43805   50.401  301.974523   301.974523\n",
        "371  43321  43805   29.602  303.317225   303.317225\n",
        "64   46873  43805 -219.924  326.461302   326.461302\n",
        "\n",
        "[5 rows x 5 columns]"
       ]
      },
      {
       "output_type": "stream",
       "stream": "stdout",
       "text": [
        "\n",
        "5308 5308 641.003 1002.72 461.121\n",
        "     blob1  blob2       dt        dist  d_spacetime\n",
        "56    6388   5308  -52.118  131.861196   131.861196\n",
        "195   6055   5308  -42.002  185.585913   185.585913\n",
        "208   2436   5308  214.063  221.856607   221.856607\n",
        "4     4381   5308 -169.919  223.890742   223.890742\n",
        "314   2342   5308  223.864  238.601733   238.601733\n",
        "\n",
        "[5 rows x 5 columns]"
       ]
      },
      {
       "output_type": "stream",
       "stream": "stdout",
       "text": [
        "\n",
        "5048 5048 1023.468 1174.706 449.518\n",
        "     blob1  blob2       dt        dist  d_spacetime\n",
        "287   4423   5048   26.545   45.695572    45.695572\n",
        "227   6821   5048  -84.671  106.926686   106.926686\n",
        "190   5179   5048   -6.731  135.411880   135.411880\n",
        "13    3120   5048   87.495  136.353600   136.353600\n",
        "182   3361   5048  108.702  238.660831   238.660831\n",
        "\n",
        "[5 rows x 5 columns]"
       ]
      },
      {
       "output_type": "stream",
       "stream": "stdout",
       "text": [
        "\n",
        "29270 29270 447.125 589.006 1560.588\n",
        "     blob1  blob2       dt        dist  d_spacetime\n",
        "193  30674  29270  -70.238   70.473668    70.473668\n",
        "153  27387  29270   75.661   98.015715    98.015715\n",
        "359  26985  29270   90.694  126.035741   126.035741\n",
        "113  26126  29270  123.595  149.356977   149.356977\n",
        "34   25840  29270  135.200  154.716614   154.716614\n",
        "\n",
        "[5 rows x 5 columns]"
       ]
      },
      {
       "output_type": "stream",
       "stream": "stdout",
       "text": [
        "\n",
        "9867 9867 1164.472 1173.486 661.14\n",
        "     blob1  blob2       dt        dist  d_spacetime\n",
        "373  10566   9867  -32.750  103.941402   103.941402\n",
        "227   6821   9867  126.951  179.270539   179.270539\n",
        "344  13708   9867 -196.048  248.070828   248.070828\n",
        "287   4423   9867  238.167  260.594987   260.594987\n",
        "21    4827   9867  213.559  264.148680   264.148680\n",
        "\n",
        "[5 rows x 5 columns]"
       ]
      },
      {
       "output_type": "stream",
       "stream": "stdout",
       "text": [
        "\n",
        "2371 2371 1218.163 1304.188 237.652\n",
        "     blob1  blob2      dt       dist  d_spacetime\n",
        "170   2423   2371  -7.535  11.186901    11.186901\n",
        "322   2610   2371 -23.232  49.643476    49.643476\n",
        "366   2599   2371 -20.288  50.126755    50.126755\n",
        "155   2734   2371 -29.669  53.758957    53.758957\n",
        "294   2957   2371 -63.456  82.836925    82.836925\n",
        "\n",
        "[5 rows x 5 columns]"
       ]
      },
      {
       "output_type": "stream",
       "stream": "stdout",
       "text": [
        "\n",
        "3377 3377 642.154 2182.075 337.018\n",
        "     blob1  blob2       dt        dist  d_spacetime\n",
        "174   3166   3377   13.006  239.420542   239.420542\n",
        "148   2538   3377   81.665  240.347047   240.347047\n",
        "96     820   3377  259.468  299.626078   299.626078\n",
        "375    928   3377  247.769  312.050935   312.050935\n",
        "9     3193   3377 -161.263  315.974686   315.974686\n",
        "\n",
        "[5 rows x 5 columns]"
       ]
      },
      {
       "output_type": "stream",
       "stream": "stdout",
       "text": [
        "\n",
        "2714 2714 943.83 1479.726 264.589\n",
        "     blob1  blob2       dt        dist  d_spacetime\n",
        "363   2597   2714    7.370   23.251017    23.251017\n",
        "365   2857   2714  -19.528   67.284275    67.284275\n",
        "269   1629   2714   90.132   98.676099    98.676099\n",
        "133   1469   2714  107.365  113.523234   113.523234\n",
        "16    1634   2714   85.806  129.210502   129.210502\n",
        "\n",
        "[5 rows x 5 columns]"
       ]
      },
      {
       "output_type": "stream",
       "stream": "stdout",
       "text": [
        "\n",
        "1441 1441 1160.419 1238.659 153.052\n",
        "     blob1  blob2       dt        dist  d_spacetime\n",
        "30    1439   1441    0.999    8.179718     8.179718\n",
        "91    1681   1441  -61.433   71.364773    71.364773\n",
        "81     827   1441   51.998   71.527027    71.527027\n",
        "239   1090   1441   44.530   96.637408    96.637408\n",
        "366   2599   1441 -104.888  121.157469   121.157469\n",
        "\n",
        "[5 rows x 5 columns]"
       ]
      },
      {
       "output_type": "stream",
       "stream": "stdout",
       "text": [
        "\n",
        "45993 45993 806.111 1094.193 2458.73\n",
        "     blob1  blob2       dt        dist  d_spacetime\n",
        "59   46998  45993  -62.290   67.946150    67.946150\n",
        "362  44537  45993   89.371  131.334409   131.334409\n",
        "308  44345  45993   98.715  134.047958   134.047958\n",
        "150  44759  45993   81.735  140.128472   140.128472\n",
        "63   44260  45993  104.603  176.242858   176.242858\n",
        "\n",
        "[5 rows x 5 columns]"
       ]
      },
      {
       "output_type": "stream",
       "stream": "stdout",
       "text": [
        "\n",
        "24971 24971 993.199 743.934 1388.827\n",
        "     blob1  blob2       dt        dist  d_spacetime\n",
        "295  29146  24971 -167.492  173.118831   173.118831\n",
        "215  29395  24971 -179.165  180.576786   180.576786\n",
        "210  24323  24971   23.335  225.567925   225.567925\n",
        "136  24969  24971   -0.862  226.627244   226.627244\n",
        "341  25250  24971  -10.027  236.680764   236.680764\n",
        "\n",
        "[5 rows x 5 columns]"
       ]
      },
      {
       "output_type": "stream",
       "stream": "stdout",
       "text": [
        "\n",
        "880 880 800.548 1014.563 83.651\n",
        "     blob1  blob2       dt        dist  d_spacetime\n",
        "226     35    880   76.303  193.714503   193.714503\n",
        "23    2411    880 -157.457  229.917715   229.917715\n",
        "72     554    880   30.261  239.786624   239.786624\n",
        "50     777    880    9.564  250.751691   250.751691\n",
        "314   2342    880 -153.606  262.700145   262.700145\n",
        "\n",
        "[5 rows x 5 columns]"
       ]
      },
      {
       "output_type": "stream",
       "stream": "stdout",
       "text": [
        "\n",
        "13 13 1179.482 1556.502 0.949\n",
        "     blob1  blob2       dt        dist  d_spacetime\n",
        "237     34     13   -5.931  139.318371   139.318371\n",
        "145    872     13  -88.494  149.573698   149.573698\n",
        "264    829     13  -76.130  165.777048   165.777048\n",
        "271    798     13  -71.590  174.543585   174.543585\n",
        "43    2187     13 -226.268  235.401760   235.401760\n",
        "\n",
        "[5 rows x 5 columns]"
       ]
      },
      {
       "output_type": "stream",
       "stream": "stdout",
       "text": [
        "\n",
        "43333 43333 754.459 1492.716 2295.626\n",
        "     blob1  blob2      dt        dist  d_spacetime\n",
        "244  42942  43333  17.699  107.712331   107.712331\n",
        "40   42560  43333  21.463  130.290238   130.290238\n",
        "371  43321  43333   0.664  191.245397   191.245397\n",
        "149  44825  43333 -97.939  214.652748   214.652748\n",
        "315  43543  43333 -15.104  296.394684   296.394684\n",
        "\n",
        "[5 rows x 5 columns]"
       ]
      },
      {
       "output_type": "stream",
       "stream": "stdout",
       "text": [
        "\n",
        "46529 46529 1018.283 1461.814 2486.548\n",
        "     blob1  blob2       dt        dist  d_spacetime\n",
        "279  47039  46529  -27.676   59.014385    59.014385\n",
        "280  47617  46529  -60.918   68.797654    68.797654\n",
        "64   46873  46529  -57.940   68.861517    68.861517\n",
        "315  43543  46529  175.818  203.852949   203.852949\n",
        "3    47333  46529 -134.712  206.022566   206.022566\n",
        "\n",
        "[5 rows x 5 columns]"
       ]
      },
      {
       "output_type": "stream",
       "stream": "stdout",
       "text": [
        "\n",
        "51985 51985 965.83 1389.582 2800.325\n",
        "     blob1  blob2       dt        dist  d_spacetime\n",
        "6    51891  51985    0.460   13.461408    13.461408\n",
        "286  54046  51985 -119.665  129.098158   129.098158\n",
        "3    47333  51985  179.065  193.174825   193.174825\n",
        "280  47617  51985  252.859  264.377447   264.377447\n",
        "64   46873  51985  255.837  272.215458   272.215458\n",
        "\n",
        "[5 rows x 5 columns]"
       ]
      },
      {
       "output_type": "stream",
       "stream": "stdout",
       "text": [
        "\n",
        "48271 48271 1713.97 490.597 2589.323\n",
        "     blob1  blob2       dt        dist  d_spacetime\n",
        "161  50594  48271 -136.505  470.953973   470.953973\n",
        "105  52211  48271 -228.699  478.425786   478.425786\n",
        "191  50546  48271 -132.432  494.018051   494.018051\n",
        "84   57321  48271 -496.259  542.780107   542.780107\n",
        "303  57189  48271 -490.142  570.057840   570.057840\n",
        "\n",
        "[5 rows x 5 columns]"
       ]
      },
      {
       "output_type": "stream",
       "stream": "stdout",
       "text": [
        "\n",
        "851 851 1280.033 1634.508 80.249\n",
        "     blob1  blob2       dt        dist  d_spacetime\n",
        "264    829    851    3.170   29.358765    29.358765\n",
        "271    798    851    7.710   52.455935    52.455935\n",
        "237     34    851   73.369  118.777228   118.777228\n",
        "145    872    851   -9.194  220.661089   220.661089\n",
        "43    2187    851 -146.968  224.653236   224.653236\n",
        "\n",
        "[5 rows x 5 columns]"
       ]
      },
      {
       "output_type": "stream",
       "stream": "stdout",
       "text": [
        "\n",
        "18 18 1377.417 681.025 1.687\n",
        "     blob1  blob2       dt        dist  d_spacetime\n",
        "61    1303     18 -141.429  156.668588   156.668588\n",
        "383   1443     18 -152.702  189.938340   189.938340\n",
        "385   1456     18 -153.832  196.747900   196.747900\n",
        "339    661     18  -58.364  202.227886   202.227886\n",
        "86     917     18 -115.693  205.251934   205.251934\n",
        "\n",
        "[5 rows x 5 columns]"
       ]
      },
      {
       "output_type": "stream",
       "stream": "stdout",
       "text": [
        "\n",
        "29288 29288 778.163 1050.278 1561.527\n",
        "     blob1  blob2      dt        dist  d_spacetime\n",
        "67   30336  29288 -55.427   58.031125    58.031125\n",
        "75   29441  29288 -12.331  122.279779   122.279779\n",
        "316  28650  29288  29.551  135.392997   135.392997\n",
        "196  27858  29288  56.227  148.665309   148.665309\n",
        "199  29045  29288   9.869  204.917748   204.917748\n",
        "\n",
        "[5 rows x 5 columns]"
       ]
      },
      {
       "output_type": "stream",
       "stream": "stdout",
       "text": [
        "\n",
        "65826 65826 1344.206 2215.78 3469.829\n",
        "     blob1  blob2       dt        dist  d_spacetime\n",
        "68   65945  65826  -55.071  198.219962   198.219962\n",
        "372  67034  65826  -56.767  208.804761   208.804761\n",
        "367  67233  65826  -66.270  236.384590   236.384590\n",
        "101  61635  65826  180.761  560.442147   560.442147\n",
        "306  61565  65826  183.362  573.236682   573.236682\n",
        "\n",
        "[5 rows x 5 columns]"
       ]
      },
      {
       "output_type": "stream",
       "stream": "stdout",
       "text": [
        "\n",
        "772 772 596.009 494.461 68.407\n",
        "     blob1  blob2       dt        dist  d_spacetime\n",
        "249    815    772   -7.150   85.064846    85.064846\n",
        "212   1651    772 -109.450  224.300722   224.300722\n",
        "116   1476    772  -96.275  224.472933   224.472933\n",
        "214     61    772   60.053  224.922400   224.922400\n",
        "24    1400    772  -75.382  226.771868   226.771868\n",
        "\n",
        "[5 rows x 5 columns]"
       ]
      },
      {
       "output_type": "stream",
       "stream": "stdout",
       "text": [
        "\n",
        "66776 66776 786.209 1043.455 3516.598\n",
        "     blob1  blob2      dt       dist  d_spacetime\n",
        "382  66376  66776  18.126  19.957521    19.957521\n",
        "258  66343  66776  18.663  20.670794    20.670794\n",
        "259  66658  66776   1.329  23.509252    23.509252\n",
        "233  66161  66776  25.696  33.696724    33.696724\n",
        "324  66258  66776  24.762  33.795969    33.795969\n",
        "\n",
        "[5 rows x 5 columns]"
       ]
      },
      {
       "output_type": "stream",
       "stream": "stdout",
       "text": [
        "\n",
        "66197 66197 530.645 1040.305 3488.233\n",
        "     blob1  blob2       dt        dist  d_spacetime\n",
        "261  65009  66197   50.632   58.743315    58.743315\n",
        "70   66484  66197  -53.683   59.291359    59.291359\n",
        "321  67323  66197  -55.918   61.637663    61.637663\n",
        "126  64475  66197   55.232   63.334509    63.334509\n",
        "357  61488  66197  204.568  206.546148   206.546148\n",
        "\n",
        "[5 rows x 5 columns]"
       ]
      },
      {
       "output_type": "stream",
       "stream": "stdout",
       "text": [
        "\n",
        "20055 20055 1393.536 1360.565 1165.083\n",
        "     blob1  blob2       dt        dist  d_spacetime\n",
        "171  19798  20055   10.495   10.714928    10.714928\n",
        "169  19898  20055    0.274   25.226658    25.226658\n",
        "71   21001  20055  -53.444   74.242824    74.242824\n",
        "99   22453  20055 -125.038  130.514829   130.514829\n",
        "78   19862  20055   10.845  257.802056   257.802056\n",
        "\n",
        "[5 rows x 5 columns]"
       ]
      },
      {
       "output_type": "stream",
       "stream": "stdout",
       "text": [
        "\n",
        "1 1 55.382 1375.691 0.009\n",
        "     blob1  blob2       dt        dist  d_spacetime\n",
        "57    2938      1 -300.978  439.051185   439.051185\n",
        "79    1506      1 -163.009  478.196865   478.196865\n",
        "168   1599      1 -173.648  490.045667   490.045667\n",
        "250    391      1  -39.713  523.536864   523.536864\n",
        "290    464      1  -47.915  539.544098   539.544098\n",
        "\n",
        "[5 rows x 5 columns]"
       ]
      },
      {
       "output_type": "stream",
       "stream": "stdout",
       "text": [
        "\n",
        "6 6 327.283 1023.195 0.084\n",
        "     blob1  blob2       dt        dist  d_spacetime\n",
        "168   1599      6 -173.573  179.348844   179.348844\n",
        "79    1506      6 -162.934  201.849897   201.849897\n",
        "73     532      6  -52.103  235.180549   235.180549\n",
        "50     777      6  -74.003  242.474992   242.474992\n",
        "290    464      6  -47.840  247.153315   247.153315\n",
        "\n",
        "[5 rows x 5 columns]"
       ]
      },
      {
       "output_type": "stream",
       "stream": "stdout",
       "text": [
        "\n",
        "16 16 980.56 984.453 1.617\n",
        "     blob1  blob2      dt        dist  d_spacetime\n",
        "226     35     16  -5.731   54.470986    54.470986\n",
        "147    768     16 -65.872  178.124005   178.124005\n",
        "328    746     16 -63.985  189.709839   189.709839\n",
        "129    211     16 -21.570  196.046154   196.046154\n",
        "184    662     16 -60.571  218.803866   218.803866\n",
        "\n",
        "[5 rows x 5 columns]"
       ]
      },
      {
       "output_type": "stream",
       "stream": "stdout",
       "text": [
        "\n",
        "53717 53717 1030.663 876.83 2897.631\n",
        "     blob1  blob2       dt        dist  d_spacetime\n",
        "74   54522  53717  -50.529   62.554658    62.554658\n",
        "348  54582  53717  -53.198   68.676726    68.676726\n",
        "151  54603  53717  -67.535   78.011916    78.011916\n",
        "282  55880  53717 -119.569  153.832604   153.832604\n",
        "216  56232  53717 -137.897  222.400760   222.400760\n",
        "\n",
        "[5 rows x 5 columns]"
       ]
      },
      {
       "output_type": "stream",
       "stream": "stdout",
       "text": [
        "\n",
        "1440 1440 1327.649 1987.371 152.389\n",
        "     blob1  blob2       dt        dist  d_spacetime\n",
        "229   1435   1440    1.600   18.701271    18.701271\n",
        "117    210   1440  121.614  234.909369   234.909369\n",
        "97     270   1440  120.607  286.018107   286.018107\n",
        "271    798   1440   79.850  316.816491   316.816491\n",
        "264    829   1440   75.310  335.658298   335.658298\n",
        "\n",
        "[5 rows x 5 columns]"
       ]
      },
      {
       "output_type": "stream",
       "stream": "stdout",
       "text": [
        "\n",
        "2078 2078 256.002 1329.338 212.487\n",
        "     blob1  blob2       dt        dist  d_spacetime\n",
        "57    2938   2078  -88.500  257.024211   257.024211\n",
        "79    1506   2078   49.469  279.077700   279.077700\n",
        "168   1599   2078   38.830  311.755166   311.755166\n",
        "250    391   2078  172.765  360.933245   360.933245\n",
        "290    464   2078  164.563  377.508291   377.508291\n",
        "\n",
        "[5 rows x 5 columns]"
       ]
      },
      {
       "output_type": "stream",
       "stream": "stdout",
       "text": [
        "\n",
        "28487 28487 668.917 1079.601 1524.327\n",
        "     blob1  blob2      dt        dist  d_spacetime\n",
        "316  28650  28487  -7.649   42.326179    42.326179\n",
        "75   29441  28487 -49.531   51.140788    51.140788\n",
        "196  27858  28487  19.027  108.566166   108.566166\n",
        "199  29045  28487 -27.331  114.132453   114.132453\n",
        "67   30336  28487 -92.627  139.810599   139.810599\n",
        "\n",
        "[5 rows x 5 columns]"
       ]
      },
      {
       "output_type": "stream",
       "stream": "stdout",
       "text": [
        "\n",
        "3126 3126 1236.04 404.938 318.987\n",
        "     blob1  blob2       dt        dist  d_spacetime\n",
        "119   3116   3126    0.400   26.427070    26.427070\n",
        "368   6149   3126 -182.731  194.316974   194.316974\n",
        "128   2919   3126   23.502  239.088956   239.088956\n",
        "353   6406   3126 -193.863  260.240932   260.240932\n",
        "385   1456   3126  163.468  268.286465   268.286465\n",
        "\n",
        "[5 rows x 5 columns]"
       ]
      },
      {
       "output_type": "stream",
       "stream": "stdout",
       "text": [
        "\n",
        "9 9 1689.266 1437.124 0.339\n",
        "     blob1  blob2      dt        dist  d_spacetime\n",
        "379    784      9 -69.413  204.412617   204.412617\n",
        "381    645      9 -58.052  238.855489   238.855489\n",
        "331    556      9 -51.382  287.351793   287.351793\n",
        "237     34      9  -6.541  387.451514   387.451514\n",
        "97     270      9 -31.443  424.623566   424.623566\n",
        "\n",
        "[5 rows x 5 columns]"
       ]
      },
      {
       "output_type": "stream",
       "stream": "stdout",
       "text": [
        "\n",
        "1412 1412 1317.31 714.558 145.589\n",
        "     blob1  blob2      dt        dist  d_spacetime\n",
        "61    1303   1412   2.473   47.852668    47.852668\n",
        "383   1443   1412  -8.800   97.764467    97.764467\n",
        "385   1456   1412  -9.930  109.568628   109.568628\n",
        "304   1137   1412  34.067  232.129122   232.129122\n",
        "86     917   1412  28.209  237.484520   237.484520\n",
        "\n",
        "[5 rows x 5 columns]"
       ]
      },
      {
       "output_type": "stream",
       "stream": "stdout",
       "text": [
        "\n",
        "31977 31977 441.925 595.476 1690.414\n",
        "     blob1  blob2       dt        dist  d_spacetime\n",
        "193  30674  31977   59.588   59.642494    59.642494\n",
        "232  32776  31977  -48.274   78.696890    78.696890\n",
        "153  27387  31977  205.487  213.440158   213.440158\n",
        "359  26985  31977  220.520  234.533144   234.533144\n",
        "12   36633  31977 -255.203  257.058991   257.058991\n",
        "\n",
        "[5 rows x 5 columns]"
       ]
      },
      {
       "output_type": "stream",
       "stream": "stdout",
       "text": [
        "\n",
        "5613 5613 743.41 2340.574 474.455\n",
        "     blob1  blob2       dt        dist  d_spacetime\n",
        "112   2807   5613  191.007  309.722576   309.722576\n",
        "284   2924   5613  177.498  324.163164   324.163164\n",
        "9     3193   5613  -23.826  331.081650   331.081650\n",
        "148   2538   5613  219.102  338.742785   338.742785\n",
        "49   12196   5613 -302.536  347.777435   347.777435\n",
        "\n",
        "[5 rows x 5 columns]"
       ]
      },
      {
       "output_type": "stream",
       "stream": "stdout",
       "text": [
        "\n",
        "61893 61893 808.326 479.661 3297.728\n",
        "     blob1  blob2       dt        dist  d_spacetime\n",
        "273  65050  61893 -140.403  189.702668   189.702668\n",
        "206  57139  61893  221.636  238.501078   238.501078\n",
        "234  65362  61893 -152.728  282.823128   282.823128\n",
        "135  65739  61893 -172.970  292.205584   292.205584\n",
        "246  65458  61893 -153.873  295.403317   295.403317\n",
        "\n",
        "[5 rows x 5 columns]"
       ]
      },
      {
       "output_type": "stream",
       "stream": "stdout",
       "text": [
        "\n",
        "18913 18913 756.296 1042.204 1108.689\n",
        "     blob1  blob2      dt       dist  d_spacetime\n",
        "187  18161  18913  22.829  23.430528    23.430528\n",
        "185  18324  18913  14.896  29.670538    29.670538\n",
        "351  19669  18913 -35.371  53.029004    53.029004\n",
        "90   17166  18913  59.801  66.324455    66.324455\n",
        "179  20405  18913 -82.568  83.713432    83.713432\n",
        "\n",
        "[5 rows x 5 columns]"
       ]
      },
      {
       "output_type": "stream",
       "stream": "stdout",
       "text": [
        "\n",
        "56078 56078 770.403 221.341 3025.198\n",
        "     blob1  blob2       dt        dist  d_spacetime\n",
        "206  57139  56078  -50.894  183.755426   183.755426\n",
        "266  64164  56078 -373.003  374.978428   374.978428\n",
        "110  65193  56078 -422.536  423.731751   423.731751\n",
        "246  65458  56078 -426.403  427.522768   427.522768\n",
        "240  65492  56078 -430.869  432.012893   432.012893\n",
        "\n",
        "[5 rows x 5 columns]"
       ]
      },
      {
       "output_type": "stream",
       "stream": "stdout",
       "text": [
        "\n",
        "39831 39831 926.716 786.932 2107.589\n",
        "     blob1  blob2       dt        dist  d_spacetime\n",
        "166  38414  39831   62.196   70.824334    70.824334\n",
        "26   43181  39831 -184.500  226.315918   226.315918\n",
        "209  34260  39831  292.230  295.361549   295.361549\n",
        "106  38445  39831   69.211  311.700131   311.700131\n",
        "194  37836  39831  101.360  322.612942   322.612942\n",
        "\n",
        "[5 rows x 5 columns]"
       ]
      },
      {
       "output_type": "stream",
       "stream": "stdout",
       "text": [
        "\n",
        "1187 1187 1561.543 656.408 118.051\n",
        "     blob1  blob2       dt        dist  d_spacetime\n",
        "86     917   1187    0.671   18.657690    18.657690\n",
        "176   1355   1187  -23.806   67.659141    67.659141\n",
        "252   2188   1187 -108.634  126.428437   126.428437\n",
        "339    661   1187   58.000  145.668057   145.668057\n",
        "83     610   1187   59.328  156.916509   156.916509\n",
        "\n",
        "[5 rows x 5 columns]"
       ]
      },
      {
       "output_type": "stream",
       "stream": "stdout",
       "text": [
        "\n",
        "34471 34471 1541.426 1777.482 1826.618\n",
        "     blob1  blob2       dt        dist  d_spacetime\n",
        "80   35344  34471  -44.872  131.180029   131.180029\n",
        "376  36613  34471 -111.241  148.192817   148.192817\n",
        "167  36475  34471 -102.211  169.210581   169.210581\n",
        "340  35617  34471  -58.165  185.958815   185.958815\n",
        "272  35709  34471  -64.040  202.604018   202.604018\n",
        "\n",
        "[5 rows x 5 columns]"
       ]
      },
      {
       "output_type": "stream",
       "stream": "stdout",
       "text": [
        "\n",
        "67463 67463 1553.622 167.293 3555.509\n",
        "     blob1  blob2       dt        dist  d_spacetime\n",
        "154  62786  67463  219.243  435.954014   435.954014\n",
        "172  58149  67463  428.690  531.053035   531.053035\n",
        "84   57321  67463  469.927  708.385897   708.385897\n",
        "303  57189  67463  476.044  756.160800   756.160800\n",
        "29   65857  67463  -39.599  768.526174   768.526174\n",
        "\n",
        "[5 rows x 5 columns]"
       ]
      },
      {
       "output_type": "stream",
       "stream": "stdout",
       "text": [
        "\n",
        "613 613 1184.9 1244.257 56.653\n",
        "     blob1  blob2      dt        dist  d_spacetime\n",
        "81     827    613 -44.401   86.307058    86.307058\n",
        "30    1439    613 -95.400  101.010701   101.010701\n",
        "201    400    613  12.236  103.590913   103.590913\n",
        "239   1090    613 -51.869  122.400167   122.400167\n",
        "220    237    613  34.537  130.246068   130.246068\n",
        "\n",
        "[5 rows x 5 columns]"
       ]
      },
      {
       "output_type": "stream",
       "stream": "stdout",
       "text": [
        "\n",
        "17819 17819 6.235 480.459 1061.624\n",
        "     blob1  blob2       dt        dist  d_spacetime\n",
        "164  11660  17819  313.670  399.901789   399.901789\n",
        "251  11578  17819  315.738  401.546231   401.546231\n",
        "20   17686  17819  -96.492  404.799689   404.799689\n",
        "51   11369  17819  325.867  407.942298   407.942298\n",
        "283  22086  17819 -189.669  428.667414   428.667414\n",
        "\n",
        "[5 rows x 5 columns]"
       ]
      },
      {
       "output_type": "stream",
       "stream": "stdout",
       "text": [
        "\n",
        "53716 53716 1044.1 892.864 2897.631\n",
        "     blob1  blob2       dt        dist  d_spacetime\n",
        "74   54522  53716  -50.529   70.724913    70.724913\n",
        "348  54582  53716  -53.198   72.956997    72.956997\n",
        "151  54603  53716  -67.535   83.638879    83.638879\n",
        "282  55880  53716 -119.569  167.622134   167.622134\n",
        "216  56232  53716 -137.897  224.585890   224.585890\n",
        "\n",
        "[5 rows x 5 columns]"
       ]
      },
      {
       "output_type": "stream",
       "stream": "stdout",
       "text": [
        "\n",
        "24324 24324 1029.908 946.882 1360.424\n",
        "     blob1  blob2      dt        dist  d_spacetime\n",
        "210  24323  24324  -5.068   38.796474    38.796474\n",
        "297  24888  24324 -26.720   44.245073    44.245073\n",
        "136  24969  24324 -29.265   47.519930    47.519930\n",
        "341  25250  24324 -38.430   50.378379    50.378379\n",
        "248  26083  24324 -77.086  114.594177   114.594177\n",
        "\n",
        "[5 rows x 5 columns]"
       ]
      },
      {
       "output_type": "stream",
       "stream": "stdout",
       "text": [
        "\n",
        "157 157 1692.948 776.64 15.744\n",
        "     blob1  blob2       dt        dist  d_spacetime\n",
        "83     610    157  -42.979  145.605381   145.605381\n",
        "339    661    157  -44.307  160.838489   160.838489\n",
        "176   1355    157 -126.113  172.644960   172.644960\n",
        "86     917    157 -101.636  220.360381   220.360381\n",
        "252   2188    157 -210.941  299.612622   299.612622\n",
        "\n",
        "[5 rows x 5 columns]"
       ]
      },
      {
       "output_type": "stream",
       "stream": "stdout",
       "text": [
        "\n",
        "56506 56506 1682.976 1132.182 3043.334\n",
        "     blob1  blob2       dt        dist  d_spacetime\n",
        "5    58657  56506 -105.963  302.190362   302.190362\n",
        "44   58870  56506 -140.817  344.685839   344.685839\n",
        "303  57189  56506  -36.131  391.530949   391.530949\n",
        "84   57321  56506  -42.248  445.467404   445.467404\n",
        "82   54391  56506  102.437  451.517175   451.517175\n",
        "\n",
        "[5 rows x 5 columns]"
       ]
      },
      {
       "output_type": "stream",
       "stream": "stdout",
       "text": [
        "\n",
        "47159 47159 884.148 676.025 2522.626\n",
        "     blob1  blob2       dt        dist  d_spacetime\n",
        "1    47027  47159    0.661   26.451828    26.451828\n",
        "160  47780  47159  -30.824  130.454911   130.454911\n",
        "26   43181  47159  230.537  236.804809   236.804809\n",
        "42   47282  47159  -20.533  335.563908   335.563908\n",
        "85   47845  47159  -42.004  346.177223   346.177223\n",
        "\n",
        "[5 rows x 5 columns]"
       ]
      },
      {
       "output_type": "stream",
       "stream": "stdout",
       "text": [
        "\n",
        "2958 2958 1254.139 1299.42 299.787\n",
        "     blob1  blob2      dt       dist  d_spacetime\n",
        "294   2957   2958  -1.321  20.061903    20.061903\n",
        "155   2734   2958  32.466  48.684328    48.684328\n",
        "322   2610   2958  38.903  53.928604    53.928604\n",
        "170   2423   2958  54.600  66.898305    66.898305\n",
        "366   2599   2958  41.847  68.992897    68.992897\n",
        "\n",
        "[5 rows x 5 columns]"
       ]
      },
      {
       "output_type": "stream",
       "stream": "stdout",
       "text": [
        "\n",
        "832 832 1085.137 888.753 75.616\n",
        "     blob1  blob2      dt        dist  d_spacetime\n",
        "147    768    832   8.127   44.989565    44.989565\n",
        "328    746    832  10.014   68.673830    68.673830\n",
        "304   1137    832 -35.906   88.358948    88.358948\n",
        "184    662    832  13.428  113.008548   113.008548\n",
        "62     641    832  16.027  134.037639   134.037639\n",
        "\n",
        "[5 rows x 5 columns]"
       ]
      },
      {
       "output_type": "stream",
       "stream": "stdout",
       "text": [
        "\n",
        "30675 30675 457.695 610.878 1624.29\n",
        "     blob1  blob2       dt        dist  d_spacetime\n",
        "193  30674  30675   -6.536   23.511856    23.511856\n",
        "232  32776  30675 -114.398  139.808402   139.808402\n",
        "153  27387  30675  139.363  159.078057   159.078057\n",
        "359  26985  30675  154.396  178.319173   178.319173\n",
        "113  26126  30675  187.297  208.236793   208.236793\n",
        "\n",
        "[5 rows x 5 columns]"
       ]
      },
      {
       "output_type": "stream",
       "stream": "stdout",
       "text": [
        "\n",
        "3519 3519 531.11 2326.604 356.588\n",
        "     blob1  blob2       dt        dist  d_spacetime\n",
        "174   3166   3519   32.576  174.509893   174.509893\n",
        "140     10   3519  339.638  364.243174   364.243174\n",
        "148   2538   3519  101.235  404.262299   404.262299\n",
        "96     820   3519  279.038  425.052720   425.052720\n",
        "165     76   3519  336.132  434.211343   434.211343\n",
        "\n",
        "[5 rows x 5 columns]"
       ]
      },
      {
       "output_type": "stream",
       "stream": "stdout",
       "text": [
        "\n",
        "34889 34889 1426.618 1328.594 1849.559\n",
        "     blob1  blob2       dt        dist  d_spacetime\n",
        "14   38796  34889 -227.969  244.802380   244.802380\n",
        "123  39270  34889 -234.169  265.746647   265.746647\n",
        "360  39573  34889 -245.100  281.098691   281.098691\n",
        "276  33143  34889   94.340  308.824064   308.824064\n",
        "10   29978  34889   97.232  337.101356   337.101356\n",
        "\n",
        "[5 rows x 5 columns]"
       ]
      },
      {
       "output_type": "stream",
       "stream": "stdout",
       "text": [
        "\n",
        "63074 63074 734.894 212.826 3347.098\n",
        "     blob1  blob2       dt        dist  d_spacetime\n",
        "266  64164  63074  -51.103   54.431258    54.431258\n",
        "110  65193  63074 -100.636  100.982108   100.982108\n",
        "246  65458  63074 -104.503  107.374951   107.374951\n",
        "240  65492  63074 -108.969  112.338650   112.338650\n",
        "300  65574  63074 -110.701  114.224736   114.224736\n",
        "\n",
        "[5 rows x 5 columns]"
       ]
      },
      {
       "output_type": "stream",
       "stream": "stdout",
       "text": [
        "\n",
        "13288 13288 928.191 1167.988 835.082\n",
        "     blob1  blob2       dt        dist  d_spacetime\n",
        "344  13708  13288  -22.106  135.637041   135.637041\n",
        "144  16302  13288 -156.911  174.182985   174.182985\n",
        "373  10566  13288  141.192  205.539261   205.539261\n",
        "87   14000  13288  -40.004  249.468609   249.468609\n",
        "90   17166  13288 -213.806  283.632261   283.632261\n",
        "\n",
        "[5 rows x 5 columns]"
       ]
      },
      {
       "output_type": "stream",
       "stream": "stdout",
       "text": [
        "\n",
        "52214 52214 1632.604 1897.583 2814.832\n",
        "     blob1  blob2       dt        dist  d_spacetime\n",
        "36   50321  52214    0.640    7.153858     7.153858\n",
        "342  48820  52214  196.917  358.395089   358.395089\n",
        "35   51043  52214   65.137  449.776898   449.776898\n",
        "98   51097  52214   60.434  467.599502   467.599502\n",
        "189  51600  52214   29.502  472.841010   472.841010\n",
        "\n",
        "[5 rows x 5 columns]"
       ]
      },
      {
       "output_type": "stream",
       "stream": "stdout",
       "text": [
        "\n",
        "9963 9963 1376.571 609.716 665.057\n",
        "     blob1  blob2       dt        dist  d_spacetime\n",
        "265   5084   9963  211.939  231.622865   231.622865\n",
        "368   6149   9963  163.339  336.683859   336.683859\n",
        "337  14383   9963 -228.292  407.128685   407.128685\n",
        "119   3116   9963  346.470  418.194247   418.194247\n",
        "31    3595   9963  292.869  424.292162   424.292162\n",
        "\n",
        "[5 rows x 5 columns]"
       ]
      },
      {
       "output_type": "stream",
       "stream": "stdout",
       "text": [
        "\n",
        "22087 22087 358.331 628.657 1249.889\n",
        "     blob1  blob2       dt        dist  d_spacetime\n",
        "283  22086  22087   -1.404   19.187846    19.187846\n",
        "141  22357  22087  -26.700   35.884877    35.884877\n",
        "20   17686  22087   91.773  103.176965   103.176965\n",
        "34   25840  22087 -175.499  178.237969   178.237969\n",
        "293  26018  22087 -183.491  185.063926   185.063926\n",
        "\n",
        "[5 rows x 5 columns]"
       ]
      },
      {
       "output_type": "stream",
       "stream": "stdout",
       "text": [
        "\n",
        "1807 1807 370.131 858.112 189.881\n",
        "     blob1  blob2       dt        dist  d_spacetime\n",
        "39    1468   1807    2.190  148.427056   148.427056\n",
        "95    2959   1807 -116.308  176.852375   176.852375\n",
        "168   1599   1807   16.224  183.867074   183.867074\n",
        "66     907   1807   54.026  214.242511   214.242511\n",
        "89    2193   1807  -37.336  215.087612   215.087612\n",
        "\n",
        "[5 rows x 5 columns]"
       ]
      },
      {
       "output_type": "stream",
       "stream": "stdout",
       "text": [
        "\n",
        "39621 39621 1498.978 1466.304 2097.396\n",
        "     blob1  blob2       dt        dist  d_spacetime\n",
        "360  39573  39621    2.737   19.366253    19.366253\n",
        "123  39270  39621   13.668   35.581028    35.581028\n",
        "14   38796  39621   19.868   72.817527    72.817527\n",
        "267  42451  39621 -152.900  183.762579   183.762579\n",
        "80   35344  39621  225.906  300.950436   300.950436\n",
        "\n",
        "[5 rows x 5 columns]"
       ]
      },
      {
       "output_type": "stream",
       "stream": "stdout",
       "text": [
        "\n",
        "3461 3461 704.768 213.128 349.989\n",
        "     blob1  blob2       dt        dist  d_spacetime\n",
        "24    1400   3461  206.200  268.381971   268.381971\n",
        "134   1503   3461  188.332  304.703453   304.703453\n",
        "214     61   3461  341.635  366.081274   366.081274\n",
        "212   1651   3461  172.132  379.132749   379.132749\n",
        "249    815   3461  274.432  396.032182   396.032182\n",
        "\n",
        "[5 rows x 5 columns]"
       ]
      },
      {
       "output_type": "stream",
       "stream": "stdout",
       "text": [
        "\n",
        "16731 16731 773.0 1066.401 1012.889\n",
        "     blob1  blob2       dt        dist  d_spacetime\n",
        "90   17166  16731  -35.999   36.010864    36.010864\n",
        "187  18161  16731  -72.971   76.873993    76.873993\n",
        "185  18324  16731  -80.904   80.990601    80.990601\n",
        "351  19669  16731 -131.171  147.666416   147.666416\n",
        "380  16494  16731   11.969  177.563848   177.563848\n",
        "\n",
        "[5 rows x 5 columns]"
       ]
      },
      {
       "output_type": "stream",
       "stream": "stdout",
       "text": [
        "\n",
        "1680 1680 351.08 979.375 178.587\n",
        "     blob1  blob2       dt        dist  d_spacetime\n",
        "168   1599   1680    4.930   64.518910    64.518910\n",
        "79    1506   1680   15.569  141.209852   141.209852\n",
        "57    2938   1680 -122.400  221.854687   221.854687\n",
        "50     777   1680  104.500  227.500992   227.500992\n",
        "208   2436   1680  -68.471  242.548697   242.548697\n",
        "\n",
        "[5 rows x 5 columns]"
       ]
      },
      {
       "output_type": "stream",
       "stream": "stdout",
       "text": [
        "\n",
        "1618 1618 233.247 373.823 172.255\n",
        "     blob1  blob2       dt        dist  d_spacetime\n",
        "92    1570   1618    0.804   30.591166    30.591166\n",
        "211     47   1618  164.637  206.664989   206.664989\n",
        "116   1476   1618    7.573  220.563866   220.563866\n",
        "225     32   1618  165.300  304.749884   304.749884\n",
        "66     907   1618   36.400  338.255598   338.255598\n",
        "\n",
        "[5 rows x 5 columns]"
       ]
      },
      {
       "output_type": "stream",
       "stream": "stdout",
       "text": [
        "\n",
        "1348 1348 1339.678 2163.879 137.152\n",
        "     blob1  blob2       dt        dist  d_spacetime\n",
        "117    210   1348  106.377  129.285101   129.285101\n",
        "229   1435   1348  -13.637  159.626940   159.626940\n",
        "131    216   1348  116.559  310.189917   310.189917\n",
        "284   2924   1348 -159.805  385.467854   385.467854\n",
        "97     270   1348  105.370  399.656453   399.656453\n",
        "\n",
        "[5 rows x 5 columns]"
       ]
      },
      {
       "output_type": "stream",
       "stream": "stdout",
       "text": [
        "\n",
        "1863 1863 741.331 680.364 195.387\n",
        "     blob1  blob2       dt        dist  d_spacetime\n",
        "76    1841   1863    1.396    7.386657     7.386657\n",
        "132   1982   1863  -10.504   71.797170    71.797170\n",
        "219   1996   1863  -15.567  118.661611   118.661611\n",
        "212   1651   1863   17.530  147.475501   147.475501\n",
        "111    425   1863  151.832  184.688245   184.688245\n",
        "\n",
        "[5 rows x 5 columns]"
       ]
      },
      {
       "output_type": "stream",
       "stream": "stdout",
       "text": [
        "\n",
        "63925 63925 735.198 212.966 3387.701\n",
        "     blob1  blob2      dt       dist  d_spacetime\n",
        "266  64164  63925 -10.500  21.497990    21.497990\n",
        "110  65193  63925 -60.033  60.576406    60.576406\n",
        "246  65458  63925 -63.900  68.412495    68.412495\n",
        "240  65492  63925 -68.366  73.531978    73.531978\n",
        "300  65574  63925 -70.098  75.450758    75.450758\n",
        "\n",
        "[5 rows x 5 columns]"
       ]
      },
      {
       "output_type": "stream",
       "stream": "stdout",
       "text": [
        "\n",
        "52260 52260 955.774 1381.726 2818.56\n",
        "     blob1  blob2       dt        dist  d_spacetime\n",
        "6    51891  52260   18.695   18.707861    18.707861\n",
        "286  54046  52260 -101.430  118.222882   118.222882\n",
        "3    47333  52260  197.300  207.567147   207.567147\n",
        "280  47617  52260  271.094  284.947252   284.947252\n",
        "64   46873  52260  274.072  292.847064   292.847064\n",
        "\n",
        "[5 rows x 5 columns]"
       ]
      },
      {
       "output_type": "stream",
       "stream": "stdout",
       "text": [
        "\n",
        "65566 65566 530.403 1042.571 3456.195\n",
        "     blob1  blob2       dt        dist  d_spacetime\n",
        "261  65009  65566   18.594   35.714390    35.714390\n",
        "126  64475  65566   23.194   39.252439    39.252439\n",
        "70   66484  65566  -85.721   89.883187    89.883187\n",
        "321  67323  65566  -87.956   92.264926    92.264926\n",
        "357  61488  65566  172.530  174.663160   174.663160\n",
        "\n",
        "[5 rows x 5 columns]"
       ]
      },
      {
       "output_type": "stream",
       "stream": "stdout",
       "text": [
        "\n",
        "2798 2798 1244.849 731.023 274.255\n",
        "     blob1  blob2       dt        dist  d_spacetime\n",
        "383   1443   2798  119.866  163.801897   163.801897\n",
        "385   1456   2798  118.736  169.239837   169.239837\n",
        "61    1303   2798  131.139  171.530396   171.530396\n",
        "265   5084   2798 -178.863  201.871521   201.871521\n",
        "304   1137   2798  162.733  226.664278   226.664278\n",
        "\n",
        "[5 rows x 5 columns]"
       ]
      },
      {
       "output_type": "stream",
       "stream": "stdout",
       "text": [
        "\n",
        "460 460 1069.55 1198.619 45.987\n",
        "     blob1  blob2       dt        dist  d_spacetime\n",
        "201    400    460    1.570   28.580945    28.580945\n",
        "239   1090    460  -62.535   67.290333    67.290333\n",
        "81     827    460  -55.067   74.529474    74.529474\n",
        "175    359    460   12.996  128.691458   128.691458\n",
        "30    1439    460 -106.066  140.123355   140.123355\n",
        "\n",
        "[5 rows x 5 columns]"
       ]
      },
      {
       "output_type": "stream",
       "stream": "stdout",
       "text": [
        "\n",
        "8 8 1378.605 2011.38 0.285\n",
        "     blob1  blob2       dt        dist  d_spacetime\n",
        "229   1435      8 -150.504  160.243978   160.243978\n",
        "117    210      8  -30.490  164.510399   164.510399\n",
        "97     270      8  -31.497  240.403467   240.403467\n",
        "131    216      8  -20.308  322.309340   322.309340\n",
        "271    798      8  -72.254  350.013531   350.013531\n",
        "\n",
        "[5 rows x 5 columns]"
       ]
      },
      {
       "output_type": "stream",
       "stream": "stdout",
       "text": [
        "\n",
        "50633 50633 735.485 1083.543 2723.158\n",
        "     blob1  blob2       dt        dist  d_spacetime\n",
        "275  49865  50633   40.587   90.059684    90.059684\n",
        "85   47845  50633  158.528  190.944671   190.944671\n",
        "59   46998  50633  202.138  208.243655   208.243655\n",
        "42   47282  50633  179.999  221.877148   221.877148\n",
        "247  48018  50633  148.898  227.718109   227.718109\n",
        "\n",
        "[5 rows x 5 columns]"
       ]
      },
      {
       "output_type": "stream",
       "stream": "stdout",
       "text": [
        "\n",
        "3200 3200 404.37 2208.92 325.156\n",
        "     blob1  blob2       dt        dist  d_spacetime\n",
        "174   3166   3200    1.144    2.140240     2.140240\n",
        "140     10   3200  308.206  316.597624   316.597624\n",
        "165     76   3200  304.700  322.872034   322.872034\n",
        "375    928   3200  235.907  457.463791   457.463791\n",
        "96     820   3200  247.606  458.331320   458.331320\n",
        "\n",
        "[5 rows x 5 columns]"
       ]
      },
      {
       "output_type": "stream",
       "stream": "stdout",
       "text": [
        "\n",
        "53543 53543 1008.797 1405.252 2886.982\n",
        "     blob1  blob2       dt        dist  d_spacetime\n",
        "286  54046  53543  -33.008   33.121016    33.121016\n",
        "6    51891  53543   87.117  105.041538   105.041538\n",
        "3    47333  53543  265.722  284.154241   284.154241\n",
        "82   54391  53543  -53.915  294.966354   294.966354\n",
        "143  49531  53543  212.423  333.824030   333.824030\n",
        "\n",
        "[5 rows x 5 columns]"
       ]
      },
      {
       "output_type": "stream",
       "stream": "stdout",
       "text": [
        "\n",
        "22247 22247 1434.739 1324.49 1258.961\n",
        "     blob1  blob2       dt        dist  d_spacetime\n",
        "99   22453  22247  -31.160   37.302141    37.302141\n",
        "71   21001  22247   40.434   40.603935    40.603935\n",
        "169  19898  22247   94.152  113.368628   113.368628\n",
        "171  19798  22247  104.373  118.459332   118.459332\n",
        "32   24100  22247 -210.432  211.190444   211.190444\n",
        "\n",
        "[5 rows x 5 columns]"
       ]
      },
      {
       "output_type": "stream",
       "stream": "stdout",
       "text": [
        "\n",
        "2746 2746 1248.908 1302.479 269.188\n",
        "     blob1  blob2      dt       dist  d_spacetime\n",
        "155   2734   2746   1.867  33.091221    33.091221\n",
        "322   2610   2746   8.304  39.331522    39.331522\n",
        "294   2957   2746 -31.920  41.090299    41.090299\n",
        "170   2423   2746  24.001  41.506891    41.506891\n",
        "366   2599   2746  11.248  55.162587    55.162587\n",
        "\n",
        "[5 rows x 5 columns]"
       ]
      },
      {
       "output_type": "stream",
       "stream": "stdout",
       "text": [
        "\n",
        "45721 45721 810.807 1074.48 2441.354\n",
        "     blob1  blob2      dt        dist  d_spacetime\n",
        "59   46998  45721 -79.666   90.186929    90.186929\n",
        "362  44537  45721  71.995  106.095322   106.095322\n",
        "308  44345  45721  81.339  113.295495   113.295495\n",
        "150  44759  45721  64.359  115.663424   115.663424\n",
        "63   44260  45721  87.227  162.648141   162.648141\n",
        "\n",
        "[5 rows x 5 columns]"
       ]
      },
      {
       "output_type": "stream",
       "stream": "stdout",
       "text": [
        "\n",
        "60882 60882 836.856 1580.558 3258.668\n",
        "     blob1  blob2      dt        dist  d_spacetime\n",
        "336  60832  60882   1.075   22.890768    22.890768\n",
        "274  61354  60882 -19.461  187.883631   187.883631\n",
        "298  61399  60882 -21.599  211.216678   211.216678\n",
        "325  61454  60882 -23.597  235.447614   235.447614\n",
        "163  62942  60882 -87.367  270.139876   270.139876\n",
        "\n",
        "[5 rows x 5 columns]"
       ]
      },
      {
       "output_type": "stream",
       "stream": "stdout",
       "text": [
        "\n",
        "55382 55382 718.124 169.976 2990.697\n",
        "     blob1  blob2       dt        dist  d_spacetime\n",
        "206  57139  55382  -85.395  250.050661   250.050661\n",
        "266  64164  55382 -407.504  408.996620   408.996620\n",
        "110  65193  55382 -457.037  460.256195   460.256195\n",
        "246  65458  55382 -460.904  466.291262   466.291262\n",
        "240  65492  55382 -465.370  471.109770   471.109770\n",
        "\n",
        "[5 rows x 5 columns]"
       ]
      },
      {
       "output_type": "stream",
       "stream": "stdout",
       "text": [
        "\n",
        "26274 26274 357.229 617.077 1441.557\n",
        "     blob1  blob2      dt       dist  d_spacetime\n",
        "113  26126  26274   4.564  11.367182    11.367182\n",
        "293  26018  26274   8.177  14.929825    14.929825\n",
        "34   25840  26274  16.169  27.577747    27.577747\n",
        "359  26985  26274 -28.337  35.065842    35.065842\n",
        "153  27387  26274 -43.370  59.651642    59.651642\n",
        "\n",
        "[5 rows x 5 columns]"
       ]
      },
      {
       "output_type": "stream",
       "stream": "stdout",
       "text": [
        "\n",
        "54870 54870 994.854 878.833 2965.949\n",
        "     blob1  blob2      dt        dist  d_spacetime\n",
        "151  54603  54870   0.783   13.387221    13.387221\n",
        "74   54522  54870  17.789   19.321501    19.321501\n",
        "348  54582  54870  15.120   27.263063    27.263063\n",
        "282  55880  54870 -51.251   90.951816    90.951816\n",
        "216  56232  54870 -69.579  214.523855   214.523855\n",
        "\n",
        "[5 rows x 5 columns]"
       ]
      },
      {
       "output_type": "stream",
       "stream": "stdout",
       "text": [
        "\n",
        "2115 2115 866.027 1265.416 217.351\n",
        "     blob1  blob2       dt        dist  d_spacetime\n",
        "158   2162   2115   -3.938   48.768529    48.768529\n",
        "365   2857   2115  -66.766  176.851359   176.851359\n",
        "203   1263   2115   86.313  201.139066   201.139066\n",
        "125    334   2115  165.761  213.359081   213.359081\n",
        "213   1193   2115   95.132  222.308793   222.308793\n",
        "\n",
        "[5 rows x 5 columns]"
       ]
      },
      {
       "output_type": "stream",
       "stream": "stdout",
       "text": [
        "\n",
        "2009 2009 251.215 660.402 207.088\n",
        "     blob1  blob2       dt        dist  d_spacetime\n",
        "39    1468   2009   19.397  176.042187   176.042187\n",
        "66     907   2009   71.233  179.777656   179.777656\n",
        "116   1476   2009   42.406  203.372736   203.372736\n",
        "95    2959   2009  -99.101  212.053370   212.053370\n",
        "225     32   2009  200.133  222.904836   222.904836\n",
        "\n",
        "[5 rows x 5 columns]"
       ]
      },
      {
       "output_type": "stream",
       "stream": "stdout",
       "text": [
        "\n",
        "51808 51808 1397.67 462.686 2788.725\n",
        "     blob1  blob2       dt        dist  d_spacetime\n",
        "105  52211  51808  -29.297  130.303193   130.303193\n",
        "172  58149  51808 -338.094  339.147043   339.147043\n",
        "161  50594  51808   62.897  387.740426   387.740426\n",
        "218  56443  51808 -255.004  407.874857   407.874857\n",
        "191  50546  51808   66.970  410.487826   410.487826\n",
        "\n",
        "[5 rows x 5 columns]"
       ]
      },
      {
       "output_type": "stream",
       "stream": "stdout",
       "text": [
        "\n",
        "37983 37983 791.257 1051.203 2009.392\n",
        "     blob1  blob2       dt        dist  d_spacetime\n",
        "194  37836  37983    3.163   10.598323    10.598323\n",
        "106  38445  37983  -28.986   39.002521    39.002521\n",
        "41   34631  37983  167.834  168.064162   168.064162\n",
        "243  41605  37983 -193.088  200.562786   200.562786\n",
        "166  38414  37983  -36.001  265.805360   265.805360\n",
        "\n",
        "[5 rows x 5 columns]"
       ]
      },
      {
       "output_type": "stream",
       "stream": "stdout",
       "text": [
        "\n",
        "8106 8106 225.07 998.849 582.321\n",
        "     blob1  blob2       dt        dist  d_spacetime\n",
        "263   7632   8106   17.368   29.885732    29.885732\n",
        "53    7548   8106   23.240   54.016946    54.016946\n",
        "38    7036   8106   40.897  109.500864   109.500864\n",
        "202   8878   8106  -32.529  218.705147   218.705147\n",
        "57    2938   8106  281.334  297.452886   297.452886\n",
        "\n",
        "[5 rows x 5 columns]"
       ]
      },
      {
       "output_type": "stream",
       "stream": "stdout",
       "text": [
        "\n",
        "21348 21348 1440.544 1308.418 1219.59\n",
        "     blob1  blob2      dt        dist  d_spacetime\n",
        "71   21001  21348   1.063   20.826235    20.826235\n",
        "99   22453  21348 -70.531   79.918670    79.918670\n",
        "169  19898  21348  54.781   92.743152    92.743152\n",
        "171  19798  21348  65.002   96.445356    96.445356\n",
        "54   21943  21348 -39.898  224.830110   224.830110\n",
        "\n",
        "[5 rows x 5 columns]"
       ]
      },
      {
       "output_type": "stream",
       "stream": "stdout",
       "text": [
        "\n",
        "35742 35742 1427.1 1328.353 1890.187\n",
        "     blob1  blob2       dt        dist  d_spacetime\n",
        "14   38796  35742 -187.341  207.537054   207.537054\n",
        "123  39270  35742 -193.541  230.770388   230.770388\n",
        "360  39573  35742 -204.472  246.486186   246.486186\n",
        "142  40088  35742 -245.909  313.998863   313.998863\n",
        "276  33143  35742  134.968  323.998342   323.998342\n",
        "\n",
        "[5 rows x 5 columns]"
       ]
      },
      {
       "output_type": "stream",
       "stream": "stdout",
       "text": [
        "\n",
        "50175 50175 739.769 1088.553 2698.727\n",
        "     blob1  blob2       dt        dist  d_spacetime\n",
        "275  49865  50175   16.156   87.273875    87.273875\n",
        "85   47845  50175  134.097  174.752778   174.752778\n",
        "59   46998  50175  177.707  183.111505   183.111505\n",
        "42   47282  50175  155.568  206.422302   206.422302\n",
        "247  48018  50175  124.467  215.071046   215.071046\n",
        "\n",
        "[5 rows x 5 columns]"
       ]
      },
      {
       "output_type": "stream",
       "stream": "stdout",
       "text": [
        "\n",
        "27081 27081 1439.524 1338.815 1474.489\n",
        "     blob1  blob2       dt        dist  d_spacetime\n",
        "32   24100  27081    5.096    6.435027     6.435027\n",
        "108  27607  27081  -27.263   30.026463    30.026463\n",
        "99   22453  27081  184.368  184.865154   184.865154\n",
        "71   21001  27081  255.962  256.263526   256.263526\n",
        "137  27329  27081  -24.205  263.782355   263.782355\n",
        "\n",
        "[5 rows x 5 columns]"
       ]
      },
      {
       "output_type": "stream",
       "stream": "stdout",
       "text": [
        "\n",
        "3073 3073 800.651 2328.271 309.418\n",
        "     blob1  blob2       dt        dist  d_spacetime\n",
        "112   2807   3073   25.970  190.922497   190.922497\n",
        "284   2924   3073   12.461  213.169748   213.169748\n",
        "148   2538   3073   54.065  233.480533   233.480533\n",
        "96     820   3073  231.868  308.546532   308.546532\n",
        "9     3193   3073 -188.863  354.971331   354.971331\n",
        "\n",
        "[5 rows x 5 columns]"
       ]
      },
      {
       "output_type": "stream",
       "stream": "stdout",
       "text": [
        "\n",
        "2294 2294 11.955 437.927 233.312\n",
        "     blob1  blob2       dt        dist  d_spacetime\n",
        "92    1570   2294   61.861  246.527895   246.527895\n",
        "211     47   2294  225.694  357.770576   357.770576\n",
        "116   1476   2294   68.630  398.668730   398.668730\n",
        "225     32   2294  226.357  429.712686   429.712686\n",
        "230   3446   2294 -118.005  462.627966   462.627966\n",
        "\n",
        "[5 rows x 5 columns]"
       ]
      },
      {
       "output_type": "stream",
       "stream": "stdout",
       "text": [
        "\n",
        "41311 41311 340.323 637.393 2183.759\n",
        "     blob1  blob2       dt        dist  d_spacetime\n",
        "277  40200  41311   58.267  130.105578   130.105578\n",
        "387  40387  41311   50.196  152.681302   152.681302\n",
        "12   36633  41311  238.142  251.025709   251.025709\n",
        "45   41164  41311  -24.599  325.317940   325.317940\n",
        "313  45396  41311 -233.705  369.722284   369.722284\n",
        "\n",
        "[5 rows x 5 columns]"
       ]
      },
      {
       "output_type": "stream",
       "stream": "stdout",
       "text": [
        "\n",
        "23827 23827 763.971 1040.948 1335.725\n",
        "     blob1  blob2       dt        dist  d_spacetime\n",
        "285  23120  23827   34.338   37.689451    37.689451\n",
        "289  23045  23827   38.665   41.860759    41.860759\n",
        "242  20570  23827  141.065  142.017798   142.017798\n",
        "179  20405  23827  144.468  144.823255   144.823255\n",
        "7    21218  23827  118.204  155.058240   155.058240\n",
        "\n",
        "[5 rows x 5 columns]"
       ]
      },
      {
       "output_type": "stream",
       "stream": "stdout",
       "text": [
        "\n",
        "64721 64721 729.259 214.477 3421.002\n",
        "     blob1  blob2      dt       dist  d_spacetime\n",
        "110  65193  64721 -26.732  28.914060    28.914060\n",
        "266  64164  64721  22.801  32.290410    32.290410\n",
        "246  65458  64721 -30.599  39.953003    39.953003\n",
        "240  65492  64721 -35.065  45.041186    45.041186\n",
        "300  65574  64721 -36.797  47.018808    47.018808\n",
        "\n",
        "[5 rows x 5 columns]"
       ]
      },
      {
       "output_type": "stream",
       "stream": "stdout",
       "text": [
        "\n",
        "63371 63371 846.835 929.842 3361.024\n",
        "     blob1  blob2       dt        dist  d_spacetime\n",
        "192  63639  63371  -20.711   21.090411    21.090411\n",
        "139  65840  63371 -119.978  136.417093   136.417093\n",
        "245  64596  63371  -58.574  137.366487   137.366487\n",
        "355  66054  63371 -120.774  141.130187   141.130187\n",
        "323  65685  63371 -102.845  148.937286   148.937286\n",
        "\n",
        "[5 rows x 5 columns]"
       ]
      },
      {
       "output_type": "stream",
       "stream": "stdout",
       "text": [
        "\n",
        "177 177 890.207 717.682 17.356\n",
        "     blob1  blob2       dt        dist  d_spacetime\n",
        "111    425    177  -26.199  222.814054   222.814054\n",
        "226     35    177   10.008  227.876447   227.876447\n",
        "76    1841    177 -176.635  233.374697   233.374697\n",
        "304   1137    177  -94.166  256.302729   256.302729\n",
        "132   1982    177 -188.535  257.813679   257.813679\n",
        "\n",
        "[5 rows x 5 columns]"
       ]
      },
      {
       "output_type": "stream",
       "stream": "stdout",
       "text": [
        "\n",
        "28583 28583 645.601 1045.415 1528.524\n",
        "     blob1  blob2      dt        dist  d_spacetime\n",
        "316  28650  28583  -3.452    3.558267     3.558267\n",
        "75   29441  28583 -45.334   66.865279    66.865279\n",
        "196  27858  28583  23.224   78.516284    78.516284\n",
        "199  29045  28583 -23.134  137.531802   137.531802\n",
        "67   30336  28583 -88.430  149.021826   149.021826\n",
        "\n",
        "[5 rows x 5 columns]"
       ]
      },
      {
       "output_type": "stream",
       "stream": "stdout",
       "text": [
        "\n",
        "2598 2598 879.114 2146.266 257.819\n",
        "     blob1  blob2       dt        dist  d_spacetime\n",
        "148   2538   2598    2.466   45.016350    45.016350\n",
        "112   2807   2598  -25.629  105.690511   105.690511\n",
        "284   2924   2598  -39.138  180.721094   180.721094\n",
        "96     820   2598  180.269  206.286014   206.286014\n",
        "375    928   2598  168.570  242.619744   242.619744\n",
        "\n",
        "[5 rows x 5 columns]"
       ]
      },
      {
       "output_type": "stream",
       "stream": "stdout",
       "text": [
        "\n",
        "25501 25501 1251.597 1267.212 1411.627\n",
        "     blob1  blob2      dt        dist  d_spacetime\n",
        "137  27329  25501 -87.067  108.155107   108.155107\n",
        "25   26426  25501 -41.000  148.950039   148.950039\n",
        "198  25053  25501  14.167  200.651135   200.651135\n",
        "32   24100  25501 -57.766  208.571858   208.571858\n",
        "108  27607  25501 -90.125  209.584880   209.584880\n",
        "\n",
        "[5 rows x 5 columns]"
       ]
      },
      {
       "output_type": "stream",
       "stream": "stdout",
       "text": [
        "\n",
        "31372 31372 455.124 608.415 1665.461\n",
        "     blob1  blob2       dt        dist  d_spacetime\n",
        "193  30674  31372   34.635   39.531078    39.531078\n",
        "232  32776  31372  -73.227  106.460175   106.460175\n",
        "153  27387  31372  180.534  194.925676   194.925676\n",
        "359  26985  31372  195.567  214.194746   214.194746\n",
        "113  26126  31372  228.468  245.018691   245.018691\n",
        "\n",
        "[5 rows x 5 columns]"
       ]
      },
      {
       "output_type": "stream",
       "stream": "stdout",
       "text": [
        "\n",
        "2073 2073 1252.692 1333.454 212.278\n",
        "     blob1  blob2      dt        dist  d_spacetime\n",
        "155   2734   2073 -55.043   55.134483    55.134483\n",
        "170   2423   2073 -32.909   61.942411    61.942411\n",
        "322   2610   2073 -48.606   84.780214    84.780214\n",
        "366   2599   2073 -45.662   94.575133    94.575133\n",
        "294   2957   2073 -88.830  102.431245   102.431245\n",
        "\n",
        "[5 rows x 5 columns]"
       ]
      },
      {
       "output_type": "stream",
       "stream": "stdout",
       "text": [
        "\n",
        "3823 3823 1246.078 2302.366 391.357\n",
        "     blob1  blob2       dt        dist  d_spacetime\n",
        "284   2924   3823   94.400  260.752918   260.752918\n",
        "112   2807   3823  107.909  323.363204   323.363204\n",
        "229   1435   3823  240.568  389.853275   389.853275\n",
        "117    210   3823  360.582  418.997095   418.997095\n",
        "115  11432   3823 -351.861  429.134901   429.134901\n",
        "\n",
        "[5 rows x 5 columns]"
       ]
      },
      {
       "output_type": "stream",
       "stream": "stdout",
       "text": [
        "\n",
        "16503 16503 735.958 1023.967 1001.259\n",
        "     blob1  blob2       dt        dist  d_spacetime\n",
        "90   17166  16503  -47.629   73.169157    73.169157\n",
        "187  18161  16503  -84.601   90.555588    90.555588\n",
        "185  18324  16503  -92.534  106.437593   106.437593\n",
        "351  19669  16503 -142.801  144.613207   144.613207\n",
        "380  16494  16503    0.339  164.947846   164.947846\n",
        "\n",
        "[5 rows x 5 columns]"
       ]
      },
      {
       "output_type": "stream",
       "stream": "stdout",
       "text": [
        "\n",
        "53074 53074 157.941 1218.254 2864.733\n",
        "     blob1  blob2       dt        dist  d_spacetime\n",
        "319  53205  53074   -4.795   23.756495    23.756495\n",
        "88   52873  53074   10.276   42.066787    42.066787\n",
        "114  53570  53074  -23.933  138.345005   138.345005\n",
        "346  52207  53074   49.970  181.167016   181.167016\n",
        "312  49742  53074  190.367  198.982807   198.982807\n",
        "\n",
        "[5 rows x 5 columns]"
       ]
      },
      {
       "output_type": "stream",
       "stream": "stdout",
       "text": [
        "\n",
        "1788 1788 418.172 713.529 188.291\n",
        "     blob1  blob2       dt        dist  d_spacetime\n",
        "39    1468   1788    0.600    3.996709     3.996709\n",
        "66     907   1788   52.436   77.878884    77.878884\n",
        "95    2959   1788 -117.898  120.069260   120.069260\n",
        "230   3446   1788 -163.026  185.486684   185.486684\n",
        "116   1476   1788   23.609  193.080231   193.080231\n",
        "\n",
        "[5 rows x 5 columns]"
       ]
      },
      {
       "output_type": "stream",
       "stream": "stdout",
       "text": [
        "\n",
        "67761 67761 778.126 1042.621 3576.374\n",
        "     blob1  blob2      dt       dist  d_spacetime\n",
        "69   66776  67761   4.989   6.690344     6.690344\n",
        "257  67684  67761   1.668  23.713080    23.713080\n",
        "259  66658  67761  61.105  67.289152    67.289152\n",
        "382  66376  67761  77.902  79.590548    79.590548\n",
        "258  66343  67761  78.439  80.176968    80.176968\n",
        "\n",
        "[5 rows x 5 columns]"
       ]
      },
      {
       "output_type": "stream",
       "stream": "stdout",
       "text": [
        "\n",
        "11130 11130 1045.116 1500.044 719.724\n",
        "     blob1  blob2       dt        dist  d_spacetime\n",
        "107   8407  11130  108.837  161.716217   161.716217\n",
        "118  14449  11130 -181.959  241.156360   241.156360\n",
        "15    6924  11130  184.138  302.357742   302.357742\n",
        "373  10566  11130   25.834  367.428830   367.428830\n",
        "21    4827  11130  272.143  374.851250   374.851250\n",
        "\n",
        "[5 rows x 5 columns]"
       ]
      },
      {
       "output_type": "stream",
       "stream": "stdout",
       "text": [
        "\n",
        "1382 1382 1324.004 2111.777 141.388\n",
        "     blob1  blob2       dt        dist  d_spacetime\n",
        "229   1435   1382   -9.401  106.571514   106.571514\n",
        "117    210   1382  110.613  153.170164   153.170164\n",
        "131    216   1382  120.795  339.328289   339.328289\n",
        "97     270   1382  109.606  367.523302   367.523302\n",
        "284   2924   1382 -155.569  388.262217   388.262217\n",
        "\n",
        "[5 rows x 5 columns]"
       ]
      },
      {
       "output_type": "stream",
       "stream": "stdout",
       "text": [
        "\n",
        "57 57 904.827 818.86 7.554\n",
        "     blob1  blob2       dt        dist  d_spacetime\n",
        "226     35     57    0.206  127.958933   127.958933\n",
        "304   1137     57 -103.968  229.461453   229.461453\n",
        "23    2411     57 -233.554  239.783475   239.783475\n",
        "111    425     57  -36.001  241.696309   241.696309\n",
        "147    768     57  -59.935  245.066221   245.066221\n",
        "\n",
        "[5 rows x 5 columns]"
       ]
      },
      {
       "output_type": "stream",
       "stream": "stdout",
       "text": [
        "\n",
        "14091 14091 1553.572 964.635 878.625\n",
        "     blob1  blob2      dt        dist  d_spacetime\n",
        "156  13937  14091   4.200   10.033820    10.033820\n",
        "327  14934  14091 -42.001  312.869495   312.869495\n",
        "318  14886  14091 -39.396  328.122300   328.122300\n",
        "337  14383  14091 -14.724  359.460158   359.460158\n",
        "307  15609  14091 -74.634  367.872910   367.872910\n",
        "\n",
        "[5 rows x 5 columns]"
       ]
      },
      {
       "output_type": "stream",
       "stream": "stdout",
       "text": [
        "\n",
        "49841 49841 728.639 1072.255 2680.125\n",
        "     blob1  blob2       dt        dist  d_spacetime\n",
        "275  49865  49841   -2.446   68.997865    68.997865\n",
        "85   47845  49841  115.495  149.190699   149.190699\n",
        "59   46998  49841  159.105  170.554252   170.554252\n",
        "42   47282  49841  136.966  180.236764   180.236764\n",
        "247  48018  49841  105.865  199.185619   199.185619\n",
        "\n",
        "[5 rows x 5 columns]"
       ]
      },
      {
       "output_type": "stream",
       "stream": "stdout",
       "text": [
        "\n",
        "2925 2925 990.925 2254.468 295.557\n",
        "     blob1  blob2       dt        dist  d_spacetime\n",
        "284   2924   2925   -1.400   20.905406    20.905406\n",
        "112   2807   2925   12.109   54.435953    54.435953\n",
        "148   2538   2925   40.204  203.436455   203.436455\n",
        "9     3193   2925 -202.724  321.017899   321.017899\n",
        "96     820   2925  218.007  328.937406   328.937406\n",
        "\n",
        "[5 rows x 5 columns]"
       ]
      },
      {
       "output_type": "stream",
       "stream": "stdout",
       "text": [
        "\n",
        "7 7 337.29 611.014 0.084\n",
        "     blob1  blob2       dt        dist  d_spacetime\n",
        "225     32      7   -6.871    7.634318     7.634318\n",
        "211     47      7   -7.534  134.323854   134.323854\n",
        "66     907      7 -135.771  163.357224   163.357224\n",
        "116   1476      7 -164.598  195.333916   195.333916\n",
        "39    1468      7 -187.607  229.737654   229.737654\n",
        "\n",
        "[5 rows x 5 columns]"
       ]
      },
      {
       "output_type": "stream",
       "stream": "stdout",
       "text": [
        "\n",
        "64 64 1184.31 1479.008 7.949\n",
        "     blob1  blob2       dt        dist  d_spacetime\n",
        "145    872     64  -81.494   92.144776    92.144776\n",
        "237     34     64    1.069  151.521860   151.521860\n",
        "264    829     64  -69.130  219.389971   219.389971\n",
        "43    2187     64 -219.268  219.677803   219.677803\n",
        "271    798     64  -64.590  233.851899   233.851899\n",
        "\n",
        "[5 rows x 5 columns]"
       ]
      },
      {
       "output_type": "stream",
       "stream": "stdout",
       "text": [
        "\n",
        "39 39 1177.793 1299.632 4.088\n",
        "     blob1  blob2       dt        dist  d_spacetime\n",
        "81     827     39  -96.966  140.268484   140.268484\n",
        "201    400     39  -40.329  141.397419   141.397419\n",
        "145    872     39  -85.355  161.004936   161.004936\n",
        "30    1439     39 -147.965  162.406380   162.406380\n",
        "239   1090     39 -104.434  164.838234   164.838234\n",
        "\n",
        "[5 rows x 5 columns]"
       ]
      },
      {
       "output_type": "stream",
       "stream": "stdout",
       "text": [
        "\n",
        "31449 31449 441.797 595.127 1668.389\n",
        "     blob1  blob2       dt        dist  d_spacetime\n",
        "193  30674  31449   37.563   37.636934    37.636934\n",
        "232  32776  31449  -70.299   93.730955    93.730955\n",
        "153  27387  31449  183.462  192.274801   192.274801\n",
        "359  26985  31449  198.495  213.973724   213.973724\n",
        "113  26126  31449  231.396  243.913699   243.913699\n",
        "\n",
        "[5 rows x 5 columns]"
       ]
      },
      {
       "output_type": "stream",
       "stream": "stdout",
       "text": [
        "\n",
        "38891 38891 1388.568 868.689 2061.76\n",
        "     blob1  blob2       dt        dist  d_spacetime\n",
        "183  38931  38891  -10.266   80.813616    80.813616\n",
        "347  38428  38891   24.431  282.174885   282.174885\n",
        "364  38375  38891   28.570  331.486211   331.486211\n",
        "142  40088  38891  -74.336  405.793537   405.793537\n",
        "254  46611  38891 -432.603  464.893575   464.893575\n",
        "\n",
        "[5 rows x 5 columns]"
       ]
      },
      {
       "output_type": "stream",
       "stream": "stdout",
       "text": [
        "\n",
        "49962 49962 292.897 1347.746 2687.398\n",
        "     blob1  blob2       dt        dist  d_spacetime\n",
        "178  50212  49962  -19.730  141.286546   141.286546\n",
        "312  49742  49962   13.032  160.968772   160.968772\n",
        "124  50320  49962  -21.725  162.181571   162.181571\n",
        "114  53570  49962 -201.268  241.189565   241.189565\n",
        "319  53205  49962 -182.130  251.301209   251.301209\n",
        "\n",
        "[5 rows x 5 columns]"
       ]
      },
      {
       "output_type": "stream",
       "stream": "stdout",
       "text": [
        "\n",
        "321 321 1060.141 1354.379 30.12\n",
        "     blob1  blob2      dt        dist  d_spacetime\n",
        "125    334    321 -21.470   89.216637    89.216637\n",
        "239   1090    321 -78.402  154.203313   154.203313\n",
        "145    872    321 -59.323  159.837231   159.837231\n",
        "81     827    321 -70.934  161.428208   161.428208\n",
        "201    400    321 -14.297  168.267732   168.267732\n",
        "\n",
        "[5 rows x 5 columns]"
       ]
      },
      {
       "output_type": "stream",
       "stream": "stdout",
       "text": [
        "\n",
        "3970 3970 959.739 1143.719 400.116\n",
        "     blob1  blob2       dt        dist  d_spacetime\n",
        "190   5179   3970  -56.133   85.511277    85.511277\n",
        "287   4423   3970  -22.857  103.998167   103.998167\n",
        "227   6821   3970 -134.073  164.991874   164.991874\n",
        "13    3120   3970   38.093  179.229170   179.229170\n",
        "158   2162   3970  178.827  226.773102   226.773102\n",
        "\n",
        "[5 rows x 5 columns]"
       ]
      },
      {
       "output_type": "stream",
       "stream": "stdout",
       "text": [
        "\n",
        "64475 64475 554.876 1039.833 3411.597\n",
        "     blob1  blob2       dt        dist  d_spacetime\n",
        "126  64475  64475  -21.404   22.764123    22.764123\n",
        "261  65009  64475  -26.004   26.906199    26.906199\n",
        "357  61488  64475  127.932  129.509515   129.509515\n",
        "70   66484  64475 -130.319  131.754866   131.754866\n",
        "321  67323  64475 -132.554  134.227055   134.227055\n",
        "\n",
        "[5 rows x 5 columns]"
       ]
      },
      {
       "output_type": "stream",
       "stream": "stdout",
       "text": [
        "\n",
        "4 4 997.388 869.995 0.009\n",
        "     blob1  blob2       dt        dist  d_spacetime\n",
        "226     35      4   -7.339   75.129734    75.129734\n",
        "147    768      4  -67.480  149.587845   149.587845\n",
        "304   1137      4 -111.513  168.367614   168.367614\n",
        "328    746      4  -65.593  169.771478   169.771478\n",
        "184    662      4  -62.179  209.826385   209.826385\n",
        "\n",
        "[5 rows x 5 columns]"
       ]
      },
      {
       "output_type": "stream",
       "stream": "stdout",
       "text": [
        "\n",
        "2797 2797 1456.588 272.658 274.181\n",
        "     blob1  blob2       dt        dist  d_spacetime\n",
        "109   2314   2797   13.991   75.211985    75.211985\n",
        "128   2919   2797  -21.304  131.857716   131.857716\n",
        "58    2057   2797   58.225  253.068456   253.068456\n",
        "119   3116   2797  -44.406  281.849476   281.849476\n",
        "368   6149   2797 -227.537  311.747774   311.747774\n",
        "\n",
        "[5 rows x 5 columns]"
       ]
      },
      {
       "output_type": "stream",
       "stream": "stdout",
       "text": [
        "\n",
        "20 20 982.164 1513.316 1.949\n",
        "     blob1  blob2       dt        dist  d_spacetime\n",
        "188    950     20  -97.573  106.226464   106.226464\n",
        "133   1469     20 -155.275  170.786519   170.786519\n",
        "125    334     20  -49.641  175.380161   175.380161\n",
        "269   1629     20 -172.508  182.817001   182.817001\n",
        "16    1634     20 -176.834  182.856807   182.856807\n",
        "\n",
        "[5 rows x 5 columns]"
       ]
      },
      {
       "output_type": "stream",
       "stream": "stdout",
       "text": [
        "\n",
        "52809 52809 979.165 1393.889 2851.3\n",
        "     blob1  blob2       dt        dist  d_spacetime\n",
        "6    51891  52809   51.435   58.115158    58.115158\n",
        "286  54046  52809  -68.690   76.844326    76.844326\n",
        "3    47333  52809  230.040  243.213964   243.213964\n",
        "280  47617  52809  303.834  311.897629   311.897629\n",
        "64   46873  52809  306.812  318.838812   318.838812\n",
        "\n",
        "[5 rows x 5 columns]"
       ]
      },
      {
       "output_type": "stream",
       "stream": "stdout",
       "text": [
        "\n",
        "67213 67213 1559.627 30.798 3534.701\n",
        "     blob1  blob2       dt        dist  d_spacetime\n",
        "154  62786  67213  198.435  535.113321   535.113321\n",
        "172  58149  67213  407.882  602.094345   602.094345\n",
        "84   57321  67213  449.119  802.375960   802.375960\n",
        "105  52211  67213  716.679  830.499809   830.499809\n",
        "262  65668  67213   70.303  843.454759   843.454759\n",
        "\n",
        "[5 rows x 5 columns]"
       ]
      },
      {
       "output_type": "stream",
       "stream": "stdout",
       "text": [
        "\n",
        "67196 67196 365.791 2005.608 3534.102\n",
        "     blob1  blob2       dt        dist  d_spacetime\n",
        "291  67125  67196    1.833    7.917559     7.917559\n",
        "130  67196  67196  -19.689   19.718124    19.718124\n",
        "311  67070  67196    5.099   29.300755    29.300755\n",
        "354  67038  67196    7.233   41.014575    41.014575\n",
        "235  64282  67196  127.708  140.231742   140.231742\n",
        "\n",
        "[5 rows x 5 columns]"
       ]
      },
      {
       "output_type": "stream",
       "stream": "stdout",
       "text": [
        "\n",
        "362 362 400.681 381.377 33.253\n",
        "     blob1  blob2       dt        dist  d_spacetime\n",
        "211     47    362   25.635  158.975333   158.975333\n",
        "116   1476    362 -131.429  193.483893   193.483893\n",
        "214     61    362   24.899  217.433905   217.433905\n",
        "92    1570    362 -138.198  222.090658   222.090658\n",
        "225     32    362   26.298  238.308691   238.308691\n",
        "\n",
        "[5 rows x 5 columns]"
       ]
      },
      {
       "output_type": "stream",
       "stream": "stdout",
       "text": [
        "\n",
        "15 15 1439.129 2239.574 1.348\n",
        "     blob1  blob2       dt        dist  d_spacetime\n",
        "117    210     15  -29.427   80.515532    80.515532\n",
        "131    216     15  -19.245  183.684259   183.684259\n",
        "229   1435     15 -149.441  300.576421   300.576421\n",
        "97     270     15  -30.434  420.323369   420.323369\n",
        "284   2924     15 -295.609  525.892609   525.892609\n",
        "\n",
        "[5 rows x 5 columns]"
       ]
      },
      {
       "output_type": "stream",
       "stream": "stdout",
       "text": [
        "\n",
        "49842 49842 741.257 1089.213 2680.125\n",
        "     blob1  blob2       dt        dist  d_spacetime\n",
        "275  49865  49842   -2.446   86.632699    86.632699\n",
        "85   47845  49842  115.495  161.559139   161.559139\n",
        "59   46998  49842  159.105  164.692162   164.692162\n",
        "42   47282  49842  136.966  193.526069   193.526069\n",
        "247  48018  49842  105.865  206.006986   206.006986\n",
        "\n",
        "[5 rows x 5 columns]"
       ]
      },
      {
       "output_type": "stream",
       "stream": "stdout",
       "text": [
        "\n",
        "1772 1772 1358.652 1466.143 187.424\n",
        "     blob1  blob2       dt        dist  d_spacetime\n",
        "43    2187   1772  -39.793  177.688362   177.688362\n",
        "155   2734   1772  -79.897  187.625771   187.625771\n",
        "379    784   1772  117.672  188.939965   188.939965\n",
        "145    872   1772   97.981  202.426992   202.426992\n",
        "162   2380   1772  -51.490  202.533449   202.533449\n",
        "\n",
        "[5 rows x 5 columns]"
       ]
      },
      {
       "output_type": "stream",
       "stream": "stdout",
       "text": [
        "\n",
        "828 828 849.723 1144.859 74.889\n",
        "     blob1  blob2       dt        dist  d_spacetime\n",
        "158   2162    828 -146.400  206.242893   206.242893\n",
        "125    334    828   23.299  237.006186   237.006186\n",
        "239   1090    828  -33.633  241.765419   241.765419\n",
        "226     35    828   67.541  246.738906   246.738906\n",
        "213   1193    828  -47.330  247.095365   247.095365\n",
        "\n",
        "[5 rows x 5 columns]"
       ]
      },
      {
       "output_type": "stream",
       "stream": "stdout",
       "text": [
        "\n",
        "1357 1357 792.205 1445.962 138.887\n",
        "     blob1  blob2      dt        dist  d_spacetime\n",
        "203   1263   1357   7.849  102.660735   102.660735\n",
        "133   1469   1357 -18.337  132.773703   132.773703\n",
        "269   1629   1357 -35.570  150.135019   150.135019\n",
        "188    950   1357  39.365  173.907133   173.907133\n",
        "213   1193   1357  16.668  186.061063   186.061063\n",
        "\n",
        "[5 rows x 5 columns]"
       ]
      },
      {
       "output_type": "stream",
       "stream": "stdout",
       "text": [
        "\n",
        "4424 4424 1034.725 1165.877 421.618\n",
        "     blob1  blob2       dt        dist  d_spacetime\n",
        "287   4423   4424   -1.355   24.499042    24.499042\n",
        "13    3120   4424   59.595  114.316691   114.316691\n",
        "227   6821   4424 -112.571  124.356877   124.356877\n",
        "190   5179   4424  -34.631  146.734914   146.734914\n",
        "182   3361   4424   80.802  220.099884   220.099884\n",
        "\n",
        "[5 rows x 5 columns]"
       ]
      },
      {
       "output_type": "stream",
       "stream": "stdout",
       "text": [
        "\n",
        "65088 65088 559.653 1034.969 3437.998\n",
        "     blob1  blob2       dt        dist  d_spacetime\n",
        "261  65009  65088    0.397    0.561596     0.561596\n",
        "126  64475  65088    4.997    5.267334     5.267334\n",
        "70   66484  65088 -103.918  105.426663   105.426663\n",
        "321  67323  65088 -106.153  107.913427   107.913427\n",
        "357  61488  65088  154.333  156.513414   156.513414\n",
        "\n",
        "[5 rows x 5 columns]"
       ]
      },
      {
       "output_type": "stream",
       "stream": "stdout",
       "text": [
        "\n",
        "1402 1402 384.464 580.344 143.982\n",
        "     blob1  blob2       dt        dist  d_spacetime\n",
        "116   1476   1402  -20.700   61.669952    61.669952\n",
        "66     907   1402    8.127   82.434119    82.434119\n",
        "39    1468   1402  -43.709  147.240775   147.240775\n",
        "225     32   1402  137.027  148.532143   148.532143\n",
        "211     47   1402  136.364  192.596935   192.596935\n",
        "\n",
        "[5 rows x 5 columns]"
       ]
      },
      {
       "output_type": "stream",
       "stream": "stdout",
       "text": [
        "\n",
        "65499 65499 659.177 708.844 3453.061\n",
        "     blob1  blob2      dt        dist  d_spacetime\n",
        "343  65403  65499   3.663   20.725838    20.725838\n",
        "138  65350  65499   6.131   45.782924    45.782924\n",
        "135  65739  65499 -17.637   63.532626    63.532626\n",
        "180  64706  65499  24.130  142.018900   142.018900\n",
        "234  65362  65499   2.605  152.017780   152.017780\n",
        "\n",
        "[5 rows x 5 columns]"
       ]
      },
      {
       "output_type": "stream",
       "stream": "stdout",
       "text": [
        "\n",
        "24621 24621 1018.924 974.494 1372.092\n",
        "     blob1  blob2      dt        dist  d_spacetime\n",
        "297  24888  24621 -15.052   16.647879    16.647879\n",
        "210  24323  24621   6.600   22.887016    22.887016\n",
        "136  24969  24621 -17.597   25.583684    25.583684\n",
        "341  25250  24621 -26.762   27.300048    27.300048\n",
        "248  26083  24621 -65.418  104.857427   104.857427\n",
        "\n",
        "[5 rows x 5 columns]"
       ]
      },
      {
       "output_type": "stream",
       "stream": "stdout",
       "text": [
        "\n",
        "27329 27329 1211.619 1224.094 1481.395\n",
        "     blob1  blob2      dt        dist  d_spacetime\n",
        "137  27329  27329 -17.299   19.830118    19.830118\n",
        "25   26426  27329  28.768  161.745018   161.745018\n",
        "198  25053  27329  83.935  229.110476   229.110476\n",
        "358  27653  27329 -10.632  234.769418   234.769418\n",
        "309  27589  27329  -9.031  238.655895   238.655895\n",
        "\n",
        "[5 rows x 5 columns]"
       ]
      },
      {
       "output_type": "stream",
       "stream": "stdout",
       "text": [
        "\n",
        "64879 64879 733.913 792.479 3430.335\n",
        "     blob1  blob2      dt       dist  d_spacetime\n",
        "180  64706  64879   1.404  28.177929    28.177929\n",
        "245  64596  64879  10.737  54.738473    54.738473\n",
        "138  65350  64879 -16.595  69.748977    69.748977\n",
        "231  65575  64879 -30.195  83.232204    83.232204\n",
        "374  65648  64879 -30.600  83.692740    83.692740\n",
        "\n",
        "[5 rows x 5 columns]"
       ]
      },
      {
       "output_type": "stream",
       "stream": "stdout",
       "text": [
        "\n",
        "67269 67269 1585.833 2172.851 3539.767\n",
        "     blob1  blob2       dt        dist  d_spacetime\n",
        "367  67233  67269    3.668   18.892029    18.892029\n",
        "372  67034  67269   13.171   47.125483    47.125483\n",
        "68   65945  67269   14.867   58.308896    58.308896\n",
        "101  61635  67269  250.699  703.533450   703.533450\n",
        "306  61565  67269  253.300  721.139826   721.139826\n",
        "\n",
        "[5 rows x 5 columns]"
       ]
      },
      {
       "output_type": "stream",
       "stream": "stdout",
       "text": [
        "\n",
        "2407 2407 10.034 437.366 238.914\n",
        "     blob1  blob2       dt        dist  d_spacetime\n",
        "92    1570   2407   67.463  249.479591   249.479591\n",
        "211     47   2407  231.296  362.862034   362.862034\n",
        "116   1476   2407   74.232  401.633651   401.633651\n",
        "225     32   2407  231.959  434.345998   434.345998\n",
        "230   3446   2407 -112.403  463.151023   463.151023\n",
        "\n",
        "[5 rows x 5 columns]"
       ]
      },
      {
       "output_type": "stream",
       "stream": "stdout",
       "text": [
        "\n",
        "65730 65730 812.845 842.281 3464.802\n",
        "     blob1  blob2      dt       dist  d_spacetime\n",
        "323  65685  65730   0.933  14.266888    14.266888\n",
        "374  65648  65730   3.867  38.284574    38.284574\n",
        "231  65575  65730   4.272  39.088950    39.088950\n",
        "245  64596  65730  45.204  63.015451    63.015451\n",
        "180  64706  65730  35.871  77.919381    77.919381\n",
        "\n",
        "[5 rows x 5 columns]"
       ]
      },
      {
       "output_type": "stream",
       "stream": "stdout",
       "text": [
        "\n",
        "10 10 445.09 2144.561 0.819\n",
        "     blob1  blob2       dt        dist  d_spacetime\n",
        "140     10     10  -16.131   71.627288    71.627288\n",
        "165     76     10  -19.637  144.328590   144.328590\n",
        "174   3166     10 -323.193  332.336983   332.336983\n",
        "375    928     10  -88.430  339.945803   339.945803\n",
        "96     820     10  -76.731  345.050082   345.050082\n",
        "\n",
        "[5 rows x 5 columns]"
       ]
      },
      {
       "output_type": "stream",
       "stream": "stdout",
       "text": [
        "\n",
        "22279 22279 1409.92 1104.683 1260.526\n",
        "     blob1  blob2       dt        dist  d_spacetime\n",
        "54   21943  22279    1.038   22.307819    22.307819\n",
        "71   21001  22279   41.999  228.419021   228.419021\n",
        "99   22453  22279  -29.595  241.118063   241.118063\n",
        "169  19898  22279   95.717  260.024925   260.024925\n",
        "171  19798  22279  105.938  277.080513   277.080513\n",
        "\n",
        "[5 rows x 5 columns]"
       ]
      },
      {
       "output_type": "stream",
       "stream": "stdout",
       "text": [
        "\n",
        "40088 40088 1249.857 1243.506 2120.626\n",
        "     blob1  blob2       dt        dist  d_spacetime\n",
        "142  40088  40088  -15.470   15.544156    15.544156\n",
        "310  40779  40088  -33.969  140.204316   140.204316\n",
        "384  40748  40088  -31.064  142.733490   142.733490\n",
        "256  41285  40088  -64.601  186.803935   186.803935\n",
        "197  41950  40088 -100.195  229.799018   229.799018\n",
        "\n",
        "[5 rows x 5 columns]"
       ]
      },
      {
       "output_type": "stream",
       "stream": "stdout",
       "text": [
        "\n",
        "49531 49531 993.461 1604.812 2659.129\n",
        "     blob1  blob2       dt        dist  d_spacetime\n",
        "143  49531  49531  -15.430   60.228329    60.228329\n",
        "64   46873  49531  114.641  169.368577   169.368577\n",
        "280  47617  49531  111.663  179.866761   179.866761\n",
        "279  47039  49531  144.905  244.013470   244.013470\n",
        "6    51891  49531 -140.736  266.861696   266.861696\n",
        "\n",
        "[5 rows x 5 columns]"
       ]
      },
      {
       "output_type": "stream",
       "stream": "stdout",
       "text": [
        "\n",
        "16087 16087 671.024 934.827 976.92\n",
        "     blob1  blob2       dt        dist  d_spacetime\n",
        "187  18161  16087 -108.940  179.206399   179.206399\n",
        "90   17166  16087  -71.968  180.664678   180.664678\n",
        "351  19669  16087 -167.140  196.055325   196.055325\n",
        "185  18324  16087 -116.873  200.344495   200.344495\n",
        "204  16263  16087  -15.457  202.061193   202.061193\n",
        "\n",
        "[5 rows x 5 columns]"
       ]
      },
      {
       "output_type": "stream",
       "stream": "stdout",
       "text": [
        "\n",
        "823 823 545.578 998.947 74.492\n",
        "     blob1  blob2       dt        dist  d_spacetime\n",
        "50     777    823    0.405   25.061319    25.061319\n",
        "73     532    823   22.305   95.314522    95.314522\n",
        "290    464    823   26.568  145.024356   145.024356\n",
        "208   2436    823 -172.566  176.535747   176.535747\n",
        "72     554    823   21.102  179.690349   179.690349\n",
        "\n",
        "[5 rows x 5 columns]"
       ]
      },
      {
       "output_type": "stream",
       "stream": "stdout",
       "text": [
        "\n",
        "2452 2452 1559.184 960.654 245.589\n",
        "     blob1  blob2       dt        dist  d_spacetime\n",
        "146   2537   2452  -14.867   16.763190    16.763190\n",
        "370   2621   2452  -15.230   17.027814    17.027814\n",
        "270   2378   2452    5.866   18.763519    18.763519\n",
        "31    3595   2452 -126.599  156.006459   156.006459\n",
        "83     610   2452  186.866  245.428125   245.428125\n",
        "\n",
        "[5 rows x 5 columns]"
       ]
      },
      {
       "output_type": "stream",
       "stream": "stdout",
       "text": [
        "\n",
        "3663 3663 12.866 2055.309 377.118\n",
        "     blob1  blob2       dt        dist  d_spacetime\n",
        "174   3166   3663   53.106  424.940640   424.940640\n",
        "165     76   3663  356.662  475.041582   475.041582\n",
        "140     10   3663  360.168  606.500174   606.500174\n",
        "375    928   3663  287.869  793.351335   793.351335\n",
        "93    2067   3663  147.337  805.065356   805.065356\n",
        "\n",
        "[5 rows x 5 columns]"
       ]
      },
      {
       "output_type": "stream",
       "stream": "stdout",
       "text": [
        "\n",
        "573 573 967.557 1347.883 53.323\n",
        "     blob1  blob2       dt        dist  d_spacetime\n",
        "125    334    573    1.733    7.173460     7.173460\n",
        "239   1090    573  -55.199  174.783773   174.783773\n",
        "188    950    573  -46.199  185.067446   185.067446\n",
        "158   2162    573 -167.966  190.754193   190.754193\n",
        "133   1469    573 -103.901  191.596588   191.596588\n",
        "\n",
        "[5 rows x 5 columns]"
       ]
      },
      {
       "output_type": "stream",
       "stream": "stdout",
       "text": [
        "\n",
        "2419 2419 799.43 1993.068 241.319\n",
        "     blob1  blob2       dt        dist  d_spacetime\n",
        "93    2067   2419   11.538  118.584399   118.584399\n",
        "148   2538   2419  -14.034  128.644237   128.644237\n",
        "375    928   2419  152.070  163.011369   163.011369\n",
        "96     820   2419  163.769  211.523043   211.523043\n",
        "9     3193   2419 -256.962  270.298209   270.298209\n",
        "\n",
        "[5 rows x 5 columns]"
       ]
      },
      {
       "output_type": "stream",
       "stream": "stdout",
       "text": [
        "\n",
        "44825 44825 692.856 1296.745 2379.731\n",
        "     blob1  blob2       dt        dist  d_spacetime\n",
        "149  44825  44825  -13.834   27.438943    27.438943\n",
        "40   42560  44825  105.568  148.425395   148.425395\n",
        "244  42942  44825  101.804  152.637020   152.637020\n",
        "296  46543  44825 -109.558  188.849501   188.849501\n",
        "302  46526  44825 -108.017  208.607879   208.607879\n",
        "\n",
        "[5 rows x 5 columns]"
       ]
      },
      {
       "output_type": "stream",
       "stream": "stdout",
       "text": [
        "\n",
        "2843 2843 1194.621 678.205 281.919\n",
        "     blob1  blob2       dt        dist  d_spacetime\n",
        "383   1443   2843  127.530  162.166501   162.166501\n",
        "385   1456   2843  126.400  162.712028   162.712028\n",
        "265   5084   2843 -171.199  218.005771   218.005771\n",
        "61    1303   2843  138.803  221.916884   221.916884\n",
        "304   1137   2843  170.397  232.689700   232.689700\n",
        "\n",
        "[5 rows x 5 columns]"
       ]
      },
      {
       "output_type": "stream",
       "stream": "stdout",
       "text": [
        "\n",
        "2620 2620 1500.189 296.706 260.819\n",
        "     blob1  blob2      dt        dist  d_spacetime\n",
        "109   2314   2620   0.629   24.492691    24.492691\n",
        "128   2919   2620 -34.666  182.972905   182.972905\n",
        "58    2057   2620  44.863  209.586868   209.586868\n",
        "119   3116   2620 -57.768  309.467726   309.467726\n",
        "252   2188   2620  34.134  311.258194   311.258194\n",
        "\n",
        "[5 rows x 5 columns]"
       ]
      },
      {
       "output_type": "stream",
       "stream": "stdout",
       "text": [
        "\n",
        "44421 44421 846.54 1033.428 2363.695\n",
        "     blob1  blob2       dt        dist  d_spacetime\n",
        "308  44345  44421    3.680   44.177375    44.177375\n",
        "362  44537  44421   -5.664   65.802207    65.802207\n",
        "150  44759  44421  -13.300   84.040291    84.040291\n",
        "63   44260  44421    9.568  114.007539   114.007539\n",
        "243  41605  44421  161.215  174.318173   174.318173\n",
        "\n",
        "[5 rows x 5 columns]"
       ]
      },
      {
       "output_type": "stream",
       "stream": "stdout",
       "text": [
        "\n",
        "54603 54603 995.081 902.545 2951.892\n",
        "     blob1  blob2      dt        dist  d_spacetime\n",
        "348  54582  54603   1.063    1.485176     1.485176\n",
        "74   54522  54603   3.732   16.598050    16.598050\n",
        "151  54603  54603 -13.274   16.833914    16.833914\n",
        "282  55880  54603 -65.308  116.506669   116.506669\n",
        "216  56232  54603 -83.636  233.510963   233.510963\n",
        "\n",
        "[5 rows x 5 columns]"
       ]
      },
      {
       "output_type": "stream",
       "stream": "stdout",
       "text": [
        "\n",
        "42099 42099 1023.981 1382.666 2226.179\n",
        "     blob1  blob2      dt        dist  d_spacetime\n",
        "281  42511  42099 -28.112   54.642985    54.642985\n",
        "197  41950  42099   5.358   73.470535    73.470535\n",
        "315  43543  42099 -84.551   88.076487    88.076487\n",
        "256  41285  42099  40.952  103.664675   103.664675\n",
        "371  43321  42099 -68.783  144.808870   144.808870\n",
        "\n",
        "[5 rows x 5 columns]"
       ]
      },
      {
       "output_type": "stream",
       "stream": "stdout",
       "text": [
        "\n",
        "53291 53291 1004.601 1396.614 2874.062\n",
        "     blob1  blob2       dt        dist  d_spacetime\n",
        "286  54046  53291  -45.928   47.451993    47.451993\n",
        "6    51891  53291   74.197   90.436290    90.436290\n",
        "3    47333  53291  252.802  268.711947   268.711947\n",
        "82   54391  53291  -66.835  297.457168   297.457168\n",
        "143  49531  53291  199.503  332.213526   332.213526\n",
        "\n",
        "[5 rows x 5 columns]"
       ]
      },
      {
       "output_type": "stream",
       "stream": "stdout",
       "text": [
        "\n",
        "27037 27037 379.085 625.266 1472.144\n",
        "     blob1  blob2      dt       dist  d_spacetime\n",
        "359  26985  27037   2.250  10.920113    10.920113\n",
        "113  26126  27037  35.151  39.305950    39.305950\n",
        "153  27387  27037 -12.783  40.905163    40.905163\n",
        "293  26018  27037  38.764  48.905976    48.905976\n",
        "34   25840  27037  46.756  52.974751    52.974751\n",
        "\n",
        "[5 rows x 5 columns]"
       ]
      },
      {
       "output_type": "stream",
       "stream": "stdout",
       "text": [
        "\n",
        "19112 19112 524.603 1277.908 1118.488\n",
        "     blob1  blob2       dt        dist  d_spacetime\n",
        "326  19082  19112    0.997    1.760631     1.760631\n",
        "33   18283  19112   28.829  163.009067   163.009067\n",
        "380  16494  19112  117.568  208.948293   208.948293\n",
        "204  16263  19112  126.111  213.881908   213.881908\n",
        "388  19846  19112  -33.971  259.371143   259.371143\n",
        "\n",
        "[5 rows x 5 columns]"
       ]
      },
      {
       "output_type": "stream",
       "stream": "stdout",
       "text": [
        "\n",
        "62502 62502 1353.718 522.739 3324.028\n",
        "     blob1  blob2       dt        dist  d_spacetime\n",
        "154  62786  62502  -12.238   53.957168    53.957168\n",
        "172  58149  62502  197.209  220.444694   220.444694\n",
        "218  56443  62502  280.299  371.720018   371.720018\n",
        "84   57321  62502  238.446  400.067350   400.067350\n",
        "303  57189  62502  244.563  410.768956   410.768956\n",
        "\n",
        "[5 rows x 5 columns]"
       ]
      },
      {
       "output_type": "stream",
       "stream": "stdout",
       "text": [
        "\n",
        "2591 2591 1249.915 1335.969 255.15\n",
        "     blob1  blob2      dt       dist  d_spacetime\n",
        "155   2734   2591 -12.171  12.185194    12.185194\n",
        "170   2423   2591   9.963  53.366259    53.366259\n",
        "294   2957   2591 -45.958  71.106958    71.106958\n",
        "322   2610   2591  -5.734  71.669644    71.669644\n",
        "366   2599   2591  -2.790  84.054138    84.054138\n",
        "\n",
        "[5 rows x 5 columns]"
       ]
      },
      {
       "output_type": "stream",
       "stream": "stdout",
       "text": [
        "\n",
        "13790 13790 1071.025 1028.926 862.257\n",
        "     blob1  blob2      dt        dist  d_spacetime\n",
        "87   14000  13790 -12.829   48.635032    48.635032\n",
        "344  13708  13790   5.069   70.320429    70.320429\n",
        "299  14292  13790 -27.268  163.102551   163.102551\n",
        "27   12411  13790  59.069  167.599602   167.599602\n",
        "318  14886  13790 -55.764  173.177891   173.177891\n",
        "\n",
        "[5 rows x 5 columns]"
       ]
      },
      {
       "output_type": "stream",
       "stream": "stdout",
       "text": [
        "\n",
        "63073 63073 741.895 195.614 3347.098\n",
        "     blob1  blob2       dt        dist  d_spacetime\n",
        "266  64164  63073  -51.103   51.103254    51.103254\n",
        "110  65193  63073 -100.636  103.673506   103.673506\n",
        "246  65458  63073 -104.503  112.061690   112.061690\n",
        "240  65492  63073 -108.969  117.137426   117.137426\n",
        "300  65574  63073 -110.701  118.953782   118.953782\n",
        "\n",
        "[5 rows x 5 columns]"
       ]
      },
      {
       "output_type": "stream",
       "stream": "stdout",
       "text": [
        "\n",
        "55931 55931 706.271 218.755 3017.25\n",
        "     blob1  blob2       dt        dist  d_spacetime\n",
        "206  57139  55931  -58.842  200.877355   200.877355\n",
        "266  64164  55931 -380.951  383.327866   383.327866\n",
        "110  65193  55931 -430.484  431.699702   431.699702\n",
        "246  65458  55931 -434.351  436.261417   436.261417\n",
        "240  65492  55931 -438.817  440.888979   440.888979\n",
        "\n",
        "[5 rows x 5 columns]"
       ]
      },
      {
       "output_type": "stream",
       "stream": "stdout",
       "text": [
        "\n",
        "52037 52037 306.667 722.912 2804.061\n",
        "     blob1  blob2       dt        dist  d_spacetime\n",
        "157  52073  52037  -11.905   40.261839    40.261839\n",
        "94   52790  52037  -47.703  302.400622   302.400622\n",
        "346  52207  52037  -10.702  387.568472   387.568472\n",
        "329  48313  52037  211.400  391.808804   391.808804\n",
        "22   47092  52037  167.698  436.285089   436.285089\n",
        "\n",
        "[5 rows x 5 columns]"
       ]
      },
      {
       "output_type": "stream",
       "stream": "stdout",
       "text": [
        "\n",
        "2030 2030 765.622 1688.409 209.487\n",
        "     blob1  blob2       dt        dist  d_spacetime\n",
        "260   1997   2030    0.269    8.625938     8.625938\n",
        "93    2067   2030  -20.294  189.644922   189.644922\n",
        "269   1629   2030   35.030  237.203438   237.203438\n",
        "133   1469   2030   52.263  245.190245   245.190245\n",
        "188    950   2030  109.965  264.174891   264.174891\n",
        "\n",
        "[5 rows x 5 columns]"
       ]
      },
      {
       "output_type": "stream",
       "stream": "stdout",
       "text": [
        "\n",
        "59682 59682 914.034 1087.964 3208.016\n",
        "     blob1  blob2       dt        dist  d_spacetime\n",
        "173  59532  59682    5.187   74.165727    74.165727\n",
        "278  59493  59682    7.249   97.590852    97.590852\n",
        "301  59463  59682    9.152  120.451752   120.451752\n",
        "192  63639  59682 -173.719  246.947868   246.947868\n",
        "349  59217  59682   23.865  261.878166   261.878166\n",
        "\n",
        "[5 rows x 5 columns]"
       ]
      },
      {
       "output_type": "stream",
       "stream": "stdout",
       "text": [
        "\n",
        "47528 47528 923.789 745.054 2541.89\n",
        "     blob1  blob2       dt        dist  d_spacetime\n",
        "160  47780  47528  -11.560   49.147374    49.147374\n",
        "1    47027  47528   19.925  106.558961   106.558961\n",
        "26   43181  47528  249.801  270.343022   270.343022\n",
        "42   47282  47528   -1.269  306.512886   306.512886\n",
        "85   47845  47528  -22.740  310.144689   310.144689\n",
        "\n",
        "[5 rows x 5 columns]"
       ]
      },
      {
       "output_type": "stream",
       "stream": "stdout",
       "text": [
        "\n",
        "50447 50447 523.879 1379.895 2714.16\n",
        "     blob1  blob2       dt        dist  d_spacetime\n",
        "124  50320  50447    5.037   73.231572    73.231572\n",
        "178  50212  50447    7.032   94.784906    94.784906\n",
        "296  46543  50447  224.871  244.524991   244.524991\n",
        "302  46526  50447  226.412  247.653312   247.653312\n",
        "356  47939  50447  146.864  250.791348   250.791348\n",
        "\n",
        "[5 rows x 5 columns]"
       ]
      },
      {
       "output_type": "stream",
       "stream": "stdout",
       "text": [
        "\n",
        "23119 23119 770.73 1050.051 1299.989\n",
        "     blob1  blob2       dt        dist  d_spacetime\n",
        "285  23120  23119   -1.398   16.505117    16.505117\n",
        "289  23045  23119    2.929   17.370642    17.370642\n",
        "242  20570  23119  105.329  108.270426   108.270426\n",
        "179  20405  23119  108.732  108.786783   108.786783\n",
        "7    21218  23119   82.468  132.031064   132.031064\n",
        "\n",
        "[5 rows x 5 columns]"
       ]
      },
      {
       "output_type": "stream",
       "stream": "stdout",
       "text": [
        "\n",
        "2220 2220 1187.348 1488.545 227.55\n",
        "     blob1  blob2       dt        dist  d_spacetime\n",
        "43    2187   2220    0.333    3.524633     3.524633\n",
        "162   2380   2220  -11.364   87.345042    87.345042\n",
        "8     3038   2220  -79.539  100.975378   100.975378\n",
        "37    3277   2220 -101.756  109.548975   109.548975\n",
        "223   3304   2220 -107.135  111.089671   111.089671\n",
        "\n",
        "[5 rows x 5 columns]"
       ]
      },
      {
       "output_type": "stream",
       "stream": "stdout",
       "text": [
        "\n",
        "62766 62766 927.412 1341.243 3334.918\n",
        "     blob1  blob2       dt        dist  d_spacetime\n",
        "163  62942  62766  -11.117   11.950934    11.950934\n",
        "336  60832  62766   77.325  257.288417   257.288417\n",
        "173  59532  62766  132.089  338.345658   338.345658\n",
        "278  59493  62766  134.151  354.292305   354.292305\n",
        "258  66343  62766 -163.017  361.090543   361.090543\n",
        "\n",
        "[5 rows x 5 columns]"
       ]
      },
      {
       "output_type": "stream",
       "stream": "stdout",
       "text": [
        "\n",
        "22035 22035 1442.258 1307.625 1247.884\n",
        "     blob1  blob2      dt        dist  d_spacetime\n",
        "71   21001  22035  29.357   36.787514    36.787514\n",
        "99   22453  22035 -42.237   57.468073    57.468073\n",
        "169  19898  22035  83.075  113.081867   113.081867\n",
        "171  19798  22035  93.296  118.466722   118.466722\n",
        "54   21943  22035 -11.604  220.907899   220.907899\n",
        "\n",
        "[5 rows x 5 columns]"
       ]
      },
      {
       "output_type": "stream",
       "stream": "stdout",
       "text": [
        "\n",
        "11483 11483 230.04 379.815 737.348\n",
        "     blob1  blob2       dt        dist  d_spacetime\n",
        "51   11369  11483    1.591    5.160340     5.160340\n",
        "251  11578  11483   -8.538   26.063453    26.063453\n",
        "164  11660  11483  -10.606   27.157436    27.157436\n",
        "202   8878  11483  122.498  425.884179   425.884179\n",
        "230   3446  11483  386.031  494.558886   494.558886\n",
        "\n",
        "[5 rows x 5 columns]"
       ]
      },
      {
       "output_type": "stream",
       "stream": "stdout",
       "text": [
        "\n",
        "76 76 295.447 2071.235 9.887\n",
        "     blob1  blob2       dt        dist  d_spacetime\n",
        "165     76     76  -10.569  100.682748   100.682748\n",
        "140     10     76   -7.063  226.462461   226.462461\n",
        "174   3166     76 -314.125  360.662254   360.662254\n",
        "375    928     76  -79.362  465.111242   465.111242\n",
        "96     820     76  -67.663  493.226199   493.226199\n",
        "\n",
        "[5 rows x 5 columns]"
       ]
      },
      {
       "output_type": "stream",
       "stream": "stdout",
       "text": [
        "\n",
        "1047 1047 768.389 1001.116 100.318\n",
        "     blob1  blob2       dt        dist  d_spacetime\n",
        "72     554   1047   46.928  211.515401   211.515401\n",
        "50     777   1047   26.231  218.428202   218.428202\n",
        "226     35   1047   92.970  222.795577   222.795577\n",
        "23    2411   1047 -140.790  224.465306   224.465306\n",
        "314   2342   1047 -136.939  224.789945   224.789945\n",
        "\n",
        "[5 rows x 5 columns]"
       ]
      },
      {
       "output_type": "stream",
       "stream": "stdout",
       "text": [
        "\n",
        "808 808 1489.376 1467.244 72.223\n",
        "     blob1  blob2      dt        dist  d_spacetime\n",
        "379    784    808   2.471   27.658275    27.658275\n",
        "381    645    808  13.832  144.584246   144.584246\n",
        "237     34    808  65.343  200.544741   200.544741\n",
        "331    556    808  20.502  217.456204   217.456204\n",
        "264    829    808  -4.856  286.812295   286.812295\n",
        "\n",
        "[5 rows x 5 columns]"
       ]
      },
      {
       "output_type": "stream",
       "stream": "stdout",
       "text": [
        "\n",
        "18622 18622 761.018 1059.609 1098.617\n",
        "     blob1  blob2      dt       dist  d_spacetime\n",
        "185  18324  18622   4.824  11.525854    11.525854\n",
        "187  18161  18622  12.757  18.155033    18.155033\n",
        "90   17166  18622  49.729  51.368040    51.368040\n",
        "351  19669  18622 -45.443  73.321029    73.321029\n",
        "179  20405  18622 -92.640  93.297207    93.297207\n",
        "\n",
        "[5 rows x 5 columns]"
       ]
      },
      {
       "output_type": "stream",
       "stream": "stdout",
       "text": [
        "\n",
        "38414 38414 910.594 813.366 2035.59\n",
        "     blob1  blob2       dt        dist  d_spacetime\n",
        "166  38414  38414   -9.803   10.329718    10.329718\n",
        "209  34260  38414  220.231  224.975649   224.975649\n",
        "106  38445  38414   -2.788  273.398574   273.398574\n",
        "194  37836  38414   29.361  276.938638   276.938638\n",
        "26   43181  38414 -256.499  292.894776   292.894776\n",
        "\n",
        "[5 rows x 5 columns]"
       ]
      },
      {
       "output_type": "stream",
       "stream": "stdout",
       "text": [
        "\n",
        "4848 4848 1062.608 1174.334 439.855\n",
        "     blob1  blob2      dt        dist  d_spacetime\n",
        "287   4423   4848  16.882   20.039339    20.039339\n",
        "13    3120   4848  77.832  103.979985   103.979985\n",
        "227   6821   4848 -94.334  111.514421   111.514421\n",
        "190   5179   4848 -16.394  172.498066   172.498066\n",
        "182   3361   4848  99.039  201.669003   201.669003\n",
        "\n",
        "[5 rows x 5 columns]"
       ]
      },
      {
       "output_type": "stream",
       "stream": "stdout",
       "text": [
        "\n",
        "36311 36311 1347.693 1896.916 1919.326\n",
        "     blob1  blob2      dt        dist  d_spacetime\n",
        "167  36475  36311  -9.503  116.161599   116.161599\n",
        "333  35767  36311  27.468  131.099536   131.099536\n",
        "272  35709  36311  28.668  132.011253   132.011253\n",
        "340  35617  36311  34.543  171.117410   171.117410\n",
        "376  36613  36311 -18.533  227.473562   227.473562\n",
        "\n",
        "[5 rows x 5 columns]"
       ]
      },
      {
       "output_type": "stream",
       "stream": "stdout",
       "text": [
        "\n",
        "1535 1535 1278.578 530.556 164.023\n",
        "     blob1  blob2       dt        dist  d_spacetime\n",
        "385   1456   1535    8.504   84.119980    84.119980\n",
        "383   1443   1535    9.634   94.807435    94.807435\n",
        "119   3116   1535 -154.564  191.693739   191.693739\n",
        "61    1303   1535   20.907  227.958828   227.958828\n",
        "86     917   1535   46.643  294.795260   294.795260\n",
        "\n",
        "[5 rows x 5 columns]"
       ]
      },
      {
       "output_type": "stream",
       "stream": "stdout",
       "text": [
        "\n",
        "3113 3113 1085.938 2339.962 315.418\n",
        "     blob1  blob2       dt        dist  d_spacetime\n",
        "284   2924   3113   18.461  108.622158   108.622158\n",
        "112   2807   3113   31.970  183.634245   183.634245\n",
        "148   2538   3113   60.065  332.375960   332.375960\n",
        "9     3193   3113 -182.863  414.462300   414.462300\n",
        "229   1435   3113  164.629  442.163678   442.163678\n",
        "\n",
        "[5 rows x 5 columns]"
       ]
      },
      {
       "output_type": "stream",
       "stream": "stdout",
       "text": [
        "\n",
        "26880 26880 1190.338 915.069 1465.06\n",
        "     blob1  blob2      dt        dist  d_spacetime\n",
        "102  27001  26880  -6.567   34.176498    34.176498\n",
        "228  26360  26880  16.708   61.415371    61.415371\n",
        "181  28090  26880 -47.565   81.345945    81.345945\n",
        "248  26083  26880  27.550  127.793935   127.793935\n",
        "309  27589  26880 -25.366  164.507449   164.507449\n",
        "\n",
        "[5 rows x 5 columns]"
       ]
      },
      {
       "output_type": "stream",
       "stream": "stdout",
       "text": [
        "\n",
        "52621 52621 968.558 1391.166 2841.897\n",
        "     blob1  blob2       dt        dist  d_spacetime\n",
        "6    51891  52621   42.032   45.185741    45.185741\n",
        "286  54046  52621  -78.093   90.298284    90.298284\n",
        "3    47333  52621  220.637  232.820078   232.820078\n",
        "280  47617  52621  294.431  303.824745   303.824745\n",
        "64   46873  52621  297.409  310.987132   310.987132\n",
        "\n",
        "[5 rows x 5 columns]"
       ]
      },
      {
       "output_type": "stream",
       "stream": "stdout",
       "text": [
        "\n",
        "19898 19898 1373.388 1344.835 1155.591\n",
        "     blob1  blob2       dt        dist  d_spacetime\n",
        "169  19898  19898   -9.218    9.352685     9.352685\n",
        "171  19798  19898    1.003   23.626138    23.626138\n",
        "71   21001  19898  -62.936   88.617937    88.617937\n",
        "99   22453  19898 -134.530  144.741001   144.741001\n",
        "78   19862  19898    1.353  235.204565   235.204565\n",
        "\n",
        "[5 rows x 5 columns]"
       ]
      },
      {
       "output_type": "stream",
       "stream": "stdout",
       "text": [
        "\n",
        "2329 2329 1062.451 1332.243 235.989\n",
        "     blob1  blob2      dt        dist  d_spacetime\n",
        "104   2455   2329 -10.930   56.090072    56.090072\n",
        "91    1681   2329  21.504  114.695738   114.695738\n",
        "162   2380   2329  -2.925  131.506854   131.506854\n",
        "30    1439   2329  83.936  155.132693   155.132693\n",
        "8     3038   2329 -71.100  157.118128   157.118128\n",
        "\n",
        "[5 rows x 5 columns]"
       ]
      },
      {
       "output_type": "stream",
       "stream": "stdout",
       "text": [
        "\n",
        "19718 19718 1390.83 1360.424 1145.457\n",
        "     blob1  blob2       dt        dist  d_spacetime\n",
        "171  19798  19718   -9.131    9.159239     9.159239\n",
        "169  19898  19718  -19.352   30.185150    30.185150\n",
        "71   21001  19718  -73.070   90.604317    90.604317\n",
        "99   22453  19718 -144.664  150.032151   150.032151\n",
        "78   19862  19718   -8.781  255.038696   255.038696\n",
        "\n",
        "[5 rows x 5 columns]"
       ]
      },
      {
       "output_type": "stream",
       "stream": "stdout",
       "text": [
        "\n",
        "3593 3593 1566.484 373.411 368.041\n",
        "     blob1  blob2       dt        dist  d_spacetime\n",
        "109   2314   3593  107.851  132.639781   132.639781\n",
        "58    2057   3593  152.085  188.642812   188.642812\n",
        "252   2188   3593  141.356  263.351070   263.351070\n",
        "128   2919   3593   72.556  288.022464   288.022464\n",
        "368   6149   3593 -133.677  340.496271   340.496271\n",
        "\n",
        "[5 rows x 5 columns]"
       ]
      },
      {
       "output_type": "stream",
       "stream": "stdout",
       "text": [
        "\n",
        "53412 53412 933.574 975.656 2878.928\n",
        "     blob1  blob2       dt        dist  d_spacetime\n",
        "348  54582  53412  -71.901  120.126952   120.126952\n",
        "74   54522  53412  -69.232  128.619662   128.619662\n",
        "151  54603  53412  -86.238  134.709367   134.709367\n",
        "282  55880  53412 -138.272  214.177547   214.177547\n",
        "275  49865  53412  196.357  284.020519   284.020519\n",
        "\n",
        "[5 rows x 5 columns]"
       ]
      },
      {
       "output_type": "stream",
       "stream": "stdout",
       "text": [
        "\n",
        "58080 58080 1520.91 466.693 3117.897\n",
        "     blob1  blob2       dt        dist  d_spacetime\n",
        "172  58149  58080   -8.922  100.382591   100.382591\n",
        "84   57321  58080   32.315  251.226533   251.226533\n",
        "154  62786  58080 -218.369  287.211237   287.211237\n",
        "303  57189  58080   38.432  297.575659   297.575659\n",
        "105  52211  58080  299.875  378.425542   378.425542\n",
        "\n",
        "[5 rows x 5 columns]"
       ]
      },
      {
       "output_type": "stream",
       "stream": "stdout",
       "text": [
        "\n",
        "59387 59387 543.927 1029.26 3194.166\n",
        "     blob1  blob2       dt        dist  d_spacetime\n",
        "357  61488  59387  -89.499   94.842872    94.842872\n",
        "19   54924  59387  131.574  134.023480   134.023480\n",
        "126  64475  59387 -238.835  239.542144   239.542144\n",
        "261  65009  59387 -243.435  244.036097   244.036097\n",
        "70   66484  59387 -347.750  347.850515   347.850515\n",
        "\n",
        "[5 rows x 5 columns]"
       ]
      },
      {
       "output_type": "stream",
       "stream": "stdout",
       "text": [
        "\n",
        "3112 3112 422.388 676.406 315.289\n",
        "     blob1  blob2       dt        dist  d_spacetime\n",
        "95    2959   3112    9.100   60.058372    60.058372\n",
        "230   3446   3112  -36.028   62.865677    62.865677\n",
        "39    1468   3112  127.598  134.080721   134.080721\n",
        "66     907   3112  179.434  180.698084   180.698084\n",
        "116   1476   3112  150.607  216.489892   216.489892\n",
        "\n",
        "[5 rows x 5 columns]"
       ]
      },
      {
       "output_type": "stream",
       "stream": "stdout",
       "text": [
        "\n",
        "263 263 1257.044 1142.154 24.45\n",
        "     blob1  blob2      dt        dist  d_spacetime\n",
        "220    237    263   2.334    2.684628     2.684628\n",
        "175    359    263  -8.541  100.616906   100.616906\n",
        "129    211    263   1.263  140.215771   140.215771\n",
        "201    400    263 -19.967  168.465715   168.465715\n",
        "81     827    263 -76.604  179.281526   179.281526\n",
        "\n",
        "[5 rows x 5 columns]"
       ]
      },
      {
       "output_type": "stream",
       "stream": "stdout",
       "text": [
        "\n",
        "3835 3835 1683.701 553.432 392.955\n",
        "     blob1  blob2       dt        dist  d_spacetime\n",
        "252   2188   3835  166.270  199.287234   199.287234\n",
        "58    2057   3835  176.999  215.005489   215.005489\n",
        "176   1355   3835  251.098  291.554700   291.554700\n",
        "109   2314   3835  132.765  320.576206   320.576206\n",
        "86     917   3835  275.575  323.638827   323.638827\n",
        "\n",
        "[5 rows x 5 columns]"
       ]
      },
      {
       "output_type": "stream",
       "stream": "stdout",
       "text": [
        "\n",
        "16996 16996 1683.278 1604.006 1025.555\n",
        "     blob1  blob2       dt        dist  d_spacetime\n",
        "345  10018  16996  357.133  364.733114   364.733114\n",
        "338   9989  16996  358.836  365.155625   365.155625\n",
        "171  19798  16996 -129.033  401.667015   401.667015\n",
        "71   21001  16996 -192.972  419.340011   419.340011\n",
        "169  19898  16996 -139.254  426.999082   426.999082\n",
        "\n",
        "[5 rows x 5 columns]"
       ]
      },
      {
       "output_type": "stream",
       "stream": "stdout",
       "text": [
        "\n",
        "1318 1318 1582.718 680.031 133.318\n",
        "     blob1  blob2      dt        dist  d_spacetime\n",
        "176   1355   1318  -8.539   36.342386    36.342386\n",
        "86     917   1318  15.938   51.534602    51.534602\n",
        "252   2188   1318 -93.367  126.242176   126.242176\n",
        "339    661   1318  73.267  137.746145   137.746145\n",
        "83     610   1318  74.595  145.074250   145.074250\n",
        "\n",
        "[5 rows x 5 columns]"
       ]
      },
      {
       "output_type": "stream",
       "stream": "stdout",
       "text": [
        "\n",
        "42002 42002 809.67 1075.978 2222.813\n",
        "     blob1  blob2       dt        dist  d_spacetime\n",
        "243  41605  42002   20.333   30.991408    30.991408\n",
        "308  44345  42002 -137.202  159.018398   159.018398\n",
        "362  44537  42002 -146.546  166.528691   166.528691\n",
        "152  42284  42002  -16.544  176.478140   176.478140\n",
        "150  44759  42002 -154.182  182.251381   182.251381\n",
        "\n",
        "[5 rows x 5 columns]"
       ]
      },
      {
       "output_type": "stream",
       "stream": "stdout",
       "text": [
        "\n",
        "50176 50176 723.699 1069.871 2698.727\n",
        "     blob1  blob2       dt        dist  d_spacetime\n",
        "275  49865  50176   16.156   68.796202    68.796202\n",
        "85   47845  50176  134.097  162.486133   162.486133\n",
        "59   46998  50176  177.707  189.880783   189.880783\n",
        "42   47282  50176  155.568  192.771052   192.771052\n",
        "247  48018  50176  124.467  206.509141   206.509141\n",
        "\n",
        "[5 rows x 5 columns]"
       ]
      },
      {
       "output_type": "stream",
       "stream": "stdout",
       "text": [
        "\n",
        "20405 20405 768.881 1050.872 1182.988\n",
        "     blob1  blob2      dt       dist  d_spacetime\n",
        "179  20405  20405  -8.269   8.424269     8.424269\n",
        "242  20570  20405 -11.672  28.294345    28.294345\n",
        "351  19669  20405  38.928  64.919750    64.919750\n",
        "185  18324  20405  89.195  90.088474    90.088474\n",
        "187  18161  20405  97.128  97.741311    97.741311\n",
        "\n",
        "[5 rows x 5 columns]"
       ]
      },
      {
       "output_type": "stream",
       "stream": "stdout",
       "text": [
        "\n",
        "64706 64706 751.864 817.503 3420.734\n",
        "     blob1  blob2      dt       dist  d_spacetime\n",
        "180  64706  64706  -8.197   8.856973     8.856973\n",
        "245  64596  64706   1.136  23.408378    23.408378\n",
        "231  65575  64706 -39.796  72.392653    72.392653\n",
        "374  65648  64706 -40.201  72.659314    72.659314\n",
        "323  65685  64706 -43.135  74.253097    74.253097\n",
        "\n",
        "[5 rows x 5 columns]"
       ]
      },
      {
       "output_type": "stream",
       "stream": "stdout",
       "text": [
        "\n",
        "27976 27976 1088.064 1001.908 1504.693\n",
        "     blob1  blob2      dt       dist  d_spacetime\n",
        "309  27589  27976  14.267  33.532664    33.532664\n",
        "358  27653  27976  12.666  53.174630    53.174630\n",
        "248  26083  27976  67.183  67.917757    67.917757\n",
        "181  28090  27976  -7.932  69.693026    69.693026\n",
        "228  26360  27976  56.341  94.230030    94.230030\n",
        "\n",
        "[5 rows x 5 columns]"
       ]
      },
      {
       "output_type": "stream",
       "stream": "stdout",
       "text": [
        "\n",
        "3361 3361 1248.504 1258.549 332.889\n",
        "     blob1  blob2      dt       dist  d_spacetime\n",
        "182   3361   3361  -7.927  31.004834    31.004834\n",
        "294   2957   3361  31.781  45.431520    45.431520\n",
        "334   2770   3361  59.633  72.937373    72.937373\n",
        "322   2610   3361  72.005  72.994051    72.994051\n",
        "366   2599   3361  74.949  81.003712    81.003712\n",
        "\n",
        "[5 rows x 5 columns]"
       ]
      },
      {
       "output_type": "stream",
       "stream": "stdout",
       "text": [
        "\n",
        "3668 3668 1605.791 404.536 377.188\n",
        "     blob1  blob2       dt        dist  d_spacetime\n",
        "109   2314   3668  116.998  172.331565   172.331565\n",
        "58    2057   3668  161.232  180.999864   180.999864\n",
        "252   2188   3668  150.503  243.960848   243.960848\n",
        "128   2919   3668   81.703  338.862517   338.862517\n",
        "86     917   3668  259.808  362.641524   362.641524\n",
        "\n",
        "[5 rows x 5 columns]"
       ]
      },
      {
       "output_type": "stream",
       "stream": "stdout",
       "text": [
        "\n",
        "3734 3734 1658.973 477.987 385.019\n",
        "     blob1  blob2       dt        dist  d_spacetime\n",
        "58    2057   3734  169.063  185.228065   185.228065\n",
        "252   2188   3734  158.334  211.415887   211.415887\n",
        "109   2314   3734  124.829  250.118837   250.118837\n",
        "176   1355   3734  243.162  322.671432   322.671432\n",
        "86     917   3734  267.639  338.206998   338.206998\n",
        "\n",
        "[5 rows x 5 columns]"
       ]
      },
      {
       "output_type": "stream",
       "stream": "stdout",
       "text": [
        "\n",
        "55114 55114 991.011 904.31 2978.428\n",
        "     blob1  blob2      dt        dist  d_spacetime\n",
        "151  54603  55114  13.262   18.349126    18.349126\n",
        "348  54582  55114  27.599   28.015089    28.015089\n",
        "74   54522  55114  30.268   35.414300    35.414300\n",
        "282  55880  55114 -38.772  104.098725   104.098725\n",
        "216  56232  55114 -57.100  229.435348   229.435348\n",
        "\n",
        "[5 rows x 5 columns]"
       ]
      },
      {
       "output_type": "stream",
       "stream": "stdout",
       "text": [
        "\n",
        "503 503 1253.068 1284.381 49.121\n",
        "     blob1  blob2       dt        dist  d_spacetime\n",
        "220    237    503   27.005  144.630685   144.630685\n",
        "30    1439    503 -102.932  151.382092   151.382092\n",
        "81     827    503  -51.933  160.955599   160.955599\n",
        "145    872    503  -40.322  171.382160   171.382160\n",
        "201    400    503    4.704  182.022005   182.022005\n",
        "\n",
        "[5 rows x 5 columns]"
       ]
      },
      {
       "output_type": "stream",
       "stream": "stdout",
       "text": [
        "\n",
        "38931 38931 1361.789 868.279 2064.563\n",
        "     blob1  blob2      dt        dist  d_spacetime\n",
        "183  38931  38931  -7.463   54.128013    54.128013\n",
        "347  38428  38931  27.234  301.992379   301.992379\n",
        "364  38375  38931  31.373  351.120528   351.120528\n",
        "142  40088  38931 -71.533  397.410578   397.410578\n",
        "166  38414  38931  19.170  457.503136   457.503136\n",
        "\n",
        "[5 rows x 5 columns]"
       ]
      },
      {
       "output_type": "stream",
       "stream": "stdout",
       "text": [
        "\n",
        "1294 1294 735.989 1393.741 131.38\n",
        "     blob1  blob2       dt        dist  d_spacetime\n",
        "203   1263   1294    0.342   25.862002    25.862002\n",
        "213   1193   1294    9.161  109.599119   109.599119\n",
        "127    207   1294  110.124  158.174104   158.174104\n",
        "120    246   1294  108.790  173.468924   173.468924\n",
        "121    260   1294  104.733  190.568535   190.568535\n",
        "\n",
        "[5 rows x 5 columns]"
       ]
      },
      {
       "output_type": "stream",
       "stream": "stdout",
       "text": [
        "\n",
        "2379 2379 1558.451 961.063 237.918\n",
        "     blob1  blob2       dt        dist  d_spacetime\n",
        "270   2378   2379   -1.805   17.428678    17.428678\n",
        "146   2537   2379  -22.538   23.637360    23.637360\n",
        "370   2621   2379  -22.901   23.945243    23.945243\n",
        "31    3595   2379 -134.270  162.406612   162.406612\n",
        "83     610   2379  179.195  239.902473   239.902473\n",
        "\n",
        "[5 rows x 5 columns]"
       ]
      },
      {
       "output_type": "stream",
       "stream": "stdout",
       "text": [
        "\n",
        "1555 1555 924.351 1511.945 165.223\n",
        "     blob1  blob2      dt        dist  d_spacetime\n",
        "269   1629   1555  -9.234    9.705589     9.705589\n",
        "133   1469   1555   7.999   19.208386    19.208386\n",
        "188    950   1555  65.701   69.292451    69.292451\n",
        "363   2597   1555 -91.996   98.968554    98.968554\n",
        "16    1634   1555 -13.560  102.976157   102.976157\n",
        "\n",
        "[5 rows x 5 columns]"
       ]
      },
      {
       "output_type": "stream",
       "stream": "stdout",
       "text": [
        "\n",
        "597 597 564.821 1046.285 55.018\n",
        "     blob1  blob2       dt        dist  d_spacetime\n",
        "73     532    597    2.831   49.094584    49.094584\n",
        "50     777    597  -19.069   74.667585    74.667585\n",
        "290    464    597    7.094   98.775079    98.775079\n",
        "250    391    597   15.296  178.724834   178.724834\n",
        "79    1506    597 -108.000  194.401618   194.401618\n",
        "\n",
        "[5 rows x 5 columns]"
       ]
      },
      {
       "output_type": "stream",
       "stream": "stdout",
       "text": [
        "\n",
        "18324 18324 773.995 1062.649 1086.793\n",
        "     blob1  blob2       dt        dist  d_spacetime\n",
        "185  18324  18324   -7.000    7.737667     7.737667\n",
        "187  18161  18324    0.933   21.975634    21.975634\n",
        "90   17166  18324   37.905   38.110943    38.110943\n",
        "351  19669  18324  -57.267   86.469927    86.469927\n",
        "179  20405  18324 -104.464  105.378030   105.378030\n",
        "\n",
        "[5 rows x 5 columns]"
       ]
      },
      {
       "output_type": "stream",
       "stream": "stdout",
       "text": [
        "\n",
        "21283 21283 829.309 987.59 1217.726\n",
        "     blob1  blob2      dt        dist  d_spacetime\n",
        "7    21218  21283   0.205   20.810966    20.810966\n",
        "242  20570  21283  23.066   75.247397    75.247397\n",
        "179  20405  21283  26.469   92.220762    92.220762\n",
        "289  23045  21283 -79.334  105.284727   105.284727\n",
        "285  23120  21283 -83.661  108.990158   108.990158\n",
        "\n",
        "[5 rows x 5 columns]"
       ]
      },
      {
       "output_type": "stream",
       "stream": "stdout",
       "text": [
        "\n",
        "18161 18161 758.291 1046.701 1078.889\n",
        "     blob1  blob2       dt        dist  d_spacetime\n",
        "187  18161  18161   -6.971    6.985589     6.985589\n",
        "185  18324  18161  -14.904   25.621967    25.621967\n",
        "90   17166  18161   30.001   38.323825    38.323825\n",
        "351  19669  18161  -65.171   78.837285    78.837285\n",
        "179  20405  18161 -112.368  112.794036   112.794036\n",
        "\n",
        "[5 rows x 5 columns]"
       ]
      },
      {
       "output_type": "stream",
       "stream": "stdout",
       "text": [
        "\n",
        "950 950 943.684 1492.767 92.622\n",
        "     blob1  blob2      dt        dist  d_spacetime\n",
        "188    950    950  -6.900   33.250815    33.250815\n",
        "133   1469    950 -64.602   72.029149    72.029149\n",
        "269   1629    950 -81.835   87.181265    87.181265\n",
        "16    1634    950 -86.161  124.699088   124.699088\n",
        "125    334    950  41.032  156.042050   156.042050\n",
        "\n",
        "[5 rows x 5 columns]"
       ]
      },
      {
       "output_type": "stream",
       "stream": "stdout",
       "text": [
        "\n",
        "51600 51600 1472.12 1463.003 2778.598\n",
        "     blob1  blob2       dt        dist  d_spacetime\n",
        "189  51600  51600   -6.732   11.300228    11.300228\n",
        "98   51097  51600   24.200   24.333843    24.333843\n",
        "35   51043  51600   28.903   36.169492    36.169492\n",
        "342  48820  51600  160.683  235.377696   235.377696\n",
        "207  47210  51600  247.770  253.994682   253.994682\n",
        "\n",
        "[5 rows x 5 columns]"
       ]
      },
      {
       "output_type": "stream",
       "stream": "stdout",
       "text": [
        "\n",
        "5047 5047 972.849 1171.72 449.518\n",
        "     blob1  blob2       dt        dist  d_spacetime\n",
        "190   5179   5047   -6.731   89.636929    89.636929\n",
        "287   4423   5047   26.545   90.585187    90.585187\n",
        "227   6821   5047  -84.671  128.525606   128.525606\n",
        "13    3120   5047   87.495  177.136353   177.136353\n",
        "158   2162   5047  228.229  257.547290   257.547290\n",
        "\n",
        "[5 rows x 5 columns]"
       ]
      },
      {
       "output_type": "stream",
       "stream": "stdout",
       "text": [
        "\n",
        "50467 50467 1403.683 883.794 2715.028\n",
        "     blob1  blob2       dt        dist  d_spacetime\n",
        "191  50546  50467   -6.727   26.222763    26.222763\n",
        "161  50594  50467  -10.800   51.313554    51.313554\n",
        "254  46611  50467  220.665  272.635450   272.635450\n",
        "65   49179  50467   68.100  297.833488   297.833488\n",
        "218  56443  50467 -328.701  402.423342   402.423342\n",
        "\n",
        "[5 rows x 5 columns]"
       ]
      },
      {
       "output_type": "stream",
       "stream": "stdout",
       "text": [
        "\n",
        "63639 63639 845.614 928.88 3375.067\n",
        "     blob1  blob2       dt        dist  d_spacetime\n",
        "192  63639  63639   -6.668    7.102742     7.102742\n",
        "139  65840  63639 -105.935  123.973175   123.973175\n",
        "355  66054  63639 -106.731  129.153132   129.153132\n",
        "245  64596  63639  -44.531  130.570640   130.570640\n",
        "323  65685  63639  -88.802  138.604115   138.604115\n",
        "\n",
        "[5 rows x 5 columns]"
       ]
      },
      {
       "output_type": "stream",
       "stream": "stdout",
       "text": [
        "\n",
        "30674 30674 443.231 593.518 1624.29\n",
        "     blob1  blob2       dt        dist  d_spacetime\n",
        "193  30674  30674   -6.536    6.539265     6.539265\n",
        "232  32776  30674 -114.398  130.755819   130.755819\n",
        "153  27387  30674  139.363  151.243619   151.243619\n",
        "359  26985  30674  154.396  174.785190   174.785190\n",
        "113  26126  30674  187.297  203.240568   203.240568\n",
        "\n",
        "[5 rows x 5 columns]"
       ]
      },
      {
       "output_type": "stream",
       "stream": "stdout",
       "text": [
        "\n",
        "37836 37836 780.883 1055.043 1999.695\n",
        "     blob1  blob2       dt        dist  d_spacetime\n",
        "194  37836  37836   -6.534    7.483389     7.483389\n",
        "106  38445  37836  -38.683   50.834180    50.834180\n",
        "41   34631  37836  158.137  158.244926   158.244926\n",
        "243  41605  37836 -202.785  210.954920   210.954920\n",
        "166  38414  37836  -45.698  275.315925   275.315925\n",
        "\n",
        "[5 rows x 5 columns]"
       ]
      },
      {
       "output_type": "stream",
       "stream": "stdout",
       "text": [
        "\n",
        "6055 6055 697.477 828.873 496.688\n",
        "     blob1  blob2       dt        dist  d_spacetime\n",
        "195   6055   6055   -6.435    8.157368     8.157368\n",
        "4     4381   6055 -134.352  144.866259   144.866259\n",
        "56    6388   6055  -16.551  146.617539   146.617539\n",
        "386  11323   6055 -232.297  242.779810   242.779810\n",
        "219   1996   6055  285.734  288.235297   288.235297\n",
        "\n",
        "[5 rows x 5 columns]"
       ]
      },
      {
       "output_type": "stream",
       "stream": "stdout",
       "text": [
        "\n",
        "27824 27824 1201.986 1226.251 1498.96\n",
        "     blob1  blob2       dt        dist  d_spacetime\n",
        "137  27329  27824    0.266    0.329905     0.329905\n",
        "25   26426  27824   46.333  160.758107   160.758107\n",
        "358  27653  27824    6.933  230.214013   230.214013\n",
        "198  25053  27824  101.500  230.629866   230.629866\n",
        "309  27589  27824    8.534  235.040048   235.040048\n",
        "\n",
        "[5 rows x 5 columns]"
       ]
      },
      {
       "output_type": "stream",
       "stream": "stdout",
       "text": [
        "\n",
        "41871 41871 576.356 908.238 2214.358\n",
        "     blob1  blob2       dt        dist  d_spacetime\n",
        "45   41164  41871    6.000   35.797221    35.797221\n",
        "177  42194  41871  -16.922   88.748438    88.748438\n",
        "152  42284  41871  -24.999  114.535432   114.535432\n",
        "313  45396  41871 -203.106  223.527988   223.527988\n",
        "387  40387  41871   80.795  229.750518   229.750518\n",
        "\n",
        "[5 rows x 5 columns]"
       ]
      },
      {
       "output_type": "stream",
       "stream": "stdout",
       "text": [
        "\n",
        "25053 25053 1115.684 1414.962 1391.261\n",
        "     blob1  blob2       dt        dist  d_spacetime\n",
        "198  25053  25053   -6.199    6.249636     6.249636\n",
        "25   26426  25053  -61.366   84.136142    84.136142\n",
        "253  22858  25053  103.011  133.520765   133.520765\n",
        "378  21902  25053  149.567  164.586401   164.586401\n",
        "137  27329  25053 -107.433  233.708440   233.708440\n",
        "\n",
        "[5 rows x 5 columns]"
       ]
      },
      {
       "output_type": "stream",
       "stream": "stdout",
       "text": [
        "\n",
        "28921 28921 621.953 1128.895 1545.627\n",
        "     blob1  blob2      dt        dist  d_spacetime\n",
        "199  29045  28921  -6.031   49.830508    49.830508\n",
        "75   29441  28921 -28.231   62.879929    62.879929\n",
        "316  28650  28921  13.651   88.613734    88.613734\n",
        "196  27858  28921  40.327  166.708775   166.708775\n",
        "67   30336  28921 -71.327  183.771720   183.771720\n",
        "\n",
        "[5 rows x 5 columns]"
       ]
      },
      {
       "output_type": "stream",
       "stream": "stdout",
       "text": [
        "\n",
        "3588 3588 1201.579 1456.434 366.718\n",
        "     blob1  blob2      dt        dist  d_spacetime\n",
        "200   3588   3588  -6.000    6.127866     6.127866\n",
        "223   3304   3588  32.033   35.905832    35.905832\n",
        "37    3277   3588  37.412   38.823995    38.823995\n",
        "8     3038   3588  59.629   86.923948    86.923948\n",
        "52    3686   3588 -23.905  136.184512   136.184512\n",
        "\n",
        "[5 rows x 5 columns]"
       ]
      },
      {
       "output_type": "stream",
       "stream": "stdout",
       "text": [
        "\n",
        "19481 19481 462.644 629.25 1136.216\n",
        "     blob1  blob2       dt        dist  d_spacetime\n",
        "20   17686  19481  -21.900  125.203547   125.203547\n",
        "283  22086  19481 -115.077  160.115165   160.115165\n",
        "141  22357  19481 -140.373  173.249835   173.249835\n",
        "222  23010  19481 -160.910  269.787588   269.787588\n",
        "34   25840  19481 -289.172  304.082418   304.082418\n",
        "\n",
        "[5 rows x 5 columns]"
       ]
      },
      {
       "output_type": "stream",
       "stream": "stdout",
       "text": [
        "\n",
        "400 400 1129.277 1167.863 38.573\n",
        "     blob1  blob2      dt        dist  d_spacetime\n",
        "201    400    400  -5.844   40.036779    40.036779\n",
        "175    359    400   5.582   66.649115    66.649115\n",
        "81     827    400 -62.481   82.707574    82.707574\n",
        "239   1090    400 -69.949  103.464955   103.464955\n",
        "220    237    400  16.457  132.586522   132.586522\n",
        "\n",
        "[5 rows x 5 columns]"
       ]
      },
      {
       "output_type": "stream",
       "stream": "stdout",
       "text": [
        "\n",
        "57726 57726 924.653 1023.704 3102.6\n",
        "     blob1  blob2       dt        dist  d_spacetime\n",
        "173  59532  57726 -100.229  107.275220   107.275220\n",
        "278  59493  57726  -98.167  113.590605   113.590605\n",
        "301  59463  57726  -96.264  123.095477   123.095477\n",
        "151  54603  57726  137.434  202.725794   202.725794\n",
        "348  54582  57726  151.771  207.128769   207.128769\n",
        "\n",
        "[5 rows x 5 columns]"
       ]
      },
      {
       "output_type": "stream",
       "stream": "stdout",
       "text": [
        "\n",
        "8777 8777 192.949 824.465 609.217\n",
        "     blob1  blob2       dt        dist  d_spacetime\n",
        "202   8878   8777   -5.633   39.457312    39.457312\n",
        "263   7632   8777   44.264  199.790014   199.790014\n",
        "53    7548   8777   50.136  230.471151   230.471151\n",
        "38    7036   8777   67.793  285.207390   285.207390\n",
        "95    2959   8777  303.028  390.584966   390.584966\n",
        "\n",
        "[5 rows x 5 columns]"
       ]
      },
      {
       "output_type": "stream",
       "stream": "stdout",
       "text": [
        "\n",
        "65553 65553 1303.651 2282.865 3455.794\n",
        "     blob1  blob2       dt        dist  d_spacetime\n",
        "68   65945  65553  -69.106  260.983846   260.983846\n",
        "372  67034  65553  -70.802  270.506630   270.506630\n",
        "367  67233  65553  -80.305  296.038360   296.038360\n",
        "101  61635  65553  166.726  595.797298   595.797298\n",
        "306  61565  65553  169.327  606.546530   606.546530\n",
        "\n",
        "[5 rows x 5 columns]"
       ]
      },
      {
       "output_type": "stream",
       "stream": "stdout",
       "text": [
        "\n",
        "15261 15261 627.66 1250.949 937.749\n",
        "     blob1  blob2       dt        dist  d_spacetime\n",
        "204  16263  15261  -54.628  138.579882   138.579882\n",
        "380  16494  15261  -63.171  142.063342   142.063342\n",
        "326  19082  15261 -179.742  209.599569   209.599569\n",
        "33   18283  15261 -151.910  239.726269   239.726269\n",
        "90   17166  15261 -111.139  259.571005   259.571005\n",
        "\n",
        "[5 rows x 5 columns]"
       ]
      },
      {
       "output_type": "stream",
       "stream": "stdout",
       "text": [
        "\n",
        "1244 1244 698.011 1353.364 125.423\n",
        "     blob1  blob2       dt        dist  d_spacetime\n",
        "203   1263   1244   -5.615   30.276231    30.276231\n",
        "213   1193   1244    3.204   54.437871    54.437871\n",
        "127    207   1244  104.167  125.756011   125.756011\n",
        "120    246   1244  102.833  134.569455   134.569455\n",
        "121    260   1244   98.776  146.573476   146.573476\n",
        "\n",
        "[5 rows x 5 columns]"
       ]
      },
      {
       "output_type": "stream",
       "stream": "stdout",
       "text": [
        "\n",
        "16263 16263 605.97 1126.018 987.088\n",
        "     blob1  blob2       dt        dist  d_spacetime\n",
        "204  16263  16263   -5.289    5.318414     5.318414\n",
        "380  16494  16263  -13.832   13.839669    13.839669\n",
        "90   17166  16263  -61.800  187.110091   187.110091\n",
        "187  18161  16263  -98.772  198.343578   198.343578\n",
        "185  18324  16263 -106.705  206.086184   206.086184\n",
        "\n",
        "[5 rows x 5 columns]"
       ]
      },
      {
       "output_type": "stream",
       "stream": "stdout",
       "text": [
        "\n",
        "18628 18628 757.758 1047.151 1098.81\n",
        "     blob1  blob2      dt       dist  d_spacetime\n",
        "187  18161  18628  12.950  12.986242    12.986242\n",
        "185  18324  18628   5.017  21.408213    21.408213\n",
        "90   17166  18628  49.922  55.304599    55.304599\n",
        "351  19669  18628 -45.250  63.579631    63.579631\n",
        "179  20405  18628 -92.447  93.000208    93.000208\n",
        "\n",
        "[5 rows x 5 columns]"
       ]
      },
      {
       "output_type": "stream",
       "stream": "stdout",
       "text": [
        "\n",
        "57044 57044 783.509 371.754 3070.698\n",
        "     blob1  blob2       dt        dist  d_spacetime\n",
        "206  57139  57044   -5.394   27.743942    27.743942\n",
        "273  65050  57044 -367.433  369.618469   369.618469\n",
        "266  64164  57044 -327.503  374.244524   374.244524\n",
        "246  65458  57044 -380.903  406.357750   406.357750\n",
        "110  65193  57044 -377.036  408.788510   408.788510\n",
        "\n",
        "[5 rows x 5 columns]"
       ]
      },
      {
       "output_type": "stream",
       "stream": "stdout",
       "text": [
        "\n",
        "47210 47210 1528.682 1464.891 2525.698\n",
        "     blob1  blob2       dt        dist  d_spacetime\n",
        "207  47210  47210   -5.130    5.187640     5.187640\n",
        "11   45403  47210  107.371  111.448640   111.448640\n",
        "342  48820  47210  -92.217  172.502418   172.502418\n",
        "35   51043  47210 -223.997  232.985993   232.985993\n",
        "98   51097  47210 -228.700  235.088499   235.088499\n",
        "\n",
        "[5 rows x 5 columns]"
       ]
      },
      {
       "output_type": "stream",
       "stream": "stdout",
       "text": [
        "\n",
        "2420 2420 593.561 978.814 241.989\n",
        "     blob1  blob2       dt        dist  d_spacetime\n",
        "208   2436   2420   -5.069   25.402449    25.402449\n",
        "314   2342   2420    4.732   52.428281    52.428281\n",
        "89    2193   2420   14.772  163.529401   163.529401\n",
        "50     777   2420  167.902  172.746105   172.746105\n",
        "219   1996   2420   31.035  218.902616   218.902616\n",
        "\n",
        "[5 rows x 5 columns]"
       ]
      },
      {
       "output_type": "stream",
       "stream": "stdout",
       "text": [
        "\n",
        "34177 34177 887.0 774.209 1810.329\n",
        "     blob1  blob2       dt        dist  d_spacetime\n",
        "209  34260  34177   -5.030    5.265751     5.265751\n",
        "166  38414  34177 -235.064  239.488221   239.488221\n",
        "215  29395  34177  242.337  259.648849   259.648849\n",
        "295  29146  34177  254.010  276.664243   276.664243\n",
        "41   34631  34177  -31.229  296.032015   296.032015\n",
        "\n",
        "[5 rows x 5 columns]"
       ]
      },
      {
       "output_type": "stream",
       "stream": "stdout",
       "text": [
        "\n",
        "24323 24323 1007.863 967.125 1360.424\n",
        "     blob1  blob2      dt        dist  d_spacetime\n",
        "210  24323  24323  -5.068   11.215862    11.215862\n",
        "136  24969  24323 -29.265   30.285641    30.285641\n",
        "297  24888  24323 -26.720   33.101515    33.101515\n",
        "341  25250  24323 -38.430   42.668589    42.668589\n",
        "248  26083  24323 -77.086  122.146876   122.146876\n",
        "\n",
        "[5 rows x 5 columns]"
       ]
      },
      {
       "output_type": "stream",
       "stream": "stdout",
       "text": [
        "\n",
        "19351 19351 471.448 1189.794 1131.022\n",
        "     blob1  blob2       dt        dist  d_spacetime\n",
        "326  19082  19351   13.531  104.067814   104.067814\n",
        "388  19846  19351  -21.437  156.044747   156.044747\n",
        "380  16494  19351  130.102  197.887161   197.887161\n",
        "204  16263  19351  138.645  203.540191   203.540191\n",
        "33   18283  19351   41.363  265.235503   265.235503\n",
        "\n",
        "[5 rows x 5 columns]"
       ]
      },
      {
       "output_type": "stream",
       "stream": "stdout",
       "text": [
        "\n",
        "31 31 302.675 500.08 2.888\n",
        "     blob1  blob2       dt        dist  d_spacetime\n",
        "211     47     31   -4.730   22.141253    22.141253\n",
        "225     32     31   -4.067  113.490011   113.490011\n",
        "116   1476     31 -161.794  187.861680   187.861680\n",
        "66     907     31 -132.967  234.259653   234.259653\n",
        "92    1570     31 -168.563  241.076424   241.076424\n",
        "\n",
        "[5 rows x 5 columns]"
       ]
      },
      {
       "output_type": "stream",
       "stream": "stdout",
       "text": [
        "\n",
        "1636 1635 795.417 518.882 173.057\n",
        "     blob1  blob2      dt        dist  d_spacetime\n",
        "212   1651   1635  -4.800   24.418659    24.418659\n",
        "134   1503   1635  11.400   84.791851    84.791851\n",
        "249    815   1635  97.500  152.033772   152.033772\n",
        "24    1400   1635  29.268  152.120982   152.120982\n",
        "76    1841   1635 -20.934  164.406776   164.406776\n",
        "\n",
        "[5 rows x 5 columns]"
       ]
      },
      {
       "output_type": "stream",
       "stream": "stdout",
       "text": [
        "\n",
        "41814 41814 342.576 657.985 2210.693\n",
        "     blob1  blob2       dt        dist  d_spacetime\n",
        "277  40200  41814   85.201  132.734396   132.734396\n",
        "387  40387  41814   77.130  149.123573   149.123573\n",
        "12   36633  41814  265.076  279.391978   279.391978\n",
        "45   41164  41814    2.335  307.818267   307.818267\n",
        "313  45396  41814 -206.771  338.302343   338.302343\n",
        "\n",
        "[5 rows x 5 columns]"
       ]
      },
      {
       "output_type": "stream",
       "stream": "stdout",
       "text": [
        "\n",
        "1733 1733 351.386 904.691 185.049\n",
        "     blob1  blob2       dt        dist  d_spacetime\n",
        "168   1599   1733   11.392  138.123992   138.123992\n",
        "39    1468   1733   -2.642  198.562535   198.562535\n",
        "79    1506   1733   22.031  210.835610   210.835610\n",
        "95    2959   1733 -121.140  219.816978   219.816978\n",
        "50     777   1733  110.962  240.742600   240.742600\n",
        "\n",
        "[5 rows x 5 columns]"
       ]
      },
      {
       "output_type": "stream",
       "stream": "stdout",
       "text": [
        "\n",
        "1171 1171 651.756 1286.41 117.528\n",
        "     blob1  blob2      dt        dist  d_spacetime\n",
        "213   1193   1171  -4.691   27.653226    27.653226\n",
        "203   1263   1171 -13.510  111.399986   111.399986\n",
        "121    260   1171  90.881  112.063812   112.063812\n",
        "120    246   1171  94.938  115.540147   115.540147\n",
        "127    207   1171  96.272  123.089849   123.089849\n",
        "\n",
        "[5 rows x 5 columns]"
       ]
      },
      {
       "output_type": "stream",
       "stream": "stdout",
       "text": [
        "\n",
        "36 36 987.099 1515.112 3.351\n",
        "     blob1  blob2       dt        dist  d_spacetime\n",
        "188    950     36  -96.171  106.745393   106.745393\n",
        "133   1469     36 -153.873  171.758403   171.758403\n",
        "125    334     36  -48.239  177.009605   177.009605\n",
        "16    1634     36 -175.432  180.232515   180.232515\n",
        "269   1629     36 -171.106  183.209306   183.209306\n",
        "\n",
        "[5 rows x 5 columns]"
       ]
      },
      {
       "output_type": "stream",
       "stream": "stdout",
       "text": [
        "\n",
        "29330 29330 962.833 769.22 1563.259\n",
        "     blob1  blob2       dt        dist  d_spacetime\n",
        "215  29395  29330   -4.733   34.718256    34.718256\n",
        "295  29146  29330    6.940   38.410691    38.410691\n",
        "181  28090  29330   50.634  255.408949   255.408949\n",
        "209  34260  29330 -252.100  263.734596   263.734596\n",
        "136  24969  29330  173.570  268.429758   268.429758\n",
        "\n",
        "[5 rows x 5 columns]"
       ]
      },
      {
       "output_type": "stream",
       "stream": "stdout",
       "text": [
        "\n",
        "56232 56232 1149.439 757.757 3031.0\n",
        "     blob1  blob2      dt        dist  d_spacetime\n",
        "216  56232  56232  -4.528    8.189040     8.189040\n",
        "218  56443  56232 -12.729   83.634869    83.634869\n",
        "282  55880  56232  13.800  200.714169   200.714169\n",
        "151  54603  56232  65.834  215.250052   215.250052\n",
        "74   54522  56232  82.840  217.353899   217.353899\n",
        "\n",
        "[5 rows x 5 columns]"
       ]
      },
      {
       "output_type": "stream",
       "stream": "stdout",
       "text": [
        "\n",
        "22246 22246 1425.551 1344.014 1258.961\n",
        "     blob1  blob2       dt        dist  d_spacetime\n",
        "99   22453  22246  -31.160   31.190159    31.190159\n",
        "71   21001  22246   40.434   44.212304    44.212304\n",
        "169  19898  22246   94.152  107.038140   107.038140\n",
        "171  19798  22246  104.373  110.969565   110.969565\n",
        "32   24100  22246 -210.432  210.777238   210.777238\n",
        "\n",
        "[5 rows x 5 columns]"
       ]
      },
      {
       "output_type": "stream",
       "stream": "stdout",
       "text": [
        "\n",
        "18518 18518 756.412 1044.215 1094.188\n",
        "     blob1  blob2      dt       dist  d_spacetime\n",
        "187  18161  18518   8.328   9.043652     9.043652\n",
        "185  18324  18518   0.395  23.960657    23.960657\n",
        "90   17166  18518  45.300  52.716380    52.716380\n",
        "351  19669  18518 -49.872  64.874197    64.874197\n",
        "179  20405  18518 -97.069  97.882124    97.882124\n",
        "\n",
        "[5 rows x 5 columns]"
       ]
      },
      {
       "output_type": "stream",
       "stream": "stdout",
       "text": [
        "\n",
        "56416 56416 1205.406 748.656 3039.528\n",
        "     blob1  blob2       dt        dist  d_spacetime\n",
        "218  56443  56416   -4.201   28.360970    28.360970\n",
        "216  56232  56416    4.000   50.233977    50.233977\n",
        "349  59217  56416 -144.623  241.310922   241.310922\n",
        "282  55880  56416   22.328  257.579482   257.579482\n",
        "151  54603  56416   74.362  265.525475   265.525475\n",
        "\n",
        "[5 rows x 5 columns]"
       ]
      },
      {
       "output_type": "stream",
       "stream": "stdout",
       "text": [
        "\n",
        "17287 17287 544.238 1089.782 1038.657\n",
        "     blob1  blob2       dt        dist  d_spacetime\n",
        "380  16494  17287   37.737   80.744853    80.744853\n",
        "204  16263  17287   46.280   84.932526    84.932526\n",
        "388  19846  17287 -113.802  183.617181   183.617181\n",
        "326  19082  17287  -78.834  205.912982   205.912982\n",
        "187  18161  17287  -47.203  223.737843   223.737843\n",
        "\n",
        "[5 rows x 5 columns]"
       ]
      },
      {
       "output_type": "stream",
       "stream": "stdout",
       "text": [
        "\n",
        "23044 23044 772.225 1050.842 1295.724\n",
        "     blob1  blob2       dt        dist  d_spacetime\n",
        "289  23045  23044   -1.336   17.243089    17.243089\n",
        "285  23120  23044   -5.663   17.461077    17.461077\n",
        "242  20570  23044  101.064  104.363928   104.363928\n",
        "179  20405  23044  104.467  104.583053   104.583053\n",
        "7    21218  23044   78.203  129.224345   129.224345\n",
        "\n",
        "[5 rows x 5 columns]"
       ]
      },
      {
       "output_type": "stream",
       "stream": "stdout",
       "text": [
        "\n",
        "1996 1996 711.815 769.795 206.681\n",
        "     blob1  blob2       dt        dist  d_spacetime\n",
        "132   1982   1996    0.790   23.326080    23.326080\n",
        "219   1996   1996   -4.273   23.950452    23.950452\n",
        "76    1841   1996   12.690  102.197389   102.197389\n",
        "89    2193   1996  -20.536  143.403756   143.403756\n",
        "111    425   1996  163.126  167.923193   167.923193\n",
        "\n",
        "[5 rows x 5 columns]"
       ]
      },
      {
       "output_type": "stream",
       "stream": "stdout",
       "text": [
        "\n",
        "181 181 476.758 2210.727 17.606\n",
        "     blob1  blob2       dt        dist  d_spacetime\n",
        "140     10    181    0.656    4.025822     4.025822\n",
        "165     76    181   -2.850  176.757308   176.757308\n",
        "174   3166    181 -306.406  314.741191   314.741191\n",
        "96     820    181  -59.944  321.518024   321.518024\n",
        "375    928    181  -71.643  338.203802   338.203802\n",
        "\n",
        "[5 rows x 5 columns]"
       ]
      },
      {
       "output_type": "stream",
       "stream": "stdout",
       "text": [
        "\n",
        "23010 23010 351.355 815.671 1292.988\n",
        "     blob1  blob2       dt        dist  d_spacetime\n",
        "222  23010  23010   -4.138    5.787112     5.787112\n",
        "283  22086  23010   41.695  173.796204   173.796204\n",
        "20   17686  23010  134.872  195.146450   195.146450\n",
        "141  22357  23010   16.399  211.335243   211.335243\n",
        "113  26126  23010 -144.005  249.282851   249.282851\n",
        "\n",
        "[5 rows x 5 columns]"
       ]
      },
      {
       "output_type": "stream",
       "stream": "stdout",
       "text": [
        "\n",
        "29609 29609 633.008 1370.25 1575.989\n",
        "     blob1  blob2      dt        dist  d_spacetime\n",
        "221  29609  29609  -4.200    5.986876     5.986876\n",
        "224  29487  29609   0.212   24.447695    24.447695\n",
        "199  29045  29609  24.331  194.103245   194.103245\n",
        "75   29441  29609   2.131  280.768652   280.768652\n",
        "316  28650  29609  44.013  328.725961   328.725961\n",
        "\n",
        "[5 rows x 5 columns]"
       ]
      },
      {
       "output_type": "stream",
       "stream": "stdout",
       "text": [
        "\n",
        "567 567 560.943 361.836 52.719\n",
        "     blob1  blob2       dt        dist  d_spacetime\n",
        "214     61    567   44.365   99.451986    99.451986\n",
        "249    815    567  -22.838  182.511675   182.511675\n",
        "24    1400    567  -91.070  229.226913   229.226913\n",
        "116   1476    567 -111.963  256.979060   256.979060\n",
        "134   1503    567 -108.938  268.625691   268.625691\n",
        "\n",
        "[5 rows x 5 columns]"
       ]
      },
      {
       "output_type": "stream",
       "stream": "stdout",
       "text": [
        "\n",
        "3304 3304 1210.938 1461.458 330.584\n",
        "     blob1  blob2       dt        dist  d_spacetime\n",
        "37    3277   3304    1.278    5.432921     5.432921\n",
        "223   3304   3304   -4.101    9.630208     9.630208\n",
        "200   3588   3304  -42.134   43.247138    43.247138\n",
        "8     3038   3304   23.495   76.869856    76.869856\n",
        "43    2187   3304  103.367  110.334060   110.334060\n",
        "\n",
        "[5 rows x 5 columns]"
       ]
      },
      {
       "output_type": "stream",
       "stream": "stdout",
       "text": [
        "\n",
        "29487 29487 638.094 1341.957 1571.627\n",
        "     blob1  blob2      dt        dist  d_spacetime\n",
        "224  29487  29487  -4.150    6.033447     6.033447\n",
        "221  29609  29487  -8.562   33.423576    33.423576\n",
        "199  29045  29487  19.969  166.108926   166.108926\n",
        "75   29441  29487  -2.231  252.099586   252.099586\n",
        "316  28650  29487  39.651  299.949489   299.949489\n",
        "\n",
        "[5 rows x 5 columns]"
       ]
      },
      {
       "output_type": "stream",
       "stream": "stdout",
       "text": [
        "\n",
        "32 32 336.553 614.726 2.888\n",
        "     blob1  blob2       dt        dist  d_spacetime\n",
        "225     32     32   -4.067    7.356513     7.356513\n",
        "211     47     32   -4.730  137.342861   137.342861\n",
        "66     907     32 -132.967  160.402212   160.402212\n",
        "116   1476     32 -161.794  194.913735   194.913735\n",
        "39    1468     32 -184.803  226.004898   226.004898\n",
        "\n",
        "[5 rows x 5 columns]"
       ]
      },
      {
       "output_type": "stream",
       "stream": "stdout",
       "text": [
        "\n",
        "35 35 968.505 960.638 3.351\n",
        "     blob1  blob2      dt        dist  d_spacetime\n",
        "226     35     35  -3.997   27.896776    27.896776\n",
        "147    768     35 -64.138  178.792934   178.792934\n",
        "328    746     35 -62.251  193.192623   193.192623\n",
        "129    211     35 -19.836  214.306524   214.306524\n",
        "184    662     35 -58.837  226.135672   226.135672\n",
        "\n",
        "[5 rows x 5 columns]"
       ]
      },
      {
       "output_type": "stream",
       "stream": "stdout",
       "text": [
        "\n",
        "6821 6821 1045.841 1119.044 530.218\n",
        "     blob1  blob2       dt        dist  d_spacetime\n",
        "227   6821   6821   -3.971    7.817868     7.817868\n",
        "287   4423   6821  107.245  117.086705   117.086705\n",
        "190   5179   6821   73.969  163.976987   163.976987\n",
        "373  10566   6821 -163.672  166.773100   166.773100\n",
        "13    3120   6821  168.195  205.406523   205.406523\n",
        "\n",
        "[5 rows x 5 columns]"
       ]
      },
      {
       "output_type": "stream",
       "stream": "stdout",
       "text": [
        "\n",
        "34679 34679 25.192 1877.616 1836.687\n",
        "     blob1  blob2       dt        dist  d_spacetime\n",
        "350  39732  34679 -266.442  812.353257   812.353257\n",
        "221  29609  34679  256.498  828.210686   828.210686\n",
        "224  29487  34679  260.910  851.123310   851.123310\n",
        "199  29045  34679  285.029  960.356566   960.356566\n",
        "100  46173  34679 -635.178  960.378286   960.378286\n",
        "\n",
        "[5 rows x 5 columns]"
       ]
      },
      {
       "output_type": "stream",
       "stream": "stdout",
       "text": [
        "\n",
        "26360 26360 1117.899 955.588 1444.356\n",
        "     blob1  blob2      dt       dist  d_spacetime\n",
        "228  26360  26360  -3.996  25.228630    25.228630\n",
        "248  26083  26360   6.846  47.876439    47.876439\n",
        "102  27001  26360 -27.271  56.564613    56.564613\n",
        "181  28090  26360 -68.269  70.522837    70.522837\n",
        "309  27589  26360 -46.070  96.974794    96.974794\n",
        "\n",
        "[5 rows x 5 columns]"
       ]
      },
      {
       "output_type": "stream",
       "stream": "stdout",
       "text": [
        "\n",
        "1413 1413 1168.822 1236.619 146.25\n",
        "     blob1  blob2       dt        dist  d_spacetime\n",
        "30    1439   1413   -5.803   17.491315    17.491315\n",
        "81     827   1413   45.196   72.239397    72.239397\n",
        "91    1681   1413  -68.235   81.590697    81.590697\n",
        "239   1090   1413   37.728  101.015692   101.015692\n",
        "366   2599   1413 -111.690  123.868775   123.868775\n",
        "\n",
        "[5 rows x 5 columns]"
       ]
      },
      {
       "output_type": "stream",
       "stream": "stdout",
       "text": [
        "\n",
        "3446 3446 418.374 625.378 347.453\n",
        "     blob1  blob2       dt        dist  d_spacetime\n",
        "230   3446   3446   -3.864    3.879265     3.879265\n",
        "95    2959   3446   41.264  117.936867   117.936867\n",
        "39    1468   3446  159.762  184.276817   184.276817\n",
        "116   1476   3446  182.771  210.628811   210.628811\n",
        "66     907   3446  211.598  213.810433   213.810433\n",
        "\n",
        "[5 rows x 5 columns]"
       ]
      },
      {
       "output_type": "stream",
       "stream": "stdout",
       "text": [
        "\n",
        "65575 65575 814.251 774.872 3456.731\n",
        "     blob1  blob2     dt       dist  d_spacetime\n",
        "352  65536  65575  1.530  14.380363    14.380363\n",
        "231  65575  65575 -3.799  29.083915    29.083915\n",
        "374  65648  65575 -4.204  29.854994    29.854994\n",
        "241  65448  65575  2.408  36.180583    36.180583\n",
        "323  65685  65575 -7.138  53.803848    53.803848\n",
        "\n",
        "[5 rows x 5 columns]"
       ]
      },
      {
       "output_type": "stream",
       "stream": "stdout",
       "text": [
        "\n",
        "32776 32776 379.443 590.347 1734.895\n",
        "     blob1  blob2       dt        dist  d_spacetime\n",
        "232  32776  32776   -3.793    3.831356     3.831356\n",
        "193  30674  32776  104.069  122.187402   122.187402\n",
        "12   36633  32776 -210.722  213.672942   213.672942\n",
        "153  27387  32776  249.968  250.051131   250.051131\n",
        "359  26985  32776  265.001  268.442492   268.442492\n",
        "\n",
        "[5 rows x 5 columns]"
       ]
      },
      {
       "output_type": "stream",
       "stream": "stdout",
       "text": [
        "\n",
        "66161 66161 795.551 1020.672 3487.167\n",
        "     blob1  blob2      dt       dist  d_spacetime\n",
        "233  66161  66161  -3.735   4.882150     4.882150\n",
        "324  66258  66161  -4.669   5.131726     5.131726\n",
        "382  66376  66161 -11.305  28.362821    28.362821\n",
        "259  66658  66161 -28.102  28.517835    28.517835\n",
        "258  66343  66161 -10.768  29.466744    29.466744\n",
        "\n",
        "[5 rows x 5 columns]"
       ]
      },
      {
       "output_type": "stream",
       "stream": "stdout",
       "text": [
        "\n",
        "64282 64282 407.475 2044.407 3402.458\n",
        "     blob1  blob2       dt        dist  d_spacetime\n",
        "235  64282  64282   -3.936    4.076094     4.076094\n",
        "354  67038  64282 -124.411  125.693945   125.693945\n",
        "311  67070  64282 -126.545  129.626489   129.626489\n",
        "291  67125  64282 -129.811  138.839355   138.839355\n",
        "130  67196  64282 -151.333  162.025187   162.025187\n",
        "\n",
        "[5 rows x 5 columns]"
       ]
      },
      {
       "output_type": "stream",
       "stream": "stdout",
       "text": [
        "\n",
        "65362 65362 810.417 694.186 3446.785\n",
        "     blob1  blob2      dt        dist  d_spacetime\n",
        "234  65362  65362  -3.671   23.791201    23.791201\n",
        "241  65448  65362  -7.538   45.332087    45.332087\n",
        "352  65536  65362  -8.416   67.017667    67.017667\n",
        "231  65575  65362 -13.745  110.161198   110.161198\n",
        "374  65648  65362 -14.150  110.962050   110.962050\n",
        "\n",
        "[5 rows x 5 columns]"
       ]
      },
      {
       "output_type": "stream",
       "stream": "stdout",
       "text": [
        "\n",
        "56022 56022 398.888 1937.482 3022.8\n",
        "     blob1  blob2       dt        dist  d_spacetime\n",
        "236  56022  56022   -3.471   10.375154    10.375154\n",
        "103  55427  56022   26.768   90.019109    90.019109\n",
        "369  57326  56022  -62.729   94.694356    94.694356\n",
        "48   57869  56022 -131.697  163.484155   163.484155\n",
        "159  59797  56022 -197.029  217.318411   217.318411\n",
        "\n",
        "[5 rows x 5 columns]"
       ]
      },
      {
       "output_type": "stream",
       "stream": "stdout",
       "text": [
        "\n",
        "34 34 1317.212 1550.934 3.088\n",
        "     blob1  blob2      dt        dist  d_spacetime\n",
        "237     34     34  -3.792    4.291511     4.291511\n",
        "264    829     34 -73.991  139.784635   139.784635\n",
        "271    798     34 -69.451  158.216958   158.216958\n",
        "145    872     34 -86.355  195.919956   195.919956\n",
        "379    784     34 -66.664  207.840138   207.840138\n",
        "\n",
        "[5 rows x 5 columns]"
       ]
      },
      {
       "output_type": "stream",
       "stream": "stdout",
       "text": [
        "\n",
        "21991 21991 1043.707 931.752 1246.027\n",
        "     blob1  blob2       dt        dist  d_spacetime\n",
        "238  22060  21991   -3.383   25.340371    25.340371\n",
        "186  21461  21991   21.306   44.200989    44.200989\n",
        "317  20655  21991   49.639   57.626219    57.626219\n",
        "305  20634  21991   50.470   58.268543    58.268543\n",
        "210  24323  21991 -119.465  133.040805   133.040805\n",
        "\n",
        "[5 rows x 5 columns]"
       ]
      },
      {
       "output_type": "stream",
       "stream": "stdout",
       "text": [
        "\n",
        "1090 1090 1077.224 1222.948 104.956\n",
        "     blob1  blob2       dt        dist  d_spacetime\n",
        "239   1090   1090   -3.566    3.736386     3.736386\n",
        "81     827   1090    3.902   38.018506    38.018506\n",
        "201    400   1090   60.539   71.331758    71.331758\n",
        "30    1439   1090  -47.097   89.893299    89.893299\n",
        "91    1681   1090 -109.529  120.082868   120.082868\n",
        "\n",
        "[5 rows x 5 columns]"
       ]
      },
      {
       "output_type": "stream",
       "stream": "stdout",
       "text": [
        "\n",
        "65492 65492 743.807 237.341 3452.729\n",
        "     blob1  blob2      dt       dist  d_spacetime\n",
        "246  65458  65492   1.128   1.815906     1.815906\n",
        "240  65492  65492  -3.338   3.557121     3.557121\n",
        "300  65574  65492  -5.070   5.521380     5.521380\n",
        "262  65668  65492 -11.669  12.449090    12.449090\n",
        "110  65193  65492   4.995  18.495738    18.495738\n",
        "\n",
        "[5 rows x 5 columns]"
       ]
      },
      {
       "output_type": "stream",
       "stream": "stdout",
       "text": [
        "\n",
        "65448 65448 811.231 718.942 3451.001\n",
        "     blob1  blob2     dt       dist  d_spacetime\n",
        "234  65362  65448  0.545   1.404246     1.404246\n",
        "241  65448  65448 -3.322  20.243294    20.243294\n",
        "352  65536  65448 -4.200  41.937691    41.937691\n",
        "231  65575  65448 -9.529  85.081035    85.081035\n",
        "374  65648  65448 -9.934  85.876084    85.876084\n",
        "\n",
        "[5 rows x 5 columns]"
       ]
      },
      {
       "output_type": "stream",
       "stream": "stdout",
       "text": [
        "\n",
        "20570 20570 769.64 1025.264 1191.39\n",
        "     blob1  blob2      dt        dist  d_spacetime\n",
        "242  20570  20570  -3.270    3.539805     3.539805\n",
        "179  20405  20570   0.133   25.363598    25.363598\n",
        "351  19669  20570  47.330   56.759370    56.759370\n",
        "7    21218  20570 -26.131   89.115265    89.115265\n",
        "185  18324  20570  97.597  104.784001   104.784001\n",
        "\n",
        "[5 rows x 5 columns]"
       ]
      },
      {
       "output_type": "stream",
       "stream": "stdout",
       "text": [
        "\n",
        "41605 41605 822.835 1095.217 2199.359\n",
        "     blob1  blob2       dt        dist  d_spacetime\n",
        "243  41605  41605   -3.121    3.123562     3.123562\n",
        "106  38445  41605  160.981  163.673337   163.673337\n",
        "308  44345  41605 -160.656  178.087957   178.087957\n",
        "362  44537  41605 -170.000  197.876118   197.876118\n",
        "63   44260  41605 -154.768  199.091040   199.091040\n",
        "\n",
        "[5 rows x 5 columns]"
       ]
      },
      {
       "output_type": "stream",
       "stream": "stdout",
       "text": [
        "\n",
        "42942 42942 762.407 1386.698 2274.813\n",
        "     blob1  blob2       dt        dist  d_spacetime\n",
        "244  42942  42942   -3.114    3.114997     3.114997\n",
        "40   42560  42942    0.650   23.214374    23.214374\n",
        "371  43321  42942  -20.149  138.303126   138.303126\n",
        "149  44825  42942 -118.752  151.348829   151.348829\n",
        "315  43543  42942  -35.917  259.983760   259.983760\n",
        "\n",
        "[5 rows x 5 columns]"
       ]
      },
      {
       "output_type": "stream",
       "stream": "stdout",
       "text": [
        "\n",
        "64596 64596 772.448 832.337 3416.518\n",
        "     blob1  blob2      dt       dist  d_spacetime\n",
        "245  64596  64596  -3.080   3.855976     3.855976\n",
        "180  64706  64596 -12.413  31.172354    31.172354\n",
        "323  65685  64596 -47.351  61.435012    61.435012\n",
        "231  65575  64596 -44.012  65.052955    65.052955\n",
        "374  65648  64596 -44.417  65.132143    65.132143\n",
        "\n",
        "[5 rows x 5 columns]"
       ]
      },
      {
       "output_type": "stream",
       "stream": "stdout",
       "text": [
        "\n",
        "65383 65383 738.982 221.062 3448.529\n",
        "     blob1  blob2      dt       dist  d_spacetime\n",
        "110  65193  65383   0.795   1.157441     1.157441\n",
        "246  65458  65383  -3.072  15.873329    15.873329\n",
        "240  65492  65383  -7.538  19.705911    19.705911\n",
        "300  65574  65383  -9.270  21.148137    21.148137\n",
        "262  65668  65383 -15.869  26.517065    26.517065\n",
        "\n",
        "[5 rows x 5 columns]"
       ]
      },
      {
       "output_type": "stream",
       "stream": "stdout",
       "text": [
        "\n",
        "48001 48001 548.067 1136.802 2571.297\n",
        "     blob1  blob2      dt        dist  d_spacetime\n",
        "247  48018  48001  -2.963   24.041800    24.041800\n",
        "356  47939  48001   4.001   44.514410    44.514410\n",
        "22   47092  48001 -65.066  104.867056   104.867056\n",
        "18   45363  48001  95.899  132.966410   132.966410\n",
        "302  46526  48001  83.549  168.954143   168.954143\n",
        "\n",
        "[5 rows x 5 columns]"
       ]
      },
      {
       "output_type": "stream",
       "stream": "stdout",
       "text": [
        "\n",
        "26083 26083 1094.265 998.136 1434.657\n",
        "     blob1  blob2      dt       dist  d_spacetime\n",
        "248  26083  26083  -2.853   4.200139     4.200139\n",
        "309  27589  26083 -55.769  66.763525    66.763525\n",
        "228  26360  26083 -13.695  69.841708    69.841708\n",
        "358  27653  26083 -57.370  81.772246    81.772246\n",
        "341  25250  26083  35.803  82.604649    82.604649\n",
        "\n",
        "[5 rows x 5 columns]"
       ]
      },
      {
       "output_type": "stream",
       "stream": "stdout",
       "text": [
        "\n",
        "811 811 669.97 474.574 72.75\n",
        "     blob1  blob2       dt        dist  d_spacetime\n",
        "249    815    811   -2.807   25.603952    25.603952\n",
        "134   1503    811  -88.907  158.772866   158.772866\n",
        "24    1400    811  -71.039  160.849002   160.849002\n",
        "212   1651    811 -105.107  170.185384   170.185384\n",
        "214     61    811   64.396  221.887883   221.887883\n",
        "\n",
        "[5 rows x 5 columns]"
       ]
      },
      {
       "output_type": "stream",
       "stream": "stdout",
       "text": [
        "\n",
        "391 391 558.206 1227.642 37.05\n",
        "     blob1  blob2      dt        dist  d_spacetime\n",
        "250    391    391  -2.672    5.541831     5.541831\n",
        "290    464    391 -10.874   89.050387    89.050387\n",
        "121    260    391  10.403   99.552399    99.552399\n",
        "120    246    391  14.460  124.843865   124.843865\n",
        "73     532    391 -15.137  137.396283   137.396283\n",
        "\n",
        "[5 rows x 5 columns]"
       ]
      },
      {
       "output_type": "stream",
       "stream": "stdout",
       "text": [
        "\n",
        "24378 24378 784.958 1053.845 1362.555\n",
        "     blob1  blob2       dt        dist  d_spacetime\n",
        "285  23120  24378   61.168   64.155872    64.155872\n",
        "289  23045  24378   65.495   68.428659    68.428659\n",
        "242  20570  24378  167.895  171.150416   171.150416\n",
        "179  20405  24378  171.298  172.236791   172.236791\n",
        "7    21218  24378  145.034  175.436548   175.436548\n",
        "\n",
        "[5 rows x 5 columns]"
       ]
      },
      {
       "output_type": "stream",
       "stream": "stdout",
       "text": [
        "\n",
        "11578 11578 240.95 401.12 742.957\n",
        "     blob1  blob2       dt        dist  d_spacetime\n",
        "251  11578  11578   -2.929    3.017520     3.017520\n",
        "164  11660  11578   -4.997    5.111002     5.111002\n",
        "51   11369  11578    7.200   29.726005    29.726005\n",
        "202   8878  11578  128.107  408.609938   408.609938\n",
        "230   3446  11578  391.640  484.733749   484.733749\n",
        "\n",
        "[5 rows x 5 columns]"
       ]
      },
      {
       "output_type": "stream",
       "stream": "stdout",
       "text": [
        "\n",
        "2188 2188 1583.175 594.376 224.153\n",
        "     blob1  blob2       dt        dist  d_spacetime\n",
        "252   2188   2188   -2.532    2.861802     2.861802\n",
        "58    2057   2188    8.197  110.967677   110.967677\n",
        "86     917   2188  106.773  126.536422   126.536422\n",
        "176   1355   2188   82.296  127.864105   127.864105\n",
        "339    661   2188  164.102  257.723552   257.723552\n",
        "\n",
        "[5 rows x 5 columns]"
       ]
      },
      {
       "output_type": "stream",
       "stream": "stdout",
       "text": [
        "\n",
        "22858 22858 1038.348 1378.418 1285.787\n",
        "     blob1  blob2       dt        dist  d_spacetime\n",
        "253  22858  22858   -2.463    2.539541     2.539541\n",
        "378  21902  22858   44.093  114.463352   114.463352\n",
        "198  25053  22858 -111.673  141.076582   141.076582\n",
        "78   19862  22858  131.549  178.510212   178.510212\n",
        "25   26426  22858 -166.840  203.578165   203.578165\n",
        "\n",
        "[5 rows x 5 columns]"
       ]
      },
      {
       "output_type": "stream",
       "stream": "stdout",
       "text": [
        "\n",
        "46611 46611 1351.009 1034.28 2491.948\n",
        "     blob1  blob2       dt        dist  d_spacetime\n",
        "254  46611  46611   -2.415    3.239785     3.239785\n",
        "65   49179  46611 -154.980  249.964816   249.964816\n",
        "191  50546  46611 -229.807  293.168579   293.168579\n",
        "161  50594  46611 -233.880  312.885633   312.885633\n",
        "142  40088  46611  355.852  424.547635   424.547635\n",
        "\n",
        "[5 rows x 5 columns]"
       ]
      },
      {
       "output_type": "stream",
       "stream": "stdout",
       "text": [
        "\n",
        "32876 32876 607.407 1042.582 1740.626\n",
        "     blob1  blob2       dt        dist  d_spacetime\n",
        "77   32713  32876    2.214    3.090296     3.090296\n",
        "255  32876  32876   -2.669    3.365817     3.365817\n",
        "75   29441  32876  166.768  182.556317   182.556317\n",
        "67   30336  32876  123.672  200.649997   200.649997\n",
        "41   34631  32876 -100.932  202.336977   202.336977\n",
        "\n",
        "[5 rows x 5 columns]"
       ]
      },
      {
       "output_type": "stream",
       "stream": "stdout",
       "text": [
        "\n",
        "874 874 1439.297 1414.897 82.65\n",
        "     blob1  blob2       dt        dist  d_spacetime\n",
        "379    784    874   12.898  100.490987   100.490987\n",
        "237     34    874   75.770  196.015211   196.015211\n",
        "381    645    874   24.259  212.294350   212.294350\n",
        "145    872    874   -6.793  256.157469   256.157469\n",
        "155   2734    874 -184.671  275.944468   275.944468\n",
        "\n",
        "[5 rows x 5 columns]"
       ]
      },
      {
       "output_type": "stream",
       "stream": "stdout",
       "text": [
        "\n",
        "41285 41285 1088.404 1312.997 2182.829\n",
        "     blob1  blob2      dt        dist  d_spacetime\n",
        "256  41285  41285  -2.398    2.463567     2.463567\n",
        "197  41950  41285 -37.992   49.734043    49.734043\n",
        "281  42511  41285 -71.462  103.832827   103.832827\n",
        "310  40779  41285  28.234  119.996131   119.996131\n",
        "384  40748  41285  31.139  123.942155   123.942155\n",
        "\n",
        "[5 rows x 5 columns]"
       ]
      },
      {
       "output_type": "stream",
       "stream": "stdout",
       "text": [
        "\n",
        "67684 67684 798.938 1055.86 3572.317\n",
        "     blob1  blob2      dt       dist  d_spacetime\n",
        "257  67684  67684  -2.389   2.613681     2.613681\n",
        "69   66776  67684   0.932  21.139465    21.139465\n",
        "259  66658  67684  57.048  65.394357    65.394357\n",
        "382  66376  67684  73.845  74.587285    74.587285\n",
        "258  66343  67684  74.382  74.966359    74.966359\n",
        "\n",
        "[5 rows x 5 columns]"
       ]
      },
      {
       "output_type": "stream",
       "stream": "stdout",
       "text": [
        "\n",
        "3125 3125 1068.78 2319.719 318.255\n",
        "     blob1  blob2       dt        dist  d_spacetime\n",
        "284   2924   3125   21.298   83.662860    83.662860\n",
        "112   2807   3125   34.807  158.384515   158.384515\n",
        "148   2538   3125   62.902  306.969801   306.969801\n",
        "9     3193   3125 -180.026  389.602983   389.602983\n",
        "96     820   3125  240.705  422.412803   422.412803\n",
        "\n",
        "[5 rows x 5 columns]"
       ]
      },
      {
       "output_type": "stream",
       "stream": "stdout",
       "text": [
        "\n",
        "66343 66343 792.946 1048.334 3495.568\n",
        "     blob1  blob2      dt       dist  d_spacetime\n",
        "258  66343  66343  -2.367   2.538901     2.538901\n",
        "382  66376  66343  -2.904   3.506481     3.506481\n",
        "233  66161  66343   4.666  25.107666    25.107666\n",
        "324  66258  66343   3.732  26.087150    26.087150\n",
        "259  66658  66343 -19.701  32.005541    32.005541\n",
        "\n",
        "[5 rows x 5 columns]"
       ]
      },
      {
       "output_type": "stream",
       "stream": "stdout",
       "text": [
        "\n",
        "16463 16463 723.036 1008.813 998.842\n",
        "     blob1  blob2       dt        dist  d_spacetime\n",
        "90   17166  16463  -50.046   90.547234    90.547234\n",
        "187  18161  16463  -87.018  101.461660   101.461660\n",
        "185  18324  16463  -94.951  119.471254   119.471254\n",
        "351  19669  16463 -145.218  147.226350   147.226350\n",
        "380  16494  16463   -2.078  165.315654   165.315654\n",
        "\n",
        "[5 rows x 5 columns]"
       ]
      },
      {
       "output_type": "stream",
       "stream": "stdout",
       "text": [
        "\n",
        "55838 55838 707.411 217.233 3014.76\n",
        "     blob1  blob2       dt        dist  d_spacetime\n",
        "206  57139  55838  -61.332  202.586602   202.586602\n",
        "266  64164  55838 -383.441  385.609822   385.609822\n",
        "110  65193  55838 -432.974  434.107424   434.107424\n",
        "246  65458  55838 -436.841  438.708734   438.708734\n",
        "240  65492  55838 -441.307  443.342029   443.342029\n",
        "\n",
        "[5 rows x 5 columns]"
       ]
      },
      {
       "output_type": "stream",
       "stream": "stdout",
       "text": [
        "\n",
        "3201 3201 1087.379 2336.225 325.289\n",
        "     blob1  blob2       dt        dist  d_spacetime\n",
        "284   2924   3201   28.332  109.470746   109.470746\n",
        "112   2807   3201   41.841  184.194695   184.194695\n",
        "148   2538   3201   69.936  332.719475   332.719475\n",
        "9     3193   3201 -172.992  408.203495   408.203495\n",
        "229   1435   3201  174.500  442.365973   442.365973\n",
        "\n",
        "[5 rows x 5 columns]"
       ]
      },
      {
       "output_type": "stream",
       "stream": "stdout",
       "text": [
        "\n",
        "66658 66658 799.925 1023.458 3512.896\n",
        "     blob1  blob2      dt       dist  d_spacetime\n",
        "259  66658  66658  -2.373   2.524951     2.524951\n",
        "324  66258  66658  21.060  21.408204    21.408204\n",
        "233  66161  66658  21.994  22.405588    22.405588\n",
        "382  66376  66658  14.424  27.948073    27.948073\n",
        "258  66343  66658  14.961  29.422724    29.422724\n",
        "\n",
        "[5 rows x 5 columns]"
       ]
      },
      {
       "output_type": "stream",
       "stream": "stdout",
       "text": [
        "\n",
        "1997 1997 766.221 1692.728 206.681\n",
        "     blob1  blob2       dt        dist  d_spacetime\n",
        "260   1997   1997   -2.537    5.003678     5.003678\n",
        "93    2067   1997  -23.100  185.642248   185.642248\n",
        "269   1629   1997   32.224  239.629443   239.629443\n",
        "133   1469   1997   49.457  247.610167   247.610167\n",
        "188    950   1997  107.159  265.323136   265.323136\n",
        "\n",
        "[5 rows x 5 columns]"
       ]
      },
      {
       "output_type": "stream",
       "stream": "stdout",
       "text": [
        "\n",
        "7632 7632 245.95 1011.785 562.886\n",
        "     blob1  blob2       dt        dist  d_spacetime\n",
        "263   7632   7632   -2.067    2.139152     2.139152\n",
        "53    7548   7632    3.805   31.720238    31.720238\n",
        "38    7036   7632   21.462   85.122054    85.122054\n",
        "202   8878   7632  -51.964  238.965102   238.965102\n",
        "57    2938   7632  261.899  277.309612   277.309612\n",
        "\n",
        "[5 rows x 5 columns]"
       ]
      },
      {
       "output_type": "stream",
       "stream": "stdout",
       "text": [
        "\n",
        "65009 65009 559.963 1035.568 3435.534\n",
        "     blob1  blob2       dt        dist  d_spacetime\n",
        "261  65009  65009   -2.067    2.102504     2.102504\n",
        "126  64475  65009    2.533    2.846417     2.846417\n",
        "70   66484  65009 -106.382  107.965680   107.965680\n",
        "321  67323  65009 -108.617  110.455664   110.455664\n",
        "357  61488  65009  151.869  154.005884   154.005884\n",
        "\n",
        "[5 rows x 5 columns]"
       ]
      },
      {
       "output_type": "stream",
       "stream": "stdout",
       "text": [
        "\n",
        "65668 65668 746.34 242.033 3462.331\n",
        "     blob1  blob2      dt       dist  d_spacetime\n",
        "262  65668  65668  -2.067   2.293842     2.293842\n",
        "300  65574  65668   4.532   5.557843     5.557843\n",
        "240  65492  65668   6.264   7.514917     7.514917\n",
        "246  65458  65668  10.730  12.678318    12.678318\n",
        "110  65193  65668  14.597  27.291325    27.291325\n",
        "\n",
        "[5 rows x 5 columns]"
       ]
      },
      {
       "output_type": "stream",
       "stream": "stdout",
       "text": [
        "\n",
        "53255 53255 1004.36 1397.025 2871.982\n",
        "     blob1  blob2       dt        dist  d_spacetime\n",
        "286  54046  53255  -48.008   49.419837    49.419837\n",
        "6    51891  53255   72.117   88.675663    88.675663\n",
        "3    47333  53255  250.722  266.837955   266.837955\n",
        "82   54391  53255  -68.915  298.316796   298.316796\n",
        "143  49531  53255  197.423  330.621112   330.621112\n",
        "\n",
        "[5 rows x 5 columns]"
       ]
      },
      {
       "output_type": "stream",
       "stream": "stdout",
       "text": [
        "\n",
        "829 829 1277.749 1667.828 74.953\n",
        "     blob1  blob2       dt        dist  d_spacetime\n",
        "264    829    829   -2.126    5.382926     5.382926\n",
        "271    798    829    2.414   18.946236    18.946236\n",
        "237     34    829   68.073  142.557601   142.557601\n",
        "43    2187    829 -152.264  249.478297   249.478297\n",
        "145    872    829  -14.490  250.444155   250.444155\n",
        "\n",
        "[5 rows x 5 columns]"
       ]
      },
      {
       "output_type": "stream",
       "stream": "stdout",
       "text": [
        "\n",
        "5084 5084 1329.924 690.144 451.122\n",
        "     blob1  blob2       dt        dist  d_spacetime\n",
        "265   5084   5084   -1.996    2.174812     2.174812\n",
        "31    3595   5084   78.934  285.594485   285.594485\n",
        "383   1443   5084  296.733  307.998153   307.998153\n",
        "119   3116   5084  132.535  309.902523   309.902523\n",
        "385   1456   5084  295.603  310.190204   310.190204\n",
        "\n",
        "[5 rows x 5 columns]"
       ]
      },
      {
       "output_type": "stream",
       "stream": "stdout",
       "text": [
        "\n",
        "64162 64162 743.466 195.845 3396.231\n",
        "     blob1  blob2      dt       dist  d_spacetime\n",
        "266  64164  64162  -1.970   2.501011     2.501011\n",
        "110  65193  64162 -51.503  57.224014    57.224014\n",
        "246  65458  64162 -55.370  68.428856    68.428856\n",
        "240  65492  64162 -59.836  73.505259    73.505259\n",
        "300  65574  64162 -61.568  75.219538    75.219538\n",
        "\n",
        "[5 rows x 5 columns]"
       ]
      },
      {
       "output_type": "stream",
       "stream": "stdout",
       "text": [
        "\n",
        "3664 3664 22.096 2038.839 377.118\n",
        "     blob1  blob2       dt        dist  d_spacetime\n",
        "174   3166   3664   53.106  422.863589   422.863589\n",
        "165     76   3664  356.662  473.756676   473.756676\n",
        "140     10   3664  360.168  603.841290   603.841290\n",
        "375    928   3664  287.869  784.345338   784.345338\n",
        "93    2067   3664  147.337  792.686682   792.686682\n",
        "\n",
        "[5 rows x 5 columns]"
       ]
      },
      {
       "output_type": "stream",
       "stream": "stdout",
       "text": [
        "\n",
        "42451 42451 1509.951 1361.726 2248.362\n",
        "     blob1  blob2       dt        dist  d_spacetime\n",
        "267  42451  42451   -1.934    4.686588     4.686588\n",
        "360  39573  42451  153.703  180.639516   180.639516\n",
        "11   45403  42451 -169.965  185.965227   185.965227\n",
        "14   38796  42451  170.834  187.706129   187.706129\n",
        "123  39270  42451  164.634  187.945877   187.945877\n",
        "\n",
        "[5 rows x 5 columns]"
       ]
      },
      {
       "output_type": "stream",
       "stream": "stdout",
       "text": [
        "\n",
        "66967 66967 29.985 2033.638 3523.83\n",
        "     blob1  blob2       dt        dist  d_spacetime\n",
        "130  67196  66967  -29.961  337.290965   337.290965\n",
        "291  67125  66967   -8.439  342.490493   342.490493\n",
        "311  67070  66967   -5.173  356.852677   356.852677\n",
        "354  67038  66967   -3.039  368.994069   368.994069\n",
        "235  64282  66967  117.436  396.439100   396.439100\n",
        "\n",
        "[5 rows x 5 columns]"
       ]
      },
      {
       "output_type": "stream",
       "stream": "stdout",
       "text": [
        "\n",
        "18149 18149 1074.774 869.285 1078.62\n",
        "     blob1  blob2       dt        dist  d_spacetime\n",
        "268  18149  18149   -1.863    2.644900     2.644900\n",
        "17   18218  18149   -6.167   68.982996    68.982996\n",
        "205  18729  18149  -25.468   77.899705    77.899705\n",
        "305  20634  18149 -116.937  144.396218   144.396218\n",
        "317  20655  18149 -117.768  145.861421   145.861421\n",
        "\n",
        "[5 rows x 5 columns]"
       ]
      },
      {
       "output_type": "stream",
       "stream": "stdout",
       "text": [
        "\n",
        "1629 1629 922.774 1512.645 172.651\n",
        "     blob1  blob2      dt        dist  d_spacetime\n",
        "269   1629   1629  -1.806    2.204297     2.204297\n",
        "133   1469   1629  15.427   22.943560    22.943560\n",
        "188    950   1629  73.129   76.631431    76.631431\n",
        "363   2597   1629 -84.568   92.801668    92.801668\n",
        "16    1634   1629  -6.132  103.660557   103.660557\n",
        "\n",
        "[5 rows x 5 columns]"
       ]
      },
      {
       "output_type": "stream",
       "stream": "stdout",
       "text": [
        "\n",
        "2378 2378 1542.826 953.171 237.918\n",
        "     blob1  blob2       dt        dist  d_spacetime\n",
        "270   2378   2378   -1.805    1.816852     1.816852\n",
        "146   2537   2378  -22.538   24.910834    24.910834\n",
        "370   2621   2378  -22.901   25.293980    25.293980\n",
        "31    3595   2378 -134.270  156.683014   156.683014\n",
        "83     610   2378  179.195  235.091996   235.091996\n",
        "\n",
        "[5 rows x 5 columns]"
       ]
      },
      {
       "output_type": "stream",
       "stream": "stdout",
       "text": [
        "\n",
        "798 798 1269.098 1689.947 70.755\n",
        "     blob1  blob2       dt        dist  d_spacetime\n",
        "271    798    798   -1.784    5.530700     5.530700\n",
        "264    829    798   -6.324   29.298687    29.298687\n",
        "237     34    798   63.875  162.103235   162.103235\n",
        "43    2187    798 -156.462  265.165436   265.165436\n",
        "145    872    798  -18.688  268.441388   268.441388\n",
        "\n",
        "[5 rows x 5 columns]"
       ]
      },
      {
       "output_type": "stream",
       "stream": "stdout",
       "text": [
        "\n",
        "35709 35709 1347.723 1768.307 1888.726\n",
        "     blob1  blob2      dt        dist  d_spacetime\n",
        "272  35709  35709  -1.932    2.595826     2.595826\n",
        "333  35767  35709  -3.132    4.793974     4.793974\n",
        "340  35617  35709   3.943   44.206505    44.206505\n",
        "167  36475  35709 -40.103  170.447564   170.447564\n",
        "80   35344  35709  17.236  177.511553   177.511553\n",
        "\n",
        "[5 rows x 5 columns]"
       ]
      },
      {
       "output_type": "stream",
       "stream": "stdout",
       "text": [
        "\n",
        "53371 53371 933.077 975.507 2877.125\n",
        "     blob1  blob2       dt        dist  d_spacetime\n",
        "348  54582  53371  -73.704  121.376166   121.376166\n",
        "74   54522  53371  -71.035  129.733113   129.733113\n",
        "151  54603  53371  -88.041  136.003896   136.003896\n",
        "282  55880  53371 -140.075  215.289129   215.289129\n",
        "275  49865  53371  194.554  282.434484   282.434484\n",
        "\n",
        "[5 rows x 5 columns]"
       ]
      },
      {
       "output_type": "stream",
       "stream": "stdout",
       "text": [
        "\n",
        "65050 65050 744.987 368.598 3436.395\n",
        "     blob1  blob2      dt        dist  d_spacetime\n",
        "273  65050  65050  -1.736    2.646565     2.646565\n",
        "262  65668  65050 -28.003  130.478373   130.478373\n",
        "300  65574  65050 -21.404  131.331104   131.331104\n",
        "240  65492  65050 -19.672  131.547201   131.547201\n",
        "246  65458  65050 -15.206  133.427297   133.427297\n",
        "\n",
        "[5 rows x 5 columns]"
       ]
      },
      {
       "output_type": "stream",
       "stream": "stdout",
       "text": [
        "\n",
        "61328 61328 951.322 1696.665 3276.33\n",
        "     blob1  blob2      dt        dist  d_spacetime\n",
        "274  61354  61328  -1.799   24.238961    24.238961\n",
        "298  61399  61328  -3.937   47.548179    47.548179\n",
        "325  61454  61328  -5.935   72.294434    72.294434\n",
        "306  61565  61328 -10.137  119.521923   119.521923\n",
        "101  61635  61328 -12.738  139.392290   139.392290\n",
        "\n",
        "[5 rows x 5 columns]"
       ]
      },
      {
       "output_type": "stream",
       "stream": "stdout",
       "text": [
        "\n",
        "49856 49856 729.387 1004.658 2680.932\n",
        "     blob1  blob2       dt        dist  d_spacetime\n",
        "275  49865  49856   -1.639    2.280360     2.280360\n",
        "85   47845  49856  116.302  119.612006   119.612006\n",
        "42   47282  49856  137.773  147.828773   147.828773\n",
        "59   46998  49856  159.912  195.417044   195.417044\n",
        "329  48313  49856   88.271  201.698073   201.698073\n",
        "\n",
        "[5 rows x 5 columns]"
       ]
      },
      {
       "output_type": "stream",
       "stream": "stdout",
       "text": [
        "\n",
        "4923 4923 1382.316 735.586 442.918\n",
        "     blob1  blob2       dt        dist  d_spacetime\n",
        "265   5084   4923  -10.200   70.726255    70.726255\n",
        "31    3595   4923   70.730  216.977051   216.977051\n",
        "61    1303   4923  299.802  301.210841   301.210841\n",
        "383   1443   4923  288.529  325.724849   325.724849\n",
        "252   2188   4923  216.233  326.174404   326.174404\n",
        "\n",
        "[5 rows x 5 columns]"
       ]
      },
      {
       "output_type": "stream",
       "stream": "stdout",
       "text": [
        "\n",
        "33137 33137 1132.316 1334.295 1753.621\n",
        "     blob1  blob2       dt        dist  d_spacetime\n",
        "276  33143  33137   -1.598    1.661423     1.661423\n",
        "10   29978  33137    1.294  202.681657   202.681657\n",
        "122  31968  33137   63.127  278.854580   278.854580\n",
        "137  27329  33137  254.927  285.540187   285.540187\n",
        "25   26426  33137  300.994  304.283649   304.283649\n",
        "\n",
        "[5 rows x 5 columns]"
       ]
      },
      {
       "output_type": "stream",
       "stream": "stdout",
       "text": [
        "\n",
        "4010 4010 1681.781 636.573 401.385\n",
        "     blob1  blob2       dt        dist  d_spacetime\n",
        "252   2188   4010  174.700  205.408538   205.408538\n",
        "58    2057   4010  185.429  259.628958   259.628958\n",
        "176   1355   4010  259.528  271.893511   271.893511\n",
        "31    3595   4010   29.197  279.779309   279.779309\n",
        "86     917   4010  284.005  315.910951   315.910951\n",
        "\n",
        "[5 rows x 5 columns]"
       ]
      },
      {
       "output_type": "stream",
       "stream": "stdout",
       "text": [
        "\n",
        "40165 40165 426.671 715.424 2123.961\n",
        "     blob1  blob2       dt        dist  d_spacetime\n",
        "277  40200  40165   -1.531    1.532601     1.532601\n",
        "387  40387  40165   -9.602   33.735816    33.735816\n",
        "12   36633  40165  178.344  210.938960   210.938960\n",
        "45   41164  40165  -84.397  225.368889   225.368889\n",
        "313  45396  40165 -293.503  343.642831   343.642831\n",
        "\n",
        "[5 rows x 5 columns]"
       ]
      },
      {
       "output_type": "stream",
       "stream": "stdout",
       "text": [
        "\n",
        "59493 59493 984.045 1017.342 3199.293\n",
        "     blob1  blob2       dt        dist  d_spacetime\n",
        "278  59493  59493   -1.474    2.980804     2.980804\n",
        "301  59463  59493    0.429   20.666468    20.666468\n",
        "173  59532  59493   -3.536   26.491588    26.491588\n",
        "349  59217  59493   15.142  162.520858   162.520858\n",
        "192  63639  59493 -182.442  247.079643   247.079643\n",
        "\n",
        "[5 rows x 5 columns]"
       ]
      },
      {
       "output_type": "stream",
       "stream": "stdout",
       "text": [
        "\n",
        "47617 47617 987.219 1458.386 2545.997\n",
        "     blob1  blob2       dt        dist  d_spacetime\n",
        "280  47617  47617   -1.469    5.844303     5.844303\n",
        "64   46873  47617    1.509   22.060301    22.060301\n",
        "279  47039  47617   31.773   74.904001    74.904001\n",
        "3    47333  47617  -75.263  162.197691   162.197691\n",
        "143  49531  47617 -128.562  240.062060   240.062060\n",
        "\n",
        "[5 rows x 5 columns]"
       ]
      },
      {
       "output_type": "stream",
       "stream": "stdout",
       "text": [
        "\n",
        "47039 47039 1037.025 1413.615 2512.696\n",
        "     blob1  blob2       dt        dist  d_spacetime\n",
        "279  47039  47039   -1.528    1.932132     1.932132\n",
        "280  47617  47039  -34.770   79.435478    79.435478\n",
        "64   46873  47039  -31.792   89.818157    89.818157\n",
        "3    47333  47039 -108.564  164.411508   164.411508\n",
        "315  43543  47039  201.966  210.143455   210.143455\n",
        "\n",
        "[5 rows x 5 columns]"
       ]
      },
      {
       "output_type": "stream",
       "stream": "stdout",
       "text": [
        "\n",
        "64720 64720 740.789 196.099 3421.002\n",
        "     blob1  blob2      dt       dist  d_spacetime\n",
        "266  64164  64720  22.801  22.840224    22.840224\n",
        "110  65193  64720 -26.732  36.130706    36.130706\n",
        "246  65458  64720 -30.599  50.382271    50.382271\n",
        "240  65492  64720 -35.065  55.147146    55.147146\n",
        "300  65574  64720 -36.797  56.709622    56.709622\n",
        "\n",
        "[5 rows x 5 columns]"
       ]
      },
      {
       "output_type": "stream",
       "stream": "stdout",
       "text": [
        "\n",
        "42511 42511 1028.774 1333.542 2252.83\n",
        "     blob1  blob2      dt        dist  d_spacetime\n",
        "281  42511  42511  -1.461   12.397197    12.397197\n",
        "197  41950  42511  32.009   45.490375    45.490375\n",
        "315  43543  42511 -57.900   63.959891    63.959891\n",
        "256  41285  42511  67.603   92.806915    92.806915\n",
        "371  43321  42511 -42.132  141.485805   141.485805\n",
        "\n",
        "[5 rows x 5 columns]"
       ]
      },
      {
       "output_type": "stream",
       "stream": "stdout",
       "text": [
        "\n",
        "55868 55868 955.696 812.861 3015.765\n",
        "     blob1  blob2      dt        dist  d_spacetime\n",
        "282  55880  55868  -1.435    2.288014     2.288014\n",
        "151  54603  55868  50.599  101.886056   101.886056\n",
        "74   54522  55868  67.605  107.342493   107.342493\n",
        "348  54582  55868  64.936  116.688274   116.688274\n",
        "216  56232  55868 -19.763  209.146602   209.146602\n",
        "\n",
        "[5 rows x 5 columns]"
       ]
      },
      {
       "output_type": "stream",
       "stream": "stdout",
       "text": [
        "\n",
        "22086 22086 351.848 649.396 1249.889\n",
        "     blob1  blob2       dt        dist  d_spacetime\n",
        "283  22086  22086   -1.404    2.950639     2.950639\n",
        "141  22357  22086  -26.700   52.910258    52.910258\n",
        "20   17686  22086   91.773   95.266102    95.266102\n",
        "222  23010  22086  -47.237  170.425197   170.425197\n",
        "34   25840  22086 -175.499  183.223426   183.223426\n",
        "\n",
        "[5 rows x 5 columns]"
       ]
      },
      {
       "output_type": "stream",
       "stream": "stdout",
       "text": [
        "\n",
        "40772 40772 972.017 702.339 2152.927\n",
        "     blob1  blob2       dt        dist  d_spacetime\n",
        "166  38414  40772  107.534  168.488432   168.488432\n",
        "26   43181  40772 -139.162  196.550123   196.550123\n",
        "209  34260  40772  337.568  355.920125   355.920125\n",
        "1    47027  40772 -369.038  383.887444   383.887444\n",
        "183  38931  40772   80.901  387.473318   387.473318\n",
        "\n",
        "[5 rows x 5 columns]"
       ]
      },
      {
       "output_type": "stream",
       "stream": "stdout",
       "text": [
        "\n",
        "2924 2924 1007.644 2269.602 295.557\n",
        "     blob1  blob2       dt        dist  d_spacetime\n",
        "284   2924   2924   -1.400    2.796266     2.796266\n",
        "112   2807   2924   12.109   76.565377    76.565377\n",
        "148   2538   2924   40.204  225.506566   225.506566\n",
        "9     3193   2924 -202.724  337.885661   337.885661\n",
        "96     820   2924  218.007  345.872258   345.872258\n",
        "\n",
        "[5 rows x 5 columns]"
       ]
      },
      {
       "output_type": "stream",
       "stream": "stdout",
       "text": [
        "\n",
        "23120 23120 779.396 1034.456 1299.989\n",
        "     blob1  blob2       dt        dist  d_spacetime\n",
        "285  23120  23120   -1.398    1.984866     1.984866\n",
        "289  23045  23120    2.929    3.023560     3.023560\n",
        "242  20570  23120  105.329  106.324562   106.324562\n",
        "179  20405  23120  108.732  110.574732   110.574732\n",
        "7    21218  23120   82.468  118.745445   118.745445\n",
        "\n",
        "[5 rows x 5 columns]"
       ]
      },
      {
       "output_type": "stream",
       "stream": "stdout",
       "text": [
        "\n",
        "54046 54046 1011.377 1406.43 2918.533\n",
        "     blob1  blob2       dt        dist  d_spacetime\n",
        "286  54046  54046   -1.457    1.472252     1.472252\n",
        "6    51891  54046  118.668  133.668941   133.668941\n",
        "82   54391  54046  -22.364  289.136343   289.136343\n",
        "3    47333  54046  297.273  314.603271   314.603271\n",
        "143  49531  54046  243.974  354.123609   354.123609\n",
        "\n",
        "[5 rows x 5 columns]"
       ]
      },
      {
       "output_type": "stream",
       "stream": "stdout",
       "text": [
        "\n",
        "4423 4423 1059.254 1164.45 421.618\n",
        "     blob1  blob2       dt        dist  d_spacetime\n",
        "287   4423   4423   -1.355    1.401931     1.401931\n",
        "13    3120   4423   59.595   97.446359    97.446359\n",
        "227   6821   4423 -112.571  122.837916   122.837916\n",
        "190   5179   4423  -34.631  169.231752   169.231752\n",
        "182   3361   4423   80.802  199.668803   199.668803\n",
        "\n",
        "[5 rows x 5 columns]"
       ]
      },
      {
       "output_type": "stream",
       "stream": "stdout",
       "text": [
        "\n",
        "10831 10831 1587.043 1968.264 706.98\n",
        "     blob1  blob2      dt        dist  d_spacetime\n",
        "288  10831  10831  -1.341    3.337647     3.337647\n",
        "292  10697  10831   4.262   40.814795    40.814795\n",
        "46   11012  10831 -25.861  199.362609   199.362609\n",
        "115  11432  10831 -36.238  235.934513   235.934513\n",
        "345  10018  10831  38.558  311.889430   311.889430\n",
        "\n",
        "[5 rows x 5 columns]"
       ]
      },
      {
       "output_type": "stream",
       "stream": "stdout",
       "text": [
        "\n",
        "23045 23045 779.498 1034.19 1295.724\n",
        "     blob1  blob2       dt        dist  d_spacetime\n",
        "289  23045  23045   -1.336    1.678856     1.678856\n",
        "285  23120  23045   -5.663    5.908352     5.908352\n",
        "242  20570  23045  101.064  102.088281   102.088281\n",
        "179  20405  23045  104.467  106.435757   106.435757\n",
        "7    21218  23045   78.203  115.623077   115.623077\n",
        "\n",
        "[5 rows x 5 columns]"
       ]
      },
      {
       "output_type": "stream",
       "stream": "stdout",
       "text": [
        "\n",
        "464 464 538.436 1143.528 46.588\n",
        "     blob1  blob2       dt        dist  d_spacetime\n",
        "290    464    464   -1.336    2.607271     2.607271\n",
        "73     532    464   -5.599   52.786586    52.786586\n",
        "250    391    464    6.866   82.503359    82.503359\n",
        "50     777    464  -27.499  171.338297   171.338297\n",
        "79    1506    464 -116.430  174.673253   174.673253\n",
        "\n",
        "[5 rows x 5 columns]"
       ]
      },
      {
       "output_type": "stream",
       "stream": "stdout",
       "text": [
        "\n",
        "67125 67125 374.507 2010.68 3530.935\n",
        "     blob1  blob2       dt        dist  d_spacetime\n",
        "291  67125  67125   -1.334    3.198500     3.198500\n",
        "311  67070  67125    1.932   19.280328    19.280328\n",
        "130  67196  67125  -22.856   25.415574    25.415574\n",
        "354  67038  67125    4.066   30.602519    30.602519\n",
        "235  64282  67125  124.541  133.515857   133.515857\n",
        "\n",
        "[5 rows x 5 columns]"
       ]
      },
      {
       "output_type": "stream",
       "stream": "stdout",
       "text": [
        "\n",
        "10697 10697 1603.926 1930.596 701.39\n",
        "     blob1  blob2      dt        dist  d_spacetime\n",
        "292  10697  10697  -1.328    2.162830     2.162830\n",
        "288  10831  10697  -6.931   44.517618    44.517618\n",
        "46   11012  10697 -31.451  239.883401   239.883401\n",
        "345  10018  10697  32.968  271.748903   271.748903\n",
        "115  11432  10697 -41.828  276.082732   276.082732\n",
        "\n",
        "[5 rows x 5 columns]"
       ]
      },
      {
       "output_type": "stream",
       "stream": "stdout",
       "text": [
        "\n",
        "26018 26018 353.492 605.693 1432.061\n",
        "     blob1  blob2      dt       dist  d_spacetime\n",
        "293  26018  26018  -1.319   4.451225     4.451225\n",
        "113  26126  26018  -4.932  15.781153    15.781153\n",
        "34   25840  26018   6.673  21.011798    21.011798\n",
        "359  26985  26018 -37.833  49.533355    49.533355\n",
        "153  27387  26018 -52.866  64.294338    64.294338\n",
        "\n",
        "[5 rows x 5 columns]"
       ]
      },
      {
       "output_type": "stream",
       "stream": "stdout",
       "text": [
        "\n",
        "2957 2957 1270.868 1283.805 299.787\n",
        "     blob1  blob2      dt       dist  d_spacetime\n",
        "294   2957   2957  -1.321   3.531353     3.531353\n",
        "322   2610   2957  38.903  53.729223    53.729223\n",
        "334   2770   2957  26.531  62.459432    62.459432\n",
        "155   2734   2957  32.466  64.422317    64.422317\n",
        "366   2599   2957  41.847  72.234251    72.234251\n",
        "\n",
        "[5 rows x 5 columns]"
       ]
      },
      {
       "output_type": "stream",
       "stream": "stdout",
       "text": [
        "\n",
        "17743 17743 6.202 505.264 1058.819\n",
        "     blob1  blob2       dt        dist  d_spacetime\n",
        "20   17686  17743  -99.297  394.226987   394.226987\n",
        "164  11660  17743  310.865  403.351699   403.351699\n",
        "251  11578  17743  312.933  404.990832   404.990832\n",
        "51   11369  17743  323.062  412.845075   412.845075\n",
        "283  22086  17743 -192.474  420.958317   420.958317\n",
        "\n",
        "[5 rows x 5 columns]"
       ]
      },
      {
       "output_type": "stream",
       "stream": "stdout",
       "text": [
        "\n",
        "29146 29146 997.905 786.819 1555.061\n",
        "     blob1  blob2       dt        dist  d_spacetime\n",
        "295  29146  29146   -1.258    2.567881     2.567881\n",
        "215  29395  29146  -12.931   58.377959    58.377959\n",
        "181  28090  29146   42.436  218.032477   218.032477\n",
        "102  27001  29146   83.434  235.186977   235.186977\n",
        "228  26360  29146  106.709  241.668773   241.668773\n",
        "\n",
        "[5 rows x 5 columns]"
       ]
      },
      {
       "output_type": "stream",
       "stream": "stdout",
       "text": [
        "\n",
        "46543 46543 534.38 1285.769 2487.959\n",
        "     blob1  blob2      dt        dist  d_spacetime\n",
        "296  46543  46543  -1.330    5.304615     5.304615\n",
        "302  46526  46543   0.211   20.065348    20.065348\n",
        "356  47939  46543 -79.337  135.025629   135.025629\n",
        "100  46173  46543  16.094  150.610672   150.610672\n",
        "247  48018  46543 -86.301  186.790098   186.790098\n",
        "\n",
        "[5 rows x 5 columns]"
       ]
      },
      {
       "output_type": "stream",
       "stream": "stdout",
       "text": [
        "\n",
        "24888 24888 1026.233 979.302 1385.953\n",
        "     blob1  blob2      dt       dist  d_spacetime\n",
        "297  24888  24888  -1.191   5.220948     5.220948\n",
        "341  25250  24888 -12.901  13.467383    13.467383\n",
        "136  24969  24888  -3.736  27.190430    27.190430\n",
        "210  24323  24888  20.461  36.641535    36.641535\n",
        "248  26083  24888 -51.557  89.861777    89.861777\n",
        "\n",
        "[5 rows x 5 columns]"
       ]
      },
      {
       "output_type": "stream",
       "stream": "stdout",
       "text": [
        "\n",
        "53254 53254 1001.7 1416.3 2871.982\n",
        "     blob1  blob2       dt        dist  d_spacetime\n",
        "286  54046  53254  -48.008   49.901278    49.901278\n",
        "6    51891  53254   72.117   92.658483    92.658483\n",
        "3    47333  53254  250.722  272.789415   272.789415\n",
        "82   54391  53254  -68.915  309.265012   309.265012\n",
        "143  49531  53254  197.423  315.238678   315.238678\n",
        "\n",
        "[5 rows x 5 columns]"
       ]
      },
      {
       "output_type": "stream",
       "stream": "stdout",
       "text": [
        "\n",
        "61399 61399 987.733 1725.652 3279.127\n",
        "     blob1  blob2     dt       dist  d_spacetime\n",
        "298  61399  61399 -1.140   1.522894     1.522894\n",
        "274  61354  61399  0.998  22.482304    22.482304\n",
        "325  61454  61399 -3.138  25.955262    25.955262\n",
        "306  61565  61399 -7.340  73.723055    73.723055\n",
        "101  61635  61399 -9.941  94.358588    94.358588\n",
        "\n",
        "[5 rows x 5 columns]"
       ]
      },
      {
       "output_type": "stream",
       "stream": "stdout",
       "text": [
        "\n",
        "44025 44025 892.843 254.225 2339.489\n",
        "     blob1  blob2       dt        dist  d_spacetime\n",
        "1    47027  44025 -182.476  435.886162   435.886162\n",
        "26   43181  44025   47.400  447.162472   447.162472\n",
        "160  47780  44025 -213.961  571.872461   571.872461\n",
        "166  38414  44025  294.096  633.424217   633.424217\n",
        "105  52211  44025 -478.533  646.235816   646.235816\n",
        "\n",
        "[5 rows x 5 columns]"
       ]
      },
      {
       "output_type": "stream",
       "stream": "stdout",
       "text": [
        "\n",
        "3667 3667 1620.354 423.418 377.188\n",
        "     blob1  blob2       dt        dist  d_spacetime\n",
        "58    2057   3667  161.232  176.035386   176.035386\n",
        "109   2314   3667  116.998  190.444334   190.444334\n",
        "252   2188   3667  150.503  231.478605   231.478605\n",
        "176   1355   3667  235.331  352.620319   352.620319\n",
        "86     917   3667  259.808  353.000652   353.000652\n",
        "\n",
        "[5 rows x 5 columns]"
       ]
      },
      {
       "output_type": "stream",
       "stream": "stdout",
       "text": [
        "\n",
        "14292 14292 1184.504 916.407 888.452\n",
        "     blob1  blob2      dt        dist  d_spacetime\n",
        "299  14292  14292  -1.073    1.926550     1.926550\n",
        "337  14383  14292  -4.897   25.533205    25.533205\n",
        "87   14000  14292  13.366  113.740601   113.740601\n",
        "318  14886  14292 -29.569  129.866747   129.866747\n",
        "327  14934  14292 -32.174  151.920180   151.920180\n",
        "\n",
        "[5 rows x 5 columns]"
       ]
      },
      {
       "output_type": "stream",
       "stream": "stdout",
       "text": [
        "\n",
        "65574 65574 744.899 239.118 3456.731\n",
        "     blob1  blob2     dt       dist  d_spacetime\n",
        "300  65574  65574 -1.068   1.114753     1.114753\n",
        "240  65492  65574  0.664   1.187596     1.187596\n",
        "246  65458  65574  5.130   6.212108     6.212108\n",
        "262  65668  65574 -7.667   7.992784     7.992784\n",
        "110  65193  65574  8.997  21.779031    21.779031\n",
        "\n",
        "[5 rows x 5 columns]"
       ]
      },
      {
       "output_type": "stream",
       "stream": "stdout",
       "text": [
        "\n",
        "59463 59463 999.797 1001.975 3197.801\n",
        "     blob1  blob2       dt        dist  d_spacetime\n",
        "301  59463  59463   -1.063    1.842750     1.842750\n",
        "278  59493  59463   -2.966   24.387320    24.387320\n",
        "173  59532  59463   -5.028   48.294772    48.294772\n",
        "349  59217  59463   13.650  140.616669   140.616669\n",
        "192  63639  59463 -183.934  252.416794   252.416794\n",
        "\n",
        "[5 rows x 5 columns]"
       ]
      },
      {
       "output_type": "stream",
       "stream": "stdout",
       "text": [
        "\n",
        "46526 46526 514.429 1280.621 2486.548\n",
        "     blob1  blob2      dt        dist  d_spacetime\n",
        "302  46526  46526  -1.200    1.580778     1.580778\n",
        "296  46543  46526  -2.741   25.593087    25.593087\n",
        "100  46173  46526  14.683  130.002002   130.002002\n",
        "356  47939  46526 -80.748  132.402718   132.402718\n",
        "247  48018  46526 -87.712  187.690468   187.690468\n",
        "\n",
        "[5 rows x 5 columns]"
       ]
      },
      {
       "output_type": "stream",
       "stream": "stdout",
       "text": [
        "\n",
        "3093 3093 1085.731 2339.542 311.55\n",
        "     blob1  blob2       dt        dist  d_spacetime\n",
        "284   2924   3093   14.593  107.604206   107.604206\n",
        "112   2807   3093   28.102  182.568195   182.568195\n",
        "148   2538   3093   56.197  331.261293   331.261293\n",
        "9     3193   3093 -186.731  415.770099   415.770099\n",
        "96     820   3093  234.000  439.751019   439.751019\n",
        "\n",
        "[5 rows x 5 columns]"
       ]
      },
      {
       "output_type": "stream",
       "stream": "stdout",
       "text": [
        "\n",
        "62954 62954 721.023 355.546 3343.628\n",
        "     blob1  blob2       dt        dist  d_spacetime\n",
        "273  65050  62954  -94.503   98.166569    98.166569\n",
        "246  65458  62954 -107.973  162.569928   162.569928\n",
        "240  65492  62954 -112.439  163.912910   163.912910\n",
        "300  65574  62954 -114.171  164.916183   164.916183\n",
        "262  65668  62954 -120.770  168.183355   168.183355\n",
        "\n",
        "[5 rows x 5 columns]"
       ]
      },
      {
       "output_type": "stream",
       "stream": "stdout",
       "text": [
        "\n",
        "57189 57189 1589.905 753.073 3078.327\n",
        "     blob1  blob2       dt        dist  d_spacetime\n",
        "303  57189  57189   -1.138    1.373793     1.373793\n",
        "84   57321  57189   -7.255   71.313165    71.313165\n",
        "172  58149  57189  -48.492  348.295674   348.295674\n",
        "218  56443  57189   34.598  364.170635   364.170635\n",
        "161  50594  57189  352.499  396.047090   396.047090\n",
        "\n",
        "[5 rows x 5 columns]"
       ]
      },
      {
       "output_type": "stream",
       "stream": "stdout",
       "text": [
        "\n",
        "1137 1137 1109.544 811.323 110.25\n",
        "     blob1  blob2      dt        dist  d_spacetime\n",
        "304   1137   1137  -1.272    1.358848     1.358848\n",
        "147    768   1137  42.761  104.821193   104.821193\n",
        "328    746   1137  44.648  121.500473   121.500473\n",
        "184    662   1137  48.062  155.827305   155.827305\n",
        "62     641   1137  50.661  170.143119   170.143119\n",
        "\n",
        "[5 rows x 5 columns]"
       ]
      },
      {
       "output_type": "stream",
       "stream": "stdout",
       "text": [
        "\n",
        "59209 59209 979.751 1410.736 3183.501\n",
        "     blob1  blob2       dt        dist  d_spacetime\n",
        "163  62942  59209 -162.534  186.069611   186.069611\n",
        "336  60832  59209  -74.092  231.232143   231.232143\n",
        "286  54046  59209  263.511  265.414389   265.414389\n",
        "274  61354  59209  -94.628  314.510695   314.510695\n",
        "298  61399  59209  -96.766  329.653353   329.653353\n",
        "\n",
        "[5 rows x 5 columns]"
       ]
      },
      {
       "output_type": "stream",
       "stream": "stdout",
       "text": [
        "\n",
        "20634 20634 1062.846 953.854 1194.588\n",
        "     blob1  blob2      dt       dist  d_spacetime\n",
        "305  20634  20634  -0.969   1.270529     1.270529\n",
        "317  20655  20634  -1.800   1.989165     1.989165\n",
        "186  21461  20634 -30.133  39.395819    39.395819\n",
        "238  22060  20634 -54.822  56.128497    56.128497\n",
        "205  18729  20634  90.500  96.716751    96.716751\n",
        "\n",
        "[5 rows x 5 columns]"
       ]
      },
      {
       "output_type": "stream",
       "stream": "stdout",
       "text": [
        "\n",
        "61565 61565 1050.321 1755.429 3285.512\n",
        "     blob1  blob2     dt       dist  d_spacetime\n",
        "306  61565  61565 -0.955   4.215641     4.215641\n",
        "101  61635  61565 -3.556  25.804794    25.804794\n",
        "325  61454  61565  3.247  43.723582    43.723582\n",
        "298  61399  61565  5.245  68.566383    68.566383\n",
        "274  61354  61565  7.383  91.341469    91.341469\n",
        "\n",
        "[5 rows x 5 columns]"
       ]
      },
      {
       "output_type": "stream",
       "stream": "stdout",
       "text": [
        "\n",
        "15609 15609 1229.048 1119.601 952.319\n",
        "     blob1  blob2      dt        dist  d_spacetime\n",
        "307  15609  15609  -0.940    1.117372     1.117372\n",
        "327  14934  15609  31.693   83.086273    83.086273\n",
        "318  14886  15609  34.298   93.918582    93.918582\n",
        "87   14000  15609  77.233  190.081149   190.081149\n",
        "344  13708  15609  95.131  216.118511   216.118511\n",
        "\n",
        "[5 rows x 5 columns]"
       ]
      },
      {
       "output_type": "stream",
       "stream": "stdout",
       "text": [
        "\n",
        "1726 1726 348.92 927.587 184.019\n",
        "     blob1  blob2       dt        dist  d_spacetime\n",
        "168   1599   1726   10.362  115.835052   115.835052\n",
        "79    1506   1726   21.001  189.961310   189.961310\n",
        "39    1468   1726   -3.672  221.069350   221.069350\n",
        "50     777   1726  109.932  236.712644   236.712644\n",
        "95    2959   1726 -122.170  239.140663   239.140663\n",
        "\n",
        "[5 rows x 5 columns]"
       ]
      },
      {
       "output_type": "stream",
       "stream": "stdout",
       "text": [
        "\n",
        "44345 44345 885.959 1051.568 2359.123\n",
        "     blob1  blob2       dt        dist  d_spacetime\n",
        "308  44345  44345   -0.892    1.123404     1.123404\n",
        "63   44260  44345    4.996   70.451320    70.451320\n",
        "362  44537  44345  -10.236  109.249971   109.249971\n",
        "150  44759  44345  -17.872  126.967101   126.967101\n",
        "243  41605  44345  156.643  174.477637   174.477637\n",
        "\n",
        "[5 rows x 5 columns]"
       ]
      },
      {
       "output_type": "stream",
       "stream": "stdout",
       "text": [
        "\n",
        "3230 3230 612.398 867.192 326.986\n",
        "     blob1  blob2       dt        dist  d_spacetime\n",
        "314   2342   3230   89.729  108.622419   108.622419\n",
        "89    2193   3230   99.769  117.023526   117.023526\n",
        "208   2436   3230   79.928  158.852221   158.852221\n",
        "219   1996   3230  116.032  165.150873   165.150873\n",
        "132   1982   3230  121.095  200.021560   200.021560\n",
        "\n",
        "[5 rows x 5 columns]"
       ]
      },
      {
       "output_type": "stream",
       "stream": "stdout",
       "text": [
        "\n",
        "27589 27589 1076.014 1028.686 1489.492\n",
        "     blob1  blob2      dt        dist  d_spacetime\n",
        "309  27589  27589  -0.934    1.868770     1.868770\n",
        "358  27653  27589  -2.535   23.201325    23.201325\n",
        "248  26083  27589  51.982   63.886622    63.886622\n",
        "181  28090  27589 -23.133  100.247704   100.247704\n",
        "228  26360  27589  41.140  111.330019   111.330019\n",
        "\n",
        "[5 rows x 5 columns]"
       ]
      },
      {
       "output_type": "stream",
       "stream": "stdout",
       "text": [
        "\n",
        "566 566 576.837 372.283 52.719\n",
        "     blob1  blob2       dt        dist  d_spacetime\n",
        "214     61    566   44.365  105.252139   105.252139\n",
        "249    815    566  -22.838  164.400209   164.400209\n",
        "24    1400    566  -91.070  214.529716   214.529716\n",
        "134   1503    566 -108.938  252.078435   252.078435\n",
        "116   1476    566 -111.963  261.329080   261.329080\n",
        "\n",
        "[5 rows x 5 columns]"
       ]
      },
      {
       "output_type": "stream",
       "stream": "stdout",
       "text": [
        "\n",
        "40779 40779 1199.294 1368.76 2153.529\n",
        "     blob1  blob2      dt        dist  d_spacetime\n",
        "384  40748  40779   1.839    6.468153     6.468153\n",
        "310  40779  40779  -1.066    7.698745     7.698745\n",
        "256  41285  40779 -31.698  127.595155   127.595155\n",
        "142  40088  40779  17.433  136.969324   136.969324\n",
        "197  41950  40779 -67.292  166.059162   166.059162\n",
        "\n",
        "[5 rows x 5 columns]"
       ]
      },
      {
       "output_type": "stream",
       "stream": "stdout",
       "text": [
        "\n",
        "67070 67070 388.483 2026.253 3528.136\n",
        "     blob1  blob2       dt        dist  d_spacetime\n",
        "311  67070  67070   -0.867    2.120666     2.120666\n",
        "354  67038  67070    1.267   10.798661    10.798661\n",
        "291  67125  67070   -4.133   23.346776    23.346776\n",
        "130  67196  67070  -25.655   40.720520    40.720520\n",
        "235  64282  67070  121.742  124.754509   124.754509\n",
        "\n",
        "[5 rows x 5 columns]"
       ]
      },
      {
       "output_type": "stream",
       "stream": "stdout",
       "text": [
        "\n",
        "49742 49742 150.185 1275.906 2673.515\n",
        "     blob1  blob2       dt        dist  d_spacetime\n",
        "312  49742  49742   -0.851    1.081677     1.081677\n",
        "319  53205  49742 -196.013  199.108308   199.108308\n",
        "88   52873  49742 -180.942  206.093285   206.093285\n",
        "114  53570  49742 -215.151  229.272249   229.272249\n",
        "346  52207  49742 -141.248  268.124151   268.124151\n",
        "\n",
        "[5 rows x 5 columns]"
       ]
      },
      {
       "output_type": "stream",
       "stream": "stdout",
       "text": [
        "\n",
        "45396 45396 486.435 883.718 2416.728\n",
        "     blob1  blob2       dt        dist  d_spacetime\n",
        "313  45396  45396   -0.736    0.796485     0.796485\n",
        "18   45363  45396  -58.670  191.368595   191.368595\n",
        "329  48313  45396 -175.933  197.715258   197.715258\n",
        "45   41164  45396  208.370  220.147667   220.147667\n",
        "177  42194  45396  185.448  256.442266   256.442266\n",
        "\n",
        "[5 rows x 5 columns]"
       ]
      },
      {
       "output_type": "stream",
       "stream": "stdout",
       "text": [
        "\n",
        "2342 2342 604.984 928.997 236.59\n",
        "     blob1  blob2       dt        dist  d_spacetime\n",
        "314   2342   2342   -0.667    1.408194     1.408194\n",
        "208   2436   2342  -10.468   76.301470    76.301470\n",
        "89    2193   2342    9.373  115.893384   115.893384\n",
        "219   1996   2342   25.636  170.466256   170.466256\n",
        "50     777   2342  162.503  176.687602   176.687602\n",
        "\n",
        "[5 rows x 5 columns]"
       ]
      },
      {
       "output_type": "stream",
       "stream": "stdout",
       "text": [
        "\n",
        "43543 43543 1016.791 1358.894 2310.064\n",
        "     blob1  blob2       dt        dist  d_spacetime\n",
        "315  43543  43543   -0.666    1.727290     1.727290\n",
        "281  42511  43543   55.773   60.151712    60.151712\n",
        "197  41950  43543   89.243  106.294234   106.294234\n",
        "371  43321  43543   15.102  120.299338   120.299338\n",
        "256  41285  43543  124.837  151.311228   151.311228\n",
        "\n",
        "[5 rows x 5 columns]"
       ]
      },
      {
       "output_type": "stream",
       "stream": "stdout",
       "text": [
        "\n",
        "28642 28642 644.128 1055.491 1531.327\n",
        "     blob1  blob2      dt        dist  d_spacetime\n",
        "316  28650  28642  -0.649   10.949897    10.949897\n",
        "75   29441  28642 -42.531   58.817611    58.817611\n",
        "196  27858  28642  26.027   89.023114    89.023114\n",
        "199  29045  28642 -20.331  127.044170   127.044170\n",
        "67   30336  28642 -85.627  149.363430   149.363430\n",
        "\n",
        "[5 rows x 5 columns]"
       ]
      },
      {
       "output_type": "stream",
       "stream": "stdout",
       "text": [
        "\n",
        "20655 20655 1062.892 953.758 1195.754\n",
        "     blob1  blob2      dt       dist  d_spacetime\n",
        "305  20634  20655   0.197   0.745714     0.745714\n",
        "317  20655  20655  -0.634   1.138901     1.138901\n",
        "186  21461  20655 -28.967  38.575735    38.575735\n",
        "238  22060  20655 -53.656  54.967231    54.967231\n",
        "205  18729  20655  91.666  97.799836    97.799836\n",
        "\n",
        "[5 rows x 5 columns]"
       ]
      },
      {
       "output_type": "stream",
       "stream": "stdout",
       "text": [
        "\n",
        "60458 60458 968.381 711.88 3244.829\n",
        "     blob1  blob2       dt        dist  d_spacetime\n",
        "282  55880  60458  227.629  249.658538   249.658538\n",
        "349  59217  60458   60.678  257.488178   257.488178\n",
        "234  65362  60458 -205.627  259.059309   259.059309\n",
        "241  65448  60458 -209.494  261.901894   261.901894\n",
        "352  65536  60458 -210.372  265.428766   265.428766\n",
        "\n",
        "[5 rows x 5 columns]"
       ]
      },
      {
       "output_type": "stream",
       "stream": "stdout",
       "text": [
        "\n",
        "14886 14886 1235.61 1032.163 917.421\n",
        "     blob1  blob2      dt        dist  d_spacetime\n",
        "318  14886  14886  -0.600    0.920279     0.920279\n",
        "327  14934  14886  -3.205   24.551765    24.551765\n",
        "307  15609  14886 -35.838   95.073844    95.073844\n",
        "299  14292  14886  27.896  128.786966   128.786966\n",
        "87   14000  14886  42.335  141.005911   141.005911\n",
        "\n",
        "[5 rows x 5 columns]"
       ]
      },
      {
       "output_type": "stream",
       "stream": "stdout",
       "text": [
        "\n",
        "53205 53205 156.404 1240.377 2868.928\n",
        "     blob1  blob2       dt        dist  d_spacetime\n",
        "319  53205  53205   -0.600    1.250770     1.250770\n",
        "88   52873  53205   14.471   64.548279    64.548279\n",
        "114  53570  53205  -19.738  115.873397   115.873397\n",
        "312  49742  53205  194.562  197.836055   197.836055\n",
        "346  52207  53205   54.165  202.243836   202.243836\n",
        "\n",
        "[5 rows x 5 columns]"
       ]
      },
      {
       "output_type": "stream",
       "stream": "stdout",
       "text": [
        "\n",
        "43913 43913 635.797 1096.636 2332.227\n",
        "     blob1  blob2       dt        dist  d_spacetime\n",
        "320  43913  43913   -0.632    3.336936     3.336936\n",
        "152  42284  43913   92.870  154.377233   154.377233\n",
        "177  42194  43913  100.947  169.751847   169.751847\n",
        "362  44537  43913  -37.132  186.656308   186.656308\n",
        "150  44759  43913  -44.768  189.094138   189.094138\n",
        "\n",
        "[5 rows x 5 columns]"
       ]
      },
      {
       "output_type": "stream",
       "stream": "stdout",
       "text": [
        "\n",
        "19480 19480 468.709 647.413 1136.216\n",
        "     blob1  blob2       dt        dist  d_spacetime\n",
        "20   17686  19480  -21.900  125.629237   125.629237\n",
        "283  22086  19480 -115.077  163.381729   163.381729\n",
        "141  22357  19480 -140.373  180.131855   180.131855\n",
        "222  23010  19480 -160.910  260.501837   260.501837\n",
        "34   25840  19480 -289.172  308.127334   308.127334\n",
        "\n",
        "[5 rows x 5 columns]"
       ]
      },
      {
       "output_type": "stream",
       "stream": "stdout",
       "text": [
        "\n",
        "2592 2592 1236.268 1319.363 255.15\n",
        "     blob1  blob2      dt       dist  d_spacetime\n",
        "155   2734   2592 -12.171  24.573919    24.573919\n",
        "170   2423   2592   9.963  32.509883    32.509883\n",
        "322   2610   2592  -5.734  54.305048    54.305048\n",
        "366   2599   2592  -2.790  63.812854    63.812854\n",
        "294   2957   2592 -45.958  65.589449    65.589449\n",
        "\n",
        "[5 rows x 5 columns]"
       ]
      },
      {
       "output_type": "stream",
       "stream": "stdout",
       "text": [
        "\n",
        "66518 66518 1713.02 1731.069 3507.691\n",
        "     blob1  blob2       dt        dist  d_spacetime\n",
        "44   58870  66518  323.540  455.156559   455.156559\n",
        "367  67233  66518  -28.408  468.191383   468.191383\n",
        "372  67034  66518  -18.905  474.960168   474.960168\n",
        "68   65945  66518  -17.209  477.692698   477.692698\n",
        "5    58657  66518  358.394  500.568479   500.568479\n",
        "\n",
        "[5 rows x 5 columns]"
       ]
      },
      {
       "output_type": "stream",
       "stream": "stdout",
       "text": [
        "\n",
        "67323 67323 547.312 1020.579 3543.641\n",
        "     blob1  blob2       dt        dist  d_spacetime\n",
        "321  67323  67323   -0.510    0.684398     0.684398\n",
        "70   66484  67323    1.725    2.154137     2.154137\n",
        "261  65009  67323  106.040  107.788883   107.788883\n",
        "126  64475  67323  110.640  112.499384   112.499384\n",
        "69   66776  67323  -27.744  237.912237   237.912237\n",
        "\n",
        "[5 rows x 5 columns]"
       ]
      },
      {
       "output_type": "stream",
       "stream": "stdout",
       "text": [
        "\n",
        "2610 2610 1239.779 1264.858 260.381\n",
        "     blob1  blob2      dt       dist  d_spacetime\n",
        "322   2610   2610  -0.503   1.320518     1.320518\n",
        "366   2599   2610   2.441  23.074196    23.074196\n",
        "170   2423   2610  15.194  42.487693    42.487693\n",
        "294   2957   2610 -40.727  53.233450    53.233450\n",
        "334   2770   2610 -12.875  54.140848    54.140848\n",
        "\n",
        "[5 rows x 5 columns]"
       ]
      },
      {
       "output_type": "stream",
       "stream": "stdout",
       "text": [
        "\n",
        "2229 2229 966.153 290.473 228.047\n",
        "     blob1  blob2       dt        dist  d_spacetime\n",
        "24    1400   2229   84.258  227.455927   227.455927\n",
        "134   1503   2229   66.390  233.279529   233.279529\n",
        "119   3116   2229  -90.540  309.044767   309.044767\n",
        "212   1651   2229   50.190  312.501501   312.501501\n",
        "249    815   2229  152.490  384.251781   384.251781\n",
        "\n",
        "[5 rows x 5 columns]"
       ]
      },
      {
       "output_type": "stream",
       "stream": "stdout",
       "text": [
        "\n",
        "65685 65685 810.25 825.534 3463.395\n",
        "     blob1  blob2      dt       dist  d_spacetime\n",
        "323  65685  65685  -0.474   2.856779     2.856779\n",
        "374  65648  65685   2.460  21.445038    21.445038\n",
        "231  65575  65685   2.865  22.237719    22.237719\n",
        "245  64596  65685  43.797  59.747119    59.747119\n",
        "352  65536  65685   8.194  65.582670    65.582670\n",
        "\n",
        "[5 rows x 5 columns]"
       ]
      },
      {
       "output_type": "stream",
       "stream": "stdout",
       "text": [
        "\n",
        "63370 63370 858.435 951.44 3361.024\n",
        "     blob1  blob2       dt        dist  d_spacetime\n",
        "192  63639  63370  -20.711   35.114244    35.114244\n",
        "139  65840  63370 -119.978  137.965092   137.965092\n",
        "355  66054  63370 -120.774  140.588087   140.588087\n",
        "245  64596  63370  -58.574  159.601569   159.601569\n",
        "233  66161  63370 -129.878  161.388859   161.388859\n",
        "\n",
        "[5 rows x 5 columns]"
       ]
      },
      {
       "output_type": "stream",
       "stream": "stdout",
       "text": [
        "\n",
        "66258 66258 795.873 1022.952 3491.367\n",
        "     blob1  blob2      dt       dist  d_spacetime\n",
        "324  66258  66258  -0.469   0.594955     0.594955\n",
        "233  66161  66258   0.465   1.001266     1.001266\n",
        "259  66658  66258 -23.902  24.148030    24.148030\n",
        "382  66376  66258  -7.105  24.800920    24.800920\n",
        "258  66343  66258  -6.568  26.020578    26.020578\n",
        "\n",
        "[5 rows x 5 columns]"
       ]
      },
      {
       "output_type": "stream",
       "stream": "stdout",
       "text": [
        "\n",
        "61454 61454 1008.877 1736.287 3281.597\n",
        "     blob1  blob2     dt       dist  d_spacetime\n",
        "325  61454  61454 -0.668   2.329687     2.329687\n",
        "298  61399  61454  1.330  22.772094    22.772094\n",
        "274  61354  61454  3.468  45.835505    45.835505\n",
        "306  61565  61454 -4.870  49.944396    49.944396\n",
        "101  61635  61454 -7.471  70.756562    70.756562\n",
        "\n",
        "[5 rows x 5 columns]"
       ]
      },
      {
       "output_type": "stream",
       "stream": "stdout",
       "text": [
        "\n",
        "52808 52808 994.091 1406.727 2851.3\n",
        "     blob1  blob2       dt        dist  d_spacetime\n",
        "6    51891  52808   51.435   69.301599    69.301599\n",
        "286  54046  52808  -68.690   70.789604    70.789604\n",
        "3    47333  52808  230.040  249.172519   249.172519\n",
        "280  47617  52808  303.834  309.277363   309.277363\n",
        "143  49531  52808  176.741  310.011623   310.011623\n",
        "\n",
        "[5 rows x 5 columns]"
       ]
      },
      {
       "output_type": "stream",
       "stream": "stdout",
       "text": [
        "\n",
        "2359 2359 1218.04 1304.13 237.172\n",
        "     blob1  blob2      dt       dist  d_spacetime\n",
        "170   2423   2359  -8.015  11.449388    11.449388\n",
        "322   2610   2359 -23.712  49.875637    49.875637\n",
        "366   2599   2359 -20.768  50.269323    50.269323\n",
        "155   2734   2359 -30.149  54.132083    54.132083\n",
        "294   2957   2359 -63.936  83.264971    83.264971\n",
        "\n",
        "[5 rows x 5 columns]"
       ]
      },
      {
       "output_type": "stream",
       "stream": "stdout",
       "text": [
        "\n",
        "2072 2072 1269.043 1347.0 212.278\n",
        "     blob1  blob2      dt        dist  d_spacetime\n",
        "155   2734   2072 -55.043   59.288813    59.288813\n",
        "170   2423   2072 -32.909   80.662001    80.662001\n",
        "322   2610   2072 -48.606   99.697617    99.697617\n",
        "294   2957   2072 -88.830  108.498549   108.498549\n",
        "366   2599   2072 -45.662  112.124000   112.124000\n",
        "\n",
        "[5 rows x 5 columns]"
       ]
      },
      {
       "output_type": "stream",
       "stream": "stdout",
       "text": [
        "\n",
        "19082 19082 522.197 1274.5 1117.082\n",
        "     blob1  blob2       dt        dist  d_spacetime\n",
        "326  19082  19082   -0.409    4.589214     4.589214\n",
        "33   18283  19082   27.423  166.723696   166.723696\n",
        "380  16494  19082  116.162  206.643372   206.643372\n",
        "204  16263  19082  124.705  211.570898   211.570898\n",
        "388  19846  19082  -35.377  255.464716   255.464716\n",
        "\n",
        "[5 rows x 5 columns]"
       ]
      },
      {
       "output_type": "stream",
       "stream": "stdout",
       "text": [
        "\n",
        "57653 57653 284.741 311.162 3099.792\n",
        "     blob1  blob2       dt        dist  d_spacetime\n",
        "47   59961  57653 -127.541  228.611467   228.611467\n",
        "157  52073  57653  283.826  497.524180   497.524180\n",
        "206  57139  57653   23.700  499.125425   499.125425\n",
        "266  64164  57653 -298.409  558.114128   558.114128\n",
        "273  65050  57653 -338.339  572.976840   572.976840\n",
        "\n",
        "[5 rows x 5 columns]"
       ]
      },
      {
       "output_type": "stream",
       "stream": "stdout",
       "text": [
        "\n",
        "14934 14934 1254.762 1047.067 920.221\n",
        "     blob1  blob2      dt        dist  d_spacetime\n",
        "327  14934  14934  -0.405    0.433716     0.433716\n",
        "318  14886  14934   2.200   24.772835    24.772835\n",
        "307  15609  14934 -33.038   84.197134    84.197134\n",
        "299  14292  14934  30.696  150.600859   150.600859\n",
        "337  14383  14934  26.872  161.409402   161.409402\n",
        "\n",
        "[5 rows x 5 columns]"
       ]
      },
      {
       "output_type": "stream",
       "stream": "stdout",
       "text": [
        "\n",
        "320 320 1076.752 1366.242 30.12\n",
        "     blob1  blob2      dt        dist  d_spacetime\n",
        "125    334    320 -21.470  107.016664   107.016664\n",
        "145    872    320 -59.323  141.101959   141.101959\n",
        "239   1090    320 -78.402  163.676505   163.676505\n",
        "81     827    320 -70.934  166.855340   166.855340\n",
        "201    400    320 -14.297  177.162759   177.162759\n",
        "\n",
        "[5 rows x 5 columns]"
       ]
      },
      {
       "output_type": "stream",
       "stream": "stdout",
       "text": [
        "\n",
        "873 873 1424.111 1400.203 82.65\n",
        "     blob1  blob2       dt        dist  d_spacetime\n",
        "379    784    873   12.898  121.409426   121.409426\n",
        "237     34    873   75.770  197.867974   197.867974\n",
        "381    645    873   24.259  232.087674   232.087674\n",
        "145    872    873   -6.793  242.760492   242.760492\n",
        "155   2734    873 -184.671  261.756971   261.756971\n",
        "\n",
        "[5 rows x 5 columns]"
       ]
      },
      {
       "output_type": "stream",
       "stream": "stdout",
       "text": [
        "\n",
        "746 746 1146.337 917.75 65.152\n",
        "     blob1  blob2     dt       dist  d_spacetime\n",
        "328    746    746 -0.450   0.602340     0.602340\n",
        "147    768    746 -2.337  23.760577    23.760577\n",
        "184    662    746  2.964  44.608197    44.608197\n",
        "62     641    746  5.563  65.703632    65.703632\n",
        "330    611    746  8.229  83.057748    83.057748\n",
        "\n",
        "[5 rows x 5 columns]"
       ]
      },
      {
       "output_type": "stream",
       "stream": "stdout",
       "text": [
        "\n",
        "48313 48313 565.113 927.955 2592.26\n",
        "     blob1  blob2       dt        dist  d_spacetime\n",
        "329  48313  48313   -0.401    0.435432     0.435432\n",
        "42   47282  48313   49.101  149.602969   149.602969\n",
        "85   47845  48313   27.630  165.610309   165.610309\n",
        "22   47092  48313  -44.103  180.946068   180.946068\n",
        "18   45363  48313  116.862  195.992106   195.992106\n",
        "\n",
        "[5 rows x 5 columns]"
       ]
      },
      {
       "output_type": "stream",
       "stream": "stdout",
       "text": [
        "\n",
        "62476 62473 1354.658 526.681 3323.631\n",
        "     blob1  blob2       dt        dist  d_spacetime\n",
        "154  62786  62473  -12.635   57.960319    57.960319\n",
        "172  58149  62473  196.812  221.103810   221.103810\n",
        "218  56443  62473  279.902  369.535021   369.535021\n",
        "84   57321  62473  238.049  397.531362   397.531362\n",
        "303  57189  62473  244.166  407.785988   407.785988\n",
        "\n",
        "[5 rows x 5 columns]"
       ]
      },
      {
       "output_type": "stream",
       "stream": "stdout",
       "text": [
        "\n",
        "2077 2077 241.805 1311.198 212.487\n",
        "     blob1  blob2       dt        dist  d_spacetime\n",
        "57    2938   2077  -88.500  237.895827   237.895827\n",
        "79    1506   2077   49.469  273.417860   273.417860\n",
        "168   1599   2077   38.830  300.780902   300.780902\n",
        "250    391   2077  172.765  368.064878   368.064878\n",
        "290    464   2077  164.563  379.815029   379.815029\n",
        "\n",
        "[5 rows x 5 columns]"
       ]
      },
      {
       "output_type": "stream",
       "stream": "stdout",
       "text": [
        "\n",
        "66763 66763 964.676 701.835 3515.935\n",
        "     blob1  blob2      dt        dist  d_spacetime\n",
        "241  65448  66763  61.612  167.357191   167.357191\n",
        "234  65362  66763  65.479  167.872661   167.872661\n",
        "352  65536  66763  60.734  172.724712   172.724712\n",
        "231  65575  66763  55.405  192.650793   192.650793\n",
        "374  65648  66763  55.000  192.752461   192.752461\n",
        "\n",
        "[5 rows x 5 columns]"
       ]
      },
      {
       "output_type": "stream",
       "stream": "stdout",
       "text": [
        "\n",
        "636 636 1709.837 625.906 58.051\n",
        "     blob1  blob2       dt        dist  d_spacetime\n",
        "176   1355    636  -83.806  138.402671   138.402671\n",
        "86     917    636  -59.329  177.687822   177.687822\n",
        "252   2188    636 -168.634  213.828098   213.828098\n",
        "83     610    636   -0.672  233.452330   233.452330\n",
        "339    661    636   -2.000  235.735379   235.735379\n",
        "\n",
        "[5 rows x 5 columns]"
       ]
      },
      {
       "output_type": "stream",
       "stream": "stdout",
       "text": [
        "\n",
        "2370 2370 1232.612 1319.02 237.652\n",
        "     blob1  blob2      dt       dist  d_spacetime\n",
        "170   2423   2370  -7.535  29.343153    29.343153\n",
        "155   2734   2370 -29.669  38.246846    38.246846\n",
        "322   2610   2370 -23.232  58.737494    58.737494\n",
        "366   2599   2370 -20.288  65.668227    65.668227\n",
        "294   2957   2370 -63.456  80.225987    80.225987\n",
        "\n",
        "[5 rows x 5 columns]"
       ]
      },
      {
       "output_type": "stream",
       "stream": "stdout",
       "text": [
        "\n",
        "611 611 1228.193 941.211 56.589\n",
        "     blob1  blob2      dt        dist  d_spacetime\n",
        "330    611    611  -0.334    2.860649     2.860649\n",
        "62     641    611  -3.000   20.802520    20.802520\n",
        "184    662    611  -5.599   42.922531    42.922531\n",
        "328    746    611  -9.013   85.469741    85.469741\n",
        "147    768    611 -10.900  108.716254   108.716254\n",
        "\n",
        "[5 rows x 5 columns]"
       ]
      },
      {
       "output_type": "stream",
       "stream": "stdout",
       "text": [
        "\n",
        "545 545 1540.482 1681.679 51.324\n",
        "     blob1  blob2      dt        dist  d_spacetime\n",
        "331    556    545  -0.397    4.110391     4.110391\n",
        "381    645    545  -7.067   77.394947    77.394947\n",
        "97     270    545  19.542  151.129557   151.129557\n",
        "379    784    545 -18.428  195.629101   195.629101\n",
        "264    829    545 -25.755  261.912758   261.912758\n",
        "\n",
        "[5 rows x 5 columns]"
       ]
      },
      {
       "output_type": "stream",
       "stream": "stdout",
       "text": [
        "\n",
        "3 3 927.827 1788.156 0.009\n",
        "     blob1  blob2       dt        dist  d_spacetime\n",
        "332      3      3   -0.473    2.534069     2.534069\n",
        "260   1997      3 -209.209  279.823206   279.823206\n",
        "188    950      3  -99.513  281.465899   281.465899\n",
        "93    2067      3 -229.772  285.093099   285.093099\n",
        "375    928      3  -89.240  310.045565   310.045565\n",
        "\n",
        "[5 rows x 5 columns]"
       ]
      },
      {
       "output_type": "stream",
       "stream": "stdout",
       "text": [
        "\n",
        "35767 35767 1344.861 1768.826 1891.529\n",
        "     blob1  blob2      dt        dist  d_spacetime\n",
        "333  35767  35767  -0.329    0.808647     0.808647\n",
        "272  35709  35767   0.871    4.722495     4.722495\n",
        "340  35617  35767   6.746   46.527968    46.527968\n",
        "167  36475  35767 -37.300  171.407751   171.407751\n",
        "80   35344  35767  20.039  180.418550   180.418550\n",
        "\n",
        "[5 rows x 5 columns]"
       ]
      },
      {
       "output_type": "stream",
       "stream": "stdout",
       "text": [
        "\n",
        "2770 2770 1277.0 1227.959 272.85\n",
        "     blob1  blob2      dt       dist  d_spacetime\n",
        "334   2770   2770  -0.406   0.570191     0.570191\n",
        "322   2610   2770  11.966  54.896614    54.896614\n",
        "294   2957   2770 -28.258  64.076824    64.076824\n",
        "366   2599   2770  14.910  68.216748    68.216748\n",
        "182   3361   2770 -67.966  85.592500    85.592500\n",
        "\n",
        "[5 rows x 5 columns]"
       ]
      },
      {
       "output_type": "stream",
       "stream": "stdout",
       "text": [
        "\n",
        "17442 17442 918.907 780.653 1046.059\n",
        "     blob1  blob2      dt        dist  d_spacetime\n",
        "335  17442  17442  -0.399    0.552110     0.552110\n",
        "217  17342  17442   3.201   47.481469    47.481469\n",
        "17   18218  17442 -38.728  132.645478   132.645478\n",
        "268  18149  17442 -34.424  181.425479   181.425479\n",
        "205  18729  17442 -58.029  200.387963   200.387963\n",
        "\n",
        "[5 rows x 5 columns]"
       ]
      },
      {
       "output_type": "stream",
       "stream": "stdout",
       "text": [
        "\n",
        "60832 60832 822.731 1562.618 3257.268\n",
        "     blob1  blob2      dt        dist  d_spacetime\n",
        "336  60832  60832  -0.325    0.673152     0.673152\n",
        "274  61354  60832 -20.861  210.558289   210.558289\n",
        "298  61399  60832 -22.999  233.871911   233.871911\n",
        "325  61454  60832 -24.997  258.018940   258.018940\n",
        "163  62942  60832 -88.767  259.905230   259.905230\n",
        "\n",
        "[5 rows x 5 columns]"
       ]
      },
      {
       "output_type": "stream",
       "stream": "stdout",
       "text": [
        "\n",
        "14383 14383 1201.39 896.922 893.025\n",
        "     blob1  blob2      dt        dist  d_spacetime\n",
        "337  14383  14383  -0.324    0.816266     0.816266\n",
        "299  14292  14383   3.500   25.164959    25.164959\n",
        "87   14000  14383  17.939  139.856138   139.856138\n",
        "318  14886  14383 -24.996  141.761147   141.761147\n",
        "327  14934  14383 -27.601  161.855181   161.855181\n",
        "\n",
        "[5 rows x 5 columns]"
       ]
      },
      {
       "output_type": "stream",
       "stream": "stdout",
       "text": [
        "\n",
        "11242 11242 985.921 1571.932 724.707\n",
        "     blob1  blob2       dt        dist  d_spacetime\n",
        "118  14449  11242 -176.976  192.385553   192.385553\n",
        "107   8407  11242  113.820  214.333980   214.333980\n",
        "15    6924  11242  189.121  374.161332   374.161332\n",
        "200   3588  11242  351.989  429.346863   429.346863\n",
        "21    4827  11242  277.126  446.929439   446.929439\n",
        "\n",
        "[5 rows x 5 columns]"
       ]
      },
      {
       "output_type": "stream",
       "stream": "stdout",
       "text": [
        "\n",
        "11243 11243 998.732 1554.911 724.707\n",
        "     blob1  blob2       dt        dist  d_spacetime\n",
        "107   8407  11243  113.820  199.858666   199.858666\n",
        "118  14449  11243 -176.976  199.997277   199.997277\n",
        "15    6924  11243  189.121  357.806240   357.806240\n",
        "200   3588  11243  351.989  418.680688   418.680688\n",
        "373  10566  11243   30.817  428.024158   428.024158\n",
        "\n",
        "[5 rows x 5 columns]"
       ]
      },
      {
       "output_type": "stream",
       "stream": "stdout",
       "text": [
        "\n",
        "53370 53370 948.879 989.95 2877.125\n",
        "     blob1  blob2       dt        dist  d_spacetime\n",
        "348  54582  53370  -73.704  123.987596   123.987596\n",
        "74   54522  53370  -71.035  133.811045   133.811045\n",
        "151  54603  53370  -88.041  139.328030   139.328030\n",
        "282  55880  53370 -140.075  225.202087   225.202087\n",
        "275  49865  53370  194.554  292.975682   292.975682\n",
        "\n",
        "[5 rows x 5 columns]"
       ]
      },
      {
       "output_type": "stream",
       "stream": "stdout",
       "text": [
        "\n",
        "9989 9989 1637.894 1657.511 666.45\n",
        "     blob1  blob2       dt        dist  d_spacetime\n",
        "338   9989   9989   -0.269    3.727500     3.727500\n",
        "345  10018   9989   -1.972    5.964652     5.964652\n",
        "292  10697   9989  -36.268  277.802834   277.802834\n",
        "288  10831   9989  -41.871  319.846988   319.846988\n",
        "15    6924   9989  130.864  454.307149   454.307149\n",
        "\n",
        "[5 rows x 5 columns]"
       ]
      },
      {
       "output_type": "stream",
       "stream": "stdout",
       "text": [
        "\n",
        "6536 6536 1242.452 196.434 518.25\n",
        "     blob1  blob2       dt        dist  d_spacetime\n",
        "353   6406   6536    5.400   35.489153    35.489153\n",
        "368   6149   6536   16.532  146.642427   146.642427\n",
        "128   2919   6536  222.765  247.800748   247.800748\n",
        "119   3116   6536  199.663  307.438776   307.438776\n",
        "109   2314   6536  258.060  395.485367   395.485367\n",
        "\n",
        "[5 rows x 5 columns]"
       ]
      },
      {
       "output_type": "stream",
       "stream": "stdout",
       "text": [
        "\n",
        "56077 56077 765.536 243.969 3025.198\n",
        "     blob1  blob2       dt        dist  d_spacetime\n",
        "206  57139  56077  -50.894  162.377223   162.377223\n",
        "266  64164  56077 -373.003  376.879963   376.879963\n",
        "110  65193  56077 -422.536  424.053744   424.053744\n",
        "246  65458  56077 -426.403  427.060787   427.060787\n",
        "240  65492  56077 -430.869  431.435797   431.435797\n",
        "\n",
        "[5 rows x 5 columns]"
       ]
      },
      {
       "output_type": "stream",
       "stream": "stdout",
       "text": [
        "\n",
        "53290 53290 1000.729 1416.199 2874.062\n",
        "     blob1  blob2       dt        dist  d_spacetime\n",
        "286  54046  53290  -45.928   48.085227    48.085227\n",
        "6    51891  53290   74.197   93.773797    93.773797\n",
        "3    47333  53290  252.802  274.519149   274.519149\n",
        "82   54391  53290  -66.835  309.590450   309.590450\n",
        "143  49531  53290  199.503  316.551941   316.551941\n",
        "\n",
        "[5 rows x 5 columns]"
       ]
      },
      {
       "output_type": "stream",
       "stream": "stdout",
       "text": [
        "\n",
        "17181 17181 1634.978 1555.156 1034.092\n",
        "     blob1  blob2       dt        dist  d_spacetime\n",
        "171  19798  17181 -120.496  334.512684   334.512684\n",
        "71   21001  17181 -184.435  355.304966   355.304966\n",
        "169  19898  17181 -130.717  359.877075   359.877075\n",
        "338   9989  17181  367.373  380.397872   380.397872\n",
        "345  10018  17181  365.670  381.285170   381.285170\n",
        "\n",
        "[5 rows x 5 columns]"
       ]
      },
      {
       "output_type": "stream",
       "stream": "stdout",
       "text": [
        "\n",
        "661 661 1538.803 787.831 59.789\n",
        "     blob1  blob2      dt        dist  d_spacetime\n",
        "339    661    661  -0.262    0.360419     0.360419\n",
        "83     610    661   1.066   22.104407    22.104407\n",
        "86     917    661 -57.591  149.571601   149.571601\n",
        "176   1355    661 -82.068  152.650115   152.650115\n",
        "61    1303    661 -83.327  206.777080   206.777080\n",
        "\n",
        "[5 rows x 5 columns]"
       ]
      },
      {
       "output_type": "stream",
       "stream": "stdout",
       "text": [
        "\n",
        "35617 35617 1371.763 1730.737 1884.522\n",
        "     blob1  blob2      dt        dist  d_spacetime\n",
        "340  35617  35617  -0.261    0.802605     0.802605\n",
        "272  35709  35617  -6.136   43.926026    43.926026\n",
        "333  35767  35617  -7.336   47.588830    47.588830\n",
        "80   35344  35617  13.032  136.815929   136.815929\n",
        "167  36475  35617 -44.307  186.512404   186.512404\n",
        "\n",
        "[5 rows x 5 columns]"
       ]
      },
      {
       "output_type": "stream",
       "stream": "stdout",
       "text": [
        "\n",
        "53364 53364 933.185 975.722 2876.799\n",
        "     blob1  blob2       dt        dist  d_spacetime\n",
        "348  54582  53364  -74.030  121.650514   121.650514\n",
        "74   54522  53364  -71.361  130.008089   130.008089\n",
        "151  54603  53364  -88.367  136.297929   136.297929\n",
        "282  55880  53364 -140.401  215.650692   215.650692\n",
        "275  49865  53364  194.228  282.266553   282.266553\n",
        "\n",
        "[5 rows x 5 columns]"
       ]
      },
      {
       "output_type": "stream",
       "stream": "stdout",
       "text": [
        "\n",
        "25250 25250 1023.657 977.994 1398.594\n",
        "     blob1  blob2      dt       dist  d_spacetime\n",
        "341  25250  25250  -0.260   1.383373     1.383373\n",
        "297  24888  25250  11.450  12.067505    12.067505\n",
        "136  24969  25250   8.905  25.666869    25.666869\n",
        "210  24323  25250  33.102  43.049240    43.049240\n",
        "248  26083  25250 -38.916  85.766147    85.766147\n",
        "\n",
        "[5 rows x 5 columns]"
       ]
      },
      {
       "output_type": "stream",
       "stream": "stdout",
       "text": [
        "\n",
        "48820 48820 1569.684 1606.128 2617.667\n",
        "     blob1  blob2       dt        dist  d_spacetime\n",
        "342  48820  48820   -0.248    1.307520     1.307520\n",
        "207  47210  48820   86.839  171.233858   171.233858\n",
        "35   51043  48820 -132.028  206.648750   206.648750\n",
        "98   51097  48820 -136.731  220.523384   220.523384\n",
        "189  51600  48820 -167.663  246.721315   246.721315\n",
        "\n",
        "[5 rows x 5 columns]"
       ]
      },
      {
       "output_type": "stream",
       "stream": "stdout",
       "text": [
        "\n",
        "55595 55595 1701.029 1133.393 3003.661\n",
        "     blob1  blob2       dt        dist  d_spacetime\n",
        "5    58657  55595 -145.636  322.645458   322.645458\n",
        "44   58870  55595 -180.490  366.562908   366.562908\n",
        "303  57189  55595  -75.804  402.936366   402.936366\n",
        "189  51600  55595  218.331  450.556999   450.556999\n",
        "84   57321  55595  -81.921  454.749808   454.749808\n",
        "\n",
        "[5 rows x 5 columns]"
       ]
      },
      {
       "output_type": "stream",
       "stream": "stdout",
       "text": [
        "\n",
        "53542 53542 1004.299 1396.698 2886.982\n",
        "     blob1  blob2       dt        dist  d_spacetime\n",
        "286  54046  53542  -33.008   35.131968    35.131968\n",
        "6    51891  53542   87.117  101.171791   101.171791\n",
        "3    47333  53542  265.722  280.876699   280.876699\n",
        "82   54391  53542  -53.915  295.126365   295.126365\n",
        "143  49531  53542  212.423  340.040391   340.040391\n",
        "\n",
        "[5 rows x 5 columns]"
       ]
      },
      {
       "output_type": "stream",
       "stream": "stdout",
       "text": [
        "\n",
        "54028 54028 1029.053 1419.333 2918.246\n",
        "     blob1  blob2       dt        dist  d_spacetime\n",
        "286  54046  54028   -1.744   22.024285    22.024285\n",
        "6    51891  54028  118.381  144.609200   144.609200\n",
        "82   54391  54028  -22.651  280.393035   280.393035\n",
        "3    47333  54028  296.986  321.573332   321.573332\n",
        "143  49531  54028  243.687  346.929026   346.929026\n",
        "\n",
        "[5 rows x 5 columns]"
       ]
      },
      {
       "output_type": "stream",
       "stream": "stdout",
       "text": [
        "\n",
        "10153 10153 1217.594 417.229 674.245\n",
        "     blob1  blob2       dt        dist  d_spacetime\n",
        "368   6149  10153  172.527  192.040757   192.040757\n",
        "353   6406  10153  161.395  247.107378   247.107378\n",
        "119   3116  10153  355.658  355.994910   355.994910\n",
        "265   5084  10153  221.127  368.540509   368.540509\n",
        "128   2919  10153  378.760  458.173960   458.173960\n",
        "\n",
        "[5 rows x 5 columns]"
       ]
      },
      {
       "output_type": "stream",
       "stream": "stdout",
       "text": [
        "\n",
        "65403 65403 670.603 726.308 3449.19\n",
        "     blob1  blob2      dt        dist  d_spacetime\n",
        "343  65403  65403  -0.208    0.580663     0.580663\n",
        "138  65350  65403   2.260   24.606461    24.606461\n",
        "135  65739  65403 -21.508   83.781158    83.781158\n",
        "180  64706  65403  20.259  120.953568   120.953568\n",
        "234  65362  65403  -1.266  140.582295   140.582295\n",
        "\n",
        "[5 rows x 5 columns]"
       ]
      },
      {
       "output_type": "stream",
       "stream": "stdout",
       "text": [
        "\n",
        "13708 13708 1035.338 1090.571 856.983\n",
        "     blob1  blob2       dt        dist  d_spacetime\n",
        "344  13708  13708   -0.205    1.890711     1.890711\n",
        "87   14000  13708  -18.103  118.206736   118.206736\n",
        "144  16302  13708 -135.010  152.112999   152.112999\n",
        "373  10566  13708  163.093  173.265169   173.265169\n",
        "27   12411  13708   53.795  209.668031   209.668031\n",
        "\n",
        "[5 rows x 5 columns]"
       ]
      },
      {
       "output_type": "stream",
       "stream": "stdout",
       "text": [
        "\n",
        "10018 10018 1638.96 1662.844 668.218\n",
        "     blob1  blob2       dt        dist  d_spacetime\n",
        "345  10018  10018   -0.204    0.473109     0.473109\n",
        "338   9989  10018    1.499    9.268525     9.268525\n",
        "292  10697  10018  -34.500  272.473843   272.473843\n",
        "288  10831  10018  -40.103  314.589203   314.589203\n",
        "15    6924  10018  132.632  458.454121   458.454121\n",
        "\n",
        "[5 rows x 5 columns]"
       ]
      },
      {
       "output_type": "stream",
       "stream": "stdout",
       "text": [
        "\n",
        "49961 49961 273.375 1342.765 2687.398\n",
        "     blob1  blob2       dt        dist  d_spacetime\n",
        "312  49742  49961   13.032  141.432922   141.432922\n",
        "178  50212  49961  -19.730  160.928617   160.928617\n",
        "124  50320  49961  -21.725  181.944320   181.944320\n",
        "114  53570  49961 -201.268  231.220958   231.220958\n",
        "319  53205  49961 -182.130  239.086845   239.086845\n",
        "\n",
        "[5 rows x 5 columns]"
       ]
      },
      {
       "output_type": "stream",
       "stream": "stdout",
       "text": [
        "\n",
        "53654 53654 548.898 1028.674 2892.698\n",
        "     blob1  blob2       dt        dist  d_spacetime\n",
        "94   52790  53654   40.934  116.685421   116.685421\n",
        "19   54924  53654 -169.894  171.271061   171.271061\n",
        "22   47092  53654  256.335  269.934366   269.934366\n",
        "275  49865  53654  210.127  278.710786   278.710786\n",
        "329  48313  53654  300.037  316.861814   316.861814\n",
        "\n",
        "[5 rows x 5 columns]"
       ]
      },
      {
       "output_type": "stream",
       "stream": "stdout",
       "text": [
        "\n",
        "52207 52207 105.065 1056.571 2814.564\n",
        "     blob1  blob2       dt        dist  d_spacetime\n",
        "346  52207  52207   -0.199    4.043222     4.043222\n",
        "88   52873  52207  -39.893  137.475771   137.475771\n",
        "319  53205  52207  -54.964  199.548448   199.548448\n",
        "312  49742  52207  140.198  263.818347   263.818347\n",
        "114  53570  52207  -74.102  311.906582   311.906582\n",
        "\n",
        "[5 rows x 5 columns]"
       ]
      },
      {
       "output_type": "stream",
       "stream": "stdout",
       "text": [
        "\n",
        "787 787 624.662 934.184 70.286\n",
        "     blob1  blob2       dt        dist  d_spacetime\n",
        "50     777    787   -3.801   82.483405    82.483405\n",
        "72     554    787   16.896   92.048805    92.048805\n",
        "314   2342    787 -166.971  168.146460   168.146460\n",
        "73     532    787   18.099  176.837541   176.837541\n",
        "111    425    787   26.731  182.406973   182.406973\n",
        "\n",
        "[5 rows x 5 columns]"
       ]
      },
      {
       "output_type": "stream",
       "stream": "stdout",
       "text": [
        "\n",
        "38428 38428 1585.246 1068.826 2037.061\n",
        "     blob1  blob2       dt        dist  d_spacetime\n",
        "347  38428  38428   -0.268    0.584305     0.584305\n",
        "364  38375  38428    3.871   49.834523    49.834523\n",
        "183  38931  38428  -34.965  338.832017   338.832017\n",
        "14   38796  38428  -40.467  372.081436   372.081436\n",
        "267  42451  38428 -213.235  372.358810   372.358810\n",
        "\n",
        "[5 rows x 5 columns]"
       ]
      },
      {
       "output_type": "stream",
       "stream": "stdout",
       "text": [
        "\n",
        "54582 54582 995.141 901.981 2950.499\n",
        "     blob1  blob2      dt        dist  d_spacetime\n",
        "348  54582  54582  -0.330    0.606043     0.606043\n",
        "74   54522  54582   2.339   15.783587    15.783587\n",
        "151  54603  54582 -14.667   17.634899    17.634899\n",
        "282  55880  54582 -66.701  116.886548   116.886548\n",
        "216  56232  54582 -85.029  233.617504   233.617504\n",
        "\n",
        "[5 rows x 5 columns]"
       ]
      },
      {
       "output_type": "stream",
       "stream": "stdout",
       "text": [
        "\n",
        "55594 55594 1702.225 1145.073 3003.661\n",
        "     blob1  blob2       dt        dist  d_spacetime\n",
        "5    58657  55594 -145.636  313.404113   313.404113\n",
        "44   58870  55594 -180.490  357.410458   357.410458\n",
        "303  57189  55594  -75.804  414.284916   414.284916\n",
        "189  51600  55594  218.331  442.944804   442.944804\n",
        "82   54391  55594   62.764  458.651126   458.651126\n",
        "\n",
        "[5 rows x 5 columns]"
       ]
      },
      {
       "output_type": "stream",
       "stream": "stdout",
       "text": [
        "\n",
        "63373 63373 980.817 691.114 3361.166\n",
        "     blob1  blob2      dt        dist  d_spacetime\n",
        "234  65362  63373 -89.290  193.766659   193.766659\n",
        "241  65448  63373 -93.157  197.326622   197.326622\n",
        "352  65536  63373 -94.035  203.681080   203.681080\n",
        "231  65575  63373 -99.364  226.812405   226.812405\n",
        "374  65648  63373 -99.769  227.194282   227.194282\n",
        "\n",
        "[5 rows x 5 columns]"
       ]
      },
      {
       "output_type": "stream",
       "stream": "stdout",
       "text": [
        "\n",
        "59217 59217 1111.057 917.067 3183.967\n",
        "     blob1  blob2       dt        dist  d_spacetime\n",
        "349  59217  59217   -0.184    0.369486     0.369486\n",
        "301  59463  59217  -14.897  142.165162   142.165162\n",
        "278  59493  59217  -16.800  164.982076   164.982076\n",
        "173  59532  59217  -18.862  188.929993   188.929993\n",
        "216  56232  59217  148.439  224.138768   224.138768\n",
        "\n",
        "[5 rows x 5 columns]"
       ]
      },
      {
       "output_type": "stream",
       "stream": "stdout",
       "text": [
        "\n",
        "22988 22988 820.713 2342.713 1291.81\n",
        "     blob1  blob2       dt        dist  d_spacetime\n",
        "49   12196  22988  514.819  549.461772   549.461772\n",
        "118  14449  22988  390.127  814.528655   814.528655\n",
        "350  39732  22988 -811.319  826.823977   826.823977\n",
        "115  11432  22988  548.592  846.458263   846.458263\n",
        "9     3193  22988  793.529  852.194090   852.194090\n",
        "\n",
        "[5 rows x 5 columns]"
       ]
      },
      {
       "output_type": "stream",
       "stream": "stdout",
       "text": [
        "\n",
        "55925 55925 708.156 224.502 3017.034\n",
        "     blob1  blob2       dt        dist  d_spacetime\n",
        "206  57139  55925  -59.058  195.176069   195.176069\n",
        "266  64164  55925 -381.167  383.763569   383.763569\n",
        "110  65193  55925 -430.700  431.795629   431.795629\n",
        "246  65458  55925 -434.567  436.130992   436.130992\n",
        "240  65492  55925 -439.033  440.725899   440.725899\n",
        "\n",
        "[5 rows x 5 columns]"
       ]
      },
      {
       "output_type": "stream",
       "stream": "stdout",
       "text": [
        "\n",
        "54027 54027 1011.431 1406.62 2918.246\n",
        "     blob1  blob2       dt        dist  d_spacetime\n",
        "286  54046  54027   -1.744    1.760233     1.760233\n",
        "6    51891  54027  118.381  133.472833   133.472833\n",
        "82   54391  54027  -22.651  289.200719   289.200719\n",
        "3    47333  54027  296.986  314.394864   314.394864\n",
        "143  49531  54027  243.687  353.794471   353.794471\n",
        "\n",
        "[5 rows x 5 columns]"
       ]
      },
      {
       "output_type": "stream",
       "stream": "stdout",
       "text": [
        "\n",
        "39732 39732 705.494 2231.254 2102.979\n",
        "     blob1  blob2       dt        dist  d_spacetime\n",
        "350  39732  39732   -0.150    1.203158     1.203158\n",
        "55   44867  39732 -286.144  672.805015   672.805015\n",
        "333  35767  39732  211.121  816.275844   816.275844\n",
        "272  35709  39732  212.321  821.150933   821.150933\n",
        "122  31968  39732  412.485  831.958677   831.958677\n",
        "\n",
        "[5 rows x 5 columns]"
       ]
      },
      {
       "output_type": "stream",
       "stream": "stdout",
       "text": [
        "\n",
        "3592 3592 1547.197 361.271 368.041\n",
        "     blob1  blob2       dt        dist  d_spacetime\n",
        "109   2314   3592  107.851  121.635766   121.635766\n",
        "58    2057   3592  152.085  198.596135   198.596135\n",
        "128   2919   3592   72.556  266.216802   266.216802\n",
        "252   2188   3592  141.356  275.417320   275.417320\n",
        "368   6149   3592 -133.677  321.974414   321.974414\n",
        "\n",
        "[5 rows x 5 columns]"
       ]
      },
      {
       "output_type": "stream",
       "stream": "stdout",
       "text": [
        "\n",
        "44017 44017 887.182 239.985 2339.281\n",
        "     blob1  blob2       dt        dist  d_spacetime\n",
        "1    47027  44017 -182.684  448.812496   448.812496\n",
        "26   43181  44017   47.192  460.484982   460.484982\n",
        "160  47780  44017 -214.169  585.720849   585.720849\n",
        "166  38414  44017  293.888  646.126938   646.126938\n",
        "105  52211  44017 -478.741  652.743476   652.743476\n",
        "\n",
        "[5 rows x 5 columns]"
       ]
      },
      {
       "output_type": "stream",
       "stream": "stdout",
       "text": [
        "\n",
        "1808 1808 362.052 879.387 189.881\n",
        "     blob1  blob2       dt        dist  d_spacetime\n",
        "168   1599   1808   16.224  162.814261   162.814261\n",
        "39    1468   1808    2.190  171.163419   171.163419\n",
        "95    2959   1808 -116.308  194.557215   194.557215\n",
        "89    2193   1808  -37.336  227.813089   227.813089\n",
        "79    1506   1808   26.863  232.870946   232.870946\n",
        "\n",
        "[5 rows x 5 columns]"
       ]
      },
      {
       "output_type": "stream",
       "stream": "stdout",
       "text": [
        "\n",
        "1732 1732 349.316 927.266 185.049\n",
        "     blob1  blob2       dt        dist  d_spacetime\n",
        "168   1599   1732   11.392  116.179884   116.179884\n",
        "79    1506   1732   22.031  190.241912   190.241912\n",
        "39    1468   1732   -2.642  220.627867   220.627867\n",
        "50     777   1732  110.962  236.916452   236.916452\n",
        "95    2959   1732 -121.140  238.235580   238.235580\n",
        "\n",
        "[5 rows x 5 columns]"
       ]
      },
      {
       "output_type": "stream",
       "stream": "stdout",
       "text": [
        "\n",
        "62984 62984 721.32 355.821 3344.698\n",
        "     blob1  blob2       dt        dist  d_spacetime\n",
        "273  65050  62984  -93.433   97.028778    97.028778\n",
        "246  65458  62984 -106.903  162.023993   162.023993\n",
        "240  65492  62984 -111.369  163.336391   163.336391\n",
        "300  65574  62984 -113.101  164.329104   164.329104\n",
        "262  65668  62984 -119.700  167.560916   167.560916\n",
        "\n",
        "[5 rows x 5 columns]"
       ]
      },
      {
       "output_type": "stream",
       "stream": "stdout",
       "text": [
        "\n",
        "888 888 1402.777 1381.968 85.318\n",
        "     blob1  blob2       dt        dist  d_spacetime\n",
        "379    784    888   15.566  149.393545   149.393545\n",
        "237     34    888   78.438  203.186941   203.186941\n",
        "145    872    888   -4.125  225.291140   225.291140\n",
        "155   2734    888 -182.003  241.966841   241.966841\n",
        "381    645    888   26.927  258.428184   258.428184\n",
        "\n",
        "[5 rows x 5 columns]"
       ]
      },
      {
       "output_type": "stream",
       "stream": "stdout",
       "text": [
        "\n",
        "2796 2796 1471.354 284.746 274.181\n",
        "     blob1  blob2       dt        dist  d_spacetime\n",
        "109   2314   2796   13.991   56.727620    56.727620\n",
        "128   2919   2796  -21.304  150.689800   150.689800\n",
        "58    2057   2796   58.225  235.705402   235.705402\n",
        "119   3116   2796  -44.406  287.738394   287.738394\n",
        "368   6149   2796 -227.537  319.122057   319.122057\n",
        "\n",
        "[5 rows x 5 columns]"
       ]
      },
      {
       "output_type": "stream",
       "stream": "stdout",
       "text": [
        "\n",
        "25034 25034 898.852 252.066 1390.69\n",
        "     blob1  blob2       dt        dist  d_spacetime\n",
        "215  29395  25034 -177.302  520.649979   520.649979\n",
        "295  29146  25034 -165.629  568.919011   568.919011\n",
        "60   26398  25034  -58.071  577.301503   577.301503\n",
        "193  30674  25034 -240.136  617.745936   617.745936\n",
        "153  27387  25034  -94.237  620.603912   620.603912\n",
        "\n",
        "[5 rows x 5 columns]"
       ]
      },
      {
       "output_type": "stream",
       "stream": "stdout",
       "text": [
        "\n",
        "19669 19669 746.832 1004.268 1143.925\n",
        "     blob1  blob2      dt       dist  d_spacetime\n",
        "351  19669  19669  -0.135   0.432936     0.432936\n",
        "242  20570  19669 -50.735  58.896490    58.896490\n",
        "179  20405  19669 -47.332  69.274196    69.274196\n",
        "187  18161  19669  58.065  73.006390    73.006390\n",
        "185  18324  19669  50.132  81.127010    81.127010\n",
        "\n",
        "[5 rows x 5 columns]"
       ]
      },
      {
       "output_type": "stream",
       "stream": "stdout",
       "text": [
        "\n",
        "65536 65536 813.936 760.303 3454.994\n",
        "     blob1  blob2     dt       dist  d_spacetime\n",
        "352  65536  65536 -0.207   0.353973     0.353973\n",
        "241  65448  65536  0.671  21.538436    21.538436\n",
        "234  65362  65536  4.538  42.963279    42.963279\n",
        "231  65575  65536 -5.536  43.657248    43.657248\n",
        "374  65648  65536 -5.941  44.440428    44.440428\n",
        "\n",
        "[5 rows x 5 columns]"
       ]
      },
      {
       "output_type": "stream",
       "stream": "stdout",
       "text": [
        "\n",
        "3460 3460 719.376 230.192 349.989\n",
        "     blob1  blob2       dt        dist  d_spacetime\n",
        "24    1400   3460  206.200  255.319085   255.319085\n",
        "134   1503   3460  188.332  288.330082   288.330082\n",
        "212   1651   3460  172.132  361.495118   361.495118\n",
        "214     61   3460  341.635  368.320784   368.320784\n",
        "249    815   3460  274.432  385.147838   385.147838\n",
        "\n",
        "[5 rows x 5 columns]"
       ]
      },
      {
       "output_type": "stream",
       "stream": "stdout",
       "text": [
        "\n",
        "23328 23328 779.52 1034.333 1311.46\n",
        "     blob1  blob2       dt        dist  d_spacetime\n",
        "285  23120  23328   10.073   10.196466    10.196466\n",
        "289  23045  23328   14.400   14.429673    14.429673\n",
        "242  20570  23328  116.800  117.700627   117.700627\n",
        "179  20405  23328  120.203  121.901043   121.901043\n",
        "7    21218  23328   93.939  126.864039   126.864039\n",
        "\n",
        "[5 rows x 5 columns]"
       ]
      },
      {
       "output_type": "stream",
       "stream": "stdout",
       "text": [
        "\n",
        "612 612 1166.59 1231.883 56.653\n",
        "     blob1  blob2      dt        dist  d_spacetime\n",
        "81     827    612 -44.401   69.122396    69.122396\n",
        "201    400    612  12.236   81.720347    81.720347\n",
        "30    1439    612 -95.400   96.631313    96.631313\n",
        "239   1090    612 -51.869  104.651283   104.651283\n",
        "175    359    612  23.662  124.144340   124.144340\n",
        "\n",
        "[5 rows x 5 columns]"
       ]
      },
      {
       "output_type": "stream",
       "stream": "stdout",
       "text": [
        "\n",
        "6406 6406 1239.085 231.784 512.717\n",
        "     blob1  blob2       dt        dist  d_spacetime\n",
        "353   6406   6406   -0.133    0.455011     0.455011\n",
        "368   6149   6406   10.999  111.504124   111.504124\n",
        "128   2919   6406  217.232  246.879659   246.879659\n",
        "119   3116   6406  194.130  277.496102   277.496102\n",
        "109   2314   6406  252.527  385.324492   385.324492\n",
        "\n",
        "[5 rows x 5 columns]"
       ]
      },
      {
       "output_type": "stream",
       "stream": "stdout",
       "text": [
        "\n",
        "67038 67038 399.003 2028.497 3526.737\n",
        "     blob1  blob2       dt        dist  d_spacetime\n",
        "354  67038  67038   -0.132    0.222596     0.222596\n",
        "311  67070  67038   -2.266   12.860970    12.860970\n",
        "291  67125  67038   -5.532   33.158287    33.158287\n",
        "130  67196  67038  -27.054   49.403837    49.403837\n",
        "235  64282  67038  120.343  121.807670   121.807670\n",
        "\n",
        "[5 rows x 5 columns]"
       ]
      },
      {
       "output_type": "stream",
       "stream": "stdout",
       "text": [
        "\n",
        "963 963 420.535 677.103 93.223\n",
        "     blob1  blob2       dt        dist  d_spacetime\n",
        "66     907    963  -42.632   47.772944    47.772944\n",
        "39    1468    963  -94.468  102.696656   102.696656\n",
        "225     32    963   86.268  139.491089   139.491089\n",
        "116   1476    963  -71.459  171.489795   171.489795\n",
        "95    2959    963 -212.966  220.910998   220.910998\n",
        "\n",
        "[5 rows x 5 columns]"
       ]
      },
      {
       "output_type": "stream",
       "stream": "stdout",
       "text": [
        "\n",
        "57043 57043 778.456 395.473 3070.698\n",
        "     blob1  blob2       dt        dist  d_spacetime\n",
        "206  57139  57043   -5.394    6.493482     6.493482\n",
        "273  65050  57043 -367.433  369.988831   369.988831\n",
        "266  64164  57043 -327.503  385.473436   385.473436\n",
        "246  65458  57043 -380.903  414.421107   414.421107\n",
        "240  65492  57043 -385.369  417.515609   417.515609\n",
        "\n",
        "[5 rows x 5 columns]"
       ]
      },
      {
       "output_type": "stream",
       "stream": "stdout",
       "text": [
        "\n",
        "56505 56505 1696.971 1143.691 3043.334\n",
        "     blob1  blob2       dt        dist  d_spacetime\n",
        "5    58657  56505 -105.963  296.424451   296.424451\n",
        "44   58870  56505 -140.817  338.651151   338.651151\n",
        "303  57189  56505  -36.131  406.145367   406.145367\n",
        "84   57321  56505  -42.248  458.773878   458.773878\n",
        "82   54391  56505  102.437  461.195675   461.195675\n",
        "\n",
        "[5 rows x 5 columns]"
       ]
      },
      {
       "output_type": "stream",
       "stream": "stdout",
       "text": [
        "\n",
        "66054 66054 791.151 976.636 3481.668\n",
        "     blob1  blob2      dt       dist  d_spacetime\n",
        "355  66054  66054  -0.130   0.543972     0.543972\n",
        "139  65840  66054   0.666  12.975086    12.975086\n",
        "324  66258  66054 -10.168  47.451791    47.451791\n",
        "233  66161  66054  -9.234  48.284642    48.284642\n",
        "259  66658  66054 -33.601  58.538159    58.538159\n",
        "\n",
        "[5 rows x 5 columns]"
       ]
      },
      {
       "output_type": "stream",
       "stream": "stdout",
       "text": [
        "\n",
        "47939 47939 529.208 1177.431 2567.097\n",
        "     blob1  blob2      dt        dist  d_spacetime\n",
        "356  47939  47939  -0.199    0.970030     0.970030\n",
        "247  48018  47939  -7.163   66.729213    66.729213\n",
        "22   47092  47939 -69.266  124.387718   124.387718\n",
        "302  46526  47939  79.349  130.375210   130.375210\n",
        "296  46543  47939  77.808  133.253129   133.253129\n",
        "\n",
        "[5 rows x 5 columns]"
       ]
      },
      {
       "output_type": "stream",
       "stream": "stdout",
       "text": [
        "\n",
        "55270 55270 1714.114 1140.333 2985.625\n",
        "     blob1  blob2       dt        dist  d_spacetime\n",
        "5    58657  55270 -163.672  330.018537   330.018537\n",
        "44   58870  55270 -198.526  374.240597   374.240597\n",
        "303  57189  55270  -93.840  416.925142   416.925142\n",
        "189  51600  55270  200.295  444.097612   444.097612\n",
        "98   51097  55270  231.227  462.889865   462.889865\n",
        "\n",
        "[5 rows x 5 columns]"
       ]
      },
      {
       "output_type": "stream",
       "stream": "stdout",
       "text": [
        "\n",
        "2451 2451 1540.605 955.421 245.589\n",
        "     blob1  blob2       dt        dist  d_spacetime\n",
        "270   2378   2451    5.866    6.638447     6.638447\n",
        "146   2537   2451  -14.867   18.856516    18.856516\n",
        "370   2621   2451  -15.230   19.223846    19.223846\n",
        "31    3595   2451 -126.599  151.275392   151.275392\n",
        "83     610   2451  186.866  242.543542   242.543542\n",
        "\n",
        "[5 rows x 5 columns]"
       ]
      },
      {
       "output_type": "stream",
       "stream": "stdout",
       "text": [
        "\n",
        "19467 19467 441.473 1151.203 1135.884\n",
        "     blob1  blob2       dt        dist  d_spacetime\n",
        "388  19846  19467  -16.575  108.704060   108.704060\n",
        "326  19082  19467   18.393  152.873531   152.873531\n",
        "380  16494  19467  134.964  214.347828   214.347828\n",
        "204  16263  19467  143.507  219.731393   219.731393\n",
        "33   18283  19467   46.225  313.060633   313.060633\n",
        "\n",
        "[5 rows x 5 columns]"
       ]
      },
      {
       "output_type": "stream",
       "stream": "stdout",
       "text": [
        "\n",
        "61488 61488 551.321 1060.0 3283.269\n",
        "     blob1  blob2       dt        dist  d_spacetime\n",
        "357  61488  61488   -0.396    0.540193     0.540193\n",
        "126  64475  61488 -149.732  152.059430   152.059430\n",
        "261  65009  61488 -154.332  156.554462   156.554462\n",
        "19   54924  61488  220.677  221.916160   221.916160\n",
        "70   66484  61488 -258.647  261.476842   261.476842\n",
        "\n",
        "[5 rows x 5 columns]"
       ]
      },
      {
       "output_type": "stream",
       "stream": "stdout",
       "text": [
        "\n",
        "53363 53363 948.701 989.992 2876.799\n",
        "     blob1  blob2       dt        dist  d_spacetime\n",
        "348  54582  53363  -74.030  124.277675   124.277675\n",
        "74   54522  53363  -71.361  134.078279   134.078279\n",
        "151  54603  53363  -88.367  139.622307   139.622307\n",
        "282  55880  53363 -140.401  225.444468   225.444468\n",
        "275  49865  53363  194.228  292.624471   292.624471\n",
        "\n",
        "[5 rows x 5 columns]"
       ]
      },
      {
       "output_type": "stream",
       "stream": "stdout",
       "text": [
        "\n",
        "502 502 1233.428 1272.379 49.121\n",
        "     blob1  blob2       dt        dist  d_spacetime\n",
        "220    237    502   27.005  135.081259   135.081259\n",
        "30    1439    502 -102.932  135.535710   135.535710\n",
        "81     827    502  -51.933  139.528437   139.528437\n",
        "201    400    502    4.704  159.014859   159.014859\n",
        "239   1090    502  -59.401  175.322575   175.322575\n",
        "\n",
        "[5 rows x 5 columns]"
       ]
      },
      {
       "output_type": "stream",
       "stream": "stdout",
       "text": [
        "\n",
        "55831 55831 707.382 195.033 3014.499\n",
        "     blob1  blob2       dt        dist  d_spacetime\n",
        "206  57139  55831  -61.593  222.685058   222.685058\n",
        "266  64164  55831 -383.702  385.258117   385.258117\n",
        "110  65193  55831 -433.235  435.093687   435.093687\n",
        "246  65458  55831 -437.102  440.481478   440.481478\n",
        "240  65492  55831 -441.568  445.222724   445.222724\n",
        "\n",
        "[5 rows x 5 columns]"
       ]
      },
      {
       "output_type": "stream",
       "stream": "stdout",
       "text": [
        "\n",
        "67464 67464 1559.893 145.583 3555.509\n",
        "     blob1  blob2       dt        dist  d_spacetime\n",
        "154  62786  67464  219.243  454.560203   454.560203\n",
        "172  58149  67464  428.690  544.546042   544.546042\n",
        "84   57321  67464  469.927  724.019021   724.019021\n",
        "303  57189  67464  476.044  772.853291   772.853291\n",
        "29   65857  67464  -39.599  791.041782   791.041782\n",
        "\n",
        "[5 rows x 5 columns]"
       ]
      },
      {
       "output_type": "stream",
       "stream": "stdout",
       "text": [
        "\n",
        "2358 2358 1232.712 1318.971 237.172\n",
        "     blob1  blob2      dt       dist  d_spacetime\n",
        "170   2423   2358  -8.015  29.490230    29.490230\n",
        "155   2734   2358 -30.149  38.595745    38.595745\n",
        "322   2610   2358 -23.712  58.874182    58.874182\n",
        "366   2599   2358 -20.768  65.795570    65.795570\n",
        "294   2957   2358 -63.936  80.541826    80.541826\n",
        "\n",
        "[5 rows x 5 columns]"
       ]
      },
      {
       "output_type": "stream",
       "stream": "stdout",
       "text": [
        "\n",
        "771 771 581.718 475.363 68.407\n",
        "     blob1  blob2      dt        dist  d_spacetime\n",
        "249    815    771  -7.150  101.723252   101.723252\n",
        "214     61    771  60.053  206.681665   206.681665\n",
        "116   1476    771 -96.275  215.221696   215.221696\n",
        "24    1400    771 -75.382  228.703849   228.703849\n",
        "134   1503    771 -93.250  236.614985   236.614985\n",
        "\n",
        "[5 rows x 5 columns]"
       ]
      },
      {
       "output_type": "stream",
       "stream": "stdout",
       "text": [
        "\n",
        "44016 44016 892.474 254.71 2339.281\n",
        "     blob1  blob2       dt        dist  d_spacetime\n",
        "1    47027  44016 -182.684  435.522638   435.522638\n",
        "26   43181  44016   47.192  446.613570   446.613570\n",
        "160  47780  44016 -214.169  571.544286   571.544286\n",
        "166  38414  44016  293.888  632.907070   632.907070\n",
        "105  52211  44016 -478.741  646.542833   646.542833\n",
        "\n",
        "[5 rows x 5 columns]"
       ]
      },
      {
       "output_type": "stream",
       "stream": "stdout",
       "text": [
        "\n",
        "15401 15401 613.55 1226.809 943.316\n",
        "     blob1  blob2       dt        dist  d_spacetime\n",
        "204  16263  15401  -49.061  112.853027   112.853027\n",
        "380  16494  15401  -57.604  116.733243   116.733243\n",
        "326  19082  15401 -174.175  202.862071   202.862071\n",
        "90   17166  15401 -105.572  249.210841   249.210841\n",
        "33   18283  15401 -146.343  252.561098   252.561098\n",
        "\n",
        "[5 rows x 5 columns]"
       ]
      },
      {
       "output_type": "stream",
       "stream": "stdout",
       "text": [
        "\n",
        "45934 45934 717.293 881.855 2454.487\n",
        "     blob1  blob2       dt        dist  d_spacetime\n",
        "42   47282  45934  -88.672  117.651544   117.651544\n",
        "150  44759  45934   77.492  142.412624   142.412624\n",
        "85   47845  45934 -110.143  146.348540   146.348540\n",
        "362  44537  45934   85.128  162.468631   162.468631\n",
        "329  48313  45934 -138.174  210.769145   210.769145\n",
        "\n",
        "[5 rows x 5 columns]"
       ]
      },
      {
       "output_type": "stream",
       "stream": "stdout",
       "text": [
        "\n",
        "39830 39830 936.113 763.825 2107.589\n",
        "     blob1  blob2       dt        dist  d_spacetime\n",
        "166  38414  39830   62.196   85.397271    85.397271\n",
        "26   43181  39830 -184.500  222.127159   222.127159\n",
        "209  34260  39830  292.230  296.773008   296.773008\n",
        "106  38445  39830   69.211  336.067606   336.067606\n",
        "194  37836  39830  101.360  346.271797   346.271797\n",
        "\n",
        "[5 rows x 5 columns]"
       ]
      },
      {
       "output_type": "stream",
       "stream": "stdout",
       "text": [
        "\n",
        "3376 3376 627.026 2168.491 337.018\n",
        "     blob1  blob2       dt        dist  d_spacetime\n",
        "174   3166   3376   13.006  226.564224   226.564224\n",
        "148   2538   3376   81.665  250.251251   250.251251\n",
        "96     820   3376  259.468  304.723644   304.723644\n",
        "375    928   3376  247.769  311.274108   311.274108\n",
        "9     3193   3376 -161.263  321.285091   321.285091\n",
        "\n",
        "[5 rows x 5 columns]"
       ]
      },
      {
       "output_type": "stream",
       "stream": "stdout",
       "text": [
        "\n",
        "22034 22034 1433.753 1326.651 1247.884\n",
        "     blob1  blob2       dt        dist  d_spacetime\n",
        "71   21001  22034   29.357   29.388192    29.388192\n",
        "99   22453  22034  -42.237   45.964483    45.964483\n",
        "169  19898  22034   83.075  103.405493   103.405493\n",
        "171  19798  22034   93.296  107.747975   107.747975\n",
        "32   24100  22034 -221.509  222.082537   222.082537\n",
        "\n",
        "[5 rows x 5 columns]"
       ]
      },
      {
       "output_type": "stream",
       "stream": "stdout",
       "text": [
        "\n",
        "53557 53557 952.816 994.187 2887.921\n",
        "     blob1  blob2       dt        dist  d_spacetime\n",
        "348  54582  53557  -62.908  119.659013   119.659013\n",
        "74   54522  53557  -60.239  130.521440   130.521440\n",
        "151  54603  53557  -77.245  134.641691   134.641691\n",
        "282  55880  53557 -129.279  221.965191   221.965191\n",
        "275  49865  53557  205.350  302.975036   302.975036\n",
        "\n",
        "[5 rows x 5 columns]"
       ]
      },
      {
       "output_type": "stream",
       "stream": "stdout",
       "text": [
        "\n",
        "3733 3733 1647.619 458.424 385.019\n",
        "     blob1  blob2       dt        dist  d_spacetime\n",
        "58    2057   3733  169.063  182.569133   182.569133\n",
        "252   2188   3733  158.334  219.184721   219.184721\n",
        "109   2314   3733  124.829  231.131761   231.131761\n",
        "176   1355   3733  243.162  334.404594   334.404594\n",
        "86     917   3733  267.639  344.981744   344.981744\n",
        "\n",
        "[5 rows x 5 columns]"
       ]
      },
      {
       "output_type": "stream",
       "stream": "stdout",
       "text": [
        "\n",
        "31474 31474 1449.423 1337.554 1669.121\n",
        "     blob1  blob2       dt        dist  d_spacetime\n",
        "108  27607  31474  167.369  168.872405   168.872405\n",
        "32   24100  31474  199.728  200.138609   200.138609\n",
        "137  27329  31474  170.427  320.242724   320.242724\n",
        "276  33143  31474  -86.098  328.328407   328.328407\n",
        "10   29978  31474  -83.206  345.662787   345.662787\n",
        "\n",
        "[5 rows x 5 columns]"
       ]
      },
      {
       "output_type": "stream",
       "stream": "stdout",
       "text": [
        "\n",
        "60457 60457 962.498 735.295 3244.829\n",
        "     blob1  blob2       dt        dist  d_spacetime\n",
        "282  55880  60457  227.629  240.847308   240.847308\n",
        "349  59217  60457   60.678  242.781807   242.781807\n",
        "234  65362  60457 -205.627  256.066223   256.066223\n",
        "241  65448  60457 -209.494  257.086995   257.086995\n",
        "352  65536  60457 -210.372  258.725333   258.725333\n",
        "\n",
        "[5 rows x 5 columns]"
       ]
      },
      {
       "output_type": "stream",
       "stream": "stdout",
       "text": [
        "\n",
        "35782 35782 1393.68 1360.014 1891.992\n",
        "     blob1  blob2       dt        dist  d_spacetime\n",
        "14   38796  35782 -185.536  201.947760   201.947760\n",
        "123  39270  35782 -191.736  224.567572   224.567572\n",
        "360  39573  35782 -202.667  241.028942   241.028942\n",
        "276  33143  35782  136.773  295.882838   295.882838\n",
        "142  40088  35782 -244.104  305.729692   305.729692\n",
        "\n",
        "[5 rows x 5 columns]"
       ]
      },
      {
       "output_type": "stream",
       "stream": "stdout",
       "text": [
        "\n",
        "15570 15570 1001.301 887.938 951.057\n",
        "     blob1  blob2       dt        dist  d_spacetime\n",
        "27   12411  15570  147.869  148.092597   148.092597\n",
        "268  18149  15570 -129.426  149.058425   149.058425\n",
        "217  17342  15570  -91.801  158.401233   158.401233\n",
        "17   18218  15570 -133.730  160.932127   160.932127\n",
        "205  18729  15570 -153.031  163.139972   163.139972\n",
        "\n",
        "[5 rows x 5 columns]"
       ]
      },
      {
       "output_type": "stream",
       "stream": "stdout",
       "text": [
        "\n",
        "62953 62953 704.811 340.048 3343.628\n",
        "     blob1  blob2       dt        dist  d_spacetime\n",
        "273  65050  62953  -94.503  106.343107   106.343107\n",
        "246  65458  62953 -107.973  154.749343   154.749343\n",
        "240  65492  62953 -112.439  156.499200   156.499200\n",
        "300  65574  62953 -114.171  157.710692   157.710692\n",
        "266  64164  62953  -54.573  158.938031   158.938031\n",
        "\n",
        "[5 rows x 5 columns]"
       ]
      },
      {
       "output_type": "stream",
       "stream": "stdout",
       "text": [
        "\n",
        "35741 35741 1443.53 1339.383 1890.187\n",
        "     blob1  blob2       dt        dist  d_spacetime\n",
        "14   38796  35741 -187.341  201.850109   201.850109\n",
        "123  39270  35741 -193.541  222.559872   222.559872\n",
        "360  39573  35741 -204.472  237.679267   237.679267\n",
        "364  38375  35741 -143.003  325.226532   325.226532\n",
        "142  40088  35741 -245.909  326.555720   326.555720\n",
        "\n",
        "[5 rows x 5 columns]"
       ]
      },
      {
       "output_type": "stream",
       "stream": "stdout",
       "text": [
        "\n",
        "15992 15992 70.774 1075.049 972.088\n",
        "     blob1  blob2       dt        dist  d_spacetime\n",
        "388  19846  15992 -180.371  381.305413   381.305413\n",
        "263   7632  15992  407.135  447.489994   447.489994\n",
        "53    7548  15992  413.007  449.450186   449.450186\n",
        "38    7036  15992  430.664  473.428454   473.428454\n",
        "202   8878  15992  357.238  474.701419   474.701419\n",
        "\n",
        "[5 rows x 5 columns]"
       ]
      },
      {
       "output_type": "stream",
       "stream": "stdout",
       "text": [
        "\n",
        "27653 27653 1059.783 1045.311 1491.957\n",
        "     blob1  blob2      dt        dist  d_spacetime\n",
        "358  27653  27653  -0.070    0.191285     0.191285\n",
        "309  27589  27653   1.531   21.961508    21.961508\n",
        "248  26083  27653  54.447   81.160528    81.160528\n",
        "341  25250  27653  93.103  120.478216   120.478216\n",
        "181  28090  27653 -20.668  122.389346   122.389346\n",
        "\n",
        "[5 rows x 5 columns]"
       ]
      },
      {
       "output_type": "stream",
       "stream": "stdout",
       "text": [
        "\n",
        "62501 62501 1344.919 502.229 3324.028\n",
        "     blob1  blob2       dt        dist  d_spacetime\n",
        "154  62786  62501  -12.238   32.633005    32.633005\n",
        "172  58149  62501  197.209  217.681791   217.681791\n",
        "218  56443  62501  280.299  380.849497   380.849497\n",
        "84   57321  62501  238.446  415.102114   415.102114\n",
        "303  57189  62501  244.563  427.611975   427.611975\n",
        "\n",
        "[5 rows x 5 columns]"
       ]
      },
      {
       "output_type": "stream",
       "stream": "stdout",
       "text": [
        "\n",
        "29269 29269 457.168 610.454 1560.588\n",
        "     blob1  blob2       dt        dist  d_spacetime\n",
        "193  30674  29269  -70.238   73.580069    73.580069\n",
        "153  27387  29269   75.661  107.292437   107.292437\n",
        "359  26985  29269   90.694  126.934738   126.934738\n",
        "113  26126  29269  123.595  153.180548   153.180548\n",
        "34   25840  29269  135.200  159.588467   159.588467\n",
        "\n",
        "[5 rows x 5 columns]"
       ]
      },
      {
       "output_type": "stream",
       "stream": "stdout",
       "text": [
        "\n",
        "27080 27080 1423.57 1338.525 1474.489\n",
        "     blob1  blob2       dt        dist  d_spacetime\n",
        "32   24100  27080    5.096   15.242404    15.242404\n",
        "108  27607  27080  -27.263   27.472866    27.472866\n",
        "99   22453  27080  184.368  184.459760   184.459760\n",
        "137  27329  27080  -24.205  249.393691   249.393691\n",
        "71   21001  27080  255.962  256.370057   256.370057\n",
        "\n",
        "[5 rows x 5 columns]"
       ]
      },
      {
       "output_type": "stream",
       "stream": "stdout",
       "text": [
        "\n",
        "3969 3969 940.801 1134.218 400.116\n",
        "     blob1  blob2       dt        dist  d_spacetime\n",
        "190   5179   3969  -56.133   70.999544    70.999544\n",
        "287   4423   3969  -22.857  124.162670   124.162670\n",
        "227   6821   3969 -134.073  175.008040   175.008040\n",
        "13    3120   3969   38.093  199.917232   199.917232\n",
        "158   2162   3969  178.827  229.409549   229.409549\n",
        "\n",
        "[5 rows x 5 columns]"
       ]
      },
      {
       "output_type": "stream",
       "stream": "stdout",
       "text": [
        "\n",
        "16995 16995 1699.549 1619.909 1025.555\n",
        "     blob1  blob2       dt        dist  d_spacetime\n",
        "345  10018  16995  357.133  364.858874   364.858874\n",
        "338   9989  16995  358.836  365.734151   365.734151\n",
        "171  19798  16995 -129.033  423.214472   423.214472\n",
        "71   21001  16995 -192.972  439.628331   439.628331\n",
        "169  19898  16995 -139.254  448.513023   448.513023\n",
        "\n",
        "[5 rows x 5 columns]"
       ]
      },
      {
       "output_type": "stream",
       "stream": "stdout",
       "text": [
        "\n",
        "10772 10772 282.68 2182.498 704.323\n",
        "     blob1  blob2       dt        dist  d_spacetime\n",
        "174   3166  10772  380.311  400.430678   400.430678\n",
        "49   12196  10772  -72.668  461.926083   461.926083\n",
        "9     3193  10772  206.042  640.646426   640.646426\n",
        "165     76  10772  683.867  684.314411   684.314411\n",
        "140     10  10772  687.373  714.655192   714.655192\n",
        "\n",
        "[5 rows x 5 columns]"
       ]
      },
      {
       "output_type": "stream",
       "stream": "stdout",
       "text": [
        "\n",
        "63909 63909 829.344 910.085 3387.234\n",
        "     blob1  blob2      dt        dist  d_spacetime\n",
        "192  63639  63909   5.499   23.076980    23.076980\n",
        "245  64596  63909 -32.364  103.133977   103.133977\n",
        "323  65685  63909 -76.635  113.640543   113.640543\n",
        "139  65840  63909 -93.768  114.466223   114.466223\n",
        "355  66054  63909 -94.564  122.042328   122.042328\n",
        "\n",
        "[5 rows x 5 columns]"
       ]
      },
      {
       "output_type": "stream",
       "stream": "stdout",
       "text": [
        "\n",
        "41888 41888 338.204 634.024 2215.493\n",
        "     blob1  blob2       dt        dist  d_spacetime\n",
        "277  40200  41888   90.001  150.132755   150.132755\n",
        "387  40387  41888   81.930  169.279971   169.279971\n",
        "12   36633  41888  269.876  281.476302   281.476302\n",
        "45   41164  41888    7.135  328.386601   328.386601\n",
        "313  45396  41888 -201.971  353.785647   353.785647\n",
        "\n",
        "[5 rows x 5 columns]"
       ]
      },
      {
       "output_type": "stream",
       "stream": "stdout",
       "text": [
        "\n",
        "63908 63908 814.512 896.771 3387.234\n",
        "     blob1  blob2      dt        dist  d_spacetime\n",
        "192  63639  63908   5.499   42.617512    42.617512\n",
        "245  64596  63908 -32.364   84.856719    84.856719\n",
        "323  65685  63908 -76.635  102.934565   102.934565\n",
        "180  64706  63908 -41.697  111.919609   111.919609\n",
        "139  65840  63908 -93.768  117.482811   117.482811\n",
        "\n",
        "[5 rows x 5 columns]"
       ]
      },
      {
       "output_type": "stream",
       "stream": "stdout",
       "text": [
        "\n",
        "19350 19350 482.761 1209.112 1131.022\n",
        "     blob1  blob2       dt        dist  d_spacetime\n",
        "326  19082  19350   13.531   81.922779    81.922779\n",
        "388  19846  19350  -21.437  178.165585   178.165585\n",
        "380  16494  19350  130.102  197.731393   197.731393\n",
        "204  16263  19350  138.645  203.405198   203.405198\n",
        "33   18283  19350   41.363  243.303524   243.303524\n",
        "\n",
        "[5 rows x 5 columns]"
       ]
      },
      {
       "output_type": "stream",
       "stream": "stdout",
       "text": [
        "\n",
        "26985 26985 371.55 632.473 1469.828\n",
        "     blob1  blob2      dt       dist  d_spacetime\n",
        "359  26985  26985  -0.066   0.458486     0.458486\n",
        "113  26126  26985  32.835  38.597928    38.597928\n",
        "293  26018  26985  36.448  47.963746    47.963746\n",
        "153  27387  26985 -15.099  49.873042    49.873042\n",
        "34   25840  26985  44.440  54.388903    54.388903\n",
        "\n",
        "[5 rows x 5 columns]"
       ]
      },
      {
       "output_type": "stream",
       "stream": "stdout",
       "text": [
        "\n",
        "2344 2344 191.173 880.105 236.59\n",
        "     blob1  blob2      dt        dist  d_spacetime\n",
        "57    2938   2344 -64.397  223.260113   223.260113\n",
        "168   1599   2344  62.933  247.855911   247.855911\n",
        "95    2959   2344 -69.599  281.709782   281.709782\n",
        "39    1468   2344  48.899  282.482016   282.482016\n",
        "79    1506   2344  73.572  324.952816   324.952816\n",
        "\n",
        "[5 rows x 5 columns]"
       ]
      },
      {
       "output_type": "stream",
       "stream": "stdout",
       "text": [
        "\n",
        "1356 1356 777.627 1427.445 138.887\n",
        "     blob1  blob2      dt        dist  d_spacetime\n",
        "203   1263   1356   7.849   79.390006    79.390006\n",
        "133   1469   1356 -18.337  153.819025   153.819025\n",
        "213   1193   1356  16.668  162.646149   162.646149\n",
        "269   1629   1356 -35.570  171.347701   171.347701\n",
        "188    950   1356  39.365  195.191530   195.191530\n",
        "\n",
        "[5 rows x 5 columns]"
       ]
      },
      {
       "output_type": "stream",
       "stream": "stdout",
       "text": [
        "\n",
        "3824 3824 1239.277 2322.657 391.357\n",
        "     blob1  blob2       dt        dist  d_spacetime\n",
        "284   2924   3824   94.400  257.878818   257.878818\n",
        "112   2807   3824  107.909  323.284188   323.284188\n",
        "229   1435   3824  240.568  406.871584   406.871584\n",
        "117    210   3824  360.582  428.584156   428.584156\n",
        "115  11432   3824 -351.861  439.991704   439.991704\n",
        "\n",
        "[5 rows x 5 columns]"
       ]
      },
      {
       "output_type": "stream",
       "stream": "stdout",
       "text": [
        "\n",
        "619 619 593.687 385.997 56.923\n",
        "     blob1  blob2       dt        dist  d_spacetime\n",
        "214     61    619   48.569  118.666185   118.666185\n",
        "249    815    619  -18.634  142.779643   142.779643\n",
        "24    1400    619  -86.866  198.039905   198.039905\n",
        "134   1503    619 -104.734  232.456583   232.456583\n",
        "116   1476    619 -107.759  264.231270   264.231270\n",
        "\n",
        "[5 rows x 5 columns]"
       ]
      },
      {
       "output_type": "stream",
       "stream": "stdout",
       "text": [
        "\n",
        "4948 4948 1365.434 723.954 444.588\n",
        "     blob1  blob2       dt        dist  d_spacetime\n",
        "265   5084   4948   -8.530   50.365755    50.365755\n",
        "31    3595   4948   72.400  236.809085   236.809085\n",
        "61    1303   4948  301.472  302.361846   302.361846\n",
        "383   1443   4948  290.199  318.485876   318.485876\n",
        "385   1456   4948  289.069  322.289087   322.289087\n",
        "\n",
        "[5 rows x 5 columns]"
       ]
      },
      {
       "output_type": "stream",
       "stream": "stdout",
       "text": [
        "\n",
        "15360 15360 482.78 877.692 940.96\n",
        "     blob1  blob2       dt        dist  d_spacetime\n",
        "386  11323  15360  211.975  263.580777   263.580777\n",
        "204  16263  15360  -51.417  281.402841   281.402841\n",
        "380  16494  15360  -59.960  283.228949   283.228949\n",
        "388  19846  15360 -211.499  283.386810   283.386810\n",
        "20   17686  15360 -217.156  326.385720   326.385720\n",
        "\n",
        "[5 rows x 5 columns]"
       ]
      },
      {
       "output_type": "stream",
       "stream": "stdout",
       "text": [
        "\n",
        "63766 63766 1092.86 1026.906 3381.534\n",
        "     blob1  blob2       dt        dist  d_spacetime\n",
        "301  59463  63766  182.670  207.110900   207.110900\n",
        "278  59493  63766  180.767  212.509999   212.509999\n",
        "173  59532  63766  178.705  221.516377   221.516377\n",
        "349  59217  63766  197.383  226.508556   226.508556\n",
        "192  63639  63766   -0.201  268.132279   268.132279\n",
        "\n",
        "[5 rows x 5 columns]"
       ]
      },
      {
       "output_type": "stream",
       "stream": "stdout",
       "text": [
        "\n",
        "39573 39573 1484.93 1453.46 2094.596\n",
        "     blob1  blob2       dt        dist  d_spacetime\n",
        "360  39573  39573   -0.063    0.204130     0.204130\n",
        "123  39270  39573   10.868   17.598424    17.598424\n",
        "14   38796  39573   17.068   53.928378    53.928378\n",
        "267  42451  39573 -155.700  181.039085   181.039085\n",
        "80   35344  39573  223.106  307.500886   307.500886\n",
        "\n",
        "[5 rows x 5 columns]"
       ]
      },
      {
       "output_type": "stream",
       "stream": "stdout",
       "text": [
        "\n",
        "2008 2008 248.301 683.135 207.088\n",
        "     blob1  blob2       dt        dist  d_spacetime\n",
        "39    1468   2008   19.397  172.911131   172.911131\n",
        "66     907   2008   71.233  184.412404   184.412404\n",
        "95    2959   2008  -99.101  207.522726   207.522726\n",
        "116   1476   2008   42.406  221.269725   221.269725\n",
        "225     32   2008  200.133  230.307872   230.307872\n",
        "\n",
        "[5 rows x 5 columns]"
       ]
      },
      {
       "output_type": "stream",
       "stream": "stdout",
       "text": [
        "\n",
        "33018 33018 780.536 1050.746 1747.728\n",
        "     blob1  blob2       dt        dist  d_spacetime\n",
        "41   34631  33018  -93.830   93.862207    93.862207\n",
        "67   30336  33018  130.774  132.191606   132.191606\n",
        "255  32876  33018    4.433  175.242228   175.242228\n",
        "77   32713  33018    9.316  175.537551   175.537551\n",
        "75   29441  33018  173.870  213.406793   213.406793\n",
        "\n",
        "[5 rows x 5 columns]"
       ]
      },
      {
       "output_type": "stream",
       "stream": "stdout",
       "text": [
        "\n",
        "28920 28920 624.676 1107.327 1545.627\n",
        "     blob1  blob2      dt        dist  d_spacetime\n",
        "75   29441  28920 -28.231   50.714816    50.714816\n",
        "316  28650  28920  13.651   67.553598    67.553598\n",
        "199  29045  28920  -6.031   71.436544    71.436544\n",
        "196  27858  28920  40.327  145.946149   145.946149\n",
        "67   30336  28920 -71.327  171.980554   171.980554\n",
        "\n",
        "[5 rows x 5 columns]"
       ]
      },
      {
       "output_type": "stream",
       "stream": "stdout",
       "text": [
        "\n",
        "26842 26842 666.554 881.159 1463.189\n",
        "     blob1  blob2       dt        dist  d_spacetime\n",
        "361  26842  26842   -0.062    0.324194     0.324194\n",
        "60   26398  26842   14.428   97.602205    97.602205\n",
        "196  27858  26842  -42.111  100.885170   100.885170\n",
        "316  28650  26842  -68.787  178.632759   178.632759\n",
        "75   29441  26842 -110.669  237.395169   237.395169\n",
        "\n",
        "[5 rows x 5 columns]"
       ]
      },
      {
       "output_type": "stream",
       "stream": "stdout",
       "text": [
        "\n",
        "18912 18912 761.738 1058.117 1108.689\n",
        "     blob1  blob2      dt       dist  d_spacetime\n",
        "185  18324  18912  14.896  18.204903    18.204903\n",
        "187  18161  18912  22.829  25.616388    25.616388\n",
        "90   17166  18912  59.801  61.221619    61.221619\n",
        "351  19669  18912 -35.371  66.475143    66.475143\n",
        "179  20405  18912 -82.568  83.103768    83.103768\n",
        "\n",
        "[5 rows x 5 columns]"
       ]
      },
      {
       "output_type": "stream",
       "stream": "stdout",
       "text": [
        "\n",
        "53411 53411 949.256 990.413 2878.928\n",
        "     blob1  blob2       dt        dist  d_spacetime\n",
        "348  54582  53411  -71.901  123.117505   123.117505\n",
        "74   54522  53411  -69.232  133.093791   133.093791\n",
        "151  54603  53411  -86.238  138.399253   138.399253\n",
        "282  55880  53411 -138.272  224.435526   224.435526\n",
        "275  49865  53411  196.357  294.435726   294.435726\n",
        "\n",
        "[5 rows x 5 columns]"
       ]
      },
      {
       "output_type": "stream",
       "stream": "stdout",
       "text": [
        "\n",
        "44537 44537 790.425 999.166 2369.298\n",
        "     blob1  blob2       dt        dist  d_spacetime\n",
        "362  44537  44537   -0.061    0.209215     0.209215\n",
        "150  44759  44537   -7.697   20.274171    20.274171\n",
        "308  44345  44537    9.283  110.001961   110.001961\n",
        "63   44260  44537   15.171  179.876678   179.876678\n",
        "152  42284  44537  129.941  182.210411   182.210411\n",
        "\n",
        "[5 rows x 5 columns]"
       ]
      },
      {
       "output_type": "stream",
       "stream": "stdout",
       "text": [
        "\n",
        "31859 31859 1132.012 1357.665 1686.628\n",
        "     blob1  blob2       dt        dist  d_spacetime\n",
        "276  33143  31859  -68.591   72.579355    72.579355\n",
        "10   29978  31859  -65.699  191.620537   191.620537\n",
        "25   26426  31859  234.001  235.601152   235.601152\n",
        "137  27329  31859  187.934  239.794586   239.794586\n",
        "122  31968  31859   -3.866  249.964053   249.964053\n",
        "\n",
        "[5 rows x 5 columns]"
       ]
      },
      {
       "output_type": "stream",
       "stream": "stdout",
       "text": [
        "\n",
        "34888 34888 1413.727 1312.695 1849.559\n",
        "     blob1  blob2       dt        dist  d_spacetime\n",
        "14   38796  34888 -227.969  252.441991   252.441991\n",
        "123  39270  34888 -234.169  275.612329   275.612329\n",
        "360  39573  34888 -245.100  291.381098   291.381098\n",
        "276  33143  34888   94.340  297.289647   297.289647\n",
        "142  40088  34888 -286.537  336.581033   336.581033\n",
        "\n",
        "[5 rows x 5 columns]"
       ]
      },
      {
       "output_type": "stream",
       "stream": "stdout",
       "text": [
        "\n",
        "41813 41813 338.656 634.61 2210.693\n",
        "     blob1  blob2       dt        dist  d_spacetime\n",
        "277  40200  41813   85.201  146.710984   146.710984\n",
        "387  40387  41813   77.130  166.354320   166.354320\n",
        "12   36633  41813  265.076  276.821802   276.821802\n",
        "45   41164  41813    2.335  327.579340   327.579340\n",
        "313  45396  41813 -206.771  355.949534   355.949534\n",
        "\n",
        "[5 rows x 5 columns]"
       ]
      },
      {
       "output_type": "stream",
       "stream": "stdout",
       "text": [
        "\n",
        "19632 19632 462.461 628.859 1142.125\n",
        "     blob1  blob2       dt        dist  d_spacetime\n",
        "20   17686  19632  -15.991  124.281105   124.281105\n",
        "283  22086  19632 -109.168  155.838401   155.838401\n",
        "141  22357  19632 -134.464  168.335586   168.335586\n",
        "222  23010  19632 -155.001  266.497108   266.497108\n",
        "34   25840  19632 -283.263  298.377206   298.377206\n",
        "\n",
        "[5 rows x 5 columns]"
       ]
      },
      {
       "output_type": "stream",
       "stream": "stdout",
       "text": [
        "\n",
        "33136 33136 1132.678 1356.979 1753.621\n",
        "     blob1  blob2       dt        dist  d_spacetime\n",
        "276  33143  33136   -1.598   23.090478    23.090478\n",
        "10   29978  33136    1.294  180.514007   180.514007\n",
        "122  31968  33136   63.127  258.651656   258.651656\n",
        "137  27329  33136  254.927  294.783378   294.783378\n",
        "25   26426  33136  300.994  302.225175   302.225175\n",
        "\n",
        "[5 rows x 5 columns]"
       ]
      },
      {
       "output_type": "stream",
       "stream": "stdout",
       "text": [
        "\n",
        "60473 60473 962.47 735.211 3245.495\n",
        "     blob1  blob2       dt        dist  d_spacetime\n",
        "282  55880  60473  228.295  241.503567   241.503567\n",
        "349  59217  60473   61.344  243.029198   243.029198\n",
        "234  65362  60473 -204.961  255.509335   255.509335\n",
        "241  65448  60473 -208.828  256.529474   256.529474\n",
        "352  65536  60473 -209.706  258.176231   258.176231\n",
        "\n",
        "[5 rows x 5 columns]"
       ]
      },
      {
       "output_type": "stream",
       "stream": "stdout",
       "text": [
        "\n",
        "36276 36276 1428.018 1328.185 1918.259\n",
        "     blob1  blob2       dt        dist  d_spacetime\n",
        "14   38796  36276 -159.269  182.550966   182.550966\n",
        "123  39270  36276 -165.469  207.679489   207.679489\n",
        "360  39573  36276 -176.400  223.607428   223.607428\n",
        "142  40088  36276 -217.837  293.039177   293.039177\n",
        "364  38375  36276 -114.931  314.793355   314.793355\n",
        "\n",
        "[5 rows x 5 columns]"
       ]
      },
      {
       "output_type": "stream",
       "stream": "stdout",
       "text": [
        "\n",
        "55836 55836 707.579 221.018 3014.567\n",
        "     blob1  blob2       dt        dist  d_spacetime\n",
        "206  57139  55836  -61.525  199.221845   199.221845\n",
        "266  64164  55836 -383.634  386.018722   386.018722\n",
        "110  65193  55836 -433.167  434.277578   434.277578\n",
        "246  65458  55836 -437.034  438.741244   438.741244\n",
        "240  65492  55836 -441.500  443.354621   443.354621\n",
        "\n",
        "[5 rows x 5 columns]"
       ]
      },
      {
       "output_type": "stream",
       "stream": "stdout",
       "text": [
        "\n",
        "24970 24970 980.649 726.298 1388.827\n",
        "     blob1  blob2       dt        dist  d_spacetime\n",
        "295  29146  24970 -167.492  179.013503   179.013503\n",
        "215  29395  24970 -179.165  179.637261   179.637261\n",
        "210  24323  24970   23.335  243.679521   243.679521\n",
        "136  24969  24970   -0.862  244.965991   244.965991\n",
        "341  25250  24970  -10.027  255.923533   255.923533\n",
        "\n",
        "[5 rows x 5 columns]"
       ]
      },
      {
       "output_type": "stream",
       "stream": "stdout",
       "text": [
        "\n",
        "42008 42008 1491.118 1308.587 2222.98\n",
        "     blob1  blob2       dt        dist  d_spacetime\n",
        "267  42451  42008  -27.316   66.394669    66.394669\n",
        "14   38796  42008  145.452  183.769906   183.769906\n",
        "360  39573  42008  128.321  193.485613   193.485613\n",
        "123  39270  42008  139.252  195.654411   195.654411\n",
        "11   45403  42008 -195.347  235.583870   235.583870\n",
        "\n",
        "[5 rows x 5 columns]"
       ]
      },
      {
       "output_type": "stream",
       "stream": "stdout",
       "text": [
        "\n",
        "55610 55610 1701.085 1133.42 3003.918\n",
        "     blob1  blob2       dt        dist  d_spacetime\n",
        "5    58657  55610 -145.379  322.525246   322.525246\n",
        "44   58870  55610 -180.233  366.430668   366.430668\n",
        "303  57189  55610  -75.547  402.929051   402.929051\n",
        "189  51600  55610  218.588  450.690887   450.690887\n",
        "84   57321  55610  -81.664  454.738947   454.738947\n",
        "\n",
        "[5 rows x 5 columns]"
       ]
      },
      {
       "output_type": "stream",
       "stream": "stdout",
       "text": [
        "\n",
        "57326 57326 439.24 1996.131 3085.463\n",
        "     blob1  blob2       dt        dist  d_spacetime\n",
        "369  57326  57326   -0.066    0.397463     0.397463\n",
        "48   57869  57326  -69.034   74.481812    74.481812\n",
        "236  56022  57326   59.192   85.299089    85.299089\n",
        "159  59797  57326 -134.366  138.469689   138.469689\n",
        "103  55427  57326   89.431  180.554255   180.554255\n",
        "\n",
        "[5 rows x 5 columns]"
       ]
      },
      {
       "output_type": "stream",
       "stream": "stdout",
       "text": [
        "\n",
        "67034 67034 1540.587 2173.219 3526.596\n",
        "     blob1  blob2       dt        dist  d_spacetime\n",
        "372  67034  67034    0.000    0.000000     0.000000\n",
        "68   65945  67034    1.696   11.348879    11.348879\n",
        "367  67233  67034   -9.503   28.552780    28.552780\n",
        "101  61635  67034  237.528  666.873736   666.873736\n",
        "306  61565  67034  240.129  683.956255   683.956255\n",
        "\n",
        "[5 rows x 5 columns]"
       ]
      },
      {
       "output_type": "stream",
       "stream": "stdout",
       "text": [
        "\n",
        "10566 10566 1073.792 1134.648 693.89\n",
        "     blob1  blob2       dt        dist  d_spacetime\n",
        "373  10566  10566    0.000    0.000000     0.000000\n",
        "227   6821  10566  159.701  162.302639   162.302639\n",
        "344  13708  10566 -163.298  173.104198   173.104198\n",
        "87   14000  10566 -181.196  229.580278   229.580278\n",
        "287   4423  10566  270.917  272.909334   272.909334\n",
        "\n",
        "[5 rows x 5 columns]"
       ]
      },
      {
       "output_type": "stream",
       "stream": "stdout",
       "text": [
        "\n",
        "784 784 1504.492 1490.274 69.752\n",
        "     blob1  blob2      dt        dist  d_spacetime\n",
        "379    784    784   0.000    0.000000     0.000000\n",
        "381    645    784  11.361  118.384072   118.384072\n",
        "331    556    784  18.031  191.609942   191.609942\n",
        "237     34    784  62.872  205.043895   205.043895\n",
        "264    829    784  -7.327  283.403996   283.403996\n",
        "\n",
        "[5 rows x 5 columns]"
       ]
      },
      {
       "output_type": "stream",
       "stream": "stdout",
       "text": [
        "\n",
        "2621 2621 1551.707 959.209 260.819\n",
        "     blob1  blob2       dt        dist  d_spacetime\n",
        "370   2621   2621    0.000    0.000000     0.000000\n",
        "146   2537   2621    0.363    0.386075     0.386075\n",
        "270   2378   2621   21.096   23.589351    23.589351\n",
        "31    3595   2621 -111.369  141.960818   141.960818\n",
        "83     610   2621  202.096  256.341054   256.341054\n",
        "\n",
        "[5 rows x 5 columns]"
       ]
      },
      {
       "output_type": "stream",
       "stream": "stdout",
       "text": [
        "\n",
        "6149 6149 1254.945 341.605 501.718\n",
        "     blob1  blob2       dt        dist  d_spacetime\n",
        "368   6149   6149    0.000    0.000000     0.000000\n",
        "353   6406   6149  -11.132  111.944173   111.944173\n",
        "119   3116   6149  183.131  205.155130   205.155130\n",
        "128   2919   6149  206.233  269.774548   269.774548\n",
        "109   2314   6149  241.528  358.726998   358.726998\n",
        "\n",
        "[5 rows x 5 columns]"
       ]
      },
      {
       "output_type": "stream",
       "stream": "stdout",
       "text": [
        "\n",
        "2857 2857 925.429 1418.315 283.994\n",
        "     blob1  blob2       dt        dist  d_spacetime\n",
        "365   2857   2857   -0.123    0.330494     0.330494\n",
        "363   2597   2857   26.775   89.076378    89.076378\n",
        "269   1629   2857  109.537  144.971775   144.971775\n",
        "133   1469   2857  126.770  150.902805   150.902805\n",
        "158   2162   2857   62.705  156.582809   156.582809\n",
        "\n",
        "[5 rows x 5 columns]"
       ]
      },
      {
       "output_type": "stream",
       "stream": "stdout",
       "text": [
        "\n",
        "928 928 751.611 2027.138 89.249\n",
        "     blob1  blob2       dt        dist  d_spacetime\n",
        "375    928    928    0.000    0.000000     0.000000\n",
        "96     820    928   11.699  103.467581   103.467581\n",
        "93    2067    928 -140.532  208.805246   208.805246\n",
        "148   2538    928 -166.104  212.003917   212.003917\n",
        "332      3    928   88.767  309.925060   309.925060\n",
        "\n",
        "[5 rows x 5 columns]"
       ]
      },
      {
       "output_type": "stream",
       "stream": "stdout",
       "text": [
        "\n",
        "46003 46003 282.562 1154.85 2459.661\n",
        "     blob1  blob2       dt        dist  d_spacetime\n",
        "377  46003  46003    0.000    0.000000     0.000000\n",
        "100  46173  46003  -12.204  145.914152   145.914152\n",
        "18   45363  46003  -15.737  225.667315   225.667315\n",
        "302  46526  46003  -28.087  265.605554   265.605554\n",
        "356  47939  46003 -107.635  269.485142   269.485142\n",
        "\n",
        "[5 rows x 5 columns]"
       ]
      },
      {
       "output_type": "stream",
       "stream": "stdout",
       "text": [
        "\n",
        "67233 67233 1567.443 2175.145 3536.099\n",
        "     blob1  blob2       dt        dist  d_spacetime\n",
        "367  67233  67233    0.000    0.000000     0.000000\n",
        "372  67034  67233    9.503   28.552780    28.552780\n",
        "68   65945  67233   11.199   39.742838    39.742838\n",
        "101  61635  67233  247.031  690.374898   690.374898\n",
        "306  61565  67233  249.632  707.743573   707.743573\n",
        "\n",
        "[5 rows x 5 columns]"
       ]
      },
      {
       "output_type": "stream",
       "stream": "stdout",
       "text": [
        "\n",
        "19846 19846 405.7 1049.83 1152.251\n",
        "     blob1  blob2       dt        dist  d_spacetime\n",
        "388  19846  19846   -0.208    0.225779     0.225779\n",
        "326  19082  19846   34.760  259.907017   259.907017\n",
        "380  16494  19846  151.331  262.220610   262.220610\n",
        "204  16263  19846  159.874  267.110056   267.110056\n",
        "222  23010  19846 -144.875  283.427231   283.427231\n",
        "\n",
        "[5 rows x 5 columns]"
       ]
      },
      {
       "output_type": "stream",
       "stream": "stdout",
       "text": [
        "\n",
        "16494 16494 606.009 1125.559 1000.92\n",
        "     blob1  blob2      dt        dist  d_spacetime\n",
        "380  16494  16494   0.000    0.000000     0.000000\n",
        "204  16263  16494   8.543    8.544654     8.544654\n",
        "90   17166  16494 -47.968  182.822733   182.822733\n",
        "187  18161  16494 -84.940  191.610913   191.610913\n",
        "185  18324  16494 -92.873  199.100006   199.100006\n",
        "\n",
        "[5 rows x 5 columns]"
       ]
      },
      {
       "output_type": "stream",
       "stream": "stdout",
       "text": [
        "\n",
        "65648 65648 810.918 804.241 3460.935\n",
        "     blob1  blob2      dt       dist  d_spacetime\n",
        "374  65648  65648   0.000   0.000000     0.000000\n",
        "231  65575  65648   0.405   0.886586     0.886586\n",
        "323  65685  65648  -2.934  24.064674    24.064674\n",
        "352  65536  65648   5.734  44.150543    44.150543\n",
        "245  64596  65648  41.337  64.394151    64.394151\n",
        "\n",
        "[5 rows x 5 columns]"
       ]
      },
      {
       "output_type": "stream",
       "stream": "stdout",
       "text": [
        "\n",
        "2599 2599 1217.662 1258.245 257.89\n",
        "     blob1  blob2      dt       dist  d_spacetime\n",
        "366   2599   2599  -0.050   0.164149     0.164149\n",
        "322   2610   2599  -2.994  22.420755    22.420755\n",
        "170   2423   2599  12.703  40.194469    40.194469\n",
        "334   2770   2599 -15.366  68.426324    68.426324\n",
        "294   2957   2599 -43.218  71.235244    71.235244\n",
        "\n",
        "[5 rows x 5 columns]"
       ]
      },
      {
       "output_type": "stream",
       "stream": "stdout",
       "text": [
        "\n",
        "40748 40748 1193.473 1370.898 2151.69\n",
        "     blob1  blob2      dt        dist  d_spacetime\n",
        "384  40748  40748   0.000    0.000000     0.000000\n",
        "310  40779  40748  -2.905    5.393453     5.393453\n",
        "256  41285  40748 -33.537  124.067396   124.067396\n",
        "142  40088  40748  15.594  140.999962   140.999962\n",
        "197  41950  40748 -69.131  162.556144   162.556144\n",
        "\n",
        "[5 rows x 5 columns]"
       ]
      },
      {
       "output_type": "stream",
       "stream": "stdout",
       "text": [
        "\n",
        "40387 40387 434.145 746.889 2133.563\n",
        "     blob1  blob2       dt        dist  d_spacetime\n",
        "387  40387  40387    0.000    0.000000     0.000000\n",
        "277  40200  40387    8.071   33.350038    33.350038\n",
        "45   41164  40387  -74.795  195.169165   195.169165\n",
        "12   36633  40387  187.946  237.285593   237.285593\n",
        "177  42194  40387  -97.717  316.371706   316.371706\n",
        "\n",
        "[5 rows x 5 columns]"
       ]
      },
      {
       "output_type": "stream",
       "stream": "stdout",
       "text": [
        "\n",
        "2597 2597 957.383 1497.029 257.153\n",
        "     blob1  blob2      dt        dist  d_spacetime\n",
        "363   2597   2597  -0.066    0.255298     0.255298\n",
        "365   2857   2597 -26.964   89.383115    89.383115\n",
        "269   1629   2597  82.696   91.530224    91.530224\n",
        "16    1634   2597  78.370  109.191766   109.191766\n",
        "133   1469   2597  99.929  109.577288   109.577288\n",
        "\n",
        "[5 rows x 5 columns]"
       ]
      },
      {
       "output_type": "stream",
       "stream": "stdout",
       "text": [
        "\n",
        "38375 38375 1618.654 1105.601 2033.19\n",
        "     blob1  blob2       dt        dist  d_spacetime\n",
        "364  38375  38375    0.000    0.000000     0.000000\n",
        "347  38428  38375   -4.139   49.341390    49.341390\n",
        "14   38796  38375  -44.338  353.173920   353.173920\n",
        "267  42451  38375 -217.106  354.758286   354.758286\n",
        "123  39270  38375  -50.538  372.342651   372.342651\n",
        "\n",
        "[5 rows x 5 columns]"
       ]
      },
      {
       "output_type": "stream",
       "stream": "stdout",
       "text": [
        "\n",
        "55832 55832 701.33 214.477 3014.499\n",
        "     blob1  blob2       dt        dist  d_spacetime\n",
        "206  57139  55832  -61.593  207.229625   207.229625\n",
        "266  64164  55832 -383.702  386.316070   386.316070\n",
        "110  65193  55832 -433.235  434.875028   434.875028\n",
        "246  65458  55832 -437.102  439.632882   439.632882\n",
        "240  65492  55832 -441.568  444.286913   444.286913\n",
        "\n",
        "[5 rows x 5 columns]"
       ]
      },
      {
       "output_type": "stream",
       "stream": "stdout",
       "text": [
        "\n",
        "55923 55923 706.833 195.545 3017.034\n",
        "     blob1  blob2       dt        dist  d_spacetime\n",
        "206  57139  55923  -59.058  221.699603   221.699603\n",
        "266  64164  55923 -381.167  382.783184   382.783184\n",
        "110  65193  55923 -430.700  432.579947   432.579947\n",
        "246  65458  55923 -434.567  437.963633   437.963633\n",
        "240  65492  55923 -439.033  442.704523   442.704523\n",
        "\n",
        "[5 rows x 5 columns]"
       ]
      },
      {
       "output_type": "stream",
       "stream": "stdout",
       "text": [
        "\n",
        "55924 55924 701.178 214.508 3017.034\n",
        "     blob1  blob2       dt        dist  d_spacetime\n",
        "206  57139  55924  -59.058  206.517641   206.517641\n",
        "266  64164  55924 -381.167  383.815998   383.815998\n",
        "110  65193  55924 -430.700  432.362359   432.362359\n",
        "246  65458  55924 -434.567  437.125618   437.125618\n",
        "240  65492  55924 -439.033  441.780573   441.780573\n",
        "\n",
        "[5 rows x 5 columns]"
       ]
      },
      {
       "output_type": "stream",
       "stream": "stdout",
       "text": [
        "\n",
        "11323 11323 639.175 868.635 728.985\n",
        "     blob1  blob2       dt        dist  d_spacetime\n",
        "386  11323  11323    0.000    0.000000     0.000000\n",
        "4     4381  11323   97.945   99.347657    99.347657\n",
        "195   6055  11323  225.862  237.025166   237.025166\n",
        "56    6388  11323  215.746  262.404746   262.404746\n",
        "27   12411  11323  -74.203  363.574097   363.574097\n",
        "\n",
        "[5 rows x 5 columns]"
       ]
      },
      {
       "output_type": "stream",
       "stream": "stdout",
       "text": [
        "\n",
        "1443 1443 1280.575 626.814 154.106\n",
        "     blob1  blob2       dt        dist  d_spacetime\n",
        "383   1443   1443   -0.283    2.284296     2.284296\n",
        "385   1456   1443   -1.413   14.077703    14.077703\n",
        "61    1303   1443   10.990  139.418866   139.418866\n",
        "304   1137   1443   42.584  255.632477   255.632477\n",
        "119   3116   1443 -164.481  262.307861   262.307861\n",
        "\n",
        "[5 rows x 5 columns]"
       ]
      },
      {
       "output_type": "stream",
       "stream": "stdout",
       "text": [
        "\n",
        "55833 55833 709.723 223.056 3014.499\n",
        "     blob1  blob2       dt        dist  d_spacetime\n",
        "206  57139  55833  -61.593  196.706964   196.706964\n",
        "266  64164  55833 -383.702  386.041494   386.041494\n",
        "110  65193  55833 -433.235  434.205617   434.205617\n",
        "246  65458  55833 -437.102  438.575001   438.575001\n",
        "240  65492  55833 -441.568  443.175017   443.175017\n",
        "\n",
        "[5 rows x 5 columns]"
       ]
      },
      {
       "output_type": "stream",
       "stream": "stdout",
       "text": [
        "\n",
        "55926 55926 703.018 208.032 3017.109\n",
        "     blob1  blob2       dt        dist  d_spacetime\n",
        "206  57139  55926  -58.983  211.627217   211.627217\n",
        "266  64164  55926 -381.092  383.283449   383.283449\n",
        "110  65193  55926 -430.625  432.267637   432.267637\n",
        "246  65458  55926 -434.492  437.245164   437.245164\n",
        "240  65492  55926 -438.958  441.930699   441.930699\n",
        "\n",
        "[5 rows x 5 columns]"
       ]
      },
      {
       "output_type": "stream",
       "stream": "stdout",
       "text": [
        "\n",
        "55927 55927 706.67 195.827 3017.2\n",
        "     blob1  blob2       dt        dist  d_spacetime\n",
        "206  57139  55927  -58.892  221.448882   221.448882\n",
        "266  64164  55927 -381.001  382.633047   382.633047\n",
        "110  65193  55927 -430.534  432.410620   432.410620\n",
        "246  65458  55927 -434.401  437.786492   437.786492\n",
        "240  65492  55927 -438.867  442.526355   442.526355\n",
        "\n",
        "[5 rows x 5 columns]"
       ]
      },
      {
       "output_type": "stream",
       "stream": "stdout",
       "text": [
        "\n",
        "645 645 1529.931 1605.333 58.391\n",
        "     blob1  blob2      dt        dist  d_spacetime\n",
        "381    645    645   0.000    0.000000     0.000000\n",
        "331    556    645   6.670   73.340437    73.340437\n",
        "379    784    645 -11.361  118.384072   118.384072\n",
        "237     34    645  51.511  224.699828   224.699828\n",
        "97     270    645  26.609  227.716130   227.716130\n",
        "\n",
        "[5 rows x 5 columns]"
       ]
      },
      {
       "output_type": "stream",
       "stream": "stdout",
       "text": [
        "\n",
        "29285 29285 767.407 1039.478 1561.461\n",
        "     blob1  blob2      dt        dist  d_spacetime\n",
        "67   30336  29285 -55.493   55.534611    55.534611\n",
        "75   29441  29285 -12.397  116.638114   116.638114\n",
        "316  28650  29285  29.485  124.901596   124.901596\n",
        "196  27858  29285  56.161  134.929731   134.929731\n",
        "199  29045  29285   9.803  203.836879   203.836879\n",
        "\n",
        "[5 rows x 5 columns]"
       ]
      },
      {
       "output_type": "stream",
       "stream": "stdout",
       "text": [
        "\n",
        "1456 1456 1274.591 614.15 155.519\n",
        "     blob1  blob2       dt        dist  d_spacetime\n",
        "385   1456   1456    0.000    0.000000     0.000000\n",
        "383   1443   1456    1.130   11.807043    11.807043\n",
        "61    1303   1456   12.403  153.401962   153.401962\n",
        "119   3116   1456 -163.068  250.803221   250.803221\n",
        "304   1137   1456   43.997  261.340984   261.340984\n",
        "\n",
        "[5 rows x 5 columns]"
       ]
      },
      {
       "output_type": "stream",
       "stream": "stdout",
       "text": [
        "\n",
        "50674 50674 732.869 1080.513 2725.958\n",
        "     blob1  blob2       dt        dist  d_spacetime\n",
        "275  49865  50674   43.387   88.590508    88.590508\n",
        "85   47845  50674  161.328  191.453551   191.453551\n",
        "59   46998  50674  204.938  211.862790   211.862790\n",
        "42   47282  50674  182.799  222.105976   222.105976\n",
        "247  48018  50674  151.698  228.207753   228.207753\n",
        "\n",
        "[5 rows x 5 columns]"
       ]
      },
      {
       "output_type": "stream",
       "stream": "stdout",
       "text": [
        "\n",
        "43321 43321 897.652 1365.948 2294.962\n",
        "     blob1  blob2      dt        dist  d_spacetime\n",
        "371  43321  43321   0.000    0.000000     0.000000\n",
        "315  43543  43321 -15.768  121.957397   121.957397\n",
        "40   42560  43321  20.799  127.883196   127.883196\n",
        "281  42511  43321  40.671  129.319158   129.319158\n",
        "244  42942  43321  17.035  137.938640   137.938640\n",
        "\n",
        "[5 rows x 5 columns]"
       ]
      },
      {
       "output_type": "stream",
       "stream": "stdout",
       "text": [
        "\n",
        "66376 66376 793.608 1049.364 3498.402\n",
        "     blob1  blob2      dt       dist  d_spacetime\n",
        "258  66343  66376   0.467   1.413971     1.413971\n",
        "382  66376  66376  -0.070   2.750050     2.750050\n",
        "233  66161  66376   7.500  26.707373    26.707373\n",
        "324  66258  66376   6.566  27.563626    27.563626\n",
        "259  66658  66376 -16.867  31.053417    31.053417\n",
        "\n",
        "[5 rows x 5 columns]"
       ]
      },
      {
       "output_type": "stream",
       "stream": "stdout",
       "text": [
        "\n",
        "55928 55928 701.073 214.754 3017.2\n",
        "     blob1  blob2       dt        dist  d_spacetime\n",
        "206  57139  55928  -58.892  206.289812   206.289812\n",
        "266  64164  55928 -381.001  383.674607   383.674607\n",
        "110  65193  55928 -430.534  432.202873   432.202873\n",
        "246  65458  55928 -434.401  436.958642   436.958642\n",
        "240  65492  55928 -438.867  441.612511   441.612511\n",
        "\n",
        "[5 rows x 5 columns]"
       ]
      },
      {
       "output_type": "stream",
       "stream": "stdout",
       "text": [
        "\n",
        "29286 29286 782.103 1053.977 1561.461\n",
        "     blob1  blob2      dt        dist  d_spacetime\n",
        "67   30336  29286 -55.493   59.915588    59.915588\n",
        "75   29441  29286 -12.397  124.834495   124.834495\n",
        "316  28650  29286  29.485  139.419294   139.419294\n",
        "196  27858  29286  56.161  153.598845   153.598845\n",
        "199  29045  29286   9.803  205.746098   205.746098\n",
        "\n",
        "[5 rows x 5 columns]"
       ]
      },
      {
       "output_type": "stream",
       "stream": "stdout",
       "text": [
        "\n",
        "36613 36613 1568.797 1869.215 1937.788\n",
        "     blob1  blob2      dt        dist  d_spacetime\n",
        "376  36613  36613  -0.071    4.159610     4.159610\n",
        "167  36475  36613   8.959  107.634495   107.634495\n",
        "80   35344  36613  66.298  228.368109   228.368109\n",
        "272  35709  36613  47.130  246.109017   246.109017\n",
        "340  35617  36613  53.005  247.052162   247.052162\n",
        "\n",
        "[5 rows x 5 columns]"
       ]
      },
      {
       "output_type": "stream",
       "stream": "stdout",
       "text": [
        "\n",
        "21902 21902 1140.506 1351.271 1241.489\n",
        "     blob1  blob2       dt        dist  d_spacetime\n",
        "378  21902  21902   -0.205    0.515280     0.515280\n",
        "78   19862  21902   87.251   94.963571    94.963571\n",
        "253  22858  21902  -46.761  115.294731   115.294731\n",
        "198  25053  21902 -155.971  170.143418   170.143418\n",
        "25   26426  21902 -211.138  212.718069   212.718069\n",
        "\n",
        "[5 rows x 5 columns]"
       ]
      },
      {
       "output_type": "stream",
       "stream": "stdout",
       "text": [
        "\n",
        "50673 50673 730.862 1058.785 2725.958\n",
        "     blob1  blob2       dt        dist  d_spacetime\n",
        "275  49865  50673   43.387   70.422303    70.422303\n",
        "85   47845  50673  161.328  180.647177   180.647177\n",
        "42   47282  50673  182.799  210.616825   210.616825\n",
        "59   46998  50673  204.938  215.857485   215.857485\n",
        "247  48018  50673  151.698  231.867139   231.867139\n",
        "\n",
        "[5 rows x 5 columns]"
       ]
      },
      {
       "output_type": "stream",
       "stream": "stdout",
       "text": [
        "\n",
        "250 0 1650.142 2232.398 22.772\n",
        "     blob1  blob2       dt        dist  d_spacetime\n",
        "131    216      0    2.179   30.728228    30.728228\n",
        "117    210      0   -8.003  245.559804   245.559804\n",
        "97     270      0   -9.010  417.298534   417.298534\n",
        "229   1435      0 -128.017  417.438885   417.438885\n",
        "331    556      0  -28.949  566.263987   566.263987\n",
        "\n",
        "[5 rows x 5 columns]"
       ]
      },
      {
       "output_type": "stream",
       "stream": "stdout",
       "text": [
        "\n"
       ]
      }
     ],
     "prompt_number": 31
    },
    {
     "cell_type": "markdown",
     "metadata": {},
     "source": [
      "these are two cells that aren't part of the workflow but that were used to sanity check the processing"
     ]
    },
    {
     "cell_type": "code",
     "collapsed": false,
     "input": [
      "def double_check_duration(experiment, graph1, graph2, node_ids):\n",
      "    frame_times = experiment.frame_times\n",
      "    step_data, durations = [], []\n",
      "    good_nodes = []\n",
      "    bad_nodes = []\n",
      "    for node in node_ids:\n",
      "        node_data = graph2.node[node]\n",
      "        bf, df = node_data['born'], node_data['died']\n",
      "        components = node_data.get('components', [])\n",
      "        \n",
      "        node_checks_out = True\n",
      "        for c in components:\n",
      "            nd = graph1.node[c]\n",
      "            cb, cd = nd['born'], nd['died']\n",
      "            if cb < bf:\n",
      "                node_checks_out = False\n",
      "            if cd > df:\n",
      "                node_checks_out = False\n",
      "        if node_checks_out:\n",
      "            good_nodes.append(node)\n",
      "        else:\n",
      "            bad_nodes.append(node)\n",
      "    print len(bad_nodes), 'bad nodes'\n",
      "    print len(good_nodes), 'good nodes'\n",
      "                \n",
      "\n",
      "double_check_duration(experiment, original_graph, graph2, graph2.nodes(data=False))"
     ],
     "language": "python",
     "metadata": {},
     "outputs": [
      {
       "ename": "KeyError",
       "evalue": "'born'",
       "output_type": "pyerr",
       "traceback": [
        "\u001b[1;31m---------------------------------------------------------------------------\u001b[0m\n\u001b[1;31mKeyError\u001b[0m                                  Traceback (most recent call last)",
        "\u001b[1;32m<ipython-input-32-4f7ab433fb66>\u001b[0m in \u001b[0;36m<module>\u001b[1;34m()\u001b[0m\n\u001b[0;32m     25\u001b[0m \u001b[1;33m\u001b[0m\u001b[0m\n\u001b[0;32m     26\u001b[0m \u001b[1;33m\u001b[0m\u001b[0m\n\u001b[1;32m---> 27\u001b[1;33m \u001b[0mdouble_check_duration\u001b[0m\u001b[1;33m(\u001b[0m\u001b[0mexperiment\u001b[0m\u001b[1;33m,\u001b[0m \u001b[0moriginal_graph\u001b[0m\u001b[1;33m,\u001b[0m \u001b[0mgraph2\u001b[0m\u001b[1;33m,\u001b[0m \u001b[0mgraph2\u001b[0m\u001b[1;33m.\u001b[0m\u001b[0mnodes\u001b[0m\u001b[1;33m(\u001b[0m\u001b[0mdata\u001b[0m\u001b[1;33m=\u001b[0m\u001b[0mFalse\u001b[0m\u001b[1;33m)\u001b[0m\u001b[1;33m)\u001b[0m\u001b[1;33m\u001b[0m\u001b[0m\n\u001b[0m",
        "\u001b[1;32m<ipython-input-32-4f7ab433fb66>\u001b[0m in \u001b[0;36mdouble_check_duration\u001b[1;34m(experiment, graph1, graph2, node_ids)\u001b[0m\n\u001b[0;32m      6\u001b[0m     \u001b[1;32mfor\u001b[0m \u001b[0mnode\u001b[0m \u001b[1;32min\u001b[0m \u001b[0mnode_ids\u001b[0m\u001b[1;33m:\u001b[0m\u001b[1;33m\u001b[0m\u001b[0m\n\u001b[0;32m      7\u001b[0m         \u001b[0mnode_data\u001b[0m \u001b[1;33m=\u001b[0m \u001b[0mgraph2\u001b[0m\u001b[1;33m.\u001b[0m\u001b[0mnode\u001b[0m\u001b[1;33m[\u001b[0m\u001b[0mnode\u001b[0m\u001b[1;33m]\u001b[0m\u001b[1;33m\u001b[0m\u001b[0m\n\u001b[1;32m----> 8\u001b[1;33m         \u001b[0mbf\u001b[0m\u001b[1;33m,\u001b[0m \u001b[0mdf\u001b[0m \u001b[1;33m=\u001b[0m \u001b[0mnode_data\u001b[0m\u001b[1;33m[\u001b[0m\u001b[1;34m'born'\u001b[0m\u001b[1;33m]\u001b[0m\u001b[1;33m,\u001b[0m \u001b[0mnode_data\u001b[0m\u001b[1;33m[\u001b[0m\u001b[1;34m'died'\u001b[0m\u001b[1;33m]\u001b[0m\u001b[1;33m\u001b[0m\u001b[0m\n\u001b[0m\u001b[0;32m      9\u001b[0m         \u001b[0mcomponents\u001b[0m \u001b[1;33m=\u001b[0m \u001b[0mnode_data\u001b[0m\u001b[1;33m.\u001b[0m\u001b[0mget\u001b[0m\u001b[1;33m(\u001b[0m\u001b[1;34m'components'\u001b[0m\u001b[1;33m,\u001b[0m \u001b[1;33m[\u001b[0m\u001b[1;33m]\u001b[0m\u001b[1;33m)\u001b[0m\u001b[1;33m\u001b[0m\u001b[0m\n\u001b[0;32m     10\u001b[0m \u001b[1;33m\u001b[0m\u001b[0m\n",
        "\u001b[1;31mKeyError\u001b[0m: 'born'"
       ]
      }
     ],
     "prompt_number": 32
    },
    {
     "cell_type": "code",
     "collapsed": false,
     "input": [
      "print len(moved_bids), 'nodes moved over threshold in origional graph'\n",
      "graph3 = original_graph.copy()\n",
      "print 'orig', len(find_nodes_containing_bids(graph3, moved_bids))\n",
      "collider.remove_nodes_outside_roi(graph3, experiment)\n",
      "print 'roi', len(find_nodes_containing_bids(graph3, moved_bids))\n",
      "collider.remove_blank_nodes(graph3, experiment)\n",
      "print 'blank', len(find_nodes_containing_bids(graph3, moved_bids))\n",
      "collider.removal_suite(graph3) #, assimilate=-1)\n",
      "print 'suite', len(find_nodes_containing_bids(graph3, moved_bids))\n",
      "bridge_gaps(experiment, graph3, threshold=0.001)\n",
      "print 'gaps', len(find_nodes_containing_bids(graph3, moved_bids))\n",
      "\n",
      "steps3, durations3 = calculate_duration_data_from_graph(experiment, graph3, graph3.nodes(data=False))\n",
      "\n",
      "fig, ax = plt.subplots()\n",
      "step_plot(ax, steps3)\n",
      "ax.set_title('second try at figuring out graph')\n",
      "ax.set_xlabel('minutes')\n",
      "\n",
      "fig, ax = plt.subplots()\n",
      "make_cdf(ax, durations3)\n",
      "\n",
      "plt.show()\n",
      "\n"
     ],
     "language": "python",
     "metadata": {},
     "outputs": []
    },
    {
     "cell_type": "code",
     "collapsed": false,
     "input": [],
     "language": "python",
     "metadata": {},
     "outputs": []
    },
    {
     "cell_type": "code",
     "collapsed": false,
     "input": [],
     "language": "python",
     "metadata": {},
     "outputs": []
    },
    {
     "cell_type": "code",
     "collapsed": false,
     "input": [],
     "language": "python",
     "metadata": {},
     "outputs": []
    }
   ],
   "metadata": {}
  }
 ]
}