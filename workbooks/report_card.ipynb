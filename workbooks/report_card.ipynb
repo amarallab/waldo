{
 "metadata": {
  "name": "",
  "signature": "sha256:023d8a5e45c31b5230607545e2d9cfb4a9d84a93bd8cd886259c20fc67818d38"
 },
 "nbformat": 3,
 "nbformat_minor": 0,
 "worksheets": [
  {
   "cells": [
    {
     "cell_type": "code",
     "collapsed": false,
     "input": [
      "%load_ext autoreload\n",
      "%autoreload 2\n",
      "%matplotlib inline"
     ],
     "language": "python",
     "metadata": {},
     "outputs": []
    },
    {
     "cell_type": "code",
     "collapsed": false,
     "input": [
      "#from __future__ import print_function, absolute_import, unicode_literals, division\n",
      "#import six\n",
      "#from six.moves import (zip, filter, map, reduce, input, range)\n",
      "\n",
      "import pathcustomize\n",
      "\n",
      "import sys\n",
      "import os\n",
      "import pathlib\n",
      "import pickle\n",
      "import platform\n",
      "print('Python {} ({}) [{}] on {}'.format(platform.python_version(), ', '.join(platform.python_build()), \n",
      "                                       platform.python_compiler(), sys.platform))\n",
      "\n",
      "import pandas as pd\n",
      "\n",
      "\n",
      "import matplotlib.pyplot as plt\n",
      "import prettyplotlib as ppl\n",
      "import matplotlib.gridspec as gridspec\n",
      "import matplotlib.patches as patches\n",
      "import matplotlib.path as path\n",
      "from mpltools import style\n",
      "from mpltools import layout\n",
      "from statsmodels.distributions.empirical_distribution import ECDF\n",
      "\n",
      "\n",
      "from conf import settings\n",
      "from wio.experiment import Experiment\n",
      "import wio.file_manager as fm\n",
      "import report_card\n",
      "import collider\n",
      "import tape as tp\n",
      "\n",
      "DATA_DIR = settings.LOGISTICS['filesystem_data']\n"
     ],
     "language": "python",
     "metadata": {},
     "outputs": []
    },
    {
     "cell_type": "heading",
     "level": 1,
     "metadata": {},
     "source": [
      "ALL FUNCTIONS"
     ]
    },
    {
     "cell_type": "code",
     "collapsed": false,
     "input": [
      "def bridge_gaps(experiment, graph, threshold=0.001):\n",
      "    taper = tp.Taper(experiment=experiment, graph=graph)\n",
      "    start, end = taper.find_start_and_end_nodes()\n",
      "    gaps = taper.score_potential_gaps(start, end)\n",
      "    gt = taper.greedy_tape(gaps, threshold=threshold, add_edges=True)\n",
      "    graph = taper._graph"
     ],
     "language": "python",
     "metadata": {},
     "outputs": []
    },
    {
     "cell_type": "code",
     "collapsed": false,
     "input": [
      "def step_plot(ax, step_df, true_num=30, only_best=False):\n",
      "\n",
      "    steps = []\n",
      "    n_steps = len(step_df)\n",
      "\n",
      "    xs = list(step_df['t0'])\n",
      "    widths = list(step_df['lifespan'])\n",
      "    height = 1\n",
      "\n",
      "    color_cycle = ax._get_lines.color_cycle\n",
      "    color1 = color_cycle.next()\n",
      "    color2 = color_cycle.next()\n",
      "    for y, (x, width) in enumerate(zip(xs, widths)):\n",
      "        steps.append(patches.Rectangle((x,y), height=height, width=width,\n",
      "                                       fill=True, fc=color1, ec=color1))\n",
      "    for step in steps:\n",
      "        ax.add_patch(step)\n",
      "\n",
      "    xmax = 60\n",
      "    ideal = patches.Rectangle((0,0), height=true_num, width=xmax,\n",
      "                              fill=True, ec=color2, fc=color2,\n",
      "                              alpha=0.5)\n",
      "\n",
      "    ax.add_patch(ideal)\n",
      "    ax.plot([0], color=color1, label='actual')\n",
      "    ax.plot([0], color=color2, alpha=0.5, label='ideal')\n",
      "    ax.set_xlim([0, xmax])\n",
      "    ax.set_ylim([0, n_steps+1])\n",
      "\n",
      "    \n",
      "def top_step_plot(ax, step_df, best=30):\n",
      "\n",
      "    best = step_df.sort('lifespan', inplace=True)\n",
      "    print best.head()\n",
      "    \n",
      "    \n",
      "    steps = []\n",
      "    n_steps = len(step_df)\n",
      "\n",
      "    xs = list(step_df['t0'])\n",
      "    widths = list(step_df['lifespan'])\n",
      "    height = 1\n",
      "\n",
      "    color_cycle = ax._get_lines.color_cycle\n",
      "    color1 = color_cycle.next()\n",
      "    color2 = color_cycle.next()\n",
      "    for y, (x, width) in enumerate(zip(xs, widths)):\n",
      "        steps.append(patches.Rectangle((x,y), height=height, width=width,\n",
      "                                       fill=True, fc=color1, ec=color1))\n",
      "    for step in steps:\n",
      "        ax.add_patch(step)\n",
      "\n",
      "    xmax = 60\n",
      "    ideal = patches.Rectangle((0,0), height=true_num, width=xmax,\n",
      "                              fill=True, ec=color2, fc=color2,\n",
      "                              alpha=0.5)\n",
      "\n",
      "    ax.add_patch(ideal)\n",
      "    ax.plot([0], color=color1, label='actual')\n",
      "    ax.plot([0], color=color2, alpha=0.5, label='ideal')\n",
      "    ax.set_xlim([0, xmax])\n",
      "    ax.set_ylim([0, n_steps+1])\n",
      "    "
     ],
     "language": "python",
     "metadata": {},
     "outputs": []
    },
    {
     "cell_type": "code",
     "collapsed": false,
     "input": [
      "def calculate_duration_data_from_graph(experiment, graph, node_ids=[]):\n",
      "    if not node_ids:\n",
      "        node_ids = graph.nodes(data=False)\n",
      "    \n",
      "    frame_times = experiment.frame_times\n",
      "    step_data, durations = [], []\n",
      "    for node in node_ids:\n",
      "        node_data = graph.node[node]\n",
      "        bf, df = node_data['born_f'], node_data['died_f']\n",
      "        t0 = frame_times[bf - 1]\n",
      "        tN = frame_times[df - 1]\n",
      "        step_data.append({'bid':node, 't0':t0, 'tN':tN, 'lifespan':tN-t0})\n",
      "\n",
      "    steps = pd.DataFrame(step_data)\n",
      "    steps.set_index('bid', inplace=True)\n",
      "    steps = steps / 60.0   # convert to minutes.\n",
      "    steps.sort('t0', inplace=True)\n",
      "    steps = steps[['t0', 'tN', 'lifespan']]\n",
      "    durations = np.array(steps['lifespan'])\n",
      "    return steps, durations\n"
     ],
     "language": "python",
     "metadata": {},
     "outputs": []
    },
    {
     "cell_type": "code",
     "collapsed": false,
     "input": [
      "def make_cdf(ax, durations_list, label=''):\n",
      "    x = np.linspace(0, 30, 1000)\n",
      "    ecdf = ECDF(np.array(durations_list))\n",
      "    cdf = ecdf(x)\n",
      "    ax.plot(x, cdf, label=label)\n",
      "    ax.set_xlabel('minutes')\n",
      "    ax.set_ylabel('CDF')\n"
     ],
     "language": "python",
     "metadata": {},
     "outputs": []
    },
    {
     "cell_type": "code",
     "collapsed": false,
     "input": [
      "def find_nodes_containing_bids(graph, bids):\n",
      "    nodes_with_moved_bids = []\n",
      "    for node in graph:\n",
      "        if node in bids:\n",
      "            nodes_with_moved_bids.append(node)\n",
      "            continue\n",
      "        for c in graph.node[node].get('components', []):\n",
      "            if c in bids:\n",
      "                nodes_with_moved_bids.append(node)\n",
      "                break\n",
      "    return nodes_with_moved_bids"
     ],
     "language": "python",
     "metadata": {},
     "outputs": []
    },
    {
     "cell_type": "code",
     "collapsed": false,
     "input": [
      "def show_reasons(df):\n",
      "\n",
      "    df = df.copy()\n",
      "    df['reason'] = 'unknown'\n",
      "    reasons = ['unknown', 'on_edge', 'id_change', 'outside-roi', 'timing']\n",
      "    for reason in reasons[1:]:\n",
      "        df['reason'][df[reason]] = reason\n",
      "        print reason, len(df['reason'][df[reason]])\n",
      "        \n",
      "    counts = {}\n",
      "    for reason in reasons:\n",
      "        counts[reason] = len(df[df['reason'] == reason])\n",
      "        \n",
      "    unknown_ids = list(df[df['reason'] == 'unknown'].index)\n",
      "    id_change_ids = list(df[df['reason'] == 'id_change'].index)\n",
      "    print counts\n",
      "    return unknown_ids, id_change_ids"
     ],
     "language": "python",
     "metadata": {},
     "outputs": []
    },
    {
     "cell_type": "heading",
     "level": 1,
     "metadata": {},
     "source": [
      "Generate Report Card"
     ]
    },
    {
     "cell_type": "code",
     "collapsed": false,
     "input": [
      "#ex_id = '20130614_120518'\n",
      "ex_id = '20130318_131111'\n",
      "ex_id = '20130702_135704' # testset\n",
      "experiment = Experiment(experiment_id=ex_id, data_root=DATA_DIR)\n",
      "original_graph = experiment.graph\n",
      "graph = original_graph.copy()"
     ],
     "language": "python",
     "metadata": {},
     "outputs": []
    },
    {
     "cell_type": "code",
     "collapsed": false,
     "input": [
      "graph2, rc = report_card.create_report_card(experiment, graph.copy())"
     ],
     "language": "python",
     "metadata": {},
     "outputs": []
    },
    {
     "cell_type": "code",
     "collapsed": false,
     "input": [
      "rc"
     ],
     "language": "python",
     "metadata": {},
     "outputs": []
    },
    {
     "cell_type": "code",
     "collapsed": false,
     "input": [
      "starts1, ends1 = report_card.determine_lost_and_found_causes(experiment, graph)\n",
      "print\n",
      "print 'starts'\n",
      "show_reasons(starts1)\n",
      "print 'ends'\n",
      "show_reasons(ends1)"
     ],
     "language": "python",
     "metadata": {},
     "outputs": []
    },
    {
     "cell_type": "code",
     "collapsed": false,
     "input": [
      "starts, ends = report_card.determine_lost_and_found_causes(experiment, graph2)\n",
      "print\n",
      "print 'starts'\n",
      "unknown_ids, id_change_ids = show_reasons(starts)\n",
      "print 'ends'\n",
      "unknown_ids, id_change_ids = show_reasons(ends)"
     ],
     "language": "python",
     "metadata": {},
     "outputs": []
    },
    {
     "cell_type": "code",
     "collapsed": false,
     "input": [
      "unknown_ids, id_change_ids = show_reasons(ends)\n",
      "print unknown_ids\n",
      "print id_change_ids\n",
      "unk = pd.DataFrame(unknown_ids)\n",
      "name = '{eid}-unknown_ids.csv'.format(eid=ex_id)\n",
      "print name\n",
      "unk.to_csv(name, index=False, header=False)\n",
      "\n",
      "col = pd.DataFrame(id_change_ids)\n",
      "name = '{eid}-unresolved_collision_ids.csv'.format(eid=ex_id)\n",
      "col.to_csv(name, index=False, header=False)\n"
     ],
     "language": "python",
     "metadata": {},
     "outputs": []
    },
    {
     "cell_type": "code",
     "collapsed": false,
     "input": [
      "graph2, rc = report_card.collision_iteration(experiment, graph.copy())"
     ],
     "language": "python",
     "metadata": {},
     "outputs": []
    },
    {
     "cell_type": "code",
     "collapsed": false,
     "input": [
      "rc"
     ],
     "language": "python",
     "metadata": {},
     "outputs": []
    },
    {
     "cell_type": "code",
     "collapsed": false,
     "input": [
      "starts, ends = report_card.determine_lost_and_found_causes(experiment, graph2)\n",
      "print\n",
      "print 'starts'\n",
      "show_reasons(starts)\n",
      "print 'ends'\n",
      "show_reasons(ends)"
     ],
     "language": "python",
     "metadata": {},
     "outputs": []
    },
    {
     "cell_type": "markdown",
     "metadata": {},
     "source": [
      "check if nodes that moved in raw data are still in the final graph"
     ]
    },
    {
     "cell_type": "code",
     "collapsed": false,
     "input": [
      "min_move = 2\n",
      "move = experiment.prepdata.load('moved')\n",
      "moved_bids = list(set(move[move['bl_moved'] >= min_move]['bid']))\n",
      "\n",
      "print len(moved_bids), 'nodes moved over threshold in origional graph'\n",
      "print len(find_nodes_containing_bids(original_graph, moved_bids)), 'check. this number should be same as first'\n",
      "\n",
      "new_moved_bids = find_nodes_containing_bids(graph2, moved_bids)\n",
      "print len(new_moved_bids), 'nodes moved over threshold in final graph'"
     ],
     "language": "python",
     "metadata": {},
     "outputs": []
    },
    {
     "cell_type": "markdown",
     "metadata": {},
     "source": [
      "Create step plots for before and after we 'fix' the data"
     ]
    },
    {
     "cell_type": "code",
     "collapsed": false,
     "input": [
      "steps0, durations0 = calculate_duration_data_from_graph(experiment, original_graph, original_graph.nodes(data=False))\n",
      "\n",
      "steps, durations = calculate_duration_data_from_graph(experiment, original_graph, moved_bids)\n",
      "\n",
      "fig, ax = plt.subplots()\n",
      "step_plot(ax, steps)\n",
      "ax.set_title('original blobs moving > 2 BL')\n",
      "ax.set_xlabel('minutes')\n",
      "plt.show()\n",
      "\n",
      "steps2, durations2 = calculate_duration_data_from_graph(experiment, graph2, graph2.nodes(data=False))\n",
      "\n",
      "fig, ax = plt.subplots()\n",
      "step_plot(ax, steps2)\n",
      "ax.set_title('all blobs in final graph')\n",
      "ax.set_xlabel('minutes')\n",
      "plt.show()\n",
      "\n",
      "moved_steps2, moved_durations2 = calculate_duration_data_from_graph(experiment, graph2, new_moved_bids)\n",
      "\n",
      "fig, ax = plt.subplots()\n",
      "step_plot(ax, moved_steps2)\n",
      "ax.set_title('original blobs moving > 2 bl shown from final graph data')\n",
      "ax.set_xlabel('minutes')\n",
      "plt.show()"
     ],
     "language": "python",
     "metadata": {},
     "outputs": []
    },
    {
     "cell_type": "markdown",
     "metadata": {},
     "source": [
      "create CDF showing the duration difference"
     ]
    },
    {
     "cell_type": "code",
     "collapsed": false,
     "input": [
      "fig, ax = plt.subplots()\n",
      "make_cdf(ax, durations0, label= 'all original')\n",
      "make_cdf(ax, durations, label= 'original > 2 BL')\n",
      "make_cdf(ax, durations2, label='all final nodes')\n",
      "make_cdf(ax, moved_durations2, label='final nodes that origionally moved > 2 BL')\n",
      "ax.legend(loc='lower right')\n",
      "plt.show()"
     ],
     "language": "python",
     "metadata": {},
     "outputs": []
    },
    {
     "cell_type": "markdown",
     "metadata": {},
     "source": [
      "TODO: create plots showing how applying the same threshold to our data before and after fixing it\n",
      "    changes our True Positive / False Positives / False Negative rates"
     ]
    },
    {
     "cell_type": "code",
     "collapsed": false,
     "input": [
      "#TODO format this to work for graph based data.\n",
      "def calculate_stats_for_bid_lists(bid_lists, prep_data):\n",
      "    \n",
      "    base_accuracy = prep_data.load('accuracy')\n",
      "    matches = prep_data.load('matches')\n",
      "    counts, tps, fps, fns = [], [], [], []\n",
      "    for bids in bid_lists:\n",
      "        filtered_accuracy = ea.recalculate_accuracy(matches, base_accuracy, bids=bids)\n",
      "        counts.append(len(bids))\n",
      "        tp = filtered_accuracy['true-pos'].mean()\n",
      "        fp = filtered_accuracy['false-pos'].mean()\n",
      "        fn = filtered_accuracy['false-neg'].mean()\n",
      "        tps.append(tp)\n",
      "        fps.append(fp)\n",
      "        fns.append(fn)\n",
      "\n",
      "    tps = np.array(tps)\n",
      "    fps = np.array(fps)\n",
      "    fns = np.array(fns)\n",
      "    totals = fns + tps\n",
      "    tps_p = tps / totals * 100\n",
      "    fps_p = fps / totals * 100\n",
      "    fns_p = fns / totals * 100\n",
      "\n",
      "    print('true counts=', np.mean(totals))\n",
      "\n",
      "    data = pd.DataFrame([tps_p, fns_p, fps_p], index=['TP', 'FN', 'FP']).T\n",
      "    counts = pd.DataFrame(counts, columns=['counts'])\n",
      "    return data, counts"
     ],
     "language": "python",
     "metadata": {},
     "outputs": []
    },
    {
     "cell_type": "code",
     "collapsed": false,
     "input": [],
     "language": "python",
     "metadata": {},
     "outputs": []
    },
    {
     "cell_type": "code",
     "collapsed": false,
     "input": [],
     "language": "python",
     "metadata": {},
     "outputs": []
    },
    {
     "cell_type": "heading",
     "level": 1,
     "metadata": {},
     "source": [
      "Error Checking Cells"
     ]
    },
    {
     "cell_type": "markdown",
     "metadata": {},
     "source": [
      "these are two cells that aren't part of the workflow but that were used to sanity check the processing"
     ]
    },
    {
     "cell_type": "code",
     "collapsed": false,
     "input": [
      "def double_check_duration(experiment, graph1, graph2, node_ids):\n",
      "    frame_times = experiment.frame_times\n",
      "    step_data, durations = [], []\n",
      "    good_nodes = []\n",
      "    bad_nodes = []\n",
      "    for node in node_ids:\n",
      "        node_data = graph2.node[node]\n",
      "        bf, df = node_data['born'], node_data['died']\n",
      "        components = node_data.get('components', [])\n",
      "        \n",
      "        node_checks_out = True\n",
      "        for c in components:\n",
      "            nd = graph1.node[c]\n",
      "            cb, cd = nd['born'], nd['died']\n",
      "            if cb < bf:\n",
      "                node_checks_out = False\n",
      "            if cd > df:\n",
      "                node_checks_out = False\n",
      "        if node_checks_out:\n",
      "            good_nodes.append(node)\n",
      "        else:\n",
      "            bad_nodes.append(node)\n",
      "    print len(bad_nodes), 'bad nodes'\n",
      "    print len(good_nodes), 'good nodes'\n",
      "                \n",
      "\n",
      "double_check_duration(experiment, original_graph, graph2, graph2.nodes(data=False))"
     ],
     "language": "python",
     "metadata": {},
     "outputs": []
    },
    {
     "cell_type": "code",
     "collapsed": false,
     "input": [
      "print len(moved_bids), 'nodes moved over threshold in origional graph'\n",
      "graph3 = original_graph.copy()\n",
      "print 'orig', len(find_nodes_containing_bids(graph3, moved_bids))\n",
      "collider.remove_nodes_outside_roi(graph3, experiment)\n",
      "print 'roi', len(find_nodes_containing_bids(graph3, moved_bids))\n",
      "collider.remove_blank_nodes(graph3, experiment)\n",
      "print 'blank', len(find_nodes_containing_bids(graph3, moved_bids))\n",
      "collider.removal_suite(graph3) #, assimilate=-1)\n",
      "print 'suite', len(find_nodes_containing_bids(graph3, moved_bids))\n",
      "bridge_gaps(experiment, graph3, threshold=0.001)\n",
      "print 'gaps', len(find_nodes_containing_bids(graph3, moved_bids))\n",
      "\n",
      "steps3, durations3 = calculate_duration_data_from_graph(experiment, graph3, graph3.nodes(data=False))\n",
      "\n",
      "fig, ax = plt.subplots()\n",
      "step_plot(ax, steps3)\n",
      "ax.set_title('second try at figuring out graph')\n",
      "ax.set_xlabel('minutes')\n",
      "\n",
      "fig, ax = plt.subplots()\n",
      "make_cdf(ax, durations3)\n",
      "\n",
      "plt.show()\n",
      "\n"
     ],
     "language": "python",
     "metadata": {},
     "outputs": []
    },
    {
     "cell_type": "code",
     "collapsed": false,
     "input": [],
     "language": "python",
     "metadata": {},
     "outputs": []
    },
    {
     "cell_type": "code",
     "collapsed": false,
     "input": [],
     "language": "python",
     "metadata": {},
     "outputs": []
    },
    {
     "cell_type": "code",
     "collapsed": false,
     "input": [],
     "language": "python",
     "metadata": {},
     "outputs": []
    }
   ],
   "metadata": {}
  }
 ]
}