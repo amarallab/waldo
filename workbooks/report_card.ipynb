{
 "metadata": {
  "name": "",
  "signature": "sha256:c34f112029543c71bf73ffd119693d3ecb84de7ed8c60d30442c118ba99f9f33"
 },
 "nbformat": 3,
 "nbformat_minor": 0,
 "worksheets": [
  {
   "cells": [
    {
     "cell_type": "code",
     "collapsed": false,
     "input": [
      "%load_ext autoreload\n",
      "%autoreload 2\n",
      "%matplotlib inline"
     ],
     "language": "python",
     "metadata": {},
     "outputs": [],
     "prompt_number": 1
    },
    {
     "cell_type": "code",
     "collapsed": false,
     "input": [
      "#from __future__ import print_function, absolute_import, unicode_literals, division\n",
      "#import six\n",
      "#from six.moves import (zip, filter, map, reduce, input, range)\n",
      "\n",
      "import pathcustomize\n",
      "\n",
      "import sys\n",
      "import os\n",
      "import pathlib\n",
      "import pickle\n",
      "import platform\n",
      "print('Python {} ({}) [{}] on {}'.format(platform.python_version(), ', '.join(platform.python_build()), \n",
      "                                       platform.python_compiler(), sys.platform))\n",
      "\n",
      "import pandas as pd\n",
      "import math\n",
      "\n",
      "import matplotlib.pyplot as plt\n",
      "import prettyplotlib as ppl\n",
      "import matplotlib.gridspec as gridspec\n",
      "import matplotlib.patches as patches\n",
      "import matplotlib.path as path\n",
      "from mpltools import style\n",
      "from mpltools import layout\n",
      "from statsmodels.distributions.empirical_distribution import ECDF\n",
      "\n",
      "from waldo.conf import settings\n",
      "from waldo.wio import Experiment\n",
      "#from waldo.file_manager import fm\n",
      "from waldo import report_card\n",
      "from waldo import collider\n",
      "from waldo import tape as tp\n",
      "\n",
      "DATA_DIR = settings.LOGISTICS['filesystem_data']\n",
      "style.use('ggplot')"
     ],
     "language": "python",
     "metadata": {},
     "outputs": [
      {
       "output_type": "stream",
       "stream": "stdout",
       "text": [
        "Python 2.7.8 (default, Jul 31 2014 17:07:51) [GCC 4.8.2] on linux2\n"
       ]
      }
     ],
     "prompt_number": 2
    },
    {
     "cell_type": "heading",
     "level": 1,
     "metadata": {},
     "source": [
      "ALL FUNCTIONS"
     ]
    },
    {
     "cell_type": "code",
     "collapsed": false,
     "input": [
      "def bridge_gaps(experiment, graph, threshold=0.001):\n",
      "    taper = tp.Taper(experiment=experiment, graph=graph)\n",
      "    start, end = taper.find_start_and_end_nodes()\n",
      "    gaps = taper.score_potential_gaps(start, end)\n",
      "    gt = taper.greedy_tape(gaps, threshold=threshold, add_edges=True)\n",
      "    graph = taper._graph"
     ],
     "language": "python",
     "metadata": {},
     "outputs": [],
     "prompt_number": 3
    },
    {
     "cell_type": "code",
     "collapsed": false,
     "input": [
      "def step_plot(ax, step_df, true_num=30, only_best=False):\n",
      "\n",
      "    steps = []\n",
      "    n_steps = len(step_df)\n",
      "\n",
      "    xs = list(step_df['t0'])\n",
      "    widths = list(step_df['lifespan'])\n",
      "    height = 1\n",
      "\n",
      "    color_cycle = ax._get_lines.color_cycle\n",
      "    color1 = color_cycle.next()\n",
      "    color2 = color_cycle.next()\n",
      "    for y, (x, width) in enumerate(zip(xs, widths)):\n",
      "        steps.append(patches.Rectangle((x,y), height=height, width=width,\n",
      "                                       fill=True, fc=color1, ec=color1))\n",
      "    for step in steps:\n",
      "        ax.add_patch(step)\n",
      "\n",
      "    xmax = 60\n",
      "    ideal = patches.Rectangle((0,0), height=true_num, width=xmax,\n",
      "                              fill=True, ec=color2, fc=color2,\n",
      "                              alpha=0.5)\n",
      "\n",
      "    ax.add_patch(ideal)\n",
      "    ax.plot([0], color=color1, label='actual')\n",
      "    ax.plot([0], color=color2, alpha=0.5, label='ideal')\n",
      "    ax.set_xlim([0, xmax])\n",
      "    ax.set_ylim([0, n_steps+1])\n"
     ],
     "language": "python",
     "metadata": {},
     "outputs": [],
     "prompt_number": 4
    },
    {
     "cell_type": "code",
     "collapsed": false,
     "input": [
      "def calculate_duration_data_from_graph(experiment, graph, node_ids=[]):\n",
      "    if not node_ids:\n",
      "        node_ids = graph.nodes(data=False)\n",
      "    \n",
      "    frame_times = experiment.frame_times\n",
      "    step_data, durations = [], []\n",
      "    for node in node_ids:\n",
      "        node_data = graph.node[node]\n",
      "        bf, df = node_data['born_f'], node_data['died_f']\n",
      "        t0 = frame_times[bf - 1]\n",
      "        tN = frame_times[df - 1]\n",
      "        step_data.append({'bid':node, 't0':t0, 'tN':tN, 'lifespan':tN-t0})\n",
      "\n",
      "    steps = pd.DataFrame(step_data)\n",
      "    steps.set_index('bid', inplace=True)\n",
      "    steps = steps / 60.0   # convert to minutes.\n",
      "    steps.sort('t0', inplace=True)\n",
      "    steps = steps[['t0', 'tN', 'lifespan']]\n",
      "    durations = np.array(steps['lifespan'])\n",
      "    return steps, durations\n"
     ],
     "language": "python",
     "metadata": {},
     "outputs": [],
     "prompt_number": 5
    },
    {
     "cell_type": "code",
     "collapsed": false,
     "input": [
      "def make_cdf(ax, durations_list, label='', xmin=0, xmax=30):\n",
      "    x = np.linspace(xmin, xmax, 1000)\n",
      "    ecdf = ECDF(np.array(durations_list))\n",
      "    cdf = ecdf(x)\n",
      "    ax.plot(x, cdf, label=label, lw=2)\n",
      "    ax.set_xlabel('minutes')\n",
      "    ax.set_ylabel('CDF')\n"
     ],
     "language": "python",
     "metadata": {},
     "outputs": [],
     "prompt_number": 6
    },
    {
     "cell_type": "code",
     "collapsed": false,
     "input": [
      "def find_nodes_containing_bids(graph, bids):\n",
      "    nodes_with_moved_bids = []\n",
      "    for node in graph:\n",
      "        if node in bids:\n",
      "            nodes_with_moved_bids.append(node)\n",
      "            continue\n",
      "        for c in graph.node[node].get('components', []):\n",
      "            if c in bids:\n",
      "                nodes_with_moved_bids.append(node)\n",
      "                break\n",
      "    return nodes_with_moved_bids"
     ],
     "language": "python",
     "metadata": {},
     "outputs": [],
     "prompt_number": 7
    },
    {
     "cell_type": "code",
     "collapsed": false,
     "input": [
      "def show_reasons(df):\n",
      "\n",
      "    reasons = ['unknown', 'on_edge', 'id_change', 'outside-roi', 'timing']\n",
      "    if 'reason' not in df:\n",
      "        df['reason'] = 'unknown'\n",
      "        for reason in reasons[1:]:\n",
      "            df['reason'][df[reason]] = reason\n",
      "            print reason, len(df['reason'][df[reason]])\n",
      "\n",
      "    counts = {}\n",
      "    for reason in reasons:\n",
      "         counts[reason] = len(df[df['reason'] == reason])\n",
      "            \n",
      "    unknown_ids = list(df[df['reason'] == 'unknown'].index)\n",
      "    id_change_ids = list(df[df['reason'] == 'id_change'].index)\n",
      "\n",
      "    return unknown_ids, id_change_ids"
     ],
     "language": "python",
     "metadata": {},
     "outputs": [],
     "prompt_number": 8
    },
    {
     "cell_type": "code",
     "collapsed": false,
     "input": [
      "def rc_duration_hist_single(rc, step='roi'):\n",
      "    rc = rc.copy()\n",
      "    \n",
      "    # grab bins from column names\n",
      "    cols = rc.columns\n",
      "    bins = [(int(c[1:-3]), c) for c in cols if str(c[0]) == '>']\n",
      "    bins.sort(reverse=True)\n",
      "    #print bins\n",
      "    \n",
      "    # grab relevant step\n",
      "    step_data = rc.iloc[step]\n",
      "    print step_data[['step', '>10min','>20min','>30min','>40min','>50min']]\n",
      "    bin_data = []\n",
      "    running_total = 0\n",
      "    for bl, rc_label in bins:\n",
      "        a = step_data[rc_label]\n",
      "        n = a - running_total\n",
      "        running_total += n\n",
      "        #print bl, a, n\n",
      "        #print 'total', running_total\n",
      "        bin_data.append((bl, n))\n",
      "    bin_data.sort()\n",
      "    print bin_data\n",
      "    fig, ax = plt.subplots()\n",
      "    x = np.arange(len(bin_data))\n",
      "    labels, y = zip(*bin_data)\n",
      "    labels = [str(l) for l in labels]\n",
      "    ppl.bar(ax, x, y, annotate=True, xticklabels=labels, grid='y')\n",
      "    plt.show()\n",
      "\n",
      "def rc_duration_hist(rc):\n",
      "    rc = rc.copy()\n",
      "    cols = rc.columns\n",
      "    \n",
      "    bins = [(int(c[1:-3]), c) for c in cols if str(c[0]) == '>']\n",
      "\n",
      "    # grab bins from column names\n",
      "\n",
      "    bins.sort(reverse=True)\n",
      "    #print bins\n",
      "    \n",
      "    def step_data_to_bins(step):\n",
      "        # grab relevant step\n",
      "        step_data = rc.iloc[step]\n",
      "        #print step_data[['step', '>10min','>20min','>30min','>40min','>50min']]\n",
      "        bin_data = []\n",
      "        running_total = 0\n",
      "        for bl, rc_label in bins:\n",
      "            a = step_data[rc_label]\n",
      "            n = a - running_total\n",
      "            running_total += n\n",
      "            #print bl, a, n\n",
      "            #print 'total', running_total\n",
      "            bin_data.append((bl, n))\n",
      "        bin_data.sort()\n",
      "        bd = {} #'step':step_name}\n",
      "        for l, n in bin_data:\n",
      "            bd[l] = n\n",
      "        return bd\n",
      "    \n",
      "    bd1 = step_data_to_bins(1)\n",
      "    bd2 = step_data_to_bins(-1)\n",
      "    \n",
      "    #bd1['step'] = 'raw'\n",
      "    #bd2['step'] = 'final'\n",
      "    \n",
      "    df = pd.DataFrame([bd1, bd2], index=['raw', 'final'])\n",
      "    df.rename(columns={10:'10-19',20:'20-29', \n",
      "                       30:'30-39',40:'40-49', 50:'50-60'}, inplace=True)\n",
      " \n",
      "    ax = df.T.plot(kind='bar')\n",
      "    fig = plt.figure(plt.get_fignums()[0])\n",
      "    fig.set_size_inches(10, 5)\n",
      "    ax.set_ylabel('number of tracks')\n",
      "    ax.set_xlabel('track duration (min)')\n",
      "    plt.tight_layout()\n",
      "\n",
      "    plt.savefig('track-len-improvement.png')\n",
      "\n",
      "    #plt.show()\n",
      "    #print df\n",
      "    \n",
      "    \n",
      "    \n",
      "#rc_duration_hist(rc)\n",
      "#  \n"
     ],
     "language": "python",
     "metadata": {},
     "outputs": [],
     "prompt_number": 9
    },
    {
     "cell_type": "heading",
     "level": 1,
     "metadata": {},
     "source": [
      "Generate Report Card"
     ]
    },
    {
     "cell_type": "code",
     "collapsed": false,
     "input": [
      "#ex_id = '20130614_120518'\n",
      "#ex_id = '20130318_131111'\n",
      "ex_id = '20130702_135704' # testset\n",
      "#ex_id = '20130702_135652'\n",
      "experiment = Experiment(experiment_id=ex_id, data_root=DATA_DIR)\n",
      "original_graph = experiment.graph\n",
      "graph = original_graph.copy()"
     ],
     "language": "python",
     "metadata": {},
     "outputs": [],
     "prompt_number": 10
    },
    {
     "cell_type": "code",
     "collapsed": false,
     "input": [
      "#graph2, rc = report_card.create_report_card(experiment, graph.copy())"
     ],
     "language": "python",
     "metadata": {},
     "outputs": [],
     "prompt_number": 11
    },
    {
     "cell_type": "code",
     "collapsed": false,
     "input": [
      "#rc.head()"
     ],
     "language": "python",
     "metadata": {},
     "outputs": [],
     "prompt_number": 12
    },
    {
     "cell_type": "code",
     "collapsed": false,
     "input": [],
     "language": "python",
     "metadata": {},
     "outputs": [],
     "prompt_number": 12
    },
    {
     "cell_type": "code",
     "collapsed": false,
     "input": [
      "graph2, rc = report_card.collision_iteration2(experiment, graph.copy())"
     ],
     "language": "python",
     "metadata": {},
     "outputs": [
      {
       "output_type": "stream",
       "stream": "stderr",
       "text": [
        "Iteration 1\n"
       ]
      },
      {
       "output_type": "stream",
       "stream": "stderr",
       "text": [
        "Validation pass\n"
       ]
      },
      {
       "output_type": "stream",
       "stream": "stdout",
       "text": [
        "collisions from bbox\n",
        "\t325 suspects. trying 0 again"
       ]
      },
      {
       "output_type": "stream",
       "stream": "stdout",
       "text": [
        "\n",
        "Failed to find node data"
       ]
      },
      {
       "output_type": "stream",
       "stream": "stdout",
       "text": [
        "\n",
        "\t97 suspects. trying 97 again"
       ]
      },
      {
       "output_type": "stream",
       "stream": "stdout",
       "text": [
        "\n",
        "Failed to find node data"
       ]
      },
      {
       "output_type": "stream",
       "stream": "stdout",
       "text": [
        "\n",
        "\t227 resolved 69%"
       ]
      },
      {
       "output_type": "stream",
       "stream": "stderr",
       "text": [
        "Validation pass\n"
       ]
      },
      {
       "output_type": "stream",
       "stream": "stderr",
       "text": [
        "Collapse Group\n"
       ]
      },
      {
       "output_type": "stream",
       "stream": "stderr",
       "text": [
        "Validation pass\n"
       ]
      },
      {
       "output_type": "stream",
       "stream": "stderr",
       "text": [
        "Remove Single Descendents\n"
       ]
      },
      {
       "output_type": "stream",
       "stream": "stderr",
       "text": [
        "Validation pass\n"
       ]
      },
      {
       "output_type": "stream",
       "stream": "stderr",
       "text": [
        "Remove Fission-Fusion\n"
       ]
      },
      {
       "output_type": "stream",
       "stream": "stderr",
       "text": [
        "Validation pass\n"
       ]
      },
      {
       "output_type": "stream",
       "stream": "stderr",
       "text": [
        "Remove Fission-Fusion (relative)\n"
       ]
      },
      {
       "output_type": "stream",
       "stream": "stderr",
       "text": [
        "Validation pass\n"
       ]
      },
      {
       "output_type": "stream",
       "stream": "stderr",
       "text": [
        "Remove Offshoots\n"
       ]
      },
      {
       "output_type": "stream",
       "stream": "stderr",
       "text": [
        "WARNING: 1 blobs with lifespans > 20 min\n"
       ]
      },
      {
       "output_type": "stream",
       "stream": "stderr",
       "text": [
        "{48089: 7}\n"
       ]
      },
      {
       "output_type": "stream",
       "stream": "stderr",
       "text": [
        "Validation pass\n"
       ]
      },
      {
       "output_type": "stream",
       "stream": "stderr",
       "text": [
        "Remove Single Descendents\n"
       ]
      },
      {
       "output_type": "stream",
       "stream": "stderr",
       "text": [
        "Validation pass\n"
       ]
      },
      {
       "output_type": "stream",
       "stream": "stderr",
       "text": [
        "Patch Gaps\n"
       ]
      },
      {
       "output_type": "stream",
       "stream": "stdout",
       "text": [
        "\n",
        "\t107 missing data 32%\n",
        "\t96 missing data, no overlap 29%\n",
        "\t1 full data, no  overlap 0%\n",
        "259"
       ]
      },
      {
       "output_type": "stream",
       "stream": "stderr",
       "text": [
        "Validation pass\n"
       ]
      },
      {
       "output_type": "stream",
       "stream": "stdout",
       "text": [
        " short gaps\n",
        "122 standard gaps\n",
        "0 long gaps\n",
        "0"
       ]
      },
      {
       "output_type": "stream",
       "stream": "stderr",
       "text": [
        "Validation pass\n"
       ]
      },
      {
       "output_type": "stream",
       "stream": "stderr",
       "text": [
        "Iteration 2\n"
       ]
      },
      {
       "output_type": "stream",
       "stream": "stderr",
       "text": [
        "Validation pass\n"
       ]
      },
      {
       "output_type": "stream",
       "stream": "stdout",
       "text": [
        " short gaps\n",
        "0 standard gaps\n",
        "0 long gaps\n",
        "collisions from bbox"
       ]
      },
      {
       "output_type": "stream",
       "stream": "stdout",
       "text": [
        "\n",
        "\t96 suspects. trying 0 again\n",
        "Failed to find node data"
       ]
      },
      {
       "output_type": "stream",
       "stream": "stdout",
       "text": [
        "\n",
        "\t1 suspects. trying 1 again"
       ]
      },
      {
       "output_type": "stream",
       "stream": "stdout",
       "text": [
        "\n",
        "Failed to find node data"
       ]
      },
      {
       "output_type": "stream",
       "stream": "stderr",
       "text": [
        "Validation pass\n"
       ]
      },
      {
       "output_type": "stream",
       "stream": "stderr",
       "text": [
        "Collapse Group\n"
       ]
      },
      {
       "output_type": "stream",
       "stream": "stderr",
       "text": [
        "Validation pass\n"
       ]
      },
      {
       "output_type": "stream",
       "stream": "stderr",
       "text": [
        "Remove Single Descendents\n"
       ]
      },
      {
       "output_type": "stream",
       "stream": "stderr",
       "text": [
        "Validation pass\n"
       ]
      },
      {
       "output_type": "stream",
       "stream": "stderr",
       "text": [
        "Remove Fission-Fusion\n"
       ]
      },
      {
       "output_type": "stream",
       "stream": "stderr",
       "text": [
        "Validation pass\n"
       ]
      },
      {
       "output_type": "stream",
       "stream": "stderr",
       "text": [
        "Remove Fission-Fusion (relative)\n"
       ]
      },
      {
       "output_type": "stream",
       "stream": "stderr",
       "text": [
        "Validation pass\n"
       ]
      },
      {
       "output_type": "stream",
       "stream": "stderr",
       "text": [
        "Remove Offshoots\n"
       ]
      },
      {
       "output_type": "stream",
       "stream": "stderr",
       "text": [
        "Validation pass\n"
       ]
      },
      {
       "output_type": "stream",
       "stream": "stderr",
       "text": [
        "Remove Single Descendents\n"
       ]
      },
      {
       "output_type": "stream",
       "stream": "stderr",
       "text": [
        "Validation pass\n"
       ]
      },
      {
       "output_type": "stream",
       "stream": "stdout",
       "text": [
        "\n",
        "\t86 resolved 89%\n",
        "\t2 missing data 2%\n",
        "\t0 missing data, no overlap 0%\n",
        "\t9 full data, no  overlap 9%\n",
        "WARNING: more moving nodes than nodes in graph"
       ]
      },
      {
       "output_type": "stream",
       "stream": "stderr",
       "text": [
        "Patch Gaps\n"
       ]
      },
      {
       "output_type": "stream",
       "stream": "stdout",
       "text": [
        "\n",
        "457 moving nodes\n",
        "457 moving nodes, no repeats\n",
        "0"
       ]
      },
      {
       "output_type": "stream",
       "stream": "stderr",
       "text": [
        "Validation pass\n"
       ]
      },
      {
       "output_type": "stream",
       "stream": "stdout",
       "text": [
        " short gaps\n",
        "2 standard gaps\n",
        "0 long gaps\n",
        "WARNING: more moving nodes than nodes in graph"
       ]
      },
      {
       "output_type": "stream",
       "stream": "stdout",
       "text": [
        "\n",
        "457 moving nodes\n",
        "457 moving nodes, no repeats\n",
        "0"
       ]
      },
      {
       "output_type": "stream",
       "stream": "stderr",
       "text": [
        "Validation pass\n"
       ]
      },
      {
       "output_type": "stream",
       "stream": "stdout",
       "text": [
        " short gaps\n",
        "0 standard gaps\n",
        "0 long gaps\n",
        "WARNING: more moving nodes than nodes in graph"
       ]
      },
      {
       "output_type": "stream",
       "stream": "stderr",
       "text": [
        "Iteration 3\n"
       ]
      },
      {
       "output_type": "stream",
       "stream": "stderr",
       "text": [
        "Validation pass\n"
       ]
      },
      {
       "output_type": "stream",
       "stream": "stdout",
       "text": [
        "\n",
        "457 moving nodes\n",
        "457 moving nodes, no repeats\n",
        "collisions from bbox\n",
        "\t16 suspects. trying 0 again"
       ]
      },
      {
       "output_type": "stream",
       "stream": "stdout",
       "text": [
        "\n",
        "Failed to find node data"
       ]
      },
      {
       "output_type": "stream",
       "stream": "stdout",
       "text": [
        "\n",
        "\t1 suspects. trying 1 again"
       ]
      },
      {
       "output_type": "stream",
       "stream": "stdout",
       "text": [
        "\n",
        "Failed to find node data"
       ]
      },
      {
       "output_type": "stream",
       "stream": "stderr",
       "text": [
        "Validation pass\n"
       ]
      },
      {
       "output_type": "stream",
       "stream": "stdout",
       "text": [
        "\n",
        "\t6 resolved 37%\n",
        "\t1 missing data 6%\n",
        "\t0 missing data, no overlap 0%\n",
        "\t9 full data, no  overlap 56%\n",
        "WARNING: more moving nodes than nodes in graph"
       ]
      },
      {
       "output_type": "stream",
       "stream": "stderr",
       "text": [
        "Collapse Group\n"
       ]
      },
      {
       "output_type": "stream",
       "stream": "stderr",
       "text": [
        "Validation pass\n"
       ]
      },
      {
       "output_type": "stream",
       "stream": "stderr",
       "text": [
        "Remove Single Descendents\n"
       ]
      },
      {
       "output_type": "stream",
       "stream": "stderr",
       "text": [
        "Validation pass\n"
       ]
      },
      {
       "output_type": "stream",
       "stream": "stderr",
       "text": [
        "Remove Fission-Fusion\n"
       ]
      },
      {
       "output_type": "stream",
       "stream": "stderr",
       "text": [
        "Validation pass\n"
       ]
      },
      {
       "output_type": "stream",
       "stream": "stderr",
       "text": [
        "Remove Fission-Fusion (relative)\n"
       ]
      },
      {
       "output_type": "stream",
       "stream": "stderr",
       "text": [
        "Validation pass\n"
       ]
      },
      {
       "output_type": "stream",
       "stream": "stderr",
       "text": [
        "Remove Offshoots\n"
       ]
      },
      {
       "output_type": "stream",
       "stream": "stderr",
       "text": [
        "Validation pass\n"
       ]
      },
      {
       "output_type": "stream",
       "stream": "stderr",
       "text": [
        "Remove Single Descendents\n"
       ]
      },
      {
       "output_type": "stream",
       "stream": "stderr",
       "text": [
        "Validation pass\n"
       ]
      },
      {
       "output_type": "stream",
       "stream": "stdout",
       "text": [
        "\n",
        "457 moving nodes\n",
        "457 moving nodes, no repeats\n",
        "WARNING: more moving nodes than nodes in graph"
       ]
      },
      {
       "output_type": "stream",
       "stream": "stderr",
       "text": [
        "Patch Gaps\n"
       ]
      },
      {
       "output_type": "stream",
       "stream": "stdout",
       "text": [
        "\n",
        "452 moving nodes\n",
        "452 moving nodes, no repeats\n",
        "0"
       ]
      },
      {
       "output_type": "stream",
       "stream": "stderr",
       "text": [
        "Validation pass\n"
       ]
      },
      {
       "output_type": "stream",
       "stream": "stdout",
       "text": [
        " short gaps\n",
        "0 standard gaps\n",
        "0 long gaps\n",
        "WARNING: more moving nodes than nodes in graph"
       ]
      },
      {
       "output_type": "stream",
       "stream": "stdout",
       "text": [
        "\n",
        "452 moving nodes\n",
        "452 moving nodes, no repeats\n",
        "0"
       ]
      },
      {
       "output_type": "stream",
       "stream": "stderr",
       "text": [
        "Validation pass\n"
       ]
      },
      {
       "output_type": "stream",
       "stream": "stdout",
       "text": [
        " short gaps\n",
        "0 standard gaps\n",
        "0 long gaps\n",
        "WARNING: more moving nodes than nodes in graph"
       ]
      },
      {
       "output_type": "stream",
       "stream": "stderr",
       "text": [
        "Iteration 4\n"
       ]
      },
      {
       "output_type": "stream",
       "stream": "stderr",
       "text": [
        "Validation pass\n"
       ]
      },
      {
       "output_type": "stream",
       "stream": "stdout",
       "text": [
        "\n",
        "452 moving nodes\n",
        "452 moving nodes, no repeats\n",
        "collisions from bbox\n",
        "\t11 suspects. trying 0 again\n",
        "Failed to find node data"
       ]
      },
      {
       "output_type": "stream",
       "stream": "stdout",
       "text": [
        "\n",
        "\t1 suspects. trying 1 again"
       ]
      },
      {
       "output_type": "stream",
       "stream": "stdout",
       "text": [
        "\n",
        "Failed to find node data"
       ]
      },
      {
       "output_type": "stream",
       "stream": "stderr",
       "text": [
        "Validation pass\n"
       ]
      },
      {
       "output_type": "stream",
       "stream": "stdout",
       "text": [
        "\n",
        "\t1 resolved 9%\n",
        "\t1 missing data 9%\n",
        "\t0 missing data, no overlap 0%\n",
        "\t9 full data, no  overlap 81%\n",
        "WARNING: more moving nodes than nodes in graph"
       ]
      },
      {
       "output_type": "stream",
       "stream": "stderr",
       "text": [
        "Collapse Group\n"
       ]
      },
      {
       "output_type": "stream",
       "stream": "stderr",
       "text": [
        "Validation pass\n"
       ]
      },
      {
       "output_type": "stream",
       "stream": "stderr",
       "text": [
        "Remove Single Descendents\n"
       ]
      },
      {
       "output_type": "stream",
       "stream": "stderr",
       "text": [
        "Validation pass\n"
       ]
      },
      {
       "output_type": "stream",
       "stream": "stderr",
       "text": [
        "Remove Fission-Fusion\n"
       ]
      },
      {
       "output_type": "stream",
       "stream": "stderr",
       "text": [
        "Validation pass\n"
       ]
      },
      {
       "output_type": "stream",
       "stream": "stderr",
       "text": [
        "Remove Fission-Fusion (relative)\n"
       ]
      },
      {
       "output_type": "stream",
       "stream": "stderr",
       "text": [
        "Validation pass\n"
       ]
      },
      {
       "output_type": "stream",
       "stream": "stderr",
       "text": [
        "Remove Offshoots\n"
       ]
      },
      {
       "output_type": "stream",
       "stream": "stderr",
       "text": [
        "Validation pass\n"
       ]
      },
      {
       "output_type": "stream",
       "stream": "stderr",
       "text": [
        "Remove Single Descendents\n"
       ]
      },
      {
       "output_type": "stream",
       "stream": "stderr",
       "text": [
        "Validation pass\n"
       ]
      },
      {
       "output_type": "stream",
       "stream": "stdout",
       "text": [
        "\n",
        "452 moving nodes\n",
        "452 moving nodes, no repeats\n",
        "WARNING: more moving nodes than nodes in graph"
       ]
      },
      {
       "output_type": "stream",
       "stream": "stderr",
       "text": [
        "Patch Gaps\n"
       ]
      },
      {
       "output_type": "stream",
       "stream": "stdout",
       "text": [
        "\n",
        "451 moving nodes\n",
        "451 moving nodes, no repeats\n",
        "0"
       ]
      },
      {
       "output_type": "stream",
       "stream": "stderr",
       "text": [
        "Validation pass\n"
       ]
      },
      {
       "output_type": "stream",
       "stream": "stdout",
       "text": [
        " short gaps\n",
        "0 standard gaps\n",
        "0 long gaps\n",
        "WARNING: more moving nodes than nodes in graph"
       ]
      },
      {
       "output_type": "stream",
       "stream": "stdout",
       "text": [
        "\n",
        "451 moving nodes\n",
        "451 moving nodes, no repeats\n",
        "0"
       ]
      },
      {
       "output_type": "stream",
       "stream": "stderr",
       "text": [
        "Validation pass\n"
       ]
      },
      {
       "output_type": "stream",
       "stream": "stdout",
       "text": [
        " short gaps\n",
        "0 standard gaps\n",
        "0 long gaps\n",
        "WARNING: more moving nodes than nodes in graph"
       ]
      },
      {
       "output_type": "stream",
       "stream": "stderr",
       "text": [
        "Iteration 5\n"
       ]
      },
      {
       "output_type": "stream",
       "stream": "stderr",
       "text": [
        "Validation pass\n"
       ]
      },
      {
       "output_type": "stream",
       "stream": "stdout",
       "text": [
        "\n",
        "451 moving nodes\n",
        "451 moving nodes, no repeats\n",
        "collisions from bbox\n",
        "\t10 suspects. trying 0 again\n",
        "Failed to find node data"
       ]
      },
      {
       "output_type": "stream",
       "stream": "stdout",
       "text": [
        "\n",
        "\t0 resolved 0%"
       ]
      },
      {
       "output_type": "stream",
       "stream": "stderr",
       "text": [
        "Validation pass\n"
       ]
      },
      {
       "output_type": "stream",
       "stream": "stdout",
       "text": [
        "\n",
        "\t1 missing data 10%\n",
        "\t0 missing data, no overlap 0%\n",
        "\t9 full data, no  overlap 90%\n",
        "WARNING: more moving nodes than nodes in graph"
       ]
      },
      {
       "output_type": "stream",
       "stream": "stderr",
       "text": [
        "Collapse Group\n"
       ]
      },
      {
       "output_type": "stream",
       "stream": "stderr",
       "text": [
        "Validation pass\n"
       ]
      },
      {
       "output_type": "stream",
       "stream": "stderr",
       "text": [
        "Remove Single Descendents\n"
       ]
      },
      {
       "output_type": "stream",
       "stream": "stderr",
       "text": [
        "Validation pass\n"
       ]
      },
      {
       "output_type": "stream",
       "stream": "stderr",
       "text": [
        "Remove Fission-Fusion\n"
       ]
      },
      {
       "output_type": "stream",
       "stream": "stderr",
       "text": [
        "Validation pass\n"
       ]
      },
      {
       "output_type": "stream",
       "stream": "stderr",
       "text": [
        "Remove Fission-Fusion (relative)\n"
       ]
      },
      {
       "output_type": "stream",
       "stream": "stderr",
       "text": [
        "Validation pass\n"
       ]
      },
      {
       "output_type": "stream",
       "stream": "stderr",
       "text": [
        "Remove Offshoots\n"
       ]
      },
      {
       "output_type": "stream",
       "stream": "stderr",
       "text": [
        "Validation pass\n"
       ]
      },
      {
       "output_type": "stream",
       "stream": "stderr",
       "text": [
        "Remove Single Descendents\n"
       ]
      },
      {
       "output_type": "stream",
       "stream": "stderr",
       "text": [
        "Validation pass\n"
       ]
      },
      {
       "output_type": "stream",
       "stream": "stdout",
       "text": [
        "\n",
        "451 moving nodes\n",
        "451 moving nodes, no repeats\n",
        "WARNING: more moving nodes than nodes in graph"
       ]
      },
      {
       "output_type": "stream",
       "stream": "stderr",
       "text": [
        "Patch Gaps\n"
       ]
      },
      {
       "output_type": "stream",
       "stream": "stdout",
       "text": [
        "\n",
        "451 moving nodes\n",
        "451 moving nodes, no repeats\n",
        "0"
       ]
      },
      {
       "output_type": "stream",
       "stream": "stderr",
       "text": [
        "Validation pass\n"
       ]
      },
      {
       "output_type": "stream",
       "stream": "stdout",
       "text": [
        " short gaps\n",
        "0 standard gaps\n",
        "0 long gaps\n",
        "WARNING: more moving nodes than nodes in graph"
       ]
      },
      {
       "output_type": "stream",
       "stream": "stdout",
       "text": [
        "\n",
        "451 moving nodes\n",
        "451 moving nodes, no repeats\n",
        "0"
       ]
      },
      {
       "output_type": "stream",
       "stream": "stderr",
       "text": [
        "Validation pass\n"
       ]
      },
      {
       "output_type": "stream",
       "stream": "stdout",
       "text": [
        " short gaps\n",
        "0 standard gaps\n",
        "0 long gaps\n",
        "WARNING: more moving nodes than nodes in graph"
       ]
      },
      {
       "output_type": "stream",
       "stream": "stderr",
       "text": [
        "No change since last iteration, halting\n"
       ]
      },
      {
       "output_type": "stream",
       "stream": "stdout",
       "text": [
        "\n",
        "451 moving nodes\n",
        "451 moving nodes, no repeats\n",
        "                    step  total-nodes  isolated-nodes  duration-med  \\\n",
        "0                    raw        89845            4100          0.00   \n",
        "1                    roi        11098            5361          0.00   \n",
        "2                  blank         6113             501          0.00   \n",
        "3       collisions (227)         5886             501          0.00   \n",
        "4               simplify          964             527          9.09   \n",
        "5   gaps w/missing (381)          964             135          9.09   \n",
        "6               gaps (0)          964             135          9.09   \n",
        "7        collisions (86)          878             135          8.92   \n",
        "8               simplify          417             224         32.80   \n",
        "9     gaps w/missing (2)          417             220         32.80   \n",
        "10              gaps (0)          417             220         32.80   \n",
        "11        collisions (6)          411             220         31.80   \n",
        "12              simplify          397             228         30.91   \n",
        "13    gaps w/missing (0)          397             228         30.91   \n",
        "14              gaps (0)          397             228         30.91   \n",
        "15        collisions (1)          396             228         31.36   \n",
        "16              simplify          394             228         30.56   \n",
        "17    gaps w/missing (0)          394             228         30.56   \n",
        "18              gaps (0)          394             228         30.56   \n",
        "19        collisions (0)          394             228         30.56   \n",
        "20              simplify          394             228         30.56   \n",
        "21    gaps w/missing (0)          394             228         30.56   \n",
        "22              gaps (0)          394             228         30.56   \n",
        "\n",
        "    moving-nodes  \n",
        "0            246  \n",
        "1            246  \n",
        "2            246  \n",
        "3            246  \n",
        "4            489  \n",
        "5            489  \n",
        "6            489  \n",
        "7            489  \n",
        "8            457  \n",
        "9            457  \n",
        "10           457  \n",
        "11           457  \n",
        "12           452  \n",
        "13           452  \n",
        "14           452  \n",
        "15           452  \n",
        "16           451  \n",
        "17           451  \n",
        "18           451  \n",
        "19           451  \n",
        "20           451  \n",
        "21           451  \n",
        "22           451  \n",
        "                    step  total-nodes  >10min  >20min  >30min  >40min  >50min\n",
        "0                    raw        89845      91      43      19       8       3\n",
        "1                    roi        11098      70      28      12       5       1\n",
        "2                  blank         6113      70      28      12       5       1\n",
        "3       collisions (227)         5886      70      28      12       5       1\n",
        "4               simplify          964      70      35      15       6       2\n",
        "5   gaps w/missing (381)          964      70      35      15       6       2\n",
        "6               gaps (0)          964      70      35      15       6       2\n",
        "7        collisions (86)          878      70      35      15       6       2\n",
        "8               simplify          417      71      47      29      20      12\n",
        "9     gaps w/missing (2)          417      71      47      29      20      12\n",
        "10              gaps (0)          417      71      47      29      20      12\n",
        "11        collisions (6)          411      71      47      29      20      12\n",
        "12              simplify          397      70      49      31      23      13\n",
        "13    gaps w/missing (0)          397      70      49      31      23      13\n",
        "14              gaps (0)          397      70      49      31      23      13\n",
        "15        collisions (1)          396      70      49      31      23      13\n",
        "16              simplify          394      69      50      31      23      13\n",
        "17    gaps w/missing (0)          394      69      50      31      23      13\n",
        "18              gaps (0)          394      69      50      31      23      13\n",
        "19        collisions (0)          394      69      50      31      23      13\n",
        "20              simplify          394      69      50      31      23      13\n",
        "21    gaps w/missing (0)          394      69      50      31      23      13\n",
        "22              gaps (0)          394      69      50      31      23      13\n",
        "                    step      wm_0min    wm_10min    wm_20min    wm_30min  \\\n",
        "0                    raw  1699.465250  672.560333  575.124067  372.620633   \n",
        "1                    roi  1149.175117  599.368517  385.022733  237.756700   \n",
        "2                  blank  1149.175117  599.368517  385.022733  237.756700   \n",
        "3       collisions (227)  1125.654417  599.368517  385.022733  237.756700   \n",
        "4               simplify   966.326300  521.231417  479.204550  298.530333   \n",
        "5   gaps w/missing (381)   966.326300  521.231417  479.204550  298.530333   \n",
        "6               gaps (0)   966.326300  521.231417  479.204550  298.530333   \n",
        "7        collisions (86)   910.114350  521.231417  479.204550  298.530333   \n",
        "8               simplify   490.724867  325.837067  465.840017  302.862400   \n",
        "9     gaps w/missing (2)   490.724867  325.837067  465.840017  302.862400   \n",
        "10              gaps (0)   490.724867  325.837067  465.840017  302.862400   \n",
        "11        collisions (6)   472.667200  325.837067  465.840017  302.862400   \n",
        "12              simplify   438.617033  285.457550  452.860983  272.158683   \n",
        "13    gaps w/missing (0)   438.617033  285.457550  452.860983  272.158683   \n",
        "14              gaps (0)   438.617033  285.457550  452.860983  272.158683   \n",
        "15        collisions (1)   438.492017  285.457550  452.860983  272.158683   \n",
        "16              simplify   438.618650  258.371650  480.073517  272.158683   \n",
        "17    gaps w/missing (0)   438.618650  258.371650  480.073517  272.158683   \n",
        "18              gaps (0)   438.618650  258.371650  480.073517  272.158683   \n",
        "19        collisions (0)   438.618650  258.371650  480.073517  272.158683   \n",
        "20              simplify   438.618650  258.371650  480.073517  272.158683   \n",
        "21    gaps w/missing (0)   438.618650  258.371650  480.073517  272.158683   \n",
        "22              gaps (0)   438.618650  258.371650  480.073517  272.158683   \n",
        "\n",
        "      wm_40min    wm_50min  \n",
        "0   230.489017  161.813067  \n",
        "1   183.308967   55.208983  \n",
        "2   183.308967   55.208983  \n",
        "3   183.308967   55.208983  \n",
        "4   176.218233  114.381350  \n",
        "5   176.218233  114.381350  \n",
        "6   176.218233  114.381350  \n",
        "7   176.218233  114.381350  \n",
        "8   349.629133  696.777783  \n",
        "9   349.629133  696.777783  \n",
        "10  349.629133  696.777783  \n",
        "11  349.629133  696.777783  \n",
        "12  443.194167  757.764567  \n",
        "13  443.194167  757.764567  \n",
        "14  443.194167  757.764567  \n",
        "15  443.194167  757.764567  \n",
        "16  443.194167  757.764567  \n",
        "17  443.194167  757.764567  \n",
        "18  443.194167  757.764567  \n",
        "19  443.194167  757.764567  \n",
        "20  443.194167  757.764567  \n",
        "21  443.194167  757.764567  \n",
        "22  443.194167  757.764567  \n"
       ]
      },
      {
       "ename": "TypeError",
       "evalue": "report() got multiple values for keyword argument 'show'",
       "output_type": "pyerr",
       "traceback": [
        "\u001b[1;31m---------------------------------------------------------------------------\u001b[0m\n\u001b[1;31mTypeError\u001b[0m                                 Traceback (most recent call last)",
        "\u001b[1;32m<ipython-input-13-e8f0a723826c>\u001b[0m in \u001b[0;36m<module>\u001b[1;34m()\u001b[0m\n\u001b[1;32m----> 1\u001b[1;33m \u001b[0mgraph2\u001b[0m\u001b[1;33m,\u001b[0m \u001b[0mrc\u001b[0m \u001b[1;33m=\u001b[0m \u001b[0mreport_card\u001b[0m\u001b[1;33m.\u001b[0m\u001b[0mcollision_iteration2\u001b[0m\u001b[1;33m(\u001b[0m\u001b[0mexperiment\u001b[0m\u001b[1;33m,\u001b[0m \u001b[0mgraph\u001b[0m\u001b[1;33m.\u001b[0m\u001b[0mcopy\u001b[0m\u001b[1;33m(\u001b[0m\u001b[1;33m)\u001b[0m\u001b[1;33m)\u001b[0m\u001b[1;33m\u001b[0m\u001b[0m\n\u001b[0m",
        "\u001b[1;32m/home/visitors/ntimkovich/Projects/Waldo/code/waldo/report_card.pyc\u001b[0m in \u001b[0;36mcollision_iteration2\u001b[1;34m(experiment, graph)\u001b[0m\n\u001b[0;32m    476\u001b[0m     \u001b[1;31m#gaps.to_csv('{eid}-gaps.csv'.format(eid=ex_id), index=False, header=False)\u001b[0m\u001b[1;33m\u001b[0m\u001b[1;33m\u001b[0m\u001b[0m\n\u001b[0;32m    477\u001b[0m     \u001b[0mreport_df\u001b[0m \u001b[1;33m=\u001b[0m \u001b[0mreport_card\u001b[0m\u001b[1;33m.\u001b[0m\u001b[0mreport\u001b[0m\u001b[1;33m(\u001b[0m\u001b[0mshow\u001b[0m\u001b[1;33m=\u001b[0m\u001b[0mTrue\u001b[0m\u001b[1;33m)\u001b[0m\u001b[1;33m\u001b[0m\u001b[0m\n\u001b[1;32m--> 478\u001b[1;33m     \u001b[0mreport_df\u001b[0m \u001b[1;33m=\u001b[0m \u001b[0mreport_card\u001b[0m\u001b[1;33m.\u001b[0m\u001b[0msave_reports\u001b[0m\u001b[1;33m(\u001b[0m\u001b[0mgraph\u001b[0m\u001b[1;33m)\u001b[0m\u001b[1;33m\u001b[0m\u001b[0m\n\u001b[0m\u001b[0;32m    479\u001b[0m     \u001b[1;32mreturn\u001b[0m \u001b[0mgraph\u001b[0m\u001b[1;33m,\u001b[0m \u001b[0mreport_df\u001b[0m\u001b[1;33m\u001b[0m\u001b[0m\n\u001b[0;32m    480\u001b[0m \u001b[1;33m\u001b[0m\u001b[0m\n",
        "\u001b[1;32m/home/visitors/ntimkovich/Projects/Waldo/code/waldo/report_card.pyc\u001b[0m in \u001b[0;36msave_reports\u001b[1;34m(self, graph)\u001b[0m\n\u001b[0;32m    292\u001b[0m     \u001b[1;32mdef\u001b[0m \u001b[0msave_reports\u001b[0m\u001b[1;33m(\u001b[0m\u001b[0mself\u001b[0m\u001b[1;33m,\u001b[0m \u001b[0mgraph\u001b[0m\u001b[1;33m)\u001b[0m\u001b[1;33m:\u001b[0m\u001b[1;33m\u001b[0m\u001b[0m\n\u001b[0;32m    293\u001b[0m         \u001b[0mexperiment\u001b[0m \u001b[1;33m=\u001b[0m \u001b[0mself\u001b[0m\u001b[1;33m.\u001b[0m\u001b[0mexperiment\u001b[0m\u001b[1;33m\u001b[0m\u001b[0m\n\u001b[1;32m--> 294\u001b[1;33m         \u001b[0mreport\u001b[0m \u001b[1;33m=\u001b[0m \u001b[0mself\u001b[0m\u001b[1;33m.\u001b[0m\u001b[0mreport\u001b[0m\u001b[1;33m(\u001b[0m\u001b[0mgraph\u001b[0m\u001b[1;33m,\u001b[0m \u001b[0mshow\u001b[0m\u001b[1;33m=\u001b[0m\u001b[0mFalse\u001b[0m\u001b[1;33m)\u001b[0m\u001b[1;33m\u001b[0m\u001b[0m\n\u001b[0m\u001b[0;32m    295\u001b[0m         \u001b[0mexperiment\u001b[0m\u001b[1;33m.\u001b[0m\u001b[0mprepdata\u001b[0m\u001b[1;33m.\u001b[0m\u001b[0mdump\u001b[0m\u001b[1;33m(\u001b[0m\u001b[1;34m'report-card.csv'\u001b[0m\u001b[1;33m,\u001b[0m \u001b[0mreport\u001b[0m\u001b[1;33m)\u001b[0m\u001b[1;33m\u001b[0m\u001b[0m\n\u001b[0;32m    296\u001b[0m         \u001b[0mstarts\u001b[0m\u001b[1;33m,\u001b[0m \u001b[0mends\u001b[0m \u001b[1;33m=\u001b[0m \u001b[0mself\u001b[0m\u001b[1;33m.\u001b[0m\u001b[0mdetermine_lost_and_found_causes\u001b[0m\u001b[1;33m(\u001b[0m\u001b[0mgraph\u001b[0m\u001b[1;33m)\u001b[0m\u001b[1;33m\u001b[0m\u001b[0m\n",
        "\u001b[1;31mTypeError\u001b[0m: report() got multiple values for keyword argument 'show'"
       ]
      }
     ],
     "prompt_number": 13
    },
    {
     "cell_type": "code",
     "collapsed": false,
     "input": [
      "rc.tail()"
     ],
     "language": "python",
     "metadata": {},
     "outputs": []
    },
    {
     "cell_type": "code",
     "collapsed": false,
     "input": [
      "rc_duration_hist(rc)  "
     ],
     "language": "python",
     "metadata": {},
     "outputs": []
    },
    {
     "cell_type": "code",
     "collapsed": false,
     "input": [
      "def rc_worm_minutes_hist(rc):\n",
      "    rc = rc.copy()\n",
      "    rc.rename(columns={'wm_0min':'0-9', 'wm_10min':'10-19','wm_20min':'20-29', \n",
      "                       'wm_30min':'30-39','wm_40min':'40-49', 'wm_50min':'50-60'}, inplace=True)\n",
      "    rc = rc[['0-9', '10-19', '20-29', '30-39', '40-49', '50-60']]\n",
      "\n",
      "    # for sanity check\n",
      "    #totals = rc['0'] +  rc['10'] + rc['20'] + rc['30'] + rc['40'] + rc['50']\n",
      "    #print totals\n",
      "    # grab bins from column names\n",
      "    cols = rc.columns\n",
      "    bins = [(int(c[1:-3]), c) for c in cols if str(c[0]) == '>']\n",
      "    bins.sort(reverse=True)\n",
      "    #print bins\n",
      "    \n",
      "    def step_data_to_bins(step):\n",
      "        # grab relevant step\n",
      "        step_data = rc.iloc[step]\n",
      "        #step_name = step_data['step']\n",
      "        \n",
      "        return step_data\n",
      "    \n",
      "    bd1 = step_data_to_bins(1)\n",
      "    bd2 = step_data_to_bins(-1)\n",
      "    \n",
      "    #bd1['step'] = 'raw'\n",
      "    #bd2['step'] = 'final'\n",
      "    \n",
      "    df = pd.DataFrame([bd1, bd2], index=['raw', 'final'])\n",
      "    #df.set_index('step', inplace=True)\n",
      "    ax = df.T.plot(kind='bar')\n",
      "    fig = plt.figure(plt.get_fignums()[0])\n",
      "    fig.set_size_inches(10, 5)\n",
      "\n",
      "    ax.set_ylabel('total minutes of track')\n",
      "    ax.set_xlabel('track duration (min)')\n",
      "    plt.savefig('worm-min-improvement.png')\n",
      "    plt.tight_layout()\n",
      "    #plt.show()\n",
      "    print df\n",
      "    \n",
      "rc_worm_minutes_hist(rc)"
     ],
     "language": "python",
     "metadata": {},
     "outputs": []
    },
    {
     "cell_type": "code",
     "collapsed": false,
     "input": [],
     "language": "python",
     "metadata": {},
     "outputs": []
    },
    {
     "cell_type": "code",
     "collapsed": false,
     "input": [],
     "language": "python",
     "metadata": {},
     "outputs": []
    },
    {
     "cell_type": "code",
     "collapsed": false,
     "input": [],
     "language": "python",
     "metadata": {},
     "outputs": []
    },
    {
     "cell_type": "code",
     "collapsed": false,
     "input": [],
     "language": "python",
     "metadata": {},
     "outputs": []
    },
    {
     "cell_type": "markdown",
     "metadata": {},
     "source": [
      "check if nodes that moved in raw data are still in the final graph"
     ]
    },
    {
     "cell_type": "code",
     "collapsed": false,
     "input": [
      "min_move = 2\n",
      "move = experiment.prepdata.load('moved')\n",
      "moved_bids = list(set(move[move['bl_moved'] >= min_move]['bid']))\n",
      "\n",
      "print len(moved_bids), 'nodes moved over threshold in origional graph'\n",
      "print len(find_nodes_containing_bids(original_graph, moved_bids)), 'check. this number should be same as first'\n",
      "\n",
      "new_moved_bids = find_nodes_containing_bids(graph2, moved_bids)\n",
      "print len(new_moved_bids), 'nodes moved over threshold in final graph'"
     ],
     "language": "python",
     "metadata": {},
     "outputs": []
    },
    {
     "cell_type": "markdown",
     "metadata": {},
     "source": [
      "Create step plots for before and after we 'fix' the data"
     ]
    },
    {
     "cell_type": "code",
     "collapsed": false,
     "input": [
      "true_num = experiment.true_num()\n",
      "\n",
      "steps0, durations0 = calculate_duration_data_from_graph(experiment, original_graph, original_graph.nodes(data=False))\n",
      "\n",
      "steps, durations = calculate_duration_data_from_graph(experiment, original_graph, moved_bids)\n",
      "\n",
      "fig, ax = plt.subplots()\n",
      "step_plot(ax, steps, true_num=true_num)\n",
      "ax.set_title('original blobs moving > 2 BL')\n",
      "ax.set_xlabel('minutes')\n",
      "plt.show()\n",
      "\n",
      "steps2, durations2 = calculate_duration_data_from_graph(experiment, graph2, graph2.nodes(data=False))\n",
      "\n",
      "fig, ax = plt.subplots()\n",
      "step_plot(ax, steps2, true_num=true_num)\n",
      "ax.set_title('all blobs in final graph')\n",
      "ax.set_xlabel('minutes')\n",
      "plt.show()\n",
      "\n",
      "moved_steps2, moved_durations2 = calculate_duration_data_from_graph(experiment, graph2, new_moved_bids)\n",
      "\n",
      "fig, ax = plt.subplots()\n",
      "step_plot(ax, moved_steps2, true_num=true_num)\n",
      "ax.set_title('original blobs moving > 2 bl shown from final graph data')\n",
      "ax.set_xlabel('minutes')\n",
      "plt.show()"
     ],
     "language": "python",
     "metadata": {},
     "outputs": []
    },
    {
     "cell_type": "code",
     "collapsed": false,
     "input": [
      "def top_step_plot(ax, step_df, min_duration=10, true_num=30):\n",
      "    best = step_df[step_df['lifespan'] >= 10]\n",
      "    print best.head()\n",
      "    \n",
      "    \n",
      "    steps = []\n",
      "    n_steps = len(best)\n",
      "\n",
      "    xs = list(best['t0'])\n",
      "    widths = list(best['lifespan'])\n",
      "    height = 1\n",
      "\n",
      "    color_cycle = ax._get_lines.color_cycle\n",
      "    color1 = color_cycle.next()\n",
      "    color2 = color_cycle.next()\n",
      "    for y, (x, width) in enumerate(zip(xs, widths)):\n",
      "        steps.append(patches.Rectangle((x,y), height=height, width=width,\n",
      "                                       fill=True, fc=color1, ec=color1))\n",
      "    for step in steps:\n",
      "        ax.add_patch(step)\n",
      "\n",
      "    xmax = 60\n",
      "    ideal = patches.Rectangle((0,0), height=true_num, width=xmax,\n",
      "                              fill=True, ec=color2, fc=color2,\n",
      "                              alpha=0.5)\n",
      "\n",
      "    ax.add_patch(ideal)\n",
      "    ax.plot([0], color=color1, label='actual')\n",
      "    ax.plot([0], color=color2, alpha=0.5, label='ideal')\n",
      "    ax.set_xlim([0, xmax])\n",
      "    ax.set_ylim([0, n_steps+1])\n",
      "\n",
      "steps0, durations0 = calculate_duration_data_from_graph(experiment, original_graph, original_graph.nodes(data=False))\n",
      "fig, ax = plt.subplots()\n",
      "top_step_plot(ax, steps0)\n",
      "ax.set_title('blobs > 10 min in raw data')\n",
      "ax.set_xlabel('minutes')\n",
      "plt.show()\n",
      "\n",
      "steps2, durations2 = calculate_duration_data_from_graph(experiment, graph2, graph2.nodes(data=False))\n",
      "fig, ax = plt.subplots()\n",
      "top_step_plot(ax, steps2)\n",
      "ax.set_title('blobs > 10 min in final data')\n",
      "ax.set_xlabel('minutes')\n",
      "plt.show()"
     ],
     "language": "python",
     "metadata": {},
     "outputs": []
    },
    {
     "cell_type": "code",
     "collapsed": false,
     "input": [
      "def compare_step_plots(step_df1, step_df2, titles=['',''], true_num=30, i=0):\n",
      "\n",
      "    \n",
      "    fig, (ax1, ax2) = plt.subplots(1,2)\n",
      "    fig.set_size_inches(20, 10)\n",
      "\n",
      "    #steps = []\n",
      "    n_steps = max(len(step_df1), len(step_df2))\n",
      "    xmax = 60\n",
      "    def make_steps(ax, df, i=1):\n",
      "        steps = []\n",
      "        xs = list(df['t0'])\n",
      "        widths = list(df['lifespan'])\n",
      "        height = 1\n",
      "\n",
      "        color_cycle = ax._get_lines.color_cycle\n",
      "        color1 = color_cycle.next()\n",
      "        color2 = color_cycle.next()\n",
      "        for y, (x, width) in enumerate(zip(xs, widths)):\n",
      "            if i == 0:\n",
      "                c = color1\n",
      "            else:\n",
      "                c = color2\n",
      "            steps.append(patches.Rectangle((x,y), height=height, width=width,\n",
      "                                           fill=True, fc=c, ec=c))\n",
      "        for step in steps:\n",
      "            ax.add_patch(step)\n",
      "\n",
      "\n",
      "        ideal = patches.Rectangle((0,0), height=true_num, width=xmax,\n",
      "                                  fill=True, ec=color2, fc=color2,\n",
      "                                  alpha=0.5)\n",
      "\n",
      "        ax.add_patch(ideal)\n",
      "        #if i != 2:\n",
      "        #    ax.plot([0], color=color1, label='actual')\n",
      "        #else:\n",
      "        #ax.plot([0], color=color1, label='actual')\n",
      "        #ax.plot([0], color=color2, alpha=0.5, label='ideal')\n",
      "        ax.set_xlim([0, xmax])\n",
      "        ax.set_ylim([0, n_steps+1])\n",
      "        ax.set_xlabel('minutes')\n",
      "        ax.set_ylabel('tracks')\n",
      "        \n",
      "    make_steps(ax1, step_df1, i=0)\n",
      "    ax1.set_title(titles[0])\n",
      "    make_steps(ax2, step_df2, i=2)\n",
      "    ax2.set_title(titles[1])\n",
      "\n",
      "    for ax in [ax1, ax2]:\n",
      "        for item in ([ax.title, ax.xaxis.label, ax.yaxis.label] +\n",
      "                 ax.get_xticklabels() + ax.get_yticklabels()):\n",
      "            item.set_fontsize(20)\n",
      "    plt.savefig('final-step-plot.png')\n",
      "titles = ['raw (blobs >10 min)', 'final (blobs >10 min)']\n",
      "compare_step_plots(steps0[steps0['lifespan'] >= 10], steps2[steps2['lifespan'] >= 10], titles=titles)"
     ],
     "language": "python",
     "metadata": {},
     "outputs": []
    },
    {
     "cell_type": "code",
     "collapsed": false,
     "input": [
      "\n",
      "def compare_step_plots2(step_df1, step_df2, true_num=30):\n",
      "\n",
      "    \n",
      "    fig, ax = plt.subplots()\n",
      "    #fig.set_size_inches(20, 10)\n",
      "    \n",
      "    #steps = []\n",
      "    n_steps = max(len(step_df1), len(step_df2))\n",
      "    xmax = 60\n",
      "    def make_steps(ax, df, alpha=1.0):\n",
      "        steps = []\n",
      "        xs = list(df['t0'])\n",
      "        widths = list(df['lifespan'])\n",
      "        height = 1\n",
      "\n",
      "        color_cycle = ax._get_lines.color_cycle\n",
      "        color1 = color_cycle.next()\n",
      "        color2 = color_cycle.next()\n",
      "        for y, (x, width) in enumerate(zip(xs, widths)):\n",
      "            steps.append(patches.Rectangle((x,y), height=height, width=width,\n",
      "                                           fill=True, fc=color1, ec=color1, alpha=alpha))\n",
      "        for step in steps:\n",
      "            ax.add_patch(step)\n",
      "\n",
      "\n",
      "        #ideal = patches.Rectangle((0,0), height=true_num, width=xmax,\n",
      "        #                          fill=True, ec=color2, fc=color2,\n",
      "        #                          alpha=0.5)\n",
      "\n",
      "        #ax.add_patch(ideal)\n",
      "        #ax.plot([0], color=color1, alpha=alpha)\n",
      "        ax.set_xlim([0, xmax])\n",
      "        ax.set_ylim([0, n_steps+1])\n",
      "        ax.set_xlabel('minutes')\n",
      "        ax.set_ylabel('tracks')\n",
      "        \n",
      "    make_steps(ax, step_df1)\n",
      "    make_steps(ax, step_df2, alpha=0.5)\n",
      "    \n",
      "titles = ['blobs >10 min from raw data', 'blobs >10 min from final data']\n",
      "compare_step_plots(steps0[steps0['lifespan'] >= 10], steps2[steps2['lifespan'] >= 10], titles=titles)\n",
      "#compare_step_plots2(steps0[steps0['lifespan'] >= 10], steps2[steps2['lifespan'] >= 10])\n",
      "\n",
      "#compare_step_plots(steps2[steps2['lifespan'] >= 10], steps0[steps0['lifespan'] >= 10])\n",
      "plt.show()"
     ],
     "language": "python",
     "metadata": {},
     "outputs": []
    },
    {
     "cell_type": "markdown",
     "metadata": {},
     "source": [
      "create CDF showing the duration difference"
     ]
    },
    {
     "cell_type": "code",
     "collapsed": false,
     "input": [
      "fig, ax = plt.subplots()\n",
      "fig.set_size_inches(10, 8)\n",
      "make_cdf(ax, [d for d in durations0 if d>10], label= 'original nodes > 10 min', xmin=10, xmax=60)\n",
      "make_cdf(ax, [d for d in durations2 if d>10], label='final nodes > 10 min', xmin=10, xmax=60)\n",
      "ax.legend(loc='lower right', prop={'size':20})\n",
      "\n",
      "for item in ([ax.title, ax.xaxis.label, ax.yaxis.label] +\n",
      "         ax.get_xticklabels() + ax.get_yticklabels()):\n",
      "    item.set_fontsize(20)\n",
      "#plt.show()\n",
      "plt.savefig('long-cdf-improvement.png')"
     ],
     "language": "python",
     "metadata": {},
     "outputs": []
    },
    {
     "cell_type": "code",
     "collapsed": false,
     "input": [
      "fig, ax = plt.subplots()\n",
      "fig.set_size_inches(10, 8)\n",
      "make_cdf(ax, durations0, label= 'all original', xmax=30)\n",
      "make_cdf(ax, durations2, label='all final nodes', xmax=30)\n",
      "ax.legend(loc='lower right', prop={'size':20})\n",
      "for item in ([ax.title, ax.xaxis.label, ax.yaxis.label] +\n",
      "         ax.get_xticklabels() + ax.get_yticklabels()):\n",
      "    item.set_fontsize(20)\n",
      "#plt.show()\n",
      "plt.savefig('all-cdf-improvement.png')"
     ],
     "language": "python",
     "metadata": {},
     "outputs": []
    },
    {
     "cell_type": "code",
     "collapsed": false,
     "input": [
      "fig, ax = plt.subplots()\n",
      "make_cdf(ax, durations0, label= 'all original', xmax=60)\n",
      "make_cdf(ax, durations2, label='all final nodes', xmax=60)\n",
      "make_cdf(ax, [d for d in durations0 if d>10], label= 'original nodes > 10 min', xmin=10, xmax=60)\n",
      "make_cdf(ax, [d for d in durations2 if d>10], label='final nodes > 10 min', xmin=10, xmax=60)\n",
      "ax.legend(loc='lower right')\n",
      "plt.show()"
     ],
     "language": "python",
     "metadata": {},
     "outputs": []
    },
    {
     "cell_type": "code",
     "collapsed": false,
     "input": [
      "fig, ax = plt.subplots()\n",
      "make_cdf(ax, durations0, label= 'all original')\n",
      "make_cdf(ax, durations, label= 'original > 2 BL')\n",
      "make_cdf(ax, durations2, label='all final nodes')\n",
      "make_cdf(ax, moved_durations2, label='final nodes that origionally moved > 2 BL')\n",
      "ax.legend(loc='lower right')\n",
      "plt.show()"
     ],
     "language": "python",
     "metadata": {},
     "outputs": []
    },
    {
     "cell_type": "markdown",
     "metadata": {},
     "source": [
      "TODO: create plots showing how applying the same threshold to our data before and after fixing it\n",
      "    changes our True Positive / False Positives / False Negative rates"
     ]
    },
    {
     "cell_type": "code",
     "collapsed": false,
     "input": [
      "#TODO format this to work for graph based data.\n",
      "def calculate_stats_for_bid_lists(bid_lists, prep_data):\n",
      "    \n",
      "    base_accuracy = prep_data.load('accuracy')\n",
      "    matches = prep_data.load('matches')\n",
      "    counts, tps, fps, fns = [], [], [], []\n",
      "    for bids in bid_lists:\n",
      "        filtered_accuracy = ea.recalculate_accuracy(matches, base_accuracy, bids=bids)\n",
      "        counts.append(len(bids))\n",
      "        tp = filtered_accuracy['true-pos'].mean()\n",
      "        fp = filtered_accuracy['false-pos'].mean()\n",
      "        fn = filtered_accuracy['false-neg'].mean()\n",
      "        tps.append(tp)\n",
      "        fps.append(fp)\n",
      "        fns.append(fn)\n",
      "\n",
      "    tps = np.array(tps)\n",
      "    fps = np.array(fps)\n",
      "    fns = np.array(fns)\n",
      "    totals = fns + tps\n",
      "    tps_p = tps / totals * 100\n",
      "    fps_p = fps / totals * 100\n",
      "    fns_p = fns / totals * 100\n",
      "\n",
      "    print('true counts=', np.mean(totals))\n",
      "\n",
      "    data = pd.DataFrame([tps_p, fns_p, fps_p], index=['TP', 'FN', 'FP']).T\n",
      "    counts = pd.DataFrame(counts, columns=['counts'])\n",
      "    return data, counts"
     ],
     "language": "python",
     "metadata": {},
     "outputs": []
    },
    {
     "cell_type": "code",
     "collapsed": false,
     "input": [],
     "language": "python",
     "metadata": {},
     "outputs": []
    },
    {
     "cell_type": "code",
     "collapsed": false,
     "input": [],
     "language": "python",
     "metadata": {},
     "outputs": []
    },
    {
     "cell_type": "heading",
     "level": 1,
     "metadata": {},
     "source": [
      "Error Checking Cells"
     ]
    },
    {
     "cell_type": "code",
     "collapsed": false,
     "input": [
      "unknown_ids, id_change_ids = show_reasons(ends)\n",
      "#print unknown_ids\n",
      "#print id_change_ids\n",
      "unk = pd.DataFrame(unknown_ids)\n",
      "name = '{eid}-unknown_ids.csv'.format(eid=ex_id)\n",
      "print name\n",
      "unk.to_csv(name, index=False, header=False)\n",
      "\n",
      "col = pd.DataFrame(id_change_ids)\n",
      "name = '{eid}-unresolved_collision_ids.csv'.format(eid=ex_id)\n",
      "col.to_csv(name, index=False, header=False)\n"
     ],
     "language": "python",
     "metadata": {},
     "outputs": []
    },
    {
     "cell_type": "code",
     "collapsed": false,
     "input": [
      "us = starts[starts['reason'] == 'unknown']\n",
      "ue = ends[ends['reason'] == 'unknown'].reset_index()\n",
      "#print us.head()\n",
      "ue = ue.rename(columns={'node_id':'node1', 'bid':'blob1'})\n",
      "ue = ue[['blob1', 'node1', 't', 'x', 'y']]\n",
      "#print ue.head()\n",
      "\n",
      "match_data = []\n",
      "for blob2, s in starts.iterrows():\n",
      "    node2 = s['node_id']\n",
      "    x, y = s['x'], s['y']\n",
      "    t = s['t']\n",
      "    \n",
      "    print blob2, node2, x, y, t\n",
      "    match_check = ue.copy()\n",
      "    match_check['node2'] = node2\n",
      "    match_check['blob2'] = node2\n",
      "    match_check['dt'] = t - match_check['t']\n",
      "    match_check['dx'] = np.fabs(x - match_check['x'])\n",
      "    match_check['dy'] = np.fabs(y - match_check['y'])\n",
      "    match_check['dist'] = np.sqrt(match_check['dt']**2 + match_check['dx']**2 + match_check['dy']**2)\n",
      "    match_check['d_spacetime'] = np.sqrt(match_check['dt']**2 + match_check['dx']**2 + match_check['dy']**2)\n",
      "\n",
      "    match_check = match_check[['blob1', 'blob2', 'dt', 'dist', 'd_spacetime']]\n",
      "    match_check.sort('d_spacetime', inplace=True)\n",
      "    print match_check.head()\n",
      "    \n",
      "    \n",
      "\n"
     ],
     "language": "python",
     "metadata": {},
     "outputs": []
    },
    {
     "cell_type": "markdown",
     "metadata": {},
     "source": [
      "these are two cells that aren't part of the workflow but that were used to sanity check the processing"
     ]
    },
    {
     "cell_type": "code",
     "collapsed": false,
     "input": [
      "def double_check_duration(experiment, graph1, graph2, node_ids):\n",
      "    frame_times = experiment.frame_times\n",
      "    step_data, durations = [], []\n",
      "    good_nodes = []\n",
      "    bad_nodes = []\n",
      "    for node in node_ids:\n",
      "        node_data = graph2.node[node]\n",
      "        bf, df = node_data['born'], node_data['died']\n",
      "        components = node_data.get('components', [])\n",
      "        \n",
      "        node_checks_out = True\n",
      "        for c in components:\n",
      "            nd = graph1.node[c]\n",
      "            cb, cd = nd['born'], nd['died']\n",
      "            if cb < bf:\n",
      "                node_checks_out = False\n",
      "            if cd > df:\n",
      "                node_checks_out = False\n",
      "        if node_checks_out:\n",
      "            good_nodes.append(node)\n",
      "        else:\n",
      "            bad_nodes.append(node)\n",
      "    print len(bad_nodes), 'bad nodes'\n",
      "    print len(good_nodes), 'good nodes'\n",
      "                \n",
      "\n",
      "double_check_duration(experiment, original_graph, graph2, graph2.nodes(data=False))"
     ],
     "language": "python",
     "metadata": {},
     "outputs": []
    },
    {
     "cell_type": "code",
     "collapsed": false,
     "input": [
      "print len(moved_bids), 'nodes moved over threshold in origional graph'\n",
      "graph3 = original_graph.copy()\n",
      "print 'orig', len(find_nodes_containing_bids(graph3, moved_bids))\n",
      "collider.remove_nodes_outside_roi(graph3, experiment)\n",
      "print 'roi', len(find_nodes_containing_bids(graph3, moved_bids))\n",
      "collider.remove_blank_nodes(graph3, experiment)\n",
      "print 'blank', len(find_nodes_containing_bids(graph3, moved_bids))\n",
      "collider.removal_suite(graph3) #, assimilate=-1)\n",
      "print 'suite', len(find_nodes_containing_bids(graph3, moved_bids))\n",
      "bridge_gaps(experiment, graph3, threshold=0.001)\n",
      "print 'gaps', len(find_nodes_containing_bids(graph3, moved_bids))\n",
      "\n",
      "steps3, durations3 = calculate_duration_data_from_graph(experiment, graph3, graph3.nodes(data=False))\n",
      "\n",
      "fig, ax = plt.subplots()\n",
      "step_plot(ax, steps3)\n",
      "ax.set_title('second try at figuring out graph')\n",
      "ax.set_xlabel('minutes')\n",
      "\n",
      "fig, ax = plt.subplots()\n",
      "make_cdf(ax, durations3)\n",
      "\n",
      "plt.show()\n",
      "\n"
     ],
     "language": "python",
     "metadata": {},
     "outputs": []
    },
    {
     "cell_type": "code",
     "collapsed": false,
     "input": [],
     "language": "python",
     "metadata": {},
     "outputs": []
    },
    {
     "cell_type": "code",
     "collapsed": false,
     "input": [],
     "language": "python",
     "metadata": {},
     "outputs": []
    },
    {
     "cell_type": "code",
     "collapsed": false,
     "input": [],
     "language": "python",
     "metadata": {},
     "outputs": []
    }
   ],
   "metadata": {}
  }
 ]
}