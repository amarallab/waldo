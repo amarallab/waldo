{
 "metadata": {
  "name": "",
  "signature": "sha256:209cb3723922012486a4568102ded08f1e43b1b86f6d1fa6d7db4ed9150b949a"
 },
 "nbformat": 3,
 "nbformat_minor": 0,
 "worksheets": [
  {
   "cells": [
    {
     "cell_type": "code",
     "collapsed": false,
     "input": [
      "%load_ext autoreload\n",
      "%autoreload 2\n",
      "%matplotlib inline"
     ],
     "language": "python",
     "metadata": {},
     "outputs": [],
     "prompt_number": 1
    },
    {
     "cell_type": "code",
     "collapsed": false,
     "input": [
      "#from __future__ import print_function, absolute_import, unicode_literals, division\n",
      "#import six\n",
      "#from six.moves import (zip, filter, map, reduce, input, range)\n",
      "\n",
      "import pathcustomize\n",
      "\n",
      "import sys\n",
      "import os\n",
      "import pathlib\n",
      "import pickle\n",
      "import platform\n",
      "print('Python {} ({}) [{}] on {}'.format(platform.python_version(), ', '.join(platform.python_build()), \n",
      "                                       platform.python_compiler(), sys.platform))\n",
      "\n",
      "import pandas as pd\n",
      "import math\n",
      "\n",
      "import matplotlib.pyplot as plt\n",
      "import prettyplotlib as ppl\n",
      "import matplotlib.gridspec as gridspec\n",
      "import matplotlib.patches as patches\n",
      "import matplotlib.path as path\n",
      "from mpltools import style\n",
      "from mpltools import layout\n",
      "from statsmodels.distributions.empirical_distribution import ECDF\n",
      "\n",
      "\n",
      "from conf import settings\n",
      "from wio.experiment import Experiment\n",
      "import wio.file_manager as fm\n",
      "import report_card\n",
      "import collider\n",
      "import tape as tp\n",
      "\n",
      "DATA_DIR = settings.LOGISTICS['filesystem_data']\n",
      "style.use('ggplot')"
     ],
     "language": "python",
     "metadata": {},
     "outputs": [
      {
       "output_type": "stream",
       "stream": "stdout",
       "text": [
        "Python 2.7.6 (default, Mar 22 2014 22:59:56) [GCC 4.8.2] on linux2\n"
       ]
      }
     ],
     "prompt_number": 20
    },
    {
     "cell_type": "heading",
     "level": 1,
     "metadata": {},
     "source": [
      "ALL FUNCTIONS"
     ]
    },
    {
     "cell_type": "code",
     "collapsed": false,
     "input": [
      "def bridge_gaps(experiment, graph, threshold=0.001):\n",
      "    taper = tp.Taper(experiment=experiment, graph=graph)\n",
      "    start, end = taper.find_start_and_end_nodes()\n",
      "    gaps = taper.score_potential_gaps(start, end)\n",
      "    gt = taper.greedy_tape(gaps, threshold=threshold, add_edges=True)\n",
      "    graph = taper._graph"
     ],
     "language": "python",
     "metadata": {},
     "outputs": [],
     "prompt_number": 3
    },
    {
     "cell_type": "code",
     "collapsed": false,
     "input": [
      "def step_plot(ax, step_df, true_num=30, only_best=False):\n",
      "\n",
      "    steps = []\n",
      "    n_steps = len(step_df)\n",
      "\n",
      "    xs = list(step_df['t0'])\n",
      "    widths = list(step_df['lifespan'])\n",
      "    height = 1\n",
      "\n",
      "    color_cycle = ax._get_lines.color_cycle\n",
      "    color1 = color_cycle.next()\n",
      "    color2 = color_cycle.next()\n",
      "    for y, (x, width) in enumerate(zip(xs, widths)):\n",
      "        steps.append(patches.Rectangle((x,y), height=height, width=width,\n",
      "                                       fill=True, fc=color1, ec=color1))\n",
      "    for step in steps:\n",
      "        ax.add_patch(step)\n",
      "\n",
      "    xmax = 60\n",
      "    ideal = patches.Rectangle((0,0), height=true_num, width=xmax,\n",
      "                              fill=True, ec=color2, fc=color2,\n",
      "                              alpha=0.5)\n",
      "\n",
      "    ax.add_patch(ideal)\n",
      "    ax.plot([0], color=color1, label='actual')\n",
      "    ax.plot([0], color=color2, alpha=0.5, label='ideal')\n",
      "    ax.set_xlim([0, xmax])\n",
      "    ax.set_ylim([0, n_steps+1])\n"
     ],
     "language": "python",
     "metadata": {},
     "outputs": [],
     "prompt_number": 4
    },
    {
     "cell_type": "code",
     "collapsed": false,
     "input": [
      "def calculate_duration_data_from_graph(experiment, graph, node_ids=[]):\n",
      "    if not node_ids:\n",
      "        node_ids = graph.nodes(data=False)\n",
      "    \n",
      "    frame_times = experiment.frame_times\n",
      "    step_data, durations = [], []\n",
      "    for node in node_ids:\n",
      "        node_data = graph.node[node]\n",
      "        bf, df = node_data['born_f'], node_data['died_f']\n",
      "        t0 = frame_times[bf - 1]\n",
      "        tN = frame_times[df - 1]\n",
      "        step_data.append({'bid':node, 't0':t0, 'tN':tN, 'lifespan':tN-t0})\n",
      "\n",
      "    steps = pd.DataFrame(step_data)\n",
      "    steps.set_index('bid', inplace=True)\n",
      "    steps = steps / 60.0   # convert to minutes.\n",
      "    steps.sort('t0', inplace=True)\n",
      "    steps = steps[['t0', 'tN', 'lifespan']]\n",
      "    durations = np.array(steps['lifespan'])\n",
      "    return steps, durations\n"
     ],
     "language": "python",
     "metadata": {},
     "outputs": [],
     "prompt_number": 5
    },
    {
     "cell_type": "code",
     "collapsed": false,
     "input": [
      "def make_cdf(ax, durations_list, label='', xmin=0, xmax=30):\n",
      "    x = np.linspace(xmin, xmax, 1000)\n",
      "    ecdf = ECDF(np.array(durations_list))\n",
      "    cdf = ecdf(x)\n",
      "    ax.plot(x, cdf, label=label, lw=2)\n",
      "    ax.set_xlabel('minutes')\n",
      "    ax.set_ylabel('CDF')\n"
     ],
     "language": "python",
     "metadata": {},
     "outputs": [],
     "prompt_number": 6
    },
    {
     "cell_type": "code",
     "collapsed": false,
     "input": [
      "def find_nodes_containing_bids(graph, bids):\n",
      "    nodes_with_moved_bids = []\n",
      "    for node in graph:\n",
      "        if node in bids:\n",
      "            nodes_with_moved_bids.append(node)\n",
      "            continue\n",
      "        for c in graph.node[node].get('components', []):\n",
      "            if c in bids:\n",
      "                nodes_with_moved_bids.append(node)\n",
      "                break\n",
      "    return nodes_with_moved_bids"
     ],
     "language": "python",
     "metadata": {},
     "outputs": [],
     "prompt_number": 7
    },
    {
     "cell_type": "code",
     "collapsed": false,
     "input": [
      "def show_reasons(df):\n",
      "\n",
      "    reasons = ['unknown', 'on_edge', 'id_change', 'outside-roi', 'timing']\n",
      "    if 'reason' not in df:\n",
      "        df['reason'] = 'unknown'\n",
      "        for reason in reasons[1:]:\n",
      "            df['reason'][df[reason]] = reason\n",
      "            print reason, len(df['reason'][df[reason]])\n",
      "\n",
      "    counts = {}\n",
      "    for reason in reasons:\n",
      "         counts[reason] = len(df[df['reason'] == reason])\n",
      "            \n",
      "    unknown_ids = list(df[df['reason'] == 'unknown'].index)\n",
      "    id_change_ids = list(df[df['reason'] == 'id_change'].index)\n",
      "\n",
      "    return unknown_ids, id_change_ids"
     ],
     "language": "python",
     "metadata": {},
     "outputs": [],
     "prompt_number": 8
    },
    {
     "cell_type": "code",
     "collapsed": false,
     "input": [
      "def rc_duration_hist_single(rc, step='roi'):\n",
      "    rc = rc.copy()\n",
      "    \n",
      "    # grab bins from column names\n",
      "    cols = rc.columns\n",
      "    bins = [(int(c[1:-3]), c) for c in cols if str(c[0]) == '>']\n",
      "    bins.sort(reverse=True)\n",
      "    #print bins\n",
      "    \n",
      "    # grab relevant step\n",
      "    step_data = rc.iloc[step]\n",
      "    print step_data[['step', '>10min','>20min','>30min','>40min','>50min']]\n",
      "    bin_data = []\n",
      "    running_total = 0\n",
      "    for bl, rc_label in bins:\n",
      "        a = step_data[rc_label]\n",
      "        n = a - running_total\n",
      "        running_total += n\n",
      "        #print bl, a, n\n",
      "        #print 'total', running_total\n",
      "        bin_data.append((bl, n))\n",
      "    bin_data.sort()\n",
      "    print bin_data\n",
      "    fig, ax = plt.subplots()\n",
      "    x = np.arange(len(bin_data))\n",
      "    labels, y = zip(*bin_data)\n",
      "    labels = [str(l) for l in labels]\n",
      "    ppl.bar(ax, x, y, annotate=True, xticklabels=labels, grid='y')\n",
      "    plt.show()\n",
      "\n",
      "def rc_duration_hist(rc):\n",
      "    rc = rc.copy()\n",
      "    cols = rc.columns\n",
      "    \n",
      "    bins = [(int(c[1:-3]), c) for c in cols if str(c[0]) == '>']\n",
      "\n",
      "    # grab bins from column names\n",
      "\n",
      "    bins.sort(reverse=True)\n",
      "    #print bins\n",
      "    \n",
      "    def step_data_to_bins(step):\n",
      "        # grab relevant step\n",
      "        step_data = rc.iloc[step]\n",
      "        #print step_data[['step', '>10min','>20min','>30min','>40min','>50min']]\n",
      "        bin_data = []\n",
      "        running_total = 0\n",
      "        for bl, rc_label in bins:\n",
      "            a = step_data[rc_label]\n",
      "            n = a - running_total\n",
      "            running_total += n\n",
      "            #print bl, a, n\n",
      "            #print 'total', running_total\n",
      "            bin_data.append((bl, n))\n",
      "        bin_data.sort()\n",
      "        bd = {} #'step':step_name}\n",
      "        for l, n in bin_data:\n",
      "            bd[l] = n\n",
      "        return bd\n",
      "    \n",
      "    bd1 = step_data_to_bins(1)\n",
      "    bd2 = step_data_to_bins(-1)\n",
      "    \n",
      "    #bd1['step'] = 'raw'\n",
      "    #bd2['step'] = 'final'\n",
      "    \n",
      "    df = pd.DataFrame([bd1, bd2], index=['raw', 'final'])\n",
      "    df.rename(columns={10:'10-19',20:'20-29', \n",
      "                       30:'30-39',40:'40-49', 50:'50-60'}, inplace=True)\n",
      " \n",
      "    ax = df.T.plot(kind='bar')\n",
      "    fig = plt.figure(plt.get_fignums()[0])\n",
      "    fig.set_size_inches(10, 5)\n",
      "    ax.set_ylabel('number of tracks')\n",
      "    ax.set_xlabel('track duration (min)')\n",
      "    plt.tight_layout()\n",
      "\n",
      "    plt.savefig('track-len-improvement.png')\n",
      "\n",
      "    #plt.show()\n",
      "    #print df\n",
      "    \n",
      "    \n",
      "    \n",
      "#rc_duration_hist(rc)\n",
      "#  \n"
     ],
     "language": "python",
     "metadata": {},
     "outputs": [],
     "prompt_number": 21
    },
    {
     "cell_type": "heading",
     "level": 1,
     "metadata": {},
     "source": [
      "Generate Report Card"
     ]
    },
    {
     "cell_type": "code",
     "collapsed": false,
     "input": [
      "ex_id = '20130614_120518'\n",
      "ex_id = '20130318_131111'\n",
      "#ex_id = '20130702_135704' # testset\n",
      "experiment = Experiment(experiment_id=ex_id, data_root=DATA_DIR)\n",
      "original_graph = experiment.graph\n",
      "graph = original_graph.copy()"
     ],
     "language": "python",
     "metadata": {},
     "outputs": [],
     "prompt_number": 22
    },
    {
     "cell_type": "code",
     "collapsed": false,
     "input": [
      "#graph2, rc = report_card.create_report_card(experiment, graph.copy())"
     ],
     "language": "python",
     "metadata": {},
     "outputs": [],
     "prompt_number": 23
    },
    {
     "cell_type": "code",
     "collapsed": false,
     "input": [
      "#rc.head()"
     ],
     "language": "python",
     "metadata": {},
     "outputs": [],
     "prompt_number": 24
    },
    {
     "cell_type": "code",
     "collapsed": false,
     "input": [],
     "language": "python",
     "metadata": {},
     "outputs": [],
     "prompt_number": 24
    },
    {
     "cell_type": "code",
     "collapsed": false,
     "input": [
      "graph2, rc = report_card.collision_iteration2(experiment, graph.copy())"
     ],
     "language": "python",
     "metadata": {},
     "outputs": [
      {
       "output_type": "stream",
       "stream": "stderr",
       "text": [
        "Iteration 1\n"
       ]
      },
      {
       "output_type": "stream",
       "stream": "stderr",
       "text": [
        "Validation pass\n"
       ]
      },
      {
       "output_type": "stream",
       "stream": "stdout",
       "text": [
        "collisions from bbox\n",
        "\t67 suspects. trying 0 again"
       ]
      },
      {
       "output_type": "stream",
       "stream": "stdout",
       "text": [
        "\n",
        "\t26 suspects. trying 26 again"
       ]
      },
      {
       "output_type": "stream",
       "stream": "stdout",
       "text": [
        "\n",
        "\t41 resolved 61%"
       ]
      },
      {
       "output_type": "stream",
       "stream": "stderr",
       "text": [
        "Validation pass\n"
       ]
      },
      {
       "output_type": "stream",
       "stream": "stderr",
       "text": [
        "Collapse Group\n"
       ]
      },
      {
       "output_type": "stream",
       "stream": "stderr",
       "text": [
        "Validation pass\n"
       ]
      },
      {
       "output_type": "stream",
       "stream": "stderr",
       "text": [
        "Remove Single Descendents\n"
       ]
      },
      {
       "output_type": "stream",
       "stream": "stderr",
       "text": [
        "Validation pass\n"
       ]
      },
      {
       "output_type": "stream",
       "stream": "stderr",
       "text": [
        "Remove Fission-Fusion\n"
       ]
      },
      {
       "output_type": "stream",
       "stream": "stderr",
       "text": [
        "Validation pass\n"
       ]
      },
      {
       "output_type": "stream",
       "stream": "stderr",
       "text": [
        "Remove Fission-Fusion (relative)\n"
       ]
      },
      {
       "output_type": "stream",
       "stream": "stderr",
       "text": [
        "Validation pass\n"
       ]
      },
      {
       "output_type": "stream",
       "stream": "stderr",
       "text": [
        "Remove Offshoots\n"
       ]
      },
      {
       "output_type": "stream",
       "stream": "stderr",
       "text": [
        "Validation pass\n"
       ]
      },
      {
       "output_type": "stream",
       "stream": "stderr",
       "text": [
        "Remove Single Descendents\n"
       ]
      },
      {
       "output_type": "stream",
       "stream": "stderr",
       "text": [
        "Validation pass\n"
       ]
      },
      {
       "output_type": "stream",
       "stream": "stderr",
       "text": [
        "Patch Gaps\n"
       ]
      },
      {
       "output_type": "stream",
       "stream": "stdout",
       "text": [
        "\n",
        "\t30 missing data 44%\n",
        "\t26 missing data, no overlap 38%\n",
        "\t0 full data, no  overlap 0%\n",
        "\ttrying to unzip collisions\n",
        "gap threshold"
       ]
      },
      {
       "output_type": "stream",
       "stream": "stderr",
       "text": [
        "Validation pass\n"
       ]
      },
      {
       "output_type": "stream",
       "stream": "stderr",
       "text": [
        "Iteration 2\n"
       ]
      },
      {
       "output_type": "stream",
       "stream": "stderr",
       "text": [
        "Validation pass\n"
       ]
      },
      {
       "output_type": "stream",
       "stream": "stdout",
       "text": [
        " 1e-05\n",
        "collisions from bbox"
       ]
      },
      {
       "output_type": "stream",
       "stream": "stdout",
       "text": [
        "\n",
        "\t10 suspects. trying 0 again\n",
        "\t0 suspects. trying 0 again"
       ]
      },
      {
       "output_type": "stream",
       "stream": "stderr",
       "text": [
        "Validation pass\n"
       ]
      },
      {
       "output_type": "stream",
       "stream": "stderr",
       "text": [
        "Collapse Group\n"
       ]
      },
      {
       "output_type": "stream",
       "stream": "stderr",
       "text": [
        "Validation pass\n"
       ]
      },
      {
       "output_type": "stream",
       "stream": "stderr",
       "text": [
        "Remove Single Descendents\n"
       ]
      },
      {
       "output_type": "stream",
       "stream": "stderr",
       "text": [
        "Validation pass\n"
       ]
      },
      {
       "output_type": "stream",
       "stream": "stderr",
       "text": [
        "Remove Fission-Fusion\n"
       ]
      },
      {
       "output_type": "stream",
       "stream": "stderr",
       "text": [
        "Validation pass\n"
       ]
      },
      {
       "output_type": "stream",
       "stream": "stderr",
       "text": [
        "Remove Fission-Fusion (relative)\n"
       ]
      },
      {
       "output_type": "stream",
       "stream": "stderr",
       "text": [
        "Validation pass\n"
       ]
      },
      {
       "output_type": "stream",
       "stream": "stderr",
       "text": [
        "Remove Offshoots\n"
       ]
      },
      {
       "output_type": "stream",
       "stream": "stderr",
       "text": [
        "Validation pass\n"
       ]
      },
      {
       "output_type": "stream",
       "stream": "stderr",
       "text": [
        "Remove Single Descendents\n"
       ]
      },
      {
       "output_type": "stream",
       "stream": "stderr",
       "text": [
        "Validation pass\n"
       ]
      },
      {
       "output_type": "stream",
       "stream": "stdout",
       "text": [
        "\n",
        "\t9 resolved 90%\n",
        "\t0 missing data 0%\n",
        "\t0 missing data, no overlap 0%\n",
        "\t1 full data, no  overlap 10%\n",
        "\ttrying to unzip collisions\n",
        "WARNING: more moving nodes than nodes in graph"
       ]
      },
      {
       "output_type": "stream",
       "stream": "stderr",
       "text": [
        "Patch Gaps\n"
       ]
      },
      {
       "output_type": "stream",
       "stream": "stdout",
       "text": [
        "\n",
        "401 moving nodes\n",
        "401 moving nodes, no repeats\n",
        "gap threshold"
       ]
      },
      {
       "output_type": "stream",
       "stream": "stderr",
       "text": [
        "Validation pass\n"
       ]
      },
      {
       "output_type": "stream",
       "stream": "stdout",
       "text": [
        " 1e-05\n",
        "WARNING: more moving nodes than nodes in graph"
       ]
      },
      {
       "output_type": "stream",
       "stream": "stderr",
       "text": [
        "Iteration 3\n"
       ]
      },
      {
       "output_type": "stream",
       "stream": "stderr",
       "text": [
        "Validation pass\n"
       ]
      },
      {
       "output_type": "stream",
       "stream": "stdout",
       "text": [
        "\n",
        "401 moving nodes\n",
        "401 moving nodes, no repeats\n",
        "collisions from bbox\n",
        "\t2 suspects. trying 0 again\n",
        "\t0 resolved 0%"
       ]
      },
      {
       "output_type": "stream",
       "stream": "stderr",
       "text": [
        "Validation pass\n"
       ]
      },
      {
       "output_type": "stream",
       "stream": "stdout",
       "text": [
        "\n",
        "\t0 missing data 0%\n",
        "\t0 missing data, no overlap 0%\n",
        "\t2 full data, no  overlap 100%\n",
        "\ttrying to unzip collisions\n",
        "WARNING: more moving nodes than nodes in graph"
       ]
      },
      {
       "output_type": "stream",
       "stream": "stderr",
       "text": [
        "Collapse Group\n"
       ]
      },
      {
       "output_type": "stream",
       "stream": "stderr",
       "text": [
        "Validation pass\n"
       ]
      },
      {
       "output_type": "stream",
       "stream": "stderr",
       "text": [
        "Remove Single Descendents\n"
       ]
      },
      {
       "output_type": "stream",
       "stream": "stderr",
       "text": [
        "Validation pass\n"
       ]
      },
      {
       "output_type": "stream",
       "stream": "stderr",
       "text": [
        "Remove Fission-Fusion\n"
       ]
      },
      {
       "output_type": "stream",
       "stream": "stderr",
       "text": [
        "Validation pass\n"
       ]
      },
      {
       "output_type": "stream",
       "stream": "stderr",
       "text": [
        "Remove Fission-Fusion (relative)\n"
       ]
      },
      {
       "output_type": "stream",
       "stream": "stderr",
       "text": [
        "Validation pass\n"
       ]
      },
      {
       "output_type": "stream",
       "stream": "stderr",
       "text": [
        "Remove Offshoots\n"
       ]
      },
      {
       "output_type": "stream",
       "stream": "stderr",
       "text": [
        "Validation pass\n"
       ]
      },
      {
       "output_type": "stream",
       "stream": "stderr",
       "text": [
        "Remove Single Descendents\n"
       ]
      },
      {
       "output_type": "stream",
       "stream": "stderr",
       "text": [
        "Validation pass\n"
       ]
      },
      {
       "output_type": "stream",
       "stream": "stdout",
       "text": [
        "\n",
        "401 moving nodes\n",
        "401 moving nodes, no repeats\n",
        "WARNING: more moving nodes than nodes in graph"
       ]
      },
      {
       "output_type": "stream",
       "stream": "stderr",
       "text": [
        "Patch Gaps\n"
       ]
      },
      {
       "output_type": "stream",
       "stream": "stdout",
       "text": [
        "\n",
        "401 moving nodes\n",
        "401 moving nodes, no repeats\n",
        "gap threshold"
       ]
      },
      {
       "output_type": "stream",
       "stream": "stderr",
       "text": [
        "Validation pass\n"
       ]
      },
      {
       "output_type": "stream",
       "stream": "stdout",
       "text": [
        " 1e-05\n",
        "WARNING: more moving nodes than nodes in graph"
       ]
      },
      {
       "output_type": "stream",
       "stream": "stderr",
       "text": [
        "No change since last iteration, halting\n"
       ]
      },
      {
       "output_type": "stream",
       "stream": "stdout",
       "text": [
        "\n",
        "401 moving nodes\n",
        "401 moving nodes, no repeats\n",
        "               step  total-nodes  isolated-nodes  duration-med  moving-nodes\n",
        "0               raw        68081            2028          0.00           323\n",
        "1               roi        25629            4935          0.00           323\n",
        "2             blank        21732            1058          0.00           323\n",
        "3   collisions (41)        21691            1058          0.00           323\n",
        "4          simplify         1573            1328          1.79           518\n",
        "5              gaps         1573              58          1.79           518\n",
        "6    collisions (9)         1564              58          1.77           518\n",
        "7          simplify          398             202         37.76           401\n",
        "8              gaps          398             202         37.76           401\n",
        "9    collisions (0)          398             202         37.76           401\n",
        "10         simplify          398             202         37.76           401\n",
        "11             gaps          398             202         37.76           401\n",
        "\n",
        "[12 rows x 5 columns]\n",
        "               step  total-nodes  >10min  >20min  >30min  >40min  >50min\n",
        "0               raw        68081       4       2       1       0       0\n",
        "1               roi        25629       3       1       1       0       0\n",
        "2             blank        21732       3       1       1       0       0\n",
        "3   collisions (41)        21691       3       1       1       0       0\n",
        "4          simplify         1573      14       5       3       0       0\n",
        "5              gaps         1573      14       5       3       0       0\n",
        "6    collisions (9)         1564      14       5       3       0       0\n",
        "7          simplify          398      19       6       3       1       0\n",
        "8              gaps          398      19       6       3       1       0\n",
        "9    collisions (0)          398      19       6       3       1       0\n",
        "10         simplify          398      19       6       3       1       0\n",
        "11             gaps          398      19       6       3       1       0\n",
        "\n",
        "[12 rows x 7 columns]\n",
        "               step     wm_0min    wm_10min   wm_20min    wm_30min   wm_40min  \\\n",
        "0               raw  811.160367   31.388433  23.307783   30.721217   0.000000   \n",
        "1               roi  763.591117   31.388433   0.000000   30.721217   0.000000   \n",
        "2             blank  763.591117   31.388433   0.000000   30.721217   0.000000   \n",
        "3   collisions (41)  763.092133   31.388433   0.000000   30.721217   0.000000   \n",
        "4          simplify  549.107750  123.150100  47.122967  113.331617   0.000000   \n",
        "5              gaps  549.107750  123.150100  47.122967  113.331617   0.000000   \n",
        "6    collisions (9)  548.219783  123.150100  47.122967  113.331617   0.000000   \n",
        "7          simplify  573.151950  175.806267  70.876883   75.687367  41.877967   \n",
        "8              gaps  573.151950  175.806267  70.876883   75.687367  41.877967   \n",
        "9    collisions (0)  573.151950  175.806267  70.876883   75.687367  41.877967   \n",
        "10         simplify  573.151950  175.806267  70.876883   75.687367  41.877967   \n",
        "11             gaps  573.151950  175.806267  70.876883   75.687367  41.877967   \n",
        "\n",
        "    wm_50min  \n",
        "0          0  \n",
        "1          0  \n",
        "2          0  \n",
        "3          0  \n",
        "4          0  \n",
        "5          0  \n",
        "6          0  \n",
        "7          0  \n",
        "8          0  \n",
        "9          0  \n",
        "10         0  \n",
        "11         0  \n",
        "\n",
        "[12 rows x 7 columns]\n"
       ]
      }
     ],
     "prompt_number": 25
    },
    {
     "cell_type": "code",
     "collapsed": false,
     "input": [
      "rc.tail()"
     ],
     "language": "python",
     "metadata": {},
     "outputs": [
      {
       "html": [
        "<div style=\"max-height:1000px;max-width:1500px;overflow:auto;\">\n",
        "<table border=\"1\" class=\"dataframe\">\n",
        "  <thead>\n",
        "    <tr style=\"text-align: right;\">\n",
        "      <th></th>\n",
        "      <th># components</th>\n",
        "      <th>&gt;10min</th>\n",
        "      <th>&gt;20min</th>\n",
        "      <th>&gt;30min</th>\n",
        "      <th>&gt;40min</th>\n",
        "      <th>&gt;50min</th>\n",
        "      <th>connected-nodes</th>\n",
        "      <th>duration-mean</th>\n",
        "      <th>duration-med</th>\n",
        "      <th>duration-std</th>\n",
        "      <th>giant-component-size</th>\n",
        "      <th>isolated-nodes</th>\n",
        "      <th>moving-nodes</th>\n",
        "      <th>step</th>\n",
        "      <th>total-nodes</th>\n",
        "      <th>wm_0min</th>\n",
        "      <th>wm_10min</th>\n",
        "      <th>wm_20min</th>\n",
        "      <th>wm_30min</th>\n",
        "      <th>wm_40min</th>\n",
        "      <th></th>\n",
        "    </tr>\n",
        "  </thead>\n",
        "  <tbody>\n",
        "    <tr>\n",
        "      <th>7 </th>\n",
        "      <td> 423</td>\n",
        "      <td> 18</td>\n",
        "      <td> 6</td>\n",
        "      <td> 3</td>\n",
        "      <td> 1</td>\n",
        "      <td> 0</td>\n",
        "      <td> 204</td>\n",
        "      <td> 91.51</td>\n",
        "      <td> 15.62</td>\n",
        "      <td> 235.85</td>\n",
        "      <td> 43</td>\n",
        "      <td> 390</td>\n",
        "      <td> 501</td>\n",
        "      <td>       simplify</td>\n",
        "      <td> 594</td>\n",
        "      <td> 559.13405</td>\n",
        "      <td> 159.9784</td>\n",
        "      <td> 70.876883</td>\n",
        "      <td> 75.382367</td>\n",
        "      <td> 40.554033</td>\n",
        "      <td>...</td>\n",
        "    </tr>\n",
        "    <tr>\n",
        "      <th>8 </th>\n",
        "      <td> 423</td>\n",
        "      <td> 18</td>\n",
        "      <td> 6</td>\n",
        "      <td> 3</td>\n",
        "      <td> 1</td>\n",
        "      <td> 0</td>\n",
        "      <td> 204</td>\n",
        "      <td> 91.51</td>\n",
        "      <td> 15.62</td>\n",
        "      <td> 235.85</td>\n",
        "      <td> 43</td>\n",
        "      <td> 390</td>\n",
        "      <td> 501</td>\n",
        "      <td>           gaps</td>\n",
        "      <td> 594</td>\n",
        "      <td> 559.13405</td>\n",
        "      <td> 159.9784</td>\n",
        "      <td> 70.876883</td>\n",
        "      <td> 75.382367</td>\n",
        "      <td> 40.554033</td>\n",
        "      <td>...</td>\n",
        "    </tr>\n",
        "    <tr>\n",
        "      <th>9 </th>\n",
        "      <td> 423</td>\n",
        "      <td> 18</td>\n",
        "      <td> 6</td>\n",
        "      <td> 3</td>\n",
        "      <td> 1</td>\n",
        "      <td> 0</td>\n",
        "      <td> 204</td>\n",
        "      <td> 91.51</td>\n",
        "      <td> 15.62</td>\n",
        "      <td> 235.85</td>\n",
        "      <td> 43</td>\n",
        "      <td> 390</td>\n",
        "      <td> 501</td>\n",
        "      <td> collisions (0)</td>\n",
        "      <td> 594</td>\n",
        "      <td> 559.13405</td>\n",
        "      <td> 159.9784</td>\n",
        "      <td> 70.876883</td>\n",
        "      <td> 75.382367</td>\n",
        "      <td> 40.554033</td>\n",
        "      <td>...</td>\n",
        "    </tr>\n",
        "    <tr>\n",
        "      <th>10</th>\n",
        "      <td> 423</td>\n",
        "      <td> 18</td>\n",
        "      <td> 6</td>\n",
        "      <td> 3</td>\n",
        "      <td> 1</td>\n",
        "      <td> 0</td>\n",
        "      <td> 204</td>\n",
        "      <td> 91.51</td>\n",
        "      <td> 15.62</td>\n",
        "      <td> 235.85</td>\n",
        "      <td> 43</td>\n",
        "      <td> 390</td>\n",
        "      <td> 501</td>\n",
        "      <td>       simplify</td>\n",
        "      <td> 594</td>\n",
        "      <td> 559.13405</td>\n",
        "      <td> 159.9784</td>\n",
        "      <td> 70.876883</td>\n",
        "      <td> 75.382367</td>\n",
        "      <td> 40.554033</td>\n",
        "      <td>...</td>\n",
        "    </tr>\n",
        "    <tr>\n",
        "      <th>11</th>\n",
        "      <td> 423</td>\n",
        "      <td> 18</td>\n",
        "      <td> 6</td>\n",
        "      <td> 3</td>\n",
        "      <td> 1</td>\n",
        "      <td> 0</td>\n",
        "      <td> 204</td>\n",
        "      <td> 91.51</td>\n",
        "      <td> 15.62</td>\n",
        "      <td> 235.85</td>\n",
        "      <td> 43</td>\n",
        "      <td> 390</td>\n",
        "      <td> 501</td>\n",
        "      <td>           gaps</td>\n",
        "      <td> 594</td>\n",
        "      <td> 559.13405</td>\n",
        "      <td> 159.9784</td>\n",
        "      <td> 70.876883</td>\n",
        "      <td> 75.382367</td>\n",
        "      <td> 40.554033</td>\n",
        "      <td>...</td>\n",
        "    </tr>\n",
        "  </tbody>\n",
        "</table>\n",
        "<p>5 rows \u00d7 21 columns</p>\n",
        "</div>"
       ],
       "metadata": {},
       "output_type": "pyout",
       "prompt_number": 14,
       "text": [
        "    # components  >10min  >20min  >30min  >40min  >50min  connected-nodes  \\\n",
        "7            423      18       6       3       1       0              204   \n",
        "8            423      18       6       3       1       0              204   \n",
        "9            423      18       6       3       1       0              204   \n",
        "10           423      18       6       3       1       0              204   \n",
        "11           423      18       6       3       1       0              204   \n",
        "\n",
        "    duration-mean  duration-med  duration-std  giant-component-size  \\\n",
        "7           91.51         15.62        235.85                    43   \n",
        "8           91.51         15.62        235.85                    43   \n",
        "9           91.51         15.62        235.85                    43   \n",
        "10          91.51         15.62        235.85                    43   \n",
        "11          91.51         15.62        235.85                    43   \n",
        "\n",
        "    isolated-nodes  moving-nodes            step  total-nodes    wm_0min  \\\n",
        "7              390           501        simplify          594  559.13405   \n",
        "8              390           501            gaps          594  559.13405   \n",
        "9              390           501  collisions (0)          594  559.13405   \n",
        "10             390           501        simplify          594  559.13405   \n",
        "11             390           501            gaps          594  559.13405   \n",
        "\n",
        "    wm_10min   wm_20min   wm_30min   wm_40min      \n",
        "7   159.9784  70.876883  75.382367  40.554033 ...  \n",
        "8   159.9784  70.876883  75.382367  40.554033 ...  \n",
        "9   159.9784  70.876883  75.382367  40.554033 ...  \n",
        "10  159.9784  70.876883  75.382367  40.554033 ...  \n",
        "11  159.9784  70.876883  75.382367  40.554033 ...  \n",
        "\n",
        "[5 rows x 21 columns]"
       ]
      }
     ],
     "prompt_number": 14
    },
    {
     "cell_type": "code",
     "collapsed": false,
     "input": [
      "rc_duration_hist(rc)  "
     ],
     "language": "python",
     "metadata": {},
     "outputs": [
      {
       "metadata": {},
       "output_type": "display_data",
       "png": "[encoded data removed]",
       "text": [
        "<matplotlib.figure.Figure at 0x7f58dd519f50>"
       ]
      }
     ],
     "prompt_number": 15
    },
    {
     "cell_type": "code",
     "collapsed": false,
     "input": [
      "def rc_worm_minutes_hist(rc):\n",
      "    rc = rc.copy()\n",
      "    rc.rename(columns={'wm_0min':'0-9', 'wm_10min':'10-19','wm_20min':'20-29', \n",
      "                       'wm_30min':'30-39','wm_40min':'40-49', 'wm_50min':'50-60'}, inplace=True)\n",
      "    rc = rc[['0-9', '10-19', '20-29', '30-39', '40-49', '50-60']]\n",
      "\n",
      "    # for sanity check\n",
      "    #totals = rc['0'] +  rc['10'] + rc['20'] + rc['30'] + rc['40'] + rc['50']\n",
      "    #print totals\n",
      "    # grab bins from column names\n",
      "    cols = rc.columns\n",
      "    bins = [(int(c[1:-3]), c) for c in cols if str(c[0]) == '>']\n",
      "    bins.sort(reverse=True)\n",
      "    #print bins\n",
      "    \n",
      "    def step_data_to_bins(step):\n",
      "        # grab relevant step\n",
      "        step_data = rc.iloc[step]\n",
      "        #step_name = step_data['step']\n",
      "        \n",
      "        return step_data\n",
      "    \n",
      "    bd1 = step_data_to_bins(1)\n",
      "    bd2 = step_data_to_bins(-1)\n",
      "    \n",
      "    #bd1['step'] = 'raw'\n",
      "    #bd2['step'] = 'final'\n",
      "    \n",
      "    df = pd.DataFrame([bd1, bd2], index=['raw', 'final'])\n",
      "    #df.set_index('step', inplace=True)\n",
      "    ax = df.T.plot(kind='bar')\n",
      "    fig = plt.figure(plt.get_fignums()[0])\n",
      "    fig.set_size_inches(10, 5)\n",
      "\n",
      "    ax.set_ylabel('total minutes of track')\n",
      "    ax.set_xlabel('track duration (min)')\n",
      "    plt.savefig('worm-min-improvement.png')\n",
      "    plt.tight_layout()\n",
      "    #plt.show()\n",
      "    print df\n",
      "    \n",
      "rc_worm_minutes_hist(rc)"
     ],
     "language": "python",
     "metadata": {},
     "outputs": [
      {
       "output_type": "stream",
       "stream": "stdout",
       "text": [
        "              0-9       10-19      20-29      30-39      40-49  50-60\n",
        "raw    763.591117   31.388433   0.000000  30.721217   0.000000      0\n",
        "final  559.134050  159.978400  70.876883  75.382367  40.554033      0\n",
        "\n",
        "[2 rows x 6 columns]\n"
       ]
      },
      {
       "metadata": {},
       "output_type": "display_data",
       "png": "[encoded data removed]",
       "text": [
        "<matplotlib.figure.Figure at 0x7f58df42f2d0>"
       ]
      }
     ],
     "prompt_number": 16
    },
    {
     "cell_type": "code",
     "collapsed": false,
     "input": [
      "starts, ends = report_card.determine_lost_and_found_causes(experiment, graph2)\n",
      "print\n",
      "print 'starts'\n",
      "show_reasons(starts)\n",
      "print 'ends'\n",
      "show_reasons(ends)\n",
      "print"
     ],
     "language": "python",
     "metadata": {},
     "outputs": [
      {
       "output_type": "stream",
       "stream": "stdout",
       "text": [
        "64160 blobs have terminal data\n",
        "594 nodes in graph\n",
        "571 overlap\n",
        "404 have more than 1 blob id in them\n",
        "\n"
       ]
      },
      {
       "output_type": "stream",
       "stream": "stdout",
       "text": [
        "starts\n",
        "ends\n",
        "\n"
       ]
      },
      {
       "output_type": "stream",
       "stream": "stderr",
       "text": [
        "/home/visitors/peterwinter/.pyenv/versions/general/local/lib/python2.7/site-packages/pandas/core/frame.py:2175: SettingWithCopyWarning: A value is trying to be set on a copy of a slice from a DataFrame\n",
        "  **kwargs)\n"
       ]
      }
     ],
     "prompt_number": 17
    },
    {
     "cell_type": "code",
     "collapsed": false,
     "input": [
      "def summarize_loss_report(df):\n",
      "    df = df.copy()\n",
      "    df['lifespan_t'] = df['lifespan_t'] / 60.0\n",
      "    bin_dividers = [1, 5, 10, 20, 61]\n",
      "    reasons = ['unknown', 'on_edge', 'id_change', 'outside-roi', 'timing']\n",
      "    #stuff = pd.DataFrame(columns=reasons, index=bin_dividers)\n",
      "    data = []\n",
      "    for bd in bin_dividers:\n",
      "        b = df[df['lifespan_t'] < bd]\n",
      "        df = df[df['lifespan_t'] >= bd]\n",
      "        #print bd\n",
      "        #print b.head()\n",
      "        counts = {}\n",
      "        for reason in reasons:\n",
      "            counts[reason] = len(b[b['reason'] == reason])  \n",
      "            \n",
      "        data.append(counts)\n",
      "    \n",
      "    report_summary = pd.DataFrame(data)\n",
      "    report_summary['lifespan'] = bin_dividers\n",
      "    report_summary.set_index('lifespan', inplace=True)\n",
      "    report_summary = report_summary[['unknown', 'id_change', 'timing', 'on_edge', 'outside-roi']]\n",
      "    print report_summary\n",
      "    return report_summary\n",
      "\n",
      "print 'ends'\n",
      "summarize_loss_report(ends)"
     ],
     "language": "python",
     "metadata": {},
     "outputs": [
      {
       "output_type": "stream",
       "stream": "stdout",
       "text": [
        "ends\n",
        "          unknown  id_change  timing  on_edge  outside-roi\n",
        "lifespan                                                  \n",
        "1             297         69       1       33            1\n",
        "5              74         17       7       29            0\n",
        "10              9          7       3        7            2\n",
        "20              3          7       2        0            0\n",
        "61              1          3       2        0            0\n",
        "\n",
        "[5 rows x 5 columns]\n"
       ]
      },
      {
       "html": [
        "<div style=\"max-height:1000px;max-width:1500px;overflow:auto;\">\n",
        "<table border=\"1\" class=\"dataframe\">\n",
        "  <thead>\n",
        "    <tr style=\"text-align: right;\">\n",
        "      <th></th>\n",
        "      <th>unknown</th>\n",
        "      <th>id_change</th>\n",
        "      <th>timing</th>\n",
        "      <th>on_edge</th>\n",
        "      <th>outside-roi</th>\n",
        "    </tr>\n",
        "    <tr>\n",
        "      <th>lifespan</th>\n",
        "      <th></th>\n",
        "      <th></th>\n",
        "      <th></th>\n",
        "      <th></th>\n",
        "      <th></th>\n",
        "    </tr>\n",
        "  </thead>\n",
        "  <tbody>\n",
        "    <tr>\n",
        "      <th>1 </th>\n",
        "      <td> 297</td>\n",
        "      <td> 69</td>\n",
        "      <td> 1</td>\n",
        "      <td> 33</td>\n",
        "      <td> 1</td>\n",
        "    </tr>\n",
        "    <tr>\n",
        "      <th>5 </th>\n",
        "      <td>  74</td>\n",
        "      <td> 17</td>\n",
        "      <td> 7</td>\n",
        "      <td> 29</td>\n",
        "      <td> 0</td>\n",
        "    </tr>\n",
        "    <tr>\n",
        "      <th>10</th>\n",
        "      <td>   9</td>\n",
        "      <td>  7</td>\n",
        "      <td> 3</td>\n",
        "      <td>  7</td>\n",
        "      <td> 2</td>\n",
        "    </tr>\n",
        "    <tr>\n",
        "      <th>20</th>\n",
        "      <td>   3</td>\n",
        "      <td>  7</td>\n",
        "      <td> 2</td>\n",
        "      <td>  0</td>\n",
        "      <td> 0</td>\n",
        "    </tr>\n",
        "    <tr>\n",
        "      <th>61</th>\n",
        "      <td>   1</td>\n",
        "      <td>  3</td>\n",
        "      <td> 2</td>\n",
        "      <td>  0</td>\n",
        "      <td> 0</td>\n",
        "    </tr>\n",
        "  </tbody>\n",
        "</table>\n",
        "<p>5 rows \u00d7 5 columns</p>\n",
        "</div>"
       ],
       "metadata": {},
       "output_type": "pyout",
       "prompt_number": 18,
       "text": [
        "          unknown  id_change  timing  on_edge  outside-roi\n",
        "lifespan                                                  \n",
        "1             297         69       1       33            1\n",
        "5              74         17       7       29            0\n",
        "10              9          7       3        7            2\n",
        "20              3          7       2        0            0\n",
        "61              1          3       2        0            0\n",
        "\n",
        "[5 rows x 5 columns]"
       ]
      }
     ],
     "prompt_number": 18
    },
    {
     "cell_type": "code",
     "collapsed": false,
     "input": [
      "print 'starts'\n",
      "summarize_loss_report(starts)"
     ],
     "language": "python",
     "metadata": {},
     "outputs": [
      {
       "output_type": "stream",
       "stream": "stdout",
       "text": [
        "starts\n",
        "          unknown  id_change  timing  on_edge  outside-roi\n",
        "lifespan                                                  \n",
        "1             231        116      34       20            0\n",
        "5              61         22      13       29            2\n",
        "10             14         12       0        1            1\n",
        "20              3          6       1        1            1\n",
        "61              2          2       0        2            0\n",
        "\n",
        "[5 rows x 5 columns]\n"
       ]
      },
      {
       "html": [
        "<div style=\"max-height:1000px;max-width:1500px;overflow:auto;\">\n",
        "<table border=\"1\" class=\"dataframe\">\n",
        "  <thead>\n",
        "    <tr style=\"text-align: right;\">\n",
        "      <th></th>\n",
        "      <th>unknown</th>\n",
        "      <th>id_change</th>\n",
        "      <th>timing</th>\n",
        "      <th>on_edge</th>\n",
        "      <th>outside-roi</th>\n",
        "    </tr>\n",
        "    <tr>\n",
        "      <th>lifespan</th>\n",
        "      <th></th>\n",
        "      <th></th>\n",
        "      <th></th>\n",
        "      <th></th>\n",
        "      <th></th>\n",
        "    </tr>\n",
        "  </thead>\n",
        "  <tbody>\n",
        "    <tr>\n",
        "      <th>1 </th>\n",
        "      <td> 231</td>\n",
        "      <td> 116</td>\n",
        "      <td> 34</td>\n",
        "      <td> 20</td>\n",
        "      <td> 0</td>\n",
        "    </tr>\n",
        "    <tr>\n",
        "      <th>5 </th>\n",
        "      <td>  61</td>\n",
        "      <td>  22</td>\n",
        "      <td> 13</td>\n",
        "      <td> 29</td>\n",
        "      <td> 2</td>\n",
        "    </tr>\n",
        "    <tr>\n",
        "      <th>10</th>\n",
        "      <td>  14</td>\n",
        "      <td>  12</td>\n",
        "      <td>  0</td>\n",
        "      <td>  1</td>\n",
        "      <td> 1</td>\n",
        "    </tr>\n",
        "    <tr>\n",
        "      <th>20</th>\n",
        "      <td>   3</td>\n",
        "      <td>   6</td>\n",
        "      <td>  1</td>\n",
        "      <td>  1</td>\n",
        "      <td> 1</td>\n",
        "    </tr>\n",
        "    <tr>\n",
        "      <th>61</th>\n",
        "      <td>   2</td>\n",
        "      <td>   2</td>\n",
        "      <td>  0</td>\n",
        "      <td>  2</td>\n",
        "      <td> 0</td>\n",
        "    </tr>\n",
        "  </tbody>\n",
        "</table>\n",
        "<p>5 rows \u00d7 5 columns</p>\n",
        "</div>"
       ],
       "metadata": {},
       "output_type": "pyout",
       "prompt_number": 19,
       "text": [
        "          unknown  id_change  timing  on_edge  outside-roi\n",
        "lifespan                                                  \n",
        "1             231        116      34       20            0\n",
        "5              61         22      13       29            2\n",
        "10             14         12       0        1            1\n",
        "20              3          6       1        1            1\n",
        "61              2          2       0        2            0\n",
        "\n",
        "[5 rows x 5 columns]"
       ]
      }
     ],
     "prompt_number": 19
    },
    {
     "cell_type": "code",
     "collapsed": false,
     "input": [],
     "language": "python",
     "metadata": {},
     "outputs": []
    },
    {
     "cell_type": "markdown",
     "metadata": {},
     "source": [
      "check if nodes that moved in raw data are still in the final graph"
     ]
    },
    {
     "cell_type": "code",
     "collapsed": false,
     "input": [
      "min_move = 2\n",
      "move = experiment.prepdata.load('moved')\n",
      "moved_bids = list(set(move[move['bl_moved'] >= min_move]['bid']))\n",
      "\n",
      "print len(moved_bids), 'nodes moved over threshold in origional graph'\n",
      "print len(find_nodes_containing_bids(original_graph, moved_bids)), 'check. this number should be same as first'\n",
      "\n",
      "new_moved_bids = find_nodes_containing_bids(graph2, moved_bids)\n",
      "print len(new_moved_bids), 'nodes moved over threshold in final graph'"
     ],
     "language": "python",
     "metadata": {},
     "outputs": []
    },
    {
     "cell_type": "markdown",
     "metadata": {},
     "source": [
      "Create step plots for before and after we 'fix' the data"
     ]
    },
    {
     "cell_type": "code",
     "collapsed": false,
     "input": [
      "true_num = experiment.true_num()\n",
      "\n",
      "steps0, durations0 = calculate_duration_data_from_graph(experiment, original_graph, original_graph.nodes(data=False))\n",
      "\n",
      "steps, durations = calculate_duration_data_from_graph(experiment, original_graph, moved_bids)\n",
      "\n",
      "fig, ax = plt.subplots()\n",
      "step_plot(ax, steps, true_num=true_num)\n",
      "ax.set_title('original blobs moving > 2 BL')\n",
      "ax.set_xlabel('minutes')\n",
      "plt.show()\n",
      "\n",
      "steps2, durations2 = calculate_duration_data_from_graph(experiment, graph2, graph2.nodes(data=False))\n",
      "\n",
      "fig, ax = plt.subplots()\n",
      "step_plot(ax, steps2, true_num=true_num)\n",
      "ax.set_title('all blobs in final graph')\n",
      "ax.set_xlabel('minutes')\n",
      "plt.show()\n",
      "\n",
      "moved_steps2, moved_durations2 = calculate_duration_data_from_graph(experiment, graph2, new_moved_bids)\n",
      "\n",
      "fig, ax = plt.subplots()\n",
      "step_plot(ax, moved_steps2, true_num=true_num)\n",
      "ax.set_title('original blobs moving > 2 bl shown from final graph data')\n",
      "ax.set_xlabel('minutes')\n",
      "plt.show()"
     ],
     "language": "python",
     "metadata": {},
     "outputs": []
    },
    {
     "cell_type": "code",
     "collapsed": false,
     "input": [
      "def top_step_plot(ax, step_df, min_duration=10, true_num=30):\n",
      "    best = step_df[step_df['lifespan'] >= 10]\n",
      "    print best.head()\n",
      "    \n",
      "    \n",
      "    steps = []\n",
      "    n_steps = len(best)\n",
      "\n",
      "    xs = list(best['t0'])\n",
      "    widths = list(best['lifespan'])\n",
      "    height = 1\n",
      "\n",
      "    color_cycle = ax._get_lines.color_cycle\n",
      "    color1 = color_cycle.next()\n",
      "    color2 = color_cycle.next()\n",
      "    for y, (x, width) in enumerate(zip(xs, widths)):\n",
      "        steps.append(patches.Rectangle((x,y), height=height, width=width,\n",
      "                                       fill=True, fc=color1, ec=color1))\n",
      "    for step in steps:\n",
      "        ax.add_patch(step)\n",
      "\n",
      "    xmax = 60\n",
      "    ideal = patches.Rectangle((0,0), height=true_num, width=xmax,\n",
      "                              fill=True, ec=color2, fc=color2,\n",
      "                              alpha=0.5)\n",
      "\n",
      "    ax.add_patch(ideal)\n",
      "    ax.plot([0], color=color1, label='actual')\n",
      "    ax.plot([0], color=color2, alpha=0.5, label='ideal')\n",
      "    ax.set_xlim([0, xmax])\n",
      "    ax.set_ylim([0, n_steps+1])\n",
      "\n",
      "steps0, durations0 = calculate_duration_data_from_graph(experiment, original_graph, original_graph.nodes(data=False))\n",
      "fig, ax = plt.subplots()\n",
      "top_step_plot(ax, steps0)\n",
      "ax.set_title('blobs > 10 min in raw data')\n",
      "ax.set_xlabel('minutes')\n",
      "plt.show()\n",
      "\n",
      "steps2, durations2 = calculate_duration_data_from_graph(experiment, graph2, graph2.nodes(data=False))\n",
      "fig, ax = plt.subplots()\n",
      "top_step_plot(ax, steps2)\n",
      "ax.set_title('blobs > 10 min in final data')\n",
      "ax.set_xlabel('minutes')\n",
      "plt.show()"
     ],
     "language": "python",
     "metadata": {},
     "outputs": []
    },
    {
     "cell_type": "code",
     "collapsed": false,
     "input": [
      "def compare_step_plots(step_df1, step_df2, titles=['',''], true_num=30, i=0):\n",
      "\n",
      "    \n",
      "    fig, (ax1, ax2) = plt.subplots(1,2)\n",
      "    fig.set_size_inches(20, 10)\n",
      "\n",
      "    #steps = []\n",
      "    n_steps = max(len(step_df1), len(step_df2))\n",
      "    xmax = 60\n",
      "    def make_steps(ax, df, i=1):\n",
      "        steps = []\n",
      "        xs = list(df['t0'])\n",
      "        widths = list(df['lifespan'])\n",
      "        height = 1\n",
      "\n",
      "        color_cycle = ax._get_lines.color_cycle\n",
      "        color1 = color_cycle.next()\n",
      "        color2 = color_cycle.next()\n",
      "        for y, (x, width) in enumerate(zip(xs, widths)):\n",
      "            if i == 0:\n",
      "                c = color1\n",
      "            else:\n",
      "                c = color2\n",
      "            steps.append(patches.Rectangle((x,y), height=height, width=width,\n",
      "                                           fill=True, fc=c, ec=c))\n",
      "        for step in steps:\n",
      "            ax.add_patch(step)\n",
      "\n",
      "\n",
      "        ideal = patches.Rectangle((0,0), height=true_num, width=xmax,\n",
      "                                  fill=True, ec=color2, fc=color2,\n",
      "                                  alpha=0.5)\n",
      "\n",
      "        ax.add_patch(ideal)\n",
      "        #if i != 2:\n",
      "        #    ax.plot([0], color=color1, label='actual')\n",
      "        #else:\n",
      "        #ax.plot([0], color=color1, label='actual')\n",
      "        #ax.plot([0], color=color2, alpha=0.5, label='ideal')\n",
      "        ax.set_xlim([0, xmax])\n",
      "        ax.set_ylim([0, n_steps+1])\n",
      "        ax.set_xlabel('minutes')\n",
      "        ax.set_ylabel('tracks')\n",
      "        \n",
      "    make_steps(ax1, step_df1, i=0)\n",
      "    ax1.set_title(titles[0])\n",
      "    make_steps(ax2, step_df2, i=2)\n",
      "    ax2.set_title(titles[1])\n",
      "\n",
      "    for ax in [ax1, ax2]:\n",
      "        for item in ([ax.title, ax.xaxis.label, ax.yaxis.label] +\n",
      "                 ax.get_xticklabels() + ax.get_yticklabels()):\n",
      "            item.set_fontsize(20)\n",
      "    plt.savefig('final-step-plot.png')\n",
      "titles = ['raw (blobs >10 min)', 'final (blobs >10 min)']\n",
      "compare_step_plots(steps0[steps0['lifespan'] >= 10], steps2[steps2['lifespan'] >= 10], titles=titles)"
     ],
     "language": "python",
     "metadata": {},
     "outputs": []
    },
    {
     "cell_type": "code",
     "collapsed": false,
     "input": [
      "\n",
      "def compare_step_plots2(step_df1, step_df2, true_num=30):\n",
      "\n",
      "    \n",
      "    fig, ax = plt.subplots()\n",
      "    #fig.set_size_inches(20, 10)\n",
      "    \n",
      "    #steps = []\n",
      "    n_steps = max(len(step_df1), len(step_df2))\n",
      "    xmax = 60\n",
      "    def make_steps(ax, df, alpha=1.0):\n",
      "        steps = []\n",
      "        xs = list(df['t0'])\n",
      "        widths = list(df['lifespan'])\n",
      "        height = 1\n",
      "\n",
      "        color_cycle = ax._get_lines.color_cycle\n",
      "        color1 = color_cycle.next()\n",
      "        color2 = color_cycle.next()\n",
      "        for y, (x, width) in enumerate(zip(xs, widths)):\n",
      "            steps.append(patches.Rectangle((x,y), height=height, width=width,\n",
      "                                           fill=True, fc=color1, ec=color1, alpha=alpha))\n",
      "        for step in steps:\n",
      "            ax.add_patch(step)\n",
      "\n",
      "\n",
      "        #ideal = patches.Rectangle((0,0), height=true_num, width=xmax,\n",
      "        #                          fill=True, ec=color2, fc=color2,\n",
      "        #                          alpha=0.5)\n",
      "\n",
      "        #ax.add_patch(ideal)\n",
      "        #ax.plot([0], color=color1, alpha=alpha)\n",
      "        ax.set_xlim([0, xmax])\n",
      "        ax.set_ylim([0, n_steps+1])\n",
      "        ax.set_xlabel('minutes')\n",
      "        ax.set_ylabel('tracks')\n",
      "        \n",
      "    make_steps(ax, step_df1)\n",
      "    make_steps(ax, step_df2, alpha=0.5)\n",
      "    \n",
      "titles = ['blobs >10 min from raw data', 'blobs >10 min from final data']\n",
      "compare_step_plots(steps0[steps0['lifespan'] >= 10], steps2[steps2['lifespan'] >= 10], titles=titles)\n",
      "#compare_step_plots2(steps0[steps0['lifespan'] >= 10], steps2[steps2['lifespan'] >= 10])\n",
      "\n",
      "#compare_step_plots(steps2[steps2['lifespan'] >= 10], steps0[steps0['lifespan'] >= 10])\n",
      "plt.show()"
     ],
     "language": "python",
     "metadata": {},
     "outputs": []
    },
    {
     "cell_type": "markdown",
     "metadata": {},
     "source": [
      "create CDF showing the duration difference"
     ]
    },
    {
     "cell_type": "code",
     "collapsed": false,
     "input": [
      "fig, ax = plt.subplots()\n",
      "fig.set_size_inches(10, 8)\n",
      "make_cdf(ax, [d for d in durations0 if d>10], label= 'original nodes > 10 min', xmin=10, xmax=60)\n",
      "make_cdf(ax, [d for d in durations2 if d>10], label='final nodes > 10 min', xmin=10, xmax=60)\n",
      "ax.legend(loc='lower right', prop={'size':20})\n",
      "\n",
      "for item in ([ax.title, ax.xaxis.label, ax.yaxis.label] +\n",
      "         ax.get_xticklabels() + ax.get_yticklabels()):\n",
      "    item.set_fontsize(20)\n",
      "#plt.show()\n",
      "plt.savefig('long-cdf-improvement.png')"
     ],
     "language": "python",
     "metadata": {},
     "outputs": []
    },
    {
     "cell_type": "code",
     "collapsed": false,
     "input": [
      "fig, ax = plt.subplots()\n",
      "fig.set_size_inches(10, 8)\n",
      "make_cdf(ax, durations0, label= 'all original', xmax=30)\n",
      "make_cdf(ax, durations2, label='all final nodes', xmax=30)\n",
      "ax.legend(loc='lower right', prop={'size':20})\n",
      "for item in ([ax.title, ax.xaxis.label, ax.yaxis.label] +\n",
      "         ax.get_xticklabels() + ax.get_yticklabels()):\n",
      "    item.set_fontsize(20)\n",
      "#plt.show()\n",
      "plt.savefig('all-cdf-improvement.png')"
     ],
     "language": "python",
     "metadata": {},
     "outputs": []
    },
    {
     "cell_type": "code",
     "collapsed": false,
     "input": [
      "fig, ax = plt.subplots()\n",
      "make_cdf(ax, durations0, label= 'all original', xmax=60)\n",
      "make_cdf(ax, durations2, label='all final nodes', xmax=60)\n",
      "make_cdf(ax, [d for d in durations0 if d>10], label= 'original nodes > 10 min', xmin=10, xmax=60)\n",
      "make_cdf(ax, [d for d in durations2 if d>10], label='final nodes > 10 min', xmin=10, xmax=60)\n",
      "ax.legend(loc='lower right')\n",
      "plt.show()"
     ],
     "language": "python",
     "metadata": {},
     "outputs": []
    },
    {
     "cell_type": "code",
     "collapsed": false,
     "input": [
      "fig, ax = plt.subplots()\n",
      "make_cdf(ax, durations0, label= 'all original')\n",
      "make_cdf(ax, durations, label= 'original > 2 BL')\n",
      "make_cdf(ax, durations2, label='all final nodes')\n",
      "make_cdf(ax, moved_durations2, label='final nodes that origionally moved > 2 BL')\n",
      "ax.legend(loc='lower right')\n",
      "plt.show()"
     ],
     "language": "python",
     "metadata": {},
     "outputs": []
    },
    {
     "cell_type": "markdown",
     "metadata": {},
     "source": [
      "TODO: create plots showing how applying the same threshold to our data before and after fixing it\n",
      "    changes our True Positive / False Positives / False Negative rates"
     ]
    },
    {
     "cell_type": "code",
     "collapsed": false,
     "input": [
      "#TODO format this to work for graph based data.\n",
      "def calculate_stats_for_bid_lists(bid_lists, prep_data):\n",
      "    \n",
      "    base_accuracy = prep_data.load('accuracy')\n",
      "    matches = prep_data.load('matches')\n",
      "    counts, tps, fps, fns = [], [], [], []\n",
      "    for bids in bid_lists:\n",
      "        filtered_accuracy = ea.recalculate_accuracy(matches, base_accuracy, bids=bids)\n",
      "        counts.append(len(bids))\n",
      "        tp = filtered_accuracy['true-pos'].mean()\n",
      "        fp = filtered_accuracy['false-pos'].mean()\n",
      "        fn = filtered_accuracy['false-neg'].mean()\n",
      "        tps.append(tp)\n",
      "        fps.append(fp)\n",
      "        fns.append(fn)\n",
      "\n",
      "    tps = np.array(tps)\n",
      "    fps = np.array(fps)\n",
      "    fns = np.array(fns)\n",
      "    totals = fns + tps\n",
      "    tps_p = tps / totals * 100\n",
      "    fps_p = fps / totals * 100\n",
      "    fns_p = fns / totals * 100\n",
      "\n",
      "    print('true counts=', np.mean(totals))\n",
      "\n",
      "    data = pd.DataFrame([tps_p, fns_p, fps_p], index=['TP', 'FN', 'FP']).T\n",
      "    counts = pd.DataFrame(counts, columns=['counts'])\n",
      "    return data, counts"
     ],
     "language": "python",
     "metadata": {},
     "outputs": []
    },
    {
     "cell_type": "code",
     "collapsed": false,
     "input": [],
     "language": "python",
     "metadata": {},
     "outputs": []
    },
    {
     "cell_type": "code",
     "collapsed": false,
     "input": [],
     "language": "python",
     "metadata": {},
     "outputs": []
    },
    {
     "cell_type": "heading",
     "level": 1,
     "metadata": {},
     "source": [
      "Error Checking Cells"
     ]
    },
    {
     "cell_type": "code",
     "collapsed": false,
     "input": [
      "unknown_ids, id_change_ids = show_reasons(ends)\n",
      "#print unknown_ids\n",
      "#print id_change_ids\n",
      "unk = pd.DataFrame(unknown_ids)\n",
      "name = '{eid}-unknown_ids.csv'.format(eid=ex_id)\n",
      "print name\n",
      "unk.to_csv(name, index=False, header=False)\n",
      "\n",
      "col = pd.DataFrame(id_change_ids)\n",
      "name = '{eid}-unresolved_collision_ids.csv'.format(eid=ex_id)\n",
      "col.to_csv(name, index=False, header=False)\n"
     ],
     "language": "python",
     "metadata": {},
     "outputs": []
    },
    {
     "cell_type": "code",
     "collapsed": false,
     "input": [
      "us = starts[starts['reason'] == 'unknown']\n",
      "ue = ends[ends['reason'] == 'unknown'].reset_index()\n",
      "#print us.head()\n",
      "ue = ue.rename(columns={'node_id':'node1', 'bid':'blob1'})\n",
      "ue = ue[['blob1', 'node1', 't', 'x', 'y']]\n",
      "#print ue.head()\n",
      "\n",
      "match_data = []\n",
      "for blob2, s in starts.iterrows():\n",
      "    node2 = s['node_id']\n",
      "    x, y = s['x'], s['y']\n",
      "    t = s['t']\n",
      "    \n",
      "    print blob2, node2, x, y, t\n",
      "    match_check = ue.copy()\n",
      "    match_check['node2'] = node2\n",
      "    match_check['blob2'] = node2\n",
      "    match_check['dt'] = t - match_check['t']\n",
      "    match_check['dx'] = np.fabs(x - match_check['x'])\n",
      "    match_check['dy'] = np.fabs(y - match_check['y'])\n",
      "    match_check['dist'] = np.sqrt(match_check['dt']**2 + match_check['dx']**2 + match_check['dy']**2)\n",
      "    match_check['d_spacetime'] = np.sqrt(match_check['dt']**2 + match_check['dx']**2 + match_check['dy']**2)\n",
      "\n",
      "    match_check = match_check[['blob1', 'blob2', 'dt', 'dist', 'd_spacetime']]\n",
      "    match_check.sort('d_spacetime', inplace=True)\n",
      "    print match_check.head()\n",
      "    \n",
      "    \n",
      "\n"
     ],
     "language": "python",
     "metadata": {},
     "outputs": []
    },
    {
     "cell_type": "markdown",
     "metadata": {},
     "source": [
      "these are two cells that aren't part of the workflow but that were used to sanity check the processing"
     ]
    },
    {
     "cell_type": "code",
     "collapsed": false,
     "input": [
      "def double_check_duration(experiment, graph1, graph2, node_ids):\n",
      "    frame_times = experiment.frame_times\n",
      "    step_data, durations = [], []\n",
      "    good_nodes = []\n",
      "    bad_nodes = []\n",
      "    for node in node_ids:\n",
      "        node_data = graph2.node[node]\n",
      "        bf, df = node_data['born'], node_data['died']\n",
      "        components = node_data.get('components', [])\n",
      "        \n",
      "        node_checks_out = True\n",
      "        for c in components:\n",
      "            nd = graph1.node[c]\n",
      "            cb, cd = nd['born'], nd['died']\n",
      "            if cb < bf:\n",
      "                node_checks_out = False\n",
      "            if cd > df:\n",
      "                node_checks_out = False\n",
      "        if node_checks_out:\n",
      "            good_nodes.append(node)\n",
      "        else:\n",
      "            bad_nodes.append(node)\n",
      "    print len(bad_nodes), 'bad nodes'\n",
      "    print len(good_nodes), 'good nodes'\n",
      "                \n",
      "\n",
      "double_check_duration(experiment, original_graph, graph2, graph2.nodes(data=False))"
     ],
     "language": "python",
     "metadata": {},
     "outputs": []
    },
    {
     "cell_type": "code",
     "collapsed": false,
     "input": [
      "print len(moved_bids), 'nodes moved over threshold in origional graph'\n",
      "graph3 = original_graph.copy()\n",
      "print 'orig', len(find_nodes_containing_bids(graph3, moved_bids))\n",
      "collider.remove_nodes_outside_roi(graph3, experiment)\n",
      "print 'roi', len(find_nodes_containing_bids(graph3, moved_bids))\n",
      "collider.remove_blank_nodes(graph3, experiment)\n",
      "print 'blank', len(find_nodes_containing_bids(graph3, moved_bids))\n",
      "collider.removal_suite(graph3) #, assimilate=-1)\n",
      "print 'suite', len(find_nodes_containing_bids(graph3, moved_bids))\n",
      "bridge_gaps(experiment, graph3, threshold=0.001)\n",
      "print 'gaps', len(find_nodes_containing_bids(graph3, moved_bids))\n",
      "\n",
      "steps3, durations3 = calculate_duration_data_from_graph(experiment, graph3, graph3.nodes(data=False))\n",
      "\n",
      "fig, ax = plt.subplots()\n",
      "step_plot(ax, steps3)\n",
      "ax.set_title('second try at figuring out graph')\n",
      "ax.set_xlabel('minutes')\n",
      "\n",
      "fig, ax = plt.subplots()\n",
      "make_cdf(ax, durations3)\n",
      "\n",
      "plt.show()\n",
      "\n"
     ],
     "language": "python",
     "metadata": {},
     "outputs": []
    },
    {
     "cell_type": "code",
     "collapsed": false,
     "input": [],
     "language": "python",
     "metadata": {},
     "outputs": []
    },
    {
     "cell_type": "code",
     "collapsed": false,
     "input": [],
     "language": "python",
     "metadata": {},
     "outputs": []
    },
    {
     "cell_type": "code",
     "collapsed": false,
     "input": [],
     "language": "python",
     "metadata": {},
     "outputs": []
    }
   ],
   "metadata": {}
  }
 ]
}