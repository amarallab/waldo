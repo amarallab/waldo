{
 "metadata": {
  "name": "",
  "signature": "sha256:1e4a5d64f00ed2bb782247de9594a60ee19057b9367d8d94e5796407c00d83ec"
 },
 "nbformat": 3,
 "nbformat_minor": 0,
 "worksheets": [
  {
   "cells": [
    {
     "cell_type": "code",
     "collapsed": false,
     "input": [
      "%load_ext autoreload\n",
      "%autoreload 2\n",
      "%matplotlib inline"
     ],
     "language": "python",
     "metadata": {},
     "outputs": []
    },
    {
     "cell_type": "code",
     "collapsed": false,
     "input": [
      "import pathcustomize\n",
      "\n",
      "import os\n",
      "os.environ.setdefault('WENDA_SETTINGS', 'wenda_config')\n",
      "\n",
      "import itertools\n",
      "\n",
      "import numpy as np\n",
      "import matplotlib.pyplot as plt\n",
      "\n",
      "import wenda\n",
      "import multiworm.analytics as mulan\n",
      "\n",
      "import plates.analytics as plan"
     ],
     "language": "python",
     "metadata": {},
     "outputs": []
    },
    {
     "cell_type": "code",
     "collapsed": false,
     "input": [
      "experiment_id = '20130318_131111'"
     ],
     "language": "python",
     "metadata": {},
     "outputs": []
    },
    {
     "cell_type": "code",
     "collapsed": false,
     "input": [
      "data = wenda.WendasWorms(experiment_id)"
     ],
     "language": "python",
     "metadata": {},
     "outputs": []
    },
    {
     "cell_type": "code",
     "collapsed": false,
     "input": [
      "def wenda_to_multiworm(ww, mappings):\n",
      "    data = {}\n",
      "    for source, dest in mappings:\n",
      "        data[dest] = ww[source]['data']\n",
      "    return data\n",
      "\n",
      "def wendagen_to_multigen(wg, mappings):\n",
      "    for worm_id, worm_data in wg:\n",
      "        yield worm_id, wenda_to_multiworm(worm_data, mappings)\n"
     ],
     "language": "python",
     "metadata": {},
     "outputs": []
    },
    {
     "cell_type": "code",
     "collapsed": false,
     "input": [
      "speed_config = {\n",
      "    'smoothing': ('sgolay', 71, 5),\n",
      "    'percentiles': [10, 20, 50, 80, 90],\n",
      "}"
     ],
     "language": "python",
     "metadata": {},
     "outputs": []
    },
    {
     "cell_type": "code",
     "collapsed": false,
     "input": [
      "experiment = mulan.ExperimentAnalyzer()\n",
      "experiment.add_analysis_method(mulan.NoiseEstimator())\n",
      "experiment.add_analysis_method(mulan.SpeedEstimator(**speed_config))\n",
      "\n",
      "mappings = [('xy_raw', 'centroid')]"
     ],
     "language": "python",
     "metadata": {},
     "outputs": []
    },
    {
     "cell_type": "code",
     "collapsed": false,
     "input": [
      "experiment.analyze(wendagen_to_multigen(data.get_worms(), mappings))"
     ],
     "language": "python",
     "metadata": {},
     "outputs": []
    },
    {
     "cell_type": "code",
     "collapsed": false,
     "input": [
      "results = experiment.results()"
     ],
     "language": "python",
     "metadata": {},
     "outputs": []
    },
    {
     "cell_type": "code",
     "collapsed": false,
     "input": [
      "f, axs = plt.subplots(ncols=2)\n",
      "f.set_size_inches(15,8)\n",
      "f.suptitle('Normal summary statistics for frame-by-frame centroid steps')\n",
      "for ax, stats, title in zip(axs, [results['noise']['means'], results['noise']['std_devs']],\n",
      "        ['X/Y means', 'X/Y stddev']):\n",
      "    ax.scatter(*zip(*stats))\n",
      "    ax.set_title(title)\n",
      "    ax.axvline()\n",
      "    ax.axhline()\n",
      "    ax.axis('equal')\n",
      "\n",
      "axs[1].set_xlim(left=0)\n",
      "axs[1].set_ylim(bottom=0)\n",
      "\n",
      "plt.show()"
     ],
     "language": "python",
     "metadata": {},
     "outputs": []
    },
    {
     "cell_type": "code",
     "collapsed": false,
     "input": [
      "f, ax = plt.subplots()\n",
      "f.set_size_inches(15,8)\n",
      "for i, (pctile, dist) in enumerate(zip(speed_config['percentiles'], zip(*results['speed']['percentiles']))):\n",
      "    ax.plot(i * np.ones_like(dist) + 0.3*np.random.random(len(dist)) - 0.15, dist, lw=0, marker='+', ms=20, mew=3, alpha=0.3)\n",
      "ax.set_xticks(range(len(speed_config['percentiles'])))\n",
      "ax.set_xticklabels(speed_config['percentiles'])\n",
      "pass"
     ],
     "language": "python",
     "metadata": {},
     "outputs": []
    },
    {
     "cell_type": "code",
     "collapsed": false,
     "input": [
      "speed_config = {\n",
      "    'smoothing': ('boxcar', 1),\n",
      "    'percentiles': [10, 20, 50, 80, 90],\n",
      "}\n",
      "\n",
      "exp2 = mulan.ExperimentAnalyzer()\n",
      "exp2.add_analysis_method(mulan.NoiseEstimator())\n",
      "exp2.add_analysis_method(mulan.SpeedEstimator(**speed_config))\n",
      "\n",
      "exp2.analyze(wendagen_to_multigen(data.get_worms(), [('xy', 'centroid')]))\n",
      "\n",
      "results2 = exp2.results()\n",
      "\n",
      "f, ax = plt.subplots()\n",
      "f.set_size_inches(15,8)\n",
      "for i, (pctile, dist) in enumerate(zip(speed_config['percentiles'], zip(*results2['speed']['percentiles']))):\n",
      "    ax.plot(i * np.ones_like(dist) + 0.3*np.random.random(len(dist)) - 0.15, dist, lw=0, marker='+', ms=20, mew=3, alpha=0.3)\n",
      "ax.set_xticks(range(len(speed_config['percentiles'])))\n",
      "ax.set_xticklabels(speed_config['percentiles'])\n",
      "pass"
     ],
     "language": "python",
     "metadata": {},
     "outputs": []
    },
    {
     "cell_type": "code",
     "collapsed": false,
     "input": [
      "exp3 = plan.ExperimentAnalyzer()\n",
      "exp3.add_analysis_method(plan.NoiseEstimator())\n",
      "exp3.add_analysis_method(plan.SpeedEstimator(**speed_config))\n",
      "exp3.analyze()"
     ],
     "language": "python",
     "metadata": {},
     "outputs": []
    }
   ],
   "metadata": {}
  }
 ]
}