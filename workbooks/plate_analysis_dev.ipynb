{
 "metadata": {
  "name": "",
  "signature": "sha256:777328870b64f10dcca49d2e6ee169588d0b732e9850b85cc7a45b7f065013fc"
 },
 "nbformat": 3,
 "nbformat_minor": 0,
 "worksheets": [
  {
   "cells": [
    {
     "cell_type": "code",
     "collapsed": false,
     "input": [
      "import pathcustomize\n",
      "\n",
      "import os\n",
      "os.environ.setdefault('WENDA_SETTINGS', 'wenda_config')\n",
      "\n",
      "import itertools\n",
      "\n",
      "import wenda\n",
      "import multiworm.analytics\n",
      "reload(wenda)"
     ],
     "language": "python",
     "metadata": {},
     "outputs": [
      {
       "metadata": {},
       "output_type": "pyout",
       "prompt_number": 1,
       "text": [
        "<module 'wenda' from '../code/shared/wenda/__init__.pyc'>"
       ]
      }
     ],
     "prompt_number": 1
    },
    {
     "cell_type": "code",
     "collapsed": false,
     "input": [
      "experiment_id = '20130318_131111'"
     ],
     "language": "python",
     "metadata": {},
     "outputs": [],
     "prompt_number": 6
    },
    {
     "cell_type": "code",
     "collapsed": false,
     "input": [
      "exp = wenda.WendasWorms(experiment_id)\n",
      "pprint(exp.available_worms())\n",
      "pprint(exp.available_measurements())"
     ],
     "language": "python",
     "metadata": {},
     "outputs": [
      {
       "output_type": "stream",
       "stream": "stdout",
       "text": [
        "[u'33497',\n",
        " u'09176',\n",
        " u'52779',\n",
        " u'49044',\n",
        " u'43452',\n",
        " u'03509',\n",
        " u'34758',\n",
        " u'62779',\n",
        " u'32350',\n",
        " u'13063',\n",
        " u'03193',\n",
        " u'11528',\n",
        " u'50712',\n",
        " u'36062',\n",
        " u'61725',\n",
        " u'36517',\n",
        " u'42746',\n",
        " u'17885',\n",
        " u'44353',\n",
        " u'11703',\n",
        " u'09858',\n",
        " u'32282',\n",
        " u'54320',\n",
        " u'00930',\n",
        " u'01500',\n",
        " u'29978',\n",
        " u'61632',\n",
        " u'13983',\n",
        " u'48270',\n",
        " u'42679']\n",
        "[u'angle_change',\n",
        " u'go_dur',\n",
        " u'encoded_outline',\n",
        " u'length_mm',\n",
        " u'spine_rough',\n",
        " u'width50',\n",
        " u'spine',\n",
        " u'cent_speed',\n",
        " u'stop_dur',\n",
        " u'cent_speed_bl',\n",
        " u'xy',\n",
        " u'flags',\n",
        " u'width_mm',\n",
        " u'xy_raw',\n",
        " u'is_moving',\n",
        " u'length_rough',\n",
        " u'width80',\n",
        " u'curve_w',\n",
        " u'width20']\n"
       ]
      }
     ],
     "prompt_number": 7
    },
    {
     "cell_type": "code",
     "collapsed": false,
     "input": [
      "x = list(itertools.islice(exp.get_measurements('xy'), 1))"
     ],
     "language": "python",
     "metadata": {},
     "outputs": [],
     "prompt_number": 4
    },
    {
     "cell_type": "code",
     "collapsed": false,
     "input": [],
     "language": "python",
     "metadata": {},
     "outputs": []
    }
   ],
   "metadata": {}
  }
 ]
}