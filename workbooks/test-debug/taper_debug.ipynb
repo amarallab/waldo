{
 "metadata": {
  "name": "",
  "signature": "sha256:2cda140f3a3152e4d423a17e382067f6fb6357c34aed8d64771fd7d7607ff9ac"
 },
 "nbformat": 3,
 "nbformat_minor": 0,
 "worksheets": [
  {
   "cells": [
    {
     "cell_type": "heading",
     "level": 1,
     "metadata": {},
     "source": [
      "Taper Debug"
     ]
    },
    {
     "cell_type": "code",
     "collapsed": false,
     "input": [
      "%load_ext autoreload\n",
      "%autoreload 2\n",
      "%matplotlib inline"
     ],
     "language": "python",
     "metadata": {},
     "outputs": [],
     "prompt_number": 1
    },
    {
     "cell_type": "code",
     "collapsed": false,
     "input": [
      "from __future__ import print_function, division\n",
      "import six, sys\n",
      "sys.path.append('..'); import pathcustomize, about\n",
      "about.about()\n",
      "\n",
      "import wio\n",
      "import collider\n",
      "import tape"
     ],
     "language": "python",
     "metadata": {},
     "outputs": [
      {
       "output_type": "stream",
       "stream": "stdout",
       "text": [
        "Python 2.7.8 (default, Jul 31 2014 17:07:51) [GCC 4.8.2] on linux2, Host: liverpool\n"
       ]
      }
     ],
     "prompt_number": 2
    },
    {
     "cell_type": "code",
     "collapsed": false,
     "input": [
      "reload(tape.taper)"
     ],
     "language": "python",
     "metadata": {},
     "outputs": [
      {
       "metadata": {},
       "output_type": "pyout",
       "prompt_number": 3,
       "text": [
        "<module 'tape.taper' from '../../code/shared/tape/taper.pyc'>"
       ]
      }
     ],
     "prompt_number": 3
    },
    {
     "cell_type": "code",
     "collapsed": false,
     "input": [
      "#ex_id = '20130614_120518'\n",
      "#ex_id = '20130318_131111'\n",
      "#ex_id = '20130414_140704'\n",
      "ex_id = '20130702_135704' # many pics\n",
      "#ex_id = '20130702_135652' # many pics\n",
      "\n",
      "experiment = wio.Experiment(experiment_id=ex_id)\n",
      "graph = experiment.graph.copy()\n",
      "collider.remove_nodes_outside_roi(graph, experiment)\n",
      "len(graph)"
     ],
     "language": "python",
     "metadata": {},
     "outputs": [
      {
       "metadata": {},
       "output_type": "pyout",
       "prompt_number": 4,
       "text": [
        "11098"
       ]
      }
     ],
     "prompt_number": 4
    },
    {
     "cell_type": "code",
     "collapsed": false,
     "input": [
      "graph_mod = graph.copy()\n",
      "taper = tape.Taper(experiment, graph_mod)"
     ],
     "language": "python",
     "metadata": {},
     "outputs": [],
     "prompt_number": 5
    },
    {
     "cell_type": "code",
     "collapsed": false,
     "input": [
      "gap_start, gap_end = taper.find_start_and_end_nodes()\n",
      "gaps = taper.score_potential_gaps(gap_start, gap_end)"
     ],
     "language": "python",
     "metadata": {},
     "outputs": [],
     "prompt_number": 6
    },
    {
     "cell_type": "code",
     "collapsed": false,
     "input": [
      "gaps[gaps.node1 == 18]"
     ],
     "language": "python",
     "metadata": {},
     "outputs": [
      {
       "html": [
        "<div style=\"max-height:1000px;max-width:1500px;overflow:auto;\">\n",
        "<table border=\"1\" class=\"dataframe\">\n",
        "  <thead>\n",
        "    <tr style=\"text-align: right;\">\n",
        "      <th></th>\n",
        "      <th>node1</th>\n",
        "      <th>node2</th>\n",
        "      <th>blob1</th>\n",
        "      <th>blob2</th>\n",
        "      <th>dist</th>\n",
        "      <th>dt</th>\n",
        "      <th>df</th>\n",
        "      <th>score</th>\n",
        "    </tr>\n",
        "  </thead>\n",
        "  <tbody>\n",
        "    <tr>\n",
        "      <th>101</th>\n",
        "      <td> 18</td>\n",
        "      <td> 3124</td>\n",
        "      <td> 18</td>\n",
        "      <td> 3124</td>\n",
        "      <td> 1917.905303</td>\n",
        "      <td> 9.833</td>\n",
        "      <td> 257</td>\n",
        "      <td> 0.000001</td>\n",
        "    </tr>\n",
        "  </tbody>\n",
        "</table>\n",
        "</div>"
       ],
       "metadata": {},
       "output_type": "pyout",
       "prompt_number": 7,
       "text": [
        "     node1  node2  blob1  blob2         dist     dt   df     score\n",
        "101     18   3124     18   3124  1917.905303  9.833  257  0.000001"
       ]
      }
     ],
     "prompt_number": 7
    },
    {
     "cell_type": "markdown",
     "metadata": {},
     "source": [
      "These look OK; node2 is always greater than node1..."
     ]
    },
    {
     "cell_type": "code",
     "collapsed": false,
     "input": [
      "taper.greedy_tape(gaps, threshold=0.001, add_edges=True)"
     ],
     "language": "python",
     "metadata": {},
     "outputs": [
      {
       "metadata": {},
       "output_type": "pyout",
       "prompt_number": 8,
       "text": [
        "[(50773.0, 50785.0),\n",
        " (41962.0, 42054.0),\n",
        " (5932.0, 6063.0),\n",
        " (12253.0, 12255.0),\n",
        " (8867.0, 8868.0),\n",
        " (29671.0, 29704.0),\n",
        " (19213.0, 19219.0),\n",
        " (12781.0, 12784.0),\n",
        " (10166.0, 10179.0),\n",
        " (12780.0, 12781.0),\n",
        " (15286.0, 15290.0),\n",
        " (17045.0, 17048.0),\n",
        " (35127.0, 35261.0),\n",
        " (27892.0, 27896.0),\n",
        " (17465.0, 17471.0),\n",
        " (66079.0, 66166.0),\n",
        " (17609.0, 17610.0),\n",
        " (69970.0, 69988.0),\n",
        " (16700.0, 16730.0),\n",
        " (34747.0, 34763.0),\n",
        " (81502.0, 81526.0),\n",
        " (1185.0, 1186.0),\n",
        " (271.0, 279.0),\n",
        " (43816.0, 64816.0),\n",
        " (17607.0, 17608.0),\n",
        " (11703.0, 11709.0),\n",
        " (27922.0, 27931.0),\n",
        " (9005.0, 9017.0),\n",
        " (59899.0, 59917.0),\n",
        " (4320.0, 4321.0),\n",
        " (17415.0, 17418.0),\n",
        " (17096.0, 17099.0),\n",
        " (43702.0, 43709.0),\n",
        " (18428.0, 18441.0),\n",
        " (8884.0, 8885.0),\n",
        " (61563.0, 61577.0),\n",
        " (50889.0, 50899.0),\n",
        " (17597.0, 17604.0),\n",
        " (17484.0, 17489.0),\n",
        " (10298.0, 10306.0),\n",
        " (41911.0, 41927.0),\n",
        " (15464.0, 17032.0),\n",
        " (46175.0, 50773.0),\n",
        " (12108.0, 12130.0),\n",
        " (28559.0, 28564.0),\n",
        " (17408.0, 17435.0),\n",
        " (17048.0, 17053.0),\n",
        " (15923.0, 15924.0),\n",
        " (43709.0, 43777.0),\n",
        " (17183.0, 17239.0),\n",
        " (17185.0, 17208.0),\n",
        " (1880.0, 4736.0),\n",
        " (14449.0, 14547.0),\n",
        " (16734.0, 16735.0),\n",
        " (17471.0, 17476.0),\n",
        " (79370.0, 80624.0),\n",
        " (17602.0, 17606.0),\n",
        " (35414.0, 36882.0),\n",
        " (34856.0, 35076.0),\n",
        " (10772.0, 10780.0),\n",
        " (34597.0, 34747.0),\n",
        " (16673.0, 16729.0),\n",
        " (78868.0, 78900.0),\n",
        " (17596.0, 17607.0),\n",
        " (10288.0, 10298.0),\n",
        " (2633.0, 3258.0),\n",
        " (36882.0, 36912.0),\n",
        " (66166.0, 66224.0),\n",
        " (78900.0, 79370.0),\n",
        " (29385.0, 29462.0),\n",
        " (61643.0, 61714.0),\n",
        " (3339.0, 3369.0),\n",
        " (27896.0, 27922.0),\n",
        " (17446.0, 17462.0),\n",
        " (9228.0, 9241.0),\n",
        " (14580.0, 14582.0),\n",
        " (17435.0, 17446.0),\n",
        " (73137.0, 73198.0),\n",
        " (29626.0, 29671.0),\n",
        " (16395.0, 16396.0),\n",
        " (12776.0, 12780.0),\n",
        " (12891.0, 12892.0),\n",
        " (10306.0, 10324.0),\n",
        " (12130.0, 12155.0),\n",
        " (46128.0, 46175.0),\n",
        " (49137.0, 49499.0),\n",
        " (78838.0, 78868.0),\n",
        " (9017.0, 10772.0),\n",
        " (54493.0, 54537.0),\n",
        " (16730.0, 16734.0),\n",
        " (16729.0, 18428.0),\n",
        " (12784.0, 12832.0),\n",
        " (224.0, 232.0),\n",
        " (41927.0, 41962.0),\n",
        " (66485.0, 66538.0),\n",
        " (12882.0, 13929.0),\n",
        " (29548.0, 29626.0),\n",
        " (1189.0, 1204.0),\n",
        " (1610.0, 1642.0),\n",
        " (4295.0, 4313.0),\n",
        " (3968.0, 4246.0),\n",
        " (8223.0, 8249.0),\n",
        " (10791.0, 10792.0),\n",
        " (9518.0, 9539.0),\n",
        " (17610.0, 17611.0),\n",
        " (61714.0, 61801.0),\n",
        " (1215.0, 1232.0),\n",
        " (1021.0, 1185.0),\n",
        " (278.0, 2714.0),\n",
        " (41559.0, 41911.0),\n",
        " (16396.0, 16406.0),\n",
        " (29526.0, 29548.0),\n",
        " (56258.0, 64763.0),\n",
        " (8877.0, 8884.0),\n",
        " (29462.0, 29498.0),\n",
        " (29704.0, 29724.0),\n",
        " (16939.0, 16942.0),\n",
        " (4246.0, 4249.0),\n",
        " (81752.0, 81905.0),\n",
        " (32715.0, 32806.0),\n",
        " (66004.0, 66079.0),\n",
        " (15898.0, 15901.0),\n",
        " (41330.0, 41387.0),\n",
        " (35076.0, 35127.0),\n",
        " (16998.0, 17089.0),\n",
        " (7928.0, 7975.0),\n",
        " (16176.0, 16179.0),\n",
        " (43432.0, 43458.0),\n",
        " (43899.0, 43943.0),\n",
        " (59862.0, 59899.0),\n",
        " (77662.0, 77713.0),\n",
        " (8888.0, 8891.0),\n",
        " (77602.0, 77662.0),\n",
        " (7285.0, 8867.0),\n",
        " (42914.0, 42952.0),\n",
        " (21586.0, 22092.0),\n",
        " (42952.0, 43096.0),\n",
        " (61577.0, 61643.0),\n",
        " (8885.0, 8888.0),\n",
        " (17617.0, 17618.0),\n",
        " (17608.0, 17609.0),\n",
        " (14547.0, 14552.0),\n",
        " (77673.0, 77725.0),\n",
        " (16942.0, 16956.0),\n",
        " (4313.0, 4320.0),\n",
        " (19219.0, 19246.0),\n",
        " (17614.0, 17616.0),\n",
        " (15575.0, 15582.0),\n",
        " (12155.0, 12777.0),\n",
        " (29498.0, 29526.0),\n",
        " (17476.0, 17484.0),\n",
        " (8948.0, 8950.0),\n",
        " (17603.0, 17605.0),\n",
        " (45463.0, 45511.0),\n",
        " (27665.0, 40345.0),\n",
        " (10275.0, 10288.0),\n",
        " (1200.0, 1215.0),\n",
        " (1186.0, 1200.0),\n",
        " (11538.0, 12891.0),\n",
        " (44250.0, 45978.0),\n",
        " (10792.0, 10795.0),\n",
        " (31926.0, 32096.0),\n",
        " (10635.0, 10637.0),\n",
        " (10582.0, 15743.0),\n",
        " (34763.0, 34856.0),\n",
        " (54820.0, 54919.0),\n",
        " (9477.0, 9518.0),\n",
        " (27251.0, 27264.0),\n",
        " (65920.0, 66004.0),\n",
        " (282.0, 299.0),\n",
        " (10637.0, 10639.0),\n",
        " (73198.0, 73352.0),\n",
        " (75228.0, 75779.0),\n",
        " (10780.0, 10791.0),\n",
        " (43458.0, 43597.0),\n",
        " (17911.0, 18094.0),\n",
        " (50785.0, 50889.0),\n",
        " (17634.0, 23920.0),\n",
        " (57075.0, 57289.0),\n",
        " (89026.0, 89339.0),\n",
        " (17099.0, 17110.0),\n",
        " (81326.0, 81578.0),\n",
        " (11709.0, 11731.0),\n",
        " (45811.0, 46128.0),\n",
        " (79709.0, 80030.0),\n",
        " (61801.0, 62157.0),\n",
        " (81153.0, 81326.0),\n",
        " (46120.0, 46418.0),\n",
        " (17110.0, 17183.0),\n",
        " (12919.0, 13509.0),\n",
        " (54537.0, 54820.0),\n",
        " (81905.0, 82096.0),\n",
        " (16101.0, 16104.0),\n",
        " (51169.0, 51411.0),\n",
        " (275.0, 278.0),\n",
        " (28901.0, 28977.0),\n",
        " (43943.0, 44077.0),\n",
        " (4391.0, 16087.0),\n",
        " (17494.0, 17502.0),\n",
        " (17462.0, 17480.0),\n",
        " (42310.0, 57075.0),\n",
        " (43096.0, 43432.0),\n",
        " (27321.0, 27374.0),\n",
        " (36912.0, 37114.0),\n",
        " (17611.0, 17614.0),\n",
        " (80944.0, 81153.0),\n",
        " (4274.0, 4295.0),\n",
        " (56998.0, 57219.0),\n",
        " (78998.0, 79709.0),\n",
        " (61.0, 204.0),\n",
        " (17089.0, 17096.0),\n",
        " (49499.0, 49586.0),\n",
        " (20152.0, 20279.0),\n",
        " (27264.0, 32805.0),\n",
        " (71500.0, 71928.0),\n",
        " (37114.0, 37466.0),\n",
        " (8868.0, 8877.0),\n",
        " (1170.0, 1189.0),\n",
        " (71928.0, 73137.0),\n",
        " (5269.0, 5342.0),\n",
        " (27374.0, 27426.0),\n",
        " (1.0, 218.0),\n",
        " (554.0, 738.0),\n",
        " (10639.0, 11041.0),\n",
        " (42054.0, 42310.0),\n",
        " (17616.0, 17617.0),\n",
        " (17573.0, 17597.0),\n",
        " (50899.0, 51169.0),\n",
        " (1374.0, 1736.0),\n",
        " (17256.0, 17351.0),\n",
        " (22.0, 66.0),\n",
        " (10152.0, 10635.0),\n",
        " (5697.0, 5932.0),\n",
        " (86285.0, 86945.0),\n",
        " (46389.0, 46743.0),\n",
        " (66224.0, 66485.0),\n",
        " (80624.0, 80944.0),\n",
        " (17232.0, 17256.0),\n",
        " (17803.0, 17911.0),\n",
        " (16087.0, 16101.0),\n",
        " (82096.0, 82675.0),\n",
        " (35415.0, 38136.0),\n",
        " (45.0, 120.0),\n",
        " (43637.0, 43899.0),\n",
        " (88338.0, 89268.0),\n",
        " (738.0, 1005.0),\n",
        " (74615.0, 75228.0),\n",
        " (4249.0, 4274.0),\n",
        " (3258.0, 3339.0),\n",
        " (4748.0, 5310.0),\n",
        " (8891.0, 10166.0),\n",
        " (5363.0, 5697.0),\n",
        " (65548.0, 65920.0),\n",
        " (17124.0, 17185.0),\n",
        " (5310.0, 5363.0),\n",
        " (1005.0, 1142.0),\n",
        " (13929.0, 13978.0),\n",
        " (1232.0, 1374.0),\n",
        " (11.0, 128.0),\n",
        " (8834.0, 8948.0),\n",
        " (17208.0, 17233.0),\n",
        " (78836.0, 79730.0),\n",
        " (37466.0, 45463.0),\n",
        " (59917.0, 60326.0),\n",
        " (12255.0, 12267.0),\n",
        " (74504.0, 89026.0),\n",
        " (14401.0, 14449.0),\n",
        " (12832.0, 12904.0),\n",
        " (32.0, 248.0),\n",
        " (16518.0, 16670.0),\n",
        " (10179.0, 10198.0),\n",
        " (21103.0, 21586.0),\n",
        " (58365.0, 61563.0),\n",
        " (712.0, 1021.0),\n",
        " (19246.0, 19589.0),\n",
        " (3.0, 1655.0),\n",
        " (76895.0, 77311.0),\n",
        " (201.0, 223.0),\n",
        " (1265.0, 1672.0),\n",
        " (12170.0, 12253.0),\n",
        " (17351.0, 17430.0),\n",
        " (1698.0, 1880.0),\n",
        " (25883.0, 26190.0),\n",
        " (92.0, 175.0),\n",
        " (64285.0, 64325.0),\n",
        " (1736.0, 2439.0),\n",
        " (15010.0, 41559.0),\n",
        " (348.0, 458.0),\n",
        " (53855.0, 54493.0),\n",
        " (5658.0, 5827.0)]"
       ]
      }
     ],
     "prompt_number": 8
    },
    {
     "cell_type": "code",
     "collapsed": false,
     "input": [
      "graph_mod is taper._graph # don't need to yank the graph back out; we already have it"
     ],
     "language": "python",
     "metadata": {},
     "outputs": [
      {
       "metadata": {},
       "output_type": "pyout",
       "prompt_number": 9,
       "text": [
        "True"
       ]
      }
     ],
     "prompt_number": 9
    },
    {
     "cell_type": "code",
     "collapsed": false,
     "input": [
      "graph_mod.validate()"
     ],
     "language": "python",
     "metadata": {},
     "outputs": [
      {
       "output_type": "stream",
       "stream": "stderr",
       "text": [
        "Validation pass\n"
       ]
      }
     ],
     "prompt_number": 10
    },
    {
     "cell_type": "code",
     "collapsed": false,
     "input": [
      "graph_mod.node[18], graph_mod.node[61]"
     ],
     "language": "python",
     "metadata": {},
     "outputs": [
      {
       "metadata": {},
       "output_type": "pyout",
       "prompt_number": 7,
       "text": [
        "({u'born_f': 1, u'born_t': 0.01, u'died_f': 5629, u'died_t': 221.989},\n",
        " {u'born_f': 49, u'born_t': 1.916, u'died_f': 461, u'died_t': 21.652})"
       ]
      }
     ],
     "prompt_number": 7
    },
    {
     "cell_type": "code",
     "collapsed": false,
     "input": [
      "experiment.graph.node[18], experiment.graph.node[61]"
     ],
     "language": "python",
     "metadata": {},
     "outputs": [
      {
       "metadata": {},
       "output_type": "pyout",
       "prompt_number": 11,
       "text": [
        "({u'born_f': 1, u'born_t': 0.01, u'died_f': 5629, u'died_t': 221.989},\n",
        " {u'born_f': 49, u'born_t': 1.916, u'died_f': 461, u'died_t': 21.652})"
       ]
      }
     ],
     "prompt_number": 11
    },
    {
     "cell_type": "code",
     "collapsed": false,
     "input": [
      "gap_start[gap_start.bid == 22]"
     ],
     "language": "python",
     "metadata": {},
     "outputs": [
      {
       "html": [
        "<div style=\"max-height:1000px;max-width:1500px;overflow:auto;\">\n",
        "<table border=\"1\" class=\"dataframe\">\n",
        "  <thead>\n",
        "    <tr style=\"text-align: right;\">\n",
        "      <th></th>\n",
        "      <th>bid</th>\n",
        "      <th>t</th>\n",
        "      <th>x</th>\n",
        "      <th>y</th>\n",
        "      <th>f</th>\n",
        "      <th>node_id</th>\n",
        "    </tr>\n",
        "  </thead>\n",
        "  <tbody>\n",
        "    <tr>\n",
        "      <th>18</th>\n",
        "      <td> 22</td>\n",
        "      <td> 1.25</td>\n",
        "      <td> 1386.641</td>\n",
        "      <td> 1061.266</td>\n",
        "      <td> 32</td>\n",
        "      <td> 18</td>\n",
        "    </tr>\n",
        "  </tbody>\n",
        "</table>\n",
        "</div>"
       ],
       "metadata": {},
       "output_type": "pyout",
       "prompt_number": 12,
       "text": [
        "    bid     t         x         y   f  node_id\n",
        "18   22  1.25  1386.641  1061.266  32       18"
       ]
      }
     ],
     "prompt_number": 12
    },
    {
     "cell_type": "code",
     "collapsed": false,
     "input": [
      "gap_end[gap_end.bid == 18]"
     ],
     "language": "python",
     "metadata": {},
     "outputs": [
      {
       "html": [
        "<div style=\"max-height:1000px;max-width:1500px;overflow:auto;\">\n",
        "<table border=\"1\" class=\"dataframe\">\n",
        "  <thead>\n",
        "    <tr style=\"text-align: right;\">\n",
        "      <th></th>\n",
        "      <th>bid</th>\n",
        "      <th>t</th>\n",
        "      <th>x</th>\n",
        "      <th>y</th>\n",
        "      <th>f</th>\n",
        "      <th>node_id</th>\n",
        "    </tr>\n",
        "  </thead>\n",
        "  <tbody>\n",
        "  </tbody>\n",
        "</table>\n",
        "</div>"
       ],
       "metadata": {},
       "output_type": "pyout",
       "prompt_number": 13,
       "text": [
        "Empty DataFrame\n",
        "Columns: [bid, t, x, y, f, node_id]\n",
        "Index: []"
       ]
      }
     ],
     "prompt_number": 13
    },
    {
     "cell_type": "code",
     "collapsed": false,
     "input": [
      "terms = experiment.prepdata.terminals\n",
      "x = terms.set_index('bid')\n",
      "x.loc[[10, 11, 12]]"
     ],
     "language": "python",
     "metadata": {},
     "outputs": []
    },
    {
     "cell_type": "code",
     "collapsed": false,
     "input": [
      "gap_start.columns"
     ],
     "language": "python",
     "metadata": {},
     "outputs": [
      {
       "metadata": {},
       "output_type": "pyout",
       "prompt_number": 8,
       "text": [
        "Index([u'index', u't', u'x', u'y', u'f', u'node_id'], dtype='object')"
       ]
      }
     ],
     "prompt_number": 8
    },
    {
     "cell_type": "code",
     "collapsed": false,
     "input": [
      "mini = gap_end.set_index('index').head()"
     ],
     "language": "python",
     "metadata": {},
     "outputs": [],
     "prompt_number": 10
    },
    {
     "cell_type": "code",
     "collapsed": false,
     "input": [
      "mini.index.name = 'hello'"
     ],
     "language": "python",
     "metadata": {},
     "outputs": [],
     "prompt_number": 13
    },
    {
     "cell_type": "code",
     "collapsed": false,
     "input": [
      "mini"
     ],
     "language": "python",
     "metadata": {},
     "outputs": [
      {
       "html": [
        "<div style=\"max-height:1000px;max-width:1500px;overflow:auto;\">\n",
        "<table border=\"1\" class=\"dataframe\">\n",
        "  <thead>\n",
        "    <tr style=\"text-align: right;\">\n",
        "      <th></th>\n",
        "      <th>t</th>\n",
        "      <th>x</th>\n",
        "      <th>y</th>\n",
        "      <th>f</th>\n",
        "      <th>node_id</th>\n",
        "    </tr>\n",
        "    <tr>\n",
        "      <th>hello</th>\n",
        "      <th></th>\n",
        "      <th></th>\n",
        "      <th></th>\n",
        "      <th></th>\n",
        "      <th></th>\n",
        "    </tr>\n",
        "  </thead>\n",
        "  <tbody>\n",
        "    <tr>\n",
        "      <th>1 </th>\n",
        "      <td> 0.01</td>\n",
        "      <td>   47.974</td>\n",
        "      <td> 1577.958</td>\n",
        "      <td> 1</td>\n",
        "      <td>  1</td>\n",
        "    </tr>\n",
        "    <tr>\n",
        "      <th>18</th>\n",
        "      <td> 0.01</td>\n",
        "      <td> 1602.190</td>\n",
        "      <td>  877.911</td>\n",
        "      <td> 1</td>\n",
        "      <td> 18</td>\n",
        "    </tr>\n",
        "    <tr>\n",
        "      <th>16</th>\n",
        "      <td> 0.01</td>\n",
        "      <td> 1557.245</td>\n",
        "      <td> 1666.130</td>\n",
        "      <td> 1</td>\n",
        "      <td> 16</td>\n",
        "    </tr>\n",
        "    <tr>\n",
        "      <th>13</th>\n",
        "      <td> 0.01</td>\n",
        "      <td> 1526.146</td>\n",
        "      <td>  662.201</td>\n",
        "      <td> 1</td>\n",
        "      <td> 13</td>\n",
        "    </tr>\n",
        "    <tr>\n",
        "      <th>12</th>\n",
        "      <td> 0.01</td>\n",
        "      <td> 1502.412</td>\n",
        "      <td>  587.271</td>\n",
        "      <td> 1</td>\n",
        "      <td> 12</td>\n",
        "    </tr>\n",
        "  </tbody>\n",
        "</table>\n",
        "</div>"
       ],
       "metadata": {},
       "output_type": "pyout",
       "prompt_number": 14,
       "text": [
        "          t         x         y  f  node_id\n",
        "hello                                      \n",
        "1      0.01    47.974  1577.958  1        1\n",
        "18     0.01  1602.190   877.911  1       18\n",
        "16     0.01  1557.245  1666.130  1       16\n",
        "13     0.01  1526.146   662.201  1       13\n",
        "12     0.01  1502.412   587.271  1       12"
       ]
      }
     ],
     "prompt_number": 14
    },
    {
     "cell_type": "code",
     "collapsed": false,
     "input": [
      "mini.reset_index(inplace=True)\n",
      "mini"
     ],
     "language": "python",
     "metadata": {},
     "outputs": [
      {
       "html": [
        "<div style=\"max-height:1000px;max-width:1500px;overflow:auto;\">\n",
        "<table border=\"1\" class=\"dataframe\">\n",
        "  <thead>\n",
        "    <tr style=\"text-align: right;\">\n",
        "      <th></th>\n",
        "      <th>hello</th>\n",
        "      <th>t</th>\n",
        "      <th>x</th>\n",
        "      <th>y</th>\n",
        "      <th>f</th>\n",
        "      <th>node_id</th>\n",
        "    </tr>\n",
        "  </thead>\n",
        "  <tbody>\n",
        "    <tr>\n",
        "      <th>0</th>\n",
        "      <td>  1</td>\n",
        "      <td> 0.01</td>\n",
        "      <td>   47.974</td>\n",
        "      <td> 1577.958</td>\n",
        "      <td> 1</td>\n",
        "      <td>  1</td>\n",
        "    </tr>\n",
        "    <tr>\n",
        "      <th>1</th>\n",
        "      <td> 18</td>\n",
        "      <td> 0.01</td>\n",
        "      <td> 1602.190</td>\n",
        "      <td>  877.911</td>\n",
        "      <td> 1</td>\n",
        "      <td> 18</td>\n",
        "    </tr>\n",
        "    <tr>\n",
        "      <th>2</th>\n",
        "      <td> 16</td>\n",
        "      <td> 0.01</td>\n",
        "      <td> 1557.245</td>\n",
        "      <td> 1666.130</td>\n",
        "      <td> 1</td>\n",
        "      <td> 16</td>\n",
        "    </tr>\n",
        "    <tr>\n",
        "      <th>3</th>\n",
        "      <td> 13</td>\n",
        "      <td> 0.01</td>\n",
        "      <td> 1526.146</td>\n",
        "      <td>  662.201</td>\n",
        "      <td> 1</td>\n",
        "      <td> 13</td>\n",
        "    </tr>\n",
        "    <tr>\n",
        "      <th>4</th>\n",
        "      <td> 12</td>\n",
        "      <td> 0.01</td>\n",
        "      <td> 1502.412</td>\n",
        "      <td>  587.271</td>\n",
        "      <td> 1</td>\n",
        "      <td> 12</td>\n",
        "    </tr>\n",
        "  </tbody>\n",
        "</table>\n",
        "</div>"
       ],
       "metadata": {},
       "output_type": "pyout",
       "prompt_number": 16,
       "text": [
        "   hello     t         x         y  f  node_id\n",
        "0      1  0.01    47.974  1577.958  1        1\n",
        "1     18  0.01  1602.190   877.911  1       18\n",
        "2     16  0.01  1557.245  1666.130  1       16\n",
        "3     13  0.01  1526.146   662.201  1       13\n",
        "4     12  0.01  1502.412   587.271  1       12"
       ]
      }
     ],
     "prompt_number": 16
    },
    {
     "cell_type": "code",
     "collapsed": false,
     "input": [],
     "language": "python",
     "metadata": {},
     "outputs": []
    },
    {
     "cell_type": "code",
     "collapsed": false,
     "input": [
      "terms = experiment.prepdata.terminals.copy()"
     ],
     "language": "python",
     "metadata": {},
     "outputs": [],
     "prompt_number": 36
    },
    {
     "cell_type": "code",
     "collapsed": false,
     "input": [
      "terms.set_index('bid', inplace=True)"
     ],
     "language": "python",
     "metadata": {},
     "outputs": [],
     "prompt_number": 37
    },
    {
     "cell_type": "code",
     "collapsed": false,
     "input": [
      "terms.index"
     ],
     "language": "python",
     "metadata": {},
     "outputs": [
      {
       "metadata": {},
       "output_type": "pyout",
       "prompt_number": 40,
       "text": [
        "Int64Index([1, 2, 3, 4, 5, 6, 7, 8, 9, 10, 11, 12, 13, 16, 17, 18, 19, 20, 22, 23, 24, 25, 26, 27, 28, 29, 30, 31, 32, 33, 34, 35, 36, 37, 38, 39, 40, 41, 42, 43, 44, 45, 46, 47, 48, 49, 50, 51, 52, 53, 54, 55, 56, 57, 58, 59, 60, 61, 62, 63, 64, 66, 70, 71, 72, 73, 74, 76, 77, 79, 80, 81, 82, 83, 84, 85, 86, 87, 91, 92, 94, 96, 97, 98, 99, 100, 101, 102, 103, 106, 107, 108, 109, 110, 111, 112, 114, 117, 120, 126, ...], dtype='int64')"
       ]
      }
     ],
     "prompt_number": 40
    },
    {
     "cell_type": "code",
     "collapsed": false,
     "input": [
      "terms.columns"
     ],
     "language": "python",
     "metadata": {},
     "outputs": [
      {
       "metadata": {},
       "output_type": "pyout",
       "prompt_number": 42,
       "text": [
        "Index([u'x0', u'y0', u't0', u'f0', u'xN', u'yN', u'tN', u'fN'], dtype='object')"
       ]
      }
     ],
     "prompt_number": 42
    },
    {
     "cell_type": "code",
     "collapsed": false,
     "input": [],
     "language": "python",
     "metadata": {},
     "outputs": []
    }
   ],
   "metadata": {}
  }
 ]
}