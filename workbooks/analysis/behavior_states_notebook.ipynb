{
 "metadata": {
  "name": "",
  "signature": "sha256:44d7f69d47d890815500319a1e0def7c6e6195573cb6d1abea84c305947a65a2"
 },
 "nbformat": 3,
 "nbformat_minor": 0,
 "worksheets": [
  {
   "cells": [
    {
     "cell_type": "markdown",
     "metadata": {},
     "source": [
      "Description:\n",
      "This notebook is an attempt to implement the state behaivior model from\n",
      "The Geometry of Locomotive Behavioral States in C. elegans\n",
      "Gallagher et al.\n"
     ]
    },
    {
     "cell_type": "heading",
     "level": 2,
     "metadata": {},
     "source": [
      "Imports"
     ]
    },
    {
     "cell_type": "code",
     "collapsed": false,
     "input": [
      "%load_ext autoreload\n",
      "%autoreload 2\n",
      "%matplotlib inline"
     ],
     "language": "python",
     "metadata": {},
     "outputs": []
    },
    {
     "cell_type": "code",
     "collapsed": false,
     "input": [
      "# standard imports\n",
      "import os\n",
      "import sys\n",
      "import numpy as np\n",
      "import scipy\n",
      "import scipy.interpolate as interpolate\n",
      "import scipy.stats as stats\n",
      "import pandas as pd\n",
      "import matplotlib.pyplot as plt\n",
      "import matplotlib.gridspec as gridspec\n",
      "\n",
      "# Path definitions\n",
      "HERE = os.path.dirname(os.path.realpath('.'))\n",
      "CODE_DIR = os.path.join(HERE, 'code')\n",
      "SHARED_DIR = os.path.join(CODE_DIR, 'shared')\n",
      "\n",
      "sys.path.append(CODE_DIR)\n",
      "sys.path.append(SHARED_DIR)\n",
      "\n",
      "# nonstandard imports\n",
      "from waldo.wio.file_manager import get_timeseries, write_timeseries_file\n",
      "from importing.states import initialize_data, fit_one_state, fit_two_states, fit_three_states\n",
      "from importing.states import deskew_data, reskew_data, excess_entropy"
     ],
     "language": "python",
     "metadata": {},
     "outputs": []
    },
    {
     "cell_type": "heading",
     "level": 2,
     "metadata": {},
     "source": [
      "Functions"
     ]
    },
    {
     "cell_type": "code",
     "collapsed": false,
     "input": [
      "def show_observations(times, xy, observations):\n",
      "    (r, s, a, ar) = observations[:, 0], observations[:, 1], observations[:, 2], observations[:, 3]\n",
      "    times = times[:len(s)]\n",
      "    \n",
      "    fig, ax = plt.subplots()\n",
      "    #ppl.plot(ax, t, v, label='solution')\n",
      "    plt.plot(times, s, alpha=0.5, label='new_speed')\n",
      "    ax.set_title('speed calculations')\n",
      "    ax.set_ylabel('speed (mm/s)')\n",
      "    ax.set_xlabel('time (s)')\n",
      "    plt.legend()\n",
      "\n",
      "    #times = t[:len(a)]\n",
      "    #known_accel = np.diff(v)\n",
      "\n",
      "    fig, ax = plt.subplots()\n",
      "    #ppl.plot(ax, t[:len(known_accel)], known_accel, label='solution')\n",
      "    plt.plot(times, a, alpha=0.5, label='tangential acceleration')\n",
      "    ax.set_title('tangential acceleration calculations')\n",
      "    ax.set_ylabel('a (mm/s**2)')\n",
      "    ax.set_xlabel('time (s)')\n",
      "    plt.legend()\n",
      "\n",
      "    fig, ax = plt.subplots()\n",
      "    #ppl.plot(ax, t[:len(angle_change)], angle_change, lw=0.5, label='solution')\n",
      "    plt.plot(times, ar, alpha=0.5, lw=2, label='radial acceleration')\n",
      "    ax.set_title('radial acceleration calculations')\n",
      "    ax.set_ylabel('a (mm/s**2)')\n",
      "    ax.set_xlabel('time (s)')\n",
      "    plt.legend()\n",
      "\n",
      "    x, y =zip(*xy)\n",
      "    reverse_points = []\n",
      "    for ti, xi, yi, ri in zip(times[1:], x[1:], y[1:], r):\n",
      "        if ri:\n",
      "            reverse_points.append((ti, xi, yi))\n",
      "\n",
      "    rt, rx, ry = zip(*reverse_points)\n",
      "    fig, ax = plt.subplots()\n",
      "    plt.plot(x, y, lw=2, label='path')\n",
      "    plt.plot(rx, ry, 'o', label='reversals')\n",
      "    ax.set_title('path')\n",
      "    ax.set_xlabel('x (pxl)')\n",
      "    ax.set_ylabel('y (pxl)')\n",
      "    plt.legend()\n",
      "    \n",
      "#show_observations(observations)\n",
      "#plt.show()"
     ],
     "language": "python",
     "metadata": {},
     "outputs": []
    },
    {
     "cell_type": "code",
     "collapsed": false,
     "input": [
      "def show_observation_dists(observations, bins=50):\n",
      "    (r, s, a, ar) = observations[:, 0], observations[:, 1], observations[:, 2], observations[:, 3]    \n",
      "    \n",
      "    fig, ax = plt.subplots(nrows=2, ncols=2)\n",
      "    ax[0][0].hist(s, label='speeds', grid='y', bins=bins)\n",
      "    ax[1][0].hist(a[~np.isnan(a)], grid='y', bins=bins)    \n",
      "    ax[0][1].hist(ar[~np.isnan(ar)], grid='y', bins=bins)\n",
      "    \n",
      "    ax[1][1].axis('off')\n",
      "   # patch.set_visible(False)\n",
      "    \n",
      "    ax[0][0].set_ylabel('counts')\n",
      "    ax[1][0].set_ylabel('counts')\n",
      "    ax[1][0].set_ylabel('counts')\n",
      "    ax[0][0].set_title('speed')\n",
      "    ax[1][0].set_title('acel')\n",
      "    ax[0][1].set_title('rad accel')    \n",
      "    plt.tight_layout()\n",
      "\n",
      "#show_observation_dists(observations)\n",
      "#plt.show()"
     ],
     "language": "python",
     "metadata": {},
     "outputs": []
    },
    {
     "cell_type": "code",
     "collapsed": false,
     "input": [],
     "language": "python",
     "metadata": {},
     "outputs": []
    },
    {
     "cell_type": "code",
     "collapsed": false,
     "input": [
      "def plot_param_bars(states, params):\n",
      "\n",
      "    n = len(states)\n",
      "    dat = [('probability of reversal','p(r)', 0),\n",
      "           ('radial acceleration var','variance', -2),\n",
      "           ('acceleration-speed covariance','covariance a-s', -1)]\n",
      "    \n",
      "    fig, axes = plt.subplots(1, len(dat))\n",
      "    for ax, d in zip(axes, dat):\n",
      "        title, ylab, i = d\n",
      "        #ax.set_title(title)\n",
      "        ax.set_ylabel(ylab)\n",
      "        ppl.bar(ax, np.arange(n), params[:, i], annotate=True, grid='y')\n",
      "        ax.set_xticklabels(states)\n",
      "        \n",
      "        ax.set_xticks(np.array(range(n)) + 0.5)\n",
      "    plt.tight_layout()\n",
      "    plt.show()"
     ],
     "language": "python",
     "metadata": {},
     "outputs": []
    },
    {
     "cell_type": "code",
     "collapsed": false,
     "input": [
      "def show_param_fits(states, data, rel_probs, mean_list, var_list, bins = 30):\n",
      "\n",
      "    xlim = [0, int(stats.scoreatpercentile(data, 98) * 1.2)]\n",
      "    bins = linspace(xlim[0], xlim[1], bins)\n",
      "    \n",
      "    fig, ax = plt.subplots(2, 1, sharex=True)\n",
      "    for i, st in enumerate(states):\n",
      "        state_data = data[rel_probs[:, i] > 0.5]\n",
      "        ppl.hist(ax[0], state_data, bins = bins, label=st, alpha=0.5, normed=True)\n",
      "        print i, st, len(state_data)\n",
      "\n",
      "    for name, m, v in zip(states, mean_list, var_list):\n",
      "        st = stats.t(v, m)\n",
      "        x_dummy = linspace(xlim[0], xlim[1], 1000)\n",
      "        ppl.plot(ax[1], x_dummy, st.pdf(x_dummy), lw=2, label=name)\n",
      "    \n",
      "    ax[1].set_xlim(xlim) \n",
      "    ax[1].legend(loc='upper left')\n",
      "    return fig, ax"
     ],
     "language": "python",
     "metadata": {},
     "outputs": []
    },
    {
     "cell_type": "code",
     "collapsed": false,
     "input": [
      "def plot_mean_dists(states, params, observations, rel_probs, bins=30):\n",
      "    \n",
      "    mean_list = [params[i][1] for i, _ in enumerate(states)]\n",
      "    var_list = [params[i][3] for i, _ in enumerate(states)]\n",
      "    \n",
      "    data=observations[:,1]\n",
      "    data = reskew_data(data)\n",
      "    \n",
      "    xlim = [0, int(stats.scoreatpercentile(data, 95) * 1.2)]\n",
      "    print xlim\n",
      "    bins = linspace(xlim[0], xlim[1], bins)\n",
      "    \n",
      "    fig, ax = plt.subplots(2, 1, sharex=True)\n",
      "    for i, st in enumerate(states):\n",
      "        state_data = data[rel_probs[:, i] > 0.5]\n",
      "        ppl.hist(ax[0], state_data, bins = bins, label=st, alpha=0.5)\n",
      "        print i, st, len(state_data)\n",
      "\n",
      "    for name, m, v in zip(states, mean_list, var_list):\n",
      "        st = stats.t(v, m)\n",
      "        x_dummy = linspace(xlim[0], xlim[1], 1000)\n",
      "        ppl.plot(ax[1], reskew_data(x_dummy), st.pdf(x_dummy), lw=2, label=name)\n",
      "    \n",
      "    ax[1].set_xlim(xlim) \n",
      "    \n",
      "    ax[1].set_xlabel('speed')"
     ],
     "language": "python",
     "metadata": {},
     "outputs": []
    },
    {
     "cell_type": "code",
     "collapsed": false,
     "input": [
      "def plot_relative_probability_hists(states, rel_probs, N_bins=30):\n",
      "    fig, ax = plt.subplots(2, 1)\n",
      "    for i, (state, ps) in enumerate(zip(states, rel_probs.T)):\n",
      "        ppl.hist(ax[i], ps, label=state, bins=N_bins, grid='y', normed=True)\n",
      "        ax[i].legend()\n",
      "    \n",
      "def plot_relative_probaility_map(states, rel_probs):\n",
      "    fig, ax = plt.subplots()\n",
      "    ppl.pcolormesh(fig, ax, rel_probs.T)\n",
      "    ax.set_ylabel('time (frames)')\n",
      "    ax.set_xlabel('states')\n",
      "    ax.set_xticklabels(states)\n",
      "    ax.set_xticks([0.5, 1.5, 2.5])\n",
      "    ax.legend()"
     ],
     "language": "python",
     "metadata": {},
     "outputs": []
    },
    {
     "cell_type": "code",
     "collapsed": false,
     "input": [
      "def show_iterations(states, history):\n",
      "    fig, axes = plt.subplots(7,1, sharex=True)\n",
      "    for i, ax in enumerate(axes):\n",
      "        for j, st in enumerate(states):\n",
      "            dat = [h[j, i] for h in history]\n",
      "            #print dat\n",
      "            ppl.plot(ax, dat, label=st)\n",
      "    ax.legend(loc='lower left')\n"
     ],
     "language": "python",
     "metadata": {},
     "outputs": []
    },
    {
     "cell_type": "code",
     "collapsed": false,
     "input": [],
     "language": "python",
     "metadata": {},
     "outputs": []
    },
    {
     "cell_type": "code",
     "collapsed": false,
     "input": [
      "def plot_speed_timeseries(states, ds_data, rel_probs, bins=50, label='speed'):\n",
      "    \n",
      "    def bin_speeds_and_probs(data, rel_probs, step=5):\n",
      "        d, p = [], []\n",
      "        for b in range(len(states)):\n",
      "            pi = []\n",
      "            for i in range(len(data)/5):\n",
      "                i =i*5\n",
      "                j = i + 5\n",
      "                d.append(np.average(data[i:j]))\n",
      "                pi.append(np.mean(rel_probs[:, b][i:j]))\n",
      "            p.append(pi)\n",
      "        d = np.array(d)\n",
      "        p = np.array(p)\n",
      "        return d, p\n",
      "    \n",
      "    data = reskew_data(ds_data)\n",
      "    d, p = bin_speeds_and_probs(data, rel_probs, step=5)\n",
      "    \n",
      "    ylim = [0, int(stats.scoreatpercentile(data, 95) * 1.2)]\n",
      "    #### initialize the figure and axis\n",
      "    fig = plt.figure()\n",
      "    fig.set_size_inches(6, 3)\n",
      "    \n",
      "    gs = gridspec.GridSpec(1, 10)    \n",
      "    ax_t = plt.subplot(gs[0, :8])\n",
      "    ax_h = plt.subplot(gs[0, 8:], sharey=ax_t)\n",
      "\n",
      "    \n",
      "    ### plot timeseries\n",
      "    x = np.arange(0, len(d))    \n",
      "    for i, name in enumerate(states):\n",
      "        ppl.plot(ax_t, x[p[i] > 0.5], d[p[i] > 0.5], '.', label=name)    \n",
      "    ax_t.set_ylim(ylim)\n",
      "    ax_t.legend()\n",
      "    ax_t.set_xlabel('time')\n",
      "    ax_t.set_ylabel(label)  \n",
      "    \n",
      "    # plot histogram\n",
      "    bins = linspace(ylim[0], ylim[1], bins)\n",
      "    for i, st in enumerate(states):\n",
      "        state_data = data[rel_probs[:, i] > 0.5]\n",
      "        print i, st, len(state_data)\n",
      "        if len(state_data) == 0:\n",
      "            state = ax_h._get_lines.color_cycle.next()\n",
      "            continue\n",
      "        ppl.hist(ax_h, state_data, bins = bins, label=st, alpha=0.5, orientation='horizontal')  \n",
      "    ax_h.yaxis.tick_right()\n",
      "    ax_h.set_xlabel('counts')\n",
      "\n",
      "    start, end = ax_h.get_xlim()\n",
      "    ax_h.xaxis.set_ticks(np.linspace(start, end, 3))\n",
      "    ax_h.set_ylabel(label)\n",
      "    ax_h.yaxis.set_label_position(\"right\")\n",
      "\n",
      "    \n",
      "plot_speed_timeseries(states=['a', 'b'], ds_data=observations[:,1], rel_probs=rel_probs2)\n",
      "plt.show()\n",
      "plot_speed_timeseries(states, ds_data=observations[:,1], rel_probs=rel_probs3)\n"
     ],
     "language": "python",
     "metadata": {},
     "outputs": []
    },
    {
     "cell_type": "heading",
     "level": 3,
     "metadata": {},
     "source": [
      "Calculation Functions"
     ]
    },
    {
     "cell_type": "code",
     "collapsed": false,
     "input": [],
     "language": "python",
     "metadata": {},
     "outputs": []
    },
    {
     "cell_type": "code",
     "collapsed": false,
     "input": [],
     "language": "python",
     "metadata": {},
     "outputs": []
    },
    {
     "cell_type": "code",
     "collapsed": false,
     "input": [],
     "language": "python",
     "metadata": {},
     "outputs": []
    },
    {
     "cell_type": "code",
     "collapsed": false,
     "input": [],
     "language": "python",
     "metadata": {},
     "outputs": []
    },
    {
     "cell_type": "code",
     "collapsed": false,
     "input": [
      "'''\n",
      "def baum_welch(probs, T, initial=None):\n",
      "    N_obs, N_states = probs.shape\n",
      "    assert (N_states, N_states) == T.shape, 'rel_probs and Transition matrix do not have matching numbers of states'\n",
      "    \n",
      "    print N_states ** 2, 'transitions'\n",
      "    all_transition_points = np.ones(shape=(N_obs-1, N_states**2))\n",
      "\n",
      "    \n",
      "    if initial == None:\n",
      "        initial = (1.0 / N_states) * np.ones(N_states)\n",
      "        \n",
      "    p = probs[1, :]\n",
      "    for i, p_new in enumerate(probs[1:,:]):\n",
      "        p, p_old = p_new, p # step forward\n",
      "        if p_old == None: # skip first value.\n",
      "            continue\n",
      "        current = np.array(T) * p\n",
      "        current = (current.T * p_old * initial).T    \n",
      "        all_transition_points[i,:] = current.flatten()\n",
      "\n",
      "    highest_prob = np.amax(all_transition_points, axis=1).sum()\n",
      "    new_T = (all_transition_points.sum(axis=0) / highest_prob).reshape((N_states, N_states))\n",
      "    row_sums = new_T.sum(axis=1)\n",
      "    new_T = new_T / row_sums[:, numpy.newaxis]\n",
      "    return new_T\n",
      "\n",
      "def test_baum_welch():\n",
      "    # data and solution\n",
      "    T = np.array([[0.5, 0.5], [0.3, 0.7]])\n",
      "    p = np.array([[.3, .8], [.3, .8], [.3, .8], [.3, .8], [.3, .8],\n",
      "                  [.7, .2], [.7, .2], [.3, .8], [.3, .8], [.3, .8]])\n",
      "    initial = np.array([0.2, 0.8])\n",
      "    solution_T = np.array([[0.39726027,  0.60273973], \n",
      "                           [ 0.18333333,  0.81666667]])\n",
      "    T2 = baum_welch(p, T, initial) \n",
      "    print 'solution'\n",
      "    print solution_T\n",
      "    print 'T'\n",
      "    print T2\n",
      "    print 'difference'\n",
      "    print solution_T - T2\n",
      "test_baum_welch()\n",
      "'''\n",
      "# TODO: Get baum_welch alogrithm working for re-estimating the transition matrix for real data\n",
      "'''\n",
      "print states\n",
      "print params.shape\n",
      "print observations.shape\n",
      "probs = calculate_state_probabilities_no_memory(states, params, observations)\n",
      "print probs.shape\n",
      "print baum_welch(probs, T)\n",
      "'''"
     ],
     "language": "python",
     "metadata": {},
     "outputs": []
    },
    {
     "cell_type": "code",
     "collapsed": false,
     "input": [],
     "language": "python",
     "metadata": {},
     "outputs": []
    },
    {
     "cell_type": "code",
     "collapsed": false,
     "input": [],
     "language": "python",
     "metadata": {},
     "outputs": []
    },
    {
     "cell_type": "code",
     "collapsed": false,
     "input": [],
     "language": "python",
     "metadata": {},
     "outputs": []
    },
    {
     "cell_type": "heading",
     "level": 1,
     "metadata": {},
     "source": [
      "Analysis Start"
     ]
    },
    {
     "cell_type": "heading",
     "level": 3,
     "metadata": {},
     "source": [
      "toggles"
     ]
    },
    {
     "cell_type": "code",
     "collapsed": false,
     "input": [
      "#blob_id = '20130318_131111_49044'\n",
      "#blob_id = '20130614_120518_156441'\n",
      "#blob_id = '20130614_120518_02687'\n",
      "#blob_id = '20130614_120518_84042'\n",
      "blob_id = '20130614_120518_02263'\n",
      "\n",
      "dt = 0.1\n",
      "# pick tuning parameter for how hard it is to switch between states.\n",
      "tau = 10000\n",
      "#tau = 1000\n",
      "#tau = 100"
     ],
     "language": "python",
     "metadata": {},
     "outputs": []
    },
    {
     "cell_type": "heading",
     "level": 3,
     "metadata": {},
     "source": [
      "initialize data"
     ]
    },
    {
     "cell_type": "code",
     "collapsed": false,
     "input": [
      "# initialize data\n",
      "#times, xy, observations, sobservations  = initialize_data(blob_id)\n",
      "times,  observations, sobservations  = initialize_data(blob_id)\n",
      "\n",
      "#show_observations(times, xy, sobservations)\n",
      "print 'origional'\n",
      "show_observation_dists(sobservations)\n",
      "plt.show()\n",
      "print 'after deskewing'\n",
      "show_observation_dists(observations)"
     ],
     "language": "python",
     "metadata": {},
     "outputs": []
    },
    {
     "cell_type": "code",
     "collapsed": false,
     "input": [],
     "language": "python",
     "metadata": {},
     "outputs": []
    },
    {
     "cell_type": "heading",
     "level": 3,
     "metadata": {},
     "source": [
      "Fit Single State"
     ]
    },
    {
     "cell_type": "code",
     "collapsed": false,
     "input": [
      "states = ['one state']\n",
      "params1, T1, rel_probs1, history1 = fit_one_state(observations) \n",
      "plot_mean_dists(states, params1, observations, rel_probs1)\n",
      "entropy1 = excess_entropy(rel_probs)"
     ],
     "language": "python",
     "metadata": {},
     "outputs": []
    },
    {
     "cell_type": "heading",
     "level": 3,
     "metadata": {},
     "source": [
      "Fit Two States"
     ]
    },
    {
     "cell_type": "code",
     "collapsed": false,
     "input": [
      "states = ['slower', 'faster']\n",
      "params2, T2, rel_probs2, history2 = fit_two_states(params1, observations, tau=tau)\n",
      "entropy2 = excess_entropy(rel_probs2)"
     ],
     "language": "python",
     "metadata": {},
     "outputs": []
    },
    {
     "cell_type": "code",
     "collapsed": false,
     "input": [
      "plot_mean_dists(states, params2, observations, rel_probs2)\n",
      "plot_param_bars(states, params2)\n",
      "show_iterations(states, history2)"
     ],
     "language": "python",
     "metadata": {},
     "outputs": []
    },
    {
     "cell_type": "code",
     "collapsed": false,
     "input": [
      "plot_relative_probaility_map(states, rel_probs2)\n",
      "plot_speed_timeseries(states, ds_data=observations[:,1], rel_probs=rel_probs2, label='speed')\n",
      "plot_speed_timeseries(states, ds_data=observations[:,2], rel_probs=rel_probs2, label='accel')\n",
      "plot_speed_timeseries(states, ds_data=observations[:,3], rel_probs=rel_probs2, label='rad accel')"
     ],
     "language": "python",
     "metadata": {},
     "outputs": []
    },
    {
     "cell_type": "heading",
     "level": 3,
     "metadata": {},
     "source": [
      "Fit three states"
     ]
    },
    {
     "cell_type": "code",
     "collapsed": false,
     "input": [
      "states = ['A', 'B', 'C']\n",
      "params3, T3, rel_probs3, history3 = fit_three_states(params2, observations, tau=tau)\n",
      "entropy3 = excess_entropy(rel_probs)"
     ],
     "language": "python",
     "metadata": {},
     "outputs": []
    },
    {
     "cell_type": "code",
     "collapsed": false,
     "input": [
      "plot_mean_dists(states, params3, observations, rel_probs3)\n",
      "plot_param_bars(states, params3)\n",
      "plot_relative_probaility_map(states, rel_probs3)\n",
      "show_iterations(states, history3)"
     ],
     "language": "python",
     "metadata": {},
     "outputs": []
    },
    {
     "cell_type": "code",
     "collapsed": false,
     "input": [
      "plot_relative_probaility_map(states, rel_probs2)\n",
      "plot_speed_timeseries(states, ds_data=observations[:,1], rel_probs=rel_probs3, label='speed')\n",
      "plot_speed_timeseries(states, ds_data=observations[:,2], rel_probs=rel_probs3, label='accel')\n",
      "plot_speed_timeseries(states, ds_data=observations[:,3], rel_probs=rel_probs3, label='rad accel')"
     ],
     "language": "python",
     "metadata": {},
     "outputs": []
    },
    {
     "cell_type": "code",
     "collapsed": false,
     "input": [
      "def add_parameter_row(params, step=0.5):\n",
      "    N = 2\n",
      "    if not isinstance(params, np.ndarray) or not params.shape[1]:\n",
      "        params = np.ones((1,7)) * params\n",
      "        print params\n",
      "    p = np.zeros((N, 7))\n",
      "    for i in range(params.shape[1]):\n",
      "        print p[i, :].shape, params[i: 0].shape\n",
      "        p[i, :] = params[i: 0]\n",
      "    p[-1, :] = params[-1, :]\n",
      "    p[-1, 1] += step\n",
      "    return p\n",
      "\n",
      "print params\n",
      "print add_parameter_row(params)"
     ],
     "language": "python",
     "metadata": {},
     "outputs": []
    },
    {
     "cell_type": "code",
     "collapsed": false,
     "input": [],
     "language": "python",
     "metadata": {},
     "outputs": []
    }
   ],
   "metadata": {}
  }
 ]
}