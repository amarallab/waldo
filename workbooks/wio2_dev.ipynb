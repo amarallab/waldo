{
 "metadata": {
  "name": "",
  "signature": "sha256:6015969e38c5b5309701a34b57956b6a9a623478d13b20a05f72c2723d1edb34"
 },
 "nbformat": 3,
 "nbformat_minor": 0,
 "worksheets": [
  {
   "cells": [
    {
     "cell_type": "code",
     "collapsed": false,
     "input": [
      "%load_ext autoreload\n",
      "%autoreload 2\n",
      "%matplotlib inline"
     ],
     "language": "python",
     "metadata": {},
     "outputs": [],
     "prompt_number": 1
    },
    {
     "cell_type": "code",
     "collapsed": false,
     "input": [
      "from __future__ import print_function, absolute_import, unicode_literals, division\n",
      "import pathcustomize\n",
      "\n",
      "import os\n",
      "\n",
      "import matplotlib.pyplot as plt\n",
      "\n",
      "import wio2\n",
      "\n",
      "import plates.analytics as plan"
     ],
     "language": "python",
     "metadata": {},
     "outputs": [],
     "prompt_number": 14
    },
    {
     "cell_type": "code",
     "collapsed": false,
     "input": [
      "experiment_id = '20130318_131111'"
     ],
     "language": "python",
     "metadata": {},
     "outputs": [],
     "prompt_number": 3
    },
    {
     "cell_type": "code",
     "collapsed": false,
     "input": [
      "experiment = wio2.Experiment(experiment_id)"
     ],
     "language": "python",
     "metadata": {},
     "outputs": [],
     "prompt_number": 4
    },
    {
     "cell_type": "code",
     "collapsed": false,
     "input": [
      "for wid, wdata in experiment['xy_raw']:\n",
      "    time, data = wdata.read()\n",
      "    print(wid, len(time), len(time)-len(data))"
     ],
     "language": "python",
     "metadata": {},
     "outputs": [
      {
       "output_type": "stream",
       "stream": "stdout",
       "text": [
        "61632 4435 0\n",
        "44353 9575 0\n",
        "9858 13726 0\n",
        "34758 3189 0\n",
        "13063 33359 0\n",
        "11528 2206 0\n",
        "11703 4571 0\n",
        "32350 2215 0\n",
        "48270 1841 0\n",
        "50712 3871 0\n",
        "49044 14340 0\n",
        "9176 2172 0\n",
        "33497 5571 0\n",
        "32282 5484 0\n",
        "1500 2185 0\n",
        "29978 2384 0\n",
        "36062 2223 0\n",
        "13983 3281 0\n",
        "930 2574 0\n",
        "36517 3318 0\n",
        "52779 2473 0\n",
        "17885 3547 0\n",
        "54320 2459 0\n",
        "61725 2658 0\n",
        "3509 2658 0\n",
        "42679 4051 0\n",
        "3193 2620 0\n",
        "42746 2603 0\n",
        "62779 2421 0\n",
        "43452 4084 0\n"
       ]
      }
     ],
     "prompt_number": 12
    },
    {
     "cell_type": "code",
     "collapsed": false,
     "input": [
      "x, y = experiment['xy_raw'][930]\n",
      "print(x, y)"
     ],
     "language": "python",
     "metadata": {},
     "outputs": [
      {
       "output_type": "stream",
       "stream": "stdout",
       "text": [
        "[  89.322   89.389   89.443 ...,  260.251  260.332  260.381] [[ 652.59   192.231]\n",
        " [ 652.412  192.414]\n",
        " [ 652.327  192.5  ]\n",
        " ..., \n",
        " [ 752.319   78.319]\n",
        " [ 752.407   78.205]\n",
        " [ 752.269   78.296]]\n"
       ]
      }
     ],
     "prompt_number": 7
    },
    {
     "cell_type": "code",
     "collapsed": false,
     "input": [
      "list(experiment[930])"
     ],
     "language": "python",
     "metadata": {},
     "outputs": [
      {
       "metadata": {},
       "output_type": "pyout",
       "prompt_number": 8,
       "text": [
        "[('cent_speed_bl', <Closed HDF5 file>),\n",
        " ('cent_speed', <Closed HDF5 file>),\n",
        " ('xy', <Closed HDF5 file>),\n",
        " ('width80', <Closed HDF5 file>),\n",
        " ('go_dur', <Closed HDF5 file>),\n",
        " ('width50', <Closed HDF5 file>),\n",
        " ('encoded_outline', <Closed HDF5 file>),\n",
        " ('spine_rough', <Closed HDF5 file>),\n",
        " ('spine', <Closed HDF5 file>),\n",
        " ('xy_raw', <Closed HDF5 file>),\n",
        " ('width_mm', <Closed HDF5 file>),\n",
        " ('curve_w', <Closed HDF5 file>),\n",
        " ('length_rough', <Closed HDF5 file>),\n",
        " ('is_moving', <Closed HDF5 file>),\n",
        " ('flags', <Closed HDF5 file>),\n",
        " ('width20', <Closed HDF5 file>),\n",
        " ('length_mm', <Closed HDF5 file>),\n",
        " ('angle_change', <Closed HDF5 file>)]"
       ]
      }
     ],
     "prompt_number": 8
    },
    {
     "cell_type": "code",
     "collapsed": false,
     "input": [
      "for worm_id, worm in experiment:\n",
      "    print(worm_id)"
     ],
     "language": "python",
     "metadata": {},
     "outputs": [
      {
       "output_type": "stream",
       "stream": "stdout",
       "text": [
        "61632\n",
        "44353\n",
        "9858\n",
        "34758\n",
        "13063\n",
        "11528\n",
        "11703\n",
        "32350\n",
        "48270\n",
        "50712\n",
        "49044\n",
        "9176\n",
        "33497\n",
        "32282\n",
        "1500\n",
        "29978\n",
        "36062\n",
        "13983\n",
        "930\n",
        "36517\n",
        "52779\n",
        "17885\n",
        "54320\n",
        "61725\n",
        "3509\n",
        "42679\n",
        "3193\n",
        "42746\n",
        "62779\n",
        "43452\n"
       ]
      }
     ],
     "prompt_number": 9
    },
    {
     "cell_type": "code",
     "collapsed": false,
     "input": [
      "speed_config = {\n",
      "    'smoothing': ('boxcar', 1),\n",
      "    'percentiles': [10, 20, 50, 80, 90],\n",
      "}\n",
      "\n",
      "analyzer = plan.ExperimentAnalyzer()\n",
      "analyzer.add_analysis_method(plan.NoiseEstimator())\n",
      "analyzer.add_analysis_method(plan.SpeedEstimator(**speed_config))"
     ],
     "language": "python",
     "metadata": {},
     "outputs": [],
     "prompt_number": 16
    },
    {
     "cell_type": "code",
     "collapsed": false,
     "input": [
      "analyzer.analyze(experiment)\n",
      "results = analyzer.results()"
     ],
     "language": "python",
     "metadata": {},
     "outputs": [],
     "prompt_number": 25
    },
    {
     "cell_type": "code",
     "collapsed": false,
     "input": [],
     "language": "python",
     "metadata": {},
     "outputs": []
    }
   ],
   "metadata": {}
  }
 ]
}