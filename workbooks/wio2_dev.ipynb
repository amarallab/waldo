{
 "metadata": {
  "name": "",
  "signature": "sha256:803084b80ef4fd55bed6549cdac5dc565c6c0fe940fc4d47328e5a945a6d33b7"
 },
 "nbformat": 3,
 "nbformat_minor": 0,
 "worksheets": [
  {
   "cells": [
    {
     "cell_type": "code",
     "collapsed": false,
     "input": [
      "%load_ext autoreload\n",
      "%autoreload 2\n",
      "%matplotlib inline"
     ],
     "language": "python",
     "metadata": {},
     "outputs": [],
     "prompt_number": 1
    },
    {
     "cell_type": "code",
     "collapsed": false,
     "input": [
      "from __future__ import print_function, absolute_import, unicode_literals, division\n",
      "import pathcustomize\n",
      "\n",
      "import os\n",
      "\n",
      "import matplotlib.pyplot as plt\n",
      "\n",
      "import wio2"
     ],
     "language": "python",
     "metadata": {},
     "outputs": [],
     "prompt_number": 2
    },
    {
     "cell_type": "code",
     "collapsed": false,
     "input": [
      "experiment_id = '20130318_131111'"
     ],
     "language": "python",
     "metadata": {},
     "outputs": [],
     "prompt_number": 3
    },
    {
     "cell_type": "code",
     "collapsed": false,
     "input": [
      "experiment = wio2.Experiment(experiment_id)"
     ],
     "language": "python",
     "metadata": {},
     "outputs": [],
     "prompt_number": 4
    },
    {
     "cell_type": "code",
     "collapsed": false,
     "input": [
      "for wid, wdata in experiment.read_measurements('xy'):\n",
      "    time, data = wdata.read()\n",
      "    print(wid, len(time), len(time)-len(data))"
     ],
     "language": "python",
     "metadata": {},
     "outputs": [
      {
       "output_type": "stream",
       "stream": "stdout",
       "text": [
        "61632 3130 0\n",
        "44353 6364 0\n",
        "9858 9120 0\n",
        "34758 2119 0\n",
        "13063 22170 0\n",
        "11528 1462 0\n",
        "11703 3033 0\n",
        "32350 1471 0\n",
        "48270 1224 0\n",
        "50712 2569 0\n",
        "49044 9714 0\n",
        "9176 1441 0\n",
        "33497 3700 0\n",
        "32282 3644 0\n",
        "1500 1452 0\n",
        "29978 1583 0\n",
        "36062 1476 0\n",
        "13983 2180 0\n",
        "930 1710 0\n",
        "36517 2206 0\n",
        "52779 1640 0\n",
        "17885 2357 0\n",
        "54320 1635 0\n",
        "61725 1763 0\n",
        "3509 1763 0\n",
        "42679 2691 0\n",
        "3193 1738 0\n",
        "42746 1728 0\n",
        "62779 1606 0\n",
        "43452 2714 0\n"
       ]
      }
     ],
     "prompt_number": 5
    },
    {
     "cell_type": "code",
     "collapsed": false,
     "input": [
      "x, y = experiment['xy_raw'][930:1000]\n",
      "print(x, y)"
     ],
     "language": "python",
     "metadata": {},
     "outputs": [
      {
       "ename": "TypeError",
       "evalue": "unhashable type: 'slice'",
       "output_type": "pyerr",
       "traceback": [
        "\u001b[1;31m---------------------------------------------------------------------------\u001b[0m\n\u001b[1;31mTypeError\u001b[0m                                 Traceback (most recent call last)",
        "\u001b[1;32m<ipython-input-13-f1f130c69c68>\u001b[0m in \u001b[0;36m<module>\u001b[1;34m()\u001b[0m\n\u001b[1;32m----> 1\u001b[1;33m \u001b[0mx\u001b[0m\u001b[1;33m,\u001b[0m \u001b[0my\u001b[0m \u001b[1;33m=\u001b[0m \u001b[0mexperiment\u001b[0m\u001b[1;33m[\u001b[0m\u001b[1;34m'xy_raw'\u001b[0m\u001b[1;33m]\u001b[0m\u001b[1;33m[\u001b[0m\u001b[1;36m930\u001b[0m\u001b[1;33m:\u001b[0m\u001b[1;36m1000\u001b[0m\u001b[1;33m]\u001b[0m\u001b[1;33m\u001b[0m\u001b[0m\n\u001b[0m\u001b[0;32m      2\u001b[0m \u001b[0mprint\u001b[0m\u001b[1;33m(\u001b[0m\u001b[0mx\u001b[0m\u001b[1;33m,\u001b[0m \u001b[0my\u001b[0m\u001b[1;33m)\u001b[0m\u001b[1;33m\u001b[0m\u001b[0m\n",
        "\u001b[1;32mD:\\Users\\Nick\\Local HG\\Waldo\\code\\shared\\wio2\\experiment.py\u001b[0m in \u001b[0;36m__getitem__\u001b[1;34m(self, key)\u001b[0m\n\u001b[0;32m     27\u001b[0m \u001b[1;32mclass\u001b[0m \u001b[0mExperimentMeasurementView\u001b[0m\u001b[1;33m(\u001b[0m\u001b[0mExperimentAxisView\u001b[0m\u001b[1;33m)\u001b[0m\u001b[1;33m:\u001b[0m\u001b[1;33m\u001b[0m\u001b[0m\n\u001b[0;32m     28\u001b[0m     \u001b[1;32mdef\u001b[0m \u001b[0m__getitem__\u001b[0m\u001b[1;33m(\u001b[0m\u001b[0mself\u001b[0m\u001b[1;33m,\u001b[0m \u001b[0mkey\u001b[0m\u001b[1;33m)\u001b[0m\u001b[1;33m:\u001b[0m\u001b[1;33m\u001b[0m\u001b[0m\n\u001b[1;32m---> 29\u001b[1;33m         \u001b[1;32mreturn\u001b[0m \u001b[0mself\u001b[0m\u001b[1;33m.\u001b[0m\u001b[0mexperiment\u001b[0m\u001b[1;33m.\u001b[0m\u001b[0mread_measurement\u001b[0m\u001b[1;33m(\u001b[0m\u001b[0mkey\u001b[0m\u001b[1;33m,\u001b[0m \u001b[0mself\u001b[0m\u001b[1;33m.\u001b[0m\u001b[0mfixed_key\u001b[0m\u001b[1;33m)\u001b[0m\u001b[1;33m\u001b[0m\u001b[0m\n\u001b[0m\u001b[0;32m     30\u001b[0m \u001b[1;33m\u001b[0m\u001b[0m\n\u001b[0;32m     31\u001b[0m     \u001b[1;32mdef\u001b[0m \u001b[0m__iter__\u001b[0m\u001b[1;33m(\u001b[0m\u001b[0mself\u001b[0m\u001b[1;33m)\u001b[0m\u001b[1;33m:\u001b[0m\u001b[1;33m\u001b[0m\u001b[0m\n",
        "\u001b[1;32mD:\\Users\\Nick\\Local HG\\Waldo\\code\\shared\\wio2\\experiment.py\u001b[0m in \u001b[0;36mread_measurement\u001b[1;34m(self, worm_id, measurement)\u001b[0m\n\u001b[0;32m    169\u001b[0m \u001b[1;33m\u001b[0m\u001b[0m\n\u001b[0;32m    170\u001b[0m     \u001b[1;32mdef\u001b[0m \u001b[0mread_measurement\u001b[0m\u001b[1;33m(\u001b[0m\u001b[0mself\u001b[0m\u001b[1;33m,\u001b[0m \u001b[0mworm_id\u001b[0m\u001b[1;33m,\u001b[0m \u001b[0mmeasurement\u001b[0m\u001b[1;33m)\u001b[0m\u001b[1;33m:\u001b[0m\u001b[1;33m\u001b[0m\u001b[0m\n\u001b[1;32m--> 171\u001b[1;33m         \u001b[0mfilepath\u001b[0m \u001b[1;33m=\u001b[0m \u001b[0mself\u001b[0m\u001b[1;33m.\u001b[0m\u001b[0mmeasurements\u001b[0m\u001b[1;33m[\u001b[0m\u001b[0mmeasurement\u001b[0m\u001b[1;33m]\u001b[0m\u001b[1;33m[\u001b[0m\u001b[0mworm_id\u001b[0m\u001b[1;33m]\u001b[0m\u001b[1;33m\u001b[0m\u001b[0m\n\u001b[0m\u001b[0;32m    172\u001b[0m         \u001b[1;32mwith\u001b[0m \u001b[0mDataFile\u001b[0m\u001b[1;33m(\u001b[0m\u001b[0mstr\u001b[0m\u001b[1;33m(\u001b[0m\u001b[0mfilepath\u001b[0m\u001b[1;33m)\u001b[0m\u001b[1;33m)\u001b[0m \u001b[1;32mas\u001b[0m \u001b[0mdatafile\u001b[0m\u001b[1;33m:\u001b[0m\u001b[1;33m\u001b[0m\u001b[0m\n\u001b[0;32m    173\u001b[0m             \u001b[1;32mreturn\u001b[0m \u001b[0mdatafile\u001b[0m\u001b[1;33m.\u001b[0m\u001b[0mread_immediate\u001b[0m\u001b[1;33m(\u001b[0m\u001b[1;33m)\u001b[0m\u001b[1;33m\u001b[0m\u001b[0m\n",
        "\u001b[1;31mTypeError\u001b[0m: unhashable type: 'slice'"
       ]
      }
     ],
     "prompt_number": 13
    },
    {
     "cell_type": "code",
     "collapsed": false,
     "input": [
      "list(experiment[930])"
     ],
     "language": "python",
     "metadata": {},
     "outputs": [
      {
       "metadata": {},
       "output_type": "pyout",
       "prompt_number": 9,
       "text": [
        "[('spine', <Closed HDF5 file>),\n",
        " ('spine_rough', <Closed HDF5 file>),\n",
        " ('encoded_outline', <Closed HDF5 file>),\n",
        " ('curve_w', <Closed HDF5 file>),\n",
        " ('flags', <Closed HDF5 file>),\n",
        " ('is_moving', <Closed HDF5 file>),\n",
        " ('width_mm', <Closed HDF5 file>),\n",
        " ('length_rough', <Closed HDF5 file>),\n",
        " ('width50', <Closed HDF5 file>),\n",
        " ('xy_raw', <Closed HDF5 file>),\n",
        " ('width20', <Closed HDF5 file>),\n",
        " ('cent_speed_bl', <Closed HDF5 file>),\n",
        " ('angle_change', <Closed HDF5 file>),\n",
        " ('go_dur', <Closed HDF5 file>),\n",
        " ('width80', <Closed HDF5 file>),\n",
        " ('cent_speed', <Closed HDF5 file>),\n",
        " ('length_mm', <Closed HDF5 file>),\n",
        " ('xy', <Closed HDF5 file>)]"
       ]
      }
     ],
     "prompt_number": 9
    },
    {
     "cell_type": "code",
     "collapsed": false,
     "input": [],
     "language": "python",
     "metadata": {},
     "outputs": []
    }
   ],
   "metadata": {}
  }
 ]
}