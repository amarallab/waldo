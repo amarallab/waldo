{
 "metadata": {
  "name": "",
  "signature": "sha256:95cb82a21a55623d1431c02d6f50426cc4a098a2ef3a0101e69ca0cfe10afe1c"
 },
 "nbformat": 3,
 "nbformat_minor": 0,
 "worksheets": [
  {
   "cells": [
    {
     "cell_type": "code",
     "collapsed": false,
     "input": [
      "%load_ext autoreload\n",
      "%autoreload 2\n",
      "%matplotlib inline"
     ],
     "language": "python",
     "metadata": {},
     "outputs": [],
     "prompt_number": 1
    },
    {
     "cell_type": "code",
     "collapsed": false,
     "input": [
      "from __future__ import print_function, absolute_import, unicode_literals, division\n",
      "import pathcustomize\n",
      "\n",
      "import os\n",
      "\n",
      "import matplotlib.pyplot as plt\n",
      "\n",
      "import wio2"
     ],
     "language": "python",
     "metadata": {},
     "outputs": [],
     "prompt_number": 2
    },
    {
     "cell_type": "code",
     "collapsed": false,
     "input": [
      "experiment_id = '20130318_131111'"
     ],
     "language": "python",
     "metadata": {},
     "outputs": [],
     "prompt_number": 3
    },
    {
     "cell_type": "code",
     "collapsed": false,
     "input": [
      "experiment = wio2.Experiment(experiment_id)"
     ],
     "language": "python",
     "metadata": {},
     "outputs": [],
     "prompt_number": 4
    },
    {
     "cell_type": "code",
     "collapsed": false,
     "input": [
      "for wid, wdata in experiment.read_measurements('xy'):\n",
      "    time, data = wdata.read()\n",
      "    print(wid, len(time), len(time)-len(data))"
     ],
     "language": "python",
     "metadata": {},
     "outputs": [
      {
       "output_type": "stream",
       "stream": "stdout",
       "text": [
        "9858 9120 0\n",
        "13063 22170 0\n",
        "11528 1462 0\n",
        "48270 1224 0\n",
        "49044 9714 0\n",
        "50712 2569 0\n",
        "32282 3644 0\n",
        "61725 1763 0\n",
        "13983 2180 0\n",
        "930 1710 0\n",
        "36517 2206 0\n",
        "52779 1640 0\n",
        "54320 1635 0\n",
        "3509 1763 0\n",
        "11703 3033 0\n",
        "29978 1583 0\n",
        "62779 1606 0\n",
        "43452 2714 0\n",
        "61632 3130 0\n",
        "44353 6364 0\n",
        "34758 2119 0\n",
        "42679 2691 0\n",
        "9176 1441 0\n",
        "33497 3700 0\n",
        "1500 1452 0\n",
        "17885 2357 0\n",
        "32350 1471 0\n",
        "36062 1476 0\n",
        "3193 1738 0\n",
        "42746 1728 0\n"
       ]
      }
     ],
     "prompt_number": 5
    },
    {
     "cell_type": "code",
     "collapsed": false,
     "input": [],
     "language": "python",
     "metadata": {},
     "outputs": [],
     "prompt_number": 5
    }
   ],
   "metadata": {}
  }
 ]
}