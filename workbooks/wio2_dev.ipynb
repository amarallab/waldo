{
 "metadata": {
  "name": "",
  "signature": "sha256:fcdc39ae8b637d90a7a9a3150610bfe407cd4ffa455d0aa77c83a1642a92bc13"
 },
 "nbformat": 3,
 "nbformat_minor": 0,
 "worksheets": [
  {
   "cells": [
    {
     "cell_type": "code",
     "collapsed": false,
     "input": [
      "%load_ext autoreload\n",
      "%autoreload 2\n",
      "%matplotlib inline"
     ],
     "language": "python",
     "metadata": {},
     "outputs": [],
     "prompt_number": 1
    },
    {
     "cell_type": "code",
     "collapsed": false,
     "input": [
      "import pathcustomize\n",
      "\n",
      "import os\n",
      "\n",
      "import wio2"
     ],
     "language": "python",
     "metadata": {},
     "outputs": [],
     "prompt_number": 2
    },
    {
     "cell_type": "code",
     "collapsed": false,
     "input": [
      "experiment_id = '20130318_131111'"
     ],
     "language": "python",
     "metadata": {},
     "outputs": [],
     "prompt_number": 3
    },
    {
     "cell_type": "code",
     "collapsed": false,
     "input": [
      "experiment = wio2.Experiment(experiment_id)"
     ],
     "language": "python",
     "metadata": {},
     "outputs": [],
     "prompt_number": 4
    },
    {
     "cell_type": "code",
     "collapsed": false,
     "input": [
      "for wid, wdata in experiment.read_measurements('xy'):\n",
      "    print(wid, len(wdata.load()['time']), len(wdata.load()['time'])-len(wdata.load()['data']))"
     ],
     "language": "python",
     "metadata": {},
     "outputs": [
      {
       "output_type": "stream",
       "stream": "stdout",
       "text": [
        "42679 2691 0\n",
        "11528 1462 0\n",
        "50712 2569 0\n",
        "03509 1763 0\n",
        "01500 1452 0\n",
        "11703 3033 0\n",
        "43452 2714 0\n",
        "33497 3700 0\n",
        "36062 1476 0\n",
        "36517 2206 0\n",
        "34758 2119 0\n",
        "32282 3644 0\n",
        "13983 2180 0\n",
        "61725 1763 0\n",
        "09176 1441 0\n",
        "32350 1471 0\n",
        "62779 1606 0\n",
        "03193 1738 0\n",
        "52779 1640 0\n",
        "44353 6364 0\n",
        "49044 9714 0\n",
        "17885 2357 0\n",
        "48270 1224 0\n",
        "00930 1710 0\n",
        "42746 1728 0\n",
        "09858 9120 0\n",
        "54320 1635 0\n",
        "13063 22170 0\n",
        "61632 3130 0\n",
        "29978 1583 0\n"
       ]
      }
     ],
     "prompt_number": 7
    },
    {
     "cell_type": "code",
     "collapsed": false,
     "input": [
      "import h5py\n",
      "import pathlib\n",
      "\n",
      "mypath = pathlib.Path.cwd() / 'test.h5'\n",
      "with h5py.File(str(mypath), 'w') as f:\n",
      "    f['test'] = [2, 4, 5, 6.2]"
     ],
     "language": "python",
     "metadata": {},
     "outputs": [],
     "prompt_number": 17
    },
    {
     "cell_type": "code",
     "collapsed": false,
     "input": [
      "mypath = pathlib.Path.cwd() / 'test.h5'\n",
      "with h5py.File(str(mypath)) as f:\n",
      "    print(f['test'])"
     ],
     "language": "python",
     "metadata": {},
     "outputs": [
      {
       "output_type": "stream",
       "stream": "stdout",
       "text": [
        "<HDF5 dataset \"test\": shape (4,), type \"<f8\">\n"
       ]
      }
     ],
     "prompt_number": 18
    },
    {
     "cell_type": "code",
     "collapsed": false,
     "input": [
      "dir(f)"
     ],
     "language": "python",
     "metadata": {},
     "outputs": [
      {
       "metadata": {},
       "output_type": "pyout",
       "prompt_number": 20,
       "text": [
        "['__bool__',\n",
        " '__class__',\n",
        " '__contains__',\n",
        " '__delattr__',\n",
        " '__delitem__',\n",
        " '__dict__',\n",
        " '__dir__',\n",
        " '__doc__',\n",
        " '__enter__',\n",
        " '__eq__',\n",
        " '__exit__',\n",
        " '__format__',\n",
        " '__ge__',\n",
        " '__getattribute__',\n",
        " '__getitem__',\n",
        " '__gt__',\n",
        " '__hash__',\n",
        " '__init__',\n",
        " '__iter__',\n",
        " '__le__',\n",
        " '__len__',\n",
        " '__lt__',\n",
        " '__module__',\n",
        " '__ne__',\n",
        " '__new__',\n",
        " '__reduce__',\n",
        " '__reduce_ex__',\n",
        " '__repr__',\n",
        " '__setattr__',\n",
        " '__setitem__',\n",
        " '__sizeof__',\n",
        " '__str__',\n",
        " '__subclasshook__',\n",
        " '__weakref__',\n",
        " '_d',\n",
        " '_e',\n",
        " '_id',\n",
        " '_lapl',\n",
        " '_lcpl',\n",
        " 'attrs',\n",
        " 'close',\n",
        " 'copy',\n",
        " 'create_dataset',\n",
        " 'create_group',\n",
        " 'driver',\n",
        " 'fid',\n",
        " 'file',\n",
        " 'filename',\n",
        " 'flush',\n",
        " 'get',\n",
        " 'id',\n",
        " 'items',\n",
        " 'keys',\n",
        " 'libver',\n",
        " 'mode',\n",
        " 'move',\n",
        " 'name',\n",
        " 'parent',\n",
        " 'ref',\n",
        " 'regionref',\n",
        " 'require_dataset',\n",
        " 'require_group',\n",
        " 'userblock_size',\n",
        " 'values',\n",
        " 'visit',\n",
        " 'visititems']"
       ]
      }
     ],
     "prompt_number": 20
    },
    {
     "cell_type": "code",
     "collapsed": false,
     "input": [],
     "language": "python",
     "metadata": {},
     "outputs": []
    }
   ],
   "metadata": {}
  }
 ]
}