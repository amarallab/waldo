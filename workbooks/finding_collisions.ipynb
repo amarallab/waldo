{
 "metadata": {
  "name": "",
  "signature": "sha256:6b02532d5f9f48c74562d48e055bb29edb391605768412c842102477698ade64"
 },
 "nbformat": 3,
 "nbformat_minor": 0,
 "worksheets": [
  {
   "cells": [
    {
     "cell_type": "heading",
     "level": 1,
     "metadata": {},
     "source": [
      "Finding Collisions"
     ]
    },
    {
     "cell_type": "code",
     "collapsed": false,
     "input": [
      "%load_ext autoreload\n",
      "%autoreload 2\n",
      "%matplotlib inline"
     ],
     "language": "python",
     "metadata": {},
     "outputs": []
    },
    {
     "cell_type": "code",
     "collapsed": false,
     "input": [
      "from __future__ import print_function, absolute_import, unicode_literals, division\n",
      "import six\n",
      "from six.moves import (zip, filter, map, reduce, input, range)\n",
      "\n",
      "import pathcustomize\n",
      "\n",
      "import sys\n",
      "import os\n",
      "import pathlib\n",
      "import pickle\n",
      "import platform\n",
      "print('Python {} ({}) [{}] on {}'.format(platform.python_version(), ', '.join(platform.python_build()), \n",
      "                                       platform.python_compiler(), sys.platform))\n",
      "\n",
      "import numpy as np\n",
      "import matplotlib.pyplot as plt\n",
      "#import networkx as nx\n",
      "from IPython.core.display import Image as display_image\n",
      "\n",
      "os.environ.setdefault('MULTIWORM_SETTINGS', 'multiworm_settings')\n",
      "\n",
      "import multiworm\n",
      "#import where\n",
      "import collider\n",
      "#import collider.viz\n",
      "import wio.file_manager as fm"
     ],
     "language": "python",
     "metadata": {},
     "outputs": []
    },
    {
     "cell_type": "code",
     "collapsed": false,
     "input": [],
     "language": "python",
     "metadata": {},
     "outputs": []
    },
    {
     "cell_type": "code",
     "collapsed": false,
     "input": [
      "#ex_id = '20130614_120518'\n",
      "ex_id = '20130318_131111'\n",
      "#ex_id = '20130414_140704'\n",
      "\n",
      "experiment = multiworm.Experiment(experiment_id=ex_id)\n",
      "experiment.load_summary(graph=True)\n",
      "\n",
      "cache_file = pathlib.Path() / '{}_roigraph.pkl'.format(ex_id)\n",
      "try: \n",
      "    graph = pickle.load(cache_file.open('rb'))\n",
      "except IOError:\n",
      "    graph = experiment.collision_graph  \n",
      "    collider.remove_nodes_outside_roi(graph, experiment, **fm.Preprocess_File(ex_id=ex_id).roi())\n",
      "    pickle.dump(graph, cache_file.open('wb'), protocol=pickle.HIGHEST_PROTOCOL)\n",
      "\n",
      "graph_mod = graph.copy()\n",
      "collider.removal_suite(graph_mod)"
     ],
     "language": "python",
     "metadata": {},
     "outputs": []
    },
    {
     "cell_type": "code",
     "collapsed": false,
     "input": [
      "thresholds = np.logspace(-1, 2.5)\n",
      "n_suspects = [len(collider.suspected_collisions(graph_mod, t)) for t in thresholds]\n",
      "plt.loglog(thresholds, n_suspects)"
     ],
     "language": "python",
     "metadata": {},
     "outputs": []
    },
    {
     "cell_type": "code",
     "collapsed": false,
     "input": [
      "threshold = 2\n",
      "suspects = collider.suspected_collisions(graph_mod, threshold)\n",
      "print(len(suspects))\n",
      "pprint(suspects)"
     ],
     "language": "python",
     "metadata": {},
     "outputs": [
      {
       "output_type": "stream",
       "stream": "stdout",
       "text": [
        "43\n"
       ]
      },
      {
       "ename": "NameError",
       "evalue": "name 'pprint' is not defined",
       "output_type": "pyerr",
       "traceback": [
        "\u001b[1;31m---------------------------------------------------------------------------\u001b[0m\n\u001b[1;31mNameError\u001b[0m                                 Traceback (most recent call last)",
        "\u001b[1;32m<ipython-input-10-b9d188ae4562>\u001b[0m in \u001b[0;36m<module>\u001b[1;34m()\u001b[0m\n\u001b[0;32m      2\u001b[0m \u001b[0msuspects\u001b[0m \u001b[1;33m=\u001b[0m \u001b[0mcollider\u001b[0m\u001b[1;33m.\u001b[0m\u001b[0msuspected_collisions\u001b[0m\u001b[1;33m(\u001b[0m\u001b[0mgraph_mod\u001b[0m\u001b[1;33m,\u001b[0m \u001b[0mthreshold\u001b[0m\u001b[1;33m)\u001b[0m\u001b[1;33m\u001b[0m\u001b[0m\n\u001b[0;32m      3\u001b[0m \u001b[1;32mprint\u001b[0m\u001b[1;33m(\u001b[0m\u001b[0mlen\u001b[0m\u001b[1;33m(\u001b[0m\u001b[0msuspects\u001b[0m\u001b[1;33m)\u001b[0m\u001b[1;33m)\u001b[0m\u001b[1;33m\u001b[0m\u001b[0m\n\u001b[1;32m----> 4\u001b[1;33m \u001b[0mpprint\u001b[0m\u001b[1;33m(\u001b[0m\u001b[0msuspects\u001b[0m\u001b[1;33m)\u001b[0m\u001b[1;33m\u001b[0m\u001b[0m\n\u001b[0m",
        "\u001b[1;31mNameError\u001b[0m: name 'pprint' is not defined"
       ]
      }
     ],
     "prompt_number": 10
    },
    {
     "cell_type": "code",
     "collapsed": false,
     "input": [
      "graph_mod2 = graph_mod.copy()\n",
      "collider.resolve_collisions(graph_mod2, experiment, suspects)"
     ],
     "language": "python",
     "metadata": {},
     "outputs": [
      {
       "output_type": "stream",
       "stream": "stdout",
       "text": [
        "Failed to find outline\n",
        "grabbing 608 <type 'int'>\n",
        "Warning: 607 has insuficient parent/child data to resolve collision\n",
        "Failed to find outline"
       ]
      },
      {
       "output_type": "stream",
       "stream": "stdout",
       "text": [
        "\n",
        "grabbing 2224 <type 'int'>\n",
        "Warning: 2223 has insuficient parent/child data to resolve collision\n",
        "Failed to find outline"
       ]
      },
      {
       "output_type": "stream",
       "stream": "stdout",
       "text": [
        "\n",
        "grabbing 18721 <type 'int'>\n",
        "Warning: 18714 has insuficient parent/child data to resolve collision\n",
        "Failed to find outline\n",
        "grabbing 22768 <type 'int'>\n",
        "Warning: 22766 has insuficient parent/child data to resolve collision\n",
        "Failed to find outline"
       ]
      },
      {
       "output_type": "stream",
       "stream": "stdout",
       "text": [
        "\n",
        "grabbing 28821 <type 'int'>\n",
        "Warning: 28811 has insuficient parent/child data to resolve collision\n"
       ]
      }
     ],
     "prompt_number": 13
    },
    {
     "cell_type": "code",
     "collapsed": false,
     "input": [],
     "language": "python",
     "metadata": {},
     "outputs": []
    }
   ],
   "metadata": {}
  }
 ]
}