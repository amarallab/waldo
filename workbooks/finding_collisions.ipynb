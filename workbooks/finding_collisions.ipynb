{
 "metadata": {
  "name": "",
  "signature": "sha256:4dc0aead68e32091a1aa796e955ce2e0c4e15362ef458acd444a1103bb3988a1"
 },
 "nbformat": 3,
 "nbformat_minor": 0,
 "worksheets": [
  {
   "cells": [
    {
     "cell_type": "heading",
     "level": 1,
     "metadata": {},
     "source": [
      "Finding Collisions"
     ]
    },
    {
     "cell_type": "code",
     "collapsed": false,
     "input": [
      "%load_ext autoreload\n",
      "%autoreload 2\n",
      "%matplotlib inline"
     ],
     "language": "python",
     "metadata": {},
     "outputs": []
    },
    {
     "cell_type": "code",
     "collapsed": false,
     "input": [
      "from __future__ import print_function, absolute_import, unicode_literals, division\n",
      "import six\n",
      "from six.moves import (zip, filter, map, reduce, input, range)\n",
      "\n",
      "import pathcustomize\n",
      "\n",
      "import sys\n",
      "import os    \n",
      "import platform\n",
      "print('Python {} ({}) [{}] on {}'.format(platform.python_version(), ', '.join(platform.python_build()), \n",
      "                                       platform.python_compiler(), sys.platform))\n",
      "\n",
      "import numpy as np\n",
      "import matplotlib.pyplot as plt\n",
      "#import networkx as nx\n",
      "from IPython.core.display import Image as display_image\n",
      "\n",
      "os.environ.setdefault('MULTIWORM_SETTINGS', 'multiworm_settings')\n",
      "\n",
      "import multiworm\n",
      "#import where\n",
      "import collider\n",
      "#import collider.viz"
     ],
     "language": "python",
     "metadata": {},
     "outputs": []
    },
    {
     "cell_type": "code",
     "collapsed": false,
     "input": [
      "#ex_id = '20130614_120518'\n",
      "ex_id = '20130318_131111'\n",
      "#ex_id = '20130414_140704'\n",
      "\n",
      "experiment = multiworm.Experiment(experiment_id=ex_id)\n",
      "experiment.load_summary(graph=True)\n",
      "graph = experiment.collision_graph\n",
      "\n",
      "#collider.viz.direct_degree_distribution(graph, (3, 4))\n",
      "#plt.show()"
     ],
     "language": "python",
     "metadata": {},
     "outputs": []
    },
    {
     "cell_type": "code",
     "collapsed": false,
     "input": [
      "def suspected_collisions(digraph, threshold):\n",
      "    suspects = []\n",
      "    for node in digraph:\n",
      "        #print(node)\n",
      "        parents = digraph.predecessors(node)\n",
      "        children = digraph.successors(node)\n",
      "        if len(parents) != 2 or len(children) != 2:\n",
      "            continue\n",
      "\n",
      "        node_life = collider.lifespan(digraph, node)\n",
      "        parents_life = [collider.lifespan(digraph, p) for p in parents]\n",
      "        children_life = [collider.lifespan(digraph, c) for c in children]\n",
      "\n",
      "        if (sum(parents_life) + sum(children_life)) / (4 * node_life) > threshold:\n",
      "            suspects.append(node)\n",
      "        \n",
      "    return suspects"
     ],
     "language": "python",
     "metadata": {},
     "outputs": []
    },
    {
     "cell_type": "code",
     "collapsed": false,
     "input": [
      "graph_mod = graph.copy()\n",
      "collider.removal_suite(graph_mod)"
     ],
     "language": "python",
     "metadata": {},
     "outputs": []
    },
    {
     "cell_type": "code",
     "collapsed": false,
     "input": [
      "thresholds = np.logspace(-1, 4)\n",
      "n_suspects = [len(suspected_collisions(graph_mod, t)) for t in thresholds]\n",
      "plt.loglog(thresholds, n_suspects)"
     ],
     "language": "python",
     "metadata": {},
     "outputs": []
    },
    {
     "cell_type": "code",
     "collapsed": false,
     "input": [
      "threshold = 100\n",
      "suspects = suspected_collisions(graph_mod, threshold)\n",
      "print(suspects)"
     ],
     "language": "python",
     "metadata": {},
     "outputs": []
    },
    {
     "cell_type": "code",
     "collapsed": false,
     "input": [],
     "language": "python",
     "metadata": {},
     "outputs": []
    }
   ],
   "metadata": {}
  }
 ]
}