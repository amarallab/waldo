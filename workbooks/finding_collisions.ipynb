{
 "metadata": {
  "name": "",
  "signature": "sha256:bef54b75fbf385ed63604e622e7e9ae4be66b466e8ae614c18e4f6b90b2d2c6e"
 },
 "nbformat": 3,
 "nbformat_minor": 0,
 "worksheets": [
  {
   "cells": [
    {
     "cell_type": "heading",
     "level": 1,
     "metadata": {},
     "source": [
      "Finding Collisions"
     ]
    },
    {
     "cell_type": "code",
     "collapsed": false,
     "input": [
      "%load_ext autoreload\n",
      "%autoreload 2\n",
      "%matplotlib inline"
     ],
     "language": "python",
     "metadata": {},
     "outputs": [],
     "prompt_number": 1
    },
    {
     "cell_type": "code",
     "collapsed": false,
     "input": [
      "from __future__ import print_function, absolute_import, unicode_literals, division\n",
      "import six\n",
      "from six.moves import (zip, filter, map, reduce, input, range)\n",
      "\n",
      "import pathcustomize\n",
      "\n",
      "import sys\n",
      "import os\n",
      "import pathlib\n",
      "import pickle\n",
      "import platform\n",
      "print('Python {} ({}) [{}] on {}'.format(platform.python_version(), ', '.join(platform.python_build()), \n",
      "                                       platform.python_compiler(), sys.platform))\n",
      "\n",
      "import numpy as np\n",
      "import matplotlib.pyplot as plt\n",
      "#import networkx as nx\n",
      "from IPython.core.display import Image as display_image\n",
      "\n",
      "os.environ.setdefault('MULTIWORM_SETTINGS', 'multiworm_settings')\n",
      "\n",
      "import multiworm\n",
      "#import where\n",
      "import collider\n",
      "#import collider.viz\n",
      "import wio.file_manager as fm"
     ],
     "language": "python",
     "metadata": {},
     "outputs": [
      {
       "output_type": "stream",
       "stream": "stdout",
       "text": [
        "Python 2.7.7 (default, Jun 20 2014 13:48:50) [GCC 4.6.3] on linux2\n",
        "Configuring name: '-f'"
       ]
      },
      {
       "output_type": "stream",
       "stream": "stdout",
       "text": [
        "\n"
       ]
      },
      {
       "output_type": "stream",
       "stream": "stderr",
       "text": [
        "/home/visitors/ntimkovich/.pyenv/versions/waldo27/lib/python2.7/site-packages/pandas/io/excel.py:626: UserWarning: Installed openpyxl is not supported at this time. Use >=1.6.1 and <2.0.0.\n",
        "  .format(openpyxl_compat.start_ver, openpyxl_compat.stop_ver))\n"
       ]
      }
     ],
     "prompt_number": 2
    },
    {
     "cell_type": "code",
     "collapsed": false,
     "input": [
      "def suspected_collisions(digraph, threshold):\n",
      "    suspects = []\n",
      "    for node in digraph:\n",
      "        #print(node)\n",
      "        parents = digraph.predecessors(node)\n",
      "        children = digraph.successors(node)\n",
      "        if len(parents) != 2 or len(children) != 2:\n",
      "            continue\n",
      "\n",
      "        node_life = collider.lifespan(digraph, node)\n",
      "        parents_life = [collider.lifespan(digraph, p) for p in parents]\n",
      "        children_life = [collider.lifespan(digraph, c) for c in children]\n",
      "\n",
      "        #if (sum(parents_life) + sum(children_life)) / (4 * node_life) > threshold:\n",
      "        if (sum(parents_life) / (2 * node_life) > threshold and\n",
      "            sum(children_life) / (2 * node_life) > threshold):\n",
      "            suspects.append(node)\n",
      "        \n",
      "    return suspects"
     ],
     "language": "python",
     "metadata": {},
     "outputs": [],
     "prompt_number": 3
    },
    {
     "cell_type": "code",
     "collapsed": false,
     "input": [
      "#ex_id = '20130614_120518'\n",
      "ex_id = '20130318_131111'\n",
      "#ex_id = '20130414_140704'\n",
      "\n",
      "experiment = multiworm.Experiment(experiment_id=ex_id)\n",
      "experiment.load_summary(graph=True)\n",
      "\n",
      "cache_file = pathlib.Path() / '{}_roigraph.pkl'.format(ex_id)\n",
      "try: \n",
      "    graph = pickle.load(cache_file.open('rb'))\n",
      "except IOError:\n",
      "    graph = experiment.collision_graph  \n",
      "    collider.remove_nodes_outside_roi(graph, experiment, **fm.Preprocess_File(ex_id=ex_id).roi())\n",
      "    pickle.dump(graph, cache_file.open('wb'), protocol=pickle.HIGHEST_PROTOCOL)\n",
      "\n",
      "graph_mod = graph.copy()\n",
      "collider.removal_suite(graph_mod)"
     ],
     "language": "python",
     "metadata": {},
     "outputs": [],
     "prompt_number": 8
    },
    {
     "cell_type": "code",
     "collapsed": false,
     "input": [
      "thresholds = np.logspace(-1, 2.5)\n",
      "n_suspects = [len(suspected_collisions(graph_mod, t)) for t in thresholds]\n",
      "plt.loglog(thresholds, n_suspects)"
     ],
     "language": "python",
     "metadata": {},
     "outputs": [
      {
       "metadata": {},
       "output_type": "pyout",
       "prompt_number": 5,
       "text": [
        "[<matplotlib.lines.Line2D at 0xb12fd62c>]"
       ]
      },
      {
       "metadata": {},
       "output_type": "display_data",
       "png": "[encoded data removed]",
       "text": [
        "<matplotlib.figure.Figure at 0xb2ab7f6c>"
       ]
      }
     ],
     "prompt_number": 5
    },
    {
     "cell_type": "code",
     "collapsed": false,
     "input": [
      "threshold = 2\n",
      "suspects = suspected_collisions(graph_mod, threshold)\n",
      "print(len(suspects))\n",
      "pprint(suspects)"
     ],
     "language": "python",
     "metadata": {},
     "outputs": [
      {
       "output_type": "stream",
       "stream": "stdout",
       "text": [
        "31\n",
        "[349,\n",
        " 355,\n",
        " 454,\n",
        " 504,\n",
        " 913,\n",
        " 1473,\n",
        " 1507,\n",
        " 1821,\n",
        " 3749,\n",
        " (430, 549),\n",
        " (56459, 56470),\n",
        " (64442, 64449),\n",
        " 26454,\n",
        " 26478,\n",
        " 26484,\n",
        " 28506,\n",
        " 28557,\n",
        " (62404, 62518),\n",
        " (12295, 12306),\n",
        " (56327, 56331),\n",
        " 53289,\n",
        " 53301,\n",
        " 56757,\n",
        " 56882,\n",
        " 61498,\n",
        " 64469,\n",
        " (4848, 5022),\n",
        " (61146, 61157),\n",
        " (25759, 25886),\n",
        " (1362, 1394),\n",
        " (12151, 12154)]\n"
       ]
      }
     ],
     "prompt_number": 6
    },
    {
     "cell_type": "code",
     "collapsed": false,
     "input": [
      "graph_mod2 = graph_mod.copy()\n",
      "collider.resolve_collisions(graph_mod2, experiment, suspects)"
     ],
     "language": "python",
     "metadata": {},
     "outputs": [
      {
       "output_type": "stream",
       "stream": "stdout",
       "text": [
        "prnts\tchildren\n",
        "           350  351\n",
        "172          0  218\n",
        "(69, 293)  138   54\n",
        "   diag \\   54   \t[[172, 350], [(69, 293), 351]]\n",
        "   diag /   356   \t[[172, 351], [(69, 293), 350]]\n"
       ]
      },
      {
       "ename": "IndexError",
       "evalue": "list index out of range",
       "output_type": "pyerr",
       "traceback": [
        "\u001b[1;31m---------------------------------------------------------------------------\u001b[0m\n\u001b[1;31mIndexError\u001b[0m                                Traceback (most recent call last)",
        "\u001b[1;32m<ipython-input-9-924ccf400f8a>\u001b[0m in \u001b[0;36m<module>\u001b[1;34m()\u001b[0m\n\u001b[0;32m      1\u001b[0m \u001b[0mgraph_mod2\u001b[0m \u001b[1;33m=\u001b[0m \u001b[0mgraph_mod\u001b[0m\u001b[1;33m.\u001b[0m\u001b[0mcopy\u001b[0m\u001b[1;33m(\u001b[0m\u001b[1;33m)\u001b[0m\u001b[1;33m\u001b[0m\u001b[0m\n\u001b[1;32m----> 2\u001b[1;33m \u001b[0mcollider\u001b[0m\u001b[1;33m.\u001b[0m\u001b[0mresolve_collisions\u001b[0m\u001b[1;33m(\u001b[0m\u001b[0mgraph_mod2\u001b[0m\u001b[1;33m,\u001b[0m \u001b[0mexperiment\u001b[0m\u001b[1;33m,\u001b[0m \u001b[0msuspects\u001b[0m\u001b[1;33m)\u001b[0m\u001b[1;33m\u001b[0m\u001b[0m\n\u001b[0m",
        "\u001b[1;32m/home/visitors/ntimkovich/Projects/Waldo/code/shared/collider/simplifications/extrinsic/collision_overlap.py\u001b[0m in \u001b[0;36mresolve_collisions\u001b[1;34m(graph, experiment, collision_nodes)\u001b[0m\n\u001b[0;32m    221\u001b[0m     \u001b[0mcollision_results\u001b[0m \u001b[1;33m=\u001b[0m \u001b[1;33m{\u001b[0m\u001b[1;33m}\u001b[0m\u001b[1;33m\u001b[0m\u001b[0m\n\u001b[0;32m    222\u001b[0m     \u001b[1;32mfor\u001b[0m \u001b[0mnode\u001b[0m \u001b[1;32min\u001b[0m \u001b[0mcollision_nodes\u001b[0m\u001b[1;33m:\u001b[0m\u001b[1;33m\u001b[0m\u001b[0m\n\u001b[1;32m--> 223\u001b[1;33m         \u001b[0mparent_masks\u001b[0m\u001b[1;33m,\u001b[0m \u001b[0mchildren_masks\u001b[0m \u001b[1;33m=\u001b[0m \u001b[0mcreate_collision_masks\u001b[0m\u001b[1;33m(\u001b[0m\u001b[0mgraph\u001b[0m\u001b[1;33m,\u001b[0m \u001b[0mexperiment\u001b[0m\u001b[1;33m,\u001b[0m \u001b[0mnode\u001b[0m\u001b[1;33m)\u001b[0m\u001b[1;33m\u001b[0m\u001b[0m\n\u001b[0m\u001b[0;32m    224\u001b[0m         \u001b[0mcollision_result\u001b[0m \u001b[1;33m=\u001b[0m \u001b[0mcompare_masks\u001b[0m\u001b[1;33m(\u001b[0m\u001b[0mparent_masks\u001b[0m\u001b[1;33m,\u001b[0m \u001b[0mchildren_masks\u001b[0m\u001b[1;33m)\u001b[0m\u001b[1;33m\u001b[0m\u001b[0m\n\u001b[0;32m    225\u001b[0m         \u001b[1;31m#print(node, 'is', collision_result)\u001b[0m\u001b[1;33m\u001b[0m\u001b[1;33m\u001b[0m\u001b[0m\n",
        "\u001b[1;32m/home/visitors/ntimkovich/Projects/Waldo/code/shared/collider/simplifications/extrinsic/collision_overlap.py\u001b[0m in \u001b[0;36mcreate_collision_masks\u001b[1;34m(graph, experiment, node, verbose)\u001b[0m\n\u001b[0;32m    107\u001b[0m     \u001b[0mc\u001b[0m \u001b[1;33m=\u001b[0m \u001b[0mlist\u001b[0m\u001b[1;33m(\u001b[0m\u001b[0mset\u001b[0m\u001b[1;33m(\u001b[0m\u001b[0mgraph\u001b[0m\u001b[1;33m.\u001b[0m\u001b[0msuccessors\u001b[0m\u001b[1;33m(\u001b[0m\u001b[0mnode\u001b[0m\u001b[1;33m)\u001b[0m\u001b[1;33m)\u001b[0m\u001b[1;33m)\u001b[0m\u001b[1;33m\u001b[0m\u001b[0m\n\u001b[0;32m    108\u001b[0m     \u001b[1;31m#grab relevant outlines.\u001b[0m\u001b[1;33m\u001b[0m\u001b[1;33m\u001b[0m\u001b[0m\n\u001b[1;32m--> 109\u001b[1;33m     \u001b[0mp0\u001b[0m \u001b[1;33m=\u001b[0m \u001b[0mgrab_outline\u001b[0m\u001b[1;33m(\u001b[0m\u001b[0mp\u001b[0m\u001b[1;33m[\u001b[0m\u001b[1;36m0\u001b[0m\u001b[1;33m]\u001b[0m\u001b[1;33m,\u001b[0m \u001b[0mexperiment\u001b[0m\u001b[1;33m,\u001b[0m \u001b[0mfirst\u001b[0m\u001b[1;33m=\u001b[0m\u001b[0mFalse\u001b[0m\u001b[1;33m)\u001b[0m\u001b[1;33m\u001b[0m\u001b[0m\n\u001b[0m\u001b[0;32m    110\u001b[0m     \u001b[0mp1\u001b[0m \u001b[1;33m=\u001b[0m \u001b[0mgrab_outline\u001b[0m\u001b[1;33m(\u001b[0m\u001b[0mp\u001b[0m\u001b[1;33m[\u001b[0m\u001b[1;36m1\u001b[0m\u001b[1;33m]\u001b[0m\u001b[1;33m,\u001b[0m \u001b[0mexperiment\u001b[0m\u001b[1;33m,\u001b[0m \u001b[0mfirst\u001b[0m\u001b[1;33m=\u001b[0m\u001b[0mFalse\u001b[0m\u001b[1;33m)\u001b[0m\u001b[1;33m\u001b[0m\u001b[0m\n\u001b[0;32m    111\u001b[0m     \u001b[1;31m#m0 = grab_outline(node, experiment, first=True)\u001b[0m\u001b[1;33m\u001b[0m\u001b[1;33m\u001b[0m\u001b[0m\n",
        "\u001b[1;31mIndexError\u001b[0m: list index out of range"
       ]
      }
     ],
     "prompt_number": 9
    },
    {
     "cell_type": "code",
     "collapsed": false,
     "input": [],
     "language": "python",
     "metadata": {},
     "outputs": []
    }
   ],
   "metadata": {}
  }
 ]
}