{
 "cells": [
  {
   "cell_type": "markdown",
   "metadata": {},
   "source": [
    "This notebook is intended to visualize the final tracks generated while running WALDO.\n",
    "\n",
    "not sure if useful."
   ]
  },
  {
   "cell_type": "code",
   "execution_count": 1,
   "metadata": {
    "collapsed": false
   },
   "outputs": [],
   "source": [
    "%load_ext autoreload\n",
    "%autoreload 2\n",
    "%matplotlib inline"
   ]
  },
  {
   "cell_type": "code",
   "execution_count": 6,
   "metadata": {
    "collapsed": false
   },
   "outputs": [
    {
     "name": "stdout",
     "output_type": "stream",
     "text": [
      "Python 2.7.9 (default, Apr 14 2015 12:54:25) [GCC 4.4.7 20120313 (Red Hat 4.4.7-1)] on linux2, Host: cody\n"
     ]
    }
   ],
   "source": [
    "import pandas as pd\n",
    "import numpy as np\n",
    "import matplotlib.pyplot as plt\n",
    "import glob\n",
    "import sys\n",
    "import pickle\n",
    "import pathlib\n",
    "\n",
    "from mpltools import style\n",
    "from mpltools import layout\n",
    "\n",
    "sys.path.append('..'); import pathcustomize, about\n",
    "about.about()\n",
    "\n",
    "import pathcustomize\n",
    "\n",
    "import waldo.wio as wio\n",
    "import waldo.tape as tape\n",
    "import waldo.collider as collider\n",
    "from waldo.viz.network.notebook import look\n",
    "\n",
    "style.use('ggplot')"
   ]
  },
  {
   "cell_type": "markdown",
   "metadata": {},
   "source": [
    "store location of all blobs files\n",
    "and map blob id to file using dict."
   ]
  },
  {
   "cell_type": "code",
   "execution_count": 7,
   "metadata": {
    "collapsed": false
   },
   "outputs": [],
   "source": [
    "def blobs_file_reader(bf):\n",
    "    with open(bf, 'r') as f:\n",
    "        lines = f.readlines()\n",
    "    #print lines[0]\n",
    "    lines = lines[1:]\n",
    "    dlines = []\n",
    "    for l in lines:\n",
    "        parts = l.strip().split()\n",
    "        dlines.append([float(p) for (i, p) in enumerate(parts) if i < 10])\n",
    "    df = pd.DataFrame(dlines)\n",
    "    df.rename(columns={0:'frame', 1:'t', 2:'x', 3:'y'}, inplace=True)\n",
    "    return df        \n",
    "        "
   ]
  },
  {
   "cell_type": "markdown",
   "metadata": {},
   "source": [
    "get a graph of "
   ]
  },
  {
   "cell_type": "code",
   "execution_count": 8,
   "metadata": {
    "collapsed": false
   },
   "outputs": [],
   "source": [
    "def show_blob_stuff(df):\n",
    "    #print len(df), 'long'\n",
    "    #print df.head()\n",
    "\n",
    "    fig, ax = plt.subplots()\n",
    "    ax.plot(df['x'], df['y'], '.')\n",
    "    ax.plot(df['x'], df['y'], alpha=0.2)\n",
    "    ax.set_ylabel('y')\n",
    "    ax.set_xlabel('x')\n",
    "\n",
    "    fig, ax = plt.subplots(2,1)\n",
    "\n",
    "    ax[0].plot(df['t'], df['x'], alpha=0.2)\n",
    "    ax[0].plot(df['t'], df['x'], '.')\n",
    "    ax[0].set_ylabel('x')\n",
    "\n",
    "    ax[1].plot(df['t'], df['y'], alpha=0.2)\n",
    "    ax[1].plot(df['t'], df['y'], '.')\n",
    "    ax[1].set_ylabel('y')\n",
    "    ax[1].set_xlabel('t')\n",
    "  \n",
    "    fig, ax = plt.subplots(2,1)\n",
    "\n",
    "    ax[0].plot(df['frame'], df['x'], alpha=0.2)\n",
    "    ax[0].plot(df['frame'], df['x'], '.')\n",
    "    ax[0].set_ylabel('x')\n",
    "\n",
    "    ax[1].plot(df['frame'], df['y'], alpha=0.2)\n",
    "    ax[1].plot(df['frame'], df['y'], '.')\n",
    "    ax[1].set_ylabel('y')\n",
    "    ax[1].set_xlabel('frame')    \n",
    "    \n",
    "    plt.show()"
   ]
  },
  {
   "cell_type": "code",
   "execution_count": 10,
   "metadata": {
    "collapsed": false
   },
   "outputs": [
    {
     "ename": "MWTSummaryError",
     "evalue": "Could not find summary file in target path: /home/projects/worm_movement/Data/waldo_paper_review/WALDO/20130318_131111/blobs_files",
     "output_type": "error",
     "traceback": [
      "\u001b[1;31m---------------------------------------------------------------------------\u001b[0m",
      "\u001b[1;31mMWTSummaryError\u001b[0m                           Traceback (most recent call last)",
      "\u001b[1;32m<ipython-input-10-a5b8f0d7bd6b>\u001b[0m in \u001b[0;36m<module>\u001b[1;34m()\u001b[0m\n\u001b[0;32m      6\u001b[0m \u001b[1;33m\u001b[0m\u001b[0m\n\u001b[0;32m      7\u001b[0m \u001b[1;33m\u001b[0m\u001b[0m\n\u001b[1;32m----> 8\u001b[1;33m \u001b[0mexperiment\u001b[0m \u001b[1;33m=\u001b[0m \u001b[0mwio\u001b[0m\u001b[1;33m.\u001b[0m\u001b[0mExperiment\u001b[0m\u001b[1;33m(\u001b[0m\u001b[0mexperiment_id\u001b[0m\u001b[1;33m=\u001b[0m\u001b[0mex_id\u001b[0m\u001b[1;33m,\u001b[0m \u001b[0mfullpath\u001b[0m\u001b[1;33m=\u001b[0m\u001b[0mfullpath\u001b[0m\u001b[1;33m)\u001b[0m\u001b[1;33m\u001b[0m\u001b[0m\n\u001b[0m\u001b[0;32m      9\u001b[0m \u001b[0mgraph\u001b[0m \u001b[1;33m=\u001b[0m \u001b[0mexperiment\u001b[0m\u001b[1;33m.\u001b[0m\u001b[0mgraph\u001b[0m\u001b[1;33m.\u001b[0m\u001b[0mcopy\u001b[0m\u001b[1;33m(\u001b[0m\u001b[1;33m)\u001b[0m\u001b[1;33m\u001b[0m\u001b[0m\n\u001b[0;32m     10\u001b[0m \u001b[1;33m\u001b[0m\u001b[0m\n",
      "\u001b[1;32m/home/visitors/peterwinter/codes/waldo/code/waldo/wio/experiment.pyc\u001b[0m in \u001b[0;36m__init__\u001b[1;34m(self, *args, **kwargs)\u001b[0m\n\u001b[0;32m     35\u001b[0m         \u001b[1;32mif\u001b[0m \u001b[1;34m'data_root'\u001b[0m \u001b[1;32mnot\u001b[0m \u001b[1;32min\u001b[0m \u001b[0mkwargs\u001b[0m\u001b[1;33m:\u001b[0m\u001b[1;33m\u001b[0m\u001b[0m\n\u001b[0;32m     36\u001b[0m             \u001b[0mkwargs\u001b[0m\u001b[1;33m[\u001b[0m\u001b[1;34m'data_root'\u001b[0m\u001b[1;33m]\u001b[0m \u001b[1;33m=\u001b[0m \u001b[0msettings\u001b[0m\u001b[1;33m.\u001b[0m\u001b[0mMWT_DATA_ROOT\u001b[0m\u001b[1;33m\u001b[0m\u001b[0m\n\u001b[1;32m---> 37\u001b[1;33m         \u001b[0msuper\u001b[0m\u001b[1;33m(\u001b[0m\u001b[0mExperiment\u001b[0m\u001b[1;33m,\u001b[0m \u001b[0mself\u001b[0m\u001b[1;33m)\u001b[0m\u001b[1;33m.\u001b[0m\u001b[0m__init__\u001b[0m\u001b[1;33m(\u001b[0m\u001b[1;33m*\u001b[0m\u001b[0margs\u001b[0m\u001b[1;33m,\u001b[0m \u001b[1;33m**\u001b[0m\u001b[0mkwargs\u001b[0m\u001b[1;33m)\u001b[0m\u001b[1;33m\u001b[0m\u001b[0m\n\u001b[0m\u001b[0;32m     38\u001b[0m         \u001b[0mself\u001b[0m\u001b[1;33m.\u001b[0m\u001b[0mprepdata\u001b[0m \u001b[1;33m=\u001b[0m \u001b[0mfm\u001b[0m\u001b[1;33m.\u001b[0m\u001b[0mPrepData\u001b[0m\u001b[1;33m(\u001b[0m\u001b[0mself\u001b[0m\u001b[1;33m.\u001b[0m\u001b[0mid\u001b[0m\u001b[1;33m)\u001b[0m\u001b[1;33m\u001b[0m\u001b[0m\n\u001b[0;32m     39\u001b[0m         \u001b[0mself\u001b[0m\u001b[1;33m.\u001b[0m\u001b[0m_wprogress\u001b[0m\u001b[1;33m(\u001b[0m\u001b[1;36m0.9\u001b[0m\u001b[1;33m)\u001b[0m\u001b[1;33m\u001b[0m\u001b[0m\n",
      "\u001b[1;32m/home/visitors/peterwinter/codes/waldo/code/waldo/extern/multiworm-hg/multiworm/experiment.pyc\u001b[0m in \u001b[0;36m__init__\u001b[1;34m(self, fullpath, experiment_id, data_root, callback)\u001b[0m\n\u001b[0;32m     51\u001b[0m             \u001b[0mself\u001b[0m\u001b[1;33m.\u001b[0m\u001b[0mid\u001b[0m \u001b[1;33m=\u001b[0m \u001b[0mexperiment_id\u001b[0m\u001b[1;33m\u001b[0m\u001b[0m\n\u001b[0;32m     52\u001b[0m \u001b[1;33m\u001b[0m\u001b[0m\n\u001b[1;32m---> 53\u001b[1;33m         \u001b[0mself\u001b[0m\u001b[1;33m.\u001b[0m\u001b[0m_find_summary_file\u001b[0m\u001b[1;33m(\u001b[0m\u001b[1;33m)\u001b[0m\u001b[1;33m\u001b[0m\u001b[0m\n\u001b[0m\u001b[0;32m     54\u001b[0m         \u001b[0mself\u001b[0m\u001b[1;33m.\u001b[0m\u001b[0m_find_blobs_files\u001b[0m\u001b[1;33m(\u001b[0m\u001b[1;33m)\u001b[0m\u001b[1;33m\u001b[0m\u001b[0m\n\u001b[0;32m     55\u001b[0m         \u001b[0mself\u001b[0m\u001b[1;33m.\u001b[0m\u001b[0m_find_images\u001b[0m\u001b[1;33m(\u001b[0m\u001b[1;33m)\u001b[0m\u001b[1;33m\u001b[0m\u001b[0m\n",
      "\u001b[1;32m/home/visitors/peterwinter/codes/waldo/code/waldo/extern/multiworm-hg/multiworm/experiment.pyc\u001b[0m in \u001b[0;36m_find_summary_file\u001b[1;34m(self)\u001b[0m\n\u001b[0;32m     80\u001b[0m         \u001b[0mLocate\u001b[0m \u001b[0msummary\u001b[0m \u001b[0mfile\u001b[0m\u001b[1;33m\u001b[0m\u001b[0m\n\u001b[0;32m     81\u001b[0m         \"\"\"\n\u001b[1;32m---> 82\u001b[1;33m         \u001b[0mself\u001b[0m\u001b[1;33m.\u001b[0m\u001b[0msummary_file\u001b[0m\u001b[1;33m,\u001b[0m \u001b[0mself\u001b[0m\u001b[1;33m.\u001b[0m\u001b[0mbasename\u001b[0m \u001b[1;33m=\u001b[0m \u001b[0msummary\u001b[0m\u001b[1;33m.\u001b[0m\u001b[0mfind\u001b[0m\u001b[1;33m(\u001b[0m\u001b[0mself\u001b[0m\u001b[1;33m.\u001b[0m\u001b[0mdirectory\u001b[0m\u001b[1;33m)\u001b[0m\u001b[1;33m\u001b[0m\u001b[0m\n\u001b[0m\u001b[0;32m     83\u001b[0m \u001b[1;33m\u001b[0m\u001b[0m\n\u001b[0;32m     84\u001b[0m     \u001b[1;32mdef\u001b[0m \u001b[0m_find_blobs_files\u001b[0m\u001b[1;33m(\u001b[0m\u001b[0mself\u001b[0m\u001b[1;33m)\u001b[0m\u001b[1;33m:\u001b[0m\u001b[1;33m\u001b[0m\u001b[0m\n",
      "\u001b[1;32m/home/visitors/peterwinter/codes/waldo/code/waldo/extern/multiworm-hg/multiworm/readers/summary.pyc\u001b[0m in \u001b[0;36mfind\u001b[1;34m(directory)\u001b[0m\n\u001b[0;32m     29\u001b[0m     \u001b[1;32mexcept\u001b[0m \u001b[0mIndexError\u001b[0m\u001b[1;33m:\u001b[0m\u001b[1;33m\u001b[0m\u001b[0m\n\u001b[0;32m     30\u001b[0m         raise MWTSummaryError(\"Could not find summary file in target path: {}\"\n\u001b[1;32m---> 31\u001b[1;33m                               .format(directory))\n\u001b[0m\u001b[0;32m     32\u001b[0m \u001b[1;33m\u001b[0m\u001b[0m\n\u001b[0;32m     33\u001b[0m     \u001b[0mbasename\u001b[0m \u001b[1;33m=\u001b[0m \u001b[0msummary\u001b[0m\u001b[1;33m.\u001b[0m\u001b[0mstem\u001b[0m\u001b[1;33m\u001b[0m\u001b[0m\n",
      "\u001b[1;31mMWTSummaryError\u001b[0m: Could not find summary file in target path: /home/projects/worm_movement/Data/waldo_paper_review/WALDO/20130318_131111/blobs_files"
     ]
    }
   ],
   "source": [
    "ex_id = '20130318_131111' # lots of gaps\n",
    "#ex_id = '20130614_120518' # lots of false positives\n",
    "#ex_id = '20130702_135704' # testset\n",
    "\n",
    "fullpath = pathlib.Path('/home/projects/worm_movement/Data/waldo_paper_review/WALDO/') / ex_id / 'blobs_files'\n",
    "\n",
    "experiment = wio.Experiment(experiment_id=ex_id, fullpath=fullpath)\n",
    "graph = experiment.graph.copy()\n",
    "\n",
    "\n",
    "DATA_DIR = './../../data/chore/{eid}/'.format(eid=ex_id)\n",
    "\n",
    "blobs_files = glob.glob(DATA_DIR + '*.blobs')\n",
    "for i in blobs_files[:1]:\n",
    "    print(i)\n",
    "    \n",
    "id_map = {}\n",
    "for bf in blobs_files:\n",
    "    with open(bf, 'r') as f:\n",
    "        l = f.readline()\n",
    "        bid = int(l.strip().split('%')[-1])\n",
    "        id_map[bid] = bf"
   ]
  },
  {
   "cell_type": "code",
   "execution_count": null,
   "metadata": {
    "collapsed": false
   },
   "outputs": [],
   "source": [
    "graph2 = pickle.load(open('{d}/graph.pickle'.format(d=DATA_DIR)))\n",
    "#graph2 = pickle.load(open('./../../data/chore/{eid}/graph.pickle'.format(d=DATA_DIR, eid=ex_id)))\n",
    "#graph2._gap_blobs"
   ]
  },
  {
   "cell_type": "markdown",
   "metadata": {},
   "source": [
    "### create index of node counts"
   ]
  },
  {
   "cell_type": "code",
   "execution_count": null,
   "metadata": {
    "collapsed": false
   },
   "outputs": [],
   "source": [
    "node_gap_count = {}\n",
    "gap_index = {}\n",
    "for n in graph2.nodes():\n",
    "    if n == 90:\n",
    "        print 'what?'\n",
    "    node_gap_count[n] = 0\n",
    "    #gap_index[n] = []\n",
    "    \n",
    "#print gap_index\n",
    "print set(gap_index.values())\n",
    "non_consensus = []\n",
    "con = 0\n",
    "for b1, b2 in graph2._gap_blobs:\n",
    "    n1 = graph2.where_is(b1)\n",
    "    n2 = graph2.where_is(b2)\n",
    "    if n1 == n2:\n",
    "        con += 1\n",
    "        node_gap_count[n1] = 1 + node_gap_count[n1]\n",
    "        \n",
    "        node_gaps = gap_index.get(n1, [])\n",
    "        if node_gaps is None:\n",
    "            print 'none problem happended again'\n",
    "            print n1, n2, b1, b2\n",
    "            node_gaps = []\n",
    "        node_gaps.append([b1, b2])\n",
    "        gap_index[n1] = node_gaps\n",
    "    else:\n",
    "        #print 'not collapsed', b1, b2, n1, n2\n",
    "        non_consensus.append([b1, b2, n1, n2])\n",
    "        \n",
    "print con, 'consensus'\n",
    "print len(non_consensus), 'non consensus'"
   ]
  },
  {
   "cell_type": "code",
   "execution_count": null,
   "metadata": {
    "collapsed": false
   },
   "outputs": [],
   "source": [
    "gap_counts = node_gap_count.values()\n",
    "nodes = node_gap_count.keys()\n",
    "\n",
    "n_bins = max(gap_counts)\n",
    "gc = [c for c in gap_counts if c > 0]\n",
    "print len(nodes), 'total nodes'\n",
    "print len(gc), 'nodes with gaps'\n",
    "fig, ax = plt.subplots()\n",
    "\n",
    "ax.hist(gap_counts, bins=n_bins)\n",
    "plt.ylabel('count')\n",
    "plt.xlabel('number of gaps bridged')\n",
    "plt.title('all nodes')\n",
    "\n",
    "fig, ax = plt.subplots()\n",
    "\n",
    "plt.hist(gc, bins=n_bins)\n",
    "plt.ylabel('count')\n",
    "plt.xlabel('number of gaps bridged')\n",
    "plt.title('nodes with bridged gaps')\n",
    "plt.show()\n",
    "\n",
    "gap_counts, nodes = zip(*[(c, n) for (c, n) in sorted(zip(gap_counts, nodes), reverse=True)])"
   ]
  },
  {
   "cell_type": "code",
   "execution_count": null,
   "metadata": {
    "collapsed": false
   },
   "outputs": [],
   "source": [
    "nodes[:5]"
   ]
  },
  {
   "cell_type": "code",
   "execution_count": null,
   "metadata": {
    "collapsed": false
   },
   "outputs": [],
   "source": [
    "node = nodes[0]\n",
    "b_df = collider.consolidate_node_data(graph2, experiment, node)\n",
    "df = b_df[['time', 'blob']]\n",
    "x, y = zip(*b_df['centroid'])\n",
    "df['x'] = x\n",
    "df['y'] = y\n",
    "df.sort(inplace=True)\n",
    "ordered_components = [int(b) for b in df['blob'].drop_duplicates()]\n",
    "\n",
    "fig, ax = plt.subplots()\n",
    "for bid in ordered_components:\n",
    "    b = df[df['blob'] == bid]\n",
    "    x, y = b['x'], b['y']\n",
    "    ax.plot(x, y)\n",
    "\n",
    "plt.show()"
   ]
  },
  {
   "cell_type": "code",
   "execution_count": null,
   "metadata": {
    "collapsed": false
   },
   "outputs": [],
   "source": [
    "def format_gap_data(gaps, ordered_components, df):\n",
    "    ordered = 0\n",
    "    unordered = 0\n",
    "    gap_locations = []\n",
    "    gap_lines = []\n",
    "    sx = []\n",
    "    sy = []\n",
    "    st = []\n",
    "    et = []\n",
    "    ex = []\n",
    "    ey = []\n",
    "\n",
    "    gdict = {}\n",
    "    for g1, g2 in gaps:\n",
    "        if g1 not in ordered_components:\n",
    "            print g1, 'gap start not found in components'\n",
    "            continue\n",
    "        if g2 not in ordered_components:\n",
    "            print g2, 'gap end not found in components'\n",
    "            continue\n",
    "            \n",
    "        i1, i2 = ordered_components.index(g1), ordered_components.index(g2)\n",
    "        is_ordered = False\n",
    "        for i in range(6):\n",
    "            if i1 + i == i2:\n",
    "                #print i, 'spaces between unordered'\n",
    "                gdict[g1] = g2\n",
    "                is_ordered = True\n",
    "        if not is_ordered:\n",
    "            unordered += 1\n",
    "    print unordered, 'unordered'\n",
    "\n",
    "\n",
    "    for g1 in ordered_components:\n",
    "        if g1 in gdict:\n",
    "            g2 = gdict[g1]\n",
    "            b1 = df[df['blob'] == g1].iloc[-1]\n",
    "            t1, x1, y1 = b1['time'], b1['x'], b1['y']\n",
    "\n",
    "            b2 = df[df['blob'] == g2].iloc[0]\n",
    "            t2, x2, y2 = b2['time'], b2['x'], b2['y']\n",
    "            gx = x1 #float(x1 + x2) / 2.0\n",
    "            gy = y1 #float(y1 + y2) / 2.0\n",
    "\n",
    "            st.append(t1)\n",
    "            sx.append(x1)\n",
    "            sy.append(y1)   \n",
    "\n",
    "            et.append(t2)\n",
    "            ex.append(x2)\n",
    "            ey.append(y2)       \n",
    "    mid_x = []\n",
    "    mid_y = []\n",
    "    for x1, y1, x2, y2 in zip(sx, sy, ex, ey):\n",
    "        #ax.plot([x1, x2], [y1, y2], color='b', alpha=0.5, lw=1)\n",
    "        mid_x.append((x1 + x2) / 2.0)\n",
    "        mid_y.append((y1 + y2) / 2.0)\n",
    "    return st, sx, sy, et, ex, ey, mid_x, mid_y\n",
    "\n",
    "\n",
    "def show_gap_history(graph, experiment, gap_index, node):\n",
    "    \n",
    "    b_df = collider.consolidate_node_data(graph2, experiment, node)\n",
    "    df = b_df[['time', 'blob']]\n",
    "    x, y = zip(*b_df['centroid'])\n",
    "    df['x'] = x\n",
    "    df['y'] = y\n",
    "    df.sort(inplace=True)\n",
    "    ordered_components = [int(b) for b in df['blob'].drop_duplicates()]\n",
    "    gaps = gap_index[node]\n",
    "    print len(gaps), 'gaps'\n",
    "    st, sx, sy, et, ex, ey, mid_x, mid_y = format_gap_data(gaps, ordered_components, df)\n",
    "\n",
    "    fig, ax = plt.subplots()\n",
    "    fig.set_size_inches(18.5,10.5)\n",
    "    for bid in ordered_components:\n",
    "        b = df[df['blob'] == bid]\n",
    "        x, y = b['x'], b['y']\n",
    "        ax.plot(x, y, lw=4)\n",
    "\n",
    "    ax.plot(mid_x, mid_y, 'x', lw=0, color='black', label='missing data', markersize=20)\n",
    "    ax.legend()\n",
    "    ax.set_xlabel('x')\n",
    "    ax.set_ylabel('y')\n",
    "    \n",
    "    \n",
    "show_gap_history(graph=graph2, experiment=experiment, gap_index=gap_index, node=nodes[0])\n",
    "plt.show()"
   ]
  },
  {
   "cell_type": "code",
   "execution_count": null,
   "metadata": {
    "collapsed": false
   },
   "outputs": [],
   "source": [
    "show_gap_history(graph=graph2, experiment=experiment, gap_index=gap_index, node=nodes[1])\n",
    "plt.show()"
   ]
  },
  {
   "cell_type": "code",
   "execution_count": null,
   "metadata": {
    "collapsed": false
   },
   "outputs": [],
   "source": [
    "show_gap_history(graph=graph2, experiment=experiment, gap_index=gap_index, node=nodes[2])\n",
    "plt.show()"
   ]
  },
  {
   "cell_type": "code",
   "execution_count": null,
   "metadata": {
    "collapsed": false
   },
   "outputs": [],
   "source": [
    "show_gap_history(graph=graph2, experiment=experiment, gap_index=gap_index, node=nodes[50])\n",
    "plt.show()"
   ]
  },
  {
   "cell_type": "code",
   "execution_count": null,
   "metadata": {
    "collapsed": false
   },
   "outputs": [],
   "source": [
    "bf = id_map[4]\n",
    "print bf\n",
    "df = blobs_file_reader(bf)\n",
    "show_blob_stuff(df)"
   ]
  },
  {
   "cell_type": "code",
   "execution_count": null,
   "metadata": {
    "collapsed": false
   },
   "outputs": [],
   "source": []
  },
  {
   "cell_type": "code",
   "execution_count": null,
   "metadata": {
    "collapsed": false
   },
   "outputs": [],
   "source": []
  },
  {
   "cell_type": "code",
   "execution_count": null,
   "metadata": {
    "collapsed": false
   },
   "outputs": [],
   "source": []
  },
  {
   "cell_type": "code",
   "execution_count": null,
   "metadata": {
    "collapsed": false
   },
   "outputs": [],
   "source": []
  },
  {
   "cell_type": "code",
   "execution_count": null,
   "metadata": {
    "collapsed": false
   },
   "outputs": [],
   "source": []
  },
  {
   "cell_type": "code",
   "execution_count": null,
   "metadata": {
    "collapsed": false
   },
   "outputs": [],
   "source": []
  },
  {
   "cell_type": "code",
   "execution_count": null,
   "metadata": {
    "collapsed": false
   },
   "outputs": [],
   "source": []
  },
  {
   "cell_type": "code",
   "execution_count": null,
   "metadata": {
    "collapsed": false
   },
   "outputs": [],
   "source": []
  }
 ],
 "metadata": {
  "kernelspec": {
   "display_name": "Python 2",
   "language": "python",
   "name": "python2"
  },
  "language_info": {
   "codemirror_mode": {
    "name": "ipython",
    "version": 2
   },
   "file_extension": ".py",
   "mimetype": "text/x-python",
   "name": "python",
   "nbconvert_exporter": "python",
   "pygments_lexer": "ipython2",
   "version": "2.7.9"
  }
 },
 "nbformat": 4,
 "nbformat_minor": 0
}
