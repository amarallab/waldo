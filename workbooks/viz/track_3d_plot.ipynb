{
 "metadata": {
  "name": "",
  "signature": "sha256:a4aa13471bbc91df27e89c9dc22edf1ef75da7f3aa1a71c3259eceaf3ee39f94"
 },
 "nbformat": 3,
 "nbformat_minor": 0,
 "worksheets": [
  {
   "cells": [
    {
     "cell_type": "code",
     "collapsed": false,
     "input": [
      "%load_ext autoreload\n",
      "%autoreload 2\n",
      "%matplotlib inline"
     ],
     "language": "python",
     "metadata": {},
     "outputs": [],
     "prompt_number": 1
    },
    {
     "cell_type": "code",
     "collapsed": false,
     "input": [
      "from __future__ import division\n",
      "import os\n",
      "import six\n",
      "import sys\n",
      "sys.path.append('..'); import pathcustomize, about\n",
      "import pathcustomize, about\n",
      "about.about()\n",
      "\n",
      "import pickle\n",
      "\n",
      "# import math\n",
      "# import pandas as pd\n",
      "from scipy import stats\n",
      "# import scipy.interpolate as interpolate\n",
      "# import scipy.signal as ss\n",
      "\n",
      "\n",
      "import matplotlib\n",
      "from mpl_toolkits.mplot3d import Axes3D\n",
      "import matplotlib.gridspec as gridspec\n",
      "from mpltools import style\n",
      "from mpltools import layout\n",
      "style.use('ggplot')\n",
      "\n",
      "import waldo\n",
      "from waldo import wio\n",
      "from waldo import viz\n",
      "from waldo.output.speed import *\n",
      "import waldo.metrics.report_card as report_card\n",
      "#from waldo.metrics.report_card import compound_bl_filter"
     ],
     "language": "python",
     "metadata": {},
     "outputs": [
      {
       "output_type": "stream",
       "stream": "stdout",
       "text": [
        "Python 2.7.6 (default, Mar 22 2014 22:59:56) [GCC 4.8.2] on linux2, Host: cody\n"
       ]
      }
     ],
     "prompt_number": 24
    },
    {
     "cell_type": "code",
     "collapsed": false,
     "input": [
      "# STOCK_METHODS = [\n",
      "#     'boxcar', 'triang', 'blackman', 'hamming', 'hann', 'bartlett',\n",
      "#     'flattop', 'parzen', 'bohman', 'blackmanharris', 'nuttall', 'barthann',\n",
      "#     'kaiser', 'gaussian', 'general_gaussian', 'slepian', 'chebwin'\n",
      "# ]\n",
      "\n",
      "# def smooth(method, series, winlen, *params):\n",
      "#     \"\"\" generic smoothing function. smooths a series of values using\n",
      "#     the chosen method.\n",
      "    \n",
      "#     params:\n",
      "#     method: (str)\n",
      "#         name of method to use for smoothing.\n",
      "#     series: (list or np.array)\n",
      "#         series of values that are to be smoothed\n",
      "#     *params: (*args)\n",
      "#         aditional arguments for chosen method.\n",
      "#     \"\"\"\n",
      "#     try:\n",
      "#         winlen = int(winlen) // 2 * 2 + 1 # make it odd, rounding up\n",
      "#         half_win = winlen // 2\n",
      "#         wintype = (method,) + tuple(int(x) for x in params)\n",
      "#         fir_win = ss.get_window(wintype, winlen)\n",
      "#     except ValueError:\n",
      "#         raise ValueError('Unrecognized smoothing type')\n",
      "\n",
      "#     b = fir_win / sum(fir_win)\n",
      "#     a = [1]\n",
      "#     return ss.lfilter(b, a, series)[winlen-1:]\n",
      "\n",
      "\n",
      "# def interpolate_to_1s(t, x):\n",
      "#     \"\"\" takes a timeseries and a value series.\n",
      "#     returns a timeseries where each time is a int and the value series has\n",
      "#     been linearly interpolated in between each point.\n",
      "#     \"\"\"\n",
      "#     def one_second_timesteps(t):\n",
      "#         #print t[0]\n",
      "#         t0 = math.ceil(t[0])\n",
      "#         tN = math.floor(t[-1])\n",
      "#         return np.arange(t0, tN)    \n",
      "#     eq_times = one_second_timesteps(t) #(t[0], t[-1], dt=dt, ndigits=0)\n",
      "#     interp_x = interpolate.interp1d(t, x, kind='linear')\n",
      "#     x_interp = interp_x(eq_times)\n",
      "#     return eq_times, x_interp\n",
      "\n",
      "# def calculate_speed(t, x, y):\n",
      "#     dt = np.diff(t)\n",
      "#     dx = np.diff(x)\n",
      "#     dy = np.diff(y)\n",
      "#     #print len(dt), len(dx), len(dy)\n",
      "#     dist = np.sqrt(dx**2 + dy**2)\n",
      "#     s = dist/dt\n",
      "#     return s\n",
      "\n",
      "# def clean_speed(t, x, y):\n",
      "#     \"\"\" smooths and interpolates position of point and returns the speed.\n",
      "    \n",
      "#     params\n",
      "#     -----\n",
      "#     t, x, y\n",
      "    \n",
      "#     returns\n",
      "#     -----\n",
      "#     ti: (np.array)\n",
      "#         series of times in 1 second intervals\n",
      "#     speed: (np.array)\n",
      "#         series of speeds\n",
      "#     \"\"\"\n",
      "#     t = np.array(t)\n",
      "#     x = np.array(x)\n",
      "#     y = np.array(y)\n",
      "#     xs = smooth('boxcar', x, 10)\n",
      "#     ys = smooth('boxcar', y, 10)\n",
      "#     #print 'smoothed', len(xs), len(ys)\n",
      "#     ti, xi = interpolate_to_1s(t, xs)\n",
      "#     ti, yi = interpolate_to_1s(t, ys)\n",
      "#     #print 'interp', len(ti), len(xi), len(yi)\n",
      "#     s2 = calculate_speed(ti, xi, yi)\n",
      "#     #print 'speeds', len(s2)\n",
      "#     return ti[1:], s2\n",
      "\n",
      "# def curate_data(node_df):\n",
      "#     \"\"\" accepts the \n",
      "#     \"\"\"\n",
      "#     data=node_df.copy()\n",
      "#     data.reset_index(inplace=True)\n",
      "#     relevant_data = data[['frame', 'time', 'area', 'blob', 'contour_encode_len', 'contour_encoded']]\n",
      "#     x, y = zip(*data['centroid'])\n",
      "#     cx, cy = zip(*data['contour_start'])\n",
      "    \n",
      "#     relevant_data['x'] = x\n",
      "#     relevant_data['y'] = y\n",
      "#     relevant_data['contour_start_x'] = cx\n",
      "#     relevant_data['contour_start_y'] = cy\n",
      "#     relevant_data = relevant_data[['frame', 'time','blob', 'x', 'y', 'area', \n",
      "#                                    'contour_start_x','contour_start_y', 'contour_encode_len', 'contour_encoded']]\n",
      "    \n",
      "#     duplicates_present = len(data['frame']) > len(set(data['frame']))\n",
      "#     if duplicates_present:\n",
      "#         #print 'duplicates found in', data.iloc[0]['blob']\n",
      "#         duplicated_frames = relevant_data[relevant_data.duplicated('frame')]['frame']\n",
      "#         #print len(duplicated_frames), 'frames duplicated'\n",
      "#         new_rows = []\n",
      "#         for f in duplicated_frames:\n",
      "#             dup = relevant_data[relevant_data['frame'] == f]\n",
      "#             total_area = dup['area'].sum()\n",
      "#             #print dup.columns\n",
      "#             time = dup.iloc[0]['time']\n",
      "#             x = np.sum(dup['x'] * dup['area']) / total_area\n",
      "#             y = np.sum(dup['y'] * dup['area']) / total_area\n",
      "#             row = {'frame':f, \n",
      "#                    'time':time, \n",
      "#                    'area':total_area, \n",
      "#                    'x':x, \n",
      "#                    'y':y, \n",
      "#                    'contour_start_x':None,\n",
      "#                    'contour_start_y':None, \n",
      "#                    'contour_encode_len':None, \n",
      "#                    'contour_encoded':None}\n",
      "#             new_rows.append(row)\n",
      "#         new_rows = pd.DataFrame(new_rows)\n",
      "#         #print new_rows.head()\n",
      "#         relevant_data = pd.concat([relevant_data, new_rows])\n",
      "#         relevant_data.drop_duplicates('frame', take_last=True, inplace=True)\n",
      "            \n",
      "#     relevant_data.set_index('frame', inplace=True)\n",
      "#     return relevant_data      \n",
      "\n",
      "def speed_me(node, experiment, graph):\n",
      "    node_data = graph.consolidate_node_data(experiment=experiment, node=node)\n",
      "    nd = curate_data(node_data)\n",
      "    t, x, y = nd['time'], nd['x'], nd['y'] \n",
      "    t_spaced, speed = clean_speed(np.array(t), np.array(x), np.array(y))   \n",
      "    return t_spaced, speed"
     ],
     "language": "python",
     "metadata": {},
     "outputs": [],
     "prompt_number": 19
    },
    {
     "cell_type": "code",
     "collapsed": false,
     "input": [
      "# N = 15\n",
      "ex_id = '20141017_113435'\n",
      "ex_id = '20141017_113439'\n",
      "ex_id = '20141017_123722'\n",
      "ex_id = '20141017_123725'\n",
      "# N = 25\n",
      "ex_id = '20141017_134720'\n",
      "ex_id = '20141017_134724'\n",
      "ex_id = '20141017_150959'\n",
      "ex_id = '20141017_151002'\n",
      "# day6"
     ],
     "language": "python",
     "metadata": {},
     "outputs": [],
     "prompt_number": 8
    },
    {
     "cell_type": "code",
     "collapsed": false,
     "input": [
      "ex_ids =  ['20130323_110247', '20130323_170503', '20130323_143707', '20130323_132240', '20130324_130602'] \n",
      "ex_ids = ['20130323_110247', # moe\n",
      "          '20130323_170503', # moe\n",
      "          '20130323_143707', # larry\n",
      "          '20130323_132240', # larry\n",
      "          '20130323_143706', # curly\n",
      "          '20130324_130602'] # curly\n",
      "\n",
      "ex_id = ex_ids[2]\n",
      "ex_id = '20130702_135704'\n",
      "\n",
      "ex_id = '20130323_143707'\n",
      "ex_id"
     ],
     "language": "python",
     "metadata": {},
     "outputs": [
      {
       "metadata": {},
       "output_type": "pyout",
       "prompt_number": 9,
       "text": [
        "'20130323_143707'"
       ]
      }
     ],
     "prompt_number": 9
    },
    {
     "cell_type": "code",
     "collapsed": false,
     "input": [
      "print ex_id\n",
      "experiment = wio.Experiment(experiment_id=ex_id)\n",
      "graph = experiment.graph.copy()\n",
      "\n",
      "waldo.collider.remove_nodes_outside_roi(graph, experiment)\n",
      "waldo.collider.remove_blank_nodes(graph, experiment)\n",
      "\n",
      "moving = graph.compound_bl_filter(experiment, threshold=0.5)\n",
      "print len(moving), 'moving'"
     ],
     "language": "python",
     "metadata": {},
     "outputs": [
      {
       "output_type": "stream",
       "stream": "stdout",
       "text": [
        "20130323_143707\n",
        "294"
       ]
      },
      {
       "output_type": "stream",
       "stream": "stdout",
       "text": [
        " moving\n"
       ]
      }
     ],
     "prompt_number": 10
    },
    {
     "cell_type": "code",
     "collapsed": false,
     "input": [
      "solver = report_card.WaldoSolver(experiment=experiment, graph=graph)\n",
      "graph2, rc = solver.run()"
     ],
     "language": "python",
     "metadata": {},
     "outputs": [
      {
       "output_type": "stream",
       "stream": "stdout",
       "text": [
        "collisions from bbox\n",
        "\t62 suspects. trying 0 again"
       ]
      },
      {
       "output_type": "stream",
       "stream": "stdout",
       "text": [
        "\n",
        "\t10 suspects. trying 0 again"
       ]
      },
      {
       "output_type": "stream",
       "stream": "stdout",
       "text": [
        "\n",
        "\t3 suspects. trying 0 again"
       ]
      },
      {
       "output_type": "stream",
       "stream": "stdout",
       "text": [
        "\n",
        "\t1 suspects. trying 0 again"
       ]
      },
      {
       "output_type": "stream",
       "stream": "stdout",
       "text": [
        "\n",
        "\t1 suspects. trying 0 again"
       ]
      },
      {
       "output_type": "stream",
       "stream": "stdout",
       "text": [
        "\n",
        "\t1 suspects. trying 0 again"
       ]
      },
      {
       "output_type": "stream",
       "stream": "stdout",
       "text": [
        "\n",
        "\t1 suspects. trying 0 again"
       ]
      },
      {
       "output_type": "stream",
       "stream": "stdout",
       "text": [
        "\n",
        "\t57 resolved 72%"
       ]
      },
      {
       "output_type": "stream",
       "stream": "stderr",
       "text": [
        "WARNING:waldo.network.graph:Validation pass\n"
       ]
      },
      {
       "output_type": "stream",
       "stream": "stderr",
       "text": [
        "WARNING:waldo.metrics.report_card:Remove Offshoots\n"
       ]
      },
      {
       "output_type": "stream",
       "stream": "stderr",
       "text": [
        "WARNING:waldo.network.graph:Validation pass\n"
       ]
      },
      {
       "output_type": "stream",
       "stream": "stderr",
       "text": [
        "WARNING:waldo.metrics.report_card:Collapse Group\n"
       ]
      },
      {
       "output_type": "stream",
       "stream": "stderr",
       "text": [
        "WARNING:waldo.metrics.report_card:Remove Fission-Fusion\n"
       ]
      },
      {
       "output_type": "stream",
       "stream": "stderr",
       "text": [
        "WARNING:waldo.metrics.report_card:Remove Fission-Fusion (relative)\n"
       ]
      },
      {
       "output_type": "stream",
       "stream": "stderr",
       "text": [
        "WARNING:waldo.metrics.report_card:Remove Single Descendents\n"
       ]
      },
      {
       "output_type": "stream",
       "stream": "stderr",
       "text": [
        "WARNING:waldo.network.graph:Validation pass\n"
       ]
      },
      {
       "output_type": "stream",
       "stream": "stderr",
       "text": [
        "WARNING:waldo.metrics.report_card:connect_leaves\n"
       ]
      },
      {
       "output_type": "stream",
       "stream": "stdout",
       "text": [
        "\n",
        "\t1 missing data 1%\n",
        "\t0 missing data, no overlap 0%\n",
        "\t22 full data, no  overlap 27%\n",
        "320"
       ]
      },
      {
       "output_type": "stream",
       "stream": "stderr",
       "text": [
        "../../code/waldo/network/graph.py:328: Warning: bridge_gaps() trying to connect non-existant nodes\n",
        "  warnings.warn('bridge_gaps() trying to connect non-existant nodes', Warning)\n",
        "WARNING:waldo.network.graph:Validation pass\n"
       ]
      },
      {
       "output_type": "stream",
       "stream": "stdout",
       "text": [
        " real\n",
        "13 to_missing\n",
        "10 from_missing\n",
        "0 missing_to_missing\n",
        "5 new_real\n",
        "8 failed_links\n",
        "7 missing points used up\n",
        "6 unique used\n",
        "3 max recursion\n",
        "177 missing points to start with\n",
        "171 missing points left\n",
        "collisions from bbox"
       ]
      },
      {
       "output_type": "stream",
       "stream": "stdout",
       "text": [
        "\n",
        "\t12 suspects. trying 0 again\n",
        "\t0 suspects. trying 0 again"
       ]
      },
      {
       "output_type": "stream",
       "stream": "stderr",
       "text": [
        "WARNING:waldo.network.graph:Validation pass\n"
       ]
      },
      {
       "output_type": "stream",
       "stream": "stderr",
       "text": [
        "WARNING:waldo.metrics.report_card:Remove Offshoots\n"
       ]
      },
      {
       "output_type": "stream",
       "stream": "stderr",
       "text": [
        "WARNING:waldo.network.graph:Validation pass\n"
       ]
      },
      {
       "output_type": "stream",
       "stream": "stderr",
       "text": [
        "WARNING:waldo.metrics.report_card:Collapse Group\n"
       ]
      },
      {
       "output_type": "stream",
       "stream": "stderr",
       "text": [
        "WARNING:waldo.metrics.report_card:Remove Fission-Fusion\n"
       ]
      },
      {
       "output_type": "stream",
       "stream": "stderr",
       "text": [
        "WARNING:waldo.metrics.report_card:Remove Fission-Fusion (relative)\n"
       ]
      },
      {
       "output_type": "stream",
       "stream": "stderr",
       "text": [
        "WARNING:waldo.metrics.report_card:Remove Single Descendents\n"
       ]
      },
      {
       "output_type": "stream",
       "stream": "stderr",
       "text": [
        "WARNING:waldo.network.graph:Validation pass\n"
       ]
      },
      {
       "output_type": "stream",
       "stream": "stderr",
       "text": [
        "WARNING:waldo.metrics.report_card:connect_leaves\n"
       ]
      },
      {
       "output_type": "stream",
       "stream": "stdout",
       "text": [
        "\n",
        "\t10 resolved 83%\n",
        "\t0 missing data 0%\n",
        "\t0 missing data, no overlap 0%\n",
        "\t2 full data, no  overlap 16%\n",
        "35"
       ]
      },
      {
       "output_type": "stream",
       "stream": "stderr",
       "text": [
        "WARNING:waldo.network.graph:Validation pass\n"
       ]
      },
      {
       "output_type": "stream",
       "stream": "stdout",
       "text": [
        " real\n",
        "8 to_missing\n",
        "6 from_missing\n",
        "0 missing_to_missing\n",
        "0 new_real\n",
        "8 failed_links\n",
        "0 missing points used up\n",
        "0 unique used\n",
        "2 max recursion\n",
        "171 missing points to start with\n",
        "171 missing points left\n",
        "collisions from bbox"
       ]
      },
      {
       "output_type": "stream",
       "stream": "stdout",
       "text": [
        "\n",
        "\t2 suspects. trying 0 again\n",
        "\t0 resolved 0%"
       ]
      },
      {
       "output_type": "stream",
       "stream": "stderr",
       "text": [
        "WARNING:waldo.network.graph:Validation pass\n"
       ]
      },
      {
       "output_type": "stream",
       "stream": "stderr",
       "text": [
        "WARNING:waldo.metrics.report_card:Remove Offshoots\n"
       ]
      },
      {
       "output_type": "stream",
       "stream": "stderr",
       "text": [
        "WARNING:waldo.network.graph:Validation pass\n"
       ]
      },
      {
       "output_type": "stream",
       "stream": "stderr",
       "text": [
        "WARNING:waldo.metrics.report_card:Collapse Group\n"
       ]
      },
      {
       "output_type": "stream",
       "stream": "stderr",
       "text": [
        "WARNING:waldo.metrics.report_card:Remove Fission-Fusion\n"
       ]
      },
      {
       "output_type": "stream",
       "stream": "stderr",
       "text": [
        "WARNING:waldo.metrics.report_card:Remove Fission-Fusion (relative)\n"
       ]
      },
      {
       "output_type": "stream",
       "stream": "stderr",
       "text": [
        "WARNING:waldo.metrics.report_card:Remove Single Descendents\n"
       ]
      },
      {
       "output_type": "stream",
       "stream": "stderr",
       "text": [
        "WARNING:waldo.network.graph:Validation pass\n"
       ]
      },
      {
       "output_type": "stream",
       "stream": "stderr",
       "text": [
        "WARNING:waldo.metrics.report_card:connect_leaves\n"
       ]
      },
      {
       "output_type": "stream",
       "stream": "stdout",
       "text": [
        "\n",
        "\t0 missing data 0%\n",
        "\t0 missing data, no overlap 0%\n",
        "\t2 full data, no  overlap 100%\n",
        "4"
       ]
      },
      {
       "output_type": "stream",
       "stream": "stderr",
       "text": [
        "WARNING:waldo.network.graph:Validation pass\n"
       ]
      },
      {
       "output_type": "stream",
       "stream": "stdout",
       "text": [
        " real\n",
        "8 to_missing\n",
        "6 from_missing\n",
        "0 missing_to_missing\n",
        "0 new_real\n",
        "8 failed_links\n",
        "0 missing points used up\n",
        "0 unique used\n",
        "2 max recursion\n",
        "171 missing points to start with\n",
        "171 missing points left\n",
        "collisions from bbox"
       ]
      },
      {
       "output_type": "stream",
       "stream": "stdout",
       "text": [
        "\n",
        "\t2 suspects. trying 0 again\n",
        "\t0 resolved 0%"
       ]
      },
      {
       "output_type": "stream",
       "stream": "stderr",
       "text": [
        "WARNING:waldo.network.graph:Validation pass\n"
       ]
      },
      {
       "output_type": "stream",
       "stream": "stderr",
       "text": [
        "WARNING:waldo.metrics.report_card:Remove Offshoots\n"
       ]
      },
      {
       "output_type": "stream",
       "stream": "stderr",
       "text": [
        "WARNING:waldo.network.graph:Validation pass\n"
       ]
      },
      {
       "output_type": "stream",
       "stream": "stderr",
       "text": [
        "WARNING:waldo.metrics.report_card:Collapse Group\n"
       ]
      },
      {
       "output_type": "stream",
       "stream": "stderr",
       "text": [
        "WARNING:waldo.metrics.report_card:Remove Fission-Fusion\n"
       ]
      },
      {
       "output_type": "stream",
       "stream": "stderr",
       "text": [
        "WARNING:waldo.metrics.report_card:Remove Fission-Fusion (relative)\n"
       ]
      },
      {
       "output_type": "stream",
       "stream": "stderr",
       "text": [
        "WARNING:waldo.metrics.report_card:Remove Single Descendents\n"
       ]
      },
      {
       "output_type": "stream",
       "stream": "stderr",
       "text": [
        "WARNING:waldo.network.graph:Validation pass\n"
       ]
      },
      {
       "output_type": "stream",
       "stream": "stderr",
       "text": [
        "WARNING:waldo.metrics.report_card:connect_leaves\n"
       ]
      },
      {
       "output_type": "stream",
       "stream": "stdout",
       "text": [
        "\n",
        "\t0 missing data 0%\n",
        "\t0 missing data, no overlap 0%\n",
        "\t2 full data, no  overlap 100%\n",
        "0"
       ]
      },
      {
       "output_type": "stream",
       "stream": "stderr",
       "text": [
        "WARNING:waldo.network.graph:Validation pass\n"
       ]
      },
      {
       "output_type": "stream",
       "stream": "stderr",
       "text": [
        "WARNING:waldo.metrics.report_card:No change since last iteration, halting\n"
       ]
      },
      {
       "output_type": "stream",
       "stream": "stdout",
       "text": [
        " real\n",
        "8 to_missing\n",
        "6 from_missing\n",
        "0 missing_to_missing\n",
        "0 new_real\n",
        "8 failed_links\n",
        "0 missing points used up\n",
        "0 unique used\n",
        "2 max recursion\n",
        "171 missing points to start with\n",
        "171 missing points left\n",
        "                  step  total-nodes  isolated-nodes  duration-med  \\\n",
        "0                  raw         4839             295          0.07   \n",
        "1                  roi         4839             295          0.07   \n",
        "2                blank         4836             292          0.07   \n",
        "3   resolve collisions         4665             296          0.07   \n",
        "4         prune leaves         4542             301          0.07   \n",
        "5       connect_leaves          325             200         16.40   \n",
        "6   resolve collisions          295             206         12.67   \n",
        "7         prune leaves          295             206         12.67   \n",
        "8       connect_leaves          264             175         21.56   \n",
        "9   resolve collisions          264             175         21.56   \n",
        "10        prune leaves          264             175         21.56   \n",
        "11      connect_leaves          260             171         22.30   \n",
        "12  resolve collisions          260             171         22.30   \n",
        "13        prune leaves          260             171         22.30   \n",
        "14      connect_leaves          260             171         22.30   \n",
        "\n",
        "    moving-nodes  \n",
        "0            189  \n",
        "1            189  \n",
        "2            189  \n",
        "3            171  \n",
        "4            171  \n",
        "5            121  \n",
        "6            104  \n",
        "7            104  \n",
        "8            105  \n",
        "9            105  \n",
        "10           105  \n",
        "11           105  \n",
        "12           105  \n",
        "13           105  \n",
        "14           105  \n",
        "\n",
        "[15 rows x 5 columns]"
       ]
      },
      {
       "output_type": "stream",
       "stream": "stdout",
       "text": [
        "\n",
        "                  step  total-nodes  >10min  >20min  >30min  >40min  >50min\n",
        "0                  raw         4839      34       7       4       3       2\n",
        "1                  roi         4839      34       7       4       3       2\n",
        "2                blank         4836      34       7       4       3       2\n",
        "3   resolve collisions         4665      34      12       4       3       2\n",
        "4         prune leaves         4542      34      12       4       3       2\n",
        "5       connect_leaves          325      37      16      10       6       2\n",
        "6   resolve collisions          295      36      16      14       8       5\n",
        "7         prune leaves          295      36      16      14       8       5\n",
        "8       connect_leaves          264      36      16      14       8       5\n",
        "9   resolve collisions          264      36      16      14       8       5\n",
        "10        prune leaves          264      36      16      14       8       5\n",
        "11      connect_leaves          260      36      16      14       8       5\n",
        "12  resolve collisions          260      36      16      14       8       5\n",
        "13        prune leaves          260      36      16      14       8       5\n",
        "14      connect_leaves          260      36      16      14       8       5\n",
        "\n",
        "[15 rows x 7 columns]\n",
        "                  step     wm_0min    wm_10min    wm_20min    wm_30min  \\\n",
        "0                  raw  576.994783  369.696883   65.392983   30.020117   \n",
        "1                  roi  576.994783  369.696883   65.392983   30.020117   \n",
        "2                blank  576.994783  369.696883   65.392983   30.020117   \n",
        "3   resolve collisions  515.863850  307.166783  185.668083   35.778633   \n",
        "4         prune leaves  515.357233  307.166783  185.668083   35.778633   \n",
        "5       connect_leaves  303.757650  303.666783  146.373833  141.509683   \n",
        "6   resolve collisions  224.690633  277.811967   47.318950  214.468983   \n",
        "7         prune leaves  224.690633  277.811967   47.318950  214.468983   \n",
        "8       connect_leaves  225.065467  277.811967   47.318950  214.772533   \n",
        "9   resolve collisions  225.065467  277.811967   47.318950  214.772533   \n",
        "10        prune leaves  225.065467  277.811967   47.318950  214.772533   \n",
        "11      connect_leaves  225.144300  277.811967   47.318950  214.772533   \n",
        "12  resolve collisions  225.144300  277.811967   47.318950  214.772533   \n",
        "13        prune leaves  225.144300  277.811967   47.318950  214.772533   \n",
        "14      connect_leaves  225.144300  277.811967   47.318950  214.772533   \n",
        "\n",
        "      wm_40min    wm_50min  \n",
        "0    40.039067  111.055050  \n",
        "1    40.039067  111.055050  \n",
        "2    40.039067  111.055050  \n",
        "3    44.034817  111.055050  \n",
        "4    44.034817  111.055050  \n",
        "5   185.735633  111.055050  \n",
        "6   140.153767  294.465167  \n",
        "7   140.153767  294.465167  \n",
        "8   140.153767  294.465167  \n",
        "9   140.153767  294.465167  \n",
        "10  140.153767  294.465167  \n",
        "11  140.153767  294.465167  \n",
        "12  140.153767  294.465167  \n",
        "13  140.153767  294.465167  \n",
        "14  140.153767  294.465167  \n",
        "\n",
        "[15 rows x 7 columns]\n",
        "91303"
       ]
      },
      {
       "output_type": "stream",
       "stream": "stdout",
       "text": [
        " blobs have terminal data\n",
        "260 nodes in graph\n",
        "260 overlap\n",
        "136 have more than 1 blob id in them\n",
        "          unknown  split  join  timing  on_edge  outside-roi\n",
        "lifespan                                                    \n",
        "1               5     25     3      19      115            2\n",
        "5               2      9     0       4       23            6\n",
        "10              1      2     0       3        5            1\n",
        "20              1      8     1       4        5            1\n",
        "61              1      4     0       6        4            1\n",
        "total          10     48     4      36      152           11\n",
        "\n",
        "[6 rows x 6 columns]"
       ]
      },
      {
       "output_type": "stream",
       "stream": "stdout",
       "text": [
        "\n",
        "          unknown  split  join  timing  on_edge  outside-roi\n",
        "lifespan                                                    \n",
        "1              26     14     4       5      118            2\n",
        "5               5      7     2       3       22            5\n",
        "10              1      2     0       2        6            1\n",
        "20              2      3     2       3        6            4\n",
        "61              0      3     2       8        2            1\n",
        "total          34     29    10      21      154           13\n",
        "\n",
        "[6 rows x 6 columns]\n"
       ]
      },
      {
       "output_type": "stream",
       "stream": "stderr",
       "text": [
        "/home/visitors/peterwinter/.pyenv/versions/general/local/lib/python2.7/site-packages/pandas/core/frame.py:2175: SettingWithCopyWarning: A value is trying to be set on a copy of a slice from a DataFrame\n",
        "  **kwargs)\n"
       ]
      }
     ],
     "prompt_number": 14
    },
    {
     "cell_type": "code",
     "collapsed": false,
     "input": [
      "moving2 = graph2.compound_bl_filter(experiment, threshold=0.5)\n",
      "print len(moving2), 'moving'"
     ],
     "language": "python",
     "metadata": {},
     "outputs": [
      {
       "output_type": "stream",
       "stream": "stdout",
       "text": [
        "135 moving\n"
       ]
      }
     ],
     "prompt_number": 15
    },
    {
     "cell_type": "code",
     "collapsed": false,
     "input": [
      "def yeild_node_data(experiment, graph):\n",
      "    for i, (node, node_data) in enumerate(graph.nodes(data=True)):\n",
      "        data = graph.consolidate_node_data(experiment=experiment, node=node)\n",
      "        if data is not None and len(data):\n",
      "            data.sort(inplace=True)\n",
      "            consolidated_set = set(data['blob'])\n",
      "            node_set = node_data.get('components', set())\n",
      "            if len(node_set - consolidated_set):\n",
      "                print 'WARNING! node', node, 'consolidated data is missing some components'\n",
      "                #print 'in data:', consolidated_set\n",
      "                #print 'in node:', node_set\n",
      "                missing = node_set - consolidated_set\n",
      "                print 'missing:', missing\n",
      "            data.reset_index(inplace=True)\n",
      "            frame0 = data.iloc[0]['frame']\n",
      "            frameN = data.iloc[-1]['frame']\n",
      "            df = curate_data(data)\n",
      "            yield node, df\n",
      "            \n",
      "        elif node_data['born_f'] != node_data['born_f']:\n",
      "            # only print this warning if the node lasts longer than zero frames\n",
      "            print 'failed on node', node , 'frames:', node_data['born_f'], 'to', node_data['born_f']\n",
      "\n",
      "  \n",
      "def summarize_graph_nodes(experiment, graph, moving, min_time=30):\n",
      "    #summary_data = []\n",
      "    speeds = []\n",
      "    areas = []\n",
      "    lifespans = []\n",
      "    not_moving = 0\n",
      "    too_short = 0\n",
      "    for node, df in yeild_node_data(experiment, graph):\n",
      "        t, x, y = df['time'], df['x'], df['y']\n",
      "        t0, tN = min(t), max(t)\n",
      "        life = tN - t0\n",
      "        if life < min_time:\n",
      "            too_short += 1\n",
      "            continue\n",
      "        if node not in moving:\n",
      "            not_moving += 1\n",
      "            continue\n",
      "            \n",
      "        lifespans.append(pd.DataFrame([t0, tN, life], columns=[node], index=['t0', 'tN', 'life']))\n",
      "        a = df[['area']].describe()\n",
      "        areas.append(a.rename(columns={'area':node}))\n",
      "        print len(x), len(y), len(t)\n",
      "        t2, s2 =clean_speed(t, x, y)\n",
      "        print len(t2), len(s2)\n",
      "        speeds.append(pd.DataFrame(s2, index=t2, columns=[node]).describe())\n",
      "\n",
      "    print not_moving, 'not moving'\n",
      "    print too_short, 'too short'\n",
      "    lifespans = pd.concat(lifespans, axis=1).T.sort('life', ascending=False)\n",
      "    areas = pd.concat(areas, axis=1).T\n",
      "    speeds = pd.concat(speeds, axis=1).T\n",
      "    \n",
      "    return lifespans, areas, speeds\n",
      "\n",
      "lifespans2, areas2, speeds2 = summarize_graph_nodes(experiment, graph2, moving2)\n",
      "print len(lifespans2), 'nodes'\n",
      "lifespans2.sort('life', ascending=False).head()\n",
      "nodes = list(lifespans2.index)[:50]"
     ],
     "language": "python",
     "metadata": {},
     "outputs": [
      {
       "output_type": "stream",
       "stream": "stdout",
       "text": [
        "780 780 780\n",
        "0 0\n",
        "749"
       ]
      },
      {
       "output_type": "stream",
       "stream": "stdout",
       "text": [
        " 749 749\n",
        "12 12\n",
        "3939"
       ]
      },
      {
       "output_type": "stream",
       "stream": "stdout",
       "text": [
        " 3939 3939\n",
        "0 0\n",
        "4945"
       ]
      },
      {
       "output_type": "stream",
       "stream": "stdout",
       "text": [
        " 4945 4945\n",
        "326 326\n",
        "44307"
       ]
      },
      {
       "output_type": "stream",
       "stream": "stdout",
       "text": [
        " 44307 44307\n",
        "1857 1857\n",
        "32560"
       ]
      },
      {
       "output_type": "stream",
       "stream": "stdout",
       "text": [
        " 32560 32560\n",
        "2475 2475\n",
        "15008"
       ]
      },
      {
       "output_type": "stream",
       "stream": "stdout",
       "text": [
        " 15008 15008\n",
        "1104 1104\n",
        "1895 1895 1895\n",
        "123 123\n",
        "8671"
       ]
      },
      {
       "output_type": "stream",
       "stream": "stdout",
       "text": [
        " 8671 8671\n",
        "13 13\n",
        "44040"
       ]
      },
      {
       "output_type": "stream",
       "stream": "stdout",
       "text": [
        " 44040 44040\n",
        "3597 3597\n",
        "8109"
       ]
      },
      {
       "output_type": "stream",
       "stream": "stdout",
       "text": [
        " 8109 8109\n",
        "170 170\n",
        "1308"
       ]
      },
      {
       "output_type": "stream",
       "stream": "stdout",
       "text": [
        " 1308 1308\n",
        "34 34\n",
        "27857"
       ]
      },
      {
       "output_type": "stream",
       "stream": "stdout",
       "text": [
        " 27857 27857\n",
        "20 20\n",
        "11584"
       ]
      },
      {
       "output_type": "stream",
       "stream": "stdout",
       "text": [
        " 11584 11584\n",
        "1 1\n",
        "7742"
       ]
      },
      {
       "output_type": "stream",
       "stream": "stdout",
       "text": [
        " 7742 7742\n",
        "343 343\n",
        "14458"
       ]
      },
      {
       "output_type": "stream",
       "stream": "stdout",
       "text": [
        " 14458 14458\n",
        "991 991\n",
        "1809"
       ]
      },
      {
       "output_type": "stream",
       "stream": "stdout",
       "text": [
        " 1809 1809\n",
        "118 118\n",
        "43547"
       ]
      },
      {
       "output_type": "stream",
       "stream": "stdout",
       "text": [
        " 43547 43547\n",
        "3579 3579\n",
        "26968"
       ]
      },
      {
       "output_type": "stream",
       "stream": "stdout",
       "text": [
        " 26968 26968\n",
        "2025 2025\n",
        "2139"
       ]
      },
      {
       "output_type": "stream",
       "stream": "stdout",
       "text": [
        " 2139 2139\n",
        "56 56\n",
        "678 678 678\n",
        "42 42\n",
        "8797"
       ]
      },
      {
       "output_type": "stream",
       "stream": "stdout",
       "text": [
        " 8797 8797\n",
        "602 602\n",
        "1168 1168 1168\n",
        "74 74\n",
        "WARNING! node"
       ]
      },
      {
       "output_type": "stream",
       "stream": "stdout",
       "text": [
        " 257 consolidated data is missing some components\n",
        "missing: set([45568, 46465, 48197, 46497, 47977, 47431, 44525, 48205, 48368, 46258, 44531, 45687, 44538, 47548, 47870, 47424])\n",
        "37086"
       ]
      },
      {
       "output_type": "stream",
       "stream": "stdout",
       "text": [
        " 37086 37086\n",
        "2937 2937\n",
        "12787"
       ]
      },
      {
       "output_type": "stream",
       "stream": "stdout",
       "text": [
        " 12787 12787\n",
        "873 873\n",
        "2067"
       ]
      },
      {
       "output_type": "stream",
       "stream": "stdout",
       "text": [
        " 2067 2067\n",
        "134 134\n",
        "39705"
       ]
      },
      {
       "output_type": "stream",
       "stream": "stdout",
       "text": [
        " 39705 39705\n",
        "3464 3464\n",
        "10490"
       ]
      },
      {
       "output_type": "stream",
       "stream": "stdout",
       "text": [
        " 10490 10490\n",
        "275 275\n",
        "800"
       ]
      },
      {
       "output_type": "stream",
       "stream": "stdout",
       "text": [
        " 800 800\n",
        "54 54\n",
        "14066"
       ]
      },
      {
       "output_type": "stream",
       "stream": "stdout",
       "text": [
        " 14066 14066\n",
        "318 318\n",
        "1403 1403 1403\n",
        "90 90\n",
        "530"
       ]
      },
      {
       "output_type": "stream",
       "stream": "stdout",
       "text": [
        " 530 530\n",
        "2 2\n",
        "13778"
       ]
      },
      {
       "output_type": "stream",
       "stream": "stdout",
       "text": [
        " 13778 13778\n",
        "984 984\n",
        "28811"
       ]
      },
      {
       "output_type": "stream",
       "stream": "stdout",
       "text": [
        " 28811 28811\n",
        "2282 2282\n",
        "6947"
       ]
      },
      {
       "output_type": "stream",
       "stream": "stdout",
       "text": [
        " 6947 6947\n",
        "475 475\n",
        "822 822 822\n",
        "51 51\n",
        "822"
       ]
      },
      {
       "output_type": "stream",
       "stream": "stdout",
       "text": [
        " 822 822\n",
        "52 52\n",
        "28137"
       ]
      },
      {
       "output_type": "stream",
       "stream": "stdout",
       "text": [
        " 28137 28137\n",
        "2261 2261\n",
        "1228"
       ]
      },
      {
       "output_type": "stream",
       "stream": "stdout",
       "text": [
        " 1228 1228\n",
        "80 80\n",
        "34824"
       ]
      },
      {
       "output_type": "stream",
       "stream": "stdout",
       "text": [
        " 34824 34824\n",
        "735 735\n",
        "7776"
       ]
      },
      {
       "output_type": "stream",
       "stream": "stdout",
       "text": [
        " 7776 7776\n",
        "521 521\n",
        "12920"
       ]
      },
      {
       "output_type": "stream",
       "stream": "stdout",
       "text": [
        " 12920 12920\n",
        "66 66\n",
        "7022"
       ]
      },
      {
       "output_type": "stream",
       "stream": "stdout",
       "text": [
        " 7022 7022\n",
        "281 281\n",
        "817"
       ]
      },
      {
       "output_type": "stream",
       "stream": "stdout",
       "text": [
        " 817 817\n",
        "54 54\n",
        "1031"
       ]
      },
      {
       "output_type": "stream",
       "stream": "stdout",
       "text": [
        " 1031 1031\n",
        "73 73\n",
        "8670"
       ]
      },
      {
       "output_type": "stream",
       "stream": "stdout",
       "text": [
        " 8670 8670\n",
        "651 651\n",
        "761"
       ]
      },
      {
       "output_type": "stream",
       "stream": "stdout",
       "text": [
        " 761 761\n",
        "59 59\n",
        "1150"
       ]
      },
      {
       "output_type": "stream",
       "stream": "stdout",
       "text": [
        " 1150 1150\n",
        "92 92\n",
        "1904"
       ]
      },
      {
       "output_type": "stream",
       "stream": "stdout",
       "text": [
        " 1904 1904\n",
        "151 151\n",
        "1152"
       ]
      },
      {
       "output_type": "stream",
       "stream": "stdout",
       "text": [
        " 1152 1152\n",
        "84 84\n",
        "10786"
       ]
      },
      {
       "output_type": "stream",
       "stream": "stdout",
       "text": [
        " 10786 10786\n",
        "820 820\n",
        "502"
       ]
      },
      {
       "output_type": "stream",
       "stream": "stdout",
       "text": [
        " 502 502\n",
        "36 36\n",
        "584"
       ]
      },
      {
       "output_type": "stream",
       "stream": "stdout",
       "text": [
        " 584 584\n",
        "43 43\n",
        "776"
       ]
      },
      {
       "output_type": "stream",
       "stream": "stdout",
       "text": [
        " 776 776\n",
        "52 52\n",
        "788"
       ]
      },
      {
       "output_type": "stream",
       "stream": "stdout",
       "text": [
        " 788 788\n",
        "59 59\n",
        "624"
       ]
      },
      {
       "output_type": "stream",
       "stream": "stdout",
       "text": [
        " 624 624\n",
        "47 47\n",
        "2391"
       ]
      },
      {
       "output_type": "stream",
       "stream": "stdout",
       "text": [
        " 2391 2391\n",
        "176 176\n",
        "3275"
       ]
      },
      {
       "output_type": "stream",
       "stream": "stdout",
       "text": [
        " 3275 3275\n",
        "239 239\n",
        "576"
       ]
      },
      {
       "output_type": "stream",
       "stream": "stdout",
       "text": [
        " 576 576\n",
        "41 41\n",
        "2483"
       ]
      },
      {
       "output_type": "stream",
       "stream": "stdout",
       "text": [
        " 2483 2483\n",
        "178 178\n",
        "25120"
       ]
      },
      {
       "output_type": "stream",
       "stream": "stdout",
       "text": [
        " 25120 25120\n",
        "156 156\n",
        "14266"
       ]
      },
      {
       "output_type": "stream",
       "stream": "stdout",
       "text": [
        " 14266 14266\n",
        "1161 1161\n",
        "1302"
       ]
      },
      {
       "output_type": "stream",
       "stream": "stdout",
       "text": [
        " 1302 1302\n",
        "22 22\n",
        "1400"
       ]
      },
      {
       "output_type": "stream",
       "stream": "stdout",
       "text": [
        " 1400 1400\n",
        "17 17\n",
        "20632"
       ]
      },
      {
       "output_type": "stream",
       "stream": "stdout",
       "text": [
        " 20632 20632\n",
        "1662 1662\n",
        "1505"
       ]
      },
      {
       "output_type": "stream",
       "stream": "stdout",
       "text": [
        " 1505 1505\n",
        "123 123\n",
        "1445 1445 1445\n",
        "118 118\n",
        "1096"
       ]
      },
      {
       "output_type": "stream",
       "stream": "stdout",
       "text": [
        " 1096 1096\n",
        "89 89\n",
        "12230"
       ]
      },
      {
       "output_type": "stream",
       "stream": "stdout",
       "text": [
        " 12230 12230\n",
        "217 217\n",
        "689"
       ]
      },
      {
       "output_type": "stream",
       "stream": "stdout",
       "text": [
        " 689 689\n",
        "55 55\n",
        "401 401 401\n",
        "31 31\n",
        "1293"
       ]
      },
      {
       "output_type": "stream",
       "stream": "stdout",
       "text": [
        " 1293 1293\n",
        "105 105\n",
        "635"
       ]
      },
      {
       "output_type": "stream",
       "stream": "stdout",
       "text": [
        " 635 635\n",
        "51 51\n",
        "6619"
       ]
      },
      {
       "output_type": "stream",
       "stream": "stdout",
       "text": [
        " 6619 6619\n",
        "627 627\n",
        "14825"
       ]
      },
      {
       "output_type": "stream",
       "stream": "stdout",
       "text": [
        " 14825 14825\n",
        "1457 1457\n",
        "14275"
       ]
      },
      {
       "output_type": "stream",
       "stream": "stdout",
       "text": [
        " 14275 14275\n",
        "1376 1376\n",
        "314 314 314\n",
        "34 34\n",
        "1058"
       ]
      },
      {
       "output_type": "stream",
       "stream": "stdout",
       "text": [
        " 1058 1058\n",
        "92 92\n",
        "2722"
       ]
      },
      {
       "output_type": "stream",
       "stream": "stdout",
       "text": [
        " 2722 2722\n",
        "280 280\n",
        "1662"
       ]
      },
      {
       "output_type": "stream",
       "stream": "stdout",
       "text": [
        " 1662 1662\n",
        "163 163\n",
        "1031 1031 1031\n",
        "107 107\n",
        "5804"
       ]
      },
      {
       "output_type": "stream",
       "stream": "stdout",
       "text": [
        " 5804 5804\n",
        "557 557\n",
        "7217"
       ]
      },
      {
       "output_type": "stream",
       "stream": "stdout",
       "text": [
        " 7217 7217\n",
        "166 166\n",
        "1603"
       ]
      },
      {
       "output_type": "stream",
       "stream": "stdout",
       "text": [
        " 1603 1603\n",
        "83 83\n",
        "6668"
       ]
      },
      {
       "output_type": "stream",
       "stream": "stdout",
       "text": [
        " 6668 6668\n",
        "649 649\n",
        "917 917 917\n",
        "86 86\n",
        "1800"
       ]
      },
      {
       "output_type": "stream",
       "stream": "stdout",
       "text": [
        " 1800 1800\n",
        "17 17\n",
        "7394"
       ]
      },
      {
       "output_type": "stream",
       "stream": "stdout",
       "text": [
        " 7394 7394\n",
        "950 950\n",
        "383"
       ]
      },
      {
       "output_type": "stream",
       "stream": "stdout",
       "text": [
        " 383 383\n",
        "34 34\n",
        "4534"
       ]
      },
      {
       "output_type": "stream",
       "stream": "stdout",
       "text": [
        " 4534 4534\n",
        "435 435\n",
        "4865"
       ]
      },
      {
       "output_type": "stream",
       "stream": "stdout",
       "text": [
        " 4865 4865\n",
        "81 81\n",
        "7083"
       ]
      },
      {
       "output_type": "stream",
       "stream": "stdout",
       "text": [
        " 7083 7083\n",
        "685 685\n",
        "618 618 618\n",
        "5 5\n",
        "820"
       ]
      },
      {
       "output_type": "stream",
       "stream": "stdout",
       "text": [
        " 820 820\n",
        "90 90\n",
        "343"
       ]
      },
      {
       "output_type": "stream",
       "stream": "stdout",
       "text": [
        " 343 343\n",
        "31 31\n",
        "752 752 752\n",
        "69 69\n",
        "3586"
       ]
      },
      {
       "output_type": "stream",
       "stream": "stdout",
       "text": [
        " 3586 3586\n",
        "345 345\n",
        "316"
       ]
      },
      {
       "output_type": "stream",
       "stream": "stdout",
       "text": [
        " 316 316\n",
        "31 31\n",
        "662 662 662\n",
        "62 62\n",
        "3327"
       ]
      },
      {
       "output_type": "stream",
       "stream": "stdout",
       "text": [
        " 3327 3327\n",
        "322 322\n",
        "2442"
       ]
      },
      {
       "output_type": "stream",
       "stream": "stdout",
       "text": [
        " 2442 2442\n",
        "283 283\n",
        "1768"
       ]
      },
      {
       "output_type": "stream",
       "stream": "stdout",
       "text": [
        " 1768 1768\n",
        "173 173\n",
        "784"
       ]
      },
      {
       "output_type": "stream",
       "stream": "stdout",
       "text": [
        " 784 784\n",
        "15 15\n",
        "576"
       ]
      },
      {
       "output_type": "stream",
       "stream": "stdout",
       "text": [
        " 576 576\n",
        "11 11\n",
        "575"
       ]
      },
      {
       "output_type": "stream",
       "stream": "stdout",
       "text": [
        " 575 575\n",
        "53 53\n",
        "13"
       ]
      },
      {
       "output_type": "stream",
       "stream": "stdout",
       "text": [
        " not moving\n",
        "142 too short\n",
        "105 nodes\n"
       ]
      }
     ],
     "prompt_number": 20
    },
    {
     "cell_type": "code",
     "collapsed": false,
     "input": [
      "lifespans2.head()"
     ],
     "language": "python",
     "metadata": {},
     "outputs": [
      {
       "html": [
        "<div style=\"max-height:1000px;max-width:1500px;overflow:auto;\">\n",
        "<table border=\"1\" class=\"dataframe\">\n",
        "  <thead>\n",
        "    <tr style=\"text-align: right;\">\n",
        "      <th></th>\n",
        "      <th>t0</th>\n",
        "      <th>tN</th>\n",
        "      <th>life</th>\n",
        "    </tr>\n",
        "  </thead>\n",
        "  <tbody>\n",
        "    <tr>\n",
        "      <th>8   </th>\n",
        "      <td>   0.007</td>\n",
        "      <td> 3600.166</td>\n",
        "      <td> 3600.159</td>\n",
        "    </tr>\n",
        "    <tr>\n",
        "      <th>20  </th>\n",
        "      <td>   0.007</td>\n",
        "      <td> 3600.166</td>\n",
        "      <td> 3600.159</td>\n",
        "    </tr>\n",
        "    <tr>\n",
        "      <th>87  </th>\n",
        "      <td>  12.607</td>\n",
        "      <td> 3594.195</td>\n",
        "      <td> 3581.588</td>\n",
        "    </tr>\n",
        "    <tr>\n",
        "      <th>373 </th>\n",
        "      <td> 133.147</td>\n",
        "      <td> 3600.166</td>\n",
        "      <td> 3467.019</td>\n",
        "    </tr>\n",
        "    <tr>\n",
        "      <th>1602</th>\n",
        "      <td> 609.443</td>\n",
        "      <td> 3600.166</td>\n",
        "      <td> 2990.723</td>\n",
        "    </tr>\n",
        "  </tbody>\n",
        "</table>\n",
        "<p>5 rows \u00d7 3 columns</p>\n",
        "</div>"
       ],
       "metadata": {},
       "output_type": "pyout",
       "prompt_number": 21,
       "text": [
        "           t0        tN      life\n",
        "8       0.007  3600.166  3600.159\n",
        "20      0.007  3600.166  3600.159\n",
        "87     12.607  3594.195  3581.588\n",
        "373   133.147  3600.166  3467.019\n",
        "1602  609.443  3600.166  2990.723\n",
        "\n",
        "[5 rows x 3 columns]"
       ]
      }
     ],
     "prompt_number": 21
    },
    {
     "cell_type": "heading",
     "level": 3,
     "metadata": {},
     "source": [
      "Pick a node to plot"
     ]
    },
    {
     "cell_type": "code",
     "collapsed": false,
     "input": [
      "node = nodes[0]\n",
      "print node\n",
      "experiment = experiment\n",
      "print experiment.id\n",
      "graph = graph2\n",
      "\n",
      "node_data = graph.consolidate_node_data(experiment=experiment, node=node)\n",
      "#print node_data.head()\n",
      "node_data.reset_index(inplace=True)\n",
      "nd = curate_data(node_data)\n",
      "ts, s = speed_me(node, experiment, graph2)\n",
      "\n",
      "scaled_speed = s - min(s)\n",
      "mss = np.percentile(scaled_speed, 95)\n",
      "print mss\n",
      "scaled_speed = np.array(scaled_speed / mss)\n",
      "scaled_speed[scaled_speed > 1] = 1\n",
      "\n",
      "t = np.array(nd['time'])\n",
      "x =  np.array(nd['x'])\n",
      "y = np.array(nd['y'])\n",
      "if len(t) < 30 or len(y) < 30 or len(x) < 30:\n",
      "    print 'error t is too small'\n",
      "xs = smooth('boxcar', x, 10)\n",
      "ys = smooth('boxcar', y, 10)\n",
      "#print 'smoothed', len(xs), len(ys)\n",
      "ti, xi = interpolate_to_1s(t, x)\n",
      "ti_seconds, yi = interpolate_to_1s(t, y)\n",
      "print len(ti), len(xi), len(yi), len(scaled_speed)\n",
      "print\n",
      "print round(len(ti)/3600.0, ndigits=2)"
     ],
     "language": "python",
     "metadata": {},
     "outputs": [
      {
       "output_type": "stream",
       "stream": "stdout",
       "text": [
        "8\n",
        "20130323_143707\n",
        "9.75852437984"
       ]
      },
      {
       "output_type": "stream",
       "stream": "stdout",
       "text": [
        "\n",
        "2407 2407 2407 1857\n",
        "\n",
        "0.67\n"
       ]
      }
     ],
     "prompt_number": 98
    },
    {
     "cell_type": "code",
     "collapsed": false,
     "input": [
      "ti = (ti_seconds / 60.0)[::-1]\n",
      "print 'from', ti[0], 'to', ti[-1]\n",
      "\n",
      "\n",
      "print len(ti[1:-1:])#\n",
      "print len(xi[1:-1:])#, len(ti[1::-1]), len(scaled_speed)\n",
      "print len(yi[1:-1:])\n",
      "print len(scaled_speed)\n",
      "print ti.shape\n",
      "print scaled_speed.shape\n",
      "print ti[:10]\n",
      "print 'len', len(ti[1::])\n",
      "print ti[1::-1].shape\n",
      "print ti[1::-1]"
     ],
     "language": "python",
     "metadata": {},
     "outputs": [
      {
       "output_type": "stream",
       "stream": "stdout",
       "text": [
        "from 40.1166666667 to 0.0166666666667\n",
        "2405\n",
        "2405\n",
        "2405\n",
        "1857\n",
        "(2407,)\n",
        "(1857,)\n",
        "[ 40.11666667  40.1         40.08333333  40.06666667  40.05        40.03333333\n",
        "  40.01666667  40.          39.98333333  39.96666667]\n",
        "len 2406\n",
        "(2,)\n",
        "[ 40.1         40.11666667]\n"
       ]
      }
     ],
     "prompt_number": 99
    },
    {
     "cell_type": "code",
     "collapsed": false,
     "input": [
      "N = len(scaled_speed)\n",
      "print N\n",
      "print len(xi[:N])"
     ],
     "language": "python",
     "metadata": {},
     "outputs": [
      {
       "output_type": "stream",
       "stream": "stdout",
       "text": [
        "1857\n",
        "1857\n"
       ]
      }
     ],
     "prompt_number": 100
    },
    {
     "cell_type": "code",
     "collapsed": false,
     "input": [
      "max(scaled_speed), min(scaled_speed)"
     ],
     "language": "python",
     "metadata": {},
     "outputs": [
      {
       "metadata": {},
       "output_type": "pyout",
       "prompt_number": 101,
       "text": [
        "(1.0, 0.0)"
       ]
      }
     ],
     "prompt_number": 101
    },
    {
     "cell_type": "heading",
     "level": 3,
     "metadata": {},
     "source": [
      "plot the path"
     ]
    },
    {
     "cell_type": "code",
     "collapsed": false,
     "input": [
      "cmap = plt.cm.Spectral\n",
      "cmap = plt.cm.RdBu\n",
      "cmap = plt.cm.gist_heat\n",
      "#cmap = plt.cm.winter\n",
      "cmap = plt.cm.brg\n",
      "    \n",
      "########### 3d position plot ###########\n",
      "fig = plt.figure(figsize=(3, 8), facecolor='white')\n",
      "plt.clf()\n",
      "\n",
      "\n",
      "#ti = np.linspace(60, 0, len(scaled_speed))\n",
      "\n",
      "ax = Axes3D(fig, rect=[0, 0, .95, 1], elev=6, azim=-20)\n",
      "#ax.scatter(xi[1::], yi[1::], ti, '.', c=scaled_speed, edgecolor='none', s=2, cmap=cmap)\n",
      "ax.scatter(xi[:N], yi[:N], ti[:N] - 10, '.', c=scaled_speed, edgecolor='none', s=2, cmap=cmap)\n",
      "\n",
      "# add shadow to the bottom of graph\n",
      "ax.plot(xi, yi, color='black', alpha=0.2)\n",
      "\n",
      "#ax.set_ylabel('y')\n",
      "#ax.set_xlabel('x')\n",
      "#ax.set_zlabel('time (min)')\n",
      "ax.set_zlim([0, 30])\n",
      "plt.xticks([]) #np.arange(int(min(xi)), int(max(xi))+1, 300.0))\n",
      "plt.yticks([]) #np.arange(int(min(yi)), int(max(yi))+1, 300.0))\n",
      "ax.zaxis.set_ticks(np.linspace(0, 30, 4))\n",
      "ax.zaxis.set_ticklabels([])\n",
      "ax.zaxis.set_tick_params('left')\n",
      "#fig.facecolor = 'white'\n",
      "#ax.patch.set_facecolor('white')\n",
      "plt.subplots_adjust(left=0.1, right=0.9, top=0.95, bottom=0.05)\n",
      "plt.savefig('poster-node-speed.eps'.format(eid=ex_id, n=node))\n",
      "plt.show()"
     ],
     "language": "python",
     "metadata": {},
     "outputs": [
      {
       "metadata": {},
       "output_type": "display_data",
       "png": "[encoded data removed]",
       "text": [
        "<matplotlib.figure.Figure at 0x7fb08151abd0>"
       ]
      }
     ],
     "prompt_number": 116
    },
    {
     "cell_type": "heading",
     "level": 3,
     "metadata": {},
     "source": [
      "plot the histogams"
     ]
    },
    {
     "cell_type": "code",
     "collapsed": false,
     "input": [
      "########## histogram plot ###########\n",
      "n_plots = 6\n",
      "\n",
      "\n",
      "fig = plt.figure(figsize=(3, 8))\n",
      "gs = gridspec.GridSpec(n_plots, 1)\n",
      "gs.update(hspace=0.0)\n",
      "ax0 = plt.subplot(gs[0,0])\n",
      "ax = [ax0]\n",
      "\n",
      "n_bins = 50\n",
      "label_size = 10\n",
      "for i in range(5):\n",
      "    axi = plt.subplot(gs[i+1, 0], sharex=ax0)\n",
      "    axi.xaxis.set_tick_params(labelsize=0) #, tickright=True, labelright=True, labelleft=False)\n",
      "    ax.append(axi)\n",
      "\n",
      "print '# speeds', len(s), len(s)/6\n",
      "splits = [s[:599], s[599:1199], s[1199:1799], s[1799:2399], s[2399:2999], s[2999:]]\n",
      "slim = np.percentile(s, 95)\n",
      "bins = np.linspace(0, slim, n_bins)\n",
      "for i, spl in enumerate(splits):\n",
      "    print i, len(spl)\n",
      "    if len(spl) < 2:\n",
      "        continue\n",
      "    y, b = np.histogram(spl, bins=bins, normed=True)\n",
      "    q25 = np.percentile(spl, 25)\n",
      "    q50 = np.percentile(spl, 50)\n",
      "    q75 = np.percentile(spl, 75)\n",
      "    kernel = stats.gaussian_kde(spl)\n",
      "    kx = np.linspace(0, max(spl), 1000)\n",
      "    ky = kernel.evaluate(kx)\n",
      "    \n",
      "    ax[i].hist(spl, bins=bins, normed=True)\n",
      "    ax[i].fill_between([q25, q75], [0, 0], [1000, 1000], color='black', alpha=0.1)\n",
      "    ax[i].plot([q50, q50], [0, 1000], color='black')\n",
      "    ax[i].plot(kx, ky, color='black')\n",
      "\n",
      "    mid= round(max(y)/2.0, ndigits=2)\n",
      "    ax[i].yaxis.set_ticks([0, mid])\n",
      "    ax[i].set_ylim([0, max(y) * 1.1])\n",
      "    ax[i].yaxis.set_tick_params(labelright=True, labelleft=False)\n",
      "    ax[i].yaxis.set_label_position(\"right\")\n",
      "    \n",
      "ax[0].set_xlim([0, slim])    \n",
      "ax[0].xaxis.set_tick_params(labelsize=label_size, labeltop=True, labelbottom=False)\n",
      "ax[-1].xaxis.set_tick_params(labelsize=label_size, labelbottom=True, labeltop=False)\n",
      "ax[0].set_ylabel('frequency')\n",
      "ax[0].set_xlabel('speed (pxl/s)')\n",
      "ax[-1].set_xlabel('speed (pxl/s)')\n",
      "ax[0].xaxis.set_label_position(\"top\")\n",
      "plt.subplots_adjust(left=0.05, right=0.8, top=0.9, bottom=0.1)\n",
      "plt.savefig('node-speed-{eid}-{n}-hist.png'.format(eid=ex_id, n=node))\n",
      "plt.show()"
     ],
     "language": "python",
     "metadata": {},
     "outputs": [
      {
       "output_type": "stream",
       "stream": "stdout",
       "text": [
        "# speeds 3464 577.333333333\n",
        "0 599\n",
        "1 600\n",
        "2"
       ]
      },
      {
       "output_type": "stream",
       "stream": "stdout",
       "text": [
        " 600\n",
        "3"
       ]
      },
      {
       "output_type": "stream",
       "stream": "stdout",
       "text": [
        " 600\n",
        "4 600\n",
        "5"
       ]
      },
      {
       "output_type": "stream",
       "stream": "stdout",
       "text": [
        " 465\n"
       ]
      },
      {
       "metadata": {},
       "output_type": "display_data",
       "png": "[encoded data removed]",
       "text": [
        "<matplotlib.figure.Figure at 0x7fb085526890>"
       ]
      }
     ],
     "prompt_number": 56
    },
    {
     "cell_type": "code",
     "collapsed": false,
     "input": [
      "########### speed plot ###########\n",
      "print len(s), len(scaled_speed), len(ts)\n",
      "fig, ax = plt.subplots(figsize=(3, 8))\n",
      "\n",
      "# draw horizontal black lines\n",
      "for i in [10, 20, 30, 40,  50]:\n",
      "    xpos = i\n",
      "    ax.plot([0, max(s)], [xpos,xpos],color='black', alpha=0.5)    \n",
      "    \n",
      "# add speed dots\n",
      "ax.scatter(s, np.array(ts)/60, marker='.', c=scaled_speed, edgecolor='none', lw=1, cmap=cmap)\n",
      "\n",
      "ax.set_xlabel('speed (pxl/s)')\n",
      "ax.set_ylabel('time (min)')\n",
      "ax.set_ylim([0, 60])\n",
      "ax.set_xlim([0,max(s)])\n",
      "ax.set_yticks([0, 5, 10, 15, 20, 25, 30, 35, 40, 45, 50, 55, 60])\n",
      "ax.xaxis.set_tick_params(labeltop=True, labelbottom=True)\n",
      "\n",
      "setp(gca(), 'ylim', reversed(getp(gca(), 'ylim')))\n",
      "plt.subplots_adjust(left=0.2, right=0.95, top=0.9, bottom=0.1)\n",
      "plt.savefig('node-speed-{eid}-{n}-scatter.png'.format(eid=ex_id, n=node))\n",
      "plt.show()"
     ],
     "language": "python",
     "metadata": {},
     "outputs": [
      {
       "output_type": "stream",
       "stream": "stdout",
       "text": [
        "3464 3464 3464\n"
       ]
      },
      {
       "metadata": {},
       "output_type": "display_data",
       "png": "[encoded data removed]",
       "text": [
        "<matplotlib.figure.Figure at 0x7fb088f153d0>"
       ]
      }
     ],
     "prompt_number": 58
    },
    {
     "cell_type": "code",
     "collapsed": false,
     "input": [],
     "language": "python",
     "metadata": {},
     "outputs": [],
     "prompt_number": 24
    },
    {
     "cell_type": "heading",
     "level": 3,
     "metadata": {},
     "source": [
      "old all-in-one function"
     ]
    },
    {
     "cell_type": "code",
     "collapsed": false,
     "input": [
      "def fig5_a(node, experiment, graph):\n",
      "\n",
      "    cmap = plt.cm.Spectral\n",
      "    cmap = plt.cm.RdBu\n",
      "    cmap = plt.cm.gist_heat\n",
      "    #cmap = plt.cm.winter\n",
      "    cmap = plt.cm.brg\n",
      "    \n",
      "    node_data = graph.consolidate_node_data(experiment=experiment, node=node)\n",
      "    #print node_data.head()\n",
      "    node_data.reset_index(inplace=True)\n",
      "    nd = curate_data(node_data)\n",
      "    ts, s = speed_me(node, experiment, graph2)\n",
      "    \n",
      "    scaled_speed = s - min(s)\n",
      "    mss = np.percentile(scaled_speed, 95)\n",
      "    print mss\n",
      "    scaled_speed = np.array(scaled_speed / mss)\n",
      "    scaled_speed[scaled_speed > 1] = 1\n",
      "\n",
      "    t = np.array(nd['time'])\n",
      "    x =  np.array(nd['x'])\n",
      "    y = np.array(nd['y'])\n",
      "    if len(t) < 30 or len(y) < 30 or len(x) < 30:\n",
      "        print 'error t is too small'\n",
      "    xs = smooth('boxcar', x, 10)\n",
      "    ys = smooth('boxcar', y, 10)\n",
      "    #print 'smoothed', len(xs), len(ys)\n",
      "    ti, xi = interpolate_to_1s(t, x)\n",
      "    ti, yi = interpolate_to_1s(t, y)\n",
      "    #print len(t), len(x), len(y)\n",
      "    print len(ti), len(scaled_speed)\n",
      "    \n",
      "    \n",
      "    ########### 3d position plot ###########\n",
      "    fig = plt.figure(figsize=(3, 8), facecolor='white')\n",
      "    plt.clf()\n",
      "\n",
      "    ax = Axes3D(fig, rect=[0, 0, .95, 1], elev=6, azim=-80)\n",
      "    ax.scatter(xi[1:], yi[1:], ti[1:]/60, '.', c=scaled_speed, edgecolor='none', s=2, cmap=cmap)\n",
      "    #ax.plot(xi, yi, [0 for i in ti], color='black', alpha=0.5)\n",
      "\n",
      "    ax.set_ylabel('y')\n",
      "    ax.set_xlabel('x')\n",
      "    ax.set_zlabel('time (min)')\n",
      "    ax.set_zlim([0, 60])\n",
      "    plt.xticks([]) #np.arange(int(min(xi)), int(max(xi))+1, 300.0))\n",
      "    plt.yticks([]) #np.arange(int(min(yi)), int(max(yi))+1, 300.0))\n",
      "    ax.zaxis.set_ticks(np.linspace(0, 60, 7))\n",
      "    ax.zaxis.set_ticklabels([])\n",
      "    ax.zaxis.set_tick_params('left')\n",
      "    fig.facecolor = 'white'\n",
      "    ax.patch.set_facecolor('white')\n",
      "    plt.savefig('node-speed-3d-{n}.png'.format(n=node))\n",
      "    plt.show()   \n",
      "    \n",
      "    \n",
      "    ########### histogram plot ###########\n",
      "    fig = plt.figure(figsize=(8, 3))\n",
      "    gs = gridspec.GridSpec(1, 6)\n",
      "    gs.update(wspace=0.0)\n",
      "    ax0 = plt.subplot(gs[0,0])\n",
      "    ax = [ax0]\n",
      "    \n",
      "    n_bins = 50\n",
      "    label_size = 10\n",
      "    for i in range(5):\n",
      "        axi = plt.subplot(gs[0,i+1], sharey=ax0)\n",
      "        axi.yaxis.set_tick_params(labelsize=0)\n",
      "        ax.append(axi)\n",
      "        \n",
      "    #print len(s), len(s)/6\n",
      "    splits = [s[:599], s[599:1199], s[1199:1799], s[1799:2399], s[2399:2999], s[2999:]]\n",
      "    bins = np.linspace(0, np.percentile(s, 95), n_bins)\n",
      "    for i, spl in enumerate(splits):\n",
      "        y, b = np.histogram(spl, bins=bins)\n",
      "        q25 = np.percentile(spl, 25)\n",
      "        q50 = np.percentile(spl, 50)\n",
      "        q75 = np.percentile(spl, 75)\n",
      "        ax[i].hist(spl, bins=bins, orientation='horizontal')\n",
      "        #ax[i].plot([0, 100], [q25, q25], color='black')   \n",
      "        #ax[i].plot([0, 100], [q75, q75], color='black')        \n",
      "        ax[i].fill_between([0, 1000], [q25, q25], [q75, q75], color='black', alpha=0.1)\n",
      "        ax[i].plot([0, 1000], [q50, q50], color='black')\n",
      "        mid= int(max(y)/2)\n",
      "        #print i, mid, max(y)\n",
      "        ax[i].xaxis.set_ticks([0, mid])\n",
      "        ax[i].set_xlim([0, max(y) + 2])\n",
      "        \n",
      "    ax[0].yaxis.set_tick_params(labelsize=label_size)\n",
      "    ax[-1].yaxis.set_tick_params(labelleft=False, labelright=True, labelsize=label_size)\n",
      "    ax[0].set_xlabel('counts')\n",
      "    ax[0].set_ylabel('speed (pxl/s)')\n",
      "    ax[-1].set_ylabel('speed (pxl/s)')\n",
      "    ax[-1].yaxis.set_label_position(\"right\")\n",
      "    plt.savefig('node-speed-hist-{n}.png'.format(n=node))\n",
      "    plt.show()\n",
      "\n",
      "    \n",
      "\n",
      "\n",
      "    ########### speed plot ###########\n",
      "    fig, ax = plt.subplots(figsize=(8, 3))\n",
      "    for i in [10, 20, 30, 40,  50]:\n",
      "        xpos = i\n",
      "        ax.plot([xpos,xpos],[0,max(s)], color='black', alpha=0.5)    \n",
      "    ax.scatter(np.array(ts)/60, s, marker='.', c=scaled_speed, edgecolor='none', lw=1, cmap=cmap)\n",
      "\n",
      "    ax.set_ylabel('speed (pxl/s)')\n",
      "    ax.set_xlabel('time (min)')\n",
      "    ax.set_xlim([0, 60])\n",
      "    ax.set_ylim([0,max(s)])\n",
      "    ax.set_xticks([0, 5, 10, 15, 20, 25, 30, 35, 40, 45, 50, 55])\n",
      "    plt.savefig('node-speed-{n}.png'.format(n=node))\n",
      "    plt.show()\n",
      "    \n",
      "print 'cleaned data'\n",
      "fig5_a(nodes[0], experiment, graph2)"
     ],
     "language": "python",
     "metadata": {},
     "outputs": []
    }
   ],
   "metadata": {}
  }
 ]
}