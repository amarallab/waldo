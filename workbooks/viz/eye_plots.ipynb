{
 "cells": [
  {
   "cell_type": "markdown",
   "metadata": {},
   "source": [
    "This notebook is an old version of \n",
    "Flag for deletion."
   ]
  },
  {
   "cell_type": "code",
   "execution_count": null,
   "metadata": {
    "collapsed": false
   },
   "outputs": [],
   "source": [
    "%load_ext autoreload\n",
    "%autoreload 2\n",
    "%matplotlib inline"
   ]
  },
  {
   "cell_type": "code",
   "execution_count": null,
   "metadata": {
    "collapsed": false
   },
   "outputs": [],
   "source": [
    "from __future__ import division\n",
    "import os\n",
    "import six\n",
    "import sys\n",
    "sys.path.append('..'); import pathcustomize, about\n",
    "import pathcustomize, about\n",
    "about.about()\n",
    "\n",
    "import pickle\n",
    "\n",
    "import math\n",
    "import pandas as pd\n",
    "from scipy import stats\n",
    "import scipy.interpolate as interpolate\n",
    "import scipy.signal as ss\n",
    "\n",
    "\n",
    "import matplotlib\n",
    "from mpl_toolkits.mplot3d import Axes3D\n",
    "import matplotlib.gridspec as gridspec\n",
    "from mpltools import style\n",
    "from mpltools import layout\n",
    "style.use('ggplot')\n",
    "\n",
    "import waldo\n",
    "from waldo import wio\n",
    "from waldo import viz\n",
    "import waldo.metrics.report_card as report_card\n",
    "import waldo.metrics.step_simulation as ssim\n",
    "import waldo.viz.eye_plots as ep\n",
    "\n",
    "#from waldo.metrics.report_card import compound_bl_filter"
   ]
  },
  {
   "cell_type": "code",
   "execution_count": null,
   "metadata": {
    "collapsed": false
   },
   "outputs": [],
   "source": [
    "### small plates\n",
    "# N = 15\n",
    "ex_id = '20141017_113435'\n",
    "ex_id = '20141017_113439'\n",
    "ex_id = '20141017_123722'\n",
    "ex_id = '20141017_123725'\n",
    "# N = 25\n",
    "ex_id = '20141017_134720'\n",
    "ex_id = '20141017_134724'\n",
    "#ex_id = '20141017_150959'\n",
    "#ex_id = '20141017_151002'\n",
    "\n",
    "#### big plates\n",
    "#ex_id = '20130614_120518'\n",
    "#ex_id = '20130318_131111'\n",
    "#ex_id = '20130702_135704' # testset\n",
    "#ex_id = '20130702_135652'\n",
    "#ex_id = '20130414_140704'\n",
    "#ex_id = '20130410_165326'\n"
   ]
  },
  {
   "cell_type": "code",
   "execution_count": null,
   "metadata": {
    "collapsed": false
   },
   "outputs": [],
   "source": [
    "experiment = wio.Experiment(experiment_id=ex_id)\n",
    "prep_data = experiment.prepdata\n",
    "graph = experiment.graph.copy()"
   ]
  },
  {
   "cell_type": "code",
   "execution_count": null,
   "metadata": {
    "collapsed": false
   },
   "outputs": [],
   "source": [
    "graph2, rc = report_card.iterative_solver(experiment, graph.copy())"
   ]
  },
  {
   "cell_type": "code",
   "execution_count": null,
   "metadata": {
    "collapsed": false
   },
   "outputs": [],
   "source": [
    "step_min_move = 1\n",
    "\n",
    "raw_moving_nodes =  [int(i) for i in graph.compound_bl_filter(experiment, threshold=step_min_move)]\n",
    "raw_steps, raw_durations = report_card.calculate_duration_data_from_graph(experiment, graph, raw_moving_nodes)\n",
    "\n",
    "final_moving_nodes =  [int(i) for i in graph2.compound_bl_filter(experiment, threshold=step_min_move)]\n",
    "final_steps, final_durations = report_card.calculate_duration_data_from_graph(experiment, graph2, final_moving_nodes)"
   ]
  },
  {
   "cell_type": "markdown",
   "metadata": {},
   "source": [
    "### Final Eye Plot"
   ]
  },
  {
   "cell_type": "code",
   "execution_count": null,
   "metadata": {
    "collapsed": false
   },
   "outputs": [],
   "source": [
    "sim_steps = ssim.run_ideal_step_simulation(experiment, verbose=True)\n",
    "sim_steps2 = ssim.naive_simulation(experiment, verbose=True)\n",
    "sim_durations = list(sim_steps2['lifespan'])"
   ]
  },
  {
   "cell_type": "code",
   "execution_count": null,
   "metadata": {
    "collapsed": false
   },
   "outputs": [],
   "source": [
    "fig, ax = plt.subplots()\n",
    "\n",
    "short_lim = 5\n",
    "step_kwargs = {'short_lim':short_lim, 'front_back_margin':10}\n",
    "\n",
    "ymax = len(final_steps[final_steps['lifespan'] > short_lim])\n",
    "\n",
    "legend_props = ep.eye_plot(ax, final_steps, \n",
    "                           color=5, label='final',\n",
    "                            ymax=ymax, **step_kwargs)\n",
    "\n",
    "\n",
    "ax.set_ylabel('track number')\n",
    "ax.set_xlabel('existence (min)')\n",
    "\n",
    "ep.add_simulation_lines(ax, raw_steps, ymax=ymax, labels=['raw', ''], color='red')\n",
    "ep.add_simulation_lines(ax, sim_steps2, ymax=ymax, labels=['simulated', ''], color='black')\n",
    "\n",
    "ax.legend(**legend_props)\n",
    "plt.savefig('final-eye-{eid}.png'.format(eid=ex_id))\n",
    "plt.show()"
   ]
  },
  {
   "cell_type": "markdown",
   "metadata": {},
   "source": [
    "### Fnial Duration Histogram"
   ]
  },
  {
   "cell_type": "code",
   "execution_count": null,
   "metadata": {
    "collapsed": false
   },
   "outputs": [],
   "source": [
    "fig, ax = plt.subplots()\n",
    "\n",
    "bins = np.arange(10, 61, 5) #np.linspace(0, np.percentile(s, 95), n_bins)\n",
    "#raw, be = np.histogram(raw_durations, bins=bins)\n",
    "#final, be = np.histogram(final_durations, bins=bins)\n",
    "sim, be = np.histogram(sim_durations, bins=bins)\n",
    "\n",
    "print sim\n",
    "print be\n",
    "print len(sim)\n",
    "sim = list(sim)\n",
    "sim = [sim[0]] + sim \n",
    "ax.hist(raw_durations, bins=bins, alpha=0.5, label='raw')\n",
    "ax.hist(final_durations, bins=bins, alpha=0.5, label='final')\n",
    "#ax.hist(sim_durations, bins=bins, alpha=0.5)\n",
    "ax.plot([0,0], [0,0]) #, label='final', drawstyle='steps')\n",
    "print len(sim), len(bins)\n",
    "ax.plot(bins, sim, drawstyle='steps', label='simulation')\n",
    "ax.set_xlabel('duration of tracks (min)')\n",
    "ax.set_ylabel('track counts')\n",
    "ax.set_xlim([10, 60])\n",
    "ax.legend()\n",
    "plt.savefig('final-hist-{eid}.png'.format(eid=ex_id))\n",
    "plt.show()"
   ]
  },
  {
   "cell_type": "code",
   "execution_count": null,
   "metadata": {
    "collapsed": false
   },
   "outputs": [],
   "source": [
    "fig, ax = plt.subplots()\n",
    "\n",
    "bins = np.arange(30, 61, 5) #np.linspace(0, np.percentile(s, 95), n_bins)\n",
    "#raw, be = np.histogram(raw_durations, bins=bins)\n",
    "#final, be = np.histogram(final_durations, bins=bins)\n",
    "sim, be = np.histogram(sim_durations, bins=bins)\n",
    "\n",
    "print sim\n",
    "print be\n",
    "print len(sim)\n",
    "sim = list(sim)\n",
    "sim = [sim[0]] + sim \n",
    "#print len(raw), len(bins[:-1])\n",
    "#print raw\n",
    "#ax.plot(be[:-1], raw, label='raw', drawstyle='steps')\n",
    "#ax.plot(be[:-1], final, label='final', drawstyle='steps')\n",
    "ax.hist(raw_durations, bins=bins, alpha=0.5)\n",
    "ax.hist(final_durations, bins=bins, alpha=0.5)\n",
    "#ax.hist(sim_durations, bins=bins, alpha=0.5)\n",
    "ax.plot([0,0], [0,0]) #, label='final', drawstyle='steps')\n",
    "print len(sim), len(bins)\n",
    "ax.plot(bins, sim, drawstyle='steps')\n",
    "ax.set_xlabel('duration of tracks (min)')\n",
    "ax.set_ylabel('track counts')\n",
    "ax.set_xlim([30, 60])\n",
    "ax.legend()\n",
    "plt.show()"
   ]
  },
  {
   "cell_type": "code",
   "execution_count": null,
   "metadata": {
    "collapsed": false
   },
   "outputs": [],
   "source": []
  }
 ],
 "metadata": {
  "kernelspec": {
   "display_name": "Python 3",
   "language": "python",
   "name": "python3"
  },
  "language_info": {
   "codemirror_mode": {
    "name": "ipython",
    "version": 3
   },
   "file_extension": ".py",
   "mimetype": "text/x-python",
   "name": "python",
   "nbconvert_exporter": "python",
   "pygments_lexer": "ipython3",
   "version": "3.4.1"
  }
 },
 "nbformat": 4,
 "nbformat_minor": 0
}
