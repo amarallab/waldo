{
 "metadata": {
  "name": "",
  "signature": "sha256:b2e7c7b550b40e2f6facaf1053127964f60fed9cdd5c9143ecbb9d1b5ecfcd51"
 },
 "nbformat": 3,
 "nbformat_minor": 0,
 "worksheets": [
  {
   "cells": [
    {
     "cell_type": "heading",
     "level": 1,
     "metadata": {},
     "source": [
      "Timeline View"
     ]
    },
    {
     "cell_type": "code",
     "collapsed": false,
     "input": [
      "%load_ext autoreload\n",
      "%autoreload 2\n",
      "%matplotlib inline"
     ],
     "language": "python",
     "metadata": {},
     "outputs": [],
     "prompt_number": 1
    },
    {
     "cell_type": "code",
     "collapsed": false,
     "input": [
      "from __future__ import print_function, absolute_import, division\n",
      "import sys, six; from six.moves import (zip, filter, map, reduce, input, range)\n",
      "sys.path.append('..'); import pathcustomize, about\n",
      "\n",
      "import pickle\n",
      "\n",
      "import networkx as nx\n",
      "\n",
      "import wio\n",
      "import collider\n",
      "#import collider.viz\n",
      "#import taper"
     ],
     "language": "python",
     "metadata": {},
     "outputs": [],
     "prompt_number": 3
    },
    {
     "cell_type": "heading",
     "level": 2,
     "metadata": {},
     "source": [
      "Graph Generation"
     ]
    },
    {
     "cell_type": "code",
     "collapsed": false,
     "input": [
      "#ex_id = '20130614_120518'\n",
      "#ex_id = '20130318_131111'\n",
      "#ex_id = '20130414_140704'\n",
      "ex_id = '20130702_135704' # many pics\n",
      "#ex_id = '20130702_135652' # many pics\n",
      "\n",
      "experiment = wio.Experiment(experiment_id=ex_id)\n",
      "graph = experiment.graph.copy()"
     ],
     "language": "python",
     "metadata": {},
     "outputs": [],
     "prompt_number": 4
    },
    {
     "cell_type": "code",
     "collapsed": false,
     "input": [
      "collider.remove_nodes_outside_roi(graph, experiment)\n",
      "collider.remove_single_descendents(graph)\n",
      "collider.remove_fission_fusion(graph)\n",
      "collider.remove_fission_fusion_rel(graph, split_rel_time=0.5)\n",
      "collider.remove_offshoots(graph, threshold=20)\n",
      "collider.remove_single_descendents(graph)\n",
      "len(graph)"
     ],
     "language": "python",
     "metadata": {},
     "outputs": [
      {
       "output_type": "stream",
       "stream": "stderr",
       "text": [
        "WARNING: 1 blobs with lifespans > 20 min\n"
       ]
      },
      {
       "output_type": "stream",
       "stream": "stderr",
       "text": [
        "{48089: 7}\n"
       ]
      },
      {
       "metadata": {},
       "output_type": "pyout",
       "prompt_number": 5,
       "text": [
        "6016"
       ]
      }
     ],
     "prompt_number": 5
    },
    {
     "cell_type": "code",
     "collapsed": false,
     "input": [
      "giant_nodes = sorted(nx.connected_component_subgraphs(graph.to_undirected()), key=len, reverse=True)[0]"
     ],
     "language": "python",
     "metadata": {},
     "outputs": [],
     "prompt_number": 7
    },
    {
     "cell_type": "code",
     "collapsed": false,
     "input": [
      "subg = graph.subgraph(giant_nodes)\n",
      "data = {'ex_id': ex_id, 'graph': subg} \n",
      "with open('graph.pkl', 'wb') as f:\n",
      "    pickle.dump(data, f)"
     ],
     "language": "python",
     "metadata": {},
     "outputs": [],
     "prompt_number": 8
    },
    {
     "cell_type": "heading",
     "level": 2,
     "metadata": {},
     "source": [
      "Rendering"
     ]
    },
    {
     "cell_type": "code",
     "collapsed": false,
     "input": [
      "with open('graph.pkl', 'rb') as f:\n",
      "    loaded = pickle.load(f)\n",
      "\n",
      "experiment_r = wio.Experiment(experiment_id=loaded['ex_id'])\n",
      "graph_r = loaded['graph']"
     ],
     "language": "python",
     "metadata": {},
     "outputs": [],
     "prompt_number": 9
    },
    {
     "cell_type": "code",
     "collapsed": false,
     "input": [
      "for node in graph_r:\n",
      "    collider.consolidate_node_data(graph_r, experiment_r, node)\n",
      "    break"
     ],
     "language": "python",
     "metadata": {},
     "outputs": [],
     "prompt_number": 10
    },
    {
     "cell_type": "heading",
     "level": 2,
     "metadata": {},
     "source": [
      "Viewing"
     ]
    },
    {
     "cell_type": "code",
     "collapsed": false,
     "input": [],
     "language": "python",
     "metadata": {},
     "outputs": []
    }
   ],
   "metadata": {}
  }
 ]
}