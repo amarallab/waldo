{
 "metadata": {
  "name": "",
  "signature": "sha256:0245b7135a48e721bf505b4830d030743b08fd6f29ae99eab16f64356cba4afa"
 },
 "nbformat": 3,
 "nbformat_minor": 0,
 "worksheets": [
  {
   "cells": [
    {
     "cell_type": "code",
     "collapsed": false,
     "input": [
      "%load_ext autoreload\n",
      "%autoreload 2\n",
      "%matplotlib inline"
     ],
     "language": "python",
     "metadata": {},
     "outputs": [],
     "prompt_number": 4
    },
    {
     "cell_type": "code",
     "collapsed": false,
     "input": [
      "from __future__ import division\n",
      "import os\n",
      "import six\n",
      "import sys\n",
      "sys.path.append('..'); import pathcustomize, about\n",
      "import pathcustomize, about\n",
      "about.about()\n",
      "\n",
      "import pickle\n",
      "\n",
      "import math\n",
      "import pandas as pd\n",
      "from scipy import stats\n",
      "import scipy.interpolate as interpolate\n",
      "import scipy.signal as ss\n",
      "\n",
      "\n",
      "import matplotlib\n",
      "from mpl_toolkits.mplot3d import Axes3D\n",
      "import matplotlib.gridspec as gridspec\n",
      "from mpltools import style\n",
      "from mpltools import layout\n",
      "style.use('ggplot')\n",
      "\n",
      "import waldo\n",
      "from waldo import wio\n",
      "from waldo import viz\n",
      "import waldo.metrics.report_card as report_card\n",
      "#from waldo.metrics.report_card import compound_bl_filter"
     ],
     "language": "python",
     "metadata": {},
     "outputs": [
      {
       "output_type": "stream",
       "stream": "stdout",
       "text": [
        "Python 2.7.6 (default, Mar 22 2014 22:59:56) [GCC 4.8.2] on linux2, Host: cody\n"
       ]
      }
     ],
     "prompt_number": 91
    },
    {
     "cell_type": "code",
     "collapsed": false,
     "input": [],
     "language": "python",
     "metadata": {},
     "outputs": [],
     "prompt_number": 19
    },
    {
     "cell_type": "code",
     "collapsed": false,
     "input": [
      "STOCK_METHODS = [\n",
      "    'boxcar', 'triang', 'blackman', 'hamming', 'hann', 'bartlett',\n",
      "    'flattop', 'parzen', 'bohman', 'blackmanharris', 'nuttall', 'barthann',\n",
      "    'kaiser', 'gaussian', 'general_gaussian', 'slepian', 'chebwin'\n",
      "]\n",
      "\n",
      "def smooth(method, series, winlen, *params):\n",
      "\n",
      "    try:\n",
      "        winlen = int(winlen) // 2 * 2 + 1 # make it odd, rounding up\n",
      "        half_win = winlen // 2\n",
      "        wintype = (method,) + tuple(int(x) for x in params)\n",
      "        fir_win = ss.get_window(wintype, winlen)\n",
      "    except ValueError:\n",
      "        raise ValueError('Unrecognized smoothing type')\n",
      "\n",
      "    b = fir_win / sum(fir_win)\n",
      "    a = [1]\n",
      "    #zi = ss.lfiltic(b, a)\n",
      "    #zi = series[0] * np.ones(len(b) - 1)\n",
      "    return ss.lfilter(b, a, series)[winlen-1:]\n",
      "\n",
      "def one_second_timesteps(t):\n",
      "    #print t[0]\n",
      "    t0 = math.ceil(t[0])\n",
      "    tN = math.floor(t[-1])\n",
      "    return np.arange(t0, tN)\n",
      "\n",
      "def interpolate_to_1s(t, x):\n",
      "    eq_times = one_second_timesteps(t) #(t[0], t[-1], dt=dt, ndigits=0)\n",
      "    interp_x = interpolate.interp1d(t, x, kind='linear')\n",
      "    x_interp = interp_x(eq_times)\n",
      "    return eq_times, x_interp\n",
      "\n",
      "def get_speed(t, x, y):\n",
      "    dt = np.diff(t)\n",
      "    dx = np.diff(x)\n",
      "    dy = np.diff(y)\n",
      "    #print len(dt), len(dx), len(dy)\n",
      "    dist = np.sqrt(dx**2 + dy**2)\n",
      "    s = dist/dt\n",
      "    return s\n",
      "\n",
      "def clean_speed(t, x, y):\n",
      "    t = np.array(t)\n",
      "    x = np.array(x)\n",
      "    y = np.array(y)\n",
      "    xs = smooth('boxcar', x, 10)\n",
      "    ys = smooth('boxcar', y, 10)\n",
      "    #print 'smoothed', len(xs), len(ys)\n",
      "    ti, xi = interpolate_to_1s(t, x)\n",
      "    ti, yi = interpolate_to_1s(t, y)\n",
      "    #print 'interp', len(ti), len(xi), len(yi)\n",
      "    s2 = get_speed(ti, xi, yi)\n",
      "    #print 'speeds', len(s2)\n",
      "    return ti[1:], s2\n",
      "\n",
      "def speed_me(node, experiment, graph):\n",
      "    node_data = graph.consolidate_node_data(experiment=experiment, node=node)\n",
      "    node_data.reset_index(inplace=True)\n",
      "    nd = curate_data(node_data)\n",
      "    t, x, y = nd['time'], nd['x'], nd['y'] \n",
      "    speed = get_speed(t, x, y)\n",
      "    t2, s2 = clean_speed(np.array(t), np.array(x), np.array(y))   \n",
      "    return t2, s2"
     ],
     "language": "python",
     "metadata": {},
     "outputs": [],
     "prompt_number": 32
    },
    {
     "cell_type": "code",
     "collapsed": false,
     "input": [
      "# N = 15\n",
      "ex_id = '20141017_113435'\n",
      "ex_id = '20141017_113439'\n",
      "ex_id = '20141017_123722'\n",
      "ex_id = '20141017_123725'\n",
      "# N = 25\n",
      "ex_id = '20141017_134720'\n",
      "ex_id = '20141017_134724'\n",
      "ex_id = '20141017_150959'\n",
      "ex_id = '20141017_151002'"
     ],
     "language": "python",
     "metadata": {},
     "outputs": [],
     "prompt_number": 9
    },
    {
     "cell_type": "code",
     "collapsed": false,
     "input": [
      "#ex_id = '20130318_131111'\n",
      "#ex_id = '20130614_120518'\n",
      "ex_id = '20130702_135704'\n",
      "experiment = wio.Experiment(experiment_id=ex_id)\n",
      "graph = experiment.graph.copy()\n",
      "\n",
      "waldo.collider.remove_nodes_outside_roi(graph, experiment)\n",
      "waldo.collider.remove_blank_nodes(graph, experiment)\n",
      "\n",
      "moving = graph.compound_bl_filter(experiment, threshold=0.5)\n",
      "print len(moving), 'moving'"
     ],
     "language": "python",
     "metadata": {},
     "outputs": [
      {
       "output_type": "stream",
       "stream": "stdout",
       "text": [
        "489 moving\n"
       ]
      }
     ],
     "prompt_number": 10
    },
    {
     "cell_type": "code",
     "collapsed": false,
     "input": [
      "print 'looking for graph pickle'\n",
      "p = './../../data/chore/{eid}/graph.pickle'.format(eid=ex_id)\n",
      "print os.path.abspath(p)\n",
      "if os.path.exists(p):\n",
      "    graph2 = pickle.load(open(p, 'r'))\n",
      "else:\n",
      "    print 'pickle not found, running report card'\n",
      "    graph2, rc = report_card.collision_iteration2(experiment, graph.copy())\n",
      "    pickle.dump(graph2, open(p, 'w'))"
     ],
     "language": "python",
     "metadata": {},
     "outputs": [
      {
       "output_type": "stream",
       "stream": "stderr",
       "text": [
        "Iteration 1\n"
       ]
      },
      {
       "output_type": "stream",
       "stream": "stderr",
       "text": [
        "Validation pass\n"
       ]
      },
      {
       "output_type": "stream",
       "stream": "stdout",
       "text": [
        "looking for graph pickle\n",
        "/home/visitors/peterwinter/codes/waldo/data/chore/20130702_135704/graph.pickle\n",
        "pickle not found, running report card\n",
        "collisions from bbox"
       ]
      },
      {
       "output_type": "stream",
       "stream": "stdout",
       "text": [
        "\n",
        "\t325 suspects. trying 0 again"
       ]
      },
      {
       "output_type": "stream",
       "stream": "stdout",
       "text": [
        "\n",
        "Failed to find node data"
       ]
      },
      {
       "output_type": "stream",
       "stream": "stdout",
       "text": [
        "\n",
        "\t1 suspects. trying 1 again"
       ]
      },
      {
       "output_type": "stream",
       "stream": "stdout",
       "text": [
        "\n",
        "Failed to find node data"
       ]
      },
      {
       "output_type": "stream",
       "stream": "stderr",
       "text": [
        "Validation pass\n"
       ]
      },
      {
       "output_type": "stream",
       "stream": "stderr",
       "text": [
        "Collapse Group\n"
       ]
      },
      {
       "output_type": "stream",
       "stream": "stderr",
       "text": [
        "Validation pass\n"
       ]
      },
      {
       "output_type": "stream",
       "stream": "stderr",
       "text": [
        "Remove Single Descendents\n"
       ]
      },
      {
       "output_type": "stream",
       "stream": "stderr",
       "text": [
        "Validation pass\n"
       ]
      },
      {
       "output_type": "stream",
       "stream": "stderr",
       "text": [
        "Remove Fission-Fusion\n"
       ]
      },
      {
       "output_type": "stream",
       "stream": "stderr",
       "text": [
        "Validation pass\n"
       ]
      },
      {
       "output_type": "stream",
       "stream": "stderr",
       "text": [
        "Remove Fission-Fusion (relative)\n"
       ]
      },
      {
       "output_type": "stream",
       "stream": "stderr",
       "text": [
        "Validation pass\n"
       ]
      },
      {
       "output_type": "stream",
       "stream": "stderr",
       "text": [
        "Remove Offshoots\n"
       ]
      },
      {
       "output_type": "stream",
       "stream": "stderr",
       "text": [
        "Validation pass\n"
       ]
      },
      {
       "output_type": "stream",
       "stream": "stderr",
       "text": [
        "Remove Single Descendents\n"
       ]
      },
      {
       "output_type": "stream",
       "stream": "stderr",
       "text": [
        "Validation pass\n"
       ]
      },
      {
       "output_type": "stream",
       "stream": "stderr",
       "text": [
        "Patch Gaps\n"
       ]
      },
      {
       "output_type": "stream",
       "stream": "stdout",
       "text": [
        "\n",
        "\t228 resolved 70%\n",
        "\t1 missing data 0%\n",
        "\t0 missing data, no overlap 0%\n",
        "\t96 full data, no  overlap 29%\n",
        "256"
       ]
      },
      {
       "output_type": "stream",
       "stream": "stderr",
       "text": [
        "Validation pass\n"
       ]
      },
      {
       "output_type": "stream",
       "stream": "stdout",
       "text": [
        " short gaps\n",
        "0 standard gaps\n",
        "0 long gaps\n",
        "0"
       ]
      },
      {
       "output_type": "stream",
       "stream": "stderr",
       "text": [
        "Validation pass\n"
       ]
      },
      {
       "output_type": "stream",
       "stream": "stderr",
       "text": [
        "Iteration 2\n"
       ]
      },
      {
       "output_type": "stream",
       "stream": "stderr",
       "text": [
        "Validation pass\n"
       ]
      },
      {
       "output_type": "stream",
       "stream": "stdout",
       "text": [
        " short gaps\n",
        "0 standard gaps\n",
        "0 long gaps\n",
        "collisions from bbox"
       ]
      },
      {
       "output_type": "stream",
       "stream": "stdout",
       "text": [
        "\n",
        "\t96 suspects. trying 0 again\n",
        "Failed to find node data"
       ]
      },
      {
       "output_type": "stream",
       "stream": "stdout",
       "text": [
        "\n",
        "\t1 suspects. trying 1 again"
       ]
      },
      {
       "output_type": "stream",
       "stream": "stdout",
       "text": [
        "\n",
        "Failed to find node data"
       ]
      },
      {
       "output_type": "stream",
       "stream": "stderr",
       "text": [
        "Validation pass\n"
       ]
      },
      {
       "output_type": "stream",
       "stream": "stderr",
       "text": [
        "Collapse Group\n"
       ]
      },
      {
       "output_type": "stream",
       "stream": "stderr",
       "text": [
        "Validation pass\n"
       ]
      },
      {
       "output_type": "stream",
       "stream": "stderr",
       "text": [
        "Remove Single Descendents\n"
       ]
      },
      {
       "output_type": "stream",
       "stream": "stderr",
       "text": [
        "Validation pass\n"
       ]
      },
      {
       "output_type": "stream",
       "stream": "stderr",
       "text": [
        "Remove Fission-Fusion\n"
       ]
      },
      {
       "output_type": "stream",
       "stream": "stderr",
       "text": [
        "Validation pass\n"
       ]
      },
      {
       "output_type": "stream",
       "stream": "stderr",
       "text": [
        "Remove Fission-Fusion (relative)\n"
       ]
      },
      {
       "output_type": "stream",
       "stream": "stderr",
       "text": [
        "Validation pass\n"
       ]
      },
      {
       "output_type": "stream",
       "stream": "stderr",
       "text": [
        "Remove Offshoots\n"
       ]
      },
      {
       "output_type": "stream",
       "stream": "stderr",
       "text": [
        "Validation pass\n"
       ]
      },
      {
       "output_type": "stream",
       "stream": "stderr",
       "text": [
        "Remove Single Descendents\n"
       ]
      },
      {
       "output_type": "stream",
       "stream": "stderr",
       "text": [
        "Validation pass\n"
       ]
      },
      {
       "output_type": "stream",
       "stream": "stderr",
       "text": [
        "Patch Gaps\n"
       ]
      },
      {
       "output_type": "stream",
       "stream": "stdout",
       "text": [
        "\n",
        "\t86 resolved 89%\n",
        "\t1 missing data 1%\n",
        "\t0 missing data, no overlap 0%\n",
        "\t9 full data, no  overlap 9%\n",
        "0"
       ]
      },
      {
       "output_type": "stream",
       "stream": "stderr",
       "text": [
        "Validation pass\n"
       ]
      },
      {
       "output_type": "stream",
       "stream": "stdout",
       "text": [
        " short gaps\n",
        "0 standard gaps\n",
        "0 long gaps\n",
        "0"
       ]
      },
      {
       "output_type": "stream",
       "stream": "stderr",
       "text": [
        "Validation pass\n"
       ]
      },
      {
       "output_type": "stream",
       "stream": "stderr",
       "text": [
        "Iteration 3\n"
       ]
      },
      {
       "output_type": "stream",
       "stream": "stderr",
       "text": [
        "Validation pass\n"
       ]
      },
      {
       "output_type": "stream",
       "stream": "stdout",
       "text": [
        " short gaps\n",
        "0 standard gaps\n",
        "0 long gaps\n",
        "collisions from bbox"
       ]
      },
      {
       "output_type": "stream",
       "stream": "stdout",
       "text": [
        "\n",
        "\t15 suspects. trying 0 again\n",
        "Failed to find node data"
       ]
      },
      {
       "output_type": "stream",
       "stream": "stdout",
       "text": [
        "\n",
        "\t1 suspects. trying 1 again"
       ]
      },
      {
       "output_type": "stream",
       "stream": "stdout",
       "text": [
        "\n",
        "Failed to find node data"
       ]
      },
      {
       "output_type": "stream",
       "stream": "stderr",
       "text": [
        "Validation pass\n"
       ]
      },
      {
       "output_type": "stream",
       "stream": "stderr",
       "text": [
        "Collapse Group\n"
       ]
      },
      {
       "output_type": "stream",
       "stream": "stderr",
       "text": [
        "Validation pass\n"
       ]
      },
      {
       "output_type": "stream",
       "stream": "stderr",
       "text": [
        "Remove Single Descendents\n"
       ]
      },
      {
       "output_type": "stream",
       "stream": "stderr",
       "text": [
        "Validation pass\n"
       ]
      },
      {
       "output_type": "stream",
       "stream": "stderr",
       "text": [
        "Remove Fission-Fusion\n"
       ]
      },
      {
       "output_type": "stream",
       "stream": "stderr",
       "text": [
        "Validation pass\n"
       ]
      },
      {
       "output_type": "stream",
       "stream": "stderr",
       "text": [
        "Remove Fission-Fusion (relative)\n"
       ]
      },
      {
       "output_type": "stream",
       "stream": "stderr",
       "text": [
        "Validation pass\n"
       ]
      },
      {
       "output_type": "stream",
       "stream": "stderr",
       "text": [
        "Remove Offshoots\n"
       ]
      },
      {
       "output_type": "stream",
       "stream": "stderr",
       "text": [
        "Validation pass\n"
       ]
      },
      {
       "output_type": "stream",
       "stream": "stderr",
       "text": [
        "Remove Single Descendents\n"
       ]
      },
      {
       "output_type": "stream",
       "stream": "stderr",
       "text": [
        "Validation pass\n"
       ]
      },
      {
       "output_type": "stream",
       "stream": "stderr",
       "text": [
        "Patch Gaps\n"
       ]
      },
      {
       "output_type": "stream",
       "stream": "stdout",
       "text": [
        "\n",
        "\t6 resolved 40%\n",
        "\t1 missing data 6%\n",
        "\t0 missing data, no overlap 0%\n",
        "\t8 full data, no  overlap 53%\n",
        "0"
       ]
      },
      {
       "output_type": "stream",
       "stream": "stderr",
       "text": [
        "Validation pass\n"
       ]
      },
      {
       "output_type": "stream",
       "stream": "stdout",
       "text": [
        " short gaps\n",
        "0 standard gaps\n",
        "0 long gaps\n",
        "0"
       ]
      },
      {
       "output_type": "stream",
       "stream": "stderr",
       "text": [
        "Validation pass\n"
       ]
      },
      {
       "output_type": "stream",
       "stream": "stderr",
       "text": [
        "Iteration 4\n"
       ]
      },
      {
       "output_type": "stream",
       "stream": "stderr",
       "text": [
        "Validation pass\n"
       ]
      },
      {
       "output_type": "stream",
       "stream": "stdout",
       "text": [
        " short gaps\n",
        "0 standard gaps\n",
        "0 long gaps\n",
        "collisions from bbox"
       ]
      },
      {
       "output_type": "stream",
       "stream": "stdout",
       "text": [
        "\n",
        "\t10 suspects. trying 0 again\n",
        "Failed to find node data"
       ]
      },
      {
       "output_type": "stream",
       "stream": "stdout",
       "text": [
        "\n",
        "\t1 suspects. trying 1 again"
       ]
      },
      {
       "output_type": "stream",
       "stream": "stdout",
       "text": [
        "\n",
        "Failed to find node data"
       ]
      },
      {
       "output_type": "stream",
       "stream": "stderr",
       "text": [
        "Validation pass\n"
       ]
      },
      {
       "output_type": "stream",
       "stream": "stderr",
       "text": [
        "Collapse Group\n"
       ]
      },
      {
       "output_type": "stream",
       "stream": "stderr",
       "text": [
        "Validation pass\n"
       ]
      },
      {
       "output_type": "stream",
       "stream": "stderr",
       "text": [
        "Remove Single Descendents\n"
       ]
      },
      {
       "output_type": "stream",
       "stream": "stderr",
       "text": [
        "Validation pass\n"
       ]
      },
      {
       "output_type": "stream",
       "stream": "stderr",
       "text": [
        "Remove Fission-Fusion\n"
       ]
      },
      {
       "output_type": "stream",
       "stream": "stderr",
       "text": [
        "Validation pass\n"
       ]
      },
      {
       "output_type": "stream",
       "stream": "stderr",
       "text": [
        "Remove Fission-Fusion (relative)\n"
       ]
      },
      {
       "output_type": "stream",
       "stream": "stderr",
       "text": [
        "Validation pass\n"
       ]
      },
      {
       "output_type": "stream",
       "stream": "stderr",
       "text": [
        "Remove Offshoots\n"
       ]
      },
      {
       "output_type": "stream",
       "stream": "stderr",
       "text": [
        "Validation pass\n"
       ]
      },
      {
       "output_type": "stream",
       "stream": "stderr",
       "text": [
        "Remove Single Descendents\n"
       ]
      },
      {
       "output_type": "stream",
       "stream": "stderr",
       "text": [
        "Validation pass\n"
       ]
      },
      {
       "output_type": "stream",
       "stream": "stderr",
       "text": [
        "Patch Gaps\n"
       ]
      },
      {
       "output_type": "stream",
       "stream": "stdout",
       "text": [
        "\n",
        "\t1 resolved 10%\n",
        "\t1 missing data 10%\n",
        "\t0 missing data, no overlap 0%\n",
        "\t8 full data, no  overlap 80%\n",
        "0"
       ]
      },
      {
       "output_type": "stream",
       "stream": "stderr",
       "text": [
        "Validation pass\n"
       ]
      },
      {
       "output_type": "stream",
       "stream": "stdout",
       "text": [
        " short gaps\n",
        "0 standard gaps\n",
        "0 long gaps\n",
        "0"
       ]
      },
      {
       "output_type": "stream",
       "stream": "stderr",
       "text": [
        "Validation pass\n"
       ]
      },
      {
       "output_type": "stream",
       "stream": "stderr",
       "text": [
        "Iteration 5\n"
       ]
      },
      {
       "output_type": "stream",
       "stream": "stderr",
       "text": [
        "Validation pass\n"
       ]
      },
      {
       "output_type": "stream",
       "stream": "stdout",
       "text": [
        " short gaps\n",
        "0 standard gaps\n",
        "0 long gaps\n",
        "collisions from bbox"
       ]
      },
      {
       "output_type": "stream",
       "stream": "stdout",
       "text": [
        "\n",
        "\t9 suspects. trying 0 again\n",
        "Failed to find node data"
       ]
      },
      {
       "output_type": "stream",
       "stream": "stdout",
       "text": [
        "\n",
        "\t0 resolved 0%"
       ]
      },
      {
       "output_type": "stream",
       "stream": "stderr",
       "text": [
        "Validation pass\n"
       ]
      },
      {
       "output_type": "stream",
       "stream": "stderr",
       "text": [
        "Collapse Group\n"
       ]
      },
      {
       "output_type": "stream",
       "stream": "stderr",
       "text": [
        "Validation pass\n"
       ]
      },
      {
       "output_type": "stream",
       "stream": "stderr",
       "text": [
        "Remove Single Descendents\n"
       ]
      },
      {
       "output_type": "stream",
       "stream": "stderr",
       "text": [
        "Validation pass\n"
       ]
      },
      {
       "output_type": "stream",
       "stream": "stderr",
       "text": [
        "Remove Fission-Fusion\n"
       ]
      },
      {
       "output_type": "stream",
       "stream": "stderr",
       "text": [
        "Validation pass\n"
       ]
      },
      {
       "output_type": "stream",
       "stream": "stderr",
       "text": [
        "Remove Fission-Fusion (relative)\n"
       ]
      },
      {
       "output_type": "stream",
       "stream": "stderr",
       "text": [
        "Validation pass\n"
       ]
      },
      {
       "output_type": "stream",
       "stream": "stderr",
       "text": [
        "Remove Offshoots\n"
       ]
      },
      {
       "output_type": "stream",
       "stream": "stderr",
       "text": [
        "Validation pass\n"
       ]
      },
      {
       "output_type": "stream",
       "stream": "stderr",
       "text": [
        "Remove Single Descendents\n"
       ]
      },
      {
       "output_type": "stream",
       "stream": "stderr",
       "text": [
        "Validation pass\n"
       ]
      },
      {
       "output_type": "stream",
       "stream": "stderr",
       "text": [
        "Patch Gaps\n"
       ]
      },
      {
       "output_type": "stream",
       "stream": "stdout",
       "text": [
        "\n",
        "\t1 missing data 11%\n",
        "\t0 missing data, no overlap 0%\n",
        "\t8 full data, no  overlap 88%\n",
        "0"
       ]
      },
      {
       "output_type": "stream",
       "stream": "stderr",
       "text": [
        "Validation pass\n"
       ]
      },
      {
       "output_type": "stream",
       "stream": "stdout",
       "text": [
        " short gaps\n",
        "0 standard gaps\n",
        "0 long gaps\n",
        "0"
       ]
      },
      {
       "output_type": "stream",
       "stream": "stderr",
       "text": [
        "Validation pass\n"
       ]
      },
      {
       "output_type": "stream",
       "stream": "stderr",
       "text": [
        "No change since last iteration, halting\n"
       ]
      },
      {
       "output_type": "stream",
       "stream": "stdout",
       "text": [
        " short gaps\n",
        "0 standard gaps\n",
        "0 long gaps\n",
        "                    step  total-nodes  isolated-nodes  duration-med  \\\n",
        "0                    raw         6113             501          0.00   \n",
        "1                    roi         6113             501          0.00   \n",
        "2                  blank         6050             440          0.00   \n",
        "3                 iter 0         6050             440          0.00   \n",
        "4       collisions (228)         5822             440          0.00   \n",
        "5               simplify          902             465         12.78   \n",
        "6   gaps w/missing (256)          902             190         12.78   \n",
        "7               gaps (0)          902             190         12.78   \n",
        "8                 iter 1          902             190         12.78   \n",
        "9        collisions (86)          816             190         13.53   \n",
        "10              simplify          508             274         14.59   \n",
        "11    gaps w/missing (0)          508             274         14.59   \n",
        "12              gaps (0)          508             274         14.59   \n",
        "13                iter 2          508             274         14.59   \n",
        "14        collisions (6)          502             274         14.25   \n",
        "15              simplify          490             280         13.75   \n",
        "16    gaps w/missing (0)          490             280         13.75   \n",
        "17              gaps (0)          490             280         13.75   \n",
        "18                iter 3          490             280         13.75   \n",
        "19        collisions (1)          489             280         13.80   \n",
        "20              simplify          487             280         13.70   \n",
        "21    gaps w/missing (0)          487             280         13.70   \n",
        "22              gaps (0)          487             280         13.70   \n",
        "23                iter 4          487             280         13.70   \n",
        "24        collisions (0)          487             280         13.70   \n",
        "25              simplify          487             280         13.70   \n",
        "26    gaps w/missing (0)          487             280         13.70   \n",
        "27              gaps (0)          487             280         13.70   \n",
        "\n",
        "    moving-nodes  \n",
        "0            237  \n",
        "1            237  \n",
        "2            237  \n",
        "3            237  \n",
        "4            237  \n",
        "5            226  \n",
        "6            226  \n",
        "7            226  \n",
        "8            226  \n",
        "9            217  \n",
        "10           154  \n",
        "11           154  \n",
        "12           154  \n",
        "13           154  \n",
        "14           152  \n",
        "15           149  \n",
        "16           149  \n",
        "17           149  \n",
        "18           149  \n",
        "19           149  \n",
        "20           147  \n",
        "21           147  \n",
        "22           147  \n",
        "23           147  \n",
        "24           147  \n",
        "25           147  \n",
        "26           147  \n",
        "27           147  \n",
        "\n",
        "[28 rows x 5 columns]"
       ]
      },
      {
       "output_type": "stream",
       "stream": "stdout",
       "text": [
        "\n",
        "                    step  total-nodes  >10min  >20min  >30min  >40min  >50min\n",
        "0                    raw         6113      70      28      12       5       1\n",
        "1                    roi         6113      70      28      12       5       1\n",
        "2                  blank         6050      70      28      12       5       1\n",
        "3                 iter 0         6050      70      28      12       5       1\n",
        "4       collisions (228)         5822      70      28      12       5       1\n",
        "5               simplify          902      70      35      15       6       2\n",
        "6   gaps w/missing (256)          902      70      35      15       6       2\n",
        "7               gaps (0)          902      70      35      15       6       2\n",
        "8                 iter 1          902      70      35      15       6       2\n",
        "9        collisions (86)          816      70      35      15       6       2\n",
        "10              simplify          508      69      46      29      20      12\n",
        "11    gaps w/missing (0)          508      69      46      29      20      12\n",
        "12              gaps (0)          508      69      46      29      20      12\n",
        "13                iter 2          508      69      46      29      20      12\n",
        "14        collisions (6)          502      69      46      29      20      12\n",
        "15              simplify          490      68      48      31      23      13\n",
        "16    gaps w/missing (0)          490      68      48      31      23      13\n",
        "17              gaps (0)          490      68      48      31      23      13\n",
        "18                iter 3          490      68      48      31      23      13\n",
        "19        collisions (1)          489      68      48      31      23      13\n",
        "20              simplify          487      67      49      31      23      13\n",
        "21    gaps w/missing (0)          487      67      49      31      23      13\n",
        "22              gaps (0)          487      67      49      31      23      13\n",
        "23                iter 4          487      67      49      31      23      13\n",
        "24        collisions (0)          487      67      49      31      23      13\n",
        "25              simplify          487      67      49      31      23      13\n",
        "26    gaps w/missing (0)          487      67      49      31      23      13\n",
        "27              gaps (0)          487      67      49      31      23      13\n",
        "\n",
        "[28 rows x 7 columns]\n",
        "                    step      wm_0min    wm_10min    wm_20min    wm_30min  \\\n",
        "0                    raw  1149.175117  599.368517  385.022733  237.756700   \n",
        "1                    roi  1149.175117  599.368517  385.022733  237.756700   \n",
        "2                  blank  1149.175117  599.368517  385.022733  237.756700   \n",
        "3                 iter 0  1149.175117  599.368517  385.022733  237.756700   \n",
        "4       collisions (228)  1125.652350  599.368517  385.022733  237.756700   \n",
        "5               simplify   966.343617  521.231417  479.204550  298.530333   \n",
        "6   gaps w/missing (256)   966.343617  521.231417  479.204550  298.530333   \n",
        "7               gaps (0)   966.343617  521.231417  479.204550  298.530333   \n",
        "8                 iter 1   966.343617  521.231417  479.204550  298.530333   \n",
        "9        collisions (86)   910.145317  521.231417  479.204550  298.530333   \n",
        "10              simplify   523.215667  309.705550  438.173733  302.862400   \n",
        "11    gaps w/missing (0)   523.215667  309.705550  438.173733  302.862400   \n",
        "12              gaps (0)   523.215667  309.705550  438.173733  302.862400   \n",
        "13                iter 2   523.215667  309.705550  438.173733  302.862400   \n",
        "14        collisions (6)   505.158000  309.705550  438.173733  302.862400   \n",
        "15              simplify   470.805583  269.326033  425.194700  272.158683   \n",
        "16    gaps w/missing (0)   470.805583  269.326033  425.194700  272.158683   \n",
        "17              gaps (0)   470.805583  269.326033  425.194700  272.158683   \n",
        "18                iter 3   470.805583  269.326033  425.194700  272.158683   \n",
        "19        collisions (1)   470.680567  269.326033  425.194700  272.158683   \n",
        "20              simplify   470.807200  242.240133  452.407233  272.158683   \n",
        "21    gaps w/missing (0)   470.807200  242.240133  452.407233  272.158683   \n",
        "22              gaps (0)   470.807200  242.240133  452.407233  272.158683   \n",
        "23                iter 4   470.807200  242.240133  452.407233  272.158683   \n",
        "24        collisions (0)   470.807200  242.240133  452.407233  272.158683   \n",
        "25              simplify   470.807200  242.240133  452.407233  272.158683   \n",
        "26    gaps w/missing (0)   470.807200  242.240133  452.407233  272.158683   \n",
        "27              gaps (0)   470.807200  242.240133  452.407233  272.158683   \n",
        "\n",
        "      wm_40min    wm_50min  \n",
        "0   183.308967   55.208983  \n",
        "1   183.308967   55.208983  \n",
        "2   183.308967   55.208983  \n",
        "3   183.308967   55.208983  \n",
        "4   183.308967   55.208983  \n",
        "5   176.218233  114.381350  \n",
        "6   176.218233  114.381350  \n",
        "7   176.218233  114.381350  \n",
        "8   176.218233  114.381350  \n",
        "9   176.218233  114.381350  \n",
        "10  343.849483  696.696667  \n",
        "11  343.849483  696.696667  \n",
        "12  343.849483  696.696667  \n",
        "13  343.849483  696.696667  \n",
        "14  343.849483  696.696667  \n",
        "15  437.414517  757.683450  \n",
        "16  437.414517  757.683450  \n",
        "17  437.414517  757.683450  \n",
        "18  437.414517  757.683450  \n",
        "19  437.414517  757.683450  \n",
        "20  437.414517  757.683450  \n",
        "21  437.414517  757.683450  \n",
        "22  437.414517  757.683450  \n",
        "23  437.414517  757.683450  \n",
        "24  437.414517  757.683450  \n",
        "25  437.414517  757.683450  \n",
        "26  437.414517  757.683450  \n",
        "27  437.414517  757.683450  \n",
        "\n",
        "[28 rows x 7 columns]\n",
        "84788"
       ]
      },
      {
       "output_type": "stream",
       "stream": "stdout",
       "text": [
        " blobs have terminal data\n",
        "487 nodes in graph\n",
        "482 overlap\n",
        "207 have more than 1 blob id in them\n",
        "          unknown  split  join  timing  on_edge  outside-roi\n",
        "lifespan                                                    \n",
        "1              43     50    41      24      155            0\n",
        "5               7     11    10      11       31            1\n",
        "10              1     11     4       3       13            1\n",
        "20              3      2     2       3        7            1\n",
        "61              3     12     2      13       17            2\n",
        "total          57     86    59      54      223            5\n",
        "\n",
        "[6 rows x 6 columns]"
       ]
      },
      {
       "output_type": "stream",
       "stream": "stdout",
       "text": [
        "\n",
        "          unknown  split  join  timing  on_edge  outside-roi\n",
        "lifespan                                                    \n",
        "1              66     52    28       3      163            1\n",
        "5               4     16    11       2       34            4\n",
        "10              3      3     8       6       11            2\n",
        "20              1      3     3       6        4            1\n",
        "61              1      2     5      35        6            0\n",
        "total          75     76    55      52      218            8\n",
        "\n",
        "[6 rows x 6 columns]\n"
       ]
      },
      {
       "ename": "TypeError",
       "evalue": "can't pickle izip objects",
       "output_type": "pyerr",
       "traceback": [
        "\u001b[1;31m---------------------------------------------------------------------------\u001b[0m\n\u001b[1;31mTypeError\u001b[0m                                 Traceback (most recent call last)",
        "\u001b[1;32m<ipython-input-23-b3f32ed20a88>\u001b[0m in \u001b[0;36m<module>\u001b[1;34m()\u001b[0m\n\u001b[0;32m      7\u001b[0m     \u001b[1;32mprint\u001b[0m \u001b[1;34m'pickle not found, running report card'\u001b[0m\u001b[1;33m\u001b[0m\u001b[0m\n\u001b[0;32m      8\u001b[0m     \u001b[0mgraph2\u001b[0m\u001b[1;33m,\u001b[0m \u001b[0mrc\u001b[0m \u001b[1;33m=\u001b[0m \u001b[0mreport_card\u001b[0m\u001b[1;33m.\u001b[0m\u001b[0mcollision_iteration2\u001b[0m\u001b[1;33m(\u001b[0m\u001b[0mexperiment\u001b[0m\u001b[1;33m,\u001b[0m \u001b[0mgraph\u001b[0m\u001b[1;33m.\u001b[0m\u001b[0mcopy\u001b[0m\u001b[1;33m(\u001b[0m\u001b[1;33m)\u001b[0m\u001b[1;33m)\u001b[0m\u001b[1;33m\u001b[0m\u001b[0m\n\u001b[1;32m----> 9\u001b[1;33m     \u001b[0mpickle\u001b[0m\u001b[1;33m.\u001b[0m\u001b[0mdump\u001b[0m\u001b[1;33m(\u001b[0m\u001b[0mgraph2\u001b[0m\u001b[1;33m,\u001b[0m \u001b[0mopen\u001b[0m\u001b[1;33m(\u001b[0m\u001b[0mp\u001b[0m\u001b[1;33m,\u001b[0m \u001b[1;34m'w'\u001b[0m\u001b[1;33m)\u001b[0m\u001b[1;33m)\u001b[0m\u001b[1;33m\u001b[0m\u001b[0m\n\u001b[0m",
        "\u001b[1;32m/usr/lib/python2.7/pickle.pyc\u001b[0m in \u001b[0;36mdump\u001b[1;34m(obj, file, protocol)\u001b[0m\n\u001b[0;32m   1368\u001b[0m \u001b[1;33m\u001b[0m\u001b[0m\n\u001b[0;32m   1369\u001b[0m \u001b[1;32mdef\u001b[0m \u001b[0mdump\u001b[0m\u001b[1;33m(\u001b[0m\u001b[0mobj\u001b[0m\u001b[1;33m,\u001b[0m \u001b[0mfile\u001b[0m\u001b[1;33m,\u001b[0m \u001b[0mprotocol\u001b[0m\u001b[1;33m=\u001b[0m\u001b[0mNone\u001b[0m\u001b[1;33m)\u001b[0m\u001b[1;33m:\u001b[0m\u001b[1;33m\u001b[0m\u001b[0m\n\u001b[1;32m-> 1370\u001b[1;33m     \u001b[0mPickler\u001b[0m\u001b[1;33m(\u001b[0m\u001b[0mfile\u001b[0m\u001b[1;33m,\u001b[0m \u001b[0mprotocol\u001b[0m\u001b[1;33m)\u001b[0m\u001b[1;33m.\u001b[0m\u001b[0mdump\u001b[0m\u001b[1;33m(\u001b[0m\u001b[0mobj\u001b[0m\u001b[1;33m)\u001b[0m\u001b[1;33m\u001b[0m\u001b[0m\n\u001b[0m\u001b[0;32m   1371\u001b[0m \u001b[1;33m\u001b[0m\u001b[0m\n\u001b[0;32m   1372\u001b[0m \u001b[1;32mdef\u001b[0m \u001b[0mdumps\u001b[0m\u001b[1;33m(\u001b[0m\u001b[0mobj\u001b[0m\u001b[1;33m,\u001b[0m \u001b[0mprotocol\u001b[0m\u001b[1;33m=\u001b[0m\u001b[0mNone\u001b[0m\u001b[1;33m)\u001b[0m\u001b[1;33m:\u001b[0m\u001b[1;33m\u001b[0m\u001b[0m\n",
        "\u001b[1;32m/usr/lib/python2.7/pickle.pyc\u001b[0m in \u001b[0;36mdump\u001b[1;34m(self, obj)\u001b[0m\n\u001b[0;32m    222\u001b[0m         \u001b[1;32mif\u001b[0m \u001b[0mself\u001b[0m\u001b[1;33m.\u001b[0m\u001b[0mproto\u001b[0m \u001b[1;33m>=\u001b[0m \u001b[1;36m2\u001b[0m\u001b[1;33m:\u001b[0m\u001b[1;33m\u001b[0m\u001b[0m\n\u001b[0;32m    223\u001b[0m             \u001b[0mself\u001b[0m\u001b[1;33m.\u001b[0m\u001b[0mwrite\u001b[0m\u001b[1;33m(\u001b[0m\u001b[0mPROTO\u001b[0m \u001b[1;33m+\u001b[0m \u001b[0mchr\u001b[0m\u001b[1;33m(\u001b[0m\u001b[0mself\u001b[0m\u001b[1;33m.\u001b[0m\u001b[0mproto\u001b[0m\u001b[1;33m)\u001b[0m\u001b[1;33m)\u001b[0m\u001b[1;33m\u001b[0m\u001b[0m\n\u001b[1;32m--> 224\u001b[1;33m         \u001b[0mself\u001b[0m\u001b[1;33m.\u001b[0m\u001b[0msave\u001b[0m\u001b[1;33m(\u001b[0m\u001b[0mobj\u001b[0m\u001b[1;33m)\u001b[0m\u001b[1;33m\u001b[0m\u001b[0m\n\u001b[0m\u001b[0;32m    225\u001b[0m         \u001b[0mself\u001b[0m\u001b[1;33m.\u001b[0m\u001b[0mwrite\u001b[0m\u001b[1;33m(\u001b[0m\u001b[0mSTOP\u001b[0m\u001b[1;33m)\u001b[0m\u001b[1;33m\u001b[0m\u001b[0m\n\u001b[0;32m    226\u001b[0m \u001b[1;33m\u001b[0m\u001b[0m\n",
        "\u001b[1;32m/usr/lib/python2.7/pickle.pyc\u001b[0m in \u001b[0;36msave\u001b[1;34m(self, obj)\u001b[0m\n\u001b[0;32m    329\u001b[0m \u001b[1;33m\u001b[0m\u001b[0m\n\u001b[0;32m    330\u001b[0m         \u001b[1;31m# Save the reduce() output and finally memoize the object\u001b[0m\u001b[1;33m\u001b[0m\u001b[1;33m\u001b[0m\u001b[0m\n\u001b[1;32m--> 331\u001b[1;33m         \u001b[0mself\u001b[0m\u001b[1;33m.\u001b[0m\u001b[0msave_reduce\u001b[0m\u001b[1;33m(\u001b[0m\u001b[0mobj\u001b[0m\u001b[1;33m=\u001b[0m\u001b[0mobj\u001b[0m\u001b[1;33m,\u001b[0m \u001b[1;33m*\u001b[0m\u001b[0mrv\u001b[0m\u001b[1;33m)\u001b[0m\u001b[1;33m\u001b[0m\u001b[0m\n\u001b[0m\u001b[0;32m    332\u001b[0m \u001b[1;33m\u001b[0m\u001b[0m\n\u001b[0;32m    333\u001b[0m     \u001b[1;32mdef\u001b[0m \u001b[0mpersistent_id\u001b[0m\u001b[1;33m(\u001b[0m\u001b[0mself\u001b[0m\u001b[1;33m,\u001b[0m \u001b[0mobj\u001b[0m\u001b[1;33m)\u001b[0m\u001b[1;33m:\u001b[0m\u001b[1;33m\u001b[0m\u001b[0m\n",
        "\u001b[1;32m/usr/lib/python2.7/pickle.pyc\u001b[0m in \u001b[0;36msave_reduce\u001b[1;34m(self, func, args, state, listitems, dictitems, obj)\u001b[0m\n\u001b[0;32m    417\u001b[0m \u001b[1;33m\u001b[0m\u001b[0m\n\u001b[0;32m    418\u001b[0m         \u001b[1;32mif\u001b[0m \u001b[0mstate\u001b[0m \u001b[1;32mis\u001b[0m \u001b[1;32mnot\u001b[0m \u001b[0mNone\u001b[0m\u001b[1;33m:\u001b[0m\u001b[1;33m\u001b[0m\u001b[0m\n\u001b[1;32m--> 419\u001b[1;33m             \u001b[0msave\u001b[0m\u001b[1;33m(\u001b[0m\u001b[0mstate\u001b[0m\u001b[1;33m)\u001b[0m\u001b[1;33m\u001b[0m\u001b[0m\n\u001b[0m\u001b[0;32m    420\u001b[0m             \u001b[0mwrite\u001b[0m\u001b[1;33m(\u001b[0m\u001b[0mBUILD\u001b[0m\u001b[1;33m)\u001b[0m\u001b[1;33m\u001b[0m\u001b[0m\n\u001b[0;32m    421\u001b[0m \u001b[1;33m\u001b[0m\u001b[0m\n",
        "\u001b[1;32m/usr/lib/python2.7/pickle.pyc\u001b[0m in \u001b[0;36msave\u001b[1;34m(self, obj)\u001b[0m\n\u001b[0;32m    284\u001b[0m         \u001b[0mf\u001b[0m \u001b[1;33m=\u001b[0m \u001b[0mself\u001b[0m\u001b[1;33m.\u001b[0m\u001b[0mdispatch\u001b[0m\u001b[1;33m.\u001b[0m\u001b[0mget\u001b[0m\u001b[1;33m(\u001b[0m\u001b[0mt\u001b[0m\u001b[1;33m)\u001b[0m\u001b[1;33m\u001b[0m\u001b[0m\n\u001b[0;32m    285\u001b[0m         \u001b[1;32mif\u001b[0m \u001b[0mf\u001b[0m\u001b[1;33m:\u001b[0m\u001b[1;33m\u001b[0m\u001b[0m\n\u001b[1;32m--> 286\u001b[1;33m             \u001b[0mf\u001b[0m\u001b[1;33m(\u001b[0m\u001b[0mself\u001b[0m\u001b[1;33m,\u001b[0m \u001b[0mobj\u001b[0m\u001b[1;33m)\u001b[0m \u001b[1;31m# Call unbound method with explicit self\u001b[0m\u001b[1;33m\u001b[0m\u001b[0m\n\u001b[0m\u001b[0;32m    287\u001b[0m             \u001b[1;32mreturn\u001b[0m\u001b[1;33m\u001b[0m\u001b[0m\n\u001b[0;32m    288\u001b[0m \u001b[1;33m\u001b[0m\u001b[0m\n",
        "\u001b[1;32m/usr/lib/python2.7/pickle.pyc\u001b[0m in \u001b[0;36msave_dict\u001b[1;34m(self, obj)\u001b[0m\n\u001b[0;32m    647\u001b[0m \u001b[1;33m\u001b[0m\u001b[0m\n\u001b[0;32m    648\u001b[0m         \u001b[0mself\u001b[0m\u001b[1;33m.\u001b[0m\u001b[0mmemoize\u001b[0m\u001b[1;33m(\u001b[0m\u001b[0mobj\u001b[0m\u001b[1;33m)\u001b[0m\u001b[1;33m\u001b[0m\u001b[0m\n\u001b[1;32m--> 649\u001b[1;33m         \u001b[0mself\u001b[0m\u001b[1;33m.\u001b[0m\u001b[0m_batch_setitems\u001b[0m\u001b[1;33m(\u001b[0m\u001b[0mobj\u001b[0m\u001b[1;33m.\u001b[0m\u001b[0miteritems\u001b[0m\u001b[1;33m(\u001b[0m\u001b[1;33m)\u001b[0m\u001b[1;33m)\u001b[0m\u001b[1;33m\u001b[0m\u001b[0m\n\u001b[0m\u001b[0;32m    650\u001b[0m \u001b[1;33m\u001b[0m\u001b[0m\n\u001b[0;32m    651\u001b[0m     \u001b[0mdispatch\u001b[0m\u001b[1;33m[\u001b[0m\u001b[0mDictionaryType\u001b[0m\u001b[1;33m]\u001b[0m \u001b[1;33m=\u001b[0m \u001b[0msave_dict\u001b[0m\u001b[1;33m\u001b[0m\u001b[0m\n",
        "\u001b[1;32m/usr/lib/python2.7/pickle.pyc\u001b[0m in \u001b[0;36m_batch_setitems\u001b[1;34m(self, items)\u001b[0m\n\u001b[0;32m    661\u001b[0m             \u001b[1;32mfor\u001b[0m \u001b[0mk\u001b[0m\u001b[1;33m,\u001b[0m \u001b[0mv\u001b[0m \u001b[1;32min\u001b[0m \u001b[0mitems\u001b[0m\u001b[1;33m:\u001b[0m\u001b[1;33m\u001b[0m\u001b[0m\n\u001b[0;32m    662\u001b[0m                 \u001b[0msave\u001b[0m\u001b[1;33m(\u001b[0m\u001b[0mk\u001b[0m\u001b[1;33m)\u001b[0m\u001b[1;33m\u001b[0m\u001b[0m\n\u001b[1;32m--> 663\u001b[1;33m                 \u001b[0msave\u001b[0m\u001b[1;33m(\u001b[0m\u001b[0mv\u001b[0m\u001b[1;33m)\u001b[0m\u001b[1;33m\u001b[0m\u001b[0m\n\u001b[0m\u001b[0;32m    664\u001b[0m                 \u001b[0mwrite\u001b[0m\u001b[1;33m(\u001b[0m\u001b[0mSETITEM\u001b[0m\u001b[1;33m)\u001b[0m\u001b[1;33m\u001b[0m\u001b[0m\n\u001b[0;32m    665\u001b[0m             \u001b[1;32mreturn\u001b[0m\u001b[1;33m\u001b[0m\u001b[0m\n",
        "\u001b[1;32m/usr/lib/python2.7/pickle.pyc\u001b[0m in \u001b[0;36msave\u001b[1;34m(self, obj)\u001b[0m\n\u001b[0;32m    284\u001b[0m         \u001b[0mf\u001b[0m \u001b[1;33m=\u001b[0m \u001b[0mself\u001b[0m\u001b[1;33m.\u001b[0m\u001b[0mdispatch\u001b[0m\u001b[1;33m.\u001b[0m\u001b[0mget\u001b[0m\u001b[1;33m(\u001b[0m\u001b[0mt\u001b[0m\u001b[1;33m)\u001b[0m\u001b[1;33m\u001b[0m\u001b[0m\n\u001b[0;32m    285\u001b[0m         \u001b[1;32mif\u001b[0m \u001b[0mf\u001b[0m\u001b[1;33m:\u001b[0m\u001b[1;33m\u001b[0m\u001b[0m\n\u001b[1;32m--> 286\u001b[1;33m             \u001b[0mf\u001b[0m\u001b[1;33m(\u001b[0m\u001b[0mself\u001b[0m\u001b[1;33m,\u001b[0m \u001b[0mobj\u001b[0m\u001b[1;33m)\u001b[0m \u001b[1;31m# Call unbound method with explicit self\u001b[0m\u001b[1;33m\u001b[0m\u001b[0m\n\u001b[0m\u001b[0;32m    287\u001b[0m             \u001b[1;32mreturn\u001b[0m\u001b[1;33m\u001b[0m\u001b[0m\n\u001b[0;32m    288\u001b[0m \u001b[1;33m\u001b[0m\u001b[0m\n",
        "\u001b[1;32m/usr/lib/python2.7/pickle.pyc\u001b[0m in \u001b[0;36msave_dict\u001b[1;34m(self, obj)\u001b[0m\n\u001b[0;32m    647\u001b[0m \u001b[1;33m\u001b[0m\u001b[0m\n\u001b[0;32m    648\u001b[0m         \u001b[0mself\u001b[0m\u001b[1;33m.\u001b[0m\u001b[0mmemoize\u001b[0m\u001b[1;33m(\u001b[0m\u001b[0mobj\u001b[0m\u001b[1;33m)\u001b[0m\u001b[1;33m\u001b[0m\u001b[0m\n\u001b[1;32m--> 649\u001b[1;33m         \u001b[0mself\u001b[0m\u001b[1;33m.\u001b[0m\u001b[0m_batch_setitems\u001b[0m\u001b[1;33m(\u001b[0m\u001b[0mobj\u001b[0m\u001b[1;33m.\u001b[0m\u001b[0miteritems\u001b[0m\u001b[1;33m(\u001b[0m\u001b[1;33m)\u001b[0m\u001b[1;33m)\u001b[0m\u001b[1;33m\u001b[0m\u001b[0m\n\u001b[0m\u001b[0;32m    650\u001b[0m \u001b[1;33m\u001b[0m\u001b[0m\n\u001b[0;32m    651\u001b[0m     \u001b[0mdispatch\u001b[0m\u001b[1;33m[\u001b[0m\u001b[0mDictionaryType\u001b[0m\u001b[1;33m]\u001b[0m \u001b[1;33m=\u001b[0m \u001b[0msave_dict\u001b[0m\u001b[1;33m\u001b[0m\u001b[0m\n",
        "\u001b[1;32m/usr/lib/python2.7/pickle.pyc\u001b[0m in \u001b[0;36m_batch_setitems\u001b[1;34m(self, items)\u001b[0m\n\u001b[0;32m    661\u001b[0m             \u001b[1;32mfor\u001b[0m \u001b[0mk\u001b[0m\u001b[1;33m,\u001b[0m \u001b[0mv\u001b[0m \u001b[1;32min\u001b[0m \u001b[0mitems\u001b[0m\u001b[1;33m:\u001b[0m\u001b[1;33m\u001b[0m\u001b[0m\n\u001b[0;32m    662\u001b[0m                 \u001b[0msave\u001b[0m\u001b[1;33m(\u001b[0m\u001b[0mk\u001b[0m\u001b[1;33m)\u001b[0m\u001b[1;33m\u001b[0m\u001b[0m\n\u001b[1;32m--> 663\u001b[1;33m                 \u001b[0msave\u001b[0m\u001b[1;33m(\u001b[0m\u001b[0mv\u001b[0m\u001b[1;33m)\u001b[0m\u001b[1;33m\u001b[0m\u001b[0m\n\u001b[0m\u001b[0;32m    664\u001b[0m                 \u001b[0mwrite\u001b[0m\u001b[1;33m(\u001b[0m\u001b[0mSETITEM\u001b[0m\u001b[1;33m)\u001b[0m\u001b[1;33m\u001b[0m\u001b[0m\n\u001b[0;32m    665\u001b[0m             \u001b[1;32mreturn\u001b[0m\u001b[1;33m\u001b[0m\u001b[0m\n",
        "\u001b[1;32m/usr/lib/python2.7/pickle.pyc\u001b[0m in \u001b[0;36msave\u001b[1;34m(self, obj)\u001b[0m\n\u001b[0;32m    304\u001b[0m             \u001b[0mreduce\u001b[0m \u001b[1;33m=\u001b[0m \u001b[0mgetattr\u001b[0m\u001b[1;33m(\u001b[0m\u001b[0mobj\u001b[0m\u001b[1;33m,\u001b[0m \u001b[1;34m\"__reduce_ex__\"\u001b[0m\u001b[1;33m,\u001b[0m \u001b[0mNone\u001b[0m\u001b[1;33m)\u001b[0m\u001b[1;33m\u001b[0m\u001b[0m\n\u001b[0;32m    305\u001b[0m             \u001b[1;32mif\u001b[0m \u001b[0mreduce\u001b[0m\u001b[1;33m:\u001b[0m\u001b[1;33m\u001b[0m\u001b[0m\n\u001b[1;32m--> 306\u001b[1;33m                 \u001b[0mrv\u001b[0m \u001b[1;33m=\u001b[0m \u001b[0mreduce\u001b[0m\u001b[1;33m(\u001b[0m\u001b[0mself\u001b[0m\u001b[1;33m.\u001b[0m\u001b[0mproto\u001b[0m\u001b[1;33m)\u001b[0m\u001b[1;33m\u001b[0m\u001b[0m\n\u001b[0m\u001b[0;32m    307\u001b[0m             \u001b[1;32melse\u001b[0m\u001b[1;33m:\u001b[0m\u001b[1;33m\u001b[0m\u001b[0m\n\u001b[0;32m    308\u001b[0m                 \u001b[0mreduce\u001b[0m \u001b[1;33m=\u001b[0m \u001b[0mgetattr\u001b[0m\u001b[1;33m(\u001b[0m\u001b[0mobj\u001b[0m\u001b[1;33m,\u001b[0m \u001b[1;34m\"__reduce__\"\u001b[0m\u001b[1;33m,\u001b[0m \u001b[0mNone\u001b[0m\u001b[1;33m)\u001b[0m\u001b[1;33m\u001b[0m\u001b[0m\n",
        "\u001b[1;32m/home/visitors/peterwinter/.pyenv/versions/general/lib/python2.7/copy_reg.pyc\u001b[0m in \u001b[0;36m_reduce_ex\u001b[1;34m(self, proto)\u001b[0m\n\u001b[0;32m     68\u001b[0m     \u001b[1;32melse\u001b[0m\u001b[1;33m:\u001b[0m\u001b[1;33m\u001b[0m\u001b[0m\n\u001b[0;32m     69\u001b[0m         \u001b[1;32mif\u001b[0m \u001b[0mbase\u001b[0m \u001b[1;32mis\u001b[0m \u001b[0mself\u001b[0m\u001b[1;33m.\u001b[0m\u001b[0m__class__\u001b[0m\u001b[1;33m:\u001b[0m\u001b[1;33m\u001b[0m\u001b[0m\n\u001b[1;32m---> 70\u001b[1;33m             \u001b[1;32mraise\u001b[0m \u001b[0mTypeError\u001b[0m\u001b[1;33m,\u001b[0m \u001b[1;34m\"can't pickle %s objects\"\u001b[0m \u001b[1;33m%\u001b[0m \u001b[0mbase\u001b[0m\u001b[1;33m.\u001b[0m\u001b[0m__name__\u001b[0m\u001b[1;33m\u001b[0m\u001b[0m\n\u001b[0m\u001b[0;32m     71\u001b[0m         \u001b[0mstate\u001b[0m \u001b[1;33m=\u001b[0m \u001b[0mbase\u001b[0m\u001b[1;33m(\u001b[0m\u001b[0mself\u001b[0m\u001b[1;33m)\u001b[0m\u001b[1;33m\u001b[0m\u001b[0m\n\u001b[0;32m     72\u001b[0m     \u001b[0margs\u001b[0m \u001b[1;33m=\u001b[0m \u001b[1;33m(\u001b[0m\u001b[0mself\u001b[0m\u001b[1;33m.\u001b[0m\u001b[0m__class__\u001b[0m\u001b[1;33m,\u001b[0m \u001b[0mbase\u001b[0m\u001b[1;33m,\u001b[0m \u001b[0mstate\u001b[0m\u001b[1;33m)\u001b[0m\u001b[1;33m\u001b[0m\u001b[0m\n",
        "\u001b[1;31mTypeError\u001b[0m: can't pickle izip objects"
       ]
      }
     ],
     "prompt_number": 23
    },
    {
     "cell_type": "code",
     "collapsed": false,
     "input": [
      "moving2 = graph2.compound_bl_filter(experiment, threshold=0.5)\n",
      "print len(moving2), 'moving'"
     ],
     "language": "python",
     "metadata": {},
     "outputs": [
      {
       "output_type": "stream",
       "stream": "stdout",
       "text": [
        "210 moving\n"
       ]
      }
     ],
     "prompt_number": 25
    },
    {
     "cell_type": "code",
     "collapsed": false,
     "input": [
      "def yeild_node_data(experiment, graph):\n",
      "    \n",
      "    for i, (node, node_data) in enumerate(graph.nodes(data=True)):\n",
      "        data = graph.consolidate_node_data(experiment=experiment, node=node)\n",
      "        if data is not None and len(data):\n",
      "            data.sort(inplace=True)\n",
      "            consolidated_set = set(data['blob'])\n",
      "            node_set = node_data.get('components', set())\n",
      "            if len(node_set - consolidated_set):\n",
      "                print 'WARNING! node', node, 'consolidated data is missing some components'\n",
      "                #print 'in data:', consolidated_set\n",
      "                #print 'in node:', node_set\n",
      "                missing = node_set - consolidated_set\n",
      "                print 'missing:', missing\n",
      "            data.reset_index(inplace=True)\n",
      "            frame0 = data.iloc[0]['frame']\n",
      "            frameN = data.iloc[-1]['frame']\n",
      "            df = curate_data(data)\n",
      "            yield node, df\n",
      "            \n",
      "        elif node_data['born_f'] != node_data['born_f']:\n",
      "            # only print this warning if the node lasts longer than zero frames\n",
      "            print 'failed on node', node , 'frames:', node_data['born_f'], 'to', node_data['born_f']\n",
      "\n",
      "def curate_data(data):\n",
      "    relevant_data = data[['frame', 'time', 'area', 'blob', 'contour_encode_len', 'contour_encoded']]\n",
      "    x, y = zip(*data['centroid'])\n",
      "    cx, cy = zip(*data['contour_start'])\n",
      "    \n",
      "    \n",
      "    \n",
      "    relevant_data['x'] = x\n",
      "    relevant_data['y'] = y\n",
      "    relevant_data['contour_start_x'] = cx\n",
      "    relevant_data['contour_start_y'] = cy\n",
      "    relevant_data = relevant_data[['frame', 'time','blob', 'x', 'y', 'area', \n",
      "                                   'contour_start_x','contour_start_y', 'contour_encode_len', 'contour_encoded']]\n",
      "    \n",
      "    duplicates_present = len(data['frame']) > len(set(data['frame']))\n",
      "    if duplicates_present:\n",
      "        #print 'duplicates found in', data.iloc[0]['blob']\n",
      "        duplicated_frames = relevant_data[relevant_data.duplicated('frame')]['frame']\n",
      "        #print len(duplicated_frames), 'frames duplicated'\n",
      "        new_rows = []\n",
      "        for f in duplicated_frames:\n",
      "            dup = relevant_data[relevant_data['frame'] == f]\n",
      "            total_area = dup['area'].sum()\n",
      "            #print dup.columns\n",
      "            time = dup.iloc[0]['time']\n",
      "            x = np.sum(dup['x'] * dup['area']) / total_area\n",
      "            y = np.sum(dup['y'] * dup['area']) / total_area\n",
      "            row = {'frame':f, \n",
      "                   'time':time, \n",
      "                   'area':total_area, \n",
      "                   'x':x, \n",
      "                   'y':y, \n",
      "                   'contour_start_x':None,\n",
      "                   'contour_start_y':None, \n",
      "                   'contour_encode_len':None, \n",
      "                   'contour_encoded':None}\n",
      "            new_rows.append(row)\n",
      "        new_rows = pd.DataFrame(new_rows)\n",
      "        #print new_rows.head()\n",
      "        relevant_data = pd.concat([relevant_data, new_rows])\n",
      "        relevant_data.drop_duplicates('frame', take_last=True, inplace=True)\n",
      "            \n",
      "    relevant_data.set_index('frame', inplace=True)\n",
      "    #print relevant_data.loc[duplicated_frames]\n",
      "    return relevant_data        \n",
      "\n",
      "def summarize_graph_nodes(experiment, graph, moving, min_time=30):\n",
      "    #summary_data = []\n",
      "    speeds = []\n",
      "    areas = []\n",
      "    lifespans = []\n",
      "    not_moving = 0\n",
      "    too_short = 0\n",
      "    for node, df in yeild_node_data(experiment, graph):\n",
      "        t, x, y = df['time'], df['x'], df['y']\n",
      "        t0, tN = min(t), max(t)\n",
      "        life = tN - t0\n",
      "        if life < min_time:\n",
      "            too_short += 1\n",
      "            continue\n",
      "        if node not in moving:\n",
      "            not_moving += 1\n",
      "            continue\n",
      "            \n",
      "        lifespans.append(pd.DataFrame([t0, tN, life], columns=[node], index=['t0', 'tN', 'life']))\n",
      "        a = df[['area']].describe()\n",
      "        areas.append(a.rename(columns={'area':node}))\n",
      "        \n",
      "        t2, s2 =clean_speed(t, x, y)\n",
      "        speeds.append(pd.DataFrame(s2, index=t2, columns=[node]).describe())\n",
      "\n",
      "    print not_moving, 'not moving'\n",
      "    print too_short, 'too short'\n",
      "    lifespans = pd.concat(lifespans, axis=1).T.sort('life', ascending=False)\n",
      "    areas = pd.concat(areas, axis=1).T\n",
      "    speeds = pd.concat(speeds, axis=1).T\n",
      "    \n",
      "    return lifespans, areas, speeds\n",
      "\n",
      "lifespans2, areas2, speeds2 = summarize_graph_nodes(experiment, graph2, moving2)\n",
      "print len(lifespans2), 'nodes'\n",
      "lifespans2.sort('life', ascending=False).head()\n",
      "nodes = list(lifespans2.index)[:50]"
     ],
     "language": "python",
     "metadata": {},
     "outputs": [
      {
       "output_type": "stream",
       "stream": "stdout",
       "text": [
        "WARNING! node 91 consolidated data is missing some components\n",
        "missing: set([2403])\n",
        "WARNING! node"
       ]
      },
      {
       "output_type": "stream",
       "stream": "stdout",
       "text": [
        " 397 consolidated data is missing some components\n",
        "missing: set([1688, 1680, 1630])\n",
        "WARNING! node"
       ]
      },
      {
       "output_type": "stream",
       "stream": "stdout",
       "text": [
        " 8972 consolidated data is missing some components\n",
        "missing: set([8972])\n",
        "15"
       ]
      },
      {
       "output_type": "stream",
       "stream": "stdout",
       "text": [
        " not moving\n",
        "287 too short\n",
        "181 nodes\n"
       ]
      }
     ],
     "prompt_number": 30
    },
    {
     "cell_type": "code",
     "collapsed": false,
     "input": [
      "def fig5_a(node, experiment, graph):\n",
      "\n",
      "    cmap = plt.cm.Spectral\n",
      "    cmap = plt.cm.RdBu\n",
      "    cmap = plt.cm.gist_heat\n",
      "    #cmap = plt.cm.winter\n",
      "    cmap = plt.cm.brg\n",
      "    \n",
      "    node_data = graph.consolidate_node_data(experiment=experiment, node=node)\n",
      "    #print node_data.head()\n",
      "    node_data.reset_index(inplace=True)\n",
      "    nd = curate_data(node_data)\n",
      "    ts, s = speed_me(node, experiment, graph2)\n",
      "    \n",
      "    scaled_speed = s - min(s)\n",
      "    mss = np.percentile(scaled_speed, 95)\n",
      "    print mss\n",
      "    scaled_speed = np.array(scaled_speed / mss)\n",
      "    scaled_speed[scaled_speed > 1] = 1\n",
      "\n",
      "    t = np.array(nd['time'])\n",
      "    x =  np.array(nd['x'])\n",
      "    y = np.array(nd['y'])\n",
      "    if len(t) < 30 or len(y) < 30 or len(x) < 30:\n",
      "        print 'error t is too small'\n",
      "    xs = smooth('boxcar', x, 10)\n",
      "    ys = smooth('boxcar', y, 10)\n",
      "    #print 'smoothed', len(xs), len(ys)\n",
      "    ti, xi = interpolate_to_1s(t, x)\n",
      "    ti, yi = interpolate_to_1s(t, y)\n",
      "    #print len(t), len(x), len(y)\n",
      "    print len(ti), len(scaled_speed)\n",
      "    \n",
      "    \n",
      "    ########### 3d position plot ###########\n",
      "    fig = plt.figure(figsize=(3, 8), facecolor='white')\n",
      "    plt.clf()\n",
      "\n",
      "    ax = Axes3D(fig, rect=[0, 0, .95, 1], elev=6, azim=-80)\n",
      "    ax.scatter(xi[1:], yi[1:], ti[1:]/60, '.', c=scaled_speed, edgecolor='none', s=2, cmap=cmap)\n",
      "    #ax.plot(xi, yi, [0 for i in ti], color='black', alpha=0.5)\n",
      "\n",
      "    ax.set_ylabel('y')\n",
      "    ax.set_xlabel('x')\n",
      "    ax.set_zlabel('time (min)')\n",
      "    ax.set_zlim([0, 60])\n",
      "    plt.xticks([]) #np.arange(int(min(xi)), int(max(xi))+1, 300.0))\n",
      "    plt.yticks([]) #np.arange(int(min(yi)), int(max(yi))+1, 300.0))\n",
      "    ax.zaxis.set_ticks(np.linspace(0, 60, 7))\n",
      "    ax.zaxis.set_ticklabels([])\n",
      "    ax.zaxis.set_tick_params('left')\n",
      "    fig.facecolor = 'white'\n",
      "    ax.patch.set_facecolor('white')\n",
      "    plt.savefig('node-speed-3d-{n}.png'.format(n=node))\n",
      "    plt.show()   \n",
      "    \n",
      "    \n",
      "    ########### histogram plot ###########\n",
      "    fig = plt.figure(figsize=(8, 3))\n",
      "    gs = gridspec.GridSpec(1, 6)\n",
      "    gs.update(wspace=0.0)\n",
      "    ax0 = plt.subplot(gs[0,0])\n",
      "    ax = [ax0]\n",
      "    \n",
      "    n_bins = 50\n",
      "    label_size = 10\n",
      "    for i in range(5):\n",
      "        axi = plt.subplot(gs[0,i+1], sharey=ax0)\n",
      "        axi.yaxis.set_tick_params(labelsize=0)\n",
      "        ax.append(axi)\n",
      "        \n",
      "    #print len(s), len(s)/6\n",
      "    splits = [s[:599], s[599:1199], s[1199:1799], s[1799:2399], s[2399:2999], s[2999:]]\n",
      "    bins = np.linspace(0, np.percentile(s, 95), n_bins)\n",
      "    for i, spl in enumerate(splits):\n",
      "        y, b = np.histogram(spl, bins=bins)\n",
      "        q25 = np.percentile(spl, 25)\n",
      "        q50 = np.percentile(spl, 50)\n",
      "        q75 = np.percentile(spl, 75)\n",
      "        ax[i].hist(spl, bins=bins, orientation='horizontal')\n",
      "        #ax[i].plot([0, 100], [q25, q25], color='black')   \n",
      "        #ax[i].plot([0, 100], [q75, q75], color='black')        \n",
      "        ax[i].fill_between([0, 1000], [q25, q25], [q75, q75], color='black', alpha=0.1)\n",
      "        ax[i].plot([0, 1000], [q50, q50], color='black')\n",
      "        mid= int(max(y)/2)\n",
      "        #print i, mid, max(y)\n",
      "        ax[i].xaxis.set_ticks([0, mid])\n",
      "        ax[i].set_xlim([0, max(y) + 2])\n",
      "        \n",
      "    ax[0].yaxis.set_tick_params(labelsize=label_size)\n",
      "    ax[-1].yaxis.set_tick_params(labelleft=False, labelright=True, labelsize=label_size)\n",
      "    ax[0].set_xlabel('counts')\n",
      "    ax[0].set_ylabel('speed (pxl/s)')\n",
      "    ax[-1].set_ylabel('speed (pxl/s)')\n",
      "    ax[-1].yaxis.set_label_position(\"right\")\n",
      "    plt.savefig('node-speed-hist-{n}.png'.format(n=node))\n",
      "    plt.show()\n",
      "\n",
      "    \n",
      "\n",
      "\n",
      "    ########### speed plot ###########\n",
      "    fig, ax = plt.subplots(figsize=(8, 3))\n",
      "    for i in [10, 20, 30, 40,  50]:\n",
      "        xpos = i\n",
      "        ax.plot([xpos,xpos],[0,max(s)], color='black', alpha=0.5)    \n",
      "    ax.scatter(np.array(ts)/60, s, marker='.', c=scaled_speed, edgecolor='none', lw=1, cmap=cmap)\n",
      "\n",
      "    ax.set_ylabel('speed (pxl/s)')\n",
      "    ax.set_xlabel('time (min)')\n",
      "    ax.set_xlim([0, 60])\n",
      "    ax.set_ylim([0,max(s)])\n",
      "    ax.set_xticks([0, 5, 10, 15, 20, 25, 30, 35, 40, 45, 50, 55])\n",
      "    plt.savefig('node-speed-{n}.png'.format(n=node))\n",
      "    plt.show()\n",
      "    \n",
      "print 'cleaned data'\n",
      "fig5_a(nodes[0], experiment, graph2)"
     ],
     "language": "python",
     "metadata": {},
     "outputs": [
      {
       "output_type": "stream",
       "stream": "stdout",
       "text": [
        "cleaned data\n",
        "6.61782309427"
       ]
      },
      {
       "output_type": "stream",
       "stream": "stdout",
       "text": [
        "\n",
        "3599 3598\n"
       ]
      },
      {
       "metadata": {},
       "output_type": "display_data",
       "png": "[encoded data removed]",
       "text": [
        "<matplotlib.figure.Figure at 0x7f7c1cbf2690>"
       ]
      },
      {
       "metadata": {},
       "output_type": "display_data",
       "png": "[encoded data removed]",
       "text": [
        "<matplotlib.figure.Figure at 0x7f7c38e07d90>"
       ]
      },
      {
       "metadata": {},
       "output_type": "display_data",
       "png": "[encoded data removed]",
       "text": [
        "<matplotlib.figure.Figure at 0x7f7c054c8d10>"
       ]
      }
     ],
     "prompt_number": 34
    },
    {
     "cell_type": "code",
     "collapsed": false,
     "input": [
      "node = nodes[0]\n",
      "experiment = experiment\n",
      "graph = graph2\n",
      "\n",
      "\n",
      "node_data = graph.consolidate_node_data(experiment=experiment, node=node)\n",
      "#print node_data.head()\n",
      "node_data.reset_index(inplace=True)\n",
      "nd = curate_data(node_data)\n",
      "ts, s = speed_me(node, experiment, graph2)\n",
      "\n",
      "scaled_speed = s - min(s)\n",
      "mss = np.percentile(scaled_speed, 95)\n",
      "print mss\n",
      "scaled_speed = np.array(scaled_speed / mss)\n",
      "scaled_speed[scaled_speed > 1] = 1\n",
      "\n",
      "t = np.array(nd['time'])\n",
      "x =  np.array(nd['x'])\n",
      "y = np.array(nd['y'])\n",
      "if len(t) < 30 or len(y) < 30 or len(x) < 30:\n",
      "    print 'error t is too small'\n",
      "xs = smooth('boxcar', x, 10)\n",
      "ys = smooth('boxcar', y, 10)\n",
      "#print 'smoothed', len(xs), len(ys)\n",
      "ti, xi = interpolate_to_1s(t, x)\n",
      "ti, yi = interpolate_to_1s(t, y)"
     ],
     "language": "python",
     "metadata": {},
     "outputs": [
      {
       "output_type": "stream",
       "stream": "stdout",
       "text": [
        "6.61782309427\n"
       ]
      }
     ],
     "prompt_number": 79
    },
    {
     "cell_type": "code",
     "collapsed": false,
     "input": [
      "cmap = plt.cm.Spectral\n",
      "cmap = plt.cm.RdBu\n",
      "cmap = plt.cm.gist_heat\n",
      "#cmap = plt.cm.winter\n",
      "cmap = plt.cm.brg\n",
      "    \n",
      "    \n",
      "########### 3d position plot ###########\n",
      "fig = plt.figure(figsize=(3, 8), facecolor='white')\n",
      "plt.clf()\n",
      "#     print len(ti)\n",
      "#     print len(xi[1::]), len(ti[1::-1]), len(scaled_speed)\n",
      "#     print ti.shape\n",
      "#     print ti[:10]\n",
      "#     print ti[1::-1].shape\n",
      "#     print ti[1::-1]\n",
      "ti = np.linspace(60, 0, len(scaled_speed))\n",
      "ax = Axes3D(fig, rect=[0, 0, .95, 1], elev=6, azim=-20)\n",
      "ax.scatter(xi[1::], yi[1::], ti, '.', c=scaled_speed, edgecolor='none', s=2, cmap=cmap)\n",
      "ax.plot(xi, yi, color='black', alpha=0.2)\n",
      "\n",
      "ax.set_ylabel('y')\n",
      "ax.set_xlabel('x')\n",
      "ax.set_zlabel('time (min)')\n",
      "ax.set_zlim([0, 60])\n",
      "plt.xticks([]) #np.arange(int(min(xi)), int(max(xi))+1, 300.0))\n",
      "plt.yticks([]) #np.arange(int(min(yi)), int(max(yi))+1, 300.0))\n",
      "ax.zaxis.set_ticks(np.linspace(0, 60, 7))\n",
      "ax.zaxis.set_ticklabels([])\n",
      "ax.zaxis.set_tick_params('left')\n",
      "fig.facecolor = 'white'\n",
      "ax.patch.set_facecolor('white')\n",
      "plt.subplots_adjust(left=0.1, right=0.9, top=0.95, bottom=0.05)\n",
      "plt.savefig('node-speed-3d-{n}.png'.format(n=node))\n",
      "plt.show()"
     ],
     "language": "python",
     "metadata": {},
     "outputs": [
      {
       "metadata": {},
       "output_type": "display_data",
       "png": "[encoded data removed]",
       "text": [
        "<matplotlib.figure.Figure at 0x7f7c1f67f5d0>"
       ]
      }
     ],
     "prompt_number": 158
    },
    {
     "cell_type": "code",
     "collapsed": false,
     "input": [],
     "language": "python",
     "metadata": {},
     "outputs": [],
     "prompt_number": 126
    },
    {
     "cell_type": "code",
     "collapsed": false,
     "input": [
      "########## histogram plot ###########\n",
      "n_plots = 6\n",
      "\n",
      "\n",
      "fig = plt.figure(figsize=(3, 8))\n",
      "gs = gridspec.GridSpec(n_plots, 1)\n",
      "gs.update(hspace=0.0)\n",
      "ax0 = plt.subplot(gs[0,0])\n",
      "ax = [ax0]\n",
      "\n",
      "n_bins = 50\n",
      "label_size = 10\n",
      "for i in range(5):\n",
      "    axi = plt.subplot(gs[i+1, 0], sharex=ax0)\n",
      "    axi.xaxis.set_tick_params(labelsize=0) #, tickright=True, labelright=True, labelleft=False)\n",
      "    ax.append(axi)\n",
      "\n",
      "#print len(s), len(s)/6\n",
      "splits = [s[:599], s[599:1199], s[1199:1799], s[1799:2399], s[2399:2999], s[2999:]]\n",
      "slim = np.percentile(s, 95)\n",
      "bins = np.linspace(0, slim, n_bins)\n",
      "for i, spl in enumerate(splits):\n",
      "    y, b = np.histogram(spl, bins=bins, normed=True)\n",
      "    q25 = np.percentile(spl, 25)\n",
      "    q50 = np.percentile(spl, 50)\n",
      "    q75 = np.percentile(spl, 75)\n",
      "    kernel = stats.gaussian_kde(spl)\n",
      "    kx = np.linspace(0, max(spl), 1000)\n",
      "    ky = kernel.evaluate(kx)\n",
      "    \n",
      "    ax[i].hist(spl, bins=bins, normed=True)\n",
      "    ax[i].fill_between([q25, q75], [0, 0], [1000, 1000], color='black', alpha=0.1)\n",
      "    ax[i].plot([q50, q50], [0, 1000], color='black')\n",
      "    ax[i].plot(kx, ky, color='black')\n",
      "\n",
      "    mid= round(max(y)/2.0, ndigits=2)\n",
      "    ax[i].yaxis.set_ticks([0, mid])\n",
      "    ax[i].set_ylim([0, max(y) * 1.1])\n",
      "    ax[i].yaxis.set_tick_params(labelright=True, labelleft=False)\n",
      "    ax[i].yaxis.set_label_position(\"right\")\n",
      "    \n",
      "ax[0].set_xlim([0, slim])    \n",
      "ax[0].xaxis.set_tick_params(labelsize=label_size, labeltop=True, labelbottom=False)\n",
      "ax[-1].xaxis.set_tick_params(labelsize=label_size, labelbottom=True, labeltop=False)\n",
      "ax[0].set_ylabel('frequency')\n",
      "ax[0].set_xlabel('speed (pxl/s)')\n",
      "ax[-1].set_xlabel('speed (pxl/s)')\n",
      "ax[0].xaxis.set_label_position(\"top\")\n",
      "plt.subplots_adjust(left=0.05, right=0.8, top=0.9, bottom=0.1)\n",
      "plt.savefig('node-speed-hist-{n}.png'.format(n=node))\n",
      "plt.show()"
     ],
     "language": "python",
     "metadata": {},
     "outputs": [
      {
       "metadata": {},
       "output_type": "display_data",
       "png": "[encoded data removed]",
       "text": [
        "<matplotlib.figure.Figure at 0x7f7c0b018f10>"
       ]
      }
     ],
     "prompt_number": 156
    },
    {
     "cell_type": "code",
     "collapsed": false,
     "input": [
      "########### speed plot ###########\n",
      "fig, ax = plt.subplots(figsize=(3, 8))\n",
      "for i in [10, 20, 30, 40,  50]:\n",
      "    xpos = i\n",
      "    ax.plot([0, max(s)], [xpos,xpos],color='black', alpha=0.5)    \n",
      "ax.scatter(s, np.array(ts)/60, marker='.', c=scaled_speed, edgecolor='none', lw=1, cmap=cmap)\n",
      "\n",
      "ax.set_xlabel('speed (pxl/s)')\n",
      "ax.set_ylabel('time (min)')\n",
      "ax.set_ylim([0, 60])\n",
      "ax.set_xlim([0,max(s)])\n",
      "ax.set_yticks([0, 5, 10, 15, 20, 25, 30, 35, 40, 45, 50, 55, 60])\n",
      "ax.xaxis.set_tick_params(labeltop=True, labelbottom=True)\n",
      "\n",
      "setp(gca(), 'ylim', reversed(getp(gca(), 'ylim')))\n",
      "plt.subplots_adjust(left=0.2, right=0.95, top=0.9, bottom=0.1)\n",
      "plt.savefig('node-speed-{n}.png'.format(n=node))\n",
      "plt.show()"
     ],
     "language": "python",
     "metadata": {},
     "outputs": [
      {
       "metadata": {},
       "output_type": "display_data",
       "png": "[encoded data removed]",
       "text": [
        "<matplotlib.figure.Figure at 0x7f7c1d612650>"
       ]
      }
     ],
     "prompt_number": 157
    },
    {
     "cell_type": "code",
     "collapsed": false,
     "input": [
      "fig, ax = plt.subplots()\n",
      "setp(ax.xaxis)\n"
     ],
     "language": "python",
     "metadata": {},
     "outputs": [
      {
       "output_type": "stream",
       "stream": "stdout",
       "text": [
        "  agg_filter: unknown\n",
        "  alpha: float (0.0 transparent through 1.0 opaque)         \n",
        "  animated: [True | False]         \n",
        "  axes: an :class:`~matplotlib.axes.Axes` instance         \n",
        "  clip_box: a :class:`matplotlib.transforms.Bbox` instance         \n",
        "  clip_on: [True | False]         \n",
        "  clip_path: unknown\n",
        "  contains: a callable function         \n",
        "  data_interval: unknown\n",
        "  figure: a :class:`matplotlib.figure.Figure` instance         \n",
        "  gid: an id string         \n",
        "  label: string or anything printable with '%s' conversion.         \n",
        "  label_coords: unknown\n",
        "  label_position: [ 'top' | 'bottom' ]         \n",
        "  label_text: A string value for the label         \n",
        "  lod: [True | False]         \n",
        "  major_formatter: A :class:`~matplotlib.ticker.Formatter` instance         \n",
        "  major_locator: a :class:`~matplotlib.ticker.Locator` instance         \n",
        "  minor_formatter: A :class:`~matplotlib.ticker.Formatter` instance         \n",
        "  minor_locator: a :class:`~matplotlib.ticker.Locator` instance         \n",
        "  path_effects: unknown\n",
        "  picker: [None|float|boolean|callable]         \n",
        "  pickradius: a distance in points         \n",
        "  rasterized: [True | False | None]         \n",
        "  sketch_params: unknown\n",
        "  smart_bounds: unknown\n",
        "  snap: unknown\n",
        "  tick_params: unknown\n",
        "  ticklabels: sequence of strings         \n",
        "  ticks: sequence of floats         \n",
        "  ticks_position: [ 'top' | 'bottom' | 'both' | 'default' | 'none' ]         \n",
        "  transform: :class:`~matplotlib.transforms.Transform` instance         \n",
        "  units: a units tag         \n",
        "  url: a url string         \n",
        "  view_interval: unknown\n",
        "  visible: [True | False]         \n",
        "  zorder: any number         \n"
       ]
      },
      {
       "metadata": {},
       "output_type": "display_data",
       "png": "[encoded data removed]",
       "text": [
        "<matplotlib.figure.Figure at 0x7f7c1c072d90>"
       ]
      }
     ],
     "prompt_number": 141
    },
    {
     "cell_type": "code",
     "collapsed": false,
     "input": [],
     "language": "python",
     "metadata": {},
     "outputs": []
    }
   ],
   "metadata": {}
  }
 ]
}