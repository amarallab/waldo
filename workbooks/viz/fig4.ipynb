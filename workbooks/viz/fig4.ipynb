{
 "metadata": {
  "name": "",
  "signature": "sha256:86dd81e81752dc94ccbb3f6fd14041631d34be0854b506650062466e88e8f99f"
 },
 "nbformat": 3,
 "nbformat_minor": 0,
 "worksheets": [
  {
   "cells": [
    {
     "cell_type": "code",
     "collapsed": false,
     "input": [
      "%load_ext autoreload\n",
      "%autoreload 2\n",
      "%matplotlib inline"
     ],
     "language": "python",
     "metadata": {},
     "outputs": [],
     "prompt_number": 1
    },
    {
     "cell_type": "code",
     "collapsed": false,
     "input": [
      "from __future__ import division\n",
      "import os\n",
      "import six\n",
      "import sys\n",
      "sys.path.append('..'); import pathcustomize, about\n",
      "import pathcustomize, about\n",
      "about.about()\n",
      "\n",
      "import pickle\n",
      "\n",
      "import math\n",
      "import pandas as pd\n",
      "from scipy import stats\n",
      "import scipy.interpolate as interpolate\n",
      "import scipy.signal as ss\n",
      "\n",
      "\n",
      "import matplotlib\n",
      "from mpl_toolkits.mplot3d import Axes3D\n",
      "import matplotlib.gridspec as gridspec\n",
      "from mpltools import style\n",
      "from mpltools import layout\n",
      "style.use('ggplot')\n",
      "\n",
      "import waldo\n",
      "from waldo import wio\n",
      "from waldo import viz\n",
      "import waldo.metrics.report_card as report_card\n",
      "import waldo.metrics.step_simulation as ssim\n",
      "import waldo.viz.eye_plots as ep\n",
      "\n",
      "#from waldo.metrics.report_card import compound_bl_filter"
     ],
     "language": "python",
     "metadata": {},
     "outputs": [
      {
       "output_type": "stream",
       "stream": "stdout",
       "text": [
        "Python 2.7.6 (default, Mar 22 2014 22:59:56) [GCC 4.8.2] on linux2, Host: cody\n"
       ]
      }
     ],
     "prompt_number": 2
    },
    {
     "cell_type": "code",
     "collapsed": false,
     "input": [
      "### small plates\n",
      "# N = 15\n",
      "ex_id = '20141017_113435'\n",
      "ex_id = '20141017_113439'\n",
      "ex_id = '20141017_123722'\n",
      "ex_id = '20141017_123725'\n",
      "# N = 25\n",
      "ex_id = '20141017_134720'\n",
      "ex_id = '20141017_134724'\n",
      "#ex_id = '20141017_150959'\n",
      "#ex_id = '20141017_151002'\n",
      "\n",
      "#### big plates\n",
      "#ex_id = '20130614_120518'\n",
      "#ex_id = '20130318_131111'\n",
      "#ex_id = '20130702_135704' # testset\n",
      "#ex_id = '20130702_135652'\n",
      "#ex_id = '20130414_140704'\n",
      "#ex_id = '20130410_165326'\n"
     ],
     "language": "python",
     "metadata": {},
     "outputs": [],
     "prompt_number": 3
    },
    {
     "cell_type": "code",
     "collapsed": false,
     "input": [
      "experiment = wio.Experiment(experiment_id=ex_id)\n",
      "prep_data = experiment.prepdata\n",
      "graph = experiment.graph.copy()"
     ],
     "language": "python",
     "metadata": {},
     "outputs": [],
     "prompt_number": 4
    },
    {
     "cell_type": "code",
     "collapsed": false,
     "input": [
      "graph2, rc = report_card.collision_iteration2(experiment, graph.copy())"
     ],
     "language": "python",
     "metadata": {},
     "outputs": [
      {
       "output_type": "stream",
       "stream": "stderr",
       "text": [
        "Iteration 1\n"
       ]
      },
      {
       "output_type": "stream",
       "stream": "stderr",
       "text": [
        "Validation pass\n"
       ]
      },
      {
       "output_type": "stream",
       "stream": "stdout",
       "text": [
        "collisions from bbox\n",
        "\t62 suspects. trying 0 again\n",
        "\t0 suspects. trying 0 again"
       ]
      },
      {
       "output_type": "stream",
       "stream": "stderr",
       "text": [
        "Validation pass\n"
       ]
      },
      {
       "output_type": "stream",
       "stream": "stderr",
       "text": [
        "Collapse Group\n"
       ]
      },
      {
       "output_type": "stream",
       "stream": "stderr",
       "text": [
        "Validation pass\n"
       ]
      },
      {
       "output_type": "stream",
       "stream": "stderr",
       "text": [
        "Remove Single Descendents\n"
       ]
      },
      {
       "output_type": "stream",
       "stream": "stderr",
       "text": [
        "Validation pass\n"
       ]
      },
      {
       "output_type": "stream",
       "stream": "stderr",
       "text": [
        "Remove Fission-Fusion\n"
       ]
      },
      {
       "output_type": "stream",
       "stream": "stderr",
       "text": [
        "Validation pass\n"
       ]
      },
      {
       "output_type": "stream",
       "stream": "stderr",
       "text": [
        "Remove Fission-Fusion (relative)\n"
       ]
      },
      {
       "output_type": "stream",
       "stream": "stderr",
       "text": [
        "Validation pass\n"
       ]
      },
      {
       "output_type": "stream",
       "stream": "stderr",
       "text": [
        "Remove Offshoots\n"
       ]
      },
      {
       "output_type": "stream",
       "stream": "stderr",
       "text": [
        "Validation pass\n"
       ]
      },
      {
       "output_type": "stream",
       "stream": "stderr",
       "text": [
        "Remove Single Descendents\n"
       ]
      },
      {
       "output_type": "stream",
       "stream": "stderr",
       "text": [
        "Validation pass\n"
       ]
      },
      {
       "output_type": "stream",
       "stream": "stderr",
       "text": [
        "Patch Gaps\n"
       ]
      },
      {
       "output_type": "stream",
       "stream": "stdout",
       "text": [
        "\n",
        "\t54 resolved 87%\n",
        "\t0 missing data 0%\n",
        "\t0 missing data, no overlap 0%\n",
        "\t8 full data, no  overlap 12%\n",
        "241"
       ]
      },
      {
       "output_type": "stream",
       "stream": "stdout",
       "text": [
        " real\n",
        "73 to_missing\n",
        "68 from_missing\n",
        "7793 missing_to_missing\n",
        "30"
       ]
      },
      {
       "output_type": "stream",
       "stream": "stderr",
       "text": [
        "Validation pass\n"
       ]
      },
      {
       "output_type": "stream",
       "stream": "stdout",
       "text": [
        " new_real\n",
        "43 failed_links\n",
        "38 missing points used up\n",
        "25 unique used\n",
        "9 max recursion\n",
        "9843 missing points to start with\n",
        "9818 missing points left\n",
        "271 short gaps\n",
        "0 standard gaps\n",
        "0 long gaps\n",
        "0"
       ]
      },
      {
       "output_type": "stream",
       "stream": "stderr",
       "text": [
        "Validation pass\n"
       ]
      },
      {
       "output_type": "stream",
       "stream": "stderr",
       "text": [
        "Iteration 2\n"
       ]
      },
      {
       "output_type": "stream",
       "stream": "stderr",
       "text": [
        "Validation pass\n"
       ]
      },
      {
       "output_type": "stream",
       "stream": "stdout",
       "text": [
        " short gaps\n",
        "0 standard gaps\n",
        "0 long gaps\n",
        "collisions from bbox"
       ]
      },
      {
       "output_type": "stream",
       "stream": "stdout",
       "text": [
        "\n",
        "\t13 suspects. trying 0 again\n",
        "Warning: find outline following trail of more than 100 nodes"
       ]
      },
      {
       "output_type": "stream",
       "stream": "stdout",
       "text": [
        "\n",
        "start node: 3020\n",
        "\t0 suspects. trying 0 again"
       ]
      },
      {
       "output_type": "stream",
       "stream": "stderr",
       "text": [
        "Validation pass\n"
       ]
      },
      {
       "output_type": "stream",
       "stream": "stderr",
       "text": [
        "Collapse Group\n"
       ]
      },
      {
       "output_type": "stream",
       "stream": "stderr",
       "text": [
        "Validation pass\n"
       ]
      },
      {
       "output_type": "stream",
       "stream": "stderr",
       "text": [
        "Remove Single Descendents\n"
       ]
      },
      {
       "output_type": "stream",
       "stream": "stderr",
       "text": [
        "Validation pass\n"
       ]
      },
      {
       "output_type": "stream",
       "stream": "stderr",
       "text": [
        "Remove Fission-Fusion\n"
       ]
      },
      {
       "output_type": "stream",
       "stream": "stderr",
       "text": [
        "Validation pass\n"
       ]
      },
      {
       "output_type": "stream",
       "stream": "stderr",
       "text": [
        "Remove Fission-Fusion (relative)\n"
       ]
      },
      {
       "output_type": "stream",
       "stream": "stderr",
       "text": [
        "Validation pass\n"
       ]
      },
      {
       "output_type": "stream",
       "stream": "stderr",
       "text": [
        "Remove Offshoots\n"
       ]
      },
      {
       "output_type": "stream",
       "stream": "stderr",
       "text": [
        "Validation pass\n"
       ]
      },
      {
       "output_type": "stream",
       "stream": "stderr",
       "text": [
        "Remove Single Descendents\n"
       ]
      },
      {
       "output_type": "stream",
       "stream": "stderr",
       "text": [
        "Validation pass\n"
       ]
      },
      {
       "output_type": "stream",
       "stream": "stderr",
       "text": [
        "Patch Gaps\n"
       ]
      },
      {
       "output_type": "stream",
       "stream": "stdout",
       "text": [
        "\n",
        "\t9 resolved 69%\n",
        "\t0 missing data 0%\n",
        "\t0 missing data, no overlap 0%\n",
        "\t4 full data, no  overlap 30%\n",
        "0"
       ]
      },
      {
       "output_type": "stream",
       "stream": "stdout",
       "text": [
        " real\n",
        "32 to_missing\n",
        "45 from_missing\n",
        "7772 missing_to_missing\n",
        "0"
       ]
      },
      {
       "output_type": "stream",
       "stream": "stderr",
       "text": [
        "Validation pass\n"
       ]
      },
      {
       "output_type": "stream",
       "stream": "stdout",
       "text": [
        " new_real\n",
        "32 failed_links\n",
        "0 missing points used up\n",
        "0 unique used\n",
        "9 max recursion\n",
        "9818 missing points to start with\n",
        "9818 missing points left\n",
        "0 short gaps\n",
        "0 standard gaps\n",
        "0 long gaps\n",
        "0"
       ]
      },
      {
       "output_type": "stream",
       "stream": "stderr",
       "text": [
        "Validation pass\n"
       ]
      },
      {
       "output_type": "stream",
       "stream": "stderr",
       "text": [
        "Iteration 3\n"
       ]
      },
      {
       "output_type": "stream",
       "stream": "stderr",
       "text": [
        "Validation pass\n"
       ]
      },
      {
       "output_type": "stream",
       "stream": "stdout",
       "text": [
        " short gaps\n",
        "0 standard gaps\n",
        "0 long gaps\n",
        "collisions from bbox"
       ]
      },
      {
       "output_type": "stream",
       "stream": "stdout",
       "text": [
        "\n",
        "\t4 suspects. trying 0 again\n",
        "\t0 resolved 0%"
       ]
      },
      {
       "output_type": "stream",
       "stream": "stderr",
       "text": [
        "Validation pass\n"
       ]
      },
      {
       "output_type": "stream",
       "stream": "stderr",
       "text": [
        "Collapse Group\n"
       ]
      },
      {
       "output_type": "stream",
       "stream": "stderr",
       "text": [
        "Validation pass\n"
       ]
      },
      {
       "output_type": "stream",
       "stream": "stderr",
       "text": [
        "Remove Single Descendents\n"
       ]
      },
      {
       "output_type": "stream",
       "stream": "stderr",
       "text": [
        "Validation pass\n"
       ]
      },
      {
       "output_type": "stream",
       "stream": "stderr",
       "text": [
        "Remove Fission-Fusion\n"
       ]
      },
      {
       "output_type": "stream",
       "stream": "stderr",
       "text": [
        "Validation pass\n"
       ]
      },
      {
       "output_type": "stream",
       "stream": "stderr",
       "text": [
        "Remove Fission-Fusion (relative)\n"
       ]
      },
      {
       "output_type": "stream",
       "stream": "stderr",
       "text": [
        "Validation pass\n"
       ]
      },
      {
       "output_type": "stream",
       "stream": "stderr",
       "text": [
        "Remove Offshoots\n"
       ]
      },
      {
       "output_type": "stream",
       "stream": "stderr",
       "text": [
        "Validation pass\n"
       ]
      },
      {
       "output_type": "stream",
       "stream": "stderr",
       "text": [
        "Remove Single Descendents\n"
       ]
      },
      {
       "output_type": "stream",
       "stream": "stderr",
       "text": [
        "Validation pass\n"
       ]
      },
      {
       "output_type": "stream",
       "stream": "stderr",
       "text": [
        "Patch Gaps\n"
       ]
      },
      {
       "output_type": "stream",
       "stream": "stdout",
       "text": [
        "\n",
        "\t0 missing data 0%\n",
        "\t0 missing data, no overlap 0%\n",
        "\t4 full data, no  overlap 100%\n",
        "0"
       ]
      },
      {
       "output_type": "stream",
       "stream": "stdout",
       "text": [
        " real\n",
        "32 to_missing\n",
        "45 from_missing\n",
        "7772 missing_to_missing\n",
        "0"
       ]
      },
      {
       "output_type": "stream",
       "stream": "stderr",
       "text": [
        "Validation pass\n"
       ]
      },
      {
       "output_type": "stream",
       "stream": "stdout",
       "text": [
        " new_real\n",
        "32 failed_links\n",
        "0 missing points used up\n",
        "0 unique used\n",
        "9 max recursion\n",
        "9818 missing points to start with\n",
        "9818 missing points left\n",
        "0 short gaps\n",
        "0 standard gaps\n",
        "0 long gaps\n",
        "0"
       ]
      },
      {
       "output_type": "stream",
       "stream": "stderr",
       "text": [
        "Validation pass\n"
       ]
      },
      {
       "output_type": "stream",
       "stream": "stderr",
       "text": [
        "No change since last iteration, halting\n"
       ]
      },
      {
       "output_type": "stream",
       "stream": "stdout",
       "text": [
        " short gaps\n",
        "0 standard gaps\n",
        "0 long gaps\n",
        "                    step  total-nodes  isolated-nodes  duration-med  \\\n",
        "0                    raw        10824            1222          0.00   \n",
        "1                    roi         1601             947          0.00   \n",
        "2                  blank          796             142          0.22   \n",
        "3                 iter 0          796             142          0.22   \n",
        "4        collisions (54)          742             142          0.17   \n",
        "5               simplify          279             184         38.90   \n",
        "6   gaps w/missing (271)          279             103         38.90   \n",
        "7               gaps (0)          279             103         38.90   \n",
        "8                 iter 1          279             103         38.90   \n",
        "9         collisions (9)          270             103         39.32   \n",
        "10              simplify          238             118         49.16   \n",
        "11    gaps w/missing (0)          238             118         49.16   \n",
        "12              gaps (0)          238             118         49.16   \n",
        "13                iter 2          238             118         49.16   \n",
        "14        collisions (0)          238             118         49.16   \n",
        "15              simplify          238             118         49.16   \n",
        "16    gaps w/missing (0)          238             118         49.16   \n",
        "17              gaps (0)          238             118         49.16   \n",
        "\n",
        "    moving-nodes  \n",
        "0            261  \n",
        "1            203  \n",
        "2            203  \n",
        "3            203  \n",
        "4            202  \n",
        "5            155  \n",
        "6            155  \n",
        "7            155  \n",
        "8            155  \n",
        "9            154  \n",
        "10           139  \n",
        "11           139  \n",
        "12           139  \n",
        "13           139  \n",
        "14           139  \n",
        "15           139  \n",
        "16           139  \n",
        "17           139  \n",
        "\n",
        "[18 rows x 5 columns]"
       ]
      },
      {
       "output_type": "stream",
       "stream": "stdout",
       "text": [
        "\n",
        "                    step  total-nodes  >10min  >20min  >30min  >40min  >50min\n",
        "0                    raw        10824      65      34      22       8       4\n",
        "1                    roi         1601      21       8       4       2       0\n",
        "2                  blank          796      21       8       4       2       0\n",
        "3                 iter 0          796      21       8       4       2       0\n",
        "4        collisions (54)          742      21       8       4       2       0\n",
        "5               simplify          279      22      10       7       2       1\n",
        "6   gaps w/missing (271)          279      22      10       7       2       1\n",
        "7               gaps (0)          279      22      10       7       2       1\n",
        "8                 iter 1          279      22      10       7       2       1\n",
        "9         collisions (9)          270      22      10       7       2       1\n",
        "10              simplify          238      19      14       9       2       1\n",
        "11    gaps w/missing (0)          238      19      14       9       2       1\n",
        "12              gaps (0)          238      19      14       9       2       1\n",
        "13                iter 2          238      19      14       9       2       1\n",
        "14        collisions (0)          238      19      14       9       2       1\n",
        "15              simplify          238      19      14       9       2       1\n",
        "16    gaps w/missing (0)          238      19      14       9       2       1\n",
        "17              gaps (0)          238      19      14       9       2       1\n",
        "\n",
        "[18 rows x 7 columns]\n",
        "                    step     wm_0min    wm_10min    wm_20min    wm_30min  \\\n",
        "0                    raw  971.014633  449.193467  296.928250  487.957050   \n",
        "1                    roi  390.226033  196.306183  100.026717   70.467133   \n",
        "2                  blank  390.226033  196.306183  100.026717   70.467133   \n",
        "3                 iter 0  390.226033  196.306183  100.026717   70.467133   \n",
        "4        collisions (54)  383.682283  196.306183  100.026717   70.467133   \n",
        "5               simplify  301.303783  187.750883   83.964050  178.202867   \n",
        "6   gaps w/missing (271)  301.303783  187.750883   83.964050  178.202867   \n",
        "7               gaps (0)  301.303783  187.750883   83.964050  178.202867   \n",
        "8                 iter 1  301.303783  187.750883   83.964050  178.202867   \n",
        "9         collisions (9)  298.297200  187.750883   83.964050  178.202867   \n",
        "10              simplify  294.778600   81.106800  129.802100  249.322100   \n",
        "11    gaps w/missing (0)  294.778600   81.106800  129.802100  249.322100   \n",
        "12              gaps (0)  294.778600   81.106800  129.802100  249.322100   \n",
        "13                iter 2  294.778600   81.106800  129.802100  249.322100   \n",
        "14        collisions (0)  294.778600   81.106800  129.802100  249.322100   \n",
        "15              simplify  294.778600   81.106800  129.802100  249.322100   \n",
        "16    gaps w/missing (0)  294.778600   81.106800  129.802100  249.322100   \n",
        "17              gaps (0)  294.778600   81.106800  129.802100  249.322100   \n",
        "\n",
        "      wm_40min    wm_50min  \n",
        "0   168.870883  210.058450  \n",
        "1    82.559850    0.000000  \n",
        "2    82.559850    0.000000  \n",
        "3    82.559850    0.000000  \n",
        "4    82.559850    0.000000  \n",
        "5    40.126800   56.703467  \n",
        "6    40.126800   56.703467  \n",
        "7    40.126800   56.703467  \n",
        "8    40.126800   56.703467  \n",
        "9    40.126800   56.703467  \n",
        "10   40.126800   56.703467  \n",
        "11   40.126800   56.703467  \n",
        "12   40.126800   56.703467  \n",
        "13   40.126800   56.703467  \n",
        "14   40.126800   56.703467  \n",
        "15   40.126800   56.703467  \n",
        "16   40.126800   56.703467  \n",
        "17   40.126800   56.703467  \n",
        "\n",
        "[18 rows x 7 columns]\n",
        "10019"
       ]
      },
      {
       "output_type": "stream",
       "stream": "stdout",
       "text": [
        " blobs have terminal data\n",
        "238 nodes in graph\n",
        "238 overlap\n",
        "83 have more than 1 blob id in them\n",
        "          unknown  split  join  timing  on_edge  outside-roi\n",
        "lifespan                                                    \n",
        "1              16     22    47      14       12           22\n",
        "5               5     10     3      10        5           42\n",
        "10              0      3     1       1        0            7\n",
        "20              0      0     0       0        0            5\n",
        "61              1      2     0       1        0           10\n",
        "total          22     37    51      26       17           86\n",
        "\n",
        "[6 rows x 6 columns]"
       ]
      },
      {
       "output_type": "stream",
       "stream": "stdout",
       "text": [
        "\n",
        "          unknown  split  join  timing  on_edge  outside-roi\n",
        "lifespan                                                    \n",
        "1              16     52    20       2       16           27\n",
        "5               4      3     4       1        9           54\n",
        "10              0      2     1       3        1            5\n",
        "20              0      1     1       1        0            2\n",
        "61              0      1     0      11        0            2\n",
        "total          20     59    26      18       26           90\n",
        "\n",
        "[6 rows x 6 columns]\n"
       ]
      },
      {
       "output_type": "stream",
       "stream": "stderr",
       "text": [
        "/home/visitors/peterwinter/.pyenv/versions/general/local/lib/python2.7/site-packages/pandas/core/frame.py:2175: SettingWithCopyWarning: A value is trying to be set on a copy of a slice from a DataFrame\n",
        "  **kwargs)\n"
       ]
      }
     ],
     "prompt_number": 5
    },
    {
     "cell_type": "code",
     "collapsed": false,
     "input": [
      "step_min_move = 1\n",
      "\n",
      "raw_moving_nodes =  [int(i) for i in graph.compound_bl_filter(experiment, threshold=step_min_move)]\n",
      "raw_steps, raw_durations = report_card.calculate_duration_data_from_graph(experiment, graph, raw_moving_nodes)\n",
      "\n",
      "final_moving_nodes =  [int(i) for i in graph2.compound_bl_filter(experiment, threshold=step_min_move)]\n",
      "final_steps, final_durations = report_card.calculate_duration_data_from_graph(experiment, graph2, final_moving_nodes)"
     ],
     "language": "python",
     "metadata": {},
     "outputs": []
    },
    {
     "cell_type": "heading",
     "level": 3,
     "metadata": {},
     "source": [
      "Final Eye Plot"
     ]
    },
    {
     "cell_type": "code",
     "collapsed": false,
     "input": [
      "fig, ax = plt.subplots()\n",
      "\n",
      "short_lim = 5\n",
      "step_kwargs = {'short_lim':short_lim, 'front_back_margin':10}\n",
      "\n",
      "ymax = len(final_steps[final_steps['lifespan'] > short_lim])\n",
      "\n",
      "legend_props = ep.eye_plot(ax, final_steps, \n",
      "                           color=3, label='final',\n",
      "                            ymax=ymax, **step_kwargs)\n",
      "\n",
      "\n",
      "ax.set_ylabel('track number')\n",
      "ax.set_xlabel('existence (min)')\n",
      "\n",
      "ep.add_simulation_lines(ax, raw_steps, ymax=ymax, labels=['raw', ''], color='red')\n",
      "ep.add_simulation_lines(ax, sim_steps, ymax=ymax, labels=['simulated', ''], color='black')\n",
      "\n",
      "ax.legend(**legend_props)\n",
      "\n",
      "plt.show()"
     ],
     "language": "python",
     "metadata": {},
     "outputs": []
    },
    {
     "cell_type": "heading",
     "level": 3,
     "metadata": {},
     "source": [
      "Fnial Duration Histogram"
     ]
    },
    {
     "cell_type": "code",
     "collapsed": false,
     "input": [
      "fig, ax = plt.subplots()\n",
      "\n",
      "bins = np.arange(10, 60, 10) #np.linspace(0, np.percentile(s, 95), n_bins)\n",
      "print bins\n",
      "raw, _ = np.histogram(raw_durations)\n",
      "final, _ = np.histogram(final_durations)\n",
      "ax.plot(bins, raw, label='raw', drawstyle='steps')\n",
      "ax.plot(bins, final, label='final', drawstyle='steps')\n",
      "ax.legend()\n",
      "plt.show()"
     ],
     "language": "python",
     "metadata": {},
     "outputs": [],
     "prompt_number": 5
    },
    {
     "cell_type": "code",
     "collapsed": false,
     "input": [],
     "language": "python",
     "metadata": {},
     "outputs": []
    }
   ],
   "metadata": {}
  }
 ]
}