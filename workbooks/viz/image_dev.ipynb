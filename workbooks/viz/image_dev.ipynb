{
 "metadata": {
  "name": "",
  "signature": "sha256:4c292083e75799250b2f85e0791f185f431a6c0ad378c772929d690a45d8852e"
 },
 "nbformat": 3,
 "nbformat_minor": 0,
 "worksheets": [
  {
   "cells": [
    {
     "cell_type": "code",
     "collapsed": false,
     "input": [
      "%load_ext autoreload\n",
      "%autoreload 2\n",
      "%matplotlib inline"
     ],
     "language": "python",
     "metadata": {},
     "outputs": []
    },
    {
     "cell_type": "code",
     "collapsed": false,
     "input": [
      "from __future__ import print_function, division\n",
      "import six, sys\n",
      "sys.path.append('..'); import pathcustomize, about\n",
      "about.about()\n",
      "\n",
      "import waldo\n",
      "from waldo import viz"
     ],
     "language": "python",
     "metadata": {},
     "outputs": []
    },
    {
     "cell_type": "code",
     "collapsed": false,
     "input": [
      "#ex_id = '20130614_120518'\n",
      "#ex_id = '20130318_131111'\n",
      "#ex_id = '20130414_140704'\n",
      "ex_id = '20130702_135704' # many pics\n",
      "#ex_id = '20130702_135652' # many pics\n",
      "\n",
      "experiment = waldo.Experiment(experiment_id=ex_id, callback=viz.ProgressBar('Loading Experiment').callback)\n",
      "graph = experiment.graph.copy()\n",
      "waldo.collider.remove_nodes_outside_roi(graph, experiment)\n",
      "len(graph)"
     ],
     "language": "python",
     "metadata": {},
     "outputs": []
    },
    {
     "cell_type": "code",
     "collapsed": false,
     "input": [
      "viz.show_gap(experiment, 22, 66)"
     ],
     "language": "python",
     "metadata": {},
     "outputs": []
    },
    {
     "cell_type": "code",
     "collapsed": false,
     "input": [
      "for i in range(1, 2):\n",
      "    f, axs = viz.show_blob(experiment, i)"
     ],
     "language": "python",
     "metadata": {},
     "outputs": []
    },
    {
     "cell_type": "code",
     "collapsed": false,
     "input": [
      "viz.show_collision(experiment, graph, 489)"
     ],
     "language": "python",
     "metadata": {},
     "outputs": []
    },
    {
     "cell_type": "code",
     "collapsed": false,
     "input": [
      "#f, axs = viz.show_collision_choices(experiment, graph, 2648)\n",
      "f, axs = viz.show_collision_choices(experiment, graph, 11224)"
     ],
     "language": "python",
     "metadata": {},
     "outputs": []
    },
    {
     "cell_type": "code",
     "collapsed": false,
     "input": [
      "ax = axs[0]"
     ],
     "language": "python",
     "metadata": {},
     "outputs": []
    },
    {
     "cell_type": "code",
     "collapsed": false,
     "input": [
      "ax.get_xlim()"
     ],
     "language": "python",
     "metadata": {},
     "outputs": []
    },
    {
     "cell_type": "code",
     "collapsed": false,
     "input": [
      "import matplotlib.pyplot as plt\n",
      "f = plt.figure()\n",
      "f.add_subplot(231)\n",
      "f.add_subplot(232)\n",
      "f.add_subplot(233)\n",
      "f.add_subplot(223)\n",
      "f.add_subplot(224)"
     ],
     "language": "python",
     "metadata": {},
     "outputs": []
    },
    {
     "cell_type": "code",
     "collapsed": false,
     "input": [
      "import matplotlib.pyplot as plt\n",
      "import matplotlib.gridspec as gridspec\n",
      "\n",
      "f = plt.figure()\n",
      "gs = gridspec.GridSpec(nrows=2, ncols=6)\n",
      "ax1 = f.add_subplot(gs[0, 0:2])\n",
      "ax2 = f.add_subplot(gs[0, 2:4])\n",
      "ax3 = f.add_subplot(gs[0, 4:6])\n",
      "ax4 = f.add_subplot(gs[1, 0:3])\n",
      "ax5 = f.add_subplot(gs[1, 3:6])\n"
     ],
     "language": "python",
     "metadata": {},
     "outputs": []
    },
    {
     "cell_type": "code",
     "collapsed": false,
     "input": [
      "import collections\n",
      "\n",
      "import numpy as np\n",
      "import matplotlib.pyplot as plt\n",
      "import matplotlib.colors as colors\n",
      "from PIL import ImageOps, ImageChops, Image"
     ],
     "language": "python",
     "metadata": {},
     "outputs": []
    },
    {
     "cell_type": "code",
     "collapsed": false,
     "input": [
      "img, bounds = viz.pics.pil.load_image_portion(experiment, (1260, 1380, 1870, 1970), frame=19473)\n",
      "imgx, ignore = viz.pics.pil.load_image_portion(experiment, (1260, 1380, 1870, 1970), frame=(19592+19473)//2)\n",
      "imgb, ignore = viz.pics.pil.load_image_portion(experiment, (1260, 1380, 1870, 1970), frame=19592)"
     ],
     "language": "python",
     "metadata": {},
     "outputs": []
    },
    {
     "cell_type": "code",
     "collapsed": false,
     "input": [
      "#plt.imshow(img)\n",
      "im2 = img.convert('RGB')\n",
      "im2 = iops.invert(im2)\n",
      "plt.imshow(im2)"
     ],
     "language": "python",
     "metadata": {},
     "outputs": []
    },
    {
     "cell_type": "code",
     "collapsed": false,
     "input": [
      "im2.split()"
     ],
     "language": "python",
     "metadata": {},
     "outputs": []
    },
    {
     "cell_type": "code",
     "collapsed": false,
     "input": [
      "def red_on_black(im, invert=True):\n",
      "    \"\"\"\n",
      "    Convert the greyscale *im* into an RGB image where bright = red, dark = black \n",
      "    (only the red channel is used, flipped if *invert* is ``False``)\n",
      "    \"\"\"\n",
      "    assert im.mode == 'L'\n",
      "    if invert:\n",
      "        im = ImageOps.invert(im)\n",
      "    fill = Image.new('L', im.size, 0)\n",
      "    im = Image.merge('RGB', (im, fill, fill))\n",
      "    return im\n",
      "\n",
      "def red_on_white(im):\n",
      "    \"\"\"\n",
      "    Convert the greyscale *im* into an RGB image where bright = white, dark = red.\n",
      "    \"\"\"\n",
      "    assert im.mode == 'L'\n",
      "    #im = iops.invert(im)\n",
      "    fill = Image.new('L', im.size, 255)\n",
      "    im = Image.merge('RGB', (fill, im, im))\n",
      "    return im\n",
      "\n",
      "def rotate_hue(im, x):\n",
      "    \"\"\"Adjust the hue of *im* by *x*, where *x* is a value between 0.0 to 1.0\"\"\"\n",
      "    assert im.mode == 'RGB'\n",
      "    ima = np.asarray(im) / 255\n",
      "    \n",
      "    ima_hsv = colors.rgb_to_hsv(ima)    \n",
      "    ima_hsv[...,0] = (ima_hsv[...,0] + x) % 1\n",
      "    ima = colors.hsv_to_rgb(ima_hsv)\n",
      "    \n",
      "    ima *= 255\n",
      "    ima = ima.astype(np.uint8)\n",
      "    \n",
      "    im = Image.fromarray(ima)\n",
      "    return im"
     ],
     "language": "python",
     "metadata": {},
     "outputs": []
    },
    {
     "cell_type": "code",
     "collapsed": false,
     "input": [
      "def rainbow_merge(images, hue_range=(0, 2/3)):\n",
      "    '''\n",
      "    Merges a series of *images* using ***unicorns***.\n",
      "\n",
      "    Parameters\n",
      "    ----------\n",
      "    images : sequence of :py:class:`PIL.Image.Image`\n",
      "        Image stack\n",
      "        \n",
      "    Keyword Arguments\n",
      "    -----------------\n",
      "    hue_range : 2-ple of hue range\n",
      "\n",
      "    Returns\n",
      "    -------\n",
      "    :py:class:`PIL.Image.Image`\n",
      "        Merged image\n",
      "    '''\n",
      "    # Guards\n",
      "    if not images:\n",
      "        raise ValueError('No images provided')\n",
      "    elif not isinstance(images, collections.Sequence):\n",
      "        raise TypeError('Must be a sequence')\n",
      "        \n",
      "    n_images = len(images)\n",
      "    if n_images == 1:\n",
      "        # make an identical start and end \n",
      "        images = [images[0]] * 2\n",
      "        n_images = 2\n",
      "\n",
      "    def hue_adj(i):\n",
      "        return hue_range[0] + (hue_range[1] - hue_range[0]) * (i / n_images)\n",
      "        \n",
      "    # stack up, keeping darkest pixels\n",
      "    images = iter(images)\n",
      "    composite = None\n",
      "    for i, image in enumerate(images):\n",
      "        image = red_on_white(image)\n",
      "        image = rotate_hue(image, hue_adj(i))\n",
      "        if composite is None:\n",
      "            composite = image\n",
      "            continue\n",
      "        composite = ImageChops.darker(composite, image)\n",
      "\n",
      "    return composite"
     ],
     "language": "python",
     "metadata": {},
     "outputs": []
    },
    {
     "cell_type": "code",
     "collapsed": false,
     "input": [
      "pil = viz.pics.pil\n",
      "show_image = viz.pics.plotting.show_image\n",
      "\n",
      "def split_keys(d, keys):\n",
      "    new_d = {}\n",
      "    for k in keys:\n",
      "        try:\n",
      "            new_d[k] = d.pop(k)\n",
      "        except KeyError:\n",
      "            pass\n",
      "    return new_d\n",
      "\n",
      "def plot_spacetime_rainbow(axes, experiment, bounds, **kwargs):\n",
      "    \"\"\"\n",
      "    Plot the images from *experiment* on or bracked by *time* or *frame* (can be a\n",
      "    scalar or len-2 sequence) on *axes* (can be one or an iterable of axes\n",
      "    objects).\n",
      "    \n",
      "    Keyword Arguments\n",
      "    -----------------\n",
      "    time : **required** (or frame)\n",
      "        scalar or 2-ple of time/frame(s)\n",
      "    frame : **required** (or time)\n",
      "        scalar or 2-ple of time/frame(s)\n",
      "        \n",
      "    Loose keyword arguments passed to :py:func:`show_image`.\n",
      "    \"\"\"\n",
      "    if not isinstance(bounds, pil.Box):\n",
      "        bounds = pil.Box(bounds)\n",
      "        \n",
      "    # capture some kwargs\n",
      "    temporal_kwas = split_keys(kwargs, ['time', 'frame'])\n",
      "    rainbow_kwas = split_keys(kwargs, ['hue_range'])        \n",
      "        \n",
      "    # find and load images\n",
      "    try:\n",
      "        image_files = experiment.image_files.spanning(**temporal_kwas)\n",
      "    except TypeError:\n",
      "        image_files = [experiment.image_files.nearest(**temporal_kwas)[0]]\n",
      "\n",
      "    images, extents = zip(*(\n",
      "            pil.load_image_portion(experiment, bounds, filename=fn)\n",
      "            for fn\n",
      "            in image_files))\n",
      "\n",
      "    # flatten time\n",
      "    if len(images) > 1:\n",
      "        image = rainbow_merge(images, **rainbow_kwas)\n",
      "        assert all(sum(extents) == e for e in extents)\n",
      "    else:\n",
      "        image = images[0]\n",
      "\n",
      "    extents = extents[0]\n",
      "\n",
      "    # plot\n",
      "    try:\n",
      "        for ax in axes:\n",
      "            show_image(ax, image, extents, bounds, **kwargs)\n",
      "    except TypeError:\n",
      "        show_image(axes, image, extents, bounds, **kwargs)"
     ],
     "language": "python",
     "metadata": {},
     "outputs": []
    },
    {
     "cell_type": "code",
     "collapsed": false,
     "input": [
      "impre = red_on_white(img)\n",
      "immid = rotate_hue(red_on_white(imgx), 1/3)\n",
      "impost = rotate_hue(red_on_white(imgb), 2/3)\n",
      "plt.imshow(impost)"
     ],
     "language": "python",
     "metadata": {},
     "outputs": []
    },
    {
     "cell_type": "code",
     "collapsed": false,
     "input": [
      "plt.imshow(ichops.darker(ichops.darker(impre, impost), immid))"
     ],
     "language": "python",
     "metadata": {},
     "outputs": []
    },
    {
     "cell_type": "code",
     "collapsed": false,
     "input": [
      "f, ax = plt.subplots()\n",
      "bounds = (1260, 1380, 1870, 1970)\n",
      "#bounds = (1200, 1450, 1800, 2050)\n",
      "frames = (19473, 19592)\n",
      "#frames = (18000, 20000)\n",
      "viz.pics.plotting.plot_spacetime_rainbow(ax, experiment, bounds, frame=frames, hue_range=(0, 2/3))\n",
      "#a = viz.pics.pil.rotate_hue(viz.pics.pil.red_on_white(img), 0)\n",
      "#plot_spacetime_rainbow(ax, experiment, (1200, 1450, 1800, 2050), frame=frames, hue_range=(2/3, 0))\n",
      "plt.imshow(a)"
     ],
     "language": "python",
     "metadata": {},
     "outputs": []
    },
    {
     "cell_type": "code",
     "collapsed": false,
     "input": [],
     "language": "python",
     "metadata": {},
     "outputs": []
    }
   ],
   "metadata": {}
  }
 ]
}