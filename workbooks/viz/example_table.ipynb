{
 "cells": [
  {
   "cell_type": "markdown",
   "metadata": {},
   "source": [
    "This workbook is intended to overlay colored outlines over images in order to illustrate types of mistakes the MWT makes \n",
    "\n",
    "This notebook was used to generate mistakes used in Figure 1."
   ]
  },
  {
   "cell_type": "code",
   "execution_count": null,
   "metadata": {
    "collapsed": false
   },
   "outputs": [],
   "source": [
    "%load_ext autoreload\n",
    "%autoreload 2\n",
    "%matplotlib inline"
   ]
  },
  {
   "cell_type": "code",
   "execution_count": null,
   "metadata": {
    "collapsed": false
   },
   "outputs": [],
   "source": [
    "import six\n",
    "import os\n",
    "import sys\n",
    "sys.path.append('..'); import pathcustomize, about\n",
    "about.about()\n",
    "\n",
    "\n",
    "import pathcustomize\n",
    "\n",
    "\n",
    "import itertools\n",
    "import random\n",
    "\n",
    "import numpy as np\n",
    "import pandas as pd\n",
    "\n",
    "import matplotlib.pyplot as plt\n",
    "import matplotlib.gridspec as gridspec\n",
    "import matplotlib.cm as cm\n",
    "import matplotlib.image as mpimg\n",
    "import networkx as nx\n",
    "#from IPython.core.display import Image as display_image\n",
    "\n",
    "#os.environ.setdefault('MULTIWORM_SETTINGS', 'multiworm_settings')\n",
    "\n",
    "import waldo.wio as wio\n",
    "import multiworm\n",
    "#import collider\n",
    "#from waldo.collider.viz import show_before_and_after"
   ]
  },
  {
   "cell_type": "code",
   "execution_count": null,
   "metadata": {
    "collapsed": false
   },
   "outputs": [],
   "source": [
    "# load all experiments from which we will draw examples\n",
    "\n",
    "e_pics = wio.Experiment(experiment_id='20130702_135704')\n",
    "e_gaps = wio.Experiment(experiment_id='20130318_131111')\n",
    "e_spurious = wio.Experiment(experiment_id='20130614_120518')"
   ]
  },
  {
   "cell_type": "code",
   "execution_count": null,
   "metadata": {
    "collapsed": false
   },
   "outputs": [],
   "source": [
    "# load screen results for the experiment with lots of pictures\n",
    "\n",
    "ex_id = '20130702_135704'\n",
    "screen = pd.read_csv('../../data/prep/collision_validate.csv')\n",
    "screen = screen[screen['eid'] == ex_id]\n",
    "assert len(screen), \"No data for experiment ID\"\n",
    "#print screen.head()\n",
    "partials = list(screen[screen['ans'] == 5]['bid'])\n",
    "singles = list(screen[screen['ans'] == 10]['bid'])\n",
    "doubles = list(screen[screen['ans'] == 20]['bid'])\n",
    "triples = list(screen[screen['ans'] == 30]['bid'])"
   ]
  },
  {
   "cell_type": "code",
   "execution_count": null,
   "metadata": {
    "collapsed": false
   },
   "outputs": [],
   "source": [
    "def plot_single_example(bid, experiment, size=(100, 100), center=None, ax=None):\n",
    "\n",
    "    \n",
    "    # get outline\n",
    "    time, o = find_mid_outline(bid, experiment)\n",
    "    x, y = zip(*o)\n",
    "    bbox = min(x), min(y), max(x), max(y)\n",
    "    xmin, ymin, xmax, ymax = min(x), min(y), max(x), max(y)    \n",
    "    \n",
    "    # get image\n",
    "    #time = experiment[bid]['died_t']\n",
    "    print 'time:', time\n",
    "    image_time = find_nearest(list(six.iterkeys(experiment.image_files)), time)\n",
    "    nearest_img = experiment.image_files[image_time]\n",
    "    im = mpimg.imread(str(nearest_img))\n",
    "\n",
    "    if ax is None:\n",
    "        fig, ax = plt.subplots()\n",
    "    ax.plot(x, y, color='red', lw=2)\n",
    "    #ax.fill(x, y, alpha=0.05)\n",
    "\n",
    "    if center is None:\n",
    "        xmid = (xmin + xmax)/2.0\n",
    "        ymid = (ymin + ymax)/2.0\n",
    "    else:\n",
    "        xmid, ymid = center\n",
    "    print 'center:', xmid, ymid\n",
    "    xmin = int(xmid - size[0]/2.0)\n",
    "    xmax = int(xmid + size[0]/2.0)\n",
    "    ymin = int(ymid - size[0]/2.0)\n",
    "    ymax = int(ymid + size[0]/2.0)\n",
    "    \n",
    "    \n",
    "    ax.set_xlim([xmin, xmax])\n",
    "    ax.set_ylim([ymin, ymax])   \n",
    "    ax.set_autoscale_on(False)\n",
    "    ax.xaxis.set_ticks([])\n",
    "    ax.yaxis.set_ticks([])\n",
    "    ax.imshow(im.T, cmap=plt.cm.Greys_r)\n"
   ]
  },
  {
   "cell_type": "code",
   "execution_count": null,
   "metadata": {
    "collapsed": false
   },
   "outputs": [],
   "source": [
    "def find_closest_outline(nodes, experiment, closest_frame=None, use_first=True):\n",
    "    outlines = []\n",
    "    if use_first:\n",
    "        it_step = 1\n",
    "    else:\n",
    "        it_step = -1\n",
    "    \n",
    "    for node in nodes:\n",
    "        i = 0\n",
    "        while True:\n",
    "            try:\n",
    "                outline = multiworm.readers.blob.decode_outline_line(experiment[node], i)\n",
    "                outlines.append(outline)\n",
    "                break\n",
    "            except ValueError:\n",
    "                pass\n",
    "            i += it_step\n",
    "    #print outlines\n",
    "    return outlines\n",
    "\n",
    "def find_mid_outline(node, experiment):\n",
    "    outlines = []\n",
    "    frames = []\n",
    "    times = []\n",
    "    \n",
    "    bframes, btimes = zip(*[(int(l.split()[0]), float(l.split()[1])) for l in experiment._blob_lines(node)])\n",
    "    \n",
    "    # first just try to grab mid outline\n",
    "    mid= int(len(btimes)/2)\n",
    "    try:\n",
    "        outline = multiworm.readers.blob.decode_outline_line(experiment[node], mid)\n",
    "        time = btimes[mid]\n",
    "        return time, outline\n",
    "    except ValueError:\n",
    "        pass\n",
    "    \n",
    "    # if that didn't work grab as many outlines as possible and return mid, working outline\n",
    "    #print btimes\n",
    "    for i in range(len(btimes)):    \n",
    "        try:\n",
    "            outline = multiworm.readers.blob.decode_outline_line(experiment[node], i)\n",
    "            outlines.append(outline)\n",
    "            times.append(btimes[i])\n",
    "            frames.append(bframes[i])\n",
    "        except ValueError:\n",
    "            pass\n",
    "    mid= len(times)/2\n",
    "    \n",
    "    return times[mid], outlines[mid]\n",
    "\n",
    "#find_mid_outline(node=513, experiment=e_pics)"
   ]
  },
  {
   "cell_type": "code",
   "execution_count": null,
   "metadata": {
    "collapsed": false
   },
   "outputs": [],
   "source": [
    "def find_nearest_index(seq, value):\n",
    "    \"\"\"Return the index of the value in the sequence that is closest to the given value\"\"\"\n",
    "    return (np.abs(np.array(seq)-value)).argmin()\n",
    "\n",
    "def find_nearest(seq, value):\n",
    "    \"\"\"Return the value in the sequence that is closest to the given value\"\"\"\n",
    "    return seq[find_nearest_index(seq, value)]\n",
    "\n",
    "def frame_time(experiment, frame):\n",
    "    \"\"\"Return the time (in seconds) for the given frame from experiment\"\"\"\n",
    "    return experiment.frame_times[int(frame) - 1]\n",
    "\n",
    "def nearest_image(experiment, frame=None, time=None):\n",
    "    if frame is None and time is None:\n",
    "        raise ValueError(\"either the 'time' or 'frame' keyword argument must be provided\")\n",
    "    if time is None:\n",
    "        time = frame_time(experiment, frame)\n",
    "    \n",
    "    image_time = find_nearest(list(six.iterkeys(experiment.image_files)), time)\n",
    "    \n",
    "    return experiment.image_files[image_time]\n"
   ]
  },
  {
   "cell_type": "code",
   "execution_count": null,
   "metadata": {
    "collapsed": false
   },
   "outputs": [],
   "source": [
    "def plot_spurious(bid, experiment, size=(100, 100), center=None, ax=None):\n",
    "\n",
    "    time = experiment[bid]['died_t']\n",
    "    # get outline\n",
    "    o = find_closest_outline([bid], experiment=experiment)\n",
    "    x, y = zip(*o[0])\n",
    "    bbox = min(x), min(y), max(x), max(y)\n",
    "    xmin, ymin, xmax, ymax = min(x), min(y), max(x), max(y)    \n",
    "    \n",
    "    # get image\n",
    "\n",
    "    print 'time:', time\n",
    "    image_time = find_nearest(list(six.iterkeys(experiment.image_files)), time)\n",
    "    nearest_img = experiment.image_files[image_time]\n",
    "    im = mpimg.imread(str(nearest_img))\n",
    "\n",
    "    if ax is None:\n",
    "        fig, ax = plt.subplots()\n",
    "    ax.plot(x, y, color='red', lw=2)\n",
    "    #ax.fill(x, y, alpha=0.05)\n",
    "\n",
    "    if center is None:\n",
    "        xmid = (xmin + xmax)/2.0\n",
    "        ymid = (ymin + ymax)/2.0\n",
    "    else:\n",
    "        xmid, ymid = center\n",
    "    print 'center:', xmid, ymid\n",
    "    xmin = int(xmid - size[0]/2.0)\n",
    "    xmax = int(xmid + size[0]/2.0)\n",
    "    ymin = int(ymid - size[0]/2.0)\n",
    "    ymax = int(ymid + size[0]/2.0)\n",
    "    \n",
    "    \n",
    "    ax.set_xlim([xmin, xmax])\n",
    "    ax.set_ylim([ymin, ymax])   \n",
    "    ax.set_autoscale_on(False)\n",
    "    ax.xaxis.set_ticks([])\n",
    "    ax.yaxis.set_ticks([])\n",
    "    ax.imshow(im.T, cmap=plt.cm.Greys_r)\n",
    "\n",
    "def plot_missing(time, center, experiment, size=(100,100), ax=None):\n",
    "    image_time = find_nearest(list(six.iterkeys(experiment.image_files)), time)\n",
    "    nearest_img = experiment.image_files[image_time]\n",
    "    im = mpimg.imread(str(nearest_img))\n",
    "\n",
    "    if ax is None:\n",
    "        fig, ax = plt.subplots()\n",
    "\n",
    "\n",
    "    xmid, ymid = center\n",
    "    print 'center:', xmid, ymid\n",
    "    xmin = int(xmid - size[0]/2.0)\n",
    "    xmax = int(xmid + size[0]/2.0)\n",
    "    ymin = int(ymid - size[0]/2.0)\n",
    "    ymax = int(ymid + size[0]/2.0)\n",
    "    \n",
    "    \n",
    "    ax.set_xlim([xmin, xmax])\n",
    "    ax.set_ylim([ymin, ymax])   \n",
    "    ax.set_autoscale_on(False)\n",
    "    ax.xaxis.set_ticks([])\n",
    "    ax.yaxis.set_ticks([])\n",
    "    ax.imshow(im.T, cmap=plt.cm.Greys_r)\n",
    "#plot_spurious(bid=195221, experiment=e_spurious)\n"
   ]
  },
  {
   "cell_type": "code",
   "execution_count": null,
   "metadata": {
    "collapsed": false
   },
   "outputs": [],
   "source": [
    "fig, ax = plt.subplots(1,6)\n",
    "fig.set_size_inches(30,10)\n",
    "\n",
    "# single\n",
    "plot_single_example(bid=73, experiment=e_pics, ax=ax[0])\n",
    "# partial\n",
    "plot_single_example(bid=513, experiment=e_pics, center=(1310, 1288), ax=ax[1])\n",
    "#double\n",
    "plot_single_example(bid=34556, experiment=e_pics, ax=ax[2])\n",
    "#triple\n",
    "plot_single_example(bid=60440, experiment=e_pics, ax=ax[3])\n",
    "#missing\n",
    "time=1892.0 \n",
    "center= (574.1369863013698, 1052.0730593607307)\n",
    "plot_missing(time=time, center=center, experiment=e_gaps, ax=ax[4])\n",
    "#spurious\n",
    "plot_spurious(bid=195221, experiment=e_spurious, ax=ax[5])\n",
    "\n",
    "\n",
    "name = 'blob-taxonomy.png'\n",
    "plt.savefig(name)"
   ]
  },
  {
   "cell_type": "markdown",
   "metadata": {},
   "source": [
    "### spurious"
   ]
  },
  {
   "cell_type": "code",
   "execution_count": null,
   "metadata": {
    "collapsed": false
   },
   "outputs": [],
   "source": [
    "e = e_spurious\n",
    "#e = e_pics\n",
    "matches = e.prepdata.load('matches')\n",
    "#print matches.head()\n",
    "m = matches[matches['good'] == False]\n",
    "m = m[m['roi'] == True]\n",
    "spurious = list(m['bid'])\n",
    "print len(spurious), 'spurious blobs found'"
   ]
  },
  {
   "cell_type": "code",
   "execution_count": null,
   "metadata": {
    "collapsed": false
   },
   "outputs": [],
   "source": [
    "random_index = np.random.randint(0, len(spurious), 10)\n",
    "r = np.array(spurious)[random_index]\n",
    "print r\n",
    "for bid in r[:]:\n",
    "    print bid\n",
    "    plot_spurious(bid, experiment=e)\n",
    "    plt.show()"
   ]
  },
  {
   "cell_type": "code",
   "execution_count": null,
   "metadata": {
    "collapsed": false
   },
   "outputs": [],
   "source": [
    "plot_single_example(bid=44965, experiment=e)\n"
   ]
  },
  {
   "cell_type": "markdown",
   "metadata": {},
   "source": [
    "### missing"
   ]
  },
  {
   "cell_type": "code",
   "execution_count": null,
   "metadata": {
    "collapsed": false
   },
   "outputs": [],
   "source": [
    "plot_missing(time=120, center=(15.383648,865.433962), experiment=e_gaps)"
   ]
  },
  {
   "cell_type": "code",
   "execution_count": null,
   "metadata": {
    "collapsed": false
   },
   "outputs": [],
   "source": [
    "e = e_gaps\n",
    "#e = e_pics\n",
    "missing = e.prepdata.load('missing', index_col=0)\n",
    "random_index = np.random.randint(0, len(missing), 5)\n",
    "random_missing = missing.iloc[random_index]\n",
    "for i, r in random_missing.iterrows():\n",
    "    #print r\n",
    "    time = float(r['t'])\n",
    "    center = float(r['x']), float(r['y'])\n",
    "    print 'time', time, 'center:', center\n",
    "    plot_missing(time=time, center=center, experiment=e)\n",
    "    plt.show()"
   ]
  },
  {
   "cell_type": "markdown",
   "metadata": {},
   "source": [
    "### partial worms"
   ]
  },
  {
   "cell_type": "code",
   "execution_count": null,
   "metadata": {
    "collapsed": false
   },
   "outputs": [],
   "source": [
    "print 'partial'\n",
    "plot_single_example(bid=513, experiment=e_pics, center=(1310, 1288))"
   ]
  },
  {
   "cell_type": "code",
   "execution_count": null,
   "metadata": {
    "collapsed": false
   },
   "outputs": [],
   "source": [
    "random_index = np.random.randint(0, len(partials), 5)\n",
    "r = np.array(partials)[random_index]\n",
    "print r\n",
    "for bid in r:\n",
    "    print bid\n",
    "    plot_single_example(bid, experiment=e_pics)\n",
    "    plt.show()"
   ]
  },
  {
   "cell_type": "code",
   "execution_count": null,
   "metadata": {
    "collapsed": false
   },
   "outputs": [],
   "source": [
    "notable_partials =[29199, 47999]"
   ]
  },
  {
   "cell_type": "markdown",
   "metadata": {},
   "source": [
    "### single worms"
   ]
  },
  {
   "cell_type": "code",
   "execution_count": null,
   "metadata": {
    "collapsed": false
   },
   "outputs": [],
   "source": [
    "print len(singles), 'known single expamples'\n",
    "print singles[:20]\n",
    "boring = [72]"
   ]
  },
  {
   "cell_type": "code",
   "execution_count": null,
   "metadata": {
    "collapsed": false
   },
   "outputs": [],
   "source": [
    "random_index = np.random.randint(0, len(singles), 5)\n",
    "r = np.array(singles)[random_index]\n",
    "print r\n",
    "for bid in r:\n",
    "    print bid\n",
    "    plot_single_example(bid, experiment=e_pics)\n",
    "    plt.show()"
   ]
  },
  {
   "cell_type": "code",
   "execution_count": null,
   "metadata": {
    "collapsed": false
   },
   "outputs": [],
   "source": [
    "print 'single'\n",
    "plot_single_example(bid=73, experiment=e_pics)"
   ]
  },
  {
   "cell_type": "code",
   "execution_count": null,
   "metadata": {
    "collapsed": false
   },
   "outputs": [],
   "source": [
    "bid = 48560\n",
    "plot_single_example(bid, experiment=e_pics)"
   ]
  },
  {
   "cell_type": "code",
   "execution_count": null,
   "metadata": {
    "collapsed": false
   },
   "outputs": [],
   "source": [
    "print 'single'\n",
    "plot_single_example(bid=1292, experiment=e_pics)"
   ]
  },
  {
   "cell_type": "markdown",
   "metadata": {},
   "source": [
    "### double"
   ]
  },
  {
   "cell_type": "code",
   "execution_count": null,
   "metadata": {
    "collapsed": false
   },
   "outputs": [],
   "source": [
    "random_index = np.random.randint(0, len(doubles), 5)\n",
    "r = np.array(doubles)[random_index]\n",
    "print r\n",
    "for bid in r:\n",
    "    print bid\n",
    "    plot_single_example(bid, experiment=e_pics)\n",
    "    plt.show()"
   ]
  },
  {
   "cell_type": "code",
   "execution_count": null,
   "metadata": {
    "collapsed": false
   },
   "outputs": [],
   "source": [
    "notable_doubles = [34556, 17572]"
   ]
  },
  {
   "cell_type": "code",
   "execution_count": null,
   "metadata": {
    "collapsed": false
   },
   "outputs": [],
   "source": [
    "plot_single_example(bid=535, experiment=e_pics)"
   ]
  },
  {
   "cell_type": "code",
   "execution_count": null,
   "metadata": {
    "collapsed": false
   },
   "outputs": [],
   "source": [
    "bid=6708\n",
    "plot_single_example(bid, experiment=e_pics)"
   ]
  },
  {
   "cell_type": "markdown",
   "metadata": {},
   "source": [
    "### triple"
   ]
  },
  {
   "cell_type": "code",
   "execution_count": null,
   "metadata": {
    "collapsed": false
   },
   "outputs": [],
   "source": [
    "print len(triples), 'known triple expamples'\n",
    "print triples[:20]"
   ]
  },
  {
   "cell_type": "code",
   "execution_count": null,
   "metadata": {
    "collapsed": false
   },
   "outputs": [],
   "source": [
    "random_index = np.random.randint(0, len(triples), 5)\n",
    "r = np.array(triples)[random_index]\n",
    "print r\n",
    "for bid in r:\n",
    "    print bid\n",
    "    plot_single_example(bid, experiment=e_pics)\n",
    "    plt.show()"
   ]
  },
  {
   "cell_type": "code",
   "execution_count": null,
   "metadata": {
    "collapsed": false
   },
   "outputs": [],
   "source": [
    "notable_tripples = [60440, 45297]"
   ]
  },
  {
   "cell_type": "markdown",
   "metadata": {},
   "source": [
    "# multi-frame plots"
   ]
  },
  {
   "cell_type": "code",
   "execution_count": null,
   "metadata": {
    "collapsed": false
   },
   "outputs": [],
   "source": [
    "\n",
    "#ex_id = '20130318_131111'\n",
    "\n",
    "ex_id = '20130702_135704' # many pics\n",
    "\n",
    "experiment = wio.Experiment(experiment_id=ex_id)\n",
    "digraph = experiment.graph.copy()"
   ]
  },
  {
   "cell_type": "code",
   "execution_count": null,
   "metadata": {
    "collapsed": false
   },
   "outputs": [],
   "source": [
    "#%matplotlib tk\n",
    "target = 513\n",
    "f, axs = show_before_and_after(experiment, target=target)\n",
    "for ax in axs:\n",
    "    ax.set_autoscale_on(False)\n",
    "    still = mpimg.imread(str(nearest_image(experiment, frame=experiment[target]['died_f'])))\n",
    "    ax.xaxis.set_ticks([])\n",
    "    ax.yaxis.set_ticks([])\n",
    "    ax.imshow(still.T, cmap=plt.cm.Greys_r)"
   ]
  },
  {
   "cell_type": "code",
   "execution_count": null,
   "metadata": {
    "collapsed": false
   },
   "outputs": [],
   "source": [
    "def find_outlines(target, digraph, experiment):\n",
    "    parents, now, children = find_immediate_relatives(target, digraph)\n",
    "    #children = list(digraph.successors(target))\n",
    "    #parents = list(digraph.predecessors(target))    \n",
    "    #now = list(itertools.chain.from_iterable(digraph.predecessors_iter(c) for c in children))\n",
    "    #now.extend(list(itertools.chain.from_iterable(digraph.successors_iter(p) for p in parents)))\n",
    "    #now = list(set(now))\n",
    "    #return parents, children\n",
    "    print 'c:', children\n",
    "    print 'now:', now\n",
    "    print 'p:', parents\n",
    "\n",
    "    #im_matches = experiment.prepdata.load('matches')\n",
    "    #im_matches.set_index('bid', inplace=True)\n",
    "    #all_frames = list(set(im_matches['frame']))\n",
    "    #print len(all_frames), 'frames'\n",
    "\n",
    "    parent_outlines = find_closest_outline(parents, use_first=False)\n",
    "    now_outlines = find_closest_outline(now, use_first=False)\n",
    "    child_outlines = find_closest_outline(children, use_first=True)\n",
    "\n",
    "    frame = experiment[target]['died_f']\n",
    "    pframe = experiment[parents[0]]['died_f']\n",
    "    cframe = experiment[children[0]]['born_f']\n",
    "\n",
    "    print pframe, frame, cframe\n",
    "    frames = [pframe, frame, cframe]\n",
    "    return frames, parent_outlines, now_outlines, child_outlines"
   ]
  },
  {
   "cell_type": "code",
   "execution_count": null,
   "metadata": {
    "collapsed": false
   },
   "outputs": [],
   "source": [
    "def find_immediate_relatives(target, digraph):\n",
    "    children = list(digraph.successors(target))\n",
    "    parents = list(digraph.predecessors(target))    \n",
    "    now = list(itertools.chain.from_iterable(digraph.predecessors_iter(c) for c in children))\n",
    "    now.extend(list(itertools.chain.from_iterable(digraph.successors_iter(p) for p in parents)))\n",
    "    now = list(set(now))\n",
    "    return parents, now, children\n",
    "    "
   ]
  },
  {
   "cell_type": "code",
   "execution_count": null,
   "metadata": {
    "collapsed": false
   },
   "outputs": [],
   "source": [
    "def plot_outlines(parent_outlines, now_outlines, child_outlines, images, size=100):\n",
    "\n",
    "    fig = plt.figure()\n",
    "    fig.set_size_inches(30,10)\n",
    "    \n",
    "    gs = gridspec.GridSpec(1, 3)\n",
    "    ax1 = plt.subplot(gs[0, 0])\n",
    "    ax2 = plt.subplot(gs[0, 1])\n",
    "    ax3 = plt.subplot(gs[0, 2])\n",
    "    axs = [ax1, ax2, ax3]\n",
    "\n",
    "    bbox = (100000, 100000, 0, 0)\n",
    "    def compare_bbox(x, y, bbox):\n",
    "        xmin, ymin, xmax, ymax = bbox\n",
    "        if min(x) < xmin:\n",
    "            xmin = min(x)\n",
    "        if min(y) < ymin:\n",
    "            ymin = min(y)\n",
    "        if max(x) > xmax:\n",
    "            xmax = max(x)\n",
    "        if max(y) > ymax:\n",
    "            ymax = max(y)\n",
    "        return (xmin, ymin, xmax, ymax)\n",
    "\n",
    "    color_cycle = ax1._get_lines.color_cycle        \n",
    "\n",
    "    def draw_outlines_on_ax(ax, outlines, bbox):\n",
    "        for o in outlines:\n",
    "            x, y = zip(*o)\n",
    "            #ax.plot(x, y, color='black', lw=0.5)\n",
    "            #ax.fill(x, y, alpha=0.05, color=color_cycle.next())\n",
    "            ax.plot(x, y, lw=2, color=color_cycle.next())   \n",
    "            bbox = compare_bbox(x, y, bbox)\n",
    "        return bbox\n",
    "\n",
    "    bbox = draw_outlines_on_ax(axs[0], parent_outlines, bbox)\n",
    "    bbox = draw_outlines_on_ax(axs[1], now_outlines, bbox)\n",
    "    bbox = draw_outlines_on_ax(axs[2], child_outlines, bbox)\n",
    "\n",
    "    # create box around midpoint\n",
    "    xmin, ymin, xmax, ymax = bbox\n",
    "    xmid = (xmax + xmin) / 2 \n",
    "    ymid = (ymax + ymin) / 2\n",
    "    print bbox\n",
    "    xmin = int(xmid - size / 2)\n",
    "    xmax = int(xmid + size / 2)\n",
    "    ymin = int(ymid - size / 2)\n",
    "    ymax = int(ymid + size / 2)    \n",
    "    print (xmin, ymin, xmax, ymax)\n",
    " \n",
    "    for ax, im in zip(axs, images):\n",
    "        ax.set_xlim([xmin, xmax])\n",
    "        ax.set_ylim([ymin, ymax])\n",
    "        ax.set_autoscale_on(False)\n",
    "        ax.xaxis.set_ticks([])\n",
    "        ax.yaxis.set_ticks([])\n",
    "        ax.imshow(im.T, cmap=plt.cm.Greys_r)\n",
    "    return fig\n",
    "\n",
    "def plot_outlines_margin(parent_outlines, now_outlines, child_outlines, images, margin=3):\n",
    "\n",
    "    fig = plt.figure()\n",
    "    gs = gridspec.GridSpec(1, 3)\n",
    "    ax1 = plt.subplot(gs[0, 0])\n",
    "    ax2 = plt.subplot(gs[0, 1])\n",
    "    ax3 = plt.subplot(gs[0, 2])\n",
    "    axs = [ax1, ax2, ax3]\n",
    "\n",
    "    bbox = (100000, 100000, 0, 0)\n",
    "    def compare_bbox(x, y, bbox):\n",
    "        xmin, ymin, xmax, ymax = bbox\n",
    "        if min(x) < xmin:\n",
    "            xmin = min(x)\n",
    "        if min(y) < ymin:\n",
    "            ymin = min(y)\n",
    "        if max(x) > xmax:\n",
    "            xmax = max(x)\n",
    "        if max(y) > ymax:\n",
    "            ymax = max(y)\n",
    "        return (xmin, ymin, xmax, ymax)\n",
    "\n",
    "    color_cycle = ax1._get_lines.color_cycle        \n",
    "\n",
    "    def draw_outlines_on_ax(ax, outlines, bbox):\n",
    "        for o in outlines:\n",
    "            x, y = zip(*o)\n",
    "            #ax.plot(x, y, color='black', lw=0.5)\n",
    "            #ax.fill(x, y, alpha=0.05, color=color_cycle.next())\n",
    "            ax.plot(x, y, lw=2, color=color_cycle.next())   \n",
    "            bbox = compare_bbox(x, y, bbox)\n",
    "        return bbox\n",
    "\n",
    "\n",
    "    bbox = draw_outlines_on_ax(axs[0], parent_outlines, bbox)\n",
    "    bbox = draw_outlines_on_ax(axs[1], now_outlines, bbox)\n",
    "    bbox = draw_outlines_on_ax(axs[2], child_outlines, bbox)\n",
    "\n",
    "    xmin, ymin, xmax, ymax = bbox\n",
    "\n",
    "    for ax, im in zip(axs, images):\n",
    "        ax.set_xlim([xmin-margin, xmax+margin])\n",
    "        ax.set_ylim([ymin-margin, ymax+margin])\n",
    "        ax.set_autoscale_on(False)\n",
    "        ax.xaxis.set_ticks([])\n",
    "        ax.yaxis.set_ticks([])\n",
    "        ax.imshow(im.T, cmap=plt.cm.Greys_r)\n",
    "    return fig"
   ]
  },
  {
   "cell_type": "code",
   "execution_count": null,
   "metadata": {
    "collapsed": false
   },
   "outputs": [],
   "source": [
    "def plot_target(target, digraph, experiment, margin=False):\n",
    "    frames, parent_outlines, now_outlines, child_outlines = find_outlines(target, digraph, experiment)\n",
    "    images = [mpimg.imread(str(nearest_image(experiment, frame=f))) for f in frames]\n",
    "\n",
    "    fig = plot_outlines(parent_outlines, now_outlines, child_outlines, images)\n",
    "    if margin:\n",
    "        fig = plot_outlines_margin(parent_outlines, now_outlines, child_outlines, images)"
   ]
  },
  {
   "cell_type": "code",
   "execution_count": null,
   "metadata": {
    "collapsed": false
   },
   "outputs": [],
   "source": [
    "target=513\n",
    "\n",
    "plot_target(target, digraph, experiment)\n",
    "plt.savefig('{t}-split.png'.format(t=target))"
   ]
  },
  {
   "cell_type": "code",
   "execution_count": null,
   "metadata": {
    "collapsed": false
   },
   "outputs": [],
   "source": [
    "random_index = np.random.randint(0, len(partials), 10)\n",
    "r = np.array(partials)[random_index]\n",
    "print r\n",
    "for target in r:\n",
    "    try:\n",
    "        print bid\n",
    "        plot_target(target, digraph, experiment)\n",
    "        name = '{t}-collision.png'.format(t=target)\n",
    "        #print name\n",
    "        #plt.savefig(name)\n",
    "        plt.show()\n",
    "    except:\n",
    "        print bid, 'failed'"
   ]
  },
  {
   "cell_type": "code",
   "execution_count": null,
   "metadata": {
    "collapsed": false
   },
   "outputs": [],
   "source": [
    "notable_collisions = [15081, 78167, 16500, 28028]"
   ]
  },
  {
   "cell_type": "code",
   "execution_count": null,
   "metadata": {
    "collapsed": false
   },
   "outputs": [],
   "source": [
    "random_index = np.random.randint(0, len(doubles), 10)\n",
    "r = np.array(doubles)[random_index]\n",
    "print r\n",
    "for target in notable_collisions:\n",
    "    try:\n",
    "        print bid\n",
    "        plot_target(target, digraph, experiment)\n",
    "        name = '{t}-collision.png'.format(t=target)\n",
    "        print name\n",
    "        plt.show()\n",
    "        #plt.savefig(name)\n",
    "    except:\n",
    "        print bid, 'failed'"
   ]
  },
  {
   "cell_type": "code",
   "execution_count": null,
   "metadata": {
    "collapsed": false
   },
   "outputs": [],
   "source": [
    "canidates = []\n",
    "for i, node in enumerate(digraph):\n",
    "    parents, now, children = find_immediate_relatives(node, digraph)\n",
    "    \n",
    "    all_good = True\n",
    "    #find_closest_outline([node], use_first=True)\n",
    "\n",
    "    try:\n",
    "        find_closest_outline([node],  use_first=True)\n",
    "    except:\n",
    "        all_good = False\n",
    "        continue\n",
    "    \n",
    "    relatives = []\n",
    "    relatives.extend(parents)\n",
    "    relatives.extend(now)\n",
    "    relatives.extend(children)\n",
    "    relatives = list(set(relatives))\n",
    "    \n",
    "    try:\n",
    "        for n in relatives:\n",
    "            experiment[n]\n",
    "        find_closest_outline(relatives,  use_first=True)\n",
    "    except:\n",
    "        all_good = False\n",
    "        continue\n",
    "    #print children, parents, all_good\n",
    "    if children and parents and all_good:\n",
    "        canidates.append(node)\n",
    "    if i > 1000:\n",
    "        break\n",
    "print len(canidates), 'canidates found'"
   ]
  },
  {
   "cell_type": "code",
   "execution_count": null,
   "metadata": {
    "collapsed": false
   },
   "outputs": [],
   "source": [
    "target=canidates[4]\n",
    "plot_target(target, digraph, experiment, margin=True)\n"
   ]
  },
  {
   "cell_type": "code",
   "execution_count": null,
   "metadata": {
    "collapsed": false
   },
   "outputs": [],
   "source": [
    "target=canidates[8]\n",
    "plot_target(target, digraph, experiment, margin=True)\n"
   ]
  },
  {
   "cell_type": "code",
   "execution_count": null,
   "metadata": {
    "collapsed": false
   },
   "outputs": [],
   "source": [
    "target=canidates[9]\n",
    "plot_target(target, digraph, experiment, margin=False)\n"
   ]
  },
  {
   "cell_type": "code",
   "execution_count": null,
   "metadata": {
    "collapsed": false
   },
   "outputs": [],
   "source": [
    "target=canidates[10]\n",
    "plot_target(target, digraph, experiment, margin=False)\n"
   ]
  },
  {
   "cell_type": "code",
   "execution_count": null,
   "metadata": {
    "collapsed": false
   },
   "outputs": [],
   "source": [
    "target=canidates[15]\n",
    "plot_target(target, digraph, experiment, margin=False)\n"
   ]
  },
  {
   "cell_type": "code",
   "execution_count": null,
   "metadata": {
    "collapsed": false
   },
   "outputs": [],
   "source": [
    "target=canidates[40]\n",
    "plot_target(target, digraph, experiment, margin=False)\n",
    "plt.savefig('{t}-example.png'.format(t=target))\n"
   ]
  },
  {
   "cell_type": "code",
   "execution_count": null,
   "metadata": {
    "collapsed": false
   },
   "outputs": [],
   "source": [
    "target=canidates[50]\n",
    "plot_target(target, digraph, experiment, margin=False)\n",
    "plt.savefig('{t}-example.png'.format(t=target))"
   ]
  },
  {
   "cell_type": "code",
   "execution_count": null,
   "metadata": {
    "collapsed": false
   },
   "outputs": [],
   "source": [
    "target=canidates[160]\n",
    "plot_target(target, digraph, experiment, margin=False)\n",
    "plt.savefig('{t}-example.png'.format(t=target))"
   ]
  },
  {
   "cell_type": "code",
   "execution_count": null,
   "metadata": {
    "collapsed": false
   },
   "outputs": [],
   "source": [
    "target=canidates[162]\n",
    "plot_target(target, digraph, experiment, margin=False)\n",
    "plt.savefig('{t}-example.png'.format(t=target))"
   ]
  },
  {
   "cell_type": "code",
   "execution_count": null,
   "metadata": {
    "collapsed": false
   },
   "outputs": [],
   "source": [
    "target=canidates[135]\n",
    "plot_target(target, digraph, experiment, margin=False)\n",
    "plt.savefig('{t}-example.png'.format(t=target))"
   ]
  },
  {
   "cell_type": "code",
   "execution_count": null,
   "metadata": {
    "collapsed": false
   },
   "outputs": [],
   "source": [
    "target=canidates[124]\n",
    "plot_target(target, digraph, experiment, margin=False)\n",
    "\n",
    "plt.savefig('{t}-example.png'.format(t=target))"
   ]
  },
  {
   "cell_type": "code",
   "execution_count": null,
   "metadata": {
    "collapsed": false
   },
   "outputs": [],
   "source": [
    "target=canidates[122]\n",
    "\n",
    "plot_target(target, digraph, experiment, margin=False)\n",
    "plt.savefig('{t}-example.png'.format(t=target))"
   ]
  },
  {
   "cell_type": "code",
   "execution_count": null,
   "metadata": {
    "collapsed": false
   },
   "outputs": [],
   "source": [
    "target=canidates[44]\n",
    "plot_target(target, digraph, experiment, margin=False)\n"
   ]
  },
  {
   "cell_type": "code",
   "execution_count": null,
   "metadata": {
    "collapsed": false
   },
   "outputs": [],
   "source": []
  },
  {
   "cell_type": "code",
   "execution_count": null,
   "metadata": {
    "collapsed": false
   },
   "outputs": [],
   "source": []
  }
 ],
 "metadata": {
  "kernelspec": {
   "display_name": "Python 3",
   "language": "python",
   "name": "python3"
  },
  "language_info": {
   "codemirror_mode": {
    "name": "ipython",
    "version": 3
   },
   "file_extension": ".py",
   "mimetype": "text/x-python",
   "name": "python",
   "nbconvert_exporter": "python",
   "pygments_lexer": "ipython3",
   "version": "3.4.1"
  }
 },
 "nbformat": 4,
 "nbformat_minor": 0
}
