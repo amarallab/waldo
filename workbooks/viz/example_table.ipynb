{
 "metadata": {
  "name": "",
  "signature": "sha256:3ed9d02683f6a94d367a66e481df511cc705799e8ee1f4629d5e43b835cc5987"
 },
 "nbformat": 3,
 "nbformat_minor": 0,
 "worksheets": [
  {
   "cells": [
    {
     "cell_type": "markdown",
     "metadata": {},
     "source": [
      "This workbook is intended to overlay colored outlines over images in order to illustrate types of mistakes the MWT makes "
     ]
    },
    {
     "cell_type": "code",
     "collapsed": false,
     "input": [
      "%load_ext autoreload\n",
      "%autoreload 2\n",
      "%matplotlib inline"
     ],
     "language": "python",
     "metadata": {},
     "outputs": []
    },
    {
     "cell_type": "code",
     "collapsed": false,
     "input": [
      "import six\n",
      "import pathcustomize\n",
      "\n",
      "import sys\n",
      "import os\n",
      "import itertools\n",
      "import platform\n",
      "print('Python {} ({}) [{}] on {}'.format(platform.python_version(), ', '.join(platform.python_build()), \n",
      "                                       platform.python_compiler(), sys.platform))\n",
      "\n",
      "import numpy as np\n",
      "import matplotlib.pyplot as plt\n",
      "import matplotlib.gridspec as gridspec\n",
      "import matplotlib.cm as cm\n",
      "import matplotlib.image as mpimg\n",
      "import networkx as nx\n",
      "#from IPython.core.display import Image as display_image\n",
      "\n",
      "os.environ.setdefault('MULTIWORM_SETTINGS', 'multiworm_settings')\n",
      "\n",
      "import waldo.wio as wio\n",
      "import multiworm\n",
      "#import collider\n",
      "from waldo.collider.viz import show_before_and_after"
     ],
     "language": "python",
     "metadata": {},
     "outputs": []
    },
    {
     "cell_type": "code",
     "collapsed": false,
     "input": [
      "\n",
      "#ex_id = '20130318_131111'\n",
      "\n",
      "ex_id = '20130702_135704' # many pics\n",
      "\n",
      "experiment = wio.Experiment(experiment_id=ex_id)\n",
      "digraph = experiment.graph.copy()"
     ],
     "language": "python",
     "metadata": {},
     "outputs": []
    },
    {
     "cell_type": "code",
     "collapsed": false,
     "input": [
      "def find_nearest_index(seq, value):\n",
      "    \"\"\"Return the index of the value in the sequence that is closest to the given value\"\"\"\n",
      "    return (np.abs(np.array(seq)-value)).argmin()\n",
      "\n",
      "def find_nearest(seq, value):\n",
      "    \"\"\"Return the value in the sequence that is closest to the given value\"\"\"\n",
      "    return seq[find_nearest_index(seq, value)]\n",
      "\n",
      "def frame_time(experiment, frame):\n",
      "    \"\"\"Return the time (in seconds) for the given frame from experiment\"\"\"\n",
      "    return experiment.frame_times[int(frame) - 1]\n",
      "\n",
      "def nearest_image(experiment, frame=None, time=None):\n",
      "    if frame is None and time is None:\n",
      "        raise ValueError(\"either the 'time' or 'frame' keyword argument must be provided\")\n",
      "    if time is None:\n",
      "        time = frame_time(experiment, frame)\n",
      "    \n",
      "    image_time = find_nearest(list(six.iterkeys(experiment.image_files)), time)\n",
      "    \n",
      "    return experiment.image_files[image_time]\n"
     ],
     "language": "python",
     "metadata": {},
     "outputs": []
    },
    {
     "cell_type": "code",
     "collapsed": false,
     "input": [
      "#%matplotlib tk\n",
      "target = 513\n",
      "f, axs = show_before_and_after(experiment, target=target)\n",
      "for ax in axs:\n",
      "    ax.set_autoscale_on(False)\n",
      "    still = mpimg.imread(str(nearest_image(experiment, frame=experiment[target]['died_f'])))\n",
      "    ax.xaxis.set_ticks([])\n",
      "    ax.yaxis.set_ticks([])\n",
      "    ax.imshow(still.T, cmap=plt.cm.Greys_r)"
     ],
     "language": "python",
     "metadata": {},
     "outputs": []
    },
    {
     "cell_type": "code",
     "collapsed": false,
     "input": [
      "def find_closest_outline(nodes, closest_frame=None, use_first=True):\n",
      "    outlines = []\n",
      "    if use_first:\n",
      "        it_step = 1\n",
      "    else:\n",
      "        it_step = -1\n",
      "    \n",
      "    for node in nodes:\n",
      "        i = 0\n",
      "        while True:\n",
      "            try:\n",
      "                outline = multiworm.readers.blob.decode_outline_line(experiment[node], i)\n",
      "                outlines.append(outline)\n",
      "                break\n",
      "            except ValueError:\n",
      "                pass\n",
      "            i += it_step\n",
      "    #print outlines\n",
      "    return outlines\n"
     ],
     "language": "python",
     "metadata": {},
     "outputs": []
    },
    {
     "cell_type": "code",
     "collapsed": false,
     "input": [
      "def find_outlines(target, digraph, experiment):\n",
      "    parents, now, children = find_immediate_relatives(target, digraph)\n",
      "    #children = list(digraph.successors(target))\n",
      "    #parents = list(digraph.predecessors(target))    \n",
      "    #now = list(itertools.chain.from_iterable(digraph.predecessors_iter(c) for c in children))\n",
      "    #now.extend(list(itertools.chain.from_iterable(digraph.successors_iter(p) for p in parents)))\n",
      "    #now = list(set(now))\n",
      "    #return parents, children\n",
      "    print 'c:', children\n",
      "    print 'now:', now\n",
      "    print 'p:', parents\n",
      "\n",
      "    #im_matches = experiment.prepdata.load('matches')\n",
      "    #im_matches.set_index('bid', inplace=True)\n",
      "    #all_frames = list(set(im_matches['frame']))\n",
      "    #print len(all_frames), 'frames'\n",
      "\n",
      "    parent_outlines = find_closest_outline(parents, use_first=False)\n",
      "    now_outlines = find_closest_outline(now, use_first=False)\n",
      "    child_outlines = find_closest_outline(children, use_first=True)\n",
      "\n",
      "    frame = experiment[target]['died_f']\n",
      "    pframe = experiment[parents[0]]['died_f']\n",
      "    cframe = experiment[children[0]]['born_f']\n",
      "\n",
      "    print pframe, frame, cframe\n",
      "    frames = [pframe, frame, cframe]\n",
      "    return frames, parent_outlines, now_outlines, child_outlines"
     ],
     "language": "python",
     "metadata": {},
     "outputs": []
    },
    {
     "cell_type": "code",
     "collapsed": false,
     "input": [
      "def find_immediate_relatives(target, digraph):\n",
      "    children = list(digraph.successors(target))\n",
      "    parents = list(digraph.predecessors(target))    \n",
      "    now = list(itertools.chain.from_iterable(digraph.predecessors_iter(c) for c in children))\n",
      "    now.extend(list(itertools.chain.from_iterable(digraph.successors_iter(p) for p in parents)))\n",
      "    now = list(set(now))\n",
      "    return parents, now, children\n",
      "    "
     ],
     "language": "python",
     "metadata": {},
     "outputs": []
    },
    {
     "cell_type": "code",
     "collapsed": false,
     "input": [
      "def plot_outlines(parent_outlines, now_outlines, child_outlines, images, size=100):\n",
      "\n",
      "    fig = plt.figure()\n",
      "    gs = gridspec.GridSpec(1, 3)\n",
      "    ax1 = plt.subplot(gs[0, 0])\n",
      "    ax2 = plt.subplot(gs[0, 1])\n",
      "    ax3 = plt.subplot(gs[0, 2])\n",
      "    axs = [ax1, ax2, ax3]\n",
      "\n",
      "    bbox = (100000, 100000, 0, 0)\n",
      "    def compare_bbox(x, y, bbox):\n",
      "        xmin, ymin, xmax, ymax = bbox\n",
      "        if min(x) < xmin:\n",
      "            xmin = min(x)\n",
      "        if min(y) < ymin:\n",
      "            ymin = min(y)\n",
      "        if max(x) > xmax:\n",
      "            xmax = max(x)\n",
      "        if max(y) > ymax:\n",
      "            ymax = max(y)\n",
      "        return (xmin, ymin, xmax, ymax)\n",
      "\n",
      "    color_cycle = ax1._get_lines.color_cycle        \n",
      "\n",
      "    def draw_outlines_on_ax(ax, outlines, bbox):\n",
      "        for o in outlines:\n",
      "            x, y = zip(*o)\n",
      "            ax.plot(x, y, color='black', lw=0.5)\n",
      "            ax.fill(x, y, alpha=0.05, color=color_cycle.next())\n",
      "            bbox = compare_bbox(x, y, bbox)\n",
      "        return bbox\n",
      "\n",
      "    bbox = draw_outlines_on_ax(axs[0], parent_outlines, bbox)\n",
      "    bbox = draw_outlines_on_ax(axs[1], now_outlines, bbox)\n",
      "    bbox = draw_outlines_on_ax(axs[2], child_outlines, bbox)\n",
      "\n",
      "    # create box around midpoint\n",
      "    xmin, ymin, xmax, ymax = bbox\n",
      "    xmid = (xmax + xmin) / 2 \n",
      "    ymid = (ymax + ymin) / 2\n",
      "    print bbox\n",
      "    xmin = int(xmid - size / 2)\n",
      "    xmax = int(xmid + size / 2)\n",
      "    ymin = int(ymid - size / 2)\n",
      "    ymax = int(ymid + size / 2)    \n",
      "    print (xmin, ymin, xmax, ymax)\n",
      " \n",
      "    for ax, im in zip(axs, images):\n",
      "        ax.set_xlim([xmin, xmax])\n",
      "        ax.set_ylim([ymin, ymax])\n",
      "        ax.set_autoscale_on(False)\n",
      "        ax.xaxis.set_ticks([])\n",
      "        ax.yaxis.set_ticks([])\n",
      "        ax.imshow(im.T, cmap=plt.cm.Greys_r)\n",
      "    return fig\n",
      "\n",
      "def plot_outlines_margin(parent_outlines, now_outlines, child_outlines, images, margin=3):\n",
      "\n",
      "    fig = plt.figure()\n",
      "    gs = gridspec.GridSpec(1, 3)\n",
      "    ax1 = plt.subplot(gs[0, 0])\n",
      "    ax2 = plt.subplot(gs[0, 1])\n",
      "    ax3 = plt.subplot(gs[0, 2])\n",
      "    axs = [ax1, ax2, ax3]\n",
      "\n",
      "    bbox = (100000, 100000, 0, 0)\n",
      "    def compare_bbox(x, y, bbox):\n",
      "        xmin, ymin, xmax, ymax = bbox\n",
      "        if min(x) < xmin:\n",
      "            xmin = min(x)\n",
      "        if min(y) < ymin:\n",
      "            ymin = min(y)\n",
      "        if max(x) > xmax:\n",
      "            xmax = max(x)\n",
      "        if max(y) > ymax:\n",
      "            ymax = max(y)\n",
      "        return (xmin, ymin, xmax, ymax)\n",
      "\n",
      "    color_cycle = ax1._get_lines.color_cycle        \n",
      "\n",
      "    def draw_outlines_on_ax(ax, outlines, bbox):\n",
      "        for o in outlines:\n",
      "            x, y = zip(*o)\n",
      "            ax.plot(x, y, color='black', lw=0.5)\n",
      "            ax.fill(x, y, alpha=0.05, color=color_cycle.next())\n",
      "            bbox = compare_bbox(x, y, bbox)\n",
      "        return bbox\n",
      "\n",
      "\n",
      "    bbox = draw_outlines_on_ax(axs[0], parent_outlines, bbox)\n",
      "    bbox = draw_outlines_on_ax(axs[1], now_outlines, bbox)\n",
      "    bbox = draw_outlines_on_ax(axs[2], child_outlines, bbox)\n",
      "\n",
      "    xmin, ymin, xmax, ymax = bbox\n",
      "\n",
      "    for ax, im in zip(axs, images):\n",
      "        ax.set_xlim([xmin-margin, xmax+margin])\n",
      "        ax.set_ylim([ymin-margin, ymax+margin])\n",
      "        ax.set_autoscale_on(False)\n",
      "        ax.xaxis.set_ticks([])\n",
      "        ax.yaxis.set_ticks([])\n",
      "        ax.imshow(im.T, cmap=plt.cm.Greys_r)\n",
      "    return fig"
     ],
     "language": "python",
     "metadata": {},
     "outputs": []
    },
    {
     "cell_type": "code",
     "collapsed": false,
     "input": [
      "def plot_target(target, digraph, experiment, margin=False):\n",
      "    frames, parent_outlines, now_outlines, child_outlines = find_outlines(target, digraph, experiment)\n",
      "    images = [mpimg.imread(str(nearest_image(experiment, frame=f))) for f in frames]\n",
      "\n",
      "    fig = plot_outlines(parent_outlines, now_outlines, child_outlines, images)\n",
      "    if margin:\n",
      "        fig = plot_outlines_margin(parent_outlines, now_outlines, child_outlines, images)"
     ],
     "language": "python",
     "metadata": {},
     "outputs": []
    },
    {
     "cell_type": "code",
     "collapsed": false,
     "input": [
      "target=513\n",
      "\n",
      "plot_target(target, digraph, experiment)\n",
      "plt.savefig('{t}-example.png'.format(t=target))"
     ],
     "language": "python",
     "metadata": {},
     "outputs": []
    },
    {
     "cell_type": "code",
     "collapsed": false,
     "input": [
      "canidates = []\n",
      "for i, node in enumerate(digraph):\n",
      "    parents, now, children = find_immediate_relatives(node, digraph)\n",
      "    \n",
      "    all_good = True\n",
      "    #find_closest_outline([node], use_first=True)\n",
      "\n",
      "    try:\n",
      "        find_closest_outline([node],  use_first=True)\n",
      "    except:\n",
      "        all_good = False\n",
      "        continue\n",
      "    \n",
      "    relatives = []\n",
      "    relatives.extend(parents)\n",
      "    relatives.extend(now)\n",
      "    relatives.extend(children)\n",
      "    relatives = list(set(relatives))\n",
      "    \n",
      "    try:\n",
      "        for n in relatives:\n",
      "            experiment[n]\n",
      "        find_closest_outline(relatives,  use_first=True)\n",
      "    except:\n",
      "        all_good = False\n",
      "        continue\n",
      "    #print children, parents, all_good\n",
      "    if children and parents and all_good:\n",
      "        canidates.append(node)\n",
      "    if i > 1000:\n",
      "        break\n",
      "print len(canidates), 'canidates found'"
     ],
     "language": "python",
     "metadata": {},
     "outputs": []
    },
    {
     "cell_type": "code",
     "collapsed": false,
     "input": [
      "target=canidates[4]\n",
      "plot_target(target, digraph, experiment, margin=True)\n"
     ],
     "language": "python",
     "metadata": {},
     "outputs": []
    },
    {
     "cell_type": "code",
     "collapsed": false,
     "input": [
      "target=canidates[8]\n",
      "plot_target(target, digraph, experiment, margin=True)\n"
     ],
     "language": "python",
     "metadata": {},
     "outputs": []
    },
    {
     "cell_type": "code",
     "collapsed": false,
     "input": [
      "target=canidates[9]\n",
      "plot_target(target, digraph, experiment, margin=False)\n"
     ],
     "language": "python",
     "metadata": {},
     "outputs": []
    },
    {
     "cell_type": "code",
     "collapsed": false,
     "input": [
      "target=canidates[10]\n",
      "plot_target(target, digraph, experiment, margin=False)\n"
     ],
     "language": "python",
     "metadata": {},
     "outputs": []
    },
    {
     "cell_type": "code",
     "collapsed": false,
     "input": [
      "target=canidates[15]\n",
      "plot_target(target, digraph, experiment, margin=False)\n"
     ],
     "language": "python",
     "metadata": {},
     "outputs": []
    },
    {
     "cell_type": "code",
     "collapsed": false,
     "input": [
      "target=canidates[40]\n",
      "plot_target(target, digraph, experiment, margin=False)\n",
      "plt.savefig('{t}-example.png'.format(t=target))\n"
     ],
     "language": "python",
     "metadata": {},
     "outputs": []
    },
    {
     "cell_type": "code",
     "collapsed": false,
     "input": [
      "target=canidates[50]\n",
      "plot_target(target, digraph, experiment, margin=False)\n",
      "plt.savefig('{t}-example.png'.format(t=target))"
     ],
     "language": "python",
     "metadata": {},
     "outputs": []
    },
    {
     "cell_type": "code",
     "collapsed": false,
     "input": [
      "target=canidates[160]\n",
      "plot_target(target, digraph, experiment, margin=False)\n",
      "plt.savefig('{t}-example.png'.format(t=target))"
     ],
     "language": "python",
     "metadata": {},
     "outputs": []
    },
    {
     "cell_type": "code",
     "collapsed": false,
     "input": [
      "target=canidates[162]\n",
      "plot_target(target, digraph, experiment, margin=False)\n",
      "plt.savefig('{t}-example.png'.format(t=target))"
     ],
     "language": "python",
     "metadata": {},
     "outputs": []
    },
    {
     "cell_type": "code",
     "collapsed": false,
     "input": [
      "target=canidates[135]\n",
      "plot_target(target, digraph, experiment, margin=False)\n",
      "plt.savefig('{t}-example.png'.format(t=target))"
     ],
     "language": "python",
     "metadata": {},
     "outputs": []
    },
    {
     "cell_type": "code",
     "collapsed": false,
     "input": [
      "target=canidates[124]\n",
      "plot_target(target, digraph, experiment, margin=False)\n",
      "\n",
      "plt.savefig('{t}-example.png'.format(t=target))"
     ],
     "language": "python",
     "metadata": {},
     "outputs": []
    },
    {
     "cell_type": "code",
     "collapsed": false,
     "input": [
      "target=canidates[122]\n",
      "\n",
      "plot_target(target, digraph, experiment, margin=False)\n",
      "plt.savefig('{t}-example.png'.format(t=target))"
     ],
     "language": "python",
     "metadata": {},
     "outputs": []
    },
    {
     "cell_type": "code",
     "collapsed": false,
     "input": [
      "target=canidates[44]\n",
      "plot_target(target, digraph, experiment, margin=False)\n"
     ],
     "language": "python",
     "metadata": {},
     "outputs": []
    },
    {
     "cell_type": "code",
     "collapsed": false,
     "input": [],
     "language": "python",
     "metadata": {},
     "outputs": []
    },
    {
     "cell_type": "code",
     "collapsed": false,
     "input": [],
     "language": "python",
     "metadata": {},
     "outputs": []
    }
   ],
   "metadata": {}
  }
 ]
}