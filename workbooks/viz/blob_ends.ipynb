{
 "metadata": {
  "name": "",
  "signature": "sha256:7f3e9ceaf447f4c3e4ec5930c00463180daa0debff9da696a0d3f26bd975b1d7"
 },
 "nbformat": 3,
 "nbformat_minor": 0,
 "worksheets": [
  {
   "cells": [
    {
     "cell_type": "code",
     "collapsed": false,
     "input": [
      "%load_ext autoreload\n",
      "%autoreload 2\n",
      "%matplotlib inline\n",
      "from __future__ import print_function, absolute_import, unicode_literals, division\n",
      "import six; from six.moves import (zip, filter, map, reduce, input, range)\n",
      "import sys, os, platform\n",
      "sys.path.append('..');import pathcustomize, about\n",
      "about.about()"
     ],
     "language": "python",
     "metadata": {},
     "outputs": []
    },
    {
     "cell_type": "code",
     "collapsed": false,
     "input": [
      "import itertools\n",
      "\n",
      "import numpy as np\n",
      "import matplotlib.pyplot as plt\n",
      "\n",
      "from waldo import wio\n",
      "from waldo.collider.viz.outlines import show_terminal, show_around"
     ],
     "language": "python",
     "metadata": {},
     "outputs": []
    },
    {
     "cell_type": "code",
     "collapsed": false,
     "input": [
      "ex_id = '20130702_135704' # many pics\n",
      "#ex_id = '20130702_135652' # many pics\n",
      "\n",
      "experiment = wio.Experiment(experiment_id=ex_id)"
     ],
     "language": "python",
     "metadata": {},
     "outputs": []
    },
    {
     "cell_type": "code",
     "collapsed": false,
     "input": [
      "target = 66188\n",
      "#end = 'head'\n",
      "end = 'tail'\n",
      "\n",
      "f, ax, bounds, frame = show_terminal(experiment, target, end=end)\n",
      "f2, ax, bounds = show_around(experiment, frame + 10, bounds)"
     ],
     "language": "python",
     "metadata": {},
     "outputs": []
    },
    {
     "cell_type": "code",
     "collapsed": false,
     "input": [],
     "language": "python",
     "metadata": {},
     "outputs": []
    }
   ],
   "metadata": {}
  }
 ]
}