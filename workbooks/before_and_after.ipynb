{
 "metadata": {
  "name": "",
  "signature": "sha256:554f3e1a8c05b6fa7815918231ab9d4df62328f8c85905896b684ef96ffa3942"
 },
 "nbformat": 3,
 "nbformat_minor": 0,
 "worksheets": [
  {
   "cells": [
    {
     "cell_type": "markdown",
     "metadata": {},
     "source": [
      "<img src=\"http://upload.wikimedia.org/wikipedia/en/7/78/Before_and_after_poster.jpg\" width=150>\n",
      "<h1 style=\"text-align:center\">Before and After</h1>"
     ]
    },
    {
     "cell_type": "code",
     "collapsed": false,
     "input": [
      "%load_ext autoreload\n",
      "%autoreload 2\n",
      "%matplotlib inline"
     ],
     "language": "python",
     "metadata": {},
     "outputs": []
    },
    {
     "cell_type": "code",
     "collapsed": false,
     "input": [
      "from __future__ import print_function, absolute_import, unicode_literals, division\n",
      "import six\n",
      "from six.moves import (zip, filter, map, reduce, input, range)\n",
      "\n",
      "import pathcustomize\n",
      "\n",
      "import sys\n",
      "import os\n",
      "import itertools\n",
      "import platform\n",
      "print('Python {} ({}) [{}] on {}'.format(platform.python_version(), ', '.join(platform.python_build()), \n",
      "                                       platform.python_compiler(), sys.platform))\n",
      "\n",
      "import numpy as np\n",
      "import matplotlib.pyplot as plt\n",
      "import matplotlib.cm as cm\n",
      "import matplotlib.image as mpimg\n",
      "import networkx as nx\n",
      "#from IPython.core.display import Image as display_image\n",
      "\n",
      "os.environ.setdefault('MULTIWORM_SETTINGS', 'multiworm_settings')\n",
      "\n",
      "import multiworm\n",
      "#import collider\n",
      "from collider.viz import show_before_and_after"
     ],
     "language": "python",
     "metadata": {},
     "outputs": []
    },
    {
     "cell_type": "code",
     "collapsed": false,
     "input": [
      "#ex_id = '20130614_120518'\n",
      "ex_id = '20130318_131111'\n",
      "#ex_id = '20130414_140704'\n",
      "\n",
      "experiment = multiworm.Experiment(experiment_id=ex_id)\n",
      "#experiment.load_summary(graph=True)\n",
      "#graph = experiment.collision_graph"
     ],
     "language": "python",
     "metadata": {},
     "outputs": []
    },
    {
     "cell_type": "code",
     "collapsed": false,
     "input": [
      "def find_nearest_index(seq, value):\n",
      "    \"\"\"Return the index of the value in the sequence that is closest to the given value\"\"\"\n",
      "    return (np.abs(np.array(seq)-value)).argmin()\n",
      "\n",
      "def find_nearest(seq, value):\n",
      "    \"\"\"Return the value in the sequence that is closest to the given value\"\"\"\n",
      "    return seq[find_nearest_index(seq, value)]\n",
      "\n",
      "def frame_time(experiment, frame):\n",
      "    \"\"\"Return the time (in seconds) for the given frame from experiment\"\"\"\n",
      "    return experiment.frame_times[frame - 1]\n",
      "\n",
      "def nearest_image(experiment, frame=None, time=None):\n",
      "    if frame is None and time is None:\n",
      "        raise ValueError(\"either the 'time' or 'frame' keyword argument must be provided\")\n",
      "    if time is None:\n",
      "        time = frame_time(experiment, frame)\n",
      "    \n",
      "    image_time = find_nearest(list(six.iterkeys(experiment.image_files)), time)\n",
      "    \n",
      "    return experiment.image_files[image_time]\n"
     ],
     "language": "python",
     "metadata": {},
     "outputs": []
    },
    {
     "cell_type": "code",
     "collapsed": false,
     "input": [
      "#%matplotlib tk\n",
      "target = 513\n",
      "f, axs = show_before_and_after(experiment, target=target)\n",
      "for ax in axs:\n",
      "    ax.set_autoscale_on(False)\n",
      "    still = mpimg.imread(str(nearest_image(experiment, frame=experiment[target]['died_f'])))\n",
      "    ax.imshow(still.T)"
     ],
     "language": "python",
     "metadata": {},
     "outputs": []
    },
    {
     "cell_type": "code",
     "collapsed": false,
     "input": [
      "target = 578\n",
      "f, axs = show_before_and_after(experiment, target=target)\n",
      "for ax in axs:\n",
      "    ax.set_autoscale_on(False)\n",
      "    still = mpimg.imread(str(nearest_image(experiment, frame=experiment[target]['died_f'])))\n",
      "    ax.imshow(still.T)"
     ],
     "language": "python",
     "metadata": {},
     "outputs": []
    },
    {
     "cell_type": "code",
     "collapsed": false,
     "input": [
      "target = 61157\n",
      "f, axs = show_before_and_after(experiment, target=target)\n",
      "for ax in axs:\n",
      "    ax.set_autoscale_on(False)\n",
      "    still = mpimg.imread(str(nearest_image(experiment, frame=experiment[target]['died_f'])))\n",
      "    ax.imshow(still.T)"
     ],
     "language": "python",
     "metadata": {},
     "outputs": []
    },
    {
     "cell_type": "code",
     "collapsed": false,
     "input": [
      "target = 61498\n",
      "f, axs = show_before_and_after(experiment, target=target)\n",
      "for ax in axs:\n",
      "    ax.set_autoscale_on(False)\n",
      "    still = mpimg.imread(str(nearest_image(experiment, frame=experiment[target]['died_f'])))\n",
      "    ax.imshow(still.T)"
     ],
     "language": "python",
     "metadata": {},
     "outputs": []
    },
    {
     "cell_type": "code",
     "collapsed": false,
     "input": [
      "target = 66048\n",
      "f, axs = show_before_and_after(experiment, target=target)\n",
      "for ax in axs:\n",
      "    ax.set_autoscale_on(False)\n",
      "    still = mpimg.imread(str(nearest_image(experiment, frame=experiment[target]['died_f'])))\n",
      "    ax.imshow(still.T, cmap=cm.Greys_r)"
     ],
     "language": "python",
     "metadata": {},
     "outputs": []
    },
    {
     "cell_type": "code",
     "collapsed": false,
     "input": [
      "show_before_and_after(experiment, target=753)"
     ],
     "language": "python",
     "metadata": {},
     "outputs": []
    },
    {
     "cell_type": "code",
     "collapsed": false,
     "input": [],
     "language": "python",
     "metadata": {},
     "outputs": []
    },
    {
     "cell_type": "code",
     "collapsed": false,
     "input": [],
     "language": "python",
     "metadata": {},
     "outputs": []
    }
   ],
   "metadata": {}
  }
 ]
}