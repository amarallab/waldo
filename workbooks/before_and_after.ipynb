{
 "metadata": {
  "name": "",
  "signature": "sha256:5f62162d9461246472bd28018469f0592950ada7d84eecc8f5640ae578e6f684"
 },
 "nbformat": 3,
 "nbformat_minor": 0,
 "worksheets": [
  {
   "cells": [
    {
     "cell_type": "markdown",
     "metadata": {},
     "source": [
      "<img src=\"http://upload.wikimedia.org/wikipedia/en/7/78/Before_and_after_poster.jpg\" width=150>\n",
      "<h1 style=\"text-align:center\">Before and After</h1>"
     ]
    },
    {
     "cell_type": "code",
     "collapsed": false,
     "input": [
      "%load_ext autoreload\n",
      "%autoreload 2\n",
      "%matplotlib inline"
     ],
     "language": "python",
     "metadata": {},
     "outputs": []
    },
    {
     "cell_type": "code",
     "collapsed": false,
     "input": [
      "from __future__ import print_function, absolute_import, unicode_literals, division\n",
      "import six\n",
      "from six.moves import (zip, filter, map, reduce, input, range)\n",
      "\n",
      "import pathcustomize\n",
      "\n",
      "import sys\n",
      "import os\n",
      "import itertools\n",
      "import platform\n",
      "print('Python {} ({}) [{}] on {}'.format(platform.python_version(), ', '.join(platform.python_build()), \n",
      "                                       platform.python_compiler(), sys.platform))\n",
      "\n",
      "import numpy as np\n",
      "import matplotlib.pyplot as plt\n",
      "import matplotlib.cm as cm\n",
      "import networkx as nx\n",
      "#from IPython.core.display import Image as display_image\n",
      "from scipy import ndimage\n",
      "\n",
      "os.environ.setdefault('MULTIWORM_SETTINGS', 'multiworm_settings')\n",
      "\n",
      "import multiworm\n",
      "import collider.viz.outlines as outlines\n",
      "from collider.viz import show_before_and_after"
     ],
     "language": "python",
     "metadata": {},
     "outputs": []
    },
    {
     "cell_type": "code",
     "collapsed": false,
     "input": [
      "#ex_id = '20130614_120518'\n",
      "#ex_id = '20130318_131111'\n",
      "#ex_id = '20130414_140704'\n",
      "#ex_id = '20130702_135704' # many pics\n",
      "ex_id = '20130702_135652' # many pics\n",
      "\n",
      "experiment = multiworm.Experiment(experiment_id=ex_id)\n",
      "#experiment.load_summary(graph=True)\n",
      "graph = experiment.graph"
     ],
     "language": "python",
     "metadata": {},
     "outputs": []
    },
    {
     "cell_type": "code",
     "collapsed": false,
     "input": [
      "%matplotlib inline\n",
      "target = 2600\n",
      "outlines.show_collision(experiment, graph, target)\n",
      "plt.show()"
     ],
     "language": "python",
     "metadata": {},
     "outputs": []
    },
    {
     "cell_type": "heading",
     "level": 3,
     "metadata": {},
     "source": [
      "Older stuff..."
     ]
    },
    {
     "cell_type": "code",
     "collapsed": false,
     "input": [
      "%matplotlib inline\n",
      "target = 3863\n",
      "f, axs = show_before_and_after(experiment, target=target)\n",
      "for ax in axs:\n",
      "    ax.set_autoscale_on(False)\n",
      "    still = ndimage.imread(str(experiment.image_files.nearest(frame=int(experiment[target].died_f))[1]))\n",
      "    ax.imshow(still.T)"
     ],
     "language": "python",
     "metadata": {},
     "outputs": []
    },
    {
     "cell_type": "code",
     "collapsed": false,
     "input": [
      "target = 578\n",
      "f, axs = show_before_and_after(experiment, target=target)\n",
      "for ax in axs:\n",
      "    ax.set_autoscale_on(False)\n",
      "    still = ndimage.imread(str(experiment.image_files.nearest(frame=int(experiment[target].died_f))[1]))\n",
      "    ax.imshow(still.T)"
     ],
     "language": "python",
     "metadata": {},
     "outputs": []
    },
    {
     "cell_type": "code",
     "collapsed": false,
     "input": [
      "target = 61157\n",
      "f, axs = show_before_and_after(experiment, target=target)\n",
      "for ax in axs:\n",
      "    ax.set_autoscale_on(False)\n",
      "    still = ndimage.imread(str(experiment.image_files.nearest(frame=int(experiment[target].died_f))[1]))\n",
      "    ax.imshow(still.T)"
     ],
     "language": "python",
     "metadata": {},
     "outputs": []
    },
    {
     "cell_type": "code",
     "collapsed": false,
     "input": [
      "target = 61498\n",
      "f, axs = show_before_and_after(experiment, target=target)\n",
      "for ax in axs:\n",
      "    ax.set_autoscale_on(False)\n",
      "    still = ndimage.imread(str(experiment.image_files.nearest(frame=int(experiment[target].died_f))[1]))\n",
      "    ax.imshow(still.T)"
     ],
     "language": "python",
     "metadata": {},
     "outputs": []
    },
    {
     "cell_type": "code",
     "collapsed": false,
     "input": [
      "target = 66048\n",
      "f, axs = show_before_and_after(experiment, target=target)\n",
      "for ax in axs:\n",
      "    ax.set_autoscale_on(False)\n",
      "    still = ndimage.imread(str(experiment.image_files.nearest(frame=int(experiment[target].died_f))[1]))\n",
      "    ax.imshow(still.T, cmap=cm.Greys_r)"
     ],
     "language": "python",
     "metadata": {},
     "outputs": []
    },
    {
     "cell_type": "code",
     "collapsed": false,
     "input": [
      "show_before_and_after(experiment, target=753)"
     ],
     "language": "python",
     "metadata": {},
     "outputs": []
    }
   ],
   "metadata": {}
  }
 ]
}