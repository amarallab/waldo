{
 "metadata": {
  "name": "",
  "signature": "sha256:4deb54ed8f83285b92f45ae505f81977a8a9fb78acabd7c47e751b2ba75af5b4"
 },
 "nbformat": 3,
 "nbformat_minor": 0,
 "worksheets": [
  {
   "cells": [
    {
     "cell_type": "markdown",
     "metadata": {},
     "source": [
      "<h1 style=\"text-align: center;\">Beyond Collisions</h1>"
     ]
    },
    {
     "cell_type": "code",
     "collapsed": false,
     "input": [
      "%load_ext autoreload\n",
      "%autoreload 2\n",
      "%matplotlib inline"
     ],
     "language": "python",
     "metadata": {},
     "outputs": [
      {
       "output_type": "stream",
       "stream": "stdout",
       "text": [
        "The gist extension is already loaded. To reload it, use:\n",
        "  %reload_ext gist\n"
       ]
      }
     ],
     "prompt_number": 14
    },
    {
     "cell_type": "code",
     "collapsed": false,
     "input": [
      "from __future__ import print_function, absolute_import, unicode_literals, division\n",
      "import six\n",
      "from six.moves import (zip, filter, map, reduce, input, range)\n",
      "\n",
      "import pathcustomize\n",
      "\n",
      "import sys\n",
      "import os\n",
      "import itertools\n",
      "import platform\n",
      "print('Python {} ({}) [{}] on {}'.format(platform.python_version(), ', '.join(platform.python_build()), \n",
      "                                       platform.python_compiler(), sys.platform))\n",
      "\n",
      "import numpy as np\n",
      "import matplotlib.pyplot as plt\n",
      "import prettyplotlib as ppl\n",
      "import pandas as pd\n",
      "import networkx as nx\n",
      "from IPython.core.display import Image as display_image\n",
      "from scipy.stats import cumfreq\n",
      "\n",
      "os.environ.setdefault('MULTIWORM_SETTINGS', 'multiworm_settings')\n",
      "import wio2\n",
      "import multiworm\n",
      "import collider\n",
      "import collider.viz\n",
      "import wio.file_manager as fm"
     ],
     "language": "python",
     "metadata": {},
     "outputs": [
      {
       "output_type": "stream",
       "stream": "stdout",
       "text": [
        "Python 3.4.0 (v3.4.0:04f714765c13, Mar 16 2014 19:25:23) [MSC v.1600 64 bit (AMD64)] on win32\n",
        "Configuring name: '-f'"
       ]
      },
      {
       "output_type": "stream",
       "stream": "stdout",
       "text": [
        "\n"
       ]
      },
      {
       "output_type": "stream",
       "stream": "stderr",
       "text": [
        "C:\\Python34\\lib\\site-packages\\pandas\\io\\excel.py:626: UserWarning: Installed openpyxl is not supported at this time. Use >=1.6.1 and <2.0.0.\n",
        "  .format(openpyxl_compat.start_ver, openpyxl_compat.stop_ver))\n"
       ]
      }
     ],
     "prompt_number": 2
    },
    {
     "cell_type": "heading",
     "level": 3,
     "metadata": {},
     "source": [
      "functions to add into packages"
     ]
    },
    {
     "cell_type": "code",
     "collapsed": false,
     "input": [
      "def calc_lifespans(graph_mod):\n",
      "    lifespans = []\n",
      "    for node in graph_mod:\n",
      "        node_data = graph_mod.node[node]\n",
      "        if u'born' in node_data and u'died' in node_data:\n",
      "            life = node_data[u'died'] - node_data[u'born']\n",
      "            #print(node, life)\n",
      "            lifespans.append(life)\n",
      "    return lifespans\n",
      "\n",
      "def node_duration_histogram(lifespans, title=''):\n",
      "    xmax = 50000\n",
      "    bins = np.linspace(0, xmax, 100)\n",
      "            \n",
      "    fig, ax = plt.subplots()\n",
      "    plt.hist(lifespans, bins=bins)\n",
      "    ax.set_ylim([0, 20])\n",
      "    ax.set_ylabel('track counts')\n",
      "    ax.set_xlabel('durations (frames)')\n",
      "    ax.set_xlim([0,xmax])\n",
      "    plt.title(title)\n",
      "    plt.show()\n",
      "\n",
      "def node_duration_cdf(ax, lifespans, label=''):\n",
      "    num_bins =  20\n",
      "    sorted1=np.sort( lifespans )\n",
      "    yvals=np.arange(len(sorted1))/float(len(sorted1))\n",
      "    ax.plot( sorted1, yvals, label=label)"
     ],
     "language": "python",
     "metadata": {},
     "outputs": [],
     "prompt_number": 3
    },
    {
     "cell_type": "code",
     "collapsed": false,
     "input": [
      "def plot_exist(fig, ax, blobs, sort_col='life', first=0, last=3600):\n",
      "    blobs = blobs.sort(sort_col)\n",
      "    last = max(blobs['died']) + 1\n",
      "    sf = 1 #3600.0 / float(l)\n",
      "    \n",
      "    N_times = last - first\n",
      "    N_blobs = len(blobs)\n",
      "    mesh = np.zeros((N_blobs, N_times))\n",
      "    for i, (bid, row) in enumerate(blobs.iterrows()):\n",
      "        #print(i, bid, row)\n",
      "        start, end = int(row['born'] * sf), int(row['died'] * sf)\n",
      "        mesh[i][start:end] = 1\n",
      "        \n",
      "    #mesh[0, 0] = 1.0\n",
      "    #mesh[0, -1] = -1.0\n",
      "    ppl.pcolormesh(fig, ax, mesh)\n",
      "    return sf\n",
      "\n",
      "def compile_processed(graph_mod):\n",
      "    processed = wio2.Experiment(ex_id)\n",
      "    processed_ids = [worm_id for (worm_id, data) in six.iteritems(processed)]\n",
      "\n",
      "    data = {}\n",
      "    missing = []\n",
      "    for node in processed_ids:\n",
      "        try:\n",
      "            node_data = graph_mod.node[node]\n",
      "            data[node] = [node_data[u'born'], node_data[u'died']]\n",
      "        except:\n",
      "            missing.append(node)\n",
      "\n",
      "    print(len(missing), 'in compound nodes')\n",
      "    for node in graph_mod:\n",
      "        if type(node) == tuple:\n",
      "            a, b = node\n",
      "            node_data = graph_mod.node[node]        \n",
      "            save = False\n",
      "            if a in missing:\n",
      "                #print(a, 'was missing')\n",
      "                save = True\n",
      "                missing.remove(a)\n",
      "            if b in missing:\n",
      "                #print(b, 'was missing')\n",
      "                save = True\n",
      "                missing.remove(b)\n",
      "\n",
      "            for c in node_data.get(u'components', []):\n",
      "                if c in missing:\n",
      "                    #print(b, 'was missing')\n",
      "                    save = True\n",
      "                    missing.remove(c)\n",
      "\n",
      "            if save:\n",
      "                node_data = graph_mod.node[node]\n",
      "                data[a] = [node_data[u'born'], node_data[u'died']] \n",
      "                \n",
      "    print(len(data), 'blobs in total')\n",
      "    blobs = pd.DataFrame(data, index=['born', 'died'])\n",
      "    blobs = blobs.T\n",
      "    blobs['life'] = blobs['died'] - blobs['born']\n",
      "    fig, ax = plt.subplots()\n",
      "    sf = plot_exist(fig, ax, blobs, sort_col=['life'])\n",
      "    #plt.show()\n",
      "    return list(blobs['life'])"
     ],
     "language": "python",
     "metadata": {},
     "outputs": [],
     "prompt_number": 4
    },
    {
     "cell_type": "code",
     "collapsed": false,
     "input": [
      "def component_size_summary(graph):\n",
      "    Gcc = nx.connected_component_subgraphs(graph.to_undirected())\n",
      "    print(\"Component sizes and example nodes in descending order\")\n",
      "    for n, G in enumerate(Gcc[:10], start=1):\n",
      "        print(\"{:>2d}. {:>5d} nodes : {}...\".format(\n",
      "                n, len(G), ', '.join([str(node) for node, _ in zip(G.nodes_iter(), range(5))])))"
     ],
     "language": "python",
     "metadata": {},
     "outputs": [],
     "prompt_number": 5
    },
    {
     "cell_type": "heading",
     "level": 1,
     "metadata": {},
     "source": [
      "Original Graph"
     ]
    },
    {
     "cell_type": "code",
     "collapsed": false,
     "input": [
      "#ex_id = '20130614_120518'\n",
      "ex_id = '20130318_131111'\n",
      "#ex_id = '20130414_140704'\n",
      "\n",
      "# load experiment\n",
      "experiment = multiworm.Experiment(experiment_id=ex_id)\n",
      "experiment.load_summary(graph=True)\n",
      "graph = experiment.collision_graph\n",
      "\n",
      "# show basic info\n",
      "print(\"Total nodes: {}\".format(len(graph)))\n",
      "collider.viz.direct_degree_distribution(graph, (3, 4))\n",
      "component_size_summary(graph)"
     ],
     "language": "python",
     "metadata": {},
     "outputs": [
      {
       "output_type": "stream",
       "stream": "stdout",
       "text": [
        "Total nodes: 68081\n",
        "Component sizes and example nodes in descending order"
       ]
      },
      {
       "output_type": "stream",
       "stream": "stdout",
       "text": [
        "\n",
        " 1. 44509 nodes : 4019, 4023, 4026, 4027, 4039...\n",
        " 2.  1913 nodes : 36864, 36865, 24414, 36870, 36871...\n",
        " 3.  1381 nodes : 49174, 49175, 49178, 51205, 27313...\n",
        " 4.  1278 nodes : 43008, 35840, 38914, 67704, 43013...\n",
        " 5.  1050 nodes : 63489, 54618, 47148, 60765, 53298...\n",
        " 6.  1003 nodes : 32548, 14337, 21163, 18437, 12295...\n",
        " 7.   922 nodes : 57345, 57347, 57348, 57351, 57354...\n",
        " 8.   816 nodes : 24576, 24577, 28674, 24579, 28676...\n",
        " 9.   593 nodes : 61440, 61441, 61442, 61443, 62468...\n",
        "10.   530 nodes : 33109, 39945, 39946, 39947, 39768...\n"
       ]
      },
      {
       "metadata": {},
       "output_type": "display_data",
       "png": "[encoded data removed]",
       "text": [
        "<matplotlib.figure.Figure at 0x43453c8>"
       ]
      }
     ],
     "prompt_number": 6
    },
    {
     "cell_type": "heading",
     "level": 1,
     "metadata": {},
     "source": [
      "Screening based on ROI"
     ]
    },
    {
     "cell_type": "code",
     "collapsed": false,
     "input": [
      "graph_mod = graph.copy()\n",
      "\n",
      "# get region of interest\n",
      "prep_file = fm.Preprocess_File(ex_id=ex_id)\n",
      "roi = prep_file.roi()\n",
      "assert len(roi) > 0\n",
      "\n",
      "collider.remove_nodes_outside_roi(graph_mod, experiment, **roi)"
     ],
     "language": "python",
     "metadata": {},
     "outputs": [],
     "prompt_number": 7
    },
    {
     "cell_type": "code",
     "collapsed": false,
     "input": [
      "print(\"Total nodes: {}\".format(len(graph_mod)))\n",
      "component_size_summary(graph_mod)\n",
      "collider.viz.direct_degree_distribution(graph_mod, (3, 4))"
     ],
     "language": "python",
     "metadata": {},
     "outputs": [
      {
       "output_type": "stream",
       "stream": "stdout",
       "text": [
        "Total nodes: 25629\n",
        "Component sizes and example nodes in descending order"
       ]
      },
      {
       "output_type": "stream",
       "stream": "stdout",
       "text": [
        "\n",
        " 1.  1913 nodes : 36864, 36865, 40966, 40967, 36873...\n",
        " 2.  1381 nodes : 49174, 49175, 49178, 51205, 27313...\n",
        " 3.  1278 nodes : 43008, 43009, 38914, 43013, 40846...\n",
        " 4.  1050 nodes : 63489, 60761, 60762, 47148, 60765...\n",
        " 5.  1003 nodes : 32548, 14337, 21163, 18437, 12295...\n",
        " 6.   922 nodes : 57345, 57347, 57348, 57351, 57354...\n",
        " 7.   816 nodes : 24576, 24577, 28674, 24579, 28676...\n",
        " 8.   530 nodes : 33109, 39945, 39946, 39947, 39768...\n",
        " 9.   425 nodes : 26627, 25089, 26648, 26649, 26650...\n",
        "10.   403 nodes : 40961, 40962, 40965, 42156, 40971...\n"
       ]
      },
      {
       "metadata": {},
       "output_type": "pyout",
       "prompt_number": 8,
       "text": [
        "(<matplotlib.figure.Figure at 0xea4bb70>,\n",
        " <matplotlib.axes.AxesSubplot at 0xea4bbe0>)"
       ]
      },
      {
       "metadata": {},
       "output_type": "display_data",
       "png": "[encoded data removed]",
       "text": [
        "<matplotlib.figure.Figure at 0xea4bb70>"
       ]
      }
     ],
     "prompt_number": 8
    },
    {
     "cell_type": "heading",
     "level": 1,
     "metadata": {},
     "source": [
      "Collision Graph Topological Simplifications"
     ]
    },
    {
     "cell_type": "code",
     "collapsed": false,
     "input": [
      "max_split_frames = 30\n",
      "max_dead_end_frames = 20\n",
      "\n",
      "graph_mod2 = graph_mod.copy()\n",
      "collider.remove_single_descendents(graph_mod2)\n",
      "collider.remove_fission_fusion(graph_mod2, max_split_frames=max_split_frames)\n",
      "collider.remove_offshoots(graph_mod2, threshold=max_dead_end_frames)\n",
      "collider.remove_single_descendents(graph_mod2)"
     ],
     "language": "python",
     "metadata": {},
     "outputs": [],
     "prompt_number": 9
    },
    {
     "cell_type": "code",
     "collapsed": false,
     "input": [
      "print(\"Total nodes: {}\".format(len(graph_mod2)))\n",
      "component_size_summary(graph_mod2)\n",
      "collider.viz.direct_degree_distribution(graph_mod2, (3, 4))\n",
      "\n"
     ],
     "language": "python",
     "metadata": {},
     "outputs": [
      {
       "output_type": "stream",
       "stream": "stdout",
       "text": [
        "Total nodes: 5633\n",
        "Component sizes and example nodes in descending order"
       ]
      },
      {
       "output_type": "stream",
       "stream": "stdout",
       "text": [
        "\n",
        " 1.    70 nodes : 42885, 42886, 56757, (62536, 64246), (56885, 62396)...\n",
        " 2.    35 nodes : (26454, 26484), (28799, 28838), 28559, (24444, 25136), (26617, 26930)...\n",
        " 3.    32 nodes : (42727, 46005), (12456, 21863), 29729, (12156, 12285), (31978, 42704)...\n",
        " 4.    26 nodes : (57726, 60763), (54274, 60880), (50175, 50631), (50176, 50198), 54216...\n",
        " 5.    25 nodes : 41220, 41221, (22859, 24613), (41516, 41562), 22858...\n",
        " 6.    15 nodes : (55122, 66957), (25056, 27509), 55121, (23011, 24768), 23010...\n",
        " 7.    14 nodes : 1473, (1555, 1628), (1500, 3038), (1460, 1470), (1294, 1428)...\n",
        " 8.    13 nodes : (361, 384), (69, 293), 913, 172, (513, 720)...\n",
        " 9.    12 nodes : (3644, 4351), 4356, 4357, 4423, 4424...\n",
        "10.     9 nodes : (52621, 53270), (53273, 53277), (53280, 53285), 53278, (53279, 53284)...\n"
       ]
      },
      {
       "metadata": {},
       "output_type": "pyout",
       "prompt_number": 10,
       "text": [
        "(<matplotlib.figure.Figure at 0x149ee400>,\n",
        " <matplotlib.axes.AxesSubplot at 0x149eea20>)"
       ]
      },
      {
       "metadata": {},
       "output_type": "display_data",
       "png": "[encoded data removed]",
       "text": [
        "<matplotlib.figure.Figure at 0x149ee400>"
       ]
      }
     ],
     "prompt_number": 10
    },
    {
     "cell_type": "heading",
     "level": 1,
     "metadata": {},
     "source": [
      "Results"
     ]
    },
    {
     "cell_type": "code",
     "collapsed": false,
     "input": [
      "lifespans1 = calc_lifespans(graph)\n",
      "good_lifespan1 = compile_processed(graph)\n",
      "\n",
      "lifespans2 = calc_lifespans(graph_mod)\n",
      "good_lifespan2 = compile_processed(graph_mod)\n",
      "\n",
      "lifespans3 = calc_lifespans(graph_mod2)\n",
      "good_lifespan3 = compile_processed(graph_mod2)\n",
      "\n",
      "plt.show()"
     ],
     "language": "python",
     "metadata": {},
     "outputs": []
    },
    {
     "cell_type": "code",
     "collapsed": false,
     "input": [
      "fig, ax = plt.subplots()\n",
      "node_duration_cdf(ax, lifespans1, label='raw')\n",
      "node_duration_cdf(ax, lifespans2, label='processed')\n",
      "ax.legend(loc='lower right')\n",
      "ax.set_title('all')\n",
      "plt.show()"
     ],
     "language": "python",
     "metadata": {},
     "outputs": []
    },
    {
     "cell_type": "code",
     "collapsed": false,
     "input": [
      "print(good_lifespan1)\n",
      "\n",
      "fig, ax = plt.subplots()\n",
      "node_duration_cdf(ax, good_lifespan1, label='raw')\n",
      "node_duration_cdf(ax, good_lifespan2, label='processed')\n",
      "ax.legend(loc='lower right')\n",
      "ax.set_title('only good blobs')\n",
      "plt.show()"
     ],
     "language": "python",
     "metadata": {},
     "outputs": []
    },
    {
     "cell_type": "code",
     "collapsed": false,
     "input": [
      "ax = ((blobs['died'] - blobs['born']) * sf / 60).hist(bins=20)\n",
      "ax.set_xlabel('minutes')\n",
      "plt.show()"
     ],
     "language": "python",
     "metadata": {},
     "outputs": [
      {
       "ename": "NameError",
       "evalue": "name 'blobs' is not defined",
       "output_type": "pyerr",
       "traceback": [
        "\u001b[1;31m---------------------------------------------------------------------------\u001b[0m\n\u001b[1;31mNameError\u001b[0m                                 Traceback (most recent call last)",
        "\u001b[1;32m<ipython-input-14-03a47f816f41>\u001b[0m in \u001b[0;36m<module>\u001b[1;34m()\u001b[0m\n\u001b[1;32m----> 1\u001b[1;33m \u001b[0max\u001b[0m \u001b[1;33m=\u001b[0m \u001b[1;33m(\u001b[0m\u001b[1;33m(\u001b[0m\u001b[0mblobs\u001b[0m\u001b[1;33m[\u001b[0m\u001b[1;34m'died'\u001b[0m\u001b[1;33m]\u001b[0m \u001b[1;33m-\u001b[0m \u001b[0mblobs\u001b[0m\u001b[1;33m[\u001b[0m\u001b[1;34m'born'\u001b[0m\u001b[1;33m]\u001b[0m\u001b[1;33m)\u001b[0m \u001b[1;33m*\u001b[0m \u001b[0msf\u001b[0m \u001b[1;33m/\u001b[0m \u001b[1;36m60\u001b[0m\u001b[1;33m)\u001b[0m\u001b[1;33m.\u001b[0m\u001b[0mhist\u001b[0m\u001b[1;33m(\u001b[0m\u001b[0mbins\u001b[0m\u001b[1;33m=\u001b[0m\u001b[1;36m20\u001b[0m\u001b[1;33m)\u001b[0m\u001b[1;33m\u001b[0m\u001b[0m\n\u001b[0m\u001b[0;32m      2\u001b[0m \u001b[0max\u001b[0m\u001b[1;33m.\u001b[0m\u001b[0mset_xlabel\u001b[0m\u001b[1;33m(\u001b[0m\u001b[1;34m'minutes'\u001b[0m\u001b[1;33m)\u001b[0m\u001b[1;33m\u001b[0m\u001b[0m\n\u001b[0;32m      3\u001b[0m \u001b[0mplt\u001b[0m\u001b[1;33m.\u001b[0m\u001b[0mshow\u001b[0m\u001b[1;33m(\u001b[0m\u001b[1;33m)\u001b[0m\u001b[1;33m\u001b[0m\u001b[0m\n",
        "\u001b[1;31mNameError\u001b[0m: name 'blobs' is not defined"
       ]
      }
     ],
     "prompt_number": 14
    },
    {
     "cell_type": "code",
     "collapsed": false,
     "input": [],
     "language": "python",
     "metadata": {},
     "outputs": []
    }
   ],
   "metadata": {}
  }
 ]
}