{
 "metadata": {
  "name": "",
  "signature": "sha256:a152fb6010537bfeeb681e8fdab90e243e8d6698ae4cb13d4f4a48c7f054455d"
 },
 "nbformat": 3,
 "nbformat_minor": 0,
 "worksheets": [
  {
   "cells": [
    {
     "cell_type": "markdown",
     "metadata": {},
     "source": [
      "<h1 style=\"text-align: center;\">Beyond Collisions</h1>"
     ]
    },
    {
     "cell_type": "code",
     "collapsed": false,
     "input": [
      "%load_ext autoreload\n",
      "%autoreload 2\n",
      "%matplotlib inline"
     ],
     "language": "python",
     "metadata": {},
     "outputs": []
    },
    {
     "cell_type": "code",
     "collapsed": false,
     "input": [
      "from __future__ import print_function, absolute_import, unicode_literals, division\n",
      "import six\n",
      "from six.moves import (zip, filter, map, reduce, input, range)\n",
      "\n",
      "import pathcustomize\n",
      "\n",
      "import sys\n",
      "import os\n",
      "import itertools\n",
      "import platform\n",
      "print('Python {} ({}) [{}] on {}'.format(platform.python_version(), ', '.join(platform.python_build()), \n",
      "                                       platform.python_compiler(), sys.platform))\n",
      "\n",
      "import numpy as np\n",
      "import matplotlib.pyplot as plt\n",
      "import prettyplotlib as ppl\n",
      "import pandas as pd\n",
      "import networkx as nx\n",
      "from IPython.core.display import Image as display_image\n",
      "from scipy.stats import cumfreq\n",
      "\n",
      "os.environ.setdefault('MULTIWORM_SETTINGS', 'multiworm_settings')\n",
      "import wio2\n",
      "import multiworm\n",
      "import collider\n",
      "import collider.viz\n",
      "import wio.file_manager as fm"
     ],
     "language": "python",
     "metadata": {},
     "outputs": []
    },
    {
     "cell_type": "heading",
     "level": 3,
     "metadata": {},
     "source": [
      "functions to add into packages"
     ]
    },
    {
     "cell_type": "code",
     "collapsed": false,
     "input": [
      "def calc_lifespans(graph_mod):\n",
      "    lifespans = []\n",
      "    for node in graph_mod:\n",
      "        node_data = graph_mod.node[node]\n",
      "        if u'born' in node_data and u'died' in node_data:\n",
      "            life = node_data[u'died'] - node_data[u'born']\n",
      "            #print(node, life)\n",
      "            lifespans.append(life)\n",
      "    return lifespans\n",
      "\n",
      "def node_duration_histogram(ax, lifespans, title='', xmax=5000, nbins=200):\n",
      "    bins = np.linspace(0, xmax, nbins)\n",
      "    #bins = 100\n",
      "    #y, x = np.histogram(lifespans, bins=bins, normed=True)\n",
      "    #print(len(x), len(y))\n",
      "    plt.hist(lifespans, bins=bins)\n",
      "    #print(x[:20])\n",
      "    #print(y[:20])\n",
      "    #ax.plot(x[1:],y)\n",
      "    ax.set_ylim([0, 100])\n",
      "    ax.set_ylabel('track counts')\n",
      "    ax.set_xlabel('durations (frames)')\n",
      "    ax.set_xlim([0,xmax])\n",
      "    plt.title(title)\n",
      "\n",
      "def node_duration_cdf(ax, lifespans, label=''):\n",
      "    num_bins =  20\n",
      "    sorted1=np.sort( lifespans )\n",
      "    yvals=np.arange(len(sorted1))/float(len(sorted1))\n",
      "    ax.plot( sorted1, yvals, label=label)"
     ],
     "language": "python",
     "metadata": {},
     "outputs": []
    },
    {
     "cell_type": "code",
     "collapsed": false,
     "input": [
      "def plot_exist(fig, ax, blobs, sort_col='life', first=0, last=3600):\n",
      "    blobs = blobs.sort(sort_col)\n",
      "    last = max(blobs['died']) + 1\n",
      "    sf = 1 #3600.0 / float(l)\n",
      "    \n",
      "    N_times = last - first\n",
      "    N_blobs = len(blobs)\n",
      "    mesh = np.zeros((N_blobs, N_times))\n",
      "    for i, (bid, row) in enumerate(blobs.iterrows()):\n",
      "        #print(i, bid, row)\n",
      "        start, end = int(row['born'] * sf), int(row['died'] * sf)\n",
      "        mesh[i][start:end] = 1\n",
      "        \n",
      "    #mesh[0, 0] = 1.0\n",
      "    #mesh[0, -1] = -1.0\n",
      "    ppl.pcolormesh(fig, ax, mesh)\n",
      "    return sf\n",
      "\n",
      "def compile_processed(graph_mod):\n",
      "    processed = wio2.Experiment(ex_id)\n",
      "    processed_ids = [worm_id for (worm_id, data) in six.iteritems(processed)]\n",
      "\n",
      "    data = {}\n",
      "    missing = []\n",
      "    for node in processed_ids:\n",
      "        try:\n",
      "            node_data = graph_mod.node[node]\n",
      "            data[node] = [node_data[u'born'], node_data[u'died']]\n",
      "        except:\n",
      "            missing.append(node)\n",
      "\n",
      "    print(len(missing), 'in compound nodes')\n",
      "    for node in graph_mod:\n",
      "        if type(node) == tuple:\n",
      "            a, b = node\n",
      "            node_data = graph_mod.node[node]        \n",
      "            save = False\n",
      "            if a in missing:\n",
      "                #print(a, 'was missing')\n",
      "                save = True\n",
      "                missing.remove(a)\n",
      "            if b in missing:\n",
      "                #print(b, 'was missing')\n",
      "                save = True\n",
      "                missing.remove(b)\n",
      "\n",
      "            for c in node_data.get(u'components', []):\n",
      "                if c in missing:\n",
      "                    #print(b, 'was missing')\n",
      "                    save = True\n",
      "                    missing.remove(c)\n",
      "\n",
      "            if save:\n",
      "                node_data = graph_mod.node[node]\n",
      "                data[a] = [node_data[u'born'], node_data[u'died']] \n",
      "                \n",
      "    print(len(data), 'blobs in total')\n",
      "    blobs = pd.DataFrame(data, index=['born', 'died'])\n",
      "    blobs = blobs.T\n",
      "    blobs['life'] = blobs['died'] - blobs['born']\n",
      "    fig, ax = plt.subplots()\n",
      "    sf = plot_exist(fig, ax, blobs, sort_col=['life'])\n",
      "    #plt.show()\n",
      "    return list(blobs['life'])"
     ],
     "language": "python",
     "metadata": {},
     "outputs": []
    },
    {
     "cell_type": "code",
     "collapsed": false,
     "input": [
      "def component_size_summary(graph):\n",
      "    Gcc = nx.connected_component_subgraphs(graph.to_undirected())\n",
      "    print(\"Component sizes and example nodes in descending order\")\n",
      "    for n, G in enumerate(Gcc[:10], start=1):\n",
      "        print(\"{:>2d}. {:>5d} nodes : {}...\".format(\n",
      "                n, len(G), ', '.join([str(node) for node, _ in zip(G.nodes_iter(), range(5))])))"
     ],
     "language": "python",
     "metadata": {},
     "outputs": []
    },
    {
     "cell_type": "heading",
     "level": 1,
     "metadata": {},
     "source": [
      "Original Graph"
     ]
    },
    {
     "cell_type": "code",
     "collapsed": false,
     "input": [
      "#ex_id = '20130614_120518'\n",
      "ex_id = '20130318_131111'\n",
      "ex_id = '20130414_140704' # has a truly giant component after ROI filtering\n",
      "\n",
      "# load experiment\n",
      "experiment = multiworm.Experiment(experiment_id=ex_id)\n",
      "experiment.load_summary(graph=True)\n",
      "graph = experiment.collision_graph\n",
      "\n",
      "# show basic info\n",
      "print(\"Total nodes: {}\".format(len(graph)))\n",
      "collider.viz.direct_degree_distribution(graph, (3, 4))\n",
      "component_size_summary(graph)"
     ],
     "language": "python",
     "metadata": {},
     "outputs": []
    },
    {
     "cell_type": "heading",
     "level": 1,
     "metadata": {},
     "source": [
      "Screening based on ROI"
     ]
    },
    {
     "cell_type": "code",
     "collapsed": false,
     "input": [
      "graph_mod = graph.copy()\n",
      "\n",
      "# get region of interest\n",
      "prep_file = fm.Preprocess_File(ex_id=ex_id)\n",
      "roi = prep_file.roi()\n",
      "assert len(roi) > 0\n",
      "\n",
      "collider.remove_nodes_outside_roi(graph_mod, experiment, **roi)"
     ],
     "language": "python",
     "metadata": {},
     "outputs": []
    },
    {
     "cell_type": "code",
     "collapsed": false,
     "input": [
      "print(\"Total nodes: {}\".format(len(graph_mod)))\n",
      "component_size_summary(graph_mod)\n",
      "collider.viz.direct_degree_distribution(graph_mod, (3, 4))"
     ],
     "language": "python",
     "metadata": {},
     "outputs": []
    },
    {
     "cell_type": "heading",
     "level": 1,
     "metadata": {},
     "source": [
      "Collision Graph Topological Simplifications"
     ]
    },
    {
     "cell_type": "heading",
     "level": 3,
     "metadata": {},
     "source": [
      "Split Frames Parameter Tuning"
     ]
    },
    {
     "cell_type": "code",
     "collapsed": false,
     "input": [
      "max_split_frames_range = sorted(list(set(int(x) for x in set(np.logspace(0, 2, 30)))))\n",
      "nodes_left = []\n",
      "\n",
      "max_dead_end_frames = 20\n",
      "\n",
      "for msf in max_split_frames_range:\n",
      "    graph_mod2 = graph_mod.copy()\n",
      "    collider.remove_single_descendents(graph_mod2)\n",
      "    collider.remove_fission_fusion(graph_mod2, max_split_frames=msf)\n",
      "    collider.remove_offshoots(graph_mod2, threshold=max_dead_end_frames)\n",
      "    collider.remove_single_descendents(graph_mod2)\n",
      "    nodes_left.append(len(graph_mod2))"
     ],
     "language": "python",
     "metadata": {},
     "outputs": []
    },
    {
     "cell_type": "code",
     "collapsed": false,
     "input": [
      "f, ax = plt.subplots()\n",
      "ax.semilogx(max_split_frames_range, nodes_left)"
     ],
     "language": "python",
     "metadata": {},
     "outputs": []
    },
    {
     "cell_type": "heading",
     "level": 3,
     "metadata": {},
     "source": [
      "Running..."
     ]
    },
    {
     "cell_type": "code",
     "collapsed": false,
     "input": [
      "max_split_frames = 5\n",
      "max_dead_end_frames = 20\n",
      "\n",
      "graph_mod2 = graph_mod.copy()\n",
      "collider.remove_single_descendents(graph_mod2)\n",
      "collider.remove_fission_fusion(graph_mod2, max_split_frames=max_split_frames)\n",
      "collider.remove_offshoots(graph_mod2, threshold=max_dead_end_frames)\n",
      "collider.remove_single_descendents(graph_mod2)"
     ],
     "language": "python",
     "metadata": {},
     "outputs": []
    },
    {
     "cell_type": "code",
     "collapsed": false,
     "input": [
      "print(\"Total nodes: {}\".format(len(graph_mod2)))\n",
      "component_size_summary(graph_mod2)\n",
      "collider.viz.direct_degree_distribution(graph_mod2, (3, 4))"
     ],
     "language": "python",
     "metadata": {},
     "outputs": []
    },
    {
     "cell_type": "heading",
     "level": 1,
     "metadata": {},
     "source": [
      "Results"
     ]
    },
    {
     "cell_type": "code",
     "collapsed": false,
     "input": [
      "nonzero_graph = graph_mod2.copy()\n",
      "nonzero_graph.remove_nodes_from(n for n in nonzero_graph.nodes() if not nonzero_graph.degree(n))\n",
      "print(\"Total nodes: {}\".format(len(nonzero_graph)))\n",
      "component_size_summary(nonzero_graph)\n",
      "collider.viz.direct_degree_distribution(nonzero_graph, (3, 4))\n",
      "\n",
      "filename = collider.viz.render_nx_as_dot(nonzero_graph)\n",
      "print(\"Saved dot graph to {}\".format(filename))"
     ],
     "language": "python",
     "metadata": {},
     "outputs": []
    },
    {
     "cell_type": "heading",
     "level": 1,
     "metadata": {},
     "source": [
      "Relative Fission-Fusion"
     ]
    },
    {
     "cell_type": "code",
     "collapsed": false,
     "input": [
      "thresholds = np.logspace(-3, 2)\n",
      "nonzeronodes = []\n",
      "for threshold in thresholds:\n",
      "    graph_mod3 = graph_mod2.copy()\n",
      "    collider.remove_fission_fusion_rel(graph_mod3, threshold)\n",
      "    nonzeronodes.append(sum(min(1, ndeg) for ndeg in graph_mod3.degree()))\n",
      "f, ax = plt.subplots()\n",
      "ax.semilogx(thresholds, nonzeronodes)"
     ],
     "language": "python",
     "metadata": {},
     "outputs": []
    },
    {
     "cell_type": "code",
     "collapsed": false,
     "input": [
      "relative_threshold = 0.5\n",
      "\n",
      "graph_relremove = graph_mod2.copy()\n",
      "collider.remove_fission_fusion_rel(graph_relremove, relative_threshold)\n",
      "graph_relremove.remove_nodes_from(n for n in graph_relremove.nodes() if not graph_relremove.degree(n))\n",
      "\n",
      "remove_giant_component = True\n",
      "if remove_giant_component:\n",
      "    Gcc = nx.connected_component_subgraphs(graph_relremove.to_undirected())\n",
      "    n_components = len(Gcc)\n",
      "    print(\"Number of components: {}\".format(n_components))\n",
      "    print(\"Removing giant component...\")\n",
      "    graph_relremove.remove_nodes_from(Gcc[0])\n",
      "\n",
      "filename = collider.viz.render_nx_as_dot(graph_relremove)\n",
      "print(\"Saved dot graph to {}\".format(filename))"
     ],
     "language": "python",
     "metadata": {},
     "outputs": []
    },
    {
     "cell_type": "heading",
     "level": 1,
     "metadata": {},
     "source": [
      "More..."
     ]
    },
    {
     "cell_type": "code",
     "collapsed": false,
     "input": [
      "lifespans1 = calc_lifespans(graph)\n",
      "good_lifespan1 = compile_processed(graph)\n",
      "\n",
      "lifespans2 = calc_lifespans(graph_mod)\n",
      "good_lifespan2 = compile_processed(graph_mod)\n",
      "\n",
      "lifespans3 = calc_lifespans(graph_mod2)\n",
      "good_lifespan3 = compile_processed(graph_mod2)\n",
      "\n",
      "plt.show()"
     ],
     "language": "python",
     "metadata": {},
     "outputs": []
    },
    {
     "cell_type": "code",
     "collapsed": false,
     "input": [
      "fig, ax = plt.subplots()\n",
      "node_duration_cdf(ax, lifespans1, label='raw')\n",
      "node_duration_cdf(ax, lifespans2, label='processed')\n",
      "node_duration_cdf(ax, lifespans3, label='processed')\n",
      "ax.legend(loc='lower right')\n",
      "ax.set_title('all')\n",
      "plt.show()"
     ],
     "language": "python",
     "metadata": {},
     "outputs": []
    },
    {
     "cell_type": "code",
     "collapsed": false,
     "input": [
      "print(good_lifespan1)\n",
      "\n",
      "fig, ax = plt.subplots()\n",
      "node_duration_cdf(ax, good_lifespan1, label='raw')\n",
      "node_duration_cdf(ax, good_lifespan2, label='processed')\n",
      "node_duration_cdf(ax, good_lifespan3, label='processed')\n",
      "ax.legend(loc='lower right')\n",
      "ax.set_title('only good blobs')\n",
      "plt.show()"
     ],
     "language": "python",
     "metadata": {},
     "outputs": []
    },
    {
     "cell_type": "code",
     "collapsed": false,
     "input": [
      "xmax = 5000\n",
      "print(lifespans1[:20])\n",
      "fig, ax = plt.subplots()\n",
      "node_duration_histogram(ax, lifespans1, xmax=xmax)\n",
      "#ax.set_title('before cleaning')\n",
      "plt.show()\n",
      "\n",
      "fig, ax = plt.subplots()\n",
      "node_duration_histogram(ax, good_lifespan1, xmax=xmax)\n",
      "#ax.set_title('before cleaning')\n",
      "plt.show()"
     ],
     "language": "python",
     "metadata": {},
     "outputs": []
    },
    {
     "cell_type": "code",
     "collapsed": false,
     "input": [
      "data = [(10, 40000), (20, 50000), (30, 45000), (32, 4000), (200, 30000), (500, 50000), (700, 35000),\n",
      "        (3000, 45000), (3500, 49000), (5000, 48000), (20000, 50000), (15000, 30000), (19000, 27000), (3000, 50000),\n",
      "        (1000, 40000), (2500, 30000), (3000, 25000), (320, 20000), (2000, 30000), (5000, 30000), (7000, 30000),\n",
      "        (3000, 45000), (3500, 49000), (5000, 48000), (20000, 50000), (15000, 30000), (19000, 27000), (3000, 50000)]\n",
      "blobs = pd.DataFrame(data, columns=['born', 'died'])\n",
      "print(blobs)\n",
      "#blobs = blobs.T\n",
      "blobs['life'] = blobs['died'] - blobs['born']\n",
      "fig, ax = plt.subplots()\n",
      "sf = plot_exist(fig, ax, blobs, sort_col=['born'])"
     ],
     "language": "python",
     "metadata": {},
     "outputs": []
    },
    {
     "cell_type": "code",
     "collapsed": false,
     "input": [],
     "language": "python",
     "metadata": {},
     "outputs": []
    },
    {
     "cell_type": "code",
     "collapsed": false,
     "input": [],
     "language": "python",
     "metadata": {},
     "outputs": []
    }
   ],
   "metadata": {}
  }
 ]
}