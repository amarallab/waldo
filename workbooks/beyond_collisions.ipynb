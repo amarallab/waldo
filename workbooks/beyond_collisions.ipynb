{
 "metadata": {
  "name": "",
  "signature": "sha256:0c00859eacb7ca30ec715540e21e2dccca3310a5e9283c99619da77392d54484"
 },
 "nbformat": 3,
 "nbformat_minor": 0,
 "worksheets": [
  {
   "cells": [
    {
     "cell_type": "markdown",
     "metadata": {},
     "source": [
      "<h1 style=\"text-align: center;\">Beyond Collisions</h1>"
     ]
    },
    {
     "cell_type": "code",
     "collapsed": false,
     "input": [
      "%load_ext autoreload\n",
      "%autoreload 2\n",
      "%matplotlib inline"
     ],
     "language": "python",
     "metadata": {},
     "outputs": [],
     "prompt_number": 1
    },
    {
     "cell_type": "code",
     "collapsed": false,
     "input": [
      "from __future__ import print_function, absolute_import, unicode_literals, division\n",
      "import six\n",
      "from six.moves import (zip, filter, map, reduce, input, range)\n",
      "\n",
      "import pathcustomize\n",
      "\n",
      "import sys\n",
      "import os\n",
      "import itertools\n",
      "import platform\n",
      "print('Python {} ({}) [{}] on {}'.format(platform.python_version(), ', '.join(platform.python_build()), \n",
      "                                       platform.python_compiler(), sys.platform))\n",
      "\n",
      "import numpy as np\n",
      "import matplotlib.pyplot as plt\n",
      "import prettyplotlib as ppl\n",
      "import pandas as pd\n",
      "import networkx as nx\n",
      "from IPython.core.display import Image as display_image\n",
      "from scipy.stats import cumfreq\n",
      "\n",
      "os.environ.setdefault('MULTIWORM_SETTINGS', 'multiworm_settings')\n",
      "import wio2\n",
      "import multiworm\n",
      "import collider\n",
      "import collider.viz\n",
      "import wio.file_manager as fm"
     ],
     "language": "python",
     "metadata": {},
     "outputs": [
      {
       "output_type": "stream",
       "stream": "stdout",
       "text": [
        "Python 2.7.7 (default, Jun 20 2014 13:48:50) [GCC 4.6.3] on linux2\n",
        "Configuring name: '-f'"
       ]
      },
      {
       "output_type": "stream",
       "stream": "stdout",
       "text": [
        "\n"
       ]
      },
      {
       "output_type": "stream",
       "stream": "stderr",
       "text": [
        "/home/visitors/ntimkovich/.pyenv/versions/waldo27/lib/python2.7/site-packages/pandas/io/excel.py:626: UserWarning: Installed openpyxl is not supported at this time. Use >=1.6.1 and <2.0.0.\n",
        "  .format(openpyxl_compat.start_ver, openpyxl_compat.stop_ver))\n"
       ]
      }
     ],
     "prompt_number": 2
    },
    {
     "cell_type": "heading",
     "level": 3,
     "metadata": {},
     "source": [
      "functions to add into packages"
     ]
    },
    {
     "cell_type": "code",
     "collapsed": false,
     "input": [
      "def calc_lifespans(graph_mod):\n",
      "    lifespans = []\n",
      "    for node in graph_mod:\n",
      "        node_data = graph_mod.node[node]\n",
      "        if u'born' in node_data and u'died' in node_data:\n",
      "            life = node_data[u'died'] - node_data[u'born']\n",
      "            #print(node, life)\n",
      "            lifespans.append(life)\n",
      "    return lifespans\n",
      "\n",
      "def node_duration_histogram(lifespans, title=''):\n",
      "    xmax = 50000\n",
      "    bins = np.linspace(0, xmax, 100)\n",
      "            \n",
      "    fig, ax = plt.subplots()\n",
      "    plt.hist(lifespans, bins=bins)\n",
      "    ax.set_ylim([0, 20])\n",
      "    ax.set_ylabel('track counts')\n",
      "    ax.set_xlabel('durations (frames)')\n",
      "    ax.set_xlim([0,xmax])\n",
      "    plt.title(title)\n",
      "    plt.show()\n",
      "\n",
      "def node_duration_cdf(ax, lifespans, label=''):\n",
      "    num_bins =  20\n",
      "    sorted1=np.sort( lifespans )\n",
      "    yvals=np.arange(len(sorted1))/float(len(sorted1))\n",
      "    ax.plot( sorted1, yvals, label=label)"
     ],
     "language": "python",
     "metadata": {},
     "outputs": [],
     "prompt_number": 3
    },
    {
     "cell_type": "code",
     "collapsed": false,
     "input": [
      "def plot_exist(fig, ax, blobs, sort_col='life', first=0, last=3600):\n",
      "    blobs = blobs.sort(sort_col)\n",
      "    last = max(blobs['died']) + 1\n",
      "    sf = 1 #3600.0 / float(l)\n",
      "    \n",
      "    N_times = last - first\n",
      "    N_blobs = len(blobs)\n",
      "    mesh = np.zeros((N_blobs, N_times))\n",
      "    for i, (bid, row) in enumerate(blobs.iterrows()):\n",
      "        #print(i, bid, row)\n",
      "        start, end = int(row['born'] * sf), int(row['died'] * sf)\n",
      "        mesh[i][start:end] = 1\n",
      "        \n",
      "    #mesh[0, 0] = 1.0\n",
      "    #mesh[0, -1] = -1.0\n",
      "    ppl.pcolormesh(fig, ax, mesh)\n",
      "    return sf\n",
      "\n",
      "def compile_processed(graph_mod):\n",
      "    processed = wio2.Experiment(ex_id)\n",
      "    processed_ids = [worm_id for (worm_id, data) in six.iteritems(processed)]\n",
      "\n",
      "    data = {}\n",
      "    missing = []\n",
      "    for node in processed_ids:\n",
      "        try:\n",
      "            node_data = graph_mod.node[node]\n",
      "            data[node] = [node_data[u'born'], node_data[u'died']]\n",
      "        except:\n",
      "            missing.append(node)\n",
      "\n",
      "    print(len(missing), 'in compound nodes')\n",
      "    for node in graph_mod:\n",
      "        if type(node) == tuple:\n",
      "            a, b = node\n",
      "            node_data = graph_mod.node[node]        \n",
      "            save = False\n",
      "            if a in missing:\n",
      "                #print(a, 'was missing')\n",
      "                save = True\n",
      "                missing.remove(a)\n",
      "            if b in missing:\n",
      "                #print(b, 'was missing')\n",
      "                save = True\n",
      "                missing.remove(b)\n",
      "\n",
      "            for c in node_data.get(u'components', []):\n",
      "                if c in missing:\n",
      "                    #print(b, 'was missing')\n",
      "                    save = True\n",
      "                    missing.remove(c)\n",
      "\n",
      "            if save:\n",
      "                node_data = graph_mod.node[node]\n",
      "                data[a] = [node_data[u'born'], node_data[u'died']] \n",
      "                \n",
      "    print(len(data), 'blobs in total')\n",
      "    blobs = pd.DataFrame(data, index=['born', 'died'])\n",
      "    blobs = blobs.T\n",
      "    blobs['life'] = blobs['died'] - blobs['born']\n",
      "    fig, ax = plt.subplots()\n",
      "    sf = plot_exist(fig, ax, blobs, sort_col=['life'])\n",
      "    #plt.show()\n",
      "    return list(blobs['life'])"
     ],
     "language": "python",
     "metadata": {},
     "outputs": [],
     "prompt_number": 4
    },
    {
     "cell_type": "code",
     "collapsed": false,
     "input": [
      "def component_size_summary(graph):\n",
      "    Gcc = nx.connected_component_subgraphs(graph.to_undirected())\n",
      "    print(\"Component sizes and example nodes in descending order\")\n",
      "    for n, G in enumerate(Gcc[:10], start=1):\n",
      "        print(\"{:>2d}. {:>5d} nodes : {}...\".format(\n",
      "                n, len(G), ', '.join([str(node) for node, _ in zip(G.nodes_iter(), range(5))])))"
     ],
     "language": "python",
     "metadata": {},
     "outputs": [],
     "prompt_number": 5
    },
    {
     "cell_type": "heading",
     "level": 1,
     "metadata": {},
     "source": [
      "Original Graph"
     ]
    },
    {
     "cell_type": "code",
     "collapsed": false,
     "input": [
      "#ex_id = '20130614_120518'\n",
      "ex_id = '20130318_131111'\n",
      "ex_id = '20130414_140704' # has a truly giant component after ROI filtering\n",
      "\n",
      "# load experiment\n",
      "experiment = multiworm.Experiment(experiment_id=ex_id)\n",
      "experiment.load_summary(graph=True)\n",
      "graph = experiment.collision_graph\n",
      "\n",
      "# show basic info\n",
      "print(\"Total nodes: {}\".format(len(graph)))\n",
      "collider.viz.direct_degree_distribution(graph, (3, 4))\n",
      "component_size_summary(graph)"
     ],
     "language": "python",
     "metadata": {},
     "outputs": [
      {
       "output_type": "stream",
       "stream": "stdout",
       "text": [
        "Total nodes: 12543\n",
        "Component sizes and example nodes in descending order"
       ]
      },
      {
       "output_type": "stream",
       "stream": "stdout",
       "text": [
        "\n",
        " 1.  7787 nodes : 1, 2, 4, 5, 6...\n",
        " 2.   661 nodes : 5123, 6186, 6187, 6188, 6191...\n",
        " 3.   226 nodes : 11903, 11989, 11990, 11991, 11995...\n",
        " 4.   162 nodes : 2048, 2051, 2053, 2054, 6684...\n",
        " 5.   140 nodes : 11776, 11777, 11778, 11779, 11780...\n",
        " 6.    86 nodes : 721, 723, 724, 728, 753...\n",
        " 7.    74 nodes : 10498, 10501, 10502, 10503, 10505...\n",
        " 8.    62 nodes : 12331, 10070, 12333, 10183, 10136...\n",
        " 9.    54 nodes : 7184, 11156, 11157, 11158, 11159...\n",
        "10.    38 nodes : 645, 646, 6189, 6183, 6184...\n"
       ]
      },
      {
       "metadata": {},
       "output_type": "display_data",
       "png": "[encoded data removed]",
       "text": [
        "<matplotlib.figure.Figure at 0xb23f440c>"
       ]
      }
     ],
     "prompt_number": 6
    },
    {
     "cell_type": "heading",
     "level": 1,
     "metadata": {},
     "source": [
      "Screening based on ROI"
     ]
    },
    {
     "cell_type": "code",
     "collapsed": false,
     "input": [
      "graph_mod = graph.copy()\n",
      "\n",
      "# get region of interest\n",
      "prep_file = fm.Preprocess_File(ex_id=ex_id)\n",
      "roi = prep_file.roi()\n",
      "assert len(roi) > 0\n",
      "\n",
      "collider.remove_nodes_outside_roi(graph_mod, experiment, **roi)"
     ],
     "language": "python",
     "metadata": {},
     "outputs": [],
     "prompt_number": 7
    },
    {
     "cell_type": "code",
     "collapsed": false,
     "input": [
      "print(\"Total nodes: {}\".format(len(graph_mod)))\n",
      "component_size_summary(graph_mod)\n",
      "collider.viz.direct_degree_distribution(graph_mod, (3, 4))"
     ],
     "language": "python",
     "metadata": {},
     "outputs": [
      {
       "output_type": "stream",
       "stream": "stdout",
       "text": [
        "Total nodes: 10993\n",
        "Component sizes and example nodes in descending order"
       ]
      },
      {
       "output_type": "stream",
       "stream": "stdout",
       "text": [
        "\n",
        " 1.  7724 nodes : 1, 2, 4, 5, 6...\n",
        " 2.   226 nodes : 11903, 11989, 11990, 11991, 11995...\n",
        " 3.   140 nodes : 11776, 11777, 11778, 11779, 11780...\n",
        " 4.    41 nodes : 7184, 11169, 11867, 11698, 11699...\n",
        " 5.    22 nodes : 11432, 11433, 11435, 11454, 11455...\n",
        " 6.    18 nodes : 12235, 12234, 12299, 12300, 12237...\n",
        " 7.    17 nodes : 5504, 5505, 5507, 5508, 5509...\n",
        " 8.    17 nodes : 12512, 12513, 12514, 12515, 12518...\n",
        " 9.    14 nodes : 11490, 11491, 11463, 11464, 11465...\n",
        "10.    13 nodes : 7713, 7714, 7717, 7719, 7720...\n"
       ]
      },
      {
       "metadata": {},
       "output_type": "pyout",
       "prompt_number": 8,
       "text": [
        "(<matplotlib.figure.Figure at 0xb23f440c>,\n",
        " <matplotlib.axes.AxesSubplot at 0xb1681acc>)"
       ]
      },
      {
       "metadata": {},
       "output_type": "display_data",
       "png": "[encoded data removed]",
       "text": [
        "<matplotlib.figure.Figure at 0xb23f440c>"
       ]
      }
     ],
     "prompt_number": 8
    },
    {
     "cell_type": "heading",
     "level": 1,
     "metadata": {},
     "source": [
      "Collision Graph Topological Simplifications"
     ]
    },
    {
     "cell_type": "heading",
     "level": 3,
     "metadata": {},
     "source": [
      "Split Frames Parameter Tuning"
     ]
    },
    {
     "cell_type": "code",
     "collapsed": false,
     "input": [
      "max_split_frames_range = sorted(list(set(int(x) for x in set(np.logspace(0, 2, 30)))))\n",
      "nodes_left = []\n",
      "\n",
      "max_dead_end_frames = 20\n",
      "\n",
      "for msf in max_split_frames_range:\n",
      "    graph_mod2 = graph_mod.copy()\n",
      "    collider.remove_single_descendents(graph_mod2)\n",
      "    collider.remove_fission_fusion(graph_mod2, max_split_frames=msf)\n",
      "    collider.remove_offshoots(graph_mod2, threshold=max_dead_end_frames)\n",
      "    collider.remove_single_descendents(graph_mod2)\n",
      "    nodes_left.append(len(graph_mod2))"
     ],
     "language": "python",
     "metadata": {},
     "outputs": [],
     "prompt_number": 9
    },
    {
     "cell_type": "code",
     "collapsed": false,
     "input": [
      "f, ax = plt.subplots()\n",
      "ax.semilogx(max_split_frames_range, nodes_left)"
     ],
     "language": "python",
     "metadata": {},
     "outputs": [
      {
       "metadata": {},
       "output_type": "pyout",
       "prompt_number": 10,
       "text": [
        "[<matplotlib.lines.Line2D at 0xb2592fcc>]"
       ]
      },
      {
       "metadata": {},
       "output_type": "display_data",
       "png": "[encoded data removed]",
       "text": [
        "<matplotlib.figure.Figure at 0xb11dcbec>"
       ]
      }
     ],
     "prompt_number": 10
    },
    {
     "cell_type": "heading",
     "level": 3,
     "metadata": {},
     "source": [
      "Running..."
     ]
    },
    {
     "cell_type": "code",
     "collapsed": false,
     "input": [
      "max_split_frames = 5\n",
      "max_dead_end_frames = 20\n",
      "\n",
      "graph_mod2 = graph_mod.copy()\n",
      "collider.remove_single_descendents(graph_mod2)\n",
      "collider.remove_fission_fusion(graph_mod2, max_split_frames=max_split_frames)\n",
      "collider.remove_offshoots(graph_mod2, threshold=max_dead_end_frames)\n",
      "collider.remove_single_descendents(graph_mod2)"
     ],
     "language": "python",
     "metadata": {},
     "outputs": [],
     "prompt_number": 11
    },
    {
     "cell_type": "code",
     "collapsed": false,
     "input": [
      "print(\"Total nodes: {}\".format(len(graph_mod2)))\n",
      "component_size_summary(graph_mod2)\n",
      "collider.viz.direct_degree_distribution(graph_mod2, (3, 4))"
     ],
     "language": "python",
     "metadata": {},
     "outputs": [
      {
       "output_type": "stream",
       "stream": "stdout",
       "text": [
        "Total nodes: 4375\n",
        "Component sizes and example nodes in descending order"
       ]
      },
      {
       "output_type": "stream",
       "stream": "stdout",
       "text": [
        "\n",
        " 1.  1631 nodes : (5732, 5738), 2, 4, 5, 7...\n",
        " 2.    28 nodes : (12228, 12275), 12168, 12169, 12059, 12060...\n",
        " 3.    16 nodes : 11770, (11720, 11768), 11716, (11771, 11842), (11717, 11718)...\n",
        " 4.    11 nodes : 11490, 11491, 11149, 11481, 11477...\n",
        " 5.     8 nodes : 11169, 7184, 11754, 11755, (11849, 11863)...\n",
        " 6.     7 nodes : 11364, 11365, (11375, 11380), (11339, 11363), (11385, 11456)...\n",
        " 7.     6 nodes : (12508, 12523), 12531, 12532, 12534, 12535...\n",
        " 8.     5 nodes : 4072, 4088, (914, 3262), 2141, (4087, 4091)...\n",
        " 9.     4 nodes : (8122, 8128), 8106, 8107, 8108...\n",
        "10.     4 nodes : (5287, 5507), 5516, (5508, 5513), 5509...\n"
       ]
      },
      {
       "metadata": {},
       "output_type": "pyout",
       "prompt_number": 12,
       "text": [
        "(<matplotlib.figure.Figure at 0xb27b608c>,\n",
        " <matplotlib.axes.AxesSubplot at 0xb0eb490c>)"
       ]
      },
      {
       "metadata": {},
       "output_type": "display_data",
       "png": "[encoded data removed]",
       "text": [
        "<matplotlib.figure.Figure at 0xb27b608c>"
       ]
      }
     ],
     "prompt_number": 12
    },
    {
     "cell_type": "heading",
     "level": 1,
     "metadata": {},
     "source": [
      "Results"
     ]
    },
    {
     "cell_type": "code",
     "collapsed": false,
     "input": [
      "nonzero_graph = graph_mod2.copy()\n",
      "nonzero_graph.remove_nodes_from(n for n in nonzero_graph.nodes() if not nonzero_graph.degree(n))\n",
      "print(\"Total nodes: {}\".format(len(nonzero_graph)))\n",
      "component_size_summary(nonzero_graph)\n",
      "collider.viz.direct_degree_distribution(nonzero_graph, (3, 4))\n",
      "\n",
      "filename = collider.viz.render_nx_as_dot(nonzero_graph)\n",
      "print(\"Saved dot graph to {}\".format(filename))"
     ],
     "language": "python",
     "metadata": {},
     "outputs": [
      {
       "output_type": "stream",
       "stream": "stdout",
       "text": [
        "Total nodes: 1729\n",
        "Component sizes and example nodes in descending order"
       ]
      },
      {
       "output_type": "stream",
       "stream": "stdout",
       "text": [
        "\n",
        " 1.  1631 nodes : (5732, 5738), 2, 4, (5182, 5184), 7...\n",
        " 2.    28 nodes : (12228, 12275), 12168, 12169, 12059, 12060...\n",
        " 3.    16 nodes : 11770, (11720, 11768), 11716, (11771, 11842), (11717, 11718)...\n",
        " 4.    11 nodes : 11490, 11491, 11149, 11481, 11477...\n",
        " 5.     8 nodes : 11169, 7184, 11754, 11755, (11849, 11863)...\n",
        " 6.     7 nodes : 11364, 11365, (11375, 11380), (11339, 11363), (11385, 11456)...\n",
        " 7.     6 nodes : (12508, 12523), 12531, 12532, 12534, 12535...\n",
        " 8.     5 nodes : 4072, 4088, (914, 3262), 2141, (4087, 4091)...\n",
        " 9.     4 nodes : (8122, 8128), 8106, 8107, 8108...\n",
        "10.     4 nodes : (5287, 5507), (5508, 5513), 5516, 5509...\n",
        "Saved dot graph to graph.gv.png"
       ]
      },
      {
       "output_type": "stream",
       "stream": "stdout",
       "text": [
        "\n"
       ]
      },
      {
       "metadata": {},
       "output_type": "display_data",
       "png": "[encoded data removed]",
       "text": [
        "<matplotlib.figure.Figure at 0xb127388c>"
       ]
      }
     ],
     "prompt_number": 13
    },
    {
     "cell_type": "heading",
     "level": 1,
     "metadata": {},
     "source": [
      "Relative Fission-Fusion"
     ]
    },
    {
     "cell_type": "code",
     "collapsed": false,
     "input": [
      "thresholds = np.logspace(-3, 2)\n",
      "nonzeronodes = []\n",
      "for threshold in thresholds:\n",
      "    graph_mod3 = graph_mod2.copy()\n",
      "    collider.remove_fission_fusion_rel(graph_mod3, threshold)\n",
      "    nonzeronodes.append(sum(min(1, ndeg) for ndeg in graph_mod3.degree()))\n",
      "f, ax = plt.subplots()\n",
      "ax.semilogx(thresholds, nonzeronodes)"
     ],
     "language": "python",
     "metadata": {},
     "outputs": [
      {
       "metadata": {},
       "output_type": "pyout",
       "prompt_number": 14,
       "text": [
        "[<matplotlib.lines.Line2D at 0xb0bf4ccc>]"
       ]
      },
      {
       "metadata": {},
       "output_type": "display_data",
       "png": "[encoded data removed]",
       "text": [
        "<matplotlib.figure.Figure at 0xb0d628ec>"
       ]
      }
     ],
     "prompt_number": 14
    },
    {
     "cell_type": "code",
     "collapsed": false,
     "input": [
      "relative_threshold = 0.5\n",
      "\n",
      "graph_relremove = graph_mod2.copy()\n",
      "collider.remove_fission_fusion_rel(graph_relremove, relative_threshold)\n",
      "graph_relremove.remove_nodes_from(n for n in graph_relremove.nodes() if not graph_relremove.degree(n))\n",
      "\n",
      "remove_giant_component = True\n",
      "if remove_giant_component:\n",
      "    Gcc = nx.connected_component_subgraphs(graph_relremove.to_undirected())\n",
      "    n_components = len(Gcc)\n",
      "    print(\"Number of components: {}\".format(n_components))\n",
      "    print(\"Removing giant component...\")\n",
      "    graph_relremove.remove_nodes_from(Gcc[0])\n",
      "\n",
      "filename = collider.viz.render_nx_as_dot(graph_relremove)\n",
      "print(\"Saved dot graph to {}\".format(filename))"
     ],
     "language": "python",
     "metadata": {},
     "outputs": [
      {
       "output_type": "stream",
       "stream": "stdout",
       "text": [
        "Number of components: 9\n",
        "Removing giant component...\n",
        "Saved dot graph to graph.gv.png"
       ]
      },
      {
       "output_type": "stream",
       "stream": "stdout",
       "text": [
        "\n"
       ]
      }
     ],
     "prompt_number": 15
    },
    {
     "cell_type": "heading",
     "level": 1,
     "metadata": {},
     "source": [
      "More..."
     ]
    },
    {
     "cell_type": "code",
     "collapsed": false,
     "input": [
      "lifespans1 = calc_lifespans(graph)\n",
      "good_lifespan1 = compile_processed(graph)\n",
      "\n",
      "lifespans2 = calc_lifespans(graph_mod)\n",
      "good_lifespan2 = compile_processed(graph_mod)\n",
      "\n",
      "lifespans3 = calc_lifespans(graph_mod2)\n",
      "good_lifespan3 = compile_processed(graph_mod2)\n",
      "\n",
      "plt.show()"
     ],
     "language": "python",
     "metadata": {},
     "outputs": [
      {
       "ename": "ValueError",
       "evalue": "Experiment data not found",
       "output_type": "pyerr",
       "traceback": [
        "\u001b[1;31m---------------------------------------------------------------------------\u001b[0m\n\u001b[1;31mValueError\u001b[0m                                Traceback (most recent call last)",
        "\u001b[1;32m<ipython-input-16-b51f58bcd09f>\u001b[0m in \u001b[0;36m<module>\u001b[1;34m()\u001b[0m\n\u001b[0;32m      1\u001b[0m \u001b[0mlifespans1\u001b[0m \u001b[1;33m=\u001b[0m \u001b[0mcalc_lifespans\u001b[0m\u001b[1;33m(\u001b[0m\u001b[0mgraph\u001b[0m\u001b[1;33m)\u001b[0m\u001b[1;33m\u001b[0m\u001b[0m\n\u001b[1;32m----> 2\u001b[1;33m \u001b[0mgood_lifespan1\u001b[0m \u001b[1;33m=\u001b[0m \u001b[0mcompile_processed\u001b[0m\u001b[1;33m(\u001b[0m\u001b[0mgraph\u001b[0m\u001b[1;33m)\u001b[0m\u001b[1;33m\u001b[0m\u001b[0m\n\u001b[0m\u001b[0;32m      3\u001b[0m \u001b[1;33m\u001b[0m\u001b[0m\n\u001b[0;32m      4\u001b[0m \u001b[0mlifespans2\u001b[0m \u001b[1;33m=\u001b[0m \u001b[0mcalc_lifespans\u001b[0m\u001b[1;33m(\u001b[0m\u001b[0mgraph_mod\u001b[0m\u001b[1;33m)\u001b[0m\u001b[1;33m\u001b[0m\u001b[0m\n\u001b[0;32m      5\u001b[0m \u001b[0mgood_lifespan2\u001b[0m \u001b[1;33m=\u001b[0m \u001b[0mcompile_processed\u001b[0m\u001b[1;33m(\u001b[0m\u001b[0mgraph_mod\u001b[0m\u001b[1;33m)\u001b[0m\u001b[1;33m\u001b[0m\u001b[0m\n",
        "\u001b[1;32m<ipython-input-4-96ef5dce2c06>\u001b[0m in \u001b[0;36mcompile_processed\u001b[1;34m(graph_mod)\u001b[0m\n\u001b[0;32m     18\u001b[0m \u001b[1;33m\u001b[0m\u001b[0m\n\u001b[0;32m     19\u001b[0m \u001b[1;32mdef\u001b[0m \u001b[0mcompile_processed\u001b[0m\u001b[1;33m(\u001b[0m\u001b[0mgraph_mod\u001b[0m\u001b[1;33m)\u001b[0m\u001b[1;33m:\u001b[0m\u001b[1;33m\u001b[0m\u001b[0m\n\u001b[1;32m---> 20\u001b[1;33m     \u001b[0mprocessed\u001b[0m \u001b[1;33m=\u001b[0m \u001b[0mwio2\u001b[0m\u001b[1;33m.\u001b[0m\u001b[0mExperiment\u001b[0m\u001b[1;33m(\u001b[0m\u001b[0mex_id\u001b[0m\u001b[1;33m)\u001b[0m\u001b[1;33m\u001b[0m\u001b[0m\n\u001b[0m\u001b[0;32m     21\u001b[0m     \u001b[0mprocessed_ids\u001b[0m \u001b[1;33m=\u001b[0m \u001b[1;33m[\u001b[0m\u001b[0mworm_id\u001b[0m \u001b[1;32mfor\u001b[0m \u001b[1;33m(\u001b[0m\u001b[0mworm_id\u001b[0m\u001b[1;33m,\u001b[0m \u001b[0mdata\u001b[0m\u001b[1;33m)\u001b[0m \u001b[1;32min\u001b[0m \u001b[0msix\u001b[0m\u001b[1;33m.\u001b[0m\u001b[0miteritems\u001b[0m\u001b[1;33m(\u001b[0m\u001b[0mprocessed\u001b[0m\u001b[1;33m)\u001b[0m\u001b[1;33m]\u001b[0m\u001b[1;33m\u001b[0m\u001b[0m\n\u001b[0;32m     22\u001b[0m \u001b[1;33m\u001b[0m\u001b[0m\n",
        "\u001b[1;32m/home/visitors/ntimkovich/Projects/Waldo/code/shared/wio2/experiment.pyc\u001b[0m in \u001b[0;36m__init__\u001b[1;34m(self, experiment_id, mode, data_root)\u001b[0m\n\u001b[0;32m     82\u001b[0m         \u001b[1;32mif\u001b[0m \u001b[0mmode\u001b[0m \u001b[1;33m==\u001b[0m \u001b[1;34m'r'\u001b[0m\u001b[1;33m:\u001b[0m\u001b[1;33m\u001b[0m\u001b[0m\n\u001b[0;32m     83\u001b[0m             \u001b[1;32mif\u001b[0m \u001b[1;32mnot\u001b[0m \u001b[0mself\u001b[0m\u001b[1;33m.\u001b[0m\u001b[0mexperiment_dir\u001b[0m\u001b[1;33m.\u001b[0m\u001b[0mexists\u001b[0m\u001b[1;33m(\u001b[0m\u001b[1;33m)\u001b[0m\u001b[1;33m:\u001b[0m\u001b[1;33m\u001b[0m\u001b[0m\n\u001b[1;32m---> 84\u001b[1;33m                 \u001b[1;32mraise\u001b[0m \u001b[0mValueError\u001b[0m\u001b[1;33m(\u001b[0m\u001b[1;34m'Experiment data not found'\u001b[0m\u001b[1;33m)\u001b[0m\u001b[1;33m\u001b[0m\u001b[0m\n\u001b[0m\u001b[0;32m     85\u001b[0m \u001b[1;33m\u001b[0m\u001b[0m\n\u001b[0;32m     86\u001b[0m             \u001b[0mself\u001b[0m\u001b[1;33m.\u001b[0m\u001b[0m_index\u001b[0m\u001b[1;33m(\u001b[0m\u001b[1;33m)\u001b[0m\u001b[1;33m\u001b[0m\u001b[0m\n",
        "\u001b[1;31mValueError\u001b[0m: Experiment data not found"
       ]
      }
     ],
     "prompt_number": 16
    },
    {
     "cell_type": "code",
     "collapsed": false,
     "input": [
      "fig, ax = plt.subplots()\n",
      "node_duration_cdf(ax, lifespans1, label='raw')\n",
      "node_duration_cdf(ax, lifespans2, label='processed')\n",
      "ax.legend(loc='lower right')\n",
      "ax.set_title('all')\n",
      "plt.show()"
     ],
     "language": "python",
     "metadata": {},
     "outputs": []
    },
    {
     "cell_type": "code",
     "collapsed": false,
     "input": [
      "print(good_lifespan1)\n",
      "\n",
      "fig, ax = plt.subplots()\n",
      "node_duration_cdf(ax, good_lifespan1, label='raw')\n",
      "node_duration_cdf(ax, good_lifespan2, label='processed')\n",
      "ax.legend(loc='lower right')\n",
      "ax.set_title('only good blobs')\n",
      "plt.show()"
     ],
     "language": "python",
     "metadata": {},
     "outputs": []
    },
    {
     "cell_type": "code",
     "collapsed": false,
     "input": [
      "ax = ((blobs['died'] - blobs['born']) * sf / 60).hist(bins=20)\n",
      "ax.set_xlabel('minutes')\n",
      "plt.show()"
     ],
     "language": "python",
     "metadata": {},
     "outputs": [
      {
       "ename": "NameError",
       "evalue": "name 'blobs' is not defined",
       "output_type": "pyerr",
       "traceback": [
        "\u001b[1;31m---------------------------------------------------------------------------\u001b[0m\n\u001b[1;31mNameError\u001b[0m                                 Traceback (most recent call last)",
        "\u001b[1;32m<ipython-input-16-03a47f816f41>\u001b[0m in \u001b[0;36m<module>\u001b[1;34m()\u001b[0m\n\u001b[1;32m----> 1\u001b[1;33m \u001b[0max\u001b[0m \u001b[1;33m=\u001b[0m \u001b[1;33m(\u001b[0m\u001b[1;33m(\u001b[0m\u001b[0mblobs\u001b[0m\u001b[1;33m[\u001b[0m\u001b[1;34m'died'\u001b[0m\u001b[1;33m]\u001b[0m \u001b[1;33m-\u001b[0m \u001b[0mblobs\u001b[0m\u001b[1;33m[\u001b[0m\u001b[1;34m'born'\u001b[0m\u001b[1;33m]\u001b[0m\u001b[1;33m)\u001b[0m \u001b[1;33m*\u001b[0m \u001b[0msf\u001b[0m \u001b[1;33m/\u001b[0m \u001b[1;36m60\u001b[0m\u001b[1;33m)\u001b[0m\u001b[1;33m.\u001b[0m\u001b[0mhist\u001b[0m\u001b[1;33m(\u001b[0m\u001b[0mbins\u001b[0m\u001b[1;33m=\u001b[0m\u001b[1;36m20\u001b[0m\u001b[1;33m)\u001b[0m\u001b[1;33m\u001b[0m\u001b[0m\n\u001b[0m\u001b[0;32m      2\u001b[0m \u001b[0max\u001b[0m\u001b[1;33m.\u001b[0m\u001b[0mset_xlabel\u001b[0m\u001b[1;33m(\u001b[0m\u001b[1;34m'minutes'\u001b[0m\u001b[1;33m)\u001b[0m\u001b[1;33m\u001b[0m\u001b[0m\n\u001b[0;32m      3\u001b[0m \u001b[0mplt\u001b[0m\u001b[1;33m.\u001b[0m\u001b[0mshow\u001b[0m\u001b[1;33m(\u001b[0m\u001b[1;33m)\u001b[0m\u001b[1;33m\u001b[0m\u001b[0m\n",
        "\u001b[1;31mNameError\u001b[0m: name 'blobs' is not defined"
       ]
      }
     ],
     "prompt_number": 16
    },
    {
     "cell_type": "code",
     "collapsed": false,
     "input": [],
     "language": "python",
     "metadata": {},
     "outputs": []
    }
   ],
   "metadata": {}
  }
 ]
}