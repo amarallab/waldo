{
 "cells": [
  {
   "cell_type": "markdown",
   "metadata": {},
   "source": [
    "# What's that part of the graph look like?"
   ]
  },
  {
   "cell_type": "markdown",
   "metadata": {},
   "source": [
    "This notebook is intended purely for visualizing parts of the graph. It also includes functions that allow us to color the graph nodes to show different variables such as track duration (default), or estimated number of worms."
   ]
  },
  {
   "cell_type": "code",
   "execution_count": 1,
   "metadata": {
    "collapsed": false
   },
   "outputs": [],
   "source": [
    "%load_ext autoreload\n",
    "%autoreload 2\n",
    "%matplotlib inline"
   ]
  },
  {
   "cell_type": "code",
   "execution_count": 2,
   "metadata": {
    "collapsed": false
   },
   "outputs": [
    {
     "name": "stdout",
     "output_type": "stream",
     "text": [
      "Python 2.7.9 (default, Dec 15 2014 10:37:34) [GCC 4.2.1 (Apple Inc. build 5577)] on darwin\n"
     ]
    }
   ],
   "source": [
    "from __future__ import print_function, absolute_import, unicode_literals, division\n",
    "import six\n",
    "from six.moves import (zip, filter, map, reduce, input, range)\n",
    "\n",
    "import pathcustomize\n",
    "\n",
    "import sys\n",
    "import os\n",
    "import pathlib\n",
    "import pickle\n",
    "import platform\n",
    "print('Python {} ({}) [{}] on {}'.format(platform.python_version(), ', '.join(platform.python_build()), \n",
    "                                       platform.python_compiler(), sys.platform))\n",
    "\n",
    "import matplotlib.pyplot as plt\n",
    "import matplotlib.colors as mplcolors\n",
    "import pandas as pd\n",
    "import networkx as nx\n",
    "from IPython.core.display import Image as display_image \n",
    "\n",
    "import waldo\n",
    "import waldo.viz as viz"
   ]
  },
  {
   "cell_type": "code",
   "execution_count": 3,
   "metadata": {
    "collapsed": false
   },
   "outputs": [
    {
     "ename": "MWTSummaryError",
     "evalue": "Could not find summary file in target path: /Users/peterwinter/Data/waldo/20130702_135704",
     "output_type": "error",
     "traceback": [
      "\u001b[0;31m---------------------------------------------------------------------------\u001b[0m\n\u001b[0;31mMWTSummaryError\u001b[0m                           Traceback (most recent call last)",
      "\u001b[0;32m<ipython-input-3-311b023ce183>\u001b[0m in \u001b[0;36m<module>\u001b[0;34m()\u001b[0m\n\u001b[1;32m      5\u001b[0m \u001b[0;31m#ex_id = '20130702_135652' # many pics\u001b[0m\u001b[0;34m\u001b[0m\u001b[0;34m\u001b[0m\u001b[0m\n\u001b[1;32m      6\u001b[0m \u001b[0;34m\u001b[0m\u001b[0m\n\u001b[0;32m----> 7\u001b[0;31m \u001b[0mexperiment\u001b[0m \u001b[0;34m=\u001b[0m \u001b[0mwaldo\u001b[0m\u001b[0;34m.\u001b[0m\u001b[0mExperiment\u001b[0m\u001b[0;34m(\u001b[0m\u001b[0mexperiment_id\u001b[0m\u001b[0;34m=\u001b[0m\u001b[0mex_id\u001b[0m\u001b[0;34m)\u001b[0m\u001b[0;34m\u001b[0m\u001b[0m\n\u001b[0m\u001b[1;32m      8\u001b[0m \u001b[0mgraph\u001b[0m \u001b[0;34m=\u001b[0m \u001b[0mexperiment\u001b[0m\u001b[0;34m.\u001b[0m\u001b[0mgraph\u001b[0m\u001b[0;34m.\u001b[0m\u001b[0mcopy\u001b[0m\u001b[0;34m(\u001b[0m\u001b[0;34m)\u001b[0m\u001b[0;34m\u001b[0m\u001b[0m\n\u001b[1;32m      9\u001b[0m \u001b[0;34m\u001b[0m\u001b[0m\n",
      "\u001b[0;32m/Users/peterwinter/Code/waldo/code/waldo/wio/experiment.pyc\u001b[0m in \u001b[0;36m__init__\u001b[0;34m(self, *args, **kwargs)\u001b[0m\n\u001b[1;32m     33\u001b[0m         \u001b[0;32mif\u001b[0m \u001b[0;34m'data_root'\u001b[0m \u001b[0;32mnot\u001b[0m \u001b[0;32min\u001b[0m \u001b[0mkwargs\u001b[0m\u001b[0;34m:\u001b[0m\u001b[0;34m\u001b[0m\u001b[0m\n\u001b[1;32m     34\u001b[0m             \u001b[0mkwargs\u001b[0m\u001b[0;34m[\u001b[0m\u001b[0;34m'data_root'\u001b[0m\u001b[0;34m]\u001b[0m \u001b[0;34m=\u001b[0m \u001b[0msettings\u001b[0m\u001b[0;34m.\u001b[0m\u001b[0mMWT_DATA_ROOT\u001b[0m\u001b[0;34m\u001b[0m\u001b[0m\n\u001b[0;32m---> 35\u001b[0;31m         \u001b[0msuper\u001b[0m\u001b[0;34m(\u001b[0m\u001b[0mExperiment\u001b[0m\u001b[0;34m,\u001b[0m \u001b[0mself\u001b[0m\u001b[0;34m)\u001b[0m\u001b[0;34m.\u001b[0m\u001b[0m__init__\u001b[0m\u001b[0;34m(\u001b[0m\u001b[0;34m*\u001b[0m\u001b[0margs\u001b[0m\u001b[0;34m,\u001b[0m \u001b[0;34m**\u001b[0m\u001b[0mkwargs\u001b[0m\u001b[0;34m)\u001b[0m\u001b[0;34m\u001b[0m\u001b[0m\n\u001b[0m\u001b[1;32m     36\u001b[0m         \u001b[0mself\u001b[0m\u001b[0;34m.\u001b[0m\u001b[0mprepdata\u001b[0m \u001b[0;34m=\u001b[0m \u001b[0mfm\u001b[0m\u001b[0;34m.\u001b[0m\u001b[0mPrepData\u001b[0m\u001b[0;34m(\u001b[0m\u001b[0mself\u001b[0m\u001b[0;34m.\u001b[0m\u001b[0mid\u001b[0m\u001b[0;34m)\u001b[0m\u001b[0;34m\u001b[0m\u001b[0m\n\u001b[1;32m     37\u001b[0m         \u001b[0mself\u001b[0m\u001b[0;34m.\u001b[0m\u001b[0m_wprogress\u001b[0m\u001b[0;34m(\u001b[0m\u001b[0;36m0.9\u001b[0m\u001b[0;34m)\u001b[0m\u001b[0;34m\u001b[0m\u001b[0m\n",
      "\u001b[0;32m/Users/peterwinter/Code/waldo/code/waldo/extern/multiworm-hg/multiworm/experiment.pyc\u001b[0m in \u001b[0;36m__init__\u001b[0;34m(self, fullpath, experiment_id, data_root, callback)\u001b[0m\n\u001b[1;32m     51\u001b[0m             \u001b[0mself\u001b[0m\u001b[0;34m.\u001b[0m\u001b[0mid\u001b[0m \u001b[0;34m=\u001b[0m \u001b[0mexperiment_id\u001b[0m\u001b[0;34m\u001b[0m\u001b[0m\n\u001b[1;32m     52\u001b[0m \u001b[0;34m\u001b[0m\u001b[0m\n\u001b[0;32m---> 53\u001b[0;31m         \u001b[0mself\u001b[0m\u001b[0;34m.\u001b[0m\u001b[0m_find_summary_file\u001b[0m\u001b[0;34m(\u001b[0m\u001b[0;34m)\u001b[0m\u001b[0;34m\u001b[0m\u001b[0m\n\u001b[0m\u001b[1;32m     54\u001b[0m         \u001b[0mself\u001b[0m\u001b[0;34m.\u001b[0m\u001b[0m_find_blobs_files\u001b[0m\u001b[0;34m(\u001b[0m\u001b[0;34m)\u001b[0m\u001b[0;34m\u001b[0m\u001b[0m\n\u001b[1;32m     55\u001b[0m         \u001b[0mself\u001b[0m\u001b[0;34m.\u001b[0m\u001b[0m_find_images\u001b[0m\u001b[0;34m(\u001b[0m\u001b[0;34m)\u001b[0m\u001b[0;34m\u001b[0m\u001b[0m\n",
      "\u001b[0;32m/Users/peterwinter/Code/waldo/code/waldo/extern/multiworm-hg/multiworm/experiment.pyc\u001b[0m in \u001b[0;36m_find_summary_file\u001b[0;34m(self)\u001b[0m\n\u001b[1;32m     80\u001b[0m         \u001b[0mLocate\u001b[0m \u001b[0msummary\u001b[0m \u001b[0mfile\u001b[0m\u001b[0;34m\u001b[0m\u001b[0m\n\u001b[1;32m     81\u001b[0m         \"\"\"\n\u001b[0;32m---> 82\u001b[0;31m         \u001b[0mself\u001b[0m\u001b[0;34m.\u001b[0m\u001b[0msummary_file\u001b[0m\u001b[0;34m,\u001b[0m \u001b[0mself\u001b[0m\u001b[0;34m.\u001b[0m\u001b[0mbasename\u001b[0m \u001b[0;34m=\u001b[0m \u001b[0msummary\u001b[0m\u001b[0;34m.\u001b[0m\u001b[0mfind\u001b[0m\u001b[0;34m(\u001b[0m\u001b[0mself\u001b[0m\u001b[0;34m.\u001b[0m\u001b[0mdirectory\u001b[0m\u001b[0;34m)\u001b[0m\u001b[0;34m\u001b[0m\u001b[0m\n\u001b[0m\u001b[1;32m     83\u001b[0m \u001b[0;34m\u001b[0m\u001b[0m\n\u001b[1;32m     84\u001b[0m     \u001b[0;32mdef\u001b[0m \u001b[0m_find_blobs_files\u001b[0m\u001b[0;34m(\u001b[0m\u001b[0mself\u001b[0m\u001b[0;34m)\u001b[0m\u001b[0;34m:\u001b[0m\u001b[0;34m\u001b[0m\u001b[0m\n",
      "\u001b[0;32m/Users/peterwinter/Code/waldo/code/waldo/extern/multiworm-hg/multiworm/readers/summary.pyc\u001b[0m in \u001b[0;36mfind\u001b[0;34m(directory)\u001b[0m\n\u001b[1;32m     29\u001b[0m     \u001b[0;32mexcept\u001b[0m \u001b[0mIndexError\u001b[0m\u001b[0;34m:\u001b[0m\u001b[0;34m\u001b[0m\u001b[0m\n\u001b[1;32m     30\u001b[0m         raise MWTSummaryError(\"Could not find summary file in target path: {}\"\n\u001b[0;32m---> 31\u001b[0;31m                               .format(directory))\n\u001b[0m\u001b[1;32m     32\u001b[0m \u001b[0;34m\u001b[0m\u001b[0m\n\u001b[1;32m     33\u001b[0m     \u001b[0mbasename\u001b[0m \u001b[0;34m=\u001b[0m \u001b[0msummary\u001b[0m\u001b[0;34m.\u001b[0m\u001b[0mstem\u001b[0m\u001b[0;34m\u001b[0m\u001b[0m\n",
      "\u001b[0;31mMWTSummaryError\u001b[0m: Could not find summary file in target path: /Users/peterwinter/Data/waldo/20130702_135704"
     ]
    }
   ],
   "source": [
    "#ex_id = '20130614_120518'\n",
    "#ex_id = '20130318_131111'\n",
    "#ex_id = '20130414_140704'\n",
    "ex_id = '20130702_135704' # many pics\n",
    "#ex_id = '20130702_135652' # many pics\n",
    "\n",
    "experiment = waldo.Experiment(experiment_id=ex_id)\n",
    "graph = experiment.graph.copy()\n",
    "\n",
    "waldo.collider.remove_nodes_outside_roi(graph, experiment)\n",
    "waldo.collider.remove_blank_nodes(graph, experiment)\n",
    "\n",
    "print('N = {}'.format(len(graph)))\n",
    "#collider.component_size_summary(graph)\n",
    "viz.direct_degree_distribution(graph, (3, 3), ignore_zero=False)"
   ]
  },
  {
   "cell_type": "markdown",
   "metadata": {},
   "source": [
    "# Create simplified giant component"
   ]
  },
  {
   "cell_type": "code",
   "execution_count": null,
   "metadata": {
    "collapsed": false
   },
   "outputs": [],
   "source": [
    "slightly_simplified_graph = graph.copy()\n",
    "\n",
    "waldo.collider.remove_single_descendents(slightly_simplified_graph)\n",
    "waldo.collider.remove_fission_fusion(slightly_simplified_graph)\n",
    "waldo.collider.remove_fission_fusion_rel(slightly_simplified_graph, split_rel_time=0.5)\n",
    "waldo.collider.remove_offshoots(slightly_simplified_graph, threshold=20)\n",
    "waldo.collider.remove_single_descendents(slightly_simplified_graph)\n",
    "viz.direct_degree_distribution(slightly_simplified_graph, (3, 3), ignore_zero=False)"
   ]
  },
  {
   "cell_type": "code",
   "execution_count": null,
   "metadata": {
    "collapsed": false
   },
   "outputs": [],
   "source": [
    "giant = slightly_simplified_graph.giant()\n",
    "nodes = giant.nodes(data=False)\n",
    "print(len(nodes), 'in giant component')\n",
    "target = nodes[0]\n",
    "print(target)"
   ]
  },
  {
   "cell_type": "code",
   "execution_count": null,
   "metadata": {
    "collapsed": false
   },
   "outputs": [],
   "source": [
    "cmap = 'jet'\n",
    "#cmap = 'Paired'\n",
    "cmap = 'bwr'\n",
    "cmap = 'afmhot'\n",
    "cmap = 'pink'\n",
    "\n",
    "cm = plt.cm.get_cmap(cmap)\n",
    "def lifespan_to_color(lifespan, scalerange=(-0.5, 4), cm=cm):\n",
    "    val = (np.log10(lifespan+1e-100) - scalerange[0])/(scalerange[1] - scalerange[0])                                            \n",
    "    color = mplcolors.rgb2hex(cm(val)[:3]) \n",
    "    return color     \n",
    "    \n",
    "ref_graph= nx.DiGraph()\n",
    "reference = [0, 1, 3, 10, 30, 100, 300, 1000, 3000]\n",
    "ref_nodes = ['{} frames'.format(r) for r in reference]\n",
    "iterref = iter(ref_nodes)\n",
    "source = six.next(iterref)\n",
    "for dest in iterref:\n",
    "    ref_graph.add_edge(source, dest)\n",
    "    source = dest\n",
    "    for ref, ref_node in zip(reference, ref_nodes):\n",
    "        ref_graph.add_node(ref_node, penwidth='0.5',\n",
    "                         fillcolor=lifespan_to_color(ref), style='filled')\n",
    "temp_file = viz.network.dot.render_nx_as_dot(ref_graph, remove_node_labels=True, output_file='life-ref.svg', format='png')\n",
    "display_image(temp_file)"
   ]
  },
  {
   "cell_type": "code",
   "execution_count": null,
   "metadata": {
    "collapsed": false
   },
   "outputs": [],
   "source": [
    "subgraph = viz.subgraph.nearby(slightly_simplified_graph, target, 1000) \n",
    "viz.network.dot.format_graph_for_lifespan(subgraph, cmap=cmap, ref=False)\n",
    "temp_file = viz.network.dot.render_nx_as_dot(subgraph, remove_node_labels=True, output_file='life-giant.gv', format='png')\n",
    "display_image(temp_file)"
   ]
  },
  {
   "cell_type": "code",
   "execution_count": null,
   "metadata": {
    "collapsed": false
   },
   "outputs": [],
   "source": [
    "viz.look(slightly_simplified_graph, target=target, jumps=1000, ref=0, ctype='lifespan')"
   ]
  },
  {
   "cell_type": "markdown",
   "metadata": {},
   "source": [
    "### collect data for true counts"
   ]
  },
  {
   "cell_type": "markdown",
   "metadata": {},
   "source": [
    "### Show worm number estimation"
   ]
  },
  {
   "cell_type": "code",
   "execution_count": null,
   "metadata": {
    "collapsed": false
   },
   "outputs": [],
   "source": [
    "slightly_simplified_graph.count_worms(experiment)\n",
    "viz.look(slightly_simplified_graph, target=target, jumps=1000, ref=0,ctype='true_count')"
   ]
  },
  {
   "cell_type": "code",
   "execution_count": null,
   "metadata": {
    "collapsed": false
   },
   "outputs": [],
   "source": [
    "target = 15074\n",
    "jumps = 12"
   ]
  },
  {
   "cell_type": "code",
   "execution_count": null,
   "metadata": {
    "collapsed": false
   },
   "outputs": [],
   "source": [
    "target = 13057\n",
    "jumps = 4"
   ]
  },
  {
   "cell_type": "code",
   "execution_count": null,
   "metadata": {
    "collapsed": false
   },
   "outputs": [],
   "source": [
    "#target = 491\n",
    "#jumps = 8"
   ]
  },
  {
   "cell_type": "code",
   "execution_count": null,
   "metadata": {
    "collapsed": false
   },
   "outputs": [],
   "source": [
    "slightly_simplified_graph.determine_moving(experiment)\n",
    "viz.look(slightly_simplified_graph, target=target, jumps=jumps, ref=0, ctype='moved_bool')"
   ]
  },
  {
   "cell_type": "code",
   "execution_count": null,
   "metadata": {
    "collapsed": false
   },
   "outputs": [],
   "source": [
    "slightly_simplified_graph.count_worms(experiment)\n",
    "viz.look(slightly_simplified_graph, target=target, jumps=jumps, ref=0,ctype='worm_count')"
   ]
  },
  {
   "cell_type": "code",
   "execution_count": null,
   "metadata": {
    "collapsed": false
   },
   "outputs": [],
   "source": [
    "screen = pd.read_csv('../data/prep/collision_validate.csv')\n",
    "screen = screen[screen['eid'] == ex_id]\n",
    "assert len(screen), \"No data for experiment ID\"\n",
    "screen.set_index('bid', inplace=True)\n",
    "#screen.head()\n",
    "\n",
    "true_counts = {}\n",
    "\n",
    "for bid, row in screen.iterrows():\n",
    "    c = int(row['ans'] / 10)\n",
    "    if not c:\n",
    "        c = 0.5\n",
    "    #print(type(bid))\n",
    "    true_counts[int(bid)] = c\n",
    "    \n",
    "slightly_simplified_graph.add_node_attributes('true_count', true_counts, default=0)\n",
    "viz.look(slightly_simplified_graph, target=target, jumps=jumps, ref=0, ctype='true_count')"
   ]
  },
  {
   "cell_type": "code",
   "execution_count": null,
   "metadata": {
    "collapsed": false
   },
   "outputs": [],
   "source": [
    "viz.save_graphs(ex_id, slightly_simplified_graph, target=target, jumps=jumps)"
   ]
  },
  {
   "cell_type": "markdown",
   "metadata": {},
   "source": [
    "### zooming in on individual targets"
   ]
  },
  {
   "cell_type": "code",
   "execution_count": null,
   "metadata": {
    "collapsed": false
   },
   "outputs": [],
   "source": [
    "graph2 = graph.copy()\n",
    "params = {\n",
    "    'offshoots': 20, # default: 20\n",
    "    'splits_abs': 5, # default: 5\n",
    "    'splits_rel': 0.25, # default: 0.5\n",
    "    'assimilate': -1, # default: 10\n",
    "}\n",
    "waldo.collider.removal_suite(graph2, **params)\n",
    "#collider.remove_offshoots(graph2, params['offshoots'])\n",
    "#collider.assimilate(graph2, params['assimilate'])\n",
    "removed = waldo.collider.remove_blank_nodes(graph2, experiment, exclude_connected=False)\n",
    "print('N = {}'.format(len(graph2)))\n",
    "waldo.collider.component_size_summary(graph2)\n",
    "waldo.viz.direct_degree_distribution(graph2, (3, 3), ignore_zero=False)\n",
    "print(list(removed))"
   ]
  },
  {
   "cell_type": "code",
   "execution_count": null,
   "metadata": {
    "collapsed": false
   },
   "outputs": [],
   "source": [
    "viz.look(experiment.graph, target=13014, jumps=10, ref=1)"
   ]
  },
  {
   "cell_type": "code",
   "execution_count": null,
   "metadata": {
    "collapsed": false
   },
   "outputs": [],
   "source": [
    "viz.look(experiment.graph, target=11133, jumps=10, ref=1)"
   ]
  },
  {
   "cell_type": "code",
   "execution_count": null,
   "metadata": {
    "collapsed": false
   },
   "outputs": [],
   "source": [
    "t = 17990\n",
    "tspan = 1000\n",
    "viz.look_time(graph2, fstart=t, fend=t+tspan)"
   ]
  },
  {
   "cell_type": "code",
   "execution_count": null,
   "metadata": {
    "collapsed": false
   },
   "outputs": [],
   "source": [
    "t = 17990\n",
    "tspan = 1\n",
    "look_time(experiment.graph, fstart=t, fend=t+tspan)"
   ]
  },
  {
   "cell_type": "code",
   "execution_count": null,
   "metadata": {
    "collapsed": false
   },
   "outputs": [],
   "source": [
    "t = 17990\n",
    "tspan = 1\n",
    "look_time(graph, fstart=t, fend=t+tspan)"
   ]
  },
  {
   "cell_type": "code",
   "execution_count": null,
   "metadata": {
    "collapsed": false
   },
   "outputs": [],
   "source": [
    "len(sorted(collider.subgraph.neartime(graph2, t, t+tspan).nodes()))"
   ]
  },
  {
   "cell_type": "code",
   "execution_count": null,
   "metadata": {
    "collapsed": false
   },
   "outputs": [],
   "source": [
    "look(experiment.graph, target=11212, jumps=10)"
   ]
  }
 ],
 "metadata": {
  "kernelspec": {
   "display_name": "Python 3",
   "language": "python",
   "name": "python3"
  },
  "language_info": {
   "codemirror_mode": {
    "name": "ipython",
    "version": 3
   },
   "file_extension": ".py",
   "mimetype": "text/x-python",
   "name": "python",
   "nbconvert_exporter": "python",
   "pygments_lexer": "ipython3",
   "version": "3.4.4"
  }
 },
 "nbformat": 4,
 "nbformat_minor": 0
}
