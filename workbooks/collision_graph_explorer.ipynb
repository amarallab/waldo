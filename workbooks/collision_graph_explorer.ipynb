{
 "metadata": {
  "name": "",
  "signature": "sha256:460f0adc721215ebb08c078dd8b6269b3e5229fbb9a657bcddde2a93a80c08bd"
 },
 "nbformat": 3,
 "nbformat_minor": 0,
 "worksheets": [
  {
   "cells": [
    {
     "cell_type": "heading",
     "level": 1,
     "metadata": {},
     "source": [
      "What's that part of the graph look like?"
     ]
    },
    {
     "cell_type": "code",
     "collapsed": false,
     "input": [
      "%load_ext autoreload\n",
      "%autoreload 2\n",
      "%matplotlib inline"
     ],
     "language": "python",
     "metadata": {},
     "outputs": []
    },
    {
     "cell_type": "code",
     "collapsed": false,
     "input": [
      "from __future__ import print_function, absolute_import, unicode_literals, division\n",
      "import six\n",
      "from six.moves import (zip, filter, map, reduce, input, range)\n",
      "\n",
      "import pathcustomize\n",
      "\n",
      "import sys\n",
      "import os\n",
      "import pathlib\n",
      "import pickle\n",
      "import platform\n",
      "print('Python {} ({}) [{}] on {}'.format(platform.python_version(), ', '.join(platform.python_build()), \n",
      "                                       platform.python_compiler(), sys.platform))\n",
      "\n",
      "import matplotlib.pyplot as plt\n",
      "import pandas as pd\n",
      "from IPython.core.display import Image as display_image\n",
      "import networkx as nx\n",
      "\n",
      "from waldo.extern import multiworm\n",
      "from waldo import wio\n",
      "from waldo import collider\n",
      "from waldo.collider.viz import direct_degree_distribution\n",
      "from waldo.collider.viz.notebook import look, look_time, save_graphs"
     ],
     "language": "python",
     "metadata": {},
     "outputs": []
    },
    {
     "cell_type": "code",
     "collapsed": false,
     "input": [
      "#ex_id = '20130614_120518'\n",
      "#ex_id = '20130318_131111'\n",
      "#ex_id = '20130414_140704'\n",
      "ex_id = '20130702_135704' # many pics\n",
      "#ex_id = '20130702_135652' # many pics\n",
      "\n",
      "experiment = wio.Experiment(experiment_id=ex_id)\n",
      "graph = experiment.graph.copy()\n",
      "\n",
      "collider.remove_nodes_outside_roi(graph, experiment)\n",
      "collider.remove_blank_nodes(graph, experiment)\n",
      "\n",
      "print('N = {}'.format(len(graph)))\n",
      "#collider.component_size_summary(graph)\n",
      "direct_degree_distribution(graph, (3, 3), ignore_zero=False)"
     ],
     "language": "python",
     "metadata": {},
     "outputs": []
    },
    {
     "cell_type": "heading",
     "level": 3,
     "metadata": {},
     "source": [
      "Show slightly simplified giant component"
     ]
    },
    {
     "cell_type": "code",
     "collapsed": false,
     "input": [
      "slightly_simplified_graph = graph.copy()\n",
      "\n",
      "collider.remove_single_descendents(slightly_simplified_graph)\n",
      "collider.remove_fission_fusion(slightly_simplified_graph)\n",
      "collider.remove_fission_fusion_rel(slightly_simplified_graph, split_rel_time=0.5)\n",
      "collider.remove_offshoots(slightly_simplified_graph, threshold=20)\n",
      "collider.remove_single_descendents(slightly_simplified_graph)\n",
      "direct_degree_distribution(slightly_simplified_graph, (3, 3), ignore_zero=False)"
     ],
     "language": "python",
     "metadata": {},
     "outputs": []
    },
    {
     "cell_type": "code",
     "collapsed": false,
     "input": [
      "giant = sorted(list(nx.connected_component_subgraphs(slightly_simplified_graph.to_undirected())), key=len, reverse=True)[0]\n",
      "nodes = giant.nodes(data=False)\n",
      "print(len(nodes), 'in giant component')\n",
      "target = nodes[0]\n",
      "print(target)\n"
     ],
     "language": "python",
     "metadata": {},
     "outputs": []
    },
    {
     "cell_type": "code",
     "collapsed": false,
     "input": [
      "screen = pd.read_csv('../data/prep/collision_validate.csv')\n",
      "screen = screen[screen['eid'] == ex_id]\n",
      "assert len(screen), \"No data for experiment ID\"\n",
      "screen.set_index('bid', inplace=True)\n",
      "#screen.head()\n",
      "\n",
      "true_counts = {}\n",
      "\n",
      "for bid, row in screen.iterrows():\n",
      "    c = int(row['ans'] / 10)\n",
      "    if not c:\n",
      "        c = 0.5\n",
      "    #print(type(bid))\n",
      "    true_counts[int(bid)] = c\n",
      "    \n",
      "slightly_simplified_graph.add_node_attributes('true_count', true_counts, default=0)\n",
      "look(slightly_simplified_graph, target=target, jumps=1000, ref=0, ctype='true_count')"
     ],
     "language": "python",
     "metadata": {},
     "outputs": []
    },
    {
     "cell_type": "code",
     "collapsed": false,
     "input": [
      "look(slightly_simplified_graph, target=target, jumps=1000, ref=0, ctype='lifespan')"
     ],
     "language": "python",
     "metadata": {},
     "outputs": []
    },
    {
     "cell_type": "code",
     "collapsed": false,
     "input": [
      "slightly_simplified_graph.count_worms(experiment)\n",
      "look(slightly_simplified_graph, target=target, jumps=1000, ref=0,ctype='worm_count')"
     ],
     "language": "python",
     "metadata": {},
     "outputs": []
    },
    {
     "cell_type": "code",
     "collapsed": false,
     "input": [
      "slightly_simplified_graph.determine_moving(experiment)\n",
      "look(slightly_simplified_graph, target=target, jumps=1000, ref=0, ctype='moved_bool')"
     ],
     "language": "python",
     "metadata": {},
     "outputs": []
    },
    {
     "cell_type": "code",
     "collapsed": false,
     "input": [
      "save_graphs(ex_id, slightly_simplified_graph, target=target, jumps=1000)"
     ],
     "language": "python",
     "metadata": {},
     "outputs": []
    },
    {
     "cell_type": "heading",
     "level": 3,
     "metadata": {},
     "source": [
      "zooming in on individual targets"
     ]
    },
    {
     "cell_type": "code",
     "collapsed": false,
     "input": [
      "graph2 = graph.copy()\n",
      "params = {\n",
      "    'offshoots': 20, # default: 20\n",
      "    'splits_abs': 5, # default: 5\n",
      "    'splits_rel': 0.25, # default: 0.5\n",
      "    'assimilate': -1, # default: 10\n",
      "}\n",
      "collider.removal_suite(graph2, **params)\n",
      "#collider.remove_offshoots(graph2, params['offshoots'])\n",
      "#collider.assimilate(graph2, params['assimilate'])\n",
      "removed = collider.remove_blank_nodes(graph2, experiment, exclude_connected=False)\n",
      "print('N = {}'.format(len(graph2)))\n",
      "collider.component_size_summary(graph2)\n",
      "direct_degree_distribution(graph2, (3, 3), ignore_zero=False)\n",
      "removed"
     ],
     "language": "python",
     "metadata": {},
     "outputs": []
    },
    {
     "cell_type": "code",
     "collapsed": false,
     "input": [
      "look(experiment.graph, target=13014, jumps=10, ref=1)"
     ],
     "language": "python",
     "metadata": {},
     "outputs": []
    },
    {
     "cell_type": "code",
     "collapsed": false,
     "input": [
      "look(experiment.graph, target=11133, jumps=10, ref=1)"
     ],
     "language": "python",
     "metadata": {},
     "outputs": []
    },
    {
     "cell_type": "code",
     "collapsed": false,
     "input": [
      "t = 17990\n",
      "tspan = 1000\n",
      "look_time(graph2, fstart=t, fend=t+tspan)"
     ],
     "language": "python",
     "metadata": {},
     "outputs": []
    },
    {
     "cell_type": "code",
     "collapsed": false,
     "input": [
      "t = 17990\n",
      "tspan = 1\n",
      "look_time(experiment.graph, fstart=t, fend=t+tspan)"
     ],
     "language": "python",
     "metadata": {},
     "outputs": []
    },
    {
     "cell_type": "code",
     "collapsed": false,
     "input": [
      "t = 17990\n",
      "tspan = 1\n",
      "look_time(graph, fstart=t, fend=t+tspan)"
     ],
     "language": "python",
     "metadata": {},
     "outputs": []
    },
    {
     "cell_type": "code",
     "collapsed": false,
     "input": [
      "len(sorted(collider.subgraph.neartime(graph2, t, t+tspan).nodes()))"
     ],
     "language": "python",
     "metadata": {},
     "outputs": []
    },
    {
     "cell_type": "code",
     "collapsed": false,
     "input": [
      "look(experiment.graph, target=11212, jumps=10)"
     ],
     "language": "python",
     "metadata": {},
     "outputs": []
    }
   ],
   "metadata": {}
  }
 ]
}