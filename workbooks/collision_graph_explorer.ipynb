{
 "metadata": {
  "name": "",
  "signature": "sha256:8b8dabb0e3943f2429abc1e5ef673b2c835102541d6d1fa562d7da01cd3c6e18"
 },
 "nbformat": 3,
 "nbformat_minor": 0,
 "worksheets": [
  {
   "cells": [
    {
     "cell_type": "heading",
     "level": 1,
     "metadata": {},
     "source": [
      "What's that part of the graph look like?"
     ]
    },
    {
     "cell_type": "code",
     "collapsed": false,
     "input": [
      "%load_ext autoreload\n",
      "%autoreload 2\n",
      "%matplotlib inline"
     ],
     "language": "python",
     "metadata": {},
     "outputs": []
    },
    {
     "cell_type": "code",
     "collapsed": false,
     "input": [
      "from __future__ import print_function, absolute_import, unicode_literals, division\n",
      "import six\n",
      "from six.moves import (zip, filter, map, reduce, input, range)\n",
      "\n",
      "import pathcustomize\n",
      "\n",
      "import sys\n",
      "import os\n",
      "import pathlib\n",
      "import pickle\n",
      "import platform\n",
      "print('Python {} ({}) [{}] on {}'.format(platform.python_version(), ', '.join(platform.python_build()), \n",
      "                                       platform.python_compiler(), sys.platform))\n",
      "\n",
      "import matplotlib.pyplot as plt\n",
      "from IPython.core.display import Image as display_image\n",
      "import networkx as nx\n",
      "\n",
      "import multiworm\n",
      "import collider\n",
      "import collider.viz\n",
      "import wio"
     ],
     "language": "python",
     "metadata": {},
     "outputs": []
    },
    {
     "cell_type": "code",
     "collapsed": false,
     "input": [
      "def look(graph, target, jumps, ref=False):\n",
      "    subgraph = collider.subgraph.nearby(graph, target, jumps)\n",
      "    temp_file = collider.viz.render_nx_as_dot(subgraph, ref=ref, focus=graph.where_is(target))\n",
      "    return display_image(temp_file)\n",
      "\n",
      "def look_time(graph, fstart, fend, ref=False):\n",
      "    subgraph = collider.subgraph.neartime(graph, fstart, fend)\n",
      "    temp_file = collider.viz.render_nx_as_dot(subgraph, ref=ref)\n",
      "    return display_image(temp_file)"
     ],
     "language": "python",
     "metadata": {},
     "outputs": []
    },
    {
     "cell_type": "code",
     "collapsed": false,
     "input": [
      "#ex_id = '20130614_120518'\n",
      "#ex_id = '20130318_131111'\n",
      "#ex_id = '20130414_140704'\n",
      "#ex_id = '20130702_135704' # many pics\n",
      "ex_id = '20130702_135652' # many pics\n",
      "\n",
      "experiment = wio.Experiment(experiment_id=ex_id)\n",
      "graph = experiment.graph.copy()\n",
      "collider.remove_blank_nodes(graph, experiment)\n",
      "collider.remove_nodes_outside_roi(graph, experiment)\n",
      "\n",
      "print('N = {}'.format(len(graph)))\n",
      "#collider.component_size_summary(graph)\n",
      "collider.viz.direct_degree_distribution(graph, (3, 3), ignore_zero=False)"
     ],
     "language": "python",
     "metadata": {},
     "outputs": []
    },
    {
     "cell_type": "heading",
     "level": 3,
     "metadata": {},
     "source": [
      "Show slightly simplified giant component"
     ]
    },
    {
     "cell_type": "code",
     "collapsed": false,
     "input": [
      "slightly_simplified_graph = graph.copy()\n",
      "\n",
      "collider.remove_single_descendents(slightly_simplified_graph)\n",
      "collider.remove_fission_fusion(slightly_simplified_graph)\n",
      "collider.remove_fission_fusion_rel(slightly_simplified_graph, split_rel_time=0.5)\n",
      "collider.remove_offshoots(slightly_simplified_graph, threshold=20)\n",
      "collider.remove_single_descendents(slightly_simplified_graph)\n",
      "collider.viz.direct_degree_distribution(slightly_simplified_graph, (3, 3), ignore_zero=False)"
     ],
     "language": "python",
     "metadata": {},
     "outputs": []
    },
    {
     "cell_type": "code",
     "collapsed": false,
     "input": [
      "giant = nx.connected_component_subgraphs(slightly_simplified_graph.to_undirected())[0]\n",
      "nodes = giant.nodes(data=False)\n",
      "print(len(nodes), 'in giant component')\n",
      "target = nodes[0]\n",
      "print(target)\n",
      "look(slightly_simplified_graph, target=target, jumps=1000, ref=1)"
     ],
     "language": "python",
     "metadata": {},
     "outputs": []
    },
    {
     "cell_type": "heading",
     "level": 3,
     "metadata": {},
     "source": [
      "zooming in on individual targets"
     ]
    },
    {
     "cell_type": "code",
     "collapsed": false,
     "input": [
      "graph2 = graph.copy()\n",
      "params = {\n",
      "    'offshoots': 20, # default: 20\n",
      "    'splits_abs': 5, # default: 5\n",
      "    'splits_rel': 0.25, # default: 0.5\n",
      "    'assimilate': -1, # default: 10\n",
      "}\n",
      "collider.removal_suite(graph2, **params)\n",
      "#collider.remove_offshoots(graph2, params['offshoots'])\n",
      "#collider.assimilate(graph2, params['assimilate'])\n",
      "collider.remove_blank_nodes(graph2, experiment)\n",
      "print('N = {}'.format(len(graph2)))\n",
      "collider.component_size_summary(graph2)\n",
      "collider.viz.direct_degree_distribution(graph2, (3, 3), ignore_zero=False)"
     ],
     "language": "python",
     "metadata": {},
     "outputs": []
    },
    {
     "cell_type": "code",
     "collapsed": false,
     "input": [
      "look(experiment.graph, target=2600, jumps=4, ref=1)"
     ],
     "language": "python",
     "metadata": {},
     "outputs": []
    },
    {
     "cell_type": "code",
     "collapsed": false,
     "input": [
      "look(graph2, target=18358, jumps=5)"
     ],
     "language": "python",
     "metadata": {},
     "outputs": []
    },
    {
     "cell_type": "code",
     "collapsed": false,
     "input": [
      "t = 17990\n",
      "tspan = 1000\n",
      "look_time(graph2, fstart=t, fend=t+tspan)"
     ],
     "language": "python",
     "metadata": {},
     "outputs": []
    },
    {
     "cell_type": "code",
     "collapsed": false,
     "input": [
      "t = 17990\n",
      "tspan = 1\n",
      "look_time(experiment.graph, fstart=t, fend=t+tspan)"
     ],
     "language": "python",
     "metadata": {},
     "outputs": []
    },
    {
     "cell_type": "code",
     "collapsed": false,
     "input": [
      "t = 17990\n",
      "tspan = 1\n",
      "look_time(graph, fstart=t, fend=t+tspan)"
     ],
     "language": "python",
     "metadata": {},
     "outputs": []
    },
    {
     "cell_type": "code",
     "collapsed": false,
     "input": [
      "len(sorted(collider.subgraph.neartime(graph2, t, t+tspan).nodes()))"
     ],
     "language": "python",
     "metadata": {},
     "outputs": []
    },
    {
     "cell_type": "code",
     "collapsed": false,
     "input": [
      "look(experiment.graph, target=11212, jumps=10)"
     ],
     "language": "python",
     "metadata": {},
     "outputs": []
    }
   ],
   "metadata": {}
  }
 ]
}