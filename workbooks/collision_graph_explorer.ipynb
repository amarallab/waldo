{
 "metadata": {
  "name": "",
  "signature": "sha256:661d36f06802bbf55eee9cac0cf177d1bbf3eb11cc9151c7a74528b3fdb01ff5"
 },
 "nbformat": 3,
 "nbformat_minor": 0,
 "worksheets": [
  {
   "cells": [
    {
     "cell_type": "heading",
     "level": 1,
     "metadata": {},
     "source": [
      "What's that part of the graph look like?"
     ]
    },
    {
     "cell_type": "code",
     "collapsed": false,
     "input": [
      "%load_ext autoreload\n",
      "%autoreload 2\n",
      "%matplotlib inline"
     ],
     "language": "python",
     "metadata": {},
     "outputs": []
    },
    {
     "cell_type": "code",
     "collapsed": false,
     "input": [
      "from __future__ import print_function, absolute_import, unicode_literals, division\n",
      "import six\n",
      "from six.moves import (zip, filter, map, reduce, input, range)\n",
      "\n",
      "import pathcustomize\n",
      "\n",
      "import sys\n",
      "import os\n",
      "import pathlib\n",
      "import pickle\n",
      "import platform\n",
      "print('Python {} ({}) [{}] on {}'.format(platform.python_version(), ', '.join(platform.python_build()), \n",
      "                                       platform.python_compiler(), sys.platform))\n",
      "\n",
      "import matplotlib.pyplot as plt\n",
      "from IPython.core.display import Image as display_image\n",
      "\n",
      "import multiworm\n",
      "import collider\n",
      "import collider.viz\n",
      "import wio"
     ],
     "language": "python",
     "metadata": {},
     "outputs": []
    },
    {
     "cell_type": "code",
     "collapsed": false,
     "input": [
      "def look(graph, target, jumps, ref=False):\n",
      "    subgraph = collider.subgraph.nearby(graph, target, jumps)\n",
      "    temp_file = collider.viz.render_nx_as_dot(subgraph, ref=ref, focus=graph.where_is(target))\n",
      "    return display_image(temp_file)\n",
      "\n",
      "def look_time(graph, fstart, fend, ref=False):\n",
      "    subgraph = collider.subgraph.neartime(graph, fstart, fend)\n",
      "    temp_file = collider.viz.render_nx_as_dot(subgraph, ref=ref)\n",
      "    return display_image(temp_file)"
     ],
     "language": "python",
     "metadata": {},
     "outputs": []
    },
    {
     "cell_type": "code",
     "collapsed": false,
     "input": [
      "#ex_id = '20130614_120518'\n",
      "#ex_id = '20130318_131111'\n",
      "#ex_id = '20130414_140704'\n",
      "#ex_id = '20130702_135704' # many pics\n",
      "ex_id = '20130702_135652' # many pics\n",
      "\n",
      "experiment = wio.Experiment(experiment_id=ex_id)\n",
      "graph = experiment.graph.copy()\n",
      "\n",
      "collider.remove_nodes_outside_roi(graph, experiment)\n",
      "\n",
      "print('N = {}'.format(len(graph)))\n",
      "#collider.component_size_summary(graph)\n",
      "collider.viz.direct_degree_distribution(graph, (3, 3), ignore_zero=False)"
     ],
     "language": "python",
     "metadata": {},
     "outputs": []
    },
    {
     "cell_type": "code",
     "collapsed": false,
     "input": [
      "graph2 = graph.copy()\n",
      "params = {\n",
      "    'offshoots': 20, # default: 20\n",
      "    'splits_abs': 5, # default: 5\n",
      "    'splits_rel': 0.25, # default: 0.5\n",
      "    'assimilate': -1, # default: 10\n",
      "}\n",
      "collider.removal_suite(graph2, **params)\n",
      "#collider.remove_offshoots(graph2, params['offshoots'])\n",
      "#collider.assimilate(graph2, params['assimilate'])\n",
      "collider.remove_blank_nodes(graph2, experiment)\n",
      "print('N = {}'.format(len(graph2)))\n",
      "collider.component_size_summary(graph2)\n",
      "collider.viz.direct_degree_distribution(graph2, (3, 3), ignore_zero=False)"
     ],
     "language": "python",
     "metadata": {},
     "outputs": []
    },
    {
     "cell_type": "code",
     "collapsed": false,
     "input": [
      "look(experiment.graph, target=2600, jumps=4, ref=1)"
     ],
     "language": "python",
     "metadata": {},
     "outputs": []
    },
    {
     "cell_type": "code",
     "collapsed": false,
     "input": [
      "look(graph2, target=18358, jumps=5)"
     ],
     "language": "python",
     "metadata": {},
     "outputs": []
    },
    {
     "cell_type": "code",
     "collapsed": false,
     "input": [
      "t = 17990\n",
      "tspan = 1000\n",
      "look_time(graph2, fstart=t, fend=t+tspan)"
     ],
     "language": "python",
     "metadata": {},
     "outputs": []
    },
    {
     "cell_type": "code",
     "collapsed": false,
     "input": [
      "t = 17990\n",
      "tspan = 1\n",
      "look_time(experiment.graph, fstart=t, fend=t+tspan)"
     ],
     "language": "python",
     "metadata": {},
     "outputs": []
    },
    {
     "cell_type": "code",
     "collapsed": false,
     "input": [
      "t = 17990\n",
      "tspan = 1\n",
      "look_time(graph, fstart=t, fend=t+tspan)"
     ],
     "language": "python",
     "metadata": {},
     "outputs": []
    },
    {
     "cell_type": "code",
     "collapsed": false,
     "input": [
      "len(sorted(collider.subgraph.neartime(graph2, t, t+tspan).nodes()))"
     ],
     "language": "python",
     "metadata": {},
     "outputs": []
    },
    {
     "cell_type": "code",
     "collapsed": false,
     "input": [
      "look(experiment.graph, target=11212, jumps=10)"
     ],
     "language": "python",
     "metadata": {},
     "outputs": []
    }
   ],
   "metadata": {}
  }
 ]
}