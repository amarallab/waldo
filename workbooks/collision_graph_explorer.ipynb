{
 "metadata": {
  "name": "",
  "signature": "sha256:6d6166bbec7f560bbbda83156371f1e81138dd6b568f3f719abb21d37eea4aa6"
 },
 "nbformat": 3,
 "nbformat_minor": 0,
 "worksheets": [
  {
   "cells": [
    {
     "cell_type": "heading",
     "level": 1,
     "metadata": {},
     "source": [
      "What's that part of the graph look like?"
     ]
    },
    {
     "cell_type": "code",
     "collapsed": false,
     "input": [
      "%load_ext autoreload\n",
      "%autoreload 2\n",
      "%matplotlib inline"
     ],
     "language": "python",
     "metadata": {},
     "outputs": []
    },
    {
     "cell_type": "code",
     "collapsed": false,
     "input": [
      "from __future__ import print_function, absolute_import, unicode_literals, division\n",
      "import six\n",
      "from six.moves import (zip, filter, map, reduce, input, range)\n",
      "\n",
      "import pathcustomize\n",
      "\n",
      "import sys\n",
      "import os\n",
      "import pathlib\n",
      "import pickle\n",
      "import platform\n",
      "print('Python {} ({}) [{}] on {}'.format(platform.python_version(), ', '.join(platform.python_build()), \n",
      "                                       platform.python_compiler(), sys.platform))\n",
      "\n",
      "import matplotlib.pyplot as plt\n",
      "from IPython.core.display import Image as display_image\n",
      "\n",
      "import multiworm\n",
      "import collider\n",
      "import collider.viz\n",
      "import wio"
     ],
     "language": "python",
     "metadata": {},
     "outputs": []
    },
    {
     "cell_type": "code",
     "collapsed": false,
     "input": [
      "def look(graph, target, jumps, ref=False):\n",
      "    subgraph = collider.subgraph.nearby(graph, target, jumps)\n",
      "    temp_file = collider.viz.render_nx_as_dot(subgraph, ref=ref)\n",
      "    return display_image(temp_file)"
     ],
     "language": "python",
     "metadata": {},
     "outputs": []
    },
    {
     "cell_type": "code",
     "collapsed": false,
     "input": [
      "#ex_id = '20130614_120518'\n",
      "ex_id = '20130318_131111'\n",
      "#ex_id = '20130414_140704'\n",
      "#ex_id = '20130702_135704' # many pics\n",
      "#ex_id = '20130702_135652' # many pics\n",
      "\n",
      "experiment = wio.Experiment(experiment_id=ex_id)\n",
      "experiment.load_summary(graph=True)\n",
      "graph = experiment.collision_graph\n",
      "original = graph.copy()\n",
      "\n",
      "collider.remove_nodes_outside_roi(graph, experiment)\n",
      "\n",
      "collider.component_size_summary(graph)\n",
      "collider.viz.direct_degree_distribution(graph, (3, 3), ignore_zero=False)"
     ],
     "language": "python",
     "metadata": {},
     "outputs": []
    },
    {
     "cell_type": "code",
     "collapsed": false,
     "input": [
      "graph2 = graph.copy()\n",
      "params = {\n",
      "    'offshoots': 20, # default: 20\n",
      "    'splits_abs': 5, # default: 5\n",
      "    'splits_rel': 0.25, # default: 0.5\n",
      "    'assimilate': 10, # default: 10\n",
      "}\n",
      "collider.removal_suite(graph2, **params)\n",
      "\n",
      "collider.component_size_summary(graph2)\n",
      "collider.viz.direct_degree_distribution(graph2, (3, 3), ignore_zero=True)"
     ],
     "language": "python",
     "metadata": {},
     "outputs": []
    },
    {
     "cell_type": "code",
     "collapsed": false,
     "input": [
      "graph3 = graph2.copy()\n",
      "params = {\n",
      "    'offshoots': 20, # default: 20\n",
      "    'splits_abs': 5, # default: 5\n",
      "    'splits_rel': 0.25, # default: 0.5\n",
      "    'assimilate': 10, # default: 10\n",
      "}\n",
      "#collider.removal_suite(graph3, **params)\n",
      "#collider.remove_single_descendents(graph3)\n",
      "#collider.remove_fission_fusion(graph3, 5)\n",
      "collider.remove_fission_fusion_rel(graph3, 0.25)\n",
      "\n",
      "collider.component_size_summary(graph3)\n",
      "collider.viz.direct_degree_distribution(graph3, (3, 3))"
     ],
     "language": "python",
     "metadata": {},
     "outputs": []
    },
    {
     "cell_type": "code",
     "collapsed": false,
     "input": [
      "set(graph) - set(graph_rerun)"
     ],
     "language": "python",
     "metadata": {},
     "outputs": []
    },
    {
     "cell_type": "code",
     "collapsed": false,
     "input": [
      "look(graph, target=62981, jumps=10)"
     ],
     "language": "python",
     "metadata": {},
     "outputs": []
    },
    {
     "cell_type": "code",
     "collapsed": false,
     "input": [
      "# xxx_135652\n",
      "#look(graph, target=1240, jumps=15)\n",
      "#look(graph, target=3399, jumps=3)\n",
      "#look(graph, target=1789, jumps=2)"
     ],
     "language": "python",
     "metadata": {},
     "outputs": []
    },
    {
     "cell_type": "code",
     "collapsed": false,
     "input": [
      "graph_mod = graph.copy()\n",
      "collider.assimilate(graph_mod, 10)\n",
      "collider.remove_single_descendents(graph_mod)\n",
      "collider.component_size_summary(graph_mod)\n",
      "collider.viz.direct_degree_distribution(graph_mod, (3,3), ignore_zero=True)"
     ],
     "language": "python",
     "metadata": {},
     "outputs": []
    },
    {
     "cell_type": "code",
     "collapsed": false,
     "input": [
      "look(graph_mod, target=9737, jumps=5)"
     ],
     "language": "python",
     "metadata": {},
     "outputs": []
    },
    {
     "cell_type": "code",
     "collapsed": false,
     "input": [
      "f, ax = collider.viz.age_distribution(original, graph, graph_mod)\n",
      "ax.set_xlim([0.5, 50e3])"
     ],
     "language": "python",
     "metadata": {},
     "outputs": []
    },
    {
     "cell_type": "code",
     "collapsed": false,
     "input": [
      "collider.viz.age_distribution(original)"
     ],
     "language": "python",
     "metadata": {},
     "outputs": []
    },
    {
     "cell_type": "code",
     "collapsed": false,
     "input": [],
     "language": "python",
     "metadata": {},
     "outputs": []
    }
   ],
   "metadata": {}
  }
 ]
}