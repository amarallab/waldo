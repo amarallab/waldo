{
 "metadata": {
  "name": "",
  "signature": "sha256:d7d068d920ae1a6cea2b5be0a220368293e839a624c87699381b4eeebb48a0ae"
 },
 "nbformat": 3,
 "nbformat_minor": 0,
 "worksheets": [
  {
   "cells": [
    {
     "cell_type": "heading",
     "level": 1,
     "metadata": {},
     "source": [
      "What's that part of the graph look like?"
     ]
    },
    {
     "cell_type": "markdown",
     "metadata": {},
     "source": [
      "This notebook is intended purely for visualizing parts of the graph. It also includes functions that allow us to color the graph nodes to show different variables such as track duration (default), or estimated number of worms."
     ]
    },
    {
     "cell_type": "code",
     "collapsed": false,
     "input": [
      "%load_ext autoreload\n",
      "%autoreload 2\n",
      "%matplotlib inline"
     ],
     "language": "python",
     "metadata": {},
     "outputs": []
    },
    {
     "cell_type": "code",
     "collapsed": false,
     "input": [
      "from __future__ import print_function, absolute_import, unicode_literals, division\n",
      "import six\n",
      "from six.moves import (zip, filter, map, reduce, input, range)\n",
      "\n",
      "import pathcustomize\n",
      "\n",
      "import sys\n",
      "import os\n",
      "import pathlib\n",
      "import pickle\n",
      "import platform\n",
      "print('Python {} ({}) [{}] on {}'.format(platform.python_version(), ', '.join(platform.python_build()), \n",
      "                                       platform.python_compiler(), sys.platform))\n",
      "\n",
      "import matplotlib.pyplot as plt\n",
      "import matplotlib.colors as mplcolors\n",
      "import pandas as pd\n",
      "import networkx as nx\n",
      "from IPython.core.display import Image as display_image \n",
      "\n",
      "import waldo\n",
      "import waldo.viz as viz"
     ],
     "language": "python",
     "metadata": {},
     "outputs": []
    },
    {
     "cell_type": "code",
     "collapsed": false,
     "input": [
      "#ex_id = '20130614_120518'\n",
      "#ex_id = '20130318_131111'\n",
      "#ex_id = '20130414_140704'\n",
      "ex_id = '20130702_135704' # many pics\n",
      "#ex_id = '20130702_135652' # many pics\n",
      "\n",
      "experiment = waldo.Experiment(experiment_id=ex_id)\n",
      "graph = experiment.graph.copy()\n",
      "\n",
      "waldo.collider.remove_nodes_outside_roi(graph, experiment)\n",
      "waldo.collider.remove_blank_nodes(graph, experiment)\n",
      "\n",
      "print('N = {}'.format(len(graph)))\n",
      "#collider.component_size_summary(graph)\n",
      "viz.direct_degree_distribution(graph, (3, 3), ignore_zero=False)"
     ],
     "language": "python",
     "metadata": {},
     "outputs": []
    },
    {
     "cell_type": "heading",
     "level": 1,
     "metadata": {},
     "source": [
      "Create simplified giant component"
     ]
    },
    {
     "cell_type": "code",
     "collapsed": false,
     "input": [
      "slightly_simplified_graph = graph.copy()\n",
      "\n",
      "waldo.collider.remove_single_descendents(slightly_simplified_graph)\n",
      "waldo.collider.remove_fission_fusion(slightly_simplified_graph)\n",
      "waldo.collider.remove_fission_fusion_rel(slightly_simplified_graph, split_rel_time=0.5)\n",
      "waldo.collider.remove_offshoots(slightly_simplified_graph, threshold=20)\n",
      "waldo.collider.remove_single_descendents(slightly_simplified_graph)\n",
      "viz.direct_degree_distribution(slightly_simplified_graph, (3, 3), ignore_zero=False)"
     ],
     "language": "python",
     "metadata": {},
     "outputs": []
    },
    {
     "cell_type": "code",
     "collapsed": false,
     "input": [
      "giant = slightly_simplified_graph.giant()\n",
      "nodes = giant.nodes(data=False)\n",
      "print(len(nodes), 'in giant component')\n",
      "target = nodes[0]\n",
      "print(target)"
     ],
     "language": "python",
     "metadata": {},
     "outputs": []
    },
    {
     "cell_type": "code",
     "collapsed": false,
     "input": [
      "cmap = 'jet'\n",
      "#cmap = 'Paired'\n",
      "cmap = 'bwr'\n",
      "cmap = 'afmhot'\n",
      "cmap = 'pink'\n",
      "\n",
      "cm = plt.cm.get_cmap(cmap)\n",
      "def lifespan_to_color(lifespan, scalerange=(-0.5, 4), cm=cm):\n",
      "    val = (np.log10(lifespan+1e-100) - scalerange[0])/(scalerange[1] - scalerange[0])                                            \n",
      "    color = mplcolors.rgb2hex(cm(val)[:3]) \n",
      "    return color     \n",
      "    \n",
      "ref_graph= nx.DiGraph()\n",
      "reference = [0, 1, 3, 10, 30, 100, 300, 1000, 3000]\n",
      "ref_nodes = ['{} frames'.format(r) for r in reference]\n",
      "iterref = iter(ref_nodes)\n",
      "source = six.next(iterref)\n",
      "for dest in iterref:\n",
      "    ref_graph.add_edge(source, dest)\n",
      "    source = dest\n",
      "    for ref, ref_node in zip(reference, ref_nodes):\n",
      "        ref_graph.add_node(ref_node, penwidth='0.5',\n",
      "                         fillcolor=lifespan_to_color(ref), style='filled')\n",
      "temp_file = viz.network.dot.render_nx_as_dot(ref_graph, remove_node_labels=True, output_file='life-ref.svg', format='png')\n",
      "display_image(temp_file)"
     ],
     "language": "python",
     "metadata": {},
     "outputs": []
    },
    {
     "cell_type": "code",
     "collapsed": false,
     "input": [
      "subgraph = viz.subgraph.nearby(slightly_simplified_graph, target, 1000) \n",
      "viz.network.dot.format_graph_for_lifespan(subgraph, cmap=cmap, ref=False)\n",
      "temp_file = viz.network.dot.render_nx_as_dot(subgraph, remove_node_labels=True, output_file='life-giant.gv', format='png')\n",
      "display_image(temp_file)"
     ],
     "language": "python",
     "metadata": {},
     "outputs": []
    },
    {
     "cell_type": "code",
     "collapsed": false,
     "input": [
      "viz.look(slightly_simplified_graph, target=target, jumps=1000, ref=0, ctype='lifespan')"
     ],
     "language": "python",
     "metadata": {},
     "outputs": []
    },
    {
     "cell_type": "heading",
     "level": 3,
     "metadata": {},
     "source": [
      "collect data for true counts"
     ]
    },
    {
     "cell_type": "heading",
     "level": 3,
     "metadata": {},
     "source": [
      "Show worm number estimation"
     ]
    },
    {
     "cell_type": "code",
     "collapsed": false,
     "input": [
      "slightly_simplified_graph.count_worms(experiment)\n",
      "viz.look(slightly_simplified_graph, target=target, jumps=1000, ref=0,ctype='true_count')"
     ],
     "language": "python",
     "metadata": {},
     "outputs": []
    },
    {
     "cell_type": "code",
     "collapsed": false,
     "input": [
      "target = 15074\n",
      "jumps = 12"
     ],
     "language": "python",
     "metadata": {},
     "outputs": []
    },
    {
     "cell_type": "code",
     "collapsed": false,
     "input": [
      "target = 13057\n",
      "jumps = 4"
     ],
     "language": "python",
     "metadata": {},
     "outputs": []
    },
    {
     "cell_type": "code",
     "collapsed": false,
     "input": [
      "#target = 491\n",
      "#jumps = 8"
     ],
     "language": "python",
     "metadata": {},
     "outputs": []
    },
    {
     "cell_type": "code",
     "collapsed": false,
     "input": [
      "slightly_simplified_graph.determine_moving(experiment)\n",
      "viz.look(slightly_simplified_graph, target=target, jumps=jumps, ref=0, ctype='moved_bool')"
     ],
     "language": "python",
     "metadata": {},
     "outputs": []
    },
    {
     "cell_type": "code",
     "collapsed": false,
     "input": [
      "slightly_simplified_graph.count_worms(experiment)\n",
      "viz.look(slightly_simplified_graph, target=target, jumps=jumps, ref=0,ctype='worm_count')"
     ],
     "language": "python",
     "metadata": {},
     "outputs": []
    },
    {
     "cell_type": "code",
     "collapsed": false,
     "input": [
      "screen = pd.read_csv('../data/prep/collision_validate.csv')\n",
      "screen = screen[screen['eid'] == ex_id]\n",
      "assert len(screen), \"No data for experiment ID\"\n",
      "screen.set_index('bid', inplace=True)\n",
      "#screen.head()\n",
      "\n",
      "true_counts = {}\n",
      "\n",
      "for bid, row in screen.iterrows():\n",
      "    c = int(row['ans'] / 10)\n",
      "    if not c:\n",
      "        c = 0.5\n",
      "    #print(type(bid))\n",
      "    true_counts[int(bid)] = c\n",
      "    \n",
      "slightly_simplified_graph.add_node_attributes('true_count', true_counts, default=0)\n",
      "viz.look(slightly_simplified_graph, target=target, jumps=jumps, ref=0, ctype='true_count')"
     ],
     "language": "python",
     "metadata": {},
     "outputs": []
    },
    {
     "cell_type": "code",
     "collapsed": false,
     "input": [
      "viz.save_graphs(ex_id, slightly_simplified_graph, target=target, jumps=jumps)"
     ],
     "language": "python",
     "metadata": {},
     "outputs": []
    },
    {
     "cell_type": "heading",
     "level": 3,
     "metadata": {},
     "source": [
      "zooming in on individual targets"
     ]
    },
    {
     "cell_type": "code",
     "collapsed": false,
     "input": [
      "graph2 = graph.copy()\n",
      "params = {\n",
      "    'offshoots': 20, # default: 20\n",
      "    'splits_abs': 5, # default: 5\n",
      "    'splits_rel': 0.25, # default: 0.5\n",
      "    'assimilate': -1, # default: 10\n",
      "}\n",
      "waldo.collider.removal_suite(graph2, **params)\n",
      "#collider.remove_offshoots(graph2, params['offshoots'])\n",
      "#collider.assimilate(graph2, params['assimilate'])\n",
      "removed = waldo.collider.remove_blank_nodes(graph2, experiment, exclude_connected=False)\n",
      "print('N = {}'.format(len(graph2)))\n",
      "waldo.collider.component_size_summary(graph2)\n",
      "waldo.viz.direct_degree_distribution(graph2, (3, 3), ignore_zero=False)\n",
      "print(list(removed))"
     ],
     "language": "python",
     "metadata": {},
     "outputs": []
    },
    {
     "cell_type": "code",
     "collapsed": false,
     "input": [
      "viz.look(experiment.graph, target=13014, jumps=10, ref=1)"
     ],
     "language": "python",
     "metadata": {},
     "outputs": []
    },
    {
     "cell_type": "code",
     "collapsed": false,
     "input": [
      "viz.look(experiment.graph, target=11133, jumps=10, ref=1)"
     ],
     "language": "python",
     "metadata": {},
     "outputs": []
    },
    {
     "cell_type": "code",
     "collapsed": false,
     "input": [
      "t = 17990\n",
      "tspan = 1000\n",
      "viz.look_time(graph2, fstart=t, fend=t+tspan)"
     ],
     "language": "python",
     "metadata": {},
     "outputs": []
    },
    {
     "cell_type": "code",
     "collapsed": false,
     "input": [
      "t = 17990\n",
      "tspan = 1\n",
      "look_time(experiment.graph, fstart=t, fend=t+tspan)"
     ],
     "language": "python",
     "metadata": {},
     "outputs": []
    },
    {
     "cell_type": "code",
     "collapsed": false,
     "input": [
      "t = 17990\n",
      "tspan = 1\n",
      "look_time(graph, fstart=t, fend=t+tspan)"
     ],
     "language": "python",
     "metadata": {},
     "outputs": []
    },
    {
     "cell_type": "code",
     "collapsed": false,
     "input": [
      "len(sorted(collider.subgraph.neartime(graph2, t, t+tspan).nodes()))"
     ],
     "language": "python",
     "metadata": {},
     "outputs": []
    },
    {
     "cell_type": "code",
     "collapsed": false,
     "input": [
      "look(experiment.graph, target=11212, jumps=10)"
     ],
     "language": "python",
     "metadata": {},
     "outputs": []
    }
   ],
   "metadata": {}
  }
 ]
}