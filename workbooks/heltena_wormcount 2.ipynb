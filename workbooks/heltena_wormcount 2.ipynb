{
 "metadata": {
  "name": "",
  "signature": "sha256:89d9d59c971dd1d1447e25f82bbbef093e22c01d3e99006a7475b70b83fe19c8"
 },
 "nbformat": 3,
 "nbformat_minor": 0,
 "worksheets": [
  {
   "cells": [
    {
     "cell_type": "code",
     "collapsed": false,
     "input": [
      "%load_ext autoreload\n",
      "%autoreload 2\n",
      "%matplotlib inline"
     ],
     "language": "python",
     "metadata": {},
     "outputs": [],
     "prompt_number": 2
    },
    {
     "cell_type": "code",
     "collapsed": false,
     "input": [
      "from __future__ import print_function, absolute_import, unicode_literals, division\n",
      "import six\n",
      "from six.moves import (zip, filter, map, reduce, input, range)\n",
      "\n",
      "import pathcustomize\n",
      "\n",
      "import sys\n",
      "import os\n",
      "import pathlib\n",
      "import pickle\n",
      "import platform\n",
      "print('Python {} ({}) [{}] on {}'.format(platform.python_version(), ', '.join(platform.python_build()), \n",
      "                                       platform.python_compiler(), sys.platform))\n",
      "\n",
      "import matplotlib.pyplot as plt\n",
      "from IPython.core.display import Image as display_image\n",
      "\n",
      "import multiworm\n",
      "import collider\n",
      "import collider.viz\n",
      "import wio\n",
      "\n",
      "import numpy as np\n",
      "import math"
     ],
     "language": "python",
     "metadata": {},
     "outputs": [
      {
       "output_type": "stream",
       "stream": "stdout",
       "text": [
        "Python 2.7.5 (default, Mar  9 2014 22:15:05) [GCC 4.2.1 Compatible Apple LLVM 5.0 (clang-500.0.68)] on darwin\n"
       ]
      }
     ],
     "prompt_number": 3
    },
    {
     "cell_type": "code",
     "collapsed": false,
     "input": [
      "#ex_id = '20130614_120518'\n",
      "#ex_id = '20130318_131111'\n",
      "#ex_id = '20130414_140704'\n",
      "#ex_id = '20130702_135704' # many pics\n",
      "ex_id = '20130702_135652' # many pics\n",
      "\n",
      "experiment = wio.Experiment(experiment_id=ex_id)\n",
      "graph = experiment.graph.copy()\n",
      "\n",
      "_ = collider.remove_nodes_outside_roi(graph, experiment)\n",
      "candidates = collider.find_potential_cut_worms(graph, experiment)"
     ],
     "language": "python",
     "metadata": {},
     "outputs": [],
     "prompt_number": 4
    },
    {
     "cell_type": "code",
     "collapsed": false,
     "input": [
      "sizes_df = experiment.prepdata.load('sizes')\n",
      "terminals_df = experiment.prepdata.load('terminals')\n",
      "_ = sizes_df.set_index('bid', inplace=True)\n",
      "_ = terminals_df.set_index('bid', inplace=True)"
     ],
     "language": "python",
     "metadata": {},
     "outputs": [],
     "prompt_number": 5
    },
    {
     "cell_type": "code",
     "collapsed": false,
     "input": [
      "def dist_Nd(a, b):\n",
      "    return math.sqrt(sum([(x - y) ** 2 for x, y in zip(a, b)]))\n",
      "\n",
      "def node_is_moving(node, MIN_DIST=5, MIN_ALIVE=5.0):\n",
      "    try:\n",
      "        row = terminals_df.loc[node]\n",
      "        p0 = row['x0'], row['y0'], row['t0']\n",
      "        p1 = row['xN'], row['yN'], row['tN']\n",
      "        return dist_Nd(p0[0:2], p1[0:2]) > MIN_DIST and p1[2] - p0[2] > MIN_ALIVE\n",
      "    except KeyError, e:\n",
      "        return False\n",
      "\n",
      "def area_for_node(node, default=None, MIN_ALIVE=5.0):\n",
      "    try:\n",
      "        t0 = terminals_df.loc[node]['t0']\n",
      "        tN = terminals_df.loc[node]['tN']\n",
      "        alive = float(tN) - float(t0)\n",
      "        if alive < MIN_ALIVE:\n",
      "            return default\n",
      "        value = sizes_df.loc[node]['area_median']\n",
      "        if math.isnan(value):\n",
      "            return default\n",
      "        return value\n",
      "    except KeyError, e:\n",
      "        return default\n",
      "\n",
      "def round_worm_count_value(v):\n",
      "    return int(v / 0.5) * 0.5\n",
      "\n",
      "\n",
      "# assign '1'\n",
      "areas = []\n",
      "worm_count = {}\n",
      "seeds = set()\n",
      "one_assigned = set()\n",
      "for node in graph.nodes():\n",
      "    if node_is_moving(node):\n",
      "        area = area_for_node(node)\n",
      "        if area is not None:\n",
      "            areas.append(area)\n",
      "        worm_count[node] = 1\n",
      "        seeds.add(node)\n",
      "        one_assigned.add(node)\n",
      "mean, std = np.mean(areas), np.std(areas)\n",
      "print(\"Mean: {mean}, std: {std}, l={l}\".format(mean=mean, std=std, l=len(areas)))\n",
      "\n",
      "\n",
      "pred_count = {}\n",
      "loop_count = 0\n",
      "while len(seeds) > 0:\n",
      "    current = seeds.pop()\n",
      "    wc = worm_count[current]\n",
      "\n",
      "    # calculate percentage for all of the successor list\n",
      "    succ_area = sum([area_for_node(succ, 0) for succ in graph.successors(current)])\n",
      "\n",
      "    # Add percentage for each successor\n",
      "    for succ in graph.successors(current):\n",
      "        if succ in one_assigned:\n",
      "            continue\n",
      "        if succ_area == 0:\n",
      "            value = wc / len(graph.successors(current))\n",
      "        else:\n",
      "            value = wc * area_for_node(succ, 0) / succ_area\n",
      "        if succ in worm_count:\n",
      "            worm_count[succ] += value\n",
      "        else:\n",
      "            worm_count[succ] = value\n",
      "        if succ in pred_count:\n",
      "            pred_count[succ] += 1\n",
      "        else:\n",
      "            pred_count[succ] = 1\n",
      "        if pred_count[succ] == len(graph.predecessors(succ)):\n",
      "            seeds.add(succ)\n",
      "            del(pred_count[succ])\n",
      "            \n",
      "\n",
      "for node in worm_count:\n",
      "    worm_count[node] = round_worm_count_value(worm_count[node])"
     ],
     "language": "python",
     "metadata": {},
     "outputs": [
      {
       "output_type": "stream",
       "stream": "stdout",
       "text": [
        "Mean: 387.39877836, std: 137.934527613, l=1146\n"
       ]
      }
     ],
     "prompt_number": 14
    },
    {
     "cell_type": "code",
     "collapsed": false,
     "input": [
      "counts = {}\n",
      "for k, v in worm_count.items():\n",
      "    if v in counts:\n",
      "        counts[v] += 1\n",
      "    else:\n",
      "        counts[v] = 1\n",
      "for k, v in counts.items():\n",
      "    print(\"worms of size {n} count: {c}\".format(n=k, c=v))\n",
      "print(\"{n} unassigned\".format(n=len(graph.nodes())-len(worm_count)))\n",
      "\n",
      "with open(\"{id}-wormcount.csv\".format(id=ex_id), \"wt\") as f:\n",
      "    f.write(\"bid,wormcount\\n\")\n",
      "    for k, v in worm_count.items():\n",
      "        f.write(\"{bid},{wormcount}\\n\".format(bid=k, wormcount=v))\n",
      "    f.close()"
     ],
     "language": "python",
     "metadata": {},
     "outputs": [
      {
       "output_type": "stream",
       "stream": "stdout",
       "text": [
        "worms of size 0.5 count: 2879\n",
        "worms of size 1.0 count: 4088\n",
        "worms of size 2.0 count: 1042\n",
        "worms of size 3.0 count: 119\n",
        "worms of size 4.0 count: 11\n",
        "worms of size 2.5 count: 5\n",
        "worms of size 1.5 count: 321\n",
        "worms of size 3.5 count: 1\n",
        "worms of size 0.0 count: 850\n",
        "6023 unassigned\n"
       ]
      }
     ],
     "prompt_number": 15
    },
    {
     "cell_type": "code",
     "collapsed": false,
     "input": [
      "nick = {}\n",
      "with open('collision_validate.csv', 'rt') as f:\n",
      "    for line in f.readlines()[1:]:\n",
      "        eid, bid, ans = line.strip().split(',')\n",
      "        if eid == ex_id:\n",
      "            nick[int(bid)] = int(ans) / 10."
     ],
     "language": "python",
     "metadata": {},
     "outputs": [],
     "prompt_number": 16
    },
    {
     "cell_type": "code",
     "collapsed": false,
     "input": [
      "heltena = worm_count\n",
      "nick_keys = set(nick.keys())\n",
      "heltena_keys = set(heltena.keys())\n",
      "\n",
      "intersect = nick_keys & heltena_keys\n",
      "diffs = []\n",
      "for i in intersect:\n",
      "    nick_value = nick[i]\n",
      "    heltena_value = heltena[i]\n",
      "    err = nick_value - heltena_value\n",
      "    diffs.append(err)\n",
      "mean, std = np.mean(diffs), np.std(diffs)\n",
      "print(\"Mean: {mean}, std: {std}\".format(mean=mean, std=std))\n",
      "accum = 0\n",
      "d = 0\n",
      "l = len(intersect)\n",
      "while accum < len(intersect):\n",
      "    ps = sum([1 for x in diffs if x == +d])\n",
      "    ns = sum([1 for x in diffs if x == -d]) if d > 0 else 0\n",
      "    accum += ps + ns\n",
      "    print(\"diff {d:2.1f}: (+){ps:4d} (-){ns:4d} of {l:4d} (accum: {a:4d}, {atpc:2.1f}%)\".format(d=d, ps=ps, ns=ns, l=l, a=accum, atpc=accum*100./l))\n",
      "    d += 0.5"
     ],
     "language": "python",
     "metadata": {},
     "outputs": [
      {
       "output_type": "stream",
       "stream": "stdout",
       "text": [
        "Mean: 0.310391822828, std: 0.516419678454\n",
        "diff 0.0: (+)1849 (-)   0 of 2935 (accum: 1849, 63.0%)\n",
        "diff 0.5: (+) 152 (-)  93 of 2935 (accum: 2094, 71.3%)\n",
        "diff 1.0: (+) 779 (-)   5 of 2935 (accum: 2878, 98.1%)\n",
        "diff 1.5: (+)  13 (-)   1 of 2935 (accum: 2892, 98.5%)\n",
        "diff 2.0: (+)  38 (-)   0 of 2935 (accum: 2930, 99.8%)\n",
        "diff 2.5: (+)   3 (-)   0 of 2935 (accum: 2933, 99.9%)\n",
        "diff 3.0: (+)   2 (-)   0 of 2935 (accum: 2935, 100.0%)\n"
       ]
      }
     ],
     "prompt_number": 17
    },
    {
     "cell_type": "code",
     "collapsed": false,
     "input": [
      "diffs = {}\n",
      "for i in intersect:\n",
      "    nick_value = nick[i]\n",
      "    heltena_value = heltena[i]\n",
      "    data = diffs[nick_value] if nick_value in diffs else {}\n",
      "    diff = heltena_value - nick_value\n",
      "    data[diff] = (data[diff] + 1) if diff in data else 1\n",
      "    diffs[nick_value] = data\n",
      "diffs"
     ],
     "language": "python",
     "metadata": {},
     "outputs": [
      {
       "metadata": {},
       "output_type": "pyout",
       "prompt_number": 18,
       "text": [
        "{0.0: {1.0: 3},\n",
        " 0.5: {-0.5: 10, 0.0: 52, 0.5: 72},\n",
        " 1.0: {-1.0: 123, -0.5: 42, 0.0: 733},\n",
        " 1.5: {-0.5: 5, 0.0: 3, 0.5: 12},\n",
        " 2.0: {-2.0: 23, -1.5: 3, -1.0: 595, -0.5: 88, 0.0: 944, 1.5: 1},\n",
        " 2.5: {-1.5: 2, -0.5: 2},\n",
        " 3.0: {-3.0: 2,\n",
        "  -2.5: 1,\n",
        "  -2.0: 15,\n",
        "  -1.5: 8,\n",
        "  -1.0: 61,\n",
        "  -0.5: 5,\n",
        "  0.0: 117,\n",
        "  1.0: 2},\n",
        " 3.5: {-2.5: 2, 0.5: 9}}"
       ]
      }
     ],
     "prompt_number": 18
    },
    {
     "cell_type": "code",
     "collapsed": false,
     "input": [],
     "language": "python",
     "metadata": {},
     "outputs": []
    }
   ],
   "metadata": {}
  }
 ]
}