{
 "metadata": {
  "name": "",
  "signature": "sha256:2eeb47b3fd929bc4aa491a66257ea702faad38e5c0e9b6357867df000d674537"
 },
 "nbformat": 3,
 "nbformat_minor": 0,
 "worksheets": [
  {
   "cells": [
    {
     "cell_type": "markdown",
     "metadata": {},
     "source": [
      "<img src=\"http://img2.wikia.nocookie.net/__cb20110515211858/half-life/en/images/6/6d/Super_button_p2_blue.jpg\" width=\"200\"/>\n",
      "<center><h1>Developing the Amazing Super-Connector Blackholes</h1></center><br />"
     ]
    },
    {
     "cell_type": "code",
     "collapsed": false,
     "input": [
      "%load_ext autoreload\n",
      "%autoreload 2\n",
      "%matplotlib inline"
     ],
     "language": "python",
     "metadata": {},
     "outputs": [
      {
       "output_type": "stream",
       "stream": "stdout",
       "text": [
        "The autoreload extension is already loaded. To reload it, use:\n",
        "  %reload_ext autoreload\n"
       ]
      }
     ],
     "prompt_number": 39
    },
    {
     "cell_type": "code",
     "collapsed": false,
     "input": [
      "import itertools\n",
      "import math\n",
      "import pickle"
     ],
     "language": "python",
     "metadata": {},
     "outputs": [],
     "prompt_number": 40
    },
    {
     "cell_type": "heading",
     "level": 1,
     "metadata": {},
     "source": [
      "Geometry"
     ]
    },
    {
     "cell_type": "code",
     "collapsed": false,
     "input": [
      "def dist_2d(c1, c2):\n",
      "    xc = c1[0] - c2[0]\n",
      "    yc = c1[1] - c2[1]\n",
      "    return math.hypot(xc, yc)\n",
      "def dist_3d(c1, c2):\n",
      "    d = [c1[i]-c2[i] for i in range(3)]\n",
      "    return math.sqrt(sum([x * x for x in d]))\n",
      "def angle_2d(p1, p2):\n",
      "    dx = p2[0] - p1[0]\n",
      "    dy = p2[1] - p1[1]\n",
      "    return math.atan2(dy, dx) % (2 * math.pi)"
     ],
     "language": "python",
     "metadata": {},
     "outputs": [],
     "prompt_number": 41
    },
    {
     "cell_type": "code",
     "collapsed": false,
     "input": [
      "class DataRow:\n",
      "    def __init__(self, id, t0, tN, x0, xN, y0, yN):\n",
      "        self.id = id\n",
      "        self.begin = (x0, y0, t0)\n",
      "        self.end = (xN, yN, tN)\n",
      "    def __repr__(self):\n",
      "        return \"(%d, [%f,%f,%f]-[%f,%f,%f])\" % tuple([self.id] + list(self.begin) + list(self.end))"
     ],
     "language": "python",
     "metadata": {},
     "outputs": [],
     "prompt_number": 42
    },
    {
     "cell_type": "code",
     "collapsed": false,
     "input": [
      "BASEDIR = \"/Users/heltena/src/waldo/data\"\n",
      "PREFIX = \"20130318_131111\""
     ],
     "language": "python",
     "metadata": {},
     "outputs": [],
     "prompt_number": 43
    },
    {
     "cell_type": "code",
     "collapsed": false,
     "input": [
      "# LOAD NETWORK\n",
      "FILENAME = \"{base}/collider_networks/{prefix}_graphcache.pkl\".format(base=BASEDIR, prefix=PREFIX)\n",
      "with open(FILENAME, \"r\") as f:\n",
      "    network = pickle.load(f)"
     ],
     "language": "python",
     "metadata": {},
     "outputs": [],
     "prompt_number": 44
    },
    {
     "cell_type": "code",
     "collapsed": false,
     "input": [
      "# READ ALL THE TERMINALS\n",
      "FILENAME = \"{base}/prep/{prefix}/{prefix}-terminals.csv\".format(base=BASEDIR, prefix=PREFIX)\n",
      "with open(FILENAME, \"rt\") as f:\n",
      "    data_list = []\n",
      "    minT = None\n",
      "    maxT = None\n",
      "    for line in f.readlines()[1:]:\n",
      "        values = line.strip().split(',')\n",
      "        id = int(values[0])\n",
      "        params = [id] + [float(x) for x in values[1:]]\n",
      "        data = DataRow(*params)\n",
      "        data_list.append(data)\n",
      "        if minT is None:\n",
      "            minT = min(data.begin[2], data.end[2])\n",
      "        else:\n",
      "            minT = min(minT, data.begin[2], data.end[2])\n",
      "        if maxT is None:\n",
      "            maxT = max(data.begin[2], data.end[2])\n",
      "        else:\n",
      "            maxT = max(maxT, data.begin[2], data.end[2])\n",
      "    \n",
      "data_list = sorted(data_list, key=lambda x: x.begin[2]) # Make sure that the list is ordered using t0"
     ],
     "language": "python",
     "metadata": {},
     "outputs": [],
     "prompt_number": 45
    },
    {
     "cell_type": "code",
     "collapsed": false,
     "input": [
      "# GENERATE COMPONENT TERMINALS\n",
      "FILENAME = \"{base}/prep/{prefix}/{prefix}-component-terminals.csv\".format(base=BASEDIR, prefix=PREFIX)\n",
      "component_terminals = []\n",
      "minT = None\n",
      "maxT = None\n",
      "with open(FILENAME, \"wt\") as f:\n",
      "    for id in network.nodes():\n",
      "        current = network.node[id]\n",
      "        born = data_list[current['born']]\n",
      "        died = data_list[current['died']]\n",
      "        # Remember: id, t0, tN, x0, xN, y0, yN\n",
      "        params = [id, born.begin[2], died.end[2], born.begin[0], died.end[0], born.begin[1], died.end[1]]\n",
      "        print >>f, \"%d,%f,%f,%f,%f,%f,%f\" % tuple(params)\n",
      "        data = DataRow(*params)\n",
      "        component_terminals.append(data)\n",
      "        if minT is None:\n",
      "            minT = min(data.begin[2], data.end[2])\n",
      "        else:\n",
      "            minT = min(minT, data.begin[2], data.end[2])\n",
      "        if maxT is None:\n",
      "            maxT = max(data.begin[2], data.end[2])\n",
      "        else:\n",
      "            maxT = max(maxT, data.begin[2], data.end[2])\n",
      "\n",
      "component_terminals = sorted(component_terminals, key=lambda x: x.begin[2]) # Make sure that the list is ordered using t0\n",
      "print len(component_terminals)"
     ],
     "language": "python",
     "metadata": {},
     "outputs": [
      {
       "output_type": "stream",
       "stream": "stdout",
       "text": [
        "5433\n"
       ]
      }
     ],
     "prompt_number": 82
    },
    {
     "cell_type": "code",
     "collapsed": false,
     "input": [
      "def index_of_data_with_begin_time_greater_than(dl, t):\n",
      "    first = 0\n",
      "    last = len(dl)\n",
      "    while abs(first - last) > 1:\n",
      "        middle = (first + last) / 2\n",
      "        middle_value = dl[middle].begin[2]\n",
      "        if middle_value < t:\n",
      "            first = middle\n",
      "        else:\n",
      "            last = middle\n",
      "    while first < len(dl) and dl[first].begin[2] <= t:\n",
      "        first += 1\n",
      "    return first        "
     ],
     "language": "python",
     "metadata": {},
     "outputs": [],
     "prompt_number": 91
    },
    {
     "cell_type": "code",
     "collapsed": false,
     "input": [
      "def calculate_score(tail, head):\n",
      "    dist = dist_3d(tail.end, head.begin)\n",
      "    if dist == 0:\n",
      "        return 10000.0\n",
      "    else:\n",
      "        return 1.0/dist\n",
      "\n",
      "relations = []\n",
      "tails_used = [False] * len(component_terminals)\n",
      "THRESHOLD = 1\n",
      "MAX_TIME = 300\n",
      "for i, data in enumerate(component_terminals):\n",
      "    index = index_of_data_with_begin_time_greater_than(component_terminals, data.end[2])\n",
      "    best_index = None\n",
      "    best_score = None\n",
      "    while index < len(component_terminals) and data.end[2] + MAX_TIME > component_terminals[index].begin[2]:\n",
      "        if index != i and not tails_used[index]:\n",
      "            score = calculate_score(data, component_terminals[index])\n",
      "            if score > THRESHOLD and (best_score is None or best_score < score):\n",
      "                best_index = index\n",
      "                best_score = score\n",
      "        index += 1\n",
      "    if best_index is not None:\n",
      "        tails_used[best_index] = True\n",
      "        relations.append((data.id, component_terminals[best_index].id))\n",
      "    if i % 5000 == 0:\n",
      "        print \"%4d / %d (match count: %d)\" % (i + 1, len(component_terminals), len(relations))"
     ],
     "language": "python",
     "metadata": {},
     "outputs": [
      {
       "output_type": "stream",
       "stream": "stdout",
       "text": [
        "   1 / 5433 (match count: 0)\n",
        "5001 / 5433 (match count: 607)"
       ]
      },
      {
       "output_type": "stream",
       "stream": "stdout",
       "text": [
        "\n"
       ]
      }
     ],
     "prompt_number": 92
    },
    {
     "cell_type": "code",
     "collapsed": false,
     "input": [
      "for begin, end in relations[0:5]:\n",
      "    id_begin = network.node[begin]['died']\n",
      "    id_end = network.node[end]['born']\n",
      "    print \"%.0f, %.0f, %.0f -> %.0f, %.0f, %.0f\" % tuple(data_list[id_begin].end + data_list[id_end].begin)"
     ],
     "language": "python",
     "metadata": {},
     "outputs": [
      {
       "output_type": "stream",
       "stream": "stdout",
       "text": [
        "842, 762, 27 -> 842, 762, 27\n",
        "130, 2301, 444 -> 130, 2301, 445\n",
        "458, 2281, 52 -> 457, 2280, 53\n",
        "504, 891, 96 -> 504, 891, 96\n",
        "152, 2328, 452 -> 152, 2328, 452\n"
       ]
      }
     ],
     "prompt_number": 93
    },
    {
     "cell_type": "code",
     "collapsed": false,
     "input": [
      "final_thunks = []\n",
      "tail_used = [False] * len(component_terminals)\n",
      "nexts = [-1] * len(component_terminals)\n",
      "for begin, end in relations:\n",
      "    nexts[begin] = end\n",
      "for i, data in enumerate(component_terminals):\n",
      "    if not tail_used[i]:\n",
      "        current_values = []\n",
      "        current_index = i\n",
      "        while current_index != -1:\n",
      "            tail_used[current_index] = True\n",
      "            current_values.append(current_index)\n",
      "            current_index = nexts[current_index]\n",
      "        final_thunks.append(current_values)\n",
      "print len(component_terminals), len(final_thunks)"
     ],
     "language": "python",
     "metadata": {},
     "outputs": [
      {
       "ename": "IndexError",
       "evalue": "list assignment index out of range",
       "output_type": "pyerr",
       "traceback": [
        "\u001b[0;31m---------------------------------------------------------------------------\u001b[0m\n\u001b[0;31mIndexError\u001b[0m                                Traceback (most recent call last)",
        "\u001b[0;32m<ipython-input-69-bd1117f9b623>\u001b[0m in \u001b[0;36m<module>\u001b[0;34m()\u001b[0m\n\u001b[1;32m      3\u001b[0m \u001b[0mnexts\u001b[0m \u001b[0;34m=\u001b[0m \u001b[0;34m[\u001b[0m\u001b[0;34m-\u001b[0m\u001b[0;36m1\u001b[0m\u001b[0;34m]\u001b[0m \u001b[0;34m*\u001b[0m \u001b[0mlen\u001b[0m\u001b[0;34m(\u001b[0m\u001b[0mcomponent_terminals\u001b[0m\u001b[0;34m)\u001b[0m\u001b[0;34m\u001b[0m\u001b[0m\n\u001b[1;32m      4\u001b[0m \u001b[0;32mfor\u001b[0m \u001b[0mbegin\u001b[0m\u001b[0;34m,\u001b[0m \u001b[0mend\u001b[0m \u001b[0;32min\u001b[0m \u001b[0mrelations\u001b[0m\u001b[0;34m:\u001b[0m\u001b[0;34m\u001b[0m\u001b[0m\n\u001b[0;32m----> 5\u001b[0;31m     \u001b[0mnexts\u001b[0m\u001b[0;34m[\u001b[0m\u001b[0mbegin\u001b[0m\u001b[0;34m]\u001b[0m \u001b[0;34m=\u001b[0m \u001b[0mend\u001b[0m\u001b[0;34m\u001b[0m\u001b[0m\n\u001b[0m\u001b[1;32m      6\u001b[0m \u001b[0;32mfor\u001b[0m \u001b[0mi\u001b[0m\u001b[0;34m,\u001b[0m \u001b[0mdata\u001b[0m \u001b[0;32min\u001b[0m \u001b[0menumerate\u001b[0m\u001b[0;34m(\u001b[0m\u001b[0mcomponent_terminals\u001b[0m\u001b[0;34m)\u001b[0m\u001b[0;34m:\u001b[0m\u001b[0;34m\u001b[0m\u001b[0m\n\u001b[1;32m      7\u001b[0m     \u001b[0;32mif\u001b[0m \u001b[0;32mnot\u001b[0m \u001b[0mtail_used\u001b[0m\u001b[0;34m[\u001b[0m\u001b[0mi\u001b[0m\u001b[0;34m]\u001b[0m\u001b[0;34m:\u001b[0m\u001b[0;34m\u001b[0m\u001b[0m\n",
        "\u001b[0;31mIndexError\u001b[0m: list assignment index out of range"
       ]
      }
     ],
     "prompt_number": 69
    },
    {
     "cell_type": "code",
     "collapsed": false,
     "input": [],
     "language": "python",
     "metadata": {},
     "outputs": []
    }
   ],
   "metadata": {}
  }
 ]
}