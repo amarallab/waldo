{
 "metadata": {
  "name": "",
  "signature": "sha256:c8fd5c06151c80238813f115b5420d6826acc29a70de99d923a56e2a0cfbe909"
 },
 "nbformat": 3,
 "nbformat_minor": 0,
 "worksheets": [
  {
   "cells": [
    {
     "cell_type": "markdown",
     "metadata": {},
     "source": [
      "<img src=\"http://img2.wikia.nocookie.net/__cb20110515211858/half-life/en/images/6/6d/Super_button_p2_blue.jpg\" width=\"200\"/>\n",
      "<center><h1>Developing the Amazing Super-Connector Blackholes</h1></center><br />"
     ]
    },
    {
     "cell_type": "code",
     "collapsed": false,
     "input": [
      "%load_ext autoreload\n",
      "%autoreload 2\n",
      "%matplotlib inline"
     ],
     "language": "python",
     "metadata": {},
     "outputs": [],
     "prompt_number": 1
    },
    {
     "cell_type": "code",
     "collapsed": false,
     "input": [
      "import itertools\n",
      "import math\n",
      "import pickle"
     ],
     "language": "python",
     "metadata": {},
     "outputs": [],
     "prompt_number": 2
    },
    {
     "cell_type": "heading",
     "level": 1,
     "metadata": {},
     "source": [
      "Geometry"
     ]
    },
    {
     "cell_type": "code",
     "collapsed": false,
     "input": [
      "def dist_2d(c1, c2):\n",
      "    xc = c1[0] - c2[0]\n",
      "    yc = c1[1] - c2[1]\n",
      "    return math.hypot(xc, yc)\n",
      "def dist_3d(c1, c2):\n",
      "    d = [c1[i]-c2[i] for i in range(3)]\n",
      "    return math.sqrt(sum([x * x for x in d]))\n",
      "def angle_2d(p1, p2):\n",
      "    dx = p2[0] - p1[0]\n",
      "    dy = p2[1] - p1[1]\n",
      "    return math.atan2(dy, dx) % (2 * math.pi)"
     ],
     "language": "python",
     "metadata": {},
     "outputs": [],
     "prompt_number": 3
    },
    {
     "cell_type": "code",
     "collapsed": false,
     "input": [
      "class DataRow:\n",
      "    def __init__(self, id, t0, tN, x0, xN, y0, yN):\n",
      "        self.id = id\n",
      "        self.begin = (x0, y0, t0)\n",
      "        self.end = (xN, yN, tN)\n",
      "    def __repr__(self):\n",
      "        return \"(%d, [%f:%f,%f]->[%f:%f,%f])\" % tuple([self.id] + list(self.begin) + list(self.end))"
     ],
     "language": "python",
     "metadata": {},
     "outputs": [],
     "prompt_number": 4
    },
    {
     "cell_type": "code",
     "collapsed": false,
     "input": [
      "BASEDIR = \"/Users/heltena/src/waldo/data\"\n",
      "PREFIX = \"20130318_131111\""
     ],
     "language": "python",
     "metadata": {},
     "outputs": [],
     "prompt_number": 5
    },
    {
     "cell_type": "code",
     "collapsed": false,
     "input": [
      "# LOAD NETWORK\n",
      "FILENAME = \"{base}/collider_networks/{prefix}_graphcache2.pkl\".format(base=BASEDIR, prefix=PREFIX)\n",
      "with open(FILENAME, \"r\") as f:\n",
      "    network = pickle.load(f)"
     ],
     "language": "python",
     "metadata": {},
     "outputs": [],
     "prompt_number": 62
    },
    {
     "cell_type": "code",
     "collapsed": false,
     "input": [
      "# READ ALL THE TERMINALS\n",
      "FILENAME = \"{base}/prep/{prefix}/{prefix}-terminals.csv\".format(base=BASEDIR, prefix=PREFIX)\n",
      "with open(FILENAME, \"rt\") as f:\n",
      "    data_list = []\n",
      "    data_map = {}\n",
      "    minT = None\n",
      "    maxT = None\n",
      "    for line in f.readlines()[1:]:\n",
      "        values = line.strip().split(',')\n",
      "        id = int(values[0])\n",
      "        params = [id] + [float(x) for x in values[1:]]\n",
      "        data = DataRow(*params)\n",
      "        data_list.append(data)\n",
      "        data_map[data.id] = data\n",
      "        if minT is None:\n",
      "            minT = min(data.begin[2], data.end[2])\n",
      "        else:\n",
      "            minT = min(minT, data.begin[2], data.end[2])\n",
      "        if maxT is None:\n",
      "            maxT = max(data.begin[2], data.end[2])\n",
      "        else:\n",
      "            maxT = max(maxT, data.begin[2], data.end[2])\n",
      "data_list = sorted(data_list, key=lambda x: x.begin[2]) # sorting by begin time\n",
      "print \"Total nodes: \", len(data_set)"
     ],
     "language": "python",
     "metadata": {},
     "outputs": [
      {
       "output_type": "stream",
       "stream": "stdout",
       "text": [
        "Total nodes:  64160\n"
       ]
      }
     ],
     "prompt_number": 75
    },
    {
     "cell_type": "code",
     "collapsed": false,
     "input": [
      "data_index_nodes = set([x.id for x in data_set])\n",
      "in_index_nodes = set([x for x in network.nodes() if len(network.predecessors(x)) == 0]) & data_index_nodes\n",
      "out_index_nodes = set([x for x in network.nodes() if len(network.successors(x)) == 0]) & data_index_nodes\n",
      "in_nodes = sorted([data_map[x] for x in in_index_nodes], key=lambda x: x.begin[2])\n",
      "out_nodes = sorted([data_map[x] for x in out_index_nodes], key=lambda x: x.begin[2])\n",
      "print \"In nodes: %d, Out nodes: %d\" % (len(in_index_nodes), len(out_index_nodes))"
     ],
     "language": "python",
     "metadata": {},
     "outputs": [
      {
       "output_type": "stream",
       "stream": "stdout",
       "text": [
        "In nodes: 1360, Out nodes: 1412\n"
       ]
      }
     ],
     "prompt_number": 79
    },
    {
     "cell_type": "code",
     "collapsed": false,
     "input": [
      "def index_of_data_with_begin_time_greater_than(dl, t):\n",
      "    first = 0\n",
      "    last = len(dl)\n",
      "    while abs(first - last) > 1:\n",
      "        middle = (first + last) / 2\n",
      "        middle_value = dl[middle].begin[2]\n",
      "        if middle_value < t:\n",
      "            first = middle\n",
      "        else:\n",
      "            last = middle\n",
      "    while first < len(dl) and dl[first].begin[2] <= t:\n",
      "        first += 1\n",
      "    return first        "
     ],
     "language": "python",
     "metadata": {},
     "outputs": [],
     "prompt_number": 80
    },
    {
     "cell_type": "code",
     "collapsed": false,
     "input": [
      "MAX_CELERITY = 5  # pixel / seconds\n",
      "MAX_TIME = 5\n",
      "OFFSET = 10 # pixels added to the radius of the cone\n",
      "def inside_time_cone(tail, head):\n",
      "    if tail.end == head.begin:\n",
      "        return True\n",
      "    dt = head.begin[2] - tail.end[2]\n",
      "    if dt < 0 or dt >= MAX_TIME:\n",
      "        return False\n",
      "    radius = OFFSET + MAX_CELERITY * dt\n",
      "    return dist_2d(tail.end, head.begin) < radius\n",
      "\n",
      "    \n",
      "def calculate_score(tail, head):\n",
      "    dist = dist_3d(tail.end, head.begin)\n",
      "    if dist == 0:\n",
      "        return 10000.0\n",
      "    else:\n",
      "        return 1.0/dist\n",
      "\n",
      "proposed_relations = []\n",
      "for out in out_nodes:\n",
      "    index = index_of_data_with_begin_time_greater_than(in_nodes, out.end[2])\n",
      "    while index < len(in_nodes):\n",
      "        current = in_nodes[index]\n",
      "        if inside_time_cone(out, current):\n",
      "            score = calculate_score(out, current)\n",
      "            proposed_relations.append((score, out, current))\n",
      "        index += 1"
     ],
     "language": "python",
     "metadata": {},
     "outputs": [],
     "prompt_number": 84
    },
    {
     "cell_type": "code",
     "collapsed": false,
     "input": [
      "relations = []\n",
      "tmp_proposed_relations = sorted(proposed_relations, key=lambda x: x[0]) # order by score\n",
      "while len(tmp_proposed_relations) > 0:\n",
      "    score, tail, head = tmp_proposed_relations.pop()\n",
      "    relations.append((score, tail, head))\n",
      "    tmp_proposed_relations = [x for x in tmp_proposed_relations if x[1] != tail and x[2] != head]\n",
      "print len(relations)"
     ],
     "language": "python",
     "metadata": {},
     "outputs": [
      {
       "output_type": "stream",
       "stream": "stdout",
       "text": [
        "355\n"
       ]
      }
     ],
     "prompt_number": 85
    },
    {
     "cell_type": "code",
     "collapsed": false,
     "input": [
      "for a in relations[0:5]:\n",
      "    print a"
     ],
     "language": "python",
     "metadata": {},
     "outputs": [
      {
       "output_type": "stream",
       "stream": "stdout",
       "text": [
        "(3.1361988282625433, (49763, [1639.921000,1875.094000,2674.828000]-[1642.532000,1876.199000,2677.797000]), (49812, [1642.537000,1876.452000,2677.991000]-[1642.578000,1876.599000,2678.128000]))\n",
        "(3.031179944735685, (27329, [1211.619000,1224.094000,1481.395000]-[1202.177000,1226.291000,1498.694000]), (27824, [1201.986000,1226.251000,1498.960000]-[1202.094000,1226.326000,1499.027000]))\n",
        "(2.668555486384473, (19331, [1369.062000,1329.430000,1130.558000]-[1367.550000,1328.807000,1136.157000]), (19491, [1367.714000,1328.744000,1136.488000]-[1367.788000,1328.766000,1136.620000]))\n",
        "(2.5731524258056955, (25486, [1251.993000,1267.243000,1410.552000]-[1251.559000,1267.400000,1411.289000]), (25501, [1251.597000,1267.212000,1411.627000]-[1251.597000,1267.212000,1411.627000]))\n",
        "(2.4920614109519548, (38460, [811.341000,1068.192000,2038.646000]-[811.341000,1068.192000,2038.646000]), (38466, [811.273000,1068.378000,2038.995000]-[811.273000,1068.378000,2038.995000]))\n"
       ]
      }
     ],
     "prompt_number": 88
    },
    {
     "cell_type": "code",
     "collapsed": false,
     "input": [],
     "language": "python",
     "metadata": {},
     "outputs": []
    }
   ],
   "metadata": {}
  }
 ]
}