{
 "metadata": {
  "name": "",
  "signature": "sha256:adda844e654b83504b102c883dfaa33dedf6e7cf8ad0f3670038603783f08437"
 },
 "nbformat": 3,
 "nbformat_minor": 0,
 "worksheets": [
  {
   "cells": [
    {
     "cell_type": "code",
     "collapsed": false,
     "input": [
      "%load_ext autoreload\n",
      "%autoreload 2\n",
      "%matplotlib inline"
     ],
     "language": "python",
     "metadata": {},
     "outputs": []
    },
    {
     "cell_type": "code",
     "collapsed": false,
     "input": [
      "import pathcustomize\n",
      "import os\n",
      "import numpy as np\n",
      "import pandas as pd\n",
      "import matplotlib.pyplot as plt\n",
      "import prettyplotlib as ppl\n",
      "from wio.file_manager import Preprocess_File\n",
      "import wio2\n",
      "import images.evaluate_acuracy as ea\n",
      "import images.worm_finder as wf\n",
      "\n",
      "\n",
      "import multiworm\n",
      "from multiworm.readers import blob as blob_reader\n",
      "from settings.local import LOGISTICS\n",
      "\n",
      "MWT_DIR = os.path.abspath(LOGISTICS['filesystem_data'])\n",
      "#VALIDATION_DIR = os.path.abspath(LOGISTICS['validation'])"
     ],
     "language": "python",
     "metadata": {},
     "outputs": []
    },
    {
     "cell_type": "code",
     "collapsed": false,
     "input": [
      "ex_id = '20130614_120518'"
     ],
     "language": "python",
     "metadata": {},
     "outputs": []
    },
    {
     "cell_type": "code",
     "collapsed": false,
     "input": [
      "base_accuracy, matches = ea.grab_files(ex_id)\n",
      "ea.plot_accuracy_time(base_accuracy, title='raw accuracy')\n",
      "ea.plot_accuracy_bar(base_accuracy, title='raw accuracy')"
     ],
     "language": "python",
     "metadata": {},
     "outputs": []
    },
    {
     "cell_type": "code",
     "collapsed": false,
     "input": [
      "bids = []\n",
      "\n",
      "base_accuracy2 = ea.recalculate_accuracy(matches, base_accuracy, bids=bids)\n",
      "ea.plot_accuracy_time(base_accuracy2, title='this should be identical to previous')\n",
      "ea.plot_accuracy_bar(base_accuracy2, title='raw accuracy')"
     ],
     "language": "python",
     "metadata": {},
     "outputs": []
    },
    {
     "cell_type": "code",
     "collapsed": false,
     "input": [
      "processed = wio2.Experiment(ex_id)\n",
      "processed_ids = [worm_id for (worm_id, data) in processed.iteritems()]\n",
      "filtered_accuracy = ea.recalculate_accuracy(matches, base_accuracy, bids=processed_ids)\n",
      "ea.plot_accuracy_time(filtered_accuracy, title='ids currently processed')\n",
      "ea.plot_accuracy_bar(filtered_accuracy, title='ids currently processed')"
     ],
     "language": "python",
     "metadata": {},
     "outputs": []
    },
    {
     "cell_type": "code",
     "collapsed": false,
     "input": [
      "def return_filtered_ids(ex_id, min_move = 2, min_time=10):\n",
      "    path = os.path.join(MWT_DIR, ex_id)\n",
      "    plate = multiworm.Experiment(path)\n",
      "    plate.add_summary_filter(multiworm.filters.summary_lifetime_minimum(min_time))\n",
      "    plate.add_filter(multiworm.filters.relative_move_minimum(min_move))\n",
      "    plate.load_summary()\n",
      "    return [bid for (bid, _) in plate.good_blobs()]\n",
      "\n",
      "#bids_2bl = return_filtered_ids(ex_id, min_move=2)\n",
      "#print len(bids_2bl)"
     ],
     "language": "python",
     "metadata": {},
     "outputs": []
    },
    {
     "cell_type": "code",
     "collapsed": false,
     "input": [
      "path = os.path.join(MWT_DIR, ex_id)\n",
      "experiment = multiworm.Experiment(experiment_id=path)\n",
      "experiment.load_summary(graph=True)\n",
      "graph = experiment.collision_graph\n",
      "full_count = len(set(graph.nodes()))\n",
      "print full_count"
     ],
     "language": "python",
     "metadata": {},
     "outputs": []
    },
    {
     "cell_type": "code",
     "collapsed": false,
     "input": [
      "minmoves = [0.001, 0.1, 0.2, 0.5, 1.0, 2.0]\n",
      "counts = [return_filtered_ids(ex_id, min_move=i) for i in minmoves]"
     ],
     "language": "python",
     "metadata": {},
     "outputs": []
    },
    {
     "cell_type": "code",
     "collapsed": false,
     "input": [
      "c = [len(i) for i in counts]\n",
      "minmoves = [0.001, 0.1, 0.2, 0.5, 1.0, 2.0]\n",
      "\n",
      "minmoves= minmoves = [0] + minmoves\n",
      "#minmoves = minmoves[1:]\n",
      "c = [full_count] + c\n",
      "nworms = 40\n",
      "print minmoves\n",
      "print c\n",
      "fig, ax = plt.subplots()\n",
      "ppl.plot(ax, minmoves, c, '--o', label='tracks')\n",
      "ppl.plot(ax, minmoves, [nworms for i in c], '--o', label='worms')\n",
      "\n",
      "\n",
      "ax.set_ylabel('count')\n",
      "ax.set_xlabel('minimum body lengths of movement requried')\n",
      "ax.legend()\n",
      "plt.show()"
     ],
     "language": "python",
     "metadata": {},
     "outputs": []
    },
    {
     "cell_type": "code",
     "collapsed": false,
     "input": [
      "filtered_2bl = ea.recalculate_accuracy(matches, base_accuracy, bids=bids_2bl)\n",
      "ea.plot_accuracy_time(filtered_2bl, title='blobs > 2 bodylengths')\n",
      "ea.plot_accuracy_bar(filtered_2bl, title='blobs > 2 bodylengths')"
     ],
     "language": "python",
     "metadata": {},
     "outputs": []
    },
    {
     "cell_type": "code",
     "collapsed": false,
     "input": [],
     "language": "python",
     "metadata": {},
     "outputs": []
    },
    {
     "cell_type": "code",
     "collapsed": false,
     "input": [],
     "language": "python",
     "metadata": {},
     "outputs": []
    },
    {
     "cell_type": "code",
     "collapsed": false,
     "input": [
      "bids_1bl = return_filtered_ids(ex_id, min_move=1)\n",
      "print 'len', len(bids_1bl)"
     ],
     "language": "python",
     "metadata": {},
     "outputs": []
    },
    {
     "cell_type": "code",
     "collapsed": false,
     "input": [
      "filtered_1bl = ea.recalculate_accuracy(matches, base_accuracy, bids=bids_1bl)\n",
      "ea.plot_accuracy_time(filtered_1bl, title='blobs > 1 bodylengths')\n",
      "ea.plot_accuracy_bar(filtered_1bl, title='blobs > 1 bodylengths')"
     ],
     "language": "python",
     "metadata": {},
     "outputs": []
    },
    {
     "cell_type": "code",
     "collapsed": false,
     "input": [
      "bids_0p5bl = return_filtered_ids(ex_id, min_move=0.5)\n",
      "print 'len', len(bids_0p5bl)\n",
      "filtered_0p5bl = ea.recalculate_accuracy(matches, base_accuracy, bids=bids_0p5bl)\n",
      "ea.plot_accuracy_time(filtered_0p5bl, title='blobs > 0.5 bodylengths')\n",
      "ea.plot_accuracy_bar(filtered_0p5bl, title='blobs > 0.5 bodylengths')"
     ],
     "language": "python",
     "metadata": {},
     "outputs": []
    },
    {
     "cell_type": "code",
     "collapsed": false,
     "input": [
      "bids_0p25bl = return_filtered_ids(ex_id, min_move=0.25)\n",
      "print 'len', len(bids_0p5bl)\n",
      "filtered_0p25bl = ea.recalculate_accuracy(matches, base_accuracy, bids=bids_0p25bl)\n",
      "ea.plot_accuracy_time(filtered_0p25bl, title='blobs > 0.25 bodylengths')\n",
      "ea.plot_accuracy_bar(filtered_0p25bl, title='blobs > 0.25 bodylengths')\n"
     ],
     "language": "python",
     "metadata": {},
     "outputs": []
    },
    {
     "cell_type": "code",
     "collapsed": false,
     "input": [
      "def show_image_shapes(ex_id, time):\n",
      "    path = os.path.join(MWT_DIR, ex_id)\n",
      "    experiment = multiworm.Experiment(path)\n",
      "\n",
      "    pfile = Preprocess_File(ex_id=ex_id)\n",
      "    threshold = pfile.threshold()\n",
      "    roi = pfile.roi()\n",
      "    try:\n",
      "        fig, ax = wf.show_matched_image(ex_id, threshold, time, roi)\n",
      "        ax.set_title(str('{eid} {t} minutes'.format(eid=ex_id, t=time/60)))\n",
      "        plt.show()\n",
      "        return fig, ax\n",
      "    except OverflowError:\n",
      "        print('image caused overflow error')\n",
      "    \n",
      "time = 15 * 60\n",
      "show_image_shapes(ex_id, time)"
     ],
     "language": "python",
     "metadata": {},
     "outputs": []
    },
    {
     "cell_type": "code",
     "collapsed": false,
     "input": [
      "time = 30 * 60\n",
      "show_image_shapes(ex_id, time)"
     ],
     "language": "python",
     "metadata": {},
     "outputs": []
    },
    {
     "cell_type": "code",
     "collapsed": false,
     "input": [
      "time = 45 * 60\n",
      "show_image_shapes(ex_id, time)"
     ],
     "language": "python",
     "metadata": {},
     "outputs": []
    },
    {
     "cell_type": "code",
     "collapsed": false,
     "input": [],
     "language": "python",
     "metadata": {},
     "outputs": []
    },
    {
     "cell_type": "code",
     "collapsed": false,
     "input": [],
     "language": "python",
     "metadata": {},
     "outputs": []
    }
   ],
   "metadata": {}
  }
 ]
}