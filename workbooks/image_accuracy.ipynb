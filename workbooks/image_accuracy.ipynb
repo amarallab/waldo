{
 "metadata": {
  "name": "",
  "signature": "sha256:42b54b823b42a41d128c0fd1fc36f6cc18a96d2ba2b94ddbd4d8f7562fefaf7e"
 },
 "nbformat": 3,
 "nbformat_minor": 0,
 "worksheets": [
  {
   "cells": [
    {
     "cell_type": "code",
     "collapsed": false,
     "input": [
      "%load_ext autoreload\n",
      "%autoreload 2\n",
      "%matplotlib inline"
     ],
     "language": "python",
     "metadata": {},
     "outputs": []
    },
    {
     "cell_type": "code",
     "collapsed": false,
     "input": [
      "import pathcustomize\n",
      "import os\n",
      "import numpy as np\n",
      "import pandas as pd\n",
      "import matplotlib.pyplot as plt\n",
      "import prettyplotlib as ppl\n",
      "import wio\n",
      "from wio.file_manager import ImageMarkings\n",
      "import wio2\n",
      "import images.evaluate_acuracy as ea\n",
      "import images.worm_finder as wf\n",
      "\n",
      "from conf import settings\n",
      "import report_card\n",
      "import collider\n",
      "from multiworm.readers import blob as blob_reader\n",
      "#from settings.local import LOGISTICS\n",
      "\n",
      "MWT_DIR = os.path.abspath(settings.LOGISTICS['filesystem_data'])\n",
      "#VALIDATION_DIR = os.path.abspath(LOGISTICS['validation'])"
     ],
     "language": "python",
     "metadata": {},
     "outputs": []
    },
    {
     "cell_type": "code",
     "collapsed": false,
     "input": [
      "ex_id = '20130614_120518'\n",
      "ex_id = '20130318_131111'\n",
      "\n",
      "\n",
      "\n",
      "experiment = wio.Experiment(experiment_id=ex_id)\n",
      "graph = experiment.graph.copy()"
     ],
     "language": "python",
     "metadata": {},
     "outputs": []
    },
    {
     "cell_type": "code",
     "collapsed": false,
     "input": [
      "base_accuracy = experiment.prepdata.load('accuracy')\n",
      "matches = experiment.prepdata.load('matches')\n"
     ],
     "language": "python",
     "metadata": {},
     "outputs": []
    },
    {
     "cell_type": "code",
     "collapsed": false,
     "input": [
      "def step_plot(ax, step_df, true_num=30):\n",
      "    steps = []\n",
      "    n_steps = len(step_df)\n",
      "\n",
      "    xs = list(step_df['t0'])\n",
      "    widths = list(step_df['lifespan'])\n",
      "    height = 1\n",
      "\n",
      "    color_cycle = ax._get_lines.color_cycle\n",
      "    color1 = color_cycle.next()\n",
      "    color2 = color_cycle.next()\n",
      "    for y, (x, width) in enumerate(zip(xs, widths)):\n",
      "        steps.append(patches.Rectangle((x,y), height=height, width=width,\n",
      "                                       fill=True, fc=color1, ec=color1))\n",
      "    for step in steps:\n",
      "        ax.add_patch(step)\n",
      "\n",
      "    xmax = 60\n",
      "    ideal = patches.Rectangle((0,0), height=true_num, width=xmax,\n",
      "                              fill=True, ec=color2, fc=color2,\n",
      "                              alpha=0.5)\n",
      "\n",
      "    ax.add_patch(ideal)\n",
      "    ax.plot([0], color=color1, label='actual')\n",
      "    ax.plot([0], color=color2, alpha=0.5, label='ideal')\n",
      "    ax.set_xlim([0, xmax])\n",
      "    ax.set_ylim([0, n_steps+1])\n"
     ],
     "language": "python",
     "metadata": {},
     "outputs": []
    },
    {
     "cell_type": "code",
     "collapsed": false,
     "input": [
      "ea.plot_accuracy_time(base_accuracy, title='raw accuracy')\n",
      "ea.plot_accuracy_bar(base_accuracy, title='raw accuracy')"
     ],
     "language": "python",
     "metadata": {},
     "outputs": []
    },
    {
     "cell_type": "code",
     "collapsed": false,
     "input": [
      "#bids = []\n",
      "\n",
      "#base_accuracy2 = ea.recalculate_accuracy(matches, base_accuracy, bids=bids)\n",
      "#ea.plot_accuracy_time(base_accuracy2, title='this should be identical to previous')\n",
      "#ea.plot_accuracy_bar(base_accuracy2, title='raw accuracy')"
     ],
     "language": "python",
     "metadata": {},
     "outputs": []
    },
    {
     "cell_type": "code",
     "collapsed": false,
     "input": [
      "processed = wio2.Experiment(ex_id)\n",
      "processed_ids = [worm_id for (worm_id, data) in processed.iteritems()]\n",
      "filtered_accuracy = ea.recalculate_accuracy(matches, base_accuracy, bids=processed_ids)\n",
      "ea.plot_accuracy_time(filtered_accuracy, title='raw moved > 2 bl')\n",
      "ea.plot_accuracy_bar(filtered_accuracy, title='raw moved > 2 bl')"
     ],
     "language": "python",
     "metadata": {},
     "outputs": []
    },
    {
     "cell_type": "code",
     "collapsed": false,
     "input": [
      "graph2, rc = report_card.iterative_solver(experiment, graph.copy())"
     ],
     "language": "python",
     "metadata": {},
     "outputs": []
    },
    {
     "cell_type": "code",
     "collapsed": false,
     "input": [
      "flat_node_list = collider.flat_node_list(graph2)"
     ],
     "language": "python",
     "metadata": {},
     "outputs": []
    },
    {
     "cell_type": "code",
     "collapsed": false,
     "input": [
      "filtered_accuracy = ea.recalculate_accuracy(matches, base_accuracy, bids=flat_node_list)\n",
      "ea.plot_accuracy_time(filtered_accuracy, title='all final graph')\n",
      "ea.plot_accuracy_bar(filtered_accuracy, title='all final graph')"
     ],
     "language": "python",
     "metadata": {},
     "outputs": []
    },
    {
     "cell_type": "code",
     "collapsed": false,
     "input": [
      "c = [len(i) for i in counts]\n",
      "minmoves = [0.001, 0.1, 0.2, 0.5, 1.0, 2.0]\n",
      "\n",
      "minmoves= minmoves = [0] + minmoves\n",
      "#minmoves = minmoves[1:]\n",
      "c = [full_count] + c\n",
      "nworms = 40\n",
      "print minmoves\n",
      "print c\n",
      "fig, ax = plt.subplots()\n",
      "ppl.plot(ax, minmoves, c, '--o', label='tracks')\n",
      "ppl.plot(ax, minmoves, [nworms for i in c], '--o', label='worms')\n",
      "\n",
      "\n",
      "ax.set_ylabel('count')\n",
      "ax.set_xlabel('minimum body lengths of movement requried')\n",
      "ax.legend()\n",
      "plt.show()"
     ],
     "language": "python",
     "metadata": {},
     "outputs": []
    },
    {
     "cell_type": "code",
     "collapsed": false,
     "input": [
      "filtered_2bl = ea.recalculate_accuracy(matches, base_accuracy, bids=bids_2bl)\n",
      "ea.plot_accuracy_time(filtered_2bl, title='blobs > 2 bodylengths')\n",
      "ea.plot_accuracy_bar(filtered_2bl, title='blobs > 2 bodylengths')"
     ],
     "language": "python",
     "metadata": {},
     "outputs": []
    },
    {
     "cell_type": "code",
     "collapsed": false,
     "input": [],
     "language": "python",
     "metadata": {},
     "outputs": []
    },
    {
     "cell_type": "code",
     "collapsed": false,
     "input": [],
     "language": "python",
     "metadata": {},
     "outputs": []
    },
    {
     "cell_type": "code",
     "collapsed": false,
     "input": [
      "bids_1bl = return_filtered_ids(ex_id, min_move=1)\n",
      "print 'len', len(bids_1bl)"
     ],
     "language": "python",
     "metadata": {},
     "outputs": []
    },
    {
     "cell_type": "code",
     "collapsed": false,
     "input": [
      "filtered_1bl = ea.recalculate_accuracy(matches, base_accuracy, bids=bids_1bl)\n",
      "ea.plot_accuracy_time(filtered_1bl, title='blobs > 1 bodylengths')\n",
      "ea.plot_accuracy_bar(filtered_1bl, title='blobs > 1 bodylengths')"
     ],
     "language": "python",
     "metadata": {},
     "outputs": []
    },
    {
     "cell_type": "code",
     "collapsed": false,
     "input": [
      "bids_0p5bl = return_filtered_ids(ex_id, min_move=0.5)\n",
      "print 'len', len(bids_0p5bl)\n",
      "filtered_0p5bl = ea.recalculate_accuracy(matches, base_accuracy, bids=bids_0p5bl)\n",
      "ea.plot_accuracy_time(filtered_0p5bl, title='blobs > 0.5 bodylengths')\n",
      "ea.plot_accuracy_bar(filtered_0p5bl, title='blobs > 0.5 bodylengths')"
     ],
     "language": "python",
     "metadata": {},
     "outputs": []
    },
    {
     "cell_type": "code",
     "collapsed": false,
     "input": [
      "bids_0p25bl = return_filtered_ids(ex_id, min_move=0.25)\n",
      "print 'len', len(bids_0p5bl)\n",
      "filtered_0p25bl = ea.recalculate_accuracy(matches, base_accuracy, bids=bids_0p25bl)\n",
      "ea.plot_accuracy_time(filtered_0p25bl, title='blobs > 0.25 bodylengths')\n",
      "ea.plot_accuracy_bar(filtered_0p25bl, title='blobs > 0.25 bodylengths')\n"
     ],
     "language": "python",
     "metadata": {},
     "outputs": []
    },
    {
     "cell_type": "code",
     "collapsed": false,
     "input": [
      "def show_image_shapes(ex_id, time):\n",
      "    path = os.path.join(MWT_DIR, ex_id)\n",
      "    experiment = multiworm.Experiment(path)\n",
      "\n",
      "    pfile = Preprocess_File(ex_id=ex_id)\n",
      "    threshold = pfile.threshold()\n",
      "    roi = pfile.roi()\n",
      "    try:\n",
      "        fig, ax = wf.show_matched_image(ex_id, threshold, time, roi)\n",
      "        ax.set_title(str('{eid} {t} minutes'.format(eid=ex_id, t=time/60)))\n",
      "        plt.show()\n",
      "        return fig, ax\n",
      "    except OverflowError:\n",
      "        print('image caused overflow error')\n",
      "    \n",
      "time = 15 * 60\n",
      "show_image_shapes(ex_id, time)"
     ],
     "language": "python",
     "metadata": {},
     "outputs": []
    },
    {
     "cell_type": "code",
     "collapsed": false,
     "input": [
      "time = 30 * 60\n",
      "show_image_shapes(ex_id, time)"
     ],
     "language": "python",
     "metadata": {},
     "outputs": []
    },
    {
     "cell_type": "code",
     "collapsed": false,
     "input": [
      "time = 45 * 60\n",
      "show_image_shapes(ex_id, time)"
     ],
     "language": "python",
     "metadata": {},
     "outputs": []
    },
    {
     "cell_type": "code",
     "collapsed": false,
     "input": [],
     "language": "python",
     "metadata": {},
     "outputs": []
    },
    {
     "cell_type": "code",
     "collapsed": false,
     "input": [],
     "language": "python",
     "metadata": {},
     "outputs": []
    }
   ],
   "metadata": {}
  }
 ]
}