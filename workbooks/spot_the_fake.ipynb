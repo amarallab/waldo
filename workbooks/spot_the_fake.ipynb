{
 "metadata": {
  "name": "",
  "signature": "sha256:bd9eea4c8c2d63e8cfa970932a99218a20576d8de788c84807bf92dbf6f4550d"
 },
 "nbformat": 3,
 "nbformat_minor": 0,
 "worksheets": [
  {
   "cells": [
    {
     "cell_type": "code",
     "collapsed": false,
     "input": [
      "%load_ext autoreload\n",
      "%autoreload 2\n",
      "%matplotlib inline"
     ],
     "language": "python",
     "metadata": {},
     "outputs": []
    },
    {
     "cell_type": "code",
     "collapsed": false,
     "input": [
      "from __future__ import print_function, absolute_import, unicode_literals, division\n",
      "import pathcustomize\n",
      "\n",
      "import numpy as np\n",
      "import matplotlib.pyplot as plt\n",
      "\n",
      "import wio2\n",
      "import gummy\n",
      "import affine\n",
      "import plates.analytics as plan"
     ],
     "language": "python",
     "metadata": {},
     "outputs": []
    },
    {
     "cell_type": "code",
     "collapsed": false,
     "input": [
      "real_experiment = '20130318_131111'\n",
      "fake_experiment = '00000001_000002'"
     ],
     "language": "python",
     "metadata": {},
     "outputs": []
    },
    {
     "cell_type": "code",
     "collapsed": false,
     "input": [
      "model_params = {\n",
      "    'speeds': [0, 0.1, 0.4],\n",
      "    'angle_dist_mean': 0,\n",
      "    'angle_dist_sd': 0.004,\n",
      "    'reorient_chance': 0.1,\n",
      "    'expon_rvs_scale': 400,\n",
      "}\n",
      "noise_dist = 0.1\n",
      "\n",
      "faker = gummy.ArcAndReorient(**model_params)\n",
      "faker.realize_all()\n",
      "faker.corrupt(noise_dist)\n",
      "#faker.write(fake_experiment)"
     ],
     "language": "python",
     "metadata": {},
     "outputs": []
    },
    {
     "cell_type": "code",
     "collapsed": false,
     "input": [
      "real = wio2.Experiment(real_experiment)\n",
      "real_worms = []\n",
      "for worm_id, data in real.read_measurements('xy_raw'):\n",
      "    times, data = data.read()\n",
      "    real_worms.append(np.array(data))"
     ],
     "language": "python",
     "metadata": {},
     "outputs": []
    },
    {
     "cell_type": "code",
     "collapsed": false,
     "input": [
      "def plot_worms(worms, ax=None, colormap=None):\n",
      "    if ax is None:\n",
      "        f, ax = plt.subplots()\n",
      "        f.set_size_inches(18, 10)\n",
      "    else:\n",
      "        f = None\n",
      "        \n",
      "    if colormap is None:\n",
      "        colormap = plt.cm.RdYlBu\n",
      "\n",
      "    background = (0.4, 0.4, 0.4)\n",
      "\n",
      "    ax.set_axis_bgcolor(background)\n",
      "    ax.set_color_cycle([colormap(i) for i in np.linspace(0, 0.9, len(worms))])\n",
      "\n",
      "    for worm in worms:\n",
      "        ax.plot(*worm.T)\n",
      "    ax.axis('equal')\n",
      "    \n",
      "    if f:\n",
      "        return f, ax\n",
      "    else:\n",
      "        return ax\n",
      "    \n",
      "f, ax = plot_worms(faker.worms)\n",
      "#plt.show()"
     ],
     "language": "python",
     "metadata": {},
     "outputs": []
    },
    {
     "cell_type": "code",
     "collapsed": false,
     "input": [
      "transformed_worms = []\n",
      "for worm in real_worms:\n",
      "    translation = -worm[0]\n",
      "    rotation = np.arctan2(*(worm[0] - worm[50])) + np.pi/2\n",
      "    transformed_worms.append(affine.transform(worm, translation=translation, rotation=rotation).T)\n",
      "    #transformed_worms.append(affine.transform(worm, translation=translation).T)\n",
      "    \n",
      "#f_comp, (ax1, ax2) = plt.subplots(nrows=2)\n",
      "f_comp, ax = plt.subplots();ax1=ax2=ax\n",
      "plot_worms(faker.worms, ax1, colormap=plt.cm.spring)\n",
      "plot_worms(transformed_worms, ax2, plt.cm.winter)\n",
      "zoom = 400\n",
      "ax1.set_ylim(-zoom/2, zoom)\n",
      "ax2.set_ylim(-zoom/2, zoom)\n",
      "f_comp.set_size_inches(18, 18)\n",
      "plt.tight_layout()\n",
      "plt.show()"
     ],
     "language": "python",
     "metadata": {},
     "outputs": []
    },
    {
     "cell_type": "code",
     "collapsed": false,
     "input": [
      "speed_config = {\n",
      "    'smoothing': ('boxcar', 1),\n",
      "    'percentiles': [10, 20, 50, 80, 90],\n",
      "}\n",
      "def do_analysis(experiment):\n",
      "    analyzer = plan.ExperimentAnalyzer()\n",
      "    analyzer.add_analysis_method(plan.NoiseEstimator())\n",
      "    analyzer.add_analysis_method(plan.SpeedEstimator(**speed_config))\n",
      "    analyzer.analyze(experiment)\n",
      "    return analyzer.results()\n",
      "\n",
      "def excise_bad_xy(experiment):\n",
      "    for worm_id in experiment:\n",
      "        times, xy_raw = experiment[worm_id]['xy_raw']\n",
      "        dxy_raw = np.diff(xy_raw, axis=0)\n",
      "        dxy_raw[dxy_raw > 10] = 0\n",
      "        dxy_raw[dxy_raw < -10] = 0\n",
      "        xy_raw = np.cumsum(dxy_raw, axis=0)\n",
      "\n",
      "        clean_data = {}\n",
      "        clean_data['xy_raw'] = times, xy_raw\n",
      "        yield worm_id, clean_data\n",
      "\n",
      "fake_results = do_analysis(faker)\n",
      "real_results = do_analysis(excise_bad_xy(real))"
     ],
     "language": "python",
     "metadata": {},
     "outputs": []
    },
    {
     "cell_type": "code",
     "collapsed": false,
     "input": [
      "f, axs = plt.subplots(ncols=2)\n",
      "f.set_size_inches(15,8)\n",
      "f.suptitle('Normal curve summary statistics for frame-by-frame centroid steps (px/frame)')\n",
      "for results, color in zip([real_results, fake_results], ['green', 'red']):\n",
      "    for ax, stats, title in zip(axs, [results['noise']['means'], results['noise']['std_devs']],\n",
      "            ['X/Y means', 'X/Y stddev']):\n",
      "        ax.scatter(*zip(*stats), color=color)\n",
      "        ax.set_title(title)\n",
      "        ax.axvline()\n",
      "        ax.axhline()\n",
      "        ax.axis('equal')\n",
      "\n",
      "axs[1].set_xlim(left=0)\n",
      "axs[1].set_ylim(bottom=0)\n",
      "\n",
      "plt.show()"
     ],
     "language": "python",
     "metadata": {},
     "outputs": []
    },
    {
     "cell_type": "code",
     "collapsed": false,
     "input": [
      "f, ax = plt.subplots()\n",
      "f.set_size_inches(15,8)\n",
      "for results, color in zip([real_results, fake_results], ['green', 'red']):\n",
      "    for i, (pctile, dist) in enumerate(zip(speed_config['percentiles'], zip(*results['speed']['percentiles']))):\n",
      "        ax.plot(i * np.ones_like(dist) + 0.3*np.random.random(len(dist)) - 0.15, dist, color=color, lw=0, marker='+', ms=20, mew=3, alpha=0.3)\n",
      "ax.set_xticks(range(len(speed_config['percentiles'])))\n",
      "ax.set_xticklabels(speed_config['percentiles'])\n",
      "ax.set_title(\"Speed percentiles\")\n",
      "ax.set_xlabel(\"Percentile\")\n",
      "ax.set_ylabel(\"Speed (px/frame)\")\n",
      "pass"
     ],
     "language": "python",
     "metadata": {},
     "outputs": []
    },
    {
     "cell_type": "code",
     "collapsed": false,
     "input": [],
     "language": "python",
     "metadata": {},
     "outputs": []
    }
   ],
   "metadata": {}
  }
 ]
}