{
 "metadata": {
  "name": "",
  "signature": "sha256:a3687f73891e7739661e728475e58a5adc07b80af926ed2811a558255c218800"
 },
 "nbformat": 3,
 "nbformat_minor": 0,
 "worksheets": [
  {
   "cells": [
    {
     "cell_type": "code",
     "collapsed": false,
     "input": [
      "%load_ext autoreload\n",
      "%autoreload 2\n",
      "%matplotlib inline"
     ],
     "language": "python",
     "metadata": {},
     "outputs": []
    },
    {
     "cell_type": "code",
     "collapsed": false,
     "input": [
      "#from __future__ import print_function, absolute_import, unicode_literals, division\n",
      "#import six\n",
      "#from six.moves import (zip, filter, map, reduce, input, range)\n",
      "\n",
      "import pathcustomize\n",
      "\n",
      "import sys\n",
      "import os\n",
      "import pathlib\n",
      "import pickle\n",
      "import platform\n",
      "print('Python {} ({}) [{}] on {}'.format(platform.python_version(), ', '.join(platform.python_build()), \n",
      "                                       platform.python_compiler(), sys.platform))\n",
      "\n",
      "import pandas as pd\n",
      "import math\n",
      "\n",
      "import matplotlib.pyplot as plt\n",
      "import prettyplotlib as ppl\n",
      "import matplotlib.gridspec as gridspec\n",
      "import matplotlib.patches as patches\n",
      "import matplotlib.path as path\n",
      "from mpltools import style\n",
      "from mpltools import layout\n",
      "from statsmodels.distributions.empirical_distribution import ECDF\n",
      "\n",
      "\n",
      "from waldo.conf import settings\n",
      "from waldo.wio.experiment import Experiment\n",
      "#import waldo.report_card as report_card\n",
      "#import waldo.collider as collider\n",
      "#import tape as tp\n",
      "\n",
      "DATA_DIR = settings.LOGISTICS['filesystem_data']\n",
      "style.use('ggplot')"
     ],
     "language": "python",
     "metadata": {},
     "outputs": []
    },
    {
     "cell_type": "code",
     "collapsed": false,
     "input": [
      "ex_ids = ['20130614_120518',\n",
      "          '20130318_131111',\n",
      "          '20130702_135704', # testset\n",
      "          '20130702_135652',\n",
      "          '20130414_140704',\n",
      "          '20130410_165326']\n",
      "\n",
      "experiments = [Experiment(experiment_id=ex_id) for ex_id in ex_ids]"
     ],
     "language": "python",
     "metadata": {},
     "outputs": []
    },
    {
     "cell_type": "code",
     "collapsed": false,
     "input": [
      "reports = [e.prepdata.load('report-card', index_col=['step']) for e in experiments]\n",
      "starts = [e.prepdata.load('starts', index_col=0) for e in experiments]\n",
      "ends = [e.prepdata.load('ends', index_col=0) for e in experiments]\n",
      "start_reports = [e.prepdata.load('start_report', index_col=0) for e in experiments]\n",
      "end_reports = [e.prepdata.load('end_report', index_col=0) for e in experiments]\n",
      "accuracy = [e.prepdata.load('accuracy') for e in experiments]"
     ],
     "language": "python",
     "metadata": {},
     "outputs": []
    },
    {
     "cell_type": "code",
     "collapsed": false,
     "input": [
      "def make_gap_row(df):\n",
      "    gap_data = {}\n",
      "    for c in df.columns:\n",
      "        gap_data[c] = ''\n",
      "    return pd.DataFrame(gap_data, index=['...'], columns=df.columns)"
     ],
     "language": "python",
     "metadata": {},
     "outputs": []
    },
    {
     "cell_type": "heading",
     "level": 2,
     "metadata": {},
     "source": [
      "Image acuracy"
     ]
    },
    {
     "cell_type": "code",
     "collapsed": false,
     "input": [
      "actual_estimates = {}\n",
      "for eid, e in zip(ex_ids, accuracy):\n",
      "    e = e[['true-pos', 'false-pos', 'false-neg']]\n",
      "    print eid\n",
      "    d = e.describe()\n",
      "    actual_estimates[eid] = d['true-pos']['mean']\n",
      "    print d\n",
      "    print "
     ],
     "language": "python",
     "metadata": {},
     "outputs": []
    },
    {
     "cell_type": "heading",
     "level": 2,
     "metadata": {},
     "source": [
      "Overview"
     ]
    },
    {
     "cell_type": "code",
     "collapsed": false,
     "input": [
      "for eid, e in zip(ex_ids, reports):\n",
      "    e = e[['total-nodes', '>10min',  '>20min',  '>30min',  '>40min',  '>50min']]\n",
      "    gap = make_gap_row(e)\n",
      "    e = pd.concat([e.head(2), gap, e.tail(2) ])\n",
      "\n",
      "    print eid, 'report    |   estimated true count:', round(actual_estimates[eid], ndigits=1)\n",
      "    print e\n",
      "    print\n",
      "    print"
     ],
     "language": "python",
     "metadata": {},
     "outputs": []
    },
    {
     "cell_type": "heading",
     "level": 2,
     "metadata": {},
     "source": [
      "mean, median, std"
     ]
    },
    {
     "cell_type": "code",
     "collapsed": false,
     "input": [
      "for eid, e in zip(ex_ids, reports):\n",
      "    e = e[['total-nodes', 'duration-mean', 'duration-med', 'duration-std']]\n",
      "    gap = make_gap_row(e) \n",
      "    e = pd.concat([e.head(2), gap, e.tail(2) ])\n",
      "\n",
      "    print eid, 'report    |   estimated true count:', round(actual_estimates[eid], ndigits=1)\n",
      "    print e\n",
      "    print\n",
      "    print"
     ],
     "language": "python",
     "metadata": {},
     "outputs": []
    },
    {
     "cell_type": "heading",
     "level": 2,
     "metadata": {},
     "source": [
      "network report"
     ]
    },
    {
     "cell_type": "code",
     "collapsed": false,
     "input": [
      "for eid, e in zip(ex_ids, reports):\n",
      "    e = e[['total-nodes', 'connected-nodes', 'isolated-nodes', 'giant-component-size', '# components']]\n",
      "    e = e.rename(columns={'total-nodes':'total', 'connected-nodes':'connected', \n",
      "                          'isolated-nodes':'isolated', 'giant-component-size':'giantsize'})\n",
      "    gap = make_gap_row(e) \n",
      "    e = pd.concat([e.head(2), gap, e.tail(2) ])\n",
      "\n",
      "    print eid, 'report    |   estimated true count:', round(actual_estimates[eid], ndigits=1)\n",
      "\n",
      "    print e\n",
      "    print\n",
      "    print"
     ],
     "language": "python",
     "metadata": {},
     "outputs": []
    },
    {
     "cell_type": "heading",
     "level": 2,
     "metadata": {},
     "source": [
      "lost and found"
     ]
    },
    {
     "cell_type": "code",
     "collapsed": false,
     "input": [
      "for eid, e in zip(ex_ids, end_reports):\n",
      "    print eid, 'ends    |   estimated true count:', round(actual_estimates[eid], ndigits=1)\n",
      "    print e\n",
      "    print"
     ],
     "language": "python",
     "metadata": {},
     "outputs": []
    },
    {
     "cell_type": "code",
     "collapsed": false,
     "input": [
      "for eid, e in zip(ex_ids, start_reports):\n",
      "    print eid, 'starts    |   estimated true count:', round(actual_estimates[eid], ndigits=1)\n",
      "\n",
      "    print e\n",
      "    print"
     ],
     "language": "python",
     "metadata": {},
     "outputs": []
    },
    {
     "cell_type": "code",
     "collapsed": false,
     "input": [],
     "language": "python",
     "metadata": {},
     "outputs": []
    }
   ],
   "metadata": {}
  }
 ]
}