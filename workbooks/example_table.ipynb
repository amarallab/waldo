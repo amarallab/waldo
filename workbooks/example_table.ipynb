{
 "metadata": {
  "name": "",
  "signature": "sha256:673edcccd4eecd079fdebdf670390f35768142641208850133600161863c99f8"
 },
 "nbformat": 3,
 "nbformat_minor": 0,
 "worksheets": [
  {
   "cells": [
    {
     "cell_type": "code",
     "collapsed": false,
     "input": [
      "%load_ext autoreload\n",
      "%autoreload 2\n",
      "%matplotlib inline"
     ],
     "language": "python",
     "metadata": {},
     "outputs": []
    },
    {
     "cell_type": "code",
     "collapsed": false,
     "input": [
      "import six\n",
      "import pathcustomize\n",
      "\n",
      "import sys\n",
      "import os\n",
      "import itertools\n",
      "import platform\n",
      "print('Python {} ({}) [{}] on {}'.format(platform.python_version(), ', '.join(platform.python_build()), \n",
      "                                       platform.python_compiler(), sys.platform))\n",
      "\n",
      "import numpy as np\n",
      "import matplotlib.pyplot as plt\n",
      "import matplotlib.gridspec as gridspec\n",
      "import matplotlib.cm as cm\n",
      "import matplotlib.image as mpimg\n",
      "import networkx as nx\n",
      "#from IPython.core.display import Image as display_image\n",
      "\n",
      "os.environ.setdefault('MULTIWORM_SETTINGS', 'multiworm_settings')\n",
      "\n",
      "import wio\n",
      "import multiworm\n",
      "#import collider\n",
      "from collider.viz import show_before_and_after"
     ],
     "language": "python",
     "metadata": {},
     "outputs": []
    },
    {
     "cell_type": "code",
     "collapsed": false,
     "input": [
      "\n",
      "#ex_id = '20130318_131111'\n",
      "\n",
      "ex_id = '20130702_135704' # many pics\n",
      "\n",
      "experiment = wio.Experiment(experiment_id=ex_id)\n",
      "digraph = experiment.collision_graph"
     ],
     "language": "python",
     "metadata": {},
     "outputs": []
    },
    {
     "cell_type": "code",
     "collapsed": false,
     "input": [
      "def find_nearest_index(seq, value):\n",
      "    \"\"\"Return the index of the value in the sequence that is closest to the given value\"\"\"\n",
      "    return (np.abs(np.array(seq)-value)).argmin()\n",
      "\n",
      "def find_nearest(seq, value):\n",
      "    \"\"\"Return the value in the sequence that is closest to the given value\"\"\"\n",
      "    return seq[find_nearest_index(seq, value)]\n",
      "\n",
      "def frame_time(experiment, frame):\n",
      "    \"\"\"Return the time (in seconds) for the given frame from experiment\"\"\"\n",
      "    return experiment.frame_times[frame - 1]\n",
      "\n",
      "def nearest_image(experiment, frame=None, time=None):\n",
      "    if frame is None and time is None:\n",
      "        raise ValueError(\"either the 'time' or 'frame' keyword argument must be provided\")\n",
      "    if time is None:\n",
      "        time = frame_time(experiment, frame)\n",
      "    \n",
      "    image_time = find_nearest(list(six.iterkeys(experiment.image_files)), time)\n",
      "    \n",
      "    return experiment.image_files[image_time]\n"
     ],
     "language": "python",
     "metadata": {},
     "outputs": []
    },
    {
     "cell_type": "code",
     "collapsed": false,
     "input": [
      "#%matplotlib tk\n",
      "target = 513\n",
      "f, axs = show_before_and_after(experiment, target=target)\n",
      "for ax in axs:\n",
      "    ax.set_autoscale_on(False)\n",
      "    still = mpimg.imread(str(nearest_image(experiment, frame=experiment[target]['died_f'])))\n",
      "    ax.xaxis.set_ticks([])\n",
      "    ax.yaxis.set_ticks([])\n",
      "    ax.imshow(still.T, cmap=plt.cm.Greys_r)"
     ],
     "language": "python",
     "metadata": {},
     "outputs": []
    },
    {
     "cell_type": "code",
     "collapsed": false,
     "input": [
      "def find_closest_outline(nodes, closest_frame=None, use_first=True):\n",
      "    outlines = []\n",
      "    if use_first:\n",
      "        it_step = 1\n",
      "    else:\n",
      "        it_step = -1\n",
      "    \n",
      "    for node in nodes:\n",
      "        i = 0\n",
      "        while True:\n",
      "            try:\n",
      "                outline = multiworm.readers.blob.decode_outline_line(experiment[node], i)\n",
      "                outlines.append(outline)\n",
      "                break\n",
      "            except ValueError:\n",
      "                pass\n",
      "            i += it_step\n",
      "    #print outlines\n",
      "    return outlines\n"
     ],
     "language": "python",
     "metadata": {},
     "outputs": []
    },
    {
     "cell_type": "code",
     "collapsed": false,
     "input": [
      "def find_outlines(target, digraph, experiment):\n",
      "    parents, now, children = find_immediate_relatives(target, digraph)\n",
      "    #children = list(digraph.successors(target))\n",
      "    #parents = list(digraph.predecessors(target))    \n",
      "    #now = list(itertools.chain.from_iterable(digraph.predecessors_iter(c) for c in children))\n",
      "    #now.extend(list(itertools.chain.from_iterable(digraph.successors_iter(p) for p in parents)))\n",
      "    #now = list(set(now))\n",
      "    #return parents, children\n",
      "    print 'c:', children\n",
      "    print 'now:', now\n",
      "    print 'p:', parents\n",
      "\n",
      "    #im_matches = experiment.prepdata.load('matches')\n",
      "    #im_matches.set_index('bid', inplace=True)\n",
      "    #all_frames = list(set(im_matches['frame']))\n",
      "    #print len(all_frames), 'frames'\n",
      "\n",
      "    parent_outlines = find_closest_outline(parents, use_first=False)\n",
      "    now_outlines = find_closest_outline(now, use_first=False)\n",
      "    child_outlines = find_closest_outline(children, use_first=True)\n",
      "\n",
      "    frame = experiment[target]['died_f']\n",
      "    print frame\n",
      "    return frame, parent_outlines, now_outlines, child_outlines"
     ],
     "language": "python",
     "metadata": {},
     "outputs": []
    },
    {
     "cell_type": "code",
     "collapsed": false,
     "input": [
      "def find_immediate_relatives(target, digraph):\n",
      "    children = list(digraph.successors(target))\n",
      "    parents = list(digraph.predecessors(target))    \n",
      "    now = list(itertools.chain.from_iterable(digraph.predecessors_iter(c) for c in children))\n",
      "    now.extend(list(itertools.chain.from_iterable(digraph.successors_iter(p) for p in parents)))\n",
      "    now = list(set(now))\n",
      "    return parents, now, children\n",
      "    "
     ],
     "language": "python",
     "metadata": {},
     "outputs": []
    },
    {
     "cell_type": "code",
     "collapsed": false,
     "input": [
      "def plot_outlines(parent_outlines, now_outlines, child_outlines, images, margin=3):\n",
      "\n",
      "    fig = plt.figure()\n",
      "    gs = gridspec.GridSpec(1, 3)\n",
      "    ax1 = plt.subplot(gs[0, 0])\n",
      "    ax2 = plt.subplot(gs[0, 1])\n",
      "    ax3 = plt.subplot(gs[0, 2])\n",
      "    axs = [ax1, ax2, ax3]\n",
      "\n",
      "    bbox = (100000, 100000, 0, 0)\n",
      "    def compare_bbox(x, y, bbox):\n",
      "        xmin, ymin, xmax, ymax = bbox\n",
      "        if min(x) < xmin:\n",
      "            xmin = min(x)\n",
      "        if min(y) < ymin:\n",
      "            ymin = min(y)\n",
      "        if max(x) > xmax:\n",
      "            xmax = max(x)\n",
      "        if max(y) > ymax:\n",
      "            ymax = max(y)\n",
      "        return (xmin, ymin, xmax, ymax)\n",
      "\n",
      "    color_cycle = ax1._get_lines.color_cycle        \n",
      "\n",
      "    def draw_outlines_on_ax(ax, outlines, bbox):\n",
      "        for o in outlines:\n",
      "            x, y = zip(*o)\n",
      "            ax.plot(x, y, color='black', lw=0.5)\n",
      "            ax.fill(x, y, alpha=0.05, color=color_cycle.next())\n",
      "            bbox = compare_bbox(x, y, bbox)\n",
      "        return bbox\n",
      "\n",
      "\n",
      "    bbox = draw_outlines_on_ax(axs[0], parent_outlines, bbox)\n",
      "    bbox = draw_outlines_on_ax(axs[1], now_outlines, bbox)\n",
      "    bbox = draw_outlines_on_ax(axs[2], child_outlines, bbox)\n",
      "\n",
      "    xmin, ymin, xmax, ymax = bbox\n",
      "\n",
      "    for ax, im in zip(axs, images):\n",
      "        ax.set_xlim([xmin-margin, xmax+margin])\n",
      "        ax.set_ylim([ymin-margin, ymax+margin])\n",
      "        ax.set_autoscale_on(False)\n",
      "        ax.xaxis.set_ticks([])\n",
      "        ax.yaxis.set_ticks([])\n",
      "        ax.imshow(im.T, cmap=plt.cm.Greys_r)\n",
      "    return fig"
     ],
     "language": "python",
     "metadata": {},
     "outputs": []
    },
    {
     "cell_type": "code",
     "collapsed": false,
     "input": [
      "target=513\n",
      "\n",
      "frame, parent_outlines, now_outlines, child_outlines = find_outlines(target, digraph, experiment)\n",
      "img = mpimg.imread(str(nearest_image(experiment, frame=frame)))\n",
      "images = [img, img, img]\n",
      "fig = plot_outlines(parent_outlines, now_outlines, child_outlines, images, margin=3)\n",
      "plt.savefig('test.png')"
     ],
     "language": "python",
     "metadata": {},
     "outputs": []
    },
    {
     "cell_type": "code",
     "collapsed": false,
     "input": [
      "canidates = []\n",
      "for i, node in enumerate(digraph):\n",
      "    parents, now, children = find_immediate_relatives(node, digraph)\n",
      "    \n",
      "    all_good = True\n",
      "    #find_closest_outline([node], use_first=True)\n",
      "\n",
      "    try:\n",
      "        find_closest_outline([node],  use_first=True)\n",
      "    except:\n",
      "        all_good = False\n",
      "        continue\n",
      "    \n",
      "    relatives = []\n",
      "    relatives.extend(parents)\n",
      "    relatives.extend(now)\n",
      "    relatives.extend(children)\n",
      "    relatives = list(set(relatives))\n",
      "    \n",
      "    try:\n",
      "        for n in relatives:\n",
      "            experiment[n]\n",
      "        find_closest_outline(relatives,  use_first=True)\n",
      "    except:\n",
      "        all_good = False\n",
      "        continue\n",
      "    #print children, parents, all_good\n",
      "    if children and parents and all_good:\n",
      "        canidates.append(node)\n",
      "    if i > 1000:\n",
      "        break\n",
      "print len(canidates), 'canidates found'"
     ],
     "language": "python",
     "metadata": {},
     "outputs": []
    },
    {
     "cell_type": "code",
     "collapsed": false,
     "input": [
      "target=canidates[4]\n",
      "\n",
      "frame, parent_outlines, now_outlines, child_outlines = find_outlines(target, digraph, experiment)\n",
      "img = mpimg.imread(str(nearest_image(experiment, frame=frame)))\n",
      "images = [img, img, img]\n",
      "fig = plot_outlines(parent_outlines, now_outlines, child_outlines, images, margin=3)"
     ],
     "language": "python",
     "metadata": {},
     "outputs": []
    },
    {
     "cell_type": "code",
     "collapsed": false,
     "input": [
      "target=canidates[8]\n",
      "\n",
      "frame, parent_outlines, now_outlines, child_outlines = find_outlines(target, digraph, experiment)\n",
      "img = mpimg.imread(str(nearest_image(experiment, frame=frame)))\n",
      "images = [img, img, img]\n",
      "fig = plot_outlines(parent_outlines, now_outlines, child_outlines, images, margin=3)"
     ],
     "language": "python",
     "metadata": {},
     "outputs": []
    },
    {
     "cell_type": "code",
     "collapsed": false,
     "input": [
      "target=canidates[9]\n",
      "\n",
      "frame, parent_outlines, now_outlines, child_outlines = find_outlines(target, digraph, experiment)\n",
      "img = mpimg.imread(str(nearest_image(experiment, frame=frame)))\n",
      "images = [img, img, img]\n",
      "fig = plot_outlines(parent_outlines, now_outlines, child_outlines, images, margin=3)"
     ],
     "language": "python",
     "metadata": {},
     "outputs": []
    },
    {
     "cell_type": "code",
     "collapsed": false,
     "input": [
      "target=canidates[10]\n",
      "\n",
      "frame, parent_outlines, now_outlines, child_outlines = find_outlines(target, digraph, experiment)\n",
      "img = mpimg.imread(str(nearest_image(experiment, frame=frame)))\n",
      "images = [img, img, img]\n",
      "fig = plot_outlines(parent_outlines, now_outlines, child_outlines, images, margin=3)"
     ],
     "language": "python",
     "metadata": {},
     "outputs": []
    },
    {
     "cell_type": "code",
     "collapsed": false,
     "input": [
      "target=canidates[15]\n",
      "\n",
      "frame, parent_outlines, now_outlines, child_outlines = find_outlines(target, digraph, experiment)\n",
      "img = mpimg.imread(str(nearest_image(experiment, frame=frame)))\n",
      "images = [img, img, img]\n",
      "fig = plot_outlines(parent_outlines, now_outlines, child_outlines, images, margin=3)\n"
     ],
     "language": "python",
     "metadata": {},
     "outputs": []
    },
    {
     "cell_type": "code",
     "collapsed": false,
     "input": [
      "target=canidates[40]\n",
      "\n",
      "frame, parent_outlines, now_outlines, child_outlines = find_outlines(target, digraph, experiment)\n",
      "img = mpimg.imread(str(nearest_image(experiment, frame=frame)))\n",
      "images = [img, img, img]\n",
      "fig = plot_outlines(parent_outlines, now_outlines, child_outlines, images, margin=3)\n"
     ],
     "language": "python",
     "metadata": {},
     "outputs": []
    },
    {
     "cell_type": "code",
     "collapsed": false,
     "input": [
      "target=canidates[50]\n",
      "\n",
      "frame, parent_outlines, now_outlines, child_outlines = find_outlines(target, digraph, experiment)\n",
      "img = mpimg.imread(str(nearest_image(experiment, frame=frame)))\n",
      "images = [img, img, img]\n",
      "fig = plot_outlines(parent_outlines, now_outlines, child_outlines, images, margin=3)"
     ],
     "language": "python",
     "metadata": {},
     "outputs": []
    },
    {
     "cell_type": "code",
     "collapsed": false,
     "input": [
      "target=canidates[160]\n",
      "\n",
      "frame, parent_outlines, now_outlines, child_outlines = find_outlines(target, digraph, experiment)\n",
      "img = mpimg.imread(str(nearest_image(experiment, frame=frame)))\n",
      "images = [img, img, img]\n",
      "fig = plot_outlines(parent_outlines, now_outlines, child_outlines, images, margin=3)"
     ],
     "language": "python",
     "metadata": {},
     "outputs": []
    },
    {
     "cell_type": "code",
     "collapsed": false,
     "input": [
      "target=canidates[162]\n",
      "\n",
      "frame, parent_outlines, now_outlines, child_outlines = find_outlines(target, digraph, experiment)\n",
      "img = mpimg.imread(str(nearest_image(experiment, frame=frame)))\n",
      "images = [img, img, img]\n",
      "fig = plot_outlines(parent_outlines, now_outlines, child_outlines, images, margin=3)"
     ],
     "language": "python",
     "metadata": {},
     "outputs": []
    },
    {
     "cell_type": "code",
     "collapsed": false,
     "input": [
      "target=canidates[135]\n",
      "\n",
      "frame, parent_outlines, now_outlines, child_outlines = find_outlines(target, digraph, experiment)\n",
      "img = mpimg.imread(str(nearest_image(experiment, frame=frame)))\n",
      "images = [img, img, img]\n",
      "fig = plot_outlines(parent_outlines, now_outlines, child_outlines, images, margin=3)"
     ],
     "language": "python",
     "metadata": {},
     "outputs": []
    },
    {
     "cell_type": "code",
     "collapsed": false,
     "input": [
      "target=canidates[124]\n",
      "\n",
      "frame, parent_outlines, now_outlines, child_outlines = find_outlines(target, digraph, experiment)\n",
      "img = mpimg.imread(str(nearest_image(experiment, frame=frame)))\n",
      "images = [img, img, img]\n",
      "fig = plot_outlines(parent_outlines, now_outlines, child_outlines, images, margin=3)"
     ],
     "language": "python",
     "metadata": {},
     "outputs": []
    },
    {
     "cell_type": "code",
     "collapsed": false,
     "input": [
      "target=canidates[122]\n",
      "\n",
      "frame, parent_outlines, now_outlines, child_outlines = find_outlines(target, digraph, experiment)\n",
      "img = mpimg.imread(str(nearest_image(experiment, frame=frame)))\n",
      "images = [img, img, img]\n",
      "fig = plot_outlines(parent_outlines, now_outlines, child_outlines, images, margin=3)"
     ],
     "language": "python",
     "metadata": {},
     "outputs": []
    },
    {
     "cell_type": "code",
     "collapsed": false,
     "input": [
      "target=canidates[44]\n",
      "\n",
      "frame, parent_outlines, now_outlines, child_outlines = find_outlines(target, digraph, experiment)\n",
      "img = mpimg.imread(str(nearest_image(experiment, frame=frame)))\n",
      "images = [img, img, img]\n",
      "fig = plot_outlines(parent_outlines, now_outlines, child_outlines, images, margin=3)"
     ],
     "language": "python",
     "metadata": {},
     "outputs": [
      {
       "ename": "NameError",
       "evalue": "name 'canidates' is not defined",
       "output_type": "pyerr",
       "traceback": [
        "\u001b[1;31m---------------------------------------------------------------------------\u001b[0m\n\u001b[1;31mNameError\u001b[0m                                 Traceback (most recent call last)",
        "\u001b[1;32m<ipython-input-1-4b2390d092eb>\u001b[0m in \u001b[0;36m<module>\u001b[1;34m()\u001b[0m\n\u001b[1;32m----> 1\u001b[1;33m \u001b[0mtarget\u001b[0m\u001b[1;33m=\u001b[0m\u001b[0mcanidates\u001b[0m\u001b[1;33m[\u001b[0m\u001b[1;36m44\u001b[0m\u001b[1;33m]\u001b[0m\u001b[1;33m\u001b[0m\u001b[0m\n\u001b[0m\u001b[0;32m      2\u001b[0m \u001b[1;33m\u001b[0m\u001b[0m\n\u001b[0;32m      3\u001b[0m \u001b[0mframe\u001b[0m\u001b[1;33m,\u001b[0m \u001b[0mparent_outlines\u001b[0m\u001b[1;33m,\u001b[0m \u001b[0mnow_outlines\u001b[0m\u001b[1;33m,\u001b[0m \u001b[0mchild_outlines\u001b[0m \u001b[1;33m=\u001b[0m \u001b[0mfind_outlines\u001b[0m\u001b[1;33m(\u001b[0m\u001b[0mtarget\u001b[0m\u001b[1;33m,\u001b[0m \u001b[0mdigraph\u001b[0m\u001b[1;33m,\u001b[0m \u001b[0mexperiment\u001b[0m\u001b[1;33m)\u001b[0m\u001b[1;33m\u001b[0m\u001b[0m\n\u001b[0;32m      4\u001b[0m \u001b[0mimg\u001b[0m \u001b[1;33m=\u001b[0m \u001b[0mmpimg\u001b[0m\u001b[1;33m.\u001b[0m\u001b[0mimread\u001b[0m\u001b[1;33m(\u001b[0m\u001b[0mstr\u001b[0m\u001b[1;33m(\u001b[0m\u001b[0mnearest_image\u001b[0m\u001b[1;33m(\u001b[0m\u001b[0mexperiment\u001b[0m\u001b[1;33m,\u001b[0m \u001b[0mframe\u001b[0m\u001b[1;33m=\u001b[0m\u001b[0mframe\u001b[0m\u001b[1;33m)\u001b[0m\u001b[1;33m)\u001b[0m\u001b[1;33m)\u001b[0m\u001b[1;33m\u001b[0m\u001b[0m\n\u001b[0;32m      5\u001b[0m \u001b[0mimages\u001b[0m \u001b[1;33m=\u001b[0m \u001b[1;33m[\u001b[0m\u001b[0mimg\u001b[0m\u001b[1;33m,\u001b[0m \u001b[0mimg\u001b[0m\u001b[1;33m,\u001b[0m \u001b[0mimg\u001b[0m\u001b[1;33m]\u001b[0m\u001b[1;33m\u001b[0m\u001b[0m\n",
        "\u001b[1;31mNameError\u001b[0m: name 'canidates' is not defined"
       ]
      }
     ],
     "prompt_number": 1
    },
    {
     "cell_type": "code",
     "collapsed": false,
     "input": [],
     "language": "python",
     "metadata": {},
     "outputs": []
    },
    {
     "cell_type": "code",
     "collapsed": false,
     "input": [],
     "language": "python",
     "metadata": {},
     "outputs": []
    }
   ],
   "metadata": {}
  }
 ]
}